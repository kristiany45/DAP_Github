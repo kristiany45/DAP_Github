{
 "cells": [
  {
   "cell_type": "code",
   "execution_count": 102,
   "id": "0562d618",
   "metadata": {
    "ExecuteTime": {
     "end_time": "2023-09-09T11:19:08.062013Z",
     "start_time": "2023-09-09T11:18:06.849888Z"
    },
    "scrolled": true
   },
   "outputs": [
    {
     "name": "stdout",
     "output_type": "stream",
     "text": [
      "Starting recording in 3 seconds...\n",
      "Starting recording in 2 seconds...\n",
      "Starting recording in 1 seconds...\n",
      "Recording video 1...\n",
      "Video 1 recorded. Waiting for 5 seconds before the next video...\n",
      "Starting recording in 3 seconds...\n",
      "Starting recording in 2 seconds...\n",
      "Starting recording in 1 seconds...\n",
      "Recording video 2...\n",
      "Video 2 recorded. Waiting for 5 seconds before the next video...\n",
      "Starting recording in 3 seconds...\n",
      "Starting recording in 2 seconds...\n",
      "Starting recording in 1 seconds...\n",
      "Recording video 3...\n",
      "Video 3 recorded. Waiting for 5 seconds before the next video...\n",
      "Starting recording in 3 seconds...\n",
      "Starting recording in 2 seconds...\n",
      "Starting recording in 1 seconds...\n",
      "Recording video 4...\n",
      "Video 4 recorded. Waiting for 5 seconds before the next video...\n",
      "Starting recording in 3 seconds...\n",
      "Starting recording in 2 seconds...\n",
      "Starting recording in 1 seconds...\n",
      "Recording video 5...\n",
      "All videos recorded in the folder: /media/kristian/HDD/Sign_Videos_DF/DEMAND\n"
     ]
    }
   ],
   "source": [
    "import cv2\n",
    "import os\n",
    "import time\n",
    "\n",
    "num_videos = 5\n",
    "frames_per_video = 130\n",
    "gloss = 'DEMAND'\n",
    "folder = '/media/kristian/HDD/Sign_Videos_DF/' + gloss  # Include the gloss in the folder name\n",
    "\n",
    "# Create the folder if it doesn't exist\n",
    "if not os.path.exists(folder):\n",
    "    os.makedirs(folder)\n",
    "\n",
    "# Loop to record 5 videos\n",
    "for i in range(num_videos):\n",
    "    cap = cv2.VideoCapture(1)\n",
    "\n",
    "    # Define the video writer with MP4 codec\n",
    "    fourcc = cv2.VideoWriter_fourcc(*'mp4v')\n",
    "    output_file = os.path.join(folder, f'{gloss}_video_{i + 1}.mp4')\n",
    "    out = cv2.VideoWriter(output_file, fourcc, 24.0, (640, 480))\n",
    "\n",
    "    # Countdown before recording\n",
    "    for countdown in range(3, 0, -1):\n",
    "        print(f\"Starting recording in {countdown} seconds...\")\n",
    "        time.sleep(1)\n",
    "\n",
    "    print(f\"Recording video {i + 1}...\")\n",
    "\n",
    "    # Record a fixed number of frames for the video\n",
    "    for frame_count in range(frames_per_video):\n",
    "        ret, frame = cap.read()\n",
    "        if ret:\n",
    "            out.write(frame)\n",
    "\n",
    "            # Display the frame in a window\n",
    "            cv2.imshow('Recording', frame)\n",
    "            cv2.waitKey(1)\n",
    "\n",
    "    # Release video capture and writer objects\n",
    "    cap.release()\n",
    "    out.release()\n",
    "    cv2.destroyAllWindows()\n",
    "\n",
    "    if i < num_videos - 1:\n",
    "        print(\n",
    "            f\"Video {i + 1} recorded. Waiting for 5 seconds before the next video...\"\n",
    "        )\n",
    "        time.sleep(5)\n",
    "\n",
    "print(\"All videos recorded in the folder:\", folder)"
   ]
  },
  {
   "cell_type": "code",
   "execution_count": 70,
   "id": "3130805d",
   "metadata": {
    "ExecuteTime": {
     "end_time": "2023-09-08T18:44:07.931800Z",
     "start_time": "2023-09-08T18:44:07.821667Z"
    }
   },
   "outputs": [],
   "source": [
    "cap.release()\n",
    "cv2.destroyAllWindows()"
   ]
  },
  {
   "cell_type": "code",
   "execution_count": null,
   "id": "10d50e0a",
   "metadata": {},
   "outputs": [],
   "source": []
  }
 ],
 "metadata": {
  "kernelspec": {
   "display_name": "Python 3 (ipykernel)",
   "language": "python",
   "name": "python3"
  },
  "language_info": {
   "codemirror_mode": {
    "name": "ipython",
    "version": 3
   },
   "file_extension": ".py",
   "mimetype": "text/x-python",
   "name": "python",
   "nbconvert_exporter": "python",
   "pygments_lexer": "ipython3",
   "version": "3.10.12"
  },
  "toc": {
   "base_numbering": 1,
   "nav_menu": {},
   "number_sections": true,
   "sideBar": true,
   "skip_h1_title": false,
   "title_cell": "Table of Contents",
   "title_sidebar": "Contents",
   "toc_cell": false,
   "toc_position": {},
   "toc_section_display": true,
   "toc_window_display": false
  },
  "varInspector": {
   "cols": {
    "lenName": 16,
    "lenType": 16,
    "lenVar": 40
   },
   "kernels_config": {
    "python": {
     "delete_cmd_postfix": "",
     "delete_cmd_prefix": "del ",
     "library": "var_list.py",
     "varRefreshCmd": "print(var_dic_list())"
    },
    "r": {
     "delete_cmd_postfix": ") ",
     "delete_cmd_prefix": "rm(",
     "library": "var_list.r",
     "varRefreshCmd": "cat(var_dic_list()) "
    }
   },
   "types_to_exclude": [
    "module",
    "function",
    "builtin_function_or_method",
    "instance",
    "_Feature"
   ],
   "window_display": false
  }
 },
 "nbformat": 4,
 "nbformat_minor": 5
}
