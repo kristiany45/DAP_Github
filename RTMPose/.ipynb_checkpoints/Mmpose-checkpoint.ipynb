{
 "cells": [
  {
   "cell_type": "code",
   "execution_count": 1,
   "id": "ddaa0eea",
   "metadata": {
    "ExecuteTime": {
     "end_time": "2023-07-22T21:23:21.553711Z",
     "start_time": "2023-07-22T21:23:11.761692Z"
    }
   },
   "outputs": [],
   "source": [
    "from mmpose.apis import Pose2DInferencer, init_model\n",
    "import cv2\n",
    "\n",
    "from pyspark.sql.functions import row_number\n",
    "from pyspark.sql.window import Window\n",
    "import pandas as pd\n",
    "from tqdm import tqdm\n",
    "import gc\n",
    "from operator import add\n",
    "import torch\n",
    "import numpy as np"
   ]
  },
  {
   "cell_type": "code",
   "execution_count": 2,
   "id": "d3610d35",
   "metadata": {
    "ExecuteTime": {
     "end_time": "2023-07-22T21:23:21.574936Z",
     "start_time": "2023-07-22T21:23:21.558193Z"
    }
   },
   "outputs": [
    {
     "data": {
      "text/plain": [
       "'4.8.0'"
      ]
     },
     "execution_count": 2,
     "metadata": {},
     "output_type": "execute_result"
    }
   ],
   "source": [
    "cv2.__version__"
   ]
  },
  {
   "cell_type": "code",
   "execution_count": 3,
   "id": "9b11b3ed",
   "metadata": {
    "ExecuteTime": {
     "end_time": "2023-07-22T21:23:22.220331Z",
     "start_time": "2023-07-22T21:23:21.582282Z"
    }
   },
   "outputs": [],
   "source": [
    "torch.jit.enable_onednn_fusion(True)"
   ]
  },
  {
   "cell_type": "code",
   "execution_count": 4,
   "id": "420adf1e",
   "metadata": {
    "ExecuteTime": {
     "end_time": "2023-07-22T21:23:22.611873Z",
     "start_time": "2023-07-22T21:23:22.225019Z"
    }
   },
   "outputs": [],
   "source": [
    "#inferencer = Pose2DInferencer(device='cuda',\n",
    "#    model='/home/kristian/mmpose/configs/wholebody_2d_keypoint/rtmpose/coco-wholebody/rtmpose-m_8xb64-270e_coco-wholebody-256x192.py',\n",
    "#    weights='/home/kristian/mmpose/configs/wholebody_2d_keypoint/rtmpose/coco-wholebody/rtmpose-m_simcc-coco-wholebody_pt-aic-coco_270e-256x192-cd5e845c_20230123.pth'\n",
    "    \n",
    "#)"
   ]
  },
  {
   "cell_type": "code",
   "execution_count": 5,
   "id": "3c898034",
   "metadata": {
    "ExecuteTime": {
     "end_time": "2023-07-22T21:23:28.516025Z",
     "start_time": "2023-07-22T21:23:22.616327Z"
    }
   },
   "outputs": [
    {
     "name": "stdout",
     "output_type": "stream",
     "text": [
      "Loads checkpoint by http backend from path: https://download.openmmlab.com/mmpose/v1/projects/rtmposev1/rtmpose-m_simcc-coco-wholebody_pt-aic-coco_270e-256x192-cd5e845c_20230123.pth\n",
      "07/22 22:23:26 - mmengine - \u001b[5m\u001b[4m\u001b[33mWARNING\u001b[0m - Failed to search registry with scope \"mmpose\" in the \"function\" registry tree. As a workaround, the current \"function\" registry in \"mmengine\" is used to build instance. This may cause unexpected failure when running the built modules. Please check whether \"mmpose\" is a correct scope, or whether the registry is initialized.\n",
      "07/22 22:23:26 - mmengine - \u001b[5m\u001b[4m\u001b[33mWARNING\u001b[0m - `Visualizer` backend is not initialized because save_dir is None.\n",
      "Loads checkpoint by http backend from path: https://download.openmmlab.com/mmdetection/v3.0/rtmdet/rtmdet_m_8xb32-300e_coco/rtmdet_m_8xb32-300e_coco_20220719_112220-229f527c.pth\n",
      "The model and loaded state dict do not match exactly\n",
      "\n",
      "unexpected key in source state_dict: data_preprocessor.mean, data_preprocessor.std\n",
      "\n",
      "07/22 22:23:28 - mmengine - \u001b[5m\u001b[4m\u001b[33mWARNING\u001b[0m - Failed to search registry with scope \"mmdet\" in the \"function\" registry tree. As a workaround, the current \"function\" registry in \"mmengine\" is used to build instance. This may cause unexpected failure when running the built modules. Please check whether \"mmdet\" is a correct scope, or whether the registry is initialized.\n"
     ]
    }
   ],
   "source": [
    "inferencer = Pose2DInferencer('wholebody', device='cuda')"
   ]
  },
  {
   "cell_type": "code",
   "execution_count": 6,
   "id": "95162955",
   "metadata": {
    "ExecuteTime": {
     "end_time": "2023-07-22T21:23:43.732735Z",
     "start_time": "2023-07-22T21:23:28.520706Z"
    },
    "scrolled": true
   },
   "outputs": [
    {
     "data": {
      "text/html": [
       "<pre style=\"white-space:pre;overflow-x:auto;line-height:normal;font-family:Menlo,'DejaVu Sans Mono',consolas,'Courier New',monospace\">Inference <span style=\"color: #3e393b; text-decoration-color: #3e393b\">━</span><span style=\"color: #4c383f; text-decoration-color: #4c383f\">━</span><span style=\"color: #613545; text-decoration-color: #613545\">━</span><span style=\"color: #7b334d; text-decoration-color: #7b334d\">━</span><span style=\"color: #993056; text-decoration-color: #993056\">━</span><span style=\"color: #b72c5e; text-decoration-color: #b72c5e\">━</span><span style=\"color: #d12a66; text-decoration-color: #d12a66\">━</span><span style=\"color: #e6276c; text-decoration-color: #e6276c\">━</span><span style=\"color: #f42670; text-decoration-color: #f42670\">━</span><span style=\"color: #f92672; text-decoration-color: #f92672\">━</span><span style=\"color: #f42670; text-decoration-color: #f42670\">━</span><span style=\"color: #e6276c; text-decoration-color: #e6276c\">━</span><span style=\"color: #d12a66; text-decoration-color: #d12a66\">━</span><span style=\"color: #b72c5e; text-decoration-color: #b72c5e\">━</span><span style=\"color: #993056; text-decoration-color: #993056\">━</span><span style=\"color: #7b334d; text-decoration-color: #7b334d\">━</span><span style=\"color: #613545; text-decoration-color: #613545\">━</span><span style=\"color: #4c383f; text-decoration-color: #4c383f\">━</span><span style=\"color: #3e393b; text-decoration-color: #3e393b\">━</span><span style=\"color: #3a3a3a; text-decoration-color: #3a3a3a\">━</span><span style=\"color: #3e393b; text-decoration-color: #3e393b\">━</span><span style=\"color: #4c383f; text-decoration-color: #4c383f\">━</span><span style=\"color: #613545; text-decoration-color: #613545\">━</span><span style=\"color: #7b334d; text-decoration-color: #7b334d\">━</span><span style=\"color: #993056; text-decoration-color: #993056\">━</span><span style=\"color: #b72c5e; text-decoration-color: #b72c5e\">━</span><span style=\"color: #d12a66; text-decoration-color: #d12a66\">━</span><span style=\"color: #e6276c; text-decoration-color: #e6276c\">━</span><span style=\"color: #f42670; text-decoration-color: #f42670\">━</span><span style=\"color: #f92672; text-decoration-color: #f92672\">━</span><span style=\"color: #f42670; text-decoration-color: #f42670\">━</span><span style=\"color: #e6276c; text-decoration-color: #e6276c\">━</span><span style=\"color: #d12a66; text-decoration-color: #d12a66\">━</span><span style=\"color: #b72c5e; text-decoration-color: #b72c5e\">━</span><span style=\"color: #993056; text-decoration-color: #993056\">━</span><span style=\"color: #7b334d; text-decoration-color: #7b334d\">━</span><span style=\"color: #613545; text-decoration-color: #613545\">━</span><span style=\"color: #4c383f; text-decoration-color: #4c383f\">━</span><span style=\"color: #3e393b; text-decoration-color: #3e393b\">━</span><span style=\"color: #3a3a3a; text-decoration-color: #3a3a3a\">━</span>  <span style=\"color: #008080; text-decoration-color: #008080\"> </span>\n",
       "</pre>\n"
      ],
      "text/plain": [
       "Inference \u001b[38;2;62;57;59m━\u001b[0m\u001b[38;2;76;56;63m━\u001b[0m\u001b[38;2;97;53;69m━\u001b[0m\u001b[38;2;123;51;77m━\u001b[0m\u001b[38;2;153;48;86m━\u001b[0m\u001b[38;2;183;44;94m━\u001b[0m\u001b[38;2;209;42;102m━\u001b[0m\u001b[38;2;230;39;108m━\u001b[0m\u001b[38;2;244;38;112m━\u001b[0m\u001b[38;2;249;38;114m━\u001b[0m\u001b[38;2;244;38;112m━\u001b[0m\u001b[38;2;230;39;108m━\u001b[0m\u001b[38;2;209;42;102m━\u001b[0m\u001b[38;2;183;44;94m━\u001b[0m\u001b[38;2;153;48;86m━\u001b[0m\u001b[38;2;123;51;77m━\u001b[0m\u001b[38;2;97;53;69m━\u001b[0m\u001b[38;2;76;56;63m━\u001b[0m\u001b[38;2;62;57;59m━\u001b[0m\u001b[38;2;58;58;58m━\u001b[0m\u001b[38;2;62;57;59m━\u001b[0m\u001b[38;2;76;56;63m━\u001b[0m\u001b[38;2;97;53;69m━\u001b[0m\u001b[38;2;123;51;77m━\u001b[0m\u001b[38;2;153;48;86m━\u001b[0m\u001b[38;2;183;44;94m━\u001b[0m\u001b[38;2;209;42;102m━\u001b[0m\u001b[38;2;230;39;108m━\u001b[0m\u001b[38;2;244;38;112m━\u001b[0m\u001b[38;2;249;38;114m━\u001b[0m\u001b[38;2;244;38;112m━\u001b[0m\u001b[38;2;230;39;108m━\u001b[0m\u001b[38;2;209;42;102m━\u001b[0m\u001b[38;2;183;44;94m━\u001b[0m\u001b[38;2;153;48;86m━\u001b[0m\u001b[38;2;123;51;77m━\u001b[0m\u001b[38;2;97;53;69m━\u001b[0m\u001b[38;2;76;56;63m━\u001b[0m\u001b[38;2;62;57;59m━\u001b[0m\u001b[38;2;58;58;58m━\u001b[0m  \u001b[36m \u001b[0m\n"
      ]
     },
     "metadata": {},
     "output_type": "display_data"
    },
    {
     "data": {
      "text/html": [
       "<pre style=\"white-space:pre;overflow-x:auto;line-height:normal;font-family:Menlo,'DejaVu Sans Mono',consolas,'Courier New',monospace\"></pre>\n"
      ],
      "text/plain": []
     },
     "metadata": {},
     "output_type": "display_data"
    },
    {
     "data": {
      "text/html": [
       "<pre style=\"white-space:pre;overflow-x:auto;line-height:normal;font-family:Menlo,'DejaVu Sans Mono',consolas,'Courier New',monospace\">\n",
       "</pre>\n"
      ],
      "text/plain": [
       "\n"
      ]
     },
     "metadata": {},
     "output_type": "display_data"
    },
    {
     "data": {
      "application/vnd.jupyter.widget-view+json": {
       "model_id": "b74bbeacd1654efe8b84db2421c84281",
       "version_major": 2,
       "version_minor": 0
      },
      "text/plain": [
       "Output()"
      ]
     },
     "metadata": {},
     "output_type": "display_data"
    },
    {
     "data": {
      "text/html": [
       "<pre style=\"white-space:pre;overflow-x:auto;line-height:normal;font-family:Menlo,'DejaVu Sans Mono',consolas,'Courier New',monospace\"></pre>\n"
      ],
      "text/plain": []
     },
     "metadata": {},
     "output_type": "display_data"
    },
    {
     "data": {
      "text/html": [
       "<pre style=\"white-space:pre;overflow-x:auto;line-height:normal;font-family:Menlo,'DejaVu Sans Mono',consolas,'Courier New',monospace\">\n",
       "</pre>\n"
      ],
      "text/plain": [
       "\n"
      ]
     },
     "metadata": {},
     "output_type": "display_data"
    },
    {
     "data": {
      "application/vnd.jupyter.widget-view+json": {
       "model_id": "e9be30b5801342498cc3989e9693a284",
       "version_major": 2,
       "version_minor": 0
      },
      "text/plain": [
       "Output()"
      ]
     },
     "metadata": {},
     "output_type": "display_data"
    },
    {
     "data": {
      "text/html": [
       "<pre style=\"white-space:pre;overflow-x:auto;line-height:normal;font-family:Menlo,'DejaVu Sans Mono',consolas,'Courier New',monospace\"></pre>\n"
      ],
      "text/plain": []
     },
     "metadata": {},
     "output_type": "display_data"
    },
    {
     "data": {
      "text/html": [
       "<pre style=\"white-space:pre;overflow-x:auto;line-height:normal;font-family:Menlo,'DejaVu Sans Mono',consolas,'Courier New',monospace\">\n",
       "</pre>\n"
      ],
      "text/plain": [
       "\n"
      ]
     },
     "metadata": {},
     "output_type": "display_data"
    },
    {
     "data": {
      "application/vnd.jupyter.widget-view+json": {
       "model_id": "8441803d6b6a489187b0a7b34cea7742",
       "version_major": 2,
       "version_minor": 0
      },
      "text/plain": [
       "Output()"
      ]
     },
     "metadata": {},
     "output_type": "display_data"
    },
    {
     "data": {
      "text/html": [
       "<pre style=\"white-space:pre;overflow-x:auto;line-height:normal;font-family:Menlo,'DejaVu Sans Mono',consolas,'Courier New',monospace\"></pre>\n"
      ],
      "text/plain": []
     },
     "metadata": {},
     "output_type": "display_data"
    },
    {
     "data": {
      "text/html": [
       "<pre style=\"white-space:pre;overflow-x:auto;line-height:normal;font-family:Menlo,'DejaVu Sans Mono',consolas,'Courier New',monospace\">\n",
       "</pre>\n"
      ],
      "text/plain": [
       "\n"
      ]
     },
     "metadata": {},
     "output_type": "display_data"
    },
    {
     "data": {
      "application/vnd.jupyter.widget-view+json": {
       "model_id": "d440776be51943179ab22d61ecb46a94",
       "version_major": 2,
       "version_minor": 0
      },
      "text/plain": [
       "Output()"
      ]
     },
     "metadata": {},
     "output_type": "display_data"
    },
    {
     "data": {
      "text/html": [
       "<pre style=\"white-space:pre;overflow-x:auto;line-height:normal;font-family:Menlo,'DejaVu Sans Mono',consolas,'Courier New',monospace\"></pre>\n"
      ],
      "text/plain": []
     },
     "metadata": {},
     "output_type": "display_data"
    },
    {
     "data": {
      "text/html": [
       "<pre style=\"white-space:pre;overflow-x:auto;line-height:normal;font-family:Menlo,'DejaVu Sans Mono',consolas,'Courier New',monospace\">\n",
       "</pre>\n"
      ],
      "text/plain": [
       "\n"
      ]
     },
     "metadata": {},
     "output_type": "display_data"
    },
    {
     "data": {
      "application/vnd.jupyter.widget-view+json": {
       "model_id": "6ddd376b00a24631bef30c25ded254d9",
       "version_major": 2,
       "version_minor": 0
      },
      "text/plain": [
       "Output()"
      ]
     },
     "metadata": {},
     "output_type": "display_data"
    },
    {
     "data": {
      "text/html": [
       "<pre style=\"white-space:pre;overflow-x:auto;line-height:normal;font-family:Menlo,'DejaVu Sans Mono',consolas,'Courier New',monospace\"></pre>\n"
      ],
      "text/plain": []
     },
     "metadata": {},
     "output_type": "display_data"
    },
    {
     "data": {
      "text/html": [
       "<pre style=\"white-space:pre;overflow-x:auto;line-height:normal;font-family:Menlo,'DejaVu Sans Mono',consolas,'Courier New',monospace\">\n",
       "</pre>\n"
      ],
      "text/plain": [
       "\n"
      ]
     },
     "metadata": {},
     "output_type": "display_data"
    },
    {
     "data": {
      "application/vnd.jupyter.widget-view+json": {
       "model_id": "dd469b2520c34579bf43e024133b980f",
       "version_major": 2,
       "version_minor": 0
      },
      "text/plain": [
       "Output()"
      ]
     },
     "metadata": {},
     "output_type": "display_data"
    }
   ],
   "source": [
    "result_generator = inferencer('webcam', show=True, return_vis = True,return_datasample=False,wait_time=5)\n",
    "#cv2.destroyAllWindows()\n",
    "#cv2.waitKey(0)\n",
    "#cv2.destroyAllWindows()\n",
    "#cv2.waitKey(1)\n",
    "#result = next(result_generator)\n",
    "results = [result for result in result_generator]\n",
    "cv2.destroyAllWindows()"
   ]
  },
  {
   "cell_type": "code",
   "execution_count": 7,
   "id": "c2a1e400",
   "metadata": {
    "ExecuteTime": {
     "end_time": "2023-07-22T21:23:50.690898Z",
     "start_time": "2023-07-22T21:23:43.740412Z"
    }
   },
   "outputs": [],
   "source": [
    "result_generator = inferencer('demo.jpg', show=True, return_vis = True,return_datasample=False,wait_time=5)\n",
    "#cv2.destroyAllWindows()\n",
    "#cv2.waitKey(0)\n",
    "#cv2.destroyAllWindows()\n",
    "#cv2.waitKey(1)\n",
    "#result = next(result_generator)\n",
    "#results = [result for result in result_generator]\n",
    "#cv2.destroyAllWindows()\n",
    "#result_generator = inferencer('demo2.jpg', show=True, return_vis = True,return_datasample=False,wait_time=5)\n",
    "result = next(result_generator)\n",
    "cv2.destroyAllWindows()"
   ]
  },
  {
   "cell_type": "code",
   "execution_count": 8,
   "id": "0d9406ec",
   "metadata": {
    "ExecuteTime": {
     "end_time": "2023-07-22T21:23:50.711885Z",
     "start_time": "2023-07-22T21:23:50.696838Z"
    },
    "scrolled": true
   },
   "outputs": [],
   "source": [
    "result['visualization'][0]"
   ]
  },
  {
   "cell_type": "code",
   "execution_count": 9,
   "id": "5cb73cb4",
   "metadata": {
    "ExecuteTime": {
     "end_time": "2023-07-22T21:24:00.997233Z",
     "start_time": "2023-07-22T21:23:59.735533Z"
    }
   },
   "outputs": [],
   "source": [
    "import matplotlib.pyplot as plt\n",
    "import numpy as np\n",
    "\n",
    "# Assuming the given data is stored in the variable 'data'\n",
    "image_array = result['visualization'][0]\n",
    "\n",
    "# Display the image using Matplotlib\n",
    "plt.imshow(image_array, cmap='gray')\n",
    "plt.axis('off')  # Hide the axis ticks and labels\n",
    "plt.show()"
   ]
  },
  {
   "cell_type": "code",
   "execution_count": 10,
   "id": "6b874bb2",
   "metadata": {
    "ExecuteTime": {
     "end_time": "2023-07-22T21:24:38.839485Z",
     "start_time": "2023-07-22T21:24:32.541264Z"
    }
   },
   "outputs": [],
   "source": [
    "import cv2\n",
    "import numpy as np\n",
    "\n",
    "# Assuming the given data is stored in the variable 'data'\n",
    "image_array = result['visualization'][0]\n",
    "bgr_image = cv2.cvtColor(image_array, cv2.COLOR_RGB2BGR)\n",
    "\n",
    "# Display the image using OpenCV\n",
    "cv2.imshow('Color Image', bgr_image)\n",
    "cv2.waitKey(0)\n",
    "cv2.destroyAllWindows()\n"
   ]
  },
  {
   "cell_type": "code",
   "execution_count": null,
   "id": "419ed260",
   "metadata": {
    "ExecuteTime": {
     "start_time": "2023-07-22T21:25:49.122Z"
    },
    "scrolled": true
   },
   "outputs": [
    {
     "data": {
      "application/vnd.jupyter.widget-view+json": {
       "model_id": "19f5b34466024da4b4317ca024c3af36",
       "version_major": 2,
       "version_minor": 0
      },
      "text/plain": [
       "Output()"
      ]
     },
     "metadata": {},
     "output_type": "display_data"
    },
    {
     "data": {
      "text/html": [
       "<pre style=\"white-space:pre;overflow-x:auto;line-height:normal;font-family:Menlo,'DejaVu Sans Mono',consolas,'Courier New',monospace\"></pre>\n"
      ],
      "text/plain": []
     },
     "metadata": {},
     "output_type": "display_data"
    },
    {
     "data": {
      "text/html": [
       "<pre style=\"white-space:pre;overflow-x:auto;line-height:normal;font-family:Menlo,'DejaVu Sans Mono',consolas,'Courier New',monospace\">\n",
       "</pre>\n"
      ],
      "text/plain": [
       "\n"
      ]
     },
     "metadata": {},
     "output_type": "display_data"
    },
    {
     "data": {
      "application/vnd.jupyter.widget-view+json": {
       "model_id": "31b3784accce48d3b3704ad75ab4aef3",
       "version_major": 2,
       "version_minor": 0
      },
      "text/plain": [
       "Output()"
      ]
     },
     "metadata": {},
     "output_type": "display_data"
    },
    {
     "data": {
      "text/html": [
       "<pre style=\"white-space:pre;overflow-x:auto;line-height:normal;font-family:Menlo,'DejaVu Sans Mono',consolas,'Courier New',monospace\"></pre>\n"
      ],
      "text/plain": []
     },
     "metadata": {},
     "output_type": "display_data"
    },
    {
     "data": {
      "text/html": [
       "<pre style=\"white-space:pre;overflow-x:auto;line-height:normal;font-family:Menlo,'DejaVu Sans Mono',consolas,'Courier New',monospace\">\n",
       "</pre>\n"
      ],
      "text/plain": [
       "\n"
      ]
     },
     "metadata": {},
     "output_type": "display_data"
    },
    {
     "data": {
      "application/vnd.jupyter.widget-view+json": {
       "model_id": "e11251220a04418a971771a65b3895da",
       "version_major": 2,
       "version_minor": 0
      },
      "text/plain": [
       "Output()"
      ]
     },
     "metadata": {},
     "output_type": "display_data"
    },
    {
     "data": {
      "text/html": [
       "<pre style=\"white-space:pre;overflow-x:auto;line-height:normal;font-family:Menlo,'DejaVu Sans Mono',consolas,'Courier New',monospace\"></pre>\n"
      ],
      "text/plain": []
     },
     "metadata": {},
     "output_type": "display_data"
    },
    {
     "data": {
      "text/html": [
       "<pre style=\"white-space:pre;overflow-x:auto;line-height:normal;font-family:Menlo,'DejaVu Sans Mono',consolas,'Courier New',monospace\">\n",
       "</pre>\n"
      ],
      "text/plain": [
       "\n"
      ]
     },
     "metadata": {},
     "output_type": "display_data"
    },
    {
     "data": {
      "application/vnd.jupyter.widget-view+json": {
       "model_id": "31c43d42fe3344e388c9476f63dc2646",
       "version_major": 2,
       "version_minor": 0
      },
      "text/plain": [
       "Output()"
      ]
     },
     "metadata": {},
     "output_type": "display_data"
    },
    {
     "data": {
      "text/html": [
       "<pre style=\"white-space:pre;overflow-x:auto;line-height:normal;font-family:Menlo,'DejaVu Sans Mono',consolas,'Courier New',monospace\"></pre>\n"
      ],
      "text/plain": []
     },
     "metadata": {},
     "output_type": "display_data"
    },
    {
     "data": {
      "text/html": [
       "<pre style=\"white-space:pre;overflow-x:auto;line-height:normal;font-family:Menlo,'DejaVu Sans Mono',consolas,'Courier New',monospace\">\n",
       "</pre>\n"
      ],
      "text/plain": [
       "\n"
      ]
     },
     "metadata": {},
     "output_type": "display_data"
    },
    {
     "data": {
      "application/vnd.jupyter.widget-view+json": {
       "model_id": "a0216e01202f4b37a11ea922f8a0ac91",
       "version_major": 2,
       "version_minor": 0
      },
      "text/plain": [
       "Output()"
      ]
     },
     "metadata": {},
     "output_type": "display_data"
    },
    {
     "data": {
      "text/html": [
       "<pre style=\"white-space:pre;overflow-x:auto;line-height:normal;font-family:Menlo,'DejaVu Sans Mono',consolas,'Courier New',monospace\"></pre>\n"
      ],
      "text/plain": []
     },
     "metadata": {},
     "output_type": "display_data"
    },
    {
     "data": {
      "text/html": [
       "<pre style=\"white-space:pre;overflow-x:auto;line-height:normal;font-family:Menlo,'DejaVu Sans Mono',consolas,'Courier New',monospace\">\n",
       "</pre>\n"
      ],
      "text/plain": [
       "\n"
      ]
     },
     "metadata": {},
     "output_type": "display_data"
    },
    {
     "data": {
      "application/vnd.jupyter.widget-view+json": {
       "model_id": "cb2977793c734da48a13f1752f16d52d",
       "version_major": 2,
       "version_minor": 0
      },
      "text/plain": [
       "Output()"
      ]
     },
     "metadata": {},
     "output_type": "display_data"
    },
    {
     "data": {
      "text/html": [
       "<pre style=\"white-space:pre;overflow-x:auto;line-height:normal;font-family:Menlo,'DejaVu Sans Mono',consolas,'Courier New',monospace\"></pre>\n"
      ],
      "text/plain": []
     },
     "metadata": {},
     "output_type": "display_data"
    },
    {
     "data": {
      "text/html": [
       "<pre style=\"white-space:pre;overflow-x:auto;line-height:normal;font-family:Menlo,'DejaVu Sans Mono',consolas,'Courier New',monospace\">\n",
       "</pre>\n"
      ],
      "text/plain": [
       "\n"
      ]
     },
     "metadata": {},
     "output_type": "display_data"
    },
    {
     "data": {
      "application/vnd.jupyter.widget-view+json": {
       "model_id": "7f3b02287f064c3b9519bbea902262b9",
       "version_major": 2,
       "version_minor": 0
      },
      "text/plain": [
       "Output()"
      ]
     },
     "metadata": {},
     "output_type": "display_data"
    },
    {
     "data": {
      "text/html": [
       "<pre style=\"white-space:pre;overflow-x:auto;line-height:normal;font-family:Menlo,'DejaVu Sans Mono',consolas,'Courier New',monospace\"></pre>\n"
      ],
      "text/plain": []
     },
     "metadata": {},
     "output_type": "display_data"
    },
    {
     "data": {
      "text/html": [
       "<pre style=\"white-space:pre;overflow-x:auto;line-height:normal;font-family:Menlo,'DejaVu Sans Mono',consolas,'Courier New',monospace\">\n",
       "</pre>\n"
      ],
      "text/plain": [
       "\n"
      ]
     },
     "metadata": {},
     "output_type": "display_data"
    },
    {
     "data": {
      "application/vnd.jupyter.widget-view+json": {
       "model_id": "d5753e55ef2e47fa940500fc30b874d9",
       "version_major": 2,
       "version_minor": 0
      },
      "text/plain": [
       "Output()"
      ]
     },
     "metadata": {},
     "output_type": "display_data"
    },
    {
     "data": {
      "text/html": [
       "<pre style=\"white-space:pre;overflow-x:auto;line-height:normal;font-family:Menlo,'DejaVu Sans Mono',consolas,'Courier New',monospace\"></pre>\n"
      ],
      "text/plain": []
     },
     "metadata": {},
     "output_type": "display_data"
    },
    {
     "data": {
      "text/html": [
       "<pre style=\"white-space:pre;overflow-x:auto;line-height:normal;font-family:Menlo,'DejaVu Sans Mono',consolas,'Courier New',monospace\">\n",
       "</pre>\n"
      ],
      "text/plain": [
       "\n"
      ]
     },
     "metadata": {},
     "output_type": "display_data"
    }
   ],
   "source": [
    "# Open the video file\n",
    "#video_path = 0\n",
    "cap = cv2.VideoCapture(\"file:///media/kristian/DA44B79144B76EBF/Documents/CCT_College_Ireland/DAP/ASL_Dataset_Videos_Organized/videos/singer/51796.mp4\")\n",
    "#cap = cv2.VideoCapture(0)\n",
    "\n",
    "# Loop through the video frames\n",
    "while cap.isOpened():\n",
    "    # Read a frame from the video\n",
    "    success, frame = cap.read()\n",
    "\n",
    "    if success:\n",
    "        result_generator = inferencer(frame, show=True, return_vis = True,return_datasample=False)\n",
    "        result = next(result_generator)\n",
    "        image_array = cv2.cvtColor(result['visualization'][0], cv2.COLOR_RGB2BGR)\n",
    "        # Display the annotated frame\n",
    "        cv2.imshow(\"MMPose Inference\", image_array)\n",
    "\n",
    "        # Break the loop if 'q' is pressed\n",
    "        if cv2.waitKey(1) & 0xFF == ord(\"q\"):\n",
    "            break\n",
    "    else:\n",
    "        # Break the loop if the end of the video is reached\n",
    "        break\n",
    "\n",
    "# Release the video capture object and close the display window\n",
    "cap.release()\n",
    "cv2.destroyAllWindows()"
   ]
  },
  {
   "cell_type": "code",
   "execution_count": 13,
   "id": "141187ca",
   "metadata": {
    "ExecuteTime": {
     "end_time": "2023-07-22T21:25:05.951121Z",
     "start_time": "2023-07-22T21:25:05.924394Z"
    },
    "scrolled": true
   },
   "outputs": [
    {
     "data": {
      "text/plain": [
       "[[219.17429765065515, 229.79407405853271],\n",
       " [233.01802968978882, 221.27485466003418],\n",
       " [207.4603705406189, 213.82053768634796],\n",
       " [242.60215187072754, 236.18348860740662],\n",
       " [176.5781990687052, 220.20995223522186],\n",
       " [255.3809814453125, 333.08960926532745],\n",
       " [122.26817337671918, 288.36370742321014],\n",
       " [256.4458839098612, 441.7096565961838],\n",
       " [44.530293464660645, 210.625830411911],\n",
       " [262.8352986971537, 509.86341178417206],\n",
       " [57.309123039245605, 98.81107580661774],\n",
       " [211.71998039881385, 509.86341178417206],\n",
       " [110.55424626668292, 473.6567293405533],\n",
       " [356.5467155774435, 509.86341178417206],\n",
       " [87.12639204661053, 509.86341178417206],\n",
       " [233.01802968978882, 509.86341178417206],\n",
       " [74.34756247202557, 235.1185861825943],\n",
       " [231.9531272252401, 316.0511704683304],\n",
       " [247.9266641934713, 330.9598044157028],\n",
       " [72.21775754292804, 207.43112313747406],\n",
       " [78.60717233022052, 338.41412138938904],\n",
       " [84.996587117513, 310.7266583442688],\n",
       " [80.73697725931805, 509.86341178417206],\n",
       " [181.90271139144897, 210.625830411911],\n",
       " [180.83780892690027, 219.14504981040955],\n",
       " [180.83780892690027, 227.66426920890808],\n",
       " [180.83780892690027, 235.1185861825943],\n",
       " [181.90271139144897, 243.63780558109283],\n",
       " [185.09741878509521, 251.09212255477905],\n",
       " [190.421931107839, 257.48153710365295],\n",
       " [196.81134589513147, 262.80604922771454],\n",
       " [204.26566314697266, 267.0656589269638],\n",
       " [211.71998039881385, 268.1305613517761],\n",
       " [219.17429765065515, 267.0656589269638],\n",
       " [226.62861490249634, 262.80604922771454],\n",
       " [231.9531272252401, 256.41663467884064],\n",
       " [235.14783461888635, 248.96231770515442],\n",
       " [239.4074444770813, 241.5080007314682],\n",
       " [241.53724940617883, 234.05368375778198],\n",
       " [243.66705433527625, 225.53446435928345],\n",
       " [197.87624835968018, 207.43112313747406],\n",
       " [203.20076068242395, 206.36622071266174],\n",
       " [208.5252730051676, 206.36622071266174],\n",
       " [212.78488286336267, 208.49602556228638],\n",
       " [217.04449272155762, 210.625830411911],\n",
       " [228.75841983159387, 213.82053768634796],\n",
       " [231.9531272252401, 213.82053768634796],\n",
       " [236.21273708343506, 214.88544011116028],\n",
       " [240.47234694163, 215.9503425359726],\n",
       " [242.60215187072754, 219.14504981040955],\n",
       " [222.3690050443014, 218.08014738559723],\n",
       " [221.30410257975257, 223.4046595096588],\n",
       " [221.30410257975257, 227.66426920890808],\n",
       " [220.23920011520386, 231.92387890815735],\n",
       " [210.65507793426514, 235.1185861825943],\n",
       " [213.84978532791138, 236.18348860740662],\n",
       " [218.10939518610633, 237.24839103221893],\n",
       " [220.23920011520386, 238.31329345703125],\n",
       " [223.4339075088501, 238.31329345703125],\n",
       " [201.07095575332642, 212.75563526153564],\n",
       " [205.33056561152137, 212.75563526153564],\n",
       " [209.59017546971643, 213.82053768634796],\n",
       " [212.78488286336267, 215.9503425359726],\n",
       " [208.5252730051676, 215.9503425359726],\n",
       " [204.26566314697266, 214.88544011116028],\n",
       " [227.69351736704505, 220.20995223522186],\n",
       " [230.8882247606913, 219.14504981040955],\n",
       " [235.14783461888635, 220.20995223522186],\n",
       " [238.3425420125326, 223.4046595096588],\n",
       " [234.08293215433753, 223.4046595096588],\n",
       " [230.8882247606913, 222.3397570848465],\n",
       " [200.0060532887777, 241.5080007314682],\n",
       " [207.4603705406189, 241.5080007314682],\n",
       " [213.84978532791138, 242.57290315628052],\n",
       " [215.9795902570089, 242.57290315628052],\n",
       " [218.10939518610633, 243.63780558109283],\n",
       " [222.3690050443014, 245.76761043071747],\n",
       " [225.56371243794763, 248.96231770515442],\n",
       " [221.30410257975257, 250.02722012996674],\n",
       " [218.10939518610633, 251.09212255477905],\n",
       " [213.84978532791138, 251.09212255477905],\n",
       " [208.5252730051676, 248.96231770515442],\n",
       " [204.26566314697266, 245.76761043071747],\n",
       " [201.07095575332642, 242.57290315628052],\n",
       " [208.5252730051676, 243.63780558109283],\n",
       " [214.9146877924601, 244.70270800590515],\n",
       " [220.23920011520386, 246.83251285552979],\n",
       " [224.4988099733988, 248.96231770515442],\n",
       " [219.17429765065515, 248.96231770515442],\n",
       " [214.9146877924601, 247.8974152803421],\n",
       " [207.4603705406189, 245.76761043071747],\n",
       " [256.4458839098612, 509.86341178417206],\n",
       " [105.22973394393921, 509.86341178417206],\n",
       " [253.25117651621497, 509.86341178417206],\n",
       " [253.25117651621497, 83.9024418592453],\n",
       " [254.3160789807638, 93.48656368255615],\n",
       " [261.770396232605, 509.86341178417206],\n",
       " [263.9002011617025, 65.79910063743591],\n",
       " [277.7439332008362, 40.24144244194031],\n",
       " [278.8088356653849, 1.9049551486968994],\n",
       " [356.5467155774435, 509.86341178417206],\n",
       " [88.19129451115924, 59.40968608856201],\n",
       " [84.996587117513, 18.94339394569397],\n",
       " [356.5467155774435, -2.354654550552368],\n",
       " [87.12639204661053, 59.40968608856201],\n",
       " [70.08795261383057, 60.47458851337433],\n",
       " [73.2826600074768, 509.86341178417206],\n",
       " [356.5467155774435, -0.22484970092773438],\n",
       " [-51.31092834472656, 61.539490938186646],\n",
       " [61.56873289744061, 77.5130273103714],\n",
       " [356.5467155774435, 337.3492189645767],\n",
       " [356.5467155774435, 509.86341178417206],\n",
       " [61.56873289744061, 95.61636853218079],\n",
       " [78.60717233022052, 86.03224670886993],\n",
       " [96.71051422754925, 75.38322246074677],\n",
       " [104.16483147939044, 66.86400306224823],\n",
       " [111.61914873123169, 57.27988123893738],\n",
       " [92.45090436935425, 50.89046669006348],\n",
       " [96.71051422754925, 42.37124729156494],\n",
       " [100.9701240857442, 33.852027893066406],\n",
       " [105.22973394393921, 25.33280849456787],\n",
       " [82.86678218841553, 47.695759415626526],\n",
       " [86.06148958206177, 34.91693031787872],\n",
       " [89.25619697570801, 27.462613344192505],\n",
       " [93.51580683390301, 15.748686671257019],\n",
       " [71.15285507837933, 46.63085699081421],\n",
       " [73.2826600074768, 34.91693031787872],\n",
       " [77.54226986567181, 28.527515769004822],\n",
       " [80.73697725931805, 16.813589096069336],\n",
       " [59.43892796834308, 49.82556426525116],\n",
       " [60.503830432891846, 41.306344866752625],\n",
       " [62.63363536198932, 34.91693031787872],\n",
       " [64.76344029108685, 28.527515769004822]]"
      ]
     },
     "execution_count": 13,
     "metadata": {},
     "output_type": "execute_result"
    }
   ],
   "source": [
    "result['predictions'][0][0]['keypoints']"
   ]
  },
  {
   "cell_type": "code",
   "execution_count": null,
   "id": "f6e45132",
   "metadata": {
    "ExecuteTime": {
     "end_time": "2023-07-22T20:56:30.895214Z",
     "start_time": "2023-07-22T20:56:30.895188Z"
    }
   },
   "outputs": [],
   "source": [
    "np.array(result['predictions'][0][0]['keypoints']).shape"
   ]
  },
  {
   "cell_type": "code",
   "execution_count": null,
   "id": "d8ba8cc6",
   "metadata": {
    "ExecuteTime": {
     "end_time": "2023-07-22T20:56:30.898244Z",
     "start_time": "2023-07-22T20:56:30.898204Z"
    }
   },
   "outputs": [],
   "source": [
    "def extract_keypoints_from_file(filepath):\n",
    "    # Open the video file\n",
    "    cap = cv2.VideoCapture(filepath)\n",
    "\n",
    "    # Initialize an empty list to store the keypoints for each frame\n",
    "    keypoints = []\n",
    "\n",
    "    # Loop through the frames of the video\n",
    "    while cap.isOpened():\n",
    "        # Read a frame from the video\n",
    "        ret, frame = cap.read()\n",
    "        if not ret:\n",
    "            break\n",
    "\n",
    "        result_generator = inferencer(frame, show=False, return_vis = False,return_datasample=False)\n",
    "        result = next(result_generator)\n",
    "        # Extract the keypoints from the YOLO results object\n",
    "        if np.array(result['predictions'][0][0]['keypoints']).shape == (133, 2):\n",
    "            keypoint = np.array(result['predictions'][0][0]['keypoints']).flatten()\n",
    "        else:\n",
    "            keypoint = np.zeros(266)\n",
    "\n",
    "        # Append the keypoints to the list\n",
    "        keypoints.append(keypoint)\n",
    "        gc.collect()\n",
    "        torch.cuda.empty_cache()\n",
    "    # Release the video capture object and the YOLO model\n",
    "    cap.release()\n",
    "\n",
    "    # Convert the keypoints list to a NumPy array\n",
    "    return np.array(keypoints)\n"
   ]
  },
  {
   "cell_type": "code",
   "execution_count": null,
   "id": "3d72be53",
   "metadata": {
    "ExecuteTime": {
     "end_time": "2023-07-22T20:56:30.901765Z",
     "start_time": "2023-07-22T20:56:30.901726Z"
    },
    "scrolled": true
   },
   "outputs": [],
   "source": [
    "result_generator = inferencer('/media/kristian/DA44B79144B76EBF/Documents/CCT_College_Ireland/DAP/ASL_Dataset_Videos_Organized/videos/a lot/02126.mp4',\n",
    "                              show=True, return_vis = True,return_datasample=False,\n",
    "                              )\n",
    "results = [result for result in result_generator]\n",
    "cv2.destroyAllWindows()"
   ]
  },
  {
   "cell_type": "code",
   "execution_count": null,
   "id": "8ae4f683",
   "metadata": {
    "ExecuteTime": {
     "end_time": "2023-07-22T20:56:30.905225Z",
     "start_time": "2023-07-22T20:56:30.905185Z"
    }
   },
   "outputs": [],
   "source": [
    "result_generator = inferencer('keytest.mp4',\n",
    "                              show=True, return_vis = True,return_datasample=False,\n",
    "                              )\n",
    "results = [result for result in result_generator]\n",
    "cv2.destroyAllWindows()"
   ]
  },
  {
   "cell_type": "code",
   "execution_count": null,
   "id": "b5121dce",
   "metadata": {
    "ExecuteTime": {
     "end_time": "2023-07-22T20:56:30.908492Z",
     "start_time": "2023-07-22T20:56:30.908450Z"
    },
    "scrolled": true
   },
   "outputs": [],
   "source": [
    "test = extract_keypoints_from_file('file:///media/kristian/DA44B79144B76EBF/Documents/CCT_College_Ireland/DAP/ASL_Dataset_Videos_Organized/videos/a lot/02126.mp4')"
   ]
  },
  {
   "cell_type": "code",
   "execution_count": null,
   "id": "0d7622c4",
   "metadata": {
    "ExecuteTime": {
     "end_time": "2023-07-22T20:56:30.911261Z",
     "start_time": "2023-07-22T20:56:30.911219Z"
    }
   },
   "outputs": [],
   "source": [
    "test"
   ]
  },
  {
   "cell_type": "code",
   "execution_count": null,
   "id": "beec91e4",
   "metadata": {
    "ExecuteTime": {
     "end_time": "2023-07-22T20:56:30.915744Z",
     "start_time": "2023-07-22T20:56:30.915701Z"
    }
   },
   "outputs": [],
   "source": [
    "test.shape"
   ]
  },
  {
   "cell_type": "code",
   "execution_count": null,
   "id": "7daab462",
   "metadata": {
    "ExecuteTime": {
     "end_time": "2023-07-22T20:56:30.918758Z",
     "start_time": "2023-07-22T20:56:30.918721Z"
    }
   },
   "outputs": [],
   "source": [
    "video_df = spark.read.format(\"binaryFile\").option(\n",
    "    \"pathGlobFilter\", \"*.mp4\").load('file:///media/kristian/DA44B79144B76EBF/Documents/CCT_College_Ireland/DAP/ASL_Dataset_Videos_Organized/videos/*').orderBy(\"path\")"
   ]
  },
  {
   "cell_type": "code",
   "execution_count": null,
   "id": "368e9b73",
   "metadata": {
    "ExecuteTime": {
     "end_time": "2023-07-22T20:56:30.921279Z",
     "start_time": "2023-07-22T20:56:30.921242Z"
    }
   },
   "outputs": [],
   "source": [
    "#create an index column for future join\n",
    "video_df = video_df.withColumn(\"columnindex\",\n",
    "                               row_number().over(Window().orderBy(\"path\")))"
   ]
  },
  {
   "cell_type": "code",
   "execution_count": null,
   "id": "e56391c6",
   "metadata": {
    "ExecuteTime": {
     "end_time": "2023-07-22T20:56:30.924035Z",
     "start_time": "2023-07-22T20:56:30.923998Z"
    }
   },
   "outputs": [],
   "source": [
    "video_df = video_df.drop('length','modification')"
   ]
  },
  {
   "cell_type": "code",
   "execution_count": null,
   "id": "0678b51b",
   "metadata": {
    "ExecuteTime": {
     "end_time": "2023-07-22T20:56:30.926557Z",
     "start_time": "2023-07-22T20:56:30.926519Z"
    }
   },
   "outputs": [],
   "source": [
    "video_df2 = video_df.select(\"path\").collect()"
   ]
  },
  {
   "cell_type": "code",
   "execution_count": null,
   "id": "f48999ce",
   "metadata": {
    "ExecuteTime": {
     "end_time": "2023-07-22T20:56:30.929768Z",
     "start_time": "2023-07-22T20:56:30.929735Z"
    }
   },
   "outputs": [],
   "source": [
    "#loop to get labels and filename per row\n",
    "i = 0\n",
    "target = []\n",
    "for row in video_df2:\n",
    "    subdirname = os.path.basename(os.path.dirname(video_df2[i][0]))\n",
    "    name = os.path.basename(video_df2[i][0]).split('/')[-1]\n",
    "    target.append([subdirname, name])\n",
    "    i = i + 1"
   ]
  },
  {
   "cell_type": "code",
   "execution_count": null,
   "id": "36c8c5bb",
   "metadata": {
    "ExecuteTime": {
     "end_time": "2023-07-22T20:56:30.931472Z",
     "start_time": "2023-07-22T20:56:30.931447Z"
    }
   },
   "outputs": [],
   "source": [
    "target"
   ]
  },
  {
   "cell_type": "code",
   "execution_count": null,
   "id": "9066b594",
   "metadata": {
    "ExecuteTime": {
     "end_time": "2023-07-22T20:56:30.934082Z",
     "start_time": "2023-07-22T20:56:30.934056Z"
    }
   },
   "outputs": [],
   "source": [
    "targetRDD = sc.parallelize([row[0] for row in target])"
   ]
  },
  {
   "cell_type": "code",
   "execution_count": null,
   "id": "b2308557",
   "metadata": {
    "ExecuteTime": {
     "end_time": "2023-07-22T20:56:30.936128Z",
     "start_time": "2023-07-22T20:56:30.936104Z"
    }
   },
   "outputs": [],
   "source": [
    "labelcount = targetRDD.map(lambda w: (w, 1))"
   ]
  },
  {
   "cell_type": "code",
   "execution_count": null,
   "id": "65d85998",
   "metadata": {
    "ExecuteTime": {
     "end_time": "2023-07-22T20:56:30.938062Z",
     "start_time": "2023-07-22T20:56:30.938038Z"
    }
   },
   "outputs": [],
   "source": [
    "labelcount = labelcount.reduceByKey(add)"
   ]
  },
  {
   "cell_type": "code",
   "execution_count": null,
   "id": "ca420f89",
   "metadata": {
    "ExecuteTime": {
     "end_time": "2023-07-22T20:56:30.939724Z",
     "start_time": "2023-07-22T20:56:30.939700Z"
    }
   },
   "outputs": [],
   "source": [
    "labelcount.sortBy(lambda x: x[1],ascending=False).collect()"
   ]
  },
  {
   "cell_type": "code",
   "execution_count": null,
   "id": "e6259ed0",
   "metadata": {
    "ExecuteTime": {
     "end_time": "2023-07-22T20:56:30.942867Z",
     "start_time": "2023-07-22T20:56:30.942842Z"
    }
   },
   "outputs": [],
   "source": [
    "video_df3 = pd.DataFrame(video_df2, columns=['path'])"
   ]
  },
  {
   "cell_type": "code",
   "execution_count": null,
   "id": "36c324d5",
   "metadata": {
    "ExecuteTime": {
     "end_time": "2023-07-22T20:56:30.944842Z",
     "start_time": "2023-07-22T20:56:30.944817Z"
    }
   },
   "outputs": [],
   "source": [
    "video_df3.head()"
   ]
  },
  {
   "cell_type": "code",
   "execution_count": null,
   "id": "f7b6dc2b",
   "metadata": {
    "ExecuteTime": {
     "end_time": "2023-07-22T20:56:30.946759Z",
     "start_time": "2023-07-22T20:56:30.946733Z"
    }
   },
   "outputs": [],
   "source": [
    "video_df = video_df3.join(pd.DataFrame(target, columns=['target','file']))"
   ]
  },
  {
   "cell_type": "code",
   "execution_count": null,
   "id": "6f6927a7",
   "metadata": {
    "ExecuteTime": {
     "end_time": "2023-07-22T20:56:30.948743Z",
     "start_time": "2023-07-22T20:56:30.948718Z"
    }
   },
   "outputs": [],
   "source": [
    "video_df.head(20)"
   ]
  },
  {
   "cell_type": "code",
   "execution_count": null,
   "id": "1304b30b",
   "metadata": {
    "ExecuteTime": {
     "end_time": "2023-07-22T20:56:30.950678Z",
     "start_time": "2023-07-22T20:56:30.950654Z"
    }
   },
   "outputs": [],
   "source": [
    "video_df.sample(20)"
   ]
  },
  {
   "cell_type": "code",
   "execution_count": null,
   "id": "c1c38d14",
   "metadata": {
    "ExecuteTime": {
     "end_time": "2023-07-22T20:56:30.952672Z",
     "start_time": "2023-07-22T20:56:30.952647Z"
    }
   },
   "outputs": [],
   "source": [
    "#loop to get labels and filename per row\n",
    "i = 0\n",
    "target2 = []\n",
    "for row in video_df.path:\n",
    "    subdirname = os.path.basename(os.path.dirname(video_df.path[i]))\n",
    "    name = os.path.basename(video_df.path[i]).split('/')[-1]\n",
    "    target2.append([subdirname])\n",
    "    i = i + 1"
   ]
  },
  {
   "cell_type": "code",
   "execution_count": null,
   "id": "d3565d55",
   "metadata": {
    "ExecuteTime": {
     "end_time": "2023-07-22T20:56:30.954736Z",
     "start_time": "2023-07-22T20:56:30.954711Z"
    }
   },
   "outputs": [],
   "source": [
    "target2"
   ]
  },
  {
   "cell_type": "code",
   "execution_count": null,
   "id": "a0fdc077",
   "metadata": {
    "ExecuteTime": {
     "end_time": "2023-07-22T20:56:30.956483Z",
     "start_time": "2023-07-22T20:56:30.956458Z"
    }
   },
   "outputs": [],
   "source": [
    "video_df = video_df.join(pd.DataFrame(target2, columns=['originaltarget']))"
   ]
  },
  {
   "cell_type": "code",
   "execution_count": null,
   "id": "b1351a95",
   "metadata": {
    "ExecuteTime": {
     "end_time": "2023-07-22T20:56:30.958245Z",
     "start_time": "2023-07-22T20:56:30.958219Z"
    },
    "scrolled": true
   },
   "outputs": [],
   "source": [
    "video_df.sample(50)"
   ]
  },
  {
   "cell_type": "code",
   "execution_count": null,
   "id": "8d1c55c8",
   "metadata": {
    "ExecuteTime": {
     "end_time": "2023-07-22T20:56:30.960403Z",
     "start_time": "2023-07-22T20:56:30.960355Z"
    }
   },
   "outputs": [],
   "source": [
    "video_df.head()"
   ]
  },
  {
   "cell_type": "code",
   "execution_count": null,
   "id": "4ae848cf",
   "metadata": {
    "ExecuteTime": {
     "end_time": "2023-07-22T20:56:30.962438Z",
     "start_time": "2023-07-22T20:56:30.962413Z"
    }
   },
   "outputs": [],
   "source": [
    "extract_keypoints_from_file(video_df.path[0]).shape"
   ]
  },
  {
   "cell_type": "code",
   "execution_count": null,
   "id": "804a03cd",
   "metadata": {
    "ExecuteTime": {
     "end_time": "2023-07-22T20:56:30.965201Z",
     "start_time": "2023-07-22T20:56:30.965164Z"
    }
   },
   "outputs": [],
   "source": [
    "cap = cv2.VideoCapture(video_df.path[0])\n",
    "length = int(cap.get(cv2.CAP_PROP_FRAME_COUNT))\n",
    "print( length )"
   ]
  },
  {
   "cell_type": "code",
   "execution_count": null,
   "id": "0021d41c",
   "metadata": {
    "ExecuteTime": {
     "end_time": "2023-07-22T20:56:30.968317Z",
     "start_time": "2023-07-22T20:56:30.968280Z"
    }
   },
   "outputs": [],
   "source": [
    "video_df.count()"
   ]
  },
  {
   "cell_type": "code",
   "execution_count": null,
   "id": "68dc8877",
   "metadata": {
    "ExecuteTime": {
     "end_time": "2023-07-22T20:56:30.971204Z",
     "start_time": "2023-07-22T20:56:30.971167Z"
    }
   },
   "outputs": [],
   "source": [
    "def frames_from_file(filepath):\n",
    "    cap = cv2.VideoCapture(filepath)\n",
    "    length = int(cap.get(cv2.CAP_PROP_FRAME_COUNT))\n",
    "    return length"
   ]
  },
  {
   "cell_type": "code",
   "execution_count": null,
   "id": "b21f96b0",
   "metadata": {
    "ExecuteTime": {
     "end_time": "2023-07-22T20:56:30.974085Z",
     "start_time": "2023-07-22T20:56:30.974046Z"
    }
   },
   "outputs": [],
   "source": [
    "frames_from_file('file:///media/kristian/DA44B79144B76EBF/Documents/CCT_College_Ireland/DAP/ASL_Dataset_Videos_Organized/videos/singer/51796.mp4')"
   ]
  },
  {
   "cell_type": "code",
   "execution_count": null,
   "id": "630d4e7a",
   "metadata": {
    "ExecuteTime": {
     "end_time": "2023-07-22T20:56:30.982453Z",
     "start_time": "2023-07-22T20:56:30.982412Z"
    }
   },
   "outputs": [],
   "source": [
    "tqdm.pandas()\n",
    "video_df['frames'] = video_df['path'].progress_apply(frames_from_file)"
   ]
  },
  {
   "cell_type": "code",
   "execution_count": null,
   "id": "0b26d075",
   "metadata": {
    "ExecuteTime": {
     "end_time": "2023-07-22T20:56:30.985327Z",
     "start_time": "2023-07-22T20:56:30.985287Z"
    }
   },
   "outputs": [],
   "source": [
    "video_df.head()"
   ]
  },
  {
   "cell_type": "code",
   "execution_count": null,
   "id": "1d569287",
   "metadata": {
    "ExecuteTime": {
     "end_time": "2023-07-22T20:56:30.988313Z",
     "start_time": "2023-07-22T20:56:30.988272Z"
    }
   },
   "outputs": [],
   "source": [
    "video_df['frames'].max()"
   ]
  },
  {
   "cell_type": "code",
   "execution_count": null,
   "id": "d30d5545",
   "metadata": {
    "ExecuteTime": {
     "end_time": "2023-07-22T20:56:30.990588Z",
     "start_time": "2023-07-22T20:56:30.990563Z"
    }
   },
   "outputs": [],
   "source": [
    "video_df.head(10)"
   ]
  },
  {
   "cell_type": "code",
   "execution_count": null,
   "id": "3bbf8ed6",
   "metadata": {
    "ExecuteTime": {
     "end_time": "2023-07-22T20:56:30.993290Z",
     "start_time": "2023-07-22T20:56:30.993262Z"
    }
   },
   "outputs": [],
   "source": [
    "def extract_keypoints_from_file(filepath):\n",
    "    # Initialize the YOLO model\n",
    "    cap = cv2.VideoCapture(filepath)\n",
    "    keypoints = []\n",
    "    length = int(cap.get(cv2.CAP_PROP_FRAME_COUNT))\n",
    "    result_generator = inferencer(filepath, show=False, return_vis = False,return_datasample=False)\n",
    "    results = [result for result in result_generator]\n",
    "    cv2.destroyAllWindows()\n",
    "    i=0\n",
    "    while i < length:\n",
    "        # Extract the keypoints from the results object\n",
    "        if np.array(results[i]['predictions'][0][0]['keypoints']).shape == (133, 2):\n",
    "            keypoint = np.array(results[i]['predictions'][0][0]['keypoints']).flatten()\n",
    "        else:\n",
    "            keypoint = np.zeros(266)\n",
    "\n",
    "        # Append the keypoints to the list\n",
    "        keypoints.append(keypoint)\n",
    "        gc.collect()\n",
    "        torch.cuda.empty_cache()\n",
    "        i = i+1\n",
    "        print (i)\n",
    "    # Convert the keypoints list to a NumPy array\n",
    "    return np.array(keypoints)"
   ]
  },
  {
   "cell_type": "code",
   "execution_count": null,
   "id": "8e8224b3",
   "metadata": {
    "ExecuteTime": {
     "end_time": "2023-07-22T20:56:30.995565Z",
     "start_time": "2023-07-22T20:56:30.995536Z"
    },
    "scrolled": true
   },
   "outputs": [],
   "source": [
    "keypoints_series = video_df['path2process'][:2396].progress_apply(extract_keypoints_from_file)"
   ]
  },
  {
   "cell_type": "code",
   "execution_count": null,
   "id": "a8c73d63",
   "metadata": {
    "ExecuteTime": {
     "end_time": "2023-07-22T20:56:30.997638Z",
     "start_time": "2023-07-22T20:56:30.997604Z"
    },
    "scrolled": true
   },
   "outputs": [],
   "source": [
    "#extract_keypoints_from_file(video_df.path2process[5])\n",
    "\n",
    "extract_keypoints_from_file('www.youtube.com/watch?v=wX78EPtSuzU')\n"
   ]
  },
  {
   "cell_type": "code",
   "execution_count": null,
   "id": "09488975",
   "metadata": {
    "ExecuteTime": {
     "end_time": "2023-07-22T20:56:30.999813Z",
     "start_time": "2023-07-22T20:56:30.999788Z"
    }
   },
   "outputs": [],
   "source": [
    "np.array(results[28]['predictions'][0][0]['keypoints']).shape"
   ]
  },
  {
   "cell_type": "code",
   "execution_count": null,
   "id": "20e31ccc",
   "metadata": {
    "ExecuteTime": {
     "end_time": "2023-07-22T20:56:31.001304Z",
     "start_time": "2023-07-22T20:56:31.001279Z"
    }
   },
   "outputs": [],
   "source": [
    "results[95]"
   ]
  },
  {
   "cell_type": "code",
   "execution_count": null,
   "id": "615dd40a",
   "metadata": {
    "ExecuteTime": {
     "end_time": "2023-07-22T20:56:31.003217Z",
     "start_time": "2023-07-22T20:56:31.003191Z"
    }
   },
   "outputs": [],
   "source": [
    "i"
   ]
  },
  {
   "cell_type": "code",
   "execution_count": null,
   "id": "774a8ec0",
   "metadata": {
    "ExecuteTime": {
     "end_time": "2023-07-22T20:56:31.005204Z",
     "start_time": "2023-07-22T20:56:31.005180Z"
    }
   },
   "outputs": [],
   "source": [
    "results"
   ]
  },
  {
   "cell_type": "code",
   "execution_count": null,
   "id": "78cd9590",
   "metadata": {
    "ExecuteTime": {
     "end_time": "2023-07-22T20:56:31.007175Z",
     "start_time": "2023-07-22T20:56:31.007150Z"
    }
   },
   "outputs": [],
   "source": [
    "cv2.destroyAllWindows()"
   ]
  },
  {
   "cell_type": "code",
   "execution_count": null,
   "id": "74e9205e",
   "metadata": {},
   "outputs": [],
   "source": []
  }
 ],
 "metadata": {
  "kernelspec": {
   "display_name": "Python 3 (ipykernel)",
   "language": "python",
   "name": "python3"
  },
  "language_info": {
   "codemirror_mode": {
    "name": "ipython",
    "version": 3
   },
   "file_extension": ".py",
   "mimetype": "text/x-python",
   "name": "python",
   "nbconvert_exporter": "python",
   "pygments_lexer": "ipython3",
   "version": "3.10.12"
  },
  "toc": {
   "base_numbering": 1,
   "nav_menu": {},
   "number_sections": true,
   "sideBar": true,
   "skip_h1_title": false,
   "title_cell": "Table of Contents",
   "title_sidebar": "Contents",
   "toc_cell": false,
   "toc_position": {},
   "toc_section_display": true,
   "toc_window_display": false
  },
  "varInspector": {
   "cols": {
    "lenName": 16,
    "lenType": 16,
    "lenVar": 40
   },
   "kernels_config": {
    "python": {
     "delete_cmd_postfix": "",
     "delete_cmd_prefix": "del ",
     "library": "var_list.py",
     "varRefreshCmd": "print(var_dic_list())"
    },
    "r": {
     "delete_cmd_postfix": ") ",
     "delete_cmd_prefix": "rm(",
     "library": "var_list.r",
     "varRefreshCmd": "cat(var_dic_list()) "
    }
   },
   "types_to_exclude": [
    "module",
    "function",
    "builtin_function_or_method",
    "instance",
    "_Feature"
   ],
   "window_display": false
  }
 },
 "nbformat": 4,
 "nbformat_minor": 5
}
