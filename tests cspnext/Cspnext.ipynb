{
 "cells": [
  {
   "cell_type": "code",
   "execution_count": 1,
   "id": "ddaa0eea",
   "metadata": {
    "ExecuteTime": {
     "end_time": "2023-08-02T12:45:16.518956Z",
     "start_time": "2023-08-02T12:45:12.768277Z"
    }
   },
   "outputs": [],
   "source": [
    "from mmpose.apis import Pose2DInferencer, init_model\n",
    "import cv2\n",
    "\n",
    "from pyspark.sql.functions import row_number\n",
    "from pyspark.sql.window import Window\n",
    "import pandas as pd\n",
    "from tqdm import tqdm\n",
    "import gc\n",
    "from operator import add\n",
    "import torch\n",
    "import numpy as np"
   ]
  },
  {
   "cell_type": "code",
   "execution_count": 6,
   "id": "d3610d35",
   "metadata": {
    "ExecuteTime": {
     "end_time": "2023-08-02T12:45:58.646155Z",
     "start_time": "2023-08-02T12:45:58.640460Z"
    }
   },
   "outputs": [
    {
     "data": {
      "text/plain": [
       "'4.8.0'"
      ]
     },
     "execution_count": 6,
     "metadata": {},
     "output_type": "execute_result"
    }
   ],
   "source": [
    "cv2.__version__"
   ]
  },
  {
   "cell_type": "code",
   "execution_count": 7,
   "id": "420adf1e",
   "metadata": {
    "ExecuteTime": {
     "end_time": "2023-08-02T12:46:03.056783Z",
     "start_time": "2023-08-02T12:46:02.030803Z"
    }
   },
   "outputs": [
    {
     "name": "stdout",
     "output_type": "stream",
     "text": [
      "08/02 13:46:02 - mmengine - \u001b[5m\u001b[4m\u001b[33mWARNING\u001b[0m - The current default scope \"mmdet\" is not \"mmpose\", `init_default_scope` will force set the currentdefault scope to \"mmpose\".\n",
      "Loads checkpoint by http backend from path: https://download.openmmlab.com/mmpose/v1/projects/rtmposev1/cspnext-m_udp-coco-wholebody_pt-in1k_210e-256x192-320fa258_20230123.pth\n",
      "08/02 13:46:02 - mmengine - \u001b[5m\u001b[4m\u001b[33mWARNING\u001b[0m - The current default scope \"mmpose\" is not \"mmdet\", `init_default_scope` will force set the currentdefault scope to \"mmdet\".\n",
      "Loads checkpoint by http backend from path: https://download.openmmlab.com/mmdetection/v2.0/yolox/yolox_tiny_8x8_300e_coco/yolox_tiny_8x8_300e_coco_20211124_171234-b4047906.pth\n"
     ]
    }
   ],
   "source": [
    "inferencer = Pose2DInferencer(device='cuda',\n",
    "    model='cspnext-m_udp_8xb64-210e_coco-wholebody-256x192',\n",
    "    det_model='yolox_tiny_8x8_300e_coco',\n",
    "    det_cat_ids=[0],  # the category id of 'human' class\n",
    ")"
   ]
  },
  {
   "cell_type": "code",
   "execution_count": 8,
   "id": "3c898034",
   "metadata": {
    "ExecuteTime": {
     "end_time": "2023-08-02T12:46:03.615426Z",
     "start_time": "2023-08-02T12:46:03.613026Z"
    },
    "scrolled": true
   },
   "outputs": [],
   "source": [
    "#inferencer = Pose2DInferencer('wholebody', device='cuda')"
   ]
  },
  {
   "cell_type": "code",
   "execution_count": 9,
   "id": "95162955",
   "metadata": {
    "ExecuteTime": {
     "end_time": "2023-08-02T12:46:47.838216Z",
     "start_time": "2023-08-02T12:46:04.500614Z"
    },
    "scrolled": true
   },
   "outputs": [
    {
     "data": {
      "application/vnd.jupyter.widget-view+json": {
       "model_id": "55412ba6696a4909ac13cc2fd0e9cedd",
       "version_major": 2,
       "version_minor": 0
      },
      "text/plain": [
       "Output()"
      ]
     },
     "metadata": {},
     "output_type": "display_data"
    },
    {
     "data": {
      "text/html": [
       "<pre style=\"white-space:pre;overflow-x:auto;line-height:normal;font-family:Menlo,'DejaVu Sans Mono',consolas,'Courier New',monospace\"></pre>\n"
      ],
      "text/plain": []
     },
     "metadata": {},
     "output_type": "display_data"
    },
    {
     "data": {
      "text/html": [
       "<pre style=\"white-space:pre;overflow-x:auto;line-height:normal;font-family:Menlo,'DejaVu Sans Mono',consolas,'Courier New',monospace\">\n",
       "</pre>\n"
      ],
      "text/plain": [
       "\n"
      ]
     },
     "metadata": {},
     "output_type": "display_data"
    },
    {
     "data": {
      "application/vnd.jupyter.widget-view+json": {
       "model_id": "c549f159bfa1470dbada98ab2f3e2656",
       "version_major": 2,
       "version_minor": 0
      },
      "text/plain": [
       "Output()"
      ]
     },
     "metadata": {},
     "output_type": "display_data"
    },
    {
     "data": {
      "text/html": [
       "<pre style=\"white-space:pre;overflow-x:auto;line-height:normal;font-family:Menlo,'DejaVu Sans Mono',consolas,'Courier New',monospace\"></pre>\n"
      ],
      "text/plain": []
     },
     "metadata": {},
     "output_type": "display_data"
    },
    {
     "data": {
      "text/html": [
       "<pre style=\"white-space:pre;overflow-x:auto;line-height:normal;font-family:Menlo,'DejaVu Sans Mono',consolas,'Courier New',monospace\">\n",
       "</pre>\n"
      ],
      "text/plain": [
       "\n"
      ]
     },
     "metadata": {},
     "output_type": "display_data"
    },
    {
     "data": {
      "application/vnd.jupyter.widget-view+json": {
       "model_id": "d76a40ce40174b629f4ef22fef8a23ef",
       "version_major": 2,
       "version_minor": 0
      },
      "text/plain": [
       "Output()"
      ]
     },
     "metadata": {},
     "output_type": "display_data"
    },
    {
     "data": {
      "text/html": [
       "<pre style=\"white-space:pre;overflow-x:auto;line-height:normal;font-family:Menlo,'DejaVu Sans Mono',consolas,'Courier New',monospace\"></pre>\n"
      ],
      "text/plain": []
     },
     "metadata": {},
     "output_type": "display_data"
    },
    {
     "data": {
      "text/html": [
       "<pre style=\"white-space:pre;overflow-x:auto;line-height:normal;font-family:Menlo,'DejaVu Sans Mono',consolas,'Courier New',monospace\">\n",
       "</pre>\n"
      ],
      "text/plain": [
       "\n"
      ]
     },
     "metadata": {},
     "output_type": "display_data"
    },
    {
     "data": {
      "application/vnd.jupyter.widget-view+json": {
       "model_id": "3a8afdc96c6e442fac3c02140ede3c15",
       "version_major": 2,
       "version_minor": 0
      },
      "text/plain": [
       "Output()"
      ]
     },
     "metadata": {},
     "output_type": "display_data"
    },
    {
     "data": {
      "text/html": [
       "<pre style=\"white-space:pre;overflow-x:auto;line-height:normal;font-family:Menlo,'DejaVu Sans Mono',consolas,'Courier New',monospace\"></pre>\n"
      ],
      "text/plain": []
     },
     "metadata": {},
     "output_type": "display_data"
    },
    {
     "data": {
      "text/html": [
       "<pre style=\"white-space:pre;overflow-x:auto;line-height:normal;font-family:Menlo,'DejaVu Sans Mono',consolas,'Courier New',monospace\">\n",
       "</pre>\n"
      ],
      "text/plain": [
       "\n"
      ]
     },
     "metadata": {},
     "output_type": "display_data"
    },
    {
     "data": {
      "application/vnd.jupyter.widget-view+json": {
       "model_id": "f31f2c4bd8434ef19f5534bfbd99f050",
       "version_major": 2,
       "version_minor": 0
      },
      "text/plain": [
       "Output()"
      ]
     },
     "metadata": {},
     "output_type": "display_data"
    },
    {
     "data": {
      "text/html": [
       "<pre style=\"white-space:pre;overflow-x:auto;line-height:normal;font-family:Menlo,'DejaVu Sans Mono',consolas,'Courier New',monospace\"></pre>\n"
      ],
      "text/plain": []
     },
     "metadata": {},
     "output_type": "display_data"
    },
    {
     "data": {
      "text/html": [
       "<pre style=\"white-space:pre;overflow-x:auto;line-height:normal;font-family:Menlo,'DejaVu Sans Mono',consolas,'Courier New',monospace\">\n",
       "</pre>\n"
      ],
      "text/plain": [
       "\n"
      ]
     },
     "metadata": {},
     "output_type": "display_data"
    },
    {
     "data": {
      "application/vnd.jupyter.widget-view+json": {
       "model_id": "b0038d8e59eb42529b1555e26d4f50b7",
       "version_major": 2,
       "version_minor": 0
      },
      "text/plain": [
       "Output()"
      ]
     },
     "metadata": {},
     "output_type": "display_data"
    },
    {
     "data": {
      "text/html": [
       "<pre style=\"white-space:pre;overflow-x:auto;line-height:normal;font-family:Menlo,'DejaVu Sans Mono',consolas,'Courier New',monospace\"></pre>\n"
      ],
      "text/plain": []
     },
     "metadata": {},
     "output_type": "display_data"
    },
    {
     "data": {
      "text/html": [
       "<pre style=\"white-space:pre;overflow-x:auto;line-height:normal;font-family:Menlo,'DejaVu Sans Mono',consolas,'Courier New',monospace\">\n",
       "</pre>\n"
      ],
      "text/plain": [
       "\n"
      ]
     },
     "metadata": {},
     "output_type": "display_data"
    },
    {
     "data": {
      "application/vnd.jupyter.widget-view+json": {
       "model_id": "04b681d998904f078d737cc9fd26fe98",
       "version_major": 2,
       "version_minor": 0
      },
      "text/plain": [
       "Output()"
      ]
     },
     "metadata": {},
     "output_type": "display_data"
    },
    {
     "data": {
      "text/html": [
       "<pre style=\"white-space:pre;overflow-x:auto;line-height:normal;font-family:Menlo,'DejaVu Sans Mono',consolas,'Courier New',monospace\"></pre>\n"
      ],
      "text/plain": []
     },
     "metadata": {},
     "output_type": "display_data"
    },
    {
     "data": {
      "text/html": [
       "<pre style=\"white-space:pre;overflow-x:auto;line-height:normal;font-family:Menlo,'DejaVu Sans Mono',consolas,'Courier New',monospace\">\n",
       "</pre>\n"
      ],
      "text/plain": [
       "\n"
      ]
     },
     "metadata": {},
     "output_type": "display_data"
    },
    {
     "data": {
      "application/vnd.jupyter.widget-view+json": {
       "model_id": "0a1e408cb0e74c73a40d75332657af2b",
       "version_major": 2,
       "version_minor": 0
      },
      "text/plain": [
       "Output()"
      ]
     },
     "metadata": {},
     "output_type": "display_data"
    },
    {
     "data": {
      "text/html": [
       "<pre style=\"white-space:pre;overflow-x:auto;line-height:normal;font-family:Menlo,'DejaVu Sans Mono',consolas,'Courier New',monospace\"></pre>\n"
      ],
      "text/plain": []
     },
     "metadata": {},
     "output_type": "display_data"
    },
    {
     "data": {
      "text/html": [
       "<pre style=\"white-space:pre;overflow-x:auto;line-height:normal;font-family:Menlo,'DejaVu Sans Mono',consolas,'Courier New',monospace\">\n",
       "</pre>\n"
      ],
      "text/plain": [
       "\n"
      ]
     },
     "metadata": {},
     "output_type": "display_data"
    },
    {
     "data": {
      "application/vnd.jupyter.widget-view+json": {
       "model_id": "439c08e2c4484e2b94d7ce56081c291f",
       "version_major": 2,
       "version_minor": 0
      },
      "text/plain": [
       "Output()"
      ]
     },
     "metadata": {},
     "output_type": "display_data"
    },
    {
     "data": {
      "text/html": [
       "<pre style=\"white-space:pre;overflow-x:auto;line-height:normal;font-family:Menlo,'DejaVu Sans Mono',consolas,'Courier New',monospace\"></pre>\n"
      ],
      "text/plain": []
     },
     "metadata": {},
     "output_type": "display_data"
    },
    {
     "data": {
      "text/html": [
       "<pre style=\"white-space:pre;overflow-x:auto;line-height:normal;font-family:Menlo,'DejaVu Sans Mono',consolas,'Courier New',monospace\">\n",
       "</pre>\n"
      ],
      "text/plain": [
       "\n"
      ]
     },
     "metadata": {},
     "output_type": "display_data"
    },
    {
     "data": {
      "application/vnd.jupyter.widget-view+json": {
       "model_id": "d38d856989484b7e94bd9e81d48a3594",
       "version_major": 2,
       "version_minor": 0
      },
      "text/plain": [
       "Output()"
      ]
     },
     "metadata": {},
     "output_type": "display_data"
    },
    {
     "data": {
      "text/html": [
       "<pre style=\"white-space:pre;overflow-x:auto;line-height:normal;font-family:Menlo,'DejaVu Sans Mono',consolas,'Courier New',monospace\"></pre>\n"
      ],
      "text/plain": []
     },
     "metadata": {},
     "output_type": "display_data"
    },
    {
     "data": {
      "text/html": [
       "<pre style=\"white-space:pre;overflow-x:auto;line-height:normal;font-family:Menlo,'DejaVu Sans Mono',consolas,'Courier New',monospace\">\n",
       "</pre>\n"
      ],
      "text/plain": [
       "\n"
      ]
     },
     "metadata": {},
     "output_type": "display_data"
    },
    {
     "data": {
      "application/vnd.jupyter.widget-view+json": {
       "model_id": "364c9826fc224102b131244fa25131b2",
       "version_major": 2,
       "version_minor": 0
      },
      "text/plain": [
       "Output()"
      ]
     },
     "metadata": {},
     "output_type": "display_data"
    },
    {
     "data": {
      "text/html": [
       "<pre style=\"white-space:pre;overflow-x:auto;line-height:normal;font-family:Menlo,'DejaVu Sans Mono',consolas,'Courier New',monospace\"></pre>\n"
      ],
      "text/plain": []
     },
     "metadata": {},
     "output_type": "display_data"
    },
    {
     "data": {
      "text/html": [
       "<pre style=\"white-space:pre;overflow-x:auto;line-height:normal;font-family:Menlo,'DejaVu Sans Mono',consolas,'Courier New',monospace\">\n",
       "</pre>\n"
      ],
      "text/plain": [
       "\n"
      ]
     },
     "metadata": {},
     "output_type": "display_data"
    },
    {
     "data": {
      "application/vnd.jupyter.widget-view+json": {
       "model_id": "2196c97c9b24482eb26a1fe420317c4f",
       "version_major": 2,
       "version_minor": 0
      },
      "text/plain": [
       "Output()"
      ]
     },
     "metadata": {},
     "output_type": "display_data"
    },
    {
     "data": {
      "text/html": [
       "<pre style=\"white-space:pre;overflow-x:auto;line-height:normal;font-family:Menlo,'DejaVu Sans Mono',consolas,'Courier New',monospace\"></pre>\n"
      ],
      "text/plain": []
     },
     "metadata": {},
     "output_type": "display_data"
    },
    {
     "data": {
      "text/html": [
       "<pre style=\"white-space:pre;overflow-x:auto;line-height:normal;font-family:Menlo,'DejaVu Sans Mono',consolas,'Courier New',monospace\">\n",
       "</pre>\n"
      ],
      "text/plain": [
       "\n"
      ]
     },
     "metadata": {},
     "output_type": "display_data"
    },
    {
     "data": {
      "application/vnd.jupyter.widget-view+json": {
       "model_id": "5deec6aa5c314db0809057ce34cd06f5",
       "version_major": 2,
       "version_minor": 0
      },
      "text/plain": [
       "Output()"
      ]
     },
     "metadata": {},
     "output_type": "display_data"
    }
   ],
   "source": [
    "result_generator = inferencer('webcam', show=True, return_vis = True,return_datasample=False)\n",
    "#cv2.destroyAllWindows()\n",
    "#cv2.waitKey(0)\n",
    "#cv2.destroyAllWindows()\n",
    "#cv2.waitKey(1)\n",
    "#result = next(result_generator)\n",
    "results = [result for result in result_generator]\n",
    "cv2.destroyAllWindows()"
   ]
  },
  {
   "cell_type": "code",
   "execution_count": 6,
   "id": "c2a1e400",
   "metadata": {
    "ExecuteTime": {
     "end_time": "2023-08-01T12:22:27.041832Z",
     "start_time": "2023-08-01T12:22:24.395618Z"
    }
   },
   "outputs": [
    {
     "data": {
      "application/vnd.jupyter.widget-view+json": {
       "model_id": "6ca649edac2343e9b4a557c0a81edcf8",
       "version_major": 2,
       "version_minor": 0
      },
      "text/plain": [
       "Output()"
      ]
     },
     "metadata": {},
     "output_type": "display_data"
    },
    {
     "data": {
      "text/html": [
       "<pre style=\"white-space:pre;overflow-x:auto;line-height:normal;font-family:Menlo,'DejaVu Sans Mono',consolas,'Courier New',monospace\"></pre>\n"
      ],
      "text/plain": []
     },
     "metadata": {},
     "output_type": "display_data"
    },
    {
     "data": {
      "text/html": [
       "<pre style=\"white-space:pre;overflow-x:auto;line-height:normal;font-family:Menlo,'DejaVu Sans Mono',consolas,'Courier New',monospace\">\n",
       "</pre>\n"
      ],
      "text/plain": [
       "\n"
      ]
     },
     "metadata": {},
     "output_type": "display_data"
    }
   ],
   "source": [
    "result_generator = inferencer('demo.jpg', show=True, return_vis = True,return_datasample=False,wait_time=5)\n",
    "#cv2.destroyAllWindows()\n",
    "#cv2.waitKey(0)\n",
    "#cv2.destroyAllWindows()\n",
    "#cv2.waitKey(1)\n",
    "#result = next(result_generator)\n",
    "#results = [result for result in result_generator]\n",
    "#cv2.destroyAllWindows()\n",
    "#result_generator = inferencer('demo2.jpg', show=True, return_vis = True,return_datasample=False,wait_time=5)\n",
    "result = next(result_generator)\n",
    "cv2.destroyAllWindows()"
   ]
  },
  {
   "cell_type": "code",
   "execution_count": 7,
   "id": "0d9406ec",
   "metadata": {
    "ExecuteTime": {
     "end_time": "2023-08-01T12:22:28.967390Z",
     "start_time": "2023-08-01T12:22:28.963053Z"
    },
    "scrolled": true
   },
   "outputs": [
    {
     "data": {
      "text/plain": [
       "array([[[  0,  34,  59],\n",
       "        [  0,  34,  59],\n",
       "        [  1,  35,  60],\n",
       "        ...,\n",
       "        [  0,  33,  58],\n",
       "        [  0,  33,  58],\n",
       "        [  0,  33,  58]],\n",
       "\n",
       "       [[  1,  35,  60],\n",
       "        [  1,  35,  60],\n",
       "        [  2,  36,  61],\n",
       "        ...,\n",
       "        [  0,  33,  58],\n",
       "        [  0,  33,  58],\n",
       "        [  0,  33,  58]],\n",
       "\n",
       "       [[  3,  37,  62],\n",
       "        [  3,  37,  62],\n",
       "        [  3,  37,  62],\n",
       "        ...,\n",
       "        [  0,  33,  58],\n",
       "        [  0,  33,  58],\n",
       "        [  0,  33,  58]],\n",
       "\n",
       "       ...,\n",
       "\n",
       "       [[ 95,  74,  69],\n",
       "        [ 94,  74,  67],\n",
       "        [ 92,  71,  66],\n",
       "        ...,\n",
       "        [  2,   2,   2],\n",
       "        [  1,   1,   1],\n",
       "        [  0,   0,   0]],\n",
       "\n",
       "       [[103,  84,  80],\n",
       "        [ 99,  80,  74],\n",
       "        [ 95,  76,  72],\n",
       "        ...,\n",
       "        [  2,   2,   2],\n",
       "        [  1,   1,   1],\n",
       "        [  0,   0,   0]],\n",
       "\n",
       "       [[102,  84,  80],\n",
       "        [ 98,  80,  76],\n",
       "        [ 95,  76,  72],\n",
       "        ...,\n",
       "        [  2,   2,   2],\n",
       "        [  1,   1,   1],\n",
       "        [  0,   0,   0]]], dtype=uint8)"
      ]
     },
     "execution_count": 7,
     "metadata": {},
     "output_type": "execute_result"
    }
   ],
   "source": [
    "result['visualization'][0]"
   ]
  },
  {
   "cell_type": "code",
   "execution_count": 8,
   "id": "5cb73cb4",
   "metadata": {
    "ExecuteTime": {
     "end_time": "2023-08-01T12:22:31.226057Z",
     "start_time": "2023-08-01T12:22:31.117456Z"
    }
   },
   "outputs": [
    {
     "data": {
      "image/png": "[encoded data removed]",
      "text/plain": [
       "<Figure size 640x480 with 1 Axes>"
      ]
     },
     "metadata": {},
     "output_type": "display_data"
    }
   ],
   "source": [
    "import matplotlib.pyplot as plt\n",
    "import numpy as np\n",
    "\n",
    "# Assuming the given data is stored in the variable 'data'\n",
    "image_array = result['visualization'][0]\n",
    "\n",
    "# Display the image using Matplotlib\n",
    "plt.imshow(image_array, cmap='gray')\n",
    "plt.axis('off')  # Hide the axis ticks and labels\n",
    "plt.show()"
   ]
  },
  {
   "cell_type": "code",
   "execution_count": 9,
   "id": "6b874bb2",
   "metadata": {
    "ExecuteTime": {
     "end_time": "2023-08-01T12:22:36.815056Z",
     "start_time": "2023-08-01T12:22:33.795990Z"
    }
   },
   "outputs": [],
   "source": [
    "# Assuming the given data is stored in the variable 'data'\n",
    "image_array = result['visualization'][0]\n",
    "bgr_image = cv2.cvtColor(image_array, cv2.COLOR_RGB2BGR)\n",
    "\n",
    "# Display the image using OpenCV\n",
    "cv2.imshow('Color Image', bgr_image)\n",
    "cv2.waitKey(0)\n",
    "cv2.destroyAllWindows()\n"
   ]
  },
  {
   "cell_type": "code",
   "execution_count": 12,
   "id": "419ed260",
   "metadata": {
    "ExecuteTime": {
     "end_time": "2023-08-01T12:16:09.614875Z",
     "start_time": "2023-08-01T12:15:58.648851Z"
    },
    "scrolled": true
   },
   "outputs": [
    {
     "data": {
      "application/vnd.jupyter.widget-view+json": {
       "model_id": "963f9db57f614d408a9ba9bc10ed9f30",
       "version_major": 2,
       "version_minor": 0
      },
      "text/plain": [
       "Output()"
      ]
     },
     "metadata": {},
     "output_type": "display_data"
    },
    {
     "data": {
      "text/html": [
       "<pre style=\"white-space:pre;overflow-x:auto;line-height:normal;font-family:Menlo,'DejaVu Sans Mono',consolas,'Courier New',monospace\"></pre>\n"
      ],
      "text/plain": []
     },
     "metadata": {},
     "output_type": "display_data"
    },
    {
     "data": {
      "text/html": [
       "<pre style=\"white-space:pre;overflow-x:auto;line-height:normal;font-family:Menlo,'DejaVu Sans Mono',consolas,'Courier New',monospace\">\n",
       "</pre>\n"
      ],
      "text/plain": [
       "\n"
      ]
     },
     "metadata": {},
     "output_type": "display_data"
    },
    {
     "data": {
      "application/vnd.jupyter.widget-view+json": {
       "model_id": "8f096b9357a14ef3955a2b04f5ad94c2",
       "version_major": 2,
       "version_minor": 0
      },
      "text/plain": [
       "Output()"
      ]
     },
     "metadata": {},
     "output_type": "display_data"
    },
    {
     "data": {
      "text/html": [
       "<pre style=\"white-space:pre;overflow-x:auto;line-height:normal;font-family:Menlo,'DejaVu Sans Mono',consolas,'Courier New',monospace\"></pre>\n"
      ],
      "text/plain": []
     },
     "metadata": {},
     "output_type": "display_data"
    },
    {
     "data": {
      "text/html": [
       "<pre style=\"white-space:pre;overflow-x:auto;line-height:normal;font-family:Menlo,'DejaVu Sans Mono',consolas,'Courier New',monospace\">\n",
       "</pre>\n"
      ],
      "text/plain": [
       "\n"
      ]
     },
     "metadata": {},
     "output_type": "display_data"
    },
    {
     "data": {
      "application/vnd.jupyter.widget-view+json": {
       "model_id": "8ba406ace3a74b61903db24f80a8899e",
       "version_major": 2,
       "version_minor": 0
      },
      "text/plain": [
       "Output()"
      ]
     },
     "metadata": {},
     "output_type": "display_data"
    },
    {
     "data": {
      "text/html": [
       "<pre style=\"white-space:pre;overflow-x:auto;line-height:normal;font-family:Menlo,'DejaVu Sans Mono',consolas,'Courier New',monospace\"></pre>\n"
      ],
      "text/plain": []
     },
     "metadata": {},
     "output_type": "display_data"
    },
    {
     "data": {
      "text/html": [
       "<pre style=\"white-space:pre;overflow-x:auto;line-height:normal;font-family:Menlo,'DejaVu Sans Mono',consolas,'Courier New',monospace\">\n",
       "</pre>\n"
      ],
      "text/plain": [
       "\n"
      ]
     },
     "metadata": {},
     "output_type": "display_data"
    },
    {
     "data": {
      "application/vnd.jupyter.widget-view+json": {
       "model_id": "df836c7903694997944aaae39b8b74fd",
       "version_major": 2,
       "version_minor": 0
      },
      "text/plain": [
       "Output()"
      ]
     },
     "metadata": {},
     "output_type": "display_data"
    },
    {
     "data": {
      "text/html": [
       "<pre style=\"white-space:pre;overflow-x:auto;line-height:normal;font-family:Menlo,'DejaVu Sans Mono',consolas,'Courier New',monospace\"></pre>\n"
      ],
      "text/plain": []
     },
     "metadata": {},
     "output_type": "display_data"
    },
    {
     "data": {
      "text/html": [
       "<pre style=\"white-space:pre;overflow-x:auto;line-height:normal;font-family:Menlo,'DejaVu Sans Mono',consolas,'Courier New',monospace\">\n",
       "</pre>\n"
      ],
      "text/plain": [
       "\n"
      ]
     },
     "metadata": {},
     "output_type": "display_data"
    },
    {
     "data": {
      "application/vnd.jupyter.widget-view+json": {
       "model_id": "27474a08fdcc42378f918ba70a3c9cf9",
       "version_major": 2,
       "version_minor": 0
      },
      "text/plain": [
       "Output()"
      ]
     },
     "metadata": {},
     "output_type": "display_data"
    },
    {
     "data": {
      "text/html": [
       "<pre style=\"white-space:pre;overflow-x:auto;line-height:normal;font-family:Menlo,'DejaVu Sans Mono',consolas,'Courier New',monospace\"></pre>\n"
      ],
      "text/plain": []
     },
     "metadata": {},
     "output_type": "display_data"
    },
    {
     "data": {
      "text/html": [
       "<pre style=\"white-space:pre;overflow-x:auto;line-height:normal;font-family:Menlo,'DejaVu Sans Mono',consolas,'Courier New',monospace\">\n",
       "</pre>\n"
      ],
      "text/plain": [
       "\n"
      ]
     },
     "metadata": {},
     "output_type": "display_data"
    },
    {
     "data": {
      "application/vnd.jupyter.widget-view+json": {
       "model_id": "5eb96104e72744b584a2ecef9a92640a",
       "version_major": 2,
       "version_minor": 0
      },
      "text/plain": [
       "Output()"
      ]
     },
     "metadata": {},
     "output_type": "display_data"
    },
    {
     "data": {
      "text/html": [
       "<pre style=\"white-space:pre;overflow-x:auto;line-height:normal;font-family:Menlo,'DejaVu Sans Mono',consolas,'Courier New',monospace\"></pre>\n"
      ],
      "text/plain": []
     },
     "metadata": {},
     "output_type": "display_data"
    },
    {
     "data": {
      "text/html": [
       "<pre style=\"white-space:pre;overflow-x:auto;line-height:normal;font-family:Menlo,'DejaVu Sans Mono',consolas,'Courier New',monospace\">\n",
       "</pre>\n"
      ],
      "text/plain": [
       "\n"
      ]
     },
     "metadata": {},
     "output_type": "display_data"
    },
    {
     "data": {
      "application/vnd.jupyter.widget-view+json": {
       "model_id": "3fe06322ddf14dcead29c49f54582c42",
       "version_major": 2,
       "version_minor": 0
      },
      "text/plain": [
       "Output()"
      ]
     },
     "metadata": {},
     "output_type": "display_data"
    },
    {
     "data": {
      "text/html": [
       "<pre style=\"white-space:pre;overflow-x:auto;line-height:normal;font-family:Menlo,'DejaVu Sans Mono',consolas,'Courier New',monospace\"></pre>\n"
      ],
      "text/plain": []
     },
     "metadata": {},
     "output_type": "display_data"
    },
    {
     "data": {
      "text/html": [
       "<pre style=\"white-space:pre;overflow-x:auto;line-height:normal;font-family:Menlo,'DejaVu Sans Mono',consolas,'Courier New',monospace\">\n",
       "</pre>\n"
      ],
      "text/plain": [
       "\n"
      ]
     },
     "metadata": {},
     "output_type": "display_data"
    },
    {
     "data": {
      "application/vnd.jupyter.widget-view+json": {
       "model_id": "91edb7e1a0bb4542a0a5f5c1584a4cdc",
       "version_major": 2,
       "version_minor": 0
      },
      "text/plain": [
       "Output()"
      ]
     },
     "metadata": {},
     "output_type": "display_data"
    },
    {
     "data": {
      "text/html": [
       "<pre style=\"white-space:pre;overflow-x:auto;line-height:normal;font-family:Menlo,'DejaVu Sans Mono',consolas,'Courier New',monospace\"></pre>\n"
      ],
      "text/plain": []
     },
     "metadata": {},
     "output_type": "display_data"
    },
    {
     "data": {
      "text/html": [
       "<pre style=\"white-space:pre;overflow-x:auto;line-height:normal;font-family:Menlo,'DejaVu Sans Mono',consolas,'Courier New',monospace\">\n",
       "</pre>\n"
      ],
      "text/plain": [
       "\n"
      ]
     },
     "metadata": {},
     "output_type": "display_data"
    },
    {
     "data": {
      "application/vnd.jupyter.widget-view+json": {
       "model_id": "14d50d6155744b06a55a9b658da8cf53",
       "version_major": 2,
       "version_minor": 0
      },
      "text/plain": [
       "Output()"
      ]
     },
     "metadata": {},
     "output_type": "display_data"
    },
    {
     "data": {
      "text/html": [
       "<pre style=\"white-space:pre;overflow-x:auto;line-height:normal;font-family:Menlo,'DejaVu Sans Mono',consolas,'Courier New',monospace\"></pre>\n"
      ],
      "text/plain": []
     },
     "metadata": {},
     "output_type": "display_data"
    },
    {
     "data": {
      "text/html": [
       "<pre style=\"white-space:pre;overflow-x:auto;line-height:normal;font-family:Menlo,'DejaVu Sans Mono',consolas,'Courier New',monospace\">\n",
       "</pre>\n"
      ],
      "text/plain": [
       "\n"
      ]
     },
     "metadata": {},
     "output_type": "display_data"
    },
    {
     "data": {
      "application/vnd.jupyter.widget-view+json": {
       "model_id": "5b59f9675f7d44beb5501001a9d14be8",
       "version_major": 2,
       "version_minor": 0
      },
      "text/plain": [
       "Output()"
      ]
     },
     "metadata": {},
     "output_type": "display_data"
    },
    {
     "data": {
      "text/html": [
       "<pre style=\"white-space:pre;overflow-x:auto;line-height:normal;font-family:Menlo,'DejaVu Sans Mono',consolas,'Courier New',monospace\"></pre>\n"
      ],
      "text/plain": []
     },
     "metadata": {},
     "output_type": "display_data"
    },
    {
     "data": {
      "text/html": [
       "<pre style=\"white-space:pre;overflow-x:auto;line-height:normal;font-family:Menlo,'DejaVu Sans Mono',consolas,'Courier New',monospace\">\n",
       "</pre>\n"
      ],
      "text/plain": [
       "\n"
      ]
     },
     "metadata": {},
     "output_type": "display_data"
    },
    {
     "data": {
      "application/vnd.jupyter.widget-view+json": {
       "model_id": "239a64946ea24f388b181f88b699b35b",
       "version_major": 2,
       "version_minor": 0
      },
      "text/plain": [
       "Output()"
      ]
     },
     "metadata": {},
     "output_type": "display_data"
    },
    {
     "data": {
      "text/html": [
       "<pre style=\"white-space:pre;overflow-x:auto;line-height:normal;font-family:Menlo,'DejaVu Sans Mono',consolas,'Courier New',monospace\"></pre>\n"
      ],
      "text/plain": []
     },
     "metadata": {},
     "output_type": "display_data"
    },
    {
     "data": {
      "text/html": [
       "<pre style=\"white-space:pre;overflow-x:auto;line-height:normal;font-family:Menlo,'DejaVu Sans Mono',consolas,'Courier New',monospace\">\n",
       "</pre>\n"
      ],
      "text/plain": [
       "\n"
      ]
     },
     "metadata": {},
     "output_type": "display_data"
    },
    {
     "data": {
      "application/vnd.jupyter.widget-view+json": {
       "model_id": "9574c0e4631f45708a4f919035058ba5",
       "version_major": 2,
       "version_minor": 0
      },
      "text/plain": [
       "Output()"
      ]
     },
     "metadata": {},
     "output_type": "display_data"
    },
    {
     "data": {
      "text/html": [
       "<pre style=\"white-space:pre;overflow-x:auto;line-height:normal;font-family:Menlo,'DejaVu Sans Mono',consolas,'Courier New',monospace\"></pre>\n"
      ],
      "text/plain": []
     },
     "metadata": {},
     "output_type": "display_data"
    },
    {
     "data": {
      "text/html": [
       "<pre style=\"white-space:pre;overflow-x:auto;line-height:normal;font-family:Menlo,'DejaVu Sans Mono',consolas,'Courier New',monospace\">\n",
       "</pre>\n"
      ],
      "text/plain": [
       "\n"
      ]
     },
     "metadata": {},
     "output_type": "display_data"
    },
    {
     "data": {
      "application/vnd.jupyter.widget-view+json": {
       "model_id": "c6d76b6821f442bda3c539ab3a9b3b9c",
       "version_major": 2,
       "version_minor": 0
      },
      "text/plain": [
       "Output()"
      ]
     },
     "metadata": {},
     "output_type": "display_data"
    },
    {
     "data": {
      "text/html": [
       "<pre style=\"white-space:pre;overflow-x:auto;line-height:normal;font-family:Menlo,'DejaVu Sans Mono',consolas,'Courier New',monospace\"></pre>\n"
      ],
      "text/plain": []
     },
     "metadata": {},
     "output_type": "display_data"
    },
    {
     "data": {
      "text/html": [
       "<pre style=\"white-space:pre;overflow-x:auto;line-height:normal;font-family:Menlo,'DejaVu Sans Mono',consolas,'Courier New',monospace\">\n",
       "</pre>\n"
      ],
      "text/plain": [
       "\n"
      ]
     },
     "metadata": {},
     "output_type": "display_data"
    },
    {
     "data": {
      "application/vnd.jupyter.widget-view+json": {
       "model_id": "3c01ae9d867b405384d57db5d2426985",
       "version_major": 2,
       "version_minor": 0
      },
      "text/plain": [
       "Output()"
      ]
     },
     "metadata": {},
     "output_type": "display_data"
    },
    {
     "data": {
      "text/html": [
       "<pre style=\"white-space:pre;overflow-x:auto;line-height:normal;font-family:Menlo,'DejaVu Sans Mono',consolas,'Courier New',monospace\"></pre>\n"
      ],
      "text/plain": []
     },
     "metadata": {},
     "output_type": "display_data"
    },
    {
     "data": {
      "text/html": [
       "<pre style=\"white-space:pre;overflow-x:auto;line-height:normal;font-family:Menlo,'DejaVu Sans Mono',consolas,'Courier New',monospace\">\n",
       "</pre>\n"
      ],
      "text/plain": [
       "\n"
      ]
     },
     "metadata": {},
     "output_type": "display_data"
    },
    {
     "data": {
      "application/vnd.jupyter.widget-view+json": {
       "model_id": "2cc4b3528e4e4f478528442683f6b126",
       "version_major": 2,
       "version_minor": 0
      },
      "text/plain": [
       "Output()"
      ]
     },
     "metadata": {},
     "output_type": "display_data"
    },
    {
     "data": {
      "text/html": [
       "<pre style=\"white-space:pre;overflow-x:auto;line-height:normal;font-family:Menlo,'DejaVu Sans Mono',consolas,'Courier New',monospace\"></pre>\n"
      ],
      "text/plain": []
     },
     "metadata": {},
     "output_type": "display_data"
    },
    {
     "data": {
      "text/html": [
       "<pre style=\"white-space:pre;overflow-x:auto;line-height:normal;font-family:Menlo,'DejaVu Sans Mono',consolas,'Courier New',monospace\">\n",
       "</pre>\n"
      ],
      "text/plain": [
       "\n"
      ]
     },
     "metadata": {},
     "output_type": "display_data"
    },
    {
     "data": {
      "application/vnd.jupyter.widget-view+json": {
       "model_id": "d74c49f8987946aeb4374ce32b90d651",
       "version_major": 2,
       "version_minor": 0
      },
      "text/plain": [
       "Output()"
      ]
     },
     "metadata": {},
     "output_type": "display_data"
    },
    {
     "data": {
      "text/html": [
       "<pre style=\"white-space:pre;overflow-x:auto;line-height:normal;font-family:Menlo,'DejaVu Sans Mono',consolas,'Courier New',monospace\"></pre>\n"
      ],
      "text/plain": []
     },
     "metadata": {},
     "output_type": "display_data"
    },
    {
     "data": {
      "text/html": [
       "<pre style=\"white-space:pre;overflow-x:auto;line-height:normal;font-family:Menlo,'DejaVu Sans Mono',consolas,'Courier New',monospace\">\n",
       "</pre>\n"
      ],
      "text/plain": [
       "\n"
      ]
     },
     "metadata": {},
     "output_type": "display_data"
    },
    {
     "data": {
      "application/vnd.jupyter.widget-view+json": {
       "model_id": "ab7976edfb554ebfa944f125ca19f6d7",
       "version_major": 2,
       "version_minor": 0
      },
      "text/plain": [
       "Output()"
      ]
     },
     "metadata": {},
     "output_type": "display_data"
    },
    {
     "data": {
      "text/html": [
       "<pre style=\"white-space:pre;overflow-x:auto;line-height:normal;font-family:Menlo,'DejaVu Sans Mono',consolas,'Courier New',monospace\"></pre>\n"
      ],
      "text/plain": []
     },
     "metadata": {},
     "output_type": "display_data"
    },
    {
     "data": {
      "text/html": [
       "<pre style=\"white-space:pre;overflow-x:auto;line-height:normal;font-family:Menlo,'DejaVu Sans Mono',consolas,'Courier New',monospace\">\n",
       "</pre>\n"
      ],
      "text/plain": [
       "\n"
      ]
     },
     "metadata": {},
     "output_type": "display_data"
    },
    {
     "data": {
      "application/vnd.jupyter.widget-view+json": {
       "model_id": "39c5d35f108b476daaf0e27ec7821392",
       "version_major": 2,
       "version_minor": 0
      },
      "text/plain": [
       "Output()"
      ]
     },
     "metadata": {},
     "output_type": "display_data"
    },
    {
     "data": {
      "text/html": [
       "<pre style=\"white-space:pre;overflow-x:auto;line-height:normal;font-family:Menlo,'DejaVu Sans Mono',consolas,'Courier New',monospace\"></pre>\n"
      ],
      "text/plain": []
     },
     "metadata": {},
     "output_type": "display_data"
    },
    {
     "data": {
      "text/html": [
       "<pre style=\"white-space:pre;overflow-x:auto;line-height:normal;font-family:Menlo,'DejaVu Sans Mono',consolas,'Courier New',monospace\">\n",
       "</pre>\n"
      ],
      "text/plain": [
       "\n"
      ]
     },
     "metadata": {},
     "output_type": "display_data"
    },
    {
     "data": {
      "application/vnd.jupyter.widget-view+json": {
       "model_id": "0b97ade323a8433badd1ce21fde5da73",
       "version_major": 2,
       "version_minor": 0
      },
      "text/plain": [
       "Output()"
      ]
     },
     "metadata": {},
     "output_type": "display_data"
    },
    {
     "data": {
      "text/html": [
       "<pre style=\"white-space:pre;overflow-x:auto;line-height:normal;font-family:Menlo,'DejaVu Sans Mono',consolas,'Courier New',monospace\"></pre>\n"
      ],
      "text/plain": []
     },
     "metadata": {},
     "output_type": "display_data"
    },
    {
     "data": {
      "text/html": [
       "<pre style=\"white-space:pre;overflow-x:auto;line-height:normal;font-family:Menlo,'DejaVu Sans Mono',consolas,'Courier New',monospace\">\n",
       "</pre>\n"
      ],
      "text/plain": [
       "\n"
      ]
     },
     "metadata": {},
     "output_type": "display_data"
    },
    {
     "data": {
      "application/vnd.jupyter.widget-view+json": {
       "model_id": "4accc4e19ad640e1a5cb387ba4862434",
       "version_major": 2,
       "version_minor": 0
      },
      "text/plain": [
       "Output()"
      ]
     },
     "metadata": {},
     "output_type": "display_data"
    },
    {
     "data": {
      "text/html": [
       "<pre style=\"white-space:pre;overflow-x:auto;line-height:normal;font-family:Menlo,'DejaVu Sans Mono',consolas,'Courier New',monospace\"></pre>\n"
      ],
      "text/plain": []
     },
     "metadata": {},
     "output_type": "display_data"
    },
    {
     "data": {
      "text/html": [
       "<pre style=\"white-space:pre;overflow-x:auto;line-height:normal;font-family:Menlo,'DejaVu Sans Mono',consolas,'Courier New',monospace\">\n",
       "</pre>\n"
      ],
      "text/plain": [
       "\n"
      ]
     },
     "metadata": {},
     "output_type": "display_data"
    },
    {
     "data": {
      "application/vnd.jupyter.widget-view+json": {
       "model_id": "761cfdf632164e13b70c3ac2799de1f0",
       "version_major": 2,
       "version_minor": 0
      },
      "text/plain": [
       "Output()"
      ]
     },
     "metadata": {},
     "output_type": "display_data"
    },
    {
     "data": {
      "text/html": [
       "<pre style=\"white-space:pre;overflow-x:auto;line-height:normal;font-family:Menlo,'DejaVu Sans Mono',consolas,'Courier New',monospace\"></pre>\n"
      ],
      "text/plain": []
     },
     "metadata": {},
     "output_type": "display_data"
    },
    {
     "data": {
      "text/html": [
       "<pre style=\"white-space:pre;overflow-x:auto;line-height:normal;font-family:Menlo,'DejaVu Sans Mono',consolas,'Courier New',monospace\">\n",
       "</pre>\n"
      ],
      "text/plain": [
       "\n"
      ]
     },
     "metadata": {},
     "output_type": "display_data"
    },
    {
     "data": {
      "application/vnd.jupyter.widget-view+json": {
       "model_id": "b484986b0c9f49cf8dc008946e987ac7",
       "version_major": 2,
       "version_minor": 0
      },
      "text/plain": [
       "Output()"
      ]
     },
     "metadata": {},
     "output_type": "display_data"
    },
    {
     "data": {
      "text/html": [
       "<pre style=\"white-space:pre;overflow-x:auto;line-height:normal;font-family:Menlo,'DejaVu Sans Mono',consolas,'Courier New',monospace\"></pre>\n"
      ],
      "text/plain": []
     },
     "metadata": {},
     "output_type": "display_data"
    },
    {
     "data": {
      "text/html": [
       "<pre style=\"white-space:pre;overflow-x:auto;line-height:normal;font-family:Menlo,'DejaVu Sans Mono',consolas,'Courier New',monospace\">\n",
       "</pre>\n"
      ],
      "text/plain": [
       "\n"
      ]
     },
     "metadata": {},
     "output_type": "display_data"
    },
    {
     "data": {
      "application/vnd.jupyter.widget-view+json": {
       "model_id": "f3c728122d274dd6a02085323df8f72d",
       "version_major": 2,
       "version_minor": 0
      },
      "text/plain": [
       "Output()"
      ]
     },
     "metadata": {},
     "output_type": "display_data"
    },
    {
     "data": {
      "text/html": [
       "<pre style=\"white-space:pre;overflow-x:auto;line-height:normal;font-family:Menlo,'DejaVu Sans Mono',consolas,'Courier New',monospace\"></pre>\n"
      ],
      "text/plain": []
     },
     "metadata": {},
     "output_type": "display_data"
    },
    {
     "data": {
      "text/html": [
       "<pre style=\"white-space:pre;overflow-x:auto;line-height:normal;font-family:Menlo,'DejaVu Sans Mono',consolas,'Courier New',monospace\">\n",
       "</pre>\n"
      ],
      "text/plain": [
       "\n"
      ]
     },
     "metadata": {},
     "output_type": "display_data"
    },
    {
     "data": {
      "application/vnd.jupyter.widget-view+json": {
       "model_id": "38237d6a193a48b7a367da73b0332286",
       "version_major": 2,
       "version_minor": 0
      },
      "text/plain": [
       "Output()"
      ]
     },
     "metadata": {},
     "output_type": "display_data"
    },
    {
     "data": {
      "text/html": [
       "<pre style=\"white-space:pre;overflow-x:auto;line-height:normal;font-family:Menlo,'DejaVu Sans Mono',consolas,'Courier New',monospace\"></pre>\n"
      ],
      "text/plain": []
     },
     "metadata": {},
     "output_type": "display_data"
    },
    {
     "data": {
      "text/html": [
       "<pre style=\"white-space:pre;overflow-x:auto;line-height:normal;font-family:Menlo,'DejaVu Sans Mono',consolas,'Courier New',monospace\">\n",
       "</pre>\n"
      ],
      "text/plain": [
       "\n"
      ]
     },
     "metadata": {},
     "output_type": "display_data"
    },
    {
     "data": {
      "application/vnd.jupyter.widget-view+json": {
       "model_id": "de24fbf12b3a4f00ae50f1a94963442d",
       "version_major": 2,
       "version_minor": 0
      },
      "text/plain": [
       "Output()"
      ]
     },
     "metadata": {},
     "output_type": "display_data"
    },
    {
     "data": {
      "text/html": [
       "<pre style=\"white-space:pre;overflow-x:auto;line-height:normal;font-family:Menlo,'DejaVu Sans Mono',consolas,'Courier New',monospace\"></pre>\n"
      ],
      "text/plain": []
     },
     "metadata": {},
     "output_type": "display_data"
    },
    {
     "data": {
      "text/html": [
       "<pre style=\"white-space:pre;overflow-x:auto;line-height:normal;font-family:Menlo,'DejaVu Sans Mono',consolas,'Courier New',monospace\">\n",
       "</pre>\n"
      ],
      "text/plain": [
       "\n"
      ]
     },
     "metadata": {},
     "output_type": "display_data"
    },
    {
     "data": {
      "application/vnd.jupyter.widget-view+json": {
       "model_id": "45a3dae8b08d408a96c838f2980131ca",
       "version_major": 2,
       "version_minor": 0
      },
      "text/plain": [
       "Output()"
      ]
     },
     "metadata": {},
     "output_type": "display_data"
    },
    {
     "data": {
      "text/html": [
       "<pre style=\"white-space:pre;overflow-x:auto;line-height:normal;font-family:Menlo,'DejaVu Sans Mono',consolas,'Courier New',monospace\"></pre>\n"
      ],
      "text/plain": []
     },
     "metadata": {},
     "output_type": "display_data"
    },
    {
     "data": {
      "text/html": [
       "<pre style=\"white-space:pre;overflow-x:auto;line-height:normal;font-family:Menlo,'DejaVu Sans Mono',consolas,'Courier New',monospace\">\n",
       "</pre>\n"
      ],
      "text/plain": [
       "\n"
      ]
     },
     "metadata": {},
     "output_type": "display_data"
    },
    {
     "data": {
      "application/vnd.jupyter.widget-view+json": {
       "model_id": "95cda1e7fede48dd8f9e11d890e5d30e",
       "version_major": 2,
       "version_minor": 0
      },
      "text/plain": [
       "Output()"
      ]
     },
     "metadata": {},
     "output_type": "display_data"
    },
    {
     "data": {
      "text/html": [
       "<pre style=\"white-space:pre;overflow-x:auto;line-height:normal;font-family:Menlo,'DejaVu Sans Mono',consolas,'Courier New',monospace\"></pre>\n"
      ],
      "text/plain": []
     },
     "metadata": {},
     "output_type": "display_data"
    },
    {
     "data": {
      "text/html": [
       "<pre style=\"white-space:pre;overflow-x:auto;line-height:normal;font-family:Menlo,'DejaVu Sans Mono',consolas,'Courier New',monospace\">\n",
       "</pre>\n"
      ],
      "text/plain": [
       "\n"
      ]
     },
     "metadata": {},
     "output_type": "display_data"
    },
    {
     "data": {
      "application/vnd.jupyter.widget-view+json": {
       "model_id": "999d45cb3cde462ab2b01b2783d378a1",
       "version_major": 2,
       "version_minor": 0
      },
      "text/plain": [
       "Output()"
      ]
     },
     "metadata": {},
     "output_type": "display_data"
    },
    {
     "data": {
      "text/html": [
       "<pre style=\"white-space:pre;overflow-x:auto;line-height:normal;font-family:Menlo,'DejaVu Sans Mono',consolas,'Courier New',monospace\"></pre>\n"
      ],
      "text/plain": []
     },
     "metadata": {},
     "output_type": "display_data"
    },
    {
     "data": {
      "text/html": [
       "<pre style=\"white-space:pre;overflow-x:auto;line-height:normal;font-family:Menlo,'DejaVu Sans Mono',consolas,'Courier New',monospace\">\n",
       "</pre>\n"
      ],
      "text/plain": [
       "\n"
      ]
     },
     "metadata": {},
     "output_type": "display_data"
    },
    {
     "data": {
      "application/vnd.jupyter.widget-view+json": {
       "model_id": "6e2d2a32f30c4708bf43a21dfc00dfff",
       "version_major": 2,
       "version_minor": 0
      },
      "text/plain": [
       "Output()"
      ]
     },
     "metadata": {},
     "output_type": "display_data"
    },
    {
     "data": {
      "text/html": [
       "<pre style=\"white-space:pre;overflow-x:auto;line-height:normal;font-family:Menlo,'DejaVu Sans Mono',consolas,'Courier New',monospace\"></pre>\n"
      ],
      "text/plain": []
     },
     "metadata": {},
     "output_type": "display_data"
    },
    {
     "data": {
      "text/html": [
       "<pre style=\"white-space:pre;overflow-x:auto;line-height:normal;font-family:Menlo,'DejaVu Sans Mono',consolas,'Courier New',monospace\">\n",
       "</pre>\n"
      ],
      "text/plain": [
       "\n"
      ]
     },
     "metadata": {},
     "output_type": "display_data"
    },
    {
     "data": {
      "application/vnd.jupyter.widget-view+json": {
       "model_id": "3bf94b68b6c34e68a2902e9caec4ec05",
       "version_major": 2,
       "version_minor": 0
      },
      "text/plain": [
       "Output()"
      ]
     },
     "metadata": {},
     "output_type": "display_data"
    },
    {
     "data": {
      "text/html": [
       "<pre style=\"white-space:pre;overflow-x:auto;line-height:normal;font-family:Menlo,'DejaVu Sans Mono',consolas,'Courier New',monospace\"></pre>\n"
      ],
      "text/plain": []
     },
     "metadata": {},
     "output_type": "display_data"
    },
    {
     "data": {
      "text/html": [
       "<pre style=\"white-space:pre;overflow-x:auto;line-height:normal;font-family:Menlo,'DejaVu Sans Mono',consolas,'Courier New',monospace\">\n",
       "</pre>\n"
      ],
      "text/plain": [
       "\n"
      ]
     },
     "metadata": {},
     "output_type": "display_data"
    },
    {
     "data": {
      "application/vnd.jupyter.widget-view+json": {
       "model_id": "899becd3961348d9aec867b1c0828631",
       "version_major": 2,
       "version_minor": 0
      },
      "text/plain": [
       "Output()"
      ]
     },
     "metadata": {},
     "output_type": "display_data"
    },
    {
     "data": {
      "text/html": [
       "<pre style=\"white-space:pre;overflow-x:auto;line-height:normal;font-family:Menlo,'DejaVu Sans Mono',consolas,'Courier New',monospace\"></pre>\n"
      ],
      "text/plain": []
     },
     "metadata": {},
     "output_type": "display_data"
    },
    {
     "data": {
      "text/html": [
       "<pre style=\"white-space:pre;overflow-x:auto;line-height:normal;font-family:Menlo,'DejaVu Sans Mono',consolas,'Courier New',monospace\">\n",
       "</pre>\n"
      ],
      "text/plain": [
       "\n"
      ]
     },
     "metadata": {},
     "output_type": "display_data"
    },
    {
     "data": {
      "application/vnd.jupyter.widget-view+json": {
       "model_id": "4a86b2bc16744eacb258c87b44a6e142",
       "version_major": 2,
       "version_minor": 0
      },
      "text/plain": [
       "Output()"
      ]
     },
     "metadata": {},
     "output_type": "display_data"
    },
    {
     "data": {
      "text/html": [
       "<pre style=\"white-space:pre;overflow-x:auto;line-height:normal;font-family:Menlo,'DejaVu Sans Mono',consolas,'Courier New',monospace\"></pre>\n"
      ],
      "text/plain": []
     },
     "metadata": {},
     "output_type": "display_data"
    },
    {
     "data": {
      "text/html": [
       "<pre style=\"white-space:pre;overflow-x:auto;line-height:normal;font-family:Menlo,'DejaVu Sans Mono',consolas,'Courier New',monospace\">\n",
       "</pre>\n"
      ],
      "text/plain": [
       "\n"
      ]
     },
     "metadata": {},
     "output_type": "display_data"
    }
   ],
   "source": [
    "# Open the video file\n",
    "#cap = cv2.VideoCapture(\"file:///home/kristian/WLASL/videos_organized/address/01018.mp4\")\n",
    "cap = cv2.VideoCapture(0)\n",
    "\n",
    "# Loop through the video frames\n",
    "while cap.isOpened():\n",
    "    # Read a frame from the video\n",
    "    success, frame = cap.read()\n",
    "\n",
    "    if success:\n",
    "        result_generator = inferencer(frame, show=False, return_vis = True,return_datasample=False)\n",
    "        result = next(result_generator)\n",
    "        image_array = cv2.cvtColor(result['visualization'][0], cv2.COLOR_RGB2BGR)\n",
    "        # Display the annotated frame\n",
    "        cv2.imshow(\"Cspnext Inference\", image_array)\n",
    "\n",
    "        # Break the loop if 'q' is pressed\n",
    "        if cv2.waitKey(1) & 0xFF == ord(\"q\"):\n",
    "            break\n",
    "    else:\n",
    "        # Break the loop if the end of the video is reached\n",
    "        break\n",
    "\n",
    "# Release the video capture object and close the display window\n",
    "cap.release()\n",
    "cv2.destroyAllWindows()"
   ]
  },
  {
   "cell_type": "code",
   "execution_count": 10,
   "id": "141187ca",
   "metadata": {
    "ExecuteTime": {
     "end_time": "2023-08-01T12:22:40.464711Z",
     "start_time": "2023-08-01T12:22:40.456246Z"
    },
    "scrolled": true
   },
   "outputs": [
    {
     "data": {
      "text/plain": [
       "[[220.48244739836582, 230.93967942163414],\n",
       " [234.64624980404142, 222.52232499187812],\n",
       " [207.8894137428885, 215.56505162114206],\n",
       " [245.2059499139283, 239.26761519385036],\n",
       " [178.58452173323678, 224.42438215494622],\n",
       " [255.44712850976083, 334.126647799808],\n",
       " [116.83346573110578, 294.50475698752734],\n",
       " [258.6516932431668, 445.36930127292203],\n",
       " [44.39311215300435, 214.64480042321208],\n",
       " [256.6739856283418, 486.55028239434716],\n",
       " [56.650091837430296, 100.77089111676571],\n",
       " [220.90961538280231, 479.6569738192484],\n",
       " [114.7870388503801, 471.33867816074894],\n",
       " [284.4253841246468, 477.6872872967672],\n",
       " [51.41810132435057, 235.7626580267679],\n",
       " [241.3235188261358, 450.6349492779534],\n",
       " [241.97217824790096, 449.9863875178021],\n",
       " [108.58517903609186, 24.342980106028563],\n",
       " [108.34284446957429, 22.09563684934983],\n",
       " [240.85030013827634, 449.395666439951],\n",
       " [244.50538180736788, 233.98607090541293],\n",
       " [235.8049020970122, 225.33162580217635],\n",
       " [241.16898760081148, 448.709435605311],\n",
       " [184.9314205197474, 214.3861350431772],\n",
       " [183.2033160148991, 222.56215648913553],\n",
       " [182.09892887515116, 230.7254014830105],\n",
       " [181.66530549481138, 239.31205215639363],\n",
       " [182.76166072808837, 247.4595164161708],\n",
       " [186.19843717068284, 254.71370198797172],\n",
       " [191.4799799001305, 260.86997104688953],\n",
       " [198.11053442487867, 265.93179007217157],\n",
       " [205.84326897458016, 269.29255820960475],\n",
       " [214.32929346319338, 270.64029232691973],\n",
       " [222.14702682476246, 268.90860436534115],\n",
       " [228.5995518193045, 264.3394215622518],\n",
       " [234.12437502161026, 258.4185759653669],\n",
       " [238.45868382263097, 251.23814386631625],\n",
       " [241.50682551803146, 243.73948897235096],\n",
       " [243.87567370211053, 235.9517297091495],\n",
       " [245.5442524868945, 227.70190526930884],\n",
       " [199.09341408698225, 208.4358078656452],\n",
       " [204.1051079917952, 206.86437028756234],\n",
       " [209.02923088328805, 207.25278103371545],\n",
       " [213.69138750298436, 208.6090823068849],\n",
       " [218.14637403924542, 210.63005621518408],\n",
       " [229.79053087633582, 214.00124029740357],\n",
       " [233.66376841829185, 214.3918464804135],\n",
       " [237.49203392195, 215.1124119666472],\n",
       " [241.0853495664864, 216.52191544274268],\n",
       " [243.89698148704565, 219.58349340703404],\n",
       " [222.74339588022633, 219.3045573769237],\n",
       " [222.32284924017387, 223.665800946299],\n",
       " [221.8734607541577, 227.68026453457838],\n",
       " [221.50069068172854, 232.05128027402264],\n",
       " [211.99101298927832, 235.2734387626905],\n",
       " [215.3156414485457, 236.61032775207423],\n",
       " [218.6628720908986, 237.83283943333663],\n",
       " [221.79750613449386, 238.25738409888334],\n",
       " [224.79805380559992, 238.23230989899355],\n",
       " [201.76515143822405, 215.22201873904226],\n",
       " [206.16983898995352, 214.21391705275585],\n",
       " [210.52056009572573, 215.14397343484285],\n",
       " [213.9034862562994, 217.9759879377338],\n",
       " [209.64790341457194, 218.02488180216665],\n",
       " [205.51137201297297, 217.09342232133662],\n",
       " [228.79925422110358, 221.84307663686508],\n",
       " [232.52775149810265, 221.0354034792565],\n",
       " [236.29415140811727, 222.07615609864507],\n",
       " [239.2535770456803, 224.6963357054296],\n",
       " [235.54243797977318, 224.69818449436156],\n",
       " [231.96996546442563, 223.62834646338263],\n",
       " [201.51838604726908, 243.91977890730573],\n",
       " [208.072073235709, 242.2684967572236],\n",
       " [214.90095278986564, 242.7894095458489],\n",
       " [217.37263924749868, 243.51651182152068],\n",
       " [219.6401758840471, 244.0561601051263],\n",
       " [223.78605018511536, 246.35839753674486],\n",
       " [226.58327777754084, 250.01550012870166],\n",
       " [223.01113715915488, 252.1491015984543],\n",
       " [219.06267517085058, 253.2748489875812],\n",
       " [214.4955406512624, 252.93691678208825],\n",
       " [209.16798040808794, 251.1007062176775],\n",
       " [204.8244780612307, 247.968659682399],\n",
       " [202.71889054709845, 244.1973943738933],\n",
       " [209.5942356758801, 244.27425117092207],\n",
       " [216.57130722339423, 245.71458980527564],\n",
       " [221.4651611119885, 247.395271000785],\n",
       " [225.65559258015253, 249.82609830543936],\n",
       " [220.77987686051006, 250.3701374627583],\n",
       " [215.37652794615258, 249.61464307134565],\n",
       " [208.5169147333512, 247.42280475023608],\n",
       " [255.9068058015868, 487.3488601706922],\n",
       " [286.6034247454979, 137.43592465211572],\n",
       " [289.66149016005045, 135.84895394559555],\n",
       " [124.10786717167576, 72.44791512980424],\n",
       " [124.8965373266949, 72.1219752918031],\n",
       " [297.7635928383246, 129.54435258897553],\n",
       " [300.5511622291673, 127.98701202649892],\n",
       " [300.70496328117605, 127.74361566219682],\n",
       " [301.0541188847868, 128.13296730985996],\n",
       " [299.9299838758232, 128.07624910655431],\n",
       " [301.39311844137245, 127.22582270489409],\n",
       " [304.1431502858573, 125.00369395797941],\n",
       " [103.11578262637448, -1.5848361716780346],\n",
       " [302.5631879898223, 126.86938610303747],\n",
       " [305.4968252334684, 124.72271105440865],\n",
       " [309.061863256876, 122.99830269924962],\n",
       " [104.41464479077621, -3.745187306290177],\n",
       " [302.6318906608751, 127.24526800276783],\n",
       " [305.05792469143904, 125.38276171720855],\n",
       " [307.02999005791673, 124.03190776857082],\n",
       " [311.20074003625746, 122.19658858453789],\n",
       " [61.911571395548776, 98.43733982261205],\n",
       " [79.18671697553896, 91.12256514567912],\n",
       " [95.70717864937865, 82.67114017703403],\n",
       " [106.79842833812756, 74.29885823101671],\n",
       " [114.5172232154415, 67.05145705431431],\n",
       " [93.62703103735362, 56.37656626818767],\n",
       " [99.89877175690822, 46.35891169385286],\n",
       " [102.67807691340693, 37.10319751162649],\n",
       " [104.1384235444786, 26.803941019569606],\n",
       " [83.2663446430704, 51.742114612982334],\n",
       " [87.66933122287162, 38.06292530536717],\n",
       " [89.11890779753924, 26.485161111918785],\n",
       " [90.50909141092711, 16.799442559331],\n",
       " [71.4283101958572, 51.12447879983148],\n",
       " [74.14916829741685, 37.58999024023069],\n",
       " [75.46582013896068, 27.056036596078343],\n",
       " [77.51757396592018, 18.6170001639818],\n",
       " [59.0394429563126, 53.115475916162325],\n",
       " [59.13246537722705, 43.061844239352354],\n",
       " [59.75031646353102, 34.78147351452418],\n",
       " [61.67965839362574, 27.85449056959311]]"
      ]
     },
     "execution_count": 10,
     "metadata": {},
     "output_type": "execute_result"
    }
   ],
   "source": [
    "result['predictions'][0][0]['keypoints']"
   ]
  },
  {
   "cell_type": "code",
   "execution_count": 11,
   "id": "f6e45132",
   "metadata": {
    "ExecuteTime": {
     "end_time": "2023-08-01T12:22:42.689286Z",
     "start_time": "2023-08-01T12:22:42.683605Z"
    }
   },
   "outputs": [
    {
     "data": {
      "text/plain": [
       "(133, 2)"
      ]
     },
     "execution_count": 11,
     "metadata": {},
     "output_type": "execute_result"
    }
   ],
   "source": [
    "np.array(result['predictions'][0][0]['keypoints']).shape"
   ]
  },
  {
   "cell_type": "code",
   "execution_count": 12,
   "id": "d8ba8cc6",
   "metadata": {
    "ExecuteTime": {
     "end_time": "2023-08-01T12:22:44.894454Z",
     "start_time": "2023-08-01T12:22:44.887813Z"
    }
   },
   "outputs": [],
   "source": [
    "def extract_keypoints_from_file(filepath):\n",
    "    # Open the video file\n",
    "    cap = cv2.VideoCapture(filepath)\n",
    "\n",
    "    # Initialize an empty list to store the keypoints for each frame\n",
    "    keypoints = []\n",
    "\n",
    "    # Loop through the frames of the video\n",
    "    while cap.isOpened():\n",
    "        # Read a frame from the video\n",
    "        ret, frame = cap.read()\n",
    "        if not ret:\n",
    "            break\n",
    "\n",
    "        result_generator = inferencer(frame, show=False, return_vis = False,return_datasample=False)\n",
    "        result = next(result_generator)\n",
    "        # Extract the keypoints from the YOLO results object\n",
    "        if np.array(result['predictions'][0][0]['keypoints']).shape == (133, 2):\n",
    "            keypoint = np.array(result['predictions'][0][0]['keypoints']).flatten()\n",
    "        else:\n",
    "            keypoint = np.zeros(266)\n",
    "\n",
    "        # Append the keypoints to the list\n",
    "        keypoints.append(keypoint)\n",
    "        gc.collect()\n",
    "        torch.cuda.empty_cache()\n",
    "    # Release the video capture object and the YOLO model\n",
    "    cap.release()\n",
    "\n",
    "    # Convert the keypoints list to a NumPy array\n",
    "    return np.array(keypoints)\n"
   ]
  },
  {
   "cell_type": "code",
   "execution_count": 13,
   "id": "3d72be53",
   "metadata": {
    "ExecuteTime": {
     "end_time": "2023-08-01T12:23:06.391190Z",
     "start_time": "2023-08-01T12:22:52.116205Z"
    },
    "scrolled": true
   },
   "outputs": [
    {
     "data": {
      "application/vnd.jupyter.widget-view+json": {
       "model_id": "e4d6183c8ff44852a66a4a8073ecd47a",
       "version_major": 2,
       "version_minor": 0
      },
      "text/plain": [
       "Output()"
      ]
     },
     "metadata": {},
     "output_type": "display_data"
    },
    {
     "data": {
      "text/html": [
       "<pre style=\"white-space:pre;overflow-x:auto;line-height:normal;font-family:Menlo,'DejaVu Sans Mono',consolas,'Courier New',monospace\"></pre>\n"
      ],
      "text/plain": []
     },
     "metadata": {},
     "output_type": "display_data"
    },
    {
     "data": {
      "text/html": [
       "<pre style=\"white-space:pre;overflow-x:auto;line-height:normal;font-family:Menlo,'DejaVu Sans Mono',consolas,'Courier New',monospace\">\n",
       "</pre>\n"
      ],
      "text/plain": [
       "\n"
      ]
     },
     "metadata": {},
     "output_type": "display_data"
    },
    {
     "data": {
      "application/vnd.jupyter.widget-view+json": {
       "model_id": "1e9d039795394b8ca74cc7dd6edc92d3",
       "version_major": 2,
       "version_minor": 0
      },
      "text/plain": [
       "Output()"
      ]
     },
     "metadata": {},
     "output_type": "display_data"
    },
    {
     "data": {
      "text/html": [
       "<pre style=\"white-space:pre;overflow-x:auto;line-height:normal;font-family:Menlo,'DejaVu Sans Mono',consolas,'Courier New',monospace\"></pre>\n"
      ],
      "text/plain": []
     },
     "metadata": {},
     "output_type": "display_data"
    },
    {
     "data": {
      "text/html": [
       "<pre style=\"white-space:pre;overflow-x:auto;line-height:normal;font-family:Menlo,'DejaVu Sans Mono',consolas,'Courier New',monospace\">\n",
       "</pre>\n"
      ],
      "text/plain": [
       "\n"
      ]
     },
     "metadata": {},
     "output_type": "display_data"
    },
    {
     "data": {
      "application/vnd.jupyter.widget-view+json": {
       "model_id": "e48e6d756c284c0a82e82c0d78acccd5",
       "version_major": 2,
       "version_minor": 0
      },
      "text/plain": [
       "Output()"
      ]
     },
     "metadata": {},
     "output_type": "display_data"
    },
    {
     "data": {
      "text/html": [
       "<pre style=\"white-space:pre;overflow-x:auto;line-height:normal;font-family:Menlo,'DejaVu Sans Mono',consolas,'Courier New',monospace\"></pre>\n"
      ],
      "text/plain": []
     },
     "metadata": {},
     "output_type": "display_data"
    },
    {
     "data": {
      "text/html": [
       "<pre style=\"white-space:pre;overflow-x:auto;line-height:normal;font-family:Menlo,'DejaVu Sans Mono',consolas,'Courier New',monospace\">\n",
       "</pre>\n"
      ],
      "text/plain": [
       "\n"
      ]
     },
     "metadata": {},
     "output_type": "display_data"
    },
    {
     "data": {
      "application/vnd.jupyter.widget-view+json": {
       "model_id": "c6b62d6fbad34b55b47e3bbf56b6a8d4",
       "version_major": 2,
       "version_minor": 0
      },
      "text/plain": [
       "Output()"
      ]
     },
     "metadata": {},
     "output_type": "display_data"
    },
    {
     "data": {
      "text/html": [
       "<pre style=\"white-space:pre;overflow-x:auto;line-height:normal;font-family:Menlo,'DejaVu Sans Mono',consolas,'Courier New',monospace\"></pre>\n"
      ],
      "text/plain": []
     },
     "metadata": {},
     "output_type": "display_data"
    },
    {
     "data": {
      "text/html": [
       "<pre style=\"white-space:pre;overflow-x:auto;line-height:normal;font-family:Menlo,'DejaVu Sans Mono',consolas,'Courier New',monospace\">\n",
       "</pre>\n"
      ],
      "text/plain": [
       "\n"
      ]
     },
     "metadata": {},
     "output_type": "display_data"
    },
    {
     "data": {
      "application/vnd.jupyter.widget-view+json": {
       "model_id": "5bb8f23d5feb485483310ef312db3a67",
       "version_major": 2,
       "version_minor": 0
      },
      "text/plain": [
       "Output()"
      ]
     },
     "metadata": {},
     "output_type": "display_data"
    },
    {
     "data": {
      "text/html": [
       "<pre style=\"white-space:pre;overflow-x:auto;line-height:normal;font-family:Menlo,'DejaVu Sans Mono',consolas,'Courier New',monospace\"></pre>\n"
      ],
      "text/plain": []
     },
     "metadata": {},
     "output_type": "display_data"
    },
    {
     "data": {
      "text/html": [
       "<pre style=\"white-space:pre;overflow-x:auto;line-height:normal;font-family:Menlo,'DejaVu Sans Mono',consolas,'Courier New',monospace\">\n",
       "</pre>\n"
      ],
      "text/plain": [
       "\n"
      ]
     },
     "metadata": {},
     "output_type": "display_data"
    },
    {
     "data": {
      "application/vnd.jupyter.widget-view+json": {
       "model_id": "6184b7f23d0447d5a3fffa823b65199e",
       "version_major": 2,
       "version_minor": 0
      },
      "text/plain": [
       "Output()"
      ]
     },
     "metadata": {},
     "output_type": "display_data"
    },
    {
     "data": {
      "text/html": [
       "<pre style=\"white-space:pre;overflow-x:auto;line-height:normal;font-family:Menlo,'DejaVu Sans Mono',consolas,'Courier New',monospace\"></pre>\n"
      ],
      "text/plain": []
     },
     "metadata": {},
     "output_type": "display_data"
    },
    {
     "data": {
      "text/html": [
       "<pre style=\"white-space:pre;overflow-x:auto;line-height:normal;font-family:Menlo,'DejaVu Sans Mono',consolas,'Courier New',monospace\">\n",
       "</pre>\n"
      ],
      "text/plain": [
       "\n"
      ]
     },
     "metadata": {},
     "output_type": "display_data"
    },
    {
     "data": {
      "application/vnd.jupyter.widget-view+json": {
       "model_id": "3332d73d76d34c53a5acca1f223c1cc6",
       "version_major": 2,
       "version_minor": 0
      },
      "text/plain": [
       "Output()"
      ]
     },
     "metadata": {},
     "output_type": "display_data"
    },
    {
     "data": {
      "text/html": [
       "<pre style=\"white-space:pre;overflow-x:auto;line-height:normal;font-family:Menlo,'DejaVu Sans Mono',consolas,'Courier New',monospace\"></pre>\n"
      ],
      "text/plain": []
     },
     "metadata": {},
     "output_type": "display_data"
    },
    {
     "data": {
      "text/html": [
       "<pre style=\"white-space:pre;overflow-x:auto;line-height:normal;font-family:Menlo,'DejaVu Sans Mono',consolas,'Courier New',monospace\">\n",
       "</pre>\n"
      ],
      "text/plain": [
       "\n"
      ]
     },
     "metadata": {},
     "output_type": "display_data"
    },
    {
     "data": {
      "application/vnd.jupyter.widget-view+json": {
       "model_id": "fdb7fe7d2b7340feb529c0f7741dedfe",
       "version_major": 2,
       "version_minor": 0
      },
      "text/plain": [
       "Output()"
      ]
     },
     "metadata": {},
     "output_type": "display_data"
    },
    {
     "data": {
      "text/html": [
       "<pre style=\"white-space:pre;overflow-x:auto;line-height:normal;font-family:Menlo,'DejaVu Sans Mono',consolas,'Courier New',monospace\"></pre>\n"
      ],
      "text/plain": []
     },
     "metadata": {},
     "output_type": "display_data"
    },
    {
     "data": {
      "text/html": [
       "<pre style=\"white-space:pre;overflow-x:auto;line-height:normal;font-family:Menlo,'DejaVu Sans Mono',consolas,'Courier New',monospace\">\n",
       "</pre>\n"
      ],
      "text/plain": [
       "\n"
      ]
     },
     "metadata": {},
     "output_type": "display_data"
    },
    {
     "data": {
      "application/vnd.jupyter.widget-view+json": {
       "model_id": "7da9f4af65d74b898c888876aca8b6b7",
       "version_major": 2,
       "version_minor": 0
      },
      "text/plain": [
       "Output()"
      ]
     },
     "metadata": {},
     "output_type": "display_data"
    },
    {
     "data": {
      "text/html": [
       "<pre style=\"white-space:pre;overflow-x:auto;line-height:normal;font-family:Menlo,'DejaVu Sans Mono',consolas,'Courier New',monospace\"></pre>\n"
      ],
      "text/plain": []
     },
     "metadata": {},
     "output_type": "display_data"
    },
    {
     "data": {
      "text/html": [
       "<pre style=\"white-space:pre;overflow-x:auto;line-height:normal;font-family:Menlo,'DejaVu Sans Mono',consolas,'Courier New',monospace\">\n",
       "</pre>\n"
      ],
      "text/plain": [
       "\n"
      ]
     },
     "metadata": {},
     "output_type": "display_data"
    },
    {
     "data": {
      "application/vnd.jupyter.widget-view+json": {
       "model_id": "b23ff887d5bc44c18e4db3c1beac0f39",
       "version_major": 2,
       "version_minor": 0
      },
      "text/plain": [
       "Output()"
      ]
     },
     "metadata": {},
     "output_type": "display_data"
    },
    {
     "data": {
      "text/html": [
       "<pre style=\"white-space:pre;overflow-x:auto;line-height:normal;font-family:Menlo,'DejaVu Sans Mono',consolas,'Courier New',monospace\"></pre>\n"
      ],
      "text/plain": []
     },
     "metadata": {},
     "output_type": "display_data"
    },
    {
     "data": {
      "text/html": [
       "<pre style=\"white-space:pre;overflow-x:auto;line-height:normal;font-family:Menlo,'DejaVu Sans Mono',consolas,'Courier New',monospace\">\n",
       "</pre>\n"
      ],
      "text/plain": [
       "\n"
      ]
     },
     "metadata": {},
     "output_type": "display_data"
    },
    {
     "data": {
      "application/vnd.jupyter.widget-view+json": {
       "model_id": "c9a5cbba52194b08a343fe0878d6714a",
       "version_major": 2,
       "version_minor": 0
      },
      "text/plain": [
       "Output()"
      ]
     },
     "metadata": {},
     "output_type": "display_data"
    },
    {
     "data": {
      "text/html": [
       "<pre style=\"white-space:pre;overflow-x:auto;line-height:normal;font-family:Menlo,'DejaVu Sans Mono',consolas,'Courier New',monospace\"></pre>\n"
      ],
      "text/plain": []
     },
     "metadata": {},
     "output_type": "display_data"
    },
    {
     "data": {
      "text/html": [
       "<pre style=\"white-space:pre;overflow-x:auto;line-height:normal;font-family:Menlo,'DejaVu Sans Mono',consolas,'Courier New',monospace\">\n",
       "</pre>\n"
      ],
      "text/plain": [
       "\n"
      ]
     },
     "metadata": {},
     "output_type": "display_data"
    },
    {
     "data": {
      "application/vnd.jupyter.widget-view+json": {
       "model_id": "6c3471bb945642289ebc371c4d9e5281",
       "version_major": 2,
       "version_minor": 0
      },
      "text/plain": [
       "Output()"
      ]
     },
     "metadata": {},
     "output_type": "display_data"
    },
    {
     "data": {
      "text/html": [
       "<pre style=\"white-space:pre;overflow-x:auto;line-height:normal;font-family:Menlo,'DejaVu Sans Mono',consolas,'Courier New',monospace\"></pre>\n"
      ],
      "text/plain": []
     },
     "metadata": {},
     "output_type": "display_data"
    },
    {
     "data": {
      "text/html": [
       "<pre style=\"white-space:pre;overflow-x:auto;line-height:normal;font-family:Menlo,'DejaVu Sans Mono',consolas,'Courier New',monospace\">\n",
       "</pre>\n"
      ],
      "text/plain": [
       "\n"
      ]
     },
     "metadata": {},
     "output_type": "display_data"
    },
    {
     "data": {
      "application/vnd.jupyter.widget-view+json": {
       "model_id": "0a539603576747f89b6db33c24c0adc2",
       "version_major": 2,
       "version_minor": 0
      },
      "text/plain": [
       "Output()"
      ]
     },
     "metadata": {},
     "output_type": "display_data"
    },
    {
     "data": {
      "text/html": [
       "<pre style=\"white-space:pre;overflow-x:auto;line-height:normal;font-family:Menlo,'DejaVu Sans Mono',consolas,'Courier New',monospace\"></pre>\n"
      ],
      "text/plain": []
     },
     "metadata": {},
     "output_type": "display_data"
    },
    {
     "data": {
      "text/html": [
       "<pre style=\"white-space:pre;overflow-x:auto;line-height:normal;font-family:Menlo,'DejaVu Sans Mono',consolas,'Courier New',monospace\">\n",
       "</pre>\n"
      ],
      "text/plain": [
       "\n"
      ]
     },
     "metadata": {},
     "output_type": "display_data"
    },
    {
     "data": {
      "application/vnd.jupyter.widget-view+json": {
       "model_id": "baae2b12baea4b618b881face5b2371c",
       "version_major": 2,
       "version_minor": 0
      },
      "text/plain": [
       "Output()"
      ]
     },
     "metadata": {},
     "output_type": "display_data"
    },
    {
     "data": {
      "text/html": [
       "<pre style=\"white-space:pre;overflow-x:auto;line-height:normal;font-family:Menlo,'DejaVu Sans Mono',consolas,'Courier New',monospace\"></pre>\n"
      ],
      "text/plain": []
     },
     "metadata": {},
     "output_type": "display_data"
    },
    {
     "data": {
      "text/html": [
       "<pre style=\"white-space:pre;overflow-x:auto;line-height:normal;font-family:Menlo,'DejaVu Sans Mono',consolas,'Courier New',monospace\">\n",
       "</pre>\n"
      ],
      "text/plain": [
       "\n"
      ]
     },
     "metadata": {},
     "output_type": "display_data"
    },
    {
     "data": {
      "application/vnd.jupyter.widget-view+json": {
       "model_id": "ae458b2639c44501aaa9b67fe9759271",
       "version_major": 2,
       "version_minor": 0
      },
      "text/plain": [
       "Output()"
      ]
     },
     "metadata": {},
     "output_type": "display_data"
    },
    {
     "data": {
      "text/html": [
       "<pre style=\"white-space:pre;overflow-x:auto;line-height:normal;font-family:Menlo,'DejaVu Sans Mono',consolas,'Courier New',monospace\"></pre>\n"
      ],
      "text/plain": []
     },
     "metadata": {},
     "output_type": "display_data"
    },
    {
     "data": {
      "text/html": [
       "<pre style=\"white-space:pre;overflow-x:auto;line-height:normal;font-family:Menlo,'DejaVu Sans Mono',consolas,'Courier New',monospace\">\n",
       "</pre>\n"
      ],
      "text/plain": [
       "\n"
      ]
     },
     "metadata": {},
     "output_type": "display_data"
    },
    {
     "data": {
      "application/vnd.jupyter.widget-view+json": {
       "model_id": "5f1e3a03cadb4937be4af3cb28a75b5e",
       "version_major": 2,
       "version_minor": 0
      },
      "text/plain": [
       "Output()"
      ]
     },
     "metadata": {},
     "output_type": "display_data"
    },
    {
     "data": {
      "text/html": [
       "<pre style=\"white-space:pre;overflow-x:auto;line-height:normal;font-family:Menlo,'DejaVu Sans Mono',consolas,'Courier New',monospace\"></pre>\n"
      ],
      "text/plain": []
     },
     "metadata": {},
     "output_type": "display_data"
    },
    {
     "data": {
      "text/html": [
       "<pre style=\"white-space:pre;overflow-x:auto;line-height:normal;font-family:Menlo,'DejaVu Sans Mono',consolas,'Courier New',monospace\">\n",
       "</pre>\n"
      ],
      "text/plain": [
       "\n"
      ]
     },
     "metadata": {},
     "output_type": "display_data"
    },
    {
     "data": {
      "application/vnd.jupyter.widget-view+json": {
       "model_id": "a548c200edcb480c9f008f8568700e19",
       "version_major": 2,
       "version_minor": 0
      },
      "text/plain": [
       "Output()"
      ]
     },
     "metadata": {},
     "output_type": "display_data"
    },
    {
     "data": {
      "text/html": [
       "<pre style=\"white-space:pre;overflow-x:auto;line-height:normal;font-family:Menlo,'DejaVu Sans Mono',consolas,'Courier New',monospace\"></pre>\n"
      ],
      "text/plain": []
     },
     "metadata": {},
     "output_type": "display_data"
    },
    {
     "data": {
      "text/html": [
       "<pre style=\"white-space:pre;overflow-x:auto;line-height:normal;font-family:Menlo,'DejaVu Sans Mono',consolas,'Courier New',monospace\">\n",
       "</pre>\n"
      ],
      "text/plain": [
       "\n"
      ]
     },
     "metadata": {},
     "output_type": "display_data"
    },
    {
     "data": {
      "application/vnd.jupyter.widget-view+json": {
       "model_id": "c6f7b01aa5234898a1d12fcd0f02a22b",
       "version_major": 2,
       "version_minor": 0
      },
      "text/plain": [
       "Output()"
      ]
     },
     "metadata": {},
     "output_type": "display_data"
    },
    {
     "data": {
      "text/html": [
       "<pre style=\"white-space:pre;overflow-x:auto;line-height:normal;font-family:Menlo,'DejaVu Sans Mono',consolas,'Courier New',monospace\"></pre>\n"
      ],
      "text/plain": []
     },
     "metadata": {},
     "output_type": "display_data"
    },
    {
     "data": {
      "text/html": [
       "<pre style=\"white-space:pre;overflow-x:auto;line-height:normal;font-family:Menlo,'DejaVu Sans Mono',consolas,'Courier New',monospace\">\n",
       "</pre>\n"
      ],
      "text/plain": [
       "\n"
      ]
     },
     "metadata": {},
     "output_type": "display_data"
    },
    {
     "data": {
      "application/vnd.jupyter.widget-view+json": {
       "model_id": "9f6b2bb722644147bfa21d14081e0d24",
       "version_major": 2,
       "version_minor": 0
      },
      "text/plain": [
       "Output()"
      ]
     },
     "metadata": {},
     "output_type": "display_data"
    },
    {
     "data": {
      "text/html": [
       "<pre style=\"white-space:pre;overflow-x:auto;line-height:normal;font-family:Menlo,'DejaVu Sans Mono',consolas,'Courier New',monospace\"></pre>\n"
      ],
      "text/plain": []
     },
     "metadata": {},
     "output_type": "display_data"
    },
    {
     "data": {
      "text/html": [
       "<pre style=\"white-space:pre;overflow-x:auto;line-height:normal;font-family:Menlo,'DejaVu Sans Mono',consolas,'Courier New',monospace\">\n",
       "</pre>\n"
      ],
      "text/plain": [
       "\n"
      ]
     },
     "metadata": {},
     "output_type": "display_data"
    },
    {
     "data": {
      "application/vnd.jupyter.widget-view+json": {
       "model_id": "105ab269e7f24839869c21da565c4ebb",
       "version_major": 2,
       "version_minor": 0
      },
      "text/plain": [
       "Output()"
      ]
     },
     "metadata": {},
     "output_type": "display_data"
    },
    {
     "data": {
      "text/html": [
       "<pre style=\"white-space:pre;overflow-x:auto;line-height:normal;font-family:Menlo,'DejaVu Sans Mono',consolas,'Courier New',monospace\"></pre>\n"
      ],
      "text/plain": []
     },
     "metadata": {},
     "output_type": "display_data"
    },
    {
     "data": {
      "text/html": [
       "<pre style=\"white-space:pre;overflow-x:auto;line-height:normal;font-family:Menlo,'DejaVu Sans Mono',consolas,'Courier New',monospace\">\n",
       "</pre>\n"
      ],
      "text/plain": [
       "\n"
      ]
     },
     "metadata": {},
     "output_type": "display_data"
    },
    {
     "data": {
      "application/vnd.jupyter.widget-view+json": {
       "model_id": "6af0bb1e9a934a1d9fde25b4376c7094",
       "version_major": 2,
       "version_minor": 0
      },
      "text/plain": [
       "Output()"
      ]
     },
     "metadata": {},
     "output_type": "display_data"
    },
    {
     "data": {
      "text/html": [
       "<pre style=\"white-space:pre;overflow-x:auto;line-height:normal;font-family:Menlo,'DejaVu Sans Mono',consolas,'Courier New',monospace\"></pre>\n"
      ],
      "text/plain": []
     },
     "metadata": {},
     "output_type": "display_data"
    },
    {
     "data": {
      "text/html": [
       "<pre style=\"white-space:pre;overflow-x:auto;line-height:normal;font-family:Menlo,'DejaVu Sans Mono',consolas,'Courier New',monospace\">\n",
       "</pre>\n"
      ],
      "text/plain": [
       "\n"
      ]
     },
     "metadata": {},
     "output_type": "display_data"
    },
    {
     "data": {
      "application/vnd.jupyter.widget-view+json": {
       "model_id": "24884e2c6d3e4c57a4eefd8e74efe37d",
       "version_major": 2,
       "version_minor": 0
      },
      "text/plain": [
       "Output()"
      ]
     },
     "metadata": {},
     "output_type": "display_data"
    },
    {
     "data": {
      "text/html": [
       "<pre style=\"white-space:pre;overflow-x:auto;line-height:normal;font-family:Menlo,'DejaVu Sans Mono',consolas,'Courier New',monospace\"></pre>\n"
      ],
      "text/plain": []
     },
     "metadata": {},
     "output_type": "display_data"
    },
    {
     "data": {
      "text/html": [
       "<pre style=\"white-space:pre;overflow-x:auto;line-height:normal;font-family:Menlo,'DejaVu Sans Mono',consolas,'Courier New',monospace\">\n",
       "</pre>\n"
      ],
      "text/plain": [
       "\n"
      ]
     },
     "metadata": {},
     "output_type": "display_data"
    },
    {
     "data": {
      "application/vnd.jupyter.widget-view+json": {
       "model_id": "0cefc5a11e33476eb85fbdcfce59b307",
       "version_major": 2,
       "version_minor": 0
      },
      "text/plain": [
       "Output()"
      ]
     },
     "metadata": {},
     "output_type": "display_data"
    },
    {
     "data": {
      "text/html": [
       "<pre style=\"white-space:pre;overflow-x:auto;line-height:normal;font-family:Menlo,'DejaVu Sans Mono',consolas,'Courier New',monospace\"></pre>\n"
      ],
      "text/plain": []
     },
     "metadata": {},
     "output_type": "display_data"
    },
    {
     "data": {
      "text/html": [
       "<pre style=\"white-space:pre;overflow-x:auto;line-height:normal;font-family:Menlo,'DejaVu Sans Mono',consolas,'Courier New',monospace\">\n",
       "</pre>\n"
      ],
      "text/plain": [
       "\n"
      ]
     },
     "metadata": {},
     "output_type": "display_data"
    },
    {
     "data": {
      "application/vnd.jupyter.widget-view+json": {
       "model_id": "965381c71ddc42e6b2ba480f63dadd3a",
       "version_major": 2,
       "version_minor": 0
      },
      "text/plain": [
       "Output()"
      ]
     },
     "metadata": {},
     "output_type": "display_data"
    },
    {
     "data": {
      "text/html": [
       "<pre style=\"white-space:pre;overflow-x:auto;line-height:normal;font-family:Menlo,'DejaVu Sans Mono',consolas,'Courier New',monospace\"></pre>\n"
      ],
      "text/plain": []
     },
     "metadata": {},
     "output_type": "display_data"
    },
    {
     "data": {
      "text/html": [
       "<pre style=\"white-space:pre;overflow-x:auto;line-height:normal;font-family:Menlo,'DejaVu Sans Mono',consolas,'Courier New',monospace\">\n",
       "</pre>\n"
      ],
      "text/plain": [
       "\n"
      ]
     },
     "metadata": {},
     "output_type": "display_data"
    },
    {
     "data": {
      "application/vnd.jupyter.widget-view+json": {
       "model_id": "3c6df8dedd074203a78954d0104a0684",
       "version_major": 2,
       "version_minor": 0
      },
      "text/plain": [
       "Output()"
      ]
     },
     "metadata": {},
     "output_type": "display_data"
    },
    {
     "data": {
      "text/html": [
       "<pre style=\"white-space:pre;overflow-x:auto;line-height:normal;font-family:Menlo,'DejaVu Sans Mono',consolas,'Courier New',monospace\"></pre>\n"
      ],
      "text/plain": []
     },
     "metadata": {},
     "output_type": "display_data"
    },
    {
     "data": {
      "text/html": [
       "<pre style=\"white-space:pre;overflow-x:auto;line-height:normal;font-family:Menlo,'DejaVu Sans Mono',consolas,'Courier New',monospace\">\n",
       "</pre>\n"
      ],
      "text/plain": [
       "\n"
      ]
     },
     "metadata": {},
     "output_type": "display_data"
    },
    {
     "data": {
      "application/vnd.jupyter.widget-view+json": {
       "model_id": "b064429d86514881aa4d58efefad6bc6",
       "version_major": 2,
       "version_minor": 0
      },
      "text/plain": [
       "Output()"
      ]
     },
     "metadata": {},
     "output_type": "display_data"
    },
    {
     "data": {
      "text/html": [
       "<pre style=\"white-space:pre;overflow-x:auto;line-height:normal;font-family:Menlo,'DejaVu Sans Mono',consolas,'Courier New',monospace\"></pre>\n"
      ],
      "text/plain": []
     },
     "metadata": {},
     "output_type": "display_data"
    },
    {
     "data": {
      "text/html": [
       "<pre style=\"white-space:pre;overflow-x:auto;line-height:normal;font-family:Menlo,'DejaVu Sans Mono',consolas,'Courier New',monospace\">\n",
       "</pre>\n"
      ],
      "text/plain": [
       "\n"
      ]
     },
     "metadata": {},
     "output_type": "display_data"
    },
    {
     "data": {
      "application/vnd.jupyter.widget-view+json": {
       "model_id": "3bc08715e0994338af9b43f0c7f0062d",
       "version_major": 2,
       "version_minor": 0
      },
      "text/plain": [
       "Output()"
      ]
     },
     "metadata": {},
     "output_type": "display_data"
    },
    {
     "data": {
      "text/html": [
       "<pre style=\"white-space:pre;overflow-x:auto;line-height:normal;font-family:Menlo,'DejaVu Sans Mono',consolas,'Courier New',monospace\"></pre>\n"
      ],
      "text/plain": []
     },
     "metadata": {},
     "output_type": "display_data"
    },
    {
     "data": {
      "text/html": [
       "<pre style=\"white-space:pre;overflow-x:auto;line-height:normal;font-family:Menlo,'DejaVu Sans Mono',consolas,'Courier New',monospace\">\n",
       "</pre>\n"
      ],
      "text/plain": [
       "\n"
      ]
     },
     "metadata": {},
     "output_type": "display_data"
    },
    {
     "data": {
      "application/vnd.jupyter.widget-view+json": {
       "model_id": "8eb33f5fdbfe4b08a46b9a29f002b94b",
       "version_major": 2,
       "version_minor": 0
      },
      "text/plain": [
       "Output()"
      ]
     },
     "metadata": {},
     "output_type": "display_data"
    },
    {
     "data": {
      "text/html": [
       "<pre style=\"white-space:pre;overflow-x:auto;line-height:normal;font-family:Menlo,'DejaVu Sans Mono',consolas,'Courier New',monospace\"></pre>\n"
      ],
      "text/plain": []
     },
     "metadata": {},
     "output_type": "display_data"
    },
    {
     "data": {
      "text/html": [
       "<pre style=\"white-space:pre;overflow-x:auto;line-height:normal;font-family:Menlo,'DejaVu Sans Mono',consolas,'Courier New',monospace\">\n",
       "</pre>\n"
      ],
      "text/plain": [
       "\n"
      ]
     },
     "metadata": {},
     "output_type": "display_data"
    },
    {
     "data": {
      "application/vnd.jupyter.widget-view+json": {
       "model_id": "85ed7b7ee68b4f35b845129b24e98679",
       "version_major": 2,
       "version_minor": 0
      },
      "text/plain": [
       "Output()"
      ]
     },
     "metadata": {},
     "output_type": "display_data"
    },
    {
     "data": {
      "text/html": [
       "<pre style=\"white-space:pre;overflow-x:auto;line-height:normal;font-family:Menlo,'DejaVu Sans Mono',consolas,'Courier New',monospace\"></pre>\n"
      ],
      "text/plain": []
     },
     "metadata": {},
     "output_type": "display_data"
    },
    {
     "data": {
      "text/html": [
       "<pre style=\"white-space:pre;overflow-x:auto;line-height:normal;font-family:Menlo,'DejaVu Sans Mono',consolas,'Courier New',monospace\">\n",
       "</pre>\n"
      ],
      "text/plain": [
       "\n"
      ]
     },
     "metadata": {},
     "output_type": "display_data"
    },
    {
     "data": {
      "application/vnd.jupyter.widget-view+json": {
       "model_id": "683d4338b7884ca18dc56a4938b7d222",
       "version_major": 2,
       "version_minor": 0
      },
      "text/plain": [
       "Output()"
      ]
     },
     "metadata": {},
     "output_type": "display_data"
    },
    {
     "data": {
      "text/html": [
       "<pre style=\"white-space:pre;overflow-x:auto;line-height:normal;font-family:Menlo,'DejaVu Sans Mono',consolas,'Courier New',monospace\"></pre>\n"
      ],
      "text/plain": []
     },
     "metadata": {},
     "output_type": "display_data"
    },
    {
     "data": {
      "text/html": [
       "<pre style=\"white-space:pre;overflow-x:auto;line-height:normal;font-family:Menlo,'DejaVu Sans Mono',consolas,'Courier New',monospace\">\n",
       "</pre>\n"
      ],
      "text/plain": [
       "\n"
      ]
     },
     "metadata": {},
     "output_type": "display_data"
    },
    {
     "data": {
      "application/vnd.jupyter.widget-view+json": {
       "model_id": "22ebaa5afd1d4d62b28908b7eca4c7c6",
       "version_major": 2,
       "version_minor": 0
      },
      "text/plain": [
       "Output()"
      ]
     },
     "metadata": {},
     "output_type": "display_data"
    },
    {
     "data": {
      "text/html": [
       "<pre style=\"white-space:pre;overflow-x:auto;line-height:normal;font-family:Menlo,'DejaVu Sans Mono',consolas,'Courier New',monospace\"></pre>\n"
      ],
      "text/plain": []
     },
     "metadata": {},
     "output_type": "display_data"
    },
    {
     "data": {
      "text/html": [
       "<pre style=\"white-space:pre;overflow-x:auto;line-height:normal;font-family:Menlo,'DejaVu Sans Mono',consolas,'Courier New',monospace\">\n",
       "</pre>\n"
      ],
      "text/plain": [
       "\n"
      ]
     },
     "metadata": {},
     "output_type": "display_data"
    },
    {
     "data": {
      "application/vnd.jupyter.widget-view+json": {
       "model_id": "c83db237cbea4c848b90d653310521d2",
       "version_major": 2,
       "version_minor": 0
      },
      "text/plain": [
       "Output()"
      ]
     },
     "metadata": {},
     "output_type": "display_data"
    },
    {
     "data": {
      "text/html": [
       "<pre style=\"white-space:pre;overflow-x:auto;line-height:normal;font-family:Menlo,'DejaVu Sans Mono',consolas,'Courier New',monospace\"></pre>\n"
      ],
      "text/plain": []
     },
     "metadata": {},
     "output_type": "display_data"
    },
    {
     "data": {
      "text/html": [
       "<pre style=\"white-space:pre;overflow-x:auto;line-height:normal;font-family:Menlo,'DejaVu Sans Mono',consolas,'Courier New',monospace\">\n",
       "</pre>\n"
      ],
      "text/plain": [
       "\n"
      ]
     },
     "metadata": {},
     "output_type": "display_data"
    },
    {
     "data": {
      "application/vnd.jupyter.widget-view+json": {
       "model_id": "895b63ef32d4486baee12ead6c372ce2",
       "version_major": 2,
       "version_minor": 0
      },
      "text/plain": [
       "Output()"
      ]
     },
     "metadata": {},
     "output_type": "display_data"
    },
    {
     "data": {
      "text/html": [
       "<pre style=\"white-space:pre;overflow-x:auto;line-height:normal;font-family:Menlo,'DejaVu Sans Mono',consolas,'Courier New',monospace\"></pre>\n"
      ],
      "text/plain": []
     },
     "metadata": {},
     "output_type": "display_data"
    },
    {
     "data": {
      "text/html": [
       "<pre style=\"white-space:pre;overflow-x:auto;line-height:normal;font-family:Menlo,'DejaVu Sans Mono',consolas,'Courier New',monospace\">\n",
       "</pre>\n"
      ],
      "text/plain": [
       "\n"
      ]
     },
     "metadata": {},
     "output_type": "display_data"
    },
    {
     "data": {
      "application/vnd.jupyter.widget-view+json": {
       "model_id": "dc5b8cd9b74e4f49a309fdc2d30dbd33",
       "version_major": 2,
       "version_minor": 0
      },
      "text/plain": [
       "Output()"
      ]
     },
     "metadata": {},
     "output_type": "display_data"
    },
    {
     "data": {
      "text/html": [
       "<pre style=\"white-space:pre;overflow-x:auto;line-height:normal;font-family:Menlo,'DejaVu Sans Mono',consolas,'Courier New',monospace\"></pre>\n"
      ],
      "text/plain": []
     },
     "metadata": {},
     "output_type": "display_data"
    },
    {
     "data": {
      "text/html": [
       "<pre style=\"white-space:pre;overflow-x:auto;line-height:normal;font-family:Menlo,'DejaVu Sans Mono',consolas,'Courier New',monospace\">\n",
       "</pre>\n"
      ],
      "text/plain": [
       "\n"
      ]
     },
     "metadata": {},
     "output_type": "display_data"
    },
    {
     "data": {
      "application/vnd.jupyter.widget-view+json": {
       "model_id": "7b2e2dc76b4b470d93847497fbeb9d62",
       "version_major": 2,
       "version_minor": 0
      },
      "text/plain": [
       "Output()"
      ]
     },
     "metadata": {},
     "output_type": "display_data"
    },
    {
     "data": {
      "text/html": [
       "<pre style=\"white-space:pre;overflow-x:auto;line-height:normal;font-family:Menlo,'DejaVu Sans Mono',consolas,'Courier New',monospace\"></pre>\n"
      ],
      "text/plain": []
     },
     "metadata": {},
     "output_type": "display_data"
    },
    {
     "data": {
      "text/html": [
       "<pre style=\"white-space:pre;overflow-x:auto;line-height:normal;font-family:Menlo,'DejaVu Sans Mono',consolas,'Courier New',monospace\">\n",
       "</pre>\n"
      ],
      "text/plain": [
       "\n"
      ]
     },
     "metadata": {},
     "output_type": "display_data"
    },
    {
     "data": {
      "application/vnd.jupyter.widget-view+json": {
       "model_id": "a9ccd1e2d0d54a16a03499a11b8a5ce6",
       "version_major": 2,
       "version_minor": 0
      },
      "text/plain": [
       "Output()"
      ]
     },
     "metadata": {},
     "output_type": "display_data"
    },
    {
     "data": {
      "text/html": [
       "<pre style=\"white-space:pre;overflow-x:auto;line-height:normal;font-family:Menlo,'DejaVu Sans Mono',consolas,'Courier New',monospace\"></pre>\n"
      ],
      "text/plain": []
     },
     "metadata": {},
     "output_type": "display_data"
    },
    {
     "data": {
      "text/html": [
       "<pre style=\"white-space:pre;overflow-x:auto;line-height:normal;font-family:Menlo,'DejaVu Sans Mono',consolas,'Courier New',monospace\">\n",
       "</pre>\n"
      ],
      "text/plain": [
       "\n"
      ]
     },
     "metadata": {},
     "output_type": "display_data"
    },
    {
     "data": {
      "application/vnd.jupyter.widget-view+json": {
       "model_id": "eb1ce763518a46afa9d0c4fde385c24c",
       "version_major": 2,
       "version_minor": 0
      },
      "text/plain": [
       "Output()"
      ]
     },
     "metadata": {},
     "output_type": "display_data"
    },
    {
     "data": {
      "text/html": [
       "<pre style=\"white-space:pre;overflow-x:auto;line-height:normal;font-family:Menlo,'DejaVu Sans Mono',consolas,'Courier New',monospace\"></pre>\n"
      ],
      "text/plain": []
     },
     "metadata": {},
     "output_type": "display_data"
    },
    {
     "data": {
      "text/html": [
       "<pre style=\"white-space:pre;overflow-x:auto;line-height:normal;font-family:Menlo,'DejaVu Sans Mono',consolas,'Courier New',monospace\">\n",
       "</pre>\n"
      ],
      "text/plain": [
       "\n"
      ]
     },
     "metadata": {},
     "output_type": "display_data"
    },
    {
     "data": {
      "application/vnd.jupyter.widget-view+json": {
       "model_id": "f4d7a586cd4943569dc075863ffe37f2",
       "version_major": 2,
       "version_minor": 0
      },
      "text/plain": [
       "Output()"
      ]
     },
     "metadata": {},
     "output_type": "display_data"
    },
    {
     "data": {
      "text/html": [
       "<pre style=\"white-space:pre;overflow-x:auto;line-height:normal;font-family:Menlo,'DejaVu Sans Mono',consolas,'Courier New',monospace\"></pre>\n"
      ],
      "text/plain": []
     },
     "metadata": {},
     "output_type": "display_data"
    },
    {
     "data": {
      "text/html": [
       "<pre style=\"white-space:pre;overflow-x:auto;line-height:normal;font-family:Menlo,'DejaVu Sans Mono',consolas,'Courier New',monospace\">\n",
       "</pre>\n"
      ],
      "text/plain": [
       "\n"
      ]
     },
     "metadata": {},
     "output_type": "display_data"
    },
    {
     "data": {
      "application/vnd.jupyter.widget-view+json": {
       "model_id": "34a355638c924e6f8ef57a681f4bd642",
       "version_major": 2,
       "version_minor": 0
      },
      "text/plain": [
       "Output()"
      ]
     },
     "metadata": {},
     "output_type": "display_data"
    },
    {
     "data": {
      "text/html": [
       "<pre style=\"white-space:pre;overflow-x:auto;line-height:normal;font-family:Menlo,'DejaVu Sans Mono',consolas,'Courier New',monospace\"></pre>\n"
      ],
      "text/plain": []
     },
     "metadata": {},
     "output_type": "display_data"
    },
    {
     "data": {
      "text/html": [
       "<pre style=\"white-space:pre;overflow-x:auto;line-height:normal;font-family:Menlo,'DejaVu Sans Mono',consolas,'Courier New',monospace\">\n",
       "</pre>\n"
      ],
      "text/plain": [
       "\n"
      ]
     },
     "metadata": {},
     "output_type": "display_data"
    },
    {
     "data": {
      "application/vnd.jupyter.widget-view+json": {
       "model_id": "7db2f7f3cd9e46c9880d67da35902985",
       "version_major": 2,
       "version_minor": 0
      },
      "text/plain": [
       "Output()"
      ]
     },
     "metadata": {},
     "output_type": "display_data"
    },
    {
     "data": {
      "text/html": [
       "<pre style=\"white-space:pre;overflow-x:auto;line-height:normal;font-family:Menlo,'DejaVu Sans Mono',consolas,'Courier New',monospace\"></pre>\n"
      ],
      "text/plain": []
     },
     "metadata": {},
     "output_type": "display_data"
    },
    {
     "data": {
      "text/html": [
       "<pre style=\"white-space:pre;overflow-x:auto;line-height:normal;font-family:Menlo,'DejaVu Sans Mono',consolas,'Courier New',monospace\">\n",
       "</pre>\n"
      ],
      "text/plain": [
       "\n"
      ]
     },
     "metadata": {},
     "output_type": "display_data"
    },
    {
     "data": {
      "application/vnd.jupyter.widget-view+json": {
       "model_id": "b00ab15e0669477db024d8b4a6b11edf",
       "version_major": 2,
       "version_minor": 0
      },
      "text/plain": [
       "Output()"
      ]
     },
     "metadata": {},
     "output_type": "display_data"
    },
    {
     "data": {
      "text/html": [
       "<pre style=\"white-space:pre;overflow-x:auto;line-height:normal;font-family:Menlo,'DejaVu Sans Mono',consolas,'Courier New',monospace\"></pre>\n"
      ],
      "text/plain": []
     },
     "metadata": {},
     "output_type": "display_data"
    },
    {
     "data": {
      "text/html": [
       "<pre style=\"white-space:pre;overflow-x:auto;line-height:normal;font-family:Menlo,'DejaVu Sans Mono',consolas,'Courier New',monospace\">\n",
       "</pre>\n"
      ],
      "text/plain": [
       "\n"
      ]
     },
     "metadata": {},
     "output_type": "display_data"
    },
    {
     "data": {
      "application/vnd.jupyter.widget-view+json": {
       "model_id": "d3c3a2e425ec4cbd8cd993af3dce3a06",
       "version_major": 2,
       "version_minor": 0
      },
      "text/plain": [
       "Output()"
      ]
     },
     "metadata": {},
     "output_type": "display_data"
    },
    {
     "data": {
      "text/html": [
       "<pre style=\"white-space:pre;overflow-x:auto;line-height:normal;font-family:Menlo,'DejaVu Sans Mono',consolas,'Courier New',monospace\"></pre>\n"
      ],
      "text/plain": []
     },
     "metadata": {},
     "output_type": "display_data"
    },
    {
     "data": {
      "text/html": [
       "<pre style=\"white-space:pre;overflow-x:auto;line-height:normal;font-family:Menlo,'DejaVu Sans Mono',consolas,'Courier New',monospace\">\n",
       "</pre>\n"
      ],
      "text/plain": [
       "\n"
      ]
     },
     "metadata": {},
     "output_type": "display_data"
    }
   ],
   "source": [
    "result_generator = inferencer('webcam',\n",
    "                              show=True, return_vis = True,return_datasample=False,\n",
    "                              )\n",
    "results = [result for result in result_generator]\n",
    "cv2.destroyAllWindows()"
   ]
  },
  {
   "cell_type": "code",
   "execution_count": 14,
   "id": "b5121dce",
   "metadata": {
    "ExecuteTime": {
     "end_time": "2023-08-01T12:23:43.131231Z",
     "start_time": "2023-08-01T12:23:24.726042Z"
    },
    "scrolled": true
   },
   "outputs": [
    {
     "data": {
      "application/vnd.jupyter.widget-view+json": {
       "model_id": "59282eb495c84f2fac301434150bf66a",
       "version_major": 2,
       "version_minor": 0
      },
      "text/plain": [
       "Output()"
      ]
     },
     "metadata": {},
     "output_type": "display_data"
    },
    {
     "data": {
      "text/html": [
       "<pre style=\"white-space:pre;overflow-x:auto;line-height:normal;font-family:Menlo,'DejaVu Sans Mono',consolas,'Courier New',monospace\"></pre>\n"
      ],
      "text/plain": []
     },
     "metadata": {},
     "output_type": "display_data"
    },
    {
     "data": {
      "text/html": [
       "<pre style=\"white-space:pre;overflow-x:auto;line-height:normal;font-family:Menlo,'DejaVu Sans Mono',consolas,'Courier New',monospace\">\n",
       "</pre>\n"
      ],
      "text/plain": [
       "\n"
      ]
     },
     "metadata": {},
     "output_type": "display_data"
    },
    {
     "data": {
      "application/vnd.jupyter.widget-view+json": {
       "model_id": "5bc12040b87a4b21a85f4d6b6e335079",
       "version_major": 2,
       "version_minor": 0
      },
      "text/plain": [
       "Output()"
      ]
     },
     "metadata": {},
     "output_type": "display_data"
    },
    {
     "data": {
      "text/html": [
       "<pre style=\"white-space:pre;overflow-x:auto;line-height:normal;font-family:Menlo,'DejaVu Sans Mono',consolas,'Courier New',monospace\"></pre>\n"
      ],
      "text/plain": []
     },
     "metadata": {},
     "output_type": "display_data"
    },
    {
     "data": {
      "text/html": [
       "<pre style=\"white-space:pre;overflow-x:auto;line-height:normal;font-family:Menlo,'DejaVu Sans Mono',consolas,'Courier New',monospace\">\n",
       "</pre>\n"
      ],
      "text/plain": [
       "\n"
      ]
     },
     "metadata": {},
     "output_type": "display_data"
    },
    {
     "data": {
      "application/vnd.jupyter.widget-view+json": {
       "model_id": "7133222392a84627be2103dba2931bdd",
       "version_major": 2,
       "version_minor": 0
      },
      "text/plain": [
       "Output()"
      ]
     },
     "metadata": {},
     "output_type": "display_data"
    },
    {
     "data": {
      "text/html": [
       "<pre style=\"white-space:pre;overflow-x:auto;line-height:normal;font-family:Menlo,'DejaVu Sans Mono',consolas,'Courier New',monospace\"></pre>\n"
      ],
      "text/plain": []
     },
     "metadata": {},
     "output_type": "display_data"
    },
    {
     "data": {
      "text/html": [
       "<pre style=\"white-space:pre;overflow-x:auto;line-height:normal;font-family:Menlo,'DejaVu Sans Mono',consolas,'Courier New',monospace\">\n",
       "</pre>\n"
      ],
      "text/plain": [
       "\n"
      ]
     },
     "metadata": {},
     "output_type": "display_data"
    },
    {
     "data": {
      "application/vnd.jupyter.widget-view+json": {
       "model_id": "38aea52c9ebc4d40bfb94cf7869882ef",
       "version_major": 2,
       "version_minor": 0
      },
      "text/plain": [
       "Output()"
      ]
     },
     "metadata": {},
     "output_type": "display_data"
    },
    {
     "data": {
      "text/html": [
       "<pre style=\"white-space:pre;overflow-x:auto;line-height:normal;font-family:Menlo,'DejaVu Sans Mono',consolas,'Courier New',monospace\"></pre>\n"
      ],
      "text/plain": []
     },
     "metadata": {},
     "output_type": "display_data"
    },
    {
     "data": {
      "text/html": [
       "<pre style=\"white-space:pre;overflow-x:auto;line-height:normal;font-family:Menlo,'DejaVu Sans Mono',consolas,'Courier New',monospace\">\n",
       "</pre>\n"
      ],
      "text/plain": [
       "\n"
      ]
     },
     "metadata": {},
     "output_type": "display_data"
    },
    {
     "data": {
      "application/vnd.jupyter.widget-view+json": {
       "model_id": "026ed11ce7b44a39af4fb908b5e536b6",
       "version_major": 2,
       "version_minor": 0
      },
      "text/plain": [
       "Output()"
      ]
     },
     "metadata": {},
     "output_type": "display_data"
    },
    {
     "data": {
      "text/html": [
       "<pre style=\"white-space:pre;overflow-x:auto;line-height:normal;font-family:Menlo,'DejaVu Sans Mono',consolas,'Courier New',monospace\"></pre>\n"
      ],
      "text/plain": []
     },
     "metadata": {},
     "output_type": "display_data"
    },
    {
     "data": {
      "text/html": [
       "<pre style=\"white-space:pre;overflow-x:auto;line-height:normal;font-family:Menlo,'DejaVu Sans Mono',consolas,'Courier New',monospace\">\n",
       "</pre>\n"
      ],
      "text/plain": [
       "\n"
      ]
     },
     "metadata": {},
     "output_type": "display_data"
    },
    {
     "data": {
      "application/vnd.jupyter.widget-view+json": {
       "model_id": "6760d5b148154d7283ccb3a3deb7c2ce",
       "version_major": 2,
       "version_minor": 0
      },
      "text/plain": [
       "Output()"
      ]
     },
     "metadata": {},
     "output_type": "display_data"
    },
    {
     "data": {
      "text/html": [
       "<pre style=\"white-space:pre;overflow-x:auto;line-height:normal;font-family:Menlo,'DejaVu Sans Mono',consolas,'Courier New',monospace\"></pre>\n"
      ],
      "text/plain": []
     },
     "metadata": {},
     "output_type": "display_data"
    },
    {
     "data": {
      "text/html": [
       "<pre style=\"white-space:pre;overflow-x:auto;line-height:normal;font-family:Menlo,'DejaVu Sans Mono',consolas,'Courier New',monospace\">\n",
       "</pre>\n"
      ],
      "text/plain": [
       "\n"
      ]
     },
     "metadata": {},
     "output_type": "display_data"
    },
    {
     "data": {
      "application/vnd.jupyter.widget-view+json": {
       "model_id": "19b6f80798ec46d5b8c66b95a2e8e495",
       "version_major": 2,
       "version_minor": 0
      },
      "text/plain": [
       "Output()"
      ]
     },
     "metadata": {},
     "output_type": "display_data"
    },
    {
     "data": {
      "text/html": [
       "<pre style=\"white-space:pre;overflow-x:auto;line-height:normal;font-family:Menlo,'DejaVu Sans Mono',consolas,'Courier New',monospace\"></pre>\n"
      ],
      "text/plain": []
     },
     "metadata": {},
     "output_type": "display_data"
    },
    {
     "data": {
      "text/html": [
       "<pre style=\"white-space:pre;overflow-x:auto;line-height:normal;font-family:Menlo,'DejaVu Sans Mono',consolas,'Courier New',monospace\">\n",
       "</pre>\n"
      ],
      "text/plain": [
       "\n"
      ]
     },
     "metadata": {},
     "output_type": "display_data"
    },
    {
     "data": {
      "application/vnd.jupyter.widget-view+json": {
       "model_id": "821289eb564d44ef8a43904298db57c7",
       "version_major": 2,
       "version_minor": 0
      },
      "text/plain": [
       "Output()"
      ]
     },
     "metadata": {},
     "output_type": "display_data"
    },
    {
     "data": {
      "text/html": [
       "<pre style=\"white-space:pre;overflow-x:auto;line-height:normal;font-family:Menlo,'DejaVu Sans Mono',consolas,'Courier New',monospace\"></pre>\n"
      ],
      "text/plain": []
     },
     "metadata": {},
     "output_type": "display_data"
    },
    {
     "data": {
      "text/html": [
       "<pre style=\"white-space:pre;overflow-x:auto;line-height:normal;font-family:Menlo,'DejaVu Sans Mono',consolas,'Courier New',monospace\">\n",
       "</pre>\n"
      ],
      "text/plain": [
       "\n"
      ]
     },
     "metadata": {},
     "output_type": "display_data"
    },
    {
     "data": {
      "application/vnd.jupyter.widget-view+json": {
       "model_id": "17f112e4716f45c0b65e0e7b6966f988",
       "version_major": 2,
       "version_minor": 0
      },
      "text/plain": [
       "Output()"
      ]
     },
     "metadata": {},
     "output_type": "display_data"
    },
    {
     "data": {
      "text/html": [
       "<pre style=\"white-space:pre;overflow-x:auto;line-height:normal;font-family:Menlo,'DejaVu Sans Mono',consolas,'Courier New',monospace\"></pre>\n"
      ],
      "text/plain": []
     },
     "metadata": {},
     "output_type": "display_data"
    },
    {
     "data": {
      "text/html": [
       "<pre style=\"white-space:pre;overflow-x:auto;line-height:normal;font-family:Menlo,'DejaVu Sans Mono',consolas,'Courier New',monospace\">\n",
       "</pre>\n"
      ],
      "text/plain": [
       "\n"
      ]
     },
     "metadata": {},
     "output_type": "display_data"
    },
    {
     "data": {
      "application/vnd.jupyter.widget-view+json": {
       "model_id": "27e8a54ef1fc4c39b20fd3f246b6786f",
       "version_major": 2,
       "version_minor": 0
      },
      "text/plain": [
       "Output()"
      ]
     },
     "metadata": {},
     "output_type": "display_data"
    },
    {
     "data": {
      "text/html": [
       "<pre style=\"white-space:pre;overflow-x:auto;line-height:normal;font-family:Menlo,'DejaVu Sans Mono',consolas,'Courier New',monospace\"></pre>\n"
      ],
      "text/plain": []
     },
     "metadata": {},
     "output_type": "display_data"
    },
    {
     "data": {
      "text/html": [
       "<pre style=\"white-space:pre;overflow-x:auto;line-height:normal;font-family:Menlo,'DejaVu Sans Mono',consolas,'Courier New',monospace\">\n",
       "</pre>\n"
      ],
      "text/plain": [
       "\n"
      ]
     },
     "metadata": {},
     "output_type": "display_data"
    },
    {
     "data": {
      "application/vnd.jupyter.widget-view+json": {
       "model_id": "751777a22b5345d999e7b8e7d8958bce",
       "version_major": 2,
       "version_minor": 0
      },
      "text/plain": [
       "Output()"
      ]
     },
     "metadata": {},
     "output_type": "display_data"
    },
    {
     "data": {
      "text/html": [
       "<pre style=\"white-space:pre;overflow-x:auto;line-height:normal;font-family:Menlo,'DejaVu Sans Mono',consolas,'Courier New',monospace\"></pre>\n"
      ],
      "text/plain": []
     },
     "metadata": {},
     "output_type": "display_data"
    },
    {
     "data": {
      "text/html": [
       "<pre style=\"white-space:pre;overflow-x:auto;line-height:normal;font-family:Menlo,'DejaVu Sans Mono',consolas,'Courier New',monospace\">\n",
       "</pre>\n"
      ],
      "text/plain": [
       "\n"
      ]
     },
     "metadata": {},
     "output_type": "display_data"
    },
    {
     "data": {
      "application/vnd.jupyter.widget-view+json": {
       "model_id": "a66aac0f87da40089286b83634feef96",
       "version_major": 2,
       "version_minor": 0
      },
      "text/plain": [
       "Output()"
      ]
     },
     "metadata": {},
     "output_type": "display_data"
    },
    {
     "data": {
      "text/html": [
       "<pre style=\"white-space:pre;overflow-x:auto;line-height:normal;font-family:Menlo,'DejaVu Sans Mono',consolas,'Courier New',monospace\"></pre>\n"
      ],
      "text/plain": []
     },
     "metadata": {},
     "output_type": "display_data"
    },
    {
     "data": {
      "text/html": [
       "<pre style=\"white-space:pre;overflow-x:auto;line-height:normal;font-family:Menlo,'DejaVu Sans Mono',consolas,'Courier New',monospace\">\n",
       "</pre>\n"
      ],
      "text/plain": [
       "\n"
      ]
     },
     "metadata": {},
     "output_type": "display_data"
    },
    {
     "data": {
      "application/vnd.jupyter.widget-view+json": {
       "model_id": "d948305e5bcc4680a3703b44e5cd2887",
       "version_major": 2,
       "version_minor": 0
      },
      "text/plain": [
       "Output()"
      ]
     },
     "metadata": {},
     "output_type": "display_data"
    },
    {
     "data": {
      "text/html": [
       "<pre style=\"white-space:pre;overflow-x:auto;line-height:normal;font-family:Menlo,'DejaVu Sans Mono',consolas,'Courier New',monospace\"></pre>\n"
      ],
      "text/plain": []
     },
     "metadata": {},
     "output_type": "display_data"
    },
    {
     "data": {
      "text/html": [
       "<pre style=\"white-space:pre;overflow-x:auto;line-height:normal;font-family:Menlo,'DejaVu Sans Mono',consolas,'Courier New',monospace\">\n",
       "</pre>\n"
      ],
      "text/plain": [
       "\n"
      ]
     },
     "metadata": {},
     "output_type": "display_data"
    },
    {
     "data": {
      "application/vnd.jupyter.widget-view+json": {
       "model_id": "3f622c5ea4854051b0c8549382ff5818",
       "version_major": 2,
       "version_minor": 0
      },
      "text/plain": [
       "Output()"
      ]
     },
     "metadata": {},
     "output_type": "display_data"
    },
    {
     "data": {
      "text/html": [
       "<pre style=\"white-space:pre;overflow-x:auto;line-height:normal;font-family:Menlo,'DejaVu Sans Mono',consolas,'Courier New',monospace\"></pre>\n"
      ],
      "text/plain": []
     },
     "metadata": {},
     "output_type": "display_data"
    },
    {
     "data": {
      "text/html": [
       "<pre style=\"white-space:pre;overflow-x:auto;line-height:normal;font-family:Menlo,'DejaVu Sans Mono',consolas,'Courier New',monospace\">\n",
       "</pre>\n"
      ],
      "text/plain": [
       "\n"
      ]
     },
     "metadata": {},
     "output_type": "display_data"
    },
    {
     "data": {
      "application/vnd.jupyter.widget-view+json": {
       "model_id": "28b064ad41d6484abf1fb06343f78ea6",
       "version_major": 2,
       "version_minor": 0
      },
      "text/plain": [
       "Output()"
      ]
     },
     "metadata": {},
     "output_type": "display_data"
    },
    {
     "data": {
      "text/html": [
       "<pre style=\"white-space:pre;overflow-x:auto;line-height:normal;font-family:Menlo,'DejaVu Sans Mono',consolas,'Courier New',monospace\"></pre>\n"
      ],
      "text/plain": []
     },
     "metadata": {},
     "output_type": "display_data"
    },
    {
     "data": {
      "text/html": [
       "<pre style=\"white-space:pre;overflow-x:auto;line-height:normal;font-family:Menlo,'DejaVu Sans Mono',consolas,'Courier New',monospace\">\n",
       "</pre>\n"
      ],
      "text/plain": [
       "\n"
      ]
     },
     "metadata": {},
     "output_type": "display_data"
    },
    {
     "data": {
      "application/vnd.jupyter.widget-view+json": {
       "model_id": "d54afd8c4041418e80d87763d63a086f",
       "version_major": 2,
       "version_minor": 0
      },
      "text/plain": [
       "Output()"
      ]
     },
     "metadata": {},
     "output_type": "display_data"
    },
    {
     "data": {
      "text/html": [
       "<pre style=\"white-space:pre;overflow-x:auto;line-height:normal;font-family:Menlo,'DejaVu Sans Mono',consolas,'Courier New',monospace\"></pre>\n"
      ],
      "text/plain": []
     },
     "metadata": {},
     "output_type": "display_data"
    },
    {
     "data": {
      "text/html": [
       "<pre style=\"white-space:pre;overflow-x:auto;line-height:normal;font-family:Menlo,'DejaVu Sans Mono',consolas,'Courier New',monospace\">\n",
       "</pre>\n"
      ],
      "text/plain": [
       "\n"
      ]
     },
     "metadata": {},
     "output_type": "display_data"
    },
    {
     "data": {
      "application/vnd.jupyter.widget-view+json": {
       "model_id": "8f9417fa715b45fa8759458e94f7ddab",
       "version_major": 2,
       "version_minor": 0
      },
      "text/plain": [
       "Output()"
      ]
     },
     "metadata": {},
     "output_type": "display_data"
    },
    {
     "data": {
      "text/html": [
       "<pre style=\"white-space:pre;overflow-x:auto;line-height:normal;font-family:Menlo,'DejaVu Sans Mono',consolas,'Courier New',monospace\"></pre>\n"
      ],
      "text/plain": []
     },
     "metadata": {},
     "output_type": "display_data"
    },
    {
     "data": {
      "text/html": [
       "<pre style=\"white-space:pre;overflow-x:auto;line-height:normal;font-family:Menlo,'DejaVu Sans Mono',consolas,'Courier New',monospace\">\n",
       "</pre>\n"
      ],
      "text/plain": [
       "\n"
      ]
     },
     "metadata": {},
     "output_type": "display_data"
    },
    {
     "data": {
      "application/vnd.jupyter.widget-view+json": {
       "model_id": "ae54cb6a78114ac4b91e15016a1760fd",
       "version_major": 2,
       "version_minor": 0
      },
      "text/plain": [
       "Output()"
      ]
     },
     "metadata": {},
     "output_type": "display_data"
    },
    {
     "data": {
      "text/html": [
       "<pre style=\"white-space:pre;overflow-x:auto;line-height:normal;font-family:Menlo,'DejaVu Sans Mono',consolas,'Courier New',monospace\"></pre>\n"
      ],
      "text/plain": []
     },
     "metadata": {},
     "output_type": "display_data"
    },
    {
     "data": {
      "text/html": [
       "<pre style=\"white-space:pre;overflow-x:auto;line-height:normal;font-family:Menlo,'DejaVu Sans Mono',consolas,'Courier New',monospace\">\n",
       "</pre>\n"
      ],
      "text/plain": [
       "\n"
      ]
     },
     "metadata": {},
     "output_type": "display_data"
    },
    {
     "data": {
      "application/vnd.jupyter.widget-view+json": {
       "model_id": "82f1150abaf345c9a761ae0ba29a385e",
       "version_major": 2,
       "version_minor": 0
      },
      "text/plain": [
       "Output()"
      ]
     },
     "metadata": {},
     "output_type": "display_data"
    },
    {
     "data": {
      "text/html": [
       "<pre style=\"white-space:pre;overflow-x:auto;line-height:normal;font-family:Menlo,'DejaVu Sans Mono',consolas,'Courier New',monospace\"></pre>\n"
      ],
      "text/plain": []
     },
     "metadata": {},
     "output_type": "display_data"
    },
    {
     "data": {
      "text/html": [
       "<pre style=\"white-space:pre;overflow-x:auto;line-height:normal;font-family:Menlo,'DejaVu Sans Mono',consolas,'Courier New',monospace\">\n",
       "</pre>\n"
      ],
      "text/plain": [
       "\n"
      ]
     },
     "metadata": {},
     "output_type": "display_data"
    },
    {
     "data": {
      "application/vnd.jupyter.widget-view+json": {
       "model_id": "e2027f23007d45b8b0b509a56efe7de3",
       "version_major": 2,
       "version_minor": 0
      },
      "text/plain": [
       "Output()"
      ]
     },
     "metadata": {},
     "output_type": "display_data"
    },
    {
     "data": {
      "text/html": [
       "<pre style=\"white-space:pre;overflow-x:auto;line-height:normal;font-family:Menlo,'DejaVu Sans Mono',consolas,'Courier New',monospace\"></pre>\n"
      ],
      "text/plain": []
     },
     "metadata": {},
     "output_type": "display_data"
    },
    {
     "data": {
      "text/html": [
       "<pre style=\"white-space:pre;overflow-x:auto;line-height:normal;font-family:Menlo,'DejaVu Sans Mono',consolas,'Courier New',monospace\">\n",
       "</pre>\n"
      ],
      "text/plain": [
       "\n"
      ]
     },
     "metadata": {},
     "output_type": "display_data"
    },
    {
     "data": {
      "application/vnd.jupyter.widget-view+json": {
       "model_id": "4eb77d2c48da409a857430a82648b1fc",
       "version_major": 2,
       "version_minor": 0
      },
      "text/plain": [
       "Output()"
      ]
     },
     "metadata": {},
     "output_type": "display_data"
    },
    {
     "data": {
      "text/html": [
       "<pre style=\"white-space:pre;overflow-x:auto;line-height:normal;font-family:Menlo,'DejaVu Sans Mono',consolas,'Courier New',monospace\"></pre>\n"
      ],
      "text/plain": []
     },
     "metadata": {},
     "output_type": "display_data"
    },
    {
     "data": {
      "text/html": [
       "<pre style=\"white-space:pre;overflow-x:auto;line-height:normal;font-family:Menlo,'DejaVu Sans Mono',consolas,'Courier New',monospace\">\n",
       "</pre>\n"
      ],
      "text/plain": [
       "\n"
      ]
     },
     "metadata": {},
     "output_type": "display_data"
    },
    {
     "data": {
      "application/vnd.jupyter.widget-view+json": {
       "model_id": "9d529746c568473fb4b1babef4c14c55",
       "version_major": 2,
       "version_minor": 0
      },
      "text/plain": [
       "Output()"
      ]
     },
     "metadata": {},
     "output_type": "display_data"
    },
    {
     "data": {
      "text/html": [
       "<pre style=\"white-space:pre;overflow-x:auto;line-height:normal;font-family:Menlo,'DejaVu Sans Mono',consolas,'Courier New',monospace\"></pre>\n"
      ],
      "text/plain": []
     },
     "metadata": {},
     "output_type": "display_data"
    },
    {
     "data": {
      "text/html": [
       "<pre style=\"white-space:pre;overflow-x:auto;line-height:normal;font-family:Menlo,'DejaVu Sans Mono',consolas,'Courier New',monospace\">\n",
       "</pre>\n"
      ],
      "text/plain": [
       "\n"
      ]
     },
     "metadata": {},
     "output_type": "display_data"
    },
    {
     "data": {
      "application/vnd.jupyter.widget-view+json": {
       "model_id": "22e3eed3695249a3a30023b1a38bbc9e",
       "version_major": 2,
       "version_minor": 0
      },
      "text/plain": [
       "Output()"
      ]
     },
     "metadata": {},
     "output_type": "display_data"
    },
    {
     "data": {
      "text/html": [
       "<pre style=\"white-space:pre;overflow-x:auto;line-height:normal;font-family:Menlo,'DejaVu Sans Mono',consolas,'Courier New',monospace\"></pre>\n"
      ],
      "text/plain": []
     },
     "metadata": {},
     "output_type": "display_data"
    },
    {
     "data": {
      "text/html": [
       "<pre style=\"white-space:pre;overflow-x:auto;line-height:normal;font-family:Menlo,'DejaVu Sans Mono',consolas,'Courier New',monospace\">\n",
       "</pre>\n"
      ],
      "text/plain": [
       "\n"
      ]
     },
     "metadata": {},
     "output_type": "display_data"
    },
    {
     "data": {
      "application/vnd.jupyter.widget-view+json": {
       "model_id": "c1d251c48e74411fac6fbb77afdbf29e",
       "version_major": 2,
       "version_minor": 0
      },
      "text/plain": [
       "Output()"
      ]
     },
     "metadata": {},
     "output_type": "display_data"
    },
    {
     "data": {
      "text/html": [
       "<pre style=\"white-space:pre;overflow-x:auto;line-height:normal;font-family:Menlo,'DejaVu Sans Mono',consolas,'Courier New',monospace\"></pre>\n"
      ],
      "text/plain": []
     },
     "metadata": {},
     "output_type": "display_data"
    },
    {
     "data": {
      "text/html": [
       "<pre style=\"white-space:pre;overflow-x:auto;line-height:normal;font-family:Menlo,'DejaVu Sans Mono',consolas,'Courier New',monospace\">\n",
       "</pre>\n"
      ],
      "text/plain": [
       "\n"
      ]
     },
     "metadata": {},
     "output_type": "display_data"
    },
    {
     "data": {
      "application/vnd.jupyter.widget-view+json": {
       "model_id": "67bfcd18333f43db97479b4574bdfe4a",
       "version_major": 2,
       "version_minor": 0
      },
      "text/plain": [
       "Output()"
      ]
     },
     "metadata": {},
     "output_type": "display_data"
    },
    {
     "data": {
      "text/html": [
       "<pre style=\"white-space:pre;overflow-x:auto;line-height:normal;font-family:Menlo,'DejaVu Sans Mono',consolas,'Courier New',monospace\"></pre>\n"
      ],
      "text/plain": []
     },
     "metadata": {},
     "output_type": "display_data"
    },
    {
     "data": {
      "text/html": [
       "<pre style=\"white-space:pre;overflow-x:auto;line-height:normal;font-family:Menlo,'DejaVu Sans Mono',consolas,'Courier New',monospace\">\n",
       "</pre>\n"
      ],
      "text/plain": [
       "\n"
      ]
     },
     "metadata": {},
     "output_type": "display_data"
    },
    {
     "data": {
      "application/vnd.jupyter.widget-view+json": {
       "model_id": "1d7867ebf38941c39f530c0da5bfd283",
       "version_major": 2,
       "version_minor": 0
      },
      "text/plain": [
       "Output()"
      ]
     },
     "metadata": {},
     "output_type": "display_data"
    },
    {
     "data": {
      "text/html": [
       "<pre style=\"white-space:pre;overflow-x:auto;line-height:normal;font-family:Menlo,'DejaVu Sans Mono',consolas,'Courier New',monospace\"></pre>\n"
      ],
      "text/plain": []
     },
     "metadata": {},
     "output_type": "display_data"
    },
    {
     "data": {
      "text/html": [
       "<pre style=\"white-space:pre;overflow-x:auto;line-height:normal;font-family:Menlo,'DejaVu Sans Mono',consolas,'Courier New',monospace\">\n",
       "</pre>\n"
      ],
      "text/plain": [
       "\n"
      ]
     },
     "metadata": {},
     "output_type": "display_data"
    },
    {
     "data": {
      "application/vnd.jupyter.widget-view+json": {
       "model_id": "6f1c3b0eb0844e3a95c4c157239caea6",
       "version_major": 2,
       "version_minor": 0
      },
      "text/plain": [
       "Output()"
      ]
     },
     "metadata": {},
     "output_type": "display_data"
    },
    {
     "data": {
      "text/html": [
       "<pre style=\"white-space:pre;overflow-x:auto;line-height:normal;font-family:Menlo,'DejaVu Sans Mono',consolas,'Courier New',monospace\"></pre>\n"
      ],
      "text/plain": []
     },
     "metadata": {},
     "output_type": "display_data"
    },
    {
     "data": {
      "text/html": [
       "<pre style=\"white-space:pre;overflow-x:auto;line-height:normal;font-family:Menlo,'DejaVu Sans Mono',consolas,'Courier New',monospace\">\n",
       "</pre>\n"
      ],
      "text/plain": [
       "\n"
      ]
     },
     "metadata": {},
     "output_type": "display_data"
    },
    {
     "data": {
      "application/vnd.jupyter.widget-view+json": {
       "model_id": "14007bfc61b4452c9018764ebe4bcaaf",
       "version_major": 2,
       "version_minor": 0
      },
      "text/plain": [
       "Output()"
      ]
     },
     "metadata": {},
     "output_type": "display_data"
    },
    {
     "data": {
      "text/html": [
       "<pre style=\"white-space:pre;overflow-x:auto;line-height:normal;font-family:Menlo,'DejaVu Sans Mono',consolas,'Courier New',monospace\"></pre>\n"
      ],
      "text/plain": []
     },
     "metadata": {},
     "output_type": "display_data"
    },
    {
     "data": {
      "text/html": [
       "<pre style=\"white-space:pre;overflow-x:auto;line-height:normal;font-family:Menlo,'DejaVu Sans Mono',consolas,'Courier New',monospace\">\n",
       "</pre>\n"
      ],
      "text/plain": [
       "\n"
      ]
     },
     "metadata": {},
     "output_type": "display_data"
    },
    {
     "data": {
      "application/vnd.jupyter.widget-view+json": {
       "model_id": "fd6ab9e5d67d45169fa934a16b8d0d8f",
       "version_major": 2,
       "version_minor": 0
      },
      "text/plain": [
       "Output()"
      ]
     },
     "metadata": {},
     "output_type": "display_data"
    },
    {
     "data": {
      "text/html": [
       "<pre style=\"white-space:pre;overflow-x:auto;line-height:normal;font-family:Menlo,'DejaVu Sans Mono',consolas,'Courier New',monospace\"></pre>\n"
      ],
      "text/plain": []
     },
     "metadata": {},
     "output_type": "display_data"
    },
    {
     "data": {
      "text/html": [
       "<pre style=\"white-space:pre;overflow-x:auto;line-height:normal;font-family:Menlo,'DejaVu Sans Mono',consolas,'Courier New',monospace\">\n",
       "</pre>\n"
      ],
      "text/plain": [
       "\n"
      ]
     },
     "metadata": {},
     "output_type": "display_data"
    },
    {
     "data": {
      "application/vnd.jupyter.widget-view+json": {
       "model_id": "6422c7601c1c4fb588b3e1f61e9bb803",
       "version_major": 2,
       "version_minor": 0
      },
      "text/plain": [
       "Output()"
      ]
     },
     "metadata": {},
     "output_type": "display_data"
    },
    {
     "data": {
      "text/html": [
       "<pre style=\"white-space:pre;overflow-x:auto;line-height:normal;font-family:Menlo,'DejaVu Sans Mono',consolas,'Courier New',monospace\"></pre>\n"
      ],
      "text/plain": []
     },
     "metadata": {},
     "output_type": "display_data"
    },
    {
     "data": {
      "text/html": [
       "<pre style=\"white-space:pre;overflow-x:auto;line-height:normal;font-family:Menlo,'DejaVu Sans Mono',consolas,'Courier New',monospace\">\n",
       "</pre>\n"
      ],
      "text/plain": [
       "\n"
      ]
     },
     "metadata": {},
     "output_type": "display_data"
    },
    {
     "data": {
      "application/vnd.jupyter.widget-view+json": {
       "model_id": "c46f95bdbccb4692bebe889edb20060d",
       "version_major": 2,
       "version_minor": 0
      },
      "text/plain": [
       "Output()"
      ]
     },
     "metadata": {},
     "output_type": "display_data"
    },
    {
     "data": {
      "text/html": [
       "<pre style=\"white-space:pre;overflow-x:auto;line-height:normal;font-family:Menlo,'DejaVu Sans Mono',consolas,'Courier New',monospace\"></pre>\n"
      ],
      "text/plain": []
     },
     "metadata": {},
     "output_type": "display_data"
    },
    {
     "data": {
      "text/html": [
       "<pre style=\"white-space:pre;overflow-x:auto;line-height:normal;font-family:Menlo,'DejaVu Sans Mono',consolas,'Courier New',monospace\">\n",
       "</pre>\n"
      ],
      "text/plain": [
       "\n"
      ]
     },
     "metadata": {},
     "output_type": "display_data"
    },
    {
     "data": {
      "application/vnd.jupyter.widget-view+json": {
       "model_id": "f0b7130487514c25bb8f79b5ad2eac7b",
       "version_major": 2,
       "version_minor": 0
      },
      "text/plain": [
       "Output()"
      ]
     },
     "metadata": {},
     "output_type": "display_data"
    },
    {
     "data": {
      "text/html": [
       "<pre style=\"white-space:pre;overflow-x:auto;line-height:normal;font-family:Menlo,'DejaVu Sans Mono',consolas,'Courier New',monospace\"></pre>\n"
      ],
      "text/plain": []
     },
     "metadata": {},
     "output_type": "display_data"
    },
    {
     "data": {
      "text/html": [
       "<pre style=\"white-space:pre;overflow-x:auto;line-height:normal;font-family:Menlo,'DejaVu Sans Mono',consolas,'Courier New',monospace\">\n",
       "</pre>\n"
      ],
      "text/plain": [
       "\n"
      ]
     },
     "metadata": {},
     "output_type": "display_data"
    },
    {
     "data": {
      "application/vnd.jupyter.widget-view+json": {
       "model_id": "4496f315d65440ce8adc35619e30ce8a",
       "version_major": 2,
       "version_minor": 0
      },
      "text/plain": [
       "Output()"
      ]
     },
     "metadata": {},
     "output_type": "display_data"
    },
    {
     "data": {
      "text/html": [
       "<pre style=\"white-space:pre;overflow-x:auto;line-height:normal;font-family:Menlo,'DejaVu Sans Mono',consolas,'Courier New',monospace\"></pre>\n"
      ],
      "text/plain": []
     },
     "metadata": {},
     "output_type": "display_data"
    },
    {
     "data": {
      "text/html": [
       "<pre style=\"white-space:pre;overflow-x:auto;line-height:normal;font-family:Menlo,'DejaVu Sans Mono',consolas,'Courier New',monospace\">\n",
       "</pre>\n"
      ],
      "text/plain": [
       "\n"
      ]
     },
     "metadata": {},
     "output_type": "display_data"
    },
    {
     "data": {
      "application/vnd.jupyter.widget-view+json": {
       "model_id": "97e5aa28a2ce4e468409c5938424bf8f",
       "version_major": 2,
       "version_minor": 0
      },
      "text/plain": [
       "Output()"
      ]
     },
     "metadata": {},
     "output_type": "display_data"
    },
    {
     "data": {
      "text/html": [
       "<pre style=\"white-space:pre;overflow-x:auto;line-height:normal;font-family:Menlo,'DejaVu Sans Mono',consolas,'Courier New',monospace\"></pre>\n"
      ],
      "text/plain": []
     },
     "metadata": {},
     "output_type": "display_data"
    },
    {
     "data": {
      "text/html": [
       "<pre style=\"white-space:pre;overflow-x:auto;line-height:normal;font-family:Menlo,'DejaVu Sans Mono',consolas,'Courier New',monospace\">\n",
       "</pre>\n"
      ],
      "text/plain": [
       "\n"
      ]
     },
     "metadata": {},
     "output_type": "display_data"
    },
    {
     "data": {
      "application/vnd.jupyter.widget-view+json": {
       "model_id": "e5c5781ff5c8494ebb63bd2a097ba3c2",
       "version_major": 2,
       "version_minor": 0
      },
      "text/plain": [
       "Output()"
      ]
     },
     "metadata": {},
     "output_type": "display_data"
    },
    {
     "data": {
      "text/html": [
       "<pre style=\"white-space:pre;overflow-x:auto;line-height:normal;font-family:Menlo,'DejaVu Sans Mono',consolas,'Courier New',monospace\"></pre>\n"
      ],
      "text/plain": []
     },
     "metadata": {},
     "output_type": "display_data"
    },
    {
     "data": {
      "text/html": [
       "<pre style=\"white-space:pre;overflow-x:auto;line-height:normal;font-family:Menlo,'DejaVu Sans Mono',consolas,'Courier New',monospace\">\n",
       "</pre>\n"
      ],
      "text/plain": [
       "\n"
      ]
     },
     "metadata": {},
     "output_type": "display_data"
    },
    {
     "data": {
      "application/vnd.jupyter.widget-view+json": {
       "model_id": "15377a63a3f54db99ecaee0c66be78e5",
       "version_major": 2,
       "version_minor": 0
      },
      "text/plain": [
       "Output()"
      ]
     },
     "metadata": {},
     "output_type": "display_data"
    },
    {
     "data": {
      "text/html": [
       "<pre style=\"white-space:pre;overflow-x:auto;line-height:normal;font-family:Menlo,'DejaVu Sans Mono',consolas,'Courier New',monospace\"></pre>\n"
      ],
      "text/plain": []
     },
     "metadata": {},
     "output_type": "display_data"
    },
    {
     "data": {
      "text/html": [
       "<pre style=\"white-space:pre;overflow-x:auto;line-height:normal;font-family:Menlo,'DejaVu Sans Mono',consolas,'Courier New',monospace\">\n",
       "</pre>\n"
      ],
      "text/plain": [
       "\n"
      ]
     },
     "metadata": {},
     "output_type": "display_data"
    },
    {
     "data": {
      "application/vnd.jupyter.widget-view+json": {
       "model_id": "5a0715dc57054a41b38849a6c89c3022",
       "version_major": 2,
       "version_minor": 0
      },
      "text/plain": [
       "Output()"
      ]
     },
     "metadata": {},
     "output_type": "display_data"
    },
    {
     "data": {
      "text/html": [
       "<pre style=\"white-space:pre;overflow-x:auto;line-height:normal;font-family:Menlo,'DejaVu Sans Mono',consolas,'Courier New',monospace\"></pre>\n"
      ],
      "text/plain": []
     },
     "metadata": {},
     "output_type": "display_data"
    },
    {
     "data": {
      "text/html": [
       "<pre style=\"white-space:pre;overflow-x:auto;line-height:normal;font-family:Menlo,'DejaVu Sans Mono',consolas,'Courier New',monospace\">\n",
       "</pre>\n"
      ],
      "text/plain": [
       "\n"
      ]
     },
     "metadata": {},
     "output_type": "display_data"
    },
    {
     "data": {
      "application/vnd.jupyter.widget-view+json": {
       "model_id": "f608badaf4a848638d06c0aeb817e985",
       "version_major": 2,
       "version_minor": 0
      },
      "text/plain": [
       "Output()"
      ]
     },
     "metadata": {},
     "output_type": "display_data"
    },
    {
     "data": {
      "text/html": [
       "<pre style=\"white-space:pre;overflow-x:auto;line-height:normal;font-family:Menlo,'DejaVu Sans Mono',consolas,'Courier New',monospace\"></pre>\n"
      ],
      "text/plain": []
     },
     "metadata": {},
     "output_type": "display_data"
    },
    {
     "data": {
      "text/html": [
       "<pre style=\"white-space:pre;overflow-x:auto;line-height:normal;font-family:Menlo,'DejaVu Sans Mono',consolas,'Courier New',monospace\">\n",
       "</pre>\n"
      ],
      "text/plain": [
       "\n"
      ]
     },
     "metadata": {},
     "output_type": "display_data"
    },
    {
     "data": {
      "application/vnd.jupyter.widget-view+json": {
       "model_id": "a675e8e10bde4ca791d7c493359cd817",
       "version_major": 2,
       "version_minor": 0
      },
      "text/plain": [
       "Output()"
      ]
     },
     "metadata": {},
     "output_type": "display_data"
    },
    {
     "data": {
      "text/html": [
       "<pre style=\"white-space:pre;overflow-x:auto;line-height:normal;font-family:Menlo,'DejaVu Sans Mono',consolas,'Courier New',monospace\"></pre>\n"
      ],
      "text/plain": []
     },
     "metadata": {},
     "output_type": "display_data"
    },
    {
     "data": {
      "text/html": [
       "<pre style=\"white-space:pre;overflow-x:auto;line-height:normal;font-family:Menlo,'DejaVu Sans Mono',consolas,'Courier New',monospace\">\n",
       "</pre>\n"
      ],
      "text/plain": [
       "\n"
      ]
     },
     "metadata": {},
     "output_type": "display_data"
    },
    {
     "data": {
      "application/vnd.jupyter.widget-view+json": {
       "model_id": "20da0c39ada44973a5b5a01c902f77a2",
       "version_major": 2,
       "version_minor": 0
      },
      "text/plain": [
       "Output()"
      ]
     },
     "metadata": {},
     "output_type": "display_data"
    },
    {
     "data": {
      "text/html": [
       "<pre style=\"white-space:pre;overflow-x:auto;line-height:normal;font-family:Menlo,'DejaVu Sans Mono',consolas,'Courier New',monospace\"></pre>\n"
      ],
      "text/plain": []
     },
     "metadata": {},
     "output_type": "display_data"
    },
    {
     "data": {
      "text/html": [
       "<pre style=\"white-space:pre;overflow-x:auto;line-height:normal;font-family:Menlo,'DejaVu Sans Mono',consolas,'Courier New',monospace\">\n",
       "</pre>\n"
      ],
      "text/plain": [
       "\n"
      ]
     },
     "metadata": {},
     "output_type": "display_data"
    },
    {
     "data": {
      "application/vnd.jupyter.widget-view+json": {
       "model_id": "8e91fa434267475491664c20ce1485e4",
       "version_major": 2,
       "version_minor": 0
      },
      "text/plain": [
       "Output()"
      ]
     },
     "metadata": {},
     "output_type": "display_data"
    },
    {
     "data": {
      "text/html": [
       "<pre style=\"white-space:pre;overflow-x:auto;line-height:normal;font-family:Menlo,'DejaVu Sans Mono',consolas,'Courier New',monospace\"></pre>\n"
      ],
      "text/plain": []
     },
     "metadata": {},
     "output_type": "display_data"
    },
    {
     "data": {
      "text/html": [
       "<pre style=\"white-space:pre;overflow-x:auto;line-height:normal;font-family:Menlo,'DejaVu Sans Mono',consolas,'Courier New',monospace\">\n",
       "</pre>\n"
      ],
      "text/plain": [
       "\n"
      ]
     },
     "metadata": {},
     "output_type": "display_data"
    },
    {
     "data": {
      "application/vnd.jupyter.widget-view+json": {
       "model_id": "43a339077e8b48be86d559501c4ab9f6",
       "version_major": 2,
       "version_minor": 0
      },
      "text/plain": [
       "Output()"
      ]
     },
     "metadata": {},
     "output_type": "display_data"
    },
    {
     "data": {
      "text/html": [
       "<pre style=\"white-space:pre;overflow-x:auto;line-height:normal;font-family:Menlo,'DejaVu Sans Mono',consolas,'Courier New',monospace\"></pre>\n"
      ],
      "text/plain": []
     },
     "metadata": {},
     "output_type": "display_data"
    },
    {
     "data": {
      "text/html": [
       "<pre style=\"white-space:pre;overflow-x:auto;line-height:normal;font-family:Menlo,'DejaVu Sans Mono',consolas,'Courier New',monospace\">\n",
       "</pre>\n"
      ],
      "text/plain": [
       "\n"
      ]
     },
     "metadata": {},
     "output_type": "display_data"
    }
   ],
   "source": [
    "test = extract_keypoints_from_file('file://home/kristian/WLASL/videos_organized/address/01018.mp4')"
   ]
  },
  {
   "cell_type": "code",
   "execution_count": 15,
   "id": "0d7622c4",
   "metadata": {
    "ExecuteTime": {
     "end_time": "2023-08-01T12:24:00.918574Z",
     "start_time": "2023-08-01T12:24:00.913361Z"
    }
   },
   "outputs": [
    {
     "data": {
      "text/plain": [
       "array([[145.26875266,  60.99278628, 151.30330109, ..., 137.17439074,\n",
       "        128.94699093, 137.13755948],\n",
       "       [145.26162422,  60.96627289, 151.28605708, ..., 137.12123944,\n",
       "        128.97472634, 137.10335444],\n",
       "       [145.27739647,  60.94885185, 151.33680596, ..., 137.06588753,\n",
       "        128.9566501 , 137.04148222],\n",
       "       ...,\n",
       "       [145.55247309,  61.09031093, 151.57919221, ..., 126.46182372,\n",
       "        128.26117122, 126.49541992],\n",
       "       [145.45416385,  61.08875645, 151.54231091, ..., 126.49796351,\n",
       "        128.1493934 , 126.56870584],\n",
       "       [145.34800104,  61.19885649, 151.47126285, ..., 126.63654271,\n",
       "        128.21305425, 126.75583006]])"
      ]
     },
     "execution_count": 15,
     "metadata": {},
     "output_type": "execute_result"
    }
   ],
   "source": [
    "test"
   ]
  },
  {
   "cell_type": "code",
   "execution_count": 16,
   "id": "beec91e4",
   "metadata": {
    "ExecuteTime": {
     "end_time": "2023-08-01T12:24:02.921172Z",
     "start_time": "2023-08-01T12:24:02.917667Z"
    }
   },
   "outputs": [
    {
     "data": {
      "text/plain": [
       "(42, 266)"
      ]
     },
     "execution_count": 16,
     "metadata": {},
     "output_type": "execute_result"
    }
   ],
   "source": [
    "test.shape"
   ]
  },
  {
   "cell_type": "code",
   "execution_count": 17,
   "id": "7daab462",
   "metadata": {
    "ExecuteTime": {
     "end_time": "2023-08-01T12:24:20.768238Z",
     "start_time": "2023-08-01T12:24:07.217802Z"
    }
   },
   "outputs": [
    {
     "name": "stderr",
     "output_type": "stream",
     "text": [
      "                                                                                \r"
     ]
    }
   ],
   "source": [
    "video_df = spark.read.format(\"binaryFile\").option(\n",
    "    \"pathGlobFilter\", \"*.mp4\").load('file:///home/kristian/WLASL/videos_organized/*').orderBy(\"path\")"
   ]
  },
  {
   "cell_type": "code",
   "execution_count": 18,
   "id": "368e9b73",
   "metadata": {
    "ExecuteTime": {
     "end_time": "2023-08-01T12:24:36.506741Z",
     "start_time": "2023-08-01T12:24:36.428704Z"
    }
   },
   "outputs": [],
   "source": [
    "#create an index column for future join\n",
    "video_df = video_df.withColumn(\"columnindex\",\n",
    "                               row_number().over(Window().orderBy(\"path\")))"
   ]
  },
  {
   "cell_type": "code",
   "execution_count": 19,
   "id": "e56391c6",
   "metadata": {
    "ExecuteTime": {
     "end_time": "2023-08-01T12:24:39.558486Z",
     "start_time": "2023-08-01T12:24:39.545903Z"
    }
   },
   "outputs": [],
   "source": [
    "video_df = video_df.drop('length','modification')"
   ]
  },
  {
   "cell_type": "code",
   "execution_count": 20,
   "id": "0678b51b",
   "metadata": {
    "ExecuteTime": {
     "end_time": "2023-08-01T12:24:46.972495Z",
     "start_time": "2023-08-01T12:24:40.617766Z"
    }
   },
   "outputs": [
    {
     "name": "stderr",
     "output_type": "stream",
     "text": [
      "                                                                                \r"
     ]
    }
   ],
   "source": [
    "video_df2 = video_df.select(\"path\").collect()"
   ]
  },
  {
   "cell_type": "code",
   "execution_count": 21,
   "id": "f48999ce",
   "metadata": {
    "ExecuteTime": {
     "end_time": "2023-08-01T12:24:57.802412Z",
     "start_time": "2023-08-01T12:24:57.732480Z"
    }
   },
   "outputs": [],
   "source": [
    "#loop to get labels and filename per row\n",
    "i = 0\n",
    "target = []\n",
    "for row in video_df2:\n",
    "    subdirname = os.path.basename(os.path.dirname(video_df2[i][0]))\n",
    "    name = os.path.basename(video_df2[i][0]).split('/')[-1]\n",
    "    target.append([subdirname, name])\n",
    "    i = i + 1"
   ]
  },
  {
   "cell_type": "code",
   "execution_count": 22,
   "id": "36c8c5bb",
   "metadata": {
    "ExecuteTime": {
     "end_time": "2023-08-01T12:24:59.692693Z",
     "start_time": "2023-08-01T12:24:59.664021Z"
    }
   },
   "outputs": [
    {
     "data": {
      "text/plain": [
       "[['a lot', '02123.mp4'],\n",
       " ['a lot', '02124.mp4'],\n",
       " ['a lot', '02125.mp4'],\n",
       " ['a lot', '02126.mp4'],\n",
       " ['a lot', '02128.mp4'],\n",
       " ['a lot', '02129.mp4'],\n",
       " ['a lot', '02130.mp4'],\n",
       " ['a lot', '02131.mp4'],\n",
       " ['a', '00295.mp4'],\n",
       " ['a', '01610.mp4'],\n",
       " ['a', '01611.mp4'],\n",
       " ['a', '01612.mp4'],\n",
       " ['a', '01613.mp4'],\n",
       " ['a', '01614.mp4'],\n",
       " ['a', '01615.mp4'],\n",
       " ['abdomen', '00333.mp4'],\n",
       " ['abdomen', '00335.mp4'],\n",
       " ['abdomen', '00336.mp4'],\n",
       " ['abdomen', '00338.mp4'],\n",
       " ['abdomen', '00339.mp4'],\n",
       " ['abdomen', '00340.mp4'],\n",
       " ['abdomen', '00341.mp4'],\n",
       " ['able', '00374.mp4'],\n",
       " ['able', '00376.mp4'],\n",
       " ['able', '00377.mp4'],\n",
       " ['able', '00378.mp4'],\n",
       " ['able', '00381.mp4'],\n",
       " ['able', '00382.mp4'],\n",
       " ['able', '00383.mp4'],\n",
       " ['able', '00384.mp4'],\n",
       " ['about', '00412.mp4'],\n",
       " ['about', '00414.mp4'],\n",
       " ['about', '00415.mp4'],\n",
       " ['about', '00416.mp4'],\n",
       " ['about', '00421.mp4'],\n",
       " ['about', '00422.mp4'],\n",
       " ['about', '00423.mp4'],\n",
       " ['about', '00424.mp4'],\n",
       " ['about', '00425.mp4'],\n",
       " ['about', '00426.mp4'],\n",
       " ['above', '00429.mp4'],\n",
       " ['above', '00430.mp4'],\n",
       " ['above', '00431.mp4'],\n",
       " ['above', '00433.mp4'],\n",
       " ['above', '00434.mp4'],\n",
       " ['above', '00435.mp4'],\n",
       " ['above', '70167.mp4'],\n",
       " ['accent', '00581.mp4'],\n",
       " ['accent', '00583.mp4'],\n",
       " ['accent', '00584.mp4'],\n",
       " ['accent', '00585.mp4'],\n",
       " ['accent', '00586.mp4'],\n",
       " ['accept', '00588.mp4'],\n",
       " ['accept', '00592.mp4'],\n",
       " ['accept', '00593.mp4'],\n",
       " ['accept', '00594.mp4'],\n",
       " ['accept', '00597.mp4'],\n",
       " ['accept', '00599.mp4'],\n",
       " ['accept', '00600.mp4'],\n",
       " ['accept', '00601.mp4'],\n",
       " ['accept', '00602.mp4'],\n",
       " ['accept', '00603.mp4'],\n",
       " ['accept', '65007.mp4'],\n",
       " ['accident', '00618.mp4'],\n",
       " ['accident', '00623.mp4'],\n",
       " ['accident', '00624.mp4'],\n",
       " ['accident', '00625.mp4'],\n",
       " ['accident', '00626.mp4'],\n",
       " ['accident', '00627.mp4'],\n",
       " ['accident', '00628.mp4'],\n",
       " ['accident', '00629.mp4'],\n",
       " ['accident', '00631.mp4'],\n",
       " ['accident', '00632.mp4'],\n",
       " ['accident', '00633.mp4'],\n",
       " ['accident', '00634.mp4'],\n",
       " ['accident', '00635.mp4'],\n",
       " ['accident', '00636.mp4'],\n",
       " ['accident', '00638.mp4'],\n",
       " ['accident', '00639.mp4'],\n",
       " ['accident', '65009.mp4'],\n",
       " ['accomplish', '00662.mp4'],\n",
       " ['accomplish', '00663.mp4'],\n",
       " ['accomplish', '00664.mp4'],\n",
       " ['accomplish', '00666.mp4'],\n",
       " ['accomplish', '00667.mp4'],\n",
       " ['accomplish', '00668.mp4'],\n",
       " ['accountant', '00689.mp4'],\n",
       " ['accountant', '00690.mp4'],\n",
       " ['accountant', '00692.mp4'],\n",
       " ['accountant', '00693.mp4'],\n",
       " ['accountant', '00694.mp4'],\n",
       " ['accountant', '65011.mp4'],\n",
       " ['across', '00829.mp4'],\n",
       " ['across', '00832.mp4'],\n",
       " ['across', '00834.mp4'],\n",
       " ['across', '00835.mp4'],\n",
       " ['across', '00836.mp4'],\n",
       " ['across', '00838.mp4'],\n",
       " ['across', '00839.mp4'],\n",
       " ['across', '00840.mp4'],\n",
       " ['across', '00841.mp4'],\n",
       " ['across', '00842.mp4'],\n",
       " ['act', '00846.mp4'],\n",
       " ['act', '00847.mp4'],\n",
       " ['act', '00849.mp4'],\n",
       " ['act', '00850.mp4'],\n",
       " ['act', '00851.mp4'],\n",
       " ['act', '65014.mp4'],\n",
       " ['action', '00853.mp4'],\n",
       " ['action', '00854.mp4'],\n",
       " ['action', '00855.mp4'],\n",
       " ['action', '00856.mp4'],\n",
       " ['action', '00857.mp4'],\n",
       " ['action', '00858.mp4'],\n",
       " ['action', '65015.mp4'],\n",
       " ['active', '00867.mp4'],\n",
       " ['active', '00868.mp4'],\n",
       " ['active', '00869.mp4'],\n",
       " ['active', '00871.mp4'],\n",
       " ['active', '00872.mp4'],\n",
       " ['active', '00873.mp4'],\n",
       " ['active', '00874.mp4'],\n",
       " ['activity', '00886.mp4'],\n",
       " ['activity', '00890.mp4'],\n",
       " ['activity', '00891.mp4'],\n",
       " ['activity', '00892.mp4'],\n",
       " ['activity', '00894.mp4'],\n",
       " ['activity', '65016.mp4'],\n",
       " ['actor', '00897.mp4'],\n",
       " ['actor', '00898.mp4'],\n",
       " ['actor', '00899.mp4'],\n",
       " ['actor', '00900.mp4'],\n",
       " ['actor', '00901.mp4'],\n",
       " ['actor', '00902.mp4'],\n",
       " ['actor', '00903.mp4'],\n",
       " ['actor', '00904.mp4'],\n",
       " ['actor', '65017.mp4'],\n",
       " ['adapt', '00943.mp4'],\n",
       " ['adapt', '00944.mp4'],\n",
       " ['adapt', '00946.mp4'],\n",
       " ['adapt', '00947.mp4'],\n",
       " ['adapt', '00949.mp4'],\n",
       " ['adapt', '00950.mp4'],\n",
       " ['adapt', '00951.mp4'],\n",
       " ['add', '00961.mp4'],\n",
       " ['add', '00962.mp4'],\n",
       " ['add', '00963.mp4'],\n",
       " ['add', '00964.mp4'],\n",
       " ['add', '00965.mp4'],\n",
       " ['add', '00967.mp4'],\n",
       " ['add', '00972.mp4'],\n",
       " ['add', '00973.mp4'],\n",
       " ['add', '65018.mp4'],\n",
       " ['add', '69205.mp4'],\n",
       " ['address', '01011.mp4'],\n",
       " ['address', '01012.mp4'],\n",
       " ['address', '01018.mp4'],\n",
       " ['address', '01020.mp4'],\n",
       " ['address', '01021.mp4'],\n",
       " ['address', '01024.mp4'],\n",
       " ['adjective', '01062.mp4'],\n",
       " ['adjective', '01064.mp4'],\n",
       " ['adjective', '01065.mp4'],\n",
       " ['adjective', '01066.mp4'],\n",
       " ['adjective', '01068.mp4'],\n",
       " ['adjective', '01069.mp4'],\n",
       " ['adjust', '01073.mp4'],\n",
       " ['adjust', '01074.mp4'],\n",
       " ['adjust', '01076.mp4'],\n",
       " ['adjust', '01077.mp4'],\n",
       " ['adjust', '01078.mp4'],\n",
       " ['adjust', '01079.mp4'],\n",
       " ['admire', '01100.mp4'],\n",
       " ['admire', '01101.mp4'],\n",
       " ['admire', '01103.mp4'],\n",
       " ['admire', '01106.mp4'],\n",
       " ['admire', '01107.mp4'],\n",
       " ['admit', '01118.mp4'],\n",
       " ['admit', '01120.mp4'],\n",
       " ['admit', '01122.mp4'],\n",
       " ['admit', '01124.mp4'],\n",
       " ['admit', '01127.mp4'],\n",
       " ['admit', '65021.mp4'],\n",
       " ['adopt', '01149.mp4'],\n",
       " ['adopt', '01157.mp4'],\n",
       " ['adopt', '01158.mp4'],\n",
       " ['adopt', '01159.mp4'],\n",
       " ['adopt', '01160.mp4'],\n",
       " ['adopt', '01161.mp4'],\n",
       " ['adopt', '01162.mp4'],\n",
       " ['adopt', '65022.mp4'],\n",
       " ['adult', '01194.mp4'],\n",
       " ['adult', '01206.mp4'],\n",
       " ['adult', '01207.mp4'],\n",
       " ['adult', '01208.mp4'],\n",
       " ['adult', '01209.mp4'],\n",
       " ['adult', '01211.mp4'],\n",
       " ['adult', '01212.mp4'],\n",
       " ['adult', '01214.mp4'],\n",
       " ['adult', '01215.mp4'],\n",
       " ['adult', '01216.mp4'],\n",
       " ['adult', '01217.mp4'],\n",
       " ['adult', '65024.mp4'],\n",
       " ['advanced', '01224.mp4'],\n",
       " ['advanced', '01226.mp4'],\n",
       " ['advanced', '01227.mp4'],\n",
       " ['advanced', '01229.mp4'],\n",
       " ['advanced', '01230.mp4'],\n",
       " ['advanced', '01231.mp4'],\n",
       " ['advantage', '01242.mp4'],\n",
       " ['advantage', '01244.mp4'],\n",
       " ['advantage', '01245.mp4'],\n",
       " ['advantage', '01251.mp4'],\n",
       " ['advantage', '01252.mp4'],\n",
       " ['advantage', '65025.mp4'],\n",
       " ['adverb', '01263.mp4'],\n",
       " ['adverb', '01264.mp4'],\n",
       " ['adverb', '01265.mp4'],\n",
       " ['adverb', '01266.mp4'],\n",
       " ['adverb', '01268.mp4'],\n",
       " ['adverb', '01269.mp4'],\n",
       " ['affect', '01318.mp4'],\n",
       " ['affect', '01319.mp4'],\n",
       " ['affect', '01320.mp4'],\n",
       " ['affect', '01321.mp4'],\n",
       " ['affect', '01323.mp4'],\n",
       " ['affect', '01325.mp4'],\n",
       " ['affect', '01327.mp4'],\n",
       " ['afraid', '01372.mp4'],\n",
       " ['afraid', '01373.mp4'],\n",
       " ['afraid', '01374.mp4'],\n",
       " ['afraid', '01376.mp4'],\n",
       " ['afraid', '01377.mp4'],\n",
       " ['afraid', '01379.mp4'],\n",
       " ['afraid', '01381.mp4'],\n",
       " ['africa', '01382.mp4'],\n",
       " ['africa', '01383.mp4'],\n",
       " ['africa', '01384.mp4'],\n",
       " ['africa', '01385.mp4'],\n",
       " ['africa', '01386.mp4'],\n",
       " ['africa', '01387.mp4'],\n",
       " ['africa', '01388.mp4'],\n",
       " ['africa', '01391.mp4'],\n",
       " ['africa', '01392.mp4'],\n",
       " ['africa', '01393.mp4'],\n",
       " ['africa', '01394.mp4'],\n",
       " ['africa', '01395.mp4'],\n",
       " ['africa', '01396.mp4'],\n",
       " ['africa', '01397.mp4'],\n",
       " ['africa', '01398.mp4'],\n",
       " ['africa', '65029.mp4'],\n",
       " ['after', '01411.mp4'],\n",
       " ['after', '01418.mp4'],\n",
       " ['after', '01419.mp4'],\n",
       " ['after', '01420.mp4'],\n",
       " ['after', '01421.mp4'],\n",
       " ['after', '01422.mp4'],\n",
       " ['after', '01426.mp4'],\n",
       " ['after', '01427.mp4'],\n",
       " ['after', '01428.mp4'],\n",
       " ['afternoon', '01429.mp4'],\n",
       " ['afternoon', '01433.mp4'],\n",
       " ['afternoon', '01434.mp4'],\n",
       " ['afternoon', '01435.mp4'],\n",
       " ['afternoon', '01436.mp4'],\n",
       " ['afternoon', '01438.mp4'],\n",
       " ['afternoon', '01440.mp4'],\n",
       " ['afternoon', '01441.mp4'],\n",
       " ['afternoon', '01442.mp4'],\n",
       " ['afternoon', '65031.mp4'],\n",
       " ['afternoon', '70279.mp4'],\n",
       " ['again', '01457.mp4'],\n",
       " ['again', '01460.mp4'],\n",
       " ['again', '01461.mp4'],\n",
       " ['again', '01462.mp4'],\n",
       " ['again', '01463.mp4'],\n",
       " ['again', '01464.mp4'],\n",
       " ['again', '01466.mp4'],\n",
       " ['again', '01467.mp4'],\n",
       " ['again', '01468.mp4'],\n",
       " ['again', '01469.mp4'],\n",
       " ['again', '01470.mp4'],\n",
       " ['again', '01471.mp4'],\n",
       " ['again', '70219.mp4'],\n",
       " ['against', '01472.mp4'],\n",
       " ['against', '01473.mp4'],\n",
       " ['against', '01474.mp4'],\n",
       " ['against', '01477.mp4'],\n",
       " ['against', '01478.mp4'],\n",
       " ['against', '01479.mp4'],\n",
       " ['against', '65033.mp4'],\n",
       " ['age', '01482.mp4'],\n",
       " ['age', '01485.mp4'],\n",
       " ['age', '01486.mp4'],\n",
       " ['age', '01487.mp4'],\n",
       " ['age', '01489.mp4'],\n",
       " ['age', '01490.mp4'],\n",
       " ['age', '01491.mp4'],\n",
       " ['age', '01493.mp4'],\n",
       " ['age', '01494.mp4'],\n",
       " ['age', '01495.mp4'],\n",
       " ['age', '65034.mp4'],\n",
       " ['agenda', '01504.mp4'],\n",
       " ['agenda', '01505.mp4'],\n",
       " ['agenda', '01506.mp4'],\n",
       " ['agenda', '01507.mp4'],\n",
       " ['agenda', '01513.mp4'],\n",
       " ['agenda', '01514.mp4'],\n",
       " ['agenda', '01515.mp4'],\n",
       " ['ago', '01551.mp4'],\n",
       " ['ago', '01552.mp4'],\n",
       " ['ago', '01553.mp4'],\n",
       " ['ago', '01554.mp4'],\n",
       " ['ago', '01556.mp4'],\n",
       " ['ago', '01557.mp4'],\n",
       " ['ago', '01558.mp4'],\n",
       " ['ago', '01560.mp4'],\n",
       " ['ago', '01561.mp4'],\n",
       " ['ago', '01562.mp4'],\n",
       " ['ago', '01564.mp4'],\n",
       " ['agree', '01572.mp4'],\n",
       " ['agree', '01575.mp4'],\n",
       " ['agree', '01576.mp4'],\n",
       " ['agree', '01577.mp4'],\n",
       " ['agree', '01578.mp4'],\n",
       " ['agree', '01579.mp4'],\n",
       " ['agree', '01580.mp4'],\n",
       " ['agree', '01581.mp4'],\n",
       " ['agree', '01582.mp4'],\n",
       " ['agree', '70117.mp4'],\n",
       " ['agreement', '01583.mp4'],\n",
       " ['agreement', '01584.mp4'],\n",
       " ['agreement', '01585.mp4'],\n",
       " ['agreement', '01586.mp4'],\n",
       " ['agreement', '01587.mp4'],\n",
       " ['ahead', '01596.mp4'],\n",
       " ['ahead', '01598.mp4'],\n",
       " ['ahead', '01599.mp4'],\n",
       " ['ahead', '01602.mp4'],\n",
       " ['ahead', '01603.mp4'],\n",
       " ['ahead', '01604.mp4'],\n",
       " ['ahead', '01605.mp4'],\n",
       " ['aid', '01621.mp4'],\n",
       " ['aid', '01622.mp4'],\n",
       " ['aid', '01624.mp4'],\n",
       " ['aid', '01626.mp4'],\n",
       " ['aid', '01627.mp4'],\n",
       " ['aid', '01628.mp4'],\n",
       " ['aim', '01642.mp4'],\n",
       " ['aim', '01643.mp4'],\n",
       " ['aim', '01646.mp4'],\n",
       " ['aim', '01651.mp4'],\n",
       " ['aim', '01652.mp4'],\n",
       " ['aim', '01653.mp4'],\n",
       " ['airplane', '01721.mp4'],\n",
       " ['airplane', '01724.mp4'],\n",
       " ['airplane', '01726.mp4'],\n",
       " ['airplane', '01727.mp4'],\n",
       " ['airplane', '01729.mp4'],\n",
       " ['airplane', '01730.mp4'],\n",
       " ['airplane', '01733.mp4'],\n",
       " ['airplane', '01734.mp4'],\n",
       " ['airplane', '65038.mp4'],\n",
       " ['alarm', '01796.mp4'],\n",
       " ['alarm', '01801.mp4'],\n",
       " ['alarm', '01802.mp4'],\n",
       " ['alarm', '01804.mp4'],\n",
       " ['alarm', '01805.mp4'],\n",
       " ['alarm', '01806.mp4'],\n",
       " ['alarm', '01808.mp4'],\n",
       " ['alarm', '65040.mp4'],\n",
       " ['alcohol', '01828.mp4'],\n",
       " ['alcohol', '01831.mp4'],\n",
       " ['alcohol', '01832.mp4'],\n",
       " ['alcohol', '01836.mp4'],\n",
       " ['alcohol', '01837.mp4'],\n",
       " ['alcohol', '01838.mp4'],\n",
       " ['alcohol', '01839.mp4'],\n",
       " ['algebra', '01873.mp4'],\n",
       " ['algebra', '01874.mp4'],\n",
       " ['algebra', '01875.mp4'],\n",
       " ['algebra', '01876.mp4'],\n",
       " ['algebra', '01878.mp4'],\n",
       " ['algebra', '01879.mp4'],\n",
       " ['algebra', '01880.mp4'],\n",
       " ['all day', '01921.mp4'],\n",
       " ['all day', '01922.mp4'],\n",
       " ['all day', '01923.mp4'],\n",
       " ['all day', '01924.mp4'],\n",
       " ['all day', '01926.mp4'],\n",
       " ['all day', '01927.mp4'],\n",
       " ['all', '01912.mp4'],\n",
       " ['all', '01986.mp4'],\n",
       " ['all', '01987.mp4'],\n",
       " ['all', '01988.mp4'],\n",
       " ['all', '01991.mp4'],\n",
       " ['all', '01992.mp4'],\n",
       " ['all', '01995.mp4'],\n",
       " ['all', '01996.mp4'],\n",
       " ['all', '01997.mp4'],\n",
       " ['all', '02000.mp4'],\n",
       " ['all', '02002.mp4'],\n",
       " ['all', '02003.mp4'],\n",
       " ['all', '65043.mp4'],\n",
       " ['all', '68001.mp4'],\n",
       " ['all', '69206.mp4'],\n",
       " ['allergy', '01955.mp4'],\n",
       " ['allergy', '01956.mp4'],\n",
       " ['allergy', '01957.mp4'],\n",
       " ['allergy', '01960.mp4'],\n",
       " ['allergy', '01962.mp4'],\n",
       " ['allergy', '01964.mp4'],\n",
       " ['allergy', '01965.mp4'],\n",
       " ['alligator', '02008.mp4'],\n",
       " ['alligator', '02009.mp4'],\n",
       " ['alligator', '02010.mp4'],\n",
       " ['alligator', '02012.mp4'],\n",
       " ['alligator', '02013.mp4'],\n",
       " ['alligator', '02014.mp4'],\n",
       " ['allow', '02041.mp4'],\n",
       " ['allow', '02045.mp4'],\n",
       " ['allow', '02046.mp4'],\n",
       " ['allow', '02048.mp4'],\n",
       " ['allow', '02049.mp4'],\n",
       " ['allow', '02050.mp4'],\n",
       " ['allow', '02051.mp4'],\n",
       " ['allow', '02052.mp4'],\n",
       " ['allow', '65052.mp4'],\n",
       " ['allow', '65053.mp4'],\n",
       " ['allow', '65054.mp4'],\n",
       " ['almost', '02089.mp4'],\n",
       " ['almost', '02091.mp4'],\n",
       " ['almost', '02092.mp4'],\n",
       " ['almost', '02093.mp4'],\n",
       " ['almost', '02095.mp4'],\n",
       " ['almost', '02096.mp4'],\n",
       " ['almost', '02097.mp4'],\n",
       " ['almost', '02098.mp4'],\n",
       " ['almost', '65056.mp4'],\n",
       " ['alone', '02102.mp4'],\n",
       " ['alone', '02103.mp4'],\n",
       " ['alone', '02104.mp4'],\n",
       " ['alone', '02105.mp4'],\n",
       " ['alone', '02106.mp4'],\n",
       " ['alone', '02108.mp4'],\n",
       " ['alone', '02109.mp4'],\n",
       " ['alone', '02110.mp4'],\n",
       " ['alone', '02111.mp4'],\n",
       " ['alone', '02112.mp4'],\n",
       " ['alphabet', '02143.mp4'],\n",
       " ['alphabet', '02145.mp4'],\n",
       " ['alphabet', '02149.mp4'],\n",
       " ['alphabet', '02150.mp4'],\n",
       " ['alphabet', '02151.mp4'],\n",
       " ['already', '02158.mp4'],\n",
       " ['already', '02159.mp4'],\n",
       " ['already', '02160.mp4'],\n",
       " ['already', '02161.mp4'],\n",
       " ['already', '02162.mp4'],\n",
       " ['already', '02163.mp4'],\n",
       " ['already', '02164.mp4'],\n",
       " ['already', '02165.mp4'],\n",
       " ['already', '02166.mp4'],\n",
       " ['already', '02167.mp4'],\n",
       " ['already', '02168.mp4'],\n",
       " ['also', '02173.mp4'],\n",
       " ['also', '02174.mp4'],\n",
       " ['also', '02175.mp4'],\n",
       " ['also', '02176.mp4'],\n",
       " ['also', '02177.mp4'],\n",
       " ['also', '02178.mp4'],\n",
       " ['also', '02179.mp4'],\n",
       " ['also', '02180.mp4'],\n",
       " ['also', '02181.mp4'],\n",
       " ['also', '65059.mp4'],\n",
       " ['also', '69207.mp4'],\n",
       " ['always', '02227.mp4'],\n",
       " ['always', '02228.mp4'],\n",
       " ['always', '02229.mp4'],\n",
       " ['always', '02230.mp4'],\n",
       " ['always', '02231.mp4'],\n",
       " ['always', '02232.mp4'],\n",
       " ['always', '02233.mp4'],\n",
       " ['always', '02234.mp4'],\n",
       " ['always', '02235.mp4'],\n",
       " ['always', '02236.mp4'],\n",
       " ['always', '02237.mp4'],\n",
       " ['always', '02238.mp4'],\n",
       " ['always', '70037.mp4'],\n",
       " ['amazing', '02269.mp4'],\n",
       " ['amazing', '02273.mp4'],\n",
       " ['amazing', '02276.mp4'],\n",
       " ['amazing', '02284.mp4'],\n",
       " ['amazing', '02285.mp4'],\n",
       " ['america', '02348.mp4'],\n",
       " ['america', '02349.mp4'],\n",
       " ['america', '02350.mp4'],\n",
       " ['america', '02351.mp4'],\n",
       " ['america', '02353.mp4'],\n",
       " ['america', '02354.mp4'],\n",
       " ['america', '02355.mp4'],\n",
       " ['america', '02356.mp4'],\n",
       " ['america', '65064.mp4'],\n",
       " ['america', '68002.mp4'],\n",
       " ['amputate', '02429.mp4'],\n",
       " ['amputate', '02430.mp4'],\n",
       " ['amputate', '02431.mp4'],\n",
       " ['amputate', '02434.mp4'],\n",
       " ['amputate', '02435.mp4'],\n",
       " ['analyze', '02473.mp4'],\n",
       " ['analyze', '02474.mp4'],\n",
       " ['analyze', '02475.mp4'],\n",
       " ['analyze', '02476.mp4'],\n",
       " ['analyze', '02477.mp4'],\n",
       " ['analyze', '02478.mp4'],\n",
       " ['analyze', '02480.mp4'],\n",
       " ['analyze', '02482.mp4'],\n",
       " ['analyze', '02483.mp4'],\n",
       " ['analyze', '65066.mp4'],\n",
       " ['anatomy', '02484.mp4'],\n",
       " ['anatomy', '02485.mp4'],\n",
       " ['anatomy', '02487.mp4'],\n",
       " ['anatomy', '02490.mp4'],\n",
       " ['anatomy', '02491.mp4'],\n",
       " ['anatomy', '02492.mp4'],\n",
       " ['and', '02517.mp4'],\n",
       " ['and', '02518.mp4'],\n",
       " ['and', '02519.mp4'],\n",
       " ['and', '02521.mp4'],\n",
       " ['and', '02522.mp4'],\n",
       " ['and', '02523.mp4'],\n",
       " ['and', '02524.mp4'],\n",
       " ['and', '02525.mp4'],\n",
       " ['angel', '02539.mp4'],\n",
       " ['angel', '02540.mp4'],\n",
       " ['angel', '02541.mp4'],\n",
       " ['angel', '02542.mp4'],\n",
       " ['angel', '02544.mp4'],\n",
       " ['angel', '02545.mp4'],\n",
       " ['angel', '02546.mp4'],\n",
       " ['angel', '02547.mp4'],\n",
       " ['angel', '02548.mp4'],\n",
       " ['angel', '65071.mp4'],\n",
       " ['angle', '02556.mp4'],\n",
       " ['angle', '02558.mp4'],\n",
       " ['angle', '02559.mp4'],\n",
       " ['angle', '02560.mp4'],\n",
       " ['angle', '02561.mp4'],\n",
       " ['angle', '02562.mp4'],\n",
       " ['angle', '02563.mp4'],\n",
       " ['angle', '69210.mp4'],\n",
       " ['angry', '02564.mp4'],\n",
       " ['angry', '02565.mp4'],\n",
       " ['angry', '02566.mp4'],\n",
       " ['angry', '02567.mp4'],\n",
       " ['angry', '02568.mp4'],\n",
       " ['angry', '02569.mp4'],\n",
       " ['angry', '02572.mp4'],\n",
       " ['angry', '02575.mp4'],\n",
       " ['animal', '02581.mp4'],\n",
       " ['animal', '02583.mp4'],\n",
       " ['animal', '02584.mp4'],\n",
       " ['animal', '02585.mp4'],\n",
       " ['animal', '02586.mp4'],\n",
       " ['animal', '02587.mp4'],\n",
       " ['animal', '02589.mp4'],\n",
       " ['animal', '02590.mp4'],\n",
       " ['animal', '02591.mp4'],\n",
       " ['animal', '02592.mp4'],\n",
       " ['animal', '65073.mp4'],\n",
       " ['animal', '69211.mp4'],\n",
       " ['anniversary', '02607.mp4'],\n",
       " ['anniversary', '02609.mp4'],\n",
       " ['anniversary', '02610.mp4'],\n",
       " ['anniversary', '02611.mp4'],\n",
       " ['anniversary', '02614.mp4'],\n",
       " ['anniversary', '02615.mp4'],\n",
       " ['anniversary', '02616.mp4'],\n",
       " ['announce', '02618.mp4'],\n",
       " ['announce', '02619.mp4'],\n",
       " ['announce', '02620.mp4'],\n",
       " ['announce', '02622.mp4'],\n",
       " ['announce', '02623.mp4'],\n",
       " ['announce', '02624.mp4'],\n",
       " ['announce', '02625.mp4'],\n",
       " ['announce', '65074.mp4'],\n",
       " ['annoy', '02634.mp4'],\n",
       " ['annoy', '02643.mp4'],\n",
       " ['annoy', '02644.mp4'],\n",
       " ['annoy', '02645.mp4'],\n",
       " ['annoy', '02652.mp4'],\n",
       " ['annoy', '02653.mp4'],\n",
       " ['another', '02696.mp4'],\n",
       " ['another', '02697.mp4'],\n",
       " ['another', '02698.mp4'],\n",
       " ['another', '02699.mp4'],\n",
       " ['another', '02700.mp4'],\n",
       " ['another', '02701.mp4'],\n",
       " ['another', '02702.mp4'],\n",
       " ['another', '02705.mp4'],\n",
       " ['another', '02706.mp4'],\n",
       " ['answer', '02707.mp4'],\n",
       " ['answer', '02710.mp4'],\n",
       " ['answer', '02711.mp4'],\n",
       " ['answer', '02712.mp4'],\n",
       " ['answer', '02713.mp4'],\n",
       " ['answer', '02714.mp4'],\n",
       " ['answer', '02715.mp4'],\n",
       " ['answer', '02716.mp4'],\n",
       " ['answer', '02717.mp4'],\n",
       " ['answer', '02718.mp4'],\n",
       " ['answer', '65076.mp4'],\n",
       " ['answer', '70275.mp4'],\n",
       " ['any', '02818.mp4'],\n",
       " ['any', '02826.mp4'],\n",
       " ['any', '02828.mp4'],\n",
       " ['any', '02829.mp4'],\n",
       " ['any', '02830.mp4'],\n",
       " ['any', '02831.mp4'],\n",
       " ['any', '02832.mp4'],\n",
       " ['any', '02833.mp4'],\n",
       " ['any', '69212.mp4'],\n",
       " ['any', '70095.mp4'],\n",
       " ['anyway', '02850.mp4'],\n",
       " ['anyway', '02851.mp4'],\n",
       " ['anyway', '02852.mp4'],\n",
       " ['anyway', '02854.mp4'],\n",
       " ['anyway', '02855.mp4'],\n",
       " ['anyway', '02856.mp4'],\n",
       " ['apart', '02863.mp4'],\n",
       " ['apart', '02864.mp4'],\n",
       " ['apart', '02865.mp4'],\n",
       " ['apart', '02867.mp4'],\n",
       " ['apart', '02869.mp4'],\n",
       " ['apart', '02870.mp4'],\n",
       " ['apartment', '02871.mp4'],\n",
       " ['apartment', '02872.mp4'],\n",
       " ['apartment', '02873.mp4'],\n",
       " ['apartment', '02874.mp4'],\n",
       " ['apartment', '02875.mp4'],\n",
       " ['apartment', '02877.mp4'],\n",
       " ['apartment', '02878.mp4'],\n",
       " ['apartment', '02879.mp4'],\n",
       " ['apartment', '02880.mp4'],\n",
       " ['apostrophe', '02910.mp4'],\n",
       " ['apostrophe', '02911.mp4'],\n",
       " ['apostrophe', '02912.mp4'],\n",
       " ['apostrophe', '02913.mp4'],\n",
       " ['apostrophe', '02915.mp4'],\n",
       " ['apostrophe', '02916.mp4'],\n",
       " ['apostrophe', '65082.mp4'],\n",
       " ['appear', '02941.mp4'],\n",
       " ['appear', '02951.mp4'],\n",
       " ['appear', '02952.mp4'],\n",
       " ['appear', '02953.mp4'],\n",
       " ['appear', '02954.mp4'],\n",
       " ['appear', '02956.mp4'],\n",
       " ['appear', '02959.mp4'],\n",
       " ['appear', '02961.mp4'],\n",
       " ['appear', '65083.mp4'],\n",
       " ['appetite', '02968.mp4'],\n",
       " ['appetite', '02969.mp4'],\n",
       " ['appetite', '02970.mp4'],\n",
       " ['appetite', '02971.mp4'],\n",
       " ['appetite', '02973.mp4'],\n",
       " ['appetite', '02974.mp4'],\n",
       " ['appetite', '02975.mp4'],\n",
       " ['apple', '02997.mp4'],\n",
       " ['apple', '02999.mp4'],\n",
       " ['apple', '03000.mp4'],\n",
       " ['apple', '03001.mp4'],\n",
       " ['apple', '03002.mp4'],\n",
       " ['apple', '03003.mp4'],\n",
       " ['apple', '03005.mp4'],\n",
       " ['apple', '03006.mp4'],\n",
       " ['apple', '03007.mp4'],\n",
       " ['apple', '03008.mp4'],\n",
       " ['apple', '65084.mp4'],\n",
       " ['apple', '65085.mp4'],\n",
       " ['apple', '65086.mp4'],\n",
       " ['apple', '68003.mp4'],\n",
       " ['apple', '69213.mp4'],\n",
       " ['apple', '70309.mp4'],\n",
       " ['appointment', '03053.mp4'],\n",
       " ['appointment', '03055.mp4'],\n",
       " ['appointment', '03056.mp4'],\n",
       " ['appointment', '03057.mp4'],\n",
       " ['appointment', '03058.mp4'],\n",
       " ['appointment', '03059.mp4'],\n",
       " ['appointment', '03060.mp4'],\n",
       " ['appointment', '03061.mp4'],\n",
       " ['appointment', '03062.mp4'],\n",
       " ['appointment', '03063.mp4'],\n",
       " ['appointment', '70155.mp4'],\n",
       " ['appreciate', '03067.mp4'],\n",
       " ['appreciate', '03068.mp4'],\n",
       " ['appreciate', '03069.mp4'],\n",
       " ['appreciate', '03070.mp4'],\n",
       " ['appreciate', '03073.mp4'],\n",
       " ['appreciate', '03074.mp4'],\n",
       " ['approach', '03089.mp4'],\n",
       " ['approach', '03090.mp4'],\n",
       " ['approach', '03092.mp4'],\n",
       " ['approach', '03093.mp4'],\n",
       " ['approach', '03096.mp4'],\n",
       " ['approach', '65088.mp4'],\n",
       " ['appropriate', '03100.mp4'],\n",
       " ['appropriate', '03101.mp4'],\n",
       " ['appropriate', '03102.mp4'],\n",
       " ['appropriate', '03103.mp4'],\n",
       " ['appropriate', '03105.mp4'],\n",
       " ['appropriate', '03106.mp4'],\n",
       " ['appropriate', '03107.mp4'],\n",
       " ['appropriate', '03108.mp4'],\n",
       " ['approve', '03117.mp4'],\n",
       " ['approve', '03118.mp4'],\n",
       " ['approve', '03119.mp4'],\n",
       " ['approve', '03120.mp4'],\n",
       " ['approve', '03121.mp4'],\n",
       " ['approve', '03122.mp4'],\n",
       " ['approve', '03124.mp4'],\n",
       " ['approve', '03125.mp4'],\n",
       " ['approve', '03126.mp4'],\n",
       " ['approve', '03127.mp4'],\n",
       " ['approve', '03128.mp4'],\n",
       " ['approve', '03129.mp4'],\n",
       " ['approve', '03130.mp4'],\n",
       " ['approve', '03131.mp4'],\n",
       " ['april', '03150.mp4'],\n",
       " ['april', '03154.mp4'],\n",
       " ['april', '03155.mp4'],\n",
       " ['april', '03156.mp4'],\n",
       " ['april', '03158.mp4'],\n",
       " ['april', '03159.mp4'],\n",
       " ['april', '03161.mp4'],\n",
       " ['archery', '03199.mp4'],\n",
       " ['archery', '03201.mp4'],\n",
       " ['archery', '03202.mp4'],\n",
       " ['archery', '03204.mp4'],\n",
       " ['archery', '03205.mp4'],\n",
       " ['archery', '03206.mp4'],\n",
       " ['archery', '03207.mp4'],\n",
       " ['area', '03234.mp4'],\n",
       " ['area', '03235.mp4'],\n",
       " ['area', '03237.mp4'],\n",
       " ['area', '03238.mp4'],\n",
       " ['area', '03240.mp4'],\n",
       " ['area', '03243.mp4'],\n",
       " ['area', '03244.mp4'],\n",
       " ['area', '03245.mp4'],\n",
       " ['area', '03246.mp4'],\n",
       " ['area', '65091.mp4'],\n",
       " ['argue', '03266.mp4'],\n",
       " ['argue', '03267.mp4'],\n",
       " ['argue', '03268.mp4'],\n",
       " ['argue', '03270.mp4'],\n",
       " ['argue', '03272.mp4'],\n",
       " ['argue', '03273.mp4'],\n",
       " ['argue', '03274.mp4'],\n",
       " ['argue', '03277.mp4'],\n",
       " ['argue', '03278.mp4'],\n",
       " ['argue', '03280.mp4'],\n",
       " ['argue', '03281.mp4'],\n",
       " ['argue', '03282.mp4'],\n",
       " ['argue', '65092.mp4'],\n",
       " ['arizona', '03311.mp4'],\n",
       " ['arizona', '03315.mp4'],\n",
       " ['arizona', '03316.mp4'],\n",
       " ['arizona', '03318.mp4'],\n",
       " ['arizona', '03320.mp4'],\n",
       " ['arizona', '65093.mp4'],\n",
       " ['arm', '03328.mp4'],\n",
       " ['arm', '03337.mp4'],\n",
       " ['arm', '03338.mp4'],\n",
       " ['arm', '03339.mp4'],\n",
       " ['arm', '03342.mp4'],\n",
       " ['arm', '03343.mp4'],\n",
       " ['arm', '03344.mp4'],\n",
       " ['arm', '65094.mp4'],\n",
       " ['arm', '69215.mp4'],\n",
       " ['army', '03360.mp4'],\n",
       " ['army', '03361.mp4'],\n",
       " ['army', '03362.mp4'],\n",
       " ['army', '03364.mp4'],\n",
       " ['army', '03365.mp4'],\n",
       " ['army', '03366.mp4'],\n",
       " ['army', '03367.mp4'],\n",
       " ['army', '03368.mp4'],\n",
       " ['army', '65095.mp4'],\n",
       " ['around', '03376.mp4'],\n",
       " ['around', '03377.mp4'],\n",
       " ['around', '03378.mp4'],\n",
       " ['around', '03382.mp4'],\n",
       " ['around', '03385.mp4'],\n",
       " ['around', '03387.mp4'],\n",
       " ['around', '03389.mp4'],\n",
       " ['arrest', '03417.mp4'],\n",
       " ['arrest', '03418.mp4'],\n",
       " ['arrest', '03419.mp4'],\n",
       " ['arrest', '03420.mp4'],\n",
       " ['arrest', '03425.mp4'],\n",
       " ['arrest', '03426.mp4'],\n",
       " ['arrest', '03427.mp4'],\n",
       " ['arrest', '03429.mp4'],\n",
       " ['arrest', '03430.mp4'],\n",
       " ['arrive', '03434.mp4'],\n",
       " ['arrive', '03435.mp4'],\n",
       " ['arrive', '03436.mp4'],\n",
       " ['arrive', '03437.mp4'],\n",
       " ['arrive', '03438.mp4'],\n",
       " ['arrive', '03439.mp4'],\n",
       " ['arrive', '03441.mp4'],\n",
       " ['arrive', '03442.mp4'],\n",
       " ['arrive', '03443.mp4'],\n",
       " ['arrive', '03444.mp4'],\n",
       " ['arrive', '03445.mp4'],\n",
       " ['arrive', '65096.mp4'],\n",
       " ['arrive', '70124.mp4'],\n",
       " ['arrogant', '03448.mp4'],\n",
       " ['arrogant', '03449.mp4'],\n",
       " ['arrogant', '03450.mp4'],\n",
       " ['arrogant', '03451.mp4'],\n",
       " ['arrogant', '03454.mp4'],\n",
       " ['arrogant', '03455.mp4'],\n",
       " ['arrogant', '03457.mp4'],\n",
       " ['arrogant', '70258.mp4'],\n",
       " ['art', '03469.mp4'],\n",
       " ['art', '03478.mp4'],\n",
       " ['art', '03479.mp4'],\n",
       " ['art', '03480.mp4'],\n",
       " ['art', '03481.mp4'],\n",
       " ['art', '03484.mp4'],\n",
       " ['art', '03485.mp4'],\n",
       " ['art', '03486.mp4'],\n",
       " ['art', '70142.mp4'],\n",
       " ['article', '03489.mp4'],\n",
       " ['article', '03490.mp4'],\n",
       " ['article', '03491.mp4'],\n",
       " ['article', '03493.mp4'],\n",
       " ['article', '03494.mp4'],\n",
       " ['article', '03495.mp4'],\n",
       " ['artist', '03514.mp4'],\n",
       " ['artist', '03515.mp4'],\n",
       " ['artist', '03516.mp4'],\n",
       " ['artist', '03517.mp4'],\n",
       " ['artist', '03519.mp4'],\n",
       " ['artist', '03520.mp4'],\n",
       " ['artist', '03521.mp4'],\n",
       " ['artist', '03522.mp4'],\n",
       " ['asia', '03562.mp4'],\n",
       " ['asia', '03563.mp4'],\n",
       " ['asia', '03564.mp4'],\n",
       " ['asia', '03565.mp4'],\n",
       " ['asia', '03568.mp4'],\n",
       " ['asia', '03569.mp4'],\n",
       " ['asia', '03570.mp4'],\n",
       " ['asia', '03571.mp4'],\n",
       " ['asia', '65100.mp4'],\n",
       " ['ask', '03587.mp4'],\n",
       " ['ask', '03595.mp4'],\n",
       " ['ask', '03597.mp4'],\n",
       " ['ask', '03598.mp4'],\n",
       " ['ask', '03603.mp4'],\n",
       " ['ask', '03605.mp4'],\n",
       " ['ask', '03607.mp4'],\n",
       " ['ask', '65101.mp4'],\n",
       " ['asl', '03625.mp4'],\n",
       " ['asl', '03634.mp4'],\n",
       " ['asl', '03635.mp4'],\n",
       " ['asl', '03638.mp4'],\n",
       " ['asl', '03640.mp4'],\n",
       " ['asl', '03641.mp4'],\n",
       " ['asl', '03642.mp4'],\n",
       " ['asl', '68004.mp4'],\n",
       " ['asl', '68005.mp4'],\n",
       " ['assist', '03750.mp4'],\n",
       " ['assist', '03765.mp4'],\n",
       " ['assist', '03766.mp4'],\n",
       " ['assist', '03768.mp4'],\n",
       " ['assist', '03769.mp4'],\n",
       " ['assist', '03771.mp4'],\n",
       " ['assistant', '03752.mp4'],\n",
       " ['assistant', '03756.mp4'],\n",
       " ['assistant', '03757.mp4'],\n",
       " ['assistant', '03758.mp4'],\n",
       " ['assistant', '03761.mp4'],\n",
       " ['assistant', '03762.mp4'],\n",
       " ['assistant', '03763.mp4'],\n",
       " ['assume', '03797.mp4'],\n",
       " ['assume', '03799.mp4'],\n",
       " ['assume', '03800.mp4'],\n",
       " ['assume', '03802.mp4'],\n",
       " ['assume', '03804.mp4'],\n",
       " ['assume', '03805.mp4'],\n",
       " ['attend', '03992.mp4'],\n",
       " ['attend', '03999.mp4'],\n",
       " ['attend', '04000.mp4'],\n",
       " ['attend', '04002.mp4'],\n",
       " ['attend', '04003.mp4'],\n",
       " ['attend', '04005.mp4'],\n",
       " ['attend', '04007.mp4'],\n",
       " ['attention', '04008.mp4'],\n",
       " ['attention', '04011.mp4'],\n",
       " ['attention', '04012.mp4'],\n",
       " ['attention', '04013.mp4'],\n",
       " ['attention', '04015.mp4'],\n",
       " ['attention', '04016.mp4'],\n",
       " ['attention', '04017.mp4'],\n",
       " ['attention', '65107.mp4'],\n",
       " ['attitude', '04039.mp4'],\n",
       " ['attitude', '04040.mp4'],\n",
       " ['attitude', '04041.mp4'],\n",
       " ['attitude', '04042.mp4'],\n",
       " ['attitude', '04044.mp4'],\n",
       " ['attitude', '04045.mp4'],\n",
       " ['attitude', '04046.mp4'],\n",
       " ['attitude', '04047.mp4'],\n",
       " ['attitude', '04048.mp4'],\n",
       " ['attitude', '65108.mp4'],\n",
       " ['attorney', '04049.mp4'],\n",
       " ['attorney', '04050.mp4'],\n",
       " ['attorney', '04051.mp4'],\n",
       " ['attorney', '04053.mp4'],\n",
       " ['attorney', '04054.mp4'],\n",
       " ['attorney', '04055.mp4'],\n",
       " ['attract', '04056.mp4'],\n",
       " ['attract', '04062.mp4'],\n",
       " ['attract', '04063.mp4'],\n",
       " ['attract', '04064.mp4'],\n",
       " ['attract', '04072.mp4'],\n",
       " ['attract', '04073.mp4'],\n",
       " ['attract', '04075.mp4'],\n",
       " ['attract', '04076.mp4'],\n",
       " ['auction', '04097.mp4'],\n",
       " ['auction', '04099.mp4'],\n",
       " ['auction', '04101.mp4'],\n",
       " ['auction', '04102.mp4'],\n",
       " ['auction', '04103.mp4'],\n",
       " ['auction', '04104.mp4'],\n",
       " ['auction', '04105.mp4'],\n",
       " ['auction', '04106.mp4'],\n",
       " ['audience', '04110.mp4'],\n",
       " ['audience', '04115.mp4'],\n",
       " ['audience', '04116.mp4'],\n",
       " ['audience', '04118.mp4'],\n",
       " ['audience', '04119.mp4'],\n",
       " ['audience', '04120.mp4'],\n",
       " ['audience', '04121.mp4'],\n",
       " ['audience', '04122.mp4'],\n",
       " ['audience', '04123.mp4'],\n",
       " ['audiologist', '04128.mp4'],\n",
       " ['audiologist', '04129.mp4'],\n",
       " ['audiologist', '04130.mp4'],\n",
       " ['audiologist', '04132.mp4'],\n",
       " ['audiologist', '04134.mp4'],\n",
       " ['audiology', '04135.mp4'],\n",
       " ['audiology', '04136.mp4'],\n",
       " ['audiology', '04137.mp4'],\n",
       " ['audiology', '04139.mp4'],\n",
       " ['audiology', '04140.mp4'],\n",
       " ['audiology', '04141.mp4'],\n",
       " ['august', '04154.mp4'],\n",
       " ['august', '04155.mp4'],\n",
       " ['august', '04156.mp4'],\n",
       " ['august', '04157.mp4'],\n",
       " ['august', '04158.mp4'],\n",
       " ['august', '04159.mp4'],\n",
       " ['august', '04160.mp4'],\n",
       " ['august', '04161.mp4'],\n",
       " ['august', '04163.mp4'],\n",
       " ['august', '04164.mp4'],\n",
       " ['aunt', '04165.mp4'],\n",
       " ['aunt', '04168.mp4'],\n",
       " ['aunt', '04169.mp4'],\n",
       " ['aunt', '04170.mp4'],\n",
       " ['aunt', '04171.mp4'],\n",
       " ['aunt', '04172.mp4'],\n",
       " ['aunt', '04173.mp4'],\n",
       " ['aunt', '04174.mp4'],\n",
       " ['aunt', '04175.mp4'],\n",
       " ['aunt', '04176.mp4'],\n",
       " ['aunt', '65110.mp4'],\n",
       " ['australia', '04183.mp4'],\n",
       " ['australia', '04184.mp4'],\n",
       " ['australia', '04186.mp4'],\n",
       " ['australia', '04187.mp4'],\n",
       " ['australia', '04188.mp4'],\n",
       " ['australia', '04189.mp4'],\n",
       " ['australia', '04190.mp4'],\n",
       " ['australia', '04193.mp4'],\n",
       " ['australia', '04195.mp4'],\n",
       " ['australia', '04196.mp4'],\n",
       " ['australia', '04198.mp4'],\n",
       " ['australia', '65111.mp4'],\n",
       " ['austria', '04200.mp4'],\n",
       " ['austria', '04201.mp4'],\n",
       " ['austria', '04202.mp4'],\n",
       " ['austria', '04203.mp4'],\n",
       " ['austria', '04207.mp4'],\n",
       " ['author', '04216.mp4'],\n",
       " ...]"
      ]
     },
     "execution_count": 22,
     "metadata": {},
     "output_type": "execute_result"
    }
   ],
   "source": [
    "target"
   ]
  },
  {
   "cell_type": "code",
   "execution_count": 23,
   "id": "9066b594",
   "metadata": {
    "ExecuteTime": {
     "end_time": "2023-08-01T12:25:03.272524Z",
     "start_time": "2023-08-01T12:25:03.251570Z"
    }
   },
   "outputs": [],
   "source": [
    "targetRDD = sc.parallelize([row[0] for row in target])"
   ]
  },
  {
   "cell_type": "code",
   "execution_count": 24,
   "id": "b2308557",
   "metadata": {
    "ExecuteTime": {
     "end_time": "2023-08-01T12:25:04.699191Z",
     "start_time": "2023-08-01T12:25:04.695605Z"
    }
   },
   "outputs": [],
   "source": [
    "labelcount = targetRDD.map(lambda w: (w, 1))"
   ]
  },
  {
   "cell_type": "code",
   "execution_count": 25,
   "id": "65d85998",
   "metadata": {
    "ExecuteTime": {
     "end_time": "2023-08-01T12:25:06.164202Z",
     "start_time": "2023-08-01T12:25:06.132780Z"
    }
   },
   "outputs": [],
   "source": [
    "labelcount = labelcount.reduceByKey(add)"
   ]
  },
  {
   "cell_type": "code",
   "execution_count": 26,
   "id": "ca420f89",
   "metadata": {
    "ExecuteTime": {
     "end_time": "2023-08-01T12:25:10.148147Z",
     "start_time": "2023-08-01T12:25:07.081598Z"
    }
   },
   "outputs": [
    {
     "name": "stderr",
     "output_type": "stream",
     "text": [
      "                                                                                \r"
     ]
    },
    {
     "data": {
      "text/plain": [
       "[('book', 34),\n",
       " ('clothes', 23),\n",
       " ('drink', 23),\n",
       " ('chair', 22),\n",
       " ('before', 22),\n",
       " ('computer', 22),\n",
       " ('like', 19),\n",
       " ('go', 19),\n",
       " ('thin', 19),\n",
       " ('orange', 18),\n",
       " ('cousin', 18),\n",
       " ('mother', 18),\n",
       " ('hot', 18),\n",
       " ('yes', 18),\n",
       " ('deaf', 18),\n",
       " ('candy', 18),\n",
       " ('now', 17),\n",
       " ('accident', 17),\n",
       " ('black', 17),\n",
       " ('who', 17),\n",
       " ('wrong', 17),\n",
       " ('fine', 17),\n",
       " ('bowling', 17),\n",
       " ('cool', 17),\n",
       " ('woman', 17),\n",
       " ('no', 17),\n",
       " ('pizza', 17),\n",
       " ('table', 17),\n",
       " ('thanksgiving', 17),\n",
       " ('shirt', 17),\n",
       " ('bed', 17),\n",
       " ('study', 17),\n",
       " ('tall', 17),\n",
       " ('white', 17),\n",
       " ('bird', 16),\n",
       " ('color', 16),\n",
       " ('family', 16),\n",
       " ('finish', 16),\n",
       " ('graduate', 16),\n",
       " ('forget', 16),\n",
       " ('many', 16),\n",
       " ('fish', 16),\n",
       " ('thursday', 16),\n",
       " ('year', 16),\n",
       " ('apple', 16),\n",
       " ('dog', 16),\n",
       " ('africa', 16),\n",
       " ('short', 16),\n",
       " ('later', 16),\n",
       " ('man', 16),\n",
       " ('secretary', 16),\n",
       " ('change', 16),\n",
       " ('help', 16),\n",
       " ('visit', 16),\n",
       " ('check', 15),\n",
       " ('hat', 15),\n",
       " ('school', 15),\n",
       " ('water', 15),\n",
       " ('corn', 15),\n",
       " ('paper', 15),\n",
       " ('pink', 15),\n",
       " ('play', 15),\n",
       " ('pull', 15),\n",
       " ('full', 15),\n",
       " ('hair', 15),\n",
       " ('language', 15),\n",
       " ('meet', 15),\n",
       " ('son', 15),\n",
       " ('cow', 15),\n",
       " ('give', 15),\n",
       " ('last', 15),\n",
       " ('trade', 15),\n",
       " ('cheat', 15),\n",
       " ('city', 15),\n",
       " ('convince', 15),\n",
       " ('time', 15),\n",
       " ('yesterday', 15),\n",
       " ('dark', 15),\n",
       " ('hearing', 15),\n",
       " ('all', 15),\n",
       " ('cook', 15),\n",
       " ('decide', 15),\n",
       " ('headache', 15),\n",
       " ('kiss', 15),\n",
       " ('far', 14),\n",
       " ('good', 14),\n",
       " ('letter', 14),\n",
       " ('movie', 14),\n",
       " ('work', 14),\n",
       " ('blue', 14),\n",
       " ('learn', 14),\n",
       " ('need', 14),\n",
       " ('purple', 14),\n",
       " ('tea', 14),\n",
       " ('teacher', 14),\n",
       " ('wife', 14),\n",
       " ('you', 14),\n",
       " ('late', 14),\n",
       " ('laugh', 14),\n",
       " ('approve', 14),\n",
       " ('backpack', 14),\n",
       " ('list', 14),\n",
       " ('what', 14),\n",
       " ('write', 14),\n",
       " ('daughter', 14),\n",
       " ('different', 14),\n",
       " ('join', 14),\n",
       " ('right', 14),\n",
       " ('tell', 14),\n",
       " ('walk', 14),\n",
       " ('bad', 14),\n",
       " ('dance', 14),\n",
       " ('college', 14),\n",
       " ('doctor', 14),\n",
       " ('week', 14),\n",
       " ('yellow', 14),\n",
       " ('brown', 14),\n",
       " ('sunday', 14),\n",
       " ('wait', 14),\n",
       " ('want', 14),\n",
       " ('again', 13),\n",
       " ('bar', 13),\n",
       " ('but', 13),\n",
       " ('cry', 13),\n",
       " ('interest', 13),\n",
       " ('sandwich', 13),\n",
       " ('why', 13),\n",
       " ('ball', 13),\n",
       " ('birthday', 13),\n",
       " ('coffee', 13),\n",
       " ('door', 13),\n",
       " ('how', 13),\n",
       " ('knife', 13),\n",
       " ('stay', 13),\n",
       " ('today', 13),\n",
       " ('always', 13),\n",
       " ('brother', 13),\n",
       " ('cold', 13),\n",
       " ('escape', 13),\n",
       " ('fat', 13),\n",
       " ('person', 13),\n",
       " ('student', 13),\n",
       " ('take', 13),\n",
       " ('argue', 13),\n",
       " ('bathroom', 13),\n",
       " ('buy', 13),\n",
       " ('champion', 13),\n",
       " ('crash', 13),\n",
       " ('day', 13),\n",
       " ('happy', 13),\n",
       " ('paint', 13),\n",
       " ('remember', 13),\n",
       " ('russia', 13),\n",
       " ('south', 13),\n",
       " ('temperature', 13),\n",
       " ('your', 13),\n",
       " ('balance', 13),\n",
       " ('business', 13),\n",
       " ('cat', 13),\n",
       " ('green', 13),\n",
       " ('leave', 13),\n",
       " ('lose', 13),\n",
       " ('rabbit', 13),\n",
       " ('salt', 13),\n",
       " ('enjoy', 13),\n",
       " ('first', 13),\n",
       " ('most', 13),\n",
       " ('police', 13),\n",
       " ('arrive', 13),\n",
       " ('basketball', 13),\n",
       " ('delay', 13),\n",
       " ('know', 13),\n",
       " ('more', 13),\n",
       " ('test', 13),\n",
       " ('can', 13),\n",
       " ('discuss', 13),\n",
       " ('hope', 13),\n",
       " ('ok', 13),\n",
       " ('pencil', 13),\n",
       " ('president', 13),\n",
       " ('same', 13),\n",
       " ('sick', 13),\n",
       " ('teach', 13),\n",
       " ('tent', 13),\n",
       " ('ugly', 13),\n",
       " ('careful', 12),\n",
       " ('christmas', 12),\n",
       " ('fault', 12),\n",
       " ('kill', 12),\n",
       " ('pay', 12),\n",
       " ('restaurant', 12),\n",
       " ('adult', 12),\n",
       " ('bake', 12),\n",
       " ('cheese', 12),\n",
       " ('clock', 12),\n",
       " ('humble', 12),\n",
       " ('perspective', 12),\n",
       " ('show', 12),\n",
       " ('snow', 12),\n",
       " ('tired', 12),\n",
       " ('boy', 12),\n",
       " ('father', 12),\n",
       " ('football', 12),\n",
       " ('hear', 12),\n",
       " ('home', 12),\n",
       " ('house', 12),\n",
       " ('large', 12),\n",
       " ('music', 12),\n",
       " ('nurse', 12),\n",
       " ('room', 12),\n",
       " ('run', 12),\n",
       " ('secret', 12),\n",
       " ('sugar', 12),\n",
       " ('toast', 12),\n",
       " ('vomit', 12),\n",
       " ('win', 12),\n",
       " ('better', 12),\n",
       " ('blanket', 12),\n",
       " ('cereal', 12),\n",
       " ('children', 12),\n",
       " ('girl', 12),\n",
       " ('glasses', 12),\n",
       " ('inform', 12),\n",
       " ('last year', 12),\n",
       " ('north', 12),\n",
       " ('since', 12),\n",
       " ('soon', 12),\n",
       " ('stink', 12),\n",
       " ('travel', 12),\n",
       " ('center', 12),\n",
       " ('country', 12),\n",
       " ('have', 12),\n",
       " ('jacket', 12),\n",
       " ('name', 12),\n",
       " ('niece', 12),\n",
       " ('noon', 12),\n",
       " ('speech', 12),\n",
       " ('think', 12),\n",
       " ('weather', 12),\n",
       " ('wet', 12),\n",
       " ('animal', 12),\n",
       " ('bath', 12),\n",
       " ('delicious', 12),\n",
       " ('drop', 12),\n",
       " ('follow', 12),\n",
       " ('hour', 12),\n",
       " ('off', 12),\n",
       " ('office', 12),\n",
       " ('red', 12),\n",
       " ('silly', 12),\n",
       " ('struggle', 12),\n",
       " ('wednesday', 12),\n",
       " ('australia', 12),\n",
       " ('banana', 12),\n",
       " ('bring', 12),\n",
       " ('chat', 12),\n",
       " ('class', 12),\n",
       " ('down', 12),\n",
       " ('law', 12),\n",
       " ('make', 12),\n",
       " ('medicine', 12),\n",
       " ('near', 12),\n",
       " ('new', 12),\n",
       " ('past', 12),\n",
       " ('plan', 12),\n",
       " ('read', 12),\n",
       " ('ready', 12),\n",
       " ('share', 12),\n",
       " ('answer', 12),\n",
       " ('baby', 12),\n",
       " ('disappear', 12),\n",
       " ('explain', 12),\n",
       " ('future', 12),\n",
       " ('government', 12),\n",
       " ('light', 12),\n",
       " ('meat', 12),\n",
       " ('moon', 12),\n",
       " ('not', 12),\n",
       " ('potato', 12),\n",
       " ('problem', 12),\n",
       " ('small', 12),\n",
       " ('tomato', 12),\n",
       " ('with', 12),\n",
       " ('believe', 11),\n",
       " ('bread', 11),\n",
       " ('crazy', 11),\n",
       " ('desk', 11),\n",
       " ('europe', 11),\n",
       " ('feel', 11),\n",
       " ('flower', 11),\n",
       " ('heart', 11),\n",
       " ('match', 11),\n",
       " ('mirror', 11),\n",
       " ('money', 11),\n",
       " ('scissors', 11),\n",
       " ('sister', 11),\n",
       " ('where', 11),\n",
       " ('accept', 11),\n",
       " ('age', 11),\n",
       " ('beard', 11),\n",
       " ('dentist', 11),\n",
       " ('expensive', 11),\n",
       " ('fail', 11),\n",
       " ('food', 11),\n",
       " ('great', 11),\n",
       " ('lazy', 11),\n",
       " ('pants', 11),\n",
       " ('please', 11),\n",
       " ('polite', 11),\n",
       " ('slow', 11),\n",
       " ('train', 11),\n",
       " ('weekend', 11),\n",
       " ('ago', 11),\n",
       " ('allow', 11),\n",
       " ('compare', 11),\n",
       " ('decorate', 11),\n",
       " ('dive', 11),\n",
       " ('improve', 11),\n",
       " ('internet', 11),\n",
       " ('investigate', 11),\n",
       " ('necklace', 11),\n",
       " ('possible', 11),\n",
       " ('sad', 11),\n",
       " ('science', 11),\n",
       " ('sweet', 11),\n",
       " ('understand', 11),\n",
       " ('use', 11),\n",
       " ('also', 11),\n",
       " ('avoid', 11),\n",
       " ('awful', 11),\n",
       " ('because', 11),\n",
       " ('blind', 11),\n",
       " ('chicken', 11),\n",
       " ('choose', 11),\n",
       " ('copy', 11),\n",
       " ('develop', 11),\n",
       " ('drive', 11),\n",
       " ('eat', 11),\n",
       " ('environment', 11),\n",
       " ('face', 11),\n",
       " ('fast', 11),\n",
       " ('get', 11),\n",
       " ('halloween', 11),\n",
       " ('hit', 11),\n",
       " ('important', 11),\n",
       " ('miss', 11),\n",
       " ('my', 11),\n",
       " ('onion', 11),\n",
       " ('reject', 11),\n",
       " ('sentence', 11),\n",
       " ('sorry', 11),\n",
       " ('strong', 11),\n",
       " ('theory', 11),\n",
       " ('town', 11),\n",
       " ('transfer', 11),\n",
       " ('west', 11),\n",
       " ('will', 11),\n",
       " ('afternoon', 11),\n",
       " ('already', 11),\n",
       " ('appointment', 11),\n",
       " ('bowl', 11),\n",
       " ('cookie', 11),\n",
       " ('draw', 11),\n",
       " ('east', 11),\n",
       " ('egypt', 11),\n",
       " ('enter', 11),\n",
       " ('happen', 11),\n",
       " ('husband', 11),\n",
       " ('in', 11),\n",
       " ('jealous', 11),\n",
       " ('king', 11),\n",
       " ('mean', 11),\n",
       " ('milk', 11),\n",
       " ('postpone', 11),\n",
       " ('save', 11),\n",
       " ('score', 11),\n",
       " ('shape', 11),\n",
       " ('shoes', 11),\n",
       " ('sign', 11),\n",
       " ('therapy', 11),\n",
       " ('tiger', 11),\n",
       " ('traffic', 11),\n",
       " ('until', 11),\n",
       " ('vote', 11),\n",
       " ('bitter', 11),\n",
       " ('california', 11),\n",
       " ('curse', 11),\n",
       " ('dirty', 11),\n",
       " ('dry', 11),\n",
       " ('here', 11),\n",
       " ('lemon', 11),\n",
       " ('marry', 11),\n",
       " ('party', 11),\n",
       " ('patient', 11),\n",
       " ('people', 11),\n",
       " ('picture', 11),\n",
       " ('plus', 11),\n",
       " ('practice', 11),\n",
       " ('surgery', 11),\n",
       " ('talk', 11),\n",
       " ('to', 11),\n",
       " ('up', 11),\n",
       " ('window', 11),\n",
       " ('call', 11),\n",
       " ('child', 11),\n",
       " ('correct', 11),\n",
       " ('cough', 11),\n",
       " ('dress', 11),\n",
       " ('ear', 11),\n",
       " ('earn', 11),\n",
       " ('event', 11),\n",
       " ('fight', 11),\n",
       " ('form', 11),\n",
       " ('japan', 11),\n",
       " ('month', 11),\n",
       " ('move', 11),\n",
       " ('nephew', 11),\n",
       " ('never', 11),\n",
       " ('nice', 11),\n",
       " ('poor', 11),\n",
       " ('sweetheart', 11),\n",
       " ('tomorrow', 11),\n",
       " ('truck', 11),\n",
       " ('tuesday', 11),\n",
       " ('aunt', 11),\n",
       " ('behind', 11),\n",
       " ('bracelet', 11),\n",
       " ('deep', 11),\n",
       " ('easy', 11),\n",
       " ('egg', 11),\n",
       " ('example', 11),\n",
       " ('friend', 11),\n",
       " ('game', 11),\n",
       " ('minute', 11),\n",
       " ('pepper', 11),\n",
       " ('retire', 11),\n",
       " ('soft', 11),\n",
       " ('some', 11),\n",
       " ('stubborn', 11),\n",
       " ('suspect', 11),\n",
       " ('voice', 11),\n",
       " ('war', 11),\n",
       " ('canada', 10),\n",
       " ('challenge', 10),\n",
       " ('comfortable', 10),\n",
       " ('cup', 10),\n",
       " ('cute', 10),\n",
       " ('divorce', 10),\n",
       " ('during', 10),\n",
       " ('floor', 10),\n",
       " ('idea', 10),\n",
       " ('invest', 10),\n",
       " ('muscle', 10),\n",
       " ('nose', 10),\n",
       " ('opinion', 10),\n",
       " ('peach', 10),\n",
       " ('research', 10),\n",
       " ('salad', 10),\n",
       " ('schedule', 10),\n",
       " ('shock', 10),\n",
       " ('smart', 10),\n",
       " ('sunset', 10),\n",
       " ('themselves', 10),\n",
       " ('when', 10),\n",
       " ('add', 10),\n",
       " ('bark', 10),\n",
       " ('bother', 10),\n",
       " ('cafeteria', 10),\n",
       " ('destroy', 10),\n",
       " ('early', 10),\n",
       " ('god', 10),\n",
       " ('greece', 10),\n",
       " ('independent', 10),\n",
       " ('introduce', 10),\n",
       " ('listen', 10),\n",
       " ('magazine', 10),\n",
       " ('old', 10),\n",
       " ('prison', 10),\n",
       " ('saturday', 10),\n",
       " ('serious', 10),\n",
       " ('sunrise', 10),\n",
       " ('triangle', 10),\n",
       " ('wind', 10),\n",
       " ('area', 10),\n",
       " ('barely', 10),\n",
       " ('bear', 10),\n",
       " ('carrot', 10),\n",
       " ('doll', 10),\n",
       " ('duty', 10),\n",
       " ('end', 10),\n",
       " ('friendly', 10),\n",
       " ('lettuce', 10),\n",
       " ('lie', 10),\n",
       " ('newspaper', 10),\n",
       " ('push', 10),\n",
       " ('ride', 10),\n",
       " ('sky', 10),\n",
       " ('soda', 10),\n",
       " ('steal', 10),\n",
       " ('stress', 10),\n",
       " ('about', 10),\n",
       " ('across', 10),\n",
       " ('agree', 10),\n",
       " ('alone', 10),\n",
       " ('any', 10),\n",
       " ('awkward', 10),\n",
       " ('balloon', 10),\n",
       " ('box', 10),\n",
       " ('cancel', 10),\n",
       " ('cheap', 10),\n",
       " ('continue', 10),\n",
       " ('dead', 10),\n",
       " ('dessert', 10),\n",
       " ('dollar', 10),\n",
       " ('forest', 10),\n",
       " ('front', 10),\n",
       " ('mom', 10),\n",
       " ('monkey', 10),\n",
       " ('morning', 10),\n",
       " ('neighbor', 10),\n",
       " ('often', 10),\n",
       " ('sell', 10),\n",
       " ('shine', 10),\n",
       " ('skinny', 10),\n",
       " ('soup', 10),\n",
       " ('stomach', 10),\n",
       " ('america', 10),\n",
       " ('bacon', 10),\n",
       " ('bald', 10),\n",
       " ('demand', 10),\n",
       " ('easter', 10),\n",
       " ('expert', 10),\n",
       " ('feed', 10),\n",
       " ('grammar', 10),\n",
       " ('head', 10),\n",
       " ('hospital', 10),\n",
       " ('microwave', 10),\n",
       " ('motorcycle', 10),\n",
       " ('must', 10),\n",
       " ('none', 10),\n",
       " ('prepare', 10),\n",
       " ('quit', 10),\n",
       " ('spray', 10),\n",
       " ('suggest', 10),\n",
       " ('there', 10),\n",
       " ('throw', 10),\n",
       " ('university', 10),\n",
       " ('watch', 10),\n",
       " ('analyze', 10),\n",
       " ('angel', 10),\n",
       " ('august', 10),\n",
       " ('build', 10),\n",
       " ('car', 10),\n",
       " ('catch', 10),\n",
       " ('fishing', 10),\n",
       " ('from', 10),\n",
       " ('hard', 10),\n",
       " ('history', 10),\n",
       " ('lucky', 10),\n",
       " ('number', 10),\n",
       " ('outside', 10),\n",
       " ('rough', 10),\n",
       " ('should', 10),\n",
       " ('sit', 10),\n",
       " ('sleep', 10),\n",
       " ('spain', 10),\n",
       " ('star', 10),\n",
       " ('weak', 10),\n",
       " ('word', 10),\n",
       " ('attitude', 10),\n",
       " ('cause', 10),\n",
       " ('chocolate', 10),\n",
       " ('close', 10),\n",
       " ('evidence', 10),\n",
       " ('fear', 10),\n",
       " ('friday', 10),\n",
       " ('hurry', 10),\n",
       " ('love', 10),\n",
       " ('meeting', 10),\n",
       " ('night', 10),\n",
       " ('pass', 10),\n",
       " ('quiet', 10),\n",
       " ('religion', 10),\n",
       " ('rule', 10),\n",
       " ('single', 10),\n",
       " ('soap', 10),\n",
       " ('strange', 10),\n",
       " ('ticket', 10),\n",
       " ('turkey', 10),\n",
       " ('upset', 10),\n",
       " ('witness', 10),\n",
       " ('back', 10),\n",
       " ('beer', 10),\n",
       " ('bottom', 10),\n",
       " ('choice', 10),\n",
       " ('complex', 10),\n",
       " ('cover', 10),\n",
       " ('depend', 10),\n",
       " ('exchange', 10),\n",
       " ('find', 10),\n",
       " ('grandfather', 10),\n",
       " ('grapes', 10),\n",
       " ('hammer', 10),\n",
       " ('one', 10),\n",
       " ('rehearse', 10),\n",
       " ('silent', 10),\n",
       " ('sour', 10),\n",
       " ('straight', 10),\n",
       " ('strict', 10),\n",
       " ('tease', 10),\n",
       " ('tie', 10),\n",
       " ('top', 10),\n",
       " ('uncle', 10),\n",
       " ('vacation', 10),\n",
       " ('wow', 10),\n",
       " ('airplane', 9),\n",
       " ('belt', 9),\n",
       " ('cards', 9),\n",
       " ('complain', 9),\n",
       " ('embarrass', 9),\n",
       " ('feedback', 9),\n",
       " ('gum', 9),\n",
       " ('ice cream', 9),\n",
       " ('impossible', 9),\n",
       " ('jump', 9),\n",
       " ('library', 9),\n",
       " ('other', 9),\n",
       " ('provide', 9),\n",
       " ('question', 9),\n",
       " ('quick', 9),\n",
       " ('rain', 9),\n",
       " ('really', 9),\n",
       " ('remove', 9),\n",
       " ('scared', 9),\n",
       " ('send', 9),\n",
       " ('service', 9),\n",
       " ('shy', 9),\n",
       " ('sometimes', 9),\n",
       " ('spirit', 9),\n",
       " ('staff', 9),\n",
       " ('store', 9),\n",
       " ('straw', 9),\n",
       " ('symbol', 9),\n",
       " ('young', 9),\n",
       " ('almost', 9),\n",
       " ('apartment', 9),\n",
       " ('arm', 9),\n",
       " ('basement', 9),\n",
       " ('beautiful', 9),\n",
       " ('bee', 9),\n",
       " ('bite', 9),\n",
       " ('camp', 9),\n",
       " ('church', 9),\n",
       " ('compromise', 9),\n",
       " ('earring', 9),\n",
       " ('elephant', 9),\n",
       " ('every', 9),\n",
       " ('experience', 9),\n",
       " ('few', 9),\n",
       " ('giraffe', 9),\n",
       " ('gloves', 9),\n",
       " ('gone', 9),\n",
       " ('hello', 9),\n",
       " ('keep', 9),\n",
       " ('memorize', 9),\n",
       " ('neutral', 9),\n",
       " ('owe', 9),\n",
       " ('parents', 9),\n",
       " ('protect', 9),\n",
       " ('psychology', 9),\n",
       " ('rat', 9),\n",
       " ('require', 9),\n",
       " ('rise', 9),\n",
       " ('rob', 9),\n",
       " ('roof', 9),\n",
       " ('seem', 9),\n",
       " ('spin', 9),\n",
       " ('street', 9),\n",
       " ('swallow', 9),\n",
       " ('their', 9),\n",
       " ('thirsty', 9),\n",
       " ('toilet', 9),\n",
       " ('which', 9),\n",
       " ('appear', 9),\n",
       " ('borrow', 9),\n",
       " ('boyfriend', 9),\n",
       " ('butter', 9),\n",
       " ('carry', 9),\n",
       " ('chase', 9),\n",
       " ('classroom', 9),\n",
       " ('cut', 9),\n",
       " ('dictionary', 9),\n",
       " ('experiment', 9),\n",
       " ('france', 9),\n",
       " ('helicopter', 9),\n",
       " ('high', 9),\n",
       " ('hurt', 9),\n",
       " ('jesus', 9),\n",
       " ('lecture', 9),\n",
       " ('live', 9),\n",
       " ('lousy', 9),\n",
       " ('math', 9),\n",
       " ('minus', 9),\n",
       " ('mushroom', 9),\n",
       " ('phone', 9),\n",
       " ('point', 9),\n",
       " ('power', 9),\n",
       " ('presentation', 9),\n",
       " ('private', 9),\n",
       " ('procrastinate', 9),\n",
       " ('queen', 9),\n",
       " ('rest', 9),\n",
       " ('square', 9),\n",
       " ('stand', 9),\n",
       " ('summon', 9),\n",
       " ('suppose', 9),\n",
       " ('third', 9),\n",
       " ('touch', 9),\n",
       " ('volunteer', 9),\n",
       " ('we', 9),\n",
       " ('another', 9),\n",
       " ('army', 9),\n",
       " ('asia', 9),\n",
       " ('autumn', 9),\n",
       " ('bet', 9),\n",
       " ('body', 9),\n",
       " ('bottle', 9),\n",
       " ('care', 9),\n",
       " ('comb', 9),\n",
       " ('conflict', 9),\n",
       " ('contact', 9),\n",
       " ('desert', 9),\n",
       " ('english', 9),\n",
       " ('fact', 9),\n",
       " ('for', 9),\n",
       " ('gossip', 9),\n",
       " ('half', 9),\n",
       " ('inside', 9),\n",
       " ('israel', 9),\n",
       " ('land', 9),\n",
       " ('limit', 9),\n",
       " ('loud', 9),\n",
       " ('next', 9),\n",
       " ('pig', 9),\n",
       " ('represent', 9),\n",
       " ('review', 9),\n",
       " ('satisfy', 9),\n",
       " ('senate', 9),\n",
       " ('structure', 9),\n",
       " ('wash', 9),\n",
       " ('become', 9),\n",
       " ('below', 9),\n",
       " ('boss', 9),\n",
       " ('both', 9),\n",
       " ('bus', 9),\n",
       " ('chain', 9),\n",
       " ('climb', 9),\n",
       " ('community', 9),\n",
       " ('cop', 9),\n",
       " ('fly', 9),\n",
       " ('goal', 9),\n",
       " ('grandmother', 9),\n",
       " ('hungry', 9),\n",
       " ('measure', 9),\n",
       " ('operate', 9),\n",
       " ('pray', 9),\n",
       " ('put', 9),\n",
       " ('situation', 9),\n",
       " ('sound', 9),\n",
       " ('stare', 9),\n",
       " ('summer', 9),\n",
       " ('team', 9),\n",
       " ('underwear', 9),\n",
       " ('wood', 9),\n",
       " ('worry', 9),\n",
       " ('art', 9),\n",
       " ('asl', 9),\n",
       " ('audience', 9),\n",
       " ('baseball', 9),\n",
       " ('bedroom', 9),\n",
       " ('busy', 9),\n",
       " ('clean', 9),\n",
       " ('deer', 9),\n",
       " ('deodorant', 9),\n",
       " ('drawer', 9),\n",
       " ('drunk', 9),\n",
       " ('expect', 9),\n",
       " ('highway', 9),\n",
       " ('information', 9),\n",
       " ('multiply', 9),\n",
       " ('odd', 9),\n",
       " ('order', 9),\n",
       " ('pillow', 9),\n",
       " ('popular', 9),\n",
       " ('program', 9),\n",
       " ('raccoon', 9),\n",
       " ('radio', 9),\n",
       " ('reason', 9),\n",
       " ('respect', 9),\n",
       " ('rich', 9),\n",
       " ('solid', 9),\n",
       " ('special', 9),\n",
       " ('actor', 9),\n",
       " ('after', 9),\n",
       " ('blame', 9),\n",
       " ('cloud', 9),\n",
       " ('curriculum', 9),\n",
       " ('dad', 9),\n",
       " ('describe', 9),\n",
       " ('dream', 9),\n",
       " ('eagle', 9),\n",
       " ('fancy', 9),\n",
       " ('guess', 9),\n",
       " ('hamburger', 9),\n",
       " ('her', 9),\n",
       " ('insurance', 9),\n",
       " ('lobster', 9),\n",
       " ('mustache', 9),\n",
       " ('neck', 9),\n",
       " ('negative', 9),\n",
       " ('open', 9),\n",
       " ('overwhelm', 9),\n",
       " ('price', 9),\n",
       " ('scotland', 9),\n",
       " ('story', 9),\n",
       " ('support', 9),\n",
       " ('tournament', 9),\n",
       " ('translate', 9),\n",
       " ('warn', 9),\n",
       " ('wine', 9),\n",
       " ('world', 9),\n",
       " ('arrest', 9),\n",
       " ('big', 9),\n",
       " ('calm', 9),\n",
       " ('candle', 9),\n",
       " ('contribute', 9),\n",
       " ('corner', 9),\n",
       " ('disagree', 9),\n",
       " ('encourage', 9),\n",
       " ('evaluate', 9),\n",
       " ('flag', 9),\n",
       " ('if', 9),\n",
       " ('interview', 9),\n",
       " ('island', 9),\n",
       " ('lunch', 9),\n",
       " ('march', 9),\n",
       " ('nervous', 9),\n",
       " ('on', 9),\n",
       " ('place', 9),\n",
       " ('present', 9),\n",
       " ('printer', 9),\n",
       " ('separate', 9),\n",
       " ('slave', 9),\n",
       " ('snake', 9),\n",
       " ('together', 9),\n",
       " ('a lot', 8),\n",
       " ('artist', 8),\n",
       " ('belief', 8),\n",
       " ('boat', 8),\n",
       " ('card', 8),\n",
       " ('command', 8),\n",
       " ('common', 8),\n",
       " ('dorm', 8),\n",
       " ('educate', 8),\n",
       " ('eight', 8),\n",
       " ('erase', 8),\n",
       " ('exaggerate', 8),\n",
       " ('freeze', 8),\n",
       " ('ghost', 8),\n",
       " ('gray', 8),\n",
       " ('jewish', 8),\n",
       " ('lesbian', 8),\n",
       " ('lion', 8),\n",
       " ('manager', 8),\n",
       " ('middle', 8),\n",
       " ('mouth', 8),\n",
       " ('out', 8),\n",
       " ('policy', 8),\n",
       " ('rainbow', 8),\n",
       " ('serve', 8),\n",
       " ('sheep', 8),\n",
       " ('shop', 8),\n",
       " ('stupid', 8),\n",
       " ('subway', 8),\n",
       " ('sun', 8),\n",
       " ('telephone', 8),\n",
       " ('thank you', 8),\n",
       " ('willing', 8),\n",
       " ('wonderful', 8),\n",
       " ('wrench', 8),\n",
       " ('alarm', 8),\n",
       " ('beginning', 8),\n",
       " ('bless', 8),\n",
       " ('break', 8),\n",
       " ('christian', 8),\n",
       " ('control', 8),\n",
       " ('cost', 8),\n",
       " ('culture', 8),\n",
       " ('demonstrate', 8),\n",
       " ('double', 8),\n",
       " ('faculty', 8),\n",
       " ('flirt', 8),\n",
       " ('fox', 8),\n",
       " ('frog', 8),\n",
       " ('garage', 8),\n",
       " ('general', 8),\n",
       " ('goat', 8),\n",
       " ('golf', 8),\n",
       " ('guitar', 8),\n",
       " ('hold', 8),\n",
       " ('india', 8),\n",
       " ('infection', 8),\n",
       " ('left', 8),\n",
       " ('microphone', 8),\n",
       " ('mountain', 8),\n",
       " ('prove', 8),\n",
       " ('recent', 8),\n",
       " ('scientist', 8),\n",
       " ('shelf', 8),\n",
       " ('shower', 8),\n",
       " ('side', 8),\n",
       " ('soccer', 8),\n",
       " ('surface', 8),\n",
       " ('temple', 8),\n",
       " ('thing', 8),\n",
       " ('through', 8),\n",
       " ('umbrella', 8),\n",
       " ('weird', 8),\n",
       " ('without', 8),\n",
       " ('announce', 8),\n",
       " ('ask', 8),\n",
       " ('benefit', 8),\n",
       " ('clear', 8),\n",
       " ('congress', 8),\n",
       " ('conquer', 8),\n",
       " ('curious', 8),\n",
       " ('hate', 8),\n",
       " ('iran', 8),\n",
       " ('jail', 8),\n",
       " ('kick', 8),\n",
       " ('line', 8),\n",
       " ('museum', 8),\n",
       " ('ocean', 8),\n",
       " ('october', 8),\n",
       " ('pain', 8),\n",
       " ('pretty', 8),\n",
       " ('print', 8),\n",
       " ('race', 8),\n",
       " ('recognize', 8),\n",
       " ('replace', 8),\n",
       " ('senior', 8),\n",
       " ('seven', 8),\n",
       " ('snob', 8),\n",
       " ('specific', 8),\n",
       " ('stop', 8),\n",
       " ('terrible', 8),\n",
       " ('three', 8),\n",
       " ('try', 8),\n",
       " ('wedding', 8),\n",
       " ('zero', 8),\n",
       " ('auction', 8),\n",
       " ('bull', 8),\n",
       " ('cake', 8),\n",
       " ('character', 8),\n",
       " ('clever', 8),\n",
       " ('cochlear implant', 8),\n",
       " ('dinner', 8),\n",
       " ('director', 8),\n",
       " ('dizzy', 8),\n",
       " ('document', 8),\n",
       " ('dumb', 8),\n",
       " ('empty', 8),\n",
       " ('energy', 8),\n",
       " ('excited', 8),\n",
       " ('eye', 8),\n",
       " ('finally', 8),\n",
       " ('flexible', 8),\n",
       " ('fold', 8),\n",
       " ('fun', 8),\n",
       " ('funny', 8),\n",
       " ('lesson', 8),\n",
       " ('mad', 8),\n",
       " ('mexico', 8),\n",
       " ('mix', 8),\n",
       " ('much', 8),\n",
       " ('pocket', 8),\n",
       " ('promise', 8),\n",
       " ('pumpkin', 8),\n",
       " ('realize', 8),\n",
       " ('rude', 8),\n",
       " ('she', 8),\n",
       " ('spider', 8),\n",
       " ('squirrel', 8),\n",
       " ('stamp', 8),\n",
       " ('steel', 8),\n",
       " ('strawberry', 8),\n",
       " ('surprise', 8),\n",
       " ('tan', 8),\n",
       " ('trust', 8),\n",
       " ('under', 8),\n",
       " ...]"
      ]
     },
     "execution_count": 26,
     "metadata": {},
     "output_type": "execute_result"
    }
   ],
   "source": [
    "labelcount.sortBy(lambda x: x[1],ascending=False).collect()"
   ]
  },
  {
   "cell_type": "code",
   "execution_count": 27,
   "id": "e6259ed0",
   "metadata": {
    "ExecuteTime": {
     "end_time": "2023-08-01T12:25:20.960323Z",
     "start_time": "2023-08-01T12:25:20.840544Z"
    }
   },
   "outputs": [],
   "source": [
    "video_df3 = pd.DataFrame(video_df2, columns=['path'])"
   ]
  },
  {
   "cell_type": "code",
   "execution_count": 28,
   "id": "36c324d5",
   "metadata": {
    "ExecuteTime": {
     "end_time": "2023-08-01T12:25:26.672378Z",
     "start_time": "2023-08-01T12:25:26.560923Z"
    }
   },
   "outputs": [
    {
     "data": {
      "text/html": [
       "<div>\n",
       "<style scoped>\n",
       "    .dataframe tbody tr th:only-of-type {\n",
       "        vertical-align: middle;\n",
       "    }\n",
       "\n",
       "    .dataframe tbody tr th {\n",
       "        vertical-align: top;\n",
       "    }\n",
       "\n",
       "    .dataframe thead th {\n",
       "        text-align: right;\n",
       "    }\n",
       "</style>\n",
       "<table border=\"1\" class=\"dataframe\">\n",
       "  <thead>\n",
       "    <tr style=\"text-align: right;\">\n",
       "      <th></th>\n",
       "      <th>path</th>\n",
       "    </tr>\n",
       "  </thead>\n",
       "  <tbody>\n",
       "    <tr>\n",
       "      <th>0</th>\n",
       "      <td>file:/home/kristian/WLASL/videos_organized/a l...</td>\n",
       "    </tr>\n",
       "    <tr>\n",
       "      <th>1</th>\n",
       "      <td>file:/home/kristian/WLASL/videos_organized/a l...</td>\n",
       "    </tr>\n",
       "    <tr>\n",
       "      <th>2</th>\n",
       "      <td>file:/home/kristian/WLASL/videos_organized/a l...</td>\n",
       "    </tr>\n",
       "    <tr>\n",
       "      <th>3</th>\n",
       "      <td>file:/home/kristian/WLASL/videos_organized/a l...</td>\n",
       "    </tr>\n",
       "    <tr>\n",
       "      <th>4</th>\n",
       "      <td>file:/home/kristian/WLASL/videos_organized/a l...</td>\n",
       "    </tr>\n",
       "  </tbody>\n",
       "</table>\n",
       "</div>"
      ],
      "text/plain": [
       "                                                path\n",
       "0  file:/home/kristian/WLASL/videos_organized/a l...\n",
       "1  file:/home/kristian/WLASL/videos_organized/a l...\n",
       "2  file:/home/kristian/WLASL/videos_organized/a l...\n",
       "3  file:/home/kristian/WLASL/videos_organized/a l...\n",
       "4  file:/home/kristian/WLASL/videos_organized/a l..."
      ]
     },
     "execution_count": 28,
     "metadata": {},
     "output_type": "execute_result"
    }
   ],
   "source": [
    "video_df3.head()"
   ]
  },
  {
   "cell_type": "code",
   "execution_count": 29,
   "id": "f7b6dc2b",
   "metadata": {
    "ExecuteTime": {
     "end_time": "2023-08-01T12:25:28.432241Z",
     "start_time": "2023-08-01T12:25:28.391787Z"
    }
   },
   "outputs": [],
   "source": [
    "video_df = video_df3.join(pd.DataFrame(target, columns=['target','file']))"
   ]
  },
  {
   "cell_type": "code",
   "execution_count": 30,
   "id": "6f6927a7",
   "metadata": {
    "ExecuteTime": {
     "end_time": "2023-08-01T12:25:29.489575Z",
     "start_time": "2023-08-01T12:25:29.482839Z"
    }
   },
   "outputs": [
    {
     "data": {
      "text/html": [
       "<div>\n",
       "<style scoped>\n",
       "    .dataframe tbody tr th:only-of-type {\n",
       "        vertical-align: middle;\n",
       "    }\n",
       "\n",
       "    .dataframe tbody tr th {\n",
       "        vertical-align: top;\n",
       "    }\n",
       "\n",
       "    .dataframe thead th {\n",
       "        text-align: right;\n",
       "    }\n",
       "</style>\n",
       "<table border=\"1\" class=\"dataframe\">\n",
       "  <thead>\n",
       "    <tr style=\"text-align: right;\">\n",
       "      <th></th>\n",
       "      <th>path</th>\n",
       "      <th>target</th>\n",
       "      <th>file</th>\n",
       "    </tr>\n",
       "  </thead>\n",
       "  <tbody>\n",
       "    <tr>\n",
       "      <th>0</th>\n",
       "      <td>file:/home/kristian/WLASL/videos_organized/a l...</td>\n",
       "      <td>a lot</td>\n",
       "      <td>02123.mp4</td>\n",
       "    </tr>\n",
       "    <tr>\n",
       "      <th>1</th>\n",
       "      <td>file:/home/kristian/WLASL/videos_organized/a l...</td>\n",
       "      <td>a lot</td>\n",
       "      <td>02124.mp4</td>\n",
       "    </tr>\n",
       "    <tr>\n",
       "      <th>2</th>\n",
       "      <td>file:/home/kristian/WLASL/videos_organized/a l...</td>\n",
       "      <td>a lot</td>\n",
       "      <td>02125.mp4</td>\n",
       "    </tr>\n",
       "    <tr>\n",
       "      <th>3</th>\n",
       "      <td>file:/home/kristian/WLASL/videos_organized/a l...</td>\n",
       "      <td>a lot</td>\n",
       "      <td>02126.mp4</td>\n",
       "    </tr>\n",
       "    <tr>\n",
       "      <th>4</th>\n",
       "      <td>file:/home/kristian/WLASL/videos_organized/a l...</td>\n",
       "      <td>a lot</td>\n",
       "      <td>02128.mp4</td>\n",
       "    </tr>\n",
       "    <tr>\n",
       "      <th>5</th>\n",
       "      <td>file:/home/kristian/WLASL/videos_organized/a l...</td>\n",
       "      <td>a lot</td>\n",
       "      <td>02129.mp4</td>\n",
       "    </tr>\n",
       "    <tr>\n",
       "      <th>6</th>\n",
       "      <td>file:/home/kristian/WLASL/videos_organized/a l...</td>\n",
       "      <td>a lot</td>\n",
       "      <td>02130.mp4</td>\n",
       "    </tr>\n",
       "    <tr>\n",
       "      <th>7</th>\n",
       "      <td>file:/home/kristian/WLASL/videos_organized/a l...</td>\n",
       "      <td>a lot</td>\n",
       "      <td>02131.mp4</td>\n",
       "    </tr>\n",
       "    <tr>\n",
       "      <th>8</th>\n",
       "      <td>file:/home/kristian/WLASL/videos_organized/a/0...</td>\n",
       "      <td>a</td>\n",
       "      <td>00295.mp4</td>\n",
       "    </tr>\n",
       "    <tr>\n",
       "      <th>9</th>\n",
       "      <td>file:/home/kristian/WLASL/videos_organized/a/0...</td>\n",
       "      <td>a</td>\n",
       "      <td>01610.mp4</td>\n",
       "    </tr>\n",
       "    <tr>\n",
       "      <th>10</th>\n",
       "      <td>file:/home/kristian/WLASL/videos_organized/a/0...</td>\n",
       "      <td>a</td>\n",
       "      <td>01611.mp4</td>\n",
       "    </tr>\n",
       "    <tr>\n",
       "      <th>11</th>\n",
       "      <td>file:/home/kristian/WLASL/videos_organized/a/0...</td>\n",
       "      <td>a</td>\n",
       "      <td>01612.mp4</td>\n",
       "    </tr>\n",
       "    <tr>\n",
       "      <th>12</th>\n",
       "      <td>file:/home/kristian/WLASL/videos_organized/a/0...</td>\n",
       "      <td>a</td>\n",
       "      <td>01613.mp4</td>\n",
       "    </tr>\n",
       "    <tr>\n",
       "      <th>13</th>\n",
       "      <td>file:/home/kristian/WLASL/videos_organized/a/0...</td>\n",
       "      <td>a</td>\n",
       "      <td>01614.mp4</td>\n",
       "    </tr>\n",
       "    <tr>\n",
       "      <th>14</th>\n",
       "      <td>file:/home/kristian/WLASL/videos_organized/a/0...</td>\n",
       "      <td>a</td>\n",
       "      <td>01615.mp4</td>\n",
       "    </tr>\n",
       "    <tr>\n",
       "      <th>15</th>\n",
       "      <td>file:/home/kristian/WLASL/videos_organized/abd...</td>\n",
       "      <td>abdomen</td>\n",
       "      <td>00333.mp4</td>\n",
       "    </tr>\n",
       "    <tr>\n",
       "      <th>16</th>\n",
       "      <td>file:/home/kristian/WLASL/videos_organized/abd...</td>\n",
       "      <td>abdomen</td>\n",
       "      <td>00335.mp4</td>\n",
       "    </tr>\n",
       "    <tr>\n",
       "      <th>17</th>\n",
       "      <td>file:/home/kristian/WLASL/videos_organized/abd...</td>\n",
       "      <td>abdomen</td>\n",
       "      <td>00336.mp4</td>\n",
       "    </tr>\n",
       "    <tr>\n",
       "      <th>18</th>\n",
       "      <td>file:/home/kristian/WLASL/videos_organized/abd...</td>\n",
       "      <td>abdomen</td>\n",
       "      <td>00338.mp4</td>\n",
       "    </tr>\n",
       "    <tr>\n",
       "      <th>19</th>\n",
       "      <td>file:/home/kristian/WLASL/videos_organized/abd...</td>\n",
       "      <td>abdomen</td>\n",
       "      <td>00339.mp4</td>\n",
       "    </tr>\n",
       "  </tbody>\n",
       "</table>\n",
       "</div>"
      ],
      "text/plain": [
       "                                                 path   target       file\n",
       "0   file:/home/kristian/WLASL/videos_organized/a l...    a lot  02123.mp4\n",
       "1   file:/home/kristian/WLASL/videos_organized/a l...    a lot  02124.mp4\n",
       "2   file:/home/kristian/WLASL/videos_organized/a l...    a lot  02125.mp4\n",
       "3   file:/home/kristian/WLASL/videos_organized/a l...    a lot  02126.mp4\n",
       "4   file:/home/kristian/WLASL/videos_organized/a l...    a lot  02128.mp4\n",
       "5   file:/home/kristian/WLASL/videos_organized/a l...    a lot  02129.mp4\n",
       "6   file:/home/kristian/WLASL/videos_organized/a l...    a lot  02130.mp4\n",
       "7   file:/home/kristian/WLASL/videos_organized/a l...    a lot  02131.mp4\n",
       "8   file:/home/kristian/WLASL/videos_organized/a/0...        a  00295.mp4\n",
       "9   file:/home/kristian/WLASL/videos_organized/a/0...        a  01610.mp4\n",
       "10  file:/home/kristian/WLASL/videos_organized/a/0...        a  01611.mp4\n",
       "11  file:/home/kristian/WLASL/videos_organized/a/0...        a  01612.mp4\n",
       "12  file:/home/kristian/WLASL/videos_organized/a/0...        a  01613.mp4\n",
       "13  file:/home/kristian/WLASL/videos_organized/a/0...        a  01614.mp4\n",
       "14  file:/home/kristian/WLASL/videos_organized/a/0...        a  01615.mp4\n",
       "15  file:/home/kristian/WLASL/videos_organized/abd...  abdomen  00333.mp4\n",
       "16  file:/home/kristian/WLASL/videos_organized/abd...  abdomen  00335.mp4\n",
       "17  file:/home/kristian/WLASL/videos_organized/abd...  abdomen  00336.mp4\n",
       "18  file:/home/kristian/WLASL/videos_organized/abd...  abdomen  00338.mp4\n",
       "19  file:/home/kristian/WLASL/videos_organized/abd...  abdomen  00339.mp4"
      ]
     },
     "execution_count": 30,
     "metadata": {},
     "output_type": "execute_result"
    }
   ],
   "source": [
    "video_df.head(20)"
   ]
  },
  {
   "cell_type": "code",
   "execution_count": 31,
   "id": "1304b30b",
   "metadata": {
    "ExecuteTime": {
     "end_time": "2023-08-01T12:25:34.326868Z",
     "start_time": "2023-08-01T12:25:34.315229Z"
    }
   },
   "outputs": [
    {
     "data": {
      "text/html": [
       "<div>\n",
       "<style scoped>\n",
       "    .dataframe tbody tr th:only-of-type {\n",
       "        vertical-align: middle;\n",
       "    }\n",
       "\n",
       "    .dataframe tbody tr th {\n",
       "        vertical-align: top;\n",
       "    }\n",
       "\n",
       "    .dataframe thead th {\n",
       "        text-align: right;\n",
       "    }\n",
       "</style>\n",
       "<table border=\"1\" class=\"dataframe\">\n",
       "  <thead>\n",
       "    <tr style=\"text-align: right;\">\n",
       "      <th></th>\n",
       "      <th>path</th>\n",
       "      <th>target</th>\n",
       "      <th>file</th>\n",
       "    </tr>\n",
       "  </thead>\n",
       "  <tbody>\n",
       "    <tr>\n",
       "      <th>2884</th>\n",
       "      <td>file:/home/kristian/WLASL/videos_organized/che...</td>\n",
       "      <td>cheese</td>\n",
       "      <td>10271.mp4</td>\n",
       "    </tr>\n",
       "    <tr>\n",
       "      <th>6909</th>\n",
       "      <td>file:/home/kristian/WLASL/videos_organized/gol...</td>\n",
       "      <td>golf</td>\n",
       "      <td>25015.mp4</td>\n",
       "    </tr>\n",
       "    <tr>\n",
       "      <th>3774</th>\n",
       "      <td>file:/home/kristian/WLASL/videos_organized/cou...</td>\n",
       "      <td>cough</td>\n",
       "      <td>13473.mp4</td>\n",
       "    </tr>\n",
       "    <tr>\n",
       "      <th>17084</th>\n",
       "      <td>file:/home/kristian/WLASL/videos_organized/wor...</td>\n",
       "      <td>worm</td>\n",
       "      <td>69541.mp4</td>\n",
       "    </tr>\n",
       "    <tr>\n",
       "      <th>9999</th>\n",
       "      <td>file:/home/kristian/WLASL/videos_organized/neg...</td>\n",
       "      <td>negative</td>\n",
       "      <td>37915.mp4</td>\n",
       "    </tr>\n",
       "    <tr>\n",
       "      <th>11157</th>\n",
       "      <td>file:/home/kristian/WLASL/videos_organized/pin...</td>\n",
       "      <td>pink</td>\n",
       "      <td>42840.mp4</td>\n",
       "    </tr>\n",
       "    <tr>\n",
       "      <th>11143</th>\n",
       "      <td>file:/home/kristian/WLASL/videos_organized/pil...</td>\n",
       "      <td>pilot</td>\n",
       "      <td>42760.mp4</td>\n",
       "    </tr>\n",
       "    <tr>\n",
       "      <th>5188</th>\n",
       "      <td>file:/home/kristian/WLASL/videos_organized/ear...</td>\n",
       "      <td>earthquake</td>\n",
       "      <td>18254.mp4</td>\n",
       "    </tr>\n",
       "    <tr>\n",
       "      <th>10781</th>\n",
       "      <td>file:/home/kristian/WLASL/videos_organized/par...</td>\n",
       "      <td>part</td>\n",
       "      <td>41265.mp4</td>\n",
       "    </tr>\n",
       "    <tr>\n",
       "      <th>6020</th>\n",
       "      <td>file:/home/kristian/WLASL/videos_organized/fed...</td>\n",
       "      <td>federal</td>\n",
       "      <td>21370.mp4</td>\n",
       "    </tr>\n",
       "    <tr>\n",
       "      <th>2917</th>\n",
       "      <td>file:/home/kristian/WLASL/videos_organized/chi...</td>\n",
       "      <td>chicago</td>\n",
       "      <td>10393.mp4</td>\n",
       "    </tr>\n",
       "    <tr>\n",
       "      <th>13372</th>\n",
       "      <td>file:/home/kristian/WLASL/videos_organized/shi...</td>\n",
       "      <td>shirt</td>\n",
       "      <td>51077.mp4</td>\n",
       "    </tr>\n",
       "    <tr>\n",
       "      <th>12417</th>\n",
       "      <td>file:/home/kristian/WLASL/videos_organized/rep...</td>\n",
       "      <td>report</td>\n",
       "      <td>47357.mp4</td>\n",
       "    </tr>\n",
       "    <tr>\n",
       "      <th>3089</th>\n",
       "      <td>file:/home/kristian/WLASL/videos_organized/cla...</td>\n",
       "      <td>classroom</td>\n",
       "      <td>11012.mp4</td>\n",
       "    </tr>\n",
       "    <tr>\n",
       "      <th>2702</th>\n",
       "      <td>file:/home/kristian/WLASL/videos_organized/cer...</td>\n",
       "      <td>cereal</td>\n",
       "      <td>09776.mp4</td>\n",
       "    </tr>\n",
       "    <tr>\n",
       "      <th>14594</th>\n",
       "      <td>file:/home/kristian/WLASL/videos_organized/str...</td>\n",
       "      <td>struggle</td>\n",
       "      <td>55300.mp4</td>\n",
       "    </tr>\n",
       "    <tr>\n",
       "      <th>5834</th>\n",
       "      <td>file:/home/kristian/WLASL/videos_organized/fac...</td>\n",
       "      <td>fact</td>\n",
       "      <td>20746.mp4</td>\n",
       "    </tr>\n",
       "    <tr>\n",
       "      <th>1884</th>\n",
       "      <td>file:/home/kristian/WLASL/videos_organized/boo...</td>\n",
       "      <td>boots</td>\n",
       "      <td>07172.mp4</td>\n",
       "    </tr>\n",
       "    <tr>\n",
       "      <th>14340</th>\n",
       "      <td>file:/home/kristian/WLASL/videos_organized/sta...</td>\n",
       "      <td>stand</td>\n",
       "      <td>54383.mp4</td>\n",
       "    </tr>\n",
       "    <tr>\n",
       "      <th>10669</th>\n",
       "      <td>file:/home/kristian/WLASL/videos_organized/p/4...</td>\n",
       "      <td>p</td>\n",
       "      <td>42513.mp4</td>\n",
       "    </tr>\n",
       "  </tbody>\n",
       "</table>\n",
       "</div>"
      ],
      "text/plain": [
       "                                                    path      target  \\\n",
       "2884   file:/home/kristian/WLASL/videos_organized/che...      cheese   \n",
       "6909   file:/home/kristian/WLASL/videos_organized/gol...        golf   \n",
       "3774   file:/home/kristian/WLASL/videos_organized/cou...       cough   \n",
       "17084  file:/home/kristian/WLASL/videos_organized/wor...        worm   \n",
       "9999   file:/home/kristian/WLASL/videos_organized/neg...    negative   \n",
       "11157  file:/home/kristian/WLASL/videos_organized/pin...        pink   \n",
       "11143  file:/home/kristian/WLASL/videos_organized/pil...       pilot   \n",
       "5188   file:/home/kristian/WLASL/videos_organized/ear...  earthquake   \n",
       "10781  file:/home/kristian/WLASL/videos_organized/par...        part   \n",
       "6020   file:/home/kristian/WLASL/videos_organized/fed...     federal   \n",
       "2917   file:/home/kristian/WLASL/videos_organized/chi...     chicago   \n",
       "13372  file:/home/kristian/WLASL/videos_organized/shi...       shirt   \n",
       "12417  file:/home/kristian/WLASL/videos_organized/rep...      report   \n",
       "3089   file:/home/kristian/WLASL/videos_organized/cla...   classroom   \n",
       "2702   file:/home/kristian/WLASL/videos_organized/cer...      cereal   \n",
       "14594  file:/home/kristian/WLASL/videos_organized/str...    struggle   \n",
       "5834   file:/home/kristian/WLASL/videos_organized/fac...        fact   \n",
       "1884   file:/home/kristian/WLASL/videos_organized/boo...       boots   \n",
       "14340  file:/home/kristian/WLASL/videos_organized/sta...       stand   \n",
       "10669  file:/home/kristian/WLASL/videos_organized/p/4...           p   \n",
       "\n",
       "            file  \n",
       "2884   10271.mp4  \n",
       "6909   25015.mp4  \n",
       "3774   13473.mp4  \n",
       "17084  69541.mp4  \n",
       "9999   37915.mp4  \n",
       "11157  42840.mp4  \n",
       "11143  42760.mp4  \n",
       "5188   18254.mp4  \n",
       "10781  41265.mp4  \n",
       "6020   21370.mp4  \n",
       "2917   10393.mp4  \n",
       "13372  51077.mp4  \n",
       "12417  47357.mp4  \n",
       "3089   11012.mp4  \n",
       "2702   09776.mp4  \n",
       "14594  55300.mp4  \n",
       "5834   20746.mp4  \n",
       "1884   07172.mp4  \n",
       "14340  54383.mp4  \n",
       "10669  42513.mp4  "
      ]
     },
     "execution_count": 31,
     "metadata": {},
     "output_type": "execute_result"
    }
   ],
   "source": [
    "video_df.sample(20)"
   ]
  },
  {
   "cell_type": "code",
   "execution_count": 32,
   "id": "c1c38d14",
   "metadata": {
    "ExecuteTime": {
     "end_time": "2023-08-01T12:25:37.765827Z",
     "start_time": "2023-08-01T12:25:37.469166Z"
    }
   },
   "outputs": [],
   "source": [
    "#loop to get labels and filename per row\n",
    "i = 0\n",
    "target2 = []\n",
    "for row in video_df.path:\n",
    "    subdirname = os.path.basename(os.path.dirname(video_df.path[i]))\n",
    "    name = os.path.basename(video_df.path[i]).split('/')[-1]\n",
    "    target2.append([subdirname])\n",
    "    i = i + 1"
   ]
  },
  {
   "cell_type": "code",
   "execution_count": 33,
   "id": "d3565d55",
   "metadata": {
    "ExecuteTime": {
     "end_time": "2023-08-01T12:25:43.758561Z",
     "start_time": "2023-08-01T12:25:43.741064Z"
    }
   },
   "outputs": [
    {
     "data": {
      "text/plain": [
       "[['a lot'],\n",
       " ['a lot'],\n",
       " ['a lot'],\n",
       " ['a lot'],\n",
       " ['a lot'],\n",
       " ['a lot'],\n",
       " ['a lot'],\n",
       " ['a lot'],\n",
       " ['a'],\n",
       " ['a'],\n",
       " ['a'],\n",
       " ['a'],\n",
       " ['a'],\n",
       " ['a'],\n",
       " ['a'],\n",
       " ['abdomen'],\n",
       " ['abdomen'],\n",
       " ['abdomen'],\n",
       " ['abdomen'],\n",
       " ['abdomen'],\n",
       " ['abdomen'],\n",
       " ['abdomen'],\n",
       " ['able'],\n",
       " ['able'],\n",
       " ['able'],\n",
       " ['able'],\n",
       " ['able'],\n",
       " ['able'],\n",
       " ['able'],\n",
       " ['able'],\n",
       " ['about'],\n",
       " ['about'],\n",
       " ['about'],\n",
       " ['about'],\n",
       " ['about'],\n",
       " ['about'],\n",
       " ['about'],\n",
       " ['about'],\n",
       " ['about'],\n",
       " ['about'],\n",
       " ['above'],\n",
       " ['above'],\n",
       " ['above'],\n",
       " ['above'],\n",
       " ['above'],\n",
       " ['above'],\n",
       " ['above'],\n",
       " ['accent'],\n",
       " ['accent'],\n",
       " ['accent'],\n",
       " ['accent'],\n",
       " ['accent'],\n",
       " ['accept'],\n",
       " ['accept'],\n",
       " ['accept'],\n",
       " ['accept'],\n",
       " ['accept'],\n",
       " ['accept'],\n",
       " ['accept'],\n",
       " ['accept'],\n",
       " ['accept'],\n",
       " ['accept'],\n",
       " ['accept'],\n",
       " ['accident'],\n",
       " ['accident'],\n",
       " ['accident'],\n",
       " ['accident'],\n",
       " ['accident'],\n",
       " ['accident'],\n",
       " ['accident'],\n",
       " ['accident'],\n",
       " ['accident'],\n",
       " ['accident'],\n",
       " ['accident'],\n",
       " ['accident'],\n",
       " ['accident'],\n",
       " ['accident'],\n",
       " ['accident'],\n",
       " ['accident'],\n",
       " ['accident'],\n",
       " ['accomplish'],\n",
       " ['accomplish'],\n",
       " ['accomplish'],\n",
       " ['accomplish'],\n",
       " ['accomplish'],\n",
       " ['accomplish'],\n",
       " ['accountant'],\n",
       " ['accountant'],\n",
       " ['accountant'],\n",
       " ['accountant'],\n",
       " ['accountant'],\n",
       " ['accountant'],\n",
       " ['across'],\n",
       " ['across'],\n",
       " ['across'],\n",
       " ['across'],\n",
       " ['across'],\n",
       " ['across'],\n",
       " ['across'],\n",
       " ['across'],\n",
       " ['across'],\n",
       " ['across'],\n",
       " ['act'],\n",
       " ['act'],\n",
       " ['act'],\n",
       " ['act'],\n",
       " ['act'],\n",
       " ['act'],\n",
       " ['action'],\n",
       " ['action'],\n",
       " ['action'],\n",
       " ['action'],\n",
       " ['action'],\n",
       " ['action'],\n",
       " ['action'],\n",
       " ['active'],\n",
       " ['active'],\n",
       " ['active'],\n",
       " ['active'],\n",
       " ['active'],\n",
       " ['active'],\n",
       " ['active'],\n",
       " ['activity'],\n",
       " ['activity'],\n",
       " ['activity'],\n",
       " ['activity'],\n",
       " ['activity'],\n",
       " ['activity'],\n",
       " ['actor'],\n",
       " ['actor'],\n",
       " ['actor'],\n",
       " ['actor'],\n",
       " ['actor'],\n",
       " ['actor'],\n",
       " ['actor'],\n",
       " ['actor'],\n",
       " ['actor'],\n",
       " ['adapt'],\n",
       " ['adapt'],\n",
       " ['adapt'],\n",
       " ['adapt'],\n",
       " ['adapt'],\n",
       " ['adapt'],\n",
       " ['adapt'],\n",
       " ['add'],\n",
       " ['add'],\n",
       " ['add'],\n",
       " ['add'],\n",
       " ['add'],\n",
       " ['add'],\n",
       " ['add'],\n",
       " ['add'],\n",
       " ['add'],\n",
       " ['add'],\n",
       " ['address'],\n",
       " ['address'],\n",
       " ['address'],\n",
       " ['address'],\n",
       " ['address'],\n",
       " ['address'],\n",
       " ['adjective'],\n",
       " ['adjective'],\n",
       " ['adjective'],\n",
       " ['adjective'],\n",
       " ['adjective'],\n",
       " ['adjective'],\n",
       " ['adjust'],\n",
       " ['adjust'],\n",
       " ['adjust'],\n",
       " ['adjust'],\n",
       " ['adjust'],\n",
       " ['adjust'],\n",
       " ['admire'],\n",
       " ['admire'],\n",
       " ['admire'],\n",
       " ['admire'],\n",
       " ['admire'],\n",
       " ['admit'],\n",
       " ['admit'],\n",
       " ['admit'],\n",
       " ['admit'],\n",
       " ['admit'],\n",
       " ['admit'],\n",
       " ['adopt'],\n",
       " ['adopt'],\n",
       " ['adopt'],\n",
       " ['adopt'],\n",
       " ['adopt'],\n",
       " ['adopt'],\n",
       " ['adopt'],\n",
       " ['adopt'],\n",
       " ['adult'],\n",
       " ['adult'],\n",
       " ['adult'],\n",
       " ['adult'],\n",
       " ['adult'],\n",
       " ['adult'],\n",
       " ['adult'],\n",
       " ['adult'],\n",
       " ['adult'],\n",
       " ['adult'],\n",
       " ['adult'],\n",
       " ['adult'],\n",
       " ['advanced'],\n",
       " ['advanced'],\n",
       " ['advanced'],\n",
       " ['advanced'],\n",
       " ['advanced'],\n",
       " ['advanced'],\n",
       " ['advantage'],\n",
       " ['advantage'],\n",
       " ['advantage'],\n",
       " ['advantage'],\n",
       " ['advantage'],\n",
       " ['advantage'],\n",
       " ['adverb'],\n",
       " ['adverb'],\n",
       " ['adverb'],\n",
       " ['adverb'],\n",
       " ['adverb'],\n",
       " ['adverb'],\n",
       " ['affect'],\n",
       " ['affect'],\n",
       " ['affect'],\n",
       " ['affect'],\n",
       " ['affect'],\n",
       " ['affect'],\n",
       " ['affect'],\n",
       " ['afraid'],\n",
       " ['afraid'],\n",
       " ['afraid'],\n",
       " ['afraid'],\n",
       " ['afraid'],\n",
       " ['afraid'],\n",
       " ['afraid'],\n",
       " ['africa'],\n",
       " ['africa'],\n",
       " ['africa'],\n",
       " ['africa'],\n",
       " ['africa'],\n",
       " ['africa'],\n",
       " ['africa'],\n",
       " ['africa'],\n",
       " ['africa'],\n",
       " ['africa'],\n",
       " ['africa'],\n",
       " ['africa'],\n",
       " ['africa'],\n",
       " ['africa'],\n",
       " ['africa'],\n",
       " ['africa'],\n",
       " ['after'],\n",
       " ['after'],\n",
       " ['after'],\n",
       " ['after'],\n",
       " ['after'],\n",
       " ['after'],\n",
       " ['after'],\n",
       " ['after'],\n",
       " ['after'],\n",
       " ['afternoon'],\n",
       " ['afternoon'],\n",
       " ['afternoon'],\n",
       " ['afternoon'],\n",
       " ['afternoon'],\n",
       " ['afternoon'],\n",
       " ['afternoon'],\n",
       " ['afternoon'],\n",
       " ['afternoon'],\n",
       " ['afternoon'],\n",
       " ['afternoon'],\n",
       " ['again'],\n",
       " ['again'],\n",
       " ['again'],\n",
       " ['again'],\n",
       " ['again'],\n",
       " ['again'],\n",
       " ['again'],\n",
       " ['again'],\n",
       " ['again'],\n",
       " ['again'],\n",
       " ['again'],\n",
       " ['again'],\n",
       " ['again'],\n",
       " ['against'],\n",
       " ['against'],\n",
       " ['against'],\n",
       " ['against'],\n",
       " ['against'],\n",
       " ['against'],\n",
       " ['against'],\n",
       " ['age'],\n",
       " ['age'],\n",
       " ['age'],\n",
       " ['age'],\n",
       " ['age'],\n",
       " ['age'],\n",
       " ['age'],\n",
       " ['age'],\n",
       " ['age'],\n",
       " ['age'],\n",
       " ['age'],\n",
       " ['agenda'],\n",
       " ['agenda'],\n",
       " ['agenda'],\n",
       " ['agenda'],\n",
       " ['agenda'],\n",
       " ['agenda'],\n",
       " ['agenda'],\n",
       " ['ago'],\n",
       " ['ago'],\n",
       " ['ago'],\n",
       " ['ago'],\n",
       " ['ago'],\n",
       " ['ago'],\n",
       " ['ago'],\n",
       " ['ago'],\n",
       " ['ago'],\n",
       " ['ago'],\n",
       " ['ago'],\n",
       " ['agree'],\n",
       " ['agree'],\n",
       " ['agree'],\n",
       " ['agree'],\n",
       " ['agree'],\n",
       " ['agree'],\n",
       " ['agree'],\n",
       " ['agree'],\n",
       " ['agree'],\n",
       " ['agree'],\n",
       " ['agreement'],\n",
       " ['agreement'],\n",
       " ['agreement'],\n",
       " ['agreement'],\n",
       " ['agreement'],\n",
       " ['ahead'],\n",
       " ['ahead'],\n",
       " ['ahead'],\n",
       " ['ahead'],\n",
       " ['ahead'],\n",
       " ['ahead'],\n",
       " ['ahead'],\n",
       " ['aid'],\n",
       " ['aid'],\n",
       " ['aid'],\n",
       " ['aid'],\n",
       " ['aid'],\n",
       " ['aid'],\n",
       " ['aim'],\n",
       " ['aim'],\n",
       " ['aim'],\n",
       " ['aim'],\n",
       " ['aim'],\n",
       " ['aim'],\n",
       " ['airplane'],\n",
       " ['airplane'],\n",
       " ['airplane'],\n",
       " ['airplane'],\n",
       " ['airplane'],\n",
       " ['airplane'],\n",
       " ['airplane'],\n",
       " ['airplane'],\n",
       " ['airplane'],\n",
       " ['alarm'],\n",
       " ['alarm'],\n",
       " ['alarm'],\n",
       " ['alarm'],\n",
       " ['alarm'],\n",
       " ['alarm'],\n",
       " ['alarm'],\n",
       " ['alarm'],\n",
       " ['alcohol'],\n",
       " ['alcohol'],\n",
       " ['alcohol'],\n",
       " ['alcohol'],\n",
       " ['alcohol'],\n",
       " ['alcohol'],\n",
       " ['alcohol'],\n",
       " ['algebra'],\n",
       " ['algebra'],\n",
       " ['algebra'],\n",
       " ['algebra'],\n",
       " ['algebra'],\n",
       " ['algebra'],\n",
       " ['algebra'],\n",
       " ['all day'],\n",
       " ['all day'],\n",
       " ['all day'],\n",
       " ['all day'],\n",
       " ['all day'],\n",
       " ['all day'],\n",
       " ['all'],\n",
       " ['all'],\n",
       " ['all'],\n",
       " ['all'],\n",
       " ['all'],\n",
       " ['all'],\n",
       " ['all'],\n",
       " ['all'],\n",
       " ['all'],\n",
       " ['all'],\n",
       " ['all'],\n",
       " ['all'],\n",
       " ['all'],\n",
       " ['all'],\n",
       " ['all'],\n",
       " ['allergy'],\n",
       " ['allergy'],\n",
       " ['allergy'],\n",
       " ['allergy'],\n",
       " ['allergy'],\n",
       " ['allergy'],\n",
       " ['allergy'],\n",
       " ['alligator'],\n",
       " ['alligator'],\n",
       " ['alligator'],\n",
       " ['alligator'],\n",
       " ['alligator'],\n",
       " ['alligator'],\n",
       " ['allow'],\n",
       " ['allow'],\n",
       " ['allow'],\n",
       " ['allow'],\n",
       " ['allow'],\n",
       " ['allow'],\n",
       " ['allow'],\n",
       " ['allow'],\n",
       " ['allow'],\n",
       " ['allow'],\n",
       " ['allow'],\n",
       " ['almost'],\n",
       " ['almost'],\n",
       " ['almost'],\n",
       " ['almost'],\n",
       " ['almost'],\n",
       " ['almost'],\n",
       " ['almost'],\n",
       " ['almost'],\n",
       " ['almost'],\n",
       " ['alone'],\n",
       " ['alone'],\n",
       " ['alone'],\n",
       " ['alone'],\n",
       " ['alone'],\n",
       " ['alone'],\n",
       " ['alone'],\n",
       " ['alone'],\n",
       " ['alone'],\n",
       " ['alone'],\n",
       " ['alphabet'],\n",
       " ['alphabet'],\n",
       " ['alphabet'],\n",
       " ['alphabet'],\n",
       " ['alphabet'],\n",
       " ['already'],\n",
       " ['already'],\n",
       " ['already'],\n",
       " ['already'],\n",
       " ['already'],\n",
       " ['already'],\n",
       " ['already'],\n",
       " ['already'],\n",
       " ['already'],\n",
       " ['already'],\n",
       " ['already'],\n",
       " ['also'],\n",
       " ['also'],\n",
       " ['also'],\n",
       " ['also'],\n",
       " ['also'],\n",
       " ['also'],\n",
       " ['also'],\n",
       " ['also'],\n",
       " ['also'],\n",
       " ['also'],\n",
       " ['also'],\n",
       " ['always'],\n",
       " ['always'],\n",
       " ['always'],\n",
       " ['always'],\n",
       " ['always'],\n",
       " ['always'],\n",
       " ['always'],\n",
       " ['always'],\n",
       " ['always'],\n",
       " ['always'],\n",
       " ['always'],\n",
       " ['always'],\n",
       " ['always'],\n",
       " ['amazing'],\n",
       " ['amazing'],\n",
       " ['amazing'],\n",
       " ['amazing'],\n",
       " ['amazing'],\n",
       " ['america'],\n",
       " ['america'],\n",
       " ['america'],\n",
       " ['america'],\n",
       " ['america'],\n",
       " ['america'],\n",
       " ['america'],\n",
       " ['america'],\n",
       " ['america'],\n",
       " ['america'],\n",
       " ['amputate'],\n",
       " ['amputate'],\n",
       " ['amputate'],\n",
       " ['amputate'],\n",
       " ['amputate'],\n",
       " ['analyze'],\n",
       " ['analyze'],\n",
       " ['analyze'],\n",
       " ['analyze'],\n",
       " ['analyze'],\n",
       " ['analyze'],\n",
       " ['analyze'],\n",
       " ['analyze'],\n",
       " ['analyze'],\n",
       " ['analyze'],\n",
       " ['anatomy'],\n",
       " ['anatomy'],\n",
       " ['anatomy'],\n",
       " ['anatomy'],\n",
       " ['anatomy'],\n",
       " ['anatomy'],\n",
       " ['and'],\n",
       " ['and'],\n",
       " ['and'],\n",
       " ['and'],\n",
       " ['and'],\n",
       " ['and'],\n",
       " ['and'],\n",
       " ['and'],\n",
       " ['angel'],\n",
       " ['angel'],\n",
       " ['angel'],\n",
       " ['angel'],\n",
       " ['angel'],\n",
       " ['angel'],\n",
       " ['angel'],\n",
       " ['angel'],\n",
       " ['angel'],\n",
       " ['angel'],\n",
       " ['angle'],\n",
       " ['angle'],\n",
       " ['angle'],\n",
       " ['angle'],\n",
       " ['angle'],\n",
       " ['angle'],\n",
       " ['angle'],\n",
       " ['angle'],\n",
       " ['angry'],\n",
       " ['angry'],\n",
       " ['angry'],\n",
       " ['angry'],\n",
       " ['angry'],\n",
       " ['angry'],\n",
       " ['angry'],\n",
       " ['angry'],\n",
       " ['animal'],\n",
       " ['animal'],\n",
       " ['animal'],\n",
       " ['animal'],\n",
       " ['animal'],\n",
       " ['animal'],\n",
       " ['animal'],\n",
       " ['animal'],\n",
       " ['animal'],\n",
       " ['animal'],\n",
       " ['animal'],\n",
       " ['animal'],\n",
       " ['anniversary'],\n",
       " ['anniversary'],\n",
       " ['anniversary'],\n",
       " ['anniversary'],\n",
       " ['anniversary'],\n",
       " ['anniversary'],\n",
       " ['anniversary'],\n",
       " ['announce'],\n",
       " ['announce'],\n",
       " ['announce'],\n",
       " ['announce'],\n",
       " ['announce'],\n",
       " ['announce'],\n",
       " ['announce'],\n",
       " ['announce'],\n",
       " ['annoy'],\n",
       " ['annoy'],\n",
       " ['annoy'],\n",
       " ['annoy'],\n",
       " ['annoy'],\n",
       " ['annoy'],\n",
       " ['another'],\n",
       " ['another'],\n",
       " ['another'],\n",
       " ['another'],\n",
       " ['another'],\n",
       " ['another'],\n",
       " ['another'],\n",
       " ['another'],\n",
       " ['another'],\n",
       " ['answer'],\n",
       " ['answer'],\n",
       " ['answer'],\n",
       " ['answer'],\n",
       " ['answer'],\n",
       " ['answer'],\n",
       " ['answer'],\n",
       " ['answer'],\n",
       " ['answer'],\n",
       " ['answer'],\n",
       " ['answer'],\n",
       " ['answer'],\n",
       " ['any'],\n",
       " ['any'],\n",
       " ['any'],\n",
       " ['any'],\n",
       " ['any'],\n",
       " ['any'],\n",
       " ['any'],\n",
       " ['any'],\n",
       " ['any'],\n",
       " ['any'],\n",
       " ['anyway'],\n",
       " ['anyway'],\n",
       " ['anyway'],\n",
       " ['anyway'],\n",
       " ['anyway'],\n",
       " ['anyway'],\n",
       " ['apart'],\n",
       " ['apart'],\n",
       " ['apart'],\n",
       " ['apart'],\n",
       " ['apart'],\n",
       " ['apart'],\n",
       " ['apartment'],\n",
       " ['apartment'],\n",
       " ['apartment'],\n",
       " ['apartment'],\n",
       " ['apartment'],\n",
       " ['apartment'],\n",
       " ['apartment'],\n",
       " ['apartment'],\n",
       " ['apartment'],\n",
       " ['apostrophe'],\n",
       " ['apostrophe'],\n",
       " ['apostrophe'],\n",
       " ['apostrophe'],\n",
       " ['apostrophe'],\n",
       " ['apostrophe'],\n",
       " ['apostrophe'],\n",
       " ['appear'],\n",
       " ['appear'],\n",
       " ['appear'],\n",
       " ['appear'],\n",
       " ['appear'],\n",
       " ['appear'],\n",
       " ['appear'],\n",
       " ['appear'],\n",
       " ['appear'],\n",
       " ['appetite'],\n",
       " ['appetite'],\n",
       " ['appetite'],\n",
       " ['appetite'],\n",
       " ['appetite'],\n",
       " ['appetite'],\n",
       " ['appetite'],\n",
       " ['apple'],\n",
       " ['apple'],\n",
       " ['apple'],\n",
       " ['apple'],\n",
       " ['apple'],\n",
       " ['apple'],\n",
       " ['apple'],\n",
       " ['apple'],\n",
       " ['apple'],\n",
       " ['apple'],\n",
       " ['apple'],\n",
       " ['apple'],\n",
       " ['apple'],\n",
       " ['apple'],\n",
       " ['apple'],\n",
       " ['apple'],\n",
       " ['appointment'],\n",
       " ['appointment'],\n",
       " ['appointment'],\n",
       " ['appointment'],\n",
       " ['appointment'],\n",
       " ['appointment'],\n",
       " ['appointment'],\n",
       " ['appointment'],\n",
       " ['appointment'],\n",
       " ['appointment'],\n",
       " ['appointment'],\n",
       " ['appreciate'],\n",
       " ['appreciate'],\n",
       " ['appreciate'],\n",
       " ['appreciate'],\n",
       " ['appreciate'],\n",
       " ['appreciate'],\n",
       " ['approach'],\n",
       " ['approach'],\n",
       " ['approach'],\n",
       " ['approach'],\n",
       " ['approach'],\n",
       " ['approach'],\n",
       " ['appropriate'],\n",
       " ['appropriate'],\n",
       " ['appropriate'],\n",
       " ['appropriate'],\n",
       " ['appropriate'],\n",
       " ['appropriate'],\n",
       " ['appropriate'],\n",
       " ['appropriate'],\n",
       " ['approve'],\n",
       " ['approve'],\n",
       " ['approve'],\n",
       " ['approve'],\n",
       " ['approve'],\n",
       " ['approve'],\n",
       " ['approve'],\n",
       " ['approve'],\n",
       " ['approve'],\n",
       " ['approve'],\n",
       " ['approve'],\n",
       " ['approve'],\n",
       " ['approve'],\n",
       " ['approve'],\n",
       " ['april'],\n",
       " ['april'],\n",
       " ['april'],\n",
       " ['april'],\n",
       " ['april'],\n",
       " ['april'],\n",
       " ['april'],\n",
       " ['archery'],\n",
       " ['archery'],\n",
       " ['archery'],\n",
       " ['archery'],\n",
       " ['archery'],\n",
       " ['archery'],\n",
       " ['archery'],\n",
       " ['area'],\n",
       " ['area'],\n",
       " ['area'],\n",
       " ['area'],\n",
       " ['area'],\n",
       " ['area'],\n",
       " ['area'],\n",
       " ['area'],\n",
       " ['area'],\n",
       " ['area'],\n",
       " ['argue'],\n",
       " ['argue'],\n",
       " ['argue'],\n",
       " ['argue'],\n",
       " ['argue'],\n",
       " ['argue'],\n",
       " ['argue'],\n",
       " ['argue'],\n",
       " ['argue'],\n",
       " ['argue'],\n",
       " ['argue'],\n",
       " ['argue'],\n",
       " ['argue'],\n",
       " ['arizona'],\n",
       " ['arizona'],\n",
       " ['arizona'],\n",
       " ['arizona'],\n",
       " ['arizona'],\n",
       " ['arizona'],\n",
       " ['arm'],\n",
       " ['arm'],\n",
       " ['arm'],\n",
       " ['arm'],\n",
       " ['arm'],\n",
       " ['arm'],\n",
       " ['arm'],\n",
       " ['arm'],\n",
       " ['arm'],\n",
       " ['army'],\n",
       " ['army'],\n",
       " ['army'],\n",
       " ['army'],\n",
       " ['army'],\n",
       " ['army'],\n",
       " ['army'],\n",
       " ['army'],\n",
       " ['army'],\n",
       " ['around'],\n",
       " ['around'],\n",
       " ['around'],\n",
       " ['around'],\n",
       " ['around'],\n",
       " ['around'],\n",
       " ['around'],\n",
       " ['arrest'],\n",
       " ['arrest'],\n",
       " ['arrest'],\n",
       " ['arrest'],\n",
       " ['arrest'],\n",
       " ['arrest'],\n",
       " ['arrest'],\n",
       " ['arrest'],\n",
       " ['arrest'],\n",
       " ['arrive'],\n",
       " ['arrive'],\n",
       " ['arrive'],\n",
       " ['arrive'],\n",
       " ['arrive'],\n",
       " ['arrive'],\n",
       " ['arrive'],\n",
       " ['arrive'],\n",
       " ['arrive'],\n",
       " ['arrive'],\n",
       " ['arrive'],\n",
       " ['arrive'],\n",
       " ['arrive'],\n",
       " ['arrogant'],\n",
       " ['arrogant'],\n",
       " ['arrogant'],\n",
       " ['arrogant'],\n",
       " ['arrogant'],\n",
       " ['arrogant'],\n",
       " ['arrogant'],\n",
       " ['arrogant'],\n",
       " ['art'],\n",
       " ['art'],\n",
       " ['art'],\n",
       " ['art'],\n",
       " ['art'],\n",
       " ['art'],\n",
       " ['art'],\n",
       " ['art'],\n",
       " ['art'],\n",
       " ['article'],\n",
       " ['article'],\n",
       " ['article'],\n",
       " ['article'],\n",
       " ['article'],\n",
       " ['article'],\n",
       " ['artist'],\n",
       " ['artist'],\n",
       " ['artist'],\n",
       " ['artist'],\n",
       " ['artist'],\n",
       " ['artist'],\n",
       " ['artist'],\n",
       " ['artist'],\n",
       " ['asia'],\n",
       " ['asia'],\n",
       " ['asia'],\n",
       " ['asia'],\n",
       " ['asia'],\n",
       " ['asia'],\n",
       " ['asia'],\n",
       " ['asia'],\n",
       " ['asia'],\n",
       " ['ask'],\n",
       " ['ask'],\n",
       " ['ask'],\n",
       " ['ask'],\n",
       " ['ask'],\n",
       " ['ask'],\n",
       " ['ask'],\n",
       " ['ask'],\n",
       " ['asl'],\n",
       " ['asl'],\n",
       " ['asl'],\n",
       " ['asl'],\n",
       " ['asl'],\n",
       " ['asl'],\n",
       " ['asl'],\n",
       " ['asl'],\n",
       " ['asl'],\n",
       " ['assist'],\n",
       " ['assist'],\n",
       " ['assist'],\n",
       " ['assist'],\n",
       " ['assist'],\n",
       " ['assist'],\n",
       " ['assistant'],\n",
       " ['assistant'],\n",
       " ['assistant'],\n",
       " ['assistant'],\n",
       " ['assistant'],\n",
       " ['assistant'],\n",
       " ['assistant'],\n",
       " ['assume'],\n",
       " ['assume'],\n",
       " ['assume'],\n",
       " ['assume'],\n",
       " ['assume'],\n",
       " ['assume'],\n",
       " ['attend'],\n",
       " ['attend'],\n",
       " ['attend'],\n",
       " ['attend'],\n",
       " ['attend'],\n",
       " ['attend'],\n",
       " ['attend'],\n",
       " ['attention'],\n",
       " ['attention'],\n",
       " ['attention'],\n",
       " ['attention'],\n",
       " ['attention'],\n",
       " ['attention'],\n",
       " ['attention'],\n",
       " ['attention'],\n",
       " ['attitude'],\n",
       " ['attitude'],\n",
       " ['attitude'],\n",
       " ['attitude'],\n",
       " ['attitude'],\n",
       " ['attitude'],\n",
       " ['attitude'],\n",
       " ['attitude'],\n",
       " ['attitude'],\n",
       " ['attitude'],\n",
       " ['attorney'],\n",
       " ['attorney'],\n",
       " ['attorney'],\n",
       " ['attorney'],\n",
       " ['attorney'],\n",
       " ['attorney'],\n",
       " ['attract'],\n",
       " ['attract'],\n",
       " ['attract'],\n",
       " ['attract'],\n",
       " ['attract'],\n",
       " ['attract'],\n",
       " ['attract'],\n",
       " ['attract'],\n",
       " ['auction'],\n",
       " ['auction'],\n",
       " ['auction'],\n",
       " ['auction'],\n",
       " ['auction'],\n",
       " ['auction'],\n",
       " ['auction'],\n",
       " ['auction'],\n",
       " ['audience'],\n",
       " ['audience'],\n",
       " ['audience'],\n",
       " ['audience'],\n",
       " ['audience'],\n",
       " ['audience'],\n",
       " ['audience'],\n",
       " ['audience'],\n",
       " ['audience'],\n",
       " ['audiologist'],\n",
       " ['audiologist'],\n",
       " ['audiologist'],\n",
       " ['audiologist'],\n",
       " ['audiologist'],\n",
       " ['audiology'],\n",
       " ['audiology'],\n",
       " ['audiology'],\n",
       " ['audiology'],\n",
       " ['audiology'],\n",
       " ['audiology'],\n",
       " ['august'],\n",
       " ['august'],\n",
       " ['august'],\n",
       " ['august'],\n",
       " ['august'],\n",
       " ['august'],\n",
       " ['august'],\n",
       " ['august'],\n",
       " ['august'],\n",
       " ['august'],\n",
       " ['aunt'],\n",
       " ['aunt'],\n",
       " ['aunt'],\n",
       " ['aunt'],\n",
       " ['aunt'],\n",
       " ['aunt'],\n",
       " ['aunt'],\n",
       " ['aunt'],\n",
       " ['aunt'],\n",
       " ['aunt'],\n",
       " ['aunt'],\n",
       " ['australia'],\n",
       " ['australia'],\n",
       " ['australia'],\n",
       " ['australia'],\n",
       " ['australia'],\n",
       " ['australia'],\n",
       " ['australia'],\n",
       " ['australia'],\n",
       " ['australia'],\n",
       " ['australia'],\n",
       " ['australia'],\n",
       " ['australia'],\n",
       " ['austria'],\n",
       " ['austria'],\n",
       " ['austria'],\n",
       " ['austria'],\n",
       " ['austria'],\n",
       " ['author'],\n",
       " ...]"
      ]
     },
     "execution_count": 33,
     "metadata": {},
     "output_type": "execute_result"
    }
   ],
   "source": [
    "target2"
   ]
  },
  {
   "cell_type": "code",
   "execution_count": 34,
   "id": "a0fdc077",
   "metadata": {
    "ExecuteTime": {
     "end_time": "2023-08-01T12:25:51.992843Z",
     "start_time": "2023-08-01T12:25:51.964068Z"
    }
   },
   "outputs": [],
   "source": [
    "video_df = video_df.join(pd.DataFrame(target2, columns=['originaltarget']))"
   ]
  },
  {
   "cell_type": "code",
   "execution_count": 35,
   "id": "b1351a95",
   "metadata": {
    "ExecuteTime": {
     "end_time": "2023-08-01T12:25:53.690297Z",
     "start_time": "2023-08-01T12:25:53.673962Z"
    },
    "scrolled": true
   },
   "outputs": [
    {
     "data": {
      "text/html": [
       "<div>\n",
       "<style scoped>\n",
       "    .dataframe tbody tr th:only-of-type {\n",
       "        vertical-align: middle;\n",
       "    }\n",
       "\n",
       "    .dataframe tbody tr th {\n",
       "        vertical-align: top;\n",
       "    }\n",
       "\n",
       "    .dataframe thead th {\n",
       "        text-align: right;\n",
       "    }\n",
       "</style>\n",
       "<table border=\"1\" class=\"dataframe\">\n",
       "  <thead>\n",
       "    <tr style=\"text-align: right;\">\n",
       "      <th></th>\n",
       "      <th>path</th>\n",
       "      <th>target</th>\n",
       "      <th>file</th>\n",
       "      <th>originaltarget</th>\n",
       "    </tr>\n",
       "  </thead>\n",
       "  <tbody>\n",
       "    <tr>\n",
       "      <th>209</th>\n",
       "      <td>file:/home/kristian/WLASL/videos_organized/adv...</td>\n",
       "      <td>advantage</td>\n",
       "      <td>01242.mp4</td>\n",
       "      <td>advantage</td>\n",
       "    </tr>\n",
       "    <tr>\n",
       "      <th>5520</th>\n",
       "      <td>file:/home/kristian/WLASL/videos_organized/equ...</td>\n",
       "      <td>equal</td>\n",
       "      <td>19464.mp4</td>\n",
       "      <td>equal</td>\n",
       "    </tr>\n",
       "    <tr>\n",
       "      <th>7585</th>\n",
       "      <td>file:/home/kristian/WLASL/videos_organized/hol...</td>\n",
       "      <td>hold</td>\n",
       "      <td>27661.mp4</td>\n",
       "      <td>hold</td>\n",
       "    </tr>\n",
       "    <tr>\n",
       "      <th>11901</th>\n",
       "      <td>file:/home/kristian/WLASL/videos_organized/pum...</td>\n",
       "      <td>pumpkin</td>\n",
       "      <td>66352.mp4</td>\n",
       "      <td>pumpkin</td>\n",
       "    </tr>\n",
       "    <tr>\n",
       "      <th>3714</th>\n",
       "      <td>file:/home/kristian/WLASL/videos_organized/cop...</td>\n",
       "      <td>copy</td>\n",
       "      <td>13276.mp4</td>\n",
       "      <td>copy</td>\n",
       "    </tr>\n",
       "    <tr>\n",
       "      <th>6257</th>\n",
       "      <td>file:/home/kristian/WLASL/videos_organized/flo...</td>\n",
       "      <td>flood</td>\n",
       "      <td>22489.mp4</td>\n",
       "      <td>flood</td>\n",
       "    </tr>\n",
       "    <tr>\n",
       "      <th>17032</th>\n",
       "      <td>file:/home/kristian/WLASL/videos_organized/wor...</td>\n",
       "      <td>word</td>\n",
       "      <td>63753.mp4</td>\n",
       "      <td>word</td>\n",
       "    </tr>\n",
       "    <tr>\n",
       "      <th>5816</th>\n",
       "      <td>file:/home/kristian/WLASL/videos_organized/f/2...</td>\n",
       "      <td>f</td>\n",
       "      <td>21571.mp4</td>\n",
       "      <td>f</td>\n",
       "    </tr>\n",
       "    <tr>\n",
       "      <th>6641</th>\n",
       "      <td>file:/home/kristian/WLASL/videos_organized/gal...</td>\n",
       "      <td>gallaudet</td>\n",
       "      <td>23992.mp4</td>\n",
       "      <td>gallaudet</td>\n",
       "    </tr>\n",
       "    <tr>\n",
       "      <th>13395</th>\n",
       "      <td>file:/home/kristian/WLASL/videos_organized/sho...</td>\n",
       "      <td>shoot</td>\n",
       "      <td>51154.mp4</td>\n",
       "      <td>shoot</td>\n",
       "    </tr>\n",
       "    <tr>\n",
       "      <th>14202</th>\n",
       "      <td>file:/home/kristian/WLASL/videos_organized/spe...</td>\n",
       "      <td>speed</td>\n",
       "      <td>53743.mp4</td>\n",
       "      <td>speed</td>\n",
       "    </tr>\n",
       "    <tr>\n",
       "      <th>12303</th>\n",
       "      <td>file:/home/kristian/WLASL/videos_organized/rej...</td>\n",
       "      <td>reject</td>\n",
       "      <td>47000.mp4</td>\n",
       "      <td>reject</td>\n",
       "    </tr>\n",
       "    <tr>\n",
       "      <th>4101</th>\n",
       "      <td>file:/home/kristian/WLASL/videos_organized/dar...</td>\n",
       "      <td>dark</td>\n",
       "      <td>14673.mp4</td>\n",
       "      <td>dark</td>\n",
       "    </tr>\n",
       "    <tr>\n",
       "      <th>16093</th>\n",
       "      <td>file:/home/kristian/WLASL/videos_organized/u/6...</td>\n",
       "      <td>u</td>\n",
       "      <td>60358.mp4</td>\n",
       "      <td>u</td>\n",
       "    </tr>\n",
       "    <tr>\n",
       "      <th>8940</th>\n",
       "      <td>file:/home/kristian/WLASL/videos_organized/lim...</td>\n",
       "      <td>limit</td>\n",
       "      <td>33317.mp4</td>\n",
       "      <td>limit</td>\n",
       "    </tr>\n",
       "    <tr>\n",
       "      <th>9323</th>\n",
       "      <td>file:/home/kristian/WLASL/videos_organized/mea...</td>\n",
       "      <td>mean</td>\n",
       "      <td>35298.mp4</td>\n",
       "      <td>mean</td>\n",
       "    </tr>\n",
       "    <tr>\n",
       "      <th>7397</th>\n",
       "      <td>file:/home/kristian/WLASL/videos_organized/hea...</td>\n",
       "      <td>hearing</td>\n",
       "      <td>26976.mp4</td>\n",
       "      <td>hearing</td>\n",
       "    </tr>\n",
       "    <tr>\n",
       "      <th>10252</th>\n",
       "      <td>file:/home/kristian/WLASL/videos_organized/not...</td>\n",
       "      <td>notice</td>\n",
       "      <td>38873.mp4</td>\n",
       "      <td>notice</td>\n",
       "    </tr>\n",
       "    <tr>\n",
       "      <th>9367</th>\n",
       "      <td>file:/home/kristian/WLASL/videos_organized/med...</td>\n",
       "      <td>medicine</td>\n",
       "      <td>35455.mp4</td>\n",
       "      <td>medicine</td>\n",
       "    </tr>\n",
       "    <tr>\n",
       "      <th>3221</th>\n",
       "      <td>file:/home/kristian/WLASL/videos_organized/coa...</td>\n",
       "      <td>coat</td>\n",
       "      <td>11474.mp4</td>\n",
       "      <td>coat</td>\n",
       "    </tr>\n",
       "    <tr>\n",
       "      <th>17008</th>\n",
       "      <td>file:/home/kristian/WLASL/videos_organized/won...</td>\n",
       "      <td>wonder</td>\n",
       "      <td>63695.mp4</td>\n",
       "      <td>wonder</td>\n",
       "    </tr>\n",
       "    <tr>\n",
       "      <th>11020</th>\n",
       "      <td>file:/home/kristian/WLASL/videos_organized/pet...</td>\n",
       "      <td>pet</td>\n",
       "      <td>42309.mp4</td>\n",
       "      <td>pet</td>\n",
       "    </tr>\n",
       "    <tr>\n",
       "      <th>15428</th>\n",
       "      <td>file:/home/kristian/WLASL/videos_organized/the...</td>\n",
       "      <td>thermometer</td>\n",
       "      <td>57849.mp4</td>\n",
       "      <td>thermometer</td>\n",
       "    </tr>\n",
       "    <tr>\n",
       "      <th>107</th>\n",
       "      <td>file:/home/kristian/WLASL/videos_organized/act...</td>\n",
       "      <td>act</td>\n",
       "      <td>65014.mp4</td>\n",
       "      <td>act</td>\n",
       "    </tr>\n",
       "    <tr>\n",
       "      <th>17279</th>\n",
       "      <td>file:/home/kristian/WLASL/videos_organized/you...</td>\n",
       "      <td>yourself</td>\n",
       "      <td>64456.mp4</td>\n",
       "      <td>yourself</td>\n",
       "    </tr>\n",
       "    <tr>\n",
       "      <th>1740</th>\n",
       "      <td>file:/home/kristian/WLASL/videos_organized/bla...</td>\n",
       "      <td>blanket</td>\n",
       "      <td>06552.mp4</td>\n",
       "      <td>blanket</td>\n",
       "    </tr>\n",
       "    <tr>\n",
       "      <th>6050</th>\n",
       "      <td>file:/home/kristian/WLASL/videos_organized/fee...</td>\n",
       "      <td>feel</td>\n",
       "      <td>21438.mp4</td>\n",
       "      <td>feel</td>\n",
       "    </tr>\n",
       "    <tr>\n",
       "      <th>14144</th>\n",
       "      <td>file:/home/kristian/WLASL/videos_organized/spa...</td>\n",
       "      <td>spain</td>\n",
       "      <td>53544.mp4</td>\n",
       "      <td>spain</td>\n",
       "    </tr>\n",
       "    <tr>\n",
       "      <th>14874</th>\n",
       "      <td>file:/home/kristian/WLASL/videos_organized/swa...</td>\n",
       "      <td>swallow</td>\n",
       "      <td>56202.mp4</td>\n",
       "      <td>swallow</td>\n",
       "    </tr>\n",
       "    <tr>\n",
       "      <th>1953</th>\n",
       "      <td>file:/home/kristian/WLASL/videos_organized/bow...</td>\n",
       "      <td>bowl</td>\n",
       "      <td>07373.mp4</td>\n",
       "      <td>bowl</td>\n",
       "    </tr>\n",
       "    <tr>\n",
       "      <th>11425</th>\n",
       "      <td>file:/home/kristian/WLASL/videos_organized/pot...</td>\n",
       "      <td>potato</td>\n",
       "      <td>43930.mp4</td>\n",
       "      <td>potato</td>\n",
       "    </tr>\n",
       "    <tr>\n",
       "      <th>9984</th>\n",
       "      <td>file:/home/kristian/WLASL/videos_organized/nee...</td>\n",
       "      <td>need</td>\n",
       "      <td>37883.mp4</td>\n",
       "      <td>need</td>\n",
       "    </tr>\n",
       "    <tr>\n",
       "      <th>1599</th>\n",
       "      <td>file:/home/kristian/WLASL/videos_organized/bet...</td>\n",
       "      <td>better</td>\n",
       "      <td>06070.mp4</td>\n",
       "      <td>better</td>\n",
       "    </tr>\n",
       "    <tr>\n",
       "      <th>15112</th>\n",
       "      <td>file:/home/kristian/WLASL/videos_organized/tea...</td>\n",
       "      <td>teacher</td>\n",
       "      <td>57051.mp4</td>\n",
       "      <td>teacher</td>\n",
       "    </tr>\n",
       "    <tr>\n",
       "      <th>13444</th>\n",
       "      <td>file:/home/kristian/WLASL/videos_organized/sho...</td>\n",
       "      <td>shoulder</td>\n",
       "      <td>51276.mp4</td>\n",
       "      <td>shoulder</td>\n",
       "    </tr>\n",
       "    <tr>\n",
       "      <th>7520</th>\n",
       "      <td>file:/home/kristian/WLASL/videos_organized/hig...</td>\n",
       "      <td>high school</td>\n",
       "      <td>27441.mp4</td>\n",
       "      <td>high school</td>\n",
       "    </tr>\n",
       "    <tr>\n",
       "      <th>2842</th>\n",
       "      <td>file:/home/kristian/WLASL/videos_organized/che...</td>\n",
       "      <td>cheap</td>\n",
       "      <td>65340.mp4</td>\n",
       "      <td>cheap</td>\n",
       "    </tr>\n",
       "    <tr>\n",
       "      <th>9912</th>\n",
       "      <td>file:/home/kristian/WLASL/videos_organized/nam...</td>\n",
       "      <td>name</td>\n",
       "      <td>37581.mp4</td>\n",
       "      <td>name</td>\n",
       "    </tr>\n",
       "    <tr>\n",
       "      <th>2240</th>\n",
       "      <td>file:/home/kristian/WLASL/videos_organized/bus...</td>\n",
       "      <td>bus</td>\n",
       "      <td>08355.mp4</td>\n",
       "      <td>bus</td>\n",
       "    </tr>\n",
       "    <tr>\n",
       "      <th>9714</th>\n",
       "      <td>file:/home/kristian/WLASL/videos_organized/mos...</td>\n",
       "      <td>most</td>\n",
       "      <td>68102.mp4</td>\n",
       "      <td>most</td>\n",
       "    </tr>\n",
       "    <tr>\n",
       "      <th>15208</th>\n",
       "      <td>file:/home/kristian/WLASL/videos_organized/tem...</td>\n",
       "      <td>tempt</td>\n",
       "      <td>57353.mp4</td>\n",
       "      <td>tempt</td>\n",
       "    </tr>\n",
       "    <tr>\n",
       "      <th>649</th>\n",
       "      <td>file:/home/kristian/WLASL/videos_organized/apo...</td>\n",
       "      <td>apostrophe</td>\n",
       "      <td>02916.mp4</td>\n",
       "      <td>apostrophe</td>\n",
       "    </tr>\n",
       "    <tr>\n",
       "      <th>2172</th>\n",
       "      <td>file:/home/kristian/WLASL/videos_organized/bro...</td>\n",
       "      <td>brown</td>\n",
       "      <td>07968.mp4</td>\n",
       "      <td>brown</td>\n",
       "    </tr>\n",
       "    <tr>\n",
       "      <th>13138</th>\n",
       "      <td>file:/home/kristian/WLASL/videos_organized/sel...</td>\n",
       "      <td>seldom</td>\n",
       "      <td>50199.mp4</td>\n",
       "      <td>seldom</td>\n",
       "    </tr>\n",
       "    <tr>\n",
       "      <th>3252</th>\n",
       "      <td>file:/home/kristian/WLASL/videos_organized/cof...</td>\n",
       "      <td>coffee</td>\n",
       "      <td>70033.mp4</td>\n",
       "      <td>coffee</td>\n",
       "    </tr>\n",
       "    <tr>\n",
       "      <th>5641</th>\n",
       "      <td>file:/home/kristian/WLASL/videos_organized/evi...</td>\n",
       "      <td>evidence</td>\n",
       "      <td>19974.mp4</td>\n",
       "      <td>evidence</td>\n",
       "    </tr>\n",
       "    <tr>\n",
       "      <th>15685</th>\n",
       "      <td>file:/home/kristian/WLASL/videos_organized/tod...</td>\n",
       "      <td>today</td>\n",
       "      <td>58684.mp4</td>\n",
       "      <td>today</td>\n",
       "    </tr>\n",
       "    <tr>\n",
       "      <th>16652</th>\n",
       "      <td>file:/home/kristian/WLASL/videos_organized/wee...</td>\n",
       "      <td>week</td>\n",
       "      <td>62749.mp4</td>\n",
       "      <td>week</td>\n",
       "    </tr>\n",
       "    <tr>\n",
       "      <th>8782</th>\n",
       "      <td>file:/home/kristian/WLASL/videos_organized/lem...</td>\n",
       "      <td>lemon</td>\n",
       "      <td>32819.mp4</td>\n",
       "      <td>lemon</td>\n",
       "    </tr>\n",
       "    <tr>\n",
       "      <th>6614</th>\n",
       "      <td>file:/home/kristian/WLASL/videos_organized/fur...</td>\n",
       "      <td>furniture</td>\n",
       "      <td>23907.mp4</td>\n",
       "      <td>furniture</td>\n",
       "    </tr>\n",
       "  </tbody>\n",
       "</table>\n",
       "</div>"
      ],
      "text/plain": [
       "                                                    path       target  \\\n",
       "209    file:/home/kristian/WLASL/videos_organized/adv...    advantage   \n",
       "5520   file:/home/kristian/WLASL/videos_organized/equ...        equal   \n",
       "7585   file:/home/kristian/WLASL/videos_organized/hol...         hold   \n",
       "11901  file:/home/kristian/WLASL/videos_organized/pum...      pumpkin   \n",
       "3714   file:/home/kristian/WLASL/videos_organized/cop...         copy   \n",
       "6257   file:/home/kristian/WLASL/videos_organized/flo...        flood   \n",
       "17032  file:/home/kristian/WLASL/videos_organized/wor...         word   \n",
       "5816   file:/home/kristian/WLASL/videos_organized/f/2...            f   \n",
       "6641   file:/home/kristian/WLASL/videos_organized/gal...    gallaudet   \n",
       "13395  file:/home/kristian/WLASL/videos_organized/sho...        shoot   \n",
       "14202  file:/home/kristian/WLASL/videos_organized/spe...        speed   \n",
       "12303  file:/home/kristian/WLASL/videos_organized/rej...       reject   \n",
       "4101   file:/home/kristian/WLASL/videos_organized/dar...         dark   \n",
       "16093  file:/home/kristian/WLASL/videos_organized/u/6...            u   \n",
       "8940   file:/home/kristian/WLASL/videos_organized/lim...        limit   \n",
       "9323   file:/home/kristian/WLASL/videos_organized/mea...         mean   \n",
       "7397   file:/home/kristian/WLASL/videos_organized/hea...      hearing   \n",
       "10252  file:/home/kristian/WLASL/videos_organized/not...       notice   \n",
       "9367   file:/home/kristian/WLASL/videos_organized/med...     medicine   \n",
       "3221   file:/home/kristian/WLASL/videos_organized/coa...         coat   \n",
       "17008  file:/home/kristian/WLASL/videos_organized/won...       wonder   \n",
       "11020  file:/home/kristian/WLASL/videos_organized/pet...          pet   \n",
       "15428  file:/home/kristian/WLASL/videos_organized/the...  thermometer   \n",
       "107    file:/home/kristian/WLASL/videos_organized/act...          act   \n",
       "17279  file:/home/kristian/WLASL/videos_organized/you...     yourself   \n",
       "1740   file:/home/kristian/WLASL/videos_organized/bla...      blanket   \n",
       "6050   file:/home/kristian/WLASL/videos_organized/fee...         feel   \n",
       "14144  file:/home/kristian/WLASL/videos_organized/spa...        spain   \n",
       "14874  file:/home/kristian/WLASL/videos_organized/swa...      swallow   \n",
       "1953   file:/home/kristian/WLASL/videos_organized/bow...         bowl   \n",
       "11425  file:/home/kristian/WLASL/videos_organized/pot...       potato   \n",
       "9984   file:/home/kristian/WLASL/videos_organized/nee...         need   \n",
       "1599   file:/home/kristian/WLASL/videos_organized/bet...       better   \n",
       "15112  file:/home/kristian/WLASL/videos_organized/tea...      teacher   \n",
       "13444  file:/home/kristian/WLASL/videos_organized/sho...     shoulder   \n",
       "7520   file:/home/kristian/WLASL/videos_organized/hig...  high school   \n",
       "2842   file:/home/kristian/WLASL/videos_organized/che...        cheap   \n",
       "9912   file:/home/kristian/WLASL/videos_organized/nam...         name   \n",
       "2240   file:/home/kristian/WLASL/videos_organized/bus...          bus   \n",
       "9714   file:/home/kristian/WLASL/videos_organized/mos...         most   \n",
       "15208  file:/home/kristian/WLASL/videos_organized/tem...        tempt   \n",
       "649    file:/home/kristian/WLASL/videos_organized/apo...   apostrophe   \n",
       "2172   file:/home/kristian/WLASL/videos_organized/bro...        brown   \n",
       "13138  file:/home/kristian/WLASL/videos_organized/sel...       seldom   \n",
       "3252   file:/home/kristian/WLASL/videos_organized/cof...       coffee   \n",
       "5641   file:/home/kristian/WLASL/videos_organized/evi...     evidence   \n",
       "15685  file:/home/kristian/WLASL/videos_organized/tod...        today   \n",
       "16652  file:/home/kristian/WLASL/videos_organized/wee...         week   \n",
       "8782   file:/home/kristian/WLASL/videos_organized/lem...        lemon   \n",
       "6614   file:/home/kristian/WLASL/videos_organized/fur...    furniture   \n",
       "\n",
       "            file originaltarget  \n",
       "209    01242.mp4      advantage  \n",
       "5520   19464.mp4          equal  \n",
       "7585   27661.mp4           hold  \n",
       "11901  66352.mp4        pumpkin  \n",
       "3714   13276.mp4           copy  \n",
       "6257   22489.mp4          flood  \n",
       "17032  63753.mp4           word  \n",
       "5816   21571.mp4              f  \n",
       "6641   23992.mp4      gallaudet  \n",
       "13395  51154.mp4          shoot  \n",
       "14202  53743.mp4          speed  \n",
       "12303  47000.mp4         reject  \n",
       "4101   14673.mp4           dark  \n",
       "16093  60358.mp4              u  \n",
       "8940   33317.mp4          limit  \n",
       "9323   35298.mp4           mean  \n",
       "7397   26976.mp4        hearing  \n",
       "10252  38873.mp4         notice  \n",
       "9367   35455.mp4       medicine  \n",
       "3221   11474.mp4           coat  \n",
       "17008  63695.mp4         wonder  \n",
       "11020  42309.mp4            pet  \n",
       "15428  57849.mp4    thermometer  \n",
       "107    65014.mp4            act  \n",
       "17279  64456.mp4       yourself  \n",
       "1740   06552.mp4        blanket  \n",
       "6050   21438.mp4           feel  \n",
       "14144  53544.mp4          spain  \n",
       "14874  56202.mp4        swallow  \n",
       "1953   07373.mp4           bowl  \n",
       "11425  43930.mp4         potato  \n",
       "9984   37883.mp4           need  \n",
       "1599   06070.mp4         better  \n",
       "15112  57051.mp4        teacher  \n",
       "13444  51276.mp4       shoulder  \n",
       "7520   27441.mp4    high school  \n",
       "2842   65340.mp4          cheap  \n",
       "9912   37581.mp4           name  \n",
       "2240   08355.mp4            bus  \n",
       "9714   68102.mp4           most  \n",
       "15208  57353.mp4          tempt  \n",
       "649    02916.mp4     apostrophe  \n",
       "2172   07968.mp4          brown  \n",
       "13138  50199.mp4         seldom  \n",
       "3252   70033.mp4         coffee  \n",
       "5641   19974.mp4       evidence  \n",
       "15685  58684.mp4          today  \n",
       "16652  62749.mp4           week  \n",
       "8782   32819.mp4          lemon  \n",
       "6614   23907.mp4      furniture  "
      ]
     },
     "execution_count": 35,
     "metadata": {},
     "output_type": "execute_result"
    }
   ],
   "source": [
    "video_df.sample(50)"
   ]
  },
  {
   "cell_type": "code",
   "execution_count": 36,
   "id": "8d1c55c8",
   "metadata": {
    "ExecuteTime": {
     "end_time": "2023-08-01T12:25:59.667060Z",
     "start_time": "2023-08-01T12:25:59.658277Z"
    }
   },
   "outputs": [
    {
     "data": {
      "text/html": [
       "<div>\n",
       "<style scoped>\n",
       "    .dataframe tbody tr th:only-of-type {\n",
       "        vertical-align: middle;\n",
       "    }\n",
       "\n",
       "    .dataframe tbody tr th {\n",
       "        vertical-align: top;\n",
       "    }\n",
       "\n",
       "    .dataframe thead th {\n",
       "        text-align: right;\n",
       "    }\n",
       "</style>\n",
       "<table border=\"1\" class=\"dataframe\">\n",
       "  <thead>\n",
       "    <tr style=\"text-align: right;\">\n",
       "      <th></th>\n",
       "      <th>path</th>\n",
       "      <th>target</th>\n",
       "      <th>file</th>\n",
       "      <th>originaltarget</th>\n",
       "    </tr>\n",
       "  </thead>\n",
       "  <tbody>\n",
       "    <tr>\n",
       "      <th>0</th>\n",
       "      <td>file:/home/kristian/WLASL/videos_organized/a l...</td>\n",
       "      <td>a lot</td>\n",
       "      <td>02123.mp4</td>\n",
       "      <td>a lot</td>\n",
       "    </tr>\n",
       "    <tr>\n",
       "      <th>1</th>\n",
       "      <td>file:/home/kristian/WLASL/videos_organized/a l...</td>\n",
       "      <td>a lot</td>\n",
       "      <td>02124.mp4</td>\n",
       "      <td>a lot</td>\n",
       "    </tr>\n",
       "    <tr>\n",
       "      <th>2</th>\n",
       "      <td>file:/home/kristian/WLASL/videos_organized/a l...</td>\n",
       "      <td>a lot</td>\n",
       "      <td>02125.mp4</td>\n",
       "      <td>a lot</td>\n",
       "    </tr>\n",
       "    <tr>\n",
       "      <th>3</th>\n",
       "      <td>file:/home/kristian/WLASL/videos_organized/a l...</td>\n",
       "      <td>a lot</td>\n",
       "      <td>02126.mp4</td>\n",
       "      <td>a lot</td>\n",
       "    </tr>\n",
       "    <tr>\n",
       "      <th>4</th>\n",
       "      <td>file:/home/kristian/WLASL/videos_organized/a l...</td>\n",
       "      <td>a lot</td>\n",
       "      <td>02128.mp4</td>\n",
       "      <td>a lot</td>\n",
       "    </tr>\n",
       "  </tbody>\n",
       "</table>\n",
       "</div>"
      ],
      "text/plain": [
       "                                                path target       file  \\\n",
       "0  file:/home/kristian/WLASL/videos_organized/a l...  a lot  02123.mp4   \n",
       "1  file:/home/kristian/WLASL/videos_organized/a l...  a lot  02124.mp4   \n",
       "2  file:/home/kristian/WLASL/videos_organized/a l...  a lot  02125.mp4   \n",
       "3  file:/home/kristian/WLASL/videos_organized/a l...  a lot  02126.mp4   \n",
       "4  file:/home/kristian/WLASL/videos_organized/a l...  a lot  02128.mp4   \n",
       "\n",
       "  originaltarget  \n",
       "0          a lot  \n",
       "1          a lot  \n",
       "2          a lot  \n",
       "3          a lot  \n",
       "4          a lot  "
      ]
     },
     "execution_count": 36,
     "metadata": {},
     "output_type": "execute_result"
    }
   ],
   "source": [
    "video_df.head()"
   ]
  },
  {
   "cell_type": "code",
   "execution_count": 37,
   "id": "cc1e14c5",
   "metadata": {
    "ExecuteTime": {
     "end_time": "2023-08-01T12:26:02.645287Z",
     "start_time": "2023-08-01T12:26:02.630844Z"
    }
   },
   "outputs": [],
   "source": [
    "video_df['frequency'] = video_df['target'].map(video_df['target'].value_counts())"
   ]
  },
  {
   "cell_type": "code",
   "execution_count": 38,
   "id": "f782326e",
   "metadata": {
    "ExecuteTime": {
     "end_time": "2023-08-01T12:26:04.938282Z",
     "start_time": "2023-08-01T12:26:04.930155Z"
    }
   },
   "outputs": [
    {
     "data": {
      "text/html": [
       "<div>\n",
       "<style scoped>\n",
       "    .dataframe tbody tr th:only-of-type {\n",
       "        vertical-align: middle;\n",
       "    }\n",
       "\n",
       "    .dataframe tbody tr th {\n",
       "        vertical-align: top;\n",
       "    }\n",
       "\n",
       "    .dataframe thead th {\n",
       "        text-align: right;\n",
       "    }\n",
       "</style>\n",
       "<table border=\"1\" class=\"dataframe\">\n",
       "  <thead>\n",
       "    <tr style=\"text-align: right;\">\n",
       "      <th></th>\n",
       "      <th>path</th>\n",
       "      <th>target</th>\n",
       "      <th>file</th>\n",
       "      <th>originaltarget</th>\n",
       "      <th>frequency</th>\n",
       "    </tr>\n",
       "  </thead>\n",
       "  <tbody>\n",
       "    <tr>\n",
       "      <th>10718</th>\n",
       "      <td>file:/home/kristian/WLASL/videos_organized/pan...</td>\n",
       "      <td>pants</td>\n",
       "      <td>40988.mp4</td>\n",
       "      <td>pants</td>\n",
       "      <td>11</td>\n",
       "    </tr>\n",
       "    <tr>\n",
       "      <th>5325</th>\n",
       "      <td>file:/home/kristian/WLASL/videos_organized/ele...</td>\n",
       "      <td>elementary</td>\n",
       "      <td>18761.mp4</td>\n",
       "      <td>elementary</td>\n",
       "      <td>6</td>\n",
       "    </tr>\n",
       "    <tr>\n",
       "      <th>30</th>\n",
       "      <td>file:/home/kristian/WLASL/videos_organized/abo...</td>\n",
       "      <td>about</td>\n",
       "      <td>00412.mp4</td>\n",
       "      <td>about</td>\n",
       "      <td>10</td>\n",
       "    </tr>\n",
       "    <tr>\n",
       "      <th>1158</th>\n",
       "      <td>file:/home/kristian/WLASL/videos_organized/bac...</td>\n",
       "      <td>bacon</td>\n",
       "      <td>04687.mp4</td>\n",
       "      <td>bacon</td>\n",
       "      <td>10</td>\n",
       "    </tr>\n",
       "    <tr>\n",
       "      <th>5151</th>\n",
       "      <td>file:/home/kristian/WLASL/videos_organized/ear...</td>\n",
       "      <td>early</td>\n",
       "      <td>18167.mp4</td>\n",
       "      <td>early</td>\n",
       "      <td>10</td>\n",
       "    </tr>\n",
       "    <tr>\n",
       "      <th>11129</th>\n",
       "      <td>file:/home/kristian/WLASL/videos_organized/pig...</td>\n",
       "      <td>pig</td>\n",
       "      <td>42704.mp4</td>\n",
       "      <td>pig</td>\n",
       "      <td>9</td>\n",
       "    </tr>\n",
       "    <tr>\n",
       "      <th>10782</th>\n",
       "      <td>file:/home/kristian/WLASL/videos_organized/par...</td>\n",
       "      <td>part</td>\n",
       "      <td>41266.mp4</td>\n",
       "      <td>part</td>\n",
       "      <td>6</td>\n",
       "    </tr>\n",
       "    <tr>\n",
       "      <th>4079</th>\n",
       "      <td>file:/home/kristian/WLASL/videos_organized/dan...</td>\n",
       "      <td>dance</td>\n",
       "      <td>70152.mp4</td>\n",
       "      <td>dance</td>\n",
       "      <td>14</td>\n",
       "    </tr>\n",
       "    <tr>\n",
       "      <th>15096</th>\n",
       "      <td>file:/home/kristian/WLASL/videos_organized/tea...</td>\n",
       "      <td>teach</td>\n",
       "      <td>57066.mp4</td>\n",
       "      <td>teach</td>\n",
       "      <td>13</td>\n",
       "    </tr>\n",
       "    <tr>\n",
       "      <th>13488</th>\n",
       "      <td>file:/home/kristian/WLASL/videos_organized/shy...</td>\n",
       "      <td>shy</td>\n",
       "      <td>51474.mp4</td>\n",
       "      <td>shy</td>\n",
       "      <td>9</td>\n",
       "    </tr>\n",
       "    <tr>\n",
       "      <th>13887</th>\n",
       "      <td>file:/home/kristian/WLASL/videos_organized/sno...</td>\n",
       "      <td>snob</td>\n",
       "      <td>52798.mp4</td>\n",
       "      <td>snob</td>\n",
       "      <td>8</td>\n",
       "    </tr>\n",
       "    <tr>\n",
       "      <th>2839</th>\n",
       "      <td>file:/home/kristian/WLASL/videos_organized/che...</td>\n",
       "      <td>cheap</td>\n",
       "      <td>10142.mp4</td>\n",
       "      <td>cheap</td>\n",
       "      <td>10</td>\n",
       "    </tr>\n",
       "    <tr>\n",
       "      <th>10538</th>\n",
       "      <td>file:/home/kristian/WLASL/videos_organized/opp...</td>\n",
       "      <td>opposite</td>\n",
       "      <td>40052.mp4</td>\n",
       "      <td>opposite</td>\n",
       "      <td>8</td>\n",
       "    </tr>\n",
       "    <tr>\n",
       "      <th>12429</th>\n",
       "      <td>file:/home/kristian/WLASL/videos_organized/rep...</td>\n",
       "      <td>represent</td>\n",
       "      <td>47385.mp4</td>\n",
       "      <td>represent</td>\n",
       "      <td>9</td>\n",
       "    </tr>\n",
       "    <tr>\n",
       "      <th>2097</th>\n",
       "      <td>file:/home/kristian/WLASL/videos_organized/bre...</td>\n",
       "      <td>breeze</td>\n",
       "      <td>07704.mp4</td>\n",
       "      <td>breeze</td>\n",
       "      <td>6</td>\n",
       "    </tr>\n",
       "    <tr>\n",
       "      <th>517</th>\n",
       "      <td>file:/home/kristian/WLASL/videos_organized/ana...</td>\n",
       "      <td>analyze</td>\n",
       "      <td>02483.mp4</td>\n",
       "      <td>analyze</td>\n",
       "      <td>10</td>\n",
       "    </tr>\n",
       "    <tr>\n",
       "      <th>7682</th>\n",
       "      <td>file:/home/kristian/WLASL/videos_organized/hot...</td>\n",
       "      <td>hot dog</td>\n",
       "      <td>28082.mp4</td>\n",
       "      <td>hot dog</td>\n",
       "      <td>5</td>\n",
       "    </tr>\n",
       "    <tr>\n",
       "      <th>13003</th>\n",
       "      <td>file:/home/kristian/WLASL/videos_organized/sci...</td>\n",
       "      <td>science</td>\n",
       "      <td>49638.mp4</td>\n",
       "      <td>science</td>\n",
       "      <td>11</td>\n",
       "    </tr>\n",
       "    <tr>\n",
       "      <th>6994</th>\n",
       "      <td>file:/home/kristian/WLASL/videos_organized/gra...</td>\n",
       "      <td>graduation</td>\n",
       "      <td>25355.mp4</td>\n",
       "      <td>graduation</td>\n",
       "      <td>6</td>\n",
       "    </tr>\n",
       "    <tr>\n",
       "      <th>16965</th>\n",
       "      <td>file:/home/kristian/WLASL/videos_organized/wit...</td>\n",
       "      <td>without</td>\n",
       "      <td>63607.mp4</td>\n",
       "      <td>without</td>\n",
       "      <td>8</td>\n",
       "    </tr>\n",
       "  </tbody>\n",
       "</table>\n",
       "</div>"
      ],
      "text/plain": [
       "                                                    path      target  \\\n",
       "10718  file:/home/kristian/WLASL/videos_organized/pan...       pants   \n",
       "5325   file:/home/kristian/WLASL/videos_organized/ele...  elementary   \n",
       "30     file:/home/kristian/WLASL/videos_organized/abo...       about   \n",
       "1158   file:/home/kristian/WLASL/videos_organized/bac...       bacon   \n",
       "5151   file:/home/kristian/WLASL/videos_organized/ear...       early   \n",
       "11129  file:/home/kristian/WLASL/videos_organized/pig...         pig   \n",
       "10782  file:/home/kristian/WLASL/videos_organized/par...        part   \n",
       "4079   file:/home/kristian/WLASL/videos_organized/dan...       dance   \n",
       "15096  file:/home/kristian/WLASL/videos_organized/tea...       teach   \n",
       "13488  file:/home/kristian/WLASL/videos_organized/shy...         shy   \n",
       "13887  file:/home/kristian/WLASL/videos_organized/sno...        snob   \n",
       "2839   file:/home/kristian/WLASL/videos_organized/che...       cheap   \n",
       "10538  file:/home/kristian/WLASL/videos_organized/opp...    opposite   \n",
       "12429  file:/home/kristian/WLASL/videos_organized/rep...   represent   \n",
       "2097   file:/home/kristian/WLASL/videos_organized/bre...      breeze   \n",
       "517    file:/home/kristian/WLASL/videos_organized/ana...     analyze   \n",
       "7682   file:/home/kristian/WLASL/videos_organized/hot...     hot dog   \n",
       "13003  file:/home/kristian/WLASL/videos_organized/sci...     science   \n",
       "6994   file:/home/kristian/WLASL/videos_organized/gra...  graduation   \n",
       "16965  file:/home/kristian/WLASL/videos_organized/wit...     without   \n",
       "\n",
       "            file originaltarget  frequency  \n",
       "10718  40988.mp4          pants         11  \n",
       "5325   18761.mp4     elementary          6  \n",
       "30     00412.mp4          about         10  \n",
       "1158   04687.mp4          bacon         10  \n",
       "5151   18167.mp4          early         10  \n",
       "11129  42704.mp4            pig          9  \n",
       "10782  41266.mp4           part          6  \n",
       "4079   70152.mp4          dance         14  \n",
       "15096  57066.mp4          teach         13  \n",
       "13488  51474.mp4            shy          9  \n",
       "13887  52798.mp4           snob          8  \n",
       "2839   10142.mp4          cheap         10  \n",
       "10538  40052.mp4       opposite          8  \n",
       "12429  47385.mp4      represent          9  \n",
       "2097   07704.mp4         breeze          6  \n",
       "517    02483.mp4        analyze         10  \n",
       "7682   28082.mp4        hot dog          5  \n",
       "13003  49638.mp4        science         11  \n",
       "6994   25355.mp4     graduation          6  \n",
       "16965  63607.mp4        without          8  "
      ]
     },
     "execution_count": 38,
     "metadata": {},
     "output_type": "execute_result"
    }
   ],
   "source": [
    "video_df.sample(20)"
   ]
  },
  {
   "cell_type": "code",
   "execution_count": 39,
   "id": "c70eed81",
   "metadata": {
    "ExecuteTime": {
     "end_time": "2023-08-01T12:26:13.025738Z",
     "start_time": "2023-08-01T12:26:13.019997Z"
    }
   },
   "outputs": [],
   "source": [
    "video_df = video_df[video_df['frequency'] > 14]\n",
    "video_df = video_df.reset_index(drop=True)"
   ]
  },
  {
   "cell_type": "code",
   "execution_count": 40,
   "id": "3c7e211e",
   "metadata": {
    "ExecuteTime": {
     "end_time": "2023-08-01T12:26:14.720115Z",
     "start_time": "2023-08-01T12:26:14.711992Z"
    }
   },
   "outputs": [
    {
     "data": {
      "text/html": [
       "<div>\n",
       "<style scoped>\n",
       "    .dataframe tbody tr th:only-of-type {\n",
       "        vertical-align: middle;\n",
       "    }\n",
       "\n",
       "    .dataframe tbody tr th {\n",
       "        vertical-align: top;\n",
       "    }\n",
       "\n",
       "    .dataframe thead th {\n",
       "        text-align: right;\n",
       "    }\n",
       "</style>\n",
       "<table border=\"1\" class=\"dataframe\">\n",
       "  <thead>\n",
       "    <tr style=\"text-align: right;\">\n",
       "      <th></th>\n",
       "      <th>path</th>\n",
       "      <th>target</th>\n",
       "      <th>file</th>\n",
       "      <th>originaltarget</th>\n",
       "      <th>frequency</th>\n",
       "    </tr>\n",
       "  </thead>\n",
       "  <tbody>\n",
       "    <tr>\n",
       "      <th>39</th>\n",
       "      <td>file:/home/kristian/WLASL/videos_organized/all...</td>\n",
       "      <td>all</td>\n",
       "      <td>01995.mp4</td>\n",
       "      <td>all</td>\n",
       "      <td>15</td>\n",
       "    </tr>\n",
       "    <tr>\n",
       "      <th>702</th>\n",
       "      <td>file:/home/kristian/WLASL/videos_organized/hat...</td>\n",
       "      <td>hat</td>\n",
       "      <td>26736.mp4</td>\n",
       "      <td>hat</td>\n",
       "      <td>15</td>\n",
       "    </tr>\n",
       "    <tr>\n",
       "      <th>536</th>\n",
       "      <td>file:/home/kristian/WLASL/videos_organized/fam...</td>\n",
       "      <td>family</td>\n",
       "      <td>20982.mp4</td>\n",
       "      <td>family</td>\n",
       "      <td>16</td>\n",
       "    </tr>\n",
       "    <tr>\n",
       "      <th>12</th>\n",
       "      <td>file:/home/kristian/WLASL/videos_organized/acc...</td>\n",
       "      <td>accident</td>\n",
       "      <td>00635.mp4</td>\n",
       "      <td>accident</td>\n",
       "      <td>17</td>\n",
       "    </tr>\n",
       "    <tr>\n",
       "      <th>1114</th>\n",
       "      <td>file:/home/kristian/WLASL/videos_organized/son...</td>\n",
       "      <td>son</td>\n",
       "      <td>53273.mp4</td>\n",
       "      <td>son</td>\n",
       "      <td>15</td>\n",
       "    </tr>\n",
       "    <tr>\n",
       "      <th>1161</th>\n",
       "      <td>file:/home/kristian/WLASL/videos_organized/tal...</td>\n",
       "      <td>tall</td>\n",
       "      <td>56839.mp4</td>\n",
       "      <td>tall</td>\n",
       "      <td>17</td>\n",
       "    </tr>\n",
       "    <tr>\n",
       "      <th>325</th>\n",
       "      <td>file:/home/kristian/WLASL/videos_organized/col...</td>\n",
       "      <td>color</td>\n",
       "      <td>68027.mp4</td>\n",
       "      <td>color</td>\n",
       "      <td>16</td>\n",
       "    </tr>\n",
       "    <tr>\n",
       "      <th>495</th>\n",
       "      <td>file:/home/kristian/WLASL/videos_organized/dog...</td>\n",
       "      <td>dog</td>\n",
       "      <td>17085.mp4</td>\n",
       "      <td>dog</td>\n",
       "      <td>16</td>\n",
       "    </tr>\n",
       "    <tr>\n",
       "      <th>296</th>\n",
       "      <td>file:/home/kristian/WLASL/videos_organized/clo...</td>\n",
       "      <td>clothes</td>\n",
       "      <td>11317.mp4</td>\n",
       "      <td>clothes</td>\n",
       "      <td>23</td>\n",
       "    </tr>\n",
       "    <tr>\n",
       "      <th>576</th>\n",
       "      <td>file:/home/kristian/WLASL/videos_organized/fin...</td>\n",
       "      <td>finish</td>\n",
       "      <td>21955.mp4</td>\n",
       "      <td>finish</td>\n",
       "      <td>16</td>\n",
       "    </tr>\n",
       "    <tr>\n",
       "      <th>1152</th>\n",
       "      <td>file:/home/kristian/WLASL/videos_organized/tab...</td>\n",
       "      <td>table</td>\n",
       "      <td>56574.mp4</td>\n",
       "      <td>table</td>\n",
       "      <td>17</td>\n",
       "    </tr>\n",
       "    <tr>\n",
       "      <th>726</th>\n",
       "      <td>file:/home/kristian/WLASL/videos_organized/hea...</td>\n",
       "      <td>hearing</td>\n",
       "      <td>26975.mp4</td>\n",
       "      <td>hearing</td>\n",
       "      <td>15</td>\n",
       "    </tr>\n",
       "    <tr>\n",
       "      <th>757</th>\n",
       "      <td>file:/home/kristian/WLASL/videos_organized/hot...</td>\n",
       "      <td>hot</td>\n",
       "      <td>28110.mp4</td>\n",
       "      <td>hot</td>\n",
       "      <td>18</td>\n",
       "    </tr>\n",
       "    <tr>\n",
       "      <th>747</th>\n",
       "      <td>file:/home/kristian/WLASL/videos_organized/hel...</td>\n",
       "      <td>help</td>\n",
       "      <td>27220.mp4</td>\n",
       "      <td>help</td>\n",
       "      <td>16</td>\n",
       "    </tr>\n",
       "    <tr>\n",
       "      <th>529</th>\n",
       "      <td>file:/home/kristian/WLASL/videos_organized/dri...</td>\n",
       "      <td>drink</td>\n",
       "      <td>69302.mp4</td>\n",
       "      <td>drink</td>\n",
       "      <td>23</td>\n",
       "    </tr>\n",
       "    <tr>\n",
       "      <th>1146</th>\n",
       "      <td>file:/home/kristian/WLASL/videos_organized/tab...</td>\n",
       "      <td>table</td>\n",
       "      <td>56566.mp4</td>\n",
       "      <td>table</td>\n",
       "      <td>17</td>\n",
       "    </tr>\n",
       "    <tr>\n",
       "      <th>828</th>\n",
       "      <td>file:/home/kristian/WLASL/videos_organized/lat...</td>\n",
       "      <td>later</td>\n",
       "      <td>32337.mp4</td>\n",
       "      <td>later</td>\n",
       "      <td>16</td>\n",
       "    </tr>\n",
       "    <tr>\n",
       "      <th>891</th>\n",
       "      <td>file:/home/kristian/WLASL/videos_organized/mee...</td>\n",
       "      <td>meet</td>\n",
       "      <td>35519.mp4</td>\n",
       "      <td>meet</td>\n",
       "      <td>15</td>\n",
       "    </tr>\n",
       "    <tr>\n",
       "      <th>1221</th>\n",
       "      <td>file:/home/kristian/WLASL/videos_organized/thu...</td>\n",
       "      <td>thursday</td>\n",
       "      <td>58370.mp4</td>\n",
       "      <td>thursday</td>\n",
       "      <td>16</td>\n",
       "    </tr>\n",
       "    <tr>\n",
       "      <th>1120</th>\n",
       "      <td>file:/home/kristian/WLASL/videos_organized/son...</td>\n",
       "      <td>son</td>\n",
       "      <td>53279.mp4</td>\n",
       "      <td>son</td>\n",
       "      <td>15</td>\n",
       "    </tr>\n",
       "  </tbody>\n",
       "</table>\n",
       "</div>"
      ],
      "text/plain": [
       "                                                   path    target       file  \\\n",
       "39    file:/home/kristian/WLASL/videos_organized/all...       all  01995.mp4   \n",
       "702   file:/home/kristian/WLASL/videos_organized/hat...       hat  26736.mp4   \n",
       "536   file:/home/kristian/WLASL/videos_organized/fam...    family  20982.mp4   \n",
       "12    file:/home/kristian/WLASL/videos_organized/acc...  accident  00635.mp4   \n",
       "1114  file:/home/kristian/WLASL/videos_organized/son...       son  53273.mp4   \n",
       "1161  file:/home/kristian/WLASL/videos_organized/tal...      tall  56839.mp4   \n",
       "325   file:/home/kristian/WLASL/videos_organized/col...     color  68027.mp4   \n",
       "495   file:/home/kristian/WLASL/videos_organized/dog...       dog  17085.mp4   \n",
       "296   file:/home/kristian/WLASL/videos_organized/clo...   clothes  11317.mp4   \n",
       "576   file:/home/kristian/WLASL/videos_organized/fin...    finish  21955.mp4   \n",
       "1152  file:/home/kristian/WLASL/videos_organized/tab...     table  56574.mp4   \n",
       "726   file:/home/kristian/WLASL/videos_organized/hea...   hearing  26975.mp4   \n",
       "757   file:/home/kristian/WLASL/videos_organized/hot...       hot  28110.mp4   \n",
       "747   file:/home/kristian/WLASL/videos_organized/hel...      help  27220.mp4   \n",
       "529   file:/home/kristian/WLASL/videos_organized/dri...     drink  69302.mp4   \n",
       "1146  file:/home/kristian/WLASL/videos_organized/tab...     table  56566.mp4   \n",
       "828   file:/home/kristian/WLASL/videos_organized/lat...     later  32337.mp4   \n",
       "891   file:/home/kristian/WLASL/videos_organized/mee...      meet  35519.mp4   \n",
       "1221  file:/home/kristian/WLASL/videos_organized/thu...  thursday  58370.mp4   \n",
       "1120  file:/home/kristian/WLASL/videos_organized/son...       son  53279.mp4   \n",
       "\n",
       "     originaltarget  frequency  \n",
       "39              all         15  \n",
       "702             hat         15  \n",
       "536          family         16  \n",
       "12         accident         17  \n",
       "1114            son         15  \n",
       "1161           tall         17  \n",
       "325           color         16  \n",
       "495             dog         16  \n",
       "296         clothes         23  \n",
       "576          finish         16  \n",
       "1152          table         17  \n",
       "726         hearing         15  \n",
       "757             hot         18  \n",
       "747            help         16  \n",
       "529           drink         23  \n",
       "1146          table         17  \n",
       "828           later         16  \n",
       "891            meet         15  \n",
       "1221       thursday         16  \n",
       "1120            son         15  "
      ]
     },
     "execution_count": 40,
     "metadata": {},
     "output_type": "execute_result"
    }
   ],
   "source": [
    "video_df.sample(20)"
   ]
  },
  {
   "cell_type": "code",
   "execution_count": 41,
   "id": "fd22162a",
   "metadata": {
    "ExecuteTime": {
     "end_time": "2023-08-01T12:26:25.854624Z",
     "start_time": "2023-08-01T12:26:25.824467Z"
    }
   },
   "outputs": [
    {
     "data": {
      "text/html": [
       "<div>\n",
       "<style scoped>\n",
       "    .dataframe tbody tr th:only-of-type {\n",
       "        vertical-align: middle;\n",
       "    }\n",
       "\n",
       "    .dataframe tbody tr th {\n",
       "        vertical-align: top;\n",
       "    }\n",
       "\n",
       "    .dataframe thead th {\n",
       "        text-align: right;\n",
       "    }\n",
       "</style>\n",
       "<table border=\"1\" class=\"dataframe\">\n",
       "  <thead>\n",
       "    <tr style=\"text-align: right;\">\n",
       "      <th></th>\n",
       "      <th>frequency</th>\n",
       "    </tr>\n",
       "  </thead>\n",
       "  <tbody>\n",
       "    <tr>\n",
       "      <th>count</th>\n",
       "      <td>1405.000000</td>\n",
       "    </tr>\n",
       "    <tr>\n",
       "      <th>mean</th>\n",
       "      <td>17.145196</td>\n",
       "    </tr>\n",
       "    <tr>\n",
       "      <th>std</th>\n",
       "      <td>3.330809</td>\n",
       "    </tr>\n",
       "    <tr>\n",
       "      <th>min</th>\n",
       "      <td>15.000000</td>\n",
       "    </tr>\n",
       "    <tr>\n",
       "      <th>25%</th>\n",
       "      <td>15.000000</td>\n",
       "    </tr>\n",
       "    <tr>\n",
       "      <th>50%</th>\n",
       "      <td>16.000000</td>\n",
       "    </tr>\n",
       "    <tr>\n",
       "      <th>75%</th>\n",
       "      <td>17.000000</td>\n",
       "    </tr>\n",
       "    <tr>\n",
       "      <th>max</th>\n",
       "      <td>34.000000</td>\n",
       "    </tr>\n",
       "  </tbody>\n",
       "</table>\n",
       "</div>"
      ],
      "text/plain": [
       "         frequency\n",
       "count  1405.000000\n",
       "mean     17.145196\n",
       "std       3.330809\n",
       "min      15.000000\n",
       "25%      15.000000\n",
       "50%      16.000000\n",
       "75%      17.000000\n",
       "max      34.000000"
      ]
     },
     "execution_count": 41,
     "metadata": {},
     "output_type": "execute_result"
    }
   ],
   "source": [
    "video_df.describe()"
   ]
  },
  {
   "cell_type": "code",
   "execution_count": 42,
   "id": "7f1d5af9",
   "metadata": {
    "ExecuteTime": {
     "end_time": "2023-08-01T12:26:32.567695Z",
     "start_time": "2023-08-01T12:26:32.563289Z"
    }
   },
   "outputs": [
    {
     "data": {
      "text/plain": [
       "84"
      ]
     },
     "execution_count": 42,
     "metadata": {},
     "output_type": "execute_result"
    }
   ],
   "source": [
    "video_df['target'].nunique()"
   ]
  },
  {
   "cell_type": "code",
   "execution_count": 43,
   "id": "256329e5",
   "metadata": {
    "ExecuteTime": {
     "end_time": "2023-08-01T12:26:33.641955Z",
     "start_time": "2023-08-01T12:26:33.638084Z"
    }
   },
   "outputs": [
    {
     "data": {
      "text/plain": [
       "array(['accident', 'africa', 'all', 'apple', 'bed', 'before', 'bird',\n",
       "       'black', 'book', 'bowling', 'candy', 'chair', 'change', 'cheat',\n",
       "       'check', 'city', 'clothes', 'color', 'computer', 'convince',\n",
       "       'cook', 'cool', 'corn', 'cousin', 'cow', 'dark', 'deaf', 'decide',\n",
       "       'dog', 'drink', 'family', 'fine', 'finish', 'fish', 'forget',\n",
       "       'full', 'give', 'go', 'graduate', 'hair', 'hat', 'headache',\n",
       "       'hearing', 'help', 'hot', 'kiss', 'language', 'last', 'later',\n",
       "       'like', 'man', 'many', 'meet', 'mother', 'no', 'now', 'orange',\n",
       "       'paper', 'pink', 'pizza', 'play', 'pull', 'school', 'secretary',\n",
       "       'shirt', 'short', 'son', 'study', 'table', 'tall', 'thanksgiving',\n",
       "       'thin', 'thursday', 'time', 'trade', 'visit', 'water', 'white',\n",
       "       'who', 'woman', 'wrong', 'year', 'yes', 'yesterday'], dtype=object)"
      ]
     },
     "execution_count": 43,
     "metadata": {},
     "output_type": "execute_result"
    }
   ],
   "source": [
    "video_df['target'].unique()"
   ]
  },
  {
   "cell_type": "code",
   "execution_count": 44,
   "id": "4ae848cf",
   "metadata": {
    "ExecuteTime": {
     "end_time": "2023-08-01T12:26:48.358907Z",
     "start_time": "2023-08-01T12:26:36.874069Z"
    },
    "scrolled": true
   },
   "outputs": [
    {
     "data": {
      "application/vnd.jupyter.widget-view+json": {
       "model_id": "a5f7dffb009947d590d62800a81d73d4",
       "version_major": 2,
       "version_minor": 0
      },
      "text/plain": [
       "Output()"
      ]
     },
     "metadata": {},
     "output_type": "display_data"
    },
    {
     "data": {
      "text/html": [
       "<pre style=\"white-space:pre;overflow-x:auto;line-height:normal;font-family:Menlo,'DejaVu Sans Mono',consolas,'Courier New',monospace\"></pre>\n"
      ],
      "text/plain": []
     },
     "metadata": {},
     "output_type": "display_data"
    },
    {
     "data": {
      "text/html": [
       "<pre style=\"white-space:pre;overflow-x:auto;line-height:normal;font-family:Menlo,'DejaVu Sans Mono',consolas,'Courier New',monospace\">\n",
       "</pre>\n"
      ],
      "text/plain": [
       "\n"
      ]
     },
     "metadata": {},
     "output_type": "display_data"
    },
    {
     "data": {
      "application/vnd.jupyter.widget-view+json": {
       "model_id": "0e265b00ba3341ebad04c486bcc75385",
       "version_major": 2,
       "version_minor": 0
      },
      "text/plain": [
       "Output()"
      ]
     },
     "metadata": {},
     "output_type": "display_data"
    },
    {
     "data": {
      "text/html": [
       "<pre style=\"white-space:pre;overflow-x:auto;line-height:normal;font-family:Menlo,'DejaVu Sans Mono',consolas,'Courier New',monospace\"></pre>\n"
      ],
      "text/plain": []
     },
     "metadata": {},
     "output_type": "display_data"
    },
    {
     "data": {
      "text/html": [
       "<pre style=\"white-space:pre;overflow-x:auto;line-height:normal;font-family:Menlo,'DejaVu Sans Mono',consolas,'Courier New',monospace\">\n",
       "</pre>\n"
      ],
      "text/plain": [
       "\n"
      ]
     },
     "metadata": {},
     "output_type": "display_data"
    },
    {
     "data": {
      "application/vnd.jupyter.widget-view+json": {
       "model_id": "ef9ac8562e15424e99447a5989067b4d",
       "version_major": 2,
       "version_minor": 0
      },
      "text/plain": [
       "Output()"
      ]
     },
     "metadata": {},
     "output_type": "display_data"
    },
    {
     "data": {
      "text/html": [
       "<pre style=\"white-space:pre;overflow-x:auto;line-height:normal;font-family:Menlo,'DejaVu Sans Mono',consolas,'Courier New',monospace\"></pre>\n"
      ],
      "text/plain": []
     },
     "metadata": {},
     "output_type": "display_data"
    },
    {
     "data": {
      "text/html": [
       "<pre style=\"white-space:pre;overflow-x:auto;line-height:normal;font-family:Menlo,'DejaVu Sans Mono',consolas,'Courier New',monospace\">\n",
       "</pre>\n"
      ],
      "text/plain": [
       "\n"
      ]
     },
     "metadata": {},
     "output_type": "display_data"
    },
    {
     "data": {
      "application/vnd.jupyter.widget-view+json": {
       "model_id": "01cdc712d0f943deb17b36922a28d393",
       "version_major": 2,
       "version_minor": 0
      },
      "text/plain": [
       "Output()"
      ]
     },
     "metadata": {},
     "output_type": "display_data"
    },
    {
     "data": {
      "text/html": [
       "<pre style=\"white-space:pre;overflow-x:auto;line-height:normal;font-family:Menlo,'DejaVu Sans Mono',consolas,'Courier New',monospace\"></pre>\n"
      ],
      "text/plain": []
     },
     "metadata": {},
     "output_type": "display_data"
    },
    {
     "data": {
      "text/html": [
       "<pre style=\"white-space:pre;overflow-x:auto;line-height:normal;font-family:Menlo,'DejaVu Sans Mono',consolas,'Courier New',monospace\">\n",
       "</pre>\n"
      ],
      "text/plain": [
       "\n"
      ]
     },
     "metadata": {},
     "output_type": "display_data"
    },
    {
     "data": {
      "application/vnd.jupyter.widget-view+json": {
       "model_id": "a9e85bbfd70a4fe387903472070e7e56",
       "version_major": 2,
       "version_minor": 0
      },
      "text/plain": [
       "Output()"
      ]
     },
     "metadata": {},
     "output_type": "display_data"
    },
    {
     "data": {
      "text/html": [
       "<pre style=\"white-space:pre;overflow-x:auto;line-height:normal;font-family:Menlo,'DejaVu Sans Mono',consolas,'Courier New',monospace\"></pre>\n"
      ],
      "text/plain": []
     },
     "metadata": {},
     "output_type": "display_data"
    },
    {
     "data": {
      "text/html": [
       "<pre style=\"white-space:pre;overflow-x:auto;line-height:normal;font-family:Menlo,'DejaVu Sans Mono',consolas,'Courier New',monospace\">\n",
       "</pre>\n"
      ],
      "text/plain": [
       "\n"
      ]
     },
     "metadata": {},
     "output_type": "display_data"
    },
    {
     "data": {
      "application/vnd.jupyter.widget-view+json": {
       "model_id": "eedb5aed45074d8abd509e6ffd64b081",
       "version_major": 2,
       "version_minor": 0
      },
      "text/plain": [
       "Output()"
      ]
     },
     "metadata": {},
     "output_type": "display_data"
    },
    {
     "data": {
      "text/html": [
       "<pre style=\"white-space:pre;overflow-x:auto;line-height:normal;font-family:Menlo,'DejaVu Sans Mono',consolas,'Courier New',monospace\"></pre>\n"
      ],
      "text/plain": []
     },
     "metadata": {},
     "output_type": "display_data"
    },
    {
     "data": {
      "text/html": [
       "<pre style=\"white-space:pre;overflow-x:auto;line-height:normal;font-family:Menlo,'DejaVu Sans Mono',consolas,'Courier New',monospace\">\n",
       "</pre>\n"
      ],
      "text/plain": [
       "\n"
      ]
     },
     "metadata": {},
     "output_type": "display_data"
    },
    {
     "data": {
      "application/vnd.jupyter.widget-view+json": {
       "model_id": "e762966998b141889d7f8edaa38839a1",
       "version_major": 2,
       "version_minor": 0
      },
      "text/plain": [
       "Output()"
      ]
     },
     "metadata": {},
     "output_type": "display_data"
    },
    {
     "data": {
      "text/html": [
       "<pre style=\"white-space:pre;overflow-x:auto;line-height:normal;font-family:Menlo,'DejaVu Sans Mono',consolas,'Courier New',monospace\"></pre>\n"
      ],
      "text/plain": []
     },
     "metadata": {},
     "output_type": "display_data"
    },
    {
     "data": {
      "text/html": [
       "<pre style=\"white-space:pre;overflow-x:auto;line-height:normal;font-family:Menlo,'DejaVu Sans Mono',consolas,'Courier New',monospace\">\n",
       "</pre>\n"
      ],
      "text/plain": [
       "\n"
      ]
     },
     "metadata": {},
     "output_type": "display_data"
    },
    {
     "data": {
      "application/vnd.jupyter.widget-view+json": {
       "model_id": "355fa129c53c4430abf3f55b0536e62c",
       "version_major": 2,
       "version_minor": 0
      },
      "text/plain": [
       "Output()"
      ]
     },
     "metadata": {},
     "output_type": "display_data"
    },
    {
     "data": {
      "text/html": [
       "<pre style=\"white-space:pre;overflow-x:auto;line-height:normal;font-family:Menlo,'DejaVu Sans Mono',consolas,'Courier New',monospace\"></pre>\n"
      ],
      "text/plain": []
     },
     "metadata": {},
     "output_type": "display_data"
    },
    {
     "data": {
      "text/html": [
       "<pre style=\"white-space:pre;overflow-x:auto;line-height:normal;font-family:Menlo,'DejaVu Sans Mono',consolas,'Courier New',monospace\">\n",
       "</pre>\n"
      ],
      "text/plain": [
       "\n"
      ]
     },
     "metadata": {},
     "output_type": "display_data"
    },
    {
     "data": {
      "application/vnd.jupyter.widget-view+json": {
       "model_id": "45dde5289d29419790a40d6ac87c83bb",
       "version_major": 2,
       "version_minor": 0
      },
      "text/plain": [
       "Output()"
      ]
     },
     "metadata": {},
     "output_type": "display_data"
    },
    {
     "data": {
      "text/html": [
       "<pre style=\"white-space:pre;overflow-x:auto;line-height:normal;font-family:Menlo,'DejaVu Sans Mono',consolas,'Courier New',monospace\"></pre>\n"
      ],
      "text/plain": []
     },
     "metadata": {},
     "output_type": "display_data"
    },
    {
     "data": {
      "text/html": [
       "<pre style=\"white-space:pre;overflow-x:auto;line-height:normal;font-family:Menlo,'DejaVu Sans Mono',consolas,'Courier New',monospace\">\n",
       "</pre>\n"
      ],
      "text/plain": [
       "\n"
      ]
     },
     "metadata": {},
     "output_type": "display_data"
    },
    {
     "data": {
      "application/vnd.jupyter.widget-view+json": {
       "model_id": "05c231312c574a1cbabeeeb9acafb56c",
       "version_major": 2,
       "version_minor": 0
      },
      "text/plain": [
       "Output()"
      ]
     },
     "metadata": {},
     "output_type": "display_data"
    },
    {
     "data": {
      "text/html": [
       "<pre style=\"white-space:pre;overflow-x:auto;line-height:normal;font-family:Menlo,'DejaVu Sans Mono',consolas,'Courier New',monospace\"></pre>\n"
      ],
      "text/plain": []
     },
     "metadata": {},
     "output_type": "display_data"
    },
    {
     "data": {
      "text/html": [
       "<pre style=\"white-space:pre;overflow-x:auto;line-height:normal;font-family:Menlo,'DejaVu Sans Mono',consolas,'Courier New',monospace\">\n",
       "</pre>\n"
      ],
      "text/plain": [
       "\n"
      ]
     },
     "metadata": {},
     "output_type": "display_data"
    },
    {
     "data": {
      "application/vnd.jupyter.widget-view+json": {
       "model_id": "2ed51526573841a2ba932aa9c37a6c6d",
       "version_major": 2,
       "version_minor": 0
      },
      "text/plain": [
       "Output()"
      ]
     },
     "metadata": {},
     "output_type": "display_data"
    },
    {
     "data": {
      "text/html": [
       "<pre style=\"white-space:pre;overflow-x:auto;line-height:normal;font-family:Menlo,'DejaVu Sans Mono',consolas,'Courier New',monospace\"></pre>\n"
      ],
      "text/plain": []
     },
     "metadata": {},
     "output_type": "display_data"
    },
    {
     "data": {
      "text/html": [
       "<pre style=\"white-space:pre;overflow-x:auto;line-height:normal;font-family:Menlo,'DejaVu Sans Mono',consolas,'Courier New',monospace\">\n",
       "</pre>\n"
      ],
      "text/plain": [
       "\n"
      ]
     },
     "metadata": {},
     "output_type": "display_data"
    },
    {
     "data": {
      "application/vnd.jupyter.widget-view+json": {
       "model_id": "6aaea2aa19394918b97baa3411b12ff1",
       "version_major": 2,
       "version_minor": 0
      },
      "text/plain": [
       "Output()"
      ]
     },
     "metadata": {},
     "output_type": "display_data"
    },
    {
     "data": {
      "text/html": [
       "<pre style=\"white-space:pre;overflow-x:auto;line-height:normal;font-family:Menlo,'DejaVu Sans Mono',consolas,'Courier New',monospace\"></pre>\n"
      ],
      "text/plain": []
     },
     "metadata": {},
     "output_type": "display_data"
    },
    {
     "data": {
      "text/html": [
       "<pre style=\"white-space:pre;overflow-x:auto;line-height:normal;font-family:Menlo,'DejaVu Sans Mono',consolas,'Courier New',monospace\">\n",
       "</pre>\n"
      ],
      "text/plain": [
       "\n"
      ]
     },
     "metadata": {},
     "output_type": "display_data"
    },
    {
     "data": {
      "application/vnd.jupyter.widget-view+json": {
       "model_id": "4795c49fcd7944f785798f1600e49572",
       "version_major": 2,
       "version_minor": 0
      },
      "text/plain": [
       "Output()"
      ]
     },
     "metadata": {},
     "output_type": "display_data"
    },
    {
     "data": {
      "text/html": [
       "<pre style=\"white-space:pre;overflow-x:auto;line-height:normal;font-family:Menlo,'DejaVu Sans Mono',consolas,'Courier New',monospace\"></pre>\n"
      ],
      "text/plain": []
     },
     "metadata": {},
     "output_type": "display_data"
    },
    {
     "data": {
      "text/html": [
       "<pre style=\"white-space:pre;overflow-x:auto;line-height:normal;font-family:Menlo,'DejaVu Sans Mono',consolas,'Courier New',monospace\">\n",
       "</pre>\n"
      ],
      "text/plain": [
       "\n"
      ]
     },
     "metadata": {},
     "output_type": "display_data"
    },
    {
     "data": {
      "application/vnd.jupyter.widget-view+json": {
       "model_id": "1dc7b2c29ba84e8db114c174e06cf762",
       "version_major": 2,
       "version_minor": 0
      },
      "text/plain": [
       "Output()"
      ]
     },
     "metadata": {},
     "output_type": "display_data"
    },
    {
     "data": {
      "text/html": [
       "<pre style=\"white-space:pre;overflow-x:auto;line-height:normal;font-family:Menlo,'DejaVu Sans Mono',consolas,'Courier New',monospace\"></pre>\n"
      ],
      "text/plain": []
     },
     "metadata": {},
     "output_type": "display_data"
    },
    {
     "data": {
      "text/html": [
       "<pre style=\"white-space:pre;overflow-x:auto;line-height:normal;font-family:Menlo,'DejaVu Sans Mono',consolas,'Courier New',monospace\">\n",
       "</pre>\n"
      ],
      "text/plain": [
       "\n"
      ]
     },
     "metadata": {},
     "output_type": "display_data"
    },
    {
     "data": {
      "application/vnd.jupyter.widget-view+json": {
       "model_id": "b4835e3213d64fedaa4c2e88dc658cd5",
       "version_major": 2,
       "version_minor": 0
      },
      "text/plain": [
       "Output()"
      ]
     },
     "metadata": {},
     "output_type": "display_data"
    },
    {
     "data": {
      "text/html": [
       "<pre style=\"white-space:pre;overflow-x:auto;line-height:normal;font-family:Menlo,'DejaVu Sans Mono',consolas,'Courier New',monospace\"></pre>\n"
      ],
      "text/plain": []
     },
     "metadata": {},
     "output_type": "display_data"
    },
    {
     "data": {
      "text/html": [
       "<pre style=\"white-space:pre;overflow-x:auto;line-height:normal;font-family:Menlo,'DejaVu Sans Mono',consolas,'Courier New',monospace\">\n",
       "</pre>\n"
      ],
      "text/plain": [
       "\n"
      ]
     },
     "metadata": {},
     "output_type": "display_data"
    },
    {
     "data": {
      "application/vnd.jupyter.widget-view+json": {
       "model_id": "e9b1bbf97567414f858beb70df6ea38f",
       "version_major": 2,
       "version_minor": 0
      },
      "text/plain": [
       "Output()"
      ]
     },
     "metadata": {},
     "output_type": "display_data"
    },
    {
     "data": {
      "text/html": [
       "<pre style=\"white-space:pre;overflow-x:auto;line-height:normal;font-family:Menlo,'DejaVu Sans Mono',consolas,'Courier New',monospace\"></pre>\n"
      ],
      "text/plain": []
     },
     "metadata": {},
     "output_type": "display_data"
    },
    {
     "data": {
      "text/html": [
       "<pre style=\"white-space:pre;overflow-x:auto;line-height:normal;font-family:Menlo,'DejaVu Sans Mono',consolas,'Courier New',monospace\">\n",
       "</pre>\n"
      ],
      "text/plain": [
       "\n"
      ]
     },
     "metadata": {},
     "output_type": "display_data"
    },
    {
     "data": {
      "application/vnd.jupyter.widget-view+json": {
       "model_id": "3b99c980d3de45caa538ed52435c498b",
       "version_major": 2,
       "version_minor": 0
      },
      "text/plain": [
       "Output()"
      ]
     },
     "metadata": {},
     "output_type": "display_data"
    },
    {
     "data": {
      "text/html": [
       "<pre style=\"white-space:pre;overflow-x:auto;line-height:normal;font-family:Menlo,'DejaVu Sans Mono',consolas,'Courier New',monospace\"></pre>\n"
      ],
      "text/plain": []
     },
     "metadata": {},
     "output_type": "display_data"
    },
    {
     "data": {
      "text/html": [
       "<pre style=\"white-space:pre;overflow-x:auto;line-height:normal;font-family:Menlo,'DejaVu Sans Mono',consolas,'Courier New',monospace\">\n",
       "</pre>\n"
      ],
      "text/plain": [
       "\n"
      ]
     },
     "metadata": {},
     "output_type": "display_data"
    },
    {
     "data": {
      "application/vnd.jupyter.widget-view+json": {
       "model_id": "51e45ea89cfe47c49a8303197a8cf81e",
       "version_major": 2,
       "version_minor": 0
      },
      "text/plain": [
       "Output()"
      ]
     },
     "metadata": {},
     "output_type": "display_data"
    },
    {
     "data": {
      "text/html": [
       "<pre style=\"white-space:pre;overflow-x:auto;line-height:normal;font-family:Menlo,'DejaVu Sans Mono',consolas,'Courier New',monospace\"></pre>\n"
      ],
      "text/plain": []
     },
     "metadata": {},
     "output_type": "display_data"
    },
    {
     "data": {
      "text/html": [
       "<pre style=\"white-space:pre;overflow-x:auto;line-height:normal;font-family:Menlo,'DejaVu Sans Mono',consolas,'Courier New',monospace\">\n",
       "</pre>\n"
      ],
      "text/plain": [
       "\n"
      ]
     },
     "metadata": {},
     "output_type": "display_data"
    },
    {
     "data": {
      "application/vnd.jupyter.widget-view+json": {
       "model_id": "a2652424fb4a4382ba96b1f565718a22",
       "version_major": 2,
       "version_minor": 0
      },
      "text/plain": [
       "Output()"
      ]
     },
     "metadata": {},
     "output_type": "display_data"
    },
    {
     "data": {
      "text/html": [
       "<pre style=\"white-space:pre;overflow-x:auto;line-height:normal;font-family:Menlo,'DejaVu Sans Mono',consolas,'Courier New',monospace\"></pre>\n"
      ],
      "text/plain": []
     },
     "metadata": {},
     "output_type": "display_data"
    },
    {
     "data": {
      "text/html": [
       "<pre style=\"white-space:pre;overflow-x:auto;line-height:normal;font-family:Menlo,'DejaVu Sans Mono',consolas,'Courier New',monospace\">\n",
       "</pre>\n"
      ],
      "text/plain": [
       "\n"
      ]
     },
     "metadata": {},
     "output_type": "display_data"
    },
    {
     "data": {
      "application/vnd.jupyter.widget-view+json": {
       "model_id": "001f656e96be4a299df209b94f543985",
       "version_major": 2,
       "version_minor": 0
      },
      "text/plain": [
       "Output()"
      ]
     },
     "metadata": {},
     "output_type": "display_data"
    },
    {
     "data": {
      "text/html": [
       "<pre style=\"white-space:pre;overflow-x:auto;line-height:normal;font-family:Menlo,'DejaVu Sans Mono',consolas,'Courier New',monospace\"></pre>\n"
      ],
      "text/plain": []
     },
     "metadata": {},
     "output_type": "display_data"
    },
    {
     "data": {
      "text/html": [
       "<pre style=\"white-space:pre;overflow-x:auto;line-height:normal;font-family:Menlo,'DejaVu Sans Mono',consolas,'Courier New',monospace\">\n",
       "</pre>\n"
      ],
      "text/plain": [
       "\n"
      ]
     },
     "metadata": {},
     "output_type": "display_data"
    },
    {
     "data": {
      "application/vnd.jupyter.widget-view+json": {
       "model_id": "feb2f4cb5c534e0aa0f7eec0b267188d",
       "version_major": 2,
       "version_minor": 0
      },
      "text/plain": [
       "Output()"
      ]
     },
     "metadata": {},
     "output_type": "display_data"
    },
    {
     "data": {
      "text/html": [
       "<pre style=\"white-space:pre;overflow-x:auto;line-height:normal;font-family:Menlo,'DejaVu Sans Mono',consolas,'Courier New',monospace\"></pre>\n"
      ],
      "text/plain": []
     },
     "metadata": {},
     "output_type": "display_data"
    },
    {
     "data": {
      "text/html": [
       "<pre style=\"white-space:pre;overflow-x:auto;line-height:normal;font-family:Menlo,'DejaVu Sans Mono',consolas,'Courier New',monospace\">\n",
       "</pre>\n"
      ],
      "text/plain": [
       "\n"
      ]
     },
     "metadata": {},
     "output_type": "display_data"
    },
    {
     "data": {
      "application/vnd.jupyter.widget-view+json": {
       "model_id": "6a1557ee612c42dfbe6f73ddfb2a8198",
       "version_major": 2,
       "version_minor": 0
      },
      "text/plain": [
       "Output()"
      ]
     },
     "metadata": {},
     "output_type": "display_data"
    },
    {
     "data": {
      "text/html": [
       "<pre style=\"white-space:pre;overflow-x:auto;line-height:normal;font-family:Menlo,'DejaVu Sans Mono',consolas,'Courier New',monospace\"></pre>\n"
      ],
      "text/plain": []
     },
     "metadata": {},
     "output_type": "display_data"
    },
    {
     "data": {
      "text/html": [
       "<pre style=\"white-space:pre;overflow-x:auto;line-height:normal;font-family:Menlo,'DejaVu Sans Mono',consolas,'Courier New',monospace\">\n",
       "</pre>\n"
      ],
      "text/plain": [
       "\n"
      ]
     },
     "metadata": {},
     "output_type": "display_data"
    },
    {
     "data": {
      "application/vnd.jupyter.widget-view+json": {
       "model_id": "a665fff4bb8a494f8cfb27e0639c1486",
       "version_major": 2,
       "version_minor": 0
      },
      "text/plain": [
       "Output()"
      ]
     },
     "metadata": {},
     "output_type": "display_data"
    },
    {
     "data": {
      "text/html": [
       "<pre style=\"white-space:pre;overflow-x:auto;line-height:normal;font-family:Menlo,'DejaVu Sans Mono',consolas,'Courier New',monospace\"></pre>\n"
      ],
      "text/plain": []
     },
     "metadata": {},
     "output_type": "display_data"
    },
    {
     "data": {
      "text/html": [
       "<pre style=\"white-space:pre;overflow-x:auto;line-height:normal;font-family:Menlo,'DejaVu Sans Mono',consolas,'Courier New',monospace\">\n",
       "</pre>\n"
      ],
      "text/plain": [
       "\n"
      ]
     },
     "metadata": {},
     "output_type": "display_data"
    },
    {
     "data": {
      "application/vnd.jupyter.widget-view+json": {
       "model_id": "7d6a6bd361984a689a42659309f7f52b",
       "version_major": 2,
       "version_minor": 0
      },
      "text/plain": [
       "Output()"
      ]
     },
     "metadata": {},
     "output_type": "display_data"
    },
    {
     "data": {
      "text/html": [
       "<pre style=\"white-space:pre;overflow-x:auto;line-height:normal;font-family:Menlo,'DejaVu Sans Mono',consolas,'Courier New',monospace\"></pre>\n"
      ],
      "text/plain": []
     },
     "metadata": {},
     "output_type": "display_data"
    },
    {
     "data": {
      "text/html": [
       "<pre style=\"white-space:pre;overflow-x:auto;line-height:normal;font-family:Menlo,'DejaVu Sans Mono',consolas,'Courier New',monospace\">\n",
       "</pre>\n"
      ],
      "text/plain": [
       "\n"
      ]
     },
     "metadata": {},
     "output_type": "display_data"
    },
    {
     "data": {
      "application/vnd.jupyter.widget-view+json": {
       "model_id": "869d94f105064d01b0a2dd5501246daa",
       "version_major": 2,
       "version_minor": 0
      },
      "text/plain": [
       "Output()"
      ]
     },
     "metadata": {},
     "output_type": "display_data"
    },
    {
     "data": {
      "text/html": [
       "<pre style=\"white-space:pre;overflow-x:auto;line-height:normal;font-family:Menlo,'DejaVu Sans Mono',consolas,'Courier New',monospace\"></pre>\n"
      ],
      "text/plain": []
     },
     "metadata": {},
     "output_type": "display_data"
    },
    {
     "data": {
      "text/html": [
       "<pre style=\"white-space:pre;overflow-x:auto;line-height:normal;font-family:Menlo,'DejaVu Sans Mono',consolas,'Courier New',monospace\">\n",
       "</pre>\n"
      ],
      "text/plain": [
       "\n"
      ]
     },
     "metadata": {},
     "output_type": "display_data"
    },
    {
     "data": {
      "application/vnd.jupyter.widget-view+json": {
       "model_id": "d088c2d00aa149d098033688c2834b9e",
       "version_major": 2,
       "version_minor": 0
      },
      "text/plain": [
       "Output()"
      ]
     },
     "metadata": {},
     "output_type": "display_data"
    },
    {
     "data": {
      "text/html": [
       "<pre style=\"white-space:pre;overflow-x:auto;line-height:normal;font-family:Menlo,'DejaVu Sans Mono',consolas,'Courier New',monospace\"></pre>\n"
      ],
      "text/plain": []
     },
     "metadata": {},
     "output_type": "display_data"
    },
    {
     "data": {
      "text/html": [
       "<pre style=\"white-space:pre;overflow-x:auto;line-height:normal;font-family:Menlo,'DejaVu Sans Mono',consolas,'Courier New',monospace\">\n",
       "</pre>\n"
      ],
      "text/plain": [
       "\n"
      ]
     },
     "metadata": {},
     "output_type": "display_data"
    },
    {
     "data": {
      "application/vnd.jupyter.widget-view+json": {
       "model_id": "6efa73c749364fc8a1ebc78ce56856be",
       "version_major": 2,
       "version_minor": 0
      },
      "text/plain": [
       "Output()"
      ]
     },
     "metadata": {},
     "output_type": "display_data"
    },
    {
     "data": {
      "text/html": [
       "<pre style=\"white-space:pre;overflow-x:auto;line-height:normal;font-family:Menlo,'DejaVu Sans Mono',consolas,'Courier New',monospace\"></pre>\n"
      ],
      "text/plain": []
     },
     "metadata": {},
     "output_type": "display_data"
    },
    {
     "data": {
      "text/html": [
       "<pre style=\"white-space:pre;overflow-x:auto;line-height:normal;font-family:Menlo,'DejaVu Sans Mono',consolas,'Courier New',monospace\">\n",
       "</pre>\n"
      ],
      "text/plain": [
       "\n"
      ]
     },
     "metadata": {},
     "output_type": "display_data"
    },
    {
     "data": {
      "text/plain": [
       "(27, 266)"
      ]
     },
     "execution_count": 44,
     "metadata": {},
     "output_type": "execute_result"
    }
   ],
   "source": [
    "extract_keypoints_from_file(video_df.path[0]).shape"
   ]
  },
  {
   "cell_type": "code",
   "execution_count": 45,
   "id": "804a03cd",
   "metadata": {
    "ExecuteTime": {
     "end_time": "2023-08-01T12:26:53.720213Z",
     "start_time": "2023-08-01T12:26:53.715655Z"
    }
   },
   "outputs": [
    {
     "name": "stdout",
     "output_type": "stream",
     "text": [
      "27\n"
     ]
    }
   ],
   "source": [
    "cap = cv2.VideoCapture(video_df.path[0])\n",
    "length = int(cap.get(cv2.CAP_PROP_FRAME_COUNT))\n",
    "print( length )"
   ]
  },
  {
   "cell_type": "code",
   "execution_count": 46,
   "id": "0021d41c",
   "metadata": {
    "ExecuteTime": {
     "end_time": "2023-08-01T12:26:55.568090Z",
     "start_time": "2023-08-01T12:26:55.560060Z"
    }
   },
   "outputs": [
    {
     "data": {
      "text/plain": [
       "path              1405\n",
       "target            1405\n",
       "file              1405\n",
       "originaltarget    1405\n",
       "frequency         1405\n",
       "dtype: int64"
      ]
     },
     "execution_count": 46,
     "metadata": {},
     "output_type": "execute_result"
    }
   ],
   "source": [
    "video_df.count()"
   ]
  },
  {
   "cell_type": "code",
   "execution_count": 47,
   "id": "68dc8877",
   "metadata": {
    "ExecuteTime": {
     "end_time": "2023-08-01T12:26:58.381258Z",
     "start_time": "2023-08-01T12:26:58.378768Z"
    }
   },
   "outputs": [],
   "source": [
    "def frames_from_file(filepath):\n",
    "    cap = cv2.VideoCapture(filepath)\n",
    "    length = int(cap.get(cv2.CAP_PROP_FRAME_COUNT))\n",
    "    return length"
   ]
  },
  {
   "cell_type": "code",
   "execution_count": 48,
   "id": "b21f96b0",
   "metadata": {
    "ExecuteTime": {
     "end_time": "2023-08-01T12:27:00.311551Z",
     "start_time": "2023-08-01T12:27:00.305905Z"
    }
   },
   "outputs": [
    {
     "data": {
      "text/plain": [
       "43"
      ]
     },
     "execution_count": 48,
     "metadata": {},
     "output_type": "execute_result"
    }
   ],
   "source": [
    "frames_from_file('file://home/kristian/WLASL/videos_organized/address/01018.mp4')"
   ]
  },
  {
   "cell_type": "code",
   "execution_count": 49,
   "id": "630d4e7a",
   "metadata": {
    "ExecuteTime": {
     "end_time": "2023-08-01T12:27:45.328545Z",
     "start_time": "2023-08-01T12:27:06.322283Z"
    }
   },
   "outputs": [
    {
     "name": "stderr",
     "output_type": "stream",
     "text": [
      "100%|███████████████████████████████████████| 1405/1405 [00:38<00:00, 36.03it/s]\n"
     ]
    }
   ],
   "source": [
    "tqdm.pandas()\n",
    "video_df['frames'] = video_df['path'].progress_apply(frames_from_file)"
   ]
  },
  {
   "cell_type": "code",
   "execution_count": 50,
   "id": "0b26d075",
   "metadata": {
    "ExecuteTime": {
     "end_time": "2023-08-01T12:27:50.513494Z",
     "start_time": "2023-08-01T12:27:50.505714Z"
    }
   },
   "outputs": [
    {
     "data": {
      "text/html": [
       "<div>\n",
       "<style scoped>\n",
       "    .dataframe tbody tr th:only-of-type {\n",
       "        vertical-align: middle;\n",
       "    }\n",
       "\n",
       "    .dataframe tbody tr th {\n",
       "        vertical-align: top;\n",
       "    }\n",
       "\n",
       "    .dataframe thead th {\n",
       "        text-align: right;\n",
       "    }\n",
       "</style>\n",
       "<table border=\"1\" class=\"dataframe\">\n",
       "  <thead>\n",
       "    <tr style=\"text-align: right;\">\n",
       "      <th></th>\n",
       "      <th>path</th>\n",
       "      <th>target</th>\n",
       "      <th>file</th>\n",
       "      <th>originaltarget</th>\n",
       "      <th>frequency</th>\n",
       "      <th>frames</th>\n",
       "    </tr>\n",
       "  </thead>\n",
       "  <tbody>\n",
       "    <tr>\n",
       "      <th>0</th>\n",
       "      <td>file:/home/kristian/WLASL/videos_organized/acc...</td>\n",
       "      <td>accident</td>\n",
       "      <td>00618.mp4</td>\n",
       "      <td>accident</td>\n",
       "      <td>17</td>\n",
       "      <td>27</td>\n",
       "    </tr>\n",
       "    <tr>\n",
       "      <th>1</th>\n",
       "      <td>file:/home/kristian/WLASL/videos_organized/acc...</td>\n",
       "      <td>accident</td>\n",
       "      <td>00623.mp4</td>\n",
       "      <td>accident</td>\n",
       "      <td>17</td>\n",
       "      <td>104</td>\n",
       "    </tr>\n",
       "    <tr>\n",
       "      <th>2</th>\n",
       "      <td>file:/home/kristian/WLASL/videos_organized/acc...</td>\n",
       "      <td>accident</td>\n",
       "      <td>00624.mp4</td>\n",
       "      <td>accident</td>\n",
       "      <td>17</td>\n",
       "      <td>109</td>\n",
       "    </tr>\n",
       "    <tr>\n",
       "      <th>3</th>\n",
       "      <td>file:/home/kristian/WLASL/videos_organized/acc...</td>\n",
       "      <td>accident</td>\n",
       "      <td>00625.mp4</td>\n",
       "      <td>accident</td>\n",
       "      <td>17</td>\n",
       "      <td>34</td>\n",
       "    </tr>\n",
       "    <tr>\n",
       "      <th>4</th>\n",
       "      <td>file:/home/kristian/WLASL/videos_organized/acc...</td>\n",
       "      <td>accident</td>\n",
       "      <td>00626.mp4</td>\n",
       "      <td>accident</td>\n",
       "      <td>17</td>\n",
       "      <td>44</td>\n",
       "    </tr>\n",
       "  </tbody>\n",
       "</table>\n",
       "</div>"
      ],
      "text/plain": [
       "                                                path    target       file  \\\n",
       "0  file:/home/kristian/WLASL/videos_organized/acc...  accident  00618.mp4   \n",
       "1  file:/home/kristian/WLASL/videos_organized/acc...  accident  00623.mp4   \n",
       "2  file:/home/kristian/WLASL/videos_organized/acc...  accident  00624.mp4   \n",
       "3  file:/home/kristian/WLASL/videos_organized/acc...  accident  00625.mp4   \n",
       "4  file:/home/kristian/WLASL/videos_organized/acc...  accident  00626.mp4   \n",
       "\n",
       "  originaltarget  frequency  frames  \n",
       "0       accident         17      27  \n",
       "1       accident         17     104  \n",
       "2       accident         17     109  \n",
       "3       accident         17      34  \n",
       "4       accident         17      44  "
      ]
     },
     "execution_count": 50,
     "metadata": {},
     "output_type": "execute_result"
    }
   ],
   "source": [
    "video_df.head()"
   ]
  },
  {
   "cell_type": "code",
   "execution_count": 51,
   "id": "1d569287",
   "metadata": {
    "ExecuteTime": {
     "end_time": "2023-08-01T12:27:53.242207Z",
     "start_time": "2023-08-01T12:27:53.238702Z"
    }
   },
   "outputs": [
    {
     "data": {
      "text/plain": [
       "212"
      ]
     },
     "execution_count": 51,
     "metadata": {},
     "output_type": "execute_result"
    }
   ],
   "source": [
    "video_df['frames'].max()"
   ]
  },
  {
   "cell_type": "code",
   "execution_count": null,
   "id": "d30d5545",
   "metadata": {
    "ExecuteTime": {
     "end_time": "2023-08-02T12:05:02.229289Z",
     "start_time": "2023-08-02T12:05:02.229268Z"
    }
   },
   "outputs": [],
   "source": [
    "video_df.head(10)"
   ]
  },
  {
   "cell_type": "code",
   "execution_count": 53,
   "id": "8e8224b3",
   "metadata": {
    "ExecuteTime": {
     "end_time": "2023-08-02T12:04:46.300460Z",
     "start_time": "2023-08-01T12:28:28.449217Z"
    },
    "scrolled": true
   },
   "outputs": [
    {
     "name": "stderr",
     "output_type": "stream",
     "text": [
      "\r",
      "  0%|                                                  | 0/1405 [00:00<?, ?it/s]"
     ]
    },
    {
     "data": {
      "application/vnd.jupyter.widget-view+json": {
       "model_id": "996c238c03dd414694f71af457cc3116",
       "version_major": 2,
       "version_minor": 0
      },
      "text/plain": [
       "Output()"
      ]
     },
     "metadata": {},
     "output_type": "display_data"
    },
    {
     "data": {
      "text/html": [
       "<pre style=\"white-space:pre;overflow-x:auto;line-height:normal;font-family:Menlo,'DejaVu Sans Mono',consolas,'Courier New',monospace\"></pre>\n"
      ],
      "text/plain": []
     },
     "metadata": {},
     "output_type": "display_data"
    },
    {
     "data": {
      "text/html": [
       "<pre style=\"white-space:pre;overflow-x:auto;line-height:normal;font-family:Menlo,'DejaVu Sans Mono',consolas,'Courier New',monospace\">\n",
       "</pre>\n"
      ],
      "text/plain": [
       "\n"
      ]
     },
     "metadata": {},
     "output_type": "display_data"
    },
    {
     "data": {
      "application/vnd.jupyter.widget-view+json": {
       "model_id": "820c42ca3e0e4a05abd80a4a32b833ae",
       "version_major": 2,
       "version_minor": 0
      },
      "text/plain": [
       "Output()"
      ]
     },
     "metadata": {},
     "output_type": "display_data"
    },
    {
     "data": {
      "text/html": [
       "<pre style=\"white-space:pre;overflow-x:auto;line-height:normal;font-family:Menlo,'DejaVu Sans Mono',consolas,'Courier New',monospace\"></pre>\n"
      ],
      "text/plain": []
     },
     "metadata": {},
     "output_type": "display_data"
    },
    {
     "data": {
      "text/html": [
       "<pre style=\"white-space:pre;overflow-x:auto;line-height:normal;font-family:Menlo,'DejaVu Sans Mono',consolas,'Courier New',monospace\">\n",
       "</pre>\n"
      ],
      "text/plain": [
       "\n"
      ]
     },
     "metadata": {},
     "output_type": "display_data"
    },
    {
     "data": {
      "application/vnd.jupyter.widget-view+json": {
       "model_id": "67b71936aa2940bab40f72a005ccb490",
       "version_major": 2,
       "version_minor": 0
      },
      "text/plain": [
       "Output()"
      ]
     },
     "metadata": {},
     "output_type": "display_data"
    },
    {
     "data": {
      "text/html": [
       "<pre style=\"white-space:pre;overflow-x:auto;line-height:normal;font-family:Menlo,'DejaVu Sans Mono',consolas,'Courier New',monospace\"></pre>\n"
      ],
      "text/plain": []
     },
     "metadata": {},
     "output_type": "display_data"
    },
    {
     "data": {
      "text/html": [
       "<pre style=\"white-space:pre;overflow-x:auto;line-height:normal;font-family:Menlo,'DejaVu Sans Mono',consolas,'Courier New',monospace\">\n",
       "</pre>\n"
      ],
      "text/plain": [
       "\n"
      ]
     },
     "metadata": {},
     "output_type": "display_data"
    },
    {
     "data": {
      "application/vnd.jupyter.widget-view+json": {
       "model_id": "07a902fcfc274e648f167288dba34322",
       "version_major": 2,
       "version_minor": 0
      },
      "text/plain": [
       "Output()"
      ]
     },
     "metadata": {},
     "output_type": "display_data"
    },
    {
     "data": {
      "text/html": [
       "<pre style=\"white-space:pre;overflow-x:auto;line-height:normal;font-family:Menlo,'DejaVu Sans Mono',consolas,'Courier New',monospace\"></pre>\n"
      ],
      "text/plain": []
     },
     "metadata": {},
     "output_type": "display_data"
    },
    {
     "data": {
      "text/html": [
       "<pre style=\"white-space:pre;overflow-x:auto;line-height:normal;font-family:Menlo,'DejaVu Sans Mono',consolas,'Courier New',monospace\">\n",
       "</pre>\n"
      ],
      "text/plain": [
       "\n"
      ]
     },
     "metadata": {},
     "output_type": "display_data"
    },
    {
     "data": {
      "application/vnd.jupyter.widget-view+json": {
       "model_id": "c2c6a98676ce4cfda1dee36667d10194",
       "version_major": 2,
       "version_minor": 0
      },
      "text/plain": [
       "Output()"
      ]
     },
     "metadata": {},
     "output_type": "display_data"
    },
    {
     "data": {
      "text/html": [
       "<pre style=\"white-space:pre;overflow-x:auto;line-height:normal;font-family:Menlo,'DejaVu Sans Mono',consolas,'Courier New',monospace\"></pre>\n"
      ],
      "text/plain": []
     },
     "metadata": {},
     "output_type": "display_data"
    },
    {
     "data": {
      "text/html": [
       "<pre style=\"white-space:pre;overflow-x:auto;line-height:normal;font-family:Menlo,'DejaVu Sans Mono',consolas,'Courier New',monospace\">\n",
       "</pre>\n"
      ],
      "text/plain": [
       "\n"
      ]
     },
     "metadata": {},
     "output_type": "display_data"
    },
    {
     "data": {
      "application/vnd.jupyter.widget-view+json": {
       "model_id": "b47c5c6854a04828b8f74d395e2ff3d3",
       "version_major": 2,
       "version_minor": 0
      },
      "text/plain": [
       "Output()"
      ]
     },
     "metadata": {},
     "output_type": "display_data"
    },
    {
     "data": {
      "text/html": [
       "<pre style=\"white-space:pre;overflow-x:auto;line-height:normal;font-family:Menlo,'DejaVu Sans Mono',consolas,'Courier New',monospace\"></pre>\n"
      ],
      "text/plain": []
     },
     "metadata": {},
     "output_type": "display_data"
    },
    {
     "data": {
      "text/html": [
       "<pre style=\"white-space:pre;overflow-x:auto;line-height:normal;font-family:Menlo,'DejaVu Sans Mono',consolas,'Courier New',monospace\">\n",
       "</pre>\n"
      ],
      "text/plain": [
       "\n"
      ]
     },
     "metadata": {},
     "output_type": "display_data"
    },
    {
     "data": {
      "application/vnd.jupyter.widget-view+json": {
       "model_id": "164dd5cc28a4446089492047d19ac634",
       "version_major": 2,
       "version_minor": 0
      },
      "text/plain": [
       "Output()"
      ]
     },
     "metadata": {},
     "output_type": "display_data"
    },
    {
     "data": {
      "text/html": [
       "<pre style=\"white-space:pre;overflow-x:auto;line-height:normal;font-family:Menlo,'DejaVu Sans Mono',consolas,'Courier New',monospace\"></pre>\n"
      ],
      "text/plain": []
     },
     "metadata": {},
     "output_type": "display_data"
    },
    {
     "data": {
      "text/html": [
       "<pre style=\"white-space:pre;overflow-x:auto;line-height:normal;font-family:Menlo,'DejaVu Sans Mono',consolas,'Courier New',monospace\">\n",
       "</pre>\n"
      ],
      "text/plain": [
       "\n"
      ]
     },
     "metadata": {},
     "output_type": "display_data"
    },
    {
     "data": {
      "application/vnd.jupyter.widget-view+json": {
       "model_id": "d67d91ddebc349caa1416087f08b3e2b",
       "version_major": 2,
       "version_minor": 0
      },
      "text/plain": [
       "Output()"
      ]
     },
     "metadata": {},
     "output_type": "display_data"
    },
    {
     "data": {
      "text/html": [
       "<pre style=\"white-space:pre;overflow-x:auto;line-height:normal;font-family:Menlo,'DejaVu Sans Mono',consolas,'Courier New',monospace\"></pre>\n"
      ],
      "text/plain": []
     },
     "metadata": {},
     "output_type": "display_data"
    },
    {
     "data": {
      "text/html": [
       "<pre style=\"white-space:pre;overflow-x:auto;line-height:normal;font-family:Menlo,'DejaVu Sans Mono',consolas,'Courier New',monospace\">\n",
       "</pre>\n"
      ],
      "text/plain": [
       "\n"
      ]
     },
     "metadata": {},
     "output_type": "display_data"
    },
    {
     "data": {
      "application/vnd.jupyter.widget-view+json": {
       "model_id": "12f5a66feea54174b6f77c8f2162451d",
       "version_major": 2,
       "version_minor": 0
      },
      "text/plain": [
       "Output()"
      ]
     },
     "metadata": {},
     "output_type": "display_data"
    },
    {
     "data": {
      "text/html": [
       "<pre style=\"white-space:pre;overflow-x:auto;line-height:normal;font-family:Menlo,'DejaVu Sans Mono',consolas,'Courier New',monospace\"></pre>\n"
      ],
      "text/plain": []
     },
     "metadata": {},
     "output_type": "display_data"
    },
    {
     "data": {
      "text/html": [
       "<pre style=\"white-space:pre;overflow-x:auto;line-height:normal;font-family:Menlo,'DejaVu Sans Mono',consolas,'Courier New',monospace\">\n",
       "</pre>\n"
      ],
      "text/plain": [
       "\n"
      ]
     },
     "metadata": {},
     "output_type": "display_data"
    },
    {
     "data": {
      "application/vnd.jupyter.widget-view+json": {
       "model_id": "f1c5c98dcdfa49708cfad7b7eb9c764e",
       "version_major": 2,
       "version_minor": 0
      },
      "text/plain": [
       "Output()"
      ]
     },
     "metadata": {},
     "output_type": "display_data"
    },
    {
     "data": {
      "text/html": [
       "<pre style=\"white-space:pre;overflow-x:auto;line-height:normal;font-family:Menlo,'DejaVu Sans Mono',consolas,'Courier New',monospace\"></pre>\n"
      ],
      "text/plain": []
     },
     "metadata": {},
     "output_type": "display_data"
    },
    {
     "data": {
      "text/html": [
       "<pre style=\"white-space:pre;overflow-x:auto;line-height:normal;font-family:Menlo,'DejaVu Sans Mono',consolas,'Courier New',monospace\">\n",
       "</pre>\n"
      ],
      "text/plain": [
       "\n"
      ]
     },
     "metadata": {},
     "output_type": "display_data"
    },
    {
     "data": {
      "application/vnd.jupyter.widget-view+json": {
       "model_id": "3e5cc398c5c340708346fe8f9bb752f4",
       "version_major": 2,
       "version_minor": 0
      },
      "text/plain": [
       "Output()"
      ]
     },
     "metadata": {},
     "output_type": "display_data"
    },
    {
     "data": {
      "text/html": [
       "<pre style=\"white-space:pre;overflow-x:auto;line-height:normal;font-family:Menlo,'DejaVu Sans Mono',consolas,'Courier New',monospace\"></pre>\n"
      ],
      "text/plain": []
     },
     "metadata": {},
     "output_type": "display_data"
    },
    {
     "data": {
      "text/html": [
       "<pre style=\"white-space:pre;overflow-x:auto;line-height:normal;font-family:Menlo,'DejaVu Sans Mono',consolas,'Courier New',monospace\">\n",
       "</pre>\n"
      ],
      "text/plain": [
       "\n"
      ]
     },
     "metadata": {},
     "output_type": "display_data"
    },
    {
     "data": {
      "application/vnd.jupyter.widget-view+json": {
       "model_id": "37cec89706a841719dd754e36fb58b60",
       "version_major": 2,
       "version_minor": 0
      },
      "text/plain": [
       "Output()"
      ]
     },
     "metadata": {},
     "output_type": "display_data"
    },
    {
     "data": {
      "text/html": [
       "<pre style=\"white-space:pre;overflow-x:auto;line-height:normal;font-family:Menlo,'DejaVu Sans Mono',consolas,'Courier New',monospace\"></pre>\n"
      ],
      "text/plain": []
     },
     "metadata": {},
     "output_type": "display_data"
    },
    {
     "data": {
      "text/html": [
       "<pre style=\"white-space:pre;overflow-x:auto;line-height:normal;font-family:Menlo,'DejaVu Sans Mono',consolas,'Courier New',monospace\">\n",
       "</pre>\n"
      ],
      "text/plain": [
       "\n"
      ]
     },
     "metadata": {},
     "output_type": "display_data"
    },
    {
     "data": {
      "application/vnd.jupyter.widget-view+json": {
       "model_id": "68cde0132f2546d6b29ea3e79128d24f",
       "version_major": 2,
       "version_minor": 0
      },
      "text/plain": [
       "Output()"
      ]
     },
     "metadata": {},
     "output_type": "display_data"
    },
    {
     "data": {
      "text/html": [
       "<pre style=\"white-space:pre;overflow-x:auto;line-height:normal;font-family:Menlo,'DejaVu Sans Mono',consolas,'Courier New',monospace\"></pre>\n"
      ],
      "text/plain": []
     },
     "metadata": {},
     "output_type": "display_data"
    },
    {
     "data": {
      "text/html": [
       "<pre style=\"white-space:pre;overflow-x:auto;line-height:normal;font-family:Menlo,'DejaVu Sans Mono',consolas,'Courier New',monospace\">\n",
       "</pre>\n"
      ],
      "text/plain": [
       "\n"
      ]
     },
     "metadata": {},
     "output_type": "display_data"
    },
    {
     "data": {
      "application/vnd.jupyter.widget-view+json": {
       "model_id": "b1580066119e42dda3a05b65061dcdc1",
       "version_major": 2,
       "version_minor": 0
      },
      "text/plain": [
       "Output()"
      ]
     },
     "metadata": {},
     "output_type": "display_data"
    },
    {
     "data": {
      "text/html": [
       "<pre style=\"white-space:pre;overflow-x:auto;line-height:normal;font-family:Menlo,'DejaVu Sans Mono',consolas,'Courier New',monospace\"></pre>\n"
      ],
      "text/plain": []
     },
     "metadata": {},
     "output_type": "display_data"
    },
    {
     "data": {
      "text/html": [
       "<pre style=\"white-space:pre;overflow-x:auto;line-height:normal;font-family:Menlo,'DejaVu Sans Mono',consolas,'Courier New',monospace\">\n",
       "</pre>\n"
      ],
      "text/plain": [
       "\n"
      ]
     },
     "metadata": {},
     "output_type": "display_data"
    },
    {
     "data": {
      "application/vnd.jupyter.widget-view+json": {
       "model_id": "a48099e348a14c8ea7f07c69195a6564",
       "version_major": 2,
       "version_minor": 0
      },
      "text/plain": [
       "Output()"
      ]
     },
     "metadata": {},
     "output_type": "display_data"
    },
    {
     "data": {
      "text/html": [
       "<pre style=\"white-space:pre;overflow-x:auto;line-height:normal;font-family:Menlo,'DejaVu Sans Mono',consolas,'Courier New',monospace\"></pre>\n"
      ],
      "text/plain": []
     },
     "metadata": {},
     "output_type": "display_data"
    },
    {
     "data": {
      "text/html": [
       "<pre style=\"white-space:pre;overflow-x:auto;line-height:normal;font-family:Menlo,'DejaVu Sans Mono',consolas,'Courier New',monospace\">\n",
       "</pre>\n"
      ],
      "text/plain": [
       "\n"
      ]
     },
     "metadata": {},
     "output_type": "display_data"
    },
    {
     "data": {
      "application/vnd.jupyter.widget-view+json": {
       "model_id": "a96399507be1431e9719d7bf351a09e3",
       "version_major": 2,
       "version_minor": 0
      },
      "text/plain": [
       "Output()"
      ]
     },
     "metadata": {},
     "output_type": "display_data"
    },
    {
     "data": {
      "text/html": [
       "<pre style=\"white-space:pre;overflow-x:auto;line-height:normal;font-family:Menlo,'DejaVu Sans Mono',consolas,'Courier New',monospace\"></pre>\n"
      ],
      "text/plain": []
     },
     "metadata": {},
     "output_type": "display_data"
    },
    {
     "data": {
      "text/html": [
       "<pre style=\"white-space:pre;overflow-x:auto;line-height:normal;font-family:Menlo,'DejaVu Sans Mono',consolas,'Courier New',monospace\">\n",
       "</pre>\n"
      ],
      "text/plain": [
       "\n"
      ]
     },
     "metadata": {},
     "output_type": "display_data"
    },
    {
     "data": {
      "application/vnd.jupyter.widget-view+json": {
       "model_id": "1fdfebbe5c054ba2ad2934933357abb9",
       "version_major": 2,
       "version_minor": 0
      },
      "text/plain": [
       "Output()"
      ]
     },
     "metadata": {},
     "output_type": "display_data"
    },
    {
     "data": {
      "text/html": [
       "<pre style=\"white-space:pre;overflow-x:auto;line-height:normal;font-family:Menlo,'DejaVu Sans Mono',consolas,'Courier New',monospace\"></pre>\n"
      ],
      "text/plain": []
     },
     "metadata": {},
     "output_type": "display_data"
    },
    {
     "data": {
      "text/html": [
       "<pre style=\"white-space:pre;overflow-x:auto;line-height:normal;font-family:Menlo,'DejaVu Sans Mono',consolas,'Courier New',monospace\">\n",
       "</pre>\n"
      ],
      "text/plain": [
       "\n"
      ]
     },
     "metadata": {},
     "output_type": "display_data"
    },
    {
     "data": {
      "application/vnd.jupyter.widget-view+json": {
       "model_id": "3508e9f80801460f9351e0322c917381",
       "version_major": 2,
       "version_minor": 0
      },
      "text/plain": [
       "Output()"
      ]
     },
     "metadata": {},
     "output_type": "display_data"
    },
    {
     "data": {
      "text/html": [
       "<pre style=\"white-space:pre;overflow-x:auto;line-height:normal;font-family:Menlo,'DejaVu Sans Mono',consolas,'Courier New',monospace\"></pre>\n"
      ],
      "text/plain": []
     },
     "metadata": {},
     "output_type": "display_data"
    },
    {
     "data": {
      "text/html": [
       "<pre style=\"white-space:pre;overflow-x:auto;line-height:normal;font-family:Menlo,'DejaVu Sans Mono',consolas,'Courier New',monospace\">\n",
       "</pre>\n"
      ],
      "text/plain": [
       "\n"
      ]
     },
     "metadata": {},
     "output_type": "display_data"
    },
    {
     "data": {
      "application/vnd.jupyter.widget-view+json": {
       "model_id": "04a960375b2f423bb64cb31c2f22b2c9",
       "version_major": 2,
       "version_minor": 0
      },
      "text/plain": [
       "Output()"
      ]
     },
     "metadata": {},
     "output_type": "display_data"
    },
    {
     "data": {
      "text/html": [
       "<pre style=\"white-space:pre;overflow-x:auto;line-height:normal;font-family:Menlo,'DejaVu Sans Mono',consolas,'Courier New',monospace\"></pre>\n"
      ],
      "text/plain": []
     },
     "metadata": {},
     "output_type": "display_data"
    },
    {
     "data": {
      "text/html": [
       "<pre style=\"white-space:pre;overflow-x:auto;line-height:normal;font-family:Menlo,'DejaVu Sans Mono',consolas,'Courier New',monospace\">\n",
       "</pre>\n"
      ],
      "text/plain": [
       "\n"
      ]
     },
     "metadata": {},
     "output_type": "display_data"
    },
    {
     "data": {
      "application/vnd.jupyter.widget-view+json": {
       "model_id": "602a9b216ef2410c8be7b013f9d673d8",
       "version_major": 2,
       "version_minor": 0
      },
      "text/plain": [
       "Output()"
      ]
     },
     "metadata": {},
     "output_type": "display_data"
    },
    {
     "data": {
      "text/html": [
       "<pre style=\"white-space:pre;overflow-x:auto;line-height:normal;font-family:Menlo,'DejaVu Sans Mono',consolas,'Courier New',monospace\"></pre>\n"
      ],
      "text/plain": []
     },
     "metadata": {},
     "output_type": "display_data"
    },
    {
     "data": {
      "text/html": [
       "<pre style=\"white-space:pre;overflow-x:auto;line-height:normal;font-family:Menlo,'DejaVu Sans Mono',consolas,'Courier New',monospace\">\n",
       "</pre>\n"
      ],
      "text/plain": [
       "\n"
      ]
     },
     "metadata": {},
     "output_type": "display_data"
    },
    {
     "data": {
      "application/vnd.jupyter.widget-view+json": {
       "model_id": "bc9acb190562473fa246e538f9ce11d4",
       "version_major": 2,
       "version_minor": 0
      },
      "text/plain": [
       "Output()"
      ]
     },
     "metadata": {},
     "output_type": "display_data"
    },
    {
     "data": {
      "text/html": [
       "<pre style=\"white-space:pre;overflow-x:auto;line-height:normal;font-family:Menlo,'DejaVu Sans Mono',consolas,'Courier New',monospace\"></pre>\n"
      ],
      "text/plain": []
     },
     "metadata": {},
     "output_type": "display_data"
    },
    {
     "data": {
      "text/html": [
       "<pre style=\"white-space:pre;overflow-x:auto;line-height:normal;font-family:Menlo,'DejaVu Sans Mono',consolas,'Courier New',monospace\">\n",
       "</pre>\n"
      ],
      "text/plain": [
       "\n"
      ]
     },
     "metadata": {},
     "output_type": "display_data"
    },
    {
     "data": {
      "application/vnd.jupyter.widget-view+json": {
       "model_id": "137d2d8c4d7b4aff956f5f2996027045",
       "version_major": 2,
       "version_minor": 0
      },
      "text/plain": [
       "Output()"
      ]
     },
     "metadata": {},
     "output_type": "display_data"
    },
    {
     "data": {
      "text/html": [
       "<pre style=\"white-space:pre;overflow-x:auto;line-height:normal;font-family:Menlo,'DejaVu Sans Mono',consolas,'Courier New',monospace\"></pre>\n"
      ],
      "text/plain": []
     },
     "metadata": {},
     "output_type": "display_data"
    },
    {
     "data": {
      "text/html": [
       "<pre style=\"white-space:pre;overflow-x:auto;line-height:normal;font-family:Menlo,'DejaVu Sans Mono',consolas,'Courier New',monospace\">\n",
       "</pre>\n"
      ],
      "text/plain": [
       "\n"
      ]
     },
     "metadata": {},
     "output_type": "display_data"
    },
    {
     "data": {
      "application/vnd.jupyter.widget-view+json": {
       "model_id": "2a99680ffdbc431bbffc342b2748c905",
       "version_major": 2,
       "version_minor": 0
      },
      "text/plain": [
       "Output()"
      ]
     },
     "metadata": {},
     "output_type": "display_data"
    },
    {
     "data": {
      "text/html": [
       "<pre style=\"white-space:pre;overflow-x:auto;line-height:normal;font-family:Menlo,'DejaVu Sans Mono',consolas,'Courier New',monospace\"></pre>\n"
      ],
      "text/plain": []
     },
     "metadata": {},
     "output_type": "display_data"
    },
    {
     "data": {
      "text/html": [
       "<pre style=\"white-space:pre;overflow-x:auto;line-height:normal;font-family:Menlo,'DejaVu Sans Mono',consolas,'Courier New',monospace\">\n",
       "</pre>\n"
      ],
      "text/plain": [
       "\n"
      ]
     },
     "metadata": {},
     "output_type": "display_data"
    },
    {
     "data": {
      "application/vnd.jupyter.widget-view+json": {
       "model_id": "3c6ceedda2c94d6ea312f0ee9419ccd0",
       "version_major": 2,
       "version_minor": 0
      },
      "text/plain": [
       "Output()"
      ]
     },
     "metadata": {},
     "output_type": "display_data"
    },
    {
     "data": {
      "text/html": [
       "<pre style=\"white-space:pre;overflow-x:auto;line-height:normal;font-family:Menlo,'DejaVu Sans Mono',consolas,'Courier New',monospace\"></pre>\n"
      ],
      "text/plain": []
     },
     "metadata": {},
     "output_type": "display_data"
    },
    {
     "data": {
      "text/html": [
       "<pre style=\"white-space:pre;overflow-x:auto;line-height:normal;font-family:Menlo,'DejaVu Sans Mono',consolas,'Courier New',monospace\">\n",
       "</pre>\n"
      ],
      "text/plain": [
       "\n"
      ]
     },
     "metadata": {},
     "output_type": "display_data"
    },
    {
     "data": {
      "application/vnd.jupyter.widget-view+json": {
       "model_id": "9d31c0c4f2054ad884dcc6329151810c",
       "version_major": 2,
       "version_minor": 0
      },
      "text/plain": [
       "Output()"
      ]
     },
     "metadata": {},
     "output_type": "display_data"
    },
    {
     "data": {
      "text/html": [
       "<pre style=\"white-space:pre;overflow-x:auto;line-height:normal;font-family:Menlo,'DejaVu Sans Mono',consolas,'Courier New',monospace\"></pre>\n"
      ],
      "text/plain": []
     },
     "metadata": {},
     "output_type": "display_data"
    },
    {
     "data": {
      "text/html": [
       "<pre style=\"white-space:pre;overflow-x:auto;line-height:normal;font-family:Menlo,'DejaVu Sans Mono',consolas,'Courier New',monospace\">\n",
       "</pre>\n"
      ],
      "text/plain": [
       "\n"
      ]
     },
     "metadata": {},
     "output_type": "display_data"
    },
    {
     "data": {
      "application/vnd.jupyter.widget-view+json": {
       "model_id": "39c0f277db444b9fba23aa15caf5b7f4",
       "version_major": 2,
       "version_minor": 0
      },
      "text/plain": [
       "Output()"
      ]
     },
     "metadata": {},
     "output_type": "display_data"
    },
    {
     "data": {
      "text/html": [
       "<pre style=\"white-space:pre;overflow-x:auto;line-height:normal;font-family:Menlo,'DejaVu Sans Mono',consolas,'Courier New',monospace\"></pre>\n"
      ],
      "text/plain": []
     },
     "metadata": {},
     "output_type": "display_data"
    },
    {
     "data": {
      "text/html": [
       "<pre style=\"white-space:pre;overflow-x:auto;line-height:normal;font-family:Menlo,'DejaVu Sans Mono',consolas,'Courier New',monospace\">\n",
       "</pre>\n"
      ],
      "text/plain": [
       "\n"
      ]
     },
     "metadata": {},
     "output_type": "display_data"
    },
    {
     "data": {
      "application/vnd.jupyter.widget-view+json": {
       "model_id": "647c038ba22746d0b30b0058654f5b62",
       "version_major": 2,
       "version_minor": 0
      },
      "text/plain": [
       "Output()"
      ]
     },
     "metadata": {},
     "output_type": "display_data"
    },
    {
     "data": {
      "text/html": [
       "<pre style=\"white-space:pre;overflow-x:auto;line-height:normal;font-family:Menlo,'DejaVu Sans Mono',consolas,'Courier New',monospace\"></pre>\n"
      ],
      "text/plain": []
     },
     "metadata": {},
     "output_type": "display_data"
    },
    {
     "data": {
      "text/html": [
       "<pre style=\"white-space:pre;overflow-x:auto;line-height:normal;font-family:Menlo,'DejaVu Sans Mono',consolas,'Courier New',monospace\">\n",
       "</pre>\n"
      ],
      "text/plain": [
       "\n"
      ]
     },
     "metadata": {},
     "output_type": "display_data"
    },
    {
     "name": "stderr",
     "output_type": "stream",
     "text": [
      "\r",
      "  0%|                                        | 2/1405 [00:11<2:09:08,  5.52s/it]"
     ]
    },
    {
     "data": {
      "application/vnd.jupyter.widget-view+json": {
       "model_id": "6f61054490354e1084ece312a9aae1f1",
       "version_major": 2,
       "version_minor": 0
      },
      "text/plain": [
       "Output()"
      ]
     },
     "metadata": {},
     "output_type": "display_data"
    },
    {
     "data": {
      "text/html": [
       "<pre style=\"white-space:pre;overflow-x:auto;line-height:normal;font-family:Menlo,'DejaVu Sans Mono',consolas,'Courier New',monospace\"></pre>\n"
      ],
      "text/plain": []
     },
     "metadata": {},
     "output_type": "display_data"
    },
    {
     "data": {
      "text/html": [
       "<pre style=\"white-space:pre;overflow-x:auto;line-height:normal;font-family:Menlo,'DejaVu Sans Mono',consolas,'Courier New',monospace\">\n",
       "</pre>\n"
      ],
      "text/plain": [
       "\n"
      ]
     },
     "metadata": {},
     "output_type": "display_data"
    },
    {
     "data": {
      "application/vnd.jupyter.widget-view+json": {
       "model_id": "84b34d78d6f6448c81b21d301c1c9e5c",
       "version_major": 2,
       "version_minor": 0
      },
      "text/plain": [
       "Output()"
      ]
     },
     "metadata": {},
     "output_type": "display_data"
    },
    {
     "data": {
      "text/html": [
       "<pre style=\"white-space:pre;overflow-x:auto;line-height:normal;font-family:Menlo,'DejaVu Sans Mono',consolas,'Courier New',monospace\"></pre>\n"
      ],
      "text/plain": []
     },
     "metadata": {},
     "output_type": "display_data"
    },
    {
     "data": {
      "text/html": [
       "<pre style=\"white-space:pre;overflow-x:auto;line-height:normal;font-family:Menlo,'DejaVu Sans Mono',consolas,'Courier New',monospace\">\n",
       "</pre>\n"
      ],
      "text/plain": [
       "\n"
      ]
     },
     "metadata": {},
     "output_type": "display_data"
    },
    {
     "data": {
      "application/vnd.jupyter.widget-view+json": {
       "model_id": "2c892c2bf5fe4a29a527f2b1931123eb",
       "version_major": 2,
       "version_minor": 0
      },
      "text/plain": [
       "Output()"
      ]
     },
     "metadata": {},
     "output_type": "display_data"
    },
    {
     "data": {
      "text/html": [
       "<pre style=\"white-space:pre;overflow-x:auto;line-height:normal;font-family:Menlo,'DejaVu Sans Mono',consolas,'Courier New',monospace\"></pre>\n"
      ],
      "text/plain": []
     },
     "metadata": {},
     "output_type": "display_data"
    },
    {
     "data": {
      "text/html": [
       "<pre style=\"white-space:pre;overflow-x:auto;line-height:normal;font-family:Menlo,'DejaVu Sans Mono',consolas,'Courier New',monospace\">\n",
       "</pre>\n"
      ],
      "text/plain": [
       "\n"
      ]
     },
     "metadata": {},
     "output_type": "display_data"
    },
    {
     "data": {
      "application/vnd.jupyter.widget-view+json": {
       "model_id": "e294e9a5af28485dbe421f5a6328ada8",
       "version_major": 2,
       "version_minor": 0
      },
      "text/plain": [
       "Output()"
      ]
     },
     "metadata": {},
     "output_type": "display_data"
    },
    {
     "data": {
      "text/html": [
       "<pre style=\"white-space:pre;overflow-x:auto;line-height:normal;font-family:Menlo,'DejaVu Sans Mono',consolas,'Courier New',monospace\"></pre>\n"
      ],
      "text/plain": []
     },
     "metadata": {},
     "output_type": "display_data"
    },
    {
     "data": {
      "text/html": [
       "<pre style=\"white-space:pre;overflow-x:auto;line-height:normal;font-family:Menlo,'DejaVu Sans Mono',consolas,'Courier New',monospace\">\n",
       "</pre>\n"
      ],
      "text/plain": [
       "\n"
      ]
     },
     "metadata": {},
     "output_type": "display_data"
    },
    {
     "data": {
      "application/vnd.jupyter.widget-view+json": {
       "model_id": "9b4ed498a371425cbc700f36cd9f8a7c",
       "version_major": 2,
       "version_minor": 0
      },
      "text/plain": [
       "Output()"
      ]
     },
     "metadata": {},
     "output_type": "display_data"
    },
    {
     "data": {
      "text/html": [
       "<pre style=\"white-space:pre;overflow-x:auto;line-height:normal;font-family:Menlo,'DejaVu Sans Mono',consolas,'Courier New',monospace\"></pre>\n"
      ],
      "text/plain": []
     },
     "metadata": {},
     "output_type": "display_data"
    },
    {
     "data": {
      "text/html": [
       "<pre style=\"white-space:pre;overflow-x:auto;line-height:normal;font-family:Menlo,'DejaVu Sans Mono',consolas,'Courier New',monospace\">\n",
       "</pre>\n"
      ],
      "text/plain": [
       "\n"
      ]
     },
     "metadata": {},
     "output_type": "display_data"
    },
    {
     "data": {
      "application/vnd.jupyter.widget-view+json": {
       "model_id": "6ca8a6a9de35499580aff37685307676",
       "version_major": 2,
       "version_minor": 0
      },
      "text/plain": [
       "Output()"
      ]
     },
     "metadata": {},
     "output_type": "display_data"
    },
    {
     "data": {
      "text/html": [
       "<pre style=\"white-space:pre;overflow-x:auto;line-height:normal;font-family:Menlo,'DejaVu Sans Mono',consolas,'Courier New',monospace\"></pre>\n"
      ],
      "text/plain": []
     },
     "metadata": {},
     "output_type": "display_data"
    },
    {
     "data": {
      "text/html": [
       "<pre style=\"white-space:pre;overflow-x:auto;line-height:normal;font-family:Menlo,'DejaVu Sans Mono',consolas,'Courier New',monospace\">\n",
       "</pre>\n"
      ],
      "text/plain": [
       "\n"
      ]
     },
     "metadata": {},
     "output_type": "display_data"
    },
    {
     "data": {
      "application/vnd.jupyter.widget-view+json": {
       "model_id": "9de0ea37a5044946afa7df1eae9d5650",
       "version_major": 2,
       "version_minor": 0
      },
      "text/plain": [
       "Output()"
      ]
     },
     "metadata": {},
     "output_type": "display_data"
    },
    {
     "data": {
      "text/html": [
       "<pre style=\"white-space:pre;overflow-x:auto;line-height:normal;font-family:Menlo,'DejaVu Sans Mono',consolas,'Courier New',monospace\"></pre>\n"
      ],
      "text/plain": []
     },
     "metadata": {},
     "output_type": "display_data"
    },
    {
     "data": {
      "text/html": [
       "<pre style=\"white-space:pre;overflow-x:auto;line-height:normal;font-family:Menlo,'DejaVu Sans Mono',consolas,'Courier New',monospace\">\n",
       "</pre>\n"
      ],
      "text/plain": [
       "\n"
      ]
     },
     "metadata": {},
     "output_type": "display_data"
    },
    {
     "data": {
      "application/vnd.jupyter.widget-view+json": {
       "model_id": "e3f8758a0fb746fe9ca742b5440f0bef",
       "version_major": 2,
       "version_minor": 0
      },
      "text/plain": [
       "Output()"
      ]
     },
     "metadata": {},
     "output_type": "display_data"
    },
    {
     "data": {
      "text/html": [
       "<pre style=\"white-space:pre;overflow-x:auto;line-height:normal;font-family:Menlo,'DejaVu Sans Mono',consolas,'Courier New',monospace\"></pre>\n"
      ],
      "text/plain": []
     },
     "metadata": {},
     "output_type": "display_data"
    },
    {
     "data": {
      "text/html": [
       "<pre style=\"white-space:pre;overflow-x:auto;line-height:normal;font-family:Menlo,'DejaVu Sans Mono',consolas,'Courier New',monospace\">\n",
       "</pre>\n"
      ],
      "text/plain": [
       "\n"
      ]
     },
     "metadata": {},
     "output_type": "display_data"
    },
    {
     "data": {
      "application/vnd.jupyter.widget-view+json": {
       "model_id": "12cc22717968478da9066c1e74cd5c0e",
       "version_major": 2,
       "version_minor": 0
      },
      "text/plain": [
       "Output()"
      ]
     },
     "metadata": {},
     "output_type": "display_data"
    },
    {
     "data": {
      "text/html": [
       "<pre style=\"white-space:pre;overflow-x:auto;line-height:normal;font-family:Menlo,'DejaVu Sans Mono',consolas,'Courier New',monospace\"></pre>\n"
      ],
      "text/plain": []
     },
     "metadata": {},
     "output_type": "display_data"
    },
    {
     "data": {
      "text/html": [
       "<pre style=\"white-space:pre;overflow-x:auto;line-height:normal;font-family:Menlo,'DejaVu Sans Mono',consolas,'Courier New',monospace\">\n",
       "</pre>\n"
      ],
      "text/plain": [
       "\n"
      ]
     },
     "metadata": {},
     "output_type": "display_data"
    },
    {
     "data": {
      "application/vnd.jupyter.widget-view+json": {
       "model_id": "1b05183257d04eff9445f067a6f2f19c",
       "version_major": 2,
       "version_minor": 0
      },
      "text/plain": [
       "Output()"
      ]
     },
     "metadata": {},
     "output_type": "display_data"
    },
    {
     "data": {
      "text/html": [
       "<pre style=\"white-space:pre;overflow-x:auto;line-height:normal;font-family:Menlo,'DejaVu Sans Mono',consolas,'Courier New',monospace\"></pre>\n"
      ],
      "text/plain": []
     },
     "metadata": {},
     "output_type": "display_data"
    },
    {
     "data": {
      "text/html": [
       "<pre style=\"white-space:pre;overflow-x:auto;line-height:normal;font-family:Menlo,'DejaVu Sans Mono',consolas,'Courier New',monospace\">\n",
       "</pre>\n"
      ],
      "text/plain": [
       "\n"
      ]
     },
     "metadata": {},
     "output_type": "display_data"
    },
    {
     "data": {
      "application/vnd.jupyter.widget-view+json": {
       "model_id": "7264f9081f6644dc88438665bd9bb135",
       "version_major": 2,
       "version_minor": 0
      },
      "text/plain": [
       "Output()"
      ]
     },
     "metadata": {},
     "output_type": "display_data"
    },
    {
     "data": {
      "text/html": [
       "<pre style=\"white-space:pre;overflow-x:auto;line-height:normal;font-family:Menlo,'DejaVu Sans Mono',consolas,'Courier New',monospace\"></pre>\n"
      ],
      "text/plain": []
     },
     "metadata": {},
     "output_type": "display_data"
    },
    {
     "data": {
      "text/html": [
       "<pre style=\"white-space:pre;overflow-x:auto;line-height:normal;font-family:Menlo,'DejaVu Sans Mono',consolas,'Courier New',monospace\">\n",
       "</pre>\n"
      ],
      "text/plain": [
       "\n"
      ]
     },
     "metadata": {},
     "output_type": "display_data"
    },
    {
     "data": {
      "application/vnd.jupyter.widget-view+json": {
       "model_id": "6104e68a97454a839f2321f0afb478b3",
       "version_major": 2,
       "version_minor": 0
      },
      "text/plain": [
       "Output()"
      ]
     },
     "metadata": {},
     "output_type": "display_data"
    },
    {
     "data": {
      "text/html": [
       "<pre style=\"white-space:pre;overflow-x:auto;line-height:normal;font-family:Menlo,'DejaVu Sans Mono',consolas,'Courier New',monospace\"></pre>\n"
      ],
      "text/plain": []
     },
     "metadata": {},
     "output_type": "display_data"
    },
    {
     "data": {
      "text/html": [
       "<pre style=\"white-space:pre;overflow-x:auto;line-height:normal;font-family:Menlo,'DejaVu Sans Mono',consolas,'Courier New',monospace\">\n",
       "</pre>\n"
      ],
      "text/plain": [
       "\n"
      ]
     },
     "metadata": {},
     "output_type": "display_data"
    },
    {
     "data": {
      "application/vnd.jupyter.widget-view+json": {
       "model_id": "feb8e398cb3340fca2cf4816f32cb991",
       "version_major": 2,
       "version_minor": 0
      },
      "text/plain": [
       "Output()"
      ]
     },
     "metadata": {},
     "output_type": "display_data"
    },
    {
     "data": {
      "text/html": [
       "<pre style=\"white-space:pre;overflow-x:auto;line-height:normal;font-family:Menlo,'DejaVu Sans Mono',consolas,'Courier New',monospace\"></pre>\n"
      ],
      "text/plain": []
     },
     "metadata": {},
     "output_type": "display_data"
    },
    {
     "data": {
      "text/html": [
       "<pre style=\"white-space:pre;overflow-x:auto;line-height:normal;font-family:Menlo,'DejaVu Sans Mono',consolas,'Courier New',monospace\">\n",
       "</pre>\n"
      ],
      "text/plain": [
       "\n"
      ]
     },
     "metadata": {},
     "output_type": "display_data"
    },
    {
     "data": {
      "application/vnd.jupyter.widget-view+json": {
       "model_id": "84140075b2824002ae67dda7a5484d7a",
       "version_major": 2,
       "version_minor": 0
      },
      "text/plain": [
       "Output()"
      ]
     },
     "metadata": {},
     "output_type": "display_data"
    },
    {
     "data": {
      "text/html": [
       "<pre style=\"white-space:pre;overflow-x:auto;line-height:normal;font-family:Menlo,'DejaVu Sans Mono',consolas,'Courier New',monospace\"></pre>\n"
      ],
      "text/plain": []
     },
     "metadata": {},
     "output_type": "display_data"
    },
    {
     "data": {
      "text/html": [
       "<pre style=\"white-space:pre;overflow-x:auto;line-height:normal;font-family:Menlo,'DejaVu Sans Mono',consolas,'Courier New',monospace\">\n",
       "</pre>\n"
      ],
      "text/plain": [
       "\n"
      ]
     },
     "metadata": {},
     "output_type": "display_data"
    },
    {
     "data": {
      "application/vnd.jupyter.widget-view+json": {
       "model_id": "540f9501711e4400b24b6e955e9d7389",
       "version_major": 2,
       "version_minor": 0
      },
      "text/plain": [
       "Output()"
      ]
     },
     "metadata": {},
     "output_type": "display_data"
    },
    {
     "data": {
      "text/html": [
       "<pre style=\"white-space:pre;overflow-x:auto;line-height:normal;font-family:Menlo,'DejaVu Sans Mono',consolas,'Courier New',monospace\"></pre>\n"
      ],
      "text/plain": []
     },
     "metadata": {},
     "output_type": "display_data"
    },
    {
     "data": {
      "text/html": [
       "<pre style=\"white-space:pre;overflow-x:auto;line-height:normal;font-family:Menlo,'DejaVu Sans Mono',consolas,'Courier New',monospace\">\n",
       "</pre>\n"
      ],
      "text/plain": [
       "\n"
      ]
     },
     "metadata": {},
     "output_type": "display_data"
    },
    {
     "data": {
      "application/vnd.jupyter.widget-view+json": {
       "model_id": "f9ae63c6c1bf4bf2b9f47e47ad5de4ee",
       "version_major": 2,
       "version_minor": 0
      },
      "text/plain": [
       "Output()"
      ]
     },
     "metadata": {},
     "output_type": "display_data"
    },
    {
     "data": {
      "text/html": [
       "<pre style=\"white-space:pre;overflow-x:auto;line-height:normal;font-family:Menlo,'DejaVu Sans Mono',consolas,'Courier New',monospace\"></pre>\n"
      ],
      "text/plain": []
     },
     "metadata": {},
     "output_type": "display_data"
    },
    {
     "data": {
      "text/html": [
       "<pre style=\"white-space:pre;overflow-x:auto;line-height:normal;font-family:Menlo,'DejaVu Sans Mono',consolas,'Courier New',monospace\">\n",
       "</pre>\n"
      ],
      "text/plain": [
       "\n"
      ]
     },
     "metadata": {},
     "output_type": "display_data"
    },
    {
     "data": {
      "application/vnd.jupyter.widget-view+json": {
       "model_id": "37e02074247349fbbfb38aedf165d207",
       "version_major": 2,
       "version_minor": 0
      },
      "text/plain": [
       "Output()"
      ]
     },
     "metadata": {},
     "output_type": "display_data"
    },
    {
     "data": {
      "text/html": [
       "<pre style=\"white-space:pre;overflow-x:auto;line-height:normal;font-family:Menlo,'DejaVu Sans Mono',consolas,'Courier New',monospace\"></pre>\n"
      ],
      "text/plain": []
     },
     "metadata": {},
     "output_type": "display_data"
    },
    {
     "data": {
      "text/html": [
       "<pre style=\"white-space:pre;overflow-x:auto;line-height:normal;font-family:Menlo,'DejaVu Sans Mono',consolas,'Courier New',monospace\">\n",
       "</pre>\n"
      ],
      "text/plain": [
       "\n"
      ]
     },
     "metadata": {},
     "output_type": "display_data"
    },
    {
     "data": {
      "application/vnd.jupyter.widget-view+json": {
       "model_id": "2a7d334aa4c944d9b4cfd4b034dd50b8",
       "version_major": 2,
       "version_minor": 0
      },
      "text/plain": [
       "Output()"
      ]
     },
     "metadata": {},
     "output_type": "display_data"
    },
    {
     "data": {
      "text/html": [
       "<pre style=\"white-space:pre;overflow-x:auto;line-height:normal;font-family:Menlo,'DejaVu Sans Mono',consolas,'Courier New',monospace\"></pre>\n"
      ],
      "text/plain": []
     },
     "metadata": {},
     "output_type": "display_data"
    },
    {
     "data": {
      "text/html": [
       "<pre style=\"white-space:pre;overflow-x:auto;line-height:normal;font-family:Menlo,'DejaVu Sans Mono',consolas,'Courier New',monospace\">\n",
       "</pre>\n"
      ],
      "text/plain": [
       "\n"
      ]
     },
     "metadata": {},
     "output_type": "display_data"
    },
    {
     "data": {
      "application/vnd.jupyter.widget-view+json": {
       "model_id": "8373ae4b9a754f02ad7be4a79ae81c1b",
       "version_major": 2,
       "version_minor": 0
      },
      "text/plain": [
       "Output()"
      ]
     },
     "metadata": {},
     "output_type": "display_data"
    },
    {
     "data": {
      "text/html": [
       "<pre style=\"white-space:pre;overflow-x:auto;line-height:normal;font-family:Menlo,'DejaVu Sans Mono',consolas,'Courier New',monospace\"></pre>\n"
      ],
      "text/plain": []
     },
     "metadata": {},
     "output_type": "display_data"
    },
    {
     "data": {
      "text/html": [
       "<pre style=\"white-space:pre;overflow-x:auto;line-height:normal;font-family:Menlo,'DejaVu Sans Mono',consolas,'Courier New',monospace\">\n",
       "</pre>\n"
      ],
      "text/plain": [
       "\n"
      ]
     },
     "metadata": {},
     "output_type": "display_data"
    },
    {
     "data": {
      "application/vnd.jupyter.widget-view+json": {
       "model_id": "bc3547ec00764e8087bd353f641bcf1c",
       "version_major": 2,
       "version_minor": 0
      },
      "text/plain": [
       "Output()"
      ]
     },
     "metadata": {},
     "output_type": "display_data"
    },
    {
     "data": {
      "text/html": [
       "<pre style=\"white-space:pre;overflow-x:auto;line-height:normal;font-family:Menlo,'DejaVu Sans Mono',consolas,'Courier New',monospace\"></pre>\n"
      ],
      "text/plain": []
     },
     "metadata": {},
     "output_type": "display_data"
    },
    {
     "data": {
      "text/html": [
       "<pre style=\"white-space:pre;overflow-x:auto;line-height:normal;font-family:Menlo,'DejaVu Sans Mono',consolas,'Courier New',monospace\">\n",
       "</pre>\n"
      ],
      "text/plain": [
       "\n"
      ]
     },
     "metadata": {},
     "output_type": "display_data"
    },
    {
     "data": {
      "application/vnd.jupyter.widget-view+json": {
       "model_id": "02ad81634af24cf6a76044b333a97f4f",
       "version_major": 2,
       "version_minor": 0
      },
      "text/plain": [
       "Output()"
      ]
     },
     "metadata": {},
     "output_type": "display_data"
    },
    {
     "data": {
      "text/html": [
       "<pre style=\"white-space:pre;overflow-x:auto;line-height:normal;font-family:Menlo,'DejaVu Sans Mono',consolas,'Courier New',monospace\"></pre>\n"
      ],
      "text/plain": []
     },
     "metadata": {},
     "output_type": "display_data"
    },
    {
     "data": {
      "text/html": [
       "<pre style=\"white-space:pre;overflow-x:auto;line-height:normal;font-family:Menlo,'DejaVu Sans Mono',consolas,'Courier New',monospace\">\n",
       "</pre>\n"
      ],
      "text/plain": [
       "\n"
      ]
     },
     "metadata": {},
     "output_type": "display_data"
    },
    {
     "data": {
      "application/vnd.jupyter.widget-view+json": {
       "model_id": "28b0c60ee96e4257a192d69fbd38cc34",
       "version_major": 2,
       "version_minor": 0
      },
      "text/plain": [
       "Output()"
      ]
     },
     "metadata": {},
     "output_type": "display_data"
    },
    {
     "data": {
      "text/html": [
       "<pre style=\"white-space:pre;overflow-x:auto;line-height:normal;font-family:Menlo,'DejaVu Sans Mono',consolas,'Courier New',monospace\"></pre>\n"
      ],
      "text/plain": []
     },
     "metadata": {},
     "output_type": "display_data"
    },
    {
     "data": {
      "text/html": [
       "<pre style=\"white-space:pre;overflow-x:auto;line-height:normal;font-family:Menlo,'DejaVu Sans Mono',consolas,'Courier New',monospace\">\n",
       "</pre>\n"
      ],
      "text/plain": [
       "\n"
      ]
     },
     "metadata": {},
     "output_type": "display_data"
    },
    {
     "data": {
      "application/vnd.jupyter.widget-view+json": {
       "model_id": "1be23c217b8d4482985bcf08f8bd7da5",
       "version_major": 2,
       "version_minor": 0
      },
      "text/plain": [
       "Output()"
      ]
     },
     "metadata": {},
     "output_type": "display_data"
    },
    {
     "data": {
      "text/html": [
       "<pre style=\"white-space:pre;overflow-x:auto;line-height:normal;font-family:Menlo,'DejaVu Sans Mono',consolas,'Courier New',monospace\"></pre>\n"
      ],
      "text/plain": []
     },
     "metadata": {},
     "output_type": "display_data"
    },
    {
     "data": {
      "text/html": [
       "<pre style=\"white-space:pre;overflow-x:auto;line-height:normal;font-family:Menlo,'DejaVu Sans Mono',consolas,'Courier New',monospace\">\n",
       "</pre>\n"
      ],
      "text/plain": [
       "\n"
      ]
     },
     "metadata": {},
     "output_type": "display_data"
    },
    {
     "data": {
      "application/vnd.jupyter.widget-view+json": {
       "model_id": "f686f8b511e24409b5d65067000dac7d",
       "version_major": 2,
       "version_minor": 0
      },
      "text/plain": [
       "Output()"
      ]
     },
     "metadata": {},
     "output_type": "display_data"
    },
    {
     "data": {
      "text/html": [
       "<pre style=\"white-space:pre;overflow-x:auto;line-height:normal;font-family:Menlo,'DejaVu Sans Mono',consolas,'Courier New',monospace\"></pre>\n"
      ],
      "text/plain": []
     },
     "metadata": {},
     "output_type": "display_data"
    },
    {
     "data": {
      "text/html": [
       "<pre style=\"white-space:pre;overflow-x:auto;line-height:normal;font-family:Menlo,'DejaVu Sans Mono',consolas,'Courier New',monospace\">\n",
       "</pre>\n"
      ],
      "text/plain": [
       "\n"
      ]
     },
     "metadata": {},
     "output_type": "display_data"
    },
    {
     "data": {
      "application/vnd.jupyter.widget-view+json": {
       "model_id": "c5b8751fdf4d4ea38629ea60853d889e",
       "version_major": 2,
       "version_minor": 0
      },
      "text/plain": [
       "Output()"
      ]
     },
     "metadata": {},
     "output_type": "display_data"
    },
    {
     "data": {
      "text/html": [
       "<pre style=\"white-space:pre;overflow-x:auto;line-height:normal;font-family:Menlo,'DejaVu Sans Mono',consolas,'Courier New',monospace\"></pre>\n"
      ],
      "text/plain": []
     },
     "metadata": {},
     "output_type": "display_data"
    },
    {
     "data": {
      "text/html": [
       "<pre style=\"white-space:pre;overflow-x:auto;line-height:normal;font-family:Menlo,'DejaVu Sans Mono',consolas,'Courier New',monospace\">\n",
       "</pre>\n"
      ],
      "text/plain": [
       "\n"
      ]
     },
     "metadata": {},
     "output_type": "display_data"
    },
    {
     "data": {
      "application/vnd.jupyter.widget-view+json": {
       "model_id": "176e3ae1dd934c6abad301d83606b9c5",
       "version_major": 2,
       "version_minor": 0
      },
      "text/plain": [
       "Output()"
      ]
     },
     "metadata": {},
     "output_type": "display_data"
    },
    {
     "data": {
      "text/html": [
       "<pre style=\"white-space:pre;overflow-x:auto;line-height:normal;font-family:Menlo,'DejaVu Sans Mono',consolas,'Courier New',monospace\"></pre>\n"
      ],
      "text/plain": []
     },
     "metadata": {},
     "output_type": "display_data"
    },
    {
     "data": {
      "text/html": [
       "<pre style=\"white-space:pre;overflow-x:auto;line-height:normal;font-family:Menlo,'DejaVu Sans Mono',consolas,'Courier New',monospace\">\n",
       "</pre>\n"
      ],
      "text/plain": [
       "\n"
      ]
     },
     "metadata": {},
     "output_type": "display_data"
    },
    {
     "data": {
      "application/vnd.jupyter.widget-view+json": {
       "model_id": "b829fcd2785e4f14af956e89c5d29e53",
       "version_major": 2,
       "version_minor": 0
      },
      "text/plain": [
       "Output()"
      ]
     },
     "metadata": {},
     "output_type": "display_data"
    },
    {
     "data": {
      "text/html": [
       "<pre style=\"white-space:pre;overflow-x:auto;line-height:normal;font-family:Menlo,'DejaVu Sans Mono',consolas,'Courier New',monospace\"></pre>\n"
      ],
      "text/plain": []
     },
     "metadata": {},
     "output_type": "display_data"
    },
    {
     "data": {
      "text/html": [
       "<pre style=\"white-space:pre;overflow-x:auto;line-height:normal;font-family:Menlo,'DejaVu Sans Mono',consolas,'Courier New',monospace\">\n",
       "</pre>\n"
      ],
      "text/plain": [
       "\n"
      ]
     },
     "metadata": {},
     "output_type": "display_data"
    },
    {
     "data": {
      "application/vnd.jupyter.widget-view+json": {
       "model_id": "eb3e3834d78d492da977009260b1e760",
       "version_major": 2,
       "version_minor": 0
      },
      "text/plain": [
       "Output()"
      ]
     },
     "metadata": {},
     "output_type": "display_data"
    },
    {
     "data": {
      "text/html": [
       "<pre style=\"white-space:pre;overflow-x:auto;line-height:normal;font-family:Menlo,'DejaVu Sans Mono',consolas,'Courier New',monospace\"></pre>\n"
      ],
      "text/plain": []
     },
     "metadata": {},
     "output_type": "display_data"
    },
    {
     "data": {
      "text/html": [
       "<pre style=\"white-space:pre;overflow-x:auto;line-height:normal;font-family:Menlo,'DejaVu Sans Mono',consolas,'Courier New',monospace\">\n",
       "</pre>\n"
      ],
      "text/plain": [
       "\n"
      ]
     },
     "metadata": {},
     "output_type": "display_data"
    },
    {
     "data": {
      "application/vnd.jupyter.widget-view+json": {
       "model_id": "9ef0697299e144dc861a32f868be2b7f",
       "version_major": 2,
       "version_minor": 0
      },
      "text/plain": [
       "Output()"
      ]
     },
     "metadata": {},
     "output_type": "display_data"
    },
    {
     "data": {
      "text/html": [
       "<pre style=\"white-space:pre;overflow-x:auto;line-height:normal;font-family:Menlo,'DejaVu Sans Mono',consolas,'Courier New',monospace\"></pre>\n"
      ],
      "text/plain": []
     },
     "metadata": {},
     "output_type": "display_data"
    },
    {
     "data": {
      "text/html": [
       "<pre style=\"white-space:pre;overflow-x:auto;line-height:normal;font-family:Menlo,'DejaVu Sans Mono',consolas,'Courier New',monospace\">\n",
       "</pre>\n"
      ],
      "text/plain": [
       "\n"
      ]
     },
     "metadata": {},
     "output_type": "display_data"
    },
    {
     "data": {
      "application/vnd.jupyter.widget-view+json": {
       "model_id": "fad083c12cc74fd986ac63d2c715a44a",
       "version_major": 2,
       "version_minor": 0
      },
      "text/plain": [
       "Output()"
      ]
     },
     "metadata": {},
     "output_type": "display_data"
    },
    {
     "data": {
      "text/html": [
       "<pre style=\"white-space:pre;overflow-x:auto;line-height:normal;font-family:Menlo,'DejaVu Sans Mono',consolas,'Courier New',monospace\"></pre>\n"
      ],
      "text/plain": []
     },
     "metadata": {},
     "output_type": "display_data"
    },
    {
     "data": {
      "text/html": [
       "<pre style=\"white-space:pre;overflow-x:auto;line-height:normal;font-family:Menlo,'DejaVu Sans Mono',consolas,'Courier New',monospace\">\n",
       "</pre>\n"
      ],
      "text/plain": [
       "\n"
      ]
     },
     "metadata": {},
     "output_type": "display_data"
    },
    {
     "data": {
      "application/vnd.jupyter.widget-view+json": {
       "model_id": "d896df12dcba410ea6c85f7715ebff98",
       "version_major": 2,
       "version_minor": 0
      },
      "text/plain": [
       "Output()"
      ]
     },
     "metadata": {},
     "output_type": "display_data"
    },
    {
     "data": {
      "text/html": [
       "<pre style=\"white-space:pre;overflow-x:auto;line-height:normal;font-family:Menlo,'DejaVu Sans Mono',consolas,'Courier New',monospace\"></pre>\n"
      ],
      "text/plain": []
     },
     "metadata": {},
     "output_type": "display_data"
    },
    {
     "data": {
      "text/html": [
       "<pre style=\"white-space:pre;overflow-x:auto;line-height:normal;font-family:Menlo,'DejaVu Sans Mono',consolas,'Courier New',monospace\">\n",
       "</pre>\n"
      ],
      "text/plain": [
       "\n"
      ]
     },
     "metadata": {},
     "output_type": "display_data"
    },
    {
     "data": {
      "application/vnd.jupyter.widget-view+json": {
       "model_id": "ddae0983a5594c8da368a8b3d937c21e",
       "version_major": 2,
       "version_minor": 0
      },
      "text/plain": [
       "Output()"
      ]
     },
     "metadata": {},
     "output_type": "display_data"
    },
    {
     "data": {
      "text/html": [
       "<pre style=\"white-space:pre;overflow-x:auto;line-height:normal;font-family:Menlo,'DejaVu Sans Mono',consolas,'Courier New',monospace\"></pre>\n"
      ],
      "text/plain": []
     },
     "metadata": {},
     "output_type": "display_data"
    },
    {
     "data": {
      "text/html": [
       "<pre style=\"white-space:pre;overflow-x:auto;line-height:normal;font-family:Menlo,'DejaVu Sans Mono',consolas,'Courier New',monospace\">\n",
       "</pre>\n"
      ],
      "text/plain": [
       "\n"
      ]
     },
     "metadata": {},
     "output_type": "display_data"
    },
    {
     "data": {
      "application/vnd.jupyter.widget-view+json": {
       "model_id": "7800fab468e64d4d8ec9e64bc263bb3a",
       "version_major": 2,
       "version_minor": 0
      },
      "text/plain": [
       "Output()"
      ]
     },
     "metadata": {},
     "output_type": "display_data"
    },
    {
     "data": {
      "text/html": [
       "<pre style=\"white-space:pre;overflow-x:auto;line-height:normal;font-family:Menlo,'DejaVu Sans Mono',consolas,'Courier New',monospace\"></pre>\n"
      ],
      "text/plain": []
     },
     "metadata": {},
     "output_type": "display_data"
    },
    {
     "data": {
      "text/html": [
       "<pre style=\"white-space:pre;overflow-x:auto;line-height:normal;font-family:Menlo,'DejaVu Sans Mono',consolas,'Courier New',monospace\">\n",
       "</pre>\n"
      ],
      "text/plain": [
       "\n"
      ]
     },
     "metadata": {},
     "output_type": "display_data"
    },
    {
     "data": {
      "application/vnd.jupyter.widget-view+json": {
       "model_id": "d43bec5eed9740438975e69e73f57224",
       "version_major": 2,
       "version_minor": 0
      },
      "text/plain": [
       "Output()"
      ]
     },
     "metadata": {},
     "output_type": "display_data"
    },
    {
     "data": {
      "text/html": [
       "<pre style=\"white-space:pre;overflow-x:auto;line-height:normal;font-family:Menlo,'DejaVu Sans Mono',consolas,'Courier New',monospace\"></pre>\n"
      ],
      "text/plain": []
     },
     "metadata": {},
     "output_type": "display_data"
    },
    {
     "data": {
      "text/html": [
       "<pre style=\"white-space:pre;overflow-x:auto;line-height:normal;font-family:Menlo,'DejaVu Sans Mono',consolas,'Courier New',monospace\">\n",
       "</pre>\n"
      ],
      "text/plain": [
       "\n"
      ]
     },
     "metadata": {},
     "output_type": "display_data"
    },
    {
     "data": {
      "application/vnd.jupyter.widget-view+json": {
       "model_id": "b882899635ac4f629779ea2159c8771a",
       "version_major": 2,
       "version_minor": 0
      },
      "text/plain": [
       "Output()"
      ]
     },
     "metadata": {},
     "output_type": "display_data"
    },
    {
     "data": {
      "text/html": [
       "<pre style=\"white-space:pre;overflow-x:auto;line-height:normal;font-family:Menlo,'DejaVu Sans Mono',consolas,'Courier New',monospace\"></pre>\n"
      ],
      "text/plain": []
     },
     "metadata": {},
     "output_type": "display_data"
    },
    {
     "data": {
      "text/html": [
       "<pre style=\"white-space:pre;overflow-x:auto;line-height:normal;font-family:Menlo,'DejaVu Sans Mono',consolas,'Courier New',monospace\">\n",
       "</pre>\n"
      ],
      "text/plain": [
       "\n"
      ]
     },
     "metadata": {},
     "output_type": "display_data"
    },
    {
     "data": {
      "application/vnd.jupyter.widget-view+json": {
       "model_id": "95cb29be3d564ae2a01c97d08dd1e88e",
       "version_major": 2,
       "version_minor": 0
      },
      "text/plain": [
       "Output()"
      ]
     },
     "metadata": {},
     "output_type": "display_data"
    },
    {
     "data": {
      "text/html": [
       "<pre style=\"white-space:pre;overflow-x:auto;line-height:normal;font-family:Menlo,'DejaVu Sans Mono',consolas,'Courier New',monospace\"></pre>\n"
      ],
      "text/plain": []
     },
     "metadata": {},
     "output_type": "display_data"
    },
    {
     "data": {
      "text/html": [
       "<pre style=\"white-space:pre;overflow-x:auto;line-height:normal;font-family:Menlo,'DejaVu Sans Mono',consolas,'Courier New',monospace\">\n",
       "</pre>\n"
      ],
      "text/plain": [
       "\n"
      ]
     },
     "metadata": {},
     "output_type": "display_data"
    },
    {
     "data": {
      "application/vnd.jupyter.widget-view+json": {
       "model_id": "6951bea6bf894f59ba8bf8985e34888b",
       "version_major": 2,
       "version_minor": 0
      },
      "text/plain": [
       "Output()"
      ]
     },
     "metadata": {},
     "output_type": "display_data"
    },
    {
     "data": {
      "text/html": [
       "<pre style=\"white-space:pre;overflow-x:auto;line-height:normal;font-family:Menlo,'DejaVu Sans Mono',consolas,'Courier New',monospace\"></pre>\n"
      ],
      "text/plain": []
     },
     "metadata": {},
     "output_type": "display_data"
    },
    {
     "data": {
      "text/html": [
       "<pre style=\"white-space:pre;overflow-x:auto;line-height:normal;font-family:Menlo,'DejaVu Sans Mono',consolas,'Courier New',monospace\">\n",
       "</pre>\n"
      ],
      "text/plain": [
       "\n"
      ]
     },
     "metadata": {},
     "output_type": "display_data"
    },
    {
     "data": {
      "application/vnd.jupyter.widget-view+json": {
       "model_id": "ec07d12af691420b83dbe548148d1e0c",
       "version_major": 2,
       "version_minor": 0
      },
      "text/plain": [
       "Output()"
      ]
     },
     "metadata": {},
     "output_type": "display_data"
    },
    {
     "data": {
      "text/html": [
       "<pre style=\"white-space:pre;overflow-x:auto;line-height:normal;font-family:Menlo,'DejaVu Sans Mono',consolas,'Courier New',monospace\"></pre>\n"
      ],
      "text/plain": []
     },
     "metadata": {},
     "output_type": "display_data"
    },
    {
     "data": {
      "text/html": [
       "<pre style=\"white-space:pre;overflow-x:auto;line-height:normal;font-family:Menlo,'DejaVu Sans Mono',consolas,'Courier New',monospace\">\n",
       "</pre>\n"
      ],
      "text/plain": [
       "\n"
      ]
     },
     "metadata": {},
     "output_type": "display_data"
    },
    {
     "data": {
      "application/vnd.jupyter.widget-view+json": {
       "model_id": "a00674384d4c49839f6d7e8ababcd4e2",
       "version_major": 2,
       "version_minor": 0
      },
      "text/plain": [
       "Output()"
      ]
     },
     "metadata": {},
     "output_type": "display_data"
    },
    {
     "data": {
      "text/html": [
       "<pre style=\"white-space:pre;overflow-x:auto;line-height:normal;font-family:Menlo,'DejaVu Sans Mono',consolas,'Courier New',monospace\"></pre>\n"
      ],
      "text/plain": []
     },
     "metadata": {},
     "output_type": "display_data"
    },
    {
     "data": {
      "text/html": [
       "<pre style=\"white-space:pre;overflow-x:auto;line-height:normal;font-family:Menlo,'DejaVu Sans Mono',consolas,'Courier New',monospace\">\n",
       "</pre>\n"
      ],
      "text/plain": [
       "\n"
      ]
     },
     "metadata": {},
     "output_type": "display_data"
    },
    {
     "data": {
      "application/vnd.jupyter.widget-view+json": {
       "model_id": "387b6b8397554468b898d1ff197120f3",
       "version_major": 2,
       "version_minor": 0
      },
      "text/plain": [
       "Output()"
      ]
     },
     "metadata": {},
     "output_type": "display_data"
    },
    {
     "data": {
      "text/html": [
       "<pre style=\"white-space:pre;overflow-x:auto;line-height:normal;font-family:Menlo,'DejaVu Sans Mono',consolas,'Courier New',monospace\"></pre>\n"
      ],
      "text/plain": []
     },
     "metadata": {},
     "output_type": "display_data"
    },
    {
     "data": {
      "text/html": [
       "<pre style=\"white-space:pre;overflow-x:auto;line-height:normal;font-family:Menlo,'DejaVu Sans Mono',consolas,'Courier New',monospace\">\n",
       "</pre>\n"
      ],
      "text/plain": [
       "\n"
      ]
     },
     "metadata": {},
     "output_type": "display_data"
    },
    {
     "data": {
      "application/vnd.jupyter.widget-view+json": {
       "model_id": "ccaede6587834e66a286c8c96c49b2d6",
       "version_major": 2,
       "version_minor": 0
      },
      "text/plain": [
       "Output()"
      ]
     },
     "metadata": {},
     "output_type": "display_data"
    },
    {
     "data": {
      "text/html": [
       "<pre style=\"white-space:pre;overflow-x:auto;line-height:normal;font-family:Menlo,'DejaVu Sans Mono',consolas,'Courier New',monospace\"></pre>\n"
      ],
      "text/plain": []
     },
     "metadata": {},
     "output_type": "display_data"
    },
    {
     "data": {
      "text/html": [
       "<pre style=\"white-space:pre;overflow-x:auto;line-height:normal;font-family:Menlo,'DejaVu Sans Mono',consolas,'Courier New',monospace\">\n",
       "</pre>\n"
      ],
      "text/plain": [
       "\n"
      ]
     },
     "metadata": {},
     "output_type": "display_data"
    },
    {
     "data": {
      "application/vnd.jupyter.widget-view+json": {
       "model_id": "0feac4f992ea4ce1bc57d8cc9498e841",
       "version_major": 2,
       "version_minor": 0
      },
      "text/plain": [
       "Output()"
      ]
     },
     "metadata": {},
     "output_type": "display_data"
    },
    {
     "data": {
      "text/html": [
       "<pre style=\"white-space:pre;overflow-x:auto;line-height:normal;font-family:Menlo,'DejaVu Sans Mono',consolas,'Courier New',monospace\"></pre>\n"
      ],
      "text/plain": []
     },
     "metadata": {},
     "output_type": "display_data"
    },
    {
     "data": {
      "text/html": [
       "<pre style=\"white-space:pre;overflow-x:auto;line-height:normal;font-family:Menlo,'DejaVu Sans Mono',consolas,'Courier New',monospace\">\n",
       "</pre>\n"
      ],
      "text/plain": [
       "\n"
      ]
     },
     "metadata": {},
     "output_type": "display_data"
    },
    {
     "data": {
      "application/vnd.jupyter.widget-view+json": {
       "model_id": "88139ac5131e440b8fc03f87b1e12b12",
       "version_major": 2,
       "version_minor": 0
      },
      "text/plain": [
       "Output()"
      ]
     },
     "metadata": {},
     "output_type": "display_data"
    },
    {
     "data": {
      "text/html": [
       "<pre style=\"white-space:pre;overflow-x:auto;line-height:normal;font-family:Menlo,'DejaVu Sans Mono',consolas,'Courier New',monospace\"></pre>\n"
      ],
      "text/plain": []
     },
     "metadata": {},
     "output_type": "display_data"
    },
    {
     "data": {
      "text/html": [
       "<pre style=\"white-space:pre;overflow-x:auto;line-height:normal;font-family:Menlo,'DejaVu Sans Mono',consolas,'Courier New',monospace\">\n",
       "</pre>\n"
      ],
      "text/plain": [
       "\n"
      ]
     },
     "metadata": {},
     "output_type": "display_data"
    },
    {
     "data": {
      "application/vnd.jupyter.widget-view+json": {
       "model_id": "13cc7f9804f14ebd8412333ff0e29d89",
       "version_major": 2,
       "version_minor": 0
      },
      "text/plain": [
       "Output()"
      ]
     },
     "metadata": {},
     "output_type": "display_data"
    },
    {
     "data": {
      "text/html": [
       "<pre style=\"white-space:pre;overflow-x:auto;line-height:normal;font-family:Menlo,'DejaVu Sans Mono',consolas,'Courier New',monospace\"></pre>\n"
      ],
      "text/plain": []
     },
     "metadata": {},
     "output_type": "display_data"
    },
    {
     "data": {
      "text/html": [
       "<pre style=\"white-space:pre;overflow-x:auto;line-height:normal;font-family:Menlo,'DejaVu Sans Mono',consolas,'Courier New',monospace\">\n",
       "</pre>\n"
      ],
      "text/plain": [
       "\n"
      ]
     },
     "metadata": {},
     "output_type": "display_data"
    },
    {
     "data": {
      "application/vnd.jupyter.widget-view+json": {
       "model_id": "3aa52fa6da73410c9c63baeb7bb6b2ea",
       "version_major": 2,
       "version_minor": 0
      },
      "text/plain": [
       "Output()"
      ]
     },
     "metadata": {},
     "output_type": "display_data"
    },
    {
     "data": {
      "text/html": [
       "<pre style=\"white-space:pre;overflow-x:auto;line-height:normal;font-family:Menlo,'DejaVu Sans Mono',consolas,'Courier New',monospace\"></pre>\n"
      ],
      "text/plain": []
     },
     "metadata": {},
     "output_type": "display_data"
    },
    {
     "data": {
      "text/html": [
       "<pre style=\"white-space:pre;overflow-x:auto;line-height:normal;font-family:Menlo,'DejaVu Sans Mono',consolas,'Courier New',monospace\">\n",
       "</pre>\n"
      ],
      "text/plain": [
       "\n"
      ]
     },
     "metadata": {},
     "output_type": "display_data"
    },
    {
     "data": {
      "application/vnd.jupyter.widget-view+json": {
       "model_id": "54d165a664b4499092e775a007fc0ea3",
       "version_major": 2,
       "version_minor": 0
      },
      "text/plain": [
       "Output()"
      ]
     },
     "metadata": {},
     "output_type": "display_data"
    },
    {
     "data": {
      "text/html": [
       "<pre style=\"white-space:pre;overflow-x:auto;line-height:normal;font-family:Menlo,'DejaVu Sans Mono',consolas,'Courier New',monospace\"></pre>\n"
      ],
      "text/plain": []
     },
     "metadata": {},
     "output_type": "display_data"
    },
    {
     "data": {
      "text/html": [
       "<pre style=\"white-space:pre;overflow-x:auto;line-height:normal;font-family:Menlo,'DejaVu Sans Mono',consolas,'Courier New',monospace\">\n",
       "</pre>\n"
      ],
      "text/plain": [
       "\n"
      ]
     },
     "metadata": {},
     "output_type": "display_data"
    },
    {
     "data": {
      "application/vnd.jupyter.widget-view+json": {
       "model_id": "628109955be84ec198876f29e34087bb",
       "version_major": 2,
       "version_minor": 0
      },
      "text/plain": [
       "Output()"
      ]
     },
     "metadata": {},
     "output_type": "display_data"
    },
    {
     "data": {
      "text/html": [
       "<pre style=\"white-space:pre;overflow-x:auto;line-height:normal;font-family:Menlo,'DejaVu Sans Mono',consolas,'Courier New',monospace\"></pre>\n"
      ],
      "text/plain": []
     },
     "metadata": {},
     "output_type": "display_data"
    },
    {
     "data": {
      "text/html": [
       "<pre style=\"white-space:pre;overflow-x:auto;line-height:normal;font-family:Menlo,'DejaVu Sans Mono',consolas,'Courier New',monospace\">\n",
       "</pre>\n"
      ],
      "text/plain": [
       "\n"
      ]
     },
     "metadata": {},
     "output_type": "display_data"
    },
    {
     "data": {
      "application/vnd.jupyter.widget-view+json": {
       "model_id": "db19b46822e248fe9e688155e842911f",
       "version_major": 2,
       "version_minor": 0
      },
      "text/plain": [
       "Output()"
      ]
     },
     "metadata": {},
     "output_type": "display_data"
    },
    {
     "data": {
      "text/html": [
       "<pre style=\"white-space:pre;overflow-x:auto;line-height:normal;font-family:Menlo,'DejaVu Sans Mono',consolas,'Courier New',monospace\"></pre>\n"
      ],
      "text/plain": []
     },
     "metadata": {},
     "output_type": "display_data"
    },
    {
     "data": {
      "text/html": [
       "<pre style=\"white-space:pre;overflow-x:auto;line-height:normal;font-family:Menlo,'DejaVu Sans Mono',consolas,'Courier New',monospace\">\n",
       "</pre>\n"
      ],
      "text/plain": [
       "\n"
      ]
     },
     "metadata": {},
     "output_type": "display_data"
    },
    {
     "data": {
      "application/vnd.jupyter.widget-view+json": {
       "model_id": "8e674402ecfb4eacaac8867940e2e3e5",
       "version_major": 2,
       "version_minor": 0
      },
      "text/plain": [
       "Output()"
      ]
     },
     "metadata": {},
     "output_type": "display_data"
    },
    {
     "data": {
      "text/html": [
       "<pre style=\"white-space:pre;overflow-x:auto;line-height:normal;font-family:Menlo,'DejaVu Sans Mono',consolas,'Courier New',monospace\"></pre>\n"
      ],
      "text/plain": []
     },
     "metadata": {},
     "output_type": "display_data"
    },
    {
     "data": {
      "text/html": [
       "<pre style=\"white-space:pre;overflow-x:auto;line-height:normal;font-family:Menlo,'DejaVu Sans Mono',consolas,'Courier New',monospace\">\n",
       "</pre>\n"
      ],
      "text/plain": [
       "\n"
      ]
     },
     "metadata": {},
     "output_type": "display_data"
    },
    {
     "data": {
      "application/vnd.jupyter.widget-view+json": {
       "model_id": "94fdcc5de1b742e5a3ac435ed40f15db",
       "version_major": 2,
       "version_minor": 0
      },
      "text/plain": [
       "Output()"
      ]
     },
     "metadata": {},
     "output_type": "display_data"
    },
    {
     "data": {
      "text/html": [
       "<pre style=\"white-space:pre;overflow-x:auto;line-height:normal;font-family:Menlo,'DejaVu Sans Mono',consolas,'Courier New',monospace\"></pre>\n"
      ],
      "text/plain": []
     },
     "metadata": {},
     "output_type": "display_data"
    },
    {
     "data": {
      "text/html": [
       "<pre style=\"white-space:pre;overflow-x:auto;line-height:normal;font-family:Menlo,'DejaVu Sans Mono',consolas,'Courier New',monospace\">\n",
       "</pre>\n"
      ],
      "text/plain": [
       "\n"
      ]
     },
     "metadata": {},
     "output_type": "display_data"
    },
    {
     "data": {
      "application/vnd.jupyter.widget-view+json": {
       "model_id": "d73a2dcb9a2f4fc987185c87a298c2e5",
       "version_major": 2,
       "version_minor": 0
      },
      "text/plain": [
       "Output()"
      ]
     },
     "metadata": {},
     "output_type": "display_data"
    },
    {
     "data": {
      "text/html": [
       "<pre style=\"white-space:pre;overflow-x:auto;line-height:normal;font-family:Menlo,'DejaVu Sans Mono',consolas,'Courier New',monospace\"></pre>\n"
      ],
      "text/plain": []
     },
     "metadata": {},
     "output_type": "display_data"
    },
    {
     "data": {
      "text/html": [
       "<pre style=\"white-space:pre;overflow-x:auto;line-height:normal;font-family:Menlo,'DejaVu Sans Mono',consolas,'Courier New',monospace\">\n",
       "</pre>\n"
      ],
      "text/plain": [
       "\n"
      ]
     },
     "metadata": {},
     "output_type": "display_data"
    },
    {
     "data": {
      "application/vnd.jupyter.widget-view+json": {
       "model_id": "5152b2d35f0f458eb6086b54ee3d6ca9",
       "version_major": 2,
       "version_minor": 0
      },
      "text/plain": [
       "Output()"
      ]
     },
     "metadata": {},
     "output_type": "display_data"
    },
    {
     "data": {
      "text/html": [
       "<pre style=\"white-space:pre;overflow-x:auto;line-height:normal;font-family:Menlo,'DejaVu Sans Mono',consolas,'Courier New',monospace\"></pre>\n"
      ],
      "text/plain": []
     },
     "metadata": {},
     "output_type": "display_data"
    },
    {
     "data": {
      "text/html": [
       "<pre style=\"white-space:pre;overflow-x:auto;line-height:normal;font-family:Menlo,'DejaVu Sans Mono',consolas,'Courier New',monospace\">\n",
       "</pre>\n"
      ],
      "text/plain": [
       "\n"
      ]
     },
     "metadata": {},
     "output_type": "display_data"
    },
    {
     "data": {
      "application/vnd.jupyter.widget-view+json": {
       "model_id": "a5397bf16a25492686dc42c4a74a79cc",
       "version_major": 2,
       "version_minor": 0
      },
      "text/plain": [
       "Output()"
      ]
     },
     "metadata": {},
     "output_type": "display_data"
    },
    {
     "data": {
      "text/html": [
       "<pre style=\"white-space:pre;overflow-x:auto;line-height:normal;font-family:Menlo,'DejaVu Sans Mono',consolas,'Courier New',monospace\"></pre>\n"
      ],
      "text/plain": []
     },
     "metadata": {},
     "output_type": "display_data"
    },
    {
     "data": {
      "text/html": [
       "<pre style=\"white-space:pre;overflow-x:auto;line-height:normal;font-family:Menlo,'DejaVu Sans Mono',consolas,'Courier New',monospace\">\n",
       "</pre>\n"
      ],
      "text/plain": [
       "\n"
      ]
     },
     "metadata": {},
     "output_type": "display_data"
    },
    {
     "data": {
      "application/vnd.jupyter.widget-view+json": {
       "model_id": "2fe85daded394beda0262b3b4cf6be7c",
       "version_major": 2,
       "version_minor": 0
      },
      "text/plain": [
       "Output()"
      ]
     },
     "metadata": {},
     "output_type": "display_data"
    },
    {
     "data": {
      "text/html": [
       "<pre style=\"white-space:pre;overflow-x:auto;line-height:normal;font-family:Menlo,'DejaVu Sans Mono',consolas,'Courier New',monospace\"></pre>\n"
      ],
      "text/plain": []
     },
     "metadata": {},
     "output_type": "display_data"
    },
    {
     "data": {
      "text/html": [
       "<pre style=\"white-space:pre;overflow-x:auto;line-height:normal;font-family:Menlo,'DejaVu Sans Mono',consolas,'Courier New',monospace\">\n",
       "</pre>\n"
      ],
      "text/plain": [
       "\n"
      ]
     },
     "metadata": {},
     "output_type": "display_data"
    },
    {
     "data": {
      "application/vnd.jupyter.widget-view+json": {
       "model_id": "a71ee96ddeeb4be89ec518ba014edefc",
       "version_major": 2,
       "version_minor": 0
      },
      "text/plain": [
       "Output()"
      ]
     },
     "metadata": {},
     "output_type": "display_data"
    },
    {
     "data": {
      "text/html": [
       "<pre style=\"white-space:pre;overflow-x:auto;line-height:normal;font-family:Menlo,'DejaVu Sans Mono',consolas,'Courier New',monospace\"></pre>\n"
      ],
      "text/plain": []
     },
     "metadata": {},
     "output_type": "display_data"
    },
    {
     "data": {
      "text/html": [
       "<pre style=\"white-space:pre;overflow-x:auto;line-height:normal;font-family:Menlo,'DejaVu Sans Mono',consolas,'Courier New',monospace\">\n",
       "</pre>\n"
      ],
      "text/plain": [
       "\n"
      ]
     },
     "metadata": {},
     "output_type": "display_data"
    },
    {
     "data": {
      "application/vnd.jupyter.widget-view+json": {
       "model_id": "9d039b4a8b3a4f629186b2a6dfab23d3",
       "version_major": 2,
       "version_minor": 0
      },
      "text/plain": [
       "Output()"
      ]
     },
     "metadata": {},
     "output_type": "display_data"
    },
    {
     "data": {
      "text/html": [
       "<pre style=\"white-space:pre;overflow-x:auto;line-height:normal;font-family:Menlo,'DejaVu Sans Mono',consolas,'Courier New',monospace\"></pre>\n"
      ],
      "text/plain": []
     },
     "metadata": {},
     "output_type": "display_data"
    },
    {
     "data": {
      "text/html": [
       "<pre style=\"white-space:pre;overflow-x:auto;line-height:normal;font-family:Menlo,'DejaVu Sans Mono',consolas,'Courier New',monospace\">\n",
       "</pre>\n"
      ],
      "text/plain": [
       "\n"
      ]
     },
     "metadata": {},
     "output_type": "display_data"
    },
    {
     "data": {
      "application/vnd.jupyter.widget-view+json": {
       "model_id": "1739b5797ad34906b11a1aba45f81ee0",
       "version_major": 2,
       "version_minor": 0
      },
      "text/plain": [
       "Output()"
      ]
     },
     "metadata": {},
     "output_type": "display_data"
    },
    {
     "data": {
      "text/html": [
       "<pre style=\"white-space:pre;overflow-x:auto;line-height:normal;font-family:Menlo,'DejaVu Sans Mono',consolas,'Courier New',monospace\"></pre>\n"
      ],
      "text/plain": []
     },
     "metadata": {},
     "output_type": "display_data"
    },
    {
     "data": {
      "text/html": [
       "<pre style=\"white-space:pre;overflow-x:auto;line-height:normal;font-family:Menlo,'DejaVu Sans Mono',consolas,'Courier New',monospace\">\n",
       "</pre>\n"
      ],
      "text/plain": [
       "\n"
      ]
     },
     "metadata": {},
     "output_type": "display_data"
    },
    {
     "data": {
      "application/vnd.jupyter.widget-view+json": {
       "model_id": "b90f36c8085b402bad65500d7132d9f0",
       "version_major": 2,
       "version_minor": 0
      },
      "text/plain": [
       "Output()"
      ]
     },
     "metadata": {},
     "output_type": "display_data"
    },
    {
     "data": {
      "text/html": [
       "<pre style=\"white-space:pre;overflow-x:auto;line-height:normal;font-family:Menlo,'DejaVu Sans Mono',consolas,'Courier New',monospace\"></pre>\n"
      ],
      "text/plain": []
     },
     "metadata": {},
     "output_type": "display_data"
    },
    {
     "data": {
      "text/html": [
       "<pre style=\"white-space:pre;overflow-x:auto;line-height:normal;font-family:Menlo,'DejaVu Sans Mono',consolas,'Courier New',monospace\">\n",
       "</pre>\n"
      ],
      "text/plain": [
       "\n"
      ]
     },
     "metadata": {},
     "output_type": "display_data"
    },
    {
     "data": {
      "application/vnd.jupyter.widget-view+json": {
       "model_id": "e24ac4c554ff475086210255964e3049",
       "version_major": 2,
       "version_minor": 0
      },
      "text/plain": [
       "Output()"
      ]
     },
     "metadata": {},
     "output_type": "display_data"
    },
    {
     "data": {
      "text/html": [
       "<pre style=\"white-space:pre;overflow-x:auto;line-height:normal;font-family:Menlo,'DejaVu Sans Mono',consolas,'Courier New',monospace\"></pre>\n"
      ],
      "text/plain": []
     },
     "metadata": {},
     "output_type": "display_data"
    },
    {
     "data": {
      "text/html": [
       "<pre style=\"white-space:pre;overflow-x:auto;line-height:normal;font-family:Menlo,'DejaVu Sans Mono',consolas,'Courier New',monospace\">\n",
       "</pre>\n"
      ],
      "text/plain": [
       "\n"
      ]
     },
     "metadata": {},
     "output_type": "display_data"
    },
    {
     "data": {
      "application/vnd.jupyter.widget-view+json": {
       "model_id": "41aa7700e2e046d4a1b65b5aa1249d82",
       "version_major": 2,
       "version_minor": 0
      },
      "text/plain": [
       "Output()"
      ]
     },
     "metadata": {},
     "output_type": "display_data"
    },
    {
     "data": {
      "text/html": [
       "<pre style=\"white-space:pre;overflow-x:auto;line-height:normal;font-family:Menlo,'DejaVu Sans Mono',consolas,'Courier New',monospace\"></pre>\n"
      ],
      "text/plain": []
     },
     "metadata": {},
     "output_type": "display_data"
    },
    {
     "data": {
      "text/html": [
       "<pre style=\"white-space:pre;overflow-x:auto;line-height:normal;font-family:Menlo,'DejaVu Sans Mono',consolas,'Courier New',monospace\">\n",
       "</pre>\n"
      ],
      "text/plain": [
       "\n"
      ]
     },
     "metadata": {},
     "output_type": "display_data"
    },
    {
     "data": {
      "application/vnd.jupyter.widget-view+json": {
       "model_id": "950b68ac07bd4469a14c09e87ad0ea0c",
       "version_major": 2,
       "version_minor": 0
      },
      "text/plain": [
       "Output()"
      ]
     },
     "metadata": {},
     "output_type": "display_data"
    },
    {
     "data": {
      "text/html": [
       "<pre style=\"white-space:pre;overflow-x:auto;line-height:normal;font-family:Menlo,'DejaVu Sans Mono',consolas,'Courier New',monospace\"></pre>\n"
      ],
      "text/plain": []
     },
     "metadata": {},
     "output_type": "display_data"
    },
    {
     "data": {
      "text/html": [
       "<pre style=\"white-space:pre;overflow-x:auto;line-height:normal;font-family:Menlo,'DejaVu Sans Mono',consolas,'Courier New',monospace\">\n",
       "</pre>\n"
      ],
      "text/plain": [
       "\n"
      ]
     },
     "metadata": {},
     "output_type": "display_data"
    },
    {
     "data": {
      "application/vnd.jupyter.widget-view+json": {
       "model_id": "921e6f8038a944378b955fde26729403",
       "version_major": 2,
       "version_minor": 0
      },
      "text/plain": [
       "Output()"
      ]
     },
     "metadata": {},
     "output_type": "display_data"
    },
    {
     "data": {
      "text/html": [
       "<pre style=\"white-space:pre;overflow-x:auto;line-height:normal;font-family:Menlo,'DejaVu Sans Mono',consolas,'Courier New',monospace\"></pre>\n"
      ],
      "text/plain": []
     },
     "metadata": {},
     "output_type": "display_data"
    },
    {
     "data": {
      "text/html": [
       "<pre style=\"white-space:pre;overflow-x:auto;line-height:normal;font-family:Menlo,'DejaVu Sans Mono',consolas,'Courier New',monospace\">\n",
       "</pre>\n"
      ],
      "text/plain": [
       "\n"
      ]
     },
     "metadata": {},
     "output_type": "display_data"
    },
    {
     "data": {
      "application/vnd.jupyter.widget-view+json": {
       "model_id": "d825f1586ff940d683d033dda6e44191",
       "version_major": 2,
       "version_minor": 0
      },
      "text/plain": [
       "Output()"
      ]
     },
     "metadata": {},
     "output_type": "display_data"
    },
    {
     "data": {
      "text/html": [
       "<pre style=\"white-space:pre;overflow-x:auto;line-height:normal;font-family:Menlo,'DejaVu Sans Mono',consolas,'Courier New',monospace\"></pre>\n"
      ],
      "text/plain": []
     },
     "metadata": {},
     "output_type": "display_data"
    },
    {
     "data": {
      "text/html": [
       "<pre style=\"white-space:pre;overflow-x:auto;line-height:normal;font-family:Menlo,'DejaVu Sans Mono',consolas,'Courier New',monospace\">\n",
       "</pre>\n"
      ],
      "text/plain": [
       "\n"
      ]
     },
     "metadata": {},
     "output_type": "display_data"
    },
    {
     "data": {
      "application/vnd.jupyter.widget-view+json": {
       "model_id": "aafadb2d926e4d6baff63de667644023",
       "version_major": 2,
       "version_minor": 0
      },
      "text/plain": [
       "Output()"
      ]
     },
     "metadata": {},
     "output_type": "display_data"
    },
    {
     "data": {
      "text/html": [
       "<pre style=\"white-space:pre;overflow-x:auto;line-height:normal;font-family:Menlo,'DejaVu Sans Mono',consolas,'Courier New',monospace\"></pre>\n"
      ],
      "text/plain": []
     },
     "metadata": {},
     "output_type": "display_data"
    },
    {
     "data": {
      "text/html": [
       "<pre style=\"white-space:pre;overflow-x:auto;line-height:normal;font-family:Menlo,'DejaVu Sans Mono',consolas,'Courier New',monospace\">\n",
       "</pre>\n"
      ],
      "text/plain": [
       "\n"
      ]
     },
     "metadata": {},
     "output_type": "display_data"
    },
    {
     "data": {
      "application/vnd.jupyter.widget-view+json": {
       "model_id": "ea2025ed7d2b4281b1f46fb3e8e68409",
       "version_major": 2,
       "version_minor": 0
      },
      "text/plain": [
       "Output()"
      ]
     },
     "metadata": {},
     "output_type": "display_data"
    },
    {
     "data": {
      "text/html": [
       "<pre style=\"white-space:pre;overflow-x:auto;line-height:normal;font-family:Menlo,'DejaVu Sans Mono',consolas,'Courier New',monospace\"></pre>\n"
      ],
      "text/plain": []
     },
     "metadata": {},
     "output_type": "display_data"
    },
    {
     "data": {
      "text/html": [
       "<pre style=\"white-space:pre;overflow-x:auto;line-height:normal;font-family:Menlo,'DejaVu Sans Mono',consolas,'Courier New',monospace\">\n",
       "</pre>\n"
      ],
      "text/plain": [
       "\n"
      ]
     },
     "metadata": {},
     "output_type": "display_data"
    },
    {
     "data": {
      "application/vnd.jupyter.widget-view+json": {
       "model_id": "01995fc9fc9d45bb86dc7b17f5cebf15",
       "version_major": 2,
       "version_minor": 0
      },
      "text/plain": [
       "Output()"
      ]
     },
     "metadata": {},
     "output_type": "display_data"
    },
    {
     "data": {
      "text/html": [
       "<pre style=\"white-space:pre;overflow-x:auto;line-height:normal;font-family:Menlo,'DejaVu Sans Mono',consolas,'Courier New',monospace\"></pre>\n"
      ],
      "text/plain": []
     },
     "metadata": {},
     "output_type": "display_data"
    },
    {
     "data": {
      "text/html": [
       "<pre style=\"white-space:pre;overflow-x:auto;line-height:normal;font-family:Menlo,'DejaVu Sans Mono',consolas,'Courier New',monospace\">\n",
       "</pre>\n"
      ],
      "text/plain": [
       "\n"
      ]
     },
     "metadata": {},
     "output_type": "display_data"
    },
    {
     "data": {
      "application/vnd.jupyter.widget-view+json": {
       "model_id": "b3f23a0f80b6425e801944f46eccadd8",
       "version_major": 2,
       "version_minor": 0
      },
      "text/plain": [
       "Output()"
      ]
     },
     "metadata": {},
     "output_type": "display_data"
    },
    {
     "data": {
      "text/html": [
       "<pre style=\"white-space:pre;overflow-x:auto;line-height:normal;font-family:Menlo,'DejaVu Sans Mono',consolas,'Courier New',monospace\"></pre>\n"
      ],
      "text/plain": []
     },
     "metadata": {},
     "output_type": "display_data"
    },
    {
     "data": {
      "text/html": [
       "<pre style=\"white-space:pre;overflow-x:auto;line-height:normal;font-family:Menlo,'DejaVu Sans Mono',consolas,'Courier New',monospace\">\n",
       "</pre>\n"
      ],
      "text/plain": [
       "\n"
      ]
     },
     "metadata": {},
     "output_type": "display_data"
    },
    {
     "data": {
      "application/vnd.jupyter.widget-view+json": {
       "model_id": "36fef056bbfb4400bcc4cbedab8cee68",
       "version_major": 2,
       "version_minor": 0
      },
      "text/plain": [
       "Output()"
      ]
     },
     "metadata": {},
     "output_type": "display_data"
    },
    {
     "data": {
      "text/html": [
       "<pre style=\"white-space:pre;overflow-x:auto;line-height:normal;font-family:Menlo,'DejaVu Sans Mono',consolas,'Courier New',monospace\"></pre>\n"
      ],
      "text/plain": []
     },
     "metadata": {},
     "output_type": "display_data"
    },
    {
     "data": {
      "text/html": [
       "<pre style=\"white-space:pre;overflow-x:auto;line-height:normal;font-family:Menlo,'DejaVu Sans Mono',consolas,'Courier New',monospace\">\n",
       "</pre>\n"
      ],
      "text/plain": [
       "\n"
      ]
     },
     "metadata": {},
     "output_type": "display_data"
    },
    {
     "data": {
      "application/vnd.jupyter.widget-view+json": {
       "model_id": "1ebc230b38414dda8889083af93bcd8c",
       "version_major": 2,
       "version_minor": 0
      },
      "text/plain": [
       "Output()"
      ]
     },
     "metadata": {},
     "output_type": "display_data"
    },
    {
     "data": {
      "text/html": [
       "<pre style=\"white-space:pre;overflow-x:auto;line-height:normal;font-family:Menlo,'DejaVu Sans Mono',consolas,'Courier New',monospace\"></pre>\n"
      ],
      "text/plain": []
     },
     "metadata": {},
     "output_type": "display_data"
    },
    {
     "data": {
      "text/html": [
       "<pre style=\"white-space:pre;overflow-x:auto;line-height:normal;font-family:Menlo,'DejaVu Sans Mono',consolas,'Courier New',monospace\">\n",
       "</pre>\n"
      ],
      "text/plain": [
       "\n"
      ]
     },
     "metadata": {},
     "output_type": "display_data"
    },
    {
     "data": {
      "application/vnd.jupyter.widget-view+json": {
       "model_id": "bd608936f7234a09927b9d20cc183c9b",
       "version_major": 2,
       "version_minor": 0
      },
      "text/plain": [
       "Output()"
      ]
     },
     "metadata": {},
     "output_type": "display_data"
    },
    {
     "data": {
      "text/html": [
       "<pre style=\"white-space:pre;overflow-x:auto;line-height:normal;font-family:Menlo,'DejaVu Sans Mono',consolas,'Courier New',monospace\"></pre>\n"
      ],
      "text/plain": []
     },
     "metadata": {},
     "output_type": "display_data"
    },
    {
     "data": {
      "text/html": [
       "<pre style=\"white-space:pre;overflow-x:auto;line-height:normal;font-family:Menlo,'DejaVu Sans Mono',consolas,'Courier New',monospace\">\n",
       "</pre>\n"
      ],
      "text/plain": [
       "\n"
      ]
     },
     "metadata": {},
     "output_type": "display_data"
    },
    {
     "data": {
      "application/vnd.jupyter.widget-view+json": {
       "model_id": "6437a721d0c84c659eefd5b7f7c18bd2",
       "version_major": 2,
       "version_minor": 0
      },
      "text/plain": [
       "Output()"
      ]
     },
     "metadata": {},
     "output_type": "display_data"
    },
    {
     "data": {
      "text/html": [
       "<pre style=\"white-space:pre;overflow-x:auto;line-height:normal;font-family:Menlo,'DejaVu Sans Mono',consolas,'Courier New',monospace\"></pre>\n"
      ],
      "text/plain": []
     },
     "metadata": {},
     "output_type": "display_data"
    },
    {
     "data": {
      "text/html": [
       "<pre style=\"white-space:pre;overflow-x:auto;line-height:normal;font-family:Menlo,'DejaVu Sans Mono',consolas,'Courier New',monospace\">\n",
       "</pre>\n"
      ],
      "text/plain": [
       "\n"
      ]
     },
     "metadata": {},
     "output_type": "display_data"
    },
    {
     "data": {
      "application/vnd.jupyter.widget-view+json": {
       "model_id": "9df5eac2230548ea809a1ec1a437d50c",
       "version_major": 2,
       "version_minor": 0
      },
      "text/plain": [
       "Output()"
      ]
     },
     "metadata": {},
     "output_type": "display_data"
    },
    {
     "data": {
      "text/html": [
       "<pre style=\"white-space:pre;overflow-x:auto;line-height:normal;font-family:Menlo,'DejaVu Sans Mono',consolas,'Courier New',monospace\"></pre>\n"
      ],
      "text/plain": []
     },
     "metadata": {},
     "output_type": "display_data"
    },
    {
     "data": {
      "text/html": [
       "<pre style=\"white-space:pre;overflow-x:auto;line-height:normal;font-family:Menlo,'DejaVu Sans Mono',consolas,'Courier New',monospace\">\n",
       "</pre>\n"
      ],
      "text/plain": [
       "\n"
      ]
     },
     "metadata": {},
     "output_type": "display_data"
    },
    {
     "data": {
      "application/vnd.jupyter.widget-view+json": {
       "model_id": "7da0d0a95b124798a8dcc47f2ad1838e",
       "version_major": 2,
       "version_minor": 0
      },
      "text/plain": [
       "Output()"
      ]
     },
     "metadata": {},
     "output_type": "display_data"
    },
    {
     "data": {
      "text/html": [
       "<pre style=\"white-space:pre;overflow-x:auto;line-height:normal;font-family:Menlo,'DejaVu Sans Mono',consolas,'Courier New',monospace\"></pre>\n"
      ],
      "text/plain": []
     },
     "metadata": {},
     "output_type": "display_data"
    },
    {
     "data": {
      "text/html": [
       "<pre style=\"white-space:pre;overflow-x:auto;line-height:normal;font-family:Menlo,'DejaVu Sans Mono',consolas,'Courier New',monospace\">\n",
       "</pre>\n"
      ],
      "text/plain": [
       "\n"
      ]
     },
     "metadata": {},
     "output_type": "display_data"
    },
    {
     "data": {
      "application/vnd.jupyter.widget-view+json": {
       "model_id": "e55b937238a140fb871b53b99d1ed614",
       "version_major": 2,
       "version_minor": 0
      },
      "text/plain": [
       "Output()"
      ]
     },
     "metadata": {},
     "output_type": "display_data"
    },
    {
     "data": {
      "text/html": [
       "<pre style=\"white-space:pre;overflow-x:auto;line-height:normal;font-family:Menlo,'DejaVu Sans Mono',consolas,'Courier New',monospace\"></pre>\n"
      ],
      "text/plain": []
     },
     "metadata": {},
     "output_type": "display_data"
    },
    {
     "data": {
      "text/html": [
       "<pre style=\"white-space:pre;overflow-x:auto;line-height:normal;font-family:Menlo,'DejaVu Sans Mono',consolas,'Courier New',monospace\">\n",
       "</pre>\n"
      ],
      "text/plain": [
       "\n"
      ]
     },
     "metadata": {},
     "output_type": "display_data"
    },
    {
     "data": {
      "application/vnd.jupyter.widget-view+json": {
       "model_id": "57ccb0a8229e463086fda366468d14f9",
       "version_major": 2,
       "version_minor": 0
      },
      "text/plain": [
       "Output()"
      ]
     },
     "metadata": {},
     "output_type": "display_data"
    },
    {
     "data": {
      "text/html": [
       "<pre style=\"white-space:pre;overflow-x:auto;line-height:normal;font-family:Menlo,'DejaVu Sans Mono',consolas,'Courier New',monospace\"></pre>\n"
      ],
      "text/plain": []
     },
     "metadata": {},
     "output_type": "display_data"
    },
    {
     "data": {
      "text/html": [
       "<pre style=\"white-space:pre;overflow-x:auto;line-height:normal;font-family:Menlo,'DejaVu Sans Mono',consolas,'Courier New',monospace\">\n",
       "</pre>\n"
      ],
      "text/plain": [
       "\n"
      ]
     },
     "metadata": {},
     "output_type": "display_data"
    },
    {
     "data": {
      "application/vnd.jupyter.widget-view+json": {
       "model_id": "55dbf792916e482d93a322369043ce5c",
       "version_major": 2,
       "version_minor": 0
      },
      "text/plain": [
       "Output()"
      ]
     },
     "metadata": {},
     "output_type": "display_data"
    },
    {
     "data": {
      "text/html": [
       "<pre style=\"white-space:pre;overflow-x:auto;line-height:normal;font-family:Menlo,'DejaVu Sans Mono',consolas,'Courier New',monospace\"></pre>\n"
      ],
      "text/plain": []
     },
     "metadata": {},
     "output_type": "display_data"
    },
    {
     "data": {
      "text/html": [
       "<pre style=\"white-space:pre;overflow-x:auto;line-height:normal;font-family:Menlo,'DejaVu Sans Mono',consolas,'Courier New',monospace\">\n",
       "</pre>\n"
      ],
      "text/plain": [
       "\n"
      ]
     },
     "metadata": {},
     "output_type": "display_data"
    },
    {
     "data": {
      "application/vnd.jupyter.widget-view+json": {
       "model_id": "d71ab23482fb460385bacb1509beaf68",
       "version_major": 2,
       "version_minor": 0
      },
      "text/plain": [
       "Output()"
      ]
     },
     "metadata": {},
     "output_type": "display_data"
    },
    {
     "data": {
      "text/html": [
       "<pre style=\"white-space:pre;overflow-x:auto;line-height:normal;font-family:Menlo,'DejaVu Sans Mono',consolas,'Courier New',monospace\"></pre>\n"
      ],
      "text/plain": []
     },
     "metadata": {},
     "output_type": "display_data"
    },
    {
     "data": {
      "text/html": [
       "<pre style=\"white-space:pre;overflow-x:auto;line-height:normal;font-family:Menlo,'DejaVu Sans Mono',consolas,'Courier New',monospace\">\n",
       "</pre>\n"
      ],
      "text/plain": [
       "\n"
      ]
     },
     "metadata": {},
     "output_type": "display_data"
    },
    {
     "data": {
      "application/vnd.jupyter.widget-view+json": {
       "model_id": "24aae48bfb77489ab9bd5be46a4b48df",
       "version_major": 2,
       "version_minor": 0
      },
      "text/plain": [
       "Output()"
      ]
     },
     "metadata": {},
     "output_type": "display_data"
    },
    {
     "data": {
      "text/html": [
       "<pre style=\"white-space:pre;overflow-x:auto;line-height:normal;font-family:Menlo,'DejaVu Sans Mono',consolas,'Courier New',monospace\"></pre>\n"
      ],
      "text/plain": []
     },
     "metadata": {},
     "output_type": "display_data"
    },
    {
     "data": {
      "text/html": [
       "<pre style=\"white-space:pre;overflow-x:auto;line-height:normal;font-family:Menlo,'DejaVu Sans Mono',consolas,'Courier New',monospace\">\n",
       "</pre>\n"
      ],
      "text/plain": [
       "\n"
      ]
     },
     "metadata": {},
     "output_type": "display_data"
    },
    {
     "data": {
      "application/vnd.jupyter.widget-view+json": {
       "model_id": "1c8e668c28124af597c401821ff8c35e",
       "version_major": 2,
       "version_minor": 0
      },
      "text/plain": [
       "Output()"
      ]
     },
     "metadata": {},
     "output_type": "display_data"
    },
    {
     "data": {
      "text/html": [
       "<pre style=\"white-space:pre;overflow-x:auto;line-height:normal;font-family:Menlo,'DejaVu Sans Mono',consolas,'Courier New',monospace\"></pre>\n"
      ],
      "text/plain": []
     },
     "metadata": {},
     "output_type": "display_data"
    },
    {
     "data": {
      "text/html": [
       "<pre style=\"white-space:pre;overflow-x:auto;line-height:normal;font-family:Menlo,'DejaVu Sans Mono',consolas,'Courier New',monospace\">\n",
       "</pre>\n"
      ],
      "text/plain": [
       "\n"
      ]
     },
     "metadata": {},
     "output_type": "display_data"
    },
    {
     "data": {
      "application/vnd.jupyter.widget-view+json": {
       "model_id": "8df3f22f63274d2c8b2ff528fdc8d1d8",
       "version_major": 2,
       "version_minor": 0
      },
      "text/plain": [
       "Output()"
      ]
     },
     "metadata": {},
     "output_type": "display_data"
    },
    {
     "data": {
      "text/html": [
       "<pre style=\"white-space:pre;overflow-x:auto;line-height:normal;font-family:Menlo,'DejaVu Sans Mono',consolas,'Courier New',monospace\"></pre>\n"
      ],
      "text/plain": []
     },
     "metadata": {},
     "output_type": "display_data"
    },
    {
     "data": {
      "text/html": [
       "<pre style=\"white-space:pre;overflow-x:auto;line-height:normal;font-family:Menlo,'DejaVu Sans Mono',consolas,'Courier New',monospace\">\n",
       "</pre>\n"
      ],
      "text/plain": [
       "\n"
      ]
     },
     "metadata": {},
     "output_type": "display_data"
    },
    {
     "data": {
      "application/vnd.jupyter.widget-view+json": {
       "model_id": "9461900d371b4845b829a2cc3545c082",
       "version_major": 2,
       "version_minor": 0
      },
      "text/plain": [
       "Output()"
      ]
     },
     "metadata": {},
     "output_type": "display_data"
    },
    {
     "data": {
      "text/html": [
       "<pre style=\"white-space:pre;overflow-x:auto;line-height:normal;font-family:Menlo,'DejaVu Sans Mono',consolas,'Courier New',monospace\"></pre>\n"
      ],
      "text/plain": []
     },
     "metadata": {},
     "output_type": "display_data"
    },
    {
     "data": {
      "text/html": [
       "<pre style=\"white-space:pre;overflow-x:auto;line-height:normal;font-family:Menlo,'DejaVu Sans Mono',consolas,'Courier New',monospace\">\n",
       "</pre>\n"
      ],
      "text/plain": [
       "\n"
      ]
     },
     "metadata": {},
     "output_type": "display_data"
    },
    {
     "data": {
      "application/vnd.jupyter.widget-view+json": {
       "model_id": "bc123934ade1463a8856504a5e46f11b",
       "version_major": 2,
       "version_minor": 0
      },
      "text/plain": [
       "Output()"
      ]
     },
     "metadata": {},
     "output_type": "display_data"
    },
    {
     "data": {
      "text/html": [
       "<pre style=\"white-space:pre;overflow-x:auto;line-height:normal;font-family:Menlo,'DejaVu Sans Mono',consolas,'Courier New',monospace\"></pre>\n"
      ],
      "text/plain": []
     },
     "metadata": {},
     "output_type": "display_data"
    },
    {
     "data": {
      "text/html": [
       "<pre style=\"white-space:pre;overflow-x:auto;line-height:normal;font-family:Menlo,'DejaVu Sans Mono',consolas,'Courier New',monospace\">\n",
       "</pre>\n"
      ],
      "text/plain": [
       "\n"
      ]
     },
     "metadata": {},
     "output_type": "display_data"
    },
    {
     "data": {
      "application/vnd.jupyter.widget-view+json": {
       "model_id": "d7f830e48ce9480eb3c048db6e80e458",
       "version_major": 2,
       "version_minor": 0
      },
      "text/plain": [
       "Output()"
      ]
     },
     "metadata": {},
     "output_type": "display_data"
    },
    {
     "data": {
      "text/html": [
       "<pre style=\"white-space:pre;overflow-x:auto;line-height:normal;font-family:Menlo,'DejaVu Sans Mono',consolas,'Courier New',monospace\"></pre>\n"
      ],
      "text/plain": []
     },
     "metadata": {},
     "output_type": "display_data"
    },
    {
     "data": {
      "text/html": [
       "<pre style=\"white-space:pre;overflow-x:auto;line-height:normal;font-family:Menlo,'DejaVu Sans Mono',consolas,'Courier New',monospace\">\n",
       "</pre>\n"
      ],
      "text/plain": [
       "\n"
      ]
     },
     "metadata": {},
     "output_type": "display_data"
    },
    {
     "data": {
      "application/vnd.jupyter.widget-view+json": {
       "model_id": "7e8ca9992980405381f7ac0b3ef082e9",
       "version_major": 2,
       "version_minor": 0
      },
      "text/plain": [
       "Output()"
      ]
     },
     "metadata": {},
     "output_type": "display_data"
    },
    {
     "data": {
      "text/html": [
       "<pre style=\"white-space:pre;overflow-x:auto;line-height:normal;font-family:Menlo,'DejaVu Sans Mono',consolas,'Courier New',monospace\"></pre>\n"
      ],
      "text/plain": []
     },
     "metadata": {},
     "output_type": "display_data"
    },
    {
     "data": {
      "text/html": [
       "<pre style=\"white-space:pre;overflow-x:auto;line-height:normal;font-family:Menlo,'DejaVu Sans Mono',consolas,'Courier New',monospace\">\n",
       "</pre>\n"
      ],
      "text/plain": [
       "\n"
      ]
     },
     "metadata": {},
     "output_type": "display_data"
    },
    {
     "data": {
      "application/vnd.jupyter.widget-view+json": {
       "model_id": "c7d2c6dea104495b8d0da95c06450aac",
       "version_major": 2,
       "version_minor": 0
      },
      "text/plain": [
       "Output()"
      ]
     },
     "metadata": {},
     "output_type": "display_data"
    },
    {
     "data": {
      "text/html": [
       "<pre style=\"white-space:pre;overflow-x:auto;line-height:normal;font-family:Menlo,'DejaVu Sans Mono',consolas,'Courier New',monospace\"></pre>\n"
      ],
      "text/plain": []
     },
     "metadata": {},
     "output_type": "display_data"
    },
    {
     "data": {
      "text/html": [
       "<pre style=\"white-space:pre;overflow-x:auto;line-height:normal;font-family:Menlo,'DejaVu Sans Mono',consolas,'Courier New',monospace\">\n",
       "</pre>\n"
      ],
      "text/plain": [
       "\n"
      ]
     },
     "metadata": {},
     "output_type": "display_data"
    },
    {
     "data": {
      "application/vnd.jupyter.widget-view+json": {
       "model_id": "a1f3c087eca843439b71ef16c9b18374",
       "version_major": 2,
       "version_minor": 0
      },
      "text/plain": [
       "Output()"
      ]
     },
     "metadata": {},
     "output_type": "display_data"
    },
    {
     "data": {
      "text/html": [
       "<pre style=\"white-space:pre;overflow-x:auto;line-height:normal;font-family:Menlo,'DejaVu Sans Mono',consolas,'Courier New',monospace\"></pre>\n"
      ],
      "text/plain": []
     },
     "metadata": {},
     "output_type": "display_data"
    },
    {
     "data": {
      "text/html": [
       "<pre style=\"white-space:pre;overflow-x:auto;line-height:normal;font-family:Menlo,'DejaVu Sans Mono',consolas,'Courier New',monospace\">\n",
       "</pre>\n"
      ],
      "text/plain": [
       "\n"
      ]
     },
     "metadata": {},
     "output_type": "display_data"
    },
    {
     "data": {
      "application/vnd.jupyter.widget-view+json": {
       "model_id": "572a97a1c7b14195a115498f61bd8424",
       "version_major": 2,
       "version_minor": 0
      },
      "text/plain": [
       "Output()"
      ]
     },
     "metadata": {},
     "output_type": "display_data"
    },
    {
     "data": {
      "text/html": [
       "<pre style=\"white-space:pre;overflow-x:auto;line-height:normal;font-family:Menlo,'DejaVu Sans Mono',consolas,'Courier New',monospace\"></pre>\n"
      ],
      "text/plain": []
     },
     "metadata": {},
     "output_type": "display_data"
    },
    {
     "data": {
      "text/html": [
       "<pre style=\"white-space:pre;overflow-x:auto;line-height:normal;font-family:Menlo,'DejaVu Sans Mono',consolas,'Courier New',monospace\">\n",
       "</pre>\n"
      ],
      "text/plain": [
       "\n"
      ]
     },
     "metadata": {},
     "output_type": "display_data"
    },
    {
     "data": {
      "application/vnd.jupyter.widget-view+json": {
       "model_id": "c391daccb96848a797b7f89afbe96e58",
       "version_major": 2,
       "version_minor": 0
      },
      "text/plain": [
       "Output()"
      ]
     },
     "metadata": {},
     "output_type": "display_data"
    },
    {
     "data": {
      "text/html": [
       "<pre style=\"white-space:pre;overflow-x:auto;line-height:normal;font-family:Menlo,'DejaVu Sans Mono',consolas,'Courier New',monospace\"></pre>\n"
      ],
      "text/plain": []
     },
     "metadata": {},
     "output_type": "display_data"
    },
    {
     "data": {
      "text/html": [
       "<pre style=\"white-space:pre;overflow-x:auto;line-height:normal;font-family:Menlo,'DejaVu Sans Mono',consolas,'Courier New',monospace\">\n",
       "</pre>\n"
      ],
      "text/plain": [
       "\n"
      ]
     },
     "metadata": {},
     "output_type": "display_data"
    },
    {
     "data": {
      "application/vnd.jupyter.widget-view+json": {
       "model_id": "4487f25d49ed4c3698dd8953093ba830",
       "version_major": 2,
       "version_minor": 0
      },
      "text/plain": [
       "Output()"
      ]
     },
     "metadata": {},
     "output_type": "display_data"
    },
    {
     "data": {
      "text/html": [
       "<pre style=\"white-space:pre;overflow-x:auto;line-height:normal;font-family:Menlo,'DejaVu Sans Mono',consolas,'Courier New',monospace\"></pre>\n"
      ],
      "text/plain": []
     },
     "metadata": {},
     "output_type": "display_data"
    },
    {
     "data": {
      "text/html": [
       "<pre style=\"white-space:pre;overflow-x:auto;line-height:normal;font-family:Menlo,'DejaVu Sans Mono',consolas,'Courier New',monospace\">\n",
       "</pre>\n"
      ],
      "text/plain": [
       "\n"
      ]
     },
     "metadata": {},
     "output_type": "display_data"
    },
    {
     "data": {
      "application/vnd.jupyter.widget-view+json": {
       "model_id": "b8061cfc089247eb88450bea8dfeefb4",
       "version_major": 2,
       "version_minor": 0
      },
      "text/plain": [
       "Output()"
      ]
     },
     "metadata": {},
     "output_type": "display_data"
    },
    {
     "data": {
      "text/html": [
       "<pre style=\"white-space:pre;overflow-x:auto;line-height:normal;font-family:Menlo,'DejaVu Sans Mono',consolas,'Courier New',monospace\"></pre>\n"
      ],
      "text/plain": []
     },
     "metadata": {},
     "output_type": "display_data"
    },
    {
     "data": {
      "text/html": [
       "<pre style=\"white-space:pre;overflow-x:auto;line-height:normal;font-family:Menlo,'DejaVu Sans Mono',consolas,'Courier New',monospace\">\n",
       "</pre>\n"
      ],
      "text/plain": [
       "\n"
      ]
     },
     "metadata": {},
     "output_type": "display_data"
    },
    {
     "data": {
      "application/vnd.jupyter.widget-view+json": {
       "model_id": "0252064adcc048d28902c4e3abd2f159",
       "version_major": 2,
       "version_minor": 0
      },
      "text/plain": [
       "Output()"
      ]
     },
     "metadata": {},
     "output_type": "display_data"
    },
    {
     "data": {
      "text/html": [
       "<pre style=\"white-space:pre;overflow-x:auto;line-height:normal;font-family:Menlo,'DejaVu Sans Mono',consolas,'Courier New',monospace\"></pre>\n"
      ],
      "text/plain": []
     },
     "metadata": {},
     "output_type": "display_data"
    },
    {
     "data": {
      "text/html": [
       "<pre style=\"white-space:pre;overflow-x:auto;line-height:normal;font-family:Menlo,'DejaVu Sans Mono',consolas,'Courier New',monospace\">\n",
       "</pre>\n"
      ],
      "text/plain": [
       "\n"
      ]
     },
     "metadata": {},
     "output_type": "display_data"
    },
    {
     "data": {
      "application/vnd.jupyter.widget-view+json": {
       "model_id": "88f586e98c92458e8e8682fa706fab10",
       "version_major": 2,
       "version_minor": 0
      },
      "text/plain": [
       "Output()"
      ]
     },
     "metadata": {},
     "output_type": "display_data"
    },
    {
     "data": {
      "text/html": [
       "<pre style=\"white-space:pre;overflow-x:auto;line-height:normal;font-family:Menlo,'DejaVu Sans Mono',consolas,'Courier New',monospace\"></pre>\n"
      ],
      "text/plain": []
     },
     "metadata": {},
     "output_type": "display_data"
    },
    {
     "data": {
      "text/html": [
       "<pre style=\"white-space:pre;overflow-x:auto;line-height:normal;font-family:Menlo,'DejaVu Sans Mono',consolas,'Courier New',monospace\">\n",
       "</pre>\n"
      ],
      "text/plain": [
       "\n"
      ]
     },
     "metadata": {},
     "output_type": "display_data"
    },
    {
     "data": {
      "application/vnd.jupyter.widget-view+json": {
       "model_id": "31ce057b1b844279b8150a009437395c",
       "version_major": 2,
       "version_minor": 0
      },
      "text/plain": [
       "Output()"
      ]
     },
     "metadata": {},
     "output_type": "display_data"
    },
    {
     "data": {
      "text/html": [
       "<pre style=\"white-space:pre;overflow-x:auto;line-height:normal;font-family:Menlo,'DejaVu Sans Mono',consolas,'Courier New',monospace\"></pre>\n"
      ],
      "text/plain": []
     },
     "metadata": {},
     "output_type": "display_data"
    },
    {
     "data": {
      "text/html": [
       "<pre style=\"white-space:pre;overflow-x:auto;line-height:normal;font-family:Menlo,'DejaVu Sans Mono',consolas,'Courier New',monospace\">\n",
       "</pre>\n"
      ],
      "text/plain": [
       "\n"
      ]
     },
     "metadata": {},
     "output_type": "display_data"
    },
    {
     "data": {
      "application/vnd.jupyter.widget-view+json": {
       "model_id": "8586bf90dee04685af55ddfeceb5328b",
       "version_major": 2,
       "version_minor": 0
      },
      "text/plain": [
       "Output()"
      ]
     },
     "metadata": {},
     "output_type": "display_data"
    },
    {
     "data": {
      "text/html": [
       "<pre style=\"white-space:pre;overflow-x:auto;line-height:normal;font-family:Menlo,'DejaVu Sans Mono',consolas,'Courier New',monospace\"></pre>\n"
      ],
      "text/plain": []
     },
     "metadata": {},
     "output_type": "display_data"
    },
    {
     "data": {
      "text/html": [
       "<pre style=\"white-space:pre;overflow-x:auto;line-height:normal;font-family:Menlo,'DejaVu Sans Mono',consolas,'Courier New',monospace\">\n",
       "</pre>\n"
      ],
      "text/plain": [
       "\n"
      ]
     },
     "metadata": {},
     "output_type": "display_data"
    },
    {
     "data": {
      "application/vnd.jupyter.widget-view+json": {
       "model_id": "6e75f78d28f1417cba7e4310dc01026b",
       "version_major": 2,
       "version_minor": 0
      },
      "text/plain": [
       "Output()"
      ]
     },
     "metadata": {},
     "output_type": "display_data"
    },
    {
     "data": {
      "text/html": [
       "<pre style=\"white-space:pre;overflow-x:auto;line-height:normal;font-family:Menlo,'DejaVu Sans Mono',consolas,'Courier New',monospace\"></pre>\n"
      ],
      "text/plain": []
     },
     "metadata": {},
     "output_type": "display_data"
    },
    {
     "data": {
      "text/html": [
       "<pre style=\"white-space:pre;overflow-x:auto;line-height:normal;font-family:Menlo,'DejaVu Sans Mono',consolas,'Courier New',monospace\">\n",
       "</pre>\n"
      ],
      "text/plain": [
       "\n"
      ]
     },
     "metadata": {},
     "output_type": "display_data"
    },
    {
     "data": {
      "application/vnd.jupyter.widget-view+json": {
       "model_id": "c8daf60a0e6f406f8a9f79795d2647ad",
       "version_major": 2,
       "version_minor": 0
      },
      "text/plain": [
       "Output()"
      ]
     },
     "metadata": {},
     "output_type": "display_data"
    },
    {
     "data": {
      "text/html": [
       "<pre style=\"white-space:pre;overflow-x:auto;line-height:normal;font-family:Menlo,'DejaVu Sans Mono',consolas,'Courier New',monospace\"></pre>\n"
      ],
      "text/plain": []
     },
     "metadata": {},
     "output_type": "display_data"
    },
    {
     "data": {
      "text/html": [
       "<pre style=\"white-space:pre;overflow-x:auto;line-height:normal;font-family:Menlo,'DejaVu Sans Mono',consolas,'Courier New',monospace\">\n",
       "</pre>\n"
      ],
      "text/plain": [
       "\n"
      ]
     },
     "metadata": {},
     "output_type": "display_data"
    },
    {
     "data": {
      "application/vnd.jupyter.widget-view+json": {
       "model_id": "198ba1a57f624e5cacaf8da37a9dc169",
       "version_major": 2,
       "version_minor": 0
      },
      "text/plain": [
       "Output()"
      ]
     },
     "metadata": {},
     "output_type": "display_data"
    },
    {
     "data": {
      "text/html": [
       "<pre style=\"white-space:pre;overflow-x:auto;line-height:normal;font-family:Menlo,'DejaVu Sans Mono',consolas,'Courier New',monospace\"></pre>\n"
      ],
      "text/plain": []
     },
     "metadata": {},
     "output_type": "display_data"
    },
    {
     "data": {
      "text/html": [
       "<pre style=\"white-space:pre;overflow-x:auto;line-height:normal;font-family:Menlo,'DejaVu Sans Mono',consolas,'Courier New',monospace\">\n",
       "</pre>\n"
      ],
      "text/plain": [
       "\n"
      ]
     },
     "metadata": {},
     "output_type": "display_data"
    },
    {
     "data": {
      "application/vnd.jupyter.widget-view+json": {
       "model_id": "baf163605bc24dc29e87e51ac1c06d76",
       "version_major": 2,
       "version_minor": 0
      },
      "text/plain": [
       "Output()"
      ]
     },
     "metadata": {},
     "output_type": "display_data"
    },
    {
     "data": {
      "text/html": [
       "<pre style=\"white-space:pre;overflow-x:auto;line-height:normal;font-family:Menlo,'DejaVu Sans Mono',consolas,'Courier New',monospace\"></pre>\n"
      ],
      "text/plain": []
     },
     "metadata": {},
     "output_type": "display_data"
    },
    {
     "data": {
      "text/html": [
       "<pre style=\"white-space:pre;overflow-x:auto;line-height:normal;font-family:Menlo,'DejaVu Sans Mono',consolas,'Courier New',monospace\">\n",
       "</pre>\n"
      ],
      "text/plain": [
       "\n"
      ]
     },
     "metadata": {},
     "output_type": "display_data"
    },
    {
     "data": {
      "application/vnd.jupyter.widget-view+json": {
       "model_id": "91e616c0c27e4a529426091168605e65",
       "version_major": 2,
       "version_minor": 0
      },
      "text/plain": [
       "Output()"
      ]
     },
     "metadata": {},
     "output_type": "display_data"
    },
    {
     "data": {
      "text/html": [
       "<pre style=\"white-space:pre;overflow-x:auto;line-height:normal;font-family:Menlo,'DejaVu Sans Mono',consolas,'Courier New',monospace\"></pre>\n"
      ],
      "text/plain": []
     },
     "metadata": {},
     "output_type": "display_data"
    },
    {
     "data": {
      "text/html": [
       "<pre style=\"white-space:pre;overflow-x:auto;line-height:normal;font-family:Menlo,'DejaVu Sans Mono',consolas,'Courier New',monospace\">\n",
       "</pre>\n"
      ],
      "text/plain": [
       "\n"
      ]
     },
     "metadata": {},
     "output_type": "display_data"
    },
    {
     "data": {
      "application/vnd.jupyter.widget-view+json": {
       "model_id": "fb739e8870d44d208065f14a55440a30",
       "version_major": 2,
       "version_minor": 0
      },
      "text/plain": [
       "Output()"
      ]
     },
     "metadata": {},
     "output_type": "display_data"
    },
    {
     "data": {
      "text/html": [
       "<pre style=\"white-space:pre;overflow-x:auto;line-height:normal;font-family:Menlo,'DejaVu Sans Mono',consolas,'Courier New',monospace\"></pre>\n"
      ],
      "text/plain": []
     },
     "metadata": {},
     "output_type": "display_data"
    },
    {
     "data": {
      "text/html": [
       "<pre style=\"white-space:pre;overflow-x:auto;line-height:normal;font-family:Menlo,'DejaVu Sans Mono',consolas,'Courier New',monospace\">\n",
       "</pre>\n"
      ],
      "text/plain": [
       "\n"
      ]
     },
     "metadata": {},
     "output_type": "display_data"
    },
    {
     "data": {
      "application/vnd.jupyter.widget-view+json": {
       "model_id": "cb59cbca061a4af0bbdcd0dca6c5e525",
       "version_major": 2,
       "version_minor": 0
      },
      "text/plain": [
       "Output()"
      ]
     },
     "metadata": {},
     "output_type": "display_data"
    },
    {
     "data": {
      "text/html": [
       "<pre style=\"white-space:pre;overflow-x:auto;line-height:normal;font-family:Menlo,'DejaVu Sans Mono',consolas,'Courier New',monospace\"></pre>\n"
      ],
      "text/plain": []
     },
     "metadata": {},
     "output_type": "display_data"
    },
    {
     "data": {
      "text/html": [
       "<pre style=\"white-space:pre;overflow-x:auto;line-height:normal;font-family:Menlo,'DejaVu Sans Mono',consolas,'Courier New',monospace\">\n",
       "</pre>\n"
      ],
      "text/plain": [
       "\n"
      ]
     },
     "metadata": {},
     "output_type": "display_data"
    },
    {
     "data": {
      "application/vnd.jupyter.widget-view+json": {
       "model_id": "d13134105f9b4f58b19114c7c842405e",
       "version_major": 2,
       "version_minor": 0
      },
      "text/plain": [
       "Output()"
      ]
     },
     "metadata": {},
     "output_type": "display_data"
    },
    {
     "data": {
      "text/html": [
       "<pre style=\"white-space:pre;overflow-x:auto;line-height:normal;font-family:Menlo,'DejaVu Sans Mono',consolas,'Courier New',monospace\"></pre>\n"
      ],
      "text/plain": []
     },
     "metadata": {},
     "output_type": "display_data"
    },
    {
     "data": {
      "text/html": [
       "<pre style=\"white-space:pre;overflow-x:auto;line-height:normal;font-family:Menlo,'DejaVu Sans Mono',consolas,'Courier New',monospace\">\n",
       "</pre>\n"
      ],
      "text/plain": [
       "\n"
      ]
     },
     "metadata": {},
     "output_type": "display_data"
    },
    {
     "data": {
      "application/vnd.jupyter.widget-view+json": {
       "model_id": "64dae83fa245461db4665abb341845d6",
       "version_major": 2,
       "version_minor": 0
      },
      "text/plain": [
       "Output()"
      ]
     },
     "metadata": {},
     "output_type": "display_data"
    },
    {
     "data": {
      "text/html": [
       "<pre style=\"white-space:pre;overflow-x:auto;line-height:normal;font-family:Menlo,'DejaVu Sans Mono',consolas,'Courier New',monospace\"></pre>\n"
      ],
      "text/plain": []
     },
     "metadata": {},
     "output_type": "display_data"
    },
    {
     "data": {
      "text/html": [
       "<pre style=\"white-space:pre;overflow-x:auto;line-height:normal;font-family:Menlo,'DejaVu Sans Mono',consolas,'Courier New',monospace\">\n",
       "</pre>\n"
      ],
      "text/plain": [
       "\n"
      ]
     },
     "metadata": {},
     "output_type": "display_data"
    },
    {
     "data": {
      "application/vnd.jupyter.widget-view+json": {
       "model_id": "73915498a4054fdeae6315b9afb2ccbf",
       "version_major": 2,
       "version_minor": 0
      },
      "text/plain": [
       "Output()"
      ]
     },
     "metadata": {},
     "output_type": "display_data"
    },
    {
     "data": {
      "text/html": [
       "<pre style=\"white-space:pre;overflow-x:auto;line-height:normal;font-family:Menlo,'DejaVu Sans Mono',consolas,'Courier New',monospace\"></pre>\n"
      ],
      "text/plain": []
     },
     "metadata": {},
     "output_type": "display_data"
    },
    {
     "data": {
      "text/html": [
       "<pre style=\"white-space:pre;overflow-x:auto;line-height:normal;font-family:Menlo,'DejaVu Sans Mono',consolas,'Courier New',monospace\">\n",
       "</pre>\n"
      ],
      "text/plain": [
       "\n"
      ]
     },
     "metadata": {},
     "output_type": "display_data"
    },
    {
     "name": "stderr",
     "output_type": "stream",
     "text": [
      "\r",
      "  0%|                                        | 3/1405 [00:54<8:19:55, 21.39s/it]"
     ]
    },
    {
     "data": {
      "application/vnd.jupyter.widget-view+json": {
       "model_id": "5e9f6417984b4d52a516fea2731e32eb",
       "version_major": 2,
       "version_minor": 0
      },
      "text/plain": [
       "Output()"
      ]
     },
     "metadata": {},
     "output_type": "display_data"
    },
    {
     "data": {
      "text/html": [
       "<pre style=\"white-space:pre;overflow-x:auto;line-height:normal;font-family:Menlo,'DejaVu Sans Mono',consolas,'Courier New',monospace\"></pre>\n"
      ],
      "text/plain": []
     },
     "metadata": {},
     "output_type": "display_data"
    },
    {
     "data": {
      "text/html": [
       "<pre style=\"white-space:pre;overflow-x:auto;line-height:normal;font-family:Menlo,'DejaVu Sans Mono',consolas,'Courier New',monospace\">\n",
       "</pre>\n"
      ],
      "text/plain": [
       "\n"
      ]
     },
     "metadata": {},
     "output_type": "display_data"
    },
    {
     "data": {
      "application/vnd.jupyter.widget-view+json": {
       "model_id": "47745bb3005f4c4794f373f439e31a67",
       "version_major": 2,
       "version_minor": 0
      },
      "text/plain": [
       "Output()"
      ]
     },
     "metadata": {},
     "output_type": "display_data"
    },
    {
     "data": {
      "text/html": [
       "<pre style=\"white-space:pre;overflow-x:auto;line-height:normal;font-family:Menlo,'DejaVu Sans Mono',consolas,'Courier New',monospace\"></pre>\n"
      ],
      "text/plain": []
     },
     "metadata": {},
     "output_type": "display_data"
    },
    {
     "data": {
      "text/html": [
       "<pre style=\"white-space:pre;overflow-x:auto;line-height:normal;font-family:Menlo,'DejaVu Sans Mono',consolas,'Courier New',monospace\">\n",
       "</pre>\n"
      ],
      "text/plain": [
       "\n"
      ]
     },
     "metadata": {},
     "output_type": "display_data"
    },
    {
     "data": {
      "application/vnd.jupyter.widget-view+json": {
       "model_id": "4957f80bee3147eead3242bac5fbc82f",
       "version_major": 2,
       "version_minor": 0
      },
      "text/plain": [
       "Output()"
      ]
     },
     "metadata": {},
     "output_type": "display_data"
    },
    {
     "data": {
      "text/html": [
       "<pre style=\"white-space:pre;overflow-x:auto;line-height:normal;font-family:Menlo,'DejaVu Sans Mono',consolas,'Courier New',monospace\"></pre>\n"
      ],
      "text/plain": []
     },
     "metadata": {},
     "output_type": "display_data"
    },
    {
     "data": {
      "text/html": [
       "<pre style=\"white-space:pre;overflow-x:auto;line-height:normal;font-family:Menlo,'DejaVu Sans Mono',consolas,'Courier New',monospace\">\n",
       "</pre>\n"
      ],
      "text/plain": [
       "\n"
      ]
     },
     "metadata": {},
     "output_type": "display_data"
    },
    {
     "data": {
      "application/vnd.jupyter.widget-view+json": {
       "model_id": "05ed66a8259f4fc5a415370af56b9607",
       "version_major": 2,
       "version_minor": 0
      },
      "text/plain": [
       "Output()"
      ]
     },
     "metadata": {},
     "output_type": "display_data"
    },
    {
     "data": {
      "text/html": [
       "<pre style=\"white-space:pre;overflow-x:auto;line-height:normal;font-family:Menlo,'DejaVu Sans Mono',consolas,'Courier New',monospace\"></pre>\n"
      ],
      "text/plain": []
     },
     "metadata": {},
     "output_type": "display_data"
    },
    {
     "data": {
      "text/html": [
       "<pre style=\"white-space:pre;overflow-x:auto;line-height:normal;font-family:Menlo,'DejaVu Sans Mono',consolas,'Courier New',monospace\">\n",
       "</pre>\n"
      ],
      "text/plain": [
       "\n"
      ]
     },
     "metadata": {},
     "output_type": "display_data"
    },
    {
     "data": {
      "application/vnd.jupyter.widget-view+json": {
       "model_id": "7435d757e73b40c7aa84cd770201a0ee",
       "version_major": 2,
       "version_minor": 0
      },
      "text/plain": [
       "Output()"
      ]
     },
     "metadata": {},
     "output_type": "display_data"
    },
    {
     "data": {
      "text/html": [
       "<pre style=\"white-space:pre;overflow-x:auto;line-height:normal;font-family:Menlo,'DejaVu Sans Mono',consolas,'Courier New',monospace\"></pre>\n"
      ],
      "text/plain": []
     },
     "metadata": {},
     "output_type": "display_data"
    },
    {
     "data": {
      "text/html": [
       "<pre style=\"white-space:pre;overflow-x:auto;line-height:normal;font-family:Menlo,'DejaVu Sans Mono',consolas,'Courier New',monospace\">\n",
       "</pre>\n"
      ],
      "text/plain": [
       "\n"
      ]
     },
     "metadata": {},
     "output_type": "display_data"
    },
    {
     "data": {
      "application/vnd.jupyter.widget-view+json": {
       "model_id": "22734cef4b5e4c5a90a73c811cf35cac",
       "version_major": 2,
       "version_minor": 0
      },
      "text/plain": [
       "Output()"
      ]
     },
     "metadata": {},
     "output_type": "display_data"
    },
    {
     "data": {
      "text/html": [
       "<pre style=\"white-space:pre;overflow-x:auto;line-height:normal;font-family:Menlo,'DejaVu Sans Mono',consolas,'Courier New',monospace\"></pre>\n"
      ],
      "text/plain": []
     },
     "metadata": {},
     "output_type": "display_data"
    },
    {
     "data": {
      "text/html": [
       "<pre style=\"white-space:pre;overflow-x:auto;line-height:normal;font-family:Menlo,'DejaVu Sans Mono',consolas,'Courier New',monospace\">\n",
       "</pre>\n"
      ],
      "text/plain": [
       "\n"
      ]
     },
     "metadata": {},
     "output_type": "display_data"
    },
    {
     "data": {
      "application/vnd.jupyter.widget-view+json": {
       "model_id": "ca36cf02541c40fcafb80cf93d85a5f1",
       "version_major": 2,
       "version_minor": 0
      },
      "text/plain": [
       "Output()"
      ]
     },
     "metadata": {},
     "output_type": "display_data"
    },
    {
     "data": {
      "text/html": [
       "<pre style=\"white-space:pre;overflow-x:auto;line-height:normal;font-family:Menlo,'DejaVu Sans Mono',consolas,'Courier New',monospace\"></pre>\n"
      ],
      "text/plain": []
     },
     "metadata": {},
     "output_type": "display_data"
    },
    {
     "data": {
      "text/html": [
       "<pre style=\"white-space:pre;overflow-x:auto;line-height:normal;font-family:Menlo,'DejaVu Sans Mono',consolas,'Courier New',monospace\">\n",
       "</pre>\n"
      ],
      "text/plain": [
       "\n"
      ]
     },
     "metadata": {},
     "output_type": "display_data"
    },
    {
     "data": {
      "application/vnd.jupyter.widget-view+json": {
       "model_id": "e220c845547e4acb8e05de8044703331",
       "version_major": 2,
       "version_minor": 0
      },
      "text/plain": [
       "Output()"
      ]
     },
     "metadata": {},
     "output_type": "display_data"
    },
    {
     "data": {
      "text/html": [
       "<pre style=\"white-space:pre;overflow-x:auto;line-height:normal;font-family:Menlo,'DejaVu Sans Mono',consolas,'Courier New',monospace\"></pre>\n"
      ],
      "text/plain": []
     },
     "metadata": {},
     "output_type": "display_data"
    },
    {
     "data": {
      "text/html": [
       "<pre style=\"white-space:pre;overflow-x:auto;line-height:normal;font-family:Menlo,'DejaVu Sans Mono',consolas,'Courier New',monospace\">\n",
       "</pre>\n"
      ],
      "text/plain": [
       "\n"
      ]
     },
     "metadata": {},
     "output_type": "display_data"
    },
    {
     "data": {
      "application/vnd.jupyter.widget-view+json": {
       "model_id": "079488fffe594966826aabc5077be172",
       "version_major": 2,
       "version_minor": 0
      },
      "text/plain": [
       "Output()"
      ]
     },
     "metadata": {},
     "output_type": "display_data"
    },
    {
     "data": {
      "text/html": [
       "<pre style=\"white-space:pre;overflow-x:auto;line-height:normal;font-family:Menlo,'DejaVu Sans Mono',consolas,'Courier New',monospace\"></pre>\n"
      ],
      "text/plain": []
     },
     "metadata": {},
     "output_type": "display_data"
    },
    {
     "data": {
      "text/html": [
       "<pre style=\"white-space:pre;overflow-x:auto;line-height:normal;font-family:Menlo,'DejaVu Sans Mono',consolas,'Courier New',monospace\">\n",
       "</pre>\n"
      ],
      "text/plain": [
       "\n"
      ]
     },
     "metadata": {},
     "output_type": "display_data"
    },
    {
     "data": {
      "application/vnd.jupyter.widget-view+json": {
       "model_id": "56b56438920249ab8d1ceff032f293ec",
       "version_major": 2,
       "version_minor": 0
      },
      "text/plain": [
       "Output()"
      ]
     },
     "metadata": {},
     "output_type": "display_data"
    },
    {
     "data": {
      "text/html": [
       "<pre style=\"white-space:pre;overflow-x:auto;line-height:normal;font-family:Menlo,'DejaVu Sans Mono',consolas,'Courier New',monospace\"></pre>\n"
      ],
      "text/plain": []
     },
     "metadata": {},
     "output_type": "display_data"
    },
    {
     "data": {
      "text/html": [
       "<pre style=\"white-space:pre;overflow-x:auto;line-height:normal;font-family:Menlo,'DejaVu Sans Mono',consolas,'Courier New',monospace\">\n",
       "</pre>\n"
      ],
      "text/plain": [
       "\n"
      ]
     },
     "metadata": {},
     "output_type": "display_data"
    },
    {
     "data": {
      "application/vnd.jupyter.widget-view+json": {
       "model_id": "e3716b9abae0405b9732987dd9bf5c78",
       "version_major": 2,
       "version_minor": 0
      },
      "text/plain": [
       "Output()"
      ]
     },
     "metadata": {},
     "output_type": "display_data"
    },
    {
     "data": {
      "text/html": [
       "<pre style=\"white-space:pre;overflow-x:auto;line-height:normal;font-family:Menlo,'DejaVu Sans Mono',consolas,'Courier New',monospace\"></pre>\n"
      ],
      "text/plain": []
     },
     "metadata": {},
     "output_type": "display_data"
    },
    {
     "data": {
      "text/html": [
       "<pre style=\"white-space:pre;overflow-x:auto;line-height:normal;font-family:Menlo,'DejaVu Sans Mono',consolas,'Courier New',monospace\">\n",
       "</pre>\n"
      ],
      "text/plain": [
       "\n"
      ]
     },
     "metadata": {},
     "output_type": "display_data"
    },
    {
     "data": {
      "application/vnd.jupyter.widget-view+json": {
       "model_id": "dc226e74eacc49e2a967a4c5bb296c06",
       "version_major": 2,
       "version_minor": 0
      },
      "text/plain": [
       "Output()"
      ]
     },
     "metadata": {},
     "output_type": "display_data"
    },
    {
     "data": {
      "text/html": [
       "<pre style=\"white-space:pre;overflow-x:auto;line-height:normal;font-family:Menlo,'DejaVu Sans Mono',consolas,'Courier New',monospace\"></pre>\n"
      ],
      "text/plain": []
     },
     "metadata": {},
     "output_type": "display_data"
    },
    {
     "data": {
      "text/html": [
       "<pre style=\"white-space:pre;overflow-x:auto;line-height:normal;font-family:Menlo,'DejaVu Sans Mono',consolas,'Courier New',monospace\">\n",
       "</pre>\n"
      ],
      "text/plain": [
       "\n"
      ]
     },
     "metadata": {},
     "output_type": "display_data"
    },
    {
     "data": {
      "application/vnd.jupyter.widget-view+json": {
       "model_id": "a89bc466431e4ea4be898f8a7a95e0f0",
       "version_major": 2,
       "version_minor": 0
      },
      "text/plain": [
       "Output()"
      ]
     },
     "metadata": {},
     "output_type": "display_data"
    },
    {
     "data": {
      "text/html": [
       "<pre style=\"white-space:pre;overflow-x:auto;line-height:normal;font-family:Menlo,'DejaVu Sans Mono',consolas,'Courier New',monospace\"></pre>\n"
      ],
      "text/plain": []
     },
     "metadata": {},
     "output_type": "display_data"
    },
    {
     "data": {
      "text/html": [
       "<pre style=\"white-space:pre;overflow-x:auto;line-height:normal;font-family:Menlo,'DejaVu Sans Mono',consolas,'Courier New',monospace\">\n",
       "</pre>\n"
      ],
      "text/plain": [
       "\n"
      ]
     },
     "metadata": {},
     "output_type": "display_data"
    },
    {
     "data": {
      "application/vnd.jupyter.widget-view+json": {
       "model_id": "576500f39d22426ea28fd3c78244ce78",
       "version_major": 2,
       "version_minor": 0
      },
      "text/plain": [
       "Output()"
      ]
     },
     "metadata": {},
     "output_type": "display_data"
    },
    {
     "data": {
      "text/html": [
       "<pre style=\"white-space:pre;overflow-x:auto;line-height:normal;font-family:Menlo,'DejaVu Sans Mono',consolas,'Courier New',monospace\"></pre>\n"
      ],
      "text/plain": []
     },
     "metadata": {},
     "output_type": "display_data"
    },
    {
     "data": {
      "text/html": [
       "<pre style=\"white-space:pre;overflow-x:auto;line-height:normal;font-family:Menlo,'DejaVu Sans Mono',consolas,'Courier New',monospace\">\n",
       "</pre>\n"
      ],
      "text/plain": [
       "\n"
      ]
     },
     "metadata": {},
     "output_type": "display_data"
    },
    {
     "data": {
      "application/vnd.jupyter.widget-view+json": {
       "model_id": "ecc40ac8b1aa4ba1aac2abfd0e1dabd8",
       "version_major": 2,
       "version_minor": 0
      },
      "text/plain": [
       "Output()"
      ]
     },
     "metadata": {},
     "output_type": "display_data"
    },
    {
     "data": {
      "text/html": [
       "<pre style=\"white-space:pre;overflow-x:auto;line-height:normal;font-family:Menlo,'DejaVu Sans Mono',consolas,'Courier New',monospace\"></pre>\n"
      ],
      "text/plain": []
     },
     "metadata": {},
     "output_type": "display_data"
    },
    {
     "data": {
      "text/html": [
       "<pre style=\"white-space:pre;overflow-x:auto;line-height:normal;font-family:Menlo,'DejaVu Sans Mono',consolas,'Courier New',monospace\">\n",
       "</pre>\n"
      ],
      "text/plain": [
       "\n"
      ]
     },
     "metadata": {},
     "output_type": "display_data"
    },
    {
     "data": {
      "application/vnd.jupyter.widget-view+json": {
       "model_id": "02dac21f20c2477da1cfd19701694ddb",
       "version_major": 2,
       "version_minor": 0
      },
      "text/plain": [
       "Output()"
      ]
     },
     "metadata": {},
     "output_type": "display_data"
    },
    {
     "data": {
      "text/html": [
       "<pre style=\"white-space:pre;overflow-x:auto;line-height:normal;font-family:Menlo,'DejaVu Sans Mono',consolas,'Courier New',monospace\"></pre>\n"
      ],
      "text/plain": []
     },
     "metadata": {},
     "output_type": "display_data"
    },
    {
     "data": {
      "text/html": [
       "<pre style=\"white-space:pre;overflow-x:auto;line-height:normal;font-family:Menlo,'DejaVu Sans Mono',consolas,'Courier New',monospace\">\n",
       "</pre>\n"
      ],
      "text/plain": [
       "\n"
      ]
     },
     "metadata": {},
     "output_type": "display_data"
    },
    {
     "data": {
      "application/vnd.jupyter.widget-view+json": {
       "model_id": "f8f129d9163a4c1ab69a79420edbfd73",
       "version_major": 2,
       "version_minor": 0
      },
      "text/plain": [
       "Output()"
      ]
     },
     "metadata": {},
     "output_type": "display_data"
    },
    {
     "data": {
      "text/html": [
       "<pre style=\"white-space:pre;overflow-x:auto;line-height:normal;font-family:Menlo,'DejaVu Sans Mono',consolas,'Courier New',monospace\"></pre>\n"
      ],
      "text/plain": []
     },
     "metadata": {},
     "output_type": "display_data"
    },
    {
     "data": {
      "text/html": [
       "<pre style=\"white-space:pre;overflow-x:auto;line-height:normal;font-family:Menlo,'DejaVu Sans Mono',consolas,'Courier New',monospace\">\n",
       "</pre>\n"
      ],
      "text/plain": [
       "\n"
      ]
     },
     "metadata": {},
     "output_type": "display_data"
    },
    {
     "data": {
      "application/vnd.jupyter.widget-view+json": {
       "model_id": "49e3ae083c7b42a48f191c925b2ecc50",
       "version_major": 2,
       "version_minor": 0
      },
      "text/plain": [
       "Output()"
      ]
     },
     "metadata": {},
     "output_type": "display_data"
    },
    {
     "data": {
      "text/html": [
       "<pre style=\"white-space:pre;overflow-x:auto;line-height:normal;font-family:Menlo,'DejaVu Sans Mono',consolas,'Courier New',monospace\"></pre>\n"
      ],
      "text/plain": []
     },
     "metadata": {},
     "output_type": "display_data"
    },
    {
     "data": {
      "text/html": [
       "<pre style=\"white-space:pre;overflow-x:auto;line-height:normal;font-family:Menlo,'DejaVu Sans Mono',consolas,'Courier New',monospace\">\n",
       "</pre>\n"
      ],
      "text/plain": [
       "\n"
      ]
     },
     "metadata": {},
     "output_type": "display_data"
    },
    {
     "data": {
      "application/vnd.jupyter.widget-view+json": {
       "model_id": "a6a0358fd41f40f3ab2884d53c96bed8",
       "version_major": 2,
       "version_minor": 0
      },
      "text/plain": [
       "Output()"
      ]
     },
     "metadata": {},
     "output_type": "display_data"
    },
    {
     "data": {
      "text/html": [
       "<pre style=\"white-space:pre;overflow-x:auto;line-height:normal;font-family:Menlo,'DejaVu Sans Mono',consolas,'Courier New',monospace\"></pre>\n"
      ],
      "text/plain": []
     },
     "metadata": {},
     "output_type": "display_data"
    },
    {
     "data": {
      "text/html": [
       "<pre style=\"white-space:pre;overflow-x:auto;line-height:normal;font-family:Menlo,'DejaVu Sans Mono',consolas,'Courier New',monospace\">\n",
       "</pre>\n"
      ],
      "text/plain": [
       "\n"
      ]
     },
     "metadata": {},
     "output_type": "display_data"
    },
    {
     "data": {
      "application/vnd.jupyter.widget-view+json": {
       "model_id": "94fa33b98a69403ebec90751f8d36f23",
       "version_major": 2,
       "version_minor": 0
      },
      "text/plain": [
       "Output()"
      ]
     },
     "metadata": {},
     "output_type": "display_data"
    },
    {
     "data": {
      "text/html": [
       "<pre style=\"white-space:pre;overflow-x:auto;line-height:normal;font-family:Menlo,'DejaVu Sans Mono',consolas,'Courier New',monospace\"></pre>\n"
      ],
      "text/plain": []
     },
     "metadata": {},
     "output_type": "display_data"
    },
    {
     "data": {
      "text/html": [
       "<pre style=\"white-space:pre;overflow-x:auto;line-height:normal;font-family:Menlo,'DejaVu Sans Mono',consolas,'Courier New',monospace\">\n",
       "</pre>\n"
      ],
      "text/plain": [
       "\n"
      ]
     },
     "metadata": {},
     "output_type": "display_data"
    },
    {
     "data": {
      "application/vnd.jupyter.widget-view+json": {
       "model_id": "3d2214d63db04ab8b1b2a6e8f41bbd7d",
       "version_major": 2,
       "version_minor": 0
      },
      "text/plain": [
       "Output()"
      ]
     },
     "metadata": {},
     "output_type": "display_data"
    },
    {
     "data": {
      "text/html": [
       "<pre style=\"white-space:pre;overflow-x:auto;line-height:normal;font-family:Menlo,'DejaVu Sans Mono',consolas,'Courier New',monospace\"></pre>\n"
      ],
      "text/plain": []
     },
     "metadata": {},
     "output_type": "display_data"
    },
    {
     "data": {
      "text/html": [
       "<pre style=\"white-space:pre;overflow-x:auto;line-height:normal;font-family:Menlo,'DejaVu Sans Mono',consolas,'Courier New',monospace\">\n",
       "</pre>\n"
      ],
      "text/plain": [
       "\n"
      ]
     },
     "metadata": {},
     "output_type": "display_data"
    },
    {
     "data": {
      "application/vnd.jupyter.widget-view+json": {
       "model_id": "ec6bc43c65914ae080e60272f220ee0b",
       "version_major": 2,
       "version_minor": 0
      },
      "text/plain": [
       "Output()"
      ]
     },
     "metadata": {},
     "output_type": "display_data"
    },
    {
     "data": {
      "text/html": [
       "<pre style=\"white-space:pre;overflow-x:auto;line-height:normal;font-family:Menlo,'DejaVu Sans Mono',consolas,'Courier New',monospace\"></pre>\n"
      ],
      "text/plain": []
     },
     "metadata": {},
     "output_type": "display_data"
    },
    {
     "data": {
      "text/html": [
       "<pre style=\"white-space:pre;overflow-x:auto;line-height:normal;font-family:Menlo,'DejaVu Sans Mono',consolas,'Courier New',monospace\">\n",
       "</pre>\n"
      ],
      "text/plain": [
       "\n"
      ]
     },
     "metadata": {},
     "output_type": "display_data"
    },
    {
     "data": {
      "application/vnd.jupyter.widget-view+json": {
       "model_id": "f0f58466dea84d12b73ea3e3ea48fb79",
       "version_major": 2,
       "version_minor": 0
      },
      "text/plain": [
       "Output()"
      ]
     },
     "metadata": {},
     "output_type": "display_data"
    },
    {
     "data": {
      "text/html": [
       "<pre style=\"white-space:pre;overflow-x:auto;line-height:normal;font-family:Menlo,'DejaVu Sans Mono',consolas,'Courier New',monospace\"></pre>\n"
      ],
      "text/plain": []
     },
     "metadata": {},
     "output_type": "display_data"
    },
    {
     "data": {
      "text/html": [
       "<pre style=\"white-space:pre;overflow-x:auto;line-height:normal;font-family:Menlo,'DejaVu Sans Mono',consolas,'Courier New',monospace\">\n",
       "</pre>\n"
      ],
      "text/plain": [
       "\n"
      ]
     },
     "metadata": {},
     "output_type": "display_data"
    },
    {
     "data": {
      "application/vnd.jupyter.widget-view+json": {
       "model_id": "1b697e9021144c52ba2a0a049cd6534d",
       "version_major": 2,
       "version_minor": 0
      },
      "text/plain": [
       "Output()"
      ]
     },
     "metadata": {},
     "output_type": "display_data"
    },
    {
     "data": {
      "text/html": [
       "<pre style=\"white-space:pre;overflow-x:auto;line-height:normal;font-family:Menlo,'DejaVu Sans Mono',consolas,'Courier New',monospace\"></pre>\n"
      ],
      "text/plain": []
     },
     "metadata": {},
     "output_type": "display_data"
    },
    {
     "data": {
      "text/html": [
       "<pre style=\"white-space:pre;overflow-x:auto;line-height:normal;font-family:Menlo,'DejaVu Sans Mono',consolas,'Courier New',monospace\">\n",
       "</pre>\n"
      ],
      "text/plain": [
       "\n"
      ]
     },
     "metadata": {},
     "output_type": "display_data"
    },
    {
     "data": {
      "application/vnd.jupyter.widget-view+json": {
       "model_id": "a3142712897a4976b23f22f1e1005b99",
       "version_major": 2,
       "version_minor": 0
      },
      "text/plain": [
       "Output()"
      ]
     },
     "metadata": {},
     "output_type": "display_data"
    },
    {
     "data": {
      "text/html": [
       "<pre style=\"white-space:pre;overflow-x:auto;line-height:normal;font-family:Menlo,'DejaVu Sans Mono',consolas,'Courier New',monospace\"></pre>\n"
      ],
      "text/plain": []
     },
     "metadata": {},
     "output_type": "display_data"
    },
    {
     "data": {
      "text/html": [
       "<pre style=\"white-space:pre;overflow-x:auto;line-height:normal;font-family:Menlo,'DejaVu Sans Mono',consolas,'Courier New',monospace\">\n",
       "</pre>\n"
      ],
      "text/plain": [
       "\n"
      ]
     },
     "metadata": {},
     "output_type": "display_data"
    },
    {
     "data": {
      "application/vnd.jupyter.widget-view+json": {
       "model_id": "35477dd318b34f438b57711f59e7b402",
       "version_major": 2,
       "version_minor": 0
      },
      "text/plain": [
       "Output()"
      ]
     },
     "metadata": {},
     "output_type": "display_data"
    },
    {
     "data": {
      "text/html": [
       "<pre style=\"white-space:pre;overflow-x:auto;line-height:normal;font-family:Menlo,'DejaVu Sans Mono',consolas,'Courier New',monospace\"></pre>\n"
      ],
      "text/plain": []
     },
     "metadata": {},
     "output_type": "display_data"
    },
    {
     "data": {
      "text/html": [
       "<pre style=\"white-space:pre;overflow-x:auto;line-height:normal;font-family:Menlo,'DejaVu Sans Mono',consolas,'Courier New',monospace\">\n",
       "</pre>\n"
      ],
      "text/plain": [
       "\n"
      ]
     },
     "metadata": {},
     "output_type": "display_data"
    },
    {
     "data": {
      "application/vnd.jupyter.widget-view+json": {
       "model_id": "00d64e2f8dce4389a893d0fb46939bee",
       "version_major": 2,
       "version_minor": 0
      },
      "text/plain": [
       "Output()"
      ]
     },
     "metadata": {},
     "output_type": "display_data"
    },
    {
     "data": {
      "text/html": [
       "<pre style=\"white-space:pre;overflow-x:auto;line-height:normal;font-family:Menlo,'DejaVu Sans Mono',consolas,'Courier New',monospace\"></pre>\n"
      ],
      "text/plain": []
     },
     "metadata": {},
     "output_type": "display_data"
    },
    {
     "data": {
      "text/html": [
       "<pre style=\"white-space:pre;overflow-x:auto;line-height:normal;font-family:Menlo,'DejaVu Sans Mono',consolas,'Courier New',monospace\">\n",
       "</pre>\n"
      ],
      "text/plain": [
       "\n"
      ]
     },
     "metadata": {},
     "output_type": "display_data"
    },
    {
     "data": {
      "application/vnd.jupyter.widget-view+json": {
       "model_id": "a328f137a97a4d71a833376a9186432a",
       "version_major": 2,
       "version_minor": 0
      },
      "text/plain": [
       "Output()"
      ]
     },
     "metadata": {},
     "output_type": "display_data"
    },
    {
     "data": {
      "text/html": [
       "<pre style=\"white-space:pre;overflow-x:auto;line-height:normal;font-family:Menlo,'DejaVu Sans Mono',consolas,'Courier New',monospace\"></pre>\n"
      ],
      "text/plain": []
     },
     "metadata": {},
     "output_type": "display_data"
    },
    {
     "data": {
      "text/html": [
       "<pre style=\"white-space:pre;overflow-x:auto;line-height:normal;font-family:Menlo,'DejaVu Sans Mono',consolas,'Courier New',monospace\">\n",
       "</pre>\n"
      ],
      "text/plain": [
       "\n"
      ]
     },
     "metadata": {},
     "output_type": "display_data"
    },
    {
     "data": {
      "application/vnd.jupyter.widget-view+json": {
       "model_id": "c4a4c06ea9d44a73ab68fae6a270bc85",
       "version_major": 2,
       "version_minor": 0
      },
      "text/plain": [
       "Output()"
      ]
     },
     "metadata": {},
     "output_type": "display_data"
    },
    {
     "data": {
      "text/html": [
       "<pre style=\"white-space:pre;overflow-x:auto;line-height:normal;font-family:Menlo,'DejaVu Sans Mono',consolas,'Courier New',monospace\"></pre>\n"
      ],
      "text/plain": []
     },
     "metadata": {},
     "output_type": "display_data"
    },
    {
     "data": {
      "text/html": [
       "<pre style=\"white-space:pre;overflow-x:auto;line-height:normal;font-family:Menlo,'DejaVu Sans Mono',consolas,'Courier New',monospace\">\n",
       "</pre>\n"
      ],
      "text/plain": [
       "\n"
      ]
     },
     "metadata": {},
     "output_type": "display_data"
    },
    {
     "data": {
      "application/vnd.jupyter.widget-view+json": {
       "model_id": "f2c03c0f726b43ef908fb6c1da9ba430",
       "version_major": 2,
       "version_minor": 0
      },
      "text/plain": [
       "Output()"
      ]
     },
     "metadata": {},
     "output_type": "display_data"
    },
    {
     "data": {
      "text/html": [
       "<pre style=\"white-space:pre;overflow-x:auto;line-height:normal;font-family:Menlo,'DejaVu Sans Mono',consolas,'Courier New',monospace\"></pre>\n"
      ],
      "text/plain": []
     },
     "metadata": {},
     "output_type": "display_data"
    },
    {
     "data": {
      "text/html": [
       "<pre style=\"white-space:pre;overflow-x:auto;line-height:normal;font-family:Menlo,'DejaVu Sans Mono',consolas,'Courier New',monospace\">\n",
       "</pre>\n"
      ],
      "text/plain": [
       "\n"
      ]
     },
     "metadata": {},
     "output_type": "display_data"
    },
    {
     "data": {
      "application/vnd.jupyter.widget-view+json": {
       "model_id": "41758a82ed57480d99849e059eb1df2f",
       "version_major": 2,
       "version_minor": 0
      },
      "text/plain": [
       "Output()"
      ]
     },
     "metadata": {},
     "output_type": "display_data"
    },
    {
     "data": {
      "text/html": [
       "<pre style=\"white-space:pre;overflow-x:auto;line-height:normal;font-family:Menlo,'DejaVu Sans Mono',consolas,'Courier New',monospace\"></pre>\n"
      ],
      "text/plain": []
     },
     "metadata": {},
     "output_type": "display_data"
    },
    {
     "data": {
      "text/html": [
       "<pre style=\"white-space:pre;overflow-x:auto;line-height:normal;font-family:Menlo,'DejaVu Sans Mono',consolas,'Courier New',monospace\">\n",
       "</pre>\n"
      ],
      "text/plain": [
       "\n"
      ]
     },
     "metadata": {},
     "output_type": "display_data"
    },
    {
     "data": {
      "application/vnd.jupyter.widget-view+json": {
       "model_id": "6284bc3707ee4ac4a493c03920709ade",
       "version_major": 2,
       "version_minor": 0
      },
      "text/plain": [
       "Output()"
      ]
     },
     "metadata": {},
     "output_type": "display_data"
    },
    {
     "data": {
      "text/html": [
       "<pre style=\"white-space:pre;overflow-x:auto;line-height:normal;font-family:Menlo,'DejaVu Sans Mono',consolas,'Courier New',monospace\"></pre>\n"
      ],
      "text/plain": []
     },
     "metadata": {},
     "output_type": "display_data"
    },
    {
     "data": {
      "text/html": [
       "<pre style=\"white-space:pre;overflow-x:auto;line-height:normal;font-family:Menlo,'DejaVu Sans Mono',consolas,'Courier New',monospace\">\n",
       "</pre>\n"
      ],
      "text/plain": [
       "\n"
      ]
     },
     "metadata": {},
     "output_type": "display_data"
    },
    {
     "data": {
      "application/vnd.jupyter.widget-view+json": {
       "model_id": "34ed6ef29a15481b97cede2a98024234",
       "version_major": 2,
       "version_minor": 0
      },
      "text/plain": [
       "Output()"
      ]
     },
     "metadata": {},
     "output_type": "display_data"
    },
    {
     "data": {
      "text/html": [
       "<pre style=\"white-space:pre;overflow-x:auto;line-height:normal;font-family:Menlo,'DejaVu Sans Mono',consolas,'Courier New',monospace\"></pre>\n"
      ],
      "text/plain": []
     },
     "metadata": {},
     "output_type": "display_data"
    },
    {
     "data": {
      "text/html": [
       "<pre style=\"white-space:pre;overflow-x:auto;line-height:normal;font-family:Menlo,'DejaVu Sans Mono',consolas,'Courier New',monospace\">\n",
       "</pre>\n"
      ],
      "text/plain": [
       "\n"
      ]
     },
     "metadata": {},
     "output_type": "display_data"
    },
    {
     "data": {
      "application/vnd.jupyter.widget-view+json": {
       "model_id": "e899b3320b4b4598b75fc64763a16373",
       "version_major": 2,
       "version_minor": 0
      },
      "text/plain": [
       "Output()"
      ]
     },
     "metadata": {},
     "output_type": "display_data"
    },
    {
     "data": {
      "text/html": [
       "<pre style=\"white-space:pre;overflow-x:auto;line-height:normal;font-family:Menlo,'DejaVu Sans Mono',consolas,'Courier New',monospace\"></pre>\n"
      ],
      "text/plain": []
     },
     "metadata": {},
     "output_type": "display_data"
    },
    {
     "data": {
      "text/html": [
       "<pre style=\"white-space:pre;overflow-x:auto;line-height:normal;font-family:Menlo,'DejaVu Sans Mono',consolas,'Courier New',monospace\">\n",
       "</pre>\n"
      ],
      "text/plain": [
       "\n"
      ]
     },
     "metadata": {},
     "output_type": "display_data"
    },
    {
     "data": {
      "application/vnd.jupyter.widget-view+json": {
       "model_id": "5b6699a145bb4f858792914689f887eb",
       "version_major": 2,
       "version_minor": 0
      },
      "text/plain": [
       "Output()"
      ]
     },
     "metadata": {},
     "output_type": "display_data"
    },
    {
     "data": {
      "text/html": [
       "<pre style=\"white-space:pre;overflow-x:auto;line-height:normal;font-family:Menlo,'DejaVu Sans Mono',consolas,'Courier New',monospace\"></pre>\n"
      ],
      "text/plain": []
     },
     "metadata": {},
     "output_type": "display_data"
    },
    {
     "data": {
      "text/html": [
       "<pre style=\"white-space:pre;overflow-x:auto;line-height:normal;font-family:Menlo,'DejaVu Sans Mono',consolas,'Courier New',monospace\">\n",
       "</pre>\n"
      ],
      "text/plain": [
       "\n"
      ]
     },
     "metadata": {},
     "output_type": "display_data"
    },
    {
     "data": {
      "application/vnd.jupyter.widget-view+json": {
       "model_id": "e776e6af09b84dd8a9339e6e6fee21c6",
       "version_major": 2,
       "version_minor": 0
      },
      "text/plain": [
       "Output()"
      ]
     },
     "metadata": {},
     "output_type": "display_data"
    },
    {
     "data": {
      "text/html": [
       "<pre style=\"white-space:pre;overflow-x:auto;line-height:normal;font-family:Menlo,'DejaVu Sans Mono',consolas,'Courier New',monospace\"></pre>\n"
      ],
      "text/plain": []
     },
     "metadata": {},
     "output_type": "display_data"
    },
    {
     "data": {
      "text/html": [
       "<pre style=\"white-space:pre;overflow-x:auto;line-height:normal;font-family:Menlo,'DejaVu Sans Mono',consolas,'Courier New',monospace\">\n",
       "</pre>\n"
      ],
      "text/plain": [
       "\n"
      ]
     },
     "metadata": {},
     "output_type": "display_data"
    },
    {
     "data": {
      "application/vnd.jupyter.widget-view+json": {
       "model_id": "31bd3ee8cfb446a6a5fdef832c47f237",
       "version_major": 2,
       "version_minor": 0
      },
      "text/plain": [
       "Output()"
      ]
     },
     "metadata": {},
     "output_type": "display_data"
    },
    {
     "data": {
      "text/html": [
       "<pre style=\"white-space:pre;overflow-x:auto;line-height:normal;font-family:Menlo,'DejaVu Sans Mono',consolas,'Courier New',monospace\"></pre>\n"
      ],
      "text/plain": []
     },
     "metadata": {},
     "output_type": "display_data"
    },
    {
     "data": {
      "text/html": [
       "<pre style=\"white-space:pre;overflow-x:auto;line-height:normal;font-family:Menlo,'DejaVu Sans Mono',consolas,'Courier New',monospace\">\n",
       "</pre>\n"
      ],
      "text/plain": [
       "\n"
      ]
     },
     "metadata": {},
     "output_type": "display_data"
    },
    {
     "data": {
      "application/vnd.jupyter.widget-view+json": {
       "model_id": "cc77fd180cd947679919006b94c467f4",
       "version_major": 2,
       "version_minor": 0
      },
      "text/plain": [
       "Output()"
      ]
     },
     "metadata": {},
     "output_type": "display_data"
    },
    {
     "data": {
      "text/html": [
       "<pre style=\"white-space:pre;overflow-x:auto;line-height:normal;font-family:Menlo,'DejaVu Sans Mono',consolas,'Courier New',monospace\"></pre>\n"
      ],
      "text/plain": []
     },
     "metadata": {},
     "output_type": "display_data"
    },
    {
     "data": {
      "text/html": [
       "<pre style=\"white-space:pre;overflow-x:auto;line-height:normal;font-family:Menlo,'DejaVu Sans Mono',consolas,'Courier New',monospace\">\n",
       "</pre>\n"
      ],
      "text/plain": [
       "\n"
      ]
     },
     "metadata": {},
     "output_type": "display_data"
    },
    {
     "data": {
      "application/vnd.jupyter.widget-view+json": {
       "model_id": "f66665cf971b4021aeed53a678952028",
       "version_major": 2,
       "version_minor": 0
      },
      "text/plain": [
       "Output()"
      ]
     },
     "metadata": {},
     "output_type": "display_data"
    },
    {
     "data": {
      "text/html": [
       "<pre style=\"white-space:pre;overflow-x:auto;line-height:normal;font-family:Menlo,'DejaVu Sans Mono',consolas,'Courier New',monospace\"></pre>\n"
      ],
      "text/plain": []
     },
     "metadata": {},
     "output_type": "display_data"
    },
    {
     "data": {
      "text/html": [
       "<pre style=\"white-space:pre;overflow-x:auto;line-height:normal;font-family:Menlo,'DejaVu Sans Mono',consolas,'Courier New',monospace\">\n",
       "</pre>\n"
      ],
      "text/plain": [
       "\n"
      ]
     },
     "metadata": {},
     "output_type": "display_data"
    },
    {
     "data": {
      "application/vnd.jupyter.widget-view+json": {
       "model_id": "f68f08799b824e6bafcc77aefa4a230b",
       "version_major": 2,
       "version_minor": 0
      },
      "text/plain": [
       "Output()"
      ]
     },
     "metadata": {},
     "output_type": "display_data"
    },
    {
     "data": {
      "text/html": [
       "<pre style=\"white-space:pre;overflow-x:auto;line-height:normal;font-family:Menlo,'DejaVu Sans Mono',consolas,'Courier New',monospace\"></pre>\n"
      ],
      "text/plain": []
     },
     "metadata": {},
     "output_type": "display_data"
    },
    {
     "data": {
      "text/html": [
       "<pre style=\"white-space:pre;overflow-x:auto;line-height:normal;font-family:Menlo,'DejaVu Sans Mono',consolas,'Courier New',monospace\">\n",
       "</pre>\n"
      ],
      "text/plain": [
       "\n"
      ]
     },
     "metadata": {},
     "output_type": "display_data"
    },
    {
     "data": {
      "application/vnd.jupyter.widget-view+json": {
       "model_id": "2609ec56cb7d4d2799409074d2981e26",
       "version_major": 2,
       "version_minor": 0
      },
      "text/plain": [
       "Output()"
      ]
     },
     "metadata": {},
     "output_type": "display_data"
    },
    {
     "data": {
      "text/html": [
       "<pre style=\"white-space:pre;overflow-x:auto;line-height:normal;font-family:Menlo,'DejaVu Sans Mono',consolas,'Courier New',monospace\"></pre>\n"
      ],
      "text/plain": []
     },
     "metadata": {},
     "output_type": "display_data"
    },
    {
     "data": {
      "text/html": [
       "<pre style=\"white-space:pre;overflow-x:auto;line-height:normal;font-family:Menlo,'DejaVu Sans Mono',consolas,'Courier New',monospace\">\n",
       "</pre>\n"
      ],
      "text/plain": [
       "\n"
      ]
     },
     "metadata": {},
     "output_type": "display_data"
    },
    {
     "data": {
      "application/vnd.jupyter.widget-view+json": {
       "model_id": "be3f3ec0a19945629f933189e928138f",
       "version_major": 2,
       "version_minor": 0
      },
      "text/plain": [
       "Output()"
      ]
     },
     "metadata": {},
     "output_type": "display_data"
    },
    {
     "data": {
      "text/html": [
       "<pre style=\"white-space:pre;overflow-x:auto;line-height:normal;font-family:Menlo,'DejaVu Sans Mono',consolas,'Courier New',monospace\"></pre>\n"
      ],
      "text/plain": []
     },
     "metadata": {},
     "output_type": "display_data"
    },
    {
     "data": {
      "text/html": [
       "<pre style=\"white-space:pre;overflow-x:auto;line-height:normal;font-family:Menlo,'DejaVu Sans Mono',consolas,'Courier New',monospace\">\n",
       "</pre>\n"
      ],
      "text/plain": [
       "\n"
      ]
     },
     "metadata": {},
     "output_type": "display_data"
    },
    {
     "data": {
      "application/vnd.jupyter.widget-view+json": {
       "model_id": "c3f3a9a959e64283a6787b052451f174",
       "version_major": 2,
       "version_minor": 0
      },
      "text/plain": [
       "Output()"
      ]
     },
     "metadata": {},
     "output_type": "display_data"
    },
    {
     "data": {
      "text/html": [
       "<pre style=\"white-space:pre;overflow-x:auto;line-height:normal;font-family:Menlo,'DejaVu Sans Mono',consolas,'Courier New',monospace\"></pre>\n"
      ],
      "text/plain": []
     },
     "metadata": {},
     "output_type": "display_data"
    },
    {
     "data": {
      "text/html": [
       "<pre style=\"white-space:pre;overflow-x:auto;line-height:normal;font-family:Menlo,'DejaVu Sans Mono',consolas,'Courier New',monospace\">\n",
       "</pre>\n"
      ],
      "text/plain": [
       "\n"
      ]
     },
     "metadata": {},
     "output_type": "display_data"
    },
    {
     "data": {
      "application/vnd.jupyter.widget-view+json": {
       "model_id": "da7f84d1785a4570866501ac1f31497e",
       "version_major": 2,
       "version_minor": 0
      },
      "text/plain": [
       "Output()"
      ]
     },
     "metadata": {},
     "output_type": "display_data"
    },
    {
     "data": {
      "text/html": [
       "<pre style=\"white-space:pre;overflow-x:auto;line-height:normal;font-family:Menlo,'DejaVu Sans Mono',consolas,'Courier New',monospace\"></pre>\n"
      ],
      "text/plain": []
     },
     "metadata": {},
     "output_type": "display_data"
    },
    {
     "data": {
      "text/html": [
       "<pre style=\"white-space:pre;overflow-x:auto;line-height:normal;font-family:Menlo,'DejaVu Sans Mono',consolas,'Courier New',monospace\">\n",
       "</pre>\n"
      ],
      "text/plain": [
       "\n"
      ]
     },
     "metadata": {},
     "output_type": "display_data"
    },
    {
     "data": {
      "application/vnd.jupyter.widget-view+json": {
       "model_id": "f98b1336f1d647069135e2dd7e88d543",
       "version_major": 2,
       "version_minor": 0
      },
      "text/plain": [
       "Output()"
      ]
     },
     "metadata": {},
     "output_type": "display_data"
    },
    {
     "data": {
      "text/html": [
       "<pre style=\"white-space:pre;overflow-x:auto;line-height:normal;font-family:Menlo,'DejaVu Sans Mono',consolas,'Courier New',monospace\"></pre>\n"
      ],
      "text/plain": []
     },
     "metadata": {},
     "output_type": "display_data"
    },
    {
     "data": {
      "text/html": [
       "<pre style=\"white-space:pre;overflow-x:auto;line-height:normal;font-family:Menlo,'DejaVu Sans Mono',consolas,'Courier New',monospace\">\n",
       "</pre>\n"
      ],
      "text/plain": [
       "\n"
      ]
     },
     "metadata": {},
     "output_type": "display_data"
    },
    {
     "data": {
      "application/vnd.jupyter.widget-view+json": {
       "model_id": "a080d0386b8748fbbec7280d02381e94",
       "version_major": 2,
       "version_minor": 0
      },
      "text/plain": [
       "Output()"
      ]
     },
     "metadata": {},
     "output_type": "display_data"
    },
    {
     "data": {
      "text/html": [
       "<pre style=\"white-space:pre;overflow-x:auto;line-height:normal;font-family:Menlo,'DejaVu Sans Mono',consolas,'Courier New',monospace\"></pre>\n"
      ],
      "text/plain": []
     },
     "metadata": {},
     "output_type": "display_data"
    },
    {
     "data": {
      "text/html": [
       "<pre style=\"white-space:pre;overflow-x:auto;line-height:normal;font-family:Menlo,'DejaVu Sans Mono',consolas,'Courier New',monospace\">\n",
       "</pre>\n"
      ],
      "text/plain": [
       "\n"
      ]
     },
     "metadata": {},
     "output_type": "display_data"
    },
    {
     "data": {
      "application/vnd.jupyter.widget-view+json": {
       "model_id": "73ebfaba14ce4db7a920a1c31eba03f4",
       "version_major": 2,
       "version_minor": 0
      },
      "text/plain": [
       "Output()"
      ]
     },
     "metadata": {},
     "output_type": "display_data"
    },
    {
     "data": {
      "text/html": [
       "<pre style=\"white-space:pre;overflow-x:auto;line-height:normal;font-family:Menlo,'DejaVu Sans Mono',consolas,'Courier New',monospace\"></pre>\n"
      ],
      "text/plain": []
     },
     "metadata": {},
     "output_type": "display_data"
    },
    {
     "data": {
      "text/html": [
       "<pre style=\"white-space:pre;overflow-x:auto;line-height:normal;font-family:Menlo,'DejaVu Sans Mono',consolas,'Courier New',monospace\">\n",
       "</pre>\n"
      ],
      "text/plain": [
       "\n"
      ]
     },
     "metadata": {},
     "output_type": "display_data"
    },
    {
     "data": {
      "application/vnd.jupyter.widget-view+json": {
       "model_id": "a25d887a38dc4cdd9de5f81623a685ab",
       "version_major": 2,
       "version_minor": 0
      },
      "text/plain": [
       "Output()"
      ]
     },
     "metadata": {},
     "output_type": "display_data"
    },
    {
     "data": {
      "text/html": [
       "<pre style=\"white-space:pre;overflow-x:auto;line-height:normal;font-family:Menlo,'DejaVu Sans Mono',consolas,'Courier New',monospace\"></pre>\n"
      ],
      "text/plain": []
     },
     "metadata": {},
     "output_type": "display_data"
    },
    {
     "data": {
      "text/html": [
       "<pre style=\"white-space:pre;overflow-x:auto;line-height:normal;font-family:Menlo,'DejaVu Sans Mono',consolas,'Courier New',monospace\">\n",
       "</pre>\n"
      ],
      "text/plain": [
       "\n"
      ]
     },
     "metadata": {},
     "output_type": "display_data"
    },
    {
     "data": {
      "application/vnd.jupyter.widget-view+json": {
       "model_id": "9fd3eabc53bc49218fb5c4c1230511ce",
       "version_major": 2,
       "version_minor": 0
      },
      "text/plain": [
       "Output()"
      ]
     },
     "metadata": {},
     "output_type": "display_data"
    },
    {
     "data": {
      "text/html": [
       "<pre style=\"white-space:pre;overflow-x:auto;line-height:normal;font-family:Menlo,'DejaVu Sans Mono',consolas,'Courier New',monospace\"></pre>\n"
      ],
      "text/plain": []
     },
     "metadata": {},
     "output_type": "display_data"
    },
    {
     "data": {
      "text/html": [
       "<pre style=\"white-space:pre;overflow-x:auto;line-height:normal;font-family:Menlo,'DejaVu Sans Mono',consolas,'Courier New',monospace\">\n",
       "</pre>\n"
      ],
      "text/plain": [
       "\n"
      ]
     },
     "metadata": {},
     "output_type": "display_data"
    },
    {
     "data": {
      "application/vnd.jupyter.widget-view+json": {
       "model_id": "a7869bd080484f41b98608b728bf0473",
       "version_major": 2,
       "version_minor": 0
      },
      "text/plain": [
       "Output()"
      ]
     },
     "metadata": {},
     "output_type": "display_data"
    },
    {
     "data": {
      "text/html": [
       "<pre style=\"white-space:pre;overflow-x:auto;line-height:normal;font-family:Menlo,'DejaVu Sans Mono',consolas,'Courier New',monospace\"></pre>\n"
      ],
      "text/plain": []
     },
     "metadata": {},
     "output_type": "display_data"
    },
    {
     "data": {
      "text/html": [
       "<pre style=\"white-space:pre;overflow-x:auto;line-height:normal;font-family:Menlo,'DejaVu Sans Mono',consolas,'Courier New',monospace\">\n",
       "</pre>\n"
      ],
      "text/plain": [
       "\n"
      ]
     },
     "metadata": {},
     "output_type": "display_data"
    },
    {
     "data": {
      "application/vnd.jupyter.widget-view+json": {
       "model_id": "857149f6594b4c80b39cbaedc5543b15",
       "version_major": 2,
       "version_minor": 0
      },
      "text/plain": [
       "Output()"
      ]
     },
     "metadata": {},
     "output_type": "display_data"
    },
    {
     "data": {
      "text/html": [
       "<pre style=\"white-space:pre;overflow-x:auto;line-height:normal;font-family:Menlo,'DejaVu Sans Mono',consolas,'Courier New',monospace\"></pre>\n"
      ],
      "text/plain": []
     },
     "metadata": {},
     "output_type": "display_data"
    },
    {
     "data": {
      "text/html": [
       "<pre style=\"white-space:pre;overflow-x:auto;line-height:normal;font-family:Menlo,'DejaVu Sans Mono',consolas,'Courier New',monospace\">\n",
       "</pre>\n"
      ],
      "text/plain": [
       "\n"
      ]
     },
     "metadata": {},
     "output_type": "display_data"
    },
    {
     "data": {
      "application/vnd.jupyter.widget-view+json": {
       "model_id": "5941e32d2217471183fb70f4eb636941",
       "version_major": 2,
       "version_minor": 0
      },
      "text/plain": [
       "Output()"
      ]
     },
     "metadata": {},
     "output_type": "display_data"
    },
    {
     "data": {
      "text/html": [
       "<pre style=\"white-space:pre;overflow-x:auto;line-height:normal;font-family:Menlo,'DejaVu Sans Mono',consolas,'Courier New',monospace\"></pre>\n"
      ],
      "text/plain": []
     },
     "metadata": {},
     "output_type": "display_data"
    },
    {
     "data": {
      "text/html": [
       "<pre style=\"white-space:pre;overflow-x:auto;line-height:normal;font-family:Menlo,'DejaVu Sans Mono',consolas,'Courier New',monospace\">\n",
       "</pre>\n"
      ],
      "text/plain": [
       "\n"
      ]
     },
     "metadata": {},
     "output_type": "display_data"
    },
    {
     "data": {
      "application/vnd.jupyter.widget-view+json": {
       "model_id": "520b23e9bffa4e879f32812fe7b3377e",
       "version_major": 2,
       "version_minor": 0
      },
      "text/plain": [
       "Output()"
      ]
     },
     "metadata": {},
     "output_type": "display_data"
    },
    {
     "data": {
      "text/html": [
       "<pre style=\"white-space:pre;overflow-x:auto;line-height:normal;font-family:Menlo,'DejaVu Sans Mono',consolas,'Courier New',monospace\"></pre>\n"
      ],
      "text/plain": []
     },
     "metadata": {},
     "output_type": "display_data"
    },
    {
     "data": {
      "text/html": [
       "<pre style=\"white-space:pre;overflow-x:auto;line-height:normal;font-family:Menlo,'DejaVu Sans Mono',consolas,'Courier New',monospace\">\n",
       "</pre>\n"
      ],
      "text/plain": [
       "\n"
      ]
     },
     "metadata": {},
     "output_type": "display_data"
    },
    {
     "data": {
      "application/vnd.jupyter.widget-view+json": {
       "model_id": "9885b5a1ed1b4bc38d2a2fc7da0e8902",
       "version_major": 2,
       "version_minor": 0
      },
      "text/plain": [
       "Output()"
      ]
     },
     "metadata": {},
     "output_type": "display_data"
    },
    {
     "data": {
      "text/html": [
       "<pre style=\"white-space:pre;overflow-x:auto;line-height:normal;font-family:Menlo,'DejaVu Sans Mono',consolas,'Courier New',monospace\"></pre>\n"
      ],
      "text/plain": []
     },
     "metadata": {},
     "output_type": "display_data"
    },
    {
     "data": {
      "text/html": [
       "<pre style=\"white-space:pre;overflow-x:auto;line-height:normal;font-family:Menlo,'DejaVu Sans Mono',consolas,'Courier New',monospace\">\n",
       "</pre>\n"
      ],
      "text/plain": [
       "\n"
      ]
     },
     "metadata": {},
     "output_type": "display_data"
    },
    {
     "data": {
      "application/vnd.jupyter.widget-view+json": {
       "model_id": "6f607ffef46e47ddb9d01f9a79b35ec5",
       "version_major": 2,
       "version_minor": 0
      },
      "text/plain": [
       "Output()"
      ]
     },
     "metadata": {},
     "output_type": "display_data"
    },
    {
     "data": {
      "text/html": [
       "<pre style=\"white-space:pre;overflow-x:auto;line-height:normal;font-family:Menlo,'DejaVu Sans Mono',consolas,'Courier New',monospace\"></pre>\n"
      ],
      "text/plain": []
     },
     "metadata": {},
     "output_type": "display_data"
    },
    {
     "data": {
      "text/html": [
       "<pre style=\"white-space:pre;overflow-x:auto;line-height:normal;font-family:Menlo,'DejaVu Sans Mono',consolas,'Courier New',monospace\">\n",
       "</pre>\n"
      ],
      "text/plain": [
       "\n"
      ]
     },
     "metadata": {},
     "output_type": "display_data"
    },
    {
     "data": {
      "application/vnd.jupyter.widget-view+json": {
       "model_id": "309d571d88ee4c5f821464507eaf9831",
       "version_major": 2,
       "version_minor": 0
      },
      "text/plain": [
       "Output()"
      ]
     },
     "metadata": {},
     "output_type": "display_data"
    },
    {
     "data": {
      "text/html": [
       "<pre style=\"white-space:pre;overflow-x:auto;line-height:normal;font-family:Menlo,'DejaVu Sans Mono',consolas,'Courier New',monospace\"></pre>\n"
      ],
      "text/plain": []
     },
     "metadata": {},
     "output_type": "display_data"
    },
    {
     "data": {
      "text/html": [
       "<pre style=\"white-space:pre;overflow-x:auto;line-height:normal;font-family:Menlo,'DejaVu Sans Mono',consolas,'Courier New',monospace\">\n",
       "</pre>\n"
      ],
      "text/plain": [
       "\n"
      ]
     },
     "metadata": {},
     "output_type": "display_data"
    },
    {
     "data": {
      "application/vnd.jupyter.widget-view+json": {
       "model_id": "fd539cac82454346a29d4cdabefe739b",
       "version_major": 2,
       "version_minor": 0
      },
      "text/plain": [
       "Output()"
      ]
     },
     "metadata": {},
     "output_type": "display_data"
    },
    {
     "data": {
      "text/html": [
       "<pre style=\"white-space:pre;overflow-x:auto;line-height:normal;font-family:Menlo,'DejaVu Sans Mono',consolas,'Courier New',monospace\"></pre>\n"
      ],
      "text/plain": []
     },
     "metadata": {},
     "output_type": "display_data"
    },
    {
     "data": {
      "text/html": [
       "<pre style=\"white-space:pre;overflow-x:auto;line-height:normal;font-family:Menlo,'DejaVu Sans Mono',consolas,'Courier New',monospace\">\n",
       "</pre>\n"
      ],
      "text/plain": [
       "\n"
      ]
     },
     "metadata": {},
     "output_type": "display_data"
    },
    {
     "data": {
      "application/vnd.jupyter.widget-view+json": {
       "model_id": "fdacc98d07d246c09791377c18d056b0",
       "version_major": 2,
       "version_minor": 0
      },
      "text/plain": [
       "Output()"
      ]
     },
     "metadata": {},
     "output_type": "display_data"
    },
    {
     "data": {
      "text/html": [
       "<pre style=\"white-space:pre;overflow-x:auto;line-height:normal;font-family:Menlo,'DejaVu Sans Mono',consolas,'Courier New',monospace\"></pre>\n"
      ],
      "text/plain": []
     },
     "metadata": {},
     "output_type": "display_data"
    },
    {
     "data": {
      "text/html": [
       "<pre style=\"white-space:pre;overflow-x:auto;line-height:normal;font-family:Menlo,'DejaVu Sans Mono',consolas,'Courier New',monospace\">\n",
       "</pre>\n"
      ],
      "text/plain": [
       "\n"
      ]
     },
     "metadata": {},
     "output_type": "display_data"
    },
    {
     "data": {
      "application/vnd.jupyter.widget-view+json": {
       "model_id": "e7dce560eeb64751b4c3a6d690d7b01f",
       "version_major": 2,
       "version_minor": 0
      },
      "text/plain": [
       "Output()"
      ]
     },
     "metadata": {},
     "output_type": "display_data"
    },
    {
     "data": {
      "text/html": [
       "<pre style=\"white-space:pre;overflow-x:auto;line-height:normal;font-family:Menlo,'DejaVu Sans Mono',consolas,'Courier New',monospace\"></pre>\n"
      ],
      "text/plain": []
     },
     "metadata": {},
     "output_type": "display_data"
    },
    {
     "data": {
      "text/html": [
       "<pre style=\"white-space:pre;overflow-x:auto;line-height:normal;font-family:Menlo,'DejaVu Sans Mono',consolas,'Courier New',monospace\">\n",
       "</pre>\n"
      ],
      "text/plain": [
       "\n"
      ]
     },
     "metadata": {},
     "output_type": "display_data"
    },
    {
     "data": {
      "application/vnd.jupyter.widget-view+json": {
       "model_id": "ce601c7a85924f0994472bdb8abc5fc7",
       "version_major": 2,
       "version_minor": 0
      },
      "text/plain": [
       "Output()"
      ]
     },
     "metadata": {},
     "output_type": "display_data"
    },
    {
     "data": {
      "text/html": [
       "<pre style=\"white-space:pre;overflow-x:auto;line-height:normal;font-family:Menlo,'DejaVu Sans Mono',consolas,'Courier New',monospace\"></pre>\n"
      ],
      "text/plain": []
     },
     "metadata": {},
     "output_type": "display_data"
    },
    {
     "data": {
      "text/html": [
       "<pre style=\"white-space:pre;overflow-x:auto;line-height:normal;font-family:Menlo,'DejaVu Sans Mono',consolas,'Courier New',monospace\">\n",
       "</pre>\n"
      ],
      "text/plain": [
       "\n"
      ]
     },
     "metadata": {},
     "output_type": "display_data"
    },
    {
     "data": {
      "application/vnd.jupyter.widget-view+json": {
       "model_id": "dfcd81a8afb54ede8d432e02535c5864",
       "version_major": 2,
       "version_minor": 0
      },
      "text/plain": [
       "Output()"
      ]
     },
     "metadata": {},
     "output_type": "display_data"
    },
    {
     "data": {
      "text/html": [
       "<pre style=\"white-space:pre;overflow-x:auto;line-height:normal;font-family:Menlo,'DejaVu Sans Mono',consolas,'Courier New',monospace\"></pre>\n"
      ],
      "text/plain": []
     },
     "metadata": {},
     "output_type": "display_data"
    },
    {
     "data": {
      "text/html": [
       "<pre style=\"white-space:pre;overflow-x:auto;line-height:normal;font-family:Menlo,'DejaVu Sans Mono',consolas,'Courier New',monospace\">\n",
       "</pre>\n"
      ],
      "text/plain": [
       "\n"
      ]
     },
     "metadata": {},
     "output_type": "display_data"
    },
    {
     "data": {
      "application/vnd.jupyter.widget-view+json": {
       "model_id": "c6461584a8cf41b1bd86b6e8697a6994",
       "version_major": 2,
       "version_minor": 0
      },
      "text/plain": [
       "Output()"
      ]
     },
     "metadata": {},
     "output_type": "display_data"
    },
    {
     "data": {
      "text/html": [
       "<pre style=\"white-space:pre;overflow-x:auto;line-height:normal;font-family:Menlo,'DejaVu Sans Mono',consolas,'Courier New',monospace\"></pre>\n"
      ],
      "text/plain": []
     },
     "metadata": {},
     "output_type": "display_data"
    },
    {
     "data": {
      "text/html": [
       "<pre style=\"white-space:pre;overflow-x:auto;line-height:normal;font-family:Menlo,'DejaVu Sans Mono',consolas,'Courier New',monospace\">\n",
       "</pre>\n"
      ],
      "text/plain": [
       "\n"
      ]
     },
     "metadata": {},
     "output_type": "display_data"
    },
    {
     "data": {
      "application/vnd.jupyter.widget-view+json": {
       "model_id": "4e3e41ec577444958ed2f8d95a40cab0",
       "version_major": 2,
       "version_minor": 0
      },
      "text/plain": [
       "Output()"
      ]
     },
     "metadata": {},
     "output_type": "display_data"
    },
    {
     "data": {
      "text/html": [
       "<pre style=\"white-space:pre;overflow-x:auto;line-height:normal;font-family:Menlo,'DejaVu Sans Mono',consolas,'Courier New',monospace\"></pre>\n"
      ],
      "text/plain": []
     },
     "metadata": {},
     "output_type": "display_data"
    },
    {
     "data": {
      "text/html": [
       "<pre style=\"white-space:pre;overflow-x:auto;line-height:normal;font-family:Menlo,'DejaVu Sans Mono',consolas,'Courier New',monospace\">\n",
       "</pre>\n"
      ],
      "text/plain": [
       "\n"
      ]
     },
     "metadata": {},
     "output_type": "display_data"
    },
    {
     "data": {
      "application/vnd.jupyter.widget-view+json": {
       "model_id": "9a02aeea70004b49981395c12d1076a2",
       "version_major": 2,
       "version_minor": 0
      },
      "text/plain": [
       "Output()"
      ]
     },
     "metadata": {},
     "output_type": "display_data"
    },
    {
     "data": {
      "text/html": [
       "<pre style=\"white-space:pre;overflow-x:auto;line-height:normal;font-family:Menlo,'DejaVu Sans Mono',consolas,'Courier New',monospace\"></pre>\n"
      ],
      "text/plain": []
     },
     "metadata": {},
     "output_type": "display_data"
    },
    {
     "data": {
      "text/html": [
       "<pre style=\"white-space:pre;overflow-x:auto;line-height:normal;font-family:Menlo,'DejaVu Sans Mono',consolas,'Courier New',monospace\">\n",
       "</pre>\n"
      ],
      "text/plain": [
       "\n"
      ]
     },
     "metadata": {},
     "output_type": "display_data"
    },
    {
     "data": {
      "application/vnd.jupyter.widget-view+json": {
       "model_id": "44c8e292146249a3b4b86371a398a0c1",
       "version_major": 2,
       "version_minor": 0
      },
      "text/plain": [
       "Output()"
      ]
     },
     "metadata": {},
     "output_type": "display_data"
    },
    {
     "data": {
      "text/html": [
       "<pre style=\"white-space:pre;overflow-x:auto;line-height:normal;font-family:Menlo,'DejaVu Sans Mono',consolas,'Courier New',monospace\"></pre>\n"
      ],
      "text/plain": []
     },
     "metadata": {},
     "output_type": "display_data"
    },
    {
     "data": {
      "text/html": [
       "<pre style=\"white-space:pre;overflow-x:auto;line-height:normal;font-family:Menlo,'DejaVu Sans Mono',consolas,'Courier New',monospace\">\n",
       "</pre>\n"
      ],
      "text/plain": [
       "\n"
      ]
     },
     "metadata": {},
     "output_type": "display_data"
    },
    {
     "data": {
      "application/vnd.jupyter.widget-view+json": {
       "model_id": "7cebac6327fe4aeea183df9056c02352",
       "version_major": 2,
       "version_minor": 0
      },
      "text/plain": [
       "Output()"
      ]
     },
     "metadata": {},
     "output_type": "display_data"
    },
    {
     "data": {
      "text/html": [
       "<pre style=\"white-space:pre;overflow-x:auto;line-height:normal;font-family:Menlo,'DejaVu Sans Mono',consolas,'Courier New',monospace\"></pre>\n"
      ],
      "text/plain": []
     },
     "metadata": {},
     "output_type": "display_data"
    },
    {
     "data": {
      "text/html": [
       "<pre style=\"white-space:pre;overflow-x:auto;line-height:normal;font-family:Menlo,'DejaVu Sans Mono',consolas,'Courier New',monospace\">\n",
       "</pre>\n"
      ],
      "text/plain": [
       "\n"
      ]
     },
     "metadata": {},
     "output_type": "display_data"
    },
    {
     "data": {
      "application/vnd.jupyter.widget-view+json": {
       "model_id": "1723cd0baa534b958cfa8321fc34bf27",
       "version_major": 2,
       "version_minor": 0
      },
      "text/plain": [
       "Output()"
      ]
     },
     "metadata": {},
     "output_type": "display_data"
    },
    {
     "data": {
      "text/html": [
       "<pre style=\"white-space:pre;overflow-x:auto;line-height:normal;font-family:Menlo,'DejaVu Sans Mono',consolas,'Courier New',monospace\"></pre>\n"
      ],
      "text/plain": []
     },
     "metadata": {},
     "output_type": "display_data"
    },
    {
     "data": {
      "text/html": [
       "<pre style=\"white-space:pre;overflow-x:auto;line-height:normal;font-family:Menlo,'DejaVu Sans Mono',consolas,'Courier New',monospace\">\n",
       "</pre>\n"
      ],
      "text/plain": [
       "\n"
      ]
     },
     "metadata": {},
     "output_type": "display_data"
    },
    {
     "data": {
      "application/vnd.jupyter.widget-view+json": {
       "model_id": "3560eee5a46f4506b8fcb272b2c1f42f",
       "version_major": 2,
       "version_minor": 0
      },
      "text/plain": [
       "Output()"
      ]
     },
     "metadata": {},
     "output_type": "display_data"
    },
    {
     "data": {
      "text/html": [
       "<pre style=\"white-space:pre;overflow-x:auto;line-height:normal;font-family:Menlo,'DejaVu Sans Mono',consolas,'Courier New',monospace\"></pre>\n"
      ],
      "text/plain": []
     },
     "metadata": {},
     "output_type": "display_data"
    },
    {
     "data": {
      "text/html": [
       "<pre style=\"white-space:pre;overflow-x:auto;line-height:normal;font-family:Menlo,'DejaVu Sans Mono',consolas,'Courier New',monospace\">\n",
       "</pre>\n"
      ],
      "text/plain": [
       "\n"
      ]
     },
     "metadata": {},
     "output_type": "display_data"
    },
    {
     "data": {
      "application/vnd.jupyter.widget-view+json": {
       "model_id": "d6a63523ddfc4adba4778824c0b2a867",
       "version_major": 2,
       "version_minor": 0
      },
      "text/plain": [
       "Output()"
      ]
     },
     "metadata": {},
     "output_type": "display_data"
    },
    {
     "data": {
      "text/html": [
       "<pre style=\"white-space:pre;overflow-x:auto;line-height:normal;font-family:Menlo,'DejaVu Sans Mono',consolas,'Courier New',monospace\"></pre>\n"
      ],
      "text/plain": []
     },
     "metadata": {},
     "output_type": "display_data"
    },
    {
     "data": {
      "text/html": [
       "<pre style=\"white-space:pre;overflow-x:auto;line-height:normal;font-family:Menlo,'DejaVu Sans Mono',consolas,'Courier New',monospace\">\n",
       "</pre>\n"
      ],
      "text/plain": [
       "\n"
      ]
     },
     "metadata": {},
     "output_type": "display_data"
    },
    {
     "data": {
      "application/vnd.jupyter.widget-view+json": {
       "model_id": "a1fa8df064eb4f168f6606a04d967153",
       "version_major": 2,
       "version_minor": 0
      },
      "text/plain": [
       "Output()"
      ]
     },
     "metadata": {},
     "output_type": "display_data"
    },
    {
     "data": {
      "text/html": [
       "<pre style=\"white-space:pre;overflow-x:auto;line-height:normal;font-family:Menlo,'DejaVu Sans Mono',consolas,'Courier New',monospace\"></pre>\n"
      ],
      "text/plain": []
     },
     "metadata": {},
     "output_type": "display_data"
    },
    {
     "data": {
      "text/html": [
       "<pre style=\"white-space:pre;overflow-x:auto;line-height:normal;font-family:Menlo,'DejaVu Sans Mono',consolas,'Courier New',monospace\">\n",
       "</pre>\n"
      ],
      "text/plain": [
       "\n"
      ]
     },
     "metadata": {},
     "output_type": "display_data"
    },
    {
     "data": {
      "application/vnd.jupyter.widget-view+json": {
       "model_id": "604d0f943cba4ee687d9bd17e771c776",
       "version_major": 2,
       "version_minor": 0
      },
      "text/plain": [
       "Output()"
      ]
     },
     "metadata": {},
     "output_type": "display_data"
    },
    {
     "data": {
      "text/html": [
       "<pre style=\"white-space:pre;overflow-x:auto;line-height:normal;font-family:Menlo,'DejaVu Sans Mono',consolas,'Courier New',monospace\"></pre>\n"
      ],
      "text/plain": []
     },
     "metadata": {},
     "output_type": "display_data"
    },
    {
     "data": {
      "text/html": [
       "<pre style=\"white-space:pre;overflow-x:auto;line-height:normal;font-family:Menlo,'DejaVu Sans Mono',consolas,'Courier New',monospace\">\n",
       "</pre>\n"
      ],
      "text/plain": [
       "\n"
      ]
     },
     "metadata": {},
     "output_type": "display_data"
    },
    {
     "data": {
      "application/vnd.jupyter.widget-view+json": {
       "model_id": "364c3f3f4913475197f97444002640ae",
       "version_major": 2,
       "version_minor": 0
      },
      "text/plain": [
       "Output()"
      ]
     },
     "metadata": {},
     "output_type": "display_data"
    },
    {
     "data": {
      "text/html": [
       "<pre style=\"white-space:pre;overflow-x:auto;line-height:normal;font-family:Menlo,'DejaVu Sans Mono',consolas,'Courier New',monospace\"></pre>\n"
      ],
      "text/plain": []
     },
     "metadata": {},
     "output_type": "display_data"
    },
    {
     "data": {
      "text/html": [
       "<pre style=\"white-space:pre;overflow-x:auto;line-height:normal;font-family:Menlo,'DejaVu Sans Mono',consolas,'Courier New',monospace\">\n",
       "</pre>\n"
      ],
      "text/plain": [
       "\n"
      ]
     },
     "metadata": {},
     "output_type": "display_data"
    },
    {
     "data": {
      "application/vnd.jupyter.widget-view+json": {
       "model_id": "b091a60da3134fb890e3a8dc8d6c08b3",
       "version_major": 2,
       "version_minor": 0
      },
      "text/plain": [
       "Output()"
      ]
     },
     "metadata": {},
     "output_type": "display_data"
    },
    {
     "data": {
      "text/html": [
       "<pre style=\"white-space:pre;overflow-x:auto;line-height:normal;font-family:Menlo,'DejaVu Sans Mono',consolas,'Courier New',monospace\"></pre>\n"
      ],
      "text/plain": []
     },
     "metadata": {},
     "output_type": "display_data"
    },
    {
     "data": {
      "text/html": [
       "<pre style=\"white-space:pre;overflow-x:auto;line-height:normal;font-family:Menlo,'DejaVu Sans Mono',consolas,'Courier New',monospace\">\n",
       "</pre>\n"
      ],
      "text/plain": [
       "\n"
      ]
     },
     "metadata": {},
     "output_type": "display_data"
    },
    {
     "data": {
      "application/vnd.jupyter.widget-view+json": {
       "model_id": "b040efb437f649bcb2b3980d8b9ac67f",
       "version_major": 2,
       "version_minor": 0
      },
      "text/plain": [
       "Output()"
      ]
     },
     "metadata": {},
     "output_type": "display_data"
    }
   ],
   "source": [
    "keypoints_series = video_df['path'].progress_apply(extract_keypoints_from_file)"
   ]
  },
  {
   "cell_type": "code",
   "execution_count": null,
   "id": "6b56d3ea",
   "metadata": {},
   "outputs": [],
   "source": []
  },
  {
   "cell_type": "code",
   "execution_count": 66,
   "id": "74e9205e",
   "metadata": {
    "ExecuteTime": {
     "end_time": "2023-08-02T12:10:04.374864Z",
     "start_time": "2023-08-02T12:10:04.371097Z"
    }
   },
   "outputs": [
    {
     "data": {
      "text/plain": [
       "(1405,)"
      ]
     },
     "execution_count": 66,
     "metadata": {},
     "output_type": "execute_result"
    }
   ],
   "source": [
    "keypoints_series.shape"
   ]
  },
  {
   "cell_type": "code",
   "execution_count": 67,
   "id": "c89ba244",
   "metadata": {
    "ExecuteTime": {
     "end_time": "2023-08-02T12:10:06.522377Z",
     "start_time": "2023-08-02T12:10:06.517237Z"
    }
   },
   "outputs": [
    {
     "data": {
      "text/plain": [
       "212"
      ]
     },
     "execution_count": 67,
     "metadata": {},
     "output_type": "execute_result"
    }
   ],
   "source": [
    "max(keypoints.shape[0] for keypoints in keypoints_series)"
   ]
  },
  {
   "cell_type": "code",
   "execution_count": 68,
   "id": "81f27015",
   "metadata": {
    "ExecuteTime": {
     "end_time": "2023-08-02T12:10:07.485075Z",
     "start_time": "2023-08-02T12:10:07.480973Z"
    }
   },
   "outputs": [
    {
     "data": {
      "text/plain": [
       "17"
      ]
     },
     "execution_count": 68,
     "metadata": {},
     "output_type": "execute_result"
    }
   ],
   "source": [
    "min(keypoints.shape[0] for keypoints in keypoints_series)"
   ]
  },
  {
   "cell_type": "code",
   "execution_count": 69,
   "id": "68e2862c",
   "metadata": {
    "ExecuteTime": {
     "end_time": "2023-08-02T12:10:08.546133Z",
     "start_time": "2023-08-02T12:10:08.541870Z"
    }
   },
   "outputs": [],
   "source": [
    "max_len = video_df['frames'].max()"
   ]
  },
  {
   "cell_type": "code",
   "execution_count": 70,
   "id": "d997f11c",
   "metadata": {
    "ExecuteTime": {
     "end_time": "2023-08-02T12:10:11.117632Z",
     "start_time": "2023-08-02T12:10:11.113897Z"
    }
   },
   "outputs": [
    {
     "data": {
      "text/plain": [
       "212"
      ]
     },
     "execution_count": 70,
     "metadata": {},
     "output_type": "execute_result"
    }
   ],
   "source": [
    "max_len"
   ]
  },
  {
   "cell_type": "code",
   "execution_count": 71,
   "id": "6dd13ef8",
   "metadata": {
    "ExecuteTime": {
     "end_time": "2023-08-02T12:10:14.432232Z",
     "start_time": "2023-08-02T12:10:14.425089Z"
    }
   },
   "outputs": [
    {
     "data": {
      "text/plain": [
       "count    1405.000000\n",
       "mean       72.436299\n",
       "std        28.148461\n",
       "min        17.000000\n",
       "25%        53.000000\n",
       "50%        71.000000\n",
       "75%        89.000000\n",
       "max       212.000000\n",
       "Name: frames, dtype: float64"
      ]
     },
     "execution_count": 71,
     "metadata": {},
     "output_type": "execute_result"
    }
   ],
   "source": [
    "video_df['frames'].describe()"
   ]
  },
  {
   "cell_type": "code",
   "execution_count": 72,
   "id": "e976d35e",
   "metadata": {
    "ExecuteTime": {
     "end_time": "2023-08-02T12:10:18.376116Z",
     "start_time": "2023-08-02T12:10:18.285413Z"
    }
   },
   "outputs": [],
   "source": [
    "keypoints_np = np.zeros((len(keypoints_series), max_len, 266))\n",
    "for i, keypoints in enumerate(keypoints_series):\n",
    "    keypoints_np[i, :keypoints.shape[0], :] = keypoints"
   ]
  },
  {
   "cell_type": "code",
   "execution_count": 73,
   "id": "22575043",
   "metadata": {
    "ExecuteTime": {
     "end_time": "2023-08-02T12:10:19.300032Z",
     "start_time": "2023-08-02T12:10:19.296266Z"
    }
   },
   "outputs": [
    {
     "data": {
      "text/plain": [
       "(1405, 212, 266)"
      ]
     },
     "execution_count": 73,
     "metadata": {},
     "output_type": "execute_result"
    }
   ],
   "source": [
    "keypoints_np.shape"
   ]
  },
  {
   "cell_type": "code",
   "execution_count": 62,
   "id": "b4db07c6",
   "metadata": {
    "ExecuteTime": {
     "end_time": "2023-08-02T12:07:43.289168Z",
     "start_time": "2023-08-02T12:07:42.913595Z"
    }
   },
   "outputs": [],
   "source": [
    "np.save(\"/home/kristian/Capstone/keypoints/cspnext_keypoints.npy\", keypoints_np)"
   ]
  },
  {
   "cell_type": "code",
   "execution_count": 74,
   "id": "01a54c21",
   "metadata": {
    "ExecuteTime": {
     "end_time": "2023-08-02T12:10:45.724444Z",
     "start_time": "2023-08-02T12:10:45.546402Z"
    }
   },
   "outputs": [],
   "source": [
    "keypoints_np=np.load('/home/kristian/Capstone/keypoints/cspnext_keypoints.npy')"
   ]
  },
  {
   "cell_type": "code",
   "execution_count": 75,
   "id": "7955e467",
   "metadata": {
    "ExecuteTime": {
     "end_time": "2023-08-02T12:10:46.690870Z",
     "start_time": "2023-08-02T12:10:46.687193Z"
    }
   },
   "outputs": [
    {
     "data": {
      "text/plain": [
       "(1405, 212, 266)"
      ]
     },
     "execution_count": 75,
     "metadata": {},
     "output_type": "execute_result"
    }
   ],
   "source": [
    "keypoints_np.shape"
   ]
  },
  {
   "cell_type": "code",
   "execution_count": null,
   "id": "9fc8b37e",
   "metadata": {},
   "outputs": [],
   "source": []
  }
 ],
 "metadata": {
  "kernelspec": {
   "display_name": "Python 3 (ipykernel)",
   "language": "python",
   "name": "python3"
  },
  "language_info": {
   "codemirror_mode": {
    "name": "ipython",
    "version": 3
   },
   "file_extension": ".py",
   "mimetype": "text/x-python",
   "name": "python",
   "nbconvert_exporter": "python",
   "pygments_lexer": "ipython3",
   "version": "3.10.12"
  },
  "toc": {
   "base_numbering": 1,
   "nav_menu": {},
   "number_sections": true,
   "sideBar": true,
   "skip_h1_title": false,
   "title_cell": "Table of Contents",
   "title_sidebar": "Contents",
   "toc_cell": false,
   "toc_position": {},
   "toc_section_display": true,
   "toc_window_display": false
  },
  "varInspector": {
   "cols": {
    "lenName": 16,
    "lenType": 16,
    "lenVar": 40
   },
   "kernels_config": {
    "python": {
     "delete_cmd_postfix": "",
     "delete_cmd_prefix": "del ",
     "library": "var_list.py",
     "varRefreshCmd": "print(var_dic_list())"
    },
    "r": {
     "delete_cmd_postfix": ") ",
     "delete_cmd_prefix": "rm(",
     "library": "var_list.r",
     "varRefreshCmd": "cat(var_dic_list()) "
    }
   },
   "position": {
    "height": "145.352px",
    "left": "2032px",
    "right": "20px",
    "top": "121px",
    "width": "350px"
   },
   "types_to_exclude": [
    "module",
    "function",
    "builtin_function_or_method",
    "instance",
    "_Feature"
   ],
   "window_display": false
  }
 },
 "nbformat": 4,
 "nbformat_minor": 5
}
