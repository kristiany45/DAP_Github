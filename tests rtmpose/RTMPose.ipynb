{
 "cells": [
  {
   "cell_type": "code",
   "execution_count": 1,
   "id": "ddaa0eea",
   "metadata": {
    "ExecuteTime": {
     "end_time": "2023-07-30T21:26:33.361902Z",
     "start_time": "2023-07-30T21:26:30.050631Z"
    }
   },
   "outputs": [],
   "source": [
    "from mmpose.apis import Pose2DInferencer, init_model\n",
    "import cv2\n",
    "\n",
    "from pyspark.sql.functions import row_number\n",
    "from pyspark.sql.window import Window\n",
    "import pandas as pd\n",
    "from tqdm import tqdm\n",
    "import gc\n",
    "from operator import add\n",
    "import torch\n",
    "import numpy as np"
   ]
  },
  {
   "cell_type": "code",
   "execution_count": 2,
   "id": "d3610d35",
   "metadata": {
    "ExecuteTime": {
     "end_time": "2023-07-30T21:26:35.342255Z",
     "start_time": "2023-07-30T21:26:35.336613Z"
    }
   },
   "outputs": [
    {
     "data": {
      "text/plain": [
       "'4.8.0'"
      ]
     },
     "execution_count": 2,
     "metadata": {},
     "output_type": "execute_result"
    }
   ],
   "source": [
    "cv2.__version__"
   ]
  },
  {
   "cell_type": "code",
   "execution_count": 3,
   "id": "420adf1e",
   "metadata": {
    "ExecuteTime": {
     "end_time": "2023-07-30T21:26:46.877021Z",
     "start_time": "2023-07-30T21:26:46.873669Z"
    }
   },
   "outputs": [],
   "source": [
    "#inferencer = Pose2DInferencer(device='cuda',\n",
    "#    model='/home/kristian/mmpose/configs/wholebody_2d_keypoint/rtmpose/coco-wholebody/rtmpose-m_8xb64-270e_coco-wholebody-256x192.py',\n",
    "#    weights='/home/kristian/mmpose/configs/wholebody_2d_keypoint/rtmpose/coco-wholebody/rtmpose-m_simcc-coco-wholebody_pt-aic-coco_270e-256x192-cd5e845c_20230123.pth'\n",
    "    \n",
    "#)"
   ]
  },
  {
   "cell_type": "code",
   "execution_count": 4,
   "id": "3c898034",
   "metadata": {
    "ExecuteTime": {
     "end_time": "2023-07-30T21:26:50.599201Z",
     "start_time": "2023-07-30T21:26:48.677909Z"
    },
    "scrolled": true
   },
   "outputs": [
    {
     "name": "stdout",
     "output_type": "stream",
     "text": [
      "Loads checkpoint by http backend from path: https://download.openmmlab.com/mmpose/v1/projects/rtmposev1/rtmpose-m_simcc-coco-wholebody_pt-aic-coco_270e-256x192-cd5e845c_20230123.pth\n",
      "07/30 22:26:49 - mmengine - \u001b[5m\u001b[4m\u001b[33mWARNING\u001b[0m - Failed to search registry with scope \"mmpose\" in the \"function\" registry tree. As a workaround, the current \"function\" registry in \"mmengine\" is used to build instance. This may cause unexpected failure when running the built modules. Please check whether \"mmpose\" is a correct scope, or whether the registry is initialized.\n",
      "07/30 22:26:49 - mmengine - \u001b[5m\u001b[4m\u001b[33mWARNING\u001b[0m - `Visualizer` backend is not initialized because save_dir is None.\n",
      "Loads checkpoint by http backend from path: https://download.openmmlab.com/mmdetection/v3.0/rtmdet/rtmdet_m_8xb32-300e_coco/rtmdet_m_8xb32-300e_coco_20220719_112220-229f527c.pth\n",
      "The model and loaded state dict do not match exactly\n",
      "\n",
      "unexpected key in source state_dict: data_preprocessor.mean, data_preprocessor.std\n",
      "\n",
      "07/30 22:26:50 - mmengine - \u001b[5m\u001b[4m\u001b[33mWARNING\u001b[0m - Failed to search registry with scope \"mmdet\" in the \"function\" registry tree. As a workaround, the current \"function\" registry in \"mmengine\" is used to build instance. This may cause unexpected failure when running the built modules. Please check whether \"mmdet\" is a correct scope, or whether the registry is initialized.\n"
     ]
    }
   ],
   "source": [
    "inferencer = Pose2DInferencer('wholebody', device='cuda')"
   ]
  },
  {
   "cell_type": "code",
   "execution_count": 6,
   "id": "95162955",
   "metadata": {
    "ExecuteTime": {
     "end_time": "2023-07-30T14:59:10.500519Z",
     "start_time": "2023-07-30T14:58:20.131903Z"
    },
    "scrolled": true
   },
   "outputs": [
    {
     "data": {
      "text/html": [
       "<pre style=\"white-space:pre;overflow-x:auto;line-height:normal;font-family:Menlo,'DejaVu Sans Mono',consolas,'Courier New',monospace\">Inference <span style=\"color: #b72c5e; text-decoration-color: #b72c5e\">━</span><span style=\"color: #993056; text-decoration-color: #993056\">━</span><span style=\"color: #7b334d; text-decoration-color: #7b334d\">━</span><span style=\"color: #613545; text-decoration-color: #613545\">━</span><span style=\"color: #4c383f; text-decoration-color: #4c383f\">━</span><span style=\"color: #3e393b; text-decoration-color: #3e393b\">━</span><span style=\"color: #3a3a3a; text-decoration-color: #3a3a3a\">━</span><span style=\"color: #3e393b; text-decoration-color: #3e393b\">━</span><span style=\"color: #4c383f; text-decoration-color: #4c383f\">━</span><span style=\"color: #613545; text-decoration-color: #613545\">━</span><span style=\"color: #7b334d; text-decoration-color: #7b334d\">━</span><span style=\"color: #993056; text-decoration-color: #993056\">━</span><span style=\"color: #b72c5e; text-decoration-color: #b72c5e\">━</span><span style=\"color: #d12a66; text-decoration-color: #d12a66\">━</span><span style=\"color: #e6276c; text-decoration-color: #e6276c\">━</span><span style=\"color: #f42670; text-decoration-color: #f42670\">━</span><span style=\"color: #f92672; text-decoration-color: #f92672\">━</span><span style=\"color: #f42670; text-decoration-color: #f42670\">━</span><span style=\"color: #e6276c; text-decoration-color: #e6276c\">━</span><span style=\"color: #d12a66; text-decoration-color: #d12a66\">━</span><span style=\"color: #b72c5e; text-decoration-color: #b72c5e\">━</span><span style=\"color: #993056; text-decoration-color: #993056\">━</span><span style=\"color: #7b334d; text-decoration-color: #7b334d\">━</span><span style=\"color: #613545; text-decoration-color: #613545\">━</span><span style=\"color: #4c383f; text-decoration-color: #4c383f\">━</span><span style=\"color: #3e393b; text-decoration-color: #3e393b\">━</span><span style=\"color: #3a3a3a; text-decoration-color: #3a3a3a\">━</span><span style=\"color: #3e393b; text-decoration-color: #3e393b\">━</span><span style=\"color: #4c383f; text-decoration-color: #4c383f\">━</span><span style=\"color: #613545; text-decoration-color: #613545\">━</span><span style=\"color: #7b334d; text-decoration-color: #7b334d\">━</span><span style=\"color: #993056; text-decoration-color: #993056\">━</span><span style=\"color: #b72c5e; text-decoration-color: #b72c5e\">━</span><span style=\"color: #d12a66; text-decoration-color: #d12a66\">━</span><span style=\"color: #e6276c; text-decoration-color: #e6276c\">━</span><span style=\"color: #f42670; text-decoration-color: #f42670\">━</span><span style=\"color: #f92672; text-decoration-color: #f92672\">━</span><span style=\"color: #f42670; text-decoration-color: #f42670\">━</span><span style=\"color: #e6276c; text-decoration-color: #e6276c\">━</span><span style=\"color: #d12a66; text-decoration-color: #d12a66\">━</span>  <span style=\"color: #008080; text-decoration-color: #008080\"> </span>\n",
       "</pre>\n"
      ],
      "text/plain": [
       "Inference \u001b[38;2;183;44;94m━\u001b[0m\u001b[38;2;153;48;86m━\u001b[0m\u001b[38;2;123;51;77m━\u001b[0m\u001b[38;2;97;53;69m━\u001b[0m\u001b[38;2;76;56;63m━\u001b[0m\u001b[38;2;62;57;59m━\u001b[0m\u001b[38;2;58;58;58m━\u001b[0m\u001b[38;2;62;57;59m━\u001b[0m\u001b[38;2;76;56;63m━\u001b[0m\u001b[38;2;97;53;69m━\u001b[0m\u001b[38;2;123;51;77m━\u001b[0m\u001b[38;2;153;48;86m━\u001b[0m\u001b[38;2;183;44;94m━\u001b[0m\u001b[38;2;209;42;102m━\u001b[0m\u001b[38;2;230;39;108m━\u001b[0m\u001b[38;2;244;38;112m━\u001b[0m\u001b[38;2;249;38;114m━\u001b[0m\u001b[38;2;244;38;112m━\u001b[0m\u001b[38;2;230;39;108m━\u001b[0m\u001b[38;2;209;42;102m━\u001b[0m\u001b[38;2;183;44;94m━\u001b[0m\u001b[38;2;153;48;86m━\u001b[0m\u001b[38;2;123;51;77m━\u001b[0m\u001b[38;2;97;53;69m━\u001b[0m\u001b[38;2;76;56;63m━\u001b[0m\u001b[38;2;62;57;59m━\u001b[0m\u001b[38;2;58;58;58m━\u001b[0m\u001b[38;2;62;57;59m━\u001b[0m\u001b[38;2;76;56;63m━\u001b[0m\u001b[38;2;97;53;69m━\u001b[0m\u001b[38;2;123;51;77m━\u001b[0m\u001b[38;2;153;48;86m━\u001b[0m\u001b[38;2;183;44;94m━\u001b[0m\u001b[38;2;209;42;102m━\u001b[0m\u001b[38;2;230;39;108m━\u001b[0m\u001b[38;2;244;38;112m━\u001b[0m\u001b[38;2;249;38;114m━\u001b[0m\u001b[38;2;244;38;112m━\u001b[0m\u001b[38;2;230;39;108m━\u001b[0m\u001b[38;2;209;42;102m━\u001b[0m  \u001b[36m \u001b[0m\n"
      ]
     },
     "metadata": {},
     "output_type": "display_data"
    },
    {
     "data": {
      "text/html": [
       "<pre style=\"white-space:pre;overflow-x:auto;line-height:normal;font-family:Menlo,'DejaVu Sans Mono',consolas,'Courier New',monospace\"></pre>\n"
      ],
      "text/plain": []
     },
     "metadata": {},
     "output_type": "display_data"
    },
    {
     "data": {
      "text/html": [
       "<pre style=\"white-space:pre;overflow-x:auto;line-height:normal;font-family:Menlo,'DejaVu Sans Mono',consolas,'Courier New',monospace\">\n",
       "</pre>\n"
      ],
      "text/plain": [
       "\n"
      ]
     },
     "metadata": {},
     "output_type": "display_data"
    },
    {
     "data": {
      "application/vnd.jupyter.widget-view+json": {
       "model_id": "9e16a0af469b437c93df68c8f0a3dfba",
       "version_major": 2,
       "version_minor": 0
      },
      "text/plain": [
       "Output()"
      ]
     },
     "metadata": {},
     "output_type": "display_data"
    },
    {
     "data": {
      "text/html": [
       "<pre style=\"white-space:pre;overflow-x:auto;line-height:normal;font-family:Menlo,'DejaVu Sans Mono',consolas,'Courier New',monospace\"></pre>\n"
      ],
      "text/plain": []
     },
     "metadata": {},
     "output_type": "display_data"
    },
    {
     "data": {
      "text/html": [
       "<pre style=\"white-space:pre;overflow-x:auto;line-height:normal;font-family:Menlo,'DejaVu Sans Mono',consolas,'Courier New',monospace\">\n",
       "</pre>\n"
      ],
      "text/plain": [
       "\n"
      ]
     },
     "metadata": {},
     "output_type": "display_data"
    },
    {
     "data": {
      "application/vnd.jupyter.widget-view+json": {
       "model_id": "4a25d861164140cba1866478c0ca588a",
       "version_major": 2,
       "version_minor": 0
      },
      "text/plain": [
       "Output()"
      ]
     },
     "metadata": {},
     "output_type": "display_data"
    },
    {
     "data": {
      "text/html": [
       "<pre style=\"white-space:pre;overflow-x:auto;line-height:normal;font-family:Menlo,'DejaVu Sans Mono',consolas,'Courier New',monospace\"></pre>\n"
      ],
      "text/plain": []
     },
     "metadata": {},
     "output_type": "display_data"
    },
    {
     "data": {
      "text/html": [
       "<pre style=\"white-space:pre;overflow-x:auto;line-height:normal;font-family:Menlo,'DejaVu Sans Mono',consolas,'Courier New',monospace\">\n",
       "</pre>\n"
      ],
      "text/plain": [
       "\n"
      ]
     },
     "metadata": {},
     "output_type": "display_data"
    },
    {
     "data": {
      "application/vnd.jupyter.widget-view+json": {
       "model_id": "e463757de06648519b1740f491535719",
       "version_major": 2,
       "version_minor": 0
      },
      "text/plain": [
       "Output()"
      ]
     },
     "metadata": {},
     "output_type": "display_data"
    },
    {
     "data": {
      "text/html": [
       "<pre style=\"white-space:pre;overflow-x:auto;line-height:normal;font-family:Menlo,'DejaVu Sans Mono',consolas,'Courier New',monospace\"></pre>\n"
      ],
      "text/plain": []
     },
     "metadata": {},
     "output_type": "display_data"
    },
    {
     "data": {
      "text/html": [
       "<pre style=\"white-space:pre;overflow-x:auto;line-height:normal;font-family:Menlo,'DejaVu Sans Mono',consolas,'Courier New',monospace\">\n",
       "</pre>\n"
      ],
      "text/plain": [
       "\n"
      ]
     },
     "metadata": {},
     "output_type": "display_data"
    },
    {
     "data": {
      "application/vnd.jupyter.widget-view+json": {
       "model_id": "dd57ae990e354719a6499f0332e57024",
       "version_major": 2,
       "version_minor": 0
      },
      "text/plain": [
       "Output()"
      ]
     },
     "metadata": {},
     "output_type": "display_data"
    },
    {
     "data": {
      "text/html": [
       "<pre style=\"white-space:pre;overflow-x:auto;line-height:normal;font-family:Menlo,'DejaVu Sans Mono',consolas,'Courier New',monospace\"></pre>\n"
      ],
      "text/plain": []
     },
     "metadata": {},
     "output_type": "display_data"
    },
    {
     "data": {
      "text/html": [
       "<pre style=\"white-space:pre;overflow-x:auto;line-height:normal;font-family:Menlo,'DejaVu Sans Mono',consolas,'Courier New',monospace\">\n",
       "</pre>\n"
      ],
      "text/plain": [
       "\n"
      ]
     },
     "metadata": {},
     "output_type": "display_data"
    },
    {
     "data": {
      "application/vnd.jupyter.widget-view+json": {
       "model_id": "4d5b745a7320493c85d7196de3758044",
       "version_major": 2,
       "version_minor": 0
      },
      "text/plain": [
       "Output()"
      ]
     },
     "metadata": {},
     "output_type": "display_data"
    },
    {
     "data": {
      "text/html": [
       "<pre style=\"white-space:pre;overflow-x:auto;line-height:normal;font-family:Menlo,'DejaVu Sans Mono',consolas,'Courier New',monospace\"></pre>\n"
      ],
      "text/plain": []
     },
     "metadata": {},
     "output_type": "display_data"
    },
    {
     "data": {
      "text/html": [
       "<pre style=\"white-space:pre;overflow-x:auto;line-height:normal;font-family:Menlo,'DejaVu Sans Mono',consolas,'Courier New',monospace\">\n",
       "</pre>\n"
      ],
      "text/plain": [
       "\n"
      ]
     },
     "metadata": {},
     "output_type": "display_data"
    },
    {
     "data": {
      "application/vnd.jupyter.widget-view+json": {
       "model_id": "b0f02b0c52f246fbb6a380a1e6f0dc53",
       "version_major": 2,
       "version_minor": 0
      },
      "text/plain": [
       "Output()"
      ]
     },
     "metadata": {},
     "output_type": "display_data"
    },
    {
     "data": {
      "text/html": [
       "<pre style=\"white-space:pre;overflow-x:auto;line-height:normal;font-family:Menlo,'DejaVu Sans Mono',consolas,'Courier New',monospace\"></pre>\n"
      ],
      "text/plain": []
     },
     "metadata": {},
     "output_type": "display_data"
    },
    {
     "data": {
      "text/html": [
       "<pre style=\"white-space:pre;overflow-x:auto;line-height:normal;font-family:Menlo,'DejaVu Sans Mono',consolas,'Courier New',monospace\">\n",
       "</pre>\n"
      ],
      "text/plain": [
       "\n"
      ]
     },
     "metadata": {},
     "output_type": "display_data"
    },
    {
     "data": {
      "application/vnd.jupyter.widget-view+json": {
       "model_id": "55584a02842d41849f3f0bf6d2ce2154",
       "version_major": 2,
       "version_minor": 0
      },
      "text/plain": [
       "Output()"
      ]
     },
     "metadata": {},
     "output_type": "display_data"
    },
    {
     "data": {
      "text/html": [
       "<pre style=\"white-space:pre;overflow-x:auto;line-height:normal;font-family:Menlo,'DejaVu Sans Mono',consolas,'Courier New',monospace\"></pre>\n"
      ],
      "text/plain": []
     },
     "metadata": {},
     "output_type": "display_data"
    },
    {
     "data": {
      "text/html": [
       "<pre style=\"white-space:pre;overflow-x:auto;line-height:normal;font-family:Menlo,'DejaVu Sans Mono',consolas,'Courier New',monospace\">\n",
       "</pre>\n"
      ],
      "text/plain": [
       "\n"
      ]
     },
     "metadata": {},
     "output_type": "display_data"
    },
    {
     "data": {
      "application/vnd.jupyter.widget-view+json": {
       "model_id": "1442aec46a9b4fa6ae2ced1c93f8412b",
       "version_major": 2,
       "version_minor": 0
      },
      "text/plain": [
       "Output()"
      ]
     },
     "metadata": {},
     "output_type": "display_data"
    },
    {
     "data": {
      "text/html": [
       "<pre style=\"white-space:pre;overflow-x:auto;line-height:normal;font-family:Menlo,'DejaVu Sans Mono',consolas,'Courier New',monospace\"></pre>\n"
      ],
      "text/plain": []
     },
     "metadata": {},
     "output_type": "display_data"
    },
    {
     "data": {
      "text/html": [
       "<pre style=\"white-space:pre;overflow-x:auto;line-height:normal;font-family:Menlo,'DejaVu Sans Mono',consolas,'Courier New',monospace\">\n",
       "</pre>\n"
      ],
      "text/plain": [
       "\n"
      ]
     },
     "metadata": {},
     "output_type": "display_data"
    },
    {
     "data": {
      "application/vnd.jupyter.widget-view+json": {
       "model_id": "ed85e968d04948bab2aab3d6219554c9",
       "version_major": 2,
       "version_minor": 0
      },
      "text/plain": [
       "Output()"
      ]
     },
     "metadata": {},
     "output_type": "display_data"
    },
    {
     "data": {
      "text/html": [
       "<pre style=\"white-space:pre;overflow-x:auto;line-height:normal;font-family:Menlo,'DejaVu Sans Mono',consolas,'Courier New',monospace\"></pre>\n"
      ],
      "text/plain": []
     },
     "metadata": {},
     "output_type": "display_data"
    },
    {
     "data": {
      "text/html": [
       "<pre style=\"white-space:pre;overflow-x:auto;line-height:normal;font-family:Menlo,'DejaVu Sans Mono',consolas,'Courier New',monospace\">\n",
       "</pre>\n"
      ],
      "text/plain": [
       "\n"
      ]
     },
     "metadata": {},
     "output_type": "display_data"
    },
    {
     "data": {
      "application/vnd.jupyter.widget-view+json": {
       "model_id": "774f5faa32b5460fb47eb25161a73dc0",
       "version_major": 2,
       "version_minor": 0
      },
      "text/plain": [
       "Output()"
      ]
     },
     "metadata": {},
     "output_type": "display_data"
    },
    {
     "data": {
      "text/html": [
       "<pre style=\"white-space:pre;overflow-x:auto;line-height:normal;font-family:Menlo,'DejaVu Sans Mono',consolas,'Courier New',monospace\"></pre>\n"
      ],
      "text/plain": []
     },
     "metadata": {},
     "output_type": "display_data"
    },
    {
     "data": {
      "text/html": [
       "<pre style=\"white-space:pre;overflow-x:auto;line-height:normal;font-family:Menlo,'DejaVu Sans Mono',consolas,'Courier New',monospace\">\n",
       "</pre>\n"
      ],
      "text/plain": [
       "\n"
      ]
     },
     "metadata": {},
     "output_type": "display_data"
    },
    {
     "data": {
      "application/vnd.jupyter.widget-view+json": {
       "model_id": "34553bf1f226452ea46a691479621717",
       "version_major": 2,
       "version_minor": 0
      },
      "text/plain": [
       "Output()"
      ]
     },
     "metadata": {},
     "output_type": "display_data"
    },
    {
     "data": {
      "text/html": [
       "<pre style=\"white-space:pre;overflow-x:auto;line-height:normal;font-family:Menlo,'DejaVu Sans Mono',consolas,'Courier New',monospace\"></pre>\n"
      ],
      "text/plain": []
     },
     "metadata": {},
     "output_type": "display_data"
    },
    {
     "data": {
      "text/html": [
       "<pre style=\"white-space:pre;overflow-x:auto;line-height:normal;font-family:Menlo,'DejaVu Sans Mono',consolas,'Courier New',monospace\">\n",
       "</pre>\n"
      ],
      "text/plain": [
       "\n"
      ]
     },
     "metadata": {},
     "output_type": "display_data"
    },
    {
     "data": {
      "application/vnd.jupyter.widget-view+json": {
       "model_id": "c1460672bf1e4368b418d07a194abbf7",
       "version_major": 2,
       "version_minor": 0
      },
      "text/plain": [
       "Output()"
      ]
     },
     "metadata": {},
     "output_type": "display_data"
    },
    {
     "data": {
      "text/html": [
       "<pre style=\"white-space:pre;overflow-x:auto;line-height:normal;font-family:Menlo,'DejaVu Sans Mono',consolas,'Courier New',monospace\"></pre>\n"
      ],
      "text/plain": []
     },
     "metadata": {},
     "output_type": "display_data"
    },
    {
     "data": {
      "text/html": [
       "<pre style=\"white-space:pre;overflow-x:auto;line-height:normal;font-family:Menlo,'DejaVu Sans Mono',consolas,'Courier New',monospace\">\n",
       "</pre>\n"
      ],
      "text/plain": [
       "\n"
      ]
     },
     "metadata": {},
     "output_type": "display_data"
    },
    {
     "data": {
      "application/vnd.jupyter.widget-view+json": {
       "model_id": "7103abf7107c4d9ab704a75a58fe0513",
       "version_major": 2,
       "version_minor": 0
      },
      "text/plain": [
       "Output()"
      ]
     },
     "metadata": {},
     "output_type": "display_data"
    },
    {
     "data": {
      "text/html": [
       "<pre style=\"white-space:pre;overflow-x:auto;line-height:normal;font-family:Menlo,'DejaVu Sans Mono',consolas,'Courier New',monospace\"></pre>\n"
      ],
      "text/plain": []
     },
     "metadata": {},
     "output_type": "display_data"
    },
    {
     "data": {
      "text/html": [
       "<pre style=\"white-space:pre;overflow-x:auto;line-height:normal;font-family:Menlo,'DejaVu Sans Mono',consolas,'Courier New',monospace\">\n",
       "</pre>\n"
      ],
      "text/plain": [
       "\n"
      ]
     },
     "metadata": {},
     "output_type": "display_data"
    },
    {
     "data": {
      "application/vnd.jupyter.widget-view+json": {
       "model_id": "eed7b6f749f84e398548c993c34269a8",
       "version_major": 2,
       "version_minor": 0
      },
      "text/plain": [
       "Output()"
      ]
     },
     "metadata": {},
     "output_type": "display_data"
    },
    {
     "data": {
      "text/html": [
       "<pre style=\"white-space:pre;overflow-x:auto;line-height:normal;font-family:Menlo,'DejaVu Sans Mono',consolas,'Courier New',monospace\"></pre>\n"
      ],
      "text/plain": []
     },
     "metadata": {},
     "output_type": "display_data"
    },
    {
     "data": {
      "text/html": [
       "<pre style=\"white-space:pre;overflow-x:auto;line-height:normal;font-family:Menlo,'DejaVu Sans Mono',consolas,'Courier New',monospace\">\n",
       "</pre>\n"
      ],
      "text/plain": [
       "\n"
      ]
     },
     "metadata": {},
     "output_type": "display_data"
    },
    {
     "data": {
      "application/vnd.jupyter.widget-view+json": {
       "model_id": "8dbb749e54f64ae39ed782ad0acf3a30",
       "version_major": 2,
       "version_minor": 0
      },
      "text/plain": [
       "Output()"
      ]
     },
     "metadata": {},
     "output_type": "display_data"
    },
    {
     "data": {
      "text/html": [
       "<pre style=\"white-space:pre;overflow-x:auto;line-height:normal;font-family:Menlo,'DejaVu Sans Mono',consolas,'Courier New',monospace\"></pre>\n"
      ],
      "text/plain": []
     },
     "metadata": {},
     "output_type": "display_data"
    },
    {
     "data": {
      "text/html": [
       "<pre style=\"white-space:pre;overflow-x:auto;line-height:normal;font-family:Menlo,'DejaVu Sans Mono',consolas,'Courier New',monospace\">\n",
       "</pre>\n"
      ],
      "text/plain": [
       "\n"
      ]
     },
     "metadata": {},
     "output_type": "display_data"
    },
    {
     "data": {
      "application/vnd.jupyter.widget-view+json": {
       "model_id": "e7380689979643ccb31629980f7d0eb6",
       "version_major": 2,
       "version_minor": 0
      },
      "text/plain": [
       "Output()"
      ]
     },
     "metadata": {},
     "output_type": "display_data"
    },
    {
     "data": {
      "text/html": [
       "<pre style=\"white-space:pre;overflow-x:auto;line-height:normal;font-family:Menlo,'DejaVu Sans Mono',consolas,'Courier New',monospace\"></pre>\n"
      ],
      "text/plain": []
     },
     "metadata": {},
     "output_type": "display_data"
    },
    {
     "data": {
      "text/html": [
       "<pre style=\"white-space:pre;overflow-x:auto;line-height:normal;font-family:Menlo,'DejaVu Sans Mono',consolas,'Courier New',monospace\">\n",
       "</pre>\n"
      ],
      "text/plain": [
       "\n"
      ]
     },
     "metadata": {},
     "output_type": "display_data"
    },
    {
     "data": {
      "application/vnd.jupyter.widget-view+json": {
       "model_id": "c521d4415d884b77aa2f319debd94705",
       "version_major": 2,
       "version_minor": 0
      },
      "text/plain": [
       "Output()"
      ]
     },
     "metadata": {},
     "output_type": "display_data"
    },
    {
     "data": {
      "text/html": [
       "<pre style=\"white-space:pre;overflow-x:auto;line-height:normal;font-family:Menlo,'DejaVu Sans Mono',consolas,'Courier New',monospace\"></pre>\n"
      ],
      "text/plain": []
     },
     "metadata": {},
     "output_type": "display_data"
    },
    {
     "data": {
      "text/html": [
       "<pre style=\"white-space:pre;overflow-x:auto;line-height:normal;font-family:Menlo,'DejaVu Sans Mono',consolas,'Courier New',monospace\">\n",
       "</pre>\n"
      ],
      "text/plain": [
       "\n"
      ]
     },
     "metadata": {},
     "output_type": "display_data"
    },
    {
     "data": {
      "application/vnd.jupyter.widget-view+json": {
       "model_id": "de0bb0b91d6444ab8c9e292f24bba943",
       "version_major": 2,
       "version_minor": 0
      },
      "text/plain": [
       "Output()"
      ]
     },
     "metadata": {},
     "output_type": "display_data"
    },
    {
     "data": {
      "text/html": [
       "<pre style=\"white-space:pre;overflow-x:auto;line-height:normal;font-family:Menlo,'DejaVu Sans Mono',consolas,'Courier New',monospace\"></pre>\n"
      ],
      "text/plain": []
     },
     "metadata": {},
     "output_type": "display_data"
    },
    {
     "data": {
      "text/html": [
       "<pre style=\"white-space:pre;overflow-x:auto;line-height:normal;font-family:Menlo,'DejaVu Sans Mono',consolas,'Courier New',monospace\">\n",
       "</pre>\n"
      ],
      "text/plain": [
       "\n"
      ]
     },
     "metadata": {},
     "output_type": "display_data"
    },
    {
     "data": {
      "application/vnd.jupyter.widget-view+json": {
       "model_id": "139b82385f9142a6b797696f8ee0bd72",
       "version_major": 2,
       "version_minor": 0
      },
      "text/plain": [
       "Output()"
      ]
     },
     "metadata": {},
     "output_type": "display_data"
    },
    {
     "data": {
      "text/html": [
       "<pre style=\"white-space:pre;overflow-x:auto;line-height:normal;font-family:Menlo,'DejaVu Sans Mono',consolas,'Courier New',monospace\"></pre>\n"
      ],
      "text/plain": []
     },
     "metadata": {},
     "output_type": "display_data"
    },
    {
     "data": {
      "text/html": [
       "<pre style=\"white-space:pre;overflow-x:auto;line-height:normal;font-family:Menlo,'DejaVu Sans Mono',consolas,'Courier New',monospace\">\n",
       "</pre>\n"
      ],
      "text/plain": [
       "\n"
      ]
     },
     "metadata": {},
     "output_type": "display_data"
    },
    {
     "data": {
      "application/vnd.jupyter.widget-view+json": {
       "model_id": "15eebf1f870347aaab06945d1bbbec0a",
       "version_major": 2,
       "version_minor": 0
      },
      "text/plain": [
       "Output()"
      ]
     },
     "metadata": {},
     "output_type": "display_data"
    },
    {
     "data": {
      "text/html": [
       "<pre style=\"white-space:pre;overflow-x:auto;line-height:normal;font-family:Menlo,'DejaVu Sans Mono',consolas,'Courier New',monospace\"></pre>\n"
      ],
      "text/plain": []
     },
     "metadata": {},
     "output_type": "display_data"
    },
    {
     "data": {
      "text/html": [
       "<pre style=\"white-space:pre;overflow-x:auto;line-height:normal;font-family:Menlo,'DejaVu Sans Mono',consolas,'Courier New',monospace\">\n",
       "</pre>\n"
      ],
      "text/plain": [
       "\n"
      ]
     },
     "metadata": {},
     "output_type": "display_data"
    },
    {
     "data": {
      "application/vnd.jupyter.widget-view+json": {
       "model_id": "aa270553cf8e45849926b0dcab56744c",
       "version_major": 2,
       "version_minor": 0
      },
      "text/plain": [
       "Output()"
      ]
     },
     "metadata": {},
     "output_type": "display_data"
    },
    {
     "data": {
      "text/html": [
       "<pre style=\"white-space:pre;overflow-x:auto;line-height:normal;font-family:Menlo,'DejaVu Sans Mono',consolas,'Courier New',monospace\"></pre>\n"
      ],
      "text/plain": []
     },
     "metadata": {},
     "output_type": "display_data"
    },
    {
     "data": {
      "text/html": [
       "<pre style=\"white-space:pre;overflow-x:auto;line-height:normal;font-family:Menlo,'DejaVu Sans Mono',consolas,'Courier New',monospace\">\n",
       "</pre>\n"
      ],
      "text/plain": [
       "\n"
      ]
     },
     "metadata": {},
     "output_type": "display_data"
    },
    {
     "data": {
      "application/vnd.jupyter.widget-view+json": {
       "model_id": "e416da16057d49fd9cd60eb394859d42",
       "version_major": 2,
       "version_minor": 0
      },
      "text/plain": [
       "Output()"
      ]
     },
     "metadata": {},
     "output_type": "display_data"
    },
    {
     "data": {
      "text/html": [
       "<pre style=\"white-space:pre;overflow-x:auto;line-height:normal;font-family:Menlo,'DejaVu Sans Mono',consolas,'Courier New',monospace\"></pre>\n"
      ],
      "text/plain": []
     },
     "metadata": {},
     "output_type": "display_data"
    },
    {
     "data": {
      "text/html": [
       "<pre style=\"white-space:pre;overflow-x:auto;line-height:normal;font-family:Menlo,'DejaVu Sans Mono',consolas,'Courier New',monospace\">\n",
       "</pre>\n"
      ],
      "text/plain": [
       "\n"
      ]
     },
     "metadata": {},
     "output_type": "display_data"
    },
    {
     "data": {
      "application/vnd.jupyter.widget-view+json": {
       "model_id": "ab7c3b5f57404bf48cc5885c2fdf2939",
       "version_major": 2,
       "version_minor": 0
      },
      "text/plain": [
       "Output()"
      ]
     },
     "metadata": {},
     "output_type": "display_data"
    },
    {
     "data": {
      "text/html": [
       "<pre style=\"white-space:pre;overflow-x:auto;line-height:normal;font-family:Menlo,'DejaVu Sans Mono',consolas,'Courier New',monospace\"></pre>\n"
      ],
      "text/plain": []
     },
     "metadata": {},
     "output_type": "display_data"
    },
    {
     "data": {
      "text/html": [
       "<pre style=\"white-space:pre;overflow-x:auto;line-height:normal;font-family:Menlo,'DejaVu Sans Mono',consolas,'Courier New',monospace\">\n",
       "</pre>\n"
      ],
      "text/plain": [
       "\n"
      ]
     },
     "metadata": {},
     "output_type": "display_data"
    },
    {
     "data": {
      "application/vnd.jupyter.widget-view+json": {
       "model_id": "40d8679ded214622a13a6bfbb8c52c71",
       "version_major": 2,
       "version_minor": 0
      },
      "text/plain": [
       "Output()"
      ]
     },
     "metadata": {},
     "output_type": "display_data"
    },
    {
     "data": {
      "text/html": [
       "<pre style=\"white-space:pre;overflow-x:auto;line-height:normal;font-family:Menlo,'DejaVu Sans Mono',consolas,'Courier New',monospace\"></pre>\n"
      ],
      "text/plain": []
     },
     "metadata": {},
     "output_type": "display_data"
    },
    {
     "data": {
      "text/html": [
       "<pre style=\"white-space:pre;overflow-x:auto;line-height:normal;font-family:Menlo,'DejaVu Sans Mono',consolas,'Courier New',monospace\">\n",
       "</pre>\n"
      ],
      "text/plain": [
       "\n"
      ]
     },
     "metadata": {},
     "output_type": "display_data"
    },
    {
     "data": {
      "application/vnd.jupyter.widget-view+json": {
       "model_id": "a8e95d6647a748c7889c4798fe3fe0e4",
       "version_major": 2,
       "version_minor": 0
      },
      "text/plain": [
       "Output()"
      ]
     },
     "metadata": {},
     "output_type": "display_data"
    },
    {
     "data": {
      "text/html": [
       "<pre style=\"white-space:pre;overflow-x:auto;line-height:normal;font-family:Menlo,'DejaVu Sans Mono',consolas,'Courier New',monospace\"></pre>\n"
      ],
      "text/plain": []
     },
     "metadata": {},
     "output_type": "display_data"
    },
    {
     "data": {
      "text/html": [
       "<pre style=\"white-space:pre;overflow-x:auto;line-height:normal;font-family:Menlo,'DejaVu Sans Mono',consolas,'Courier New',monospace\">\n",
       "</pre>\n"
      ],
      "text/plain": [
       "\n"
      ]
     },
     "metadata": {},
     "output_type": "display_data"
    },
    {
     "data": {
      "application/vnd.jupyter.widget-view+json": {
       "model_id": "b9106b3f632447db928a864bed9ed2b3",
       "version_major": 2,
       "version_minor": 0
      },
      "text/plain": [
       "Output()"
      ]
     },
     "metadata": {},
     "output_type": "display_data"
    },
    {
     "data": {
      "text/html": [
       "<pre style=\"white-space:pre;overflow-x:auto;line-height:normal;font-family:Menlo,'DejaVu Sans Mono',consolas,'Courier New',monospace\"></pre>\n"
      ],
      "text/plain": []
     },
     "metadata": {},
     "output_type": "display_data"
    },
    {
     "data": {
      "text/html": [
       "<pre style=\"white-space:pre;overflow-x:auto;line-height:normal;font-family:Menlo,'DejaVu Sans Mono',consolas,'Courier New',monospace\">\n",
       "</pre>\n"
      ],
      "text/plain": [
       "\n"
      ]
     },
     "metadata": {},
     "output_type": "display_data"
    },
    {
     "data": {
      "application/vnd.jupyter.widget-view+json": {
       "model_id": "8a826f563e6d4936992173eab7f0d238",
       "version_major": 2,
       "version_minor": 0
      },
      "text/plain": [
       "Output()"
      ]
     },
     "metadata": {},
     "output_type": "display_data"
    },
    {
     "data": {
      "text/html": [
       "<pre style=\"white-space:pre;overflow-x:auto;line-height:normal;font-family:Menlo,'DejaVu Sans Mono',consolas,'Courier New',monospace\"></pre>\n"
      ],
      "text/plain": []
     },
     "metadata": {},
     "output_type": "display_data"
    },
    {
     "data": {
      "text/html": [
       "<pre style=\"white-space:pre;overflow-x:auto;line-height:normal;font-family:Menlo,'DejaVu Sans Mono',consolas,'Courier New',monospace\">\n",
       "</pre>\n"
      ],
      "text/plain": [
       "\n"
      ]
     },
     "metadata": {},
     "output_type": "display_data"
    },
    {
     "data": {
      "application/vnd.jupyter.widget-view+json": {
       "model_id": "9287c621460b46af96c5a63f494655af",
       "version_major": 2,
       "version_minor": 0
      },
      "text/plain": [
       "Output()"
      ]
     },
     "metadata": {},
     "output_type": "display_data"
    },
    {
     "data": {
      "text/html": [
       "<pre style=\"white-space:pre;overflow-x:auto;line-height:normal;font-family:Menlo,'DejaVu Sans Mono',consolas,'Courier New',monospace\"></pre>\n"
      ],
      "text/plain": []
     },
     "metadata": {},
     "output_type": "display_data"
    },
    {
     "data": {
      "text/html": [
       "<pre style=\"white-space:pre;overflow-x:auto;line-height:normal;font-family:Menlo,'DejaVu Sans Mono',consolas,'Courier New',monospace\">\n",
       "</pre>\n"
      ],
      "text/plain": [
       "\n"
      ]
     },
     "metadata": {},
     "output_type": "display_data"
    },
    {
     "data": {
      "application/vnd.jupyter.widget-view+json": {
       "model_id": "a3d15ed4163741cbb4c04aaf04d97257",
       "version_major": 2,
       "version_minor": 0
      },
      "text/plain": [
       "Output()"
      ]
     },
     "metadata": {},
     "output_type": "display_data"
    },
    {
     "data": {
      "text/html": [
       "<pre style=\"white-space:pre;overflow-x:auto;line-height:normal;font-family:Menlo,'DejaVu Sans Mono',consolas,'Courier New',monospace\"></pre>\n"
      ],
      "text/plain": []
     },
     "metadata": {},
     "output_type": "display_data"
    },
    {
     "data": {
      "text/html": [
       "<pre style=\"white-space:pre;overflow-x:auto;line-height:normal;font-family:Menlo,'DejaVu Sans Mono',consolas,'Courier New',monospace\">\n",
       "</pre>\n"
      ],
      "text/plain": [
       "\n"
      ]
     },
     "metadata": {},
     "output_type": "display_data"
    },
    {
     "data": {
      "application/vnd.jupyter.widget-view+json": {
       "model_id": "08e69eb40f214aa8b35684760fc13e64",
       "version_major": 2,
       "version_minor": 0
      },
      "text/plain": [
       "Output()"
      ]
     },
     "metadata": {},
     "output_type": "display_data"
    },
    {
     "data": {
      "text/html": [
       "<pre style=\"white-space:pre;overflow-x:auto;line-height:normal;font-family:Menlo,'DejaVu Sans Mono',consolas,'Courier New',monospace\"></pre>\n"
      ],
      "text/plain": []
     },
     "metadata": {},
     "output_type": "display_data"
    },
    {
     "data": {
      "text/html": [
       "<pre style=\"white-space:pre;overflow-x:auto;line-height:normal;font-family:Menlo,'DejaVu Sans Mono',consolas,'Courier New',monospace\">\n",
       "</pre>\n"
      ],
      "text/plain": [
       "\n"
      ]
     },
     "metadata": {},
     "output_type": "display_data"
    },
    {
     "data": {
      "application/vnd.jupyter.widget-view+json": {
       "model_id": "f82af02aeb02495c8ff815ecfeb227cd",
       "version_major": 2,
       "version_minor": 0
      },
      "text/plain": [
       "Output()"
      ]
     },
     "metadata": {},
     "output_type": "display_data"
    },
    {
     "data": {
      "text/html": [
       "<pre style=\"white-space:pre;overflow-x:auto;line-height:normal;font-family:Menlo,'DejaVu Sans Mono',consolas,'Courier New',monospace\"></pre>\n"
      ],
      "text/plain": []
     },
     "metadata": {},
     "output_type": "display_data"
    },
    {
     "data": {
      "text/html": [
       "<pre style=\"white-space:pre;overflow-x:auto;line-height:normal;font-family:Menlo,'DejaVu Sans Mono',consolas,'Courier New',monospace\">\n",
       "</pre>\n"
      ],
      "text/plain": [
       "\n"
      ]
     },
     "metadata": {},
     "output_type": "display_data"
    },
    {
     "data": {
      "application/vnd.jupyter.widget-view+json": {
       "model_id": "9c973244ae954e76a40f4ad49ca34e8e",
       "version_major": 2,
       "version_minor": 0
      },
      "text/plain": [
       "Output()"
      ]
     },
     "metadata": {},
     "output_type": "display_data"
    },
    {
     "data": {
      "text/html": [
       "<pre style=\"white-space:pre;overflow-x:auto;line-height:normal;font-family:Menlo,'DejaVu Sans Mono',consolas,'Courier New',monospace\"></pre>\n"
      ],
      "text/plain": []
     },
     "metadata": {},
     "output_type": "display_data"
    },
    {
     "data": {
      "text/html": [
       "<pre style=\"white-space:pre;overflow-x:auto;line-height:normal;font-family:Menlo,'DejaVu Sans Mono',consolas,'Courier New',monospace\">\n",
       "</pre>\n"
      ],
      "text/plain": [
       "\n"
      ]
     },
     "metadata": {},
     "output_type": "display_data"
    },
    {
     "data": {
      "application/vnd.jupyter.widget-view+json": {
       "model_id": "f829a337d6e846aaa24046e2a3444ad6",
       "version_major": 2,
       "version_minor": 0
      },
      "text/plain": [
       "Output()"
      ]
     },
     "metadata": {},
     "output_type": "display_data"
    },
    {
     "data": {
      "text/html": [
       "<pre style=\"white-space:pre;overflow-x:auto;line-height:normal;font-family:Menlo,'DejaVu Sans Mono',consolas,'Courier New',monospace\"></pre>\n"
      ],
      "text/plain": []
     },
     "metadata": {},
     "output_type": "display_data"
    },
    {
     "data": {
      "text/html": [
       "<pre style=\"white-space:pre;overflow-x:auto;line-height:normal;font-family:Menlo,'DejaVu Sans Mono',consolas,'Courier New',monospace\">\n",
       "</pre>\n"
      ],
      "text/plain": [
       "\n"
      ]
     },
     "metadata": {},
     "output_type": "display_data"
    },
    {
     "data": {
      "application/vnd.jupyter.widget-view+json": {
       "model_id": "cdbc92e547834b69ab94eb455ab74c9f",
       "version_major": 2,
       "version_minor": 0
      },
      "text/plain": [
       "Output()"
      ]
     },
     "metadata": {},
     "output_type": "display_data"
    },
    {
     "data": {
      "text/html": [
       "<pre style=\"white-space:pre;overflow-x:auto;line-height:normal;font-family:Menlo,'DejaVu Sans Mono',consolas,'Courier New',monospace\"></pre>\n"
      ],
      "text/plain": []
     },
     "metadata": {},
     "output_type": "display_data"
    },
    {
     "data": {
      "text/html": [
       "<pre style=\"white-space:pre;overflow-x:auto;line-height:normal;font-family:Menlo,'DejaVu Sans Mono',consolas,'Courier New',monospace\">\n",
       "</pre>\n"
      ],
      "text/plain": [
       "\n"
      ]
     },
     "metadata": {},
     "output_type": "display_data"
    },
    {
     "data": {
      "application/vnd.jupyter.widget-view+json": {
       "model_id": "f8915b320ee647ce98993f8ff0f7e52d",
       "version_major": 2,
       "version_minor": 0
      },
      "text/plain": [
       "Output()"
      ]
     },
     "metadata": {},
     "output_type": "display_data"
    },
    {
     "data": {
      "text/html": [
       "<pre style=\"white-space:pre;overflow-x:auto;line-height:normal;font-family:Menlo,'DejaVu Sans Mono',consolas,'Courier New',monospace\"></pre>\n"
      ],
      "text/plain": []
     },
     "metadata": {},
     "output_type": "display_data"
    },
    {
     "data": {
      "text/html": [
       "<pre style=\"white-space:pre;overflow-x:auto;line-height:normal;font-family:Menlo,'DejaVu Sans Mono',consolas,'Courier New',monospace\">\n",
       "</pre>\n"
      ],
      "text/plain": [
       "\n"
      ]
     },
     "metadata": {},
     "output_type": "display_data"
    },
    {
     "data": {
      "application/vnd.jupyter.widget-view+json": {
       "model_id": "a99f0ad1de2745fca037f46de3897a5c",
       "version_major": 2,
       "version_minor": 0
      },
      "text/plain": [
       "Output()"
      ]
     },
     "metadata": {},
     "output_type": "display_data"
    },
    {
     "data": {
      "text/html": [
       "<pre style=\"white-space:pre;overflow-x:auto;line-height:normal;font-family:Menlo,'DejaVu Sans Mono',consolas,'Courier New',monospace\"></pre>\n"
      ],
      "text/plain": []
     },
     "metadata": {},
     "output_type": "display_data"
    },
    {
     "data": {
      "text/html": [
       "<pre style=\"white-space:pre;overflow-x:auto;line-height:normal;font-family:Menlo,'DejaVu Sans Mono',consolas,'Courier New',monospace\">\n",
       "</pre>\n"
      ],
      "text/plain": [
       "\n"
      ]
     },
     "metadata": {},
     "output_type": "display_data"
    },
    {
     "data": {
      "application/vnd.jupyter.widget-view+json": {
       "model_id": "ff4a7f9cfc7d49bca1d1dec7a78e3d3f",
       "version_major": 2,
       "version_minor": 0
      },
      "text/plain": [
       "Output()"
      ]
     },
     "metadata": {},
     "output_type": "display_data"
    },
    {
     "data": {
      "text/html": [
       "<pre style=\"white-space:pre;overflow-x:auto;line-height:normal;font-family:Menlo,'DejaVu Sans Mono',consolas,'Courier New',monospace\"></pre>\n"
      ],
      "text/plain": []
     },
     "metadata": {},
     "output_type": "display_data"
    },
    {
     "data": {
      "text/html": [
       "<pre style=\"white-space:pre;overflow-x:auto;line-height:normal;font-family:Menlo,'DejaVu Sans Mono',consolas,'Courier New',monospace\">\n",
       "</pre>\n"
      ],
      "text/plain": [
       "\n"
      ]
     },
     "metadata": {},
     "output_type": "display_data"
    },
    {
     "data": {
      "application/vnd.jupyter.widget-view+json": {
       "model_id": "f3aa1de2fee34706a30c30ca76994698",
       "version_major": 2,
       "version_minor": 0
      },
      "text/plain": [
       "Output()"
      ]
     },
     "metadata": {},
     "output_type": "display_data"
    },
    {
     "data": {
      "text/html": [
       "<pre style=\"white-space:pre;overflow-x:auto;line-height:normal;font-family:Menlo,'DejaVu Sans Mono',consolas,'Courier New',monospace\"></pre>\n"
      ],
      "text/plain": []
     },
     "metadata": {},
     "output_type": "display_data"
    },
    {
     "data": {
      "text/html": [
       "<pre style=\"white-space:pre;overflow-x:auto;line-height:normal;font-family:Menlo,'DejaVu Sans Mono',consolas,'Courier New',monospace\">\n",
       "</pre>\n"
      ],
      "text/plain": [
       "\n"
      ]
     },
     "metadata": {},
     "output_type": "display_data"
    },
    {
     "data": {
      "application/vnd.jupyter.widget-view+json": {
       "model_id": "c8c0928bb27a4a4fa9791b0d2d7aede1",
       "version_major": 2,
       "version_minor": 0
      },
      "text/plain": [
       "Output()"
      ]
     },
     "metadata": {},
     "output_type": "display_data"
    },
    {
     "data": {
      "text/html": [
       "<pre style=\"white-space:pre;overflow-x:auto;line-height:normal;font-family:Menlo,'DejaVu Sans Mono',consolas,'Courier New',monospace\"></pre>\n"
      ],
      "text/plain": []
     },
     "metadata": {},
     "output_type": "display_data"
    },
    {
     "data": {
      "text/html": [
       "<pre style=\"white-space:pre;overflow-x:auto;line-height:normal;font-family:Menlo,'DejaVu Sans Mono',consolas,'Courier New',monospace\">\n",
       "</pre>\n"
      ],
      "text/plain": [
       "\n"
      ]
     },
     "metadata": {},
     "output_type": "display_data"
    },
    {
     "data": {
      "application/vnd.jupyter.widget-view+json": {
       "model_id": "ffb01a8318154013805e298f61cea0ae",
       "version_major": 2,
       "version_minor": 0
      },
      "text/plain": [
       "Output()"
      ]
     },
     "metadata": {},
     "output_type": "display_data"
    },
    {
     "data": {
      "text/html": [
       "<pre style=\"white-space:pre;overflow-x:auto;line-height:normal;font-family:Menlo,'DejaVu Sans Mono',consolas,'Courier New',monospace\"></pre>\n"
      ],
      "text/plain": []
     },
     "metadata": {},
     "output_type": "display_data"
    },
    {
     "data": {
      "text/html": [
       "<pre style=\"white-space:pre;overflow-x:auto;line-height:normal;font-family:Menlo,'DejaVu Sans Mono',consolas,'Courier New',monospace\">\n",
       "</pre>\n"
      ],
      "text/plain": [
       "\n"
      ]
     },
     "metadata": {},
     "output_type": "display_data"
    },
    {
     "data": {
      "application/vnd.jupyter.widget-view+json": {
       "model_id": "2f3d2526d50449379a786cc2930eb07d",
       "version_major": 2,
       "version_minor": 0
      },
      "text/plain": [
       "Output()"
      ]
     },
     "metadata": {},
     "output_type": "display_data"
    },
    {
     "data": {
      "text/html": [
       "<pre style=\"white-space:pre;overflow-x:auto;line-height:normal;font-family:Menlo,'DejaVu Sans Mono',consolas,'Courier New',monospace\"></pre>\n"
      ],
      "text/plain": []
     },
     "metadata": {},
     "output_type": "display_data"
    },
    {
     "data": {
      "text/html": [
       "<pre style=\"white-space:pre;overflow-x:auto;line-height:normal;font-family:Menlo,'DejaVu Sans Mono',consolas,'Courier New',monospace\">\n",
       "</pre>\n"
      ],
      "text/plain": [
       "\n"
      ]
     },
     "metadata": {},
     "output_type": "display_data"
    },
    {
     "data": {
      "application/vnd.jupyter.widget-view+json": {
       "model_id": "88fe5bc3b0fa45f9917fe11856eff312",
       "version_major": 2,
       "version_minor": 0
      },
      "text/plain": [
       "Output()"
      ]
     },
     "metadata": {},
     "output_type": "display_data"
    },
    {
     "data": {
      "text/html": [
       "<pre style=\"white-space:pre;overflow-x:auto;line-height:normal;font-family:Menlo,'DejaVu Sans Mono',consolas,'Courier New',monospace\"></pre>\n"
      ],
      "text/plain": []
     },
     "metadata": {},
     "output_type": "display_data"
    },
    {
     "data": {
      "text/html": [
       "<pre style=\"white-space:pre;overflow-x:auto;line-height:normal;font-family:Menlo,'DejaVu Sans Mono',consolas,'Courier New',monospace\">\n",
       "</pre>\n"
      ],
      "text/plain": [
       "\n"
      ]
     },
     "metadata": {},
     "output_type": "display_data"
    },
    {
     "data": {
      "application/vnd.jupyter.widget-view+json": {
       "model_id": "8cfb89b18d324a029a88ad10475d412e",
       "version_major": 2,
       "version_minor": 0
      },
      "text/plain": [
       "Output()"
      ]
     },
     "metadata": {},
     "output_type": "display_data"
    },
    {
     "data": {
      "text/html": [
       "<pre style=\"white-space:pre;overflow-x:auto;line-height:normal;font-family:Menlo,'DejaVu Sans Mono',consolas,'Courier New',monospace\"></pre>\n"
      ],
      "text/plain": []
     },
     "metadata": {},
     "output_type": "display_data"
    },
    {
     "data": {
      "text/html": [
       "<pre style=\"white-space:pre;overflow-x:auto;line-height:normal;font-family:Menlo,'DejaVu Sans Mono',consolas,'Courier New',monospace\">\n",
       "</pre>\n"
      ],
      "text/plain": [
       "\n"
      ]
     },
     "metadata": {},
     "output_type": "display_data"
    },
    {
     "data": {
      "application/vnd.jupyter.widget-view+json": {
       "model_id": "0334c53157b54847acc9881485fe09ea",
       "version_major": 2,
       "version_minor": 0
      },
      "text/plain": [
       "Output()"
      ]
     },
     "metadata": {},
     "output_type": "display_data"
    },
    {
     "data": {
      "text/html": [
       "<pre style=\"white-space:pre;overflow-x:auto;line-height:normal;font-family:Menlo,'DejaVu Sans Mono',consolas,'Courier New',monospace\"></pre>\n"
      ],
      "text/plain": []
     },
     "metadata": {},
     "output_type": "display_data"
    },
    {
     "data": {
      "text/html": [
       "<pre style=\"white-space:pre;overflow-x:auto;line-height:normal;font-family:Menlo,'DejaVu Sans Mono',consolas,'Courier New',monospace\">\n",
       "</pre>\n"
      ],
      "text/plain": [
       "\n"
      ]
     },
     "metadata": {},
     "output_type": "display_data"
    },
    {
     "data": {
      "application/vnd.jupyter.widget-view+json": {
       "model_id": "a21e01cc8b7e464383ff4b4fd2b67887",
       "version_major": 2,
       "version_minor": 0
      },
      "text/plain": [
       "Output()"
      ]
     },
     "metadata": {},
     "output_type": "display_data"
    },
    {
     "data": {
      "text/html": [
       "<pre style=\"white-space:pre;overflow-x:auto;line-height:normal;font-family:Menlo,'DejaVu Sans Mono',consolas,'Courier New',monospace\"></pre>\n"
      ],
      "text/plain": []
     },
     "metadata": {},
     "output_type": "display_data"
    },
    {
     "data": {
      "text/html": [
       "<pre style=\"white-space:pre;overflow-x:auto;line-height:normal;font-family:Menlo,'DejaVu Sans Mono',consolas,'Courier New',monospace\">\n",
       "</pre>\n"
      ],
      "text/plain": [
       "\n"
      ]
     },
     "metadata": {},
     "output_type": "display_data"
    },
    {
     "data": {
      "application/vnd.jupyter.widget-view+json": {
       "model_id": "3dddd34b9cb84e878a75575fed137e49",
       "version_major": 2,
       "version_minor": 0
      },
      "text/plain": [
       "Output()"
      ]
     },
     "metadata": {},
     "output_type": "display_data"
    },
    {
     "data": {
      "text/html": [
       "<pre style=\"white-space:pre;overflow-x:auto;line-height:normal;font-family:Menlo,'DejaVu Sans Mono',consolas,'Courier New',monospace\"></pre>\n"
      ],
      "text/plain": []
     },
     "metadata": {},
     "output_type": "display_data"
    },
    {
     "data": {
      "text/html": [
       "<pre style=\"white-space:pre;overflow-x:auto;line-height:normal;font-family:Menlo,'DejaVu Sans Mono',consolas,'Courier New',monospace\">\n",
       "</pre>\n"
      ],
      "text/plain": [
       "\n"
      ]
     },
     "metadata": {},
     "output_type": "display_data"
    },
    {
     "data": {
      "application/vnd.jupyter.widget-view+json": {
       "model_id": "0e9e8ddbdca241288678509b2d30b4db",
       "version_major": 2,
       "version_minor": 0
      },
      "text/plain": [
       "Output()"
      ]
     },
     "metadata": {},
     "output_type": "display_data"
    },
    {
     "data": {
      "text/html": [
       "<pre style=\"white-space:pre;overflow-x:auto;line-height:normal;font-family:Menlo,'DejaVu Sans Mono',consolas,'Courier New',monospace\"></pre>\n"
      ],
      "text/plain": []
     },
     "metadata": {},
     "output_type": "display_data"
    },
    {
     "data": {
      "text/html": [
       "<pre style=\"white-space:pre;overflow-x:auto;line-height:normal;font-family:Menlo,'DejaVu Sans Mono',consolas,'Courier New',monospace\">\n",
       "</pre>\n"
      ],
      "text/plain": [
       "\n"
      ]
     },
     "metadata": {},
     "output_type": "display_data"
    },
    {
     "data": {
      "application/vnd.jupyter.widget-view+json": {
       "model_id": "b085105fc3c64c9cbd18a2458b94f2a5",
       "version_major": 2,
       "version_minor": 0
      },
      "text/plain": [
       "Output()"
      ]
     },
     "metadata": {},
     "output_type": "display_data"
    },
    {
     "data": {
      "text/html": [
       "<pre style=\"white-space:pre;overflow-x:auto;line-height:normal;font-family:Menlo,'DejaVu Sans Mono',consolas,'Courier New',monospace\"></pre>\n"
      ],
      "text/plain": []
     },
     "metadata": {},
     "output_type": "display_data"
    },
    {
     "data": {
      "text/html": [
       "<pre style=\"white-space:pre;overflow-x:auto;line-height:normal;font-family:Menlo,'DejaVu Sans Mono',consolas,'Courier New',monospace\">\n",
       "</pre>\n"
      ],
      "text/plain": [
       "\n"
      ]
     },
     "metadata": {},
     "output_type": "display_data"
    },
    {
     "data": {
      "application/vnd.jupyter.widget-view+json": {
       "model_id": "5ff3aff0641f4173ba9d49de80f6b528",
       "version_major": 2,
       "version_minor": 0
      },
      "text/plain": [
       "Output()"
      ]
     },
     "metadata": {},
     "output_type": "display_data"
    },
    {
     "data": {
      "text/html": [
       "<pre style=\"white-space:pre;overflow-x:auto;line-height:normal;font-family:Menlo,'DejaVu Sans Mono',consolas,'Courier New',monospace\"></pre>\n"
      ],
      "text/plain": []
     },
     "metadata": {},
     "output_type": "display_data"
    },
    {
     "data": {
      "text/html": [
       "<pre style=\"white-space:pre;overflow-x:auto;line-height:normal;font-family:Menlo,'DejaVu Sans Mono',consolas,'Courier New',monospace\">\n",
       "</pre>\n"
      ],
      "text/plain": [
       "\n"
      ]
     },
     "metadata": {},
     "output_type": "display_data"
    },
    {
     "data": {
      "application/vnd.jupyter.widget-view+json": {
       "model_id": "9e33613dcc2c45af9ac35ef83bebf7d0",
       "version_major": 2,
       "version_minor": 0
      },
      "text/plain": [
       "Output()"
      ]
     },
     "metadata": {},
     "output_type": "display_data"
    },
    {
     "data": {
      "text/html": [
       "<pre style=\"white-space:pre;overflow-x:auto;line-height:normal;font-family:Menlo,'DejaVu Sans Mono',consolas,'Courier New',monospace\"></pre>\n"
      ],
      "text/plain": []
     },
     "metadata": {},
     "output_type": "display_data"
    },
    {
     "data": {
      "text/html": [
       "<pre style=\"white-space:pre;overflow-x:auto;line-height:normal;font-family:Menlo,'DejaVu Sans Mono',consolas,'Courier New',monospace\">\n",
       "</pre>\n"
      ],
      "text/plain": [
       "\n"
      ]
     },
     "metadata": {},
     "output_type": "display_data"
    },
    {
     "data": {
      "application/vnd.jupyter.widget-view+json": {
       "model_id": "f869f4da912a4c8a9020e0a6ef15d7d0",
       "version_major": 2,
       "version_minor": 0
      },
      "text/plain": [
       "Output()"
      ]
     },
     "metadata": {},
     "output_type": "display_data"
    },
    {
     "data": {
      "text/html": [
       "<pre style=\"white-space:pre;overflow-x:auto;line-height:normal;font-family:Menlo,'DejaVu Sans Mono',consolas,'Courier New',monospace\"></pre>\n"
      ],
      "text/plain": []
     },
     "metadata": {},
     "output_type": "display_data"
    },
    {
     "data": {
      "text/html": [
       "<pre style=\"white-space:pre;overflow-x:auto;line-height:normal;font-family:Menlo,'DejaVu Sans Mono',consolas,'Courier New',monospace\">\n",
       "</pre>\n"
      ],
      "text/plain": [
       "\n"
      ]
     },
     "metadata": {},
     "output_type": "display_data"
    },
    {
     "data": {
      "application/vnd.jupyter.widget-view+json": {
       "model_id": "7888a2505ff1455eae49a37f36e2edb8",
       "version_major": 2,
       "version_minor": 0
      },
      "text/plain": [
       "Output()"
      ]
     },
     "metadata": {},
     "output_type": "display_data"
    },
    {
     "data": {
      "text/html": [
       "<pre style=\"white-space:pre;overflow-x:auto;line-height:normal;font-family:Menlo,'DejaVu Sans Mono',consolas,'Courier New',monospace\"></pre>\n"
      ],
      "text/plain": []
     },
     "metadata": {},
     "output_type": "display_data"
    },
    {
     "data": {
      "text/html": [
       "<pre style=\"white-space:pre;overflow-x:auto;line-height:normal;font-family:Menlo,'DejaVu Sans Mono',consolas,'Courier New',monospace\">\n",
       "</pre>\n"
      ],
      "text/plain": [
       "\n"
      ]
     },
     "metadata": {},
     "output_type": "display_data"
    },
    {
     "data": {
      "application/vnd.jupyter.widget-view+json": {
       "model_id": "55a8dc3ddb14430ea9f3ba8a1843d1ed",
       "version_major": 2,
       "version_minor": 0
      },
      "text/plain": [
       "Output()"
      ]
     },
     "metadata": {},
     "output_type": "display_data"
    },
    {
     "data": {
      "text/html": [
       "<pre style=\"white-space:pre;overflow-x:auto;line-height:normal;font-family:Menlo,'DejaVu Sans Mono',consolas,'Courier New',monospace\"></pre>\n"
      ],
      "text/plain": []
     },
     "metadata": {},
     "output_type": "display_data"
    },
    {
     "data": {
      "text/html": [
       "<pre style=\"white-space:pre;overflow-x:auto;line-height:normal;font-family:Menlo,'DejaVu Sans Mono',consolas,'Courier New',monospace\">\n",
       "</pre>\n"
      ],
      "text/plain": [
       "\n"
      ]
     },
     "metadata": {},
     "output_type": "display_data"
    },
    {
     "data": {
      "application/vnd.jupyter.widget-view+json": {
       "model_id": "7896180389c04c4da6de81cb66e4ca9a",
       "version_major": 2,
       "version_minor": 0
      },
      "text/plain": [
       "Output()"
      ]
     },
     "metadata": {},
     "output_type": "display_data"
    },
    {
     "data": {
      "text/html": [
       "<pre style=\"white-space:pre;overflow-x:auto;line-height:normal;font-family:Menlo,'DejaVu Sans Mono',consolas,'Courier New',monospace\"></pre>\n"
      ],
      "text/plain": []
     },
     "metadata": {},
     "output_type": "display_data"
    },
    {
     "data": {
      "text/html": [
       "<pre style=\"white-space:pre;overflow-x:auto;line-height:normal;font-family:Menlo,'DejaVu Sans Mono',consolas,'Courier New',monospace\">\n",
       "</pre>\n"
      ],
      "text/plain": [
       "\n"
      ]
     },
     "metadata": {},
     "output_type": "display_data"
    },
    {
     "data": {
      "application/vnd.jupyter.widget-view+json": {
       "model_id": "5ece35ee75374448ad0dec6fa8235e4f",
       "version_major": 2,
       "version_minor": 0
      },
      "text/plain": [
       "Output()"
      ]
     },
     "metadata": {},
     "output_type": "display_data"
    },
    {
     "data": {
      "text/html": [
       "<pre style=\"white-space:pre;overflow-x:auto;line-height:normal;font-family:Menlo,'DejaVu Sans Mono',consolas,'Courier New',monospace\"></pre>\n"
      ],
      "text/plain": []
     },
     "metadata": {},
     "output_type": "display_data"
    },
    {
     "data": {
      "text/html": [
       "<pre style=\"white-space:pre;overflow-x:auto;line-height:normal;font-family:Menlo,'DejaVu Sans Mono',consolas,'Courier New',monospace\">\n",
       "</pre>\n"
      ],
      "text/plain": [
       "\n"
      ]
     },
     "metadata": {},
     "output_type": "display_data"
    },
    {
     "data": {
      "application/vnd.jupyter.widget-view+json": {
       "model_id": "7e395f39d5d7468ea55da3a93c5be727",
       "version_major": 2,
       "version_minor": 0
      },
      "text/plain": [
       "Output()"
      ]
     },
     "metadata": {},
     "output_type": "display_data"
    },
    {
     "data": {
      "text/html": [
       "<pre style=\"white-space:pre;overflow-x:auto;line-height:normal;font-family:Menlo,'DejaVu Sans Mono',consolas,'Courier New',monospace\"></pre>\n"
      ],
      "text/plain": []
     },
     "metadata": {},
     "output_type": "display_data"
    },
    {
     "data": {
      "text/html": [
       "<pre style=\"white-space:pre;overflow-x:auto;line-height:normal;font-family:Menlo,'DejaVu Sans Mono',consolas,'Courier New',monospace\">\n",
       "</pre>\n"
      ],
      "text/plain": [
       "\n"
      ]
     },
     "metadata": {},
     "output_type": "display_data"
    },
    {
     "data": {
      "application/vnd.jupyter.widget-view+json": {
       "model_id": "73dd5b6139e442838be55273cc9c1c33",
       "version_major": 2,
       "version_minor": 0
      },
      "text/plain": [
       "Output()"
      ]
     },
     "metadata": {},
     "output_type": "display_data"
    },
    {
     "data": {
      "text/html": [
       "<pre style=\"white-space:pre;overflow-x:auto;line-height:normal;font-family:Menlo,'DejaVu Sans Mono',consolas,'Courier New',monospace\"></pre>\n"
      ],
      "text/plain": []
     },
     "metadata": {},
     "output_type": "display_data"
    },
    {
     "data": {
      "text/html": [
       "<pre style=\"white-space:pre;overflow-x:auto;line-height:normal;font-family:Menlo,'DejaVu Sans Mono',consolas,'Courier New',monospace\">\n",
       "</pre>\n"
      ],
      "text/plain": [
       "\n"
      ]
     },
     "metadata": {},
     "output_type": "display_data"
    },
    {
     "data": {
      "application/vnd.jupyter.widget-view+json": {
       "model_id": "7409f5ba517847fd98c1ea0708dd4f66",
       "version_major": 2,
       "version_minor": 0
      },
      "text/plain": [
       "Output()"
      ]
     },
     "metadata": {},
     "output_type": "display_data"
    },
    {
     "data": {
      "text/html": [
       "<pre style=\"white-space:pre;overflow-x:auto;line-height:normal;font-family:Menlo,'DejaVu Sans Mono',consolas,'Courier New',monospace\"></pre>\n"
      ],
      "text/plain": []
     },
     "metadata": {},
     "output_type": "display_data"
    },
    {
     "data": {
      "text/html": [
       "<pre style=\"white-space:pre;overflow-x:auto;line-height:normal;font-family:Menlo,'DejaVu Sans Mono',consolas,'Courier New',monospace\">\n",
       "</pre>\n"
      ],
      "text/plain": [
       "\n"
      ]
     },
     "metadata": {},
     "output_type": "display_data"
    },
    {
     "data": {
      "application/vnd.jupyter.widget-view+json": {
       "model_id": "d085a8dbf9df4fdea8bc280c98dca9ef",
       "version_major": 2,
       "version_minor": 0
      },
      "text/plain": [
       "Output()"
      ]
     },
     "metadata": {},
     "output_type": "display_data"
    },
    {
     "data": {
      "text/html": [
       "<pre style=\"white-space:pre;overflow-x:auto;line-height:normal;font-family:Menlo,'DejaVu Sans Mono',consolas,'Courier New',monospace\"></pre>\n"
      ],
      "text/plain": []
     },
     "metadata": {},
     "output_type": "display_data"
    },
    {
     "data": {
      "text/html": [
       "<pre style=\"white-space:pre;overflow-x:auto;line-height:normal;font-family:Menlo,'DejaVu Sans Mono',consolas,'Courier New',monospace\">\n",
       "</pre>\n"
      ],
      "text/plain": [
       "\n"
      ]
     },
     "metadata": {},
     "output_type": "display_data"
    },
    {
     "data": {
      "application/vnd.jupyter.widget-view+json": {
       "model_id": "802a2bd7e27441cfb36099541b9c3a0e",
       "version_major": 2,
       "version_minor": 0
      },
      "text/plain": [
       "Output()"
      ]
     },
     "metadata": {},
     "output_type": "display_data"
    },
    {
     "data": {
      "text/html": [
       "<pre style=\"white-space:pre;overflow-x:auto;line-height:normal;font-family:Menlo,'DejaVu Sans Mono',consolas,'Courier New',monospace\"></pre>\n"
      ],
      "text/plain": []
     },
     "metadata": {},
     "output_type": "display_data"
    },
    {
     "data": {
      "text/html": [
       "<pre style=\"white-space:pre;overflow-x:auto;line-height:normal;font-family:Menlo,'DejaVu Sans Mono',consolas,'Courier New',monospace\">\n",
       "</pre>\n"
      ],
      "text/plain": [
       "\n"
      ]
     },
     "metadata": {},
     "output_type": "display_data"
    },
    {
     "data": {
      "application/vnd.jupyter.widget-view+json": {
       "model_id": "603cd93bdf1e47e98a0a5183655c5748",
       "version_major": 2,
       "version_minor": 0
      },
      "text/plain": [
       "Output()"
      ]
     },
     "metadata": {},
     "output_type": "display_data"
    },
    {
     "data": {
      "text/html": [
       "<pre style=\"white-space:pre;overflow-x:auto;line-height:normal;font-family:Menlo,'DejaVu Sans Mono',consolas,'Courier New',monospace\"></pre>\n"
      ],
      "text/plain": []
     },
     "metadata": {},
     "output_type": "display_data"
    },
    {
     "data": {
      "text/html": [
       "<pre style=\"white-space:pre;overflow-x:auto;line-height:normal;font-family:Menlo,'DejaVu Sans Mono',consolas,'Courier New',monospace\">\n",
       "</pre>\n"
      ],
      "text/plain": [
       "\n"
      ]
     },
     "metadata": {},
     "output_type": "display_data"
    },
    {
     "data": {
      "application/vnd.jupyter.widget-view+json": {
       "model_id": "2aa0c09594e144d49c18ad01c9219eb4",
       "version_major": 2,
       "version_minor": 0
      },
      "text/plain": [
       "Output()"
      ]
     },
     "metadata": {},
     "output_type": "display_data"
    },
    {
     "data": {
      "text/html": [
       "<pre style=\"white-space:pre;overflow-x:auto;line-height:normal;font-family:Menlo,'DejaVu Sans Mono',consolas,'Courier New',monospace\"></pre>\n"
      ],
      "text/plain": []
     },
     "metadata": {},
     "output_type": "display_data"
    },
    {
     "data": {
      "text/html": [
       "<pre style=\"white-space:pre;overflow-x:auto;line-height:normal;font-family:Menlo,'DejaVu Sans Mono',consolas,'Courier New',monospace\">\n",
       "</pre>\n"
      ],
      "text/plain": [
       "\n"
      ]
     },
     "metadata": {},
     "output_type": "display_data"
    },
    {
     "data": {
      "application/vnd.jupyter.widget-view+json": {
       "model_id": "2a0e5e815e3349eb814eda82c0e40caf",
       "version_major": 2,
       "version_minor": 0
      },
      "text/plain": [
       "Output()"
      ]
     },
     "metadata": {},
     "output_type": "display_data"
    },
    {
     "data": {
      "text/html": [
       "<pre style=\"white-space:pre;overflow-x:auto;line-height:normal;font-family:Menlo,'DejaVu Sans Mono',consolas,'Courier New',monospace\"></pre>\n"
      ],
      "text/plain": []
     },
     "metadata": {},
     "output_type": "display_data"
    },
    {
     "data": {
      "text/html": [
       "<pre style=\"white-space:pre;overflow-x:auto;line-height:normal;font-family:Menlo,'DejaVu Sans Mono',consolas,'Courier New',monospace\">\n",
       "</pre>\n"
      ],
      "text/plain": [
       "\n"
      ]
     },
     "metadata": {},
     "output_type": "display_data"
    },
    {
     "data": {
      "application/vnd.jupyter.widget-view+json": {
       "model_id": "68666149d05f4031bc4d6eeed0a6ed46",
       "version_major": 2,
       "version_minor": 0
      },
      "text/plain": [
       "Output()"
      ]
     },
     "metadata": {},
     "output_type": "display_data"
    },
    {
     "data": {
      "text/html": [
       "<pre style=\"white-space:pre;overflow-x:auto;line-height:normal;font-family:Menlo,'DejaVu Sans Mono',consolas,'Courier New',monospace\"></pre>\n"
      ],
      "text/plain": []
     },
     "metadata": {},
     "output_type": "display_data"
    },
    {
     "data": {
      "text/html": [
       "<pre style=\"white-space:pre;overflow-x:auto;line-height:normal;font-family:Menlo,'DejaVu Sans Mono',consolas,'Courier New',monospace\">\n",
       "</pre>\n"
      ],
      "text/plain": [
       "\n"
      ]
     },
     "metadata": {},
     "output_type": "display_data"
    },
    {
     "data": {
      "application/vnd.jupyter.widget-view+json": {
       "model_id": "c27a09c86c5d4e7786dc93fc6d5f6322",
       "version_major": 2,
       "version_minor": 0
      },
      "text/plain": [
       "Output()"
      ]
     },
     "metadata": {},
     "output_type": "display_data"
    },
    {
     "data": {
      "text/html": [
       "<pre style=\"white-space:pre;overflow-x:auto;line-height:normal;font-family:Menlo,'DejaVu Sans Mono',consolas,'Courier New',monospace\"></pre>\n"
      ],
      "text/plain": []
     },
     "metadata": {},
     "output_type": "display_data"
    },
    {
     "data": {
      "text/html": [
       "<pre style=\"white-space:pre;overflow-x:auto;line-height:normal;font-family:Menlo,'DejaVu Sans Mono',consolas,'Courier New',monospace\">\n",
       "</pre>\n"
      ],
      "text/plain": [
       "\n"
      ]
     },
     "metadata": {},
     "output_type": "display_data"
    },
    {
     "data": {
      "application/vnd.jupyter.widget-view+json": {
       "model_id": "001e065bdbfe41b3ad6a0df092ed0f1a",
       "version_major": 2,
       "version_minor": 0
      },
      "text/plain": [
       "Output()"
      ]
     },
     "metadata": {},
     "output_type": "display_data"
    },
    {
     "data": {
      "text/html": [
       "<pre style=\"white-space:pre;overflow-x:auto;line-height:normal;font-family:Menlo,'DejaVu Sans Mono',consolas,'Courier New',monospace\"></pre>\n"
      ],
      "text/plain": []
     },
     "metadata": {},
     "output_type": "display_data"
    },
    {
     "data": {
      "text/html": [
       "<pre style=\"white-space:pre;overflow-x:auto;line-height:normal;font-family:Menlo,'DejaVu Sans Mono',consolas,'Courier New',monospace\">\n",
       "</pre>\n"
      ],
      "text/plain": [
       "\n"
      ]
     },
     "metadata": {},
     "output_type": "display_data"
    },
    {
     "data": {
      "application/vnd.jupyter.widget-view+json": {
       "model_id": "297d4ef85bdf485a84d4b390442ffd92",
       "version_major": 2,
       "version_minor": 0
      },
      "text/plain": [
       "Output()"
      ]
     },
     "metadata": {},
     "output_type": "display_data"
    },
    {
     "data": {
      "text/html": [
       "<pre style=\"white-space:pre;overflow-x:auto;line-height:normal;font-family:Menlo,'DejaVu Sans Mono',consolas,'Courier New',monospace\"></pre>\n"
      ],
      "text/plain": []
     },
     "metadata": {},
     "output_type": "display_data"
    },
    {
     "data": {
      "text/html": [
       "<pre style=\"white-space:pre;overflow-x:auto;line-height:normal;font-family:Menlo,'DejaVu Sans Mono',consolas,'Courier New',monospace\">\n",
       "</pre>\n"
      ],
      "text/plain": [
       "\n"
      ]
     },
     "metadata": {},
     "output_type": "display_data"
    },
    {
     "data": {
      "application/vnd.jupyter.widget-view+json": {
       "model_id": "efeb4ce0c68845fc88fb13d1dabbe64e",
       "version_major": 2,
       "version_minor": 0
      },
      "text/plain": [
       "Output()"
      ]
     },
     "metadata": {},
     "output_type": "display_data"
    },
    {
     "data": {
      "text/html": [
       "<pre style=\"white-space:pre;overflow-x:auto;line-height:normal;font-family:Menlo,'DejaVu Sans Mono',consolas,'Courier New',monospace\"></pre>\n"
      ],
      "text/plain": []
     },
     "metadata": {},
     "output_type": "display_data"
    },
    {
     "data": {
      "text/html": [
       "<pre style=\"white-space:pre;overflow-x:auto;line-height:normal;font-family:Menlo,'DejaVu Sans Mono',consolas,'Courier New',monospace\">\n",
       "</pre>\n"
      ],
      "text/plain": [
       "\n"
      ]
     },
     "metadata": {},
     "output_type": "display_data"
    },
    {
     "data": {
      "application/vnd.jupyter.widget-view+json": {
       "model_id": "c70b500aa9864dcba611e80ff43405d4",
       "version_major": 2,
       "version_minor": 0
      },
      "text/plain": [
       "Output()"
      ]
     },
     "metadata": {},
     "output_type": "display_data"
    },
    {
     "data": {
      "text/html": [
       "<pre style=\"white-space:pre;overflow-x:auto;line-height:normal;font-family:Menlo,'DejaVu Sans Mono',consolas,'Courier New',monospace\"></pre>\n"
      ],
      "text/plain": []
     },
     "metadata": {},
     "output_type": "display_data"
    },
    {
     "data": {
      "text/html": [
       "<pre style=\"white-space:pre;overflow-x:auto;line-height:normal;font-family:Menlo,'DejaVu Sans Mono',consolas,'Courier New',monospace\">\n",
       "</pre>\n"
      ],
      "text/plain": [
       "\n"
      ]
     },
     "metadata": {},
     "output_type": "display_data"
    },
    {
     "data": {
      "application/vnd.jupyter.widget-view+json": {
       "model_id": "3fb61bb180f2485da4bfbdc13952caed",
       "version_major": 2,
       "version_minor": 0
      },
      "text/plain": [
       "Output()"
      ]
     },
     "metadata": {},
     "output_type": "display_data"
    },
    {
     "data": {
      "text/html": [
       "<pre style=\"white-space:pre;overflow-x:auto;line-height:normal;font-family:Menlo,'DejaVu Sans Mono',consolas,'Courier New',monospace\"></pre>\n"
      ],
      "text/plain": []
     },
     "metadata": {},
     "output_type": "display_data"
    },
    {
     "data": {
      "text/html": [
       "<pre style=\"white-space:pre;overflow-x:auto;line-height:normal;font-family:Menlo,'DejaVu Sans Mono',consolas,'Courier New',monospace\">\n",
       "</pre>\n"
      ],
      "text/plain": [
       "\n"
      ]
     },
     "metadata": {},
     "output_type": "display_data"
    },
    {
     "data": {
      "application/vnd.jupyter.widget-view+json": {
       "model_id": "5c62eca5b6874b269c364be0db5547bc",
       "version_major": 2,
       "version_minor": 0
      },
      "text/plain": [
       "Output()"
      ]
     },
     "metadata": {},
     "output_type": "display_data"
    },
    {
     "data": {
      "text/html": [
       "<pre style=\"white-space:pre;overflow-x:auto;line-height:normal;font-family:Menlo,'DejaVu Sans Mono',consolas,'Courier New',monospace\"></pre>\n"
      ],
      "text/plain": []
     },
     "metadata": {},
     "output_type": "display_data"
    },
    {
     "data": {
      "text/html": [
       "<pre style=\"white-space:pre;overflow-x:auto;line-height:normal;font-family:Menlo,'DejaVu Sans Mono',consolas,'Courier New',monospace\">\n",
       "</pre>\n"
      ],
      "text/plain": [
       "\n"
      ]
     },
     "metadata": {},
     "output_type": "display_data"
    },
    {
     "data": {
      "application/vnd.jupyter.widget-view+json": {
       "model_id": "65de09ca8c3b4843b29874545a2e5e2d",
       "version_major": 2,
       "version_minor": 0
      },
      "text/plain": [
       "Output()"
      ]
     },
     "metadata": {},
     "output_type": "display_data"
    },
    {
     "data": {
      "text/html": [
       "<pre style=\"white-space:pre;overflow-x:auto;line-height:normal;font-family:Menlo,'DejaVu Sans Mono',consolas,'Courier New',monospace\"></pre>\n"
      ],
      "text/plain": []
     },
     "metadata": {},
     "output_type": "display_data"
    },
    {
     "data": {
      "text/html": [
       "<pre style=\"white-space:pre;overflow-x:auto;line-height:normal;font-family:Menlo,'DejaVu Sans Mono',consolas,'Courier New',monospace\">\n",
       "</pre>\n"
      ],
      "text/plain": [
       "\n"
      ]
     },
     "metadata": {},
     "output_type": "display_data"
    },
    {
     "data": {
      "application/vnd.jupyter.widget-view+json": {
       "model_id": "9f6c9af789354121baf0618496ea3454",
       "version_major": 2,
       "version_minor": 0
      },
      "text/plain": [
       "Output()"
      ]
     },
     "metadata": {},
     "output_type": "display_data"
    },
    {
     "data": {
      "text/html": [
       "<pre style=\"white-space:pre;overflow-x:auto;line-height:normal;font-family:Menlo,'DejaVu Sans Mono',consolas,'Courier New',monospace\"></pre>\n"
      ],
      "text/plain": []
     },
     "metadata": {},
     "output_type": "display_data"
    },
    {
     "data": {
      "text/html": [
       "<pre style=\"white-space:pre;overflow-x:auto;line-height:normal;font-family:Menlo,'DejaVu Sans Mono',consolas,'Courier New',monospace\">\n",
       "</pre>\n"
      ],
      "text/plain": [
       "\n"
      ]
     },
     "metadata": {},
     "output_type": "display_data"
    },
    {
     "data": {
      "application/vnd.jupyter.widget-view+json": {
       "model_id": "bf17f06d09ce4cc98e151e5af6bb95f2",
       "version_major": 2,
       "version_minor": 0
      },
      "text/plain": [
       "Output()"
      ]
     },
     "metadata": {},
     "output_type": "display_data"
    },
    {
     "data": {
      "text/html": [
       "<pre style=\"white-space:pre;overflow-x:auto;line-height:normal;font-family:Menlo,'DejaVu Sans Mono',consolas,'Courier New',monospace\"></pre>\n"
      ],
      "text/plain": []
     },
     "metadata": {},
     "output_type": "display_data"
    },
    {
     "data": {
      "text/html": [
       "<pre style=\"white-space:pre;overflow-x:auto;line-height:normal;font-family:Menlo,'DejaVu Sans Mono',consolas,'Courier New',monospace\">\n",
       "</pre>\n"
      ],
      "text/plain": [
       "\n"
      ]
     },
     "metadata": {},
     "output_type": "display_data"
    },
    {
     "data": {
      "application/vnd.jupyter.widget-view+json": {
       "model_id": "89475fc7601443bdb02320c7e626883b",
       "version_major": 2,
       "version_minor": 0
      },
      "text/plain": [
       "Output()"
      ]
     },
     "metadata": {},
     "output_type": "display_data"
    },
    {
     "data": {
      "text/html": [
       "<pre style=\"white-space:pre;overflow-x:auto;line-height:normal;font-family:Menlo,'DejaVu Sans Mono',consolas,'Courier New',monospace\"></pre>\n"
      ],
      "text/plain": []
     },
     "metadata": {},
     "output_type": "display_data"
    },
    {
     "data": {
      "text/html": [
       "<pre style=\"white-space:pre;overflow-x:auto;line-height:normal;font-family:Menlo,'DejaVu Sans Mono',consolas,'Courier New',monospace\">\n",
       "</pre>\n"
      ],
      "text/plain": [
       "\n"
      ]
     },
     "metadata": {},
     "output_type": "display_data"
    },
    {
     "data": {
      "application/vnd.jupyter.widget-view+json": {
       "model_id": "f867341e331543b8be742de9bbeec49d",
       "version_major": 2,
       "version_minor": 0
      },
      "text/plain": [
       "Output()"
      ]
     },
     "metadata": {},
     "output_type": "display_data"
    },
    {
     "data": {
      "text/html": [
       "<pre style=\"white-space:pre;overflow-x:auto;line-height:normal;font-family:Menlo,'DejaVu Sans Mono',consolas,'Courier New',monospace\"></pre>\n"
      ],
      "text/plain": []
     },
     "metadata": {},
     "output_type": "display_data"
    },
    {
     "data": {
      "text/html": [
       "<pre style=\"white-space:pre;overflow-x:auto;line-height:normal;font-family:Menlo,'DejaVu Sans Mono',consolas,'Courier New',monospace\">\n",
       "</pre>\n"
      ],
      "text/plain": [
       "\n"
      ]
     },
     "metadata": {},
     "output_type": "display_data"
    },
    {
     "data": {
      "application/vnd.jupyter.widget-view+json": {
       "model_id": "5f086e526383484c80068259d0ef9737",
       "version_major": 2,
       "version_minor": 0
      },
      "text/plain": [
       "Output()"
      ]
     },
     "metadata": {},
     "output_type": "display_data"
    },
    {
     "data": {
      "text/html": [
       "<pre style=\"white-space:pre;overflow-x:auto;line-height:normal;font-family:Menlo,'DejaVu Sans Mono',consolas,'Courier New',monospace\"></pre>\n"
      ],
      "text/plain": []
     },
     "metadata": {},
     "output_type": "display_data"
    },
    {
     "data": {
      "text/html": [
       "<pre style=\"white-space:pre;overflow-x:auto;line-height:normal;font-family:Menlo,'DejaVu Sans Mono',consolas,'Courier New',monospace\">\n",
       "</pre>\n"
      ],
      "text/plain": [
       "\n"
      ]
     },
     "metadata": {},
     "output_type": "display_data"
    },
    {
     "data": {
      "application/vnd.jupyter.widget-view+json": {
       "model_id": "2f26a5fd8f0b4f0faa9b9d46fa3aea3f",
       "version_major": 2,
       "version_minor": 0
      },
      "text/plain": [
       "Output()"
      ]
     },
     "metadata": {},
     "output_type": "display_data"
    },
    {
     "data": {
      "text/html": [
       "<pre style=\"white-space:pre;overflow-x:auto;line-height:normal;font-family:Menlo,'DejaVu Sans Mono',consolas,'Courier New',monospace\"></pre>\n"
      ],
      "text/plain": []
     },
     "metadata": {},
     "output_type": "display_data"
    },
    {
     "data": {
      "text/html": [
       "<pre style=\"white-space:pre;overflow-x:auto;line-height:normal;font-family:Menlo,'DejaVu Sans Mono',consolas,'Courier New',monospace\">\n",
       "</pre>\n"
      ],
      "text/plain": [
       "\n"
      ]
     },
     "metadata": {},
     "output_type": "display_data"
    },
    {
     "data": {
      "application/vnd.jupyter.widget-view+json": {
       "model_id": "186685a383224dcf9bad14ca124b5eb4",
       "version_major": 2,
       "version_minor": 0
      },
      "text/plain": [
       "Output()"
      ]
     },
     "metadata": {},
     "output_type": "display_data"
    },
    {
     "data": {
      "text/html": [
       "<pre style=\"white-space:pre;overflow-x:auto;line-height:normal;font-family:Menlo,'DejaVu Sans Mono',consolas,'Courier New',monospace\"></pre>\n"
      ],
      "text/plain": []
     },
     "metadata": {},
     "output_type": "display_data"
    },
    {
     "data": {
      "text/html": [
       "<pre style=\"white-space:pre;overflow-x:auto;line-height:normal;font-family:Menlo,'DejaVu Sans Mono',consolas,'Courier New',monospace\">\n",
       "</pre>\n"
      ],
      "text/plain": [
       "\n"
      ]
     },
     "metadata": {},
     "output_type": "display_data"
    },
    {
     "data": {
      "application/vnd.jupyter.widget-view+json": {
       "model_id": "c67b4bcf89ab41359554b58b1c1fd4f1",
       "version_major": 2,
       "version_minor": 0
      },
      "text/plain": [
       "Output()"
      ]
     },
     "metadata": {},
     "output_type": "display_data"
    },
    {
     "data": {
      "text/html": [
       "<pre style=\"white-space:pre;overflow-x:auto;line-height:normal;font-family:Menlo,'DejaVu Sans Mono',consolas,'Courier New',monospace\"></pre>\n"
      ],
      "text/plain": []
     },
     "metadata": {},
     "output_type": "display_data"
    },
    {
     "data": {
      "text/html": [
       "<pre style=\"white-space:pre;overflow-x:auto;line-height:normal;font-family:Menlo,'DejaVu Sans Mono',consolas,'Courier New',monospace\">\n",
       "</pre>\n"
      ],
      "text/plain": [
       "\n"
      ]
     },
     "metadata": {},
     "output_type": "display_data"
    },
    {
     "data": {
      "application/vnd.jupyter.widget-view+json": {
       "model_id": "d64dc44c4f6848e1b346dd9d1e8157bf",
       "version_major": 2,
       "version_minor": 0
      },
      "text/plain": [
       "Output()"
      ]
     },
     "metadata": {},
     "output_type": "display_data"
    },
    {
     "data": {
      "text/html": [
       "<pre style=\"white-space:pre;overflow-x:auto;line-height:normal;font-family:Menlo,'DejaVu Sans Mono',consolas,'Courier New',monospace\"></pre>\n"
      ],
      "text/plain": []
     },
     "metadata": {},
     "output_type": "display_data"
    },
    {
     "data": {
      "text/html": [
       "<pre style=\"white-space:pre;overflow-x:auto;line-height:normal;font-family:Menlo,'DejaVu Sans Mono',consolas,'Courier New',monospace\">\n",
       "</pre>\n"
      ],
      "text/plain": [
       "\n"
      ]
     },
     "metadata": {},
     "output_type": "display_data"
    },
    {
     "data": {
      "application/vnd.jupyter.widget-view+json": {
       "model_id": "377bb4fba4fa4f90a71351bf279e57c1",
       "version_major": 2,
       "version_minor": 0
      },
      "text/plain": [
       "Output()"
      ]
     },
     "metadata": {},
     "output_type": "display_data"
    },
    {
     "data": {
      "text/html": [
       "<pre style=\"white-space:pre;overflow-x:auto;line-height:normal;font-family:Menlo,'DejaVu Sans Mono',consolas,'Courier New',monospace\"></pre>\n"
      ],
      "text/plain": []
     },
     "metadata": {},
     "output_type": "display_data"
    },
    {
     "data": {
      "text/html": [
       "<pre style=\"white-space:pre;overflow-x:auto;line-height:normal;font-family:Menlo,'DejaVu Sans Mono',consolas,'Courier New',monospace\">\n",
       "</pre>\n"
      ],
      "text/plain": [
       "\n"
      ]
     },
     "metadata": {},
     "output_type": "display_data"
    },
    {
     "data": {
      "application/vnd.jupyter.widget-view+json": {
       "model_id": "fece5c8ba1714444a837ae68f96d0fb0",
       "version_major": 2,
       "version_minor": 0
      },
      "text/plain": [
       "Output()"
      ]
     },
     "metadata": {},
     "output_type": "display_data"
    },
    {
     "data": {
      "text/html": [
       "<pre style=\"white-space:pre;overflow-x:auto;line-height:normal;font-family:Menlo,'DejaVu Sans Mono',consolas,'Courier New',monospace\"></pre>\n"
      ],
      "text/plain": []
     },
     "metadata": {},
     "output_type": "display_data"
    },
    {
     "data": {
      "text/html": [
       "<pre style=\"white-space:pre;overflow-x:auto;line-height:normal;font-family:Menlo,'DejaVu Sans Mono',consolas,'Courier New',monospace\">\n",
       "</pre>\n"
      ],
      "text/plain": [
       "\n"
      ]
     },
     "metadata": {},
     "output_type": "display_data"
    },
    {
     "data": {
      "application/vnd.jupyter.widget-view+json": {
       "model_id": "270ea66b76d741d0a414d2bf5cf10bb4",
       "version_major": 2,
       "version_minor": 0
      },
      "text/plain": [
       "Output()"
      ]
     },
     "metadata": {},
     "output_type": "display_data"
    },
    {
     "data": {
      "text/html": [
       "<pre style=\"white-space:pre;overflow-x:auto;line-height:normal;font-family:Menlo,'DejaVu Sans Mono',consolas,'Courier New',monospace\"></pre>\n"
      ],
      "text/plain": []
     },
     "metadata": {},
     "output_type": "display_data"
    },
    {
     "data": {
      "text/html": [
       "<pre style=\"white-space:pre;overflow-x:auto;line-height:normal;font-family:Menlo,'DejaVu Sans Mono',consolas,'Courier New',monospace\">\n",
       "</pre>\n"
      ],
      "text/plain": [
       "\n"
      ]
     },
     "metadata": {},
     "output_type": "display_data"
    },
    {
     "data": {
      "application/vnd.jupyter.widget-view+json": {
       "model_id": "6e1c9d4a0c0c4cd78293985f0df77020",
       "version_major": 2,
       "version_minor": 0
      },
      "text/plain": [
       "Output()"
      ]
     },
     "metadata": {},
     "output_type": "display_data"
    },
    {
     "data": {
      "text/html": [
       "<pre style=\"white-space:pre;overflow-x:auto;line-height:normal;font-family:Menlo,'DejaVu Sans Mono',consolas,'Courier New',monospace\"></pre>\n"
      ],
      "text/plain": []
     },
     "metadata": {},
     "output_type": "display_data"
    },
    {
     "data": {
      "text/html": [
       "<pre style=\"white-space:pre;overflow-x:auto;line-height:normal;font-family:Menlo,'DejaVu Sans Mono',consolas,'Courier New',monospace\">\n",
       "</pre>\n"
      ],
      "text/plain": [
       "\n"
      ]
     },
     "metadata": {},
     "output_type": "display_data"
    },
    {
     "data": {
      "application/vnd.jupyter.widget-view+json": {
       "model_id": "8ad0239eead140bdb4e7abb5748d05f5",
       "version_major": 2,
       "version_minor": 0
      },
      "text/plain": [
       "Output()"
      ]
     },
     "metadata": {},
     "output_type": "display_data"
    },
    {
     "data": {
      "text/html": [
       "<pre style=\"white-space:pre;overflow-x:auto;line-height:normal;font-family:Menlo,'DejaVu Sans Mono',consolas,'Courier New',monospace\"></pre>\n"
      ],
      "text/plain": []
     },
     "metadata": {},
     "output_type": "display_data"
    },
    {
     "data": {
      "text/html": [
       "<pre style=\"white-space:pre;overflow-x:auto;line-height:normal;font-family:Menlo,'DejaVu Sans Mono',consolas,'Courier New',monospace\">\n",
       "</pre>\n"
      ],
      "text/plain": [
       "\n"
      ]
     },
     "metadata": {},
     "output_type": "display_data"
    },
    {
     "data": {
      "application/vnd.jupyter.widget-view+json": {
       "model_id": "ecd9f61e2896475fa4a63b0341e9317d",
       "version_major": 2,
       "version_minor": 0
      },
      "text/plain": [
       "Output()"
      ]
     },
     "metadata": {},
     "output_type": "display_data"
    },
    {
     "data": {
      "text/html": [
       "<pre style=\"white-space:pre;overflow-x:auto;line-height:normal;font-family:Menlo,'DejaVu Sans Mono',consolas,'Courier New',monospace\"></pre>\n"
      ],
      "text/plain": []
     },
     "metadata": {},
     "output_type": "display_data"
    },
    {
     "data": {
      "text/html": [
       "<pre style=\"white-space:pre;overflow-x:auto;line-height:normal;font-family:Menlo,'DejaVu Sans Mono',consolas,'Courier New',monospace\">\n",
       "</pre>\n"
      ],
      "text/plain": [
       "\n"
      ]
     },
     "metadata": {},
     "output_type": "display_data"
    },
    {
     "data": {
      "application/vnd.jupyter.widget-view+json": {
       "model_id": "04b69346cfb549118951d4fcef3e2c50",
       "version_major": 2,
       "version_minor": 0
      },
      "text/plain": [
       "Output()"
      ]
     },
     "metadata": {},
     "output_type": "display_data"
    },
    {
     "data": {
      "text/html": [
       "<pre style=\"white-space:pre;overflow-x:auto;line-height:normal;font-family:Menlo,'DejaVu Sans Mono',consolas,'Courier New',monospace\"></pre>\n"
      ],
      "text/plain": []
     },
     "metadata": {},
     "output_type": "display_data"
    },
    {
     "data": {
      "text/html": [
       "<pre style=\"white-space:pre;overflow-x:auto;line-height:normal;font-family:Menlo,'DejaVu Sans Mono',consolas,'Courier New',monospace\">\n",
       "</pre>\n"
      ],
      "text/plain": [
       "\n"
      ]
     },
     "metadata": {},
     "output_type": "display_data"
    },
    {
     "data": {
      "application/vnd.jupyter.widget-view+json": {
       "model_id": "138c89e439184c7f850533f883100e32",
       "version_major": 2,
       "version_minor": 0
      },
      "text/plain": [
       "Output()"
      ]
     },
     "metadata": {},
     "output_type": "display_data"
    },
    {
     "data": {
      "text/html": [
       "<pre style=\"white-space:pre;overflow-x:auto;line-height:normal;font-family:Menlo,'DejaVu Sans Mono',consolas,'Courier New',monospace\"></pre>\n"
      ],
      "text/plain": []
     },
     "metadata": {},
     "output_type": "display_data"
    },
    {
     "data": {
      "text/html": [
       "<pre style=\"white-space:pre;overflow-x:auto;line-height:normal;font-family:Menlo,'DejaVu Sans Mono',consolas,'Courier New',monospace\">\n",
       "</pre>\n"
      ],
      "text/plain": [
       "\n"
      ]
     },
     "metadata": {},
     "output_type": "display_data"
    },
    {
     "data": {
      "application/vnd.jupyter.widget-view+json": {
       "model_id": "36fc60e8fa454dcab2b98eeeddde44c9",
       "version_major": 2,
       "version_minor": 0
      },
      "text/plain": [
       "Output()"
      ]
     },
     "metadata": {},
     "output_type": "display_data"
    },
    {
     "data": {
      "text/html": [
       "<pre style=\"white-space:pre;overflow-x:auto;line-height:normal;font-family:Menlo,'DejaVu Sans Mono',consolas,'Courier New',monospace\"></pre>\n"
      ],
      "text/plain": []
     },
     "metadata": {},
     "output_type": "display_data"
    },
    {
     "data": {
      "text/html": [
       "<pre style=\"white-space:pre;overflow-x:auto;line-height:normal;font-family:Menlo,'DejaVu Sans Mono',consolas,'Courier New',monospace\">\n",
       "</pre>\n"
      ],
      "text/plain": [
       "\n"
      ]
     },
     "metadata": {},
     "output_type": "display_data"
    },
    {
     "data": {
      "application/vnd.jupyter.widget-view+json": {
       "model_id": "2ced749bd5634db59a5ee6dae3dd503d",
       "version_major": 2,
       "version_minor": 0
      },
      "text/plain": [
       "Output()"
      ]
     },
     "metadata": {},
     "output_type": "display_data"
    },
    {
     "data": {
      "text/html": [
       "<pre style=\"white-space:pre;overflow-x:auto;line-height:normal;font-family:Menlo,'DejaVu Sans Mono',consolas,'Courier New',monospace\"></pre>\n"
      ],
      "text/plain": []
     },
     "metadata": {},
     "output_type": "display_data"
    },
    {
     "data": {
      "text/html": [
       "<pre style=\"white-space:pre;overflow-x:auto;line-height:normal;font-family:Menlo,'DejaVu Sans Mono',consolas,'Courier New',monospace\">\n",
       "</pre>\n"
      ],
      "text/plain": [
       "\n"
      ]
     },
     "metadata": {},
     "output_type": "display_data"
    },
    {
     "data": {
      "application/vnd.jupyter.widget-view+json": {
       "model_id": "1931ed9ca557496cbc1bf723d1fcd7e7",
       "version_major": 2,
       "version_minor": 0
      },
      "text/plain": [
       "Output()"
      ]
     },
     "metadata": {},
     "output_type": "display_data"
    },
    {
     "data": {
      "text/html": [
       "<pre style=\"white-space:pre;overflow-x:auto;line-height:normal;font-family:Menlo,'DejaVu Sans Mono',consolas,'Courier New',monospace\"></pre>\n"
      ],
      "text/plain": []
     },
     "metadata": {},
     "output_type": "display_data"
    },
    {
     "data": {
      "text/html": [
       "<pre style=\"white-space:pre;overflow-x:auto;line-height:normal;font-family:Menlo,'DejaVu Sans Mono',consolas,'Courier New',monospace\">\n",
       "</pre>\n"
      ],
      "text/plain": [
       "\n"
      ]
     },
     "metadata": {},
     "output_type": "display_data"
    },
    {
     "data": {
      "application/vnd.jupyter.widget-view+json": {
       "model_id": "8fdd20e467d547f497db6a19d4a6b4f4",
       "version_major": 2,
       "version_minor": 0
      },
      "text/plain": [
       "Output()"
      ]
     },
     "metadata": {},
     "output_type": "display_data"
    },
    {
     "data": {
      "text/html": [
       "<pre style=\"white-space:pre;overflow-x:auto;line-height:normal;font-family:Menlo,'DejaVu Sans Mono',consolas,'Courier New',monospace\"></pre>\n"
      ],
      "text/plain": []
     },
     "metadata": {},
     "output_type": "display_data"
    },
    {
     "data": {
      "text/html": [
       "<pre style=\"white-space:pre;overflow-x:auto;line-height:normal;font-family:Menlo,'DejaVu Sans Mono',consolas,'Courier New',monospace\">\n",
       "</pre>\n"
      ],
      "text/plain": [
       "\n"
      ]
     },
     "metadata": {},
     "output_type": "display_data"
    },
    {
     "data": {
      "application/vnd.jupyter.widget-view+json": {
       "model_id": "6caa4fad05264f4ea75ba6622d3ea5a4",
       "version_major": 2,
       "version_minor": 0
      },
      "text/plain": [
       "Output()"
      ]
     },
     "metadata": {},
     "output_type": "display_data"
    },
    {
     "data": {
      "text/html": [
       "<pre style=\"white-space:pre;overflow-x:auto;line-height:normal;font-family:Menlo,'DejaVu Sans Mono',consolas,'Courier New',monospace\"></pre>\n"
      ],
      "text/plain": []
     },
     "metadata": {},
     "output_type": "display_data"
    },
    {
     "data": {
      "text/html": [
       "<pre style=\"white-space:pre;overflow-x:auto;line-height:normal;font-family:Menlo,'DejaVu Sans Mono',consolas,'Courier New',monospace\">\n",
       "</pre>\n"
      ],
      "text/plain": [
       "\n"
      ]
     },
     "metadata": {},
     "output_type": "display_data"
    },
    {
     "data": {
      "application/vnd.jupyter.widget-view+json": {
       "model_id": "791c3a2b239749ba91af32980e3a67b4",
       "version_major": 2,
       "version_minor": 0
      },
      "text/plain": [
       "Output()"
      ]
     },
     "metadata": {},
     "output_type": "display_data"
    },
    {
     "data": {
      "text/html": [
       "<pre style=\"white-space:pre;overflow-x:auto;line-height:normal;font-family:Menlo,'DejaVu Sans Mono',consolas,'Courier New',monospace\"></pre>\n"
      ],
      "text/plain": []
     },
     "metadata": {},
     "output_type": "display_data"
    },
    {
     "data": {
      "text/html": [
       "<pre style=\"white-space:pre;overflow-x:auto;line-height:normal;font-family:Menlo,'DejaVu Sans Mono',consolas,'Courier New',monospace\">\n",
       "</pre>\n"
      ],
      "text/plain": [
       "\n"
      ]
     },
     "metadata": {},
     "output_type": "display_data"
    },
    {
     "data": {
      "application/vnd.jupyter.widget-view+json": {
       "model_id": "a9c49e7a29534188b6de5996dbe30889",
       "version_major": 2,
       "version_minor": 0
      },
      "text/plain": [
       "Output()"
      ]
     },
     "metadata": {},
     "output_type": "display_data"
    },
    {
     "data": {
      "text/html": [
       "<pre style=\"white-space:pre;overflow-x:auto;line-height:normal;font-family:Menlo,'DejaVu Sans Mono',consolas,'Courier New',monospace\"></pre>\n"
      ],
      "text/plain": []
     },
     "metadata": {},
     "output_type": "display_data"
    },
    {
     "data": {
      "text/html": [
       "<pre style=\"white-space:pre;overflow-x:auto;line-height:normal;font-family:Menlo,'DejaVu Sans Mono',consolas,'Courier New',monospace\">\n",
       "</pre>\n"
      ],
      "text/plain": [
       "\n"
      ]
     },
     "metadata": {},
     "output_type": "display_data"
    },
    {
     "data": {
      "application/vnd.jupyter.widget-view+json": {
       "model_id": "b7059c9008ff44d1a977dc5dccf185e1",
       "version_major": 2,
       "version_minor": 0
      },
      "text/plain": [
       "Output()"
      ]
     },
     "metadata": {},
     "output_type": "display_data"
    },
    {
     "data": {
      "text/html": [
       "<pre style=\"white-space:pre;overflow-x:auto;line-height:normal;font-family:Menlo,'DejaVu Sans Mono',consolas,'Courier New',monospace\"></pre>\n"
      ],
      "text/plain": []
     },
     "metadata": {},
     "output_type": "display_data"
    },
    {
     "data": {
      "text/html": [
       "<pre style=\"white-space:pre;overflow-x:auto;line-height:normal;font-family:Menlo,'DejaVu Sans Mono',consolas,'Courier New',monospace\">\n",
       "</pre>\n"
      ],
      "text/plain": [
       "\n"
      ]
     },
     "metadata": {},
     "output_type": "display_data"
    },
    {
     "data": {
      "application/vnd.jupyter.widget-view+json": {
       "model_id": "5fa556278d9f4d9288e7f5941741b4d6",
       "version_major": 2,
       "version_minor": 0
      },
      "text/plain": [
       "Output()"
      ]
     },
     "metadata": {},
     "output_type": "display_data"
    },
    {
     "data": {
      "text/html": [
       "<pre style=\"white-space:pre;overflow-x:auto;line-height:normal;font-family:Menlo,'DejaVu Sans Mono',consolas,'Courier New',monospace\"></pre>\n"
      ],
      "text/plain": []
     },
     "metadata": {},
     "output_type": "display_data"
    },
    {
     "data": {
      "text/html": [
       "<pre style=\"white-space:pre;overflow-x:auto;line-height:normal;font-family:Menlo,'DejaVu Sans Mono',consolas,'Courier New',monospace\">\n",
       "</pre>\n"
      ],
      "text/plain": [
       "\n"
      ]
     },
     "metadata": {},
     "output_type": "display_data"
    },
    {
     "data": {
      "application/vnd.jupyter.widget-view+json": {
       "model_id": "ad4a44b6119440a59b9460bbc3cc24eb",
       "version_major": 2,
       "version_minor": 0
      },
      "text/plain": [
       "Output()"
      ]
     },
     "metadata": {},
     "output_type": "display_data"
    },
    {
     "data": {
      "text/html": [
       "<pre style=\"white-space:pre;overflow-x:auto;line-height:normal;font-family:Menlo,'DejaVu Sans Mono',consolas,'Courier New',monospace\"></pre>\n"
      ],
      "text/plain": []
     },
     "metadata": {},
     "output_type": "display_data"
    },
    {
     "data": {
      "text/html": [
       "<pre style=\"white-space:pre;overflow-x:auto;line-height:normal;font-family:Menlo,'DejaVu Sans Mono',consolas,'Courier New',monospace\">\n",
       "</pre>\n"
      ],
      "text/plain": [
       "\n"
      ]
     },
     "metadata": {},
     "output_type": "display_data"
    },
    {
     "data": {
      "application/vnd.jupyter.widget-view+json": {
       "model_id": "0d6b45aa318a458dba68136ff33c7e5a",
       "version_major": 2,
       "version_minor": 0
      },
      "text/plain": [
       "Output()"
      ]
     },
     "metadata": {},
     "output_type": "display_data"
    },
    {
     "data": {
      "text/html": [
       "<pre style=\"white-space:pre;overflow-x:auto;line-height:normal;font-family:Menlo,'DejaVu Sans Mono',consolas,'Courier New',monospace\"></pre>\n"
      ],
      "text/plain": []
     },
     "metadata": {},
     "output_type": "display_data"
    },
    {
     "data": {
      "text/html": [
       "<pre style=\"white-space:pre;overflow-x:auto;line-height:normal;font-family:Menlo,'DejaVu Sans Mono',consolas,'Courier New',monospace\">\n",
       "</pre>\n"
      ],
      "text/plain": [
       "\n"
      ]
     },
     "metadata": {},
     "output_type": "display_data"
    },
    {
     "data": {
      "application/vnd.jupyter.widget-view+json": {
       "model_id": "ffeeaaeac273408193b7821b1bb744e1",
       "version_major": 2,
       "version_minor": 0
      },
      "text/plain": [
       "Output()"
      ]
     },
     "metadata": {},
     "output_type": "display_data"
    },
    {
     "data": {
      "text/html": [
       "<pre style=\"white-space:pre;overflow-x:auto;line-height:normal;font-family:Menlo,'DejaVu Sans Mono',consolas,'Courier New',monospace\"></pre>\n"
      ],
      "text/plain": []
     },
     "metadata": {},
     "output_type": "display_data"
    },
    {
     "data": {
      "text/html": [
       "<pre style=\"white-space:pre;overflow-x:auto;line-height:normal;font-family:Menlo,'DejaVu Sans Mono',consolas,'Courier New',monospace\">\n",
       "</pre>\n"
      ],
      "text/plain": [
       "\n"
      ]
     },
     "metadata": {},
     "output_type": "display_data"
    },
    {
     "data": {
      "application/vnd.jupyter.widget-view+json": {
       "model_id": "a4e960962abf4ebcb5e5e4fa09248205",
       "version_major": 2,
       "version_minor": 0
      },
      "text/plain": [
       "Output()"
      ]
     },
     "metadata": {},
     "output_type": "display_data"
    },
    {
     "data": {
      "text/html": [
       "<pre style=\"white-space:pre;overflow-x:auto;line-height:normal;font-family:Menlo,'DejaVu Sans Mono',consolas,'Courier New',monospace\"></pre>\n"
      ],
      "text/plain": []
     },
     "metadata": {},
     "output_type": "display_data"
    },
    {
     "data": {
      "text/html": [
       "<pre style=\"white-space:pre;overflow-x:auto;line-height:normal;font-family:Menlo,'DejaVu Sans Mono',consolas,'Courier New',monospace\">\n",
       "</pre>\n"
      ],
      "text/plain": [
       "\n"
      ]
     },
     "metadata": {},
     "output_type": "display_data"
    },
    {
     "data": {
      "application/vnd.jupyter.widget-view+json": {
       "model_id": "61ac5cfbd02e4d56a0fdcf7c004737fa",
       "version_major": 2,
       "version_minor": 0
      },
      "text/plain": [
       "Output()"
      ]
     },
     "metadata": {},
     "output_type": "display_data"
    },
    {
     "data": {
      "text/html": [
       "<pre style=\"white-space:pre;overflow-x:auto;line-height:normal;font-family:Menlo,'DejaVu Sans Mono',consolas,'Courier New',monospace\"></pre>\n"
      ],
      "text/plain": []
     },
     "metadata": {},
     "output_type": "display_data"
    },
    {
     "data": {
      "text/html": [
       "<pre style=\"white-space:pre;overflow-x:auto;line-height:normal;font-family:Menlo,'DejaVu Sans Mono',consolas,'Courier New',monospace\">\n",
       "</pre>\n"
      ],
      "text/plain": [
       "\n"
      ]
     },
     "metadata": {},
     "output_type": "display_data"
    },
    {
     "data": {
      "application/vnd.jupyter.widget-view+json": {
       "model_id": "9d9aaa8127b443d0b4692bda63caaad6",
       "version_major": 2,
       "version_minor": 0
      },
      "text/plain": [
       "Output()"
      ]
     },
     "metadata": {},
     "output_type": "display_data"
    },
    {
     "data": {
      "text/html": [
       "<pre style=\"white-space:pre;overflow-x:auto;line-height:normal;font-family:Menlo,'DejaVu Sans Mono',consolas,'Courier New',monospace\"></pre>\n"
      ],
      "text/plain": []
     },
     "metadata": {},
     "output_type": "display_data"
    },
    {
     "data": {
      "text/html": [
       "<pre style=\"white-space:pre;overflow-x:auto;line-height:normal;font-family:Menlo,'DejaVu Sans Mono',consolas,'Courier New',monospace\">\n",
       "</pre>\n"
      ],
      "text/plain": [
       "\n"
      ]
     },
     "metadata": {},
     "output_type": "display_data"
    },
    {
     "data": {
      "application/vnd.jupyter.widget-view+json": {
       "model_id": "fb11c9a4cb0e41c39fb3b658aa0322ab",
       "version_major": 2,
       "version_minor": 0
      },
      "text/plain": [
       "Output()"
      ]
     },
     "metadata": {},
     "output_type": "display_data"
    },
    {
     "data": {
      "text/html": [
       "<pre style=\"white-space:pre;overflow-x:auto;line-height:normal;font-family:Menlo,'DejaVu Sans Mono',consolas,'Courier New',monospace\"></pre>\n"
      ],
      "text/plain": []
     },
     "metadata": {},
     "output_type": "display_data"
    },
    {
     "data": {
      "text/html": [
       "<pre style=\"white-space:pre;overflow-x:auto;line-height:normal;font-family:Menlo,'DejaVu Sans Mono',consolas,'Courier New',monospace\">\n",
       "</pre>\n"
      ],
      "text/plain": [
       "\n"
      ]
     },
     "metadata": {},
     "output_type": "display_data"
    },
    {
     "data": {
      "application/vnd.jupyter.widget-view+json": {
       "model_id": "ad8c1043da3646b5bb4ddf2e9784350d",
       "version_major": 2,
       "version_minor": 0
      },
      "text/plain": [
       "Output()"
      ]
     },
     "metadata": {},
     "output_type": "display_data"
    },
    {
     "data": {
      "text/html": [
       "<pre style=\"white-space:pre;overflow-x:auto;line-height:normal;font-family:Menlo,'DejaVu Sans Mono',consolas,'Courier New',monospace\"></pre>\n"
      ],
      "text/plain": []
     },
     "metadata": {},
     "output_type": "display_data"
    },
    {
     "data": {
      "text/html": [
       "<pre style=\"white-space:pre;overflow-x:auto;line-height:normal;font-family:Menlo,'DejaVu Sans Mono',consolas,'Courier New',monospace\">\n",
       "</pre>\n"
      ],
      "text/plain": [
       "\n"
      ]
     },
     "metadata": {},
     "output_type": "display_data"
    },
    {
     "data": {
      "application/vnd.jupyter.widget-view+json": {
       "model_id": "331046b2a2e346e586041f808b0a8a71",
       "version_major": 2,
       "version_minor": 0
      },
      "text/plain": [
       "Output()"
      ]
     },
     "metadata": {},
     "output_type": "display_data"
    },
    {
     "data": {
      "text/html": [
       "<pre style=\"white-space:pre;overflow-x:auto;line-height:normal;font-family:Menlo,'DejaVu Sans Mono',consolas,'Courier New',monospace\"></pre>\n"
      ],
      "text/plain": []
     },
     "metadata": {},
     "output_type": "display_data"
    },
    {
     "data": {
      "text/html": [
       "<pre style=\"white-space:pre;overflow-x:auto;line-height:normal;font-family:Menlo,'DejaVu Sans Mono',consolas,'Courier New',monospace\">\n",
       "</pre>\n"
      ],
      "text/plain": [
       "\n"
      ]
     },
     "metadata": {},
     "output_type": "display_data"
    },
    {
     "data": {
      "application/vnd.jupyter.widget-view+json": {
       "model_id": "9046eccae29f4f818038acb6a7d3b055",
       "version_major": 2,
       "version_minor": 0
      },
      "text/plain": [
       "Output()"
      ]
     },
     "metadata": {},
     "output_type": "display_data"
    },
    {
     "data": {
      "text/html": [
       "<pre style=\"white-space:pre;overflow-x:auto;line-height:normal;font-family:Menlo,'DejaVu Sans Mono',consolas,'Courier New',monospace\"></pre>\n"
      ],
      "text/plain": []
     },
     "metadata": {},
     "output_type": "display_data"
    },
    {
     "data": {
      "text/html": [
       "<pre style=\"white-space:pre;overflow-x:auto;line-height:normal;font-family:Menlo,'DejaVu Sans Mono',consolas,'Courier New',monospace\">\n",
       "</pre>\n"
      ],
      "text/plain": [
       "\n"
      ]
     },
     "metadata": {},
     "output_type": "display_data"
    },
    {
     "data": {
      "application/vnd.jupyter.widget-view+json": {
       "model_id": "ef126e879dd847cbade62df9422fc22c",
       "version_major": 2,
       "version_minor": 0
      },
      "text/plain": [
       "Output()"
      ]
     },
     "metadata": {},
     "output_type": "display_data"
    },
    {
     "data": {
      "text/html": [
       "<pre style=\"white-space:pre;overflow-x:auto;line-height:normal;font-family:Menlo,'DejaVu Sans Mono',consolas,'Courier New',monospace\"></pre>\n"
      ],
      "text/plain": []
     },
     "metadata": {},
     "output_type": "display_data"
    },
    {
     "data": {
      "text/html": [
       "<pre style=\"white-space:pre;overflow-x:auto;line-height:normal;font-family:Menlo,'DejaVu Sans Mono',consolas,'Courier New',monospace\">\n",
       "</pre>\n"
      ],
      "text/plain": [
       "\n"
      ]
     },
     "metadata": {},
     "output_type": "display_data"
    },
    {
     "data": {
      "application/vnd.jupyter.widget-view+json": {
       "model_id": "bedd6c0b32fb4c749f080a79ed8b3fc2",
       "version_major": 2,
       "version_minor": 0
      },
      "text/plain": [
       "Output()"
      ]
     },
     "metadata": {},
     "output_type": "display_data"
    },
    {
     "data": {
      "text/html": [
       "<pre style=\"white-space:pre;overflow-x:auto;line-height:normal;font-family:Menlo,'DejaVu Sans Mono',consolas,'Courier New',monospace\"></pre>\n"
      ],
      "text/plain": []
     },
     "metadata": {},
     "output_type": "display_data"
    },
    {
     "data": {
      "text/html": [
       "<pre style=\"white-space:pre;overflow-x:auto;line-height:normal;font-family:Menlo,'DejaVu Sans Mono',consolas,'Courier New',monospace\">\n",
       "</pre>\n"
      ],
      "text/plain": [
       "\n"
      ]
     },
     "metadata": {},
     "output_type": "display_data"
    },
    {
     "data": {
      "application/vnd.jupyter.widget-view+json": {
       "model_id": "b6869dc3a9874891b542eb1dca59a472",
       "version_major": 2,
       "version_minor": 0
      },
      "text/plain": [
       "Output()"
      ]
     },
     "metadata": {},
     "output_type": "display_data"
    },
    {
     "data": {
      "text/html": [
       "<pre style=\"white-space:pre;overflow-x:auto;line-height:normal;font-family:Menlo,'DejaVu Sans Mono',consolas,'Courier New',monospace\"></pre>\n"
      ],
      "text/plain": []
     },
     "metadata": {},
     "output_type": "display_data"
    },
    {
     "data": {
      "text/html": [
       "<pre style=\"white-space:pre;overflow-x:auto;line-height:normal;font-family:Menlo,'DejaVu Sans Mono',consolas,'Courier New',monospace\">\n",
       "</pre>\n"
      ],
      "text/plain": [
       "\n"
      ]
     },
     "metadata": {},
     "output_type": "display_data"
    },
    {
     "data": {
      "application/vnd.jupyter.widget-view+json": {
       "model_id": "dd673897e0c74bd49a5f6cd8e47a63d4",
       "version_major": 2,
       "version_minor": 0
      },
      "text/plain": [
       "Output()"
      ]
     },
     "metadata": {},
     "output_type": "display_data"
    },
    {
     "data": {
      "text/html": [
       "<pre style=\"white-space:pre;overflow-x:auto;line-height:normal;font-family:Menlo,'DejaVu Sans Mono',consolas,'Courier New',monospace\"></pre>\n"
      ],
      "text/plain": []
     },
     "metadata": {},
     "output_type": "display_data"
    },
    {
     "data": {
      "text/html": [
       "<pre style=\"white-space:pre;overflow-x:auto;line-height:normal;font-family:Menlo,'DejaVu Sans Mono',consolas,'Courier New',monospace\">\n",
       "</pre>\n"
      ],
      "text/plain": [
       "\n"
      ]
     },
     "metadata": {},
     "output_type": "display_data"
    },
    {
     "data": {
      "application/vnd.jupyter.widget-view+json": {
       "model_id": "8c378974ab394ea3a948fd93af0589c1",
       "version_major": 2,
       "version_minor": 0
      },
      "text/plain": [
       "Output()"
      ]
     },
     "metadata": {},
     "output_type": "display_data"
    },
    {
     "data": {
      "text/html": [
       "<pre style=\"white-space:pre;overflow-x:auto;line-height:normal;font-family:Menlo,'DejaVu Sans Mono',consolas,'Courier New',monospace\"></pre>\n"
      ],
      "text/plain": []
     },
     "metadata": {},
     "output_type": "display_data"
    },
    {
     "data": {
      "text/html": [
       "<pre style=\"white-space:pre;overflow-x:auto;line-height:normal;font-family:Menlo,'DejaVu Sans Mono',consolas,'Courier New',monospace\">\n",
       "</pre>\n"
      ],
      "text/plain": [
       "\n"
      ]
     },
     "metadata": {},
     "output_type": "display_data"
    },
    {
     "data": {
      "application/vnd.jupyter.widget-view+json": {
       "model_id": "ca9f647ac671468d9ab2b4aff9292d62",
       "version_major": 2,
       "version_minor": 0
      },
      "text/plain": [
       "Output()"
      ]
     },
     "metadata": {},
     "output_type": "display_data"
    },
    {
     "data": {
      "text/html": [
       "<pre style=\"white-space:pre;overflow-x:auto;line-height:normal;font-family:Menlo,'DejaVu Sans Mono',consolas,'Courier New',monospace\"></pre>\n"
      ],
      "text/plain": []
     },
     "metadata": {},
     "output_type": "display_data"
    },
    {
     "data": {
      "text/html": [
       "<pre style=\"white-space:pre;overflow-x:auto;line-height:normal;font-family:Menlo,'DejaVu Sans Mono',consolas,'Courier New',monospace\">\n",
       "</pre>\n"
      ],
      "text/plain": [
       "\n"
      ]
     },
     "metadata": {},
     "output_type": "display_data"
    },
    {
     "data": {
      "application/vnd.jupyter.widget-view+json": {
       "model_id": "99d16223edcc43db9d2dda57382ec0ee",
       "version_major": 2,
       "version_minor": 0
      },
      "text/plain": [
       "Output()"
      ]
     },
     "metadata": {},
     "output_type": "display_data"
    },
    {
     "data": {
      "text/html": [
       "<pre style=\"white-space:pre;overflow-x:auto;line-height:normal;font-family:Menlo,'DejaVu Sans Mono',consolas,'Courier New',monospace\"></pre>\n"
      ],
      "text/plain": []
     },
     "metadata": {},
     "output_type": "display_data"
    },
    {
     "data": {
      "text/html": [
       "<pre style=\"white-space:pre;overflow-x:auto;line-height:normal;font-family:Menlo,'DejaVu Sans Mono',consolas,'Courier New',monospace\">\n",
       "</pre>\n"
      ],
      "text/plain": [
       "\n"
      ]
     },
     "metadata": {},
     "output_type": "display_data"
    },
    {
     "data": {
      "application/vnd.jupyter.widget-view+json": {
       "model_id": "822bbcde908c42bea47cf9118abbb513",
       "version_major": 2,
       "version_minor": 0
      },
      "text/plain": [
       "Output()"
      ]
     },
     "metadata": {},
     "output_type": "display_data"
    },
    {
     "data": {
      "text/html": [
       "<pre style=\"white-space:pre;overflow-x:auto;line-height:normal;font-family:Menlo,'DejaVu Sans Mono',consolas,'Courier New',monospace\"></pre>\n"
      ],
      "text/plain": []
     },
     "metadata": {},
     "output_type": "display_data"
    },
    {
     "data": {
      "text/html": [
       "<pre style=\"white-space:pre;overflow-x:auto;line-height:normal;font-family:Menlo,'DejaVu Sans Mono',consolas,'Courier New',monospace\">\n",
       "</pre>\n"
      ],
      "text/plain": [
       "\n"
      ]
     },
     "metadata": {},
     "output_type": "display_data"
    },
    {
     "data": {
      "application/vnd.jupyter.widget-view+json": {
       "model_id": "e82135f51d7e453ba8ba90d379d10679",
       "version_major": 2,
       "version_minor": 0
      },
      "text/plain": [
       "Output()"
      ]
     },
     "metadata": {},
     "output_type": "display_data"
    },
    {
     "data": {
      "text/html": [
       "<pre style=\"white-space:pre;overflow-x:auto;line-height:normal;font-family:Menlo,'DejaVu Sans Mono',consolas,'Courier New',monospace\"></pre>\n"
      ],
      "text/plain": []
     },
     "metadata": {},
     "output_type": "display_data"
    },
    {
     "data": {
      "text/html": [
       "<pre style=\"white-space:pre;overflow-x:auto;line-height:normal;font-family:Menlo,'DejaVu Sans Mono',consolas,'Courier New',monospace\">\n",
       "</pre>\n"
      ],
      "text/plain": [
       "\n"
      ]
     },
     "metadata": {},
     "output_type": "display_data"
    },
    {
     "data": {
      "application/vnd.jupyter.widget-view+json": {
       "model_id": "89c9eabc0d4b4513893b8bacc6a6dc5c",
       "version_major": 2,
       "version_minor": 0
      },
      "text/plain": [
       "Output()"
      ]
     },
     "metadata": {},
     "output_type": "display_data"
    },
    {
     "data": {
      "text/html": [
       "<pre style=\"white-space:pre;overflow-x:auto;line-height:normal;font-family:Menlo,'DejaVu Sans Mono',consolas,'Courier New',monospace\"></pre>\n"
      ],
      "text/plain": []
     },
     "metadata": {},
     "output_type": "display_data"
    },
    {
     "data": {
      "text/html": [
       "<pre style=\"white-space:pre;overflow-x:auto;line-height:normal;font-family:Menlo,'DejaVu Sans Mono',consolas,'Courier New',monospace\">\n",
       "</pre>\n"
      ],
      "text/plain": [
       "\n"
      ]
     },
     "metadata": {},
     "output_type": "display_data"
    },
    {
     "data": {
      "application/vnd.jupyter.widget-view+json": {
       "model_id": "3a13cf6ce70e43a4b918009444fc2857",
       "version_major": 2,
       "version_minor": 0
      },
      "text/plain": [
       "Output()"
      ]
     },
     "metadata": {},
     "output_type": "display_data"
    },
    {
     "data": {
      "text/html": [
       "<pre style=\"white-space:pre;overflow-x:auto;line-height:normal;font-family:Menlo,'DejaVu Sans Mono',consolas,'Courier New',monospace\"></pre>\n"
      ],
      "text/plain": []
     },
     "metadata": {},
     "output_type": "display_data"
    },
    {
     "data": {
      "text/html": [
       "<pre style=\"white-space:pre;overflow-x:auto;line-height:normal;font-family:Menlo,'DejaVu Sans Mono',consolas,'Courier New',monospace\">\n",
       "</pre>\n"
      ],
      "text/plain": [
       "\n"
      ]
     },
     "metadata": {},
     "output_type": "display_data"
    },
    {
     "data": {
      "application/vnd.jupyter.widget-view+json": {
       "model_id": "d5b64954832541508b61fec43ccc7e41",
       "version_major": 2,
       "version_minor": 0
      },
      "text/plain": [
       "Output()"
      ]
     },
     "metadata": {},
     "output_type": "display_data"
    },
    {
     "data": {
      "text/html": [
       "<pre style=\"white-space:pre;overflow-x:auto;line-height:normal;font-family:Menlo,'DejaVu Sans Mono',consolas,'Courier New',monospace\"></pre>\n"
      ],
      "text/plain": []
     },
     "metadata": {},
     "output_type": "display_data"
    },
    {
     "data": {
      "text/html": [
       "<pre style=\"white-space:pre;overflow-x:auto;line-height:normal;font-family:Menlo,'DejaVu Sans Mono',consolas,'Courier New',monospace\">\n",
       "</pre>\n"
      ],
      "text/plain": [
       "\n"
      ]
     },
     "metadata": {},
     "output_type": "display_data"
    },
    {
     "data": {
      "application/vnd.jupyter.widget-view+json": {
       "model_id": "c7b795a84ed14a62ab79c74bdd8c9f9a",
       "version_major": 2,
       "version_minor": 0
      },
      "text/plain": [
       "Output()"
      ]
     },
     "metadata": {},
     "output_type": "display_data"
    },
    {
     "data": {
      "text/html": [
       "<pre style=\"white-space:pre;overflow-x:auto;line-height:normal;font-family:Menlo,'DejaVu Sans Mono',consolas,'Courier New',monospace\"></pre>\n"
      ],
      "text/plain": []
     },
     "metadata": {},
     "output_type": "display_data"
    },
    {
     "data": {
      "text/html": [
       "<pre style=\"white-space:pre;overflow-x:auto;line-height:normal;font-family:Menlo,'DejaVu Sans Mono',consolas,'Courier New',monospace\">\n",
       "</pre>\n"
      ],
      "text/plain": [
       "\n"
      ]
     },
     "metadata": {},
     "output_type": "display_data"
    }
   ],
   "source": [
    "result_generator = inferencer('webcam', show=True, return_vis = True,return_datasample=False,wait_time=33)\n",
    "#cv2.destroyAllWindows()\n",
    "#cv2.waitKey(0)\n",
    "#cv2.destroyAllWindows()\n",
    "#cv2.waitKey(1)\n",
    "#result = next(result_generator)\n",
    "results = [result for result in result_generator]\n",
    "cv2.destroyAllWindows()"
   ]
  },
  {
   "cell_type": "code",
   "execution_count": 6,
   "id": "c2a1e400",
   "metadata": {
    "ExecuteTime": {
     "end_time": "2023-07-30T21:27:15.523111Z",
     "start_time": "2023-07-30T21:27:12.033062Z"
    }
   },
   "outputs": [
    {
     "data": {
      "application/vnd.jupyter.widget-view+json": {
       "model_id": "e06abf5ce1684be788d146f7c2abdad5",
       "version_major": 2,
       "version_minor": 0
      },
      "text/plain": [
       "Output()"
      ]
     },
     "metadata": {},
     "output_type": "display_data"
    },
    {
     "data": {
      "text/html": [
       "<pre style=\"white-space:pre;overflow-x:auto;line-height:normal;font-family:Menlo,'DejaVu Sans Mono',consolas,'Courier New',monospace\">/home/kristian/miniconda3/lib/python3.10/site-packages/torch/functional.py:504: UserWarning: torch.meshgrid: in an \n",
       "upcoming release, it will be required to pass the indexing argument. (Triggered internally at \n",
       "/opt/conda/conda-bld/pytorch_1682343995026/work/aten/src/ATen/native/TensorShape.cpp:3483.)\n",
       "  return _VF.meshgrid(tensors, **kwargs)  # type: ignore[attr-defined]\n",
       "</pre>\n"
      ],
      "text/plain": [
       "/home/kristian/miniconda3/lib/python3.10/site-packages/torch/functional.py:504: UserWarning: torch.meshgrid: in an \n",
       "upcoming release, it will be required to pass the indexing argument. (Triggered internally at \n",
       "/opt/conda/conda-bld/pytorch_1682343995026/work/aten/src/ATen/native/TensorShape.cpp:3483.)\n",
       "  return _VF.meshgrid(tensors, **kwargs)  # type: ignore[attr-defined]\n"
      ]
     },
     "metadata": {},
     "output_type": "display_data"
    },
    {
     "data": {
      "text/html": [
       "<pre style=\"white-space:pre;overflow-x:auto;line-height:normal;font-family:Menlo,'DejaVu Sans Mono',consolas,'Courier New',monospace\"></pre>\n"
      ],
      "text/plain": []
     },
     "metadata": {},
     "output_type": "display_data"
    },
    {
     "data": {
      "text/html": [
       "<pre style=\"white-space:pre;overflow-x:auto;line-height:normal;font-family:Menlo,'DejaVu Sans Mono',consolas,'Courier New',monospace\">\n",
       "</pre>\n"
      ],
      "text/plain": [
       "\n"
      ]
     },
     "metadata": {},
     "output_type": "display_data"
    }
   ],
   "source": [
    "result_generator = inferencer('demo.jpg', show=True, return_vis = True,return_datasample=False,wait_time=5)\n",
    "#cv2.destroyAllWindows()\n",
    "#cv2.waitKey(0)\n",
    "#cv2.destroyAllWindows()\n",
    "#cv2.waitKey(1)\n",
    "#result = next(result_generator)\n",
    "#results = [result for result in result_generator]\n",
    "#cv2.destroyAllWindows()\n",
    "#result_generator = inferencer('demo2.jpg', show=True, return_vis = True,return_datasample=False,wait_time=5)\n",
    "result = next(result_generator)\n",
    "cv2.destroyAllWindows()"
   ]
  },
  {
   "cell_type": "code",
   "execution_count": 7,
   "id": "0d9406ec",
   "metadata": {
    "ExecuteTime": {
     "end_time": "2023-07-30T21:27:17.227170Z",
     "start_time": "2023-07-30T21:27:17.221149Z"
    },
    "scrolled": true
   },
   "outputs": [
    {
     "data": {
      "text/plain": [
       "array([[[  0,  34,  59],\n",
       "        [  0,  34,  59],\n",
       "        [  1,  35,  60],\n",
       "        ...,\n",
       "        [  0,  33,  58],\n",
       "        [  0,  33,  58],\n",
       "        [  0,  33,  58]],\n",
       "\n",
       "       [[  1,  35,  60],\n",
       "        [  1,  35,  60],\n",
       "        [  2,  36,  61],\n",
       "        ...,\n",
       "        [  0,  33,  58],\n",
       "        [  0,  33,  58],\n",
       "        [  0,  33,  58]],\n",
       "\n",
       "       [[  3,  37,  62],\n",
       "        [  3,  37,  62],\n",
       "        [  3,  37,  62],\n",
       "        ...,\n",
       "        [  0,  33,  58],\n",
       "        [  0,  33,  58],\n",
       "        [  0,  33,  58]],\n",
       "\n",
       "       ...,\n",
       "\n",
       "       [[ 95,  74,  69],\n",
       "        [ 94,  74,  67],\n",
       "        [ 92,  71,  66],\n",
       "        ...,\n",
       "        [  2,   2,   2],\n",
       "        [  1,   1,   1],\n",
       "        [  0,   0,   0]],\n",
       "\n",
       "       [[103,  84,  80],\n",
       "        [ 99,  80,  74],\n",
       "        [ 95,  76,  72],\n",
       "        ...,\n",
       "        [  2,   2,   2],\n",
       "        [  1,   1,   1],\n",
       "        [  0,   0,   0]],\n",
       "\n",
       "       [[102,  84,  80],\n",
       "        [ 98,  80,  76],\n",
       "        [ 95,  76,  72],\n",
       "        ...,\n",
       "        [  2,   2,   2],\n",
       "        [  1,   1,   1],\n",
       "        [  0,   0,   0]]], dtype=uint8)"
      ]
     },
     "execution_count": 7,
     "metadata": {},
     "output_type": "execute_result"
    }
   ],
   "source": [
    "result['visualization'][0]"
   ]
  },
  {
   "cell_type": "code",
   "execution_count": 8,
   "id": "5cb73cb4",
   "metadata": {
    "ExecuteTime": {
     "end_time": "2023-07-30T21:27:19.297842Z",
     "start_time": "2023-07-30T21:27:19.203978Z"
    }
   },
   "outputs": [
    {
     "data": {
      "image/png": "[encoded data removed]",
      "text/plain": [
       "<Figure size 640x480 with 1 Axes>"
      ]
     },
     "metadata": {},
     "output_type": "display_data"
    }
   ],
   "source": [
    "import matplotlib.pyplot as plt\n",
    "import numpy as np\n",
    "\n",
    "# Assuming the given data is stored in the variable 'data'\n",
    "image_array = result['visualization'][0]\n",
    "\n",
    "# Display the image using Matplotlib\n",
    "plt.imshow(image_array, cmap='gray')\n",
    "plt.axis('off')  # Hide the axis ticks and labels\n",
    "plt.show()"
   ]
  },
  {
   "cell_type": "code",
   "execution_count": 9,
   "id": "6b874bb2",
   "metadata": {
    "ExecuteTime": {
     "end_time": "2023-07-30T21:27:24.756837Z",
     "start_time": "2023-07-30T21:27:22.487573Z"
    }
   },
   "outputs": [],
   "source": [
    "import cv2\n",
    "import numpy as np\n",
    "\n",
    "# Assuming the given data is stored in the variable 'data'\n",
    "image_array = result['visualization'][0]\n",
    "bgr_image = cv2.cvtColor(image_array, cv2.COLOR_RGB2BGR)\n",
    "\n",
    "# Display the image using OpenCV\n",
    "cv2.imshow('Color Image', bgr_image)\n",
    "cv2.waitKey(0)\n",
    "cv2.destroyAllWindows()\n"
   ]
  },
  {
   "cell_type": "code",
   "execution_count": 10,
   "id": "419ed260",
   "metadata": {
    "ExecuteTime": {
     "end_time": "2023-07-30T21:27:30.803800Z",
     "start_time": "2023-07-30T21:27:26.394459Z"
    },
    "scrolled": true
   },
   "outputs": [
    {
     "data": {
      "application/vnd.jupyter.widget-view+json": {
       "model_id": "04c5dd971b1541ea92e5150538ed43b5",
       "version_major": 2,
       "version_minor": 0
      },
      "text/plain": [
       "Output()"
      ]
     },
     "metadata": {},
     "output_type": "display_data"
    },
    {
     "data": {
      "text/html": [
       "<pre style=\"white-space:pre;overflow-x:auto;line-height:normal;font-family:Menlo,'DejaVu Sans Mono',consolas,'Courier New',monospace\"></pre>\n"
      ],
      "text/plain": []
     },
     "metadata": {},
     "output_type": "display_data"
    },
    {
     "data": {
      "text/html": [
       "<pre style=\"white-space:pre;overflow-x:auto;line-height:normal;font-family:Menlo,'DejaVu Sans Mono',consolas,'Courier New',monospace\">\n",
       "</pre>\n"
      ],
      "text/plain": [
       "\n"
      ]
     },
     "metadata": {},
     "output_type": "display_data"
    },
    {
     "data": {
      "application/vnd.jupyter.widget-view+json": {
       "model_id": "e0509c5b2b9247eabceb584452b40fae",
       "version_major": 2,
       "version_minor": 0
      },
      "text/plain": [
       "Output()"
      ]
     },
     "metadata": {},
     "output_type": "display_data"
    },
    {
     "data": {
      "text/html": [
       "<pre style=\"white-space:pre;overflow-x:auto;line-height:normal;font-family:Menlo,'DejaVu Sans Mono',consolas,'Courier New',monospace\"></pre>\n"
      ],
      "text/plain": []
     },
     "metadata": {},
     "output_type": "display_data"
    },
    {
     "data": {
      "text/html": [
       "<pre style=\"white-space:pre;overflow-x:auto;line-height:normal;font-family:Menlo,'DejaVu Sans Mono',consolas,'Courier New',monospace\">\n",
       "</pre>\n"
      ],
      "text/plain": [
       "\n"
      ]
     },
     "metadata": {},
     "output_type": "display_data"
    },
    {
     "data": {
      "application/vnd.jupyter.widget-view+json": {
       "model_id": "de9f5f646fab4e9b919fc163b244fbf6",
       "version_major": 2,
       "version_minor": 0
      },
      "text/plain": [
       "Output()"
      ]
     },
     "metadata": {},
     "output_type": "display_data"
    },
    {
     "data": {
      "text/html": [
       "<pre style=\"white-space:pre;overflow-x:auto;line-height:normal;font-family:Menlo,'DejaVu Sans Mono',consolas,'Courier New',monospace\"></pre>\n"
      ],
      "text/plain": []
     },
     "metadata": {},
     "output_type": "display_data"
    },
    {
     "data": {
      "text/html": [
       "<pre style=\"white-space:pre;overflow-x:auto;line-height:normal;font-family:Menlo,'DejaVu Sans Mono',consolas,'Courier New',monospace\">\n",
       "</pre>\n"
      ],
      "text/plain": [
       "\n"
      ]
     },
     "metadata": {},
     "output_type": "display_data"
    },
    {
     "data": {
      "application/vnd.jupyter.widget-view+json": {
       "model_id": "e15297e407824a52b4ee745cad00728a",
       "version_major": 2,
       "version_minor": 0
      },
      "text/plain": [
       "Output()"
      ]
     },
     "metadata": {},
     "output_type": "display_data"
    },
    {
     "data": {
      "text/html": [
       "<pre style=\"white-space:pre;overflow-x:auto;line-height:normal;font-family:Menlo,'DejaVu Sans Mono',consolas,'Courier New',monospace\"></pre>\n"
      ],
      "text/plain": []
     },
     "metadata": {},
     "output_type": "display_data"
    },
    {
     "data": {
      "text/html": [
       "<pre style=\"white-space:pre;overflow-x:auto;line-height:normal;font-family:Menlo,'DejaVu Sans Mono',consolas,'Courier New',monospace\">\n",
       "</pre>\n"
      ],
      "text/plain": [
       "\n"
      ]
     },
     "metadata": {},
     "output_type": "display_data"
    },
    {
     "data": {
      "application/vnd.jupyter.widget-view+json": {
       "model_id": "017670f8974746659803f0ea31bbf413",
       "version_major": 2,
       "version_minor": 0
      },
      "text/plain": [
       "Output()"
      ]
     },
     "metadata": {},
     "output_type": "display_data"
    },
    {
     "data": {
      "text/html": [
       "<pre style=\"white-space:pre;overflow-x:auto;line-height:normal;font-family:Menlo,'DejaVu Sans Mono',consolas,'Courier New',monospace\"></pre>\n"
      ],
      "text/plain": []
     },
     "metadata": {},
     "output_type": "display_data"
    },
    {
     "data": {
      "text/html": [
       "<pre style=\"white-space:pre;overflow-x:auto;line-height:normal;font-family:Menlo,'DejaVu Sans Mono',consolas,'Courier New',monospace\">\n",
       "</pre>\n"
      ],
      "text/plain": [
       "\n"
      ]
     },
     "metadata": {},
     "output_type": "display_data"
    },
    {
     "data": {
      "application/vnd.jupyter.widget-view+json": {
       "model_id": "f937ef895164413ca0410177d790973e",
       "version_major": 2,
       "version_minor": 0
      },
      "text/plain": [
       "Output()"
      ]
     },
     "metadata": {},
     "output_type": "display_data"
    },
    {
     "data": {
      "text/html": [
       "<pre style=\"white-space:pre;overflow-x:auto;line-height:normal;font-family:Menlo,'DejaVu Sans Mono',consolas,'Courier New',monospace\"></pre>\n"
      ],
      "text/plain": []
     },
     "metadata": {},
     "output_type": "display_data"
    },
    {
     "data": {
      "text/html": [
       "<pre style=\"white-space:pre;overflow-x:auto;line-height:normal;font-family:Menlo,'DejaVu Sans Mono',consolas,'Courier New',monospace\">\n",
       "</pre>\n"
      ],
      "text/plain": [
       "\n"
      ]
     },
     "metadata": {},
     "output_type": "display_data"
    },
    {
     "data": {
      "application/vnd.jupyter.widget-view+json": {
       "model_id": "31a902344cfe417e958d9c9a95390d1c",
       "version_major": 2,
       "version_minor": 0
      },
      "text/plain": [
       "Output()"
      ]
     },
     "metadata": {},
     "output_type": "display_data"
    },
    {
     "data": {
      "text/html": [
       "<pre style=\"white-space:pre;overflow-x:auto;line-height:normal;font-family:Menlo,'DejaVu Sans Mono',consolas,'Courier New',monospace\"></pre>\n"
      ],
      "text/plain": []
     },
     "metadata": {},
     "output_type": "display_data"
    },
    {
     "data": {
      "text/html": [
       "<pre style=\"white-space:pre;overflow-x:auto;line-height:normal;font-family:Menlo,'DejaVu Sans Mono',consolas,'Courier New',monospace\">\n",
       "</pre>\n"
      ],
      "text/plain": [
       "\n"
      ]
     },
     "metadata": {},
     "output_type": "display_data"
    },
    {
     "data": {
      "application/vnd.jupyter.widget-view+json": {
       "model_id": "51ca40316bd04d9cabe814d602c9de37",
       "version_major": 2,
       "version_minor": 0
      },
      "text/plain": [
       "Output()"
      ]
     },
     "metadata": {},
     "output_type": "display_data"
    },
    {
     "data": {
      "text/html": [
       "<pre style=\"white-space:pre;overflow-x:auto;line-height:normal;font-family:Menlo,'DejaVu Sans Mono',consolas,'Courier New',monospace\"></pre>\n"
      ],
      "text/plain": []
     },
     "metadata": {},
     "output_type": "display_data"
    },
    {
     "data": {
      "text/html": [
       "<pre style=\"white-space:pre;overflow-x:auto;line-height:normal;font-family:Menlo,'DejaVu Sans Mono',consolas,'Courier New',monospace\">\n",
       "</pre>\n"
      ],
      "text/plain": [
       "\n"
      ]
     },
     "metadata": {},
     "output_type": "display_data"
    },
    {
     "data": {
      "application/vnd.jupyter.widget-view+json": {
       "model_id": "308f8bd6a6f8428ba6d9aeaf02481d9f",
       "version_major": 2,
       "version_minor": 0
      },
      "text/plain": [
       "Output()"
      ]
     },
     "metadata": {},
     "output_type": "display_data"
    },
    {
     "data": {
      "text/html": [
       "<pre style=\"white-space:pre;overflow-x:auto;line-height:normal;font-family:Menlo,'DejaVu Sans Mono',consolas,'Courier New',monospace\"></pre>\n"
      ],
      "text/plain": []
     },
     "metadata": {},
     "output_type": "display_data"
    },
    {
     "data": {
      "text/html": [
       "<pre style=\"white-space:pre;overflow-x:auto;line-height:normal;font-family:Menlo,'DejaVu Sans Mono',consolas,'Courier New',monospace\">\n",
       "</pre>\n"
      ],
      "text/plain": [
       "\n"
      ]
     },
     "metadata": {},
     "output_type": "display_data"
    },
    {
     "data": {
      "application/vnd.jupyter.widget-view+json": {
       "model_id": "af2ff28a1ea046988bd8591793c2918f",
       "version_major": 2,
       "version_minor": 0
      },
      "text/plain": [
       "Output()"
      ]
     },
     "metadata": {},
     "output_type": "display_data"
    },
    {
     "data": {
      "text/html": [
       "<pre style=\"white-space:pre;overflow-x:auto;line-height:normal;font-family:Menlo,'DejaVu Sans Mono',consolas,'Courier New',monospace\"></pre>\n"
      ],
      "text/plain": []
     },
     "metadata": {},
     "output_type": "display_data"
    },
    {
     "data": {
      "text/html": [
       "<pre style=\"white-space:pre;overflow-x:auto;line-height:normal;font-family:Menlo,'DejaVu Sans Mono',consolas,'Courier New',monospace\">\n",
       "</pre>\n"
      ],
      "text/plain": [
       "\n"
      ]
     },
     "metadata": {},
     "output_type": "display_data"
    },
    {
     "data": {
      "application/vnd.jupyter.widget-view+json": {
       "model_id": "7a30e2b50abd40e2a5e437f96f5d378d",
       "version_major": 2,
       "version_minor": 0
      },
      "text/plain": [
       "Output()"
      ]
     },
     "metadata": {},
     "output_type": "display_data"
    },
    {
     "data": {
      "text/html": [
       "<pre style=\"white-space:pre;overflow-x:auto;line-height:normal;font-family:Menlo,'DejaVu Sans Mono',consolas,'Courier New',monospace\"></pre>\n"
      ],
      "text/plain": []
     },
     "metadata": {},
     "output_type": "display_data"
    },
    {
     "data": {
      "text/html": [
       "<pre style=\"white-space:pre;overflow-x:auto;line-height:normal;font-family:Menlo,'DejaVu Sans Mono',consolas,'Courier New',monospace\">\n",
       "</pre>\n"
      ],
      "text/plain": [
       "\n"
      ]
     },
     "metadata": {},
     "output_type": "display_data"
    },
    {
     "data": {
      "application/vnd.jupyter.widget-view+json": {
       "model_id": "a889ac72f43745d295c3377bc0c34015",
       "version_major": 2,
       "version_minor": 0
      },
      "text/plain": [
       "Output()"
      ]
     },
     "metadata": {},
     "output_type": "display_data"
    },
    {
     "data": {
      "text/html": [
       "<pre style=\"white-space:pre;overflow-x:auto;line-height:normal;font-family:Menlo,'DejaVu Sans Mono',consolas,'Courier New',monospace\"></pre>\n"
      ],
      "text/plain": []
     },
     "metadata": {},
     "output_type": "display_data"
    },
    {
     "data": {
      "text/html": [
       "<pre style=\"white-space:pre;overflow-x:auto;line-height:normal;font-family:Menlo,'DejaVu Sans Mono',consolas,'Courier New',monospace\">\n",
       "</pre>\n"
      ],
      "text/plain": [
       "\n"
      ]
     },
     "metadata": {},
     "output_type": "display_data"
    },
    {
     "data": {
      "application/vnd.jupyter.widget-view+json": {
       "model_id": "d2339d4414e9453e9a84e46fedbef46a",
       "version_major": 2,
       "version_minor": 0
      },
      "text/plain": [
       "Output()"
      ]
     },
     "metadata": {},
     "output_type": "display_data"
    },
    {
     "data": {
      "text/html": [
       "<pre style=\"white-space:pre;overflow-x:auto;line-height:normal;font-family:Menlo,'DejaVu Sans Mono',consolas,'Courier New',monospace\"></pre>\n"
      ],
      "text/plain": []
     },
     "metadata": {},
     "output_type": "display_data"
    },
    {
     "data": {
      "text/html": [
       "<pre style=\"white-space:pre;overflow-x:auto;line-height:normal;font-family:Menlo,'DejaVu Sans Mono',consolas,'Courier New',monospace\">\n",
       "</pre>\n"
      ],
      "text/plain": [
       "\n"
      ]
     },
     "metadata": {},
     "output_type": "display_data"
    },
    {
     "data": {
      "application/vnd.jupyter.widget-view+json": {
       "model_id": "40fca92b1bb14efa9c81fbf934bb67a9",
       "version_major": 2,
       "version_minor": 0
      },
      "text/plain": [
       "Output()"
      ]
     },
     "metadata": {},
     "output_type": "display_data"
    },
    {
     "data": {
      "text/html": [
       "<pre style=\"white-space:pre;overflow-x:auto;line-height:normal;font-family:Menlo,'DejaVu Sans Mono',consolas,'Courier New',monospace\"></pre>\n"
      ],
      "text/plain": []
     },
     "metadata": {},
     "output_type": "display_data"
    },
    {
     "data": {
      "text/html": [
       "<pre style=\"white-space:pre;overflow-x:auto;line-height:normal;font-family:Menlo,'DejaVu Sans Mono',consolas,'Courier New',monospace\">\n",
       "</pre>\n"
      ],
      "text/plain": [
       "\n"
      ]
     },
     "metadata": {},
     "output_type": "display_data"
    },
    {
     "data": {
      "application/vnd.jupyter.widget-view+json": {
       "model_id": "35958f7171734ea9810ac63a89d5fe85",
       "version_major": 2,
       "version_minor": 0
      },
      "text/plain": [
       "Output()"
      ]
     },
     "metadata": {},
     "output_type": "display_data"
    },
    {
     "data": {
      "text/html": [
       "<pre style=\"white-space:pre;overflow-x:auto;line-height:normal;font-family:Menlo,'DejaVu Sans Mono',consolas,'Courier New',monospace\"></pre>\n"
      ],
      "text/plain": []
     },
     "metadata": {},
     "output_type": "display_data"
    },
    {
     "data": {
      "text/html": [
       "<pre style=\"white-space:pre;overflow-x:auto;line-height:normal;font-family:Menlo,'DejaVu Sans Mono',consolas,'Courier New',monospace\">\n",
       "</pre>\n"
      ],
      "text/plain": [
       "\n"
      ]
     },
     "metadata": {},
     "output_type": "display_data"
    },
    {
     "data": {
      "application/vnd.jupyter.widget-view+json": {
       "model_id": "78f1647b2ade4b0db200e5b6c7df2d24",
       "version_major": 2,
       "version_minor": 0
      },
      "text/plain": [
       "Output()"
      ]
     },
     "metadata": {},
     "output_type": "display_data"
    },
    {
     "data": {
      "text/html": [
       "<pre style=\"white-space:pre;overflow-x:auto;line-height:normal;font-family:Menlo,'DejaVu Sans Mono',consolas,'Courier New',monospace\"></pre>\n"
      ],
      "text/plain": []
     },
     "metadata": {},
     "output_type": "display_data"
    },
    {
     "data": {
      "text/html": [
       "<pre style=\"white-space:pre;overflow-x:auto;line-height:normal;font-family:Menlo,'DejaVu Sans Mono',consolas,'Courier New',monospace\">\n",
       "</pre>\n"
      ],
      "text/plain": [
       "\n"
      ]
     },
     "metadata": {},
     "output_type": "display_data"
    }
   ],
   "source": [
    "# Open the video file\n",
    "#video_path = 0\n",
    "cap = cv2.VideoCapture(\"file:///home/kristian/WLASL/videos_organized/address/01018.mp4\")\n",
    "#cap = cv2.VideoCapture(0)\n",
    "\n",
    "# Loop through the video frames\n",
    "while cap.isOpened():\n",
    "    # Read a frame from the video\n",
    "    success, frame = cap.read()\n",
    "\n",
    "    if success:\n",
    "        result_generator = inferencer(frame, show=False, return_vis = True,return_datasample=False)\n",
    "        result = next(result_generator)\n",
    "        image_array = cv2.cvtColor(result['visualization'][0], cv2.COLOR_RGB2BGR)\n",
    "        # Display the annotated frame\n",
    "        cv2.imshow(\"MMPose Inference\", image_array)\n",
    "\n",
    "        # Break the loop if 'q' is pressed\n",
    "        if cv2.waitKey(1) & 0xFF == ord(\"q\"):\n",
    "            break\n",
    "    else:\n",
    "        # Break the loop if the end of the video is reached\n",
    "        break\n",
    "\n",
    "# Release the video capture object and close the display window\n",
    "cap.release()\n",
    "cv2.destroyAllWindows()"
   ]
  },
  {
   "cell_type": "code",
   "execution_count": 11,
   "id": "141187ca",
   "metadata": {
    "ExecuteTime": {
     "end_time": "2023-07-30T21:27:33.455750Z",
     "start_time": "2023-07-30T21:27:33.446740Z"
    },
    "scrolled": true
   },
   "outputs": [
    {
     "data": {
      "text/plain": [
       "[[145.54398036003113, 60.2810754776001],\n",
       " [151.37948954105377, 52.20113968849182],\n",
       " [137.91292989253998, 53.098910331726074],\n",
       " [159.90831065177917, 58.48553419113159],\n",
       " [128.48633813858032, 60.729960799217224],\n",
       " [178.31260883808136, 95.74301588535309],\n",
       " [112.7753518819809, 98.88521313667297],\n",
       " [205.69461345672607, 150.50702512264252],\n",
       " [82.70003533363342, 154.99587833881378],\n",
       " [184.59700334072113, 128.0627590417862],\n",
       " [107.8376133441925, 131.6538416147232],\n",
       " [168.43713176250458, 187.764506816864],\n",
       " [125.34414088726044, 189.1111627817154],\n",
       " [148.2372922897339, 221.4309059381485],\n",
       " [125.34414088726044, 221.4309059381485],\n",
       " [173.8237556219101, 221.4309059381485],\n",
       " [129.38410878181458, 221.4309059381485],\n",
       " [172.92598497867584, 175.19571781158447],\n",
       " [176.96595287322998, 178.78680038452148],\n",
       " [102.89987480640411, 176.99125909805298],\n",
       " [124.89525556564331, 176.09348845481873],\n",
       " [115.91754913330078, 179.68457102775574],\n",
       " [113.22423720359802, 176.54237377643585],\n",
       " [128.93522346019745, 55.79222226142883],\n",
       " [129.38410878181458, 59.83219015598297],\n",
       " [130.28187942504883, 63.87215805053711],\n",
       " [131.17965006828308, 68.36101126670837],\n",
       " [132.52630603313446, 72.40097916126251],\n",
       " [134.7707326412201, 76.44094705581665],\n",
       " [137.91292989253998, 79.13425898551941],\n",
       " [141.504012465477, 81.82757091522217],\n",
       " [145.54398036003113, 82.2764562368393],\n",
       " [150.0328335762024, 81.37868559360504],\n",
       " [153.17503082752228, 78.68537366390228],\n",
       " [155.86834275722504, 75.09429109096527],\n",
       " [157.66388404369354, 71.05432319641113],\n",
       " [158.5616546869278, 66.56546998023987],\n",
       " [159.01054000854492, 62.0766167640686],\n",
       " [159.01054000854492, 57.58776354789734],\n",
       " [159.01054000854492, 53.5477956533432],\n",
       " [132.07742071151733, 51.30336904525757],\n",
       " [134.32184731960297, 49.50782775878906],\n",
       " [136.5662739276886, 49.058942437171936],\n",
       " [138.81070053577423, 48.61005711555481],\n",
       " [141.504012465477, 49.058942437171936],\n",
       " [147.33952164649963, 48.61005711555481],\n",
       " [149.58394825458527, 48.16117179393768],\n",
       " [151.8283748626709, 47.71228647232056],\n",
       " [154.07280147075653, 48.16117179393768],\n",
       " [156.31722807884216, 49.50782775878906],\n",
       " [144.64620971679688, 53.098910331726074],\n",
       " [145.095095038414, 55.79222226142883],\n",
       " [145.095095038414, 58.036648869514465],\n",
       " [145.54398036003113, 60.729960799217224],\n",
       " [141.95289778709412, 63.87215805053711],\n",
       " [143.74843907356262, 63.87215805053711],\n",
       " [145.54398036003113, 64.32104337215424],\n",
       " [147.33952164649963, 63.87215805053711],\n",
       " [148.686177611351, 63.42327272891998],\n",
       " [134.7707326412201, 53.99668097496033],\n",
       " [136.5662739276886, 52.65002501010895],\n",
       " [138.81070053577423, 52.20113968849182],\n",
       " [141.05512714385986, 53.99668097496033],\n",
       " [138.81070053577423, 54.445566296577454],\n",
       " [136.5662739276886, 54.89445161819458],\n",
       " [148.2372922897339, 53.5477956533432],\n",
       " [150.0328335762024, 51.752254366874695],\n",
       " [152.27726018428802, 51.30336904525757],\n",
       " [154.52168679237366, 52.65002501010895],\n",
       " [152.27726018428802, 53.5477956533432],\n",
       " [150.48171889781952, 53.99668097496033],\n",
       " [139.70847117900848, 70.605437874794],\n",
       " [141.95289778709412, 68.8098965883255],\n",
       " [144.19732439517975, 67.91212594509125],\n",
       " [145.54398036003113, 67.91212594509125],\n",
       " [146.8906363248825, 67.91212594509125],\n",
       " [149.13506293296814, 68.36101126670837],\n",
       " [151.37948954105377, 70.15655255317688],\n",
       " [150.0328335762024, 71.95209383964539],\n",
       " [148.2372922897339, 73.29874980449677],\n",
       " [145.99286568164825, 73.74763512611389],\n",
       " [143.2995537519455, 73.74763512611389],\n",
       " [141.504012465477, 72.40097916126251],\n",
       " [140.1573565006256, 70.605437874794],\n",
       " [142.85066843032837, 69.70766723155975],\n",
       " [145.54398036003113, 69.25878190994263],\n",
       " [148.2372922897339, 69.25878190994263],\n",
       " [150.48171889781952, 70.15655255317688],\n",
       " [148.2372922897339, 71.50320851802826],\n",
       " [145.54398036003113, 71.95209383964539],\n",
       " [142.85066843032837, 71.50320851802826],\n",
       " [183.69923269748688, 127.61387372016907],\n",
       " [179.2103794813156, 120.43170857429504],\n",
       " [174.27264094352722, 113.24954342842102],\n",
       " [169.33490240573883, 110.55623149871826],\n",
       " [165.2949345111847, 108.31180489063263],\n",
       " [167.98824644088745, 115.94285535812378],\n",
       " [162.60162258148193, 114.5961993932724],\n",
       " [163.05050790309906, 115.49397003650665],\n",
       " [165.2949345111847, 116.3917406797409],\n",
       " [166.64159047603607, 120.43170857429504],\n",
       " [161.25496661663055, 120.88059389591217],\n",
       " [163.05050790309906, 122.22724986076355],\n",
       " [167.53936111927032, 122.67613518238068],\n",
       " [166.64159047603607, 125.36944711208344],\n",
       " [162.1527372598648, 125.36944711208344],\n",
       " [164.39716386795044, 126.26721775531769],\n",
       " [168.43713176250458, 126.71610307693481],\n",
       " [167.53936111927032, 129.40941500663757],\n",
       " [163.9482785463333, 129.40941500663757],\n",
       " [165.2949345111847, 129.8583003282547],\n",
       " [167.98824644088745, 130.30718564987183],\n",
       " [108.73538398742676, 131.20495629310608],\n",
       " [112.7753518819809, 123.57390582561493],\n",
       " [117.26420509815216, 115.94285535812378],\n",
       " [121.75305831432343, 112.8006581068039],\n",
       " [125.79302620887756, 109.65846085548401],\n",
       " [124.89525556564331, 118.63616728782654],\n",
       " [129.8329941034317, 117.73839664459229],\n",
       " [129.38410878181458, 118.63616728782654],\n",
       " [126.24191153049469, 119.53393793106079],\n",
       " [126.69079685211182, 123.57390582561493],\n",
       " [131.6285353899002, 124.02279114723206],\n",
       " [128.93522346019745, 125.36944711208344],\n",
       " [124.44637024402618, 125.81833243370056],\n",
       " [127.13968217372894, 128.51164436340332],\n",
       " [131.17965006828308, 128.51164436340332],\n",
       " [128.0374528169632, 129.40941500663757],\n",
       " [123.99748492240906, 129.8583003282547],\n",
       " [126.24191153049469, 132.55161225795746],\n",
       " [129.38410878181458, 132.55161225795746],\n",
       " [127.13968217372894, 133.00049757957458],\n",
       " [124.44637024402618, 133.4493829011917]]"
      ]
     },
     "execution_count": 11,
     "metadata": {},
     "output_type": "execute_result"
    }
   ],
   "source": [
    "result['predictions'][0][0]['keypoints']"
   ]
  },
  {
   "cell_type": "code",
   "execution_count": 12,
   "id": "f6e45132",
   "metadata": {
    "ExecuteTime": {
     "end_time": "2023-07-30T21:27:41.356547Z",
     "start_time": "2023-07-30T21:27:41.349889Z"
    }
   },
   "outputs": [
    {
     "data": {
      "text/plain": [
       "(133, 2)"
      ]
     },
     "execution_count": 12,
     "metadata": {},
     "output_type": "execute_result"
    }
   ],
   "source": [
    "np.array(result['predictions'][0][0]['keypoints']).shape"
   ]
  },
  {
   "cell_type": "code",
   "execution_count": 13,
   "id": "d8ba8cc6",
   "metadata": {
    "ExecuteTime": {
     "end_time": "2023-07-30T21:27:43.500316Z",
     "start_time": "2023-07-30T21:27:43.495871Z"
    }
   },
   "outputs": [],
   "source": [
    "def extract_keypoints_from_file(filepath):\n",
    "    # Open the video file\n",
    "    cap = cv2.VideoCapture(filepath)\n",
    "\n",
    "    # Initialize an empty list to store the keypoints for each frame\n",
    "    keypoints = []\n",
    "\n",
    "    # Loop through the frames of the video\n",
    "    while cap.isOpened():\n",
    "        # Read a frame from the video\n",
    "        ret, frame = cap.read()\n",
    "        if not ret:\n",
    "            break\n",
    "\n",
    "        result_generator = inferencer(frame, show=False, return_vis = False,return_datasample=False)\n",
    "        result = next(result_generator)\n",
    "        # Extract the keypoints from the YOLO results object\n",
    "        if np.array(result['predictions'][0][0]['keypoints']).shape == (133, 2):\n",
    "            keypoint = np.array(result['predictions'][0][0]['keypoints']).flatten()\n",
    "        else:\n",
    "            keypoint = np.zeros(266)\n",
    "\n",
    "        # Append the keypoints to the list\n",
    "        keypoints.append(keypoint)\n",
    "        gc.collect()\n",
    "        torch.cuda.empty_cache()\n",
    "    # Release the video capture object and the YOLO model\n",
    "    cap.release()\n",
    "\n",
    "    # Convert the keypoints list to a NumPy array\n",
    "    return np.array(keypoints)\n"
   ]
  },
  {
   "cell_type": "code",
   "execution_count": 27,
   "id": "3d72be53",
   "metadata": {
    "ExecuteTime": {
     "end_time": "2023-07-30T15:16:26.384960Z",
     "start_time": "2023-07-30T15:16:11.013080Z"
    },
    "scrolled": true
   },
   "outputs": [
    {
     "data": {
      "text/html": [
       "<pre style=\"white-space:pre;overflow-x:auto;line-height:normal;font-family:Menlo,'DejaVu Sans Mono',consolas,'Courier New',monospace\">Inference <span style=\"color: #d12a66; text-decoration-color: #d12a66\">━</span><span style=\"color: #e6276c; text-decoration-color: #e6276c\">━</span><span style=\"color: #f42670; text-decoration-color: #f42670\">━</span><span style=\"color: #f92672; text-decoration-color: #f92672\">━</span><span style=\"color: #f42670; text-decoration-color: #f42670\">━</span><span style=\"color: #e6276c; text-decoration-color: #e6276c\">━</span><span style=\"color: #d12a66; text-decoration-color: #d12a66\">━</span><span style=\"color: #b72c5e; text-decoration-color: #b72c5e\">━</span><span style=\"color: #993056; text-decoration-color: #993056\">━</span><span style=\"color: #7b334d; text-decoration-color: #7b334d\">━</span><span style=\"color: #613545; text-decoration-color: #613545\">━</span><span style=\"color: #4c383f; text-decoration-color: #4c383f\">━</span><span style=\"color: #3e393b; text-decoration-color: #3e393b\">━</span><span style=\"color: #3a3a3a; text-decoration-color: #3a3a3a\">━</span><span style=\"color: #3e393b; text-decoration-color: #3e393b\">━</span><span style=\"color: #4c383f; text-decoration-color: #4c383f\">━</span><span style=\"color: #613545; text-decoration-color: #613545\">━</span><span style=\"color: #7b334d; text-decoration-color: #7b334d\">━</span><span style=\"color: #993056; text-decoration-color: #993056\">━</span><span style=\"color: #b72c5e; text-decoration-color: #b72c5e\">━</span><span style=\"color: #d12a66; text-decoration-color: #d12a66\">━</span><span style=\"color: #e6276c; text-decoration-color: #e6276c\">━</span><span style=\"color: #f42670; text-decoration-color: #f42670\">━</span><span style=\"color: #f92672; text-decoration-color: #f92672\">━</span><span style=\"color: #f42670; text-decoration-color: #f42670\">━</span><span style=\"color: #e6276c; text-decoration-color: #e6276c\">━</span><span style=\"color: #d12a66; text-decoration-color: #d12a66\">━</span><span style=\"color: #b72c5e; text-decoration-color: #b72c5e\">━</span><span style=\"color: #993056; text-decoration-color: #993056\">━</span><span style=\"color: #7b334d; text-decoration-color: #7b334d\">━</span><span style=\"color: #613545; text-decoration-color: #613545\">━</span><span style=\"color: #4c383f; text-decoration-color: #4c383f\">━</span><span style=\"color: #3e393b; text-decoration-color: #3e393b\">━</span><span style=\"color: #3a3a3a; text-decoration-color: #3a3a3a\">━</span><span style=\"color: #3e393b; text-decoration-color: #3e393b\">━</span><span style=\"color: #4c383f; text-decoration-color: #4c383f\">━</span><span style=\"color: #613545; text-decoration-color: #613545\">━</span><span style=\"color: #7b334d; text-decoration-color: #7b334d\">━</span><span style=\"color: #993056; text-decoration-color: #993056\">━</span><span style=\"color: #b72c5e; text-decoration-color: #b72c5e\">━</span>  <span style=\"color: #008080; text-decoration-color: #008080\"> </span>\n",
       "</pre>\n"
      ],
      "text/plain": [
       "Inference \u001b[38;2;209;42;102m━\u001b[0m\u001b[38;2;230;39;108m━\u001b[0m\u001b[38;2;244;38;112m━\u001b[0m\u001b[38;2;249;38;114m━\u001b[0m\u001b[38;2;244;38;112m━\u001b[0m\u001b[38;2;230;39;108m━\u001b[0m\u001b[38;2;209;42;102m━\u001b[0m\u001b[38;2;183;44;94m━\u001b[0m\u001b[38;2;153;48;86m━\u001b[0m\u001b[38;2;123;51;77m━\u001b[0m\u001b[38;2;97;53;69m━\u001b[0m\u001b[38;2;76;56;63m━\u001b[0m\u001b[38;2;62;57;59m━\u001b[0m\u001b[38;2;58;58;58m━\u001b[0m\u001b[38;2;62;57;59m━\u001b[0m\u001b[38;2;76;56;63m━\u001b[0m\u001b[38;2;97;53;69m━\u001b[0m\u001b[38;2;123;51;77m━\u001b[0m\u001b[38;2;153;48;86m━\u001b[0m\u001b[38;2;183;44;94m━\u001b[0m\u001b[38;2;209;42;102m━\u001b[0m\u001b[38;2;230;39;108m━\u001b[0m\u001b[38;2;244;38;112m━\u001b[0m\u001b[38;2;249;38;114m━\u001b[0m\u001b[38;2;244;38;112m━\u001b[0m\u001b[38;2;230;39;108m━\u001b[0m\u001b[38;2;209;42;102m━\u001b[0m\u001b[38;2;183;44;94m━\u001b[0m\u001b[38;2;153;48;86m━\u001b[0m\u001b[38;2;123;51;77m━\u001b[0m\u001b[38;2;97;53;69m━\u001b[0m\u001b[38;2;76;56;63m━\u001b[0m\u001b[38;2;62;57;59m━\u001b[0m\u001b[38;2;58;58;58m━\u001b[0m\u001b[38;2;62;57;59m━\u001b[0m\u001b[38;2;76;56;63m━\u001b[0m\u001b[38;2;97;53;69m━\u001b[0m\u001b[38;2;123;51;77m━\u001b[0m\u001b[38;2;153;48;86m━\u001b[0m\u001b[38;2;183;44;94m━\u001b[0m  \u001b[36m \u001b[0m\n"
      ]
     },
     "metadata": {},
     "output_type": "display_data"
    },
    {
     "data": {
      "text/html": [
       "<pre style=\"white-space:pre;overflow-x:auto;line-height:normal;font-family:Menlo,'DejaVu Sans Mono',consolas,'Courier New',monospace\"></pre>\n"
      ],
      "text/plain": []
     },
     "metadata": {},
     "output_type": "display_data"
    },
    {
     "data": {
      "text/html": [
       "<pre style=\"white-space:pre;overflow-x:auto;line-height:normal;font-family:Menlo,'DejaVu Sans Mono',consolas,'Courier New',monospace\">\n",
       "</pre>\n"
      ],
      "text/plain": [
       "\n"
      ]
     },
     "metadata": {},
     "output_type": "display_data"
    },
    {
     "data": {
      "application/vnd.jupyter.widget-view+json": {
       "model_id": "d68a40131d8e413ba5ea56c5ca2c6fc6",
       "version_major": 2,
       "version_minor": 0
      },
      "text/plain": [
       "Output()"
      ]
     },
     "metadata": {},
     "output_type": "display_data"
    },
    {
     "data": {
      "text/html": [
       "<pre style=\"white-space:pre;overflow-x:auto;line-height:normal;font-family:Menlo,'DejaVu Sans Mono',consolas,'Courier New',monospace\"></pre>\n"
      ],
      "text/plain": []
     },
     "metadata": {},
     "output_type": "display_data"
    },
    {
     "data": {
      "text/html": [
       "<pre style=\"white-space:pre;overflow-x:auto;line-height:normal;font-family:Menlo,'DejaVu Sans Mono',consolas,'Courier New',monospace\">\n",
       "</pre>\n"
      ],
      "text/plain": [
       "\n"
      ]
     },
     "metadata": {},
     "output_type": "display_data"
    },
    {
     "data": {
      "application/vnd.jupyter.widget-view+json": {
       "model_id": "614d1ca0dd624628912e6fc64dcb46bb",
       "version_major": 2,
       "version_minor": 0
      },
      "text/plain": [
       "Output()"
      ]
     },
     "metadata": {},
     "output_type": "display_data"
    }
   ],
   "source": [
    "result_generator = inferencer('webcam',\n",
    "                              show=True, return_vis = True,return_datasample=False,\n",
    "                              )\n",
    "results = [result for result in result_generator]\n",
    "cv2.destroyAllWindows()"
   ]
  },
  {
   "cell_type": "code",
   "execution_count": 21,
   "id": "b5121dce",
   "metadata": {
    "ExecuteTime": {
     "end_time": "2023-07-30T15:03:44.583113Z",
     "start_time": "2023-07-30T15:03:27.165660Z"
    },
    "scrolled": true
   },
   "outputs": [
    {
     "data": {
      "application/vnd.jupyter.widget-view+json": {
       "model_id": "c6a999e6bf2341dfa7077ac2706b5354",
       "version_major": 2,
       "version_minor": 0
      },
      "text/plain": [
       "Output()"
      ]
     },
     "metadata": {},
     "output_type": "display_data"
    },
    {
     "data": {
      "text/html": [
       "<pre style=\"white-space:pre;overflow-x:auto;line-height:normal;font-family:Menlo,'DejaVu Sans Mono',consolas,'Courier New',monospace\"></pre>\n"
      ],
      "text/plain": []
     },
     "metadata": {},
     "output_type": "display_data"
    },
    {
     "data": {
      "text/html": [
       "<pre style=\"white-space:pre;overflow-x:auto;line-height:normal;font-family:Menlo,'DejaVu Sans Mono',consolas,'Courier New',monospace\">\n",
       "</pre>\n"
      ],
      "text/plain": [
       "\n"
      ]
     },
     "metadata": {},
     "output_type": "display_data"
    },
    {
     "data": {
      "application/vnd.jupyter.widget-view+json": {
       "model_id": "1d19693b16e040eb85a0220af4da9f7e",
       "version_major": 2,
       "version_minor": 0
      },
      "text/plain": [
       "Output()"
      ]
     },
     "metadata": {},
     "output_type": "display_data"
    },
    {
     "data": {
      "text/html": [
       "<pre style=\"white-space:pre;overflow-x:auto;line-height:normal;font-family:Menlo,'DejaVu Sans Mono',consolas,'Courier New',monospace\"></pre>\n"
      ],
      "text/plain": []
     },
     "metadata": {},
     "output_type": "display_data"
    },
    {
     "data": {
      "text/html": [
       "<pre style=\"white-space:pre;overflow-x:auto;line-height:normal;font-family:Menlo,'DejaVu Sans Mono',consolas,'Courier New',monospace\">\n",
       "</pre>\n"
      ],
      "text/plain": [
       "\n"
      ]
     },
     "metadata": {},
     "output_type": "display_data"
    },
    {
     "data": {
      "application/vnd.jupyter.widget-view+json": {
       "model_id": "c0f0f9a0623b4500995ac3c5ad86e186",
       "version_major": 2,
       "version_minor": 0
      },
      "text/plain": [
       "Output()"
      ]
     },
     "metadata": {},
     "output_type": "display_data"
    },
    {
     "data": {
      "text/html": [
       "<pre style=\"white-space:pre;overflow-x:auto;line-height:normal;font-family:Menlo,'DejaVu Sans Mono',consolas,'Courier New',monospace\"></pre>\n"
      ],
      "text/plain": []
     },
     "metadata": {},
     "output_type": "display_data"
    },
    {
     "data": {
      "text/html": [
       "<pre style=\"white-space:pre;overflow-x:auto;line-height:normal;font-family:Menlo,'DejaVu Sans Mono',consolas,'Courier New',monospace\">\n",
       "</pre>\n"
      ],
      "text/plain": [
       "\n"
      ]
     },
     "metadata": {},
     "output_type": "display_data"
    },
    {
     "data": {
      "application/vnd.jupyter.widget-view+json": {
       "model_id": "cada81acfc6a4e809cfdde97a927fe56",
       "version_major": 2,
       "version_minor": 0
      },
      "text/plain": [
       "Output()"
      ]
     },
     "metadata": {},
     "output_type": "display_data"
    },
    {
     "data": {
      "text/html": [
       "<pre style=\"white-space:pre;overflow-x:auto;line-height:normal;font-family:Menlo,'DejaVu Sans Mono',consolas,'Courier New',monospace\"></pre>\n"
      ],
      "text/plain": []
     },
     "metadata": {},
     "output_type": "display_data"
    },
    {
     "data": {
      "text/html": [
       "<pre style=\"white-space:pre;overflow-x:auto;line-height:normal;font-family:Menlo,'DejaVu Sans Mono',consolas,'Courier New',monospace\">\n",
       "</pre>\n"
      ],
      "text/plain": [
       "\n"
      ]
     },
     "metadata": {},
     "output_type": "display_data"
    },
    {
     "data": {
      "application/vnd.jupyter.widget-view+json": {
       "model_id": "5a5f57899b8c440a901db3357007e9dd",
       "version_major": 2,
       "version_minor": 0
      },
      "text/plain": [
       "Output()"
      ]
     },
     "metadata": {},
     "output_type": "display_data"
    },
    {
     "data": {
      "text/html": [
       "<pre style=\"white-space:pre;overflow-x:auto;line-height:normal;font-family:Menlo,'DejaVu Sans Mono',consolas,'Courier New',monospace\"></pre>\n"
      ],
      "text/plain": []
     },
     "metadata": {},
     "output_type": "display_data"
    },
    {
     "data": {
      "text/html": [
       "<pre style=\"white-space:pre;overflow-x:auto;line-height:normal;font-family:Menlo,'DejaVu Sans Mono',consolas,'Courier New',monospace\">\n",
       "</pre>\n"
      ],
      "text/plain": [
       "\n"
      ]
     },
     "metadata": {},
     "output_type": "display_data"
    },
    {
     "data": {
      "application/vnd.jupyter.widget-view+json": {
       "model_id": "afa6a6f5e1094a6e8409f182b424500f",
       "version_major": 2,
       "version_minor": 0
      },
      "text/plain": [
       "Output()"
      ]
     },
     "metadata": {},
     "output_type": "display_data"
    },
    {
     "data": {
      "text/html": [
       "<pre style=\"white-space:pre;overflow-x:auto;line-height:normal;font-family:Menlo,'DejaVu Sans Mono',consolas,'Courier New',monospace\"></pre>\n"
      ],
      "text/plain": []
     },
     "metadata": {},
     "output_type": "display_data"
    },
    {
     "data": {
      "text/html": [
       "<pre style=\"white-space:pre;overflow-x:auto;line-height:normal;font-family:Menlo,'DejaVu Sans Mono',consolas,'Courier New',monospace\">\n",
       "</pre>\n"
      ],
      "text/plain": [
       "\n"
      ]
     },
     "metadata": {},
     "output_type": "display_data"
    },
    {
     "data": {
      "application/vnd.jupyter.widget-view+json": {
       "model_id": "d8d354a95e6e44e39314dd3003d2d8bf",
       "version_major": 2,
       "version_minor": 0
      },
      "text/plain": [
       "Output()"
      ]
     },
     "metadata": {},
     "output_type": "display_data"
    },
    {
     "data": {
      "text/html": [
       "<pre style=\"white-space:pre;overflow-x:auto;line-height:normal;font-family:Menlo,'DejaVu Sans Mono',consolas,'Courier New',monospace\"></pre>\n"
      ],
      "text/plain": []
     },
     "metadata": {},
     "output_type": "display_data"
    },
    {
     "data": {
      "text/html": [
       "<pre style=\"white-space:pre;overflow-x:auto;line-height:normal;font-family:Menlo,'DejaVu Sans Mono',consolas,'Courier New',monospace\">\n",
       "</pre>\n"
      ],
      "text/plain": [
       "\n"
      ]
     },
     "metadata": {},
     "output_type": "display_data"
    },
    {
     "data": {
      "application/vnd.jupyter.widget-view+json": {
       "model_id": "370c8f1f53684f719f4f332959c86449",
       "version_major": 2,
       "version_minor": 0
      },
      "text/plain": [
       "Output()"
      ]
     },
     "metadata": {},
     "output_type": "display_data"
    },
    {
     "data": {
      "text/html": [
       "<pre style=\"white-space:pre;overflow-x:auto;line-height:normal;font-family:Menlo,'DejaVu Sans Mono',consolas,'Courier New',monospace\"></pre>\n"
      ],
      "text/plain": []
     },
     "metadata": {},
     "output_type": "display_data"
    },
    {
     "data": {
      "text/html": [
       "<pre style=\"white-space:pre;overflow-x:auto;line-height:normal;font-family:Menlo,'DejaVu Sans Mono',consolas,'Courier New',monospace\">\n",
       "</pre>\n"
      ],
      "text/plain": [
       "\n"
      ]
     },
     "metadata": {},
     "output_type": "display_data"
    },
    {
     "data": {
      "application/vnd.jupyter.widget-view+json": {
       "model_id": "9f05196145434daab8c2f2c079582743",
       "version_major": 2,
       "version_minor": 0
      },
      "text/plain": [
       "Output()"
      ]
     },
     "metadata": {},
     "output_type": "display_data"
    },
    {
     "data": {
      "text/html": [
       "<pre style=\"white-space:pre;overflow-x:auto;line-height:normal;font-family:Menlo,'DejaVu Sans Mono',consolas,'Courier New',monospace\"></pre>\n"
      ],
      "text/plain": []
     },
     "metadata": {},
     "output_type": "display_data"
    },
    {
     "data": {
      "text/html": [
       "<pre style=\"white-space:pre;overflow-x:auto;line-height:normal;font-family:Menlo,'DejaVu Sans Mono',consolas,'Courier New',monospace\">\n",
       "</pre>\n"
      ],
      "text/plain": [
       "\n"
      ]
     },
     "metadata": {},
     "output_type": "display_data"
    },
    {
     "data": {
      "application/vnd.jupyter.widget-view+json": {
       "model_id": "cc1563be315a49448d27c5a1d4ec11e7",
       "version_major": 2,
       "version_minor": 0
      },
      "text/plain": [
       "Output()"
      ]
     },
     "metadata": {},
     "output_type": "display_data"
    },
    {
     "data": {
      "text/html": [
       "<pre style=\"white-space:pre;overflow-x:auto;line-height:normal;font-family:Menlo,'DejaVu Sans Mono',consolas,'Courier New',monospace\"></pre>\n"
      ],
      "text/plain": []
     },
     "metadata": {},
     "output_type": "display_data"
    },
    {
     "data": {
      "text/html": [
       "<pre style=\"white-space:pre;overflow-x:auto;line-height:normal;font-family:Menlo,'DejaVu Sans Mono',consolas,'Courier New',monospace\">\n",
       "</pre>\n"
      ],
      "text/plain": [
       "\n"
      ]
     },
     "metadata": {},
     "output_type": "display_data"
    },
    {
     "data": {
      "application/vnd.jupyter.widget-view+json": {
       "model_id": "6567e372e01247bf9fbc4c87de2f93ce",
       "version_major": 2,
       "version_minor": 0
      },
      "text/plain": [
       "Output()"
      ]
     },
     "metadata": {},
     "output_type": "display_data"
    },
    {
     "data": {
      "text/html": [
       "<pre style=\"white-space:pre;overflow-x:auto;line-height:normal;font-family:Menlo,'DejaVu Sans Mono',consolas,'Courier New',monospace\"></pre>\n"
      ],
      "text/plain": []
     },
     "metadata": {},
     "output_type": "display_data"
    },
    {
     "data": {
      "text/html": [
       "<pre style=\"white-space:pre;overflow-x:auto;line-height:normal;font-family:Menlo,'DejaVu Sans Mono',consolas,'Courier New',monospace\">\n",
       "</pre>\n"
      ],
      "text/plain": [
       "\n"
      ]
     },
     "metadata": {},
     "output_type": "display_data"
    },
    {
     "data": {
      "application/vnd.jupyter.widget-view+json": {
       "model_id": "ca42f8a3e0ca42d7be42adf4f7fba956",
       "version_major": 2,
       "version_minor": 0
      },
      "text/plain": [
       "Output()"
      ]
     },
     "metadata": {},
     "output_type": "display_data"
    },
    {
     "data": {
      "text/html": [
       "<pre style=\"white-space:pre;overflow-x:auto;line-height:normal;font-family:Menlo,'DejaVu Sans Mono',consolas,'Courier New',monospace\"></pre>\n"
      ],
      "text/plain": []
     },
     "metadata": {},
     "output_type": "display_data"
    },
    {
     "data": {
      "text/html": [
       "<pre style=\"white-space:pre;overflow-x:auto;line-height:normal;font-family:Menlo,'DejaVu Sans Mono',consolas,'Courier New',monospace\">\n",
       "</pre>\n"
      ],
      "text/plain": [
       "\n"
      ]
     },
     "metadata": {},
     "output_type": "display_data"
    },
    {
     "data": {
      "application/vnd.jupyter.widget-view+json": {
       "model_id": "7e953c4f59eb4ea2bd0c52bc8683f3b0",
       "version_major": 2,
       "version_minor": 0
      },
      "text/plain": [
       "Output()"
      ]
     },
     "metadata": {},
     "output_type": "display_data"
    },
    {
     "data": {
      "text/html": [
       "<pre style=\"white-space:pre;overflow-x:auto;line-height:normal;font-family:Menlo,'DejaVu Sans Mono',consolas,'Courier New',monospace\"></pre>\n"
      ],
      "text/plain": []
     },
     "metadata": {},
     "output_type": "display_data"
    },
    {
     "data": {
      "text/html": [
       "<pre style=\"white-space:pre;overflow-x:auto;line-height:normal;font-family:Menlo,'DejaVu Sans Mono',consolas,'Courier New',monospace\">\n",
       "</pre>\n"
      ],
      "text/plain": [
       "\n"
      ]
     },
     "metadata": {},
     "output_type": "display_data"
    },
    {
     "data": {
      "application/vnd.jupyter.widget-view+json": {
       "model_id": "13c9e8ceffa64526ad759d4c22a24539",
       "version_major": 2,
       "version_minor": 0
      },
      "text/plain": [
       "Output()"
      ]
     },
     "metadata": {},
     "output_type": "display_data"
    },
    {
     "data": {
      "text/html": [
       "<pre style=\"white-space:pre;overflow-x:auto;line-height:normal;font-family:Menlo,'DejaVu Sans Mono',consolas,'Courier New',monospace\"></pre>\n"
      ],
      "text/plain": []
     },
     "metadata": {},
     "output_type": "display_data"
    },
    {
     "data": {
      "text/html": [
       "<pre style=\"white-space:pre;overflow-x:auto;line-height:normal;font-family:Menlo,'DejaVu Sans Mono',consolas,'Courier New',monospace\">\n",
       "</pre>\n"
      ],
      "text/plain": [
       "\n"
      ]
     },
     "metadata": {},
     "output_type": "display_data"
    },
    {
     "data": {
      "application/vnd.jupyter.widget-view+json": {
       "model_id": "225105651b084c92bc3064ccd83cf3f1",
       "version_major": 2,
       "version_minor": 0
      },
      "text/plain": [
       "Output()"
      ]
     },
     "metadata": {},
     "output_type": "display_data"
    },
    {
     "data": {
      "text/html": [
       "<pre style=\"white-space:pre;overflow-x:auto;line-height:normal;font-family:Menlo,'DejaVu Sans Mono',consolas,'Courier New',monospace\"></pre>\n"
      ],
      "text/plain": []
     },
     "metadata": {},
     "output_type": "display_data"
    },
    {
     "data": {
      "text/html": [
       "<pre style=\"white-space:pre;overflow-x:auto;line-height:normal;font-family:Menlo,'DejaVu Sans Mono',consolas,'Courier New',monospace\">\n",
       "</pre>\n"
      ],
      "text/plain": [
       "\n"
      ]
     },
     "metadata": {},
     "output_type": "display_data"
    },
    {
     "data": {
      "application/vnd.jupyter.widget-view+json": {
       "model_id": "9d7efbb0d42d48edb0cd88d5fa04dfef",
       "version_major": 2,
       "version_minor": 0
      },
      "text/plain": [
       "Output()"
      ]
     },
     "metadata": {},
     "output_type": "display_data"
    },
    {
     "data": {
      "text/html": [
       "<pre style=\"white-space:pre;overflow-x:auto;line-height:normal;font-family:Menlo,'DejaVu Sans Mono',consolas,'Courier New',monospace\"></pre>\n"
      ],
      "text/plain": []
     },
     "metadata": {},
     "output_type": "display_data"
    },
    {
     "data": {
      "text/html": [
       "<pre style=\"white-space:pre;overflow-x:auto;line-height:normal;font-family:Menlo,'DejaVu Sans Mono',consolas,'Courier New',monospace\">\n",
       "</pre>\n"
      ],
      "text/plain": [
       "\n"
      ]
     },
     "metadata": {},
     "output_type": "display_data"
    },
    {
     "data": {
      "application/vnd.jupyter.widget-view+json": {
       "model_id": "64fe8aa1d3de492f99bf9f6ea01d66a7",
       "version_major": 2,
       "version_minor": 0
      },
      "text/plain": [
       "Output()"
      ]
     },
     "metadata": {},
     "output_type": "display_data"
    },
    {
     "data": {
      "text/html": [
       "<pre style=\"white-space:pre;overflow-x:auto;line-height:normal;font-family:Menlo,'DejaVu Sans Mono',consolas,'Courier New',monospace\"></pre>\n"
      ],
      "text/plain": []
     },
     "metadata": {},
     "output_type": "display_data"
    },
    {
     "data": {
      "text/html": [
       "<pre style=\"white-space:pre;overflow-x:auto;line-height:normal;font-family:Menlo,'DejaVu Sans Mono',consolas,'Courier New',monospace\">\n",
       "</pre>\n"
      ],
      "text/plain": [
       "\n"
      ]
     },
     "metadata": {},
     "output_type": "display_data"
    },
    {
     "data": {
      "application/vnd.jupyter.widget-view+json": {
       "model_id": "359020f27358406384965350c1356cbe",
       "version_major": 2,
       "version_minor": 0
      },
      "text/plain": [
       "Output()"
      ]
     },
     "metadata": {},
     "output_type": "display_data"
    },
    {
     "data": {
      "text/html": [
       "<pre style=\"white-space:pre;overflow-x:auto;line-height:normal;font-family:Menlo,'DejaVu Sans Mono',consolas,'Courier New',monospace\"></pre>\n"
      ],
      "text/plain": []
     },
     "metadata": {},
     "output_type": "display_data"
    },
    {
     "data": {
      "text/html": [
       "<pre style=\"white-space:pre;overflow-x:auto;line-height:normal;font-family:Menlo,'DejaVu Sans Mono',consolas,'Courier New',monospace\">\n",
       "</pre>\n"
      ],
      "text/plain": [
       "\n"
      ]
     },
     "metadata": {},
     "output_type": "display_data"
    },
    {
     "data": {
      "application/vnd.jupyter.widget-view+json": {
       "model_id": "ac0fb194f4164a339aba4f489e570ac2",
       "version_major": 2,
       "version_minor": 0
      },
      "text/plain": [
       "Output()"
      ]
     },
     "metadata": {},
     "output_type": "display_data"
    },
    {
     "data": {
      "text/html": [
       "<pre style=\"white-space:pre;overflow-x:auto;line-height:normal;font-family:Menlo,'DejaVu Sans Mono',consolas,'Courier New',monospace\"></pre>\n"
      ],
      "text/plain": []
     },
     "metadata": {},
     "output_type": "display_data"
    },
    {
     "data": {
      "text/html": [
       "<pre style=\"white-space:pre;overflow-x:auto;line-height:normal;font-family:Menlo,'DejaVu Sans Mono',consolas,'Courier New',monospace\">\n",
       "</pre>\n"
      ],
      "text/plain": [
       "\n"
      ]
     },
     "metadata": {},
     "output_type": "display_data"
    },
    {
     "data": {
      "application/vnd.jupyter.widget-view+json": {
       "model_id": "c6cf1cf2b8cf4a7ba92d30d88667de9a",
       "version_major": 2,
       "version_minor": 0
      },
      "text/plain": [
       "Output()"
      ]
     },
     "metadata": {},
     "output_type": "display_data"
    },
    {
     "data": {
      "text/html": [
       "<pre style=\"white-space:pre;overflow-x:auto;line-height:normal;font-family:Menlo,'DejaVu Sans Mono',consolas,'Courier New',monospace\"></pre>\n"
      ],
      "text/plain": []
     },
     "metadata": {},
     "output_type": "display_data"
    },
    {
     "data": {
      "text/html": [
       "<pre style=\"white-space:pre;overflow-x:auto;line-height:normal;font-family:Menlo,'DejaVu Sans Mono',consolas,'Courier New',monospace\">\n",
       "</pre>\n"
      ],
      "text/plain": [
       "\n"
      ]
     },
     "metadata": {},
     "output_type": "display_data"
    },
    {
     "data": {
      "application/vnd.jupyter.widget-view+json": {
       "model_id": "3b67f97cbe274262b426ffa532bb178a",
       "version_major": 2,
       "version_minor": 0
      },
      "text/plain": [
       "Output()"
      ]
     },
     "metadata": {},
     "output_type": "display_data"
    },
    {
     "data": {
      "text/html": [
       "<pre style=\"white-space:pre;overflow-x:auto;line-height:normal;font-family:Menlo,'DejaVu Sans Mono',consolas,'Courier New',monospace\"></pre>\n"
      ],
      "text/plain": []
     },
     "metadata": {},
     "output_type": "display_data"
    },
    {
     "data": {
      "text/html": [
       "<pre style=\"white-space:pre;overflow-x:auto;line-height:normal;font-family:Menlo,'DejaVu Sans Mono',consolas,'Courier New',monospace\">\n",
       "</pre>\n"
      ],
      "text/plain": [
       "\n"
      ]
     },
     "metadata": {},
     "output_type": "display_data"
    },
    {
     "data": {
      "application/vnd.jupyter.widget-view+json": {
       "model_id": "a15e552902dc4585b5e8621223be6b0b",
       "version_major": 2,
       "version_minor": 0
      },
      "text/plain": [
       "Output()"
      ]
     },
     "metadata": {},
     "output_type": "display_data"
    },
    {
     "data": {
      "text/html": [
       "<pre style=\"white-space:pre;overflow-x:auto;line-height:normal;font-family:Menlo,'DejaVu Sans Mono',consolas,'Courier New',monospace\"></pre>\n"
      ],
      "text/plain": []
     },
     "metadata": {},
     "output_type": "display_data"
    },
    {
     "data": {
      "text/html": [
       "<pre style=\"white-space:pre;overflow-x:auto;line-height:normal;font-family:Menlo,'DejaVu Sans Mono',consolas,'Courier New',monospace\">\n",
       "</pre>\n"
      ],
      "text/plain": [
       "\n"
      ]
     },
     "metadata": {},
     "output_type": "display_data"
    },
    {
     "data": {
      "application/vnd.jupyter.widget-view+json": {
       "model_id": "58981a344149436795bc39e8d5c85371",
       "version_major": 2,
       "version_minor": 0
      },
      "text/plain": [
       "Output()"
      ]
     },
     "metadata": {},
     "output_type": "display_data"
    },
    {
     "data": {
      "text/html": [
       "<pre style=\"white-space:pre;overflow-x:auto;line-height:normal;font-family:Menlo,'DejaVu Sans Mono',consolas,'Courier New',monospace\">Inference <span style=\"color: #4c383f; text-decoration-color: #4c383f\">━</span><span style=\"color: #613545; text-decoration-color: #613545\">━</span><span style=\"color: #7b334d; text-decoration-color: #7b334d\">━</span><span style=\"color: #993056; text-decoration-color: #993056\">━</span><span style=\"color: #b72c5e; text-decoration-color: #b72c5e\">━</span><span style=\"color: #d12a66; text-decoration-color: #d12a66\">━</span><span style=\"color: #e6276c; text-decoration-color: #e6276c\">━</span><span style=\"color: #f42670; text-decoration-color: #f42670\">━</span><span style=\"color: #f92672; text-decoration-color: #f92672\">━</span><span style=\"color: #f42670; text-decoration-color: #f42670\">━</span><span style=\"color: #e6276c; text-decoration-color: #e6276c\">━</span><span style=\"color: #d12a66; text-decoration-color: #d12a66\">━</span><span style=\"color: #b72c5e; text-decoration-color: #b72c5e\">━</span><span style=\"color: #993056; text-decoration-color: #993056\">━</span><span style=\"color: #7b334d; text-decoration-color: #7b334d\">━</span><span style=\"color: #613545; text-decoration-color: #613545\">━</span><span style=\"color: #4c383f; text-decoration-color: #4c383f\">━</span><span style=\"color: #3e393b; text-decoration-color: #3e393b\">━</span><span style=\"color: #3a3a3a; text-decoration-color: #3a3a3a\">━</span><span style=\"color: #3e393b; text-decoration-color: #3e393b\">━</span><span style=\"color: #4c383f; text-decoration-color: #4c383f\">━</span><span style=\"color: #613545; text-decoration-color: #613545\">━</span><span style=\"color: #7b334d; text-decoration-color: #7b334d\">━</span><span style=\"color: #993056; text-decoration-color: #993056\">━</span><span style=\"color: #b72c5e; text-decoration-color: #b72c5e\">━</span><span style=\"color: #d12a66; text-decoration-color: #d12a66\">━</span><span style=\"color: #e6276c; text-decoration-color: #e6276c\">━</span><span style=\"color: #f42670; text-decoration-color: #f42670\">━</span><span style=\"color: #f92672; text-decoration-color: #f92672\">━</span><span style=\"color: #f42670; text-decoration-color: #f42670\">━</span><span style=\"color: #e6276c; text-decoration-color: #e6276c\">━</span><span style=\"color: #d12a66; text-decoration-color: #d12a66\">━</span><span style=\"color: #b72c5e; text-decoration-color: #b72c5e\">━</span><span style=\"color: #993056; text-decoration-color: #993056\">━</span><span style=\"color: #7b334d; text-decoration-color: #7b334d\">━</span><span style=\"color: #613545; text-decoration-color: #613545\">━</span><span style=\"color: #4c383f; text-decoration-color: #4c383f\">━</span><span style=\"color: #3e393b; text-decoration-color: #3e393b\">━</span><span style=\"color: #3a3a3a; text-decoration-color: #3a3a3a\">━</span><span style=\"color: #3e393b; text-decoration-color: #3e393b\">━</span>  <span style=\"color: #008080; text-decoration-color: #008080\"> </span>\n",
       "</pre>\n"
      ],
      "text/plain": [
       "Inference \u001b[38;2;76;56;63m━\u001b[0m\u001b[38;2;97;53;69m━\u001b[0m\u001b[38;2;123;51;77m━\u001b[0m\u001b[38;2;153;48;86m━\u001b[0m\u001b[38;2;183;44;94m━\u001b[0m\u001b[38;2;209;42;102m━\u001b[0m\u001b[38;2;230;39;108m━\u001b[0m\u001b[38;2;244;38;112m━\u001b[0m\u001b[38;2;249;38;114m━\u001b[0m\u001b[38;2;244;38;112m━\u001b[0m\u001b[38;2;230;39;108m━\u001b[0m\u001b[38;2;209;42;102m━\u001b[0m\u001b[38;2;183;44;94m━\u001b[0m\u001b[38;2;153;48;86m━\u001b[0m\u001b[38;2;123;51;77m━\u001b[0m\u001b[38;2;97;53;69m━\u001b[0m\u001b[38;2;76;56;63m━\u001b[0m\u001b[38;2;62;57;59m━\u001b[0m\u001b[38;2;58;58;58m━\u001b[0m\u001b[38;2;62;57;59m━\u001b[0m\u001b[38;2;76;56;63m━\u001b[0m\u001b[38;2;97;53;69m━\u001b[0m\u001b[38;2;123;51;77m━\u001b[0m\u001b[38;2;153;48;86m━\u001b[0m\u001b[38;2;183;44;94m━\u001b[0m\u001b[38;2;209;42;102m━\u001b[0m\u001b[38;2;230;39;108m━\u001b[0m\u001b[38;2;244;38;112m━\u001b[0m\u001b[38;2;249;38;114m━\u001b[0m\u001b[38;2;244;38;112m━\u001b[0m\u001b[38;2;230;39;108m━\u001b[0m\u001b[38;2;209;42;102m━\u001b[0m\u001b[38;2;183;44;94m━\u001b[0m\u001b[38;2;153;48;86m━\u001b[0m\u001b[38;2;123;51;77m━\u001b[0m\u001b[38;2;97;53;69m━\u001b[0m\u001b[38;2;76;56;63m━\u001b[0m\u001b[38;2;62;57;59m━\u001b[0m\u001b[38;2;58;58;58m━\u001b[0m\u001b[38;2;62;57;59m━\u001b[0m  \u001b[36m \u001b[0m\n"
      ]
     },
     "metadata": {},
     "output_type": "display_data"
    },
    {
     "data": {
      "text/html": [
       "<pre style=\"white-space:pre;overflow-x:auto;line-height:normal;font-family:Menlo,'DejaVu Sans Mono',consolas,'Courier New',monospace\"></pre>\n"
      ],
      "text/plain": []
     },
     "metadata": {},
     "output_type": "display_data"
    },
    {
     "data": {
      "text/html": [
       "<pre style=\"white-space:pre;overflow-x:auto;line-height:normal;font-family:Menlo,'DejaVu Sans Mono',consolas,'Courier New',monospace\">\n",
       "</pre>\n"
      ],
      "text/plain": [
       "\n"
      ]
     },
     "metadata": {},
     "output_type": "display_data"
    },
    {
     "data": {
      "application/vnd.jupyter.widget-view+json": {
       "model_id": "676b3464f4104db58bc88d3a87508f3e",
       "version_major": 2,
       "version_minor": 0
      },
      "text/plain": [
       "Output()"
      ]
     },
     "metadata": {},
     "output_type": "display_data"
    },
    {
     "data": {
      "text/html": [
       "<pre style=\"white-space:pre;overflow-x:auto;line-height:normal;font-family:Menlo,'DejaVu Sans Mono',consolas,'Courier New',monospace\"></pre>\n"
      ],
      "text/plain": []
     },
     "metadata": {},
     "output_type": "display_data"
    },
    {
     "data": {
      "text/html": [
       "<pre style=\"white-space:pre;overflow-x:auto;line-height:normal;font-family:Menlo,'DejaVu Sans Mono',consolas,'Courier New',monospace\">\n",
       "</pre>\n"
      ],
      "text/plain": [
       "\n"
      ]
     },
     "metadata": {},
     "output_type": "display_data"
    },
    {
     "data": {
      "application/vnd.jupyter.widget-view+json": {
       "model_id": "1f216d92fe1645ef939e4c6dcbd67243",
       "version_major": 2,
       "version_minor": 0
      },
      "text/plain": [
       "Output()"
      ]
     },
     "metadata": {},
     "output_type": "display_data"
    },
    {
     "data": {
      "text/html": [
       "<pre style=\"white-space:pre;overflow-x:auto;line-height:normal;font-family:Menlo,'DejaVu Sans Mono',consolas,'Courier New',monospace\"></pre>\n"
      ],
      "text/plain": []
     },
     "metadata": {},
     "output_type": "display_data"
    },
    {
     "data": {
      "text/html": [
       "<pre style=\"white-space:pre;overflow-x:auto;line-height:normal;font-family:Menlo,'DejaVu Sans Mono',consolas,'Courier New',monospace\">\n",
       "</pre>\n"
      ],
      "text/plain": [
       "\n"
      ]
     },
     "metadata": {},
     "output_type": "display_data"
    },
    {
     "data": {
      "application/vnd.jupyter.widget-view+json": {
       "model_id": "a4d1ea5345e64bd6ba674afe17703684",
       "version_major": 2,
       "version_minor": 0
      },
      "text/plain": [
       "Output()"
      ]
     },
     "metadata": {},
     "output_type": "display_data"
    },
    {
     "data": {
      "text/html": [
       "<pre style=\"white-space:pre;overflow-x:auto;line-height:normal;font-family:Menlo,'DejaVu Sans Mono',consolas,'Courier New',monospace\"></pre>\n"
      ],
      "text/plain": []
     },
     "metadata": {},
     "output_type": "display_data"
    },
    {
     "data": {
      "text/html": [
       "<pre style=\"white-space:pre;overflow-x:auto;line-height:normal;font-family:Menlo,'DejaVu Sans Mono',consolas,'Courier New',monospace\">\n",
       "</pre>\n"
      ],
      "text/plain": [
       "\n"
      ]
     },
     "metadata": {},
     "output_type": "display_data"
    },
    {
     "data": {
      "application/vnd.jupyter.widget-view+json": {
       "model_id": "edbfdcc9aa384e169d623f1982a0f898",
       "version_major": 2,
       "version_minor": 0
      },
      "text/plain": [
       "Output()"
      ]
     },
     "metadata": {},
     "output_type": "display_data"
    },
    {
     "data": {
      "text/html": [
       "<pre style=\"white-space:pre;overflow-x:auto;line-height:normal;font-family:Menlo,'DejaVu Sans Mono',consolas,'Courier New',monospace\"></pre>\n"
      ],
      "text/plain": []
     },
     "metadata": {},
     "output_type": "display_data"
    },
    {
     "data": {
      "text/html": [
       "<pre style=\"white-space:pre;overflow-x:auto;line-height:normal;font-family:Menlo,'DejaVu Sans Mono',consolas,'Courier New',monospace\">\n",
       "</pre>\n"
      ],
      "text/plain": [
       "\n"
      ]
     },
     "metadata": {},
     "output_type": "display_data"
    },
    {
     "data": {
      "application/vnd.jupyter.widget-view+json": {
       "model_id": "ee08dab0700944da9d15b7dfb73f8af9",
       "version_major": 2,
       "version_minor": 0
      },
      "text/plain": [
       "Output()"
      ]
     },
     "metadata": {},
     "output_type": "display_data"
    },
    {
     "data": {
      "text/html": [
       "<pre style=\"white-space:pre;overflow-x:auto;line-height:normal;font-family:Menlo,'DejaVu Sans Mono',consolas,'Courier New',monospace\"></pre>\n"
      ],
      "text/plain": []
     },
     "metadata": {},
     "output_type": "display_data"
    },
    {
     "data": {
      "text/html": [
       "<pre style=\"white-space:pre;overflow-x:auto;line-height:normal;font-family:Menlo,'DejaVu Sans Mono',consolas,'Courier New',monospace\">\n",
       "</pre>\n"
      ],
      "text/plain": [
       "\n"
      ]
     },
     "metadata": {},
     "output_type": "display_data"
    },
    {
     "data": {
      "application/vnd.jupyter.widget-view+json": {
       "model_id": "4f858555e8954d338407e72e10e1b697",
       "version_major": 2,
       "version_minor": 0
      },
      "text/plain": [
       "Output()"
      ]
     },
     "metadata": {},
     "output_type": "display_data"
    },
    {
     "data": {
      "text/html": [
       "<pre style=\"white-space:pre;overflow-x:auto;line-height:normal;font-family:Menlo,'DejaVu Sans Mono',consolas,'Courier New',monospace\"></pre>\n"
      ],
      "text/plain": []
     },
     "metadata": {},
     "output_type": "display_data"
    },
    {
     "data": {
      "text/html": [
       "<pre style=\"white-space:pre;overflow-x:auto;line-height:normal;font-family:Menlo,'DejaVu Sans Mono',consolas,'Courier New',monospace\">\n",
       "</pre>\n"
      ],
      "text/plain": [
       "\n"
      ]
     },
     "metadata": {},
     "output_type": "display_data"
    },
    {
     "data": {
      "application/vnd.jupyter.widget-view+json": {
       "model_id": "884ef8b1b26a49f0bb8ccb5c0a28462d",
       "version_major": 2,
       "version_minor": 0
      },
      "text/plain": [
       "Output()"
      ]
     },
     "metadata": {},
     "output_type": "display_data"
    },
    {
     "data": {
      "text/html": [
       "<pre style=\"white-space:pre;overflow-x:auto;line-height:normal;font-family:Menlo,'DejaVu Sans Mono',consolas,'Courier New',monospace\"></pre>\n"
      ],
      "text/plain": []
     },
     "metadata": {},
     "output_type": "display_data"
    },
    {
     "data": {
      "text/html": [
       "<pre style=\"white-space:pre;overflow-x:auto;line-height:normal;font-family:Menlo,'DejaVu Sans Mono',consolas,'Courier New',monospace\">\n",
       "</pre>\n"
      ],
      "text/plain": [
       "\n"
      ]
     },
     "metadata": {},
     "output_type": "display_data"
    },
    {
     "data": {
      "application/vnd.jupyter.widget-view+json": {
       "model_id": "d7d62ec917794bdfbea802cccb17f63a",
       "version_major": 2,
       "version_minor": 0
      },
      "text/plain": [
       "Output()"
      ]
     },
     "metadata": {},
     "output_type": "display_data"
    },
    {
     "data": {
      "text/html": [
       "<pre style=\"white-space:pre;overflow-x:auto;line-height:normal;font-family:Menlo,'DejaVu Sans Mono',consolas,'Courier New',monospace\"></pre>\n"
      ],
      "text/plain": []
     },
     "metadata": {},
     "output_type": "display_data"
    },
    {
     "data": {
      "text/html": [
       "<pre style=\"white-space:pre;overflow-x:auto;line-height:normal;font-family:Menlo,'DejaVu Sans Mono',consolas,'Courier New',monospace\">\n",
       "</pre>\n"
      ],
      "text/plain": [
       "\n"
      ]
     },
     "metadata": {},
     "output_type": "display_data"
    },
    {
     "data": {
      "application/vnd.jupyter.widget-view+json": {
       "model_id": "e6d06dc59ff246219514d40d5f1fca12",
       "version_major": 2,
       "version_minor": 0
      },
      "text/plain": [
       "Output()"
      ]
     },
     "metadata": {},
     "output_type": "display_data"
    },
    {
     "data": {
      "text/html": [
       "<pre style=\"white-space:pre;overflow-x:auto;line-height:normal;font-family:Menlo,'DejaVu Sans Mono',consolas,'Courier New',monospace\"></pre>\n"
      ],
      "text/plain": []
     },
     "metadata": {},
     "output_type": "display_data"
    },
    {
     "data": {
      "text/html": [
       "<pre style=\"white-space:pre;overflow-x:auto;line-height:normal;font-family:Menlo,'DejaVu Sans Mono',consolas,'Courier New',monospace\">\n",
       "</pre>\n"
      ],
      "text/plain": [
       "\n"
      ]
     },
     "metadata": {},
     "output_type": "display_data"
    },
    {
     "data": {
      "application/vnd.jupyter.widget-view+json": {
       "model_id": "11d7a6deb837495d9678c6a6fa9ba571",
       "version_major": 2,
       "version_minor": 0
      },
      "text/plain": [
       "Output()"
      ]
     },
     "metadata": {},
     "output_type": "display_data"
    },
    {
     "data": {
      "text/html": [
       "<pre style=\"white-space:pre;overflow-x:auto;line-height:normal;font-family:Menlo,'DejaVu Sans Mono',consolas,'Courier New',monospace\"></pre>\n"
      ],
      "text/plain": []
     },
     "metadata": {},
     "output_type": "display_data"
    },
    {
     "data": {
      "text/html": [
       "<pre style=\"white-space:pre;overflow-x:auto;line-height:normal;font-family:Menlo,'DejaVu Sans Mono',consolas,'Courier New',monospace\">\n",
       "</pre>\n"
      ],
      "text/plain": [
       "\n"
      ]
     },
     "metadata": {},
     "output_type": "display_data"
    },
    {
     "data": {
      "application/vnd.jupyter.widget-view+json": {
       "model_id": "dac5225dee6d44289f58f91687b7291d",
       "version_major": 2,
       "version_minor": 0
      },
      "text/plain": [
       "Output()"
      ]
     },
     "metadata": {},
     "output_type": "display_data"
    },
    {
     "data": {
      "text/html": [
       "<pre style=\"white-space:pre;overflow-x:auto;line-height:normal;font-family:Menlo,'DejaVu Sans Mono',consolas,'Courier New',monospace\"></pre>\n"
      ],
      "text/plain": []
     },
     "metadata": {},
     "output_type": "display_data"
    },
    {
     "data": {
      "text/html": [
       "<pre style=\"white-space:pre;overflow-x:auto;line-height:normal;font-family:Menlo,'DejaVu Sans Mono',consolas,'Courier New',monospace\">\n",
       "</pre>\n"
      ],
      "text/plain": [
       "\n"
      ]
     },
     "metadata": {},
     "output_type": "display_data"
    },
    {
     "data": {
      "application/vnd.jupyter.widget-view+json": {
       "model_id": "eb19e1f9a45a4f079882ccb31cc7d367",
       "version_major": 2,
       "version_minor": 0
      },
      "text/plain": [
       "Output()"
      ]
     },
     "metadata": {},
     "output_type": "display_data"
    },
    {
     "data": {
      "text/html": [
       "<pre style=\"white-space:pre;overflow-x:auto;line-height:normal;font-family:Menlo,'DejaVu Sans Mono',consolas,'Courier New',monospace\"></pre>\n"
      ],
      "text/plain": []
     },
     "metadata": {},
     "output_type": "display_data"
    },
    {
     "data": {
      "text/html": [
       "<pre style=\"white-space:pre;overflow-x:auto;line-height:normal;font-family:Menlo,'DejaVu Sans Mono',consolas,'Courier New',monospace\">\n",
       "</pre>\n"
      ],
      "text/plain": [
       "\n"
      ]
     },
     "metadata": {},
     "output_type": "display_data"
    },
    {
     "data": {
      "application/vnd.jupyter.widget-view+json": {
       "model_id": "737854f8e8604c8891828af8a39eb84f",
       "version_major": 2,
       "version_minor": 0
      },
      "text/plain": [
       "Output()"
      ]
     },
     "metadata": {},
     "output_type": "display_data"
    },
    {
     "data": {
      "text/html": [
       "<pre style=\"white-space:pre;overflow-x:auto;line-height:normal;font-family:Menlo,'DejaVu Sans Mono',consolas,'Courier New',monospace\"></pre>\n"
      ],
      "text/plain": []
     },
     "metadata": {},
     "output_type": "display_data"
    },
    {
     "data": {
      "text/html": [
       "<pre style=\"white-space:pre;overflow-x:auto;line-height:normal;font-family:Menlo,'DejaVu Sans Mono',consolas,'Courier New',monospace\">\n",
       "</pre>\n"
      ],
      "text/plain": [
       "\n"
      ]
     },
     "metadata": {},
     "output_type": "display_data"
    },
    {
     "data": {
      "application/vnd.jupyter.widget-view+json": {
       "model_id": "d57cb297caf34d97b5a8cb8e1f4b1b8c",
       "version_major": 2,
       "version_minor": 0
      },
      "text/plain": [
       "Output()"
      ]
     },
     "metadata": {},
     "output_type": "display_data"
    },
    {
     "data": {
      "text/html": [
       "<pre style=\"white-space:pre;overflow-x:auto;line-height:normal;font-family:Menlo,'DejaVu Sans Mono',consolas,'Courier New',monospace\"></pre>\n"
      ],
      "text/plain": []
     },
     "metadata": {},
     "output_type": "display_data"
    },
    {
     "data": {
      "text/html": [
       "<pre style=\"white-space:pre;overflow-x:auto;line-height:normal;font-family:Menlo,'DejaVu Sans Mono',consolas,'Courier New',monospace\">\n",
       "</pre>\n"
      ],
      "text/plain": [
       "\n"
      ]
     },
     "metadata": {},
     "output_type": "display_data"
    },
    {
     "data": {
      "application/vnd.jupyter.widget-view+json": {
       "model_id": "ce3a9cc261684e05998bcd4af36f9727",
       "version_major": 2,
       "version_minor": 0
      },
      "text/plain": [
       "Output()"
      ]
     },
     "metadata": {},
     "output_type": "display_data"
    },
    {
     "data": {
      "text/html": [
       "<pre style=\"white-space:pre;overflow-x:auto;line-height:normal;font-family:Menlo,'DejaVu Sans Mono',consolas,'Courier New',monospace\"></pre>\n"
      ],
      "text/plain": []
     },
     "metadata": {},
     "output_type": "display_data"
    },
    {
     "data": {
      "text/html": [
       "<pre style=\"white-space:pre;overflow-x:auto;line-height:normal;font-family:Menlo,'DejaVu Sans Mono',consolas,'Courier New',monospace\">\n",
       "</pre>\n"
      ],
      "text/plain": [
       "\n"
      ]
     },
     "metadata": {},
     "output_type": "display_data"
    },
    {
     "data": {
      "application/vnd.jupyter.widget-view+json": {
       "model_id": "2447335a78d54f15983639ca0521988a",
       "version_major": 2,
       "version_minor": 0
      },
      "text/plain": [
       "Output()"
      ]
     },
     "metadata": {},
     "output_type": "display_data"
    },
    {
     "data": {
      "text/html": [
       "<pre style=\"white-space:pre;overflow-x:auto;line-height:normal;font-family:Menlo,'DejaVu Sans Mono',consolas,'Courier New',monospace\"></pre>\n"
      ],
      "text/plain": []
     },
     "metadata": {},
     "output_type": "display_data"
    },
    {
     "data": {
      "text/html": [
       "<pre style=\"white-space:pre;overflow-x:auto;line-height:normal;font-family:Menlo,'DejaVu Sans Mono',consolas,'Courier New',monospace\">\n",
       "</pre>\n"
      ],
      "text/plain": [
       "\n"
      ]
     },
     "metadata": {},
     "output_type": "display_data"
    },
    {
     "data": {
      "application/vnd.jupyter.widget-view+json": {
       "model_id": "355b4336b81d47029770623d60ea05a8",
       "version_major": 2,
       "version_minor": 0
      },
      "text/plain": [
       "Output()"
      ]
     },
     "metadata": {},
     "output_type": "display_data"
    },
    {
     "data": {
      "text/html": [
       "<pre style=\"white-space:pre;overflow-x:auto;line-height:normal;font-family:Menlo,'DejaVu Sans Mono',consolas,'Courier New',monospace\"></pre>\n"
      ],
      "text/plain": []
     },
     "metadata": {},
     "output_type": "display_data"
    },
    {
     "data": {
      "text/html": [
       "<pre style=\"white-space:pre;overflow-x:auto;line-height:normal;font-family:Menlo,'DejaVu Sans Mono',consolas,'Courier New',monospace\">\n",
       "</pre>\n"
      ],
      "text/plain": [
       "\n"
      ]
     },
     "metadata": {},
     "output_type": "display_data"
    },
    {
     "data": {
      "application/vnd.jupyter.widget-view+json": {
       "model_id": "ad95dcb061eb4b35b4d6cb0cd7f0b36e",
       "version_major": 2,
       "version_minor": 0
      },
      "text/plain": [
       "Output()"
      ]
     },
     "metadata": {},
     "output_type": "display_data"
    },
    {
     "data": {
      "text/html": [
       "<pre style=\"white-space:pre;overflow-x:auto;line-height:normal;font-family:Menlo,'DejaVu Sans Mono',consolas,'Courier New',monospace\"></pre>\n"
      ],
      "text/plain": []
     },
     "metadata": {},
     "output_type": "display_data"
    },
    {
     "data": {
      "text/html": [
       "<pre style=\"white-space:pre;overflow-x:auto;line-height:normal;font-family:Menlo,'DejaVu Sans Mono',consolas,'Courier New',monospace\">\n",
       "</pre>\n"
      ],
      "text/plain": [
       "\n"
      ]
     },
     "metadata": {},
     "output_type": "display_data"
    },
    {
     "data": {
      "application/vnd.jupyter.widget-view+json": {
       "model_id": "dc4428c63d7149a1b73a0ce9707c8282",
       "version_major": 2,
       "version_minor": 0
      },
      "text/plain": [
       "Output()"
      ]
     },
     "metadata": {},
     "output_type": "display_data"
    },
    {
     "data": {
      "text/html": [
       "<pre style=\"white-space:pre;overflow-x:auto;line-height:normal;font-family:Menlo,'DejaVu Sans Mono',consolas,'Courier New',monospace\"></pre>\n"
      ],
      "text/plain": []
     },
     "metadata": {},
     "output_type": "display_data"
    },
    {
     "data": {
      "text/html": [
       "<pre style=\"white-space:pre;overflow-x:auto;line-height:normal;font-family:Menlo,'DejaVu Sans Mono',consolas,'Courier New',monospace\">\n",
       "</pre>\n"
      ],
      "text/plain": [
       "\n"
      ]
     },
     "metadata": {},
     "output_type": "display_data"
    }
   ],
   "source": [
    "test = extract_keypoints_from_file('file://home/kristian/WLASL/videos_organized/address/01018.mp4')"
   ]
  },
  {
   "cell_type": "code",
   "execution_count": 28,
   "id": "0d7622c4",
   "metadata": {
    "ExecuteTime": {
     "end_time": "2023-07-30T15:16:41.962934Z",
     "start_time": "2023-07-30T15:16:41.956068Z"
    }
   },
   "outputs": [
    {
     "data": {
      "text/plain": [
       "array([[145.13381958,  60.49724206, 151.21958915, ..., 136.56936347,\n",
       "        125.13771955, 137.00406131],\n",
       "       [145.11343384,  60.51730835, 151.19977641, ..., 136.59659052,\n",
       "        125.1154511 , 137.03132927],\n",
       "       [145.10014343,  60.51176643, 151.18575668, ..., 136.58193207,\n",
       "        125.10455704, 137.01661873],\n",
       "       ...,\n",
       "       [144.90973548,  60.94948748, 151.10218668, ..., 126.68474004,\n",
       "        126.33238188, 127.63742486],\n",
       "       [144.87789766,  60.94707242, 151.07084942, ..., 126.68763861,\n",
       "        126.29904238, 127.64040044],\n",
       "       [144.89267174,  60.98436084, 151.08716393, ..., 126.74127921,\n",
       "        126.3091952 , 127.69427803]])"
      ]
     },
     "execution_count": 28,
     "metadata": {},
     "output_type": "execute_result"
    }
   ],
   "source": [
    "test"
   ]
  },
  {
   "cell_type": "code",
   "execution_count": 30,
   "id": "beec91e4",
   "metadata": {
    "ExecuteTime": {
     "end_time": "2023-07-30T15:16:53.455533Z",
     "start_time": "2023-07-30T15:16:53.450937Z"
    }
   },
   "outputs": [
    {
     "data": {
      "text/plain": [
       "(42, 266)"
      ]
     },
     "execution_count": 30,
     "metadata": {},
     "output_type": "execute_result"
    }
   ],
   "source": [
    "test.shape"
   ]
  },
  {
   "cell_type": "code",
   "execution_count": 14,
   "id": "7daab462",
   "metadata": {
    "ExecuteTime": {
     "end_time": "2023-07-30T21:28:08.746300Z",
     "start_time": "2023-07-30T21:27:56.783164Z"
    }
   },
   "outputs": [
    {
     "name": "stderr",
     "output_type": "stream",
     "text": [
      "                                                                                \r"
     ]
    }
   ],
   "source": [
    "video_df = spark.read.format(\"binaryFile\").option(\n",
    "    \"pathGlobFilter\", \"*.mp4\").load('file:///home/kristian/WLASL/videos_organized/*').orderBy(\"path\")"
   ]
  },
  {
   "cell_type": "code",
   "execution_count": 15,
   "id": "368e9b73",
   "metadata": {
    "ExecuteTime": {
     "end_time": "2023-07-30T21:28:10.407229Z",
     "start_time": "2023-07-30T21:28:10.321001Z"
    }
   },
   "outputs": [],
   "source": [
    "#create an index column for future join\n",
    "video_df = video_df.withColumn(\"columnindex\",\n",
    "                               row_number().over(Window().orderBy(\"path\")))"
   ]
  },
  {
   "cell_type": "code",
   "execution_count": 16,
   "id": "e56391c6",
   "metadata": {
    "ExecuteTime": {
     "end_time": "2023-07-30T21:28:11.474975Z",
     "start_time": "2023-07-30T21:28:11.461514Z"
    }
   },
   "outputs": [],
   "source": [
    "video_df = video_df.drop('length','modification')"
   ]
  },
  {
   "cell_type": "code",
   "execution_count": 17,
   "id": "0678b51b",
   "metadata": {
    "ExecuteTime": {
     "end_time": "2023-07-30T21:28:19.231213Z",
     "start_time": "2023-07-30T21:28:12.391341Z"
    }
   },
   "outputs": [
    {
     "name": "stderr",
     "output_type": "stream",
     "text": [
      "                                                                                \r"
     ]
    }
   ],
   "source": [
    "video_df2 = video_df.select(\"path\").collect()"
   ]
  },
  {
   "cell_type": "code",
   "execution_count": 18,
   "id": "f48999ce",
   "metadata": {
    "ExecuteTime": {
     "end_time": "2023-07-30T21:28:26.828267Z",
     "start_time": "2023-07-30T21:28:26.767906Z"
    }
   },
   "outputs": [],
   "source": [
    "#loop to get labels and filename per row\n",
    "i = 0\n",
    "target = []\n",
    "for row in video_df2:\n",
    "    subdirname = os.path.basename(os.path.dirname(video_df2[i][0]))\n",
    "    name = os.path.basename(video_df2[i][0]).split('/')[-1]\n",
    "    target.append([subdirname, name])\n",
    "    i = i + 1"
   ]
  },
  {
   "cell_type": "code",
   "execution_count": 19,
   "id": "36c8c5bb",
   "metadata": {
    "ExecuteTime": {
     "end_time": "2023-07-30T21:28:28.317571Z",
     "start_time": "2023-07-30T21:28:28.276092Z"
    }
   },
   "outputs": [
    {
     "data": {
      "text/plain": [
       "[['a lot', '02123.mp4'],\n",
       " ['a lot', '02124.mp4'],\n",
       " ['a lot', '02125.mp4'],\n",
       " ['a lot', '02126.mp4'],\n",
       " ['a lot', '02128.mp4'],\n",
       " ['a lot', '02129.mp4'],\n",
       " ['a lot', '02130.mp4'],\n",
       " ['a lot', '02131.mp4'],\n",
       " ['a', '00295.mp4'],\n",
       " ['a', '01610.mp4'],\n",
       " ['a', '01611.mp4'],\n",
       " ['a', '01612.mp4'],\n",
       " ['a', '01613.mp4'],\n",
       " ['a', '01614.mp4'],\n",
       " ['a', '01615.mp4'],\n",
       " ['abdomen', '00333.mp4'],\n",
       " ['abdomen', '00335.mp4'],\n",
       " ['abdomen', '00336.mp4'],\n",
       " ['abdomen', '00338.mp4'],\n",
       " ['abdomen', '00339.mp4'],\n",
       " ['abdomen', '00340.mp4'],\n",
       " ['abdomen', '00341.mp4'],\n",
       " ['able', '00374.mp4'],\n",
       " ['able', '00376.mp4'],\n",
       " ['able', '00377.mp4'],\n",
       " ['able', '00378.mp4'],\n",
       " ['able', '00381.mp4'],\n",
       " ['able', '00382.mp4'],\n",
       " ['able', '00383.mp4'],\n",
       " ['able', '00384.mp4'],\n",
       " ['about', '00412.mp4'],\n",
       " ['about', '00414.mp4'],\n",
       " ['about', '00415.mp4'],\n",
       " ['about', '00416.mp4'],\n",
       " ['about', '00421.mp4'],\n",
       " ['about', '00422.mp4'],\n",
       " ['about', '00423.mp4'],\n",
       " ['about', '00424.mp4'],\n",
       " ['about', '00425.mp4'],\n",
       " ['about', '00426.mp4'],\n",
       " ['above', '00429.mp4'],\n",
       " ['above', '00430.mp4'],\n",
       " ['above', '00431.mp4'],\n",
       " ['above', '00433.mp4'],\n",
       " ['above', '00434.mp4'],\n",
       " ['above', '00435.mp4'],\n",
       " ['above', '70167.mp4'],\n",
       " ['accent', '00581.mp4'],\n",
       " ['accent', '00583.mp4'],\n",
       " ['accent', '00584.mp4'],\n",
       " ['accent', '00585.mp4'],\n",
       " ['accent', '00586.mp4'],\n",
       " ['accept', '00588.mp4'],\n",
       " ['accept', '00592.mp4'],\n",
       " ['accept', '00593.mp4'],\n",
       " ['accept', '00594.mp4'],\n",
       " ['accept', '00597.mp4'],\n",
       " ['accept', '00599.mp4'],\n",
       " ['accept', '00600.mp4'],\n",
       " ['accept', '00601.mp4'],\n",
       " ['accept', '00602.mp4'],\n",
       " ['accept', '00603.mp4'],\n",
       " ['accept', '65007.mp4'],\n",
       " ['accident', '00618.mp4'],\n",
       " ['accident', '00623.mp4'],\n",
       " ['accident', '00624.mp4'],\n",
       " ['accident', '00625.mp4'],\n",
       " ['accident', '00626.mp4'],\n",
       " ['accident', '00627.mp4'],\n",
       " ['accident', '00628.mp4'],\n",
       " ['accident', '00629.mp4'],\n",
       " ['accident', '00631.mp4'],\n",
       " ['accident', '00632.mp4'],\n",
       " ['accident', '00633.mp4'],\n",
       " ['accident', '00634.mp4'],\n",
       " ['accident', '00635.mp4'],\n",
       " ['accident', '00636.mp4'],\n",
       " ['accident', '00638.mp4'],\n",
       " ['accident', '00639.mp4'],\n",
       " ['accident', '65009.mp4'],\n",
       " ['accomplish', '00662.mp4'],\n",
       " ['accomplish', '00663.mp4'],\n",
       " ['accomplish', '00664.mp4'],\n",
       " ['accomplish', '00666.mp4'],\n",
       " ['accomplish', '00667.mp4'],\n",
       " ['accomplish', '00668.mp4'],\n",
       " ['accountant', '00689.mp4'],\n",
       " ['accountant', '00690.mp4'],\n",
       " ['accountant', '00692.mp4'],\n",
       " ['accountant', '00693.mp4'],\n",
       " ['accountant', '00694.mp4'],\n",
       " ['accountant', '65011.mp4'],\n",
       " ['across', '00829.mp4'],\n",
       " ['across', '00832.mp4'],\n",
       " ['across', '00834.mp4'],\n",
       " ['across', '00835.mp4'],\n",
       " ['across', '00836.mp4'],\n",
       " ['across', '00838.mp4'],\n",
       " ['across', '00839.mp4'],\n",
       " ['across', '00840.mp4'],\n",
       " ['across', '00841.mp4'],\n",
       " ['across', '00842.mp4'],\n",
       " ['act', '00846.mp4'],\n",
       " ['act', '00847.mp4'],\n",
       " ['act', '00849.mp4'],\n",
       " ['act', '00850.mp4'],\n",
       " ['act', '00851.mp4'],\n",
       " ['act', '65014.mp4'],\n",
       " ['action', '00853.mp4'],\n",
       " ['action', '00854.mp4'],\n",
       " ['action', '00855.mp4'],\n",
       " ['action', '00856.mp4'],\n",
       " ['action', '00857.mp4'],\n",
       " ['action', '00858.mp4'],\n",
       " ['action', '65015.mp4'],\n",
       " ['active', '00867.mp4'],\n",
       " ['active', '00868.mp4'],\n",
       " ['active', '00869.mp4'],\n",
       " ['active', '00871.mp4'],\n",
       " ['active', '00872.mp4'],\n",
       " ['active', '00873.mp4'],\n",
       " ['active', '00874.mp4'],\n",
       " ['activity', '00886.mp4'],\n",
       " ['activity', '00890.mp4'],\n",
       " ['activity', '00891.mp4'],\n",
       " ['activity', '00892.mp4'],\n",
       " ['activity', '00894.mp4'],\n",
       " ['activity', '65016.mp4'],\n",
       " ['actor', '00897.mp4'],\n",
       " ['actor', '00898.mp4'],\n",
       " ['actor', '00899.mp4'],\n",
       " ['actor', '00900.mp4'],\n",
       " ['actor', '00901.mp4'],\n",
       " ['actor', '00902.mp4'],\n",
       " ['actor', '00903.mp4'],\n",
       " ['actor', '00904.mp4'],\n",
       " ['actor', '65017.mp4'],\n",
       " ['adapt', '00943.mp4'],\n",
       " ['adapt', '00944.mp4'],\n",
       " ['adapt', '00946.mp4'],\n",
       " ['adapt', '00947.mp4'],\n",
       " ['adapt', '00949.mp4'],\n",
       " ['adapt', '00950.mp4'],\n",
       " ['adapt', '00951.mp4'],\n",
       " ['add', '00961.mp4'],\n",
       " ['add', '00962.mp4'],\n",
       " ['add', '00963.mp4'],\n",
       " ['add', '00964.mp4'],\n",
       " ['add', '00965.mp4'],\n",
       " ['add', '00967.mp4'],\n",
       " ['add', '00972.mp4'],\n",
       " ['add', '00973.mp4'],\n",
       " ['add', '65018.mp4'],\n",
       " ['add', '69205.mp4'],\n",
       " ['address', '01011.mp4'],\n",
       " ['address', '01012.mp4'],\n",
       " ['address', '01018.mp4'],\n",
       " ['address', '01020.mp4'],\n",
       " ['address', '01021.mp4'],\n",
       " ['address', '01024.mp4'],\n",
       " ['adjective', '01062.mp4'],\n",
       " ['adjective', '01064.mp4'],\n",
       " ['adjective', '01065.mp4'],\n",
       " ['adjective', '01066.mp4'],\n",
       " ['adjective', '01068.mp4'],\n",
       " ['adjective', '01069.mp4'],\n",
       " ['adjust', '01073.mp4'],\n",
       " ['adjust', '01074.mp4'],\n",
       " ['adjust', '01076.mp4'],\n",
       " ['adjust', '01077.mp4'],\n",
       " ['adjust', '01078.mp4'],\n",
       " ['adjust', '01079.mp4'],\n",
       " ['admire', '01100.mp4'],\n",
       " ['admire', '01101.mp4'],\n",
       " ['admire', '01103.mp4'],\n",
       " ['admire', '01106.mp4'],\n",
       " ['admire', '01107.mp4'],\n",
       " ['admit', '01118.mp4'],\n",
       " ['admit', '01120.mp4'],\n",
       " ['admit', '01122.mp4'],\n",
       " ['admit', '01124.mp4'],\n",
       " ['admit', '01127.mp4'],\n",
       " ['admit', '65021.mp4'],\n",
       " ['adopt', '01149.mp4'],\n",
       " ['adopt', '01157.mp4'],\n",
       " ['adopt', '01158.mp4'],\n",
       " ['adopt', '01159.mp4'],\n",
       " ['adopt', '01160.mp4'],\n",
       " ['adopt', '01161.mp4'],\n",
       " ['adopt', '01162.mp4'],\n",
       " ['adopt', '65022.mp4'],\n",
       " ['adult', '01194.mp4'],\n",
       " ['adult', '01206.mp4'],\n",
       " ['adult', '01207.mp4'],\n",
       " ['adult', '01208.mp4'],\n",
       " ['adult', '01209.mp4'],\n",
       " ['adult', '01211.mp4'],\n",
       " ['adult', '01212.mp4'],\n",
       " ['adult', '01214.mp4'],\n",
       " ['adult', '01215.mp4'],\n",
       " ['adult', '01216.mp4'],\n",
       " ['adult', '01217.mp4'],\n",
       " ['adult', '65024.mp4'],\n",
       " ['advanced', '01224.mp4'],\n",
       " ['advanced', '01226.mp4'],\n",
       " ['advanced', '01227.mp4'],\n",
       " ['advanced', '01229.mp4'],\n",
       " ['advanced', '01230.mp4'],\n",
       " ['advanced', '01231.mp4'],\n",
       " ['advantage', '01242.mp4'],\n",
       " ['advantage', '01244.mp4'],\n",
       " ['advantage', '01245.mp4'],\n",
       " ['advantage', '01251.mp4'],\n",
       " ['advantage', '01252.mp4'],\n",
       " ['advantage', '65025.mp4'],\n",
       " ['adverb', '01263.mp4'],\n",
       " ['adverb', '01264.mp4'],\n",
       " ['adverb', '01265.mp4'],\n",
       " ['adverb', '01266.mp4'],\n",
       " ['adverb', '01268.mp4'],\n",
       " ['adverb', '01269.mp4'],\n",
       " ['affect', '01318.mp4'],\n",
       " ['affect', '01319.mp4'],\n",
       " ['affect', '01320.mp4'],\n",
       " ['affect', '01321.mp4'],\n",
       " ['affect', '01323.mp4'],\n",
       " ['affect', '01325.mp4'],\n",
       " ['affect', '01327.mp4'],\n",
       " ['afraid', '01372.mp4'],\n",
       " ['afraid', '01373.mp4'],\n",
       " ['afraid', '01374.mp4'],\n",
       " ['afraid', '01376.mp4'],\n",
       " ['afraid', '01377.mp4'],\n",
       " ['afraid', '01379.mp4'],\n",
       " ['afraid', '01381.mp4'],\n",
       " ['africa', '01382.mp4'],\n",
       " ['africa', '01383.mp4'],\n",
       " ['africa', '01384.mp4'],\n",
       " ['africa', '01385.mp4'],\n",
       " ['africa', '01386.mp4'],\n",
       " ['africa', '01387.mp4'],\n",
       " ['africa', '01388.mp4'],\n",
       " ['africa', '01391.mp4'],\n",
       " ['africa', '01392.mp4'],\n",
       " ['africa', '01393.mp4'],\n",
       " ['africa', '01394.mp4'],\n",
       " ['africa', '01395.mp4'],\n",
       " ['africa', '01396.mp4'],\n",
       " ['africa', '01397.mp4'],\n",
       " ['africa', '01398.mp4'],\n",
       " ['africa', '65029.mp4'],\n",
       " ['after', '01411.mp4'],\n",
       " ['after', '01418.mp4'],\n",
       " ['after', '01419.mp4'],\n",
       " ['after', '01420.mp4'],\n",
       " ['after', '01421.mp4'],\n",
       " ['after', '01422.mp4'],\n",
       " ['after', '01426.mp4'],\n",
       " ['after', '01427.mp4'],\n",
       " ['after', '01428.mp4'],\n",
       " ['afternoon', '01429.mp4'],\n",
       " ['afternoon', '01433.mp4'],\n",
       " ['afternoon', '01434.mp4'],\n",
       " ['afternoon', '01435.mp4'],\n",
       " ['afternoon', '01436.mp4'],\n",
       " ['afternoon', '01438.mp4'],\n",
       " ['afternoon', '01440.mp4'],\n",
       " ['afternoon', '01441.mp4'],\n",
       " ['afternoon', '01442.mp4'],\n",
       " ['afternoon', '65031.mp4'],\n",
       " ['afternoon', '70279.mp4'],\n",
       " ['again', '01457.mp4'],\n",
       " ['again', '01460.mp4'],\n",
       " ['again', '01461.mp4'],\n",
       " ['again', '01462.mp4'],\n",
       " ['again', '01463.mp4'],\n",
       " ['again', '01464.mp4'],\n",
       " ['again', '01466.mp4'],\n",
       " ['again', '01467.mp4'],\n",
       " ['again', '01468.mp4'],\n",
       " ['again', '01469.mp4'],\n",
       " ['again', '01470.mp4'],\n",
       " ['again', '01471.mp4'],\n",
       " ['again', '70219.mp4'],\n",
       " ['against', '01472.mp4'],\n",
       " ['against', '01473.mp4'],\n",
       " ['against', '01474.mp4'],\n",
       " ['against', '01477.mp4'],\n",
       " ['against', '01478.mp4'],\n",
       " ['against', '01479.mp4'],\n",
       " ['against', '65033.mp4'],\n",
       " ['age', '01482.mp4'],\n",
       " ['age', '01485.mp4'],\n",
       " ['age', '01486.mp4'],\n",
       " ['age', '01487.mp4'],\n",
       " ['age', '01489.mp4'],\n",
       " ['age', '01490.mp4'],\n",
       " ['age', '01491.mp4'],\n",
       " ['age', '01493.mp4'],\n",
       " ['age', '01494.mp4'],\n",
       " ['age', '01495.mp4'],\n",
       " ['age', '65034.mp4'],\n",
       " ['agenda', '01504.mp4'],\n",
       " ['agenda', '01505.mp4'],\n",
       " ['agenda', '01506.mp4'],\n",
       " ['agenda', '01507.mp4'],\n",
       " ['agenda', '01513.mp4'],\n",
       " ['agenda', '01514.mp4'],\n",
       " ['agenda', '01515.mp4'],\n",
       " ['ago', '01551.mp4'],\n",
       " ['ago', '01552.mp4'],\n",
       " ['ago', '01553.mp4'],\n",
       " ['ago', '01554.mp4'],\n",
       " ['ago', '01556.mp4'],\n",
       " ['ago', '01557.mp4'],\n",
       " ['ago', '01558.mp4'],\n",
       " ['ago', '01560.mp4'],\n",
       " ['ago', '01561.mp4'],\n",
       " ['ago', '01562.mp4'],\n",
       " ['ago', '01564.mp4'],\n",
       " ['agree', '01572.mp4'],\n",
       " ['agree', '01575.mp4'],\n",
       " ['agree', '01576.mp4'],\n",
       " ['agree', '01577.mp4'],\n",
       " ['agree', '01578.mp4'],\n",
       " ['agree', '01579.mp4'],\n",
       " ['agree', '01580.mp4'],\n",
       " ['agree', '01581.mp4'],\n",
       " ['agree', '01582.mp4'],\n",
       " ['agree', '70117.mp4'],\n",
       " ['agreement', '01583.mp4'],\n",
       " ['agreement', '01584.mp4'],\n",
       " ['agreement', '01585.mp4'],\n",
       " ['agreement', '01586.mp4'],\n",
       " ['agreement', '01587.mp4'],\n",
       " ['ahead', '01596.mp4'],\n",
       " ['ahead', '01598.mp4'],\n",
       " ['ahead', '01599.mp4'],\n",
       " ['ahead', '01602.mp4'],\n",
       " ['ahead', '01603.mp4'],\n",
       " ['ahead', '01604.mp4'],\n",
       " ['ahead', '01605.mp4'],\n",
       " ['aid', '01621.mp4'],\n",
       " ['aid', '01622.mp4'],\n",
       " ['aid', '01624.mp4'],\n",
       " ['aid', '01626.mp4'],\n",
       " ['aid', '01627.mp4'],\n",
       " ['aid', '01628.mp4'],\n",
       " ['aim', '01642.mp4'],\n",
       " ['aim', '01643.mp4'],\n",
       " ['aim', '01646.mp4'],\n",
       " ['aim', '01651.mp4'],\n",
       " ['aim', '01652.mp4'],\n",
       " ['aim', '01653.mp4'],\n",
       " ['airplane', '01721.mp4'],\n",
       " ['airplane', '01724.mp4'],\n",
       " ['airplane', '01726.mp4'],\n",
       " ['airplane', '01727.mp4'],\n",
       " ['airplane', '01729.mp4'],\n",
       " ['airplane', '01730.mp4'],\n",
       " ['airplane', '01733.mp4'],\n",
       " ['airplane', '01734.mp4'],\n",
       " ['airplane', '65038.mp4'],\n",
       " ['alarm', '01796.mp4'],\n",
       " ['alarm', '01801.mp4'],\n",
       " ['alarm', '01802.mp4'],\n",
       " ['alarm', '01804.mp4'],\n",
       " ['alarm', '01805.mp4'],\n",
       " ['alarm', '01806.mp4'],\n",
       " ['alarm', '01808.mp4'],\n",
       " ['alarm', '65040.mp4'],\n",
       " ['alcohol', '01828.mp4'],\n",
       " ['alcohol', '01831.mp4'],\n",
       " ['alcohol', '01832.mp4'],\n",
       " ['alcohol', '01836.mp4'],\n",
       " ['alcohol', '01837.mp4'],\n",
       " ['alcohol', '01838.mp4'],\n",
       " ['alcohol', '01839.mp4'],\n",
       " ['algebra', '01873.mp4'],\n",
       " ['algebra', '01874.mp4'],\n",
       " ['algebra', '01875.mp4'],\n",
       " ['algebra', '01876.mp4'],\n",
       " ['algebra', '01878.mp4'],\n",
       " ['algebra', '01879.mp4'],\n",
       " ['algebra', '01880.mp4'],\n",
       " ['all day', '01921.mp4'],\n",
       " ['all day', '01922.mp4'],\n",
       " ['all day', '01923.mp4'],\n",
       " ['all day', '01924.mp4'],\n",
       " ['all day', '01926.mp4'],\n",
       " ['all day', '01927.mp4'],\n",
       " ['all', '01912.mp4'],\n",
       " ['all', '01986.mp4'],\n",
       " ['all', '01987.mp4'],\n",
       " ['all', '01988.mp4'],\n",
       " ['all', '01991.mp4'],\n",
       " ['all', '01992.mp4'],\n",
       " ['all', '01995.mp4'],\n",
       " ['all', '01996.mp4'],\n",
       " ['all', '01997.mp4'],\n",
       " ['all', '02000.mp4'],\n",
       " ['all', '02002.mp4'],\n",
       " ['all', '02003.mp4'],\n",
       " ['all', '65043.mp4'],\n",
       " ['all', '68001.mp4'],\n",
       " ['all', '69206.mp4'],\n",
       " ['allergy', '01955.mp4'],\n",
       " ['allergy', '01956.mp4'],\n",
       " ['allergy', '01957.mp4'],\n",
       " ['allergy', '01960.mp4'],\n",
       " ['allergy', '01962.mp4'],\n",
       " ['allergy', '01964.mp4'],\n",
       " ['allergy', '01965.mp4'],\n",
       " ['alligator', '02008.mp4'],\n",
       " ['alligator', '02009.mp4'],\n",
       " ['alligator', '02010.mp4'],\n",
       " ['alligator', '02012.mp4'],\n",
       " ['alligator', '02013.mp4'],\n",
       " ['alligator', '02014.mp4'],\n",
       " ['allow', '02041.mp4'],\n",
       " ['allow', '02045.mp4'],\n",
       " ['allow', '02046.mp4'],\n",
       " ['allow', '02048.mp4'],\n",
       " ['allow', '02049.mp4'],\n",
       " ['allow', '02050.mp4'],\n",
       " ['allow', '02051.mp4'],\n",
       " ['allow', '02052.mp4'],\n",
       " ['allow', '65052.mp4'],\n",
       " ['allow', '65053.mp4'],\n",
       " ['allow', '65054.mp4'],\n",
       " ['almost', '02089.mp4'],\n",
       " ['almost', '02091.mp4'],\n",
       " ['almost', '02092.mp4'],\n",
       " ['almost', '02093.mp4'],\n",
       " ['almost', '02095.mp4'],\n",
       " ['almost', '02096.mp4'],\n",
       " ['almost', '02097.mp4'],\n",
       " ['almost', '02098.mp4'],\n",
       " ['almost', '65056.mp4'],\n",
       " ['alone', '02102.mp4'],\n",
       " ['alone', '02103.mp4'],\n",
       " ['alone', '02104.mp4'],\n",
       " ['alone', '02105.mp4'],\n",
       " ['alone', '02106.mp4'],\n",
       " ['alone', '02108.mp4'],\n",
       " ['alone', '02109.mp4'],\n",
       " ['alone', '02110.mp4'],\n",
       " ['alone', '02111.mp4'],\n",
       " ['alone', '02112.mp4'],\n",
       " ['alphabet', '02143.mp4'],\n",
       " ['alphabet', '02145.mp4'],\n",
       " ['alphabet', '02149.mp4'],\n",
       " ['alphabet', '02150.mp4'],\n",
       " ['alphabet', '02151.mp4'],\n",
       " ['already', '02158.mp4'],\n",
       " ['already', '02159.mp4'],\n",
       " ['already', '02160.mp4'],\n",
       " ['already', '02161.mp4'],\n",
       " ['already', '02162.mp4'],\n",
       " ['already', '02163.mp4'],\n",
       " ['already', '02164.mp4'],\n",
       " ['already', '02165.mp4'],\n",
       " ['already', '02166.mp4'],\n",
       " ['already', '02167.mp4'],\n",
       " ['already', '02168.mp4'],\n",
       " ['also', '02173.mp4'],\n",
       " ['also', '02174.mp4'],\n",
       " ['also', '02175.mp4'],\n",
       " ['also', '02176.mp4'],\n",
       " ['also', '02177.mp4'],\n",
       " ['also', '02178.mp4'],\n",
       " ['also', '02179.mp4'],\n",
       " ['also', '02180.mp4'],\n",
       " ['also', '02181.mp4'],\n",
       " ['also', '65059.mp4'],\n",
       " ['also', '69207.mp4'],\n",
       " ['always', '02227.mp4'],\n",
       " ['always', '02228.mp4'],\n",
       " ['always', '02229.mp4'],\n",
       " ['always', '02230.mp4'],\n",
       " ['always', '02231.mp4'],\n",
       " ['always', '02232.mp4'],\n",
       " ['always', '02233.mp4'],\n",
       " ['always', '02234.mp4'],\n",
       " ['always', '02235.mp4'],\n",
       " ['always', '02236.mp4'],\n",
       " ['always', '02237.mp4'],\n",
       " ['always', '02238.mp4'],\n",
       " ['always', '70037.mp4'],\n",
       " ['amazing', '02269.mp4'],\n",
       " ['amazing', '02273.mp4'],\n",
       " ['amazing', '02276.mp4'],\n",
       " ['amazing', '02284.mp4'],\n",
       " ['amazing', '02285.mp4'],\n",
       " ['america', '02348.mp4'],\n",
       " ['america', '02349.mp4'],\n",
       " ['america', '02350.mp4'],\n",
       " ['america', '02351.mp4'],\n",
       " ['america', '02353.mp4'],\n",
       " ['america', '02354.mp4'],\n",
       " ['america', '02355.mp4'],\n",
       " ['america', '02356.mp4'],\n",
       " ['america', '65064.mp4'],\n",
       " ['america', '68002.mp4'],\n",
       " ['amputate', '02429.mp4'],\n",
       " ['amputate', '02430.mp4'],\n",
       " ['amputate', '02431.mp4'],\n",
       " ['amputate', '02434.mp4'],\n",
       " ['amputate', '02435.mp4'],\n",
       " ['analyze', '02473.mp4'],\n",
       " ['analyze', '02474.mp4'],\n",
       " ['analyze', '02475.mp4'],\n",
       " ['analyze', '02476.mp4'],\n",
       " ['analyze', '02477.mp4'],\n",
       " ['analyze', '02478.mp4'],\n",
       " ['analyze', '02480.mp4'],\n",
       " ['analyze', '02482.mp4'],\n",
       " ['analyze', '02483.mp4'],\n",
       " ['analyze', '65066.mp4'],\n",
       " ['anatomy', '02484.mp4'],\n",
       " ['anatomy', '02485.mp4'],\n",
       " ['anatomy', '02487.mp4'],\n",
       " ['anatomy', '02490.mp4'],\n",
       " ['anatomy', '02491.mp4'],\n",
       " ['anatomy', '02492.mp4'],\n",
       " ['and', '02517.mp4'],\n",
       " ['and', '02518.mp4'],\n",
       " ['and', '02519.mp4'],\n",
       " ['and', '02521.mp4'],\n",
       " ['and', '02522.mp4'],\n",
       " ['and', '02523.mp4'],\n",
       " ['and', '02524.mp4'],\n",
       " ['and', '02525.mp4'],\n",
       " ['angel', '02539.mp4'],\n",
       " ['angel', '02540.mp4'],\n",
       " ['angel', '02541.mp4'],\n",
       " ['angel', '02542.mp4'],\n",
       " ['angel', '02544.mp4'],\n",
       " ['angel', '02545.mp4'],\n",
       " ['angel', '02546.mp4'],\n",
       " ['angel', '02547.mp4'],\n",
       " ['angel', '02548.mp4'],\n",
       " ['angel', '65071.mp4'],\n",
       " ['angle', '02556.mp4'],\n",
       " ['angle', '02558.mp4'],\n",
       " ['angle', '02559.mp4'],\n",
       " ['angle', '02560.mp4'],\n",
       " ['angle', '02561.mp4'],\n",
       " ['angle', '02562.mp4'],\n",
       " ['angle', '02563.mp4'],\n",
       " ['angle', '69210.mp4'],\n",
       " ['angry', '02564.mp4'],\n",
       " ['angry', '02565.mp4'],\n",
       " ['angry', '02566.mp4'],\n",
       " ['angry', '02567.mp4'],\n",
       " ['angry', '02568.mp4'],\n",
       " ['angry', '02569.mp4'],\n",
       " ['angry', '02572.mp4'],\n",
       " ['angry', '02575.mp4'],\n",
       " ['animal', '02581.mp4'],\n",
       " ['animal', '02583.mp4'],\n",
       " ['animal', '02584.mp4'],\n",
       " ['animal', '02585.mp4'],\n",
       " ['animal', '02586.mp4'],\n",
       " ['animal', '02587.mp4'],\n",
       " ['animal', '02589.mp4'],\n",
       " ['animal', '02590.mp4'],\n",
       " ['animal', '02591.mp4'],\n",
       " ['animal', '02592.mp4'],\n",
       " ['animal', '65073.mp4'],\n",
       " ['animal', '69211.mp4'],\n",
       " ['anniversary', '02607.mp4'],\n",
       " ['anniversary', '02609.mp4'],\n",
       " ['anniversary', '02610.mp4'],\n",
       " ['anniversary', '02611.mp4'],\n",
       " ['anniversary', '02614.mp4'],\n",
       " ['anniversary', '02615.mp4'],\n",
       " ['anniversary', '02616.mp4'],\n",
       " ['announce', '02618.mp4'],\n",
       " ['announce', '02619.mp4'],\n",
       " ['announce', '02620.mp4'],\n",
       " ['announce', '02622.mp4'],\n",
       " ['announce', '02623.mp4'],\n",
       " ['announce', '02624.mp4'],\n",
       " ['announce', '02625.mp4'],\n",
       " ['announce', '65074.mp4'],\n",
       " ['annoy', '02634.mp4'],\n",
       " ['annoy', '02643.mp4'],\n",
       " ['annoy', '02644.mp4'],\n",
       " ['annoy', '02645.mp4'],\n",
       " ['annoy', '02652.mp4'],\n",
       " ['annoy', '02653.mp4'],\n",
       " ['another', '02696.mp4'],\n",
       " ['another', '02697.mp4'],\n",
       " ['another', '02698.mp4'],\n",
       " ['another', '02699.mp4'],\n",
       " ['another', '02700.mp4'],\n",
       " ['another', '02701.mp4'],\n",
       " ['another', '02702.mp4'],\n",
       " ['another', '02705.mp4'],\n",
       " ['another', '02706.mp4'],\n",
       " ['answer', '02707.mp4'],\n",
       " ['answer', '02710.mp4'],\n",
       " ['answer', '02711.mp4'],\n",
       " ['answer', '02712.mp4'],\n",
       " ['answer', '02713.mp4'],\n",
       " ['answer', '02714.mp4'],\n",
       " ['answer', '02715.mp4'],\n",
       " ['answer', '02716.mp4'],\n",
       " ['answer', '02717.mp4'],\n",
       " ['answer', '02718.mp4'],\n",
       " ['answer', '65076.mp4'],\n",
       " ['answer', '70275.mp4'],\n",
       " ['any', '02818.mp4'],\n",
       " ['any', '02826.mp4'],\n",
       " ['any', '02828.mp4'],\n",
       " ['any', '02829.mp4'],\n",
       " ['any', '02830.mp4'],\n",
       " ['any', '02831.mp4'],\n",
       " ['any', '02832.mp4'],\n",
       " ['any', '02833.mp4'],\n",
       " ['any', '69212.mp4'],\n",
       " ['any', '70095.mp4'],\n",
       " ['anyway', '02850.mp4'],\n",
       " ['anyway', '02851.mp4'],\n",
       " ['anyway', '02852.mp4'],\n",
       " ['anyway', '02854.mp4'],\n",
       " ['anyway', '02855.mp4'],\n",
       " ['anyway', '02856.mp4'],\n",
       " ['apart', '02863.mp4'],\n",
       " ['apart', '02864.mp4'],\n",
       " ['apart', '02865.mp4'],\n",
       " ['apart', '02867.mp4'],\n",
       " ['apart', '02869.mp4'],\n",
       " ['apart', '02870.mp4'],\n",
       " ['apartment', '02871.mp4'],\n",
       " ['apartment', '02872.mp4'],\n",
       " ['apartment', '02873.mp4'],\n",
       " ['apartment', '02874.mp4'],\n",
       " ['apartment', '02875.mp4'],\n",
       " ['apartment', '02877.mp4'],\n",
       " ['apartment', '02878.mp4'],\n",
       " ['apartment', '02879.mp4'],\n",
       " ['apartment', '02880.mp4'],\n",
       " ['apostrophe', '02910.mp4'],\n",
       " ['apostrophe', '02911.mp4'],\n",
       " ['apostrophe', '02912.mp4'],\n",
       " ['apostrophe', '02913.mp4'],\n",
       " ['apostrophe', '02915.mp4'],\n",
       " ['apostrophe', '02916.mp4'],\n",
       " ['apostrophe', '65082.mp4'],\n",
       " ['appear', '02941.mp4'],\n",
       " ['appear', '02951.mp4'],\n",
       " ['appear', '02952.mp4'],\n",
       " ['appear', '02953.mp4'],\n",
       " ['appear', '02954.mp4'],\n",
       " ['appear', '02956.mp4'],\n",
       " ['appear', '02959.mp4'],\n",
       " ['appear', '02961.mp4'],\n",
       " ['appear', '65083.mp4'],\n",
       " ['appetite', '02968.mp4'],\n",
       " ['appetite', '02969.mp4'],\n",
       " ['appetite', '02970.mp4'],\n",
       " ['appetite', '02971.mp4'],\n",
       " ['appetite', '02973.mp4'],\n",
       " ['appetite', '02974.mp4'],\n",
       " ['appetite', '02975.mp4'],\n",
       " ['apple', '02997.mp4'],\n",
       " ['apple', '02999.mp4'],\n",
       " ['apple', '03000.mp4'],\n",
       " ['apple', '03001.mp4'],\n",
       " ['apple', '03002.mp4'],\n",
       " ['apple', '03003.mp4'],\n",
       " ['apple', '03005.mp4'],\n",
       " ['apple', '03006.mp4'],\n",
       " ['apple', '03007.mp4'],\n",
       " ['apple', '03008.mp4'],\n",
       " ['apple', '65084.mp4'],\n",
       " ['apple', '65085.mp4'],\n",
       " ['apple', '65086.mp4'],\n",
       " ['apple', '68003.mp4'],\n",
       " ['apple', '69213.mp4'],\n",
       " ['apple', '70309.mp4'],\n",
       " ['appointment', '03053.mp4'],\n",
       " ['appointment', '03055.mp4'],\n",
       " ['appointment', '03056.mp4'],\n",
       " ['appointment', '03057.mp4'],\n",
       " ['appointment', '03058.mp4'],\n",
       " ['appointment', '03059.mp4'],\n",
       " ['appointment', '03060.mp4'],\n",
       " ['appointment', '03061.mp4'],\n",
       " ['appointment', '03062.mp4'],\n",
       " ['appointment', '03063.mp4'],\n",
       " ['appointment', '70155.mp4'],\n",
       " ['appreciate', '03067.mp4'],\n",
       " ['appreciate', '03068.mp4'],\n",
       " ['appreciate', '03069.mp4'],\n",
       " ['appreciate', '03070.mp4'],\n",
       " ['appreciate', '03073.mp4'],\n",
       " ['appreciate', '03074.mp4'],\n",
       " ['approach', '03089.mp4'],\n",
       " ['approach', '03090.mp4'],\n",
       " ['approach', '03092.mp4'],\n",
       " ['approach', '03093.mp4'],\n",
       " ['approach', '03096.mp4'],\n",
       " ['approach', '65088.mp4'],\n",
       " ['appropriate', '03100.mp4'],\n",
       " ['appropriate', '03101.mp4'],\n",
       " ['appropriate', '03102.mp4'],\n",
       " ['appropriate', '03103.mp4'],\n",
       " ['appropriate', '03105.mp4'],\n",
       " ['appropriate', '03106.mp4'],\n",
       " ['appropriate', '03107.mp4'],\n",
       " ['appropriate', '03108.mp4'],\n",
       " ['approve', '03117.mp4'],\n",
       " ['approve', '03118.mp4'],\n",
       " ['approve', '03119.mp4'],\n",
       " ['approve', '03120.mp4'],\n",
       " ['approve', '03121.mp4'],\n",
       " ['approve', '03122.mp4'],\n",
       " ['approve', '03124.mp4'],\n",
       " ['approve', '03125.mp4'],\n",
       " ['approve', '03126.mp4'],\n",
       " ['approve', '03127.mp4'],\n",
       " ['approve', '03128.mp4'],\n",
       " ['approve', '03129.mp4'],\n",
       " ['approve', '03130.mp4'],\n",
       " ['approve', '03131.mp4'],\n",
       " ['april', '03150.mp4'],\n",
       " ['april', '03154.mp4'],\n",
       " ['april', '03155.mp4'],\n",
       " ['april', '03156.mp4'],\n",
       " ['april', '03158.mp4'],\n",
       " ['april', '03159.mp4'],\n",
       " ['april', '03161.mp4'],\n",
       " ['archery', '03199.mp4'],\n",
       " ['archery', '03201.mp4'],\n",
       " ['archery', '03202.mp4'],\n",
       " ['archery', '03204.mp4'],\n",
       " ['archery', '03205.mp4'],\n",
       " ['archery', '03206.mp4'],\n",
       " ['archery', '03207.mp4'],\n",
       " ['area', '03234.mp4'],\n",
       " ['area', '03235.mp4'],\n",
       " ['area', '03237.mp4'],\n",
       " ['area', '03238.mp4'],\n",
       " ['area', '03240.mp4'],\n",
       " ['area', '03243.mp4'],\n",
       " ['area', '03244.mp4'],\n",
       " ['area', '03245.mp4'],\n",
       " ['area', '03246.mp4'],\n",
       " ['area', '65091.mp4'],\n",
       " ['argue', '03266.mp4'],\n",
       " ['argue', '03267.mp4'],\n",
       " ['argue', '03268.mp4'],\n",
       " ['argue', '03270.mp4'],\n",
       " ['argue', '03272.mp4'],\n",
       " ['argue', '03273.mp4'],\n",
       " ['argue', '03274.mp4'],\n",
       " ['argue', '03277.mp4'],\n",
       " ['argue', '03278.mp4'],\n",
       " ['argue', '03280.mp4'],\n",
       " ['argue', '03281.mp4'],\n",
       " ['argue', '03282.mp4'],\n",
       " ['argue', '65092.mp4'],\n",
       " ['arizona', '03311.mp4'],\n",
       " ['arizona', '03315.mp4'],\n",
       " ['arizona', '03316.mp4'],\n",
       " ['arizona', '03318.mp4'],\n",
       " ['arizona', '03320.mp4'],\n",
       " ['arizona', '65093.mp4'],\n",
       " ['arm', '03328.mp4'],\n",
       " ['arm', '03337.mp4'],\n",
       " ['arm', '03338.mp4'],\n",
       " ['arm', '03339.mp4'],\n",
       " ['arm', '03342.mp4'],\n",
       " ['arm', '03343.mp4'],\n",
       " ['arm', '03344.mp4'],\n",
       " ['arm', '65094.mp4'],\n",
       " ['arm', '69215.mp4'],\n",
       " ['army', '03360.mp4'],\n",
       " ['army', '03361.mp4'],\n",
       " ['army', '03362.mp4'],\n",
       " ['army', '03364.mp4'],\n",
       " ['army', '03365.mp4'],\n",
       " ['army', '03366.mp4'],\n",
       " ['army', '03367.mp4'],\n",
       " ['army', '03368.mp4'],\n",
       " ['army', '65095.mp4'],\n",
       " ['around', '03376.mp4'],\n",
       " ['around', '03377.mp4'],\n",
       " ['around', '03378.mp4'],\n",
       " ['around', '03382.mp4'],\n",
       " ['around', '03385.mp4'],\n",
       " ['around', '03387.mp4'],\n",
       " ['around', '03389.mp4'],\n",
       " ['arrest', '03417.mp4'],\n",
       " ['arrest', '03418.mp4'],\n",
       " ['arrest', '03419.mp4'],\n",
       " ['arrest', '03420.mp4'],\n",
       " ['arrest', '03425.mp4'],\n",
       " ['arrest', '03426.mp4'],\n",
       " ['arrest', '03427.mp4'],\n",
       " ['arrest', '03429.mp4'],\n",
       " ['arrest', '03430.mp4'],\n",
       " ['arrive', '03434.mp4'],\n",
       " ['arrive', '03435.mp4'],\n",
       " ['arrive', '03436.mp4'],\n",
       " ['arrive', '03437.mp4'],\n",
       " ['arrive', '03438.mp4'],\n",
       " ['arrive', '03439.mp4'],\n",
       " ['arrive', '03441.mp4'],\n",
       " ['arrive', '03442.mp4'],\n",
       " ['arrive', '03443.mp4'],\n",
       " ['arrive', '03444.mp4'],\n",
       " ['arrive', '03445.mp4'],\n",
       " ['arrive', '65096.mp4'],\n",
       " ['arrive', '70124.mp4'],\n",
       " ['arrogant', '03448.mp4'],\n",
       " ['arrogant', '03449.mp4'],\n",
       " ['arrogant', '03450.mp4'],\n",
       " ['arrogant', '03451.mp4'],\n",
       " ['arrogant', '03454.mp4'],\n",
       " ['arrogant', '03455.mp4'],\n",
       " ['arrogant', '03457.mp4'],\n",
       " ['arrogant', '70258.mp4'],\n",
       " ['art', '03469.mp4'],\n",
       " ['art', '03478.mp4'],\n",
       " ['art', '03479.mp4'],\n",
       " ['art', '03480.mp4'],\n",
       " ['art', '03481.mp4'],\n",
       " ['art', '03484.mp4'],\n",
       " ['art', '03485.mp4'],\n",
       " ['art', '03486.mp4'],\n",
       " ['art', '70142.mp4'],\n",
       " ['article', '03489.mp4'],\n",
       " ['article', '03490.mp4'],\n",
       " ['article', '03491.mp4'],\n",
       " ['article', '03493.mp4'],\n",
       " ['article', '03494.mp4'],\n",
       " ['article', '03495.mp4'],\n",
       " ['artist', '03514.mp4'],\n",
       " ['artist', '03515.mp4'],\n",
       " ['artist', '03516.mp4'],\n",
       " ['artist', '03517.mp4'],\n",
       " ['artist', '03519.mp4'],\n",
       " ['artist', '03520.mp4'],\n",
       " ['artist', '03521.mp4'],\n",
       " ['artist', '03522.mp4'],\n",
       " ['asia', '03562.mp4'],\n",
       " ['asia', '03563.mp4'],\n",
       " ['asia', '03564.mp4'],\n",
       " ['asia', '03565.mp4'],\n",
       " ['asia', '03568.mp4'],\n",
       " ['asia', '03569.mp4'],\n",
       " ['asia', '03570.mp4'],\n",
       " ['asia', '03571.mp4'],\n",
       " ['asia', '65100.mp4'],\n",
       " ['ask', '03587.mp4'],\n",
       " ['ask', '03595.mp4'],\n",
       " ['ask', '03597.mp4'],\n",
       " ['ask', '03598.mp4'],\n",
       " ['ask', '03603.mp4'],\n",
       " ['ask', '03605.mp4'],\n",
       " ['ask', '03607.mp4'],\n",
       " ['ask', '65101.mp4'],\n",
       " ['asl', '03625.mp4'],\n",
       " ['asl', '03634.mp4'],\n",
       " ['asl', '03635.mp4'],\n",
       " ['asl', '03638.mp4'],\n",
       " ['asl', '03640.mp4'],\n",
       " ['asl', '03641.mp4'],\n",
       " ['asl', '03642.mp4'],\n",
       " ['asl', '68004.mp4'],\n",
       " ['asl', '68005.mp4'],\n",
       " ['assist', '03750.mp4'],\n",
       " ['assist', '03765.mp4'],\n",
       " ['assist', '03766.mp4'],\n",
       " ['assist', '03768.mp4'],\n",
       " ['assist', '03769.mp4'],\n",
       " ['assist', '03771.mp4'],\n",
       " ['assistant', '03752.mp4'],\n",
       " ['assistant', '03756.mp4'],\n",
       " ['assistant', '03757.mp4'],\n",
       " ['assistant', '03758.mp4'],\n",
       " ['assistant', '03761.mp4'],\n",
       " ['assistant', '03762.mp4'],\n",
       " ['assistant', '03763.mp4'],\n",
       " ['assume', '03797.mp4'],\n",
       " ['assume', '03799.mp4'],\n",
       " ['assume', '03800.mp4'],\n",
       " ['assume', '03802.mp4'],\n",
       " ['assume', '03804.mp4'],\n",
       " ['assume', '03805.mp4'],\n",
       " ['attend', '03992.mp4'],\n",
       " ['attend', '03999.mp4'],\n",
       " ['attend', '04000.mp4'],\n",
       " ['attend', '04002.mp4'],\n",
       " ['attend', '04003.mp4'],\n",
       " ['attend', '04005.mp4'],\n",
       " ['attend', '04007.mp4'],\n",
       " ['attention', '04008.mp4'],\n",
       " ['attention', '04011.mp4'],\n",
       " ['attention', '04012.mp4'],\n",
       " ['attention', '04013.mp4'],\n",
       " ['attention', '04015.mp4'],\n",
       " ['attention', '04016.mp4'],\n",
       " ['attention', '04017.mp4'],\n",
       " ['attention', '65107.mp4'],\n",
       " ['attitude', '04039.mp4'],\n",
       " ['attitude', '04040.mp4'],\n",
       " ['attitude', '04041.mp4'],\n",
       " ['attitude', '04042.mp4'],\n",
       " ['attitude', '04044.mp4'],\n",
       " ['attitude', '04045.mp4'],\n",
       " ['attitude', '04046.mp4'],\n",
       " ['attitude', '04047.mp4'],\n",
       " ['attitude', '04048.mp4'],\n",
       " ['attitude', '65108.mp4'],\n",
       " ['attorney', '04049.mp4'],\n",
       " ['attorney', '04050.mp4'],\n",
       " ['attorney', '04051.mp4'],\n",
       " ['attorney', '04053.mp4'],\n",
       " ['attorney', '04054.mp4'],\n",
       " ['attorney', '04055.mp4'],\n",
       " ['attract', '04056.mp4'],\n",
       " ['attract', '04062.mp4'],\n",
       " ['attract', '04063.mp4'],\n",
       " ['attract', '04064.mp4'],\n",
       " ['attract', '04072.mp4'],\n",
       " ['attract', '04073.mp4'],\n",
       " ['attract', '04075.mp4'],\n",
       " ['attract', '04076.mp4'],\n",
       " ['auction', '04097.mp4'],\n",
       " ['auction', '04099.mp4'],\n",
       " ['auction', '04101.mp4'],\n",
       " ['auction', '04102.mp4'],\n",
       " ['auction', '04103.mp4'],\n",
       " ['auction', '04104.mp4'],\n",
       " ['auction', '04105.mp4'],\n",
       " ['auction', '04106.mp4'],\n",
       " ['audience', '04110.mp4'],\n",
       " ['audience', '04115.mp4'],\n",
       " ['audience', '04116.mp4'],\n",
       " ['audience', '04118.mp4'],\n",
       " ['audience', '04119.mp4'],\n",
       " ['audience', '04120.mp4'],\n",
       " ['audience', '04121.mp4'],\n",
       " ['audience', '04122.mp4'],\n",
       " ['audience', '04123.mp4'],\n",
       " ['audiologist', '04128.mp4'],\n",
       " ['audiologist', '04129.mp4'],\n",
       " ['audiologist', '04130.mp4'],\n",
       " ['audiologist', '04132.mp4'],\n",
       " ['audiologist', '04134.mp4'],\n",
       " ['audiology', '04135.mp4'],\n",
       " ['audiology', '04136.mp4'],\n",
       " ['audiology', '04137.mp4'],\n",
       " ['audiology', '04139.mp4'],\n",
       " ['audiology', '04140.mp4'],\n",
       " ['audiology', '04141.mp4'],\n",
       " ['august', '04154.mp4'],\n",
       " ['august', '04155.mp4'],\n",
       " ['august', '04156.mp4'],\n",
       " ['august', '04157.mp4'],\n",
       " ['august', '04158.mp4'],\n",
       " ['august', '04159.mp4'],\n",
       " ['august', '04160.mp4'],\n",
       " ['august', '04161.mp4'],\n",
       " ['august', '04163.mp4'],\n",
       " ['august', '04164.mp4'],\n",
       " ['aunt', '04165.mp4'],\n",
       " ['aunt', '04168.mp4'],\n",
       " ['aunt', '04169.mp4'],\n",
       " ['aunt', '04170.mp4'],\n",
       " ['aunt', '04171.mp4'],\n",
       " ['aunt', '04172.mp4'],\n",
       " ['aunt', '04173.mp4'],\n",
       " ['aunt', '04174.mp4'],\n",
       " ['aunt', '04175.mp4'],\n",
       " ['aunt', '04176.mp4'],\n",
       " ['aunt', '65110.mp4'],\n",
       " ['australia', '04183.mp4'],\n",
       " ['australia', '04184.mp4'],\n",
       " ['australia', '04186.mp4'],\n",
       " ['australia', '04187.mp4'],\n",
       " ['australia', '04188.mp4'],\n",
       " ['australia', '04189.mp4'],\n",
       " ['australia', '04190.mp4'],\n",
       " ['australia', '04193.mp4'],\n",
       " ['australia', '04195.mp4'],\n",
       " ['australia', '04196.mp4'],\n",
       " ['australia', '04198.mp4'],\n",
       " ['australia', '65111.mp4'],\n",
       " ['austria', '04200.mp4'],\n",
       " ['austria', '04201.mp4'],\n",
       " ['austria', '04202.mp4'],\n",
       " ['austria', '04203.mp4'],\n",
       " ['austria', '04207.mp4'],\n",
       " ['author', '04216.mp4'],\n",
       " ...]"
      ]
     },
     "execution_count": 19,
     "metadata": {},
     "output_type": "execute_result"
    }
   ],
   "source": [
    "target"
   ]
  },
  {
   "cell_type": "code",
   "execution_count": 20,
   "id": "9066b594",
   "metadata": {
    "ExecuteTime": {
     "end_time": "2023-07-30T21:28:30.246038Z",
     "start_time": "2023-07-30T21:28:30.224213Z"
    }
   },
   "outputs": [],
   "source": [
    "targetRDD = sc.parallelize([row[0] for row in target])"
   ]
  },
  {
   "cell_type": "code",
   "execution_count": 21,
   "id": "b2308557",
   "metadata": {
    "ExecuteTime": {
     "end_time": "2023-07-30T21:28:30.940864Z",
     "start_time": "2023-07-30T21:28:30.937362Z"
    }
   },
   "outputs": [],
   "source": [
    "labelcount = targetRDD.map(lambda w: (w, 1))"
   ]
  },
  {
   "cell_type": "code",
   "execution_count": 22,
   "id": "65d85998",
   "metadata": {
    "ExecuteTime": {
     "end_time": "2023-07-30T21:28:31.539204Z",
     "start_time": "2023-07-30T21:28:31.507538Z"
    }
   },
   "outputs": [],
   "source": [
    "labelcount = labelcount.reduceByKey(add)"
   ]
  },
  {
   "cell_type": "code",
   "execution_count": 23,
   "id": "ca420f89",
   "metadata": {
    "ExecuteTime": {
     "end_time": "2023-07-30T21:28:34.795871Z",
     "start_time": "2023-07-30T21:28:32.067601Z"
    }
   },
   "outputs": [
    {
     "name": "stderr",
     "output_type": "stream",
     "text": [
      "                                                                                \r"
     ]
    },
    {
     "data": {
      "text/plain": [
       "[('book', 34),\n",
       " ('clothes', 23),\n",
       " ('drink', 23),\n",
       " ('chair', 22),\n",
       " ('before', 22),\n",
       " ('computer', 22),\n",
       " ('like', 19),\n",
       " ('go', 19),\n",
       " ('thin', 19),\n",
       " ('orange', 18),\n",
       " ('cousin', 18),\n",
       " ('mother', 18),\n",
       " ('hot', 18),\n",
       " ('yes', 18),\n",
       " ('deaf', 18),\n",
       " ('candy', 18),\n",
       " ('now', 17),\n",
       " ('accident', 17),\n",
       " ('black', 17),\n",
       " ('who', 17),\n",
       " ('wrong', 17),\n",
       " ('fine', 17),\n",
       " ('bowling', 17),\n",
       " ('cool', 17),\n",
       " ('woman', 17),\n",
       " ('no', 17),\n",
       " ('pizza', 17),\n",
       " ('table', 17),\n",
       " ('thanksgiving', 17),\n",
       " ('shirt', 17),\n",
       " ('bed', 17),\n",
       " ('study', 17),\n",
       " ('tall', 17),\n",
       " ('white', 17),\n",
       " ('bird', 16),\n",
       " ('color', 16),\n",
       " ('family', 16),\n",
       " ('finish', 16),\n",
       " ('graduate', 16),\n",
       " ('forget', 16),\n",
       " ('many', 16),\n",
       " ('fish', 16),\n",
       " ('thursday', 16),\n",
       " ('year', 16),\n",
       " ('apple', 16),\n",
       " ('dog', 16),\n",
       " ('africa', 16),\n",
       " ('short', 16),\n",
       " ('later', 16),\n",
       " ('man', 16),\n",
       " ('secretary', 16),\n",
       " ('change', 16),\n",
       " ('help', 16),\n",
       " ('visit', 16),\n",
       " ('check', 15),\n",
       " ('hat', 15),\n",
       " ('school', 15),\n",
       " ('water', 15),\n",
       " ('corn', 15),\n",
       " ('paper', 15),\n",
       " ('pink', 15),\n",
       " ('play', 15),\n",
       " ('pull', 15),\n",
       " ('full', 15),\n",
       " ('hair', 15),\n",
       " ('language', 15),\n",
       " ('meet', 15),\n",
       " ('son', 15),\n",
       " ('cow', 15),\n",
       " ('give', 15),\n",
       " ('last', 15),\n",
       " ('trade', 15),\n",
       " ('cheat', 15),\n",
       " ('city', 15),\n",
       " ('convince', 15),\n",
       " ('time', 15),\n",
       " ('yesterday', 15),\n",
       " ('dark', 15),\n",
       " ('hearing', 15),\n",
       " ('all', 15),\n",
       " ('cook', 15),\n",
       " ('decide', 15),\n",
       " ('headache', 15),\n",
       " ('kiss', 15),\n",
       " ('far', 14),\n",
       " ('good', 14),\n",
       " ('letter', 14),\n",
       " ('movie', 14),\n",
       " ('work', 14),\n",
       " ('blue', 14),\n",
       " ('learn', 14),\n",
       " ('need', 14),\n",
       " ('purple', 14),\n",
       " ('tea', 14),\n",
       " ('teacher', 14),\n",
       " ('wife', 14),\n",
       " ('you', 14),\n",
       " ('late', 14),\n",
       " ('laugh', 14),\n",
       " ('approve', 14),\n",
       " ('backpack', 14),\n",
       " ('list', 14),\n",
       " ('what', 14),\n",
       " ('write', 14),\n",
       " ('daughter', 14),\n",
       " ('different', 14),\n",
       " ('join', 14),\n",
       " ('right', 14),\n",
       " ('tell', 14),\n",
       " ('walk', 14),\n",
       " ('bad', 14),\n",
       " ('dance', 14),\n",
       " ('college', 14),\n",
       " ('doctor', 14),\n",
       " ('week', 14),\n",
       " ('yellow', 14),\n",
       " ('brown', 14),\n",
       " ('sunday', 14),\n",
       " ('wait', 14),\n",
       " ('want', 14),\n",
       " ('again', 13),\n",
       " ('bar', 13),\n",
       " ('but', 13),\n",
       " ('cry', 13),\n",
       " ('interest', 13),\n",
       " ('sandwich', 13),\n",
       " ('why', 13),\n",
       " ('ball', 13),\n",
       " ('birthday', 13),\n",
       " ('coffee', 13),\n",
       " ('door', 13),\n",
       " ('how', 13),\n",
       " ('knife', 13),\n",
       " ('stay', 13),\n",
       " ('today', 13),\n",
       " ('always', 13),\n",
       " ('brother', 13),\n",
       " ('cold', 13),\n",
       " ('escape', 13),\n",
       " ('fat', 13),\n",
       " ('person', 13),\n",
       " ('student', 13),\n",
       " ('take', 13),\n",
       " ('argue', 13),\n",
       " ('bathroom', 13),\n",
       " ('buy', 13),\n",
       " ('champion', 13),\n",
       " ('crash', 13),\n",
       " ('day', 13),\n",
       " ('happy', 13),\n",
       " ('paint', 13),\n",
       " ('remember', 13),\n",
       " ('russia', 13),\n",
       " ('south', 13),\n",
       " ('temperature', 13),\n",
       " ('your', 13),\n",
       " ('balance', 13),\n",
       " ('business', 13),\n",
       " ('cat', 13),\n",
       " ('green', 13),\n",
       " ('leave', 13),\n",
       " ('lose', 13),\n",
       " ('rabbit', 13),\n",
       " ('salt', 13),\n",
       " ('enjoy', 13),\n",
       " ('first', 13),\n",
       " ('most', 13),\n",
       " ('police', 13),\n",
       " ('arrive', 13),\n",
       " ('basketball', 13),\n",
       " ('delay', 13),\n",
       " ('know', 13),\n",
       " ('more', 13),\n",
       " ('test', 13),\n",
       " ('can', 13),\n",
       " ('discuss', 13),\n",
       " ('hope', 13),\n",
       " ('ok', 13),\n",
       " ('pencil', 13),\n",
       " ('president', 13),\n",
       " ('same', 13),\n",
       " ('sick', 13),\n",
       " ('teach', 13),\n",
       " ('tent', 13),\n",
       " ('ugly', 13),\n",
       " ('careful', 12),\n",
       " ('christmas', 12),\n",
       " ('fault', 12),\n",
       " ('kill', 12),\n",
       " ('pay', 12),\n",
       " ('restaurant', 12),\n",
       " ('adult', 12),\n",
       " ('bake', 12),\n",
       " ('cheese', 12),\n",
       " ('clock', 12),\n",
       " ('humble', 12),\n",
       " ('perspective', 12),\n",
       " ('show', 12),\n",
       " ('snow', 12),\n",
       " ('tired', 12),\n",
       " ('boy', 12),\n",
       " ('father', 12),\n",
       " ('football', 12),\n",
       " ('hear', 12),\n",
       " ('home', 12),\n",
       " ('house', 12),\n",
       " ('large', 12),\n",
       " ('music', 12),\n",
       " ('nurse', 12),\n",
       " ('room', 12),\n",
       " ('run', 12),\n",
       " ('secret', 12),\n",
       " ('sugar', 12),\n",
       " ('toast', 12),\n",
       " ('vomit', 12),\n",
       " ('win', 12),\n",
       " ('better', 12),\n",
       " ('blanket', 12),\n",
       " ('cereal', 12),\n",
       " ('children', 12),\n",
       " ('girl', 12),\n",
       " ('glasses', 12),\n",
       " ('inform', 12),\n",
       " ('last year', 12),\n",
       " ('north', 12),\n",
       " ('since', 12),\n",
       " ('soon', 12),\n",
       " ('stink', 12),\n",
       " ('travel', 12),\n",
       " ('center', 12),\n",
       " ('country', 12),\n",
       " ('have', 12),\n",
       " ('jacket', 12),\n",
       " ('name', 12),\n",
       " ('niece', 12),\n",
       " ('noon', 12),\n",
       " ('speech', 12),\n",
       " ('think', 12),\n",
       " ('weather', 12),\n",
       " ('wet', 12),\n",
       " ('animal', 12),\n",
       " ('bath', 12),\n",
       " ('delicious', 12),\n",
       " ('drop', 12),\n",
       " ('follow', 12),\n",
       " ('hour', 12),\n",
       " ('off', 12),\n",
       " ('office', 12),\n",
       " ('red', 12),\n",
       " ('silly', 12),\n",
       " ('struggle', 12),\n",
       " ('wednesday', 12),\n",
       " ('australia', 12),\n",
       " ('banana', 12),\n",
       " ('bring', 12),\n",
       " ('chat', 12),\n",
       " ('class', 12),\n",
       " ('down', 12),\n",
       " ('law', 12),\n",
       " ('make', 12),\n",
       " ('medicine', 12),\n",
       " ('near', 12),\n",
       " ('new', 12),\n",
       " ('past', 12),\n",
       " ('plan', 12),\n",
       " ('read', 12),\n",
       " ('ready', 12),\n",
       " ('share', 12),\n",
       " ('answer', 12),\n",
       " ('baby', 12),\n",
       " ('disappear', 12),\n",
       " ('explain', 12),\n",
       " ('future', 12),\n",
       " ('government', 12),\n",
       " ('light', 12),\n",
       " ('meat', 12),\n",
       " ('moon', 12),\n",
       " ('not', 12),\n",
       " ('potato', 12),\n",
       " ('problem', 12),\n",
       " ('small', 12),\n",
       " ('tomato', 12),\n",
       " ('with', 12),\n",
       " ('believe', 11),\n",
       " ('bread', 11),\n",
       " ('crazy', 11),\n",
       " ('desk', 11),\n",
       " ('europe', 11),\n",
       " ('feel', 11),\n",
       " ('flower', 11),\n",
       " ('heart', 11),\n",
       " ('match', 11),\n",
       " ('mirror', 11),\n",
       " ('money', 11),\n",
       " ('scissors', 11),\n",
       " ('sister', 11),\n",
       " ('where', 11),\n",
       " ('accept', 11),\n",
       " ('age', 11),\n",
       " ('beard', 11),\n",
       " ('dentist', 11),\n",
       " ('expensive', 11),\n",
       " ('fail', 11),\n",
       " ('food', 11),\n",
       " ('great', 11),\n",
       " ('lazy', 11),\n",
       " ('pants', 11),\n",
       " ('please', 11),\n",
       " ('polite', 11),\n",
       " ('slow', 11),\n",
       " ('train', 11),\n",
       " ('weekend', 11),\n",
       " ('ago', 11),\n",
       " ('allow', 11),\n",
       " ('compare', 11),\n",
       " ('decorate', 11),\n",
       " ('dive', 11),\n",
       " ('improve', 11),\n",
       " ('internet', 11),\n",
       " ('investigate', 11),\n",
       " ('necklace', 11),\n",
       " ('possible', 11),\n",
       " ('sad', 11),\n",
       " ('science', 11),\n",
       " ('sweet', 11),\n",
       " ('understand', 11),\n",
       " ('use', 11),\n",
       " ('also', 11),\n",
       " ('avoid', 11),\n",
       " ('awful', 11),\n",
       " ('because', 11),\n",
       " ('blind', 11),\n",
       " ('chicken', 11),\n",
       " ('choose', 11),\n",
       " ('copy', 11),\n",
       " ('develop', 11),\n",
       " ('drive', 11),\n",
       " ('eat', 11),\n",
       " ('environment', 11),\n",
       " ('face', 11),\n",
       " ('fast', 11),\n",
       " ('get', 11),\n",
       " ('halloween', 11),\n",
       " ('hit', 11),\n",
       " ('important', 11),\n",
       " ('miss', 11),\n",
       " ('my', 11),\n",
       " ('onion', 11),\n",
       " ('reject', 11),\n",
       " ('sentence', 11),\n",
       " ('sorry', 11),\n",
       " ('strong', 11),\n",
       " ('theory', 11),\n",
       " ('town', 11),\n",
       " ('transfer', 11),\n",
       " ('west', 11),\n",
       " ('will', 11),\n",
       " ('afternoon', 11),\n",
       " ('already', 11),\n",
       " ('appointment', 11),\n",
       " ('bowl', 11),\n",
       " ('cookie', 11),\n",
       " ('draw', 11),\n",
       " ('east', 11),\n",
       " ('egypt', 11),\n",
       " ('enter', 11),\n",
       " ('happen', 11),\n",
       " ('husband', 11),\n",
       " ('in', 11),\n",
       " ('jealous', 11),\n",
       " ('king', 11),\n",
       " ('mean', 11),\n",
       " ('milk', 11),\n",
       " ('postpone', 11),\n",
       " ('save', 11),\n",
       " ('score', 11),\n",
       " ('shape', 11),\n",
       " ('shoes', 11),\n",
       " ('sign', 11),\n",
       " ('therapy', 11),\n",
       " ('tiger', 11),\n",
       " ('traffic', 11),\n",
       " ('until', 11),\n",
       " ('vote', 11),\n",
       " ('bitter', 11),\n",
       " ('california', 11),\n",
       " ('curse', 11),\n",
       " ('dirty', 11),\n",
       " ('dry', 11),\n",
       " ('here', 11),\n",
       " ('lemon', 11),\n",
       " ('marry', 11),\n",
       " ('party', 11),\n",
       " ('patient', 11),\n",
       " ('people', 11),\n",
       " ('picture', 11),\n",
       " ('plus', 11),\n",
       " ('practice', 11),\n",
       " ('surgery', 11),\n",
       " ('talk', 11),\n",
       " ('to', 11),\n",
       " ('up', 11),\n",
       " ('window', 11),\n",
       " ('call', 11),\n",
       " ('child', 11),\n",
       " ('correct', 11),\n",
       " ('cough', 11),\n",
       " ('dress', 11),\n",
       " ('ear', 11),\n",
       " ('earn', 11),\n",
       " ('event', 11),\n",
       " ('fight', 11),\n",
       " ('form', 11),\n",
       " ('japan', 11),\n",
       " ('month', 11),\n",
       " ('move', 11),\n",
       " ('nephew', 11),\n",
       " ('never', 11),\n",
       " ('nice', 11),\n",
       " ('poor', 11),\n",
       " ('sweetheart', 11),\n",
       " ('tomorrow', 11),\n",
       " ('truck', 11),\n",
       " ('tuesday', 11),\n",
       " ('aunt', 11),\n",
       " ('behind', 11),\n",
       " ('bracelet', 11),\n",
       " ('deep', 11),\n",
       " ('easy', 11),\n",
       " ('egg', 11),\n",
       " ('example', 11),\n",
       " ('friend', 11),\n",
       " ('game', 11),\n",
       " ('minute', 11),\n",
       " ('pepper', 11),\n",
       " ('retire', 11),\n",
       " ('soft', 11),\n",
       " ('some', 11),\n",
       " ('stubborn', 11),\n",
       " ('suspect', 11),\n",
       " ('voice', 11),\n",
       " ('war', 11),\n",
       " ('canada', 10),\n",
       " ('challenge', 10),\n",
       " ('comfortable', 10),\n",
       " ('cup', 10),\n",
       " ('cute', 10),\n",
       " ('divorce', 10),\n",
       " ('during', 10),\n",
       " ('floor', 10),\n",
       " ('idea', 10),\n",
       " ('invest', 10),\n",
       " ('muscle', 10),\n",
       " ('nose', 10),\n",
       " ('opinion', 10),\n",
       " ('peach', 10),\n",
       " ('research', 10),\n",
       " ('salad', 10),\n",
       " ('schedule', 10),\n",
       " ('shock', 10),\n",
       " ('smart', 10),\n",
       " ('sunset', 10),\n",
       " ('themselves', 10),\n",
       " ('when', 10),\n",
       " ('add', 10),\n",
       " ('bark', 10),\n",
       " ('bother', 10),\n",
       " ('cafeteria', 10),\n",
       " ('destroy', 10),\n",
       " ('early', 10),\n",
       " ('god', 10),\n",
       " ('greece', 10),\n",
       " ('independent', 10),\n",
       " ('introduce', 10),\n",
       " ('listen', 10),\n",
       " ('magazine', 10),\n",
       " ('old', 10),\n",
       " ('prison', 10),\n",
       " ('saturday', 10),\n",
       " ('serious', 10),\n",
       " ('sunrise', 10),\n",
       " ('triangle', 10),\n",
       " ('wind', 10),\n",
       " ('area', 10),\n",
       " ('barely', 10),\n",
       " ('bear', 10),\n",
       " ('carrot', 10),\n",
       " ('doll', 10),\n",
       " ('duty', 10),\n",
       " ('end', 10),\n",
       " ('friendly', 10),\n",
       " ('lettuce', 10),\n",
       " ('lie', 10),\n",
       " ('newspaper', 10),\n",
       " ('push', 10),\n",
       " ('ride', 10),\n",
       " ('sky', 10),\n",
       " ('soda', 10),\n",
       " ('steal', 10),\n",
       " ('stress', 10),\n",
       " ('about', 10),\n",
       " ('across', 10),\n",
       " ('agree', 10),\n",
       " ('alone', 10),\n",
       " ('any', 10),\n",
       " ('awkward', 10),\n",
       " ('balloon', 10),\n",
       " ('box', 10),\n",
       " ('cancel', 10),\n",
       " ('cheap', 10),\n",
       " ('continue', 10),\n",
       " ('dead', 10),\n",
       " ('dessert', 10),\n",
       " ('dollar', 10),\n",
       " ('forest', 10),\n",
       " ('front', 10),\n",
       " ('mom', 10),\n",
       " ('monkey', 10),\n",
       " ('morning', 10),\n",
       " ('neighbor', 10),\n",
       " ('often', 10),\n",
       " ('sell', 10),\n",
       " ('shine', 10),\n",
       " ('skinny', 10),\n",
       " ('soup', 10),\n",
       " ('stomach', 10),\n",
       " ('america', 10),\n",
       " ('bacon', 10),\n",
       " ('bald', 10),\n",
       " ('demand', 10),\n",
       " ('easter', 10),\n",
       " ('expert', 10),\n",
       " ('feed', 10),\n",
       " ('grammar', 10),\n",
       " ('head', 10),\n",
       " ('hospital', 10),\n",
       " ('microwave', 10),\n",
       " ('motorcycle', 10),\n",
       " ('must', 10),\n",
       " ('none', 10),\n",
       " ('prepare', 10),\n",
       " ('quit', 10),\n",
       " ('spray', 10),\n",
       " ('suggest', 10),\n",
       " ('there', 10),\n",
       " ('throw', 10),\n",
       " ('university', 10),\n",
       " ('watch', 10),\n",
       " ('analyze', 10),\n",
       " ('angel', 10),\n",
       " ('august', 10),\n",
       " ('build', 10),\n",
       " ('car', 10),\n",
       " ('catch', 10),\n",
       " ('fishing', 10),\n",
       " ('from', 10),\n",
       " ('hard', 10),\n",
       " ('history', 10),\n",
       " ('lucky', 10),\n",
       " ('number', 10),\n",
       " ('outside', 10),\n",
       " ('rough', 10),\n",
       " ('should', 10),\n",
       " ('sit', 10),\n",
       " ('sleep', 10),\n",
       " ('spain', 10),\n",
       " ('star', 10),\n",
       " ('weak', 10),\n",
       " ('word', 10),\n",
       " ('attitude', 10),\n",
       " ('cause', 10),\n",
       " ('chocolate', 10),\n",
       " ('close', 10),\n",
       " ('evidence', 10),\n",
       " ('fear', 10),\n",
       " ('friday', 10),\n",
       " ('hurry', 10),\n",
       " ('love', 10),\n",
       " ('meeting', 10),\n",
       " ('night', 10),\n",
       " ('pass', 10),\n",
       " ('quiet', 10),\n",
       " ('religion', 10),\n",
       " ('rule', 10),\n",
       " ('single', 10),\n",
       " ('soap', 10),\n",
       " ('strange', 10),\n",
       " ('ticket', 10),\n",
       " ('turkey', 10),\n",
       " ('upset', 10),\n",
       " ('witness', 10),\n",
       " ('back', 10),\n",
       " ('beer', 10),\n",
       " ('bottom', 10),\n",
       " ('choice', 10),\n",
       " ('complex', 10),\n",
       " ('cover', 10),\n",
       " ('depend', 10),\n",
       " ('exchange', 10),\n",
       " ('find', 10),\n",
       " ('grandfather', 10),\n",
       " ('grapes', 10),\n",
       " ('hammer', 10),\n",
       " ('one', 10),\n",
       " ('rehearse', 10),\n",
       " ('silent', 10),\n",
       " ('sour', 10),\n",
       " ('straight', 10),\n",
       " ('strict', 10),\n",
       " ('tease', 10),\n",
       " ('tie', 10),\n",
       " ('top', 10),\n",
       " ('uncle', 10),\n",
       " ('vacation', 10),\n",
       " ('wow', 10),\n",
       " ('airplane', 9),\n",
       " ('belt', 9),\n",
       " ('cards', 9),\n",
       " ('complain', 9),\n",
       " ('embarrass', 9),\n",
       " ('feedback', 9),\n",
       " ('gum', 9),\n",
       " ('ice cream', 9),\n",
       " ('impossible', 9),\n",
       " ('jump', 9),\n",
       " ('library', 9),\n",
       " ('other', 9),\n",
       " ('provide', 9),\n",
       " ('question', 9),\n",
       " ('quick', 9),\n",
       " ('rain', 9),\n",
       " ('really', 9),\n",
       " ('remove', 9),\n",
       " ('scared', 9),\n",
       " ('send', 9),\n",
       " ('service', 9),\n",
       " ('shy', 9),\n",
       " ('sometimes', 9),\n",
       " ('spirit', 9),\n",
       " ('staff', 9),\n",
       " ('store', 9),\n",
       " ('straw', 9),\n",
       " ('symbol', 9),\n",
       " ('young', 9),\n",
       " ('almost', 9),\n",
       " ('apartment', 9),\n",
       " ('arm', 9),\n",
       " ('basement', 9),\n",
       " ('beautiful', 9),\n",
       " ('bee', 9),\n",
       " ('bite', 9),\n",
       " ('camp', 9),\n",
       " ('church', 9),\n",
       " ('compromise', 9),\n",
       " ('earring', 9),\n",
       " ('elephant', 9),\n",
       " ('every', 9),\n",
       " ('experience', 9),\n",
       " ('few', 9),\n",
       " ('giraffe', 9),\n",
       " ('gloves', 9),\n",
       " ('gone', 9),\n",
       " ('hello', 9),\n",
       " ('keep', 9),\n",
       " ('memorize', 9),\n",
       " ('neutral', 9),\n",
       " ('owe', 9),\n",
       " ('parents', 9),\n",
       " ('protect', 9),\n",
       " ('psychology', 9),\n",
       " ('rat', 9),\n",
       " ('require', 9),\n",
       " ('rise', 9),\n",
       " ('rob', 9),\n",
       " ('roof', 9),\n",
       " ('seem', 9),\n",
       " ('spin', 9),\n",
       " ('street', 9),\n",
       " ('swallow', 9),\n",
       " ('their', 9),\n",
       " ('thirsty', 9),\n",
       " ('toilet', 9),\n",
       " ('which', 9),\n",
       " ('appear', 9),\n",
       " ('borrow', 9),\n",
       " ('boyfriend', 9),\n",
       " ('butter', 9),\n",
       " ('carry', 9),\n",
       " ('chase', 9),\n",
       " ('classroom', 9),\n",
       " ('cut', 9),\n",
       " ('dictionary', 9),\n",
       " ('experiment', 9),\n",
       " ('france', 9),\n",
       " ('helicopter', 9),\n",
       " ('high', 9),\n",
       " ('hurt', 9),\n",
       " ('jesus', 9),\n",
       " ('lecture', 9),\n",
       " ('live', 9),\n",
       " ('lousy', 9),\n",
       " ('math', 9),\n",
       " ('minus', 9),\n",
       " ('mushroom', 9),\n",
       " ('phone', 9),\n",
       " ('point', 9),\n",
       " ('power', 9),\n",
       " ('presentation', 9),\n",
       " ('private', 9),\n",
       " ('procrastinate', 9),\n",
       " ('queen', 9),\n",
       " ('rest', 9),\n",
       " ('square', 9),\n",
       " ('stand', 9),\n",
       " ('summon', 9),\n",
       " ('suppose', 9),\n",
       " ('third', 9),\n",
       " ('touch', 9),\n",
       " ('volunteer', 9),\n",
       " ('we', 9),\n",
       " ('another', 9),\n",
       " ('army', 9),\n",
       " ('asia', 9),\n",
       " ('autumn', 9),\n",
       " ('bet', 9),\n",
       " ('body', 9),\n",
       " ('bottle', 9),\n",
       " ('care', 9),\n",
       " ('comb', 9),\n",
       " ('conflict', 9),\n",
       " ('contact', 9),\n",
       " ('desert', 9),\n",
       " ('english', 9),\n",
       " ('fact', 9),\n",
       " ('for', 9),\n",
       " ('gossip', 9),\n",
       " ('half', 9),\n",
       " ('inside', 9),\n",
       " ('israel', 9),\n",
       " ('land', 9),\n",
       " ('limit', 9),\n",
       " ('loud', 9),\n",
       " ('next', 9),\n",
       " ('pig', 9),\n",
       " ('represent', 9),\n",
       " ('review', 9),\n",
       " ('satisfy', 9),\n",
       " ('senate', 9),\n",
       " ('structure', 9),\n",
       " ('wash', 9),\n",
       " ('become', 9),\n",
       " ('below', 9),\n",
       " ('boss', 9),\n",
       " ('both', 9),\n",
       " ('bus', 9),\n",
       " ('chain', 9),\n",
       " ('climb', 9),\n",
       " ('community', 9),\n",
       " ('cop', 9),\n",
       " ('fly', 9),\n",
       " ('goal', 9),\n",
       " ('grandmother', 9),\n",
       " ('hungry', 9),\n",
       " ('measure', 9),\n",
       " ('operate', 9),\n",
       " ('pray', 9),\n",
       " ('put', 9),\n",
       " ('situation', 9),\n",
       " ('sound', 9),\n",
       " ('stare', 9),\n",
       " ('summer', 9),\n",
       " ('team', 9),\n",
       " ('underwear', 9),\n",
       " ('wood', 9),\n",
       " ('worry', 9),\n",
       " ('art', 9),\n",
       " ('asl', 9),\n",
       " ('audience', 9),\n",
       " ('baseball', 9),\n",
       " ('bedroom', 9),\n",
       " ('busy', 9),\n",
       " ('clean', 9),\n",
       " ('deer', 9),\n",
       " ('deodorant', 9),\n",
       " ('drawer', 9),\n",
       " ('drunk', 9),\n",
       " ('expect', 9),\n",
       " ('highway', 9),\n",
       " ('information', 9),\n",
       " ('multiply', 9),\n",
       " ('odd', 9),\n",
       " ('order', 9),\n",
       " ('pillow', 9),\n",
       " ('popular', 9),\n",
       " ('program', 9),\n",
       " ('raccoon', 9),\n",
       " ('radio', 9),\n",
       " ('reason', 9),\n",
       " ('respect', 9),\n",
       " ('rich', 9),\n",
       " ('solid', 9),\n",
       " ('special', 9),\n",
       " ('actor', 9),\n",
       " ('after', 9),\n",
       " ('blame', 9),\n",
       " ('cloud', 9),\n",
       " ('curriculum', 9),\n",
       " ('dad', 9),\n",
       " ('describe', 9),\n",
       " ('dream', 9),\n",
       " ('eagle', 9),\n",
       " ('fancy', 9),\n",
       " ('guess', 9),\n",
       " ('hamburger', 9),\n",
       " ('her', 9),\n",
       " ('insurance', 9),\n",
       " ('lobster', 9),\n",
       " ('mustache', 9),\n",
       " ('neck', 9),\n",
       " ('negative', 9),\n",
       " ('open', 9),\n",
       " ('overwhelm', 9),\n",
       " ('price', 9),\n",
       " ('scotland', 9),\n",
       " ('story', 9),\n",
       " ('support', 9),\n",
       " ('tournament', 9),\n",
       " ('translate', 9),\n",
       " ('warn', 9),\n",
       " ('wine', 9),\n",
       " ('world', 9),\n",
       " ('arrest', 9),\n",
       " ('big', 9),\n",
       " ('calm', 9),\n",
       " ('candle', 9),\n",
       " ('contribute', 9),\n",
       " ('corner', 9),\n",
       " ('disagree', 9),\n",
       " ('encourage', 9),\n",
       " ('evaluate', 9),\n",
       " ('flag', 9),\n",
       " ('if', 9),\n",
       " ('interview', 9),\n",
       " ('island', 9),\n",
       " ('lunch', 9),\n",
       " ('march', 9),\n",
       " ('nervous', 9),\n",
       " ('on', 9),\n",
       " ('place', 9),\n",
       " ('present', 9),\n",
       " ('printer', 9),\n",
       " ('separate', 9),\n",
       " ('slave', 9),\n",
       " ('snake', 9),\n",
       " ('together', 9),\n",
       " ('a lot', 8),\n",
       " ('artist', 8),\n",
       " ('belief', 8),\n",
       " ('boat', 8),\n",
       " ('card', 8),\n",
       " ('command', 8),\n",
       " ('common', 8),\n",
       " ('dorm', 8),\n",
       " ('educate', 8),\n",
       " ('eight', 8),\n",
       " ('erase', 8),\n",
       " ('exaggerate', 8),\n",
       " ('freeze', 8),\n",
       " ('ghost', 8),\n",
       " ('gray', 8),\n",
       " ('jewish', 8),\n",
       " ('lesbian', 8),\n",
       " ('lion', 8),\n",
       " ('manager', 8),\n",
       " ('middle', 8),\n",
       " ('mouth', 8),\n",
       " ('out', 8),\n",
       " ('policy', 8),\n",
       " ('rainbow', 8),\n",
       " ('serve', 8),\n",
       " ('sheep', 8),\n",
       " ('shop', 8),\n",
       " ('stupid', 8),\n",
       " ('subway', 8),\n",
       " ('sun', 8),\n",
       " ('telephone', 8),\n",
       " ('thank you', 8),\n",
       " ('willing', 8),\n",
       " ('wonderful', 8),\n",
       " ('wrench', 8),\n",
       " ('alarm', 8),\n",
       " ('beginning', 8),\n",
       " ('bless', 8),\n",
       " ('break', 8),\n",
       " ('christian', 8),\n",
       " ('control', 8),\n",
       " ('cost', 8),\n",
       " ('culture', 8),\n",
       " ('demonstrate', 8),\n",
       " ('double', 8),\n",
       " ('faculty', 8),\n",
       " ('flirt', 8),\n",
       " ('fox', 8),\n",
       " ('frog', 8),\n",
       " ('garage', 8),\n",
       " ('general', 8),\n",
       " ('goat', 8),\n",
       " ('golf', 8),\n",
       " ('guitar', 8),\n",
       " ('hold', 8),\n",
       " ('india', 8),\n",
       " ('infection', 8),\n",
       " ('left', 8),\n",
       " ('microphone', 8),\n",
       " ('mountain', 8),\n",
       " ('prove', 8),\n",
       " ('recent', 8),\n",
       " ('scientist', 8),\n",
       " ('shelf', 8),\n",
       " ('shower', 8),\n",
       " ('side', 8),\n",
       " ('soccer', 8),\n",
       " ('surface', 8),\n",
       " ('temple', 8),\n",
       " ('thing', 8),\n",
       " ('through', 8),\n",
       " ('umbrella', 8),\n",
       " ('weird', 8),\n",
       " ('without', 8),\n",
       " ('announce', 8),\n",
       " ('ask', 8),\n",
       " ('benefit', 8),\n",
       " ('clear', 8),\n",
       " ('congress', 8),\n",
       " ('conquer', 8),\n",
       " ('curious', 8),\n",
       " ('hate', 8),\n",
       " ('iran', 8),\n",
       " ('jail', 8),\n",
       " ('kick', 8),\n",
       " ('line', 8),\n",
       " ('museum', 8),\n",
       " ('ocean', 8),\n",
       " ('october', 8),\n",
       " ('pain', 8),\n",
       " ('pretty', 8),\n",
       " ('print', 8),\n",
       " ('race', 8),\n",
       " ('recognize', 8),\n",
       " ('replace', 8),\n",
       " ('senior', 8),\n",
       " ('seven', 8),\n",
       " ('snob', 8),\n",
       " ('specific', 8),\n",
       " ('stop', 8),\n",
       " ('terrible', 8),\n",
       " ('three', 8),\n",
       " ('try', 8),\n",
       " ('wedding', 8),\n",
       " ('zero', 8),\n",
       " ('auction', 8),\n",
       " ('bull', 8),\n",
       " ('cake', 8),\n",
       " ('character', 8),\n",
       " ('clever', 8),\n",
       " ('cochlear implant', 8),\n",
       " ('dinner', 8),\n",
       " ('director', 8),\n",
       " ('dizzy', 8),\n",
       " ('document', 8),\n",
       " ('dumb', 8),\n",
       " ('empty', 8),\n",
       " ('energy', 8),\n",
       " ('excited', 8),\n",
       " ('eye', 8),\n",
       " ('finally', 8),\n",
       " ('flexible', 8),\n",
       " ('fold', 8),\n",
       " ('fun', 8),\n",
       " ('funny', 8),\n",
       " ('lesson', 8),\n",
       " ('mad', 8),\n",
       " ('mexico', 8),\n",
       " ('mix', 8),\n",
       " ('much', 8),\n",
       " ('pocket', 8),\n",
       " ('promise', 8),\n",
       " ('pumpkin', 8),\n",
       " ('realize', 8),\n",
       " ('rude', 8),\n",
       " ('she', 8),\n",
       " ('spider', 8),\n",
       " ('squirrel', 8),\n",
       " ('stamp', 8),\n",
       " ('steel', 8),\n",
       " ('strawberry', 8),\n",
       " ('surprise', 8),\n",
       " ('tan', 8),\n",
       " ('trust', 8),\n",
       " ('under', 8),\n",
       " ...]"
      ]
     },
     "execution_count": 23,
     "metadata": {},
     "output_type": "execute_result"
    }
   ],
   "source": [
    "labelcount.sortBy(lambda x: x[1],ascending=False).collect()"
   ]
  },
  {
   "cell_type": "code",
   "execution_count": 24,
   "id": "e6259ed0",
   "metadata": {
    "ExecuteTime": {
     "end_time": "2023-07-30T21:28:37.259659Z",
     "start_time": "2023-07-30T21:28:37.251847Z"
    }
   },
   "outputs": [],
   "source": [
    "video_df3 = pd.DataFrame(video_df2, columns=['path'])"
   ]
  },
  {
   "cell_type": "code",
   "execution_count": 25,
   "id": "36c324d5",
   "metadata": {
    "ExecuteTime": {
     "end_time": "2023-07-30T21:28:37.933239Z",
     "start_time": "2023-07-30T21:28:37.926003Z"
    }
   },
   "outputs": [
    {
     "data": {
      "text/html": [
       "<div>\n",
       "<style scoped>\n",
       "    .dataframe tbody tr th:only-of-type {\n",
       "        vertical-align: middle;\n",
       "    }\n",
       "\n",
       "    .dataframe tbody tr th {\n",
       "        vertical-align: top;\n",
       "    }\n",
       "\n",
       "    .dataframe thead th {\n",
       "        text-align: right;\n",
       "    }\n",
       "</style>\n",
       "<table border=\"1\" class=\"dataframe\">\n",
       "  <thead>\n",
       "    <tr style=\"text-align: right;\">\n",
       "      <th></th>\n",
       "      <th>path</th>\n",
       "    </tr>\n",
       "  </thead>\n",
       "  <tbody>\n",
       "    <tr>\n",
       "      <th>0</th>\n",
       "      <td>file:/home/kristian/WLASL/videos_organized/a l...</td>\n",
       "    </tr>\n",
       "    <tr>\n",
       "      <th>1</th>\n",
       "      <td>file:/home/kristian/WLASL/videos_organized/a l...</td>\n",
       "    </tr>\n",
       "    <tr>\n",
       "      <th>2</th>\n",
       "      <td>file:/home/kristian/WLASL/videos_organized/a l...</td>\n",
       "    </tr>\n",
       "    <tr>\n",
       "      <th>3</th>\n",
       "      <td>file:/home/kristian/WLASL/videos_organized/a l...</td>\n",
       "    </tr>\n",
       "    <tr>\n",
       "      <th>4</th>\n",
       "      <td>file:/home/kristian/WLASL/videos_organized/a l...</td>\n",
       "    </tr>\n",
       "  </tbody>\n",
       "</table>\n",
       "</div>"
      ],
      "text/plain": [
       "                                                path\n",
       "0  file:/home/kristian/WLASL/videos_organized/a l...\n",
       "1  file:/home/kristian/WLASL/videos_organized/a l...\n",
       "2  file:/home/kristian/WLASL/videos_organized/a l...\n",
       "3  file:/home/kristian/WLASL/videos_organized/a l...\n",
       "4  file:/home/kristian/WLASL/videos_organized/a l..."
      ]
     },
     "execution_count": 25,
     "metadata": {},
     "output_type": "execute_result"
    }
   ],
   "source": [
    "video_df3.head()"
   ]
  },
  {
   "cell_type": "code",
   "execution_count": 26,
   "id": "f7b6dc2b",
   "metadata": {
    "ExecuteTime": {
     "end_time": "2023-07-30T21:28:39.564327Z",
     "start_time": "2023-07-30T21:28:39.557113Z"
    }
   },
   "outputs": [],
   "source": [
    "video_df = video_df3.join(pd.DataFrame(target, columns=['target','file']))"
   ]
  },
  {
   "cell_type": "code",
   "execution_count": 27,
   "id": "6f6927a7",
   "metadata": {
    "ExecuteTime": {
     "end_time": "2023-07-30T21:28:40.527305Z",
     "start_time": "2023-07-30T21:28:40.520420Z"
    }
   },
   "outputs": [
    {
     "data": {
      "text/html": [
       "<div>\n",
       "<style scoped>\n",
       "    .dataframe tbody tr th:only-of-type {\n",
       "        vertical-align: middle;\n",
       "    }\n",
       "\n",
       "    .dataframe tbody tr th {\n",
       "        vertical-align: top;\n",
       "    }\n",
       "\n",
       "    .dataframe thead th {\n",
       "        text-align: right;\n",
       "    }\n",
       "</style>\n",
       "<table border=\"1\" class=\"dataframe\">\n",
       "  <thead>\n",
       "    <tr style=\"text-align: right;\">\n",
       "      <th></th>\n",
       "      <th>path</th>\n",
       "      <th>target</th>\n",
       "      <th>file</th>\n",
       "    </tr>\n",
       "  </thead>\n",
       "  <tbody>\n",
       "    <tr>\n",
       "      <th>0</th>\n",
       "      <td>file:/home/kristian/WLASL/videos_organized/a l...</td>\n",
       "      <td>a lot</td>\n",
       "      <td>02123.mp4</td>\n",
       "    </tr>\n",
       "    <tr>\n",
       "      <th>1</th>\n",
       "      <td>file:/home/kristian/WLASL/videos_organized/a l...</td>\n",
       "      <td>a lot</td>\n",
       "      <td>02124.mp4</td>\n",
       "    </tr>\n",
       "    <tr>\n",
       "      <th>2</th>\n",
       "      <td>file:/home/kristian/WLASL/videos_organized/a l...</td>\n",
       "      <td>a lot</td>\n",
       "      <td>02125.mp4</td>\n",
       "    </tr>\n",
       "    <tr>\n",
       "      <th>3</th>\n",
       "      <td>file:/home/kristian/WLASL/videos_organized/a l...</td>\n",
       "      <td>a lot</td>\n",
       "      <td>02126.mp4</td>\n",
       "    </tr>\n",
       "    <tr>\n",
       "      <th>4</th>\n",
       "      <td>file:/home/kristian/WLASL/videos_organized/a l...</td>\n",
       "      <td>a lot</td>\n",
       "      <td>02128.mp4</td>\n",
       "    </tr>\n",
       "    <tr>\n",
       "      <th>5</th>\n",
       "      <td>file:/home/kristian/WLASL/videos_organized/a l...</td>\n",
       "      <td>a lot</td>\n",
       "      <td>02129.mp4</td>\n",
       "    </tr>\n",
       "    <tr>\n",
       "      <th>6</th>\n",
       "      <td>file:/home/kristian/WLASL/videos_organized/a l...</td>\n",
       "      <td>a lot</td>\n",
       "      <td>02130.mp4</td>\n",
       "    </tr>\n",
       "    <tr>\n",
       "      <th>7</th>\n",
       "      <td>file:/home/kristian/WLASL/videos_organized/a l...</td>\n",
       "      <td>a lot</td>\n",
       "      <td>02131.mp4</td>\n",
       "    </tr>\n",
       "    <tr>\n",
       "      <th>8</th>\n",
       "      <td>file:/home/kristian/WLASL/videos_organized/a/0...</td>\n",
       "      <td>a</td>\n",
       "      <td>00295.mp4</td>\n",
       "    </tr>\n",
       "    <tr>\n",
       "      <th>9</th>\n",
       "      <td>file:/home/kristian/WLASL/videos_organized/a/0...</td>\n",
       "      <td>a</td>\n",
       "      <td>01610.mp4</td>\n",
       "    </tr>\n",
       "    <tr>\n",
       "      <th>10</th>\n",
       "      <td>file:/home/kristian/WLASL/videos_organized/a/0...</td>\n",
       "      <td>a</td>\n",
       "      <td>01611.mp4</td>\n",
       "    </tr>\n",
       "    <tr>\n",
       "      <th>11</th>\n",
       "      <td>file:/home/kristian/WLASL/videos_organized/a/0...</td>\n",
       "      <td>a</td>\n",
       "      <td>01612.mp4</td>\n",
       "    </tr>\n",
       "    <tr>\n",
       "      <th>12</th>\n",
       "      <td>file:/home/kristian/WLASL/videos_organized/a/0...</td>\n",
       "      <td>a</td>\n",
       "      <td>01613.mp4</td>\n",
       "    </tr>\n",
       "    <tr>\n",
       "      <th>13</th>\n",
       "      <td>file:/home/kristian/WLASL/videos_organized/a/0...</td>\n",
       "      <td>a</td>\n",
       "      <td>01614.mp4</td>\n",
       "    </tr>\n",
       "    <tr>\n",
       "      <th>14</th>\n",
       "      <td>file:/home/kristian/WLASL/videos_organized/a/0...</td>\n",
       "      <td>a</td>\n",
       "      <td>01615.mp4</td>\n",
       "    </tr>\n",
       "    <tr>\n",
       "      <th>15</th>\n",
       "      <td>file:/home/kristian/WLASL/videos_organized/abd...</td>\n",
       "      <td>abdomen</td>\n",
       "      <td>00333.mp4</td>\n",
       "    </tr>\n",
       "    <tr>\n",
       "      <th>16</th>\n",
       "      <td>file:/home/kristian/WLASL/videos_organized/abd...</td>\n",
       "      <td>abdomen</td>\n",
       "      <td>00335.mp4</td>\n",
       "    </tr>\n",
       "    <tr>\n",
       "      <th>17</th>\n",
       "      <td>file:/home/kristian/WLASL/videos_organized/abd...</td>\n",
       "      <td>abdomen</td>\n",
       "      <td>00336.mp4</td>\n",
       "    </tr>\n",
       "    <tr>\n",
       "      <th>18</th>\n",
       "      <td>file:/home/kristian/WLASL/videos_organized/abd...</td>\n",
       "      <td>abdomen</td>\n",
       "      <td>00338.mp4</td>\n",
       "    </tr>\n",
       "    <tr>\n",
       "      <th>19</th>\n",
       "      <td>file:/home/kristian/WLASL/videos_organized/abd...</td>\n",
       "      <td>abdomen</td>\n",
       "      <td>00339.mp4</td>\n",
       "    </tr>\n",
       "  </tbody>\n",
       "</table>\n",
       "</div>"
      ],
      "text/plain": [
       "                                                 path   target       file\n",
       "0   file:/home/kristian/WLASL/videos_organized/a l...    a lot  02123.mp4\n",
       "1   file:/home/kristian/WLASL/videos_organized/a l...    a lot  02124.mp4\n",
       "2   file:/home/kristian/WLASL/videos_organized/a l...    a lot  02125.mp4\n",
       "3   file:/home/kristian/WLASL/videos_organized/a l...    a lot  02126.mp4\n",
       "4   file:/home/kristian/WLASL/videos_organized/a l...    a lot  02128.mp4\n",
       "5   file:/home/kristian/WLASL/videos_organized/a l...    a lot  02129.mp4\n",
       "6   file:/home/kristian/WLASL/videos_organized/a l...    a lot  02130.mp4\n",
       "7   file:/home/kristian/WLASL/videos_organized/a l...    a lot  02131.mp4\n",
       "8   file:/home/kristian/WLASL/videos_organized/a/0...        a  00295.mp4\n",
       "9   file:/home/kristian/WLASL/videos_organized/a/0...        a  01610.mp4\n",
       "10  file:/home/kristian/WLASL/videos_organized/a/0...        a  01611.mp4\n",
       "11  file:/home/kristian/WLASL/videos_organized/a/0...        a  01612.mp4\n",
       "12  file:/home/kristian/WLASL/videos_organized/a/0...        a  01613.mp4\n",
       "13  file:/home/kristian/WLASL/videos_organized/a/0...        a  01614.mp4\n",
       "14  file:/home/kristian/WLASL/videos_organized/a/0...        a  01615.mp4\n",
       "15  file:/home/kristian/WLASL/videos_organized/abd...  abdomen  00333.mp4\n",
       "16  file:/home/kristian/WLASL/videos_organized/abd...  abdomen  00335.mp4\n",
       "17  file:/home/kristian/WLASL/videos_organized/abd...  abdomen  00336.mp4\n",
       "18  file:/home/kristian/WLASL/videos_organized/abd...  abdomen  00338.mp4\n",
       "19  file:/home/kristian/WLASL/videos_organized/abd...  abdomen  00339.mp4"
      ]
     },
     "execution_count": 27,
     "metadata": {},
     "output_type": "execute_result"
    }
   ],
   "source": [
    "video_df.head(20)"
   ]
  },
  {
   "cell_type": "code",
   "execution_count": 28,
   "id": "1304b30b",
   "metadata": {
    "ExecuteTime": {
     "end_time": "2023-07-30T21:28:42.438472Z",
     "start_time": "2023-07-30T21:28:42.426895Z"
    }
   },
   "outputs": [
    {
     "data": {
      "text/html": [
       "<div>\n",
       "<style scoped>\n",
       "    .dataframe tbody tr th:only-of-type {\n",
       "        vertical-align: middle;\n",
       "    }\n",
       "\n",
       "    .dataframe tbody tr th {\n",
       "        vertical-align: top;\n",
       "    }\n",
       "\n",
       "    .dataframe thead th {\n",
       "        text-align: right;\n",
       "    }\n",
       "</style>\n",
       "<table border=\"1\" class=\"dataframe\">\n",
       "  <thead>\n",
       "    <tr style=\"text-align: right;\">\n",
       "      <th></th>\n",
       "      <th>path</th>\n",
       "      <th>target</th>\n",
       "      <th>file</th>\n",
       "    </tr>\n",
       "  </thead>\n",
       "  <tbody>\n",
       "    <tr>\n",
       "      <th>4916</th>\n",
       "      <td>file:/home/kristian/WLASL/videos_organized/dra...</td>\n",
       "      <td>dragon</td>\n",
       "      <td>17529.mp4</td>\n",
       "    </tr>\n",
       "    <tr>\n",
       "      <th>4501</th>\n",
       "      <td>file:/home/kristian/WLASL/videos_organized/dia...</td>\n",
       "      <td>diamond</td>\n",
       "      <td>16069.mp4</td>\n",
       "    </tr>\n",
       "    <tr>\n",
       "      <th>11467</th>\n",
       "      <td>file:/home/kristian/WLASL/videos_organized/pow...</td>\n",
       "      <td>power</td>\n",
       "      <td>44056.mp4</td>\n",
       "    </tr>\n",
       "    <tr>\n",
       "      <th>14859</th>\n",
       "      <td>file:/home/kristian/WLASL/videos_organized/sus...</td>\n",
       "      <td>suspend</td>\n",
       "      <td>56168.mp4</td>\n",
       "    </tr>\n",
       "    <tr>\n",
       "      <th>3909</th>\n",
       "      <td>file:/home/kristian/WLASL/videos_organized/cre...</td>\n",
       "      <td>create</td>\n",
       "      <td>13877.mp4</td>\n",
       "    </tr>\n",
       "    <tr>\n",
       "      <th>7682</th>\n",
       "      <td>file:/home/kristian/WLASL/videos_organized/hot...</td>\n",
       "      <td>hot dog</td>\n",
       "      <td>28082.mp4</td>\n",
       "    </tr>\n",
       "    <tr>\n",
       "      <th>15349</th>\n",
       "      <td>file:/home/kristian/WLASL/videos_organized/the...</td>\n",
       "      <td>their</td>\n",
       "      <td>57729.mp4</td>\n",
       "    </tr>\n",
       "    <tr>\n",
       "      <th>4040</th>\n",
       "      <td>file:/home/kristian/WLASL/videos_organized/d/1...</td>\n",
       "      <td>d</td>\n",
       "      <td>15997.mp4</td>\n",
       "    </tr>\n",
       "    <tr>\n",
       "      <th>1125</th>\n",
       "      <td>file:/home/kristian/WLASL/videos_organized/bac...</td>\n",
       "      <td>back</td>\n",
       "      <td>65120.mp4</td>\n",
       "    </tr>\n",
       "    <tr>\n",
       "      <th>3041</th>\n",
       "      <td>file:/home/kristian/WLASL/videos_organized/chu...</td>\n",
       "      <td>church</td>\n",
       "      <td>10772.mp4</td>\n",
       "    </tr>\n",
       "    <tr>\n",
       "      <th>2896</th>\n",
       "      <td>file:/home/kristian/WLASL/videos_organized/che...</td>\n",
       "      <td>chemical</td>\n",
       "      <td>10301.mp4</td>\n",
       "    </tr>\n",
       "    <tr>\n",
       "      <th>15377</th>\n",
       "      <td>file:/home/kristian/WLASL/videos_organized/the...</td>\n",
       "      <td>themselves</td>\n",
       "      <td>57768.mp4</td>\n",
       "    </tr>\n",
       "    <tr>\n",
       "      <th>16161</th>\n",
       "      <td>file:/home/kristian/WLASL/videos_organized/uni...</td>\n",
       "      <td>unique</td>\n",
       "      <td>60705.mp4</td>\n",
       "    </tr>\n",
       "    <tr>\n",
       "      <th>2311</th>\n",
       "      <td>file:/home/kristian/WLASL/videos_organized/buy...</td>\n",
       "      <td>buy</td>\n",
       "      <td>08486.mp4</td>\n",
       "    </tr>\n",
       "    <tr>\n",
       "      <th>5223</th>\n",
       "      <td>file:/home/kristian/WLASL/videos_organized/eas...</td>\n",
       "      <td>easy</td>\n",
       "      <td>18315.mp4</td>\n",
       "    </tr>\n",
       "    <tr>\n",
       "      <th>9523</th>\n",
       "      <td>file:/home/kristian/WLASL/videos_organized/min...</td>\n",
       "      <td>mine</td>\n",
       "      <td>36146.mp4</td>\n",
       "    </tr>\n",
       "    <tr>\n",
       "      <th>7892</th>\n",
       "      <td>file:/home/kristian/WLASL/videos_organized/imp...</td>\n",
       "      <td>important</td>\n",
       "      <td>29066.mp4</td>\n",
       "    </tr>\n",
       "    <tr>\n",
       "      <th>16856</th>\n",
       "      <td>file:/home/kristian/WLASL/videos_organized/wif...</td>\n",
       "      <td>wife</td>\n",
       "      <td>63325.mp4</td>\n",
       "    </tr>\n",
       "    <tr>\n",
       "      <th>16675</th>\n",
       "      <td>file:/home/kristian/WLASL/videos_organized/wee...</td>\n",
       "      <td>weekly</td>\n",
       "      <td>62760.mp4</td>\n",
       "    </tr>\n",
       "    <tr>\n",
       "      <th>15337</th>\n",
       "      <td>file:/home/kristian/WLASL/videos_organized/tha...</td>\n",
       "      <td>that</td>\n",
       "      <td>57679.mp4</td>\n",
       "    </tr>\n",
       "  </tbody>\n",
       "</table>\n",
       "</div>"
      ],
      "text/plain": [
       "                                                    path      target  \\\n",
       "4916   file:/home/kristian/WLASL/videos_organized/dra...      dragon   \n",
       "4501   file:/home/kristian/WLASL/videos_organized/dia...     diamond   \n",
       "11467  file:/home/kristian/WLASL/videos_organized/pow...       power   \n",
       "14859  file:/home/kristian/WLASL/videos_organized/sus...     suspend   \n",
       "3909   file:/home/kristian/WLASL/videos_organized/cre...      create   \n",
       "7682   file:/home/kristian/WLASL/videos_organized/hot...     hot dog   \n",
       "15349  file:/home/kristian/WLASL/videos_organized/the...       their   \n",
       "4040   file:/home/kristian/WLASL/videos_organized/d/1...           d   \n",
       "1125   file:/home/kristian/WLASL/videos_organized/bac...        back   \n",
       "3041   file:/home/kristian/WLASL/videos_organized/chu...      church   \n",
       "2896   file:/home/kristian/WLASL/videos_organized/che...    chemical   \n",
       "15377  file:/home/kristian/WLASL/videos_organized/the...  themselves   \n",
       "16161  file:/home/kristian/WLASL/videos_organized/uni...      unique   \n",
       "2311   file:/home/kristian/WLASL/videos_organized/buy...         buy   \n",
       "5223   file:/home/kristian/WLASL/videos_organized/eas...        easy   \n",
       "9523   file:/home/kristian/WLASL/videos_organized/min...        mine   \n",
       "7892   file:/home/kristian/WLASL/videos_organized/imp...   important   \n",
       "16856  file:/home/kristian/WLASL/videos_organized/wif...        wife   \n",
       "16675  file:/home/kristian/WLASL/videos_organized/wee...      weekly   \n",
       "15337  file:/home/kristian/WLASL/videos_organized/tha...        that   \n",
       "\n",
       "            file  \n",
       "4916   17529.mp4  \n",
       "4501   16069.mp4  \n",
       "11467  44056.mp4  \n",
       "14859  56168.mp4  \n",
       "3909   13877.mp4  \n",
       "7682   28082.mp4  \n",
       "15349  57729.mp4  \n",
       "4040   15997.mp4  \n",
       "1125   65120.mp4  \n",
       "3041   10772.mp4  \n",
       "2896   10301.mp4  \n",
       "15377  57768.mp4  \n",
       "16161  60705.mp4  \n",
       "2311   08486.mp4  \n",
       "5223   18315.mp4  \n",
       "9523   36146.mp4  \n",
       "7892   29066.mp4  \n",
       "16856  63325.mp4  \n",
       "16675  62760.mp4  \n",
       "15337  57679.mp4  "
      ]
     },
     "execution_count": 28,
     "metadata": {},
     "output_type": "execute_result"
    }
   ],
   "source": [
    "video_df.sample(20)"
   ]
  },
  {
   "cell_type": "code",
   "execution_count": 29,
   "id": "c1c38d14",
   "metadata": {
    "ExecuteTime": {
     "end_time": "2023-07-30T21:28:45.019128Z",
     "start_time": "2023-07-30T21:28:44.690247Z"
    }
   },
   "outputs": [],
   "source": [
    "#loop to get labels and filename per row\n",
    "i = 0\n",
    "target2 = []\n",
    "for row in video_df.path:\n",
    "    subdirname = os.path.basename(os.path.dirname(video_df.path[i]))\n",
    "    name = os.path.basename(video_df.path[i]).split('/')[-1]\n",
    "    target2.append([subdirname])\n",
    "    i = i + 1"
   ]
  },
  {
   "cell_type": "code",
   "execution_count": 30,
   "id": "d3565d55",
   "metadata": {
    "ExecuteTime": {
     "end_time": "2023-07-30T21:28:46.478332Z",
     "start_time": "2023-07-30T21:28:46.454603Z"
    }
   },
   "outputs": [
    {
     "data": {
      "text/plain": [
       "[['a lot'],\n",
       " ['a lot'],\n",
       " ['a lot'],\n",
       " ['a lot'],\n",
       " ['a lot'],\n",
       " ['a lot'],\n",
       " ['a lot'],\n",
       " ['a lot'],\n",
       " ['a'],\n",
       " ['a'],\n",
       " ['a'],\n",
       " ['a'],\n",
       " ['a'],\n",
       " ['a'],\n",
       " ['a'],\n",
       " ['abdomen'],\n",
       " ['abdomen'],\n",
       " ['abdomen'],\n",
       " ['abdomen'],\n",
       " ['abdomen'],\n",
       " ['abdomen'],\n",
       " ['abdomen'],\n",
       " ['able'],\n",
       " ['able'],\n",
       " ['able'],\n",
       " ['able'],\n",
       " ['able'],\n",
       " ['able'],\n",
       " ['able'],\n",
       " ['able'],\n",
       " ['about'],\n",
       " ['about'],\n",
       " ['about'],\n",
       " ['about'],\n",
       " ['about'],\n",
       " ['about'],\n",
       " ['about'],\n",
       " ['about'],\n",
       " ['about'],\n",
       " ['about'],\n",
       " ['above'],\n",
       " ['above'],\n",
       " ['above'],\n",
       " ['above'],\n",
       " ['above'],\n",
       " ['above'],\n",
       " ['above'],\n",
       " ['accent'],\n",
       " ['accent'],\n",
       " ['accent'],\n",
       " ['accent'],\n",
       " ['accent'],\n",
       " ['accept'],\n",
       " ['accept'],\n",
       " ['accept'],\n",
       " ['accept'],\n",
       " ['accept'],\n",
       " ['accept'],\n",
       " ['accept'],\n",
       " ['accept'],\n",
       " ['accept'],\n",
       " ['accept'],\n",
       " ['accept'],\n",
       " ['accident'],\n",
       " ['accident'],\n",
       " ['accident'],\n",
       " ['accident'],\n",
       " ['accident'],\n",
       " ['accident'],\n",
       " ['accident'],\n",
       " ['accident'],\n",
       " ['accident'],\n",
       " ['accident'],\n",
       " ['accident'],\n",
       " ['accident'],\n",
       " ['accident'],\n",
       " ['accident'],\n",
       " ['accident'],\n",
       " ['accident'],\n",
       " ['accident'],\n",
       " ['accomplish'],\n",
       " ['accomplish'],\n",
       " ['accomplish'],\n",
       " ['accomplish'],\n",
       " ['accomplish'],\n",
       " ['accomplish'],\n",
       " ['accountant'],\n",
       " ['accountant'],\n",
       " ['accountant'],\n",
       " ['accountant'],\n",
       " ['accountant'],\n",
       " ['accountant'],\n",
       " ['across'],\n",
       " ['across'],\n",
       " ['across'],\n",
       " ['across'],\n",
       " ['across'],\n",
       " ['across'],\n",
       " ['across'],\n",
       " ['across'],\n",
       " ['across'],\n",
       " ['across'],\n",
       " ['act'],\n",
       " ['act'],\n",
       " ['act'],\n",
       " ['act'],\n",
       " ['act'],\n",
       " ['act'],\n",
       " ['action'],\n",
       " ['action'],\n",
       " ['action'],\n",
       " ['action'],\n",
       " ['action'],\n",
       " ['action'],\n",
       " ['action'],\n",
       " ['active'],\n",
       " ['active'],\n",
       " ['active'],\n",
       " ['active'],\n",
       " ['active'],\n",
       " ['active'],\n",
       " ['active'],\n",
       " ['activity'],\n",
       " ['activity'],\n",
       " ['activity'],\n",
       " ['activity'],\n",
       " ['activity'],\n",
       " ['activity'],\n",
       " ['actor'],\n",
       " ['actor'],\n",
       " ['actor'],\n",
       " ['actor'],\n",
       " ['actor'],\n",
       " ['actor'],\n",
       " ['actor'],\n",
       " ['actor'],\n",
       " ['actor'],\n",
       " ['adapt'],\n",
       " ['adapt'],\n",
       " ['adapt'],\n",
       " ['adapt'],\n",
       " ['adapt'],\n",
       " ['adapt'],\n",
       " ['adapt'],\n",
       " ['add'],\n",
       " ['add'],\n",
       " ['add'],\n",
       " ['add'],\n",
       " ['add'],\n",
       " ['add'],\n",
       " ['add'],\n",
       " ['add'],\n",
       " ['add'],\n",
       " ['add'],\n",
       " ['address'],\n",
       " ['address'],\n",
       " ['address'],\n",
       " ['address'],\n",
       " ['address'],\n",
       " ['address'],\n",
       " ['adjective'],\n",
       " ['adjective'],\n",
       " ['adjective'],\n",
       " ['adjective'],\n",
       " ['adjective'],\n",
       " ['adjective'],\n",
       " ['adjust'],\n",
       " ['adjust'],\n",
       " ['adjust'],\n",
       " ['adjust'],\n",
       " ['adjust'],\n",
       " ['adjust'],\n",
       " ['admire'],\n",
       " ['admire'],\n",
       " ['admire'],\n",
       " ['admire'],\n",
       " ['admire'],\n",
       " ['admit'],\n",
       " ['admit'],\n",
       " ['admit'],\n",
       " ['admit'],\n",
       " ['admit'],\n",
       " ['admit'],\n",
       " ['adopt'],\n",
       " ['adopt'],\n",
       " ['adopt'],\n",
       " ['adopt'],\n",
       " ['adopt'],\n",
       " ['adopt'],\n",
       " ['adopt'],\n",
       " ['adopt'],\n",
       " ['adult'],\n",
       " ['adult'],\n",
       " ['adult'],\n",
       " ['adult'],\n",
       " ['adult'],\n",
       " ['adult'],\n",
       " ['adult'],\n",
       " ['adult'],\n",
       " ['adult'],\n",
       " ['adult'],\n",
       " ['adult'],\n",
       " ['adult'],\n",
       " ['advanced'],\n",
       " ['advanced'],\n",
       " ['advanced'],\n",
       " ['advanced'],\n",
       " ['advanced'],\n",
       " ['advanced'],\n",
       " ['advantage'],\n",
       " ['advantage'],\n",
       " ['advantage'],\n",
       " ['advantage'],\n",
       " ['advantage'],\n",
       " ['advantage'],\n",
       " ['adverb'],\n",
       " ['adverb'],\n",
       " ['adverb'],\n",
       " ['adverb'],\n",
       " ['adverb'],\n",
       " ['adverb'],\n",
       " ['affect'],\n",
       " ['affect'],\n",
       " ['affect'],\n",
       " ['affect'],\n",
       " ['affect'],\n",
       " ['affect'],\n",
       " ['affect'],\n",
       " ['afraid'],\n",
       " ['afraid'],\n",
       " ['afraid'],\n",
       " ['afraid'],\n",
       " ['afraid'],\n",
       " ['afraid'],\n",
       " ['afraid'],\n",
       " ['africa'],\n",
       " ['africa'],\n",
       " ['africa'],\n",
       " ['africa'],\n",
       " ['africa'],\n",
       " ['africa'],\n",
       " ['africa'],\n",
       " ['africa'],\n",
       " ['africa'],\n",
       " ['africa'],\n",
       " ['africa'],\n",
       " ['africa'],\n",
       " ['africa'],\n",
       " ['africa'],\n",
       " ['africa'],\n",
       " ['africa'],\n",
       " ['after'],\n",
       " ['after'],\n",
       " ['after'],\n",
       " ['after'],\n",
       " ['after'],\n",
       " ['after'],\n",
       " ['after'],\n",
       " ['after'],\n",
       " ['after'],\n",
       " ['afternoon'],\n",
       " ['afternoon'],\n",
       " ['afternoon'],\n",
       " ['afternoon'],\n",
       " ['afternoon'],\n",
       " ['afternoon'],\n",
       " ['afternoon'],\n",
       " ['afternoon'],\n",
       " ['afternoon'],\n",
       " ['afternoon'],\n",
       " ['afternoon'],\n",
       " ['again'],\n",
       " ['again'],\n",
       " ['again'],\n",
       " ['again'],\n",
       " ['again'],\n",
       " ['again'],\n",
       " ['again'],\n",
       " ['again'],\n",
       " ['again'],\n",
       " ['again'],\n",
       " ['again'],\n",
       " ['again'],\n",
       " ['again'],\n",
       " ['against'],\n",
       " ['against'],\n",
       " ['against'],\n",
       " ['against'],\n",
       " ['against'],\n",
       " ['against'],\n",
       " ['against'],\n",
       " ['age'],\n",
       " ['age'],\n",
       " ['age'],\n",
       " ['age'],\n",
       " ['age'],\n",
       " ['age'],\n",
       " ['age'],\n",
       " ['age'],\n",
       " ['age'],\n",
       " ['age'],\n",
       " ['age'],\n",
       " ['agenda'],\n",
       " ['agenda'],\n",
       " ['agenda'],\n",
       " ['agenda'],\n",
       " ['agenda'],\n",
       " ['agenda'],\n",
       " ['agenda'],\n",
       " ['ago'],\n",
       " ['ago'],\n",
       " ['ago'],\n",
       " ['ago'],\n",
       " ['ago'],\n",
       " ['ago'],\n",
       " ['ago'],\n",
       " ['ago'],\n",
       " ['ago'],\n",
       " ['ago'],\n",
       " ['ago'],\n",
       " ['agree'],\n",
       " ['agree'],\n",
       " ['agree'],\n",
       " ['agree'],\n",
       " ['agree'],\n",
       " ['agree'],\n",
       " ['agree'],\n",
       " ['agree'],\n",
       " ['agree'],\n",
       " ['agree'],\n",
       " ['agreement'],\n",
       " ['agreement'],\n",
       " ['agreement'],\n",
       " ['agreement'],\n",
       " ['agreement'],\n",
       " ['ahead'],\n",
       " ['ahead'],\n",
       " ['ahead'],\n",
       " ['ahead'],\n",
       " ['ahead'],\n",
       " ['ahead'],\n",
       " ['ahead'],\n",
       " ['aid'],\n",
       " ['aid'],\n",
       " ['aid'],\n",
       " ['aid'],\n",
       " ['aid'],\n",
       " ['aid'],\n",
       " ['aim'],\n",
       " ['aim'],\n",
       " ['aim'],\n",
       " ['aim'],\n",
       " ['aim'],\n",
       " ['aim'],\n",
       " ['airplane'],\n",
       " ['airplane'],\n",
       " ['airplane'],\n",
       " ['airplane'],\n",
       " ['airplane'],\n",
       " ['airplane'],\n",
       " ['airplane'],\n",
       " ['airplane'],\n",
       " ['airplane'],\n",
       " ['alarm'],\n",
       " ['alarm'],\n",
       " ['alarm'],\n",
       " ['alarm'],\n",
       " ['alarm'],\n",
       " ['alarm'],\n",
       " ['alarm'],\n",
       " ['alarm'],\n",
       " ['alcohol'],\n",
       " ['alcohol'],\n",
       " ['alcohol'],\n",
       " ['alcohol'],\n",
       " ['alcohol'],\n",
       " ['alcohol'],\n",
       " ['alcohol'],\n",
       " ['algebra'],\n",
       " ['algebra'],\n",
       " ['algebra'],\n",
       " ['algebra'],\n",
       " ['algebra'],\n",
       " ['algebra'],\n",
       " ['algebra'],\n",
       " ['all day'],\n",
       " ['all day'],\n",
       " ['all day'],\n",
       " ['all day'],\n",
       " ['all day'],\n",
       " ['all day'],\n",
       " ['all'],\n",
       " ['all'],\n",
       " ['all'],\n",
       " ['all'],\n",
       " ['all'],\n",
       " ['all'],\n",
       " ['all'],\n",
       " ['all'],\n",
       " ['all'],\n",
       " ['all'],\n",
       " ['all'],\n",
       " ['all'],\n",
       " ['all'],\n",
       " ['all'],\n",
       " ['all'],\n",
       " ['allergy'],\n",
       " ['allergy'],\n",
       " ['allergy'],\n",
       " ['allergy'],\n",
       " ['allergy'],\n",
       " ['allergy'],\n",
       " ['allergy'],\n",
       " ['alligator'],\n",
       " ['alligator'],\n",
       " ['alligator'],\n",
       " ['alligator'],\n",
       " ['alligator'],\n",
       " ['alligator'],\n",
       " ['allow'],\n",
       " ['allow'],\n",
       " ['allow'],\n",
       " ['allow'],\n",
       " ['allow'],\n",
       " ['allow'],\n",
       " ['allow'],\n",
       " ['allow'],\n",
       " ['allow'],\n",
       " ['allow'],\n",
       " ['allow'],\n",
       " ['almost'],\n",
       " ['almost'],\n",
       " ['almost'],\n",
       " ['almost'],\n",
       " ['almost'],\n",
       " ['almost'],\n",
       " ['almost'],\n",
       " ['almost'],\n",
       " ['almost'],\n",
       " ['alone'],\n",
       " ['alone'],\n",
       " ['alone'],\n",
       " ['alone'],\n",
       " ['alone'],\n",
       " ['alone'],\n",
       " ['alone'],\n",
       " ['alone'],\n",
       " ['alone'],\n",
       " ['alone'],\n",
       " ['alphabet'],\n",
       " ['alphabet'],\n",
       " ['alphabet'],\n",
       " ['alphabet'],\n",
       " ['alphabet'],\n",
       " ['already'],\n",
       " ['already'],\n",
       " ['already'],\n",
       " ['already'],\n",
       " ['already'],\n",
       " ['already'],\n",
       " ['already'],\n",
       " ['already'],\n",
       " ['already'],\n",
       " ['already'],\n",
       " ['already'],\n",
       " ['also'],\n",
       " ['also'],\n",
       " ['also'],\n",
       " ['also'],\n",
       " ['also'],\n",
       " ['also'],\n",
       " ['also'],\n",
       " ['also'],\n",
       " ['also'],\n",
       " ['also'],\n",
       " ['also'],\n",
       " ['always'],\n",
       " ['always'],\n",
       " ['always'],\n",
       " ['always'],\n",
       " ['always'],\n",
       " ['always'],\n",
       " ['always'],\n",
       " ['always'],\n",
       " ['always'],\n",
       " ['always'],\n",
       " ['always'],\n",
       " ['always'],\n",
       " ['always'],\n",
       " ['amazing'],\n",
       " ['amazing'],\n",
       " ['amazing'],\n",
       " ['amazing'],\n",
       " ['amazing'],\n",
       " ['america'],\n",
       " ['america'],\n",
       " ['america'],\n",
       " ['america'],\n",
       " ['america'],\n",
       " ['america'],\n",
       " ['america'],\n",
       " ['america'],\n",
       " ['america'],\n",
       " ['america'],\n",
       " ['amputate'],\n",
       " ['amputate'],\n",
       " ['amputate'],\n",
       " ['amputate'],\n",
       " ['amputate'],\n",
       " ['analyze'],\n",
       " ['analyze'],\n",
       " ['analyze'],\n",
       " ['analyze'],\n",
       " ['analyze'],\n",
       " ['analyze'],\n",
       " ['analyze'],\n",
       " ['analyze'],\n",
       " ['analyze'],\n",
       " ['analyze'],\n",
       " ['anatomy'],\n",
       " ['anatomy'],\n",
       " ['anatomy'],\n",
       " ['anatomy'],\n",
       " ['anatomy'],\n",
       " ['anatomy'],\n",
       " ['and'],\n",
       " ['and'],\n",
       " ['and'],\n",
       " ['and'],\n",
       " ['and'],\n",
       " ['and'],\n",
       " ['and'],\n",
       " ['and'],\n",
       " ['angel'],\n",
       " ['angel'],\n",
       " ['angel'],\n",
       " ['angel'],\n",
       " ['angel'],\n",
       " ['angel'],\n",
       " ['angel'],\n",
       " ['angel'],\n",
       " ['angel'],\n",
       " ['angel'],\n",
       " ['angle'],\n",
       " ['angle'],\n",
       " ['angle'],\n",
       " ['angle'],\n",
       " ['angle'],\n",
       " ['angle'],\n",
       " ['angle'],\n",
       " ['angle'],\n",
       " ['angry'],\n",
       " ['angry'],\n",
       " ['angry'],\n",
       " ['angry'],\n",
       " ['angry'],\n",
       " ['angry'],\n",
       " ['angry'],\n",
       " ['angry'],\n",
       " ['animal'],\n",
       " ['animal'],\n",
       " ['animal'],\n",
       " ['animal'],\n",
       " ['animal'],\n",
       " ['animal'],\n",
       " ['animal'],\n",
       " ['animal'],\n",
       " ['animal'],\n",
       " ['animal'],\n",
       " ['animal'],\n",
       " ['animal'],\n",
       " ['anniversary'],\n",
       " ['anniversary'],\n",
       " ['anniversary'],\n",
       " ['anniversary'],\n",
       " ['anniversary'],\n",
       " ['anniversary'],\n",
       " ['anniversary'],\n",
       " ['announce'],\n",
       " ['announce'],\n",
       " ['announce'],\n",
       " ['announce'],\n",
       " ['announce'],\n",
       " ['announce'],\n",
       " ['announce'],\n",
       " ['announce'],\n",
       " ['annoy'],\n",
       " ['annoy'],\n",
       " ['annoy'],\n",
       " ['annoy'],\n",
       " ['annoy'],\n",
       " ['annoy'],\n",
       " ['another'],\n",
       " ['another'],\n",
       " ['another'],\n",
       " ['another'],\n",
       " ['another'],\n",
       " ['another'],\n",
       " ['another'],\n",
       " ['another'],\n",
       " ['another'],\n",
       " ['answer'],\n",
       " ['answer'],\n",
       " ['answer'],\n",
       " ['answer'],\n",
       " ['answer'],\n",
       " ['answer'],\n",
       " ['answer'],\n",
       " ['answer'],\n",
       " ['answer'],\n",
       " ['answer'],\n",
       " ['answer'],\n",
       " ['answer'],\n",
       " ['any'],\n",
       " ['any'],\n",
       " ['any'],\n",
       " ['any'],\n",
       " ['any'],\n",
       " ['any'],\n",
       " ['any'],\n",
       " ['any'],\n",
       " ['any'],\n",
       " ['any'],\n",
       " ['anyway'],\n",
       " ['anyway'],\n",
       " ['anyway'],\n",
       " ['anyway'],\n",
       " ['anyway'],\n",
       " ['anyway'],\n",
       " ['apart'],\n",
       " ['apart'],\n",
       " ['apart'],\n",
       " ['apart'],\n",
       " ['apart'],\n",
       " ['apart'],\n",
       " ['apartment'],\n",
       " ['apartment'],\n",
       " ['apartment'],\n",
       " ['apartment'],\n",
       " ['apartment'],\n",
       " ['apartment'],\n",
       " ['apartment'],\n",
       " ['apartment'],\n",
       " ['apartment'],\n",
       " ['apostrophe'],\n",
       " ['apostrophe'],\n",
       " ['apostrophe'],\n",
       " ['apostrophe'],\n",
       " ['apostrophe'],\n",
       " ['apostrophe'],\n",
       " ['apostrophe'],\n",
       " ['appear'],\n",
       " ['appear'],\n",
       " ['appear'],\n",
       " ['appear'],\n",
       " ['appear'],\n",
       " ['appear'],\n",
       " ['appear'],\n",
       " ['appear'],\n",
       " ['appear'],\n",
       " ['appetite'],\n",
       " ['appetite'],\n",
       " ['appetite'],\n",
       " ['appetite'],\n",
       " ['appetite'],\n",
       " ['appetite'],\n",
       " ['appetite'],\n",
       " ['apple'],\n",
       " ['apple'],\n",
       " ['apple'],\n",
       " ['apple'],\n",
       " ['apple'],\n",
       " ['apple'],\n",
       " ['apple'],\n",
       " ['apple'],\n",
       " ['apple'],\n",
       " ['apple'],\n",
       " ['apple'],\n",
       " ['apple'],\n",
       " ['apple'],\n",
       " ['apple'],\n",
       " ['apple'],\n",
       " ['apple'],\n",
       " ['appointment'],\n",
       " ['appointment'],\n",
       " ['appointment'],\n",
       " ['appointment'],\n",
       " ['appointment'],\n",
       " ['appointment'],\n",
       " ['appointment'],\n",
       " ['appointment'],\n",
       " ['appointment'],\n",
       " ['appointment'],\n",
       " ['appointment'],\n",
       " ['appreciate'],\n",
       " ['appreciate'],\n",
       " ['appreciate'],\n",
       " ['appreciate'],\n",
       " ['appreciate'],\n",
       " ['appreciate'],\n",
       " ['approach'],\n",
       " ['approach'],\n",
       " ['approach'],\n",
       " ['approach'],\n",
       " ['approach'],\n",
       " ['approach'],\n",
       " ['appropriate'],\n",
       " ['appropriate'],\n",
       " ['appropriate'],\n",
       " ['appropriate'],\n",
       " ['appropriate'],\n",
       " ['appropriate'],\n",
       " ['appropriate'],\n",
       " ['appropriate'],\n",
       " ['approve'],\n",
       " ['approve'],\n",
       " ['approve'],\n",
       " ['approve'],\n",
       " ['approve'],\n",
       " ['approve'],\n",
       " ['approve'],\n",
       " ['approve'],\n",
       " ['approve'],\n",
       " ['approve'],\n",
       " ['approve'],\n",
       " ['approve'],\n",
       " ['approve'],\n",
       " ['approve'],\n",
       " ['april'],\n",
       " ['april'],\n",
       " ['april'],\n",
       " ['april'],\n",
       " ['april'],\n",
       " ['april'],\n",
       " ['april'],\n",
       " ['archery'],\n",
       " ['archery'],\n",
       " ['archery'],\n",
       " ['archery'],\n",
       " ['archery'],\n",
       " ['archery'],\n",
       " ['archery'],\n",
       " ['area'],\n",
       " ['area'],\n",
       " ['area'],\n",
       " ['area'],\n",
       " ['area'],\n",
       " ['area'],\n",
       " ['area'],\n",
       " ['area'],\n",
       " ['area'],\n",
       " ['area'],\n",
       " ['argue'],\n",
       " ['argue'],\n",
       " ['argue'],\n",
       " ['argue'],\n",
       " ['argue'],\n",
       " ['argue'],\n",
       " ['argue'],\n",
       " ['argue'],\n",
       " ['argue'],\n",
       " ['argue'],\n",
       " ['argue'],\n",
       " ['argue'],\n",
       " ['argue'],\n",
       " ['arizona'],\n",
       " ['arizona'],\n",
       " ['arizona'],\n",
       " ['arizona'],\n",
       " ['arizona'],\n",
       " ['arizona'],\n",
       " ['arm'],\n",
       " ['arm'],\n",
       " ['arm'],\n",
       " ['arm'],\n",
       " ['arm'],\n",
       " ['arm'],\n",
       " ['arm'],\n",
       " ['arm'],\n",
       " ['arm'],\n",
       " ['army'],\n",
       " ['army'],\n",
       " ['army'],\n",
       " ['army'],\n",
       " ['army'],\n",
       " ['army'],\n",
       " ['army'],\n",
       " ['army'],\n",
       " ['army'],\n",
       " ['around'],\n",
       " ['around'],\n",
       " ['around'],\n",
       " ['around'],\n",
       " ['around'],\n",
       " ['around'],\n",
       " ['around'],\n",
       " ['arrest'],\n",
       " ['arrest'],\n",
       " ['arrest'],\n",
       " ['arrest'],\n",
       " ['arrest'],\n",
       " ['arrest'],\n",
       " ['arrest'],\n",
       " ['arrest'],\n",
       " ['arrest'],\n",
       " ['arrive'],\n",
       " ['arrive'],\n",
       " ['arrive'],\n",
       " ['arrive'],\n",
       " ['arrive'],\n",
       " ['arrive'],\n",
       " ['arrive'],\n",
       " ['arrive'],\n",
       " ['arrive'],\n",
       " ['arrive'],\n",
       " ['arrive'],\n",
       " ['arrive'],\n",
       " ['arrive'],\n",
       " ['arrogant'],\n",
       " ['arrogant'],\n",
       " ['arrogant'],\n",
       " ['arrogant'],\n",
       " ['arrogant'],\n",
       " ['arrogant'],\n",
       " ['arrogant'],\n",
       " ['arrogant'],\n",
       " ['art'],\n",
       " ['art'],\n",
       " ['art'],\n",
       " ['art'],\n",
       " ['art'],\n",
       " ['art'],\n",
       " ['art'],\n",
       " ['art'],\n",
       " ['art'],\n",
       " ['article'],\n",
       " ['article'],\n",
       " ['article'],\n",
       " ['article'],\n",
       " ['article'],\n",
       " ['article'],\n",
       " ['artist'],\n",
       " ['artist'],\n",
       " ['artist'],\n",
       " ['artist'],\n",
       " ['artist'],\n",
       " ['artist'],\n",
       " ['artist'],\n",
       " ['artist'],\n",
       " ['asia'],\n",
       " ['asia'],\n",
       " ['asia'],\n",
       " ['asia'],\n",
       " ['asia'],\n",
       " ['asia'],\n",
       " ['asia'],\n",
       " ['asia'],\n",
       " ['asia'],\n",
       " ['ask'],\n",
       " ['ask'],\n",
       " ['ask'],\n",
       " ['ask'],\n",
       " ['ask'],\n",
       " ['ask'],\n",
       " ['ask'],\n",
       " ['ask'],\n",
       " ['asl'],\n",
       " ['asl'],\n",
       " ['asl'],\n",
       " ['asl'],\n",
       " ['asl'],\n",
       " ['asl'],\n",
       " ['asl'],\n",
       " ['asl'],\n",
       " ['asl'],\n",
       " ['assist'],\n",
       " ['assist'],\n",
       " ['assist'],\n",
       " ['assist'],\n",
       " ['assist'],\n",
       " ['assist'],\n",
       " ['assistant'],\n",
       " ['assistant'],\n",
       " ['assistant'],\n",
       " ['assistant'],\n",
       " ['assistant'],\n",
       " ['assistant'],\n",
       " ['assistant'],\n",
       " ['assume'],\n",
       " ['assume'],\n",
       " ['assume'],\n",
       " ['assume'],\n",
       " ['assume'],\n",
       " ['assume'],\n",
       " ['attend'],\n",
       " ['attend'],\n",
       " ['attend'],\n",
       " ['attend'],\n",
       " ['attend'],\n",
       " ['attend'],\n",
       " ['attend'],\n",
       " ['attention'],\n",
       " ['attention'],\n",
       " ['attention'],\n",
       " ['attention'],\n",
       " ['attention'],\n",
       " ['attention'],\n",
       " ['attention'],\n",
       " ['attention'],\n",
       " ['attitude'],\n",
       " ['attitude'],\n",
       " ['attitude'],\n",
       " ['attitude'],\n",
       " ['attitude'],\n",
       " ['attitude'],\n",
       " ['attitude'],\n",
       " ['attitude'],\n",
       " ['attitude'],\n",
       " ['attitude'],\n",
       " ['attorney'],\n",
       " ['attorney'],\n",
       " ['attorney'],\n",
       " ['attorney'],\n",
       " ['attorney'],\n",
       " ['attorney'],\n",
       " ['attract'],\n",
       " ['attract'],\n",
       " ['attract'],\n",
       " ['attract'],\n",
       " ['attract'],\n",
       " ['attract'],\n",
       " ['attract'],\n",
       " ['attract'],\n",
       " ['auction'],\n",
       " ['auction'],\n",
       " ['auction'],\n",
       " ['auction'],\n",
       " ['auction'],\n",
       " ['auction'],\n",
       " ['auction'],\n",
       " ['auction'],\n",
       " ['audience'],\n",
       " ['audience'],\n",
       " ['audience'],\n",
       " ['audience'],\n",
       " ['audience'],\n",
       " ['audience'],\n",
       " ['audience'],\n",
       " ['audience'],\n",
       " ['audience'],\n",
       " ['audiologist'],\n",
       " ['audiologist'],\n",
       " ['audiologist'],\n",
       " ['audiologist'],\n",
       " ['audiologist'],\n",
       " ['audiology'],\n",
       " ['audiology'],\n",
       " ['audiology'],\n",
       " ['audiology'],\n",
       " ['audiology'],\n",
       " ['audiology'],\n",
       " ['august'],\n",
       " ['august'],\n",
       " ['august'],\n",
       " ['august'],\n",
       " ['august'],\n",
       " ['august'],\n",
       " ['august'],\n",
       " ['august'],\n",
       " ['august'],\n",
       " ['august'],\n",
       " ['aunt'],\n",
       " ['aunt'],\n",
       " ['aunt'],\n",
       " ['aunt'],\n",
       " ['aunt'],\n",
       " ['aunt'],\n",
       " ['aunt'],\n",
       " ['aunt'],\n",
       " ['aunt'],\n",
       " ['aunt'],\n",
       " ['aunt'],\n",
       " ['australia'],\n",
       " ['australia'],\n",
       " ['australia'],\n",
       " ['australia'],\n",
       " ['australia'],\n",
       " ['australia'],\n",
       " ['australia'],\n",
       " ['australia'],\n",
       " ['australia'],\n",
       " ['australia'],\n",
       " ['australia'],\n",
       " ['australia'],\n",
       " ['austria'],\n",
       " ['austria'],\n",
       " ['austria'],\n",
       " ['austria'],\n",
       " ['austria'],\n",
       " ['author'],\n",
       " ...]"
      ]
     },
     "execution_count": 30,
     "metadata": {},
     "output_type": "execute_result"
    }
   ],
   "source": [
    "target2"
   ]
  },
  {
   "cell_type": "code",
   "execution_count": 31,
   "id": "a0fdc077",
   "metadata": {
    "ExecuteTime": {
     "end_time": "2023-07-30T21:28:49.162807Z",
     "start_time": "2023-07-30T21:28:49.155098Z"
    }
   },
   "outputs": [],
   "source": [
    "video_df = video_df.join(pd.DataFrame(target2, columns=['originaltarget']))"
   ]
  },
  {
   "cell_type": "code",
   "execution_count": 32,
   "id": "b1351a95",
   "metadata": {
    "ExecuteTime": {
     "end_time": "2023-07-30T21:28:50.502734Z",
     "start_time": "2023-07-30T21:28:50.488932Z"
    },
    "scrolled": true
   },
   "outputs": [
    {
     "data": {
      "text/html": [
       "<div>\n",
       "<style scoped>\n",
       "    .dataframe tbody tr th:only-of-type {\n",
       "        vertical-align: middle;\n",
       "    }\n",
       "\n",
       "    .dataframe tbody tr th {\n",
       "        vertical-align: top;\n",
       "    }\n",
       "\n",
       "    .dataframe thead th {\n",
       "        text-align: right;\n",
       "    }\n",
       "</style>\n",
       "<table border=\"1\" class=\"dataframe\">\n",
       "  <thead>\n",
       "    <tr style=\"text-align: right;\">\n",
       "      <th></th>\n",
       "      <th>path</th>\n",
       "      <th>target</th>\n",
       "      <th>file</th>\n",
       "      <th>originaltarget</th>\n",
       "    </tr>\n",
       "  </thead>\n",
       "  <tbody>\n",
       "    <tr>\n",
       "      <th>7976</th>\n",
       "      <td>file:/home/kristian/WLASL/videos_organized/inf...</td>\n",
       "      <td>infection</td>\n",
       "      <td>29566.mp4</td>\n",
       "      <td>infection</td>\n",
       "    </tr>\n",
       "    <tr>\n",
       "      <th>3495</th>\n",
       "      <td>file:/home/kristian/WLASL/videos_organized/con...</td>\n",
       "      <td>concern</td>\n",
       "      <td>12420.mp4</td>\n",
       "      <td>concern</td>\n",
       "    </tr>\n",
       "    <tr>\n",
       "      <th>15713</th>\n",
       "      <td>file:/home/kristian/WLASL/videos_organized/toi...</td>\n",
       "      <td>toilet</td>\n",
       "      <td>58741.mp4</td>\n",
       "      <td>toilet</td>\n",
       "    </tr>\n",
       "    <tr>\n",
       "      <th>13862</th>\n",
       "      <td>file:/home/kristian/WLASL/videos_organized/sna...</td>\n",
       "      <td>snack</td>\n",
       "      <td>52686.mp4</td>\n",
       "      <td>snack</td>\n",
       "    </tr>\n",
       "    <tr>\n",
       "      <th>12272</th>\n",
       "      <td>file:/home/kristian/WLASL/videos_organized/ref...</td>\n",
       "      <td>referee</td>\n",
       "      <td>46775.mp4</td>\n",
       "      <td>referee</td>\n",
       "    </tr>\n",
       "    <tr>\n",
       "      <th>8170</th>\n",
       "      <td>file:/home/kristian/WLASL/videos_organized/inv...</td>\n",
       "      <td>investigate</td>\n",
       "      <td>30476.mp4</td>\n",
       "      <td>investigate</td>\n",
       "    </tr>\n",
       "    <tr>\n",
       "      <th>12645</th>\n",
       "      <td>file:/home/kristian/WLASL/videos_organized/roa...</td>\n",
       "      <td>road</td>\n",
       "      <td>48274.mp4</td>\n",
       "      <td>road</td>\n",
       "    </tr>\n",
       "    <tr>\n",
       "      <th>16609</th>\n",
       "      <td>file:/home/kristian/WLASL/videos_organized/wea...</td>\n",
       "      <td>wear</td>\n",
       "      <td>62619.mp4</td>\n",
       "      <td>wear</td>\n",
       "    </tr>\n",
       "    <tr>\n",
       "      <th>8640</th>\n",
       "      <td>file:/home/kristian/WLASL/videos_organized/lat...</td>\n",
       "      <td>later</td>\n",
       "      <td>32337.mp4</td>\n",
       "      <td>later</td>\n",
       "    </tr>\n",
       "    <tr>\n",
       "      <th>11470</th>\n",
       "      <td>file:/home/kristian/WLASL/videos_organized/pra...</td>\n",
       "      <td>practice</td>\n",
       "      <td>44080.mp4</td>\n",
       "      <td>practice</td>\n",
       "    </tr>\n",
       "    <tr>\n",
       "      <th>5425</th>\n",
       "      <td>file:/home/kristian/WLASL/videos_organized/eng...</td>\n",
       "      <td>engagement</td>\n",
       "      <td>19195.mp4</td>\n",
       "      <td>engagement</td>\n",
       "    </tr>\n",
       "    <tr>\n",
       "      <th>386</th>\n",
       "      <td>file:/home/kristian/WLASL/videos_organized/all...</td>\n",
       "      <td>all day</td>\n",
       "      <td>01922.mp4</td>\n",
       "      <td>all day</td>\n",
       "    </tr>\n",
       "    <tr>\n",
       "      <th>16795</th>\n",
       "      <td>file:/home/kristian/WLASL/videos_organized/whi...</td>\n",
       "      <td>while</td>\n",
       "      <td>66776.mp4</td>\n",
       "      <td>while</td>\n",
       "    </tr>\n",
       "    <tr>\n",
       "      <th>4071</th>\n",
       "      <td>file:/home/kristian/WLASL/videos_organized/dan...</td>\n",
       "      <td>dance</td>\n",
       "      <td>14627.mp4</td>\n",
       "      <td>dance</td>\n",
       "    </tr>\n",
       "    <tr>\n",
       "      <th>451</th>\n",
       "      <td>file:/home/kristian/WLASL/videos_organized/alp...</td>\n",
       "      <td>alphabet</td>\n",
       "      <td>02149.mp4</td>\n",
       "      <td>alphabet</td>\n",
       "    </tr>\n",
       "    <tr>\n",
       "      <th>16797</th>\n",
       "      <td>file:/home/kristian/WLASL/videos_organized/whi...</td>\n",
       "      <td>whistle</td>\n",
       "      <td>63186.mp4</td>\n",
       "      <td>whistle</td>\n",
       "    </tr>\n",
       "    <tr>\n",
       "      <th>8446</th>\n",
       "      <td>file:/home/kristian/WLASL/videos_organized/kin...</td>\n",
       "      <td>kindergarten</td>\n",
       "      <td>31693.mp4</td>\n",
       "      <td>kindergarten</td>\n",
       "    </tr>\n",
       "    <tr>\n",
       "      <th>4792</th>\n",
       "      <td>file:/home/kristian/WLASL/videos_organized/doc...</td>\n",
       "      <td>document</td>\n",
       "      <td>17039.mp4</td>\n",
       "      <td>document</td>\n",
       "    </tr>\n",
       "    <tr>\n",
       "      <th>11782</th>\n",
       "      <td>file:/home/kristian/WLASL/videos_organized/pro...</td>\n",
       "      <td>promise</td>\n",
       "      <td>44897.mp4</td>\n",
       "      <td>promise</td>\n",
       "    </tr>\n",
       "    <tr>\n",
       "      <th>2433</th>\n",
       "      <td>file:/home/kristian/WLASL/videos_organized/cam...</td>\n",
       "      <td>camping</td>\n",
       "      <td>08829.mp4</td>\n",
       "      <td>camping</td>\n",
       "    </tr>\n",
       "    <tr>\n",
       "      <th>2506</th>\n",
       "      <td>file:/home/kristian/WLASL/videos_organized/can...</td>\n",
       "      <td>cannot</td>\n",
       "      <td>08974.mp4</td>\n",
       "      <td>cannot</td>\n",
       "    </tr>\n",
       "    <tr>\n",
       "      <th>6946</th>\n",
       "      <td>file:/home/kristian/WLASL/videos_organized/gor...</td>\n",
       "      <td>gorilla</td>\n",
       "      <td>25174.mp4</td>\n",
       "      <td>gorilla</td>\n",
       "    </tr>\n",
       "    <tr>\n",
       "      <th>16510</th>\n",
       "      <td>file:/home/kristian/WLASL/videos_organized/war...</td>\n",
       "      <td>warn</td>\n",
       "      <td>62306.mp4</td>\n",
       "      <td>warn</td>\n",
       "    </tr>\n",
       "    <tr>\n",
       "      <th>15157</th>\n",
       "      <td>file:/home/kristian/WLASL/videos_organized/tel...</td>\n",
       "      <td>telescope</td>\n",
       "      <td>57252.mp4</td>\n",
       "      <td>telescope</td>\n",
       "    </tr>\n",
       "    <tr>\n",
       "      <th>9745</th>\n",
       "      <td>file:/home/kristian/WLASL/videos_organized/mot...</td>\n",
       "      <td>motor</td>\n",
       "      <td>37008.mp4</td>\n",
       "      <td>motor</td>\n",
       "    </tr>\n",
       "    <tr>\n",
       "      <th>2886</th>\n",
       "      <td>file:/home/kristian/WLASL/videos_organized/che...</td>\n",
       "      <td>cheese</td>\n",
       "      <td>10273.mp4</td>\n",
       "      <td>cheese</td>\n",
       "    </tr>\n",
       "    <tr>\n",
       "      <th>682</th>\n",
       "      <td>file:/home/kristian/WLASL/videos_organized/app...</td>\n",
       "      <td>apple</td>\n",
       "      <td>70309.mp4</td>\n",
       "      <td>apple</td>\n",
       "    </tr>\n",
       "    <tr>\n",
       "      <th>10997</th>\n",
       "      <td>file:/home/kristian/WLASL/videos_organized/per...</td>\n",
       "      <td>person</td>\n",
       "      <td>42239.mp4</td>\n",
       "      <td>person</td>\n",
       "    </tr>\n",
       "    <tr>\n",
       "      <th>13566</th>\n",
       "      <td>file:/home/kristian/WLASL/videos_organized/sim...</td>\n",
       "      <td>similar</td>\n",
       "      <td>51729.mp4</td>\n",
       "      <td>similar</td>\n",
       "    </tr>\n",
       "    <tr>\n",
       "      <th>16689</th>\n",
       "      <td>file:/home/kristian/WLASL/videos_organized/wei...</td>\n",
       "      <td>weird</td>\n",
       "      <td>62817.mp4</td>\n",
       "      <td>weird</td>\n",
       "    </tr>\n",
       "    <tr>\n",
       "      <th>10000</th>\n",
       "      <td>file:/home/kristian/WLASL/videos_organized/neg...</td>\n",
       "      <td>negative</td>\n",
       "      <td>37916.mp4</td>\n",
       "      <td>negative</td>\n",
       "    </tr>\n",
       "    <tr>\n",
       "      <th>15401</th>\n",
       "      <td>file:/home/kristian/WLASL/videos_organized/the...</td>\n",
       "      <td>therapy</td>\n",
       "      <td>57807.mp4</td>\n",
       "      <td>therapy</td>\n",
       "    </tr>\n",
       "    <tr>\n",
       "      <th>9815</th>\n",
       "      <td>file:/home/kristian/WLASL/videos_organized/mul...</td>\n",
       "      <td>multiply</td>\n",
       "      <td>37267.mp4</td>\n",
       "      <td>multiply</td>\n",
       "    </tr>\n",
       "    <tr>\n",
       "      <th>2981</th>\n",
       "      <td>file:/home/kristian/WLASL/videos_organized/cho...</td>\n",
       "      <td>choir</td>\n",
       "      <td>10601.mp4</td>\n",
       "      <td>choir</td>\n",
       "    </tr>\n",
       "    <tr>\n",
       "      <th>6447</th>\n",
       "      <td>file:/home/kristian/WLASL/videos_organized/fox...</td>\n",
       "      <td>fox</td>\n",
       "      <td>65775.mp4</td>\n",
       "      <td>fox</td>\n",
       "    </tr>\n",
       "    <tr>\n",
       "      <th>15631</th>\n",
       "      <td>file:/home/kristian/WLASL/videos_organized/tir...</td>\n",
       "      <td>tired</td>\n",
       "      <td>58596.mp4</td>\n",
       "      <td>tired</td>\n",
       "    </tr>\n",
       "    <tr>\n",
       "      <th>3033</th>\n",
       "      <td>file:/home/kristian/WLASL/videos_organized/chr...</td>\n",
       "      <td>christmas</td>\n",
       "      <td>10713.mp4</td>\n",
       "      <td>christmas</td>\n",
       "    </tr>\n",
       "    <tr>\n",
       "      <th>14772</th>\n",
       "      <td>file:/home/kristian/WLASL/videos_organized/sun...</td>\n",
       "      <td>sunshine</td>\n",
       "      <td>55867.mp4</td>\n",
       "      <td>sunshine</td>\n",
       "    </tr>\n",
       "    <tr>\n",
       "      <th>15912</th>\n",
       "      <td>file:/home/kristian/WLASL/videos_organized/tra...</td>\n",
       "      <td>transfer</td>\n",
       "      <td>59368.mp4</td>\n",
       "      <td>transfer</td>\n",
       "    </tr>\n",
       "    <tr>\n",
       "      <th>3145</th>\n",
       "      <td>file:/home/kristian/WLASL/videos_organized/clo...</td>\n",
       "      <td>close</td>\n",
       "      <td>11253.mp4</td>\n",
       "      <td>close</td>\n",
       "    </tr>\n",
       "    <tr>\n",
       "      <th>245</th>\n",
       "      <td>file:/home/kristian/WLASL/videos_organized/afr...</td>\n",
       "      <td>africa</td>\n",
       "      <td>01394.mp4</td>\n",
       "      <td>africa</td>\n",
       "    </tr>\n",
       "    <tr>\n",
       "      <th>4398</th>\n",
       "      <td>file:/home/kristian/WLASL/videos_organized/des...</td>\n",
       "      <td>descend</td>\n",
       "      <td>15691.mp4</td>\n",
       "      <td>descend</td>\n",
       "    </tr>\n",
       "    <tr>\n",
       "      <th>13309</th>\n",
       "      <td>file:/home/kristian/WLASL/videos_organized/sha...</td>\n",
       "      <td>share</td>\n",
       "      <td>50855.mp4</td>\n",
       "      <td>share</td>\n",
       "    </tr>\n",
       "    <tr>\n",
       "      <th>10899</th>\n",
       "      <td>file:/home/kristian/WLASL/videos_organized/pee...</td>\n",
       "      <td>peel</td>\n",
       "      <td>41777.mp4</td>\n",
       "      <td>peel</td>\n",
       "    </tr>\n",
       "    <tr>\n",
       "      <th>12052</th>\n",
       "      <td>file:/home/kristian/WLASL/videos_organized/quo...</td>\n",
       "      <td>quote</td>\n",
       "      <td>45820.mp4</td>\n",
       "      <td>quote</td>\n",
       "    </tr>\n",
       "    <tr>\n",
       "      <th>9166</th>\n",
       "      <td>file:/home/kristian/WLASL/videos_organized/mag...</td>\n",
       "      <td>magazine</td>\n",
       "      <td>34395.mp4</td>\n",
       "      <td>magazine</td>\n",
       "    </tr>\n",
       "    <tr>\n",
       "      <th>16777</th>\n",
       "      <td>file:/home/kristian/WLASL/videos_organized/whe...</td>\n",
       "      <td>where</td>\n",
       "      <td>63091.mp4</td>\n",
       "      <td>where</td>\n",
       "    </tr>\n",
       "    <tr>\n",
       "      <th>7609</th>\n",
       "      <td>file:/home/kristian/WLASL/videos_organized/hom...</td>\n",
       "      <td>home</td>\n",
       "      <td>70085.mp4</td>\n",
       "      <td>home</td>\n",
       "    </tr>\n",
       "    <tr>\n",
       "      <th>11762</th>\n",
       "      <td>file:/home/kristian/WLASL/videos_organized/pro...</td>\n",
       "      <td>program</td>\n",
       "      <td>44833.mp4</td>\n",
       "      <td>program</td>\n",
       "    </tr>\n",
       "    <tr>\n",
       "      <th>2563</th>\n",
       "      <td>file:/home/kristian/WLASL/videos_organized/car...</td>\n",
       "      <td>careful</td>\n",
       "      <td>09178.mp4</td>\n",
       "      <td>careful</td>\n",
       "    </tr>\n",
       "  </tbody>\n",
       "</table>\n",
       "</div>"
      ],
      "text/plain": [
       "                                                    path        target  \\\n",
       "7976   file:/home/kristian/WLASL/videos_organized/inf...     infection   \n",
       "3495   file:/home/kristian/WLASL/videos_organized/con...       concern   \n",
       "15713  file:/home/kristian/WLASL/videos_organized/toi...        toilet   \n",
       "13862  file:/home/kristian/WLASL/videos_organized/sna...         snack   \n",
       "12272  file:/home/kristian/WLASL/videos_organized/ref...       referee   \n",
       "8170   file:/home/kristian/WLASL/videos_organized/inv...   investigate   \n",
       "12645  file:/home/kristian/WLASL/videos_organized/roa...          road   \n",
       "16609  file:/home/kristian/WLASL/videos_organized/wea...          wear   \n",
       "8640   file:/home/kristian/WLASL/videos_organized/lat...         later   \n",
       "11470  file:/home/kristian/WLASL/videos_organized/pra...      practice   \n",
       "5425   file:/home/kristian/WLASL/videos_organized/eng...    engagement   \n",
       "386    file:/home/kristian/WLASL/videos_organized/all...       all day   \n",
       "16795  file:/home/kristian/WLASL/videos_organized/whi...         while   \n",
       "4071   file:/home/kristian/WLASL/videos_organized/dan...         dance   \n",
       "451    file:/home/kristian/WLASL/videos_organized/alp...      alphabet   \n",
       "16797  file:/home/kristian/WLASL/videos_organized/whi...       whistle   \n",
       "8446   file:/home/kristian/WLASL/videos_organized/kin...  kindergarten   \n",
       "4792   file:/home/kristian/WLASL/videos_organized/doc...      document   \n",
       "11782  file:/home/kristian/WLASL/videos_organized/pro...       promise   \n",
       "2433   file:/home/kristian/WLASL/videos_organized/cam...       camping   \n",
       "2506   file:/home/kristian/WLASL/videos_organized/can...        cannot   \n",
       "6946   file:/home/kristian/WLASL/videos_organized/gor...       gorilla   \n",
       "16510  file:/home/kristian/WLASL/videos_organized/war...          warn   \n",
       "15157  file:/home/kristian/WLASL/videos_organized/tel...     telescope   \n",
       "9745   file:/home/kristian/WLASL/videos_organized/mot...         motor   \n",
       "2886   file:/home/kristian/WLASL/videos_organized/che...        cheese   \n",
       "682    file:/home/kristian/WLASL/videos_organized/app...         apple   \n",
       "10997  file:/home/kristian/WLASL/videos_organized/per...        person   \n",
       "13566  file:/home/kristian/WLASL/videos_organized/sim...       similar   \n",
       "16689  file:/home/kristian/WLASL/videos_organized/wei...         weird   \n",
       "10000  file:/home/kristian/WLASL/videos_organized/neg...      negative   \n",
       "15401  file:/home/kristian/WLASL/videos_organized/the...       therapy   \n",
       "9815   file:/home/kristian/WLASL/videos_organized/mul...      multiply   \n",
       "2981   file:/home/kristian/WLASL/videos_organized/cho...         choir   \n",
       "6447   file:/home/kristian/WLASL/videos_organized/fox...           fox   \n",
       "15631  file:/home/kristian/WLASL/videos_organized/tir...         tired   \n",
       "3033   file:/home/kristian/WLASL/videos_organized/chr...     christmas   \n",
       "14772  file:/home/kristian/WLASL/videos_organized/sun...      sunshine   \n",
       "15912  file:/home/kristian/WLASL/videos_organized/tra...      transfer   \n",
       "3145   file:/home/kristian/WLASL/videos_organized/clo...         close   \n",
       "245    file:/home/kristian/WLASL/videos_organized/afr...        africa   \n",
       "4398   file:/home/kristian/WLASL/videos_organized/des...       descend   \n",
       "13309  file:/home/kristian/WLASL/videos_organized/sha...         share   \n",
       "10899  file:/home/kristian/WLASL/videos_organized/pee...          peel   \n",
       "12052  file:/home/kristian/WLASL/videos_organized/quo...         quote   \n",
       "9166   file:/home/kristian/WLASL/videos_organized/mag...      magazine   \n",
       "16777  file:/home/kristian/WLASL/videos_organized/whe...         where   \n",
       "7609   file:/home/kristian/WLASL/videos_organized/hom...          home   \n",
       "11762  file:/home/kristian/WLASL/videos_organized/pro...       program   \n",
       "2563   file:/home/kristian/WLASL/videos_organized/car...       careful   \n",
       "\n",
       "            file originaltarget  \n",
       "7976   29566.mp4      infection  \n",
       "3495   12420.mp4        concern  \n",
       "15713  58741.mp4         toilet  \n",
       "13862  52686.mp4          snack  \n",
       "12272  46775.mp4        referee  \n",
       "8170   30476.mp4    investigate  \n",
       "12645  48274.mp4           road  \n",
       "16609  62619.mp4           wear  \n",
       "8640   32337.mp4          later  \n",
       "11470  44080.mp4       practice  \n",
       "5425   19195.mp4     engagement  \n",
       "386    01922.mp4        all day  \n",
       "16795  66776.mp4          while  \n",
       "4071   14627.mp4          dance  \n",
       "451    02149.mp4       alphabet  \n",
       "16797  63186.mp4        whistle  \n",
       "8446   31693.mp4   kindergarten  \n",
       "4792   17039.mp4       document  \n",
       "11782  44897.mp4        promise  \n",
       "2433   08829.mp4        camping  \n",
       "2506   08974.mp4         cannot  \n",
       "6946   25174.mp4        gorilla  \n",
       "16510  62306.mp4           warn  \n",
       "15157  57252.mp4      telescope  \n",
       "9745   37008.mp4          motor  \n",
       "2886   10273.mp4         cheese  \n",
       "682    70309.mp4          apple  \n",
       "10997  42239.mp4         person  \n",
       "13566  51729.mp4        similar  \n",
       "16689  62817.mp4          weird  \n",
       "10000  37916.mp4       negative  \n",
       "15401  57807.mp4        therapy  \n",
       "9815   37267.mp4       multiply  \n",
       "2981   10601.mp4          choir  \n",
       "6447   65775.mp4            fox  \n",
       "15631  58596.mp4          tired  \n",
       "3033   10713.mp4      christmas  \n",
       "14772  55867.mp4       sunshine  \n",
       "15912  59368.mp4       transfer  \n",
       "3145   11253.mp4          close  \n",
       "245    01394.mp4         africa  \n",
       "4398   15691.mp4        descend  \n",
       "13309  50855.mp4          share  \n",
       "10899  41777.mp4           peel  \n",
       "12052  45820.mp4          quote  \n",
       "9166   34395.mp4       magazine  \n",
       "16777  63091.mp4          where  \n",
       "7609   70085.mp4           home  \n",
       "11762  44833.mp4        program  \n",
       "2563   09178.mp4        careful  "
      ]
     },
     "execution_count": 32,
     "metadata": {},
     "output_type": "execute_result"
    }
   ],
   "source": [
    "video_df.sample(50)"
   ]
  },
  {
   "cell_type": "code",
   "execution_count": 33,
   "id": "8d1c55c8",
   "metadata": {
    "ExecuteTime": {
     "end_time": "2023-07-30T21:28:51.863884Z",
     "start_time": "2023-07-30T21:28:51.857779Z"
    }
   },
   "outputs": [
    {
     "data": {
      "text/html": [
       "<div>\n",
       "<style scoped>\n",
       "    .dataframe tbody tr th:only-of-type {\n",
       "        vertical-align: middle;\n",
       "    }\n",
       "\n",
       "    .dataframe tbody tr th {\n",
       "        vertical-align: top;\n",
       "    }\n",
       "\n",
       "    .dataframe thead th {\n",
       "        text-align: right;\n",
       "    }\n",
       "</style>\n",
       "<table border=\"1\" class=\"dataframe\">\n",
       "  <thead>\n",
       "    <tr style=\"text-align: right;\">\n",
       "      <th></th>\n",
       "      <th>path</th>\n",
       "      <th>target</th>\n",
       "      <th>file</th>\n",
       "      <th>originaltarget</th>\n",
       "    </tr>\n",
       "  </thead>\n",
       "  <tbody>\n",
       "    <tr>\n",
       "      <th>0</th>\n",
       "      <td>file:/home/kristian/WLASL/videos_organized/a l...</td>\n",
       "      <td>a lot</td>\n",
       "      <td>02123.mp4</td>\n",
       "      <td>a lot</td>\n",
       "    </tr>\n",
       "    <tr>\n",
       "      <th>1</th>\n",
       "      <td>file:/home/kristian/WLASL/videos_organized/a l...</td>\n",
       "      <td>a lot</td>\n",
       "      <td>02124.mp4</td>\n",
       "      <td>a lot</td>\n",
       "    </tr>\n",
       "    <tr>\n",
       "      <th>2</th>\n",
       "      <td>file:/home/kristian/WLASL/videos_organized/a l...</td>\n",
       "      <td>a lot</td>\n",
       "      <td>02125.mp4</td>\n",
       "      <td>a lot</td>\n",
       "    </tr>\n",
       "    <tr>\n",
       "      <th>3</th>\n",
       "      <td>file:/home/kristian/WLASL/videos_organized/a l...</td>\n",
       "      <td>a lot</td>\n",
       "      <td>02126.mp4</td>\n",
       "      <td>a lot</td>\n",
       "    </tr>\n",
       "    <tr>\n",
       "      <th>4</th>\n",
       "      <td>file:/home/kristian/WLASL/videos_organized/a l...</td>\n",
       "      <td>a lot</td>\n",
       "      <td>02128.mp4</td>\n",
       "      <td>a lot</td>\n",
       "    </tr>\n",
       "  </tbody>\n",
       "</table>\n",
       "</div>"
      ],
      "text/plain": [
       "                                                path target       file  \\\n",
       "0  file:/home/kristian/WLASL/videos_organized/a l...  a lot  02123.mp4   \n",
       "1  file:/home/kristian/WLASL/videos_organized/a l...  a lot  02124.mp4   \n",
       "2  file:/home/kristian/WLASL/videos_organized/a l...  a lot  02125.mp4   \n",
       "3  file:/home/kristian/WLASL/videos_organized/a l...  a lot  02126.mp4   \n",
       "4  file:/home/kristian/WLASL/videos_organized/a l...  a lot  02128.mp4   \n",
       "\n",
       "  originaltarget  \n",
       "0          a lot  \n",
       "1          a lot  \n",
       "2          a lot  \n",
       "3          a lot  \n",
       "4          a lot  "
      ]
     },
     "execution_count": 33,
     "metadata": {},
     "output_type": "execute_result"
    }
   ],
   "source": [
    "video_df.head()"
   ]
  },
  {
   "cell_type": "code",
   "execution_count": 34,
   "id": "cc1e14c5",
   "metadata": {
    "ExecuteTime": {
     "end_time": "2023-07-30T21:28:54.164233Z",
     "start_time": "2023-07-30T21:28:54.154324Z"
    }
   },
   "outputs": [],
   "source": [
    "video_df['frequency'] = video_df['target'].map(video_df['target'].value_counts())"
   ]
  },
  {
   "cell_type": "code",
   "execution_count": 35,
   "id": "f782326e",
   "metadata": {
    "ExecuteTime": {
     "end_time": "2023-07-30T21:28:56.013646Z",
     "start_time": "2023-07-30T21:28:56.004771Z"
    }
   },
   "outputs": [
    {
     "data": {
      "text/html": [
       "<div>\n",
       "<style scoped>\n",
       "    .dataframe tbody tr th:only-of-type {\n",
       "        vertical-align: middle;\n",
       "    }\n",
       "\n",
       "    .dataframe tbody tr th {\n",
       "        vertical-align: top;\n",
       "    }\n",
       "\n",
       "    .dataframe thead th {\n",
       "        text-align: right;\n",
       "    }\n",
       "</style>\n",
       "<table border=\"1\" class=\"dataframe\">\n",
       "  <thead>\n",
       "    <tr style=\"text-align: right;\">\n",
       "      <th></th>\n",
       "      <th>path</th>\n",
       "      <th>target</th>\n",
       "      <th>file</th>\n",
       "      <th>originaltarget</th>\n",
       "      <th>frequency</th>\n",
       "    </tr>\n",
       "  </thead>\n",
       "  <tbody>\n",
       "    <tr>\n",
       "      <th>17042</th>\n",
       "      <td>file:/home/kristian/WLASL/videos_organized/wor...</td>\n",
       "      <td>work</td>\n",
       "      <td>63789.mp4</td>\n",
       "      <td>work</td>\n",
       "      <td>14</td>\n",
       "    </tr>\n",
       "    <tr>\n",
       "      <th>7643</th>\n",
       "      <td>file:/home/kristian/WLASL/videos_organized/hop...</td>\n",
       "      <td>hop</td>\n",
       "      <td>27944.mp4</td>\n",
       "      <td>hop</td>\n",
       "      <td>6</td>\n",
       "    </tr>\n",
       "    <tr>\n",
       "      <th>700</th>\n",
       "      <td>file:/home/kristian/WLASL/videos_organized/app...</td>\n",
       "      <td>approach</td>\n",
       "      <td>03089.mp4</td>\n",
       "      <td>approach</td>\n",
       "      <td>6</td>\n",
       "    </tr>\n",
       "    <tr>\n",
       "      <th>4405</th>\n",
       "      <td>file:/home/kristian/WLASL/videos_organized/des...</td>\n",
       "      <td>describe</td>\n",
       "      <td>15707.mp4</td>\n",
       "      <td>describe</td>\n",
       "      <td>9</td>\n",
       "    </tr>\n",
       "    <tr>\n",
       "      <th>2764</th>\n",
       "      <td>file:/home/kristian/WLASL/videos_organized/cha...</td>\n",
       "      <td>champion</td>\n",
       "      <td>09918.mp4</td>\n",
       "      <td>champion</td>\n",
       "      <td>13</td>\n",
       "    </tr>\n",
       "    <tr>\n",
       "      <th>14292</th>\n",
       "      <td>file:/home/kristian/WLASL/videos_organized/squ...</td>\n",
       "      <td>squeeze</td>\n",
       "      <td>54188.mp4</td>\n",
       "      <td>squeeze</td>\n",
       "      <td>6</td>\n",
       "    </tr>\n",
       "    <tr>\n",
       "      <th>15826</th>\n",
       "      <td>file:/home/kristian/WLASL/videos_organized/tou...</td>\n",
       "      <td>tournament</td>\n",
       "      <td>59102.mp4</td>\n",
       "      <td>tournament</td>\n",
       "      <td>9</td>\n",
       "    </tr>\n",
       "    <tr>\n",
       "      <th>6110</th>\n",
       "      <td>file:/home/kristian/WLASL/videos_organized/fin...</td>\n",
       "      <td>find</td>\n",
       "      <td>21853.mp4</td>\n",
       "      <td>find</td>\n",
       "      <td>10</td>\n",
       "    </tr>\n",
       "    <tr>\n",
       "      <th>11274</th>\n",
       "      <td>file:/home/kristian/WLASL/videos_organized/pne...</td>\n",
       "      <td>pneumonia</td>\n",
       "      <td>43367.mp4</td>\n",
       "      <td>pneumonia</td>\n",
       "      <td>8</td>\n",
       "    </tr>\n",
       "    <tr>\n",
       "      <th>6399</th>\n",
       "      <td>file:/home/kristian/WLASL/videos_organized/for...</td>\n",
       "      <td>forgive</td>\n",
       "      <td>22975.mp4</td>\n",
       "      <td>forgive</td>\n",
       "      <td>6</td>\n",
       "    </tr>\n",
       "    <tr>\n",
       "      <th>8730</th>\n",
       "      <td>file:/home/kristian/WLASL/videos_organized/lea...</td>\n",
       "      <td>learn</td>\n",
       "      <td>32606.mp4</td>\n",
       "      <td>learn</td>\n",
       "      <td>14</td>\n",
       "    </tr>\n",
       "    <tr>\n",
       "      <th>3938</th>\n",
       "      <td>file:/home/kristian/WLASL/videos_organized/cru...</td>\n",
       "      <td>crush</td>\n",
       "      <td>14156.mp4</td>\n",
       "      <td>crush</td>\n",
       "      <td>6</td>\n",
       "    </tr>\n",
       "    <tr>\n",
       "      <th>16101</th>\n",
       "      <td>file:/home/kristian/WLASL/videos_organized/ugl...</td>\n",
       "      <td>ugly</td>\n",
       "      <td>60348.mp4</td>\n",
       "      <td>ugly</td>\n",
       "      <td>13</td>\n",
       "    </tr>\n",
       "    <tr>\n",
       "      <th>15698</th>\n",
       "      <td>file:/home/kristian/WLASL/videos_organized/tog...</td>\n",
       "      <td>together</td>\n",
       "      <td>58713.mp4</td>\n",
       "      <td>together</td>\n",
       "      <td>9</td>\n",
       "    </tr>\n",
       "    <tr>\n",
       "      <th>976</th>\n",
       "      <td>file:/home/kristian/WLASL/videos_organized/aun...</td>\n",
       "      <td>aunt</td>\n",
       "      <td>04172.mp4</td>\n",
       "      <td>aunt</td>\n",
       "      <td>11</td>\n",
       "    </tr>\n",
       "    <tr>\n",
       "      <th>572</th>\n",
       "      <td>file:/home/kristian/WLASL/videos_organized/ann...</td>\n",
       "      <td>anniversary</td>\n",
       "      <td>02609.mp4</td>\n",
       "      <td>anniversary</td>\n",
       "      <td>7</td>\n",
       "    </tr>\n",
       "    <tr>\n",
       "      <th>921</th>\n",
       "      <td>file:/home/kristian/WLASL/videos_organized/att...</td>\n",
       "      <td>attorney</td>\n",
       "      <td>04051.mp4</td>\n",
       "      <td>attorney</td>\n",
       "      <td>6</td>\n",
       "    </tr>\n",
       "    <tr>\n",
       "      <th>5715</th>\n",
       "      <td>file:/home/kristian/WLASL/videos_organized/exp...</td>\n",
       "      <td>expand</td>\n",
       "      <td>20318.mp4</td>\n",
       "      <td>expand</td>\n",
       "      <td>7</td>\n",
       "    </tr>\n",
       "    <tr>\n",
       "      <th>1063</th>\n",
       "      <td>file:/home/kristian/WLASL/videos_organized/awa...</td>\n",
       "      <td>away</td>\n",
       "      <td>04388.mp4</td>\n",
       "      <td>away</td>\n",
       "      <td>8</td>\n",
       "    </tr>\n",
       "    <tr>\n",
       "      <th>14549</th>\n",
       "      <td>file:/home/kristian/WLASL/videos_organized/str...</td>\n",
       "      <td>stress</td>\n",
       "      <td>55179.mp4</td>\n",
       "      <td>stress</td>\n",
       "      <td>10</td>\n",
       "    </tr>\n",
       "  </tbody>\n",
       "</table>\n",
       "</div>"
      ],
      "text/plain": [
       "                                                    path       target  \\\n",
       "17042  file:/home/kristian/WLASL/videos_organized/wor...         work   \n",
       "7643   file:/home/kristian/WLASL/videos_organized/hop...          hop   \n",
       "700    file:/home/kristian/WLASL/videos_organized/app...     approach   \n",
       "4405   file:/home/kristian/WLASL/videos_organized/des...     describe   \n",
       "2764   file:/home/kristian/WLASL/videos_organized/cha...     champion   \n",
       "14292  file:/home/kristian/WLASL/videos_organized/squ...      squeeze   \n",
       "15826  file:/home/kristian/WLASL/videos_organized/tou...   tournament   \n",
       "6110   file:/home/kristian/WLASL/videos_organized/fin...         find   \n",
       "11274  file:/home/kristian/WLASL/videos_organized/pne...    pneumonia   \n",
       "6399   file:/home/kristian/WLASL/videos_organized/for...      forgive   \n",
       "8730   file:/home/kristian/WLASL/videos_organized/lea...        learn   \n",
       "3938   file:/home/kristian/WLASL/videos_organized/cru...        crush   \n",
       "16101  file:/home/kristian/WLASL/videos_organized/ugl...         ugly   \n",
       "15698  file:/home/kristian/WLASL/videos_organized/tog...     together   \n",
       "976    file:/home/kristian/WLASL/videos_organized/aun...         aunt   \n",
       "572    file:/home/kristian/WLASL/videos_organized/ann...  anniversary   \n",
       "921    file:/home/kristian/WLASL/videos_organized/att...     attorney   \n",
       "5715   file:/home/kristian/WLASL/videos_organized/exp...       expand   \n",
       "1063   file:/home/kristian/WLASL/videos_organized/awa...         away   \n",
       "14549  file:/home/kristian/WLASL/videos_organized/str...       stress   \n",
       "\n",
       "            file originaltarget  frequency  \n",
       "17042  63789.mp4           work         14  \n",
       "7643   27944.mp4            hop          6  \n",
       "700    03089.mp4       approach          6  \n",
       "4405   15707.mp4       describe          9  \n",
       "2764   09918.mp4       champion         13  \n",
       "14292  54188.mp4        squeeze          6  \n",
       "15826  59102.mp4     tournament          9  \n",
       "6110   21853.mp4           find         10  \n",
       "11274  43367.mp4      pneumonia          8  \n",
       "6399   22975.mp4        forgive          6  \n",
       "8730   32606.mp4          learn         14  \n",
       "3938   14156.mp4          crush          6  \n",
       "16101  60348.mp4           ugly         13  \n",
       "15698  58713.mp4       together          9  \n",
       "976    04172.mp4           aunt         11  \n",
       "572    02609.mp4    anniversary          7  \n",
       "921    04051.mp4       attorney          6  \n",
       "5715   20318.mp4         expand          7  \n",
       "1063   04388.mp4           away          8  \n",
       "14549  55179.mp4         stress         10  "
      ]
     },
     "execution_count": 35,
     "metadata": {},
     "output_type": "execute_result"
    }
   ],
   "source": [
    "video_df.sample(20)"
   ]
  },
  {
   "cell_type": "code",
   "execution_count": 36,
   "id": "c70eed81",
   "metadata": {
    "ExecuteTime": {
     "end_time": "2023-07-30T21:28:57.251346Z",
     "start_time": "2023-07-30T21:28:57.247477Z"
    }
   },
   "outputs": [],
   "source": [
    "video_df = video_df[video_df['frequency'] > 14]\n",
    "video_df = video_df.reset_index(drop=True)"
   ]
  },
  {
   "cell_type": "code",
   "execution_count": 37,
   "id": "3c7e211e",
   "metadata": {
    "ExecuteTime": {
     "end_time": "2023-07-30T21:28:59.112945Z",
     "start_time": "2023-07-30T21:28:59.104259Z"
    }
   },
   "outputs": [
    {
     "data": {
      "text/html": [
       "<div>\n",
       "<style scoped>\n",
       "    .dataframe tbody tr th:only-of-type {\n",
       "        vertical-align: middle;\n",
       "    }\n",
       "\n",
       "    .dataframe tbody tr th {\n",
       "        vertical-align: top;\n",
       "    }\n",
       "\n",
       "    .dataframe thead th {\n",
       "        text-align: right;\n",
       "    }\n",
       "</style>\n",
       "<table border=\"1\" class=\"dataframe\">\n",
       "  <thead>\n",
       "    <tr style=\"text-align: right;\">\n",
       "      <th></th>\n",
       "      <th>path</th>\n",
       "      <th>target</th>\n",
       "      <th>file</th>\n",
       "      <th>originaltarget</th>\n",
       "      <th>frequency</th>\n",
       "    </tr>\n",
       "  </thead>\n",
       "  <tbody>\n",
       "    <tr>\n",
       "      <th>889</th>\n",
       "      <td>file:/home/kristian/WLASL/videos_organized/mee...</td>\n",
       "      <td>meet</td>\n",
       "      <td>35517.mp4</td>\n",
       "      <td>meet</td>\n",
       "      <td>15</td>\n",
       "    </tr>\n",
       "    <tr>\n",
       "      <th>272</th>\n",
       "      <td>file:/home/kristian/WLASL/videos_organized/che...</td>\n",
       "      <td>check</td>\n",
       "      <td>65343.mp4</td>\n",
       "      <td>check</td>\n",
       "      <td>15</td>\n",
       "    </tr>\n",
       "    <tr>\n",
       "      <th>30</th>\n",
       "      <td>file:/home/kristian/WLASL/videos_organized/afr...</td>\n",
       "      <td>africa</td>\n",
       "      <td>01397.mp4</td>\n",
       "      <td>africa</td>\n",
       "      <td>16</td>\n",
       "    </tr>\n",
       "    <tr>\n",
       "      <th>650</th>\n",
       "      <td>file:/home/kristian/WLASL/videos_organized/go/...</td>\n",
       "      <td>go</td>\n",
       "      <td>24955.mp4</td>\n",
       "      <td>go</td>\n",
       "      <td>19</td>\n",
       "    </tr>\n",
       "    <tr>\n",
       "      <th>1250</th>\n",
       "      <td>file:/home/kristian/WLASL/videos_organized/tra...</td>\n",
       "      <td>trade</td>\n",
       "      <td>59211.mp4</td>\n",
       "      <td>trade</td>\n",
       "      <td>15</td>\n",
       "    </tr>\n",
       "    <tr>\n",
       "      <th>341</th>\n",
       "      <td>file:/home/kristian/WLASL/videos_organized/com...</td>\n",
       "      <td>computer</td>\n",
       "      <td>12329.mp4</td>\n",
       "      <td>computer</td>\n",
       "      <td>22</td>\n",
       "    </tr>\n",
       "    <tr>\n",
       "      <th>1256</th>\n",
       "      <td>file:/home/kristian/WLASL/videos_organized/tra...</td>\n",
       "      <td>trade</td>\n",
       "      <td>59219.mp4</td>\n",
       "      <td>trade</td>\n",
       "      <td>15</td>\n",
       "    </tr>\n",
       "    <tr>\n",
       "      <th>1086</th>\n",
       "      <td>file:/home/kristian/WLASL/videos_organized/shi...</td>\n",
       "      <td>shirt</td>\n",
       "      <td>51067.mp4</td>\n",
       "      <td>shirt</td>\n",
       "      <td>17</td>\n",
       "    </tr>\n",
       "    <tr>\n",
       "      <th>612</th>\n",
       "      <td>file:/home/kristian/WLASL/videos_organized/ful...</td>\n",
       "      <td>full</td>\n",
       "      <td>23766.mp4</td>\n",
       "      <td>full</td>\n",
       "      <td>15</td>\n",
       "    </tr>\n",
       "    <tr>\n",
       "      <th>158</th>\n",
       "      <td>file:/home/kristian/WLASL/videos_organized/boo...</td>\n",
       "      <td>book</td>\n",
       "      <td>07093.mp4</td>\n",
       "      <td>book</td>\n",
       "      <td>34</td>\n",
       "    </tr>\n",
       "    <tr>\n",
       "      <th>87</th>\n",
       "      <td>file:/home/kristian/WLASL/videos_organized/bef...</td>\n",
       "      <td>before</td>\n",
       "      <td>05732.mp4</td>\n",
       "      <td>before</td>\n",
       "      <td>22</td>\n",
       "    </tr>\n",
       "    <tr>\n",
       "      <th>769</th>\n",
       "      <td>file:/home/kristian/WLASL/videos_organized/hot...</td>\n",
       "      <td>hot</td>\n",
       "      <td>69368.mp4</td>\n",
       "      <td>hot</td>\n",
       "      <td>18</td>\n",
       "    </tr>\n",
       "    <tr>\n",
       "      <th>356</th>\n",
       "      <td>file:/home/kristian/WLASL/videos_organized/con...</td>\n",
       "      <td>convince</td>\n",
       "      <td>13141.mp4</td>\n",
       "      <td>convince</td>\n",
       "      <td>15</td>\n",
       "    </tr>\n",
       "    <tr>\n",
       "      <th>258</th>\n",
       "      <td>file:/home/kristian/WLASL/videos_organized/che...</td>\n",
       "      <td>check</td>\n",
       "      <td>10183.mp4</td>\n",
       "      <td>check</td>\n",
       "      <td>15</td>\n",
       "    </tr>\n",
       "    <tr>\n",
       "      <th>416</th>\n",
       "      <td>file:/home/kristian/WLASL/videos_organized/cou...</td>\n",
       "      <td>cousin</td>\n",
       "      <td>13635.mp4</td>\n",
       "      <td>cousin</td>\n",
       "      <td>18</td>\n",
       "    </tr>\n",
       "    <tr>\n",
       "      <th>962</th>\n",
       "      <td>file:/home/kristian/WLASL/videos_organized/ora...</td>\n",
       "      <td>orange</td>\n",
       "      <td>40130.mp4</td>\n",
       "      <td>orange</td>\n",
       "      <td>18</td>\n",
       "    </tr>\n",
       "    <tr>\n",
       "      <th>441</th>\n",
       "      <td>file:/home/kristian/WLASL/videos_organized/cow...</td>\n",
       "      <td>cow</td>\n",
       "      <td>13709.mp4</td>\n",
       "      <td>cow</td>\n",
       "      <td>15</td>\n",
       "    </tr>\n",
       "    <tr>\n",
       "      <th>1292</th>\n",
       "      <td>file:/home/kristian/WLASL/videos_organized/whi...</td>\n",
       "      <td>white</td>\n",
       "      <td>63203.mp4</td>\n",
       "      <td>white</td>\n",
       "      <td>17</td>\n",
       "    </tr>\n",
       "    <tr>\n",
       "      <th>1007</th>\n",
       "      <td>file:/home/kristian/WLASL/videos_organized/piz...</td>\n",
       "      <td>pizza</td>\n",
       "      <td>42969.mp4</td>\n",
       "      <td>pizza</td>\n",
       "      <td>17</td>\n",
       "    </tr>\n",
       "    <tr>\n",
       "      <th>153</th>\n",
       "      <td>file:/home/kristian/WLASL/videos_organized/boo...</td>\n",
       "      <td>book</td>\n",
       "      <td>07088.mp4</td>\n",
       "      <td>book</td>\n",
       "      <td>34</td>\n",
       "    </tr>\n",
       "  </tbody>\n",
       "</table>\n",
       "</div>"
      ],
      "text/plain": [
       "                                                   path    target       file  \\\n",
       "889   file:/home/kristian/WLASL/videos_organized/mee...      meet  35517.mp4   \n",
       "272   file:/home/kristian/WLASL/videos_organized/che...     check  65343.mp4   \n",
       "30    file:/home/kristian/WLASL/videos_organized/afr...    africa  01397.mp4   \n",
       "650   file:/home/kristian/WLASL/videos_organized/go/...        go  24955.mp4   \n",
       "1250  file:/home/kristian/WLASL/videos_organized/tra...     trade  59211.mp4   \n",
       "341   file:/home/kristian/WLASL/videos_organized/com...  computer  12329.mp4   \n",
       "1256  file:/home/kristian/WLASL/videos_organized/tra...     trade  59219.mp4   \n",
       "1086  file:/home/kristian/WLASL/videos_organized/shi...     shirt  51067.mp4   \n",
       "612   file:/home/kristian/WLASL/videos_organized/ful...      full  23766.mp4   \n",
       "158   file:/home/kristian/WLASL/videos_organized/boo...      book  07093.mp4   \n",
       "87    file:/home/kristian/WLASL/videos_organized/bef...    before  05732.mp4   \n",
       "769   file:/home/kristian/WLASL/videos_organized/hot...       hot  69368.mp4   \n",
       "356   file:/home/kristian/WLASL/videos_organized/con...  convince  13141.mp4   \n",
       "258   file:/home/kristian/WLASL/videos_organized/che...     check  10183.mp4   \n",
       "416   file:/home/kristian/WLASL/videos_organized/cou...    cousin  13635.mp4   \n",
       "962   file:/home/kristian/WLASL/videos_organized/ora...    orange  40130.mp4   \n",
       "441   file:/home/kristian/WLASL/videos_organized/cow...       cow  13709.mp4   \n",
       "1292  file:/home/kristian/WLASL/videos_organized/whi...     white  63203.mp4   \n",
       "1007  file:/home/kristian/WLASL/videos_organized/piz...     pizza  42969.mp4   \n",
       "153   file:/home/kristian/WLASL/videos_organized/boo...      book  07088.mp4   \n",
       "\n",
       "     originaltarget  frequency  \n",
       "889            meet         15  \n",
       "272           check         15  \n",
       "30           africa         16  \n",
       "650              go         19  \n",
       "1250          trade         15  \n",
       "341        computer         22  \n",
       "1256          trade         15  \n",
       "1086          shirt         17  \n",
       "612            full         15  \n",
       "158            book         34  \n",
       "87           before         22  \n",
       "769             hot         18  \n",
       "356        convince         15  \n",
       "258           check         15  \n",
       "416          cousin         18  \n",
       "962          orange         18  \n",
       "441             cow         15  \n",
       "1292          white         17  \n",
       "1007          pizza         17  \n",
       "153            book         34  "
      ]
     },
     "execution_count": 37,
     "metadata": {},
     "output_type": "execute_result"
    }
   ],
   "source": [
    "video_df.sample(20)"
   ]
  },
  {
   "cell_type": "code",
   "execution_count": 38,
   "id": "fd22162a",
   "metadata": {
    "ExecuteTime": {
     "end_time": "2023-07-30T21:29:00.224253Z",
     "start_time": "2023-07-30T21:29:00.215046Z"
    }
   },
   "outputs": [
    {
     "data": {
      "text/html": [
       "<div>\n",
       "<style scoped>\n",
       "    .dataframe tbody tr th:only-of-type {\n",
       "        vertical-align: middle;\n",
       "    }\n",
       "\n",
       "    .dataframe tbody tr th {\n",
       "        vertical-align: top;\n",
       "    }\n",
       "\n",
       "    .dataframe thead th {\n",
       "        text-align: right;\n",
       "    }\n",
       "</style>\n",
       "<table border=\"1\" class=\"dataframe\">\n",
       "  <thead>\n",
       "    <tr style=\"text-align: right;\">\n",
       "      <th></th>\n",
       "      <th>frequency</th>\n",
       "    </tr>\n",
       "  </thead>\n",
       "  <tbody>\n",
       "    <tr>\n",
       "      <th>count</th>\n",
       "      <td>1405.000000</td>\n",
       "    </tr>\n",
       "    <tr>\n",
       "      <th>mean</th>\n",
       "      <td>17.145196</td>\n",
       "    </tr>\n",
       "    <tr>\n",
       "      <th>std</th>\n",
       "      <td>3.330809</td>\n",
       "    </tr>\n",
       "    <tr>\n",
       "      <th>min</th>\n",
       "      <td>15.000000</td>\n",
       "    </tr>\n",
       "    <tr>\n",
       "      <th>25%</th>\n",
       "      <td>15.000000</td>\n",
       "    </tr>\n",
       "    <tr>\n",
       "      <th>50%</th>\n",
       "      <td>16.000000</td>\n",
       "    </tr>\n",
       "    <tr>\n",
       "      <th>75%</th>\n",
       "      <td>17.000000</td>\n",
       "    </tr>\n",
       "    <tr>\n",
       "      <th>max</th>\n",
       "      <td>34.000000</td>\n",
       "    </tr>\n",
       "  </tbody>\n",
       "</table>\n",
       "</div>"
      ],
      "text/plain": [
       "         frequency\n",
       "count  1405.000000\n",
       "mean     17.145196\n",
       "std       3.330809\n",
       "min      15.000000\n",
       "25%      15.000000\n",
       "50%      16.000000\n",
       "75%      17.000000\n",
       "max      34.000000"
      ]
     },
     "execution_count": 38,
     "metadata": {},
     "output_type": "execute_result"
    }
   ],
   "source": [
    "video_df.describe()"
   ]
  },
  {
   "cell_type": "code",
   "execution_count": 39,
   "id": "7f1d5af9",
   "metadata": {
    "ExecuteTime": {
     "end_time": "2023-07-30T21:29:02.456566Z",
     "start_time": "2023-07-30T21:29:02.452819Z"
    }
   },
   "outputs": [
    {
     "data": {
      "text/plain": [
       "84"
      ]
     },
     "execution_count": 39,
     "metadata": {},
     "output_type": "execute_result"
    }
   ],
   "source": [
    "video_df['target'].nunique()"
   ]
  },
  {
   "cell_type": "code",
   "execution_count": 40,
   "id": "256329e5",
   "metadata": {
    "ExecuteTime": {
     "end_time": "2023-07-30T21:29:03.501443Z",
     "start_time": "2023-07-30T21:29:03.497600Z"
    }
   },
   "outputs": [
    {
     "data": {
      "text/plain": [
       "array(['accident', 'africa', 'all', 'apple', 'bed', 'before', 'bird',\n",
       "       'black', 'book', 'bowling', 'candy', 'chair', 'change', 'cheat',\n",
       "       'check', 'city', 'clothes', 'color', 'computer', 'convince',\n",
       "       'cook', 'cool', 'corn', 'cousin', 'cow', 'dark', 'deaf', 'decide',\n",
       "       'dog', 'drink', 'family', 'fine', 'finish', 'fish', 'forget',\n",
       "       'full', 'give', 'go', 'graduate', 'hair', 'hat', 'headache',\n",
       "       'hearing', 'help', 'hot', 'kiss', 'language', 'last', 'later',\n",
       "       'like', 'man', 'many', 'meet', 'mother', 'no', 'now', 'orange',\n",
       "       'paper', 'pink', 'pizza', 'play', 'pull', 'school', 'secretary',\n",
       "       'shirt', 'short', 'son', 'study', 'table', 'tall', 'thanksgiving',\n",
       "       'thin', 'thursday', 'time', 'trade', 'visit', 'water', 'white',\n",
       "       'who', 'woman', 'wrong', 'year', 'yes', 'yesterday'], dtype=object)"
      ]
     },
     "execution_count": 40,
     "metadata": {},
     "output_type": "execute_result"
    }
   ],
   "source": [
    "video_df['target'].unique()"
   ]
  },
  {
   "cell_type": "code",
   "execution_count": 41,
   "id": "4ae848cf",
   "metadata": {
    "ExecuteTime": {
     "end_time": "2023-07-30T21:29:19.129242Z",
     "start_time": "2023-07-30T21:29:07.929226Z"
    },
    "scrolled": true
   },
   "outputs": [
    {
     "data": {
      "application/vnd.jupyter.widget-view+json": {
       "model_id": "81e5c542112f4da4b365b66f1ee92f47",
       "version_major": 2,
       "version_minor": 0
      },
      "text/plain": [
       "Output()"
      ]
     },
     "metadata": {},
     "output_type": "display_data"
    },
    {
     "data": {
      "text/html": [
       "<pre style=\"white-space:pre;overflow-x:auto;line-height:normal;font-family:Menlo,'DejaVu Sans Mono',consolas,'Courier New',monospace\"></pre>\n"
      ],
      "text/plain": []
     },
     "metadata": {},
     "output_type": "display_data"
    },
    {
     "data": {
      "text/html": [
       "<pre style=\"white-space:pre;overflow-x:auto;line-height:normal;font-family:Menlo,'DejaVu Sans Mono',consolas,'Courier New',monospace\">\n",
       "</pre>\n"
      ],
      "text/plain": [
       "\n"
      ]
     },
     "metadata": {},
     "output_type": "display_data"
    },
    {
     "data": {
      "application/vnd.jupyter.widget-view+json": {
       "model_id": "c048defc772b49d69b352da9eb486dc5",
       "version_major": 2,
       "version_minor": 0
      },
      "text/plain": [
       "Output()"
      ]
     },
     "metadata": {},
     "output_type": "display_data"
    },
    {
     "data": {
      "text/html": [
       "<pre style=\"white-space:pre;overflow-x:auto;line-height:normal;font-family:Menlo,'DejaVu Sans Mono',consolas,'Courier New',monospace\"></pre>\n"
      ],
      "text/plain": []
     },
     "metadata": {},
     "output_type": "display_data"
    },
    {
     "data": {
      "text/html": [
       "<pre style=\"white-space:pre;overflow-x:auto;line-height:normal;font-family:Menlo,'DejaVu Sans Mono',consolas,'Courier New',monospace\">\n",
       "</pre>\n"
      ],
      "text/plain": [
       "\n"
      ]
     },
     "metadata": {},
     "output_type": "display_data"
    },
    {
     "data": {
      "application/vnd.jupyter.widget-view+json": {
       "model_id": "084307eb1d654fbfa11251fb35abbd19",
       "version_major": 2,
       "version_minor": 0
      },
      "text/plain": [
       "Output()"
      ]
     },
     "metadata": {},
     "output_type": "display_data"
    },
    {
     "data": {
      "text/html": [
       "<pre style=\"white-space:pre;overflow-x:auto;line-height:normal;font-family:Menlo,'DejaVu Sans Mono',consolas,'Courier New',monospace\"></pre>\n"
      ],
      "text/plain": []
     },
     "metadata": {},
     "output_type": "display_data"
    },
    {
     "data": {
      "text/html": [
       "<pre style=\"white-space:pre;overflow-x:auto;line-height:normal;font-family:Menlo,'DejaVu Sans Mono',consolas,'Courier New',monospace\">\n",
       "</pre>\n"
      ],
      "text/plain": [
       "\n"
      ]
     },
     "metadata": {},
     "output_type": "display_data"
    },
    {
     "data": {
      "application/vnd.jupyter.widget-view+json": {
       "model_id": "aeb7eb0b2d8b4befa24f21e84a6afa9b",
       "version_major": 2,
       "version_minor": 0
      },
      "text/plain": [
       "Output()"
      ]
     },
     "metadata": {},
     "output_type": "display_data"
    },
    {
     "data": {
      "text/html": [
       "<pre style=\"white-space:pre;overflow-x:auto;line-height:normal;font-family:Menlo,'DejaVu Sans Mono',consolas,'Courier New',monospace\"></pre>\n"
      ],
      "text/plain": []
     },
     "metadata": {},
     "output_type": "display_data"
    },
    {
     "data": {
      "text/html": [
       "<pre style=\"white-space:pre;overflow-x:auto;line-height:normal;font-family:Menlo,'DejaVu Sans Mono',consolas,'Courier New',monospace\">\n",
       "</pre>\n"
      ],
      "text/plain": [
       "\n"
      ]
     },
     "metadata": {},
     "output_type": "display_data"
    },
    {
     "data": {
      "application/vnd.jupyter.widget-view+json": {
       "model_id": "61a079865308448f9e05df76a76af914",
       "version_major": 2,
       "version_minor": 0
      },
      "text/plain": [
       "Output()"
      ]
     },
     "metadata": {},
     "output_type": "display_data"
    },
    {
     "data": {
      "text/html": [
       "<pre style=\"white-space:pre;overflow-x:auto;line-height:normal;font-family:Menlo,'DejaVu Sans Mono',consolas,'Courier New',monospace\"></pre>\n"
      ],
      "text/plain": []
     },
     "metadata": {},
     "output_type": "display_data"
    },
    {
     "data": {
      "text/html": [
       "<pre style=\"white-space:pre;overflow-x:auto;line-height:normal;font-family:Menlo,'DejaVu Sans Mono',consolas,'Courier New',monospace\">\n",
       "</pre>\n"
      ],
      "text/plain": [
       "\n"
      ]
     },
     "metadata": {},
     "output_type": "display_data"
    },
    {
     "data": {
      "application/vnd.jupyter.widget-view+json": {
       "model_id": "8a2e0609d0f94e019115de62d40c4df5",
       "version_major": 2,
       "version_minor": 0
      },
      "text/plain": [
       "Output()"
      ]
     },
     "metadata": {},
     "output_type": "display_data"
    },
    {
     "data": {
      "text/html": [
       "<pre style=\"white-space:pre;overflow-x:auto;line-height:normal;font-family:Menlo,'DejaVu Sans Mono',consolas,'Courier New',monospace\"></pre>\n"
      ],
      "text/plain": []
     },
     "metadata": {},
     "output_type": "display_data"
    },
    {
     "data": {
      "text/html": [
       "<pre style=\"white-space:pre;overflow-x:auto;line-height:normal;font-family:Menlo,'DejaVu Sans Mono',consolas,'Courier New',monospace\">\n",
       "</pre>\n"
      ],
      "text/plain": [
       "\n"
      ]
     },
     "metadata": {},
     "output_type": "display_data"
    },
    {
     "data": {
      "application/vnd.jupyter.widget-view+json": {
       "model_id": "5dea3a4395014fcaa51b4f093ebd0550",
       "version_major": 2,
       "version_minor": 0
      },
      "text/plain": [
       "Output()"
      ]
     },
     "metadata": {},
     "output_type": "display_data"
    },
    {
     "data": {
      "text/html": [
       "<pre style=\"white-space:pre;overflow-x:auto;line-height:normal;font-family:Menlo,'DejaVu Sans Mono',consolas,'Courier New',monospace\"></pre>\n"
      ],
      "text/plain": []
     },
     "metadata": {},
     "output_type": "display_data"
    },
    {
     "data": {
      "text/html": [
       "<pre style=\"white-space:pre;overflow-x:auto;line-height:normal;font-family:Menlo,'DejaVu Sans Mono',consolas,'Courier New',monospace\">\n",
       "</pre>\n"
      ],
      "text/plain": [
       "\n"
      ]
     },
     "metadata": {},
     "output_type": "display_data"
    },
    {
     "data": {
      "application/vnd.jupyter.widget-view+json": {
       "model_id": "e8d56553a693483b8ce573daace6f9b1",
       "version_major": 2,
       "version_minor": 0
      },
      "text/plain": [
       "Output()"
      ]
     },
     "metadata": {},
     "output_type": "display_data"
    },
    {
     "data": {
      "text/html": [
       "<pre style=\"white-space:pre;overflow-x:auto;line-height:normal;font-family:Menlo,'DejaVu Sans Mono',consolas,'Courier New',monospace\"></pre>\n"
      ],
      "text/plain": []
     },
     "metadata": {},
     "output_type": "display_data"
    },
    {
     "data": {
      "text/html": [
       "<pre style=\"white-space:pre;overflow-x:auto;line-height:normal;font-family:Menlo,'DejaVu Sans Mono',consolas,'Courier New',monospace\">\n",
       "</pre>\n"
      ],
      "text/plain": [
       "\n"
      ]
     },
     "metadata": {},
     "output_type": "display_data"
    },
    {
     "data": {
      "application/vnd.jupyter.widget-view+json": {
       "model_id": "c7390c632cc3414299f60dc8238a118a",
       "version_major": 2,
       "version_minor": 0
      },
      "text/plain": [
       "Output()"
      ]
     },
     "metadata": {},
     "output_type": "display_data"
    },
    {
     "data": {
      "text/html": [
       "<pre style=\"white-space:pre;overflow-x:auto;line-height:normal;font-family:Menlo,'DejaVu Sans Mono',consolas,'Courier New',monospace\"></pre>\n"
      ],
      "text/plain": []
     },
     "metadata": {},
     "output_type": "display_data"
    },
    {
     "data": {
      "text/html": [
       "<pre style=\"white-space:pre;overflow-x:auto;line-height:normal;font-family:Menlo,'DejaVu Sans Mono',consolas,'Courier New',monospace\">\n",
       "</pre>\n"
      ],
      "text/plain": [
       "\n"
      ]
     },
     "metadata": {},
     "output_type": "display_data"
    },
    {
     "data": {
      "application/vnd.jupyter.widget-view+json": {
       "model_id": "cf55f6f52458426eab46376fe5287d65",
       "version_major": 2,
       "version_minor": 0
      },
      "text/plain": [
       "Output()"
      ]
     },
     "metadata": {},
     "output_type": "display_data"
    },
    {
     "data": {
      "text/html": [
       "<pre style=\"white-space:pre;overflow-x:auto;line-height:normal;font-family:Menlo,'DejaVu Sans Mono',consolas,'Courier New',monospace\"></pre>\n"
      ],
      "text/plain": []
     },
     "metadata": {},
     "output_type": "display_data"
    },
    {
     "data": {
      "text/html": [
       "<pre style=\"white-space:pre;overflow-x:auto;line-height:normal;font-family:Menlo,'DejaVu Sans Mono',consolas,'Courier New',monospace\">\n",
       "</pre>\n"
      ],
      "text/plain": [
       "\n"
      ]
     },
     "metadata": {},
     "output_type": "display_data"
    },
    {
     "data": {
      "application/vnd.jupyter.widget-view+json": {
       "model_id": "7d863def31da4e4ea5285daf11b36470",
       "version_major": 2,
       "version_minor": 0
      },
      "text/plain": [
       "Output()"
      ]
     },
     "metadata": {},
     "output_type": "display_data"
    },
    {
     "data": {
      "text/html": [
       "<pre style=\"white-space:pre;overflow-x:auto;line-height:normal;font-family:Menlo,'DejaVu Sans Mono',consolas,'Courier New',monospace\">\n",
       "</pre>\n"
      ],
      "text/plain": [
       "\n"
      ]
     },
     "metadata": {},
     "output_type": "display_data"
    },
    {
     "data": {
      "application/vnd.jupyter.widget-view+json": {
       "model_id": "dcfab13ab31c49438ec01149e17ec041",
       "version_major": 2,
       "version_minor": 0
      },
      "text/plain": [
       "Output()"
      ]
     },
     "metadata": {},
     "output_type": "display_data"
    },
    {
     "data": {
      "text/html": [
       "<pre style=\"white-space:pre;overflow-x:auto;line-height:normal;font-family:Menlo,'DejaVu Sans Mono',consolas,'Courier New',monospace\"></pre>\n"
      ],
      "text/plain": []
     },
     "metadata": {},
     "output_type": "display_data"
    },
    {
     "data": {
      "text/html": [
       "<pre style=\"white-space:pre;overflow-x:auto;line-height:normal;font-family:Menlo,'DejaVu Sans Mono',consolas,'Courier New',monospace\">\n",
       "</pre>\n"
      ],
      "text/plain": [
       "\n"
      ]
     },
     "metadata": {},
     "output_type": "display_data"
    },
    {
     "data": {
      "application/vnd.jupyter.widget-view+json": {
       "model_id": "04f1afcb375841958b26971d669e032f",
       "version_major": 2,
       "version_minor": 0
      },
      "text/plain": [
       "Output()"
      ]
     },
     "metadata": {},
     "output_type": "display_data"
    },
    {
     "data": {
      "text/html": [
       "<pre style=\"white-space:pre;overflow-x:auto;line-height:normal;font-family:Menlo,'DejaVu Sans Mono',consolas,'Courier New',monospace\"></pre>\n"
      ],
      "text/plain": []
     },
     "metadata": {},
     "output_type": "display_data"
    },
    {
     "data": {
      "text/html": [
       "<pre style=\"white-space:pre;overflow-x:auto;line-height:normal;font-family:Menlo,'DejaVu Sans Mono',consolas,'Courier New',monospace\">\n",
       "</pre>\n"
      ],
      "text/plain": [
       "\n"
      ]
     },
     "metadata": {},
     "output_type": "display_data"
    },
    {
     "data": {
      "application/vnd.jupyter.widget-view+json": {
       "model_id": "feef777efe0f4ac8a26c249d0ed36a2b",
       "version_major": 2,
       "version_minor": 0
      },
      "text/plain": [
       "Output()"
      ]
     },
     "metadata": {},
     "output_type": "display_data"
    },
    {
     "data": {
      "text/html": [
       "<pre style=\"white-space:pre;overflow-x:auto;line-height:normal;font-family:Menlo,'DejaVu Sans Mono',consolas,'Courier New',monospace\"></pre>\n"
      ],
      "text/plain": []
     },
     "metadata": {},
     "output_type": "display_data"
    },
    {
     "data": {
      "text/html": [
       "<pre style=\"white-space:pre;overflow-x:auto;line-height:normal;font-family:Menlo,'DejaVu Sans Mono',consolas,'Courier New',monospace\">\n",
       "</pre>\n"
      ],
      "text/plain": [
       "\n"
      ]
     },
     "metadata": {},
     "output_type": "display_data"
    },
    {
     "data": {
      "application/vnd.jupyter.widget-view+json": {
       "model_id": "f222958f8cc34e028567aca40a134ab9",
       "version_major": 2,
       "version_minor": 0
      },
      "text/plain": [
       "Output()"
      ]
     },
     "metadata": {},
     "output_type": "display_data"
    },
    {
     "data": {
      "text/html": [
       "<pre style=\"white-space:pre;overflow-x:auto;line-height:normal;font-family:Menlo,'DejaVu Sans Mono',consolas,'Courier New',monospace\"></pre>\n"
      ],
      "text/plain": []
     },
     "metadata": {},
     "output_type": "display_data"
    },
    {
     "data": {
      "text/html": [
       "<pre style=\"white-space:pre;overflow-x:auto;line-height:normal;font-family:Menlo,'DejaVu Sans Mono',consolas,'Courier New',monospace\">\n",
       "</pre>\n"
      ],
      "text/plain": [
       "\n"
      ]
     },
     "metadata": {},
     "output_type": "display_data"
    },
    {
     "data": {
      "application/vnd.jupyter.widget-view+json": {
       "model_id": "144ed785869946348eb2166a6530e0ca",
       "version_major": 2,
       "version_minor": 0
      },
      "text/plain": [
       "Output()"
      ]
     },
     "metadata": {},
     "output_type": "display_data"
    },
    {
     "data": {
      "text/html": [
       "<pre style=\"white-space:pre;overflow-x:auto;line-height:normal;font-family:Menlo,'DejaVu Sans Mono',consolas,'Courier New',monospace\"></pre>\n"
      ],
      "text/plain": []
     },
     "metadata": {},
     "output_type": "display_data"
    },
    {
     "data": {
      "text/html": [
       "<pre style=\"white-space:pre;overflow-x:auto;line-height:normal;font-family:Menlo,'DejaVu Sans Mono',consolas,'Courier New',monospace\">\n",
       "</pre>\n"
      ],
      "text/plain": [
       "\n"
      ]
     },
     "metadata": {},
     "output_type": "display_data"
    },
    {
     "data": {
      "application/vnd.jupyter.widget-view+json": {
       "model_id": "69bfb1af11724a81986f9bf15a9e5559",
       "version_major": 2,
       "version_minor": 0
      },
      "text/plain": [
       "Output()"
      ]
     },
     "metadata": {},
     "output_type": "display_data"
    },
    {
     "data": {
      "text/html": [
       "<pre style=\"white-space:pre;overflow-x:auto;line-height:normal;font-family:Menlo,'DejaVu Sans Mono',consolas,'Courier New',monospace\"></pre>\n"
      ],
      "text/plain": []
     },
     "metadata": {},
     "output_type": "display_data"
    },
    {
     "data": {
      "text/html": [
       "<pre style=\"white-space:pre;overflow-x:auto;line-height:normal;font-family:Menlo,'DejaVu Sans Mono',consolas,'Courier New',monospace\">\n",
       "</pre>\n"
      ],
      "text/plain": [
       "\n"
      ]
     },
     "metadata": {},
     "output_type": "display_data"
    },
    {
     "data": {
      "application/vnd.jupyter.widget-view+json": {
       "model_id": "34c9a6f929fe42b29ea2d30afd4fe730",
       "version_major": 2,
       "version_minor": 0
      },
      "text/plain": [
       "Output()"
      ]
     },
     "metadata": {},
     "output_type": "display_data"
    },
    {
     "data": {
      "text/html": [
       "<pre style=\"white-space:pre;overflow-x:auto;line-height:normal;font-family:Menlo,'DejaVu Sans Mono',consolas,'Courier New',monospace\"></pre>\n"
      ],
      "text/plain": []
     },
     "metadata": {},
     "output_type": "display_data"
    },
    {
     "data": {
      "text/html": [
       "<pre style=\"white-space:pre;overflow-x:auto;line-height:normal;font-family:Menlo,'DejaVu Sans Mono',consolas,'Courier New',monospace\">\n",
       "</pre>\n"
      ],
      "text/plain": [
       "\n"
      ]
     },
     "metadata": {},
     "output_type": "display_data"
    },
    {
     "data": {
      "application/vnd.jupyter.widget-view+json": {
       "model_id": "2e8027861d984811a77cee798a817dd3",
       "version_major": 2,
       "version_minor": 0
      },
      "text/plain": [
       "Output()"
      ]
     },
     "metadata": {},
     "output_type": "display_data"
    },
    {
     "data": {
      "text/html": [
       "<pre style=\"white-space:pre;overflow-x:auto;line-height:normal;font-family:Menlo,'DejaVu Sans Mono',consolas,'Courier New',monospace\"></pre>\n"
      ],
      "text/plain": []
     },
     "metadata": {},
     "output_type": "display_data"
    },
    {
     "data": {
      "text/html": [
       "<pre style=\"white-space:pre;overflow-x:auto;line-height:normal;font-family:Menlo,'DejaVu Sans Mono',consolas,'Courier New',monospace\">\n",
       "</pre>\n"
      ],
      "text/plain": [
       "\n"
      ]
     },
     "metadata": {},
     "output_type": "display_data"
    },
    {
     "data": {
      "application/vnd.jupyter.widget-view+json": {
       "model_id": "2f735c54bb7f49e3b19dba5dbbc0c4ad",
       "version_major": 2,
       "version_minor": 0
      },
      "text/plain": [
       "Output()"
      ]
     },
     "metadata": {},
     "output_type": "display_data"
    },
    {
     "data": {
      "text/html": [
       "<pre style=\"white-space:pre;overflow-x:auto;line-height:normal;font-family:Menlo,'DejaVu Sans Mono',consolas,'Courier New',monospace\"></pre>\n"
      ],
      "text/plain": []
     },
     "metadata": {},
     "output_type": "display_data"
    },
    {
     "data": {
      "text/html": [
       "<pre style=\"white-space:pre;overflow-x:auto;line-height:normal;font-family:Menlo,'DejaVu Sans Mono',consolas,'Courier New',monospace\">\n",
       "</pre>\n"
      ],
      "text/plain": [
       "\n"
      ]
     },
     "metadata": {},
     "output_type": "display_data"
    },
    {
     "data": {
      "application/vnd.jupyter.widget-view+json": {
       "model_id": "658b154639fb4ff08021e3f9a71be24e",
       "version_major": 2,
       "version_minor": 0
      },
      "text/plain": [
       "Output()"
      ]
     },
     "metadata": {},
     "output_type": "display_data"
    },
    {
     "data": {
      "text/html": [
       "<pre style=\"white-space:pre;overflow-x:auto;line-height:normal;font-family:Menlo,'DejaVu Sans Mono',consolas,'Courier New',monospace\"></pre>\n"
      ],
      "text/plain": []
     },
     "metadata": {},
     "output_type": "display_data"
    },
    {
     "data": {
      "text/html": [
       "<pre style=\"white-space:pre;overflow-x:auto;line-height:normal;font-family:Menlo,'DejaVu Sans Mono',consolas,'Courier New',monospace\">\n",
       "</pre>\n"
      ],
      "text/plain": [
       "\n"
      ]
     },
     "metadata": {},
     "output_type": "display_data"
    },
    {
     "data": {
      "application/vnd.jupyter.widget-view+json": {
       "model_id": "0a42d797f3354f8484dedc5590637c07",
       "version_major": 2,
       "version_minor": 0
      },
      "text/plain": [
       "Output()"
      ]
     },
     "metadata": {},
     "output_type": "display_data"
    },
    {
     "data": {
      "text/html": [
       "<pre style=\"white-space:pre;overflow-x:auto;line-height:normal;font-family:Menlo,'DejaVu Sans Mono',consolas,'Courier New',monospace\"></pre>\n"
      ],
      "text/plain": []
     },
     "metadata": {},
     "output_type": "display_data"
    },
    {
     "data": {
      "text/html": [
       "<pre style=\"white-space:pre;overflow-x:auto;line-height:normal;font-family:Menlo,'DejaVu Sans Mono',consolas,'Courier New',monospace\">\n",
       "</pre>\n"
      ],
      "text/plain": [
       "\n"
      ]
     },
     "metadata": {},
     "output_type": "display_data"
    },
    {
     "data": {
      "application/vnd.jupyter.widget-view+json": {
       "model_id": "c257482b2bad4824a96c902675a8e106",
       "version_major": 2,
       "version_minor": 0
      },
      "text/plain": [
       "Output()"
      ]
     },
     "metadata": {},
     "output_type": "display_data"
    },
    {
     "data": {
      "text/html": [
       "<pre style=\"white-space:pre;overflow-x:auto;line-height:normal;font-family:Menlo,'DejaVu Sans Mono',consolas,'Courier New',monospace\"></pre>\n"
      ],
      "text/plain": []
     },
     "metadata": {},
     "output_type": "display_data"
    },
    {
     "data": {
      "text/html": [
       "<pre style=\"white-space:pre;overflow-x:auto;line-height:normal;font-family:Menlo,'DejaVu Sans Mono',consolas,'Courier New',monospace\">\n",
       "</pre>\n"
      ],
      "text/plain": [
       "\n"
      ]
     },
     "metadata": {},
     "output_type": "display_data"
    },
    {
     "data": {
      "application/vnd.jupyter.widget-view+json": {
       "model_id": "982b16a5b38942dbb6d3f30efcf7ec88",
       "version_major": 2,
       "version_minor": 0
      },
      "text/plain": [
       "Output()"
      ]
     },
     "metadata": {},
     "output_type": "display_data"
    },
    {
     "data": {
      "text/html": [
       "<pre style=\"white-space:pre;overflow-x:auto;line-height:normal;font-family:Menlo,'DejaVu Sans Mono',consolas,'Courier New',monospace\"></pre>\n"
      ],
      "text/plain": []
     },
     "metadata": {},
     "output_type": "display_data"
    },
    {
     "data": {
      "text/html": [
       "<pre style=\"white-space:pre;overflow-x:auto;line-height:normal;font-family:Menlo,'DejaVu Sans Mono',consolas,'Courier New',monospace\">\n",
       "</pre>\n"
      ],
      "text/plain": [
       "\n"
      ]
     },
     "metadata": {},
     "output_type": "display_data"
    },
    {
     "data": {
      "application/vnd.jupyter.widget-view+json": {
       "model_id": "b02ce4a4359a4d68bae240fa3b4db044",
       "version_major": 2,
       "version_minor": 0
      },
      "text/plain": [
       "Output()"
      ]
     },
     "metadata": {},
     "output_type": "display_data"
    },
    {
     "data": {
      "text/html": [
       "<pre style=\"white-space:pre;overflow-x:auto;line-height:normal;font-family:Menlo,'DejaVu Sans Mono',consolas,'Courier New',monospace\"></pre>\n"
      ],
      "text/plain": []
     },
     "metadata": {},
     "output_type": "display_data"
    },
    {
     "data": {
      "text/html": [
       "<pre style=\"white-space:pre;overflow-x:auto;line-height:normal;font-family:Menlo,'DejaVu Sans Mono',consolas,'Courier New',monospace\">\n",
       "</pre>\n"
      ],
      "text/plain": [
       "\n"
      ]
     },
     "metadata": {},
     "output_type": "display_data"
    },
    {
     "data": {
      "application/vnd.jupyter.widget-view+json": {
       "model_id": "05ee877451144d9f8bbfe68297d48813",
       "version_major": 2,
       "version_minor": 0
      },
      "text/plain": [
       "Output()"
      ]
     },
     "metadata": {},
     "output_type": "display_data"
    },
    {
     "data": {
      "text/html": [
       "<pre style=\"white-space:pre;overflow-x:auto;line-height:normal;font-family:Menlo,'DejaVu Sans Mono',consolas,'Courier New',monospace\"></pre>\n"
      ],
      "text/plain": []
     },
     "metadata": {},
     "output_type": "display_data"
    },
    {
     "data": {
      "text/html": [
       "<pre style=\"white-space:pre;overflow-x:auto;line-height:normal;font-family:Menlo,'DejaVu Sans Mono',consolas,'Courier New',monospace\">\n",
       "</pre>\n"
      ],
      "text/plain": [
       "\n"
      ]
     },
     "metadata": {},
     "output_type": "display_data"
    },
    {
     "data": {
      "application/vnd.jupyter.widget-view+json": {
       "model_id": "4a9ba2e77724466294e155d351ac763f",
       "version_major": 2,
       "version_minor": 0
      },
      "text/plain": [
       "Output()"
      ]
     },
     "metadata": {},
     "output_type": "display_data"
    },
    {
     "data": {
      "text/html": [
       "<pre style=\"white-space:pre;overflow-x:auto;line-height:normal;font-family:Menlo,'DejaVu Sans Mono',consolas,'Courier New',monospace\"></pre>\n"
      ],
      "text/plain": []
     },
     "metadata": {},
     "output_type": "display_data"
    },
    {
     "data": {
      "text/html": [
       "<pre style=\"white-space:pre;overflow-x:auto;line-height:normal;font-family:Menlo,'DejaVu Sans Mono',consolas,'Courier New',monospace\">\n",
       "</pre>\n"
      ],
      "text/plain": [
       "\n"
      ]
     },
     "metadata": {},
     "output_type": "display_data"
    },
    {
     "data": {
      "text/plain": [
       "(27, 266)"
      ]
     },
     "execution_count": 41,
     "metadata": {},
     "output_type": "execute_result"
    }
   ],
   "source": [
    "extract_keypoints_from_file(video_df.path[0]).shape"
   ]
  },
  {
   "cell_type": "code",
   "execution_count": 42,
   "id": "804a03cd",
   "metadata": {
    "ExecuteTime": {
     "end_time": "2023-07-30T21:29:24.541629Z",
     "start_time": "2023-07-30T21:29:24.536497Z"
    }
   },
   "outputs": [
    {
     "name": "stdout",
     "output_type": "stream",
     "text": [
      "27\n"
     ]
    }
   ],
   "source": [
    "cap = cv2.VideoCapture(video_df.path[0])\n",
    "length = int(cap.get(cv2.CAP_PROP_FRAME_COUNT))\n",
    "print( length )"
   ]
  },
  {
   "cell_type": "code",
   "execution_count": 43,
   "id": "0021d41c",
   "metadata": {
    "ExecuteTime": {
     "end_time": "2023-07-30T21:29:25.559310Z",
     "start_time": "2023-07-30T21:29:25.552804Z"
    }
   },
   "outputs": [
    {
     "data": {
      "text/plain": [
       "path              1405\n",
       "target            1405\n",
       "file              1405\n",
       "originaltarget    1405\n",
       "frequency         1405\n",
       "dtype: int64"
      ]
     },
     "execution_count": 43,
     "metadata": {},
     "output_type": "execute_result"
    }
   ],
   "source": [
    "video_df.count()"
   ]
  },
  {
   "cell_type": "code",
   "execution_count": 44,
   "id": "68dc8877",
   "metadata": {
    "ExecuteTime": {
     "end_time": "2023-07-30T21:29:28.618239Z",
     "start_time": "2023-07-30T21:29:28.615740Z"
    }
   },
   "outputs": [],
   "source": [
    "def frames_from_file(filepath):\n",
    "    cap = cv2.VideoCapture(filepath)\n",
    "    length = int(cap.get(cv2.CAP_PROP_FRAME_COUNT))\n",
    "    return length"
   ]
  },
  {
   "cell_type": "code",
   "execution_count": 45,
   "id": "b21f96b0",
   "metadata": {
    "ExecuteTime": {
     "end_time": "2023-07-30T21:29:30.244044Z",
     "start_time": "2023-07-30T21:29:30.237087Z"
    }
   },
   "outputs": [
    {
     "data": {
      "text/plain": [
       "43"
      ]
     },
     "execution_count": 45,
     "metadata": {},
     "output_type": "execute_result"
    }
   ],
   "source": [
    "frames_from_file('file://home/kristian/WLASL/videos_organized/address/01018.mp4')"
   ]
  },
  {
   "cell_type": "code",
   "execution_count": 46,
   "id": "630d4e7a",
   "metadata": {
    "ExecuteTime": {
     "end_time": "2023-07-30T21:29:40.156254Z",
     "start_time": "2023-07-30T21:29:31.816189Z"
    }
   },
   "outputs": [
    {
     "name": "stderr",
     "output_type": "stream",
     "text": [
      "100%|██████████████████████████████████████| 1405/1405 [00:08<00:00, 168.60it/s]\n"
     ]
    }
   ],
   "source": [
    "tqdm.pandas()\n",
    "video_df['frames'] = video_df['path'].progress_apply(frames_from_file)"
   ]
  },
  {
   "cell_type": "code",
   "execution_count": 47,
   "id": "0b26d075",
   "metadata": {
    "ExecuteTime": {
     "end_time": "2023-07-30T21:30:02.540624Z",
     "start_time": "2023-07-30T21:30:02.529864Z"
    }
   },
   "outputs": [
    {
     "data": {
      "text/html": [
       "<div>\n",
       "<style scoped>\n",
       "    .dataframe tbody tr th:only-of-type {\n",
       "        vertical-align: middle;\n",
       "    }\n",
       "\n",
       "    .dataframe tbody tr th {\n",
       "        vertical-align: top;\n",
       "    }\n",
       "\n",
       "    .dataframe thead th {\n",
       "        text-align: right;\n",
       "    }\n",
       "</style>\n",
       "<table border=\"1\" class=\"dataframe\">\n",
       "  <thead>\n",
       "    <tr style=\"text-align: right;\">\n",
       "      <th></th>\n",
       "      <th>path</th>\n",
       "      <th>target</th>\n",
       "      <th>file</th>\n",
       "      <th>originaltarget</th>\n",
       "      <th>frequency</th>\n",
       "      <th>frames</th>\n",
       "    </tr>\n",
       "  </thead>\n",
       "  <tbody>\n",
       "    <tr>\n",
       "      <th>0</th>\n",
       "      <td>file:/home/kristian/WLASL/videos_organized/acc...</td>\n",
       "      <td>accident</td>\n",
       "      <td>00618.mp4</td>\n",
       "      <td>accident</td>\n",
       "      <td>17</td>\n",
       "      <td>27</td>\n",
       "    </tr>\n",
       "    <tr>\n",
       "      <th>1</th>\n",
       "      <td>file:/home/kristian/WLASL/videos_organized/acc...</td>\n",
       "      <td>accident</td>\n",
       "      <td>00623.mp4</td>\n",
       "      <td>accident</td>\n",
       "      <td>17</td>\n",
       "      <td>104</td>\n",
       "    </tr>\n",
       "    <tr>\n",
       "      <th>2</th>\n",
       "      <td>file:/home/kristian/WLASL/videos_organized/acc...</td>\n",
       "      <td>accident</td>\n",
       "      <td>00624.mp4</td>\n",
       "      <td>accident</td>\n",
       "      <td>17</td>\n",
       "      <td>109</td>\n",
       "    </tr>\n",
       "    <tr>\n",
       "      <th>3</th>\n",
       "      <td>file:/home/kristian/WLASL/videos_organized/acc...</td>\n",
       "      <td>accident</td>\n",
       "      <td>00625.mp4</td>\n",
       "      <td>accident</td>\n",
       "      <td>17</td>\n",
       "      <td>34</td>\n",
       "    </tr>\n",
       "    <tr>\n",
       "      <th>4</th>\n",
       "      <td>file:/home/kristian/WLASL/videos_organized/acc...</td>\n",
       "      <td>accident</td>\n",
       "      <td>00626.mp4</td>\n",
       "      <td>accident</td>\n",
       "      <td>17</td>\n",
       "      <td>44</td>\n",
       "    </tr>\n",
       "  </tbody>\n",
       "</table>\n",
       "</div>"
      ],
      "text/plain": [
       "                                                path    target       file  \\\n",
       "0  file:/home/kristian/WLASL/videos_organized/acc...  accident  00618.mp4   \n",
       "1  file:/home/kristian/WLASL/videos_organized/acc...  accident  00623.mp4   \n",
       "2  file:/home/kristian/WLASL/videos_organized/acc...  accident  00624.mp4   \n",
       "3  file:/home/kristian/WLASL/videos_organized/acc...  accident  00625.mp4   \n",
       "4  file:/home/kristian/WLASL/videos_organized/acc...  accident  00626.mp4   \n",
       "\n",
       "  originaltarget  frequency  frames  \n",
       "0       accident         17      27  \n",
       "1       accident         17     104  \n",
       "2       accident         17     109  \n",
       "3       accident         17      34  \n",
       "4       accident         17      44  "
      ]
     },
     "execution_count": 47,
     "metadata": {},
     "output_type": "execute_result"
    }
   ],
   "source": [
    "video_df.head()"
   ]
  },
  {
   "cell_type": "code",
   "execution_count": 48,
   "id": "1d569287",
   "metadata": {
    "ExecuteTime": {
     "end_time": "2023-07-30T21:30:04.104053Z",
     "start_time": "2023-07-30T21:30:04.100152Z"
    }
   },
   "outputs": [
    {
     "data": {
      "text/plain": [
       "212"
      ]
     },
     "execution_count": 48,
     "metadata": {},
     "output_type": "execute_result"
    }
   ],
   "source": [
    "video_df['frames'].max()"
   ]
  },
  {
   "cell_type": "code",
   "execution_count": 49,
   "id": "d30d5545",
   "metadata": {
    "ExecuteTime": {
     "end_time": "2023-07-30T21:30:04.984830Z",
     "start_time": "2023-07-30T21:30:04.975691Z"
    }
   },
   "outputs": [
    {
     "data": {
      "text/html": [
       "<div>\n",
       "<style scoped>\n",
       "    .dataframe tbody tr th:only-of-type {\n",
       "        vertical-align: middle;\n",
       "    }\n",
       "\n",
       "    .dataframe tbody tr th {\n",
       "        vertical-align: top;\n",
       "    }\n",
       "\n",
       "    .dataframe thead th {\n",
       "        text-align: right;\n",
       "    }\n",
       "</style>\n",
       "<table border=\"1\" class=\"dataframe\">\n",
       "  <thead>\n",
       "    <tr style=\"text-align: right;\">\n",
       "      <th></th>\n",
       "      <th>path</th>\n",
       "      <th>target</th>\n",
       "      <th>file</th>\n",
       "      <th>originaltarget</th>\n",
       "      <th>frequency</th>\n",
       "      <th>frames</th>\n",
       "    </tr>\n",
       "  </thead>\n",
       "  <tbody>\n",
       "    <tr>\n",
       "      <th>0</th>\n",
       "      <td>file:/home/kristian/WLASL/videos_organized/acc...</td>\n",
       "      <td>accident</td>\n",
       "      <td>00618.mp4</td>\n",
       "      <td>accident</td>\n",
       "      <td>17</td>\n",
       "      <td>27</td>\n",
       "    </tr>\n",
       "    <tr>\n",
       "      <th>1</th>\n",
       "      <td>file:/home/kristian/WLASL/videos_organized/acc...</td>\n",
       "      <td>accident</td>\n",
       "      <td>00623.mp4</td>\n",
       "      <td>accident</td>\n",
       "      <td>17</td>\n",
       "      <td>104</td>\n",
       "    </tr>\n",
       "    <tr>\n",
       "      <th>2</th>\n",
       "      <td>file:/home/kristian/WLASL/videos_organized/acc...</td>\n",
       "      <td>accident</td>\n",
       "      <td>00624.mp4</td>\n",
       "      <td>accident</td>\n",
       "      <td>17</td>\n",
       "      <td>109</td>\n",
       "    </tr>\n",
       "    <tr>\n",
       "      <th>3</th>\n",
       "      <td>file:/home/kristian/WLASL/videos_organized/acc...</td>\n",
       "      <td>accident</td>\n",
       "      <td>00625.mp4</td>\n",
       "      <td>accident</td>\n",
       "      <td>17</td>\n",
       "      <td>34</td>\n",
       "    </tr>\n",
       "    <tr>\n",
       "      <th>4</th>\n",
       "      <td>file:/home/kristian/WLASL/videos_organized/acc...</td>\n",
       "      <td>accident</td>\n",
       "      <td>00626.mp4</td>\n",
       "      <td>accident</td>\n",
       "      <td>17</td>\n",
       "      <td>44</td>\n",
       "    </tr>\n",
       "    <tr>\n",
       "      <th>5</th>\n",
       "      <td>file:/home/kristian/WLASL/videos_organized/acc...</td>\n",
       "      <td>accident</td>\n",
       "      <td>00627.mp4</td>\n",
       "      <td>accident</td>\n",
       "      <td>17</td>\n",
       "      <td>31</td>\n",
       "    </tr>\n",
       "    <tr>\n",
       "      <th>6</th>\n",
       "      <td>file:/home/kristian/WLASL/videos_organized/acc...</td>\n",
       "      <td>accident</td>\n",
       "      <td>00628.mp4</td>\n",
       "      <td>accident</td>\n",
       "      <td>17</td>\n",
       "      <td>35</td>\n",
       "    </tr>\n",
       "    <tr>\n",
       "      <th>7</th>\n",
       "      <td>file:/home/kristian/WLASL/videos_organized/acc...</td>\n",
       "      <td>accident</td>\n",
       "      <td>00629.mp4</td>\n",
       "      <td>accident</td>\n",
       "      <td>17</td>\n",
       "      <td>149</td>\n",
       "    </tr>\n",
       "    <tr>\n",
       "      <th>8</th>\n",
       "      <td>file:/home/kristian/WLASL/videos_organized/acc...</td>\n",
       "      <td>accident</td>\n",
       "      <td>00631.mp4</td>\n",
       "      <td>accident</td>\n",
       "      <td>17</td>\n",
       "      <td>76</td>\n",
       "    </tr>\n",
       "    <tr>\n",
       "      <th>9</th>\n",
       "      <td>file:/home/kristian/WLASL/videos_organized/acc...</td>\n",
       "      <td>accident</td>\n",
       "      <td>00632.mp4</td>\n",
       "      <td>accident</td>\n",
       "      <td>17</td>\n",
       "      <td>55</td>\n",
       "    </tr>\n",
       "  </tbody>\n",
       "</table>\n",
       "</div>"
      ],
      "text/plain": [
       "                                                path    target       file  \\\n",
       "0  file:/home/kristian/WLASL/videos_organized/acc...  accident  00618.mp4   \n",
       "1  file:/home/kristian/WLASL/videos_organized/acc...  accident  00623.mp4   \n",
       "2  file:/home/kristian/WLASL/videos_organized/acc...  accident  00624.mp4   \n",
       "3  file:/home/kristian/WLASL/videos_organized/acc...  accident  00625.mp4   \n",
       "4  file:/home/kristian/WLASL/videos_organized/acc...  accident  00626.mp4   \n",
       "5  file:/home/kristian/WLASL/videos_organized/acc...  accident  00627.mp4   \n",
       "6  file:/home/kristian/WLASL/videos_organized/acc...  accident  00628.mp4   \n",
       "7  file:/home/kristian/WLASL/videos_organized/acc...  accident  00629.mp4   \n",
       "8  file:/home/kristian/WLASL/videos_organized/acc...  accident  00631.mp4   \n",
       "9  file:/home/kristian/WLASL/videos_organized/acc...  accident  00632.mp4   \n",
       "\n",
       "  originaltarget  frequency  frames  \n",
       "0       accident         17      27  \n",
       "1       accident         17     104  \n",
       "2       accident         17     109  \n",
       "3       accident         17      34  \n",
       "4       accident         17      44  \n",
       "5       accident         17      31  \n",
       "6       accident         17      35  \n",
       "7       accident         17     149  \n",
       "8       accident         17      76  \n",
       "9       accident         17      55  "
      ]
     },
     "execution_count": 49,
     "metadata": {},
     "output_type": "execute_result"
    }
   ],
   "source": [
    "video_df.head(10)"
   ]
  },
  {
   "cell_type": "code",
   "execution_count": 50,
   "id": "8e8224b3",
   "metadata": {
    "ExecuteTime": {
     "end_time": "2023-07-31T20:13:15.541857Z",
     "start_time": "2023-07-30T21:30:25.595710Z"
    },
    "scrolled": true
   },
   "outputs": [
    {
     "name": "stderr",
     "output_type": "stream",
     "text": [
      "\r",
      "  0%|                                                  | 0/1405 [00:00<?, ?it/s]"
     ]
    },
    {
     "data": {
      "application/vnd.jupyter.widget-view+json": {
       "model_id": "7c4ccb7dfd6f40bdb105b904d0d17fcc",
       "version_major": 2,
       "version_minor": 0
      },
      "text/plain": [
       "Output()"
      ]
     },
     "metadata": {},
     "output_type": "display_data"
    },
    {
     "data": {
      "text/html": [
       "<pre style=\"white-space:pre;overflow-x:auto;line-height:normal;font-family:Menlo,'DejaVu Sans Mono',consolas,'Courier New',monospace\"></pre>\n"
      ],
      "text/plain": []
     },
     "metadata": {},
     "output_type": "display_data"
    },
    {
     "data": {
      "text/html": [
       "<pre style=\"white-space:pre;overflow-x:auto;line-height:normal;font-family:Menlo,'DejaVu Sans Mono',consolas,'Courier New',monospace\">\n",
       "</pre>\n"
      ],
      "text/plain": [
       "\n"
      ]
     },
     "metadata": {},
     "output_type": "display_data"
    },
    {
     "data": {
      "application/vnd.jupyter.widget-view+json": {
       "model_id": "8cb19c78bac04d72862c0d77098f6138",
       "version_major": 2,
       "version_minor": 0
      },
      "text/plain": [
       "Output()"
      ]
     },
     "metadata": {},
     "output_type": "display_data"
    },
    {
     "data": {
      "text/html": [
       "<pre style=\"white-space:pre;overflow-x:auto;line-height:normal;font-family:Menlo,'DejaVu Sans Mono',consolas,'Courier New',monospace\"></pre>\n"
      ],
      "text/plain": []
     },
     "metadata": {},
     "output_type": "display_data"
    },
    {
     "data": {
      "text/html": [
       "<pre style=\"white-space:pre;overflow-x:auto;line-height:normal;font-family:Menlo,'DejaVu Sans Mono',consolas,'Courier New',monospace\">\n",
       "</pre>\n"
      ],
      "text/plain": [
       "\n"
      ]
     },
     "metadata": {},
     "output_type": "display_data"
    },
    {
     "data": {
      "application/vnd.jupyter.widget-view+json": {
       "model_id": "9c209cf3f1b04cb0896f24ae09981284",
       "version_major": 2,
       "version_minor": 0
      },
      "text/plain": [
       "Output()"
      ]
     },
     "metadata": {},
     "output_type": "display_data"
    },
    {
     "data": {
      "text/html": [
       "<pre style=\"white-space:pre;overflow-x:auto;line-height:normal;font-family:Menlo,'DejaVu Sans Mono',consolas,'Courier New',monospace\"></pre>\n"
      ],
      "text/plain": []
     },
     "metadata": {},
     "output_type": "display_data"
    },
    {
     "data": {
      "text/html": [
       "<pre style=\"white-space:pre;overflow-x:auto;line-height:normal;font-family:Menlo,'DejaVu Sans Mono',consolas,'Courier New',monospace\">\n",
       "</pre>\n"
      ],
      "text/plain": [
       "\n"
      ]
     },
     "metadata": {},
     "output_type": "display_data"
    },
    {
     "data": {
      "application/vnd.jupyter.widget-view+json": {
       "model_id": "f28def291a8443fdb3e8bca2340d4463",
       "version_major": 2,
       "version_minor": 0
      },
      "text/plain": [
       "Output()"
      ]
     },
     "metadata": {},
     "output_type": "display_data"
    },
    {
     "data": {
      "text/html": [
       "<pre style=\"white-space:pre;overflow-x:auto;line-height:normal;font-family:Menlo,'DejaVu Sans Mono',consolas,'Courier New',monospace\"></pre>\n"
      ],
      "text/plain": []
     },
     "metadata": {},
     "output_type": "display_data"
    },
    {
     "data": {
      "text/html": [
       "<pre style=\"white-space:pre;overflow-x:auto;line-height:normal;font-family:Menlo,'DejaVu Sans Mono',consolas,'Courier New',monospace\">\n",
       "</pre>\n"
      ],
      "text/plain": [
       "\n"
      ]
     },
     "metadata": {},
     "output_type": "display_data"
    },
    {
     "data": {
      "application/vnd.jupyter.widget-view+json": {
       "model_id": "a4e5fa7b6a524695a6f909def1999257",
       "version_major": 2,
       "version_minor": 0
      },
      "text/plain": [
       "Output()"
      ]
     },
     "metadata": {},
     "output_type": "display_data"
    },
    {
     "data": {
      "text/html": [
       "<pre style=\"white-space:pre;overflow-x:auto;line-height:normal;font-family:Menlo,'DejaVu Sans Mono',consolas,'Courier New',monospace\"></pre>\n"
      ],
      "text/plain": []
     },
     "metadata": {},
     "output_type": "display_data"
    },
    {
     "data": {
      "text/html": [
       "<pre style=\"white-space:pre;overflow-x:auto;line-height:normal;font-family:Menlo,'DejaVu Sans Mono',consolas,'Courier New',monospace\">\n",
       "</pre>\n"
      ],
      "text/plain": [
       "\n"
      ]
     },
     "metadata": {},
     "output_type": "display_data"
    },
    {
     "data": {
      "application/vnd.jupyter.widget-view+json": {
       "model_id": "36d69a9e21ee4ffe93aff883c6b1102a",
       "version_major": 2,
       "version_minor": 0
      },
      "text/plain": [
       "Output()"
      ]
     },
     "metadata": {},
     "output_type": "display_data"
    },
    {
     "data": {
      "text/html": [
       "<pre style=\"white-space:pre;overflow-x:auto;line-height:normal;font-family:Menlo,'DejaVu Sans Mono',consolas,'Courier New',monospace\"></pre>\n"
      ],
      "text/plain": []
     },
     "metadata": {},
     "output_type": "display_data"
    },
    {
     "data": {
      "text/html": [
       "<pre style=\"white-space:pre;overflow-x:auto;line-height:normal;font-family:Menlo,'DejaVu Sans Mono',consolas,'Courier New',monospace\">\n",
       "</pre>\n"
      ],
      "text/plain": [
       "\n"
      ]
     },
     "metadata": {},
     "output_type": "display_data"
    },
    {
     "data": {
      "application/vnd.jupyter.widget-view+json": {
       "model_id": "54d40a8e323c485b8aff851a7c4b8039",
       "version_major": 2,
       "version_minor": 0
      },
      "text/plain": [
       "Output()"
      ]
     },
     "metadata": {},
     "output_type": "display_data"
    },
    {
     "data": {
      "text/html": [
       "<pre style=\"white-space:pre;overflow-x:auto;line-height:normal;font-family:Menlo,'DejaVu Sans Mono',consolas,'Courier New',monospace\"></pre>\n"
      ],
      "text/plain": []
     },
     "metadata": {},
     "output_type": "display_data"
    },
    {
     "data": {
      "text/html": [
       "<pre style=\"white-space:pre;overflow-x:auto;line-height:normal;font-family:Menlo,'DejaVu Sans Mono',consolas,'Courier New',monospace\">\n",
       "</pre>\n"
      ],
      "text/plain": [
       "\n"
      ]
     },
     "metadata": {},
     "output_type": "display_data"
    },
    {
     "data": {
      "application/vnd.jupyter.widget-view+json": {
       "model_id": "5edaf777e2db404ab21b49c67ad0a8cf",
       "version_major": 2,
       "version_minor": 0
      },
      "text/plain": [
       "Output()"
      ]
     },
     "metadata": {},
     "output_type": "display_data"
    },
    {
     "data": {
      "text/html": [
       "<pre style=\"white-space:pre;overflow-x:auto;line-height:normal;font-family:Menlo,'DejaVu Sans Mono',consolas,'Courier New',monospace\"></pre>\n"
      ],
      "text/plain": []
     },
     "metadata": {},
     "output_type": "display_data"
    },
    {
     "data": {
      "text/html": [
       "<pre style=\"white-space:pre;overflow-x:auto;line-height:normal;font-family:Menlo,'DejaVu Sans Mono',consolas,'Courier New',monospace\">\n",
       "</pre>\n"
      ],
      "text/plain": [
       "\n"
      ]
     },
     "metadata": {},
     "output_type": "display_data"
    },
    {
     "data": {
      "application/vnd.jupyter.widget-view+json": {
       "model_id": "8af31faec4bf48cea0e252df677e170c",
       "version_major": 2,
       "version_minor": 0
      },
      "text/plain": [
       "Output()"
      ]
     },
     "metadata": {},
     "output_type": "display_data"
    },
    {
     "data": {
      "text/html": [
       "<pre style=\"white-space:pre;overflow-x:auto;line-height:normal;font-family:Menlo,'DejaVu Sans Mono',consolas,'Courier New',monospace\"></pre>\n"
      ],
      "text/plain": []
     },
     "metadata": {},
     "output_type": "display_data"
    },
    {
     "data": {
      "text/html": [
       "<pre style=\"white-space:pre;overflow-x:auto;line-height:normal;font-family:Menlo,'DejaVu Sans Mono',consolas,'Courier New',monospace\">\n",
       "</pre>\n"
      ],
      "text/plain": [
       "\n"
      ]
     },
     "metadata": {},
     "output_type": "display_data"
    },
    {
     "data": {
      "application/vnd.jupyter.widget-view+json": {
       "model_id": "398232c619b146c4af36b5e6538fcc9a",
       "version_major": 2,
       "version_minor": 0
      },
      "text/plain": [
       "Output()"
      ]
     },
     "metadata": {},
     "output_type": "display_data"
    },
    {
     "data": {
      "text/html": [
       "<pre style=\"white-space:pre;overflow-x:auto;line-height:normal;font-family:Menlo,'DejaVu Sans Mono',consolas,'Courier New',monospace\"></pre>\n"
      ],
      "text/plain": []
     },
     "metadata": {},
     "output_type": "display_data"
    },
    {
     "data": {
      "text/html": [
       "<pre style=\"white-space:pre;overflow-x:auto;line-height:normal;font-family:Menlo,'DejaVu Sans Mono',consolas,'Courier New',monospace\">\n",
       "</pre>\n"
      ],
      "text/plain": [
       "\n"
      ]
     },
     "metadata": {},
     "output_type": "display_data"
    },
    {
     "data": {
      "application/vnd.jupyter.widget-view+json": {
       "model_id": "c4a06e7b74524779b7a14265ef144027",
       "version_major": 2,
       "version_minor": 0
      },
      "text/plain": [
       "Output()"
      ]
     },
     "metadata": {},
     "output_type": "display_data"
    },
    {
     "data": {
      "text/html": [
       "<pre style=\"white-space:pre;overflow-x:auto;line-height:normal;font-family:Menlo,'DejaVu Sans Mono',consolas,'Courier New',monospace\"></pre>\n"
      ],
      "text/plain": []
     },
     "metadata": {},
     "output_type": "display_data"
    },
    {
     "data": {
      "text/html": [
       "<pre style=\"white-space:pre;overflow-x:auto;line-height:normal;font-family:Menlo,'DejaVu Sans Mono',consolas,'Courier New',monospace\">\n",
       "</pre>\n"
      ],
      "text/plain": [
       "\n"
      ]
     },
     "metadata": {},
     "output_type": "display_data"
    },
    {
     "data": {
      "application/vnd.jupyter.widget-view+json": {
       "model_id": "5f8d206a43db47b4bd75cc531c2202ff",
       "version_major": 2,
       "version_minor": 0
      },
      "text/plain": [
       "Output()"
      ]
     },
     "metadata": {},
     "output_type": "display_data"
    },
    {
     "data": {
      "text/html": [
       "<pre style=\"white-space:pre;overflow-x:auto;line-height:normal;font-family:Menlo,'DejaVu Sans Mono',consolas,'Courier New',monospace\"></pre>\n"
      ],
      "text/plain": []
     },
     "metadata": {},
     "output_type": "display_data"
    },
    {
     "data": {
      "text/html": [
       "<pre style=\"white-space:pre;overflow-x:auto;line-height:normal;font-family:Menlo,'DejaVu Sans Mono',consolas,'Courier New',monospace\">\n",
       "</pre>\n"
      ],
      "text/plain": [
       "\n"
      ]
     },
     "metadata": {},
     "output_type": "display_data"
    },
    {
     "data": {
      "application/vnd.jupyter.widget-view+json": {
       "model_id": "2957281402fd427e86e5e1914a3e9451",
       "version_major": 2,
       "version_minor": 0
      },
      "text/plain": [
       "Output()"
      ]
     },
     "metadata": {},
     "output_type": "display_data"
    },
    {
     "data": {
      "text/html": [
       "<pre style=\"white-space:pre;overflow-x:auto;line-height:normal;font-family:Menlo,'DejaVu Sans Mono',consolas,'Courier New',monospace\"></pre>\n"
      ],
      "text/plain": []
     },
     "metadata": {},
     "output_type": "display_data"
    },
    {
     "data": {
      "text/html": [
       "<pre style=\"white-space:pre;overflow-x:auto;line-height:normal;font-family:Menlo,'DejaVu Sans Mono',consolas,'Courier New',monospace\">\n",
       "</pre>\n"
      ],
      "text/plain": [
       "\n"
      ]
     },
     "metadata": {},
     "output_type": "display_data"
    },
    {
     "data": {
      "application/vnd.jupyter.widget-view+json": {
       "model_id": "443c4a8acdf84627baf10e52f6e00886",
       "version_major": 2,
       "version_minor": 0
      },
      "text/plain": [
       "Output()"
      ]
     },
     "metadata": {},
     "output_type": "display_data"
    },
    {
     "data": {
      "text/html": [
       "<pre style=\"white-space:pre;overflow-x:auto;line-height:normal;font-family:Menlo,'DejaVu Sans Mono',consolas,'Courier New',monospace\"></pre>\n"
      ],
      "text/plain": []
     },
     "metadata": {},
     "output_type": "display_data"
    },
    {
     "data": {
      "text/html": [
       "<pre style=\"white-space:pre;overflow-x:auto;line-height:normal;font-family:Menlo,'DejaVu Sans Mono',consolas,'Courier New',monospace\">\n",
       "</pre>\n"
      ],
      "text/plain": [
       "\n"
      ]
     },
     "metadata": {},
     "output_type": "display_data"
    },
    {
     "data": {
      "application/vnd.jupyter.widget-view+json": {
       "model_id": "86dd56f61af8462d8d382431cfe4a882",
       "version_major": 2,
       "version_minor": 0
      },
      "text/plain": [
       "Output()"
      ]
     },
     "metadata": {},
     "output_type": "display_data"
    },
    {
     "data": {
      "text/html": [
       "<pre style=\"white-space:pre;overflow-x:auto;line-height:normal;font-family:Menlo,'DejaVu Sans Mono',consolas,'Courier New',monospace\"></pre>\n"
      ],
      "text/plain": []
     },
     "metadata": {},
     "output_type": "display_data"
    },
    {
     "data": {
      "text/html": [
       "<pre style=\"white-space:pre;overflow-x:auto;line-height:normal;font-family:Menlo,'DejaVu Sans Mono',consolas,'Courier New',monospace\">\n",
       "</pre>\n"
      ],
      "text/plain": [
       "\n"
      ]
     },
     "metadata": {},
     "output_type": "display_data"
    },
    {
     "data": {
      "application/vnd.jupyter.widget-view+json": {
       "model_id": "4f78c6ae54724d79955233bc6e2d8dcc",
       "version_major": 2,
       "version_minor": 0
      },
      "text/plain": [
       "Output()"
      ]
     },
     "metadata": {},
     "output_type": "display_data"
    },
    {
     "data": {
      "text/html": [
       "<pre style=\"white-space:pre;overflow-x:auto;line-height:normal;font-family:Menlo,'DejaVu Sans Mono',consolas,'Courier New',monospace\"></pre>\n"
      ],
      "text/plain": []
     },
     "metadata": {},
     "output_type": "display_data"
    },
    {
     "data": {
      "text/html": [
       "<pre style=\"white-space:pre;overflow-x:auto;line-height:normal;font-family:Menlo,'DejaVu Sans Mono',consolas,'Courier New',monospace\">\n",
       "</pre>\n"
      ],
      "text/plain": [
       "\n"
      ]
     },
     "metadata": {},
     "output_type": "display_data"
    },
    {
     "data": {
      "application/vnd.jupyter.widget-view+json": {
       "model_id": "b0af39db68604f15a739bbb4dd877dfb",
       "version_major": 2,
       "version_minor": 0
      },
      "text/plain": [
       "Output()"
      ]
     },
     "metadata": {},
     "output_type": "display_data"
    },
    {
     "data": {
      "text/html": [
       "<pre style=\"white-space:pre;overflow-x:auto;line-height:normal;font-family:Menlo,'DejaVu Sans Mono',consolas,'Courier New',monospace\"></pre>\n"
      ],
      "text/plain": []
     },
     "metadata": {},
     "output_type": "display_data"
    },
    {
     "data": {
      "text/html": [
       "<pre style=\"white-space:pre;overflow-x:auto;line-height:normal;font-family:Menlo,'DejaVu Sans Mono',consolas,'Courier New',monospace\">\n",
       "</pre>\n"
      ],
      "text/plain": [
       "\n"
      ]
     },
     "metadata": {},
     "output_type": "display_data"
    },
    {
     "data": {
      "application/vnd.jupyter.widget-view+json": {
       "model_id": "803a31a4f10b4e96bf6707a1c97797b3",
       "version_major": 2,
       "version_minor": 0
      },
      "text/plain": [
       "Output()"
      ]
     },
     "metadata": {},
     "output_type": "display_data"
    },
    {
     "data": {
      "text/html": [
       "<pre style=\"white-space:pre;overflow-x:auto;line-height:normal;font-family:Menlo,'DejaVu Sans Mono',consolas,'Courier New',monospace\"></pre>\n"
      ],
      "text/plain": []
     },
     "metadata": {},
     "output_type": "display_data"
    },
    {
     "data": {
      "text/html": [
       "<pre style=\"white-space:pre;overflow-x:auto;line-height:normal;font-family:Menlo,'DejaVu Sans Mono',consolas,'Courier New',monospace\">\n",
       "</pre>\n"
      ],
      "text/plain": [
       "\n"
      ]
     },
     "metadata": {},
     "output_type": "display_data"
    },
    {
     "data": {
      "application/vnd.jupyter.widget-view+json": {
       "model_id": "584c83ee1215460cb812bff79eb8ee76",
       "version_major": 2,
       "version_minor": 0
      },
      "text/plain": [
       "Output()"
      ]
     },
     "metadata": {},
     "output_type": "display_data"
    },
    {
     "data": {
      "text/html": [
       "<pre style=\"white-space:pre;overflow-x:auto;line-height:normal;font-family:Menlo,'DejaVu Sans Mono',consolas,'Courier New',monospace\"></pre>\n"
      ],
      "text/plain": []
     },
     "metadata": {},
     "output_type": "display_data"
    },
    {
     "data": {
      "text/html": [
       "<pre style=\"white-space:pre;overflow-x:auto;line-height:normal;font-family:Menlo,'DejaVu Sans Mono',consolas,'Courier New',monospace\">\n",
       "</pre>\n"
      ],
      "text/plain": [
       "\n"
      ]
     },
     "metadata": {},
     "output_type": "display_data"
    },
    {
     "data": {
      "application/vnd.jupyter.widget-view+json": {
       "model_id": "fff553b01fe34421b61542ea143a87a3",
       "version_major": 2,
       "version_minor": 0
      },
      "text/plain": [
       "Output()"
      ]
     },
     "metadata": {},
     "output_type": "display_data"
    },
    {
     "data": {
      "text/html": [
       "<pre style=\"white-space:pre;overflow-x:auto;line-height:normal;font-family:Menlo,'DejaVu Sans Mono',consolas,'Courier New',monospace\"></pre>\n"
      ],
      "text/plain": []
     },
     "metadata": {},
     "output_type": "display_data"
    },
    {
     "data": {
      "text/html": [
       "<pre style=\"white-space:pre;overflow-x:auto;line-height:normal;font-family:Menlo,'DejaVu Sans Mono',consolas,'Courier New',monospace\">\n",
       "</pre>\n"
      ],
      "text/plain": [
       "\n"
      ]
     },
     "metadata": {},
     "output_type": "display_data"
    },
    {
     "data": {
      "application/vnd.jupyter.widget-view+json": {
       "model_id": "95e7766fd8fa4a1991294de11ac531f4",
       "version_major": 2,
       "version_minor": 0
      },
      "text/plain": [
       "Output()"
      ]
     },
     "metadata": {},
     "output_type": "display_data"
    },
    {
     "data": {
      "text/html": [
       "<pre style=\"white-space:pre;overflow-x:auto;line-height:normal;font-family:Menlo,'DejaVu Sans Mono',consolas,'Courier New',monospace\"></pre>\n"
      ],
      "text/plain": []
     },
     "metadata": {},
     "output_type": "display_data"
    },
    {
     "data": {
      "text/html": [
       "<pre style=\"white-space:pre;overflow-x:auto;line-height:normal;font-family:Menlo,'DejaVu Sans Mono',consolas,'Courier New',monospace\">\n",
       "</pre>\n"
      ],
      "text/plain": [
       "\n"
      ]
     },
     "metadata": {},
     "output_type": "display_data"
    },
    {
     "data": {
      "application/vnd.jupyter.widget-view+json": {
       "model_id": "73cacd8e4a694fc789daf07454aee4c9",
       "version_major": 2,
       "version_minor": 0
      },
      "text/plain": [
       "Output()"
      ]
     },
     "metadata": {},
     "output_type": "display_data"
    },
    {
     "data": {
      "text/html": [
       "<pre style=\"white-space:pre;overflow-x:auto;line-height:normal;font-family:Menlo,'DejaVu Sans Mono',consolas,'Courier New',monospace\"></pre>\n"
      ],
      "text/plain": []
     },
     "metadata": {},
     "output_type": "display_data"
    },
    {
     "data": {
      "text/html": [
       "<pre style=\"white-space:pre;overflow-x:auto;line-height:normal;font-family:Menlo,'DejaVu Sans Mono',consolas,'Courier New',monospace\">\n",
       "</pre>\n"
      ],
      "text/plain": [
       "\n"
      ]
     },
     "metadata": {},
     "output_type": "display_data"
    },
    {
     "data": {
      "application/vnd.jupyter.widget-view+json": {
       "model_id": "edf601e409524de49458886aa4771104",
       "version_major": 2,
       "version_minor": 0
      },
      "text/plain": [
       "Output()"
      ]
     },
     "metadata": {},
     "output_type": "display_data"
    },
    {
     "data": {
      "text/html": [
       "<pre style=\"white-space:pre;overflow-x:auto;line-height:normal;font-family:Menlo,'DejaVu Sans Mono',consolas,'Courier New',monospace\"></pre>\n"
      ],
      "text/plain": []
     },
     "metadata": {},
     "output_type": "display_data"
    },
    {
     "data": {
      "text/html": [
       "<pre style=\"white-space:pre;overflow-x:auto;line-height:normal;font-family:Menlo,'DejaVu Sans Mono',consolas,'Courier New',monospace\">\n",
       "</pre>\n"
      ],
      "text/plain": [
       "\n"
      ]
     },
     "metadata": {},
     "output_type": "display_data"
    },
    {
     "data": {
      "application/vnd.jupyter.widget-view+json": {
       "model_id": "f9f7477fb8e34d218c4dd4b2b76e79bd",
       "version_major": 2,
       "version_minor": 0
      },
      "text/plain": [
       "Output()"
      ]
     },
     "metadata": {},
     "output_type": "display_data"
    },
    {
     "data": {
      "text/html": [
       "<pre style=\"white-space:pre;overflow-x:auto;line-height:normal;font-family:Menlo,'DejaVu Sans Mono',consolas,'Courier New',monospace\"></pre>\n"
      ],
      "text/plain": []
     },
     "metadata": {},
     "output_type": "display_data"
    },
    {
     "data": {
      "text/html": [
       "<pre style=\"white-space:pre;overflow-x:auto;line-height:normal;font-family:Menlo,'DejaVu Sans Mono',consolas,'Courier New',monospace\">\n",
       "</pre>\n"
      ],
      "text/plain": [
       "\n"
      ]
     },
     "metadata": {},
     "output_type": "display_data"
    },
    {
     "data": {
      "application/vnd.jupyter.widget-view+json": {
       "model_id": "a1901988d422425786c862f8ef94995c",
       "version_major": 2,
       "version_minor": 0
      },
      "text/plain": [
       "Output()"
      ]
     },
     "metadata": {},
     "output_type": "display_data"
    },
    {
     "data": {
      "text/html": [
       "<pre style=\"white-space:pre;overflow-x:auto;line-height:normal;font-family:Menlo,'DejaVu Sans Mono',consolas,'Courier New',monospace\"></pre>\n"
      ],
      "text/plain": []
     },
     "metadata": {},
     "output_type": "display_data"
    },
    {
     "data": {
      "text/html": [
       "<pre style=\"white-space:pre;overflow-x:auto;line-height:normal;font-family:Menlo,'DejaVu Sans Mono',consolas,'Courier New',monospace\">\n",
       "</pre>\n"
      ],
      "text/plain": [
       "\n"
      ]
     },
     "metadata": {},
     "output_type": "display_data"
    },
    {
     "data": {
      "application/vnd.jupyter.widget-view+json": {
       "model_id": "8c6fecd70d56434b92c0f93fd6f7c69a",
       "version_major": 2,
       "version_minor": 0
      },
      "text/plain": [
       "Output()"
      ]
     },
     "metadata": {},
     "output_type": "display_data"
    },
    {
     "data": {
      "text/html": [
       "<pre style=\"white-space:pre;overflow-x:auto;line-height:normal;font-family:Menlo,'DejaVu Sans Mono',consolas,'Courier New',monospace\"></pre>\n"
      ],
      "text/plain": []
     },
     "metadata": {},
     "output_type": "display_data"
    },
    {
     "data": {
      "text/html": [
       "<pre style=\"white-space:pre;overflow-x:auto;line-height:normal;font-family:Menlo,'DejaVu Sans Mono',consolas,'Courier New',monospace\">\n",
       "</pre>\n"
      ],
      "text/plain": [
       "\n"
      ]
     },
     "metadata": {},
     "output_type": "display_data"
    },
    {
     "data": {
      "application/vnd.jupyter.widget-view+json": {
       "model_id": "16a92051e3b24f9ca327e967448a6876",
       "version_major": 2,
       "version_minor": 0
      },
      "text/plain": [
       "Output()"
      ]
     },
     "metadata": {},
     "output_type": "display_data"
    },
    {
     "data": {
      "text/html": [
       "<pre style=\"white-space:pre;overflow-x:auto;line-height:normal;font-family:Menlo,'DejaVu Sans Mono',consolas,'Courier New',monospace\"></pre>\n"
      ],
      "text/plain": []
     },
     "metadata": {},
     "output_type": "display_data"
    },
    {
     "data": {
      "text/html": [
       "<pre style=\"white-space:pre;overflow-x:auto;line-height:normal;font-family:Menlo,'DejaVu Sans Mono',consolas,'Courier New',monospace\">\n",
       "</pre>\n"
      ],
      "text/plain": [
       "\n"
      ]
     },
     "metadata": {},
     "output_type": "display_data"
    },
    {
     "name": "stderr",
     "output_type": "stream",
     "text": [
      "\r",
      "  0%|                                        | 2/1405 [00:11<2:15:16,  5.79s/it]"
     ]
    },
    {
     "data": {
      "application/vnd.jupyter.widget-view+json": {
       "model_id": "94a24c50e917481d952b3939a8817030",
       "version_major": 2,
       "version_minor": 0
      },
      "text/plain": [
       "Output()"
      ]
     },
     "metadata": {},
     "output_type": "display_data"
    },
    {
     "data": {
      "text/html": [
       "<pre style=\"white-space:pre;overflow-x:auto;line-height:normal;font-family:Menlo,'DejaVu Sans Mono',consolas,'Courier New',monospace\"></pre>\n"
      ],
      "text/plain": []
     },
     "metadata": {},
     "output_type": "display_data"
    },
    {
     "data": {
      "text/html": [
       "<pre style=\"white-space:pre;overflow-x:auto;line-height:normal;font-family:Menlo,'DejaVu Sans Mono',consolas,'Courier New',monospace\">\n",
       "</pre>\n"
      ],
      "text/plain": [
       "\n"
      ]
     },
     "metadata": {},
     "output_type": "display_data"
    },
    {
     "data": {
      "application/vnd.jupyter.widget-view+json": {
       "model_id": "454678bcae3d4561a86649dc6cf22a8e",
       "version_major": 2,
       "version_minor": 0
      },
      "text/plain": [
       "Output()"
      ]
     },
     "metadata": {},
     "output_type": "display_data"
    },
    {
     "data": {
      "text/html": [
       "<pre style=\"white-space:pre;overflow-x:auto;line-height:normal;font-family:Menlo,'DejaVu Sans Mono',consolas,'Courier New',monospace\"></pre>\n"
      ],
      "text/plain": []
     },
     "metadata": {},
     "output_type": "display_data"
    },
    {
     "data": {
      "text/html": [
       "<pre style=\"white-space:pre;overflow-x:auto;line-height:normal;font-family:Menlo,'DejaVu Sans Mono',consolas,'Courier New',monospace\">\n",
       "</pre>\n"
      ],
      "text/plain": [
       "\n"
      ]
     },
     "metadata": {},
     "output_type": "display_data"
    },
    {
     "data": {
      "application/vnd.jupyter.widget-view+json": {
       "model_id": "f1415987ae4542e7984fd12b3bfab6ef",
       "version_major": 2,
       "version_minor": 0
      },
      "text/plain": [
       "Output()"
      ]
     },
     "metadata": {},
     "output_type": "display_data"
    },
    {
     "data": {
      "text/html": [
       "<pre style=\"white-space:pre;overflow-x:auto;line-height:normal;font-family:Menlo,'DejaVu Sans Mono',consolas,'Courier New',monospace\"></pre>\n"
      ],
      "text/plain": []
     },
     "metadata": {},
     "output_type": "display_data"
    },
    {
     "data": {
      "text/html": [
       "<pre style=\"white-space:pre;overflow-x:auto;line-height:normal;font-family:Menlo,'DejaVu Sans Mono',consolas,'Courier New',monospace\">\n",
       "</pre>\n"
      ],
      "text/plain": [
       "\n"
      ]
     },
     "metadata": {},
     "output_type": "display_data"
    },
    {
     "data": {
      "application/vnd.jupyter.widget-view+json": {
       "model_id": "38b495ddcbc944bcb2f2f227b3e5f480",
       "version_major": 2,
       "version_minor": 0
      },
      "text/plain": [
       "Output()"
      ]
     },
     "metadata": {},
     "output_type": "display_data"
    },
    {
     "data": {
      "text/html": [
       "<pre style=\"white-space:pre;overflow-x:auto;line-height:normal;font-family:Menlo,'DejaVu Sans Mono',consolas,'Courier New',monospace\"></pre>\n"
      ],
      "text/plain": []
     },
     "metadata": {},
     "output_type": "display_data"
    },
    {
     "data": {
      "text/html": [
       "<pre style=\"white-space:pre;overflow-x:auto;line-height:normal;font-family:Menlo,'DejaVu Sans Mono',consolas,'Courier New',monospace\">\n",
       "</pre>\n"
      ],
      "text/plain": [
       "\n"
      ]
     },
     "metadata": {},
     "output_type": "display_data"
    },
    {
     "data": {
      "application/vnd.jupyter.widget-view+json": {
       "model_id": "429cafe52c744c63876664db6fadc3ba",
       "version_major": 2,
       "version_minor": 0
      },
      "text/plain": [
       "Output()"
      ]
     },
     "metadata": {},
     "output_type": "display_data"
    },
    {
     "data": {
      "text/html": [
       "<pre style=\"white-space:pre;overflow-x:auto;line-height:normal;font-family:Menlo,'DejaVu Sans Mono',consolas,'Courier New',monospace\"></pre>\n"
      ],
      "text/plain": []
     },
     "metadata": {},
     "output_type": "display_data"
    },
    {
     "data": {
      "text/html": [
       "<pre style=\"white-space:pre;overflow-x:auto;line-height:normal;font-family:Menlo,'DejaVu Sans Mono',consolas,'Courier New',monospace\">\n",
       "</pre>\n"
      ],
      "text/plain": [
       "\n"
      ]
     },
     "metadata": {},
     "output_type": "display_data"
    },
    {
     "data": {
      "application/vnd.jupyter.widget-view+json": {
       "model_id": "724b431445ea429dbdf2e4332619f60b",
       "version_major": 2,
       "version_minor": 0
      },
      "text/plain": [
       "Output()"
      ]
     },
     "metadata": {},
     "output_type": "display_data"
    },
    {
     "data": {
      "text/html": [
       "<pre style=\"white-space:pre;overflow-x:auto;line-height:normal;font-family:Menlo,'DejaVu Sans Mono',consolas,'Courier New',monospace\"></pre>\n"
      ],
      "text/plain": []
     },
     "metadata": {},
     "output_type": "display_data"
    },
    {
     "data": {
      "text/html": [
       "<pre style=\"white-space:pre;overflow-x:auto;line-height:normal;font-family:Menlo,'DejaVu Sans Mono',consolas,'Courier New',monospace\">\n",
       "</pre>\n"
      ],
      "text/plain": [
       "\n"
      ]
     },
     "metadata": {},
     "output_type": "display_data"
    },
    {
     "data": {
      "application/vnd.jupyter.widget-view+json": {
       "model_id": "a74e2e4706b44a7f9560e15ea3b7c0f3",
       "version_major": 2,
       "version_minor": 0
      },
      "text/plain": [
       "Output()"
      ]
     },
     "metadata": {},
     "output_type": "display_data"
    },
    {
     "data": {
      "text/html": [
       "<pre style=\"white-space:pre;overflow-x:auto;line-height:normal;font-family:Menlo,'DejaVu Sans Mono',consolas,'Courier New',monospace\"></pre>\n"
      ],
      "text/plain": []
     },
     "metadata": {},
     "output_type": "display_data"
    },
    {
     "data": {
      "text/html": [
       "<pre style=\"white-space:pre;overflow-x:auto;line-height:normal;font-family:Menlo,'DejaVu Sans Mono',consolas,'Courier New',monospace\">\n",
       "</pre>\n"
      ],
      "text/plain": [
       "\n"
      ]
     },
     "metadata": {},
     "output_type": "display_data"
    },
    {
     "data": {
      "application/vnd.jupyter.widget-view+json": {
       "model_id": "436824b87c8b4508b6fc2683b4e6c395",
       "version_major": 2,
       "version_minor": 0
      },
      "text/plain": [
       "Output()"
      ]
     },
     "metadata": {},
     "output_type": "display_data"
    },
    {
     "data": {
      "text/html": [
       "<pre style=\"white-space:pre;overflow-x:auto;line-height:normal;font-family:Menlo,'DejaVu Sans Mono',consolas,'Courier New',monospace\"></pre>\n"
      ],
      "text/plain": []
     },
     "metadata": {},
     "output_type": "display_data"
    },
    {
     "data": {
      "text/html": [
       "<pre style=\"white-space:pre;overflow-x:auto;line-height:normal;font-family:Menlo,'DejaVu Sans Mono',consolas,'Courier New',monospace\">\n",
       "</pre>\n"
      ],
      "text/plain": [
       "\n"
      ]
     },
     "metadata": {},
     "output_type": "display_data"
    },
    {
     "data": {
      "application/vnd.jupyter.widget-view+json": {
       "model_id": "da1f50def0aa443393662cd8d5cbf62e",
       "version_major": 2,
       "version_minor": 0
      },
      "text/plain": [
       "Output()"
      ]
     },
     "metadata": {},
     "output_type": "display_data"
    },
    {
     "data": {
      "text/html": [
       "<pre style=\"white-space:pre;overflow-x:auto;line-height:normal;font-family:Menlo,'DejaVu Sans Mono',consolas,'Courier New',monospace\"></pre>\n"
      ],
      "text/plain": []
     },
     "metadata": {},
     "output_type": "display_data"
    },
    {
     "data": {
      "text/html": [
       "<pre style=\"white-space:pre;overflow-x:auto;line-height:normal;font-family:Menlo,'DejaVu Sans Mono',consolas,'Courier New',monospace\">\n",
       "</pre>\n"
      ],
      "text/plain": [
       "\n"
      ]
     },
     "metadata": {},
     "output_type": "display_data"
    },
    {
     "data": {
      "application/vnd.jupyter.widget-view+json": {
       "model_id": "3773ed65ac784f24a4f71ec012ce233f",
       "version_major": 2,
       "version_minor": 0
      },
      "text/plain": [
       "Output()"
      ]
     },
     "metadata": {},
     "output_type": "display_data"
    },
    {
     "data": {
      "text/html": [
       "<pre style=\"white-space:pre;overflow-x:auto;line-height:normal;font-family:Menlo,'DejaVu Sans Mono',consolas,'Courier New',monospace\"></pre>\n"
      ],
      "text/plain": []
     },
     "metadata": {},
     "output_type": "display_data"
    },
    {
     "data": {
      "text/html": [
       "<pre style=\"white-space:pre;overflow-x:auto;line-height:normal;font-family:Menlo,'DejaVu Sans Mono',consolas,'Courier New',monospace\">\n",
       "</pre>\n"
      ],
      "text/plain": [
       "\n"
      ]
     },
     "metadata": {},
     "output_type": "display_data"
    },
    {
     "data": {
      "application/vnd.jupyter.widget-view+json": {
       "model_id": "ea7ecea6be0e43c593e9d3f6595e4618",
       "version_major": 2,
       "version_minor": 0
      },
      "text/plain": [
       "Output()"
      ]
     },
     "metadata": {},
     "output_type": "display_data"
    },
    {
     "data": {
      "text/html": [
       "<pre style=\"white-space:pre;overflow-x:auto;line-height:normal;font-family:Menlo,'DejaVu Sans Mono',consolas,'Courier New',monospace\"></pre>\n"
      ],
      "text/plain": []
     },
     "metadata": {},
     "output_type": "display_data"
    },
    {
     "data": {
      "text/html": [
       "<pre style=\"white-space:pre;overflow-x:auto;line-height:normal;font-family:Menlo,'DejaVu Sans Mono',consolas,'Courier New',monospace\">\n",
       "</pre>\n"
      ],
      "text/plain": [
       "\n"
      ]
     },
     "metadata": {},
     "output_type": "display_data"
    },
    {
     "data": {
      "application/vnd.jupyter.widget-view+json": {
       "model_id": "2ac61585cc8444cf835d2df68304300e",
       "version_major": 2,
       "version_minor": 0
      },
      "text/plain": [
       "Output()"
      ]
     },
     "metadata": {},
     "output_type": "display_data"
    },
    {
     "data": {
      "text/html": [
       "<pre style=\"white-space:pre;overflow-x:auto;line-height:normal;font-family:Menlo,'DejaVu Sans Mono',consolas,'Courier New',monospace\"></pre>\n"
      ],
      "text/plain": []
     },
     "metadata": {},
     "output_type": "display_data"
    },
    {
     "data": {
      "text/html": [
       "<pre style=\"white-space:pre;overflow-x:auto;line-height:normal;font-family:Menlo,'DejaVu Sans Mono',consolas,'Courier New',monospace\">\n",
       "</pre>\n"
      ],
      "text/plain": [
       "\n"
      ]
     },
     "metadata": {},
     "output_type": "display_data"
    },
    {
     "data": {
      "application/vnd.jupyter.widget-view+json": {
       "model_id": "06b14e7b80aa498884f86af95756cc57",
       "version_major": 2,
       "version_minor": 0
      },
      "text/plain": [
       "Output()"
      ]
     },
     "metadata": {},
     "output_type": "display_data"
    },
    {
     "data": {
      "text/html": [
       "<pre style=\"white-space:pre;overflow-x:auto;line-height:normal;font-family:Menlo,'DejaVu Sans Mono',consolas,'Courier New',monospace\"></pre>\n"
      ],
      "text/plain": []
     },
     "metadata": {},
     "output_type": "display_data"
    },
    {
     "data": {
      "text/html": [
       "<pre style=\"white-space:pre;overflow-x:auto;line-height:normal;font-family:Menlo,'DejaVu Sans Mono',consolas,'Courier New',monospace\">\n",
       "</pre>\n"
      ],
      "text/plain": [
       "\n"
      ]
     },
     "metadata": {},
     "output_type": "display_data"
    },
    {
     "data": {
      "application/vnd.jupyter.widget-view+json": {
       "model_id": "c23ef1149bdc47f8a605ab7bb34fa441",
       "version_major": 2,
       "version_minor": 0
      },
      "text/plain": [
       "Output()"
      ]
     },
     "metadata": {},
     "output_type": "display_data"
    },
    {
     "data": {
      "text/html": [
       "<pre style=\"white-space:pre;overflow-x:auto;line-height:normal;font-family:Menlo,'DejaVu Sans Mono',consolas,'Courier New',monospace\"></pre>\n"
      ],
      "text/plain": []
     },
     "metadata": {},
     "output_type": "display_data"
    },
    {
     "data": {
      "text/html": [
       "<pre style=\"white-space:pre;overflow-x:auto;line-height:normal;font-family:Menlo,'DejaVu Sans Mono',consolas,'Courier New',monospace\">\n",
       "</pre>\n"
      ],
      "text/plain": [
       "\n"
      ]
     },
     "metadata": {},
     "output_type": "display_data"
    },
    {
     "data": {
      "application/vnd.jupyter.widget-view+json": {
       "model_id": "4adb1cb56d1546579443299ccb792a01",
       "version_major": 2,
       "version_minor": 0
      },
      "text/plain": [
       "Output()"
      ]
     },
     "metadata": {},
     "output_type": "display_data"
    },
    {
     "data": {
      "text/html": [
       "<pre style=\"white-space:pre;overflow-x:auto;line-height:normal;font-family:Menlo,'DejaVu Sans Mono',consolas,'Courier New',monospace\"></pre>\n"
      ],
      "text/plain": []
     },
     "metadata": {},
     "output_type": "display_data"
    },
    {
     "data": {
      "text/html": [
       "<pre style=\"white-space:pre;overflow-x:auto;line-height:normal;font-family:Menlo,'DejaVu Sans Mono',consolas,'Courier New',monospace\">\n",
       "</pre>\n"
      ],
      "text/plain": [
       "\n"
      ]
     },
     "metadata": {},
     "output_type": "display_data"
    },
    {
     "data": {
      "application/vnd.jupyter.widget-view+json": {
       "model_id": "402526b249754e44956ba65f9c37bf2e",
       "version_major": 2,
       "version_minor": 0
      },
      "text/plain": [
       "Output()"
      ]
     },
     "metadata": {},
     "output_type": "display_data"
    },
    {
     "data": {
      "text/html": [
       "<pre style=\"white-space:pre;overflow-x:auto;line-height:normal;font-family:Menlo,'DejaVu Sans Mono',consolas,'Courier New',monospace\"></pre>\n"
      ],
      "text/plain": []
     },
     "metadata": {},
     "output_type": "display_data"
    },
    {
     "data": {
      "text/html": [
       "<pre style=\"white-space:pre;overflow-x:auto;line-height:normal;font-family:Menlo,'DejaVu Sans Mono',consolas,'Courier New',monospace\">\n",
       "</pre>\n"
      ],
      "text/plain": [
       "\n"
      ]
     },
     "metadata": {},
     "output_type": "display_data"
    },
    {
     "data": {
      "application/vnd.jupyter.widget-view+json": {
       "model_id": "e172835071084d948f7e441bfaa2536e",
       "version_major": 2,
       "version_minor": 0
      },
      "text/plain": [
       "Output()"
      ]
     },
     "metadata": {},
     "output_type": "display_data"
    },
    {
     "data": {
      "text/html": [
       "<pre style=\"white-space:pre;overflow-x:auto;line-height:normal;font-family:Menlo,'DejaVu Sans Mono',consolas,'Courier New',monospace\"></pre>\n"
      ],
      "text/plain": []
     },
     "metadata": {},
     "output_type": "display_data"
    },
    {
     "data": {
      "text/html": [
       "<pre style=\"white-space:pre;overflow-x:auto;line-height:normal;font-family:Menlo,'DejaVu Sans Mono',consolas,'Courier New',monospace\">\n",
       "</pre>\n"
      ],
      "text/plain": [
       "\n"
      ]
     },
     "metadata": {},
     "output_type": "display_data"
    },
    {
     "data": {
      "application/vnd.jupyter.widget-view+json": {
       "model_id": "913c7ad0a7bc4e2db16d4b3a6e8a2621",
       "version_major": 2,
       "version_minor": 0
      },
      "text/plain": [
       "Output()"
      ]
     },
     "metadata": {},
     "output_type": "display_data"
    },
    {
     "data": {
      "text/html": [
       "<pre style=\"white-space:pre;overflow-x:auto;line-height:normal;font-family:Menlo,'DejaVu Sans Mono',consolas,'Courier New',monospace\"></pre>\n"
      ],
      "text/plain": []
     },
     "metadata": {},
     "output_type": "display_data"
    },
    {
     "data": {
      "text/html": [
       "<pre style=\"white-space:pre;overflow-x:auto;line-height:normal;font-family:Menlo,'DejaVu Sans Mono',consolas,'Courier New',monospace\">\n",
       "</pre>\n"
      ],
      "text/plain": [
       "\n"
      ]
     },
     "metadata": {},
     "output_type": "display_data"
    },
    {
     "data": {
      "application/vnd.jupyter.widget-view+json": {
       "model_id": "b26ad982a87e46659f746ca95411a306",
       "version_major": 2,
       "version_minor": 0
      },
      "text/plain": [
       "Output()"
      ]
     },
     "metadata": {},
     "output_type": "display_data"
    },
    {
     "data": {
      "text/html": [
       "<pre style=\"white-space:pre;overflow-x:auto;line-height:normal;font-family:Menlo,'DejaVu Sans Mono',consolas,'Courier New',monospace\"></pre>\n"
      ],
      "text/plain": []
     },
     "metadata": {},
     "output_type": "display_data"
    },
    {
     "data": {
      "text/html": [
       "<pre style=\"white-space:pre;overflow-x:auto;line-height:normal;font-family:Menlo,'DejaVu Sans Mono',consolas,'Courier New',monospace\">\n",
       "</pre>\n"
      ],
      "text/plain": [
       "\n"
      ]
     },
     "metadata": {},
     "output_type": "display_data"
    },
    {
     "data": {
      "application/vnd.jupyter.widget-view+json": {
       "model_id": "4caa10c505a94374b74b3cbd231d7943",
       "version_major": 2,
       "version_minor": 0
      },
      "text/plain": [
       "Output()"
      ]
     },
     "metadata": {},
     "output_type": "display_data"
    },
    {
     "data": {
      "text/html": [
       "<pre style=\"white-space:pre;overflow-x:auto;line-height:normal;font-family:Menlo,'DejaVu Sans Mono',consolas,'Courier New',monospace\"></pre>\n"
      ],
      "text/plain": []
     },
     "metadata": {},
     "output_type": "display_data"
    },
    {
     "data": {
      "text/html": [
       "<pre style=\"white-space:pre;overflow-x:auto;line-height:normal;font-family:Menlo,'DejaVu Sans Mono',consolas,'Courier New',monospace\">\n",
       "</pre>\n"
      ],
      "text/plain": [
       "\n"
      ]
     },
     "metadata": {},
     "output_type": "display_data"
    },
    {
     "data": {
      "application/vnd.jupyter.widget-view+json": {
       "model_id": "d9936917c6b64bd287d9eccbb225921d",
       "version_major": 2,
       "version_minor": 0
      },
      "text/plain": [
       "Output()"
      ]
     },
     "metadata": {},
     "output_type": "display_data"
    },
    {
     "data": {
      "text/html": [
       "<pre style=\"white-space:pre;overflow-x:auto;line-height:normal;font-family:Menlo,'DejaVu Sans Mono',consolas,'Courier New',monospace\"></pre>\n"
      ],
      "text/plain": []
     },
     "metadata": {},
     "output_type": "display_data"
    },
    {
     "data": {
      "text/html": [
       "<pre style=\"white-space:pre;overflow-x:auto;line-height:normal;font-family:Menlo,'DejaVu Sans Mono',consolas,'Courier New',monospace\">\n",
       "</pre>\n"
      ],
      "text/plain": [
       "\n"
      ]
     },
     "metadata": {},
     "output_type": "display_data"
    },
    {
     "data": {
      "application/vnd.jupyter.widget-view+json": {
       "model_id": "618c09e228864bf8a85052e014942009",
       "version_major": 2,
       "version_minor": 0
      },
      "text/plain": [
       "Output()"
      ]
     },
     "metadata": {},
     "output_type": "display_data"
    },
    {
     "data": {
      "text/html": [
       "<pre style=\"white-space:pre;overflow-x:auto;line-height:normal;font-family:Menlo,'DejaVu Sans Mono',consolas,'Courier New',monospace\"></pre>\n"
      ],
      "text/plain": []
     },
     "metadata": {},
     "output_type": "display_data"
    },
    {
     "data": {
      "text/html": [
       "<pre style=\"white-space:pre;overflow-x:auto;line-height:normal;font-family:Menlo,'DejaVu Sans Mono',consolas,'Courier New',monospace\">\n",
       "</pre>\n"
      ],
      "text/plain": [
       "\n"
      ]
     },
     "metadata": {},
     "output_type": "display_data"
    },
    {
     "data": {
      "application/vnd.jupyter.widget-view+json": {
       "model_id": "f812a5d6d1fd4b20b486d5592cb3b3bb",
       "version_major": 2,
       "version_minor": 0
      },
      "text/plain": [
       "Output()"
      ]
     },
     "metadata": {},
     "output_type": "display_data"
    },
    {
     "data": {
      "text/html": [
       "<pre style=\"white-space:pre;overflow-x:auto;line-height:normal;font-family:Menlo,'DejaVu Sans Mono',consolas,'Courier New',monospace\"></pre>\n"
      ],
      "text/plain": []
     },
     "metadata": {},
     "output_type": "display_data"
    },
    {
     "data": {
      "text/html": [
       "<pre style=\"white-space:pre;overflow-x:auto;line-height:normal;font-family:Menlo,'DejaVu Sans Mono',consolas,'Courier New',monospace\">\n",
       "</pre>\n"
      ],
      "text/plain": [
       "\n"
      ]
     },
     "metadata": {},
     "output_type": "display_data"
    },
    {
     "data": {
      "application/vnd.jupyter.widget-view+json": {
       "model_id": "9e75e3ad6f2646cf8915994fcb044fc5",
       "version_major": 2,
       "version_minor": 0
      },
      "text/plain": [
       "Output()"
      ]
     },
     "metadata": {},
     "output_type": "display_data"
    },
    {
     "data": {
      "text/html": [
       "<pre style=\"white-space:pre;overflow-x:auto;line-height:normal;font-family:Menlo,'DejaVu Sans Mono',consolas,'Courier New',monospace\"></pre>\n"
      ],
      "text/plain": []
     },
     "metadata": {},
     "output_type": "display_data"
    },
    {
     "data": {
      "text/html": [
       "<pre style=\"white-space:pre;overflow-x:auto;line-height:normal;font-family:Menlo,'DejaVu Sans Mono',consolas,'Courier New',monospace\">\n",
       "</pre>\n"
      ],
      "text/plain": [
       "\n"
      ]
     },
     "metadata": {},
     "output_type": "display_data"
    },
    {
     "data": {
      "application/vnd.jupyter.widget-view+json": {
       "model_id": "d07c9a85dc3449f7ab2bd7614390fddb",
       "version_major": 2,
       "version_minor": 0
      },
      "text/plain": [
       "Output()"
      ]
     },
     "metadata": {},
     "output_type": "display_data"
    },
    {
     "data": {
      "text/html": [
       "<pre style=\"white-space:pre;overflow-x:auto;line-height:normal;font-family:Menlo,'DejaVu Sans Mono',consolas,'Courier New',monospace\"></pre>\n"
      ],
      "text/plain": []
     },
     "metadata": {},
     "output_type": "display_data"
    },
    {
     "data": {
      "text/html": [
       "<pre style=\"white-space:pre;overflow-x:auto;line-height:normal;font-family:Menlo,'DejaVu Sans Mono',consolas,'Courier New',monospace\">\n",
       "</pre>\n"
      ],
      "text/plain": [
       "\n"
      ]
     },
     "metadata": {},
     "output_type": "display_data"
    },
    {
     "data": {
      "application/vnd.jupyter.widget-view+json": {
       "model_id": "637af076d6e44e0cb0f77ba5207b0f59",
       "version_major": 2,
       "version_minor": 0
      },
      "text/plain": [
       "Output()"
      ]
     },
     "metadata": {},
     "output_type": "display_data"
    },
    {
     "data": {
      "text/html": [
       "<pre style=\"white-space:pre;overflow-x:auto;line-height:normal;font-family:Menlo,'DejaVu Sans Mono',consolas,'Courier New',monospace\"></pre>\n"
      ],
      "text/plain": []
     },
     "metadata": {},
     "output_type": "display_data"
    },
    {
     "data": {
      "text/html": [
       "<pre style=\"white-space:pre;overflow-x:auto;line-height:normal;font-family:Menlo,'DejaVu Sans Mono',consolas,'Courier New',monospace\">\n",
       "</pre>\n"
      ],
      "text/plain": [
       "\n"
      ]
     },
     "metadata": {},
     "output_type": "display_data"
    },
    {
     "data": {
      "application/vnd.jupyter.widget-view+json": {
       "model_id": "3f389f5375a747d3a96e6903c0b1198f",
       "version_major": 2,
       "version_minor": 0
      },
      "text/plain": [
       "Output()"
      ]
     },
     "metadata": {},
     "output_type": "display_data"
    },
    {
     "data": {
      "text/html": [
       "<pre style=\"white-space:pre;overflow-x:auto;line-height:normal;font-family:Menlo,'DejaVu Sans Mono',consolas,'Courier New',monospace\"></pre>\n"
      ],
      "text/plain": []
     },
     "metadata": {},
     "output_type": "display_data"
    },
    {
     "data": {
      "text/html": [
       "<pre style=\"white-space:pre;overflow-x:auto;line-height:normal;font-family:Menlo,'DejaVu Sans Mono',consolas,'Courier New',monospace\">\n",
       "</pre>\n"
      ],
      "text/plain": [
       "\n"
      ]
     },
     "metadata": {},
     "output_type": "display_data"
    },
    {
     "data": {
      "application/vnd.jupyter.widget-view+json": {
       "model_id": "1d70e5ba7427421294a38ac872fb3937",
       "version_major": 2,
       "version_minor": 0
      },
      "text/plain": [
       "Output()"
      ]
     },
     "metadata": {},
     "output_type": "display_data"
    },
    {
     "data": {
      "text/html": [
       "<pre style=\"white-space:pre;overflow-x:auto;line-height:normal;font-family:Menlo,'DejaVu Sans Mono',consolas,'Courier New',monospace\"></pre>\n"
      ],
      "text/plain": []
     },
     "metadata": {},
     "output_type": "display_data"
    },
    {
     "data": {
      "text/html": [
       "<pre style=\"white-space:pre;overflow-x:auto;line-height:normal;font-family:Menlo,'DejaVu Sans Mono',consolas,'Courier New',monospace\">\n",
       "</pre>\n"
      ],
      "text/plain": [
       "\n"
      ]
     },
     "metadata": {},
     "output_type": "display_data"
    },
    {
     "data": {
      "application/vnd.jupyter.widget-view+json": {
       "model_id": "a00ceb87024f4ccb966a582894ae8ce5",
       "version_major": 2,
       "version_minor": 0
      },
      "text/plain": [
       "Output()"
      ]
     },
     "metadata": {},
     "output_type": "display_data"
    },
    {
     "data": {
      "text/html": [
       "<pre style=\"white-space:pre;overflow-x:auto;line-height:normal;font-family:Menlo,'DejaVu Sans Mono',consolas,'Courier New',monospace\"></pre>\n"
      ],
      "text/plain": []
     },
     "metadata": {},
     "output_type": "display_data"
    },
    {
     "data": {
      "text/html": [
       "<pre style=\"white-space:pre;overflow-x:auto;line-height:normal;font-family:Menlo,'DejaVu Sans Mono',consolas,'Courier New',monospace\">\n",
       "</pre>\n"
      ],
      "text/plain": [
       "\n"
      ]
     },
     "metadata": {},
     "output_type": "display_data"
    },
    {
     "data": {
      "application/vnd.jupyter.widget-view+json": {
       "model_id": "ee0924fb76494696b59342b88e4d2ff9",
       "version_major": 2,
       "version_minor": 0
      },
      "text/plain": [
       "Output()"
      ]
     },
     "metadata": {},
     "output_type": "display_data"
    },
    {
     "data": {
      "text/html": [
       "<pre style=\"white-space:pre;overflow-x:auto;line-height:normal;font-family:Menlo,'DejaVu Sans Mono',consolas,'Courier New',monospace\"></pre>\n"
      ],
      "text/plain": []
     },
     "metadata": {},
     "output_type": "display_data"
    },
    {
     "data": {
      "text/html": [
       "<pre style=\"white-space:pre;overflow-x:auto;line-height:normal;font-family:Menlo,'DejaVu Sans Mono',consolas,'Courier New',monospace\">\n",
       "</pre>\n"
      ],
      "text/plain": [
       "\n"
      ]
     },
     "metadata": {},
     "output_type": "display_data"
    },
    {
     "data": {
      "application/vnd.jupyter.widget-view+json": {
       "model_id": "aec5b07b955c423bac96087d2dbd0860",
       "version_major": 2,
       "version_minor": 0
      },
      "text/plain": [
       "Output()"
      ]
     },
     "metadata": {},
     "output_type": "display_data"
    },
    {
     "data": {
      "text/html": [
       "<pre style=\"white-space:pre;overflow-x:auto;line-height:normal;font-family:Menlo,'DejaVu Sans Mono',consolas,'Courier New',monospace\"></pre>\n"
      ],
      "text/plain": []
     },
     "metadata": {},
     "output_type": "display_data"
    },
    {
     "data": {
      "text/html": [
       "<pre style=\"white-space:pre;overflow-x:auto;line-height:normal;font-family:Menlo,'DejaVu Sans Mono',consolas,'Courier New',monospace\">\n",
       "</pre>\n"
      ],
      "text/plain": [
       "\n"
      ]
     },
     "metadata": {},
     "output_type": "display_data"
    },
    {
     "data": {
      "application/vnd.jupyter.widget-view+json": {
       "model_id": "78a872f4423c4965965f2f610930b6d2",
       "version_major": 2,
       "version_minor": 0
      },
      "text/plain": [
       "Output()"
      ]
     },
     "metadata": {},
     "output_type": "display_data"
    },
    {
     "data": {
      "text/html": [
       "<pre style=\"white-space:pre;overflow-x:auto;line-height:normal;font-family:Menlo,'DejaVu Sans Mono',consolas,'Courier New',monospace\"></pre>\n"
      ],
      "text/plain": []
     },
     "metadata": {},
     "output_type": "display_data"
    },
    {
     "data": {
      "text/html": [
       "<pre style=\"white-space:pre;overflow-x:auto;line-height:normal;font-family:Menlo,'DejaVu Sans Mono',consolas,'Courier New',monospace\">\n",
       "</pre>\n"
      ],
      "text/plain": [
       "\n"
      ]
     },
     "metadata": {},
     "output_type": "display_data"
    },
    {
     "data": {
      "application/vnd.jupyter.widget-view+json": {
       "model_id": "e564597a3e664419ab75c080c436b708",
       "version_major": 2,
       "version_minor": 0
      },
      "text/plain": [
       "Output()"
      ]
     },
     "metadata": {},
     "output_type": "display_data"
    },
    {
     "data": {
      "text/html": [
       "<pre style=\"white-space:pre;overflow-x:auto;line-height:normal;font-family:Menlo,'DejaVu Sans Mono',consolas,'Courier New',monospace\"></pre>\n"
      ],
      "text/plain": []
     },
     "metadata": {},
     "output_type": "display_data"
    },
    {
     "data": {
      "text/html": [
       "<pre style=\"white-space:pre;overflow-x:auto;line-height:normal;font-family:Menlo,'DejaVu Sans Mono',consolas,'Courier New',monospace\">\n",
       "</pre>\n"
      ],
      "text/plain": [
       "\n"
      ]
     },
     "metadata": {},
     "output_type": "display_data"
    },
    {
     "data": {
      "application/vnd.jupyter.widget-view+json": {
       "model_id": "e92d6e735eab41d1bb19fc56835fc9a8",
       "version_major": 2,
       "version_minor": 0
      },
      "text/plain": [
       "Output()"
      ]
     },
     "metadata": {},
     "output_type": "display_data"
    },
    {
     "data": {
      "text/html": [
       "<pre style=\"white-space:pre;overflow-x:auto;line-height:normal;font-family:Menlo,'DejaVu Sans Mono',consolas,'Courier New',monospace\"></pre>\n"
      ],
      "text/plain": []
     },
     "metadata": {},
     "output_type": "display_data"
    },
    {
     "data": {
      "text/html": [
       "<pre style=\"white-space:pre;overflow-x:auto;line-height:normal;font-family:Menlo,'DejaVu Sans Mono',consolas,'Courier New',monospace\">\n",
       "</pre>\n"
      ],
      "text/plain": [
       "\n"
      ]
     },
     "metadata": {},
     "output_type": "display_data"
    },
    {
     "data": {
      "application/vnd.jupyter.widget-view+json": {
       "model_id": "f0eb11c4f7444c0a85f7d1d6a23358a0",
       "version_major": 2,
       "version_minor": 0
      },
      "text/plain": [
       "Output()"
      ]
     },
     "metadata": {},
     "output_type": "display_data"
    },
    {
     "data": {
      "text/html": [
       "<pre style=\"white-space:pre;overflow-x:auto;line-height:normal;font-family:Menlo,'DejaVu Sans Mono',consolas,'Courier New',monospace\"></pre>\n"
      ],
      "text/plain": []
     },
     "metadata": {},
     "output_type": "display_data"
    },
    {
     "data": {
      "text/html": [
       "<pre style=\"white-space:pre;overflow-x:auto;line-height:normal;font-family:Menlo,'DejaVu Sans Mono',consolas,'Courier New',monospace\">\n",
       "</pre>\n"
      ],
      "text/plain": [
       "\n"
      ]
     },
     "metadata": {},
     "output_type": "display_data"
    },
    {
     "data": {
      "application/vnd.jupyter.widget-view+json": {
       "model_id": "0aad5c881ada48b2a343a09d531424e4",
       "version_major": 2,
       "version_minor": 0
      },
      "text/plain": [
       "Output()"
      ]
     },
     "metadata": {},
     "output_type": "display_data"
    },
    {
     "data": {
      "text/html": [
       "<pre style=\"white-space:pre;overflow-x:auto;line-height:normal;font-family:Menlo,'DejaVu Sans Mono',consolas,'Courier New',monospace\"></pre>\n"
      ],
      "text/plain": []
     },
     "metadata": {},
     "output_type": "display_data"
    },
    {
     "data": {
      "text/html": [
       "<pre style=\"white-space:pre;overflow-x:auto;line-height:normal;font-family:Menlo,'DejaVu Sans Mono',consolas,'Courier New',monospace\">\n",
       "</pre>\n"
      ],
      "text/plain": [
       "\n"
      ]
     },
     "metadata": {},
     "output_type": "display_data"
    },
    {
     "data": {
      "application/vnd.jupyter.widget-view+json": {
       "model_id": "65333818293c4c759e7eec7e744855b9",
       "version_major": 2,
       "version_minor": 0
      },
      "text/plain": [
       "Output()"
      ]
     },
     "metadata": {},
     "output_type": "display_data"
    },
    {
     "data": {
      "text/html": [
       "<pre style=\"white-space:pre;overflow-x:auto;line-height:normal;font-family:Menlo,'DejaVu Sans Mono',consolas,'Courier New',monospace\"></pre>\n"
      ],
      "text/plain": []
     },
     "metadata": {},
     "output_type": "display_data"
    },
    {
     "data": {
      "text/html": [
       "<pre style=\"white-space:pre;overflow-x:auto;line-height:normal;font-family:Menlo,'DejaVu Sans Mono',consolas,'Courier New',monospace\">\n",
       "</pre>\n"
      ],
      "text/plain": [
       "\n"
      ]
     },
     "metadata": {},
     "output_type": "display_data"
    },
    {
     "data": {
      "application/vnd.jupyter.widget-view+json": {
       "model_id": "75fbd42100c9463f8c7970878dbf3bd3",
       "version_major": 2,
       "version_minor": 0
      },
      "text/plain": [
       "Output()"
      ]
     },
     "metadata": {},
     "output_type": "display_data"
    },
    {
     "data": {
      "text/html": [
       "<pre style=\"white-space:pre;overflow-x:auto;line-height:normal;font-family:Menlo,'DejaVu Sans Mono',consolas,'Courier New',monospace\"></pre>\n"
      ],
      "text/plain": []
     },
     "metadata": {},
     "output_type": "display_data"
    },
    {
     "data": {
      "text/html": [
       "<pre style=\"white-space:pre;overflow-x:auto;line-height:normal;font-family:Menlo,'DejaVu Sans Mono',consolas,'Courier New',monospace\">\n",
       "</pre>\n"
      ],
      "text/plain": [
       "\n"
      ]
     },
     "metadata": {},
     "output_type": "display_data"
    },
    {
     "data": {
      "application/vnd.jupyter.widget-view+json": {
       "model_id": "312ec6ebbd6c46dd811d9e6b078eb987",
       "version_major": 2,
       "version_minor": 0
      },
      "text/plain": [
       "Output()"
      ]
     },
     "metadata": {},
     "output_type": "display_data"
    },
    {
     "data": {
      "text/html": [
       "<pre style=\"white-space:pre;overflow-x:auto;line-height:normal;font-family:Menlo,'DejaVu Sans Mono',consolas,'Courier New',monospace\"></pre>\n"
      ],
      "text/plain": []
     },
     "metadata": {},
     "output_type": "display_data"
    },
    {
     "data": {
      "text/html": [
       "<pre style=\"white-space:pre;overflow-x:auto;line-height:normal;font-family:Menlo,'DejaVu Sans Mono',consolas,'Courier New',monospace\">\n",
       "</pre>\n"
      ],
      "text/plain": [
       "\n"
      ]
     },
     "metadata": {},
     "output_type": "display_data"
    },
    {
     "data": {
      "application/vnd.jupyter.widget-view+json": {
       "model_id": "e0bf05949fce49349da9e3636c5dc821",
       "version_major": 2,
       "version_minor": 0
      },
      "text/plain": [
       "Output()"
      ]
     },
     "metadata": {},
     "output_type": "display_data"
    },
    {
     "data": {
      "text/html": [
       "<pre style=\"white-space:pre;overflow-x:auto;line-height:normal;font-family:Menlo,'DejaVu Sans Mono',consolas,'Courier New',monospace\"></pre>\n"
      ],
      "text/plain": []
     },
     "metadata": {},
     "output_type": "display_data"
    },
    {
     "data": {
      "text/html": [
       "<pre style=\"white-space:pre;overflow-x:auto;line-height:normal;font-family:Menlo,'DejaVu Sans Mono',consolas,'Courier New',monospace\">\n",
       "</pre>\n"
      ],
      "text/plain": [
       "\n"
      ]
     },
     "metadata": {},
     "output_type": "display_data"
    },
    {
     "data": {
      "application/vnd.jupyter.widget-view+json": {
       "model_id": "9dd40facc99e40c8bdadcf8b1470e075",
       "version_major": 2,
       "version_minor": 0
      },
      "text/plain": [
       "Output()"
      ]
     },
     "metadata": {},
     "output_type": "display_data"
    },
    {
     "data": {
      "text/html": [
       "<pre style=\"white-space:pre;overflow-x:auto;line-height:normal;font-family:Menlo,'DejaVu Sans Mono',consolas,'Courier New',monospace\"></pre>\n"
      ],
      "text/plain": []
     },
     "metadata": {},
     "output_type": "display_data"
    },
    {
     "data": {
      "text/html": [
       "<pre style=\"white-space:pre;overflow-x:auto;line-height:normal;font-family:Menlo,'DejaVu Sans Mono',consolas,'Courier New',monospace\">\n",
       "</pre>\n"
      ],
      "text/plain": [
       "\n"
      ]
     },
     "metadata": {},
     "output_type": "display_data"
    },
    {
     "data": {
      "application/vnd.jupyter.widget-view+json": {
       "model_id": "4aa57e9554c04bff9490c85fd992792c",
       "version_major": 2,
       "version_minor": 0
      },
      "text/plain": [
       "Output()"
      ]
     },
     "metadata": {},
     "output_type": "display_data"
    },
    {
     "data": {
      "text/html": [
       "<pre style=\"white-space:pre;overflow-x:auto;line-height:normal;font-family:Menlo,'DejaVu Sans Mono',consolas,'Courier New',monospace\"></pre>\n"
      ],
      "text/plain": []
     },
     "metadata": {},
     "output_type": "display_data"
    },
    {
     "data": {
      "text/html": [
       "<pre style=\"white-space:pre;overflow-x:auto;line-height:normal;font-family:Menlo,'DejaVu Sans Mono',consolas,'Courier New',monospace\">\n",
       "</pre>\n"
      ],
      "text/plain": [
       "\n"
      ]
     },
     "metadata": {},
     "output_type": "display_data"
    },
    {
     "data": {
      "application/vnd.jupyter.widget-view+json": {
       "model_id": "5c54db9f448247cdae9fe6d818b74d11",
       "version_major": 2,
       "version_minor": 0
      },
      "text/plain": [
       "Output()"
      ]
     },
     "metadata": {},
     "output_type": "display_data"
    },
    {
     "data": {
      "text/html": [
       "<pre style=\"white-space:pre;overflow-x:auto;line-height:normal;font-family:Menlo,'DejaVu Sans Mono',consolas,'Courier New',monospace\"></pre>\n"
      ],
      "text/plain": []
     },
     "metadata": {},
     "output_type": "display_data"
    },
    {
     "data": {
      "text/html": [
       "<pre style=\"white-space:pre;overflow-x:auto;line-height:normal;font-family:Menlo,'DejaVu Sans Mono',consolas,'Courier New',monospace\">\n",
       "</pre>\n"
      ],
      "text/plain": [
       "\n"
      ]
     },
     "metadata": {},
     "output_type": "display_data"
    },
    {
     "data": {
      "application/vnd.jupyter.widget-view+json": {
       "model_id": "da7826ca088c4450ab8e71a0bb6c0ccc",
       "version_major": 2,
       "version_minor": 0
      },
      "text/plain": [
       "Output()"
      ]
     },
     "metadata": {},
     "output_type": "display_data"
    },
    {
     "data": {
      "text/html": [
       "<pre style=\"white-space:pre;overflow-x:auto;line-height:normal;font-family:Menlo,'DejaVu Sans Mono',consolas,'Courier New',monospace\"></pre>\n"
      ],
      "text/plain": []
     },
     "metadata": {},
     "output_type": "display_data"
    },
    {
     "data": {
      "text/html": [
       "<pre style=\"white-space:pre;overflow-x:auto;line-height:normal;font-family:Menlo,'DejaVu Sans Mono',consolas,'Courier New',monospace\">\n",
       "</pre>\n"
      ],
      "text/plain": [
       "\n"
      ]
     },
     "metadata": {},
     "output_type": "display_data"
    },
    {
     "data": {
      "application/vnd.jupyter.widget-view+json": {
       "model_id": "2982997162f9438d933666ca819f1e69",
       "version_major": 2,
       "version_minor": 0
      },
      "text/plain": [
       "Output()"
      ]
     },
     "metadata": {},
     "output_type": "display_data"
    },
    {
     "data": {
      "text/html": [
       "<pre style=\"white-space:pre;overflow-x:auto;line-height:normal;font-family:Menlo,'DejaVu Sans Mono',consolas,'Courier New',monospace\"></pre>\n"
      ],
      "text/plain": []
     },
     "metadata": {},
     "output_type": "display_data"
    },
    {
     "data": {
      "text/html": [
       "<pre style=\"white-space:pre;overflow-x:auto;line-height:normal;font-family:Menlo,'DejaVu Sans Mono',consolas,'Courier New',monospace\">\n",
       "</pre>\n"
      ],
      "text/plain": [
       "\n"
      ]
     },
     "metadata": {},
     "output_type": "display_data"
    },
    {
     "data": {
      "application/vnd.jupyter.widget-view+json": {
       "model_id": "2f5838411f0d471597cc328acbc5f73f",
       "version_major": 2,
       "version_minor": 0
      },
      "text/plain": [
       "Output()"
      ]
     },
     "metadata": {},
     "output_type": "display_data"
    },
    {
     "data": {
      "text/html": [
       "<pre style=\"white-space:pre;overflow-x:auto;line-height:normal;font-family:Menlo,'DejaVu Sans Mono',consolas,'Courier New',monospace\"></pre>\n"
      ],
      "text/plain": []
     },
     "metadata": {},
     "output_type": "display_data"
    },
    {
     "data": {
      "text/html": [
       "<pre style=\"white-space:pre;overflow-x:auto;line-height:normal;font-family:Menlo,'DejaVu Sans Mono',consolas,'Courier New',monospace\">\n",
       "</pre>\n"
      ],
      "text/plain": [
       "\n"
      ]
     },
     "metadata": {},
     "output_type": "display_data"
    },
    {
     "data": {
      "application/vnd.jupyter.widget-view+json": {
       "model_id": "5c0cba72748949a08976ac71897c563a",
       "version_major": 2,
       "version_minor": 0
      },
      "text/plain": [
       "Output()"
      ]
     },
     "metadata": {},
     "output_type": "display_data"
    },
    {
     "data": {
      "text/html": [
       "<pre style=\"white-space:pre;overflow-x:auto;line-height:normal;font-family:Menlo,'DejaVu Sans Mono',consolas,'Courier New',monospace\"></pre>\n"
      ],
      "text/plain": []
     },
     "metadata": {},
     "output_type": "display_data"
    },
    {
     "data": {
      "text/html": [
       "<pre style=\"white-space:pre;overflow-x:auto;line-height:normal;font-family:Menlo,'DejaVu Sans Mono',consolas,'Courier New',monospace\">\n",
       "</pre>\n"
      ],
      "text/plain": [
       "\n"
      ]
     },
     "metadata": {},
     "output_type": "display_data"
    },
    {
     "data": {
      "application/vnd.jupyter.widget-view+json": {
       "model_id": "a50756473782474db9a13751e714b42f",
       "version_major": 2,
       "version_minor": 0
      },
      "text/plain": [
       "Output()"
      ]
     },
     "metadata": {},
     "output_type": "display_data"
    },
    {
     "data": {
      "text/html": [
       "<pre style=\"white-space:pre;overflow-x:auto;line-height:normal;font-family:Menlo,'DejaVu Sans Mono',consolas,'Courier New',monospace\"></pre>\n"
      ],
      "text/plain": []
     },
     "metadata": {},
     "output_type": "display_data"
    },
    {
     "data": {
      "text/html": [
       "<pre style=\"white-space:pre;overflow-x:auto;line-height:normal;font-family:Menlo,'DejaVu Sans Mono',consolas,'Courier New',monospace\">\n",
       "</pre>\n"
      ],
      "text/plain": [
       "\n"
      ]
     },
     "metadata": {},
     "output_type": "display_data"
    },
    {
     "data": {
      "application/vnd.jupyter.widget-view+json": {
       "model_id": "47c0c63340654061889c64058853522b",
       "version_major": 2,
       "version_minor": 0
      },
      "text/plain": [
       "Output()"
      ]
     },
     "metadata": {},
     "output_type": "display_data"
    },
    {
     "data": {
      "text/html": [
       "<pre style=\"white-space:pre;overflow-x:auto;line-height:normal;font-family:Menlo,'DejaVu Sans Mono',consolas,'Courier New',monospace\"></pre>\n"
      ],
      "text/plain": []
     },
     "metadata": {},
     "output_type": "display_data"
    },
    {
     "data": {
      "text/html": [
       "<pre style=\"white-space:pre;overflow-x:auto;line-height:normal;font-family:Menlo,'DejaVu Sans Mono',consolas,'Courier New',monospace\">\n",
       "</pre>\n"
      ],
      "text/plain": [
       "\n"
      ]
     },
     "metadata": {},
     "output_type": "display_data"
    },
    {
     "data": {
      "application/vnd.jupyter.widget-view+json": {
       "model_id": "dda7d2c0a3d34e01a132129be5cfe813",
       "version_major": 2,
       "version_minor": 0
      },
      "text/plain": [
       "Output()"
      ]
     },
     "metadata": {},
     "output_type": "display_data"
    },
    {
     "data": {
      "text/html": [
       "<pre style=\"white-space:pre;overflow-x:auto;line-height:normal;font-family:Menlo,'DejaVu Sans Mono',consolas,'Courier New',monospace\"></pre>\n"
      ],
      "text/plain": []
     },
     "metadata": {},
     "output_type": "display_data"
    },
    {
     "data": {
      "text/html": [
       "<pre style=\"white-space:pre;overflow-x:auto;line-height:normal;font-family:Menlo,'DejaVu Sans Mono',consolas,'Courier New',monospace\">\n",
       "</pre>\n"
      ],
      "text/plain": [
       "\n"
      ]
     },
     "metadata": {},
     "output_type": "display_data"
    },
    {
     "data": {
      "application/vnd.jupyter.widget-view+json": {
       "model_id": "89db8de63e7b4d0d847eab05ac7d8f2f",
       "version_major": 2,
       "version_minor": 0
      },
      "text/plain": [
       "Output()"
      ]
     },
     "metadata": {},
     "output_type": "display_data"
    },
    {
     "data": {
      "text/html": [
       "<pre style=\"white-space:pre;overflow-x:auto;line-height:normal;font-family:Menlo,'DejaVu Sans Mono',consolas,'Courier New',monospace\"></pre>\n"
      ],
      "text/plain": []
     },
     "metadata": {},
     "output_type": "display_data"
    },
    {
     "data": {
      "text/html": [
       "<pre style=\"white-space:pre;overflow-x:auto;line-height:normal;font-family:Menlo,'DejaVu Sans Mono',consolas,'Courier New',monospace\">\n",
       "</pre>\n"
      ],
      "text/plain": [
       "\n"
      ]
     },
     "metadata": {},
     "output_type": "display_data"
    },
    {
     "data": {
      "application/vnd.jupyter.widget-view+json": {
       "model_id": "d466f5bb8df5478ab51221cd8f549301",
       "version_major": 2,
       "version_minor": 0
      },
      "text/plain": [
       "Output()"
      ]
     },
     "metadata": {},
     "output_type": "display_data"
    },
    {
     "data": {
      "text/html": [
       "<pre style=\"white-space:pre;overflow-x:auto;line-height:normal;font-family:Menlo,'DejaVu Sans Mono',consolas,'Courier New',monospace\"></pre>\n"
      ],
      "text/plain": []
     },
     "metadata": {},
     "output_type": "display_data"
    },
    {
     "data": {
      "text/html": [
       "<pre style=\"white-space:pre;overflow-x:auto;line-height:normal;font-family:Menlo,'DejaVu Sans Mono',consolas,'Courier New',monospace\">\n",
       "</pre>\n"
      ],
      "text/plain": [
       "\n"
      ]
     },
     "metadata": {},
     "output_type": "display_data"
    },
    {
     "data": {
      "application/vnd.jupyter.widget-view+json": {
       "model_id": "7215a0cf00c642bea92fca5c512debba",
       "version_major": 2,
       "version_minor": 0
      },
      "text/plain": [
       "Output()"
      ]
     },
     "metadata": {},
     "output_type": "display_data"
    },
    {
     "data": {
      "text/html": [
       "<pre style=\"white-space:pre;overflow-x:auto;line-height:normal;font-family:Menlo,'DejaVu Sans Mono',consolas,'Courier New',monospace\"></pre>\n"
      ],
      "text/plain": []
     },
     "metadata": {},
     "output_type": "display_data"
    },
    {
     "data": {
      "text/html": [
       "<pre style=\"white-space:pre;overflow-x:auto;line-height:normal;font-family:Menlo,'DejaVu Sans Mono',consolas,'Courier New',monospace\">\n",
       "</pre>\n"
      ],
      "text/plain": [
       "\n"
      ]
     },
     "metadata": {},
     "output_type": "display_data"
    },
    {
     "data": {
      "application/vnd.jupyter.widget-view+json": {
       "model_id": "f6f95208864b42ce8279f52c0ac241ed",
       "version_major": 2,
       "version_minor": 0
      },
      "text/plain": [
       "Output()"
      ]
     },
     "metadata": {},
     "output_type": "display_data"
    },
    {
     "data": {
      "text/html": [
       "<pre style=\"white-space:pre;overflow-x:auto;line-height:normal;font-family:Menlo,'DejaVu Sans Mono',consolas,'Courier New',monospace\"></pre>\n"
      ],
      "text/plain": []
     },
     "metadata": {},
     "output_type": "display_data"
    },
    {
     "data": {
      "text/html": [
       "<pre style=\"white-space:pre;overflow-x:auto;line-height:normal;font-family:Menlo,'DejaVu Sans Mono',consolas,'Courier New',monospace\">\n",
       "</pre>\n"
      ],
      "text/plain": [
       "\n"
      ]
     },
     "metadata": {},
     "output_type": "display_data"
    },
    {
     "data": {
      "application/vnd.jupyter.widget-view+json": {
       "model_id": "336c6053aa99423f8cbe3c663377dbb5",
       "version_major": 2,
       "version_minor": 0
      },
      "text/plain": [
       "Output()"
      ]
     },
     "metadata": {},
     "output_type": "display_data"
    },
    {
     "data": {
      "text/html": [
       "<pre style=\"white-space:pre;overflow-x:auto;line-height:normal;font-family:Menlo,'DejaVu Sans Mono',consolas,'Courier New',monospace\"></pre>\n"
      ],
      "text/plain": []
     },
     "metadata": {},
     "output_type": "display_data"
    },
    {
     "data": {
      "text/html": [
       "<pre style=\"white-space:pre;overflow-x:auto;line-height:normal;font-family:Menlo,'DejaVu Sans Mono',consolas,'Courier New',monospace\">\n",
       "</pre>\n"
      ],
      "text/plain": [
       "\n"
      ]
     },
     "metadata": {},
     "output_type": "display_data"
    },
    {
     "data": {
      "application/vnd.jupyter.widget-view+json": {
       "model_id": "e20aed62dd3a46379328a0ab613d8d62",
       "version_major": 2,
       "version_minor": 0
      },
      "text/plain": [
       "Output()"
      ]
     },
     "metadata": {},
     "output_type": "display_data"
    },
    {
     "data": {
      "text/html": [
       "<pre style=\"white-space:pre;overflow-x:auto;line-height:normal;font-family:Menlo,'DejaVu Sans Mono',consolas,'Courier New',monospace\"></pre>\n"
      ],
      "text/plain": []
     },
     "metadata": {},
     "output_type": "display_data"
    },
    {
     "data": {
      "text/html": [
       "<pre style=\"white-space:pre;overflow-x:auto;line-height:normal;font-family:Menlo,'DejaVu Sans Mono',consolas,'Courier New',monospace\">\n",
       "</pre>\n"
      ],
      "text/plain": [
       "\n"
      ]
     },
     "metadata": {},
     "output_type": "display_data"
    },
    {
     "data": {
      "application/vnd.jupyter.widget-view+json": {
       "model_id": "c8402ecd29a04138a5bcd1012d874729",
       "version_major": 2,
       "version_minor": 0
      },
      "text/plain": [
       "Output()"
      ]
     },
     "metadata": {},
     "output_type": "display_data"
    },
    {
     "data": {
      "text/html": [
       "<pre style=\"white-space:pre;overflow-x:auto;line-height:normal;font-family:Menlo,'DejaVu Sans Mono',consolas,'Courier New',monospace\"></pre>\n"
      ],
      "text/plain": []
     },
     "metadata": {},
     "output_type": "display_data"
    },
    {
     "data": {
      "text/html": [
       "<pre style=\"white-space:pre;overflow-x:auto;line-height:normal;font-family:Menlo,'DejaVu Sans Mono',consolas,'Courier New',monospace\">\n",
       "</pre>\n"
      ],
      "text/plain": [
       "\n"
      ]
     },
     "metadata": {},
     "output_type": "display_data"
    },
    {
     "data": {
      "application/vnd.jupyter.widget-view+json": {
       "model_id": "bbc83d21f5da4cb29f32704341543ae1",
       "version_major": 2,
       "version_minor": 0
      },
      "text/plain": [
       "Output()"
      ]
     },
     "metadata": {},
     "output_type": "display_data"
    },
    {
     "data": {
      "text/html": [
       "<pre style=\"white-space:pre;overflow-x:auto;line-height:normal;font-family:Menlo,'DejaVu Sans Mono',consolas,'Courier New',monospace\"></pre>\n"
      ],
      "text/plain": []
     },
     "metadata": {},
     "output_type": "display_data"
    },
    {
     "data": {
      "text/html": [
       "<pre style=\"white-space:pre;overflow-x:auto;line-height:normal;font-family:Menlo,'DejaVu Sans Mono',consolas,'Courier New',monospace\">\n",
       "</pre>\n"
      ],
      "text/plain": [
       "\n"
      ]
     },
     "metadata": {},
     "output_type": "display_data"
    },
    {
     "data": {
      "application/vnd.jupyter.widget-view+json": {
       "model_id": "681b009e849448059aa96c201cc94dab",
       "version_major": 2,
       "version_minor": 0
      },
      "text/plain": [
       "Output()"
      ]
     },
     "metadata": {},
     "output_type": "display_data"
    },
    {
     "data": {
      "text/html": [
       "<pre style=\"white-space:pre;overflow-x:auto;line-height:normal;font-family:Menlo,'DejaVu Sans Mono',consolas,'Courier New',monospace\"></pre>\n"
      ],
      "text/plain": []
     },
     "metadata": {},
     "output_type": "display_data"
    },
    {
     "data": {
      "text/html": [
       "<pre style=\"white-space:pre;overflow-x:auto;line-height:normal;font-family:Menlo,'DejaVu Sans Mono',consolas,'Courier New',monospace\">\n",
       "</pre>\n"
      ],
      "text/plain": [
       "\n"
      ]
     },
     "metadata": {},
     "output_type": "display_data"
    },
    {
     "data": {
      "application/vnd.jupyter.widget-view+json": {
       "model_id": "e64122da3a7943c2a01666b6674db5b6",
       "version_major": 2,
       "version_minor": 0
      },
      "text/plain": [
       "Output()"
      ]
     },
     "metadata": {},
     "output_type": "display_data"
    },
    {
     "data": {
      "text/html": [
       "<pre style=\"white-space:pre;overflow-x:auto;line-height:normal;font-family:Menlo,'DejaVu Sans Mono',consolas,'Courier New',monospace\"></pre>\n"
      ],
      "text/plain": []
     },
     "metadata": {},
     "output_type": "display_data"
    },
    {
     "data": {
      "text/html": [
       "<pre style=\"white-space:pre;overflow-x:auto;line-height:normal;font-family:Menlo,'DejaVu Sans Mono',consolas,'Courier New',monospace\">\n",
       "</pre>\n"
      ],
      "text/plain": [
       "\n"
      ]
     },
     "metadata": {},
     "output_type": "display_data"
    },
    {
     "data": {
      "application/vnd.jupyter.widget-view+json": {
       "model_id": "700900b689104a4488fdf72152dcdc57",
       "version_major": 2,
       "version_minor": 0
      },
      "text/plain": [
       "Output()"
      ]
     },
     "metadata": {},
     "output_type": "display_data"
    },
    {
     "data": {
      "text/html": [
       "<pre style=\"white-space:pre;overflow-x:auto;line-height:normal;font-family:Menlo,'DejaVu Sans Mono',consolas,'Courier New',monospace\"></pre>\n"
      ],
      "text/plain": []
     },
     "metadata": {},
     "output_type": "display_data"
    },
    {
     "data": {
      "text/html": [
       "<pre style=\"white-space:pre;overflow-x:auto;line-height:normal;font-family:Menlo,'DejaVu Sans Mono',consolas,'Courier New',monospace\">\n",
       "</pre>\n"
      ],
      "text/plain": [
       "\n"
      ]
     },
     "metadata": {},
     "output_type": "display_data"
    },
    {
     "data": {
      "application/vnd.jupyter.widget-view+json": {
       "model_id": "4479c5c1a5b94bafb2cbe646908f6384",
       "version_major": 2,
       "version_minor": 0
      },
      "text/plain": [
       "Output()"
      ]
     },
     "metadata": {},
     "output_type": "display_data"
    },
    {
     "data": {
      "text/html": [
       "<pre style=\"white-space:pre;overflow-x:auto;line-height:normal;font-family:Menlo,'DejaVu Sans Mono',consolas,'Courier New',monospace\"></pre>\n"
      ],
      "text/plain": []
     },
     "metadata": {},
     "output_type": "display_data"
    },
    {
     "data": {
      "text/html": [
       "<pre style=\"white-space:pre;overflow-x:auto;line-height:normal;font-family:Menlo,'DejaVu Sans Mono',consolas,'Courier New',monospace\">\n",
       "</pre>\n"
      ],
      "text/plain": [
       "\n"
      ]
     },
     "metadata": {},
     "output_type": "display_data"
    },
    {
     "data": {
      "application/vnd.jupyter.widget-view+json": {
       "model_id": "da50da18c33c4dab8e6d3491cae9ddd8",
       "version_major": 2,
       "version_minor": 0
      },
      "text/plain": [
       "Output()"
      ]
     },
     "metadata": {},
     "output_type": "display_data"
    },
    {
     "data": {
      "text/html": [
       "<pre style=\"white-space:pre;overflow-x:auto;line-height:normal;font-family:Menlo,'DejaVu Sans Mono',consolas,'Courier New',monospace\"></pre>\n"
      ],
      "text/plain": []
     },
     "metadata": {},
     "output_type": "display_data"
    },
    {
     "data": {
      "text/html": [
       "<pre style=\"white-space:pre;overflow-x:auto;line-height:normal;font-family:Menlo,'DejaVu Sans Mono',consolas,'Courier New',monospace\">\n",
       "</pre>\n"
      ],
      "text/plain": [
       "\n"
      ]
     },
     "metadata": {},
     "output_type": "display_data"
    },
    {
     "data": {
      "application/vnd.jupyter.widget-view+json": {
       "model_id": "6674c4da59f5400f8c61ffbbca4ac250",
       "version_major": 2,
       "version_minor": 0
      },
      "text/plain": [
       "Output()"
      ]
     },
     "metadata": {},
     "output_type": "display_data"
    },
    {
     "data": {
      "text/html": [
       "<pre style=\"white-space:pre;overflow-x:auto;line-height:normal;font-family:Menlo,'DejaVu Sans Mono',consolas,'Courier New',monospace\"></pre>\n"
      ],
      "text/plain": []
     },
     "metadata": {},
     "output_type": "display_data"
    },
    {
     "data": {
      "text/html": [
       "<pre style=\"white-space:pre;overflow-x:auto;line-height:normal;font-family:Menlo,'DejaVu Sans Mono',consolas,'Courier New',monospace\">\n",
       "</pre>\n"
      ],
      "text/plain": [
       "\n"
      ]
     },
     "metadata": {},
     "output_type": "display_data"
    },
    {
     "data": {
      "application/vnd.jupyter.widget-view+json": {
       "model_id": "51e125ab82a9496e80aa6b1f5cf503d2",
       "version_major": 2,
       "version_minor": 0
      },
      "text/plain": [
       "Output()"
      ]
     },
     "metadata": {},
     "output_type": "display_data"
    },
    {
     "data": {
      "text/html": [
       "<pre style=\"white-space:pre;overflow-x:auto;line-height:normal;font-family:Menlo,'DejaVu Sans Mono',consolas,'Courier New',monospace\"></pre>\n"
      ],
      "text/plain": []
     },
     "metadata": {},
     "output_type": "display_data"
    },
    {
     "data": {
      "text/html": [
       "<pre style=\"white-space:pre;overflow-x:auto;line-height:normal;font-family:Menlo,'DejaVu Sans Mono',consolas,'Courier New',monospace\">\n",
       "</pre>\n"
      ],
      "text/plain": [
       "\n"
      ]
     },
     "metadata": {},
     "output_type": "display_data"
    },
    {
     "data": {
      "application/vnd.jupyter.widget-view+json": {
       "model_id": "20e6b4f4588f4bb1af0be6caf548c960",
       "version_major": 2,
       "version_minor": 0
      },
      "text/plain": [
       "Output()"
      ]
     },
     "metadata": {},
     "output_type": "display_data"
    }
   ],
   "source": [
    "keypoints_series = video_df['path'].progress_apply(extract_keypoints_from_file)"
   ]
  },
  {
   "cell_type": "code",
   "execution_count": 53,
   "id": "74e9205e",
   "metadata": {
    "ExecuteTime": {
     "end_time": "2023-07-31T20:16:14.478939Z",
     "start_time": "2023-07-31T20:16:14.475173Z"
    }
   },
   "outputs": [
    {
     "data": {
      "text/plain": [
       "(1405,)"
      ]
     },
     "execution_count": 53,
     "metadata": {},
     "output_type": "execute_result"
    }
   ],
   "source": [
    "keypoints_series.shape"
   ]
  },
  {
   "cell_type": "code",
   "execution_count": 54,
   "id": "c89ba244",
   "metadata": {
    "ExecuteTime": {
     "end_time": "2023-07-31T20:16:16.481232Z",
     "start_time": "2023-07-31T20:16:16.476657Z"
    }
   },
   "outputs": [
    {
     "data": {
      "text/plain": [
       "212"
      ]
     },
     "execution_count": 54,
     "metadata": {},
     "output_type": "execute_result"
    }
   ],
   "source": [
    "max(keypoints.shape[0] for keypoints in keypoints_series)"
   ]
  },
  {
   "cell_type": "code",
   "execution_count": 55,
   "id": "81f27015",
   "metadata": {
    "ExecuteTime": {
     "end_time": "2023-07-31T20:16:17.684673Z",
     "start_time": "2023-07-31T20:16:17.679781Z"
    }
   },
   "outputs": [
    {
     "data": {
      "text/plain": [
       "17"
      ]
     },
     "execution_count": 55,
     "metadata": {},
     "output_type": "execute_result"
    }
   ],
   "source": [
    "min(keypoints.shape[0] for keypoints in keypoints_series)"
   ]
  },
  {
   "cell_type": "code",
   "execution_count": 56,
   "id": "68e2862c",
   "metadata": {
    "ExecuteTime": {
     "end_time": "2023-07-31T20:16:20.571816Z",
     "start_time": "2023-07-31T20:16:20.569433Z"
    }
   },
   "outputs": [],
   "source": [
    "max_len = video_df['frames'].max()"
   ]
  },
  {
   "cell_type": "code",
   "execution_count": 66,
   "id": "d997f11c",
   "metadata": {
    "ExecuteTime": {
     "end_time": "2023-07-31T20:19:03.053548Z",
     "start_time": "2023-07-31T20:19:03.049831Z"
    }
   },
   "outputs": [
    {
     "data": {
      "text/plain": [
       "212"
      ]
     },
     "execution_count": 66,
     "metadata": {},
     "output_type": "execute_result"
    }
   ],
   "source": [
    "max_len"
   ]
  },
  {
   "cell_type": "code",
   "execution_count": 57,
   "id": "6dd13ef8",
   "metadata": {
    "ExecuteTime": {
     "end_time": "2023-07-31T20:16:29.495747Z",
     "start_time": "2023-07-31T20:16:29.483119Z"
    }
   },
   "outputs": [
    {
     "data": {
      "text/plain": [
       "count    1405.000000\n",
       "mean       72.436299\n",
       "std        28.148461\n",
       "min        17.000000\n",
       "25%        53.000000\n",
       "50%        71.000000\n",
       "75%        89.000000\n",
       "max       212.000000\n",
       "Name: frames, dtype: float64"
      ]
     },
     "execution_count": 57,
     "metadata": {},
     "output_type": "execute_result"
    }
   ],
   "source": [
    "video_df['frames'].describe()"
   ]
  },
  {
   "cell_type": "code",
   "execution_count": 59,
   "id": "e976d35e",
   "metadata": {
    "ExecuteTime": {
     "end_time": "2023-07-31T20:17:00.593488Z",
     "start_time": "2023-07-31T20:17:00.484293Z"
    }
   },
   "outputs": [],
   "source": [
    "keypoints_np = np.zeros((len(keypoints_series), max_len, 266))\n",
    "for i, keypoints in enumerate(keypoints_series):\n",
    "    keypoints_np[i, :keypoints.shape[0], :] = keypoints"
   ]
  },
  {
   "cell_type": "code",
   "execution_count": 60,
   "id": "22575043",
   "metadata": {
    "ExecuteTime": {
     "end_time": "2023-07-31T20:17:02.780628Z",
     "start_time": "2023-07-31T20:17:02.777011Z"
    }
   },
   "outputs": [
    {
     "data": {
      "text/plain": [
       "(1405, 212, 266)"
      ]
     },
     "execution_count": 60,
     "metadata": {},
     "output_type": "execute_result"
    }
   ],
   "source": [
    "keypoints_np.shape"
   ]
  },
  {
   "cell_type": "code",
   "execution_count": 61,
   "id": "b4db07c6",
   "metadata": {
    "ExecuteTime": {
     "end_time": "2023-07-31T20:17:06.662496Z",
     "start_time": "2023-07-31T20:17:06.152357Z"
    }
   },
   "outputs": [],
   "source": [
    "np.save(\"/home/kristian/Capstone/keypoints/mmpose_keypoints.npy\", keypoints_np)"
   ]
  },
  {
   "cell_type": "code",
   "execution_count": 62,
   "id": "01a54c21",
   "metadata": {
    "ExecuteTime": {
     "end_time": "2023-07-31T20:17:11.073151Z",
     "start_time": "2023-07-31T20:17:10.875169Z"
    }
   },
   "outputs": [],
   "source": [
    "keypoints_np=np.load('/home/kristian/Capstone/keypoints/mmpose_keypoints.npy')"
   ]
  },
  {
   "cell_type": "code",
   "execution_count": 63,
   "id": "7955e467",
   "metadata": {
    "ExecuteTime": {
     "end_time": "2023-07-31T20:17:11.958351Z",
     "start_time": "2023-07-31T20:17:11.954935Z"
    }
   },
   "outputs": [
    {
     "data": {
      "text/plain": [
       "(1405, 212, 266)"
      ]
     },
     "execution_count": 63,
     "metadata": {},
     "output_type": "execute_result"
    }
   ],
   "source": [
    "keypoints_np.shape"
   ]
  },
  {
   "cell_type": "code",
   "execution_count": null,
   "id": "9fc8b37e",
   "metadata": {},
   "outputs": [],
   "source": []
  }
 ],
 "metadata": {
  "kernelspec": {
   "display_name": "Python 3 (ipykernel)",
   "language": "python",
   "name": "python3"
  },
  "language_info": {
   "codemirror_mode": {
    "name": "ipython",
    "version": 3
   },
   "file_extension": ".py",
   "mimetype": "text/x-python",
   "name": "python",
   "nbconvert_exporter": "python",
   "pygments_lexer": "ipython3",
   "version": "3.10.12"
  },
  "toc": {
   "base_numbering": 1,
   "nav_menu": {},
   "number_sections": true,
   "sideBar": true,
   "skip_h1_title": false,
   "title_cell": "Table of Contents",
   "title_sidebar": "Contents",
   "toc_cell": false,
   "toc_position": {},
   "toc_section_display": true,
   "toc_window_display": false
  },
  "varInspector": {
   "cols": {
    "lenName": 16,
    "lenType": 16,
    "lenVar": 40
   },
   "kernels_config": {
    "python": {
     "delete_cmd_postfix": "",
     "delete_cmd_prefix": "del ",
     "library": "var_list.py",
     "varRefreshCmd": "print(var_dic_list())"
    },
    "r": {
     "delete_cmd_postfix": ") ",
     "delete_cmd_prefix": "rm(",
     "library": "var_list.r",
     "varRefreshCmd": "cat(var_dic_list()) "
    }
   },
   "position": {
    "height": "145.352px",
    "left": "2032px",
    "right": "20px",
    "top": "121px",
    "width": "350px"
   },
   "types_to_exclude": [
    "module",
    "function",
    "builtin_function_or_method",
    "instance",
    "_Feature"
   ],
   "window_display": false
  }
 },
 "nbformat": 4,
 "nbformat_minor": 5
}
