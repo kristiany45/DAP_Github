{
 "cells": [
  {
   "cell_type": "markdown",
   "id": "957d823f",
   "metadata": {
    "toc": true
   },
   "source": [
    "<h1>Table of Contents<span class=\"tocSkip\"></span></h1>\n",
    "<div class=\"toc\"><ul class=\"toc-item\"></ul></div>"
   ]
  },
  {
   "cell_type": "code",
   "execution_count": 1,
   "id": "ab7927e9",
   "metadata": {
    "ExecuteTime": {
     "end_time": "2023-08-04T22:01:30.349670Z",
     "start_time": "2023-08-04T22:01:10.355134Z"
    }
   },
   "outputs": [
    {
     "name": "stderr",
     "output_type": "stream",
     "text": [
      "2023-08-04 23:01:13.411704: I tensorflow/core/platform/cpu_feature_guard.cc:182] This TensorFlow binary is optimized to use available CPU instructions in performance-critical operations.\n",
      "To enable the following instructions: AVX2 FMA, in other operations, rebuild TensorFlow with the appropriate compiler flags.\n",
      "2023-08-04 23:01:26.424173: W tensorflow/compiler/tf2tensorrt/utils/py_utils.cc:38] TF-TRT Warning: Could not find TensorRT\n"
     ]
    }
   ],
   "source": [
    "import mediapipe as mp\n",
    "import numpy as np\n",
    "import cv2\n",
    "from pyspark.sql.functions import row_number\n",
    "from pyspark.sql.window import Window\n",
    "import pandas as pd\n",
    "from tqdm import tqdm\n",
    "import gc\n",
    "from operator import add"
   ]
  },
  {
   "cell_type": "code",
   "execution_count": 2,
   "id": "fefa485b",
   "metadata": {
    "ExecuteTime": {
     "end_time": "2023-08-04T22:01:32.364501Z",
     "start_time": "2023-08-04T22:01:32.362008Z"
    }
   },
   "outputs": [],
   "source": [
    "mp_drawing = mp.solutions.drawing_utils\n",
    "mp_holistic = mp.solutions.holistic"
   ]
  },
  {
   "cell_type": "code",
   "execution_count": 3,
   "id": "05d07926",
   "metadata": {
    "ExecuteTime": {
     "end_time": "2023-08-04T22:01:49.449581Z",
     "start_time": "2023-08-04T22:01:40.930768Z"
    }
   },
   "outputs": [
    {
     "name": "stderr",
     "output_type": "stream",
     "text": [
      "INFO: Created TensorFlow Lite XNNPACK delegate for CPU.\n"
     ]
    }
   ],
   "source": [
    "cap = cv2.VideoCapture(\"file://media/kristian/HDD/ASL_Citizen/ASL_Citizen/videos/0023159093449660606-CAFETERIA.mp4\")\n",
    "#cap = cv2.VideoCapture(0)\n",
    "\n",
    "with mp_holistic.Holistic(static_image_mode=False,\n",
    "                          model_complexity=2) as holistic:\n",
    "    while True:\n",
    "        ret, frame = cap.read()\n",
    "        if ret == False:\n",
    "            break\n",
    "        frame_rgb = cv2.cvtColor(frame, cv2.COLOR_BGR2RGB)\n",
    "        results = holistic.process(frame_rgb)\n",
    "        # face\n",
    "        mp_drawing.draw_landmarks(\n",
    "            frame, results.face_landmarks, mp_holistic.FACEMESH_TESSELATION,\n",
    "            mp_drawing.DrawingSpec(color=(0, 255, 255),\n",
    "                                   thickness=1,\n",
    "                                   circle_radius=1),\n",
    "            mp_drawing.DrawingSpec(color=(0, 128, 255), thickness=2))\n",
    "\n",
    "        # Left hand\n",
    "        mp_drawing.draw_landmarks(\n",
    "            frame, results.left_hand_landmarks, mp_holistic.HAND_CONNECTIONS,\n",
    "            mp_drawing.DrawingSpec(color=(0, 0, 0),\n",
    "                                   thickness=2,\n",
    "                                   circle_radius=1),\n",
    "            mp_drawing.DrawingSpec(color=(0, 92, 230), thickness=2))\n",
    "\n",
    "        # Right Hand\n",
    "        mp_drawing.draw_landmarks(\n",
    "            frame, results.right_hand_landmarks, mp_holistic.HAND_CONNECTIONS,\n",
    "            mp_drawing.DrawingSpec(color=(0, 0, 0),\n",
    "                                   thickness=2,\n",
    "                                   circle_radius=1),\n",
    "            mp_drawing.DrawingSpec(color=(0, 92, 230), thickness=2))\n",
    "\n",
    "        # Posture\n",
    "        mp_drawing.draw_landmarks(\n",
    "            frame, results.pose_landmarks, mp_holistic.POSE_CONNECTIONS,\n",
    "            mp_drawing.DrawingSpec(color=(0, 0, 0),\n",
    "                                   thickness=2,\n",
    "                                   circle_radius=1),\n",
    "            mp_drawing.DrawingSpec(color=(0, 92, 230), thickness=2))\n",
    "        frame = cv2.flip(frame, 1)\n",
    "        cv2.imshow(\"Frame\", frame)\n",
    "        if cv2.waitKey(1) & 0xFF == 27:\n",
    "            break\n",
    "cap.release()\n",
    "cv2.destroyAllWindows()"
   ]
  },
  {
   "cell_type": "code",
   "execution_count": 4,
   "id": "3884fb03",
   "metadata": {
    "ExecuteTime": {
     "end_time": "2023-08-04T22:01:52.735397Z",
     "start_time": "2023-08-04T22:01:52.730205Z"
    }
   },
   "outputs": [
    {
     "data": {
      "text/plain": [
       "mediapipe.python.solution_base.SolutionOutputs"
      ]
     },
     "execution_count": 4,
     "metadata": {},
     "output_type": "execute_result"
    }
   ],
   "source": [
    "results"
   ]
  },
  {
   "cell_type": "code",
   "execution_count": 5,
   "id": "439656a0",
   "metadata": {
    "ExecuteTime": {
     "end_time": "2023-08-04T22:01:54.721356Z",
     "start_time": "2023-08-04T22:01:54.717580Z"
    }
   },
   "outputs": [
    {
     "data": {
      "text/plain": [
       "33"
      ]
     },
     "execution_count": 5,
     "metadata": {},
     "output_type": "execute_result"
    }
   ],
   "source": [
    "len(results.pose_landmarks.landmark)"
   ]
  },
  {
   "cell_type": "code",
   "execution_count": 6,
   "id": "f5879199",
   "metadata": {
    "ExecuteTime": {
     "end_time": "2023-08-04T22:01:56.310162Z",
     "start_time": "2023-08-04T22:01:56.306959Z"
    }
   },
   "outputs": [],
   "source": [
    "pose = []\n",
    "for res in results.pose_landmarks.landmark:\n",
    "    test = np.array([res.x, res.y, res.z, res.visibility])\n",
    "    pose.append(test)"
   ]
  },
  {
   "cell_type": "code",
   "execution_count": null,
   "id": "85938609",
   "metadata": {
    "ExecuteTime": {
     "end_time": "2023-08-04T22:01:57.195925Z",
     "start_time": "2023-08-04T22:01:57.195905Z"
    }
   },
   "outputs": [],
   "source": [
    "pose = np.array([[res.x, res.y, res.z, res.visibility] for res in results.pose_landmarks.landmark]).flatten() if results.pose_landmarks else np.zeros(132)\n",
    "face = np.array([[res.x, res.y, res.z] for res in results.face_landmarks.landmark]).flatten() if results.face_landmarks else np.zeros(1404)\n",
    "lh = np.array([[res.x, res.y, res.z] for res in results.left_hand_landmarks.landmark]).flatten() if results.left_hand_landmarks else np.zeros(21*3)\n",
    "rh = np.array([[res.x, res.y, res.z] for res in results.right_hand_landmarks.landmark]).flatten() if results.right_hand_landmarks else np.zeros(21*3)"
   ]
  },
  {
   "cell_type": "code",
   "execution_count": 7,
   "id": "d61e74ee",
   "metadata": {
    "ExecuteTime": {
     "end_time": "2023-08-04T22:01:57.993730Z",
     "start_time": "2023-08-04T22:01:57.988243Z"
    }
   },
   "outputs": [],
   "source": [
    "def extract_keypoints(results):\n",
    "    pose = np.array([[res.x, res.y, res.z, res.visibility] for res in results.pose_landmarks.landmark]).flatten() if results.pose_landmarks else np.zeros(33*4)\n",
    "    face = np.array([[res.x, res.y, res.z] for res in results.face_landmarks.landmark]).flatten() if results.face_landmarks else np.zeros(468*3)\n",
    "    lh = np.array([[res.x, res.y, res.z] for res in results.left_hand_landmarks.landmark]).flatten() if results.left_hand_landmarks else np.zeros(21*3)\n",
    "    rh = np.array([[res.x, res.y, res.z] for res in results.right_hand_landmarks.landmark]).flatten() if results.right_hand_landmarks else np.zeros(21*3)\n",
    "    return np.concatenate([pose, face, lh, rh])"
   ]
  },
  {
   "cell_type": "code",
   "execution_count": 8,
   "id": "b7a805c6",
   "metadata": {
    "ExecuteTime": {
     "end_time": "2023-08-04T22:01:59.970985Z",
     "start_time": "2023-08-04T22:01:59.967182Z"
    }
   },
   "outputs": [],
   "source": [
    "result_test = extract_keypoints(results)"
   ]
  },
  {
   "cell_type": "code",
   "execution_count": 9,
   "id": "96d95912",
   "metadata": {
    "ExecuteTime": {
     "end_time": "2023-08-04T22:02:00.842932Z",
     "start_time": "2023-08-04T22:02:00.839690Z"
    }
   },
   "outputs": [
    {
     "data": {
      "text/plain": [
       "array([ 0.53414291,  0.4640485 , -0.59761614, ...,  0.        ,\n",
       "        0.        ,  0.        ])"
      ]
     },
     "execution_count": 9,
     "metadata": {},
     "output_type": "execute_result"
    }
   ],
   "source": [
    "result_test"
   ]
  },
  {
   "cell_type": "code",
   "execution_count": 10,
   "id": "27968a54",
   "metadata": {
    "ExecuteTime": {
     "end_time": "2023-08-04T22:02:02.238419Z",
     "start_time": "2023-08-04T22:02:02.234460Z"
    }
   },
   "outputs": [],
   "source": [
    "def signvideodataframe(filepath):\n",
    "    # Read the CSV file into a DataFrame\n",
    "    df = pd.read_csv(filepath)\n",
    "\n",
    "    # Define the path to the videos directory\n",
    "    path = 'file:///media/kristian/HDD/ASL_Citizen/ASL_Citizen/videos/'\n",
    "\n",
    "    # Create a 'Path' column by concatenating the path with 'Video file' column\n",
    "    df['Path'] = path + df['Video file']\n",
    "    \n",
    "#    df['Gloss'] = df['Gloss'].str.replace('\\d+', '',regex=True)\n",
    "\n",
    "    # Calculate the frequency of each gloss and create a 'frequency' column\n",
    "    df['Frequency'] = df['Gloss'].map(df['Gloss'].value_counts())\n",
    "\n",
    "    # Sort the DataFrame by the 'Gloss' column\n",
    "    df = df.sort_values(by='Gloss')\n",
    "\n",
    "    # Reset the index of the DataFrame\n",
    "    df = df.reset_index(drop=True)\n",
    "\n",
    "    return df"
   ]
  },
  {
   "cell_type": "code",
   "execution_count": 11,
   "id": "6f469356",
   "metadata": {
    "ExecuteTime": {
     "end_time": "2023-08-04T22:02:03.175181Z",
     "start_time": "2023-08-04T22:02:03.081865Z"
    }
   },
   "outputs": [],
   "source": [
    "traindf = signvideodataframe('file:///media/kristian/HDD/ASL_Citizen/ASL_Citizen/splits/train.csv')"
   ]
  },
  {
   "cell_type": "code",
   "execution_count": 12,
   "id": "ea9e1a27",
   "metadata": {
    "ExecuteTime": {
     "end_time": "2023-08-04T22:02:04.417913Z",
     "start_time": "2023-08-04T22:02:04.410855Z"
    }
   },
   "outputs": [
    {
     "data": {
      "text/html": [
       "<div>\n",
       "<style scoped>\n",
       "    .dataframe tbody tr th:only-of-type {\n",
       "        vertical-align: middle;\n",
       "    }\n",
       "\n",
       "    .dataframe tbody tr th {\n",
       "        vertical-align: top;\n",
       "    }\n",
       "\n",
       "    .dataframe thead th {\n",
       "        text-align: right;\n",
       "    }\n",
       "</style>\n",
       "<table border=\"1\" class=\"dataframe\">\n",
       "  <thead>\n",
       "    <tr style=\"text-align: right;\">\n",
       "      <th></th>\n",
       "      <th>Participant ID</th>\n",
       "      <th>Video file</th>\n",
       "      <th>Gloss</th>\n",
       "      <th>ASL-LEX Code</th>\n",
       "      <th>Path</th>\n",
       "      <th>Frequency</th>\n",
       "    </tr>\n",
       "  </thead>\n",
       "  <tbody>\n",
       "    <tr>\n",
       "      <th>0</th>\n",
       "      <td>P31</td>\n",
       "      <td>3827306090663467-1 DOLLAR.mp4</td>\n",
       "      <td>1DOLLAR</td>\n",
       "      <td>C_02_025</td>\n",
       "      <td>file:///media/kristian/HDD/ASL_Citizen/ASL_Cit...</td>\n",
       "      <td>15</td>\n",
       "    </tr>\n",
       "    <tr>\n",
       "      <th>1</th>\n",
       "      <td>P37</td>\n",
       "      <td>16792698524451422-1 DOLLAR.mp4</td>\n",
       "      <td>1DOLLAR</td>\n",
       "      <td>C_02_025</td>\n",
       "      <td>file:///media/kristian/HDD/ASL_Citizen/ASL_Cit...</td>\n",
       "      <td>15</td>\n",
       "    </tr>\n",
       "    <tr>\n",
       "      <th>2</th>\n",
       "      <td>P11</td>\n",
       "      <td>6868778695018762-1 DOLLAR.mp4</td>\n",
       "      <td>1DOLLAR</td>\n",
       "      <td>C_02_025</td>\n",
       "      <td>file:///media/kristian/HDD/ASL_Citizen/ASL_Cit...</td>\n",
       "      <td>15</td>\n",
       "    </tr>\n",
       "    <tr>\n",
       "      <th>3</th>\n",
       "      <td>P11</td>\n",
       "      <td>6870709051348651-1 DOLLAR.mp4</td>\n",
       "      <td>1DOLLAR</td>\n",
       "      <td>C_02_025</td>\n",
       "      <td>file:///media/kristian/HDD/ASL_Citizen/ASL_Cit...</td>\n",
       "      <td>15</td>\n",
       "    </tr>\n",
       "    <tr>\n",
       "      <th>4</th>\n",
       "      <td>P50</td>\n",
       "      <td>0719792557216079-1 DOLLAR.mp4</td>\n",
       "      <td>1DOLLAR</td>\n",
       "      <td>C_02_025</td>\n",
       "      <td>file:///media/kristian/HDD/ASL_Citizen/ASL_Cit...</td>\n",
       "      <td>15</td>\n",
       "    </tr>\n",
       "  </tbody>\n",
       "</table>\n",
       "</div>"
      ],
      "text/plain": [
       "  Participant ID                      Video file    Gloss ASL-LEX Code  \\\n",
       "0            P31   3827306090663467-1 DOLLAR.mp4  1DOLLAR     C_02_025   \n",
       "1            P37  16792698524451422-1 DOLLAR.mp4  1DOLLAR     C_02_025   \n",
       "2            P11   6868778695018762-1 DOLLAR.mp4  1DOLLAR     C_02_025   \n",
       "3            P11   6870709051348651-1 DOLLAR.mp4  1DOLLAR     C_02_025   \n",
       "4            P50   0719792557216079-1 DOLLAR.mp4  1DOLLAR     C_02_025   \n",
       "\n",
       "                                                Path  Frequency  \n",
       "0  file:///media/kristian/HDD/ASL_Citizen/ASL_Cit...         15  \n",
       "1  file:///media/kristian/HDD/ASL_Citizen/ASL_Cit...         15  \n",
       "2  file:///media/kristian/HDD/ASL_Citizen/ASL_Cit...         15  \n",
       "3  file:///media/kristian/HDD/ASL_Citizen/ASL_Cit...         15  \n",
       "4  file:///media/kristian/HDD/ASL_Citizen/ASL_Cit...         15  "
      ]
     },
     "execution_count": 12,
     "metadata": {},
     "output_type": "execute_result"
    }
   ],
   "source": [
    "traindf.head()"
   ]
  },
  {
   "cell_type": "code",
   "execution_count": 13,
   "id": "a659210e",
   "metadata": {
    "ExecuteTime": {
     "end_time": "2023-08-04T22:02:05.127048Z",
     "start_time": "2023-08-04T22:02:05.118091Z"
    }
   },
   "outputs": [
    {
     "data": {
      "text/html": [
       "<div>\n",
       "<style scoped>\n",
       "    .dataframe tbody tr th:only-of-type {\n",
       "        vertical-align: middle;\n",
       "    }\n",
       "\n",
       "    .dataframe tbody tr th {\n",
       "        vertical-align: top;\n",
       "    }\n",
       "\n",
       "    .dataframe thead th {\n",
       "        text-align: right;\n",
       "    }\n",
       "</style>\n",
       "<table border=\"1\" class=\"dataframe\">\n",
       "  <thead>\n",
       "    <tr style=\"text-align: right;\">\n",
       "      <th></th>\n",
       "      <th>Participant ID</th>\n",
       "      <th>Video file</th>\n",
       "      <th>Gloss</th>\n",
       "      <th>ASL-LEX Code</th>\n",
       "      <th>Path</th>\n",
       "      <th>Frequency</th>\n",
       "    </tr>\n",
       "  </thead>\n",
       "  <tbody>\n",
       "    <tr>\n",
       "      <th>40149</th>\n",
       "      <td>P37</td>\n",
       "      <td>9716493262876276-ZOOM OFF.mp4</td>\n",
       "      <td>ZOOMOFF</td>\n",
       "      <td>D_01_057</td>\n",
       "      <td>file:///media/kristian/HDD/ASL_Citizen/ASL_Cit...</td>\n",
       "      <td>15</td>\n",
       "    </tr>\n",
       "    <tr>\n",
       "      <th>40150</th>\n",
       "      <td>P31</td>\n",
       "      <td>7550572181460327-ZOOM OFF.mp4</td>\n",
       "      <td>ZOOMOFF</td>\n",
       "      <td>D_01_057</td>\n",
       "      <td>file:///media/kristian/HDD/ASL_Citizen/ASL_Cit...</td>\n",
       "      <td>15</td>\n",
       "    </tr>\n",
       "    <tr>\n",
       "      <th>40151</th>\n",
       "      <td>P46</td>\n",
       "      <td>47985881750082227-ZOOM OFF.mp4</td>\n",
       "      <td>ZOOMOFF</td>\n",
       "      <td>D_01_057</td>\n",
       "      <td>file:///media/kristian/HDD/ASL_Citizen/ASL_Cit...</td>\n",
       "      <td>15</td>\n",
       "    </tr>\n",
       "    <tr>\n",
       "      <th>40152</th>\n",
       "      <td>P50</td>\n",
       "      <td>04671245574824856-ZOOM OFF.mp4</td>\n",
       "      <td>ZOOMOFF</td>\n",
       "      <td>D_01_057</td>\n",
       "      <td>file:///media/kristian/HDD/ASL_Citizen/ASL_Cit...</td>\n",
       "      <td>15</td>\n",
       "    </tr>\n",
       "    <tr>\n",
       "      <th>40153</th>\n",
       "      <td>P51</td>\n",
       "      <td>19959052532136146-ZOOM OFF.mp4</td>\n",
       "      <td>ZOOMOFF</td>\n",
       "      <td>D_01_057</td>\n",
       "      <td>file:///media/kristian/HDD/ASL_Citizen/ASL_Cit...</td>\n",
       "      <td>15</td>\n",
       "    </tr>\n",
       "  </tbody>\n",
       "</table>\n",
       "</div>"
      ],
      "text/plain": [
       "      Participant ID                      Video file    Gloss ASL-LEX Code  \\\n",
       "40149            P37   9716493262876276-ZOOM OFF.mp4  ZOOMOFF     D_01_057   \n",
       "40150            P31   7550572181460327-ZOOM OFF.mp4  ZOOMOFF     D_01_057   \n",
       "40151            P46  47985881750082227-ZOOM OFF.mp4  ZOOMOFF     D_01_057   \n",
       "40152            P50  04671245574824856-ZOOM OFF.mp4  ZOOMOFF     D_01_057   \n",
       "40153            P51  19959052532136146-ZOOM OFF.mp4  ZOOMOFF     D_01_057   \n",
       "\n",
       "                                                    Path  Frequency  \n",
       "40149  file:///media/kristian/HDD/ASL_Citizen/ASL_Cit...         15  \n",
       "40150  file:///media/kristian/HDD/ASL_Citizen/ASL_Cit...         15  \n",
       "40151  file:///media/kristian/HDD/ASL_Citizen/ASL_Cit...         15  \n",
       "40152  file:///media/kristian/HDD/ASL_Citizen/ASL_Cit...         15  \n",
       "40153  file:///media/kristian/HDD/ASL_Citizen/ASL_Cit...         15  "
      ]
     },
     "execution_count": 13,
     "metadata": {},
     "output_type": "execute_result"
    }
   ],
   "source": [
    "traindf.tail()"
   ]
  },
  {
   "cell_type": "code",
   "execution_count": 14,
   "id": "13aa6e47",
   "metadata": {
    "ExecuteTime": {
     "end_time": "2023-08-04T22:02:05.884537Z",
     "start_time": "2023-08-04T22:02:05.881053Z"
    }
   },
   "outputs": [
    {
     "data": {
      "text/plain": [
       "'file:///media/kristian/HDD/ASL_Citizen/ASL_Citizen/videos/3827306090663467-1 DOLLAR.mp4'"
      ]
     },
     "execution_count": 14,
     "metadata": {},
     "output_type": "execute_result"
    }
   ],
   "source": [
    "traindf['Path'][0]"
   ]
  },
  {
   "cell_type": "code",
   "execution_count": 15,
   "id": "d581c72d",
   "metadata": {
    "ExecuteTime": {
     "end_time": "2023-08-04T22:02:22.357153Z",
     "start_time": "2023-08-04T22:02:08.967418Z"
    }
   },
   "outputs": [],
   "source": [
    "cap = cv2.VideoCapture(traindf['Path'][0])\n",
    "#cap = cv2.VideoCapture(0)\n",
    "\n",
    "with mp_holistic.Holistic(static_image_mode=False,\n",
    "                          model_complexity=2) as holistic:\n",
    "    while True:\n",
    "        ret, frame = cap.read()\n",
    "        if ret == False:\n",
    "            break\n",
    "        frame_rgb = cv2.cvtColor(frame, cv2.COLOR_BGR2RGB)\n",
    "        results = holistic.process(frame_rgb)\n",
    "        # face\n",
    "        mp_drawing.draw_landmarks(\n",
    "            frame, results.face_landmarks, mp_holistic.FACEMESH_TESSELATION,\n",
    "            mp_drawing.DrawingSpec(color=(0, 255, 255),\n",
    "                                   thickness=1,\n",
    "                                   circle_radius=1),\n",
    "            mp_drawing.DrawingSpec(color=(0, 128, 255), thickness=2))\n",
    "\n",
    "        # Left hand\n",
    "        mp_drawing.draw_landmarks(\n",
    "            frame, results.left_hand_landmarks, mp_holistic.HAND_CONNECTIONS,\n",
    "            mp_drawing.DrawingSpec(color=(0, 0, 0),\n",
    "                                   thickness=2,\n",
    "                                   circle_radius=1),\n",
    "            mp_drawing.DrawingSpec(color=(0, 92, 230), thickness=2))\n",
    "\n",
    "        # Right Hand\n",
    "        mp_drawing.draw_landmarks(\n",
    "            frame, results.right_hand_landmarks, mp_holistic.HAND_CONNECTIONS,\n",
    "            mp_drawing.DrawingSpec(color=(0, 0, 0),\n",
    "                                   thickness=2,\n",
    "                                   circle_radius=1),\n",
    "            mp_drawing.DrawingSpec(color=(0, 92, 230), thickness=2))\n",
    "\n",
    "        # Posture\n",
    "        mp_drawing.draw_landmarks(\n",
    "            frame, results.pose_landmarks, mp_holistic.POSE_CONNECTIONS,\n",
    "            mp_drawing.DrawingSpec(color=(0, 0, 0),\n",
    "                                   thickness=2,\n",
    "                                   circle_radius=1),\n",
    "            mp_drawing.DrawingSpec(color=(0, 92, 230), thickness=2))\n",
    "        frame = cv2.flip(frame, 1)\n",
    "        cv2.imshow(\"Frame\", frame)\n",
    "        if cv2.waitKey(1) & 0xFF == 27:\n",
    "            break\n",
    "cap.release()\n",
    "cv2.destroyAllWindows()"
   ]
  },
  {
   "cell_type": "code",
   "execution_count": 16,
   "id": "7e7c3bde",
   "metadata": {
    "ExecuteTime": {
     "end_time": "2023-08-04T22:02:24.899578Z",
     "start_time": "2023-08-04T22:02:24.887598Z"
    }
   },
   "outputs": [
    {
     "data": {
      "text/html": [
       "<div>\n",
       "<style scoped>\n",
       "    .dataframe tbody tr th:only-of-type {\n",
       "        vertical-align: middle;\n",
       "    }\n",
       "\n",
       "    .dataframe tbody tr th {\n",
       "        vertical-align: top;\n",
       "    }\n",
       "\n",
       "    .dataframe thead th {\n",
       "        text-align: right;\n",
       "    }\n",
       "</style>\n",
       "<table border=\"1\" class=\"dataframe\">\n",
       "  <thead>\n",
       "    <tr style=\"text-align: right;\">\n",
       "      <th></th>\n",
       "      <th>Participant ID</th>\n",
       "      <th>Video file</th>\n",
       "      <th>Gloss</th>\n",
       "      <th>ASL-LEX Code</th>\n",
       "      <th>Path</th>\n",
       "      <th>Frequency</th>\n",
       "    </tr>\n",
       "  </thead>\n",
       "  <tbody>\n",
       "    <tr>\n",
       "      <th>13369</th>\n",
       "      <td>P52</td>\n",
       "      <td>08014010847141662-seedFLOWER.mp4</td>\n",
       "      <td>FLOWER</td>\n",
       "      <td>A_03_017</td>\n",
       "      <td>file:///media/kristian/HDD/ASL_Citizen/ASL_Cit...</td>\n",
       "      <td>15</td>\n",
       "    </tr>\n",
       "    <tr>\n",
       "      <th>19027</th>\n",
       "      <td>P33</td>\n",
       "      <td>9448930676905178-KICK 2.mp4</td>\n",
       "      <td>KICK1</td>\n",
       "      <td>K_03_084</td>\n",
       "      <td>file:///media/kristian/HDD/ASL_Citizen/ASL_Cit...</td>\n",
       "      <td>14</td>\n",
       "    </tr>\n",
       "    <tr>\n",
       "      <th>24341</th>\n",
       "      <td>P10</td>\n",
       "      <td>2267117315681657-OTHER.mp4</td>\n",
       "      <td>OTHER</td>\n",
       "      <td>B_02_043</td>\n",
       "      <td>file:///media/kristian/HDD/ASL_Citizen/ASL_Cit...</td>\n",
       "      <td>17</td>\n",
       "    </tr>\n",
       "    <tr>\n",
       "      <th>21979</th>\n",
       "      <td>P40</td>\n",
       "      <td>7265074877585485-MIND TURNED.mp4</td>\n",
       "      <td>MINDTURNED</td>\n",
       "      <td>J_01_034</td>\n",
       "      <td>file:///media/kristian/HDD/ASL_Citizen/ASL_Cit...</td>\n",
       "      <td>15</td>\n",
       "    </tr>\n",
       "    <tr>\n",
       "      <th>19633</th>\n",
       "      <td>P4</td>\n",
       "      <td>7352560631190481-LAWNMOWER.mp4</td>\n",
       "      <td>LAWNMOWER</td>\n",
       "      <td>B_03_064</td>\n",
       "      <td>file:///media/kristian/HDD/ASL_Citizen/ASL_Cit...</td>\n",
       "      <td>14</td>\n",
       "    </tr>\n",
       "    <tr>\n",
       "      <th>140</th>\n",
       "      <td>P30</td>\n",
       "      <td>900810803143296-ABSOLUTELY NOTHING.mp4</td>\n",
       "      <td>ABSOLUTELYNOTHING</td>\n",
       "      <td>J_01_027</td>\n",
       "      <td>file:///media/kristian/HDD/ASL_Citizen/ASL_Cit...</td>\n",
       "      <td>15</td>\n",
       "    </tr>\n",
       "    <tr>\n",
       "      <th>24794</th>\n",
       "      <td>P52</td>\n",
       "      <td>5410114147026581-seedPARK.mp4</td>\n",
       "      <td>PARK</td>\n",
       "      <td>E_03_028</td>\n",
       "      <td>file:///media/kristian/HDD/ASL_Citizen/ASL_Cit...</td>\n",
       "      <td>15</td>\n",
       "    </tr>\n",
       "    <tr>\n",
       "      <th>9558</th>\n",
       "      <td>P30</td>\n",
       "      <td>26933778731561975-DISAPPOINT.mp4</td>\n",
       "      <td>DISAPPOINT</td>\n",
       "      <td>G_03_018</td>\n",
       "      <td>file:///media/kristian/HDD/ASL_Citizen/ASL_Cit...</td>\n",
       "      <td>16</td>\n",
       "    </tr>\n",
       "    <tr>\n",
       "      <th>32611</th>\n",
       "      <td>P23</td>\n",
       "      <td>44607527963043525-SPACESHIP.mp4</td>\n",
       "      <td>SPACESHIP</td>\n",
       "      <td>J_03_074</td>\n",
       "      <td>file:///media/kristian/HDD/ASL_Citizen/ASL_Cit...</td>\n",
       "      <td>16</td>\n",
       "    </tr>\n",
       "    <tr>\n",
       "      <th>13231</th>\n",
       "      <td>P33</td>\n",
       "      <td>5338108401188468-FLASHLIGHT 4.mp4</td>\n",
       "      <td>FLASHLIGHT3</td>\n",
       "      <td>K_02_092</td>\n",
       "      <td>file:///media/kristian/HDD/ASL_Citizen/ASL_Cit...</td>\n",
       "      <td>14</td>\n",
       "    </tr>\n",
       "    <tr>\n",
       "      <th>5838</th>\n",
       "      <td>P31</td>\n",
       "      <td>3770889212465496-CHALLENGE.mp4</td>\n",
       "      <td>CHALLENGE</td>\n",
       "      <td>B_03_051</td>\n",
       "      <td>file:///media/kristian/HDD/ASL_Citizen/ASL_Cit...</td>\n",
       "      <td>15</td>\n",
       "    </tr>\n",
       "    <tr>\n",
       "      <th>23106</th>\n",
       "      <td>P34</td>\n",
       "      <td>011104998329384719-NEWS TO_ME.mp4</td>\n",
       "      <td>NEWSTOME</td>\n",
       "      <td>H_01_078</td>\n",
       "      <td>file:///media/kristian/HDD/ASL_Citizen/ASL_Cit...</td>\n",
       "      <td>14</td>\n",
       "    </tr>\n",
       "    <tr>\n",
       "      <th>15368</th>\n",
       "      <td>P29</td>\n",
       "      <td>6563121060140031-GREAT.mp4</td>\n",
       "      <td>GREAT</td>\n",
       "      <td>J_03_016</td>\n",
       "      <td>file:///media/kristian/HDD/ASL_Citizen/ASL_Cit...</td>\n",
       "      <td>15</td>\n",
       "    </tr>\n",
       "    <tr>\n",
       "      <th>15387</th>\n",
       "      <td>P30</td>\n",
       "      <td>88006071018945-GREECE.mp4</td>\n",
       "      <td>GREECE</td>\n",
       "      <td>C_02_048</td>\n",
       "      <td>file:///media/kristian/HDD/ASL_Citizen/ASL_Cit...</td>\n",
       "      <td>14</td>\n",
       "    </tr>\n",
       "    <tr>\n",
       "      <th>6188</th>\n",
       "      <td>P27</td>\n",
       "      <td>6148274087162575-CHERRY.mp4</td>\n",
       "      <td>CHERRY2</td>\n",
       "      <td>C_01_083</td>\n",
       "      <td>file:///media/kristian/HDD/ASL_Citizen/ASL_Cit...</td>\n",
       "      <td>14</td>\n",
       "    </tr>\n",
       "    <tr>\n",
       "      <th>18628</th>\n",
       "      <td>P44</td>\n",
       "      <td>2577483226556845-JACKET 2.mp4</td>\n",
       "      <td>JACKET3</td>\n",
       "      <td>K_01_116</td>\n",
       "      <td>file:///media/kristian/HDD/ASL_Citizen/ASL_Cit...</td>\n",
       "      <td>16</td>\n",
       "    </tr>\n",
       "    <tr>\n",
       "      <th>20081</th>\n",
       "      <td>P30</td>\n",
       "      <td>7646864078988229-LICENSE.mp4</td>\n",
       "      <td>LICENSE</td>\n",
       "      <td>K_02_125</td>\n",
       "      <td>file:///media/kristian/HDD/ASL_Citizen/ASL_Cit...</td>\n",
       "      <td>15</td>\n",
       "    </tr>\n",
       "    <tr>\n",
       "      <th>13979</th>\n",
       "      <td>P27</td>\n",
       "      <td>6236212401769967-FREEZE.mp4</td>\n",
       "      <td>FREEZE</td>\n",
       "      <td>F_03_010</td>\n",
       "      <td>file:///media/kristian/HDD/ASL_Citizen/ASL_Cit...</td>\n",
       "      <td>15</td>\n",
       "    </tr>\n",
       "    <tr>\n",
       "      <th>7495</th>\n",
       "      <td>P7</td>\n",
       "      <td>5377518041774723-CONSUME.mp4</td>\n",
       "      <td>CONSUME</td>\n",
       "      <td>J_01_101</td>\n",
       "      <td>file:///media/kristian/HDD/ASL_Citizen/ASL_Cit...</td>\n",
       "      <td>15</td>\n",
       "    </tr>\n",
       "    <tr>\n",
       "      <th>1904</th>\n",
       "      <td>P29</td>\n",
       "      <td>7731935287368179-BAG 2.mp4</td>\n",
       "      <td>BAG2</td>\n",
       "      <td>K_02_015</td>\n",
       "      <td>file:///media/kristian/HDD/ASL_Citizen/ASL_Cit...</td>\n",
       "      <td>15</td>\n",
       "    </tr>\n",
       "  </tbody>\n",
       "</table>\n",
       "</div>"
      ],
      "text/plain": [
       "      Participant ID                              Video file  \\\n",
       "13369            P52        08014010847141662-seedFLOWER.mp4   \n",
       "19027            P33             9448930676905178-KICK 2.mp4   \n",
       "24341            P10              2267117315681657-OTHER.mp4   \n",
       "21979            P40        7265074877585485-MIND TURNED.mp4   \n",
       "19633             P4          7352560631190481-LAWNMOWER.mp4   \n",
       "140              P30  900810803143296-ABSOLUTELY NOTHING.mp4   \n",
       "24794            P52           5410114147026581-seedPARK.mp4   \n",
       "9558             P30        26933778731561975-DISAPPOINT.mp4   \n",
       "32611            P23         44607527963043525-SPACESHIP.mp4   \n",
       "13231            P33       5338108401188468-FLASHLIGHT 4.mp4   \n",
       "5838             P31          3770889212465496-CHALLENGE.mp4   \n",
       "23106            P34       011104998329384719-NEWS TO_ME.mp4   \n",
       "15368            P29              6563121060140031-GREAT.mp4   \n",
       "15387            P30               88006071018945-GREECE.mp4   \n",
       "6188             P27             6148274087162575-CHERRY.mp4   \n",
       "18628            P44           2577483226556845-JACKET 2.mp4   \n",
       "20081            P30            7646864078988229-LICENSE.mp4   \n",
       "13979            P27             6236212401769967-FREEZE.mp4   \n",
       "7495              P7            5377518041774723-CONSUME.mp4   \n",
       "1904             P29              7731935287368179-BAG 2.mp4   \n",
       "\n",
       "                   Gloss ASL-LEX Code  \\\n",
       "13369             FLOWER     A_03_017   \n",
       "19027              KICK1     K_03_084   \n",
       "24341              OTHER     B_02_043   \n",
       "21979         MINDTURNED     J_01_034   \n",
       "19633          LAWNMOWER     B_03_064   \n",
       "140    ABSOLUTELYNOTHING     J_01_027   \n",
       "24794               PARK     E_03_028   \n",
       "9558          DISAPPOINT     G_03_018   \n",
       "32611          SPACESHIP     J_03_074   \n",
       "13231        FLASHLIGHT3     K_02_092   \n",
       "5838           CHALLENGE     B_03_051   \n",
       "23106           NEWSTOME     H_01_078   \n",
       "15368              GREAT     J_03_016   \n",
       "15387             GREECE     C_02_048   \n",
       "6188             CHERRY2     C_01_083   \n",
       "18628            JACKET3     K_01_116   \n",
       "20081            LICENSE     K_02_125   \n",
       "13979             FREEZE     F_03_010   \n",
       "7495             CONSUME     J_01_101   \n",
       "1904                BAG2     K_02_015   \n",
       "\n",
       "                                                    Path  Frequency  \n",
       "13369  file:///media/kristian/HDD/ASL_Citizen/ASL_Cit...         15  \n",
       "19027  file:///media/kristian/HDD/ASL_Citizen/ASL_Cit...         14  \n",
       "24341  file:///media/kristian/HDD/ASL_Citizen/ASL_Cit...         17  \n",
       "21979  file:///media/kristian/HDD/ASL_Citizen/ASL_Cit...         15  \n",
       "19633  file:///media/kristian/HDD/ASL_Citizen/ASL_Cit...         14  \n",
       "140    file:///media/kristian/HDD/ASL_Citizen/ASL_Cit...         15  \n",
       "24794  file:///media/kristian/HDD/ASL_Citizen/ASL_Cit...         15  \n",
       "9558   file:///media/kristian/HDD/ASL_Citizen/ASL_Cit...         16  \n",
       "32611  file:///media/kristian/HDD/ASL_Citizen/ASL_Cit...         16  \n",
       "13231  file:///media/kristian/HDD/ASL_Citizen/ASL_Cit...         14  \n",
       "5838   file:///media/kristian/HDD/ASL_Citizen/ASL_Cit...         15  \n",
       "23106  file:///media/kristian/HDD/ASL_Citizen/ASL_Cit...         14  \n",
       "15368  file:///media/kristian/HDD/ASL_Citizen/ASL_Cit...         15  \n",
       "15387  file:///media/kristian/HDD/ASL_Citizen/ASL_Cit...         14  \n",
       "6188   file:///media/kristian/HDD/ASL_Citizen/ASL_Cit...         14  \n",
       "18628  file:///media/kristian/HDD/ASL_Citizen/ASL_Cit...         16  \n",
       "20081  file:///media/kristian/HDD/ASL_Citizen/ASL_Cit...         15  \n",
       "13979  file:///media/kristian/HDD/ASL_Citizen/ASL_Cit...         15  \n",
       "7495   file:///media/kristian/HDD/ASL_Citizen/ASL_Cit...         15  \n",
       "1904   file:///media/kristian/HDD/ASL_Citizen/ASL_Cit...         15  "
      ]
     },
     "execution_count": 16,
     "metadata": {},
     "output_type": "execute_result"
    }
   ],
   "source": [
    "traindf.sample(20)"
   ]
  },
  {
   "cell_type": "code",
   "execution_count": 17,
   "id": "980e9aca",
   "metadata": {
    "ExecuteTime": {
     "end_time": "2023-08-04T22:02:28.198973Z",
     "start_time": "2023-08-04T22:02:28.195603Z"
    }
   },
   "outputs": [],
   "source": [
    "traindf = traindf[traindf['Frequency'] > 17]\n",
    "traindf = traindf.reset_index(drop=True)"
   ]
  },
  {
   "cell_type": "code",
   "execution_count": 18,
   "id": "e3da8550",
   "metadata": {
    "ExecuteTime": {
     "end_time": "2023-08-04T22:02:29.952318Z",
     "start_time": "2023-08-04T22:02:29.698206Z"
    }
   },
   "outputs": [
    {
     "data": {
      "text/html": [
       "<div>\n",
       "<style scoped>\n",
       "    .dataframe tbody tr th:only-of-type {\n",
       "        vertical-align: middle;\n",
       "    }\n",
       "\n",
       "    .dataframe tbody tr th {\n",
       "        vertical-align: top;\n",
       "    }\n",
       "\n",
       "    .dataframe thead th {\n",
       "        text-align: right;\n",
       "    }\n",
       "</style>\n",
       "<table border=\"1\" class=\"dataframe\">\n",
       "  <thead>\n",
       "    <tr style=\"text-align: right;\">\n",
       "      <th></th>\n",
       "      <th>Participant ID</th>\n",
       "      <th>Video file</th>\n",
       "      <th>Gloss</th>\n",
       "      <th>ASL-LEX Code</th>\n",
       "      <th>Path</th>\n",
       "      <th>Frequency</th>\n",
       "    </tr>\n",
       "  </thead>\n",
       "  <tbody>\n",
       "    <tr>\n",
       "      <th>0</th>\n",
       "      <td>P52</td>\n",
       "      <td>07157565148825373-seedAXE.mp4</td>\n",
       "      <td>AXE1</td>\n",
       "      <td>G_03_066</td>\n",
       "      <td>file:///media/kristian/HDD/ASL_Citizen/ASL_Cit...</td>\n",
       "      <td>19</td>\n",
       "    </tr>\n",
       "    <tr>\n",
       "      <th>1</th>\n",
       "      <td>P28</td>\n",
       "      <td>7179300005186042-AXE.mp4</td>\n",
       "      <td>AXE1</td>\n",
       "      <td>G_03_066</td>\n",
       "      <td>file:///media/kristian/HDD/ASL_Citizen/ASL_Cit...</td>\n",
       "      <td>19</td>\n",
       "    </tr>\n",
       "    <tr>\n",
       "      <th>2</th>\n",
       "      <td>P29</td>\n",
       "      <td>16216064841959765-AXE.mp4</td>\n",
       "      <td>AXE1</td>\n",
       "      <td>G_03_066</td>\n",
       "      <td>file:///media/kristian/HDD/ASL_Citizen/ASL_Cit...</td>\n",
       "      <td>19</td>\n",
       "    </tr>\n",
       "    <tr>\n",
       "      <th>3</th>\n",
       "      <td>P37</td>\n",
       "      <td>6193814382865199-AXE.mp4</td>\n",
       "      <td>AXE1</td>\n",
       "      <td>G_03_066</td>\n",
       "      <td>file:///media/kristian/HDD/ASL_Citizen/ASL_Cit...</td>\n",
       "      <td>19</td>\n",
       "    </tr>\n",
       "    <tr>\n",
       "      <th>4</th>\n",
       "      <td>P40</td>\n",
       "      <td>5947453960317015-AXE.mp4</td>\n",
       "      <td>AXE1</td>\n",
       "      <td>G_03_066</td>\n",
       "      <td>file:///media/kristian/HDD/ASL_Citizen/ASL_Cit...</td>\n",
       "      <td>19</td>\n",
       "    </tr>\n",
       "  </tbody>\n",
       "</table>\n",
       "</div>"
      ],
      "text/plain": [
       "  Participant ID                     Video file Gloss ASL-LEX Code  \\\n",
       "0            P52  07157565148825373-seedAXE.mp4  AXE1     G_03_066   \n",
       "1            P28       7179300005186042-AXE.mp4  AXE1     G_03_066   \n",
       "2            P29      16216064841959765-AXE.mp4  AXE1     G_03_066   \n",
       "3            P37       6193814382865199-AXE.mp4  AXE1     G_03_066   \n",
       "4            P40       5947453960317015-AXE.mp4  AXE1     G_03_066   \n",
       "\n",
       "                                                Path  Frequency  \n",
       "0  file:///media/kristian/HDD/ASL_Citizen/ASL_Cit...         19  \n",
       "1  file:///media/kristian/HDD/ASL_Citizen/ASL_Cit...         19  \n",
       "2  file:///media/kristian/HDD/ASL_Citizen/ASL_Cit...         19  \n",
       "3  file:///media/kristian/HDD/ASL_Citizen/ASL_Cit...         19  \n",
       "4  file:///media/kristian/HDD/ASL_Citizen/ASL_Cit...         19  "
      ]
     },
     "execution_count": 18,
     "metadata": {},
     "output_type": "execute_result"
    }
   ],
   "source": [
    "traindf.head()"
   ]
  },
  {
   "cell_type": "code",
   "execution_count": 19,
   "id": "98e78fd9",
   "metadata": {
    "ExecuteTime": {
     "end_time": "2023-08-04T22:02:31.100017Z",
     "start_time": "2023-08-04T22:02:31.043378Z"
    }
   },
   "outputs": [
    {
     "data": {
      "text/html": [
       "<div>\n",
       "<style scoped>\n",
       "    .dataframe tbody tr th:only-of-type {\n",
       "        vertical-align: middle;\n",
       "    }\n",
       "\n",
       "    .dataframe tbody tr th {\n",
       "        vertical-align: top;\n",
       "    }\n",
       "\n",
       "    .dataframe thead th {\n",
       "        text-align: right;\n",
       "    }\n",
       "</style>\n",
       "<table border=\"1\" class=\"dataframe\">\n",
       "  <thead>\n",
       "    <tr style=\"text-align: right;\">\n",
       "      <th></th>\n",
       "      <th>Participant ID</th>\n",
       "      <th>Video file</th>\n",
       "      <th>Gloss</th>\n",
       "      <th>ASL-LEX Code</th>\n",
       "      <th>Path</th>\n",
       "      <th>Frequency</th>\n",
       "    </tr>\n",
       "  </thead>\n",
       "  <tbody>\n",
       "    <tr>\n",
       "      <th>945</th>\n",
       "      <td>P50</td>\n",
       "      <td>9161417844146778-WHAT FOR.mp4</td>\n",
       "      <td>WHATFOR1</td>\n",
       "      <td>C_02_054</td>\n",
       "      <td>file:///media/kristian/HDD/ASL_Citizen/ASL_Cit...</td>\n",
       "      <td>20</td>\n",
       "    </tr>\n",
       "    <tr>\n",
       "      <th>946</th>\n",
       "      <td>P14</td>\n",
       "      <td>00930662603221255-WHAT FOR.mp4</td>\n",
       "      <td>WHATFOR1</td>\n",
       "      <td>C_02_054</td>\n",
       "      <td>file:///media/kristian/HDD/ASL_Citizen/ASL_Cit...</td>\n",
       "      <td>20</td>\n",
       "    </tr>\n",
       "    <tr>\n",
       "      <th>947</th>\n",
       "      <td>P27</td>\n",
       "      <td>82063651021682-WHAT FOR.mp4</td>\n",
       "      <td>WHATFOR1</td>\n",
       "      <td>C_02_054</td>\n",
       "      <td>file:///media/kristian/HDD/ASL_Citizen/ASL_Cit...</td>\n",
       "      <td>20</td>\n",
       "    </tr>\n",
       "    <tr>\n",
       "      <th>948</th>\n",
       "      <td>P40</td>\n",
       "      <td>5268072837528903-WHAT FOR.mp4</td>\n",
       "      <td>WHATFOR1</td>\n",
       "      <td>C_02_054</td>\n",
       "      <td>file:///media/kristian/HDD/ASL_Citizen/ASL_Cit...</td>\n",
       "      <td>20</td>\n",
       "    </tr>\n",
       "    <tr>\n",
       "      <th>949</th>\n",
       "      <td>P40</td>\n",
       "      <td>6363286086951516-WHAT FOR.mp4</td>\n",
       "      <td>WHATFOR1</td>\n",
       "      <td>C_02_054</td>\n",
       "      <td>file:///media/kristian/HDD/ASL_Citizen/ASL_Cit...</td>\n",
       "      <td>20</td>\n",
       "    </tr>\n",
       "  </tbody>\n",
       "</table>\n",
       "</div>"
      ],
      "text/plain": [
       "    Participant ID                      Video file     Gloss ASL-LEX Code  \\\n",
       "945            P50   9161417844146778-WHAT FOR.mp4  WHATFOR1     C_02_054   \n",
       "946            P14  00930662603221255-WHAT FOR.mp4  WHATFOR1     C_02_054   \n",
       "947            P27     82063651021682-WHAT FOR.mp4  WHATFOR1     C_02_054   \n",
       "948            P40   5268072837528903-WHAT FOR.mp4  WHATFOR1     C_02_054   \n",
       "949            P40   6363286086951516-WHAT FOR.mp4  WHATFOR1     C_02_054   \n",
       "\n",
       "                                                  Path  Frequency  \n",
       "945  file:///media/kristian/HDD/ASL_Citizen/ASL_Cit...         20  \n",
       "946  file:///media/kristian/HDD/ASL_Citizen/ASL_Cit...         20  \n",
       "947  file:///media/kristian/HDD/ASL_Citizen/ASL_Cit...         20  \n",
       "948  file:///media/kristian/HDD/ASL_Citizen/ASL_Cit...         20  \n",
       "949  file:///media/kristian/HDD/ASL_Citizen/ASL_Cit...         20  "
      ]
     },
     "execution_count": 19,
     "metadata": {},
     "output_type": "execute_result"
    }
   ],
   "source": [
    "traindf.tail()"
   ]
  },
  {
   "cell_type": "code",
   "execution_count": 20,
   "id": "c1d6fcb5",
   "metadata": {
    "ExecuteTime": {
     "end_time": "2023-08-04T22:02:32.504294Z",
     "start_time": "2023-08-04T22:02:32.494711Z"
    }
   },
   "outputs": [
    {
     "data": {
      "text/html": [
       "<div>\n",
       "<style scoped>\n",
       "    .dataframe tbody tr th:only-of-type {\n",
       "        vertical-align: middle;\n",
       "    }\n",
       "\n",
       "    .dataframe tbody tr th {\n",
       "        vertical-align: top;\n",
       "    }\n",
       "\n",
       "    .dataframe thead th {\n",
       "        text-align: right;\n",
       "    }\n",
       "</style>\n",
       "<table border=\"1\" class=\"dataframe\">\n",
       "  <thead>\n",
       "    <tr style=\"text-align: right;\">\n",
       "      <th></th>\n",
       "      <th>Frequency</th>\n",
       "    </tr>\n",
       "  </thead>\n",
       "  <tbody>\n",
       "    <tr>\n",
       "      <th>count</th>\n",
       "      <td>950.000000</td>\n",
       "    </tr>\n",
       "    <tr>\n",
       "      <th>mean</th>\n",
       "      <td>19.082105</td>\n",
       "    </tr>\n",
       "    <tr>\n",
       "      <th>std</th>\n",
       "      <td>1.316026</td>\n",
       "    </tr>\n",
       "    <tr>\n",
       "      <th>min</th>\n",
       "      <td>18.000000</td>\n",
       "    </tr>\n",
       "    <tr>\n",
       "      <th>25%</th>\n",
       "      <td>18.000000</td>\n",
       "    </tr>\n",
       "    <tr>\n",
       "      <th>50%</th>\n",
       "      <td>19.000000</td>\n",
       "    </tr>\n",
       "    <tr>\n",
       "      <th>75%</th>\n",
       "      <td>20.000000</td>\n",
       "    </tr>\n",
       "    <tr>\n",
       "      <th>max</th>\n",
       "      <td>24.000000</td>\n",
       "    </tr>\n",
       "  </tbody>\n",
       "</table>\n",
       "</div>"
      ],
      "text/plain": [
       "        Frequency\n",
       "count  950.000000\n",
       "mean    19.082105\n",
       "std      1.316026\n",
       "min     18.000000\n",
       "25%     18.000000\n",
       "50%     19.000000\n",
       "75%     20.000000\n",
       "max     24.000000"
      ]
     },
     "execution_count": 20,
     "metadata": {},
     "output_type": "execute_result"
    }
   ],
   "source": [
    "traindf.describe()"
   ]
  },
  {
   "cell_type": "code",
   "execution_count": 21,
   "id": "f8ed1892",
   "metadata": {
    "ExecuteTime": {
     "end_time": "2023-08-04T22:02:34.181769Z",
     "start_time": "2023-08-04T22:02:34.179523Z"
    }
   },
   "outputs": [],
   "source": [
    "#traindf['Gloss'] = traindf['Gloss'].str.replace('\\d+', '',regex=True)"
   ]
  },
  {
   "cell_type": "code",
   "execution_count": 22,
   "id": "17318e0f",
   "metadata": {
    "ExecuteTime": {
     "end_time": "2023-08-04T22:02:39.338863Z",
     "start_time": "2023-08-04T22:02:39.334845Z"
    }
   },
   "outputs": [
    {
     "data": {
      "text/plain": [
       "50"
      ]
     },
     "execution_count": 22,
     "metadata": {},
     "output_type": "execute_result"
    }
   ],
   "source": [
    "traindf['Gloss'].nunique()"
   ]
  },
  {
   "cell_type": "code",
   "execution_count": 23,
   "id": "2e7f4f27",
   "metadata": {
    "ExecuteTime": {
     "end_time": "2023-08-04T22:02:40.660126Z",
     "start_time": "2023-08-04T22:02:40.654899Z"
    }
   },
   "outputs": [
    {
     "data": {
      "text/plain": [
       "array(['AXE1', 'BACKPACK1', 'BASKETBALL1', 'BEE1', 'BELT1', 'BITE1',\n",
       "       'BREAKFAST1', 'CANCER1', 'CHRISTMAS1', 'CONFUSED1', 'DARK1',\n",
       "       'DEAF1', 'DECIDE1', 'DEMAND1', 'DEVELOP1', 'DINNER1', 'DOG1',\n",
       "       'DOWNSIZE1', 'DRAG1', 'EAT1', 'EDIT1', 'ELEVATOR1', 'FINE1',\n",
       "       'FLOAT1', 'FOREIGNER1', 'GUESS1', 'HALLOWEEN1', 'HOSPITAL1',\n",
       "       'HURDLE/TRIP1', 'JEWELRY', 'KNIGHT1', 'LOCK1', 'LUNCH1', 'MAPLE',\n",
       "       'MEAT1', 'MECHANIC1', 'MICROSCOPE1', 'MOVIE1', 'NOON1', 'PARTY1',\n",
       "       'PATIENT2', 'RAZOR2', 'RIVER1', 'ROCKINGCHAIR1', 'SHAVE1', 'SINK',\n",
       "       'SQUEEZE', 'THEY1', 'TWINS1', 'WHATFOR1'], dtype=object)"
      ]
     },
     "execution_count": 23,
     "metadata": {},
     "output_type": "execute_result"
    }
   ],
   "source": [
    "words = traindf['Gloss'].unique()\n",
    "words"
   ]
  },
  {
   "cell_type": "code",
   "execution_count": 24,
   "id": "69828da1",
   "metadata": {
    "ExecuteTime": {
     "end_time": "2023-08-04T22:02:41.642043Z",
     "start_time": "2023-08-04T22:02:41.616771Z"
    }
   },
   "outputs": [],
   "source": [
    "valdf = signvideodataframe('file:///media/kristian/HDD/ASL_Citizen/ASL_Citizen/splits/val.csv') "
   ]
  },
  {
   "cell_type": "code",
   "execution_count": 25,
   "id": "4895a2c8",
   "metadata": {
    "ExecuteTime": {
     "end_time": "2023-08-04T22:02:43.041868Z",
     "start_time": "2023-08-04T22:02:43.034935Z"
    }
   },
   "outputs": [
    {
     "data": {
      "text/html": [
       "<div>\n",
       "<style scoped>\n",
       "    .dataframe tbody tr th:only-of-type {\n",
       "        vertical-align: middle;\n",
       "    }\n",
       "\n",
       "    .dataframe tbody tr th {\n",
       "        vertical-align: top;\n",
       "    }\n",
       "\n",
       "    .dataframe thead th {\n",
       "        text-align: right;\n",
       "    }\n",
       "</style>\n",
       "<table border=\"1\" class=\"dataframe\">\n",
       "  <thead>\n",
       "    <tr style=\"text-align: right;\">\n",
       "      <th></th>\n",
       "      <th>Participant ID</th>\n",
       "      <th>Video file</th>\n",
       "      <th>Gloss</th>\n",
       "      <th>ASL-LEX Code</th>\n",
       "      <th>Path</th>\n",
       "      <th>Frequency</th>\n",
       "    </tr>\n",
       "  </thead>\n",
       "  <tbody>\n",
       "    <tr>\n",
       "      <th>0</th>\n",
       "      <td>P26</td>\n",
       "      <td>22595012150860327-1 DOLLAR.mp4</td>\n",
       "      <td>1DOLLAR</td>\n",
       "      <td>C_02_025</td>\n",
       "      <td>file:///media/kristian/HDD/ASL_Citizen/ASL_Cit...</td>\n",
       "      <td>3</td>\n",
       "    </tr>\n",
       "    <tr>\n",
       "      <th>1</th>\n",
       "      <td>P39</td>\n",
       "      <td>7421622940519235-1 DOLLAR.mp4</td>\n",
       "      <td>1DOLLAR</td>\n",
       "      <td>C_02_025</td>\n",
       "      <td>file:///media/kristian/HDD/ASL_Citizen/ASL_Cit...</td>\n",
       "      <td>3</td>\n",
       "    </tr>\n",
       "    <tr>\n",
       "      <th>2</th>\n",
       "      <td>P21</td>\n",
       "      <td>686738356933241-1 DOLLAR.mp4</td>\n",
       "      <td>1DOLLAR</td>\n",
       "      <td>C_02_025</td>\n",
       "      <td>file:///media/kristian/HDD/ASL_Citizen/ASL_Cit...</td>\n",
       "      <td>3</td>\n",
       "    </tr>\n",
       "    <tr>\n",
       "      <th>3</th>\n",
       "      <td>P12</td>\n",
       "      <td>9219095671540121-5 DOLLARS.mp4</td>\n",
       "      <td>5DOLLARS</td>\n",
       "      <td>B_01_062</td>\n",
       "      <td>file:///media/kristian/HDD/ASL_Citizen/ASL_Cit...</td>\n",
       "      <td>4</td>\n",
       "    </tr>\n",
       "    <tr>\n",
       "      <th>4</th>\n",
       "      <td>P21</td>\n",
       "      <td>1448188216215387-5 DOLLARS.mp4</td>\n",
       "      <td>5DOLLARS</td>\n",
       "      <td>B_01_062</td>\n",
       "      <td>file:///media/kristian/HDD/ASL_Citizen/ASL_Cit...</td>\n",
       "      <td>4</td>\n",
       "    </tr>\n",
       "  </tbody>\n",
       "</table>\n",
       "</div>"
      ],
      "text/plain": [
       "  Participant ID                      Video file     Gloss ASL-LEX Code  \\\n",
       "0            P26  22595012150860327-1 DOLLAR.mp4   1DOLLAR     C_02_025   \n",
       "1            P39   7421622940519235-1 DOLLAR.mp4   1DOLLAR     C_02_025   \n",
       "2            P21    686738356933241-1 DOLLAR.mp4   1DOLLAR     C_02_025   \n",
       "3            P12  9219095671540121-5 DOLLARS.mp4  5DOLLARS     B_01_062   \n",
       "4            P21  1448188216215387-5 DOLLARS.mp4  5DOLLARS     B_01_062   \n",
       "\n",
       "                                                Path  Frequency  \n",
       "0  file:///media/kristian/HDD/ASL_Citizen/ASL_Cit...          3  \n",
       "1  file:///media/kristian/HDD/ASL_Citizen/ASL_Cit...          3  \n",
       "2  file:///media/kristian/HDD/ASL_Citizen/ASL_Cit...          3  \n",
       "3  file:///media/kristian/HDD/ASL_Citizen/ASL_Cit...          4  \n",
       "4  file:///media/kristian/HDD/ASL_Citizen/ASL_Cit...          4  "
      ]
     },
     "execution_count": 25,
     "metadata": {},
     "output_type": "execute_result"
    }
   ],
   "source": [
    "valdf.head()"
   ]
  },
  {
   "cell_type": "code",
   "execution_count": 26,
   "id": "b0a6ab93",
   "metadata": {
    "ExecuteTime": {
     "end_time": "2023-08-04T22:02:43.677199Z",
     "start_time": "2023-08-04T22:02:43.670412Z"
    }
   },
   "outputs": [
    {
     "data": {
      "text/html": [
       "<div>\n",
       "<style scoped>\n",
       "    .dataframe tbody tr th:only-of-type {\n",
       "        vertical-align: middle;\n",
       "    }\n",
       "\n",
       "    .dataframe tbody tr th {\n",
       "        vertical-align: top;\n",
       "    }\n",
       "\n",
       "    .dataframe thead th {\n",
       "        text-align: right;\n",
       "    }\n",
       "</style>\n",
       "<table border=\"1\" class=\"dataframe\">\n",
       "  <thead>\n",
       "    <tr style=\"text-align: right;\">\n",
       "      <th></th>\n",
       "      <th>Participant ID</th>\n",
       "      <th>Video file</th>\n",
       "      <th>Gloss</th>\n",
       "      <th>ASL-LEX Code</th>\n",
       "      <th>Path</th>\n",
       "      <th>Frequency</th>\n",
       "    </tr>\n",
       "  </thead>\n",
       "  <tbody>\n",
       "    <tr>\n",
       "      <th>10299</th>\n",
       "      <td>P21</td>\n",
       "      <td>6959326205750493-ZOOM IN.mp4</td>\n",
       "      <td>ZOOMIN</td>\n",
       "      <td>B_02_056</td>\n",
       "      <td>file:///media/kristian/HDD/ASL_Citizen/ASL_Cit...</td>\n",
       "      <td>3</td>\n",
       "    </tr>\n",
       "    <tr>\n",
       "      <th>10300</th>\n",
       "      <td>P12</td>\n",
       "      <td>7758716133684984-ZOOM OFF.mp4</td>\n",
       "      <td>ZOOMOFF</td>\n",
       "      <td>D_01_057</td>\n",
       "      <td>file:///media/kristian/HDD/ASL_Citizen/ASL_Cit...</td>\n",
       "      <td>4</td>\n",
       "    </tr>\n",
       "    <tr>\n",
       "      <th>10301</th>\n",
       "      <td>P39</td>\n",
       "      <td>844134294032034-ZOOM OFF.mp4</td>\n",
       "      <td>ZOOMOFF</td>\n",
       "      <td>D_01_057</td>\n",
       "      <td>file:///media/kristian/HDD/ASL_Citizen/ASL_Cit...</td>\n",
       "      <td>4</td>\n",
       "    </tr>\n",
       "    <tr>\n",
       "      <th>10302</th>\n",
       "      <td>P21</td>\n",
       "      <td>5548062993721732-ZOOM OFF.mp4</td>\n",
       "      <td>ZOOMOFF</td>\n",
       "      <td>D_01_057</td>\n",
       "      <td>file:///media/kristian/HDD/ASL_Citizen/ASL_Cit...</td>\n",
       "      <td>4</td>\n",
       "    </tr>\n",
       "    <tr>\n",
       "      <th>10303</th>\n",
       "      <td>P26</td>\n",
       "      <td>19366754134806952-ZOOM OFF.mp4</td>\n",
       "      <td>ZOOMOFF</td>\n",
       "      <td>D_01_057</td>\n",
       "      <td>file:///media/kristian/HDD/ASL_Citizen/ASL_Cit...</td>\n",
       "      <td>4</td>\n",
       "    </tr>\n",
       "  </tbody>\n",
       "</table>\n",
       "</div>"
      ],
      "text/plain": [
       "      Participant ID                      Video file    Gloss ASL-LEX Code  \\\n",
       "10299            P21    6959326205750493-ZOOM IN.mp4   ZOOMIN     B_02_056   \n",
       "10300            P12   7758716133684984-ZOOM OFF.mp4  ZOOMOFF     D_01_057   \n",
       "10301            P39    844134294032034-ZOOM OFF.mp4  ZOOMOFF     D_01_057   \n",
       "10302            P21   5548062993721732-ZOOM OFF.mp4  ZOOMOFF     D_01_057   \n",
       "10303            P26  19366754134806952-ZOOM OFF.mp4  ZOOMOFF     D_01_057   \n",
       "\n",
       "                                                    Path  Frequency  \n",
       "10299  file:///media/kristian/HDD/ASL_Citizen/ASL_Cit...          3  \n",
       "10300  file:///media/kristian/HDD/ASL_Citizen/ASL_Cit...          4  \n",
       "10301  file:///media/kristian/HDD/ASL_Citizen/ASL_Cit...          4  \n",
       "10302  file:///media/kristian/HDD/ASL_Citizen/ASL_Cit...          4  \n",
       "10303  file:///media/kristian/HDD/ASL_Citizen/ASL_Cit...          4  "
      ]
     },
     "execution_count": 26,
     "metadata": {},
     "output_type": "execute_result"
    }
   ],
   "source": [
    "valdf.tail()"
   ]
  },
  {
   "cell_type": "code",
   "execution_count": 27,
   "id": "b50b2abf",
   "metadata": {
    "ExecuteTime": {
     "end_time": "2023-08-04T22:02:45.064633Z",
     "start_time": "2023-08-04T22:02:44.992778Z"
    }
   },
   "outputs": [],
   "source": [
    "testdf = signvideodataframe('file:///media/kristian/HDD/ASL_Citizen/ASL_Citizen/splits/test.csv')"
   ]
  },
  {
   "cell_type": "code",
   "execution_count": 28,
   "id": "a4d08da7",
   "metadata": {
    "ExecuteTime": {
     "end_time": "2023-08-04T22:02:45.657236Z",
     "start_time": "2023-08-04T22:02:45.650832Z"
    }
   },
   "outputs": [
    {
     "data": {
      "text/html": [
       "<div>\n",
       "<style scoped>\n",
       "    .dataframe tbody tr th:only-of-type {\n",
       "        vertical-align: middle;\n",
       "    }\n",
       "\n",
       "    .dataframe tbody tr th {\n",
       "        vertical-align: top;\n",
       "    }\n",
       "\n",
       "    .dataframe thead th {\n",
       "        text-align: right;\n",
       "    }\n",
       "</style>\n",
       "<table border=\"1\" class=\"dataframe\">\n",
       "  <thead>\n",
       "    <tr style=\"text-align: right;\">\n",
       "      <th></th>\n",
       "      <th>Participant ID</th>\n",
       "      <th>Video file</th>\n",
       "      <th>Gloss</th>\n",
       "      <th>ASL-LEX Code</th>\n",
       "      <th>Path</th>\n",
       "      <th>Frequency</th>\n",
       "    </tr>\n",
       "  </thead>\n",
       "  <tbody>\n",
       "    <tr>\n",
       "      <th>0</th>\n",
       "      <td>P18</td>\n",
       "      <td>23521769221811684-1 DOLLAR.mp4</td>\n",
       "      <td>1DOLLAR</td>\n",
       "      <td>C_02_025</td>\n",
       "      <td>file:///media/kristian/HDD/ASL_Citizen/ASL_Cit...</td>\n",
       "      <td>13</td>\n",
       "    </tr>\n",
       "    <tr>\n",
       "      <th>1</th>\n",
       "      <td>P42</td>\n",
       "      <td>023931338852502426-1 DOLLAR.mp4</td>\n",
       "      <td>1DOLLAR</td>\n",
       "      <td>C_02_025</td>\n",
       "      <td>file:///media/kristian/HDD/ASL_Citizen/ASL_Cit...</td>\n",
       "      <td>13</td>\n",
       "    </tr>\n",
       "    <tr>\n",
       "      <th>2</th>\n",
       "      <td>P49</td>\n",
       "      <td>4893817008748198-1 DOLLAR.mp4</td>\n",
       "      <td>1DOLLAR</td>\n",
       "      <td>C_02_025</td>\n",
       "      <td>file:///media/kristian/HDD/ASL_Citizen/ASL_Cit...</td>\n",
       "      <td>13</td>\n",
       "    </tr>\n",
       "    <tr>\n",
       "      <th>3</th>\n",
       "      <td>P17</td>\n",
       "      <td>13991818149960333-1 DOLLAR.mp4</td>\n",
       "      <td>1DOLLAR</td>\n",
       "      <td>C_02_025</td>\n",
       "      <td>file:///media/kristian/HDD/ASL_Citizen/ASL_Cit...</td>\n",
       "      <td>13</td>\n",
       "    </tr>\n",
       "    <tr>\n",
       "      <th>4</th>\n",
       "      <td>P49</td>\n",
       "      <td>34625615110480457-1 DOLLAR.mp4</td>\n",
       "      <td>1DOLLAR</td>\n",
       "      <td>C_02_025</td>\n",
       "      <td>file:///media/kristian/HDD/ASL_Citizen/ASL_Cit...</td>\n",
       "      <td>13</td>\n",
       "    </tr>\n",
       "  </tbody>\n",
       "</table>\n",
       "</div>"
      ],
      "text/plain": [
       "  Participant ID                       Video file    Gloss ASL-LEX Code  \\\n",
       "0            P18   23521769221811684-1 DOLLAR.mp4  1DOLLAR     C_02_025   \n",
       "1            P42  023931338852502426-1 DOLLAR.mp4  1DOLLAR     C_02_025   \n",
       "2            P49    4893817008748198-1 DOLLAR.mp4  1DOLLAR     C_02_025   \n",
       "3            P17   13991818149960333-1 DOLLAR.mp4  1DOLLAR     C_02_025   \n",
       "4            P49   34625615110480457-1 DOLLAR.mp4  1DOLLAR     C_02_025   \n",
       "\n",
       "                                                Path  Frequency  \n",
       "0  file:///media/kristian/HDD/ASL_Citizen/ASL_Cit...         13  \n",
       "1  file:///media/kristian/HDD/ASL_Citizen/ASL_Cit...         13  \n",
       "2  file:///media/kristian/HDD/ASL_Citizen/ASL_Cit...         13  \n",
       "3  file:///media/kristian/HDD/ASL_Citizen/ASL_Cit...         13  \n",
       "4  file:///media/kristian/HDD/ASL_Citizen/ASL_Cit...         13  "
      ]
     },
     "execution_count": 28,
     "metadata": {},
     "output_type": "execute_result"
    }
   ],
   "source": [
    "testdf.head()"
   ]
  },
  {
   "cell_type": "code",
   "execution_count": 29,
   "id": "9ae02157",
   "metadata": {
    "ExecuteTime": {
     "end_time": "2023-08-04T22:02:46.329958Z",
     "start_time": "2023-08-04T22:02:46.322866Z"
    }
   },
   "outputs": [
    {
     "data": {
      "text/html": [
       "<div>\n",
       "<style scoped>\n",
       "    .dataframe tbody tr th:only-of-type {\n",
       "        vertical-align: middle;\n",
       "    }\n",
       "\n",
       "    .dataframe tbody tr th {\n",
       "        vertical-align: top;\n",
       "    }\n",
       "\n",
       "    .dataframe thead th {\n",
       "        text-align: right;\n",
       "    }\n",
       "</style>\n",
       "<table border=\"1\" class=\"dataframe\">\n",
       "  <thead>\n",
       "    <tr style=\"text-align: right;\">\n",
       "      <th></th>\n",
       "      <th>Participant ID</th>\n",
       "      <th>Video file</th>\n",
       "      <th>Gloss</th>\n",
       "      <th>ASL-LEX Code</th>\n",
       "      <th>Path</th>\n",
       "      <th>Frequency</th>\n",
       "    </tr>\n",
       "  </thead>\n",
       "  <tbody>\n",
       "    <tr>\n",
       "      <th>32936</th>\n",
       "      <td>P18</td>\n",
       "      <td>4320702510886756-ZOOM OFF.mp4</td>\n",
       "      <td>ZOOMOFF</td>\n",
       "      <td>D_01_057</td>\n",
       "      <td>file:///media/kristian/HDD/ASL_Citizen/ASL_Cit...</td>\n",
       "      <td>13</td>\n",
       "    </tr>\n",
       "    <tr>\n",
       "      <th>32937</th>\n",
       "      <td>P9</td>\n",
       "      <td>7676354653247301-ZOOM OFF.mp4</td>\n",
       "      <td>ZOOMOFF</td>\n",
       "      <td>D_01_057</td>\n",
       "      <td>file:///media/kristian/HDD/ASL_Citizen/ASL_Cit...</td>\n",
       "      <td>13</td>\n",
       "    </tr>\n",
       "    <tr>\n",
       "      <th>32938</th>\n",
       "      <td>P47</td>\n",
       "      <td>5386272465310649-ZOOM OFF.mp4</td>\n",
       "      <td>ZOOMOFF</td>\n",
       "      <td>D_01_057</td>\n",
       "      <td>file:///media/kristian/HDD/ASL_Citizen/ASL_Cit...</td>\n",
       "      <td>13</td>\n",
       "    </tr>\n",
       "    <tr>\n",
       "      <th>32939</th>\n",
       "      <td>P18</td>\n",
       "      <td>738440364224181-ZOOM OFF.mp4</td>\n",
       "      <td>ZOOMOFF</td>\n",
       "      <td>D_01_057</td>\n",
       "      <td>file:///media/kristian/HDD/ASL_Citizen/ASL_Cit...</td>\n",
       "      <td>13</td>\n",
       "    </tr>\n",
       "    <tr>\n",
       "      <th>32940</th>\n",
       "      <td>P17</td>\n",
       "      <td>9953298353288469-ZOOM OFF.mp4</td>\n",
       "      <td>ZOOMOFF</td>\n",
       "      <td>D_01_057</td>\n",
       "      <td>file:///media/kristian/HDD/ASL_Citizen/ASL_Cit...</td>\n",
       "      <td>13</td>\n",
       "    </tr>\n",
       "  </tbody>\n",
       "</table>\n",
       "</div>"
      ],
      "text/plain": [
       "      Participant ID                     Video file    Gloss ASL-LEX Code  \\\n",
       "32936            P18  4320702510886756-ZOOM OFF.mp4  ZOOMOFF     D_01_057   \n",
       "32937             P9  7676354653247301-ZOOM OFF.mp4  ZOOMOFF     D_01_057   \n",
       "32938            P47  5386272465310649-ZOOM OFF.mp4  ZOOMOFF     D_01_057   \n",
       "32939            P18   738440364224181-ZOOM OFF.mp4  ZOOMOFF     D_01_057   \n",
       "32940            P17  9953298353288469-ZOOM OFF.mp4  ZOOMOFF     D_01_057   \n",
       "\n",
       "                                                    Path  Frequency  \n",
       "32936  file:///media/kristian/HDD/ASL_Citizen/ASL_Cit...         13  \n",
       "32937  file:///media/kristian/HDD/ASL_Citizen/ASL_Cit...         13  \n",
       "32938  file:///media/kristian/HDD/ASL_Citizen/ASL_Cit...         13  \n",
       "32939  file:///media/kristian/HDD/ASL_Citizen/ASL_Cit...         13  \n",
       "32940  file:///media/kristian/HDD/ASL_Citizen/ASL_Cit...         13  "
      ]
     },
     "execution_count": 29,
     "metadata": {},
     "output_type": "execute_result"
    }
   ],
   "source": [
    "testdf.tail()"
   ]
  },
  {
   "cell_type": "code",
   "execution_count": null,
   "id": "fff5a296",
   "metadata": {},
   "outputs": [],
   "source": []
  },
  {
   "cell_type": "code",
   "execution_count": 30,
   "id": "82ba71ab",
   "metadata": {
    "ExecuteTime": {
     "end_time": "2023-08-04T22:02:48.585409Z",
     "start_time": "2023-08-04T22:02:48.582073Z"
    }
   },
   "outputs": [],
   "source": [
    "valdf = valdf[valdf['Gloss'].isin(words)]\n",
    "valdf = valdf.reset_index(drop=True)"
   ]
  },
  {
   "cell_type": "code",
   "execution_count": 31,
   "id": "7d3eee12",
   "metadata": {
    "ExecuteTime": {
     "end_time": "2023-08-04T22:02:49.678388Z",
     "start_time": "2023-08-04T22:02:49.625005Z"
    }
   },
   "outputs": [
    {
     "data": {
      "text/html": [
       "<div>\n",
       "<style scoped>\n",
       "    .dataframe tbody tr th:only-of-type {\n",
       "        vertical-align: middle;\n",
       "    }\n",
       "\n",
       "    .dataframe tbody tr th {\n",
       "        vertical-align: top;\n",
       "    }\n",
       "\n",
       "    .dataframe thead th {\n",
       "        text-align: right;\n",
       "    }\n",
       "</style>\n",
       "<table border=\"1\" class=\"dataframe\">\n",
       "  <thead>\n",
       "    <tr style=\"text-align: right;\">\n",
       "      <th></th>\n",
       "      <th>Participant ID</th>\n",
       "      <th>Video file</th>\n",
       "      <th>Gloss</th>\n",
       "      <th>ASL-LEX Code</th>\n",
       "      <th>Path</th>\n",
       "      <th>Frequency</th>\n",
       "    </tr>\n",
       "  </thead>\n",
       "  <tbody>\n",
       "    <tr>\n",
       "      <th>0</th>\n",
       "      <td>P39</td>\n",
       "      <td>19778675091674147-AXE.mp4</td>\n",
       "      <td>AXE1</td>\n",
       "      <td>G_03_066</td>\n",
       "      <td>file:///media/kristian/HDD/ASL_Citizen/ASL_Cit...</td>\n",
       "      <td>4</td>\n",
       "    </tr>\n",
       "    <tr>\n",
       "      <th>1</th>\n",
       "      <td>P26</td>\n",
       "      <td>8581142177964065-AXE.mp4</td>\n",
       "      <td>AXE1</td>\n",
       "      <td>G_03_066</td>\n",
       "      <td>file:///media/kristian/HDD/ASL_Citizen/ASL_Cit...</td>\n",
       "      <td>4</td>\n",
       "    </tr>\n",
       "    <tr>\n",
       "      <th>2</th>\n",
       "      <td>P39</td>\n",
       "      <td>3877478645046861-AXE.mp4</td>\n",
       "      <td>AXE1</td>\n",
       "      <td>G_03_066</td>\n",
       "      <td>file:///media/kristian/HDD/ASL_Citizen/ASL_Cit...</td>\n",
       "      <td>4</td>\n",
       "    </tr>\n",
       "    <tr>\n",
       "      <th>3</th>\n",
       "      <td>P21</td>\n",
       "      <td>8521417940364975-AXE.mp4</td>\n",
       "      <td>AXE1</td>\n",
       "      <td>G_03_066</td>\n",
       "      <td>file:///media/kristian/HDD/ASL_Citizen/ASL_Cit...</td>\n",
       "      <td>4</td>\n",
       "    </tr>\n",
       "    <tr>\n",
       "      <th>4</th>\n",
       "      <td>P5</td>\n",
       "      <td>9990244640190733-BACKPACK.mp4</td>\n",
       "      <td>BACKPACK1</td>\n",
       "      <td>G_03_091</td>\n",
       "      <td>file:///media/kristian/HDD/ASL_Citizen/ASL_Cit...</td>\n",
       "      <td>3</td>\n",
       "    </tr>\n",
       "  </tbody>\n",
       "</table>\n",
       "</div>"
      ],
      "text/plain": [
       "  Participant ID                     Video file      Gloss ASL-LEX Code  \\\n",
       "0            P39      19778675091674147-AXE.mp4       AXE1     G_03_066   \n",
       "1            P26       8581142177964065-AXE.mp4       AXE1     G_03_066   \n",
       "2            P39       3877478645046861-AXE.mp4       AXE1     G_03_066   \n",
       "3            P21       8521417940364975-AXE.mp4       AXE1     G_03_066   \n",
       "4             P5  9990244640190733-BACKPACK.mp4  BACKPACK1     G_03_091   \n",
       "\n",
       "                                                Path  Frequency  \n",
       "0  file:///media/kristian/HDD/ASL_Citizen/ASL_Cit...          4  \n",
       "1  file:///media/kristian/HDD/ASL_Citizen/ASL_Cit...          4  \n",
       "2  file:///media/kristian/HDD/ASL_Citizen/ASL_Cit...          4  \n",
       "3  file:///media/kristian/HDD/ASL_Citizen/ASL_Cit...          4  \n",
       "4  file:///media/kristian/HDD/ASL_Citizen/ASL_Cit...          3  "
      ]
     },
     "execution_count": 31,
     "metadata": {},
     "output_type": "execute_result"
    }
   ],
   "source": [
    "valdf.head()"
   ]
  },
  {
   "cell_type": "code",
   "execution_count": 32,
   "id": "daa0077a",
   "metadata": {
    "ExecuteTime": {
     "end_time": "2023-08-04T22:02:51.323252Z",
     "start_time": "2023-08-04T22:02:51.316858Z"
    }
   },
   "outputs": [
    {
     "data": {
      "text/html": [
       "<div>\n",
       "<style scoped>\n",
       "    .dataframe tbody tr th:only-of-type {\n",
       "        vertical-align: middle;\n",
       "    }\n",
       "\n",
       "    .dataframe tbody tr th {\n",
       "        vertical-align: top;\n",
       "    }\n",
       "\n",
       "    .dataframe thead th {\n",
       "        text-align: right;\n",
       "    }\n",
       "</style>\n",
       "<table border=\"1\" class=\"dataframe\">\n",
       "  <thead>\n",
       "    <tr style=\"text-align: right;\">\n",
       "      <th></th>\n",
       "      <th>Participant ID</th>\n",
       "      <th>Video file</th>\n",
       "      <th>Gloss</th>\n",
       "      <th>ASL-LEX Code</th>\n",
       "      <th>Path</th>\n",
       "      <th>Frequency</th>\n",
       "    </tr>\n",
       "  </thead>\n",
       "  <tbody>\n",
       "    <tr>\n",
       "      <th>186</th>\n",
       "      <td>P26</td>\n",
       "      <td>032677896012150764-WHAT FOR.mp4</td>\n",
       "      <td>WHATFOR1</td>\n",
       "      <td>C_02_054</td>\n",
       "      <td>file:///media/kristian/HDD/ASL_Citizen/ASL_Cit...</td>\n",
       "      <td>5</td>\n",
       "    </tr>\n",
       "    <tr>\n",
       "      <th>187</th>\n",
       "      <td>P5</td>\n",
       "      <td>6523145816470133-WHAT FOR.mp4</td>\n",
       "      <td>WHATFOR1</td>\n",
       "      <td>C_02_054</td>\n",
       "      <td>file:///media/kristian/HDD/ASL_Citizen/ASL_Cit...</td>\n",
       "      <td>5</td>\n",
       "    </tr>\n",
       "    <tr>\n",
       "      <th>188</th>\n",
       "      <td>P39</td>\n",
       "      <td>0283886564670357-WHAT FOR.mp4</td>\n",
       "      <td>WHATFOR1</td>\n",
       "      <td>C_02_054</td>\n",
       "      <td>file:///media/kristian/HDD/ASL_Citizen/ASL_Cit...</td>\n",
       "      <td>5</td>\n",
       "    </tr>\n",
       "    <tr>\n",
       "      <th>189</th>\n",
       "      <td>P21</td>\n",
       "      <td>6142521746642153-WHAT FOR.mp4</td>\n",
       "      <td>WHATFOR1</td>\n",
       "      <td>C_02_054</td>\n",
       "      <td>file:///media/kristian/HDD/ASL_Citizen/ASL_Cit...</td>\n",
       "      <td>5</td>\n",
       "    </tr>\n",
       "    <tr>\n",
       "      <th>190</th>\n",
       "      <td>P12</td>\n",
       "      <td>06408604416165864-WHAT FOR.mp4</td>\n",
       "      <td>WHATFOR1</td>\n",
       "      <td>C_02_054</td>\n",
       "      <td>file:///media/kristian/HDD/ASL_Citizen/ASL_Cit...</td>\n",
       "      <td>5</td>\n",
       "    </tr>\n",
       "  </tbody>\n",
       "</table>\n",
       "</div>"
      ],
      "text/plain": [
       "    Participant ID                       Video file     Gloss ASL-LEX Code  \\\n",
       "186            P26  032677896012150764-WHAT FOR.mp4  WHATFOR1     C_02_054   \n",
       "187             P5    6523145816470133-WHAT FOR.mp4  WHATFOR1     C_02_054   \n",
       "188            P39    0283886564670357-WHAT FOR.mp4  WHATFOR1     C_02_054   \n",
       "189            P21    6142521746642153-WHAT FOR.mp4  WHATFOR1     C_02_054   \n",
       "190            P12   06408604416165864-WHAT FOR.mp4  WHATFOR1     C_02_054   \n",
       "\n",
       "                                                  Path  Frequency  \n",
       "186  file:///media/kristian/HDD/ASL_Citizen/ASL_Cit...          5  \n",
       "187  file:///media/kristian/HDD/ASL_Citizen/ASL_Cit...          5  \n",
       "188  file:///media/kristian/HDD/ASL_Citizen/ASL_Cit...          5  \n",
       "189  file:///media/kristian/HDD/ASL_Citizen/ASL_Cit...          5  \n",
       "190  file:///media/kristian/HDD/ASL_Citizen/ASL_Cit...          5  "
      ]
     },
     "execution_count": 32,
     "metadata": {},
     "output_type": "execute_result"
    }
   ],
   "source": [
    "valdf.tail()"
   ]
  },
  {
   "cell_type": "code",
   "execution_count": null,
   "id": "a35add06",
   "metadata": {
    "ExecuteTime": {
     "end_time": "2023-08-04T13:08:33.954653Z",
     "start_time": "2023-08-04T13:08:33.951157Z"
    }
   },
   "outputs": [],
   "source": []
  },
  {
   "cell_type": "code",
   "execution_count": 33,
   "id": "1b676803",
   "metadata": {
    "ExecuteTime": {
     "end_time": "2023-08-04T22:02:52.778506Z",
     "start_time": "2023-08-04T22:02:52.774642Z"
    }
   },
   "outputs": [
    {
     "data": {
      "text/plain": [
       "50"
      ]
     },
     "execution_count": 33,
     "metadata": {},
     "output_type": "execute_result"
    }
   ],
   "source": [
    "valdf['Gloss'].nunique()"
   ]
  },
  {
   "cell_type": "code",
   "execution_count": 34,
   "id": "a8a31868",
   "metadata": {
    "ExecuteTime": {
     "end_time": "2023-08-04T22:02:53.420806Z",
     "start_time": "2023-08-04T22:02:53.411360Z"
    }
   },
   "outputs": [
    {
     "data": {
      "text/html": [
       "<div>\n",
       "<style scoped>\n",
       "    .dataframe tbody tr th:only-of-type {\n",
       "        vertical-align: middle;\n",
       "    }\n",
       "\n",
       "    .dataframe tbody tr th {\n",
       "        vertical-align: top;\n",
       "    }\n",
       "\n",
       "    .dataframe thead th {\n",
       "        text-align: right;\n",
       "    }\n",
       "</style>\n",
       "<table border=\"1\" class=\"dataframe\">\n",
       "  <thead>\n",
       "    <tr style=\"text-align: right;\">\n",
       "      <th></th>\n",
       "      <th>Frequency</th>\n",
       "    </tr>\n",
       "  </thead>\n",
       "  <tbody>\n",
       "    <tr>\n",
       "      <th>count</th>\n",
       "      <td>191.000000</td>\n",
       "    </tr>\n",
       "    <tr>\n",
       "      <th>mean</th>\n",
       "      <td>3.963351</td>\n",
       "    </tr>\n",
       "    <tr>\n",
       "      <th>std</th>\n",
       "      <td>0.770316</td>\n",
       "    </tr>\n",
       "    <tr>\n",
       "      <th>min</th>\n",
       "      <td>3.000000</td>\n",
       "    </tr>\n",
       "    <tr>\n",
       "      <th>25%</th>\n",
       "      <td>3.000000</td>\n",
       "    </tr>\n",
       "    <tr>\n",
       "      <th>50%</th>\n",
       "      <td>4.000000</td>\n",
       "    </tr>\n",
       "    <tr>\n",
       "      <th>75%</th>\n",
       "      <td>4.000000</td>\n",
       "    </tr>\n",
       "    <tr>\n",
       "      <th>max</th>\n",
       "      <td>6.000000</td>\n",
       "    </tr>\n",
       "  </tbody>\n",
       "</table>\n",
       "</div>"
      ],
      "text/plain": [
       "        Frequency\n",
       "count  191.000000\n",
       "mean     3.963351\n",
       "std      0.770316\n",
       "min      3.000000\n",
       "25%      3.000000\n",
       "50%      4.000000\n",
       "75%      4.000000\n",
       "max      6.000000"
      ]
     },
     "execution_count": 34,
     "metadata": {},
     "output_type": "execute_result"
    }
   ],
   "source": [
    "valdf.describe()"
   ]
  },
  {
   "cell_type": "code",
   "execution_count": 35,
   "id": "ab12521e",
   "metadata": {
    "ExecuteTime": {
     "end_time": "2023-08-04T22:02:54.157110Z",
     "start_time": "2023-08-04T22:02:54.150523Z"
    }
   },
   "outputs": [
    {
     "data": {
      "text/html": [
       "<div>\n",
       "<style scoped>\n",
       "    .dataframe tbody tr th:only-of-type {\n",
       "        vertical-align: middle;\n",
       "    }\n",
       "\n",
       "    .dataframe tbody tr th {\n",
       "        vertical-align: top;\n",
       "    }\n",
       "\n",
       "    .dataframe thead th {\n",
       "        text-align: right;\n",
       "    }\n",
       "</style>\n",
       "<table border=\"1\" class=\"dataframe\">\n",
       "  <thead>\n",
       "    <tr style=\"text-align: right;\">\n",
       "      <th></th>\n",
       "      <th>Participant ID</th>\n",
       "      <th>Video file</th>\n",
       "      <th>Gloss</th>\n",
       "      <th>ASL-LEX Code</th>\n",
       "      <th>Path</th>\n",
       "      <th>Frequency</th>\n",
       "    </tr>\n",
       "  </thead>\n",
       "  <tbody>\n",
       "    <tr>\n",
       "      <th>0</th>\n",
       "      <td>P39</td>\n",
       "      <td>19778675091674147-AXE.mp4</td>\n",
       "      <td>AXE1</td>\n",
       "      <td>G_03_066</td>\n",
       "      <td>file:///media/kristian/HDD/ASL_Citizen/ASL_Cit...</td>\n",
       "      <td>4</td>\n",
       "    </tr>\n",
       "    <tr>\n",
       "      <th>1</th>\n",
       "      <td>P26</td>\n",
       "      <td>8581142177964065-AXE.mp4</td>\n",
       "      <td>AXE1</td>\n",
       "      <td>G_03_066</td>\n",
       "      <td>file:///media/kristian/HDD/ASL_Citizen/ASL_Cit...</td>\n",
       "      <td>4</td>\n",
       "    </tr>\n",
       "    <tr>\n",
       "      <th>2</th>\n",
       "      <td>P39</td>\n",
       "      <td>3877478645046861-AXE.mp4</td>\n",
       "      <td>AXE1</td>\n",
       "      <td>G_03_066</td>\n",
       "      <td>file:///media/kristian/HDD/ASL_Citizen/ASL_Cit...</td>\n",
       "      <td>4</td>\n",
       "    </tr>\n",
       "    <tr>\n",
       "      <th>3</th>\n",
       "      <td>P21</td>\n",
       "      <td>8521417940364975-AXE.mp4</td>\n",
       "      <td>AXE1</td>\n",
       "      <td>G_03_066</td>\n",
       "      <td>file:///media/kristian/HDD/ASL_Citizen/ASL_Cit...</td>\n",
       "      <td>4</td>\n",
       "    </tr>\n",
       "    <tr>\n",
       "      <th>4</th>\n",
       "      <td>P5</td>\n",
       "      <td>9990244640190733-BACKPACK.mp4</td>\n",
       "      <td>BACKPACK1</td>\n",
       "      <td>G_03_091</td>\n",
       "      <td>file:///media/kristian/HDD/ASL_Citizen/ASL_Cit...</td>\n",
       "      <td>3</td>\n",
       "    </tr>\n",
       "  </tbody>\n",
       "</table>\n",
       "</div>"
      ],
      "text/plain": [
       "  Participant ID                     Video file      Gloss ASL-LEX Code  \\\n",
       "0            P39      19778675091674147-AXE.mp4       AXE1     G_03_066   \n",
       "1            P26       8581142177964065-AXE.mp4       AXE1     G_03_066   \n",
       "2            P39       3877478645046861-AXE.mp4       AXE1     G_03_066   \n",
       "3            P21       8521417940364975-AXE.mp4       AXE1     G_03_066   \n",
       "4             P5  9990244640190733-BACKPACK.mp4  BACKPACK1     G_03_091   \n",
       "\n",
       "                                                Path  Frequency  \n",
       "0  file:///media/kristian/HDD/ASL_Citizen/ASL_Cit...          4  \n",
       "1  file:///media/kristian/HDD/ASL_Citizen/ASL_Cit...          4  \n",
       "2  file:///media/kristian/HDD/ASL_Citizen/ASL_Cit...          4  \n",
       "3  file:///media/kristian/HDD/ASL_Citizen/ASL_Cit...          4  \n",
       "4  file:///media/kristian/HDD/ASL_Citizen/ASL_Cit...          3  "
      ]
     },
     "execution_count": 35,
     "metadata": {},
     "output_type": "execute_result"
    }
   ],
   "source": [
    "valdf.head()"
   ]
  },
  {
   "cell_type": "code",
   "execution_count": 36,
   "id": "abeb4ab0",
   "metadata": {
    "ExecuteTime": {
     "end_time": "2023-08-04T22:02:55.624812Z",
     "start_time": "2023-08-04T22:02:55.620484Z"
    }
   },
   "outputs": [],
   "source": [
    "testdf = testdf[testdf['Gloss'].isin(words)]\n",
    "testdf = testdf.reset_index(drop=True)"
   ]
  },
  {
   "cell_type": "code",
   "execution_count": 37,
   "id": "c76af2f2",
   "metadata": {
    "ExecuteTime": {
     "end_time": "2023-08-04T22:02:56.254914Z",
     "start_time": "2023-08-04T22:02:56.250662Z"
    }
   },
   "outputs": [
    {
     "data": {
      "text/plain": [
       "50"
      ]
     },
     "execution_count": 37,
     "metadata": {},
     "output_type": "execute_result"
    }
   ],
   "source": [
    "testdf['Gloss'].nunique()"
   ]
  },
  {
   "cell_type": "code",
   "execution_count": 38,
   "id": "9f4681f8",
   "metadata": {
    "ExecuteTime": {
     "end_time": "2023-08-04T22:02:56.855722Z",
     "start_time": "2023-08-04T22:02:56.838983Z"
    }
   },
   "outputs": [
    {
     "data": {
      "text/html": [
       "<div>\n",
       "<style scoped>\n",
       "    .dataframe tbody tr th:only-of-type {\n",
       "        vertical-align: middle;\n",
       "    }\n",
       "\n",
       "    .dataframe tbody tr th {\n",
       "        vertical-align: top;\n",
       "    }\n",
       "\n",
       "    .dataframe thead th {\n",
       "        text-align: right;\n",
       "    }\n",
       "</style>\n",
       "<table border=\"1\" class=\"dataframe\">\n",
       "  <thead>\n",
       "    <tr style=\"text-align: right;\">\n",
       "      <th></th>\n",
       "      <th>Participant ID</th>\n",
       "      <th>Video file</th>\n",
       "      <th>Gloss</th>\n",
       "      <th>ASL-LEX Code</th>\n",
       "      <th>Path</th>\n",
       "      <th>Frequency</th>\n",
       "    </tr>\n",
       "  </thead>\n",
       "  <tbody>\n",
       "    <tr>\n",
       "      <th>0</th>\n",
       "      <td>P15</td>\n",
       "      <td>33721516025652254-AXE.mp4</td>\n",
       "      <td>AXE1</td>\n",
       "      <td>G_03_066</td>\n",
       "      <td>file:///media/kristian/HDD/ASL_Citizen/ASL_Cit...</td>\n",
       "      <td>15</td>\n",
       "    </tr>\n",
       "    <tr>\n",
       "      <th>1</th>\n",
       "      <td>P47</td>\n",
       "      <td>519067006979435-AXE.mp4</td>\n",
       "      <td>AXE1</td>\n",
       "      <td>G_03_066</td>\n",
       "      <td>file:///media/kristian/HDD/ASL_Citizen/ASL_Cit...</td>\n",
       "      <td>15</td>\n",
       "    </tr>\n",
       "    <tr>\n",
       "      <th>2</th>\n",
       "      <td>P35</td>\n",
       "      <td>5104381603195376-AXE.mp4</td>\n",
       "      <td>AXE1</td>\n",
       "      <td>G_03_066</td>\n",
       "      <td>file:///media/kristian/HDD/ASL_Citizen/ASL_Cit...</td>\n",
       "      <td>15</td>\n",
       "    </tr>\n",
       "    <tr>\n",
       "      <th>3</th>\n",
       "      <td>P42</td>\n",
       "      <td>44458614013793873-AXE.mp4</td>\n",
       "      <td>AXE1</td>\n",
       "      <td>G_03_066</td>\n",
       "      <td>file:///media/kristian/HDD/ASL_Citizen/ASL_Cit...</td>\n",
       "      <td>15</td>\n",
       "    </tr>\n",
       "    <tr>\n",
       "      <th>4</th>\n",
       "      <td>P42</td>\n",
       "      <td>9604797909481075-AXE.mp4</td>\n",
       "      <td>AXE1</td>\n",
       "      <td>G_03_066</td>\n",
       "      <td>file:///media/kristian/HDD/ASL_Citizen/ASL_Cit...</td>\n",
       "      <td>15</td>\n",
       "    </tr>\n",
       "  </tbody>\n",
       "</table>\n",
       "</div>"
      ],
      "text/plain": [
       "  Participant ID                 Video file Gloss ASL-LEX Code  \\\n",
       "0            P15  33721516025652254-AXE.mp4  AXE1     G_03_066   \n",
       "1            P47    519067006979435-AXE.mp4  AXE1     G_03_066   \n",
       "2            P35   5104381603195376-AXE.mp4  AXE1     G_03_066   \n",
       "3            P42  44458614013793873-AXE.mp4  AXE1     G_03_066   \n",
       "4            P42   9604797909481075-AXE.mp4  AXE1     G_03_066   \n",
       "\n",
       "                                                Path  Frequency  \n",
       "0  file:///media/kristian/HDD/ASL_Citizen/ASL_Cit...         15  \n",
       "1  file:///media/kristian/HDD/ASL_Citizen/ASL_Cit...         15  \n",
       "2  file:///media/kristian/HDD/ASL_Citizen/ASL_Cit...         15  \n",
       "3  file:///media/kristian/HDD/ASL_Citizen/ASL_Cit...         15  \n",
       "4  file:///media/kristian/HDD/ASL_Citizen/ASL_Cit...         15  "
      ]
     },
     "execution_count": 38,
     "metadata": {},
     "output_type": "execute_result"
    }
   ],
   "source": [
    "testdf.head()"
   ]
  },
  {
   "cell_type": "code",
   "execution_count": 39,
   "id": "65c2f8c4",
   "metadata": {
    "ExecuteTime": {
     "end_time": "2023-08-04T22:02:57.517908Z",
     "start_time": "2023-08-04T22:02:57.509162Z"
    }
   },
   "outputs": [
    {
     "data": {
      "text/html": [
       "<div>\n",
       "<style scoped>\n",
       "    .dataframe tbody tr th:only-of-type {\n",
       "        vertical-align: middle;\n",
       "    }\n",
       "\n",
       "    .dataframe tbody tr th {\n",
       "        vertical-align: top;\n",
       "    }\n",
       "\n",
       "    .dataframe thead th {\n",
       "        text-align: right;\n",
       "    }\n",
       "</style>\n",
       "<table border=\"1\" class=\"dataframe\">\n",
       "  <thead>\n",
       "    <tr style=\"text-align: right;\">\n",
       "      <th></th>\n",
       "      <th>Participant ID</th>\n",
       "      <th>Video file</th>\n",
       "      <th>Gloss</th>\n",
       "      <th>ASL-LEX Code</th>\n",
       "      <th>Path</th>\n",
       "      <th>Frequency</th>\n",
       "    </tr>\n",
       "  </thead>\n",
       "  <tbody>\n",
       "    <tr>\n",
       "      <th>724</th>\n",
       "      <td>P42</td>\n",
       "      <td>3448123355846451-WHAT FOR.mp4</td>\n",
       "      <td>WHATFOR1</td>\n",
       "      <td>C_02_054</td>\n",
       "      <td>file:///media/kristian/HDD/ASL_Citizen/ASL_Cit...</td>\n",
       "      <td>18</td>\n",
       "    </tr>\n",
       "    <tr>\n",
       "      <th>725</th>\n",
       "      <td>P47</td>\n",
       "      <td>034046510887022485-WHAT FOR.mp4</td>\n",
       "      <td>WHATFOR1</td>\n",
       "      <td>C_02_054</td>\n",
       "      <td>file:///media/kristian/HDD/ASL_Citizen/ASL_Cit...</td>\n",
       "      <td>18</td>\n",
       "    </tr>\n",
       "    <tr>\n",
       "      <th>726</th>\n",
       "      <td>P22</td>\n",
       "      <td>9359050586202402-WHAT FOR.mp4</td>\n",
       "      <td>WHATFOR1</td>\n",
       "      <td>C_02_054</td>\n",
       "      <td>file:///media/kristian/HDD/ASL_Citizen/ASL_Cit...</td>\n",
       "      <td>18</td>\n",
       "    </tr>\n",
       "    <tr>\n",
       "      <th>727</th>\n",
       "      <td>P42</td>\n",
       "      <td>2748457214117681-WHAT FOR.mp4</td>\n",
       "      <td>WHATFOR1</td>\n",
       "      <td>C_02_054</td>\n",
       "      <td>file:///media/kristian/HDD/ASL_Citizen/ASL_Cit...</td>\n",
       "      <td>18</td>\n",
       "    </tr>\n",
       "    <tr>\n",
       "      <th>728</th>\n",
       "      <td>P15</td>\n",
       "      <td>540014801916062-WHAT FOR.mp4</td>\n",
       "      <td>WHATFOR1</td>\n",
       "      <td>C_02_054</td>\n",
       "      <td>file:///media/kristian/HDD/ASL_Citizen/ASL_Cit...</td>\n",
       "      <td>18</td>\n",
       "    </tr>\n",
       "  </tbody>\n",
       "</table>\n",
       "</div>"
      ],
      "text/plain": [
       "    Participant ID                       Video file     Gloss ASL-LEX Code  \\\n",
       "724            P42    3448123355846451-WHAT FOR.mp4  WHATFOR1     C_02_054   \n",
       "725            P47  034046510887022485-WHAT FOR.mp4  WHATFOR1     C_02_054   \n",
       "726            P22    9359050586202402-WHAT FOR.mp4  WHATFOR1     C_02_054   \n",
       "727            P42    2748457214117681-WHAT FOR.mp4  WHATFOR1     C_02_054   \n",
       "728            P15     540014801916062-WHAT FOR.mp4  WHATFOR1     C_02_054   \n",
       "\n",
       "                                                  Path  Frequency  \n",
       "724  file:///media/kristian/HDD/ASL_Citizen/ASL_Cit...         18  \n",
       "725  file:///media/kristian/HDD/ASL_Citizen/ASL_Cit...         18  \n",
       "726  file:///media/kristian/HDD/ASL_Citizen/ASL_Cit...         18  \n",
       "727  file:///media/kristian/HDD/ASL_Citizen/ASL_Cit...         18  \n",
       "728  file:///media/kristian/HDD/ASL_Citizen/ASL_Cit...         18  "
      ]
     },
     "execution_count": 39,
     "metadata": {},
     "output_type": "execute_result"
    }
   ],
   "source": [
    "testdf.tail()"
   ]
  },
  {
   "cell_type": "code",
   "execution_count": 40,
   "id": "8dbfdd75",
   "metadata": {
    "ExecuteTime": {
     "end_time": "2023-08-04T22:02:59.029535Z",
     "start_time": "2023-08-04T22:02:59.021377Z"
    }
   },
   "outputs": [
    {
     "data": {
      "text/html": [
       "<div>\n",
       "<style scoped>\n",
       "    .dataframe tbody tr th:only-of-type {\n",
       "        vertical-align: middle;\n",
       "    }\n",
       "\n",
       "    .dataframe tbody tr th {\n",
       "        vertical-align: top;\n",
       "    }\n",
       "\n",
       "    .dataframe thead th {\n",
       "        text-align: right;\n",
       "    }\n",
       "</style>\n",
       "<table border=\"1\" class=\"dataframe\">\n",
       "  <thead>\n",
       "    <tr style=\"text-align: right;\">\n",
       "      <th></th>\n",
       "      <th>Frequency</th>\n",
       "    </tr>\n",
       "  </thead>\n",
       "  <tbody>\n",
       "    <tr>\n",
       "      <th>count</th>\n",
       "      <td>729.000000</td>\n",
       "    </tr>\n",
       "    <tr>\n",
       "      <th>mean</th>\n",
       "      <td>14.978052</td>\n",
       "    </tr>\n",
       "    <tr>\n",
       "      <th>std</th>\n",
       "      <td>2.229192</td>\n",
       "    </tr>\n",
       "    <tr>\n",
       "      <th>min</th>\n",
       "      <td>9.000000</td>\n",
       "    </tr>\n",
       "    <tr>\n",
       "      <th>25%</th>\n",
       "      <td>14.000000</td>\n",
       "    </tr>\n",
       "    <tr>\n",
       "      <th>50%</th>\n",
       "      <td>15.000000</td>\n",
       "    </tr>\n",
       "    <tr>\n",
       "      <th>75%</th>\n",
       "      <td>16.000000</td>\n",
       "    </tr>\n",
       "    <tr>\n",
       "      <th>max</th>\n",
       "      <td>20.000000</td>\n",
       "    </tr>\n",
       "  </tbody>\n",
       "</table>\n",
       "</div>"
      ],
      "text/plain": [
       "        Frequency\n",
       "count  729.000000\n",
       "mean    14.978052\n",
       "std      2.229192\n",
       "min      9.000000\n",
       "25%     14.000000\n",
       "50%     15.000000\n",
       "75%     16.000000\n",
       "max     20.000000"
      ]
     },
     "execution_count": 40,
     "metadata": {},
     "output_type": "execute_result"
    }
   ],
   "source": [
    "testdf.describe()"
   ]
  },
  {
   "cell_type": "code",
   "execution_count": 41,
   "id": "d4bf6761",
   "metadata": {
    "ExecuteTime": {
     "end_time": "2023-08-04T22:03:02.290918Z",
     "start_time": "2023-08-04T22:03:02.285273Z"
    }
   },
   "outputs": [],
   "source": [
    "traindf['Gloss'] = traindf['Gloss'].str.replace('\\d+', '',regex=True)\n",
    "valdf['Gloss'] = valdf['Gloss'].str.replace('\\d+', '',regex=True)\n",
    "testdf['Gloss'] = testdf['Gloss'].str.replace('\\d+', '',regex=True)"
   ]
  },
  {
   "cell_type": "code",
   "execution_count": 42,
   "id": "08be0602",
   "metadata": {
    "ExecuteTime": {
     "end_time": "2023-08-04T22:03:03.651179Z",
     "start_time": "2023-08-04T22:03:03.647344Z"
    }
   },
   "outputs": [
    {
     "data": {
      "text/plain": [
       "array(['AXE', 'BACKPACK', 'BASKETBALL', 'BEE', 'BELT', 'BITE',\n",
       "       'BREAKFAST', 'CANCER', 'CHRISTMAS', 'CONFUSED', 'DARK', 'DEAF',\n",
       "       'DECIDE', 'DEMAND', 'DEVELOP', 'DINNER', 'DOG', 'DOWNSIZE', 'DRAG',\n",
       "       'EAT', 'EDIT', 'ELEVATOR', 'FINE', 'FLOAT', 'FOREIGNER', 'GUESS',\n",
       "       'HALLOWEEN', 'HOSPITAL', 'HURDLE/TRIP', 'JEWELRY', 'KNIGHT',\n",
       "       'LOCK', 'LUNCH', 'MAPLE', 'MEAT', 'MECHANIC', 'MICROSCOPE',\n",
       "       'MOVIE', 'NOON', 'PARTY', 'PATIENT', 'RAZOR', 'RIVER',\n",
       "       'ROCKINGCHAIR', 'SHAVE', 'SINK', 'SQUEEZE', 'THEY', 'TWINS',\n",
       "       'WHATFOR'], dtype=object)"
      ]
     },
     "execution_count": 42,
     "metadata": {},
     "output_type": "execute_result"
    }
   ],
   "source": [
    "words = traindf['Gloss'].unique()\n",
    "words"
   ]
  },
  {
   "cell_type": "code",
   "execution_count": 43,
   "id": "d1877868",
   "metadata": {
    "ExecuteTime": {
     "end_time": "2023-08-04T22:03:04.431279Z",
     "start_time": "2023-08-04T22:03:04.427211Z"
    }
   },
   "outputs": [
    {
     "data": {
      "text/plain": [
       "array(['AXE', 'BACKPACK', 'BASKETBALL', 'BEE', 'BELT', 'BITE',\n",
       "       'BREAKFAST', 'CANCER', 'CHRISTMAS', 'CONFUSED', 'DARK', 'DEAF',\n",
       "       'DECIDE', 'DEMAND', 'DEVELOP', 'DINNER', 'DOG', 'DOWNSIZE', 'DRAG',\n",
       "       'EAT', 'EDIT', 'ELEVATOR', 'FINE', 'FLOAT', 'FOREIGNER', 'GUESS',\n",
       "       'HALLOWEEN', 'HOSPITAL', 'HURDLE/TRIP', 'JEWELRY', 'KNIGHT',\n",
       "       'LOCK', 'LUNCH', 'MAPLE', 'MEAT', 'MECHANIC', 'MICROSCOPE',\n",
       "       'MOVIE', 'NOON', 'PARTY', 'PATIENT', 'RAZOR', 'RIVER',\n",
       "       'ROCKINGCHAIR', 'SHAVE', 'SINK', 'SQUEEZE', 'THEY', 'TWINS',\n",
       "       'WHATFOR'], dtype=object)"
      ]
     },
     "execution_count": 43,
     "metadata": {},
     "output_type": "execute_result"
    }
   ],
   "source": [
    "words = valdf['Gloss'].unique()\n",
    "words"
   ]
  },
  {
   "cell_type": "code",
   "execution_count": 44,
   "id": "8028c5c4",
   "metadata": {
    "ExecuteTime": {
     "end_time": "2023-08-04T22:03:05.182388Z",
     "start_time": "2023-08-04T22:03:05.178697Z"
    }
   },
   "outputs": [
    {
     "data": {
      "text/plain": [
       "array(['AXE', 'BACKPACK', 'BASKETBALL', 'BEE', 'BELT', 'BITE',\n",
       "       'BREAKFAST', 'CANCER', 'CHRISTMAS', 'CONFUSED', 'DARK', 'DEAF',\n",
       "       'DECIDE', 'DEMAND', 'DEVELOP', 'DINNER', 'DOG', 'DOWNSIZE', 'DRAG',\n",
       "       'EAT', 'EDIT', 'ELEVATOR', 'FINE', 'FLOAT', 'FOREIGNER', 'GUESS',\n",
       "       'HALLOWEEN', 'HOSPITAL', 'HURDLE/TRIP', 'JEWELRY', 'KNIGHT',\n",
       "       'LOCK', 'LUNCH', 'MAPLE', 'MEAT', 'MECHANIC', 'MICROSCOPE',\n",
       "       'MOVIE', 'NOON', 'PARTY', 'PATIENT', 'RAZOR', 'RIVER',\n",
       "       'ROCKINGCHAIR', 'SHAVE', 'SINK', 'SQUEEZE', 'THEY', 'TWINS',\n",
       "       'WHATFOR'], dtype=object)"
      ]
     },
     "execution_count": 44,
     "metadata": {},
     "output_type": "execute_result"
    }
   ],
   "source": [
    "words = testdf['Gloss'].unique()\n",
    "words"
   ]
  },
  {
   "cell_type": "code",
   "execution_count": 45,
   "id": "f529af44",
   "metadata": {
    "ExecuteTime": {
     "end_time": "2023-08-04T22:03:06.556197Z",
     "start_time": "2023-08-04T22:03:06.552639Z"
    }
   },
   "outputs": [
    {
     "name": "stdout",
     "output_type": "stream",
     "text": [
      "50\n",
      "50\n",
      "50\n"
     ]
    }
   ],
   "source": [
    "print(traindf['Gloss'].nunique())\n",
    "print(valdf['Gloss'].nunique())\n",
    "print(testdf['Gloss'].nunique())"
   ]
  },
  {
   "cell_type": "code",
   "execution_count": 46,
   "id": "ad70c4fa",
   "metadata": {
    "ExecuteTime": {
     "end_time": "2023-08-04T22:03:27.092737Z",
     "start_time": "2023-08-04T22:03:11.454704Z"
    }
   },
   "outputs": [],
   "source": [
    "cap = cv2.VideoCapture(traindf.Path[0])\n",
    "#cap = cv2.VideoCapture(0, cv2.CAP_DSHOW)\n",
    "\n",
    "with mp_holistic.Holistic(static_image_mode=False,\n",
    "                          model_complexity=2) as holistic:\n",
    "    while True:\n",
    "        ret, frame = cap.read()\n",
    "        if ret == False:\n",
    "            break\n",
    "        frame_rgb = cv2.cvtColor(frame, cv2.COLOR_BGR2RGB)\n",
    "        results = holistic.process(frame_rgb)\n",
    "        # rostro\n",
    "        mp_drawing.draw_landmarks(\n",
    "            frame, results.face_landmarks, mp_holistic.FACEMESH_TESSELATION,\n",
    "            mp_drawing.DrawingSpec(color=(0, 255, 255),\n",
    "                                   thickness=1,\n",
    "                                   circle_radius=1),\n",
    "            mp_drawing.DrawingSpec(color=(0, 128, 255), thickness=2))\n",
    "\n",
    "        # Mano izquieda (azul)\n",
    "        mp_drawing.draw_landmarks(\n",
    "            frame, results.left_hand_landmarks, mp_holistic.HAND_CONNECTIONS,\n",
    "            mp_drawing.DrawingSpec(color=(0, 0, 0),\n",
    "                                   thickness=2,\n",
    "                                   circle_radius=1),\n",
    "            mp_drawing.DrawingSpec(color=(0, 92, 230), thickness=2))\n",
    "\n",
    "        # Mano derecha (verde)\n",
    "        mp_drawing.draw_landmarks(\n",
    "            frame, results.right_hand_landmarks, mp_holistic.HAND_CONNECTIONS,\n",
    "            mp_drawing.DrawingSpec(color=(0, 0, 0),\n",
    "                                   thickness=2,\n",
    "                                   circle_radius=1),\n",
    "            mp_drawing.DrawingSpec(color=(0, 92, 230), thickness=2))\n",
    "\n",
    "        # Postura\n",
    "        mp_drawing.draw_landmarks(\n",
    "            frame, results.pose_landmarks, mp_holistic.POSE_CONNECTIONS,\n",
    "            mp_drawing.DrawingSpec(color=(0, 0, 0),\n",
    "                                   thickness=2,\n",
    "                                   circle_radius=1),\n",
    "            mp_drawing.DrawingSpec(color=(0, 92, 230), thickness=2))\n",
    "        frame = cv2.flip(frame, 1)\n",
    "        cv2.imshow(\"Frame\", frame)\n",
    "        if cv2.waitKey(1) & 0xFF == 27:\n",
    "            break\n",
    "cap.release()\n",
    "cv2.destroyAllWindows()"
   ]
  },
  {
   "cell_type": "code",
   "execution_count": 48,
   "id": "1b4860ef",
   "metadata": {
    "ExecuteTime": {
     "end_time": "2023-08-04T22:03:36.149920Z",
     "start_time": "2023-08-04T22:03:36.144923Z"
    }
   },
   "outputs": [],
   "source": [
    "# Define a function to extract keypoints from a single video file\n",
    "def extract_keypoints_from_file(filepath):\n",
    "    # Initialize a MediaPipe Holistic model\n",
    "    holistic = mp.solutions.holistic.Holistic(static_image_mode=False,\n",
    "                                              model_complexity=0,\n",
    "                                              min_detection_confidence=0.5,\n",
    "                                              min_tracking_confidence=0.5)\n",
    "\n",
    "    # Open the video file\n",
    "    cap = cv2.VideoCapture(filepath)\n",
    "\n",
    "    # Initialize an empty list to store the keypoints for each frame\n",
    "    keypoints = []\n",
    "\n",
    "    # Loop through the frames of the video\n",
    "    while cap.isOpened():\n",
    "        # Read a frame from the video\n",
    "        ret, frame = cap.read()\n",
    "        if not ret:\n",
    "            break\n",
    "\n",
    "        # Convert the frame to RGB color space\n",
    "        frame = cv2.cvtColor(frame, cv2.COLOR_BGR2RGB)\n",
    "\n",
    "        # Use the Holistic model to detect landmarks for the face, pose, and hands\n",
    "        results = holistic.process(frame)\n",
    "\n",
    "        # Extract the keypoints from the results object and append them to the keypoints list\n",
    "        keypoints.append(extract_keypoints(results))\n",
    "\n",
    "    # Release the video capture object and the Holistic model\n",
    "    cap.release()\n",
    "    holistic.close()\n",
    "\n",
    "    return np.array(keypoints)"
   ]
  },
  {
   "cell_type": "code",
   "execution_count": 50,
   "id": "49e95ea7",
   "metadata": {
    "ExecuteTime": {
     "end_time": "2023-08-04T22:03:50.417935Z",
     "start_time": "2023-08-04T22:03:44.879103Z"
    }
   },
   "outputs": [
    {
     "data": {
      "text/plain": [
       "(100, 1662)"
      ]
     },
     "execution_count": 50,
     "metadata": {},
     "output_type": "execute_result"
    }
   ],
   "source": [
    "extract_keypoints_from_file(traindf.Path[0]).shape"
   ]
  },
  {
   "cell_type": "code",
   "execution_count": 51,
   "id": "5d2a0a7a",
   "metadata": {
    "ExecuteTime": {
     "end_time": "2023-08-04T22:03:52.616744Z",
     "start_time": "2023-08-04T22:03:52.607253Z"
    }
   },
   "outputs": [
    {
     "name": "stdout",
     "output_type": "stream",
     "text": [
      "100\n"
     ]
    }
   ],
   "source": [
    "cap = cv2.VideoCapture(traindf.Path[0])\n",
    "length = int(cap.get(cv2.CAP_PROP_FRAME_COUNT))\n",
    "print( length )"
   ]
  },
  {
   "cell_type": "code",
   "execution_count": 52,
   "id": "b48bfa39",
   "metadata": {
    "ExecuteTime": {
     "end_time": "2023-08-04T22:04:00.415736Z",
     "start_time": "2023-08-04T22:03:56.148747Z"
    }
   },
   "outputs": [
    {
     "data": {
      "text/plain": [
       "numpy.ndarray"
      ]
     },
     "execution_count": 52,
     "metadata": {},
     "output_type": "execute_result"
    }
   ],
   "source": [
    "type(extract_keypoints_from_file(traindf.Path[643]))"
   ]
  },
  {
   "cell_type": "code",
   "execution_count": 53,
   "id": "f5533751",
   "metadata": {
    "ExecuteTime": {
     "end_time": "2023-08-04T22:04:02.133475Z",
     "start_time": "2023-08-04T22:04:02.126257Z"
    }
   },
   "outputs": [
    {
     "data": {
      "text/plain": [
       "Participant ID    950\n",
       "Video file        950\n",
       "Gloss             950\n",
       "ASL-LEX Code      950\n",
       "Path              950\n",
       "Frequency         950\n",
       "dtype: int64"
      ]
     },
     "execution_count": 53,
     "metadata": {},
     "output_type": "execute_result"
    }
   ],
   "source": [
    "traindf.count()"
   ]
  },
  {
   "cell_type": "code",
   "execution_count": 54,
   "id": "9a9a5517",
   "metadata": {
    "ExecuteTime": {
     "end_time": "2023-08-04T22:04:03.312680Z",
     "start_time": "2023-08-04T22:04:03.310058Z"
    }
   },
   "outputs": [],
   "source": [
    "def frames_from_file(filepath):\n",
    "    cap = cv2.VideoCapture(filepath)\n",
    "    length = int(cap.get(cv2.CAP_PROP_FRAME_COUNT))\n",
    "    return length"
   ]
  },
  {
   "cell_type": "code",
   "execution_count": 55,
   "id": "2576a32d",
   "metadata": {
    "ExecuteTime": {
     "end_time": "2023-08-04T22:04:06.898732Z",
     "start_time": "2023-08-04T22:04:06.888338Z"
    }
   },
   "outputs": [
    {
     "data": {
      "text/plain": [
       "100"
      ]
     },
     "execution_count": 55,
     "metadata": {},
     "output_type": "execute_result"
    }
   ],
   "source": [
    "frames_from_file(traindf.Path[0])"
   ]
  },
  {
   "cell_type": "code",
   "execution_count": 56,
   "id": "fad1ee21",
   "metadata": {
    "ExecuteTime": {
     "end_time": "2023-08-04T22:04:15.732258Z",
     "start_time": "2023-08-04T22:04:10.368040Z"
    },
    "scrolled": true
   },
   "outputs": [
    {
     "name": "stderr",
     "output_type": "stream",
     "text": [
      "100%|██████████████████████████████████| 950/950 [00:05<00:00, 177.31it/s]\n"
     ]
    }
   ],
   "source": [
    "tqdm.pandas()\n",
    "traindf['Frames'] = traindf['Path'].progress_apply(frames_from_file)"
   ]
  },
  {
   "cell_type": "code",
   "execution_count": 57,
   "id": "87551a0c",
   "metadata": {
    "ExecuteTime": {
     "end_time": "2023-08-04T22:04:19.446206Z",
     "start_time": "2023-08-04T22:04:19.442420Z"
    }
   },
   "outputs": [
    {
     "data": {
      "text/plain": [
       "540"
      ]
     },
     "execution_count": 57,
     "metadata": {},
     "output_type": "execute_result"
    }
   ],
   "source": [
    "traindf['Frames'].max()"
   ]
  },
  {
   "cell_type": "code",
   "execution_count": 58,
   "id": "4b95c2fa",
   "metadata": {
    "ExecuteTime": {
     "end_time": "2023-08-04T22:04:20.969693Z",
     "start_time": "2023-08-04T22:04:20.962105Z"
    }
   },
   "outputs": [
    {
     "data": {
      "text/html": [
       "<div>\n",
       "<style scoped>\n",
       "    .dataframe tbody tr th:only-of-type {\n",
       "        vertical-align: middle;\n",
       "    }\n",
       "\n",
       "    .dataframe tbody tr th {\n",
       "        vertical-align: top;\n",
       "    }\n",
       "\n",
       "    .dataframe thead th {\n",
       "        text-align: right;\n",
       "    }\n",
       "</style>\n",
       "<table border=\"1\" class=\"dataframe\">\n",
       "  <thead>\n",
       "    <tr style=\"text-align: right;\">\n",
       "      <th></th>\n",
       "      <th>Participant ID</th>\n",
       "      <th>Video file</th>\n",
       "      <th>Gloss</th>\n",
       "      <th>ASL-LEX Code</th>\n",
       "      <th>Path</th>\n",
       "      <th>Frequency</th>\n",
       "      <th>Frames</th>\n",
       "    </tr>\n",
       "  </thead>\n",
       "  <tbody>\n",
       "    <tr>\n",
       "      <th>0</th>\n",
       "      <td>P52</td>\n",
       "      <td>07157565148825373-seedAXE.mp4</td>\n",
       "      <td>AXE</td>\n",
       "      <td>G_03_066</td>\n",
       "      <td>file:///media/kristian/HDD/ASL_Citizen/ASL_Cit...</td>\n",
       "      <td>19</td>\n",
       "      <td>100</td>\n",
       "    </tr>\n",
       "    <tr>\n",
       "      <th>1</th>\n",
       "      <td>P28</td>\n",
       "      <td>7179300005186042-AXE.mp4</td>\n",
       "      <td>AXE</td>\n",
       "      <td>G_03_066</td>\n",
       "      <td>file:///media/kristian/HDD/ASL_Citizen/ASL_Cit...</td>\n",
       "      <td>19</td>\n",
       "      <td>81</td>\n",
       "    </tr>\n",
       "    <tr>\n",
       "      <th>2</th>\n",
       "      <td>P29</td>\n",
       "      <td>16216064841959765-AXE.mp4</td>\n",
       "      <td>AXE</td>\n",
       "      <td>G_03_066</td>\n",
       "      <td>file:///media/kristian/HDD/ASL_Citizen/ASL_Cit...</td>\n",
       "      <td>19</td>\n",
       "      <td>47</td>\n",
       "    </tr>\n",
       "    <tr>\n",
       "      <th>3</th>\n",
       "      <td>P37</td>\n",
       "      <td>6193814382865199-AXE.mp4</td>\n",
       "      <td>AXE</td>\n",
       "      <td>G_03_066</td>\n",
       "      <td>file:///media/kristian/HDD/ASL_Citizen/ASL_Cit...</td>\n",
       "      <td>19</td>\n",
       "      <td>67</td>\n",
       "    </tr>\n",
       "    <tr>\n",
       "      <th>4</th>\n",
       "      <td>P40</td>\n",
       "      <td>5947453960317015-AXE.mp4</td>\n",
       "      <td>AXE</td>\n",
       "      <td>G_03_066</td>\n",
       "      <td>file:///media/kristian/HDD/ASL_Citizen/ASL_Cit...</td>\n",
       "      <td>19</td>\n",
       "      <td>89</td>\n",
       "    </tr>\n",
       "  </tbody>\n",
       "</table>\n",
       "</div>"
      ],
      "text/plain": [
       "  Participant ID                     Video file Gloss ASL-LEX Code  \\\n",
       "0            P52  07157565148825373-seedAXE.mp4   AXE     G_03_066   \n",
       "1            P28       7179300005186042-AXE.mp4   AXE     G_03_066   \n",
       "2            P29      16216064841959765-AXE.mp4   AXE     G_03_066   \n",
       "3            P37       6193814382865199-AXE.mp4   AXE     G_03_066   \n",
       "4            P40       5947453960317015-AXE.mp4   AXE     G_03_066   \n",
       "\n",
       "                                                Path  Frequency  Frames  \n",
       "0  file:///media/kristian/HDD/ASL_Citizen/ASL_Cit...         19     100  \n",
       "1  file:///media/kristian/HDD/ASL_Citizen/ASL_Cit...         19      81  \n",
       "2  file:///media/kristian/HDD/ASL_Citizen/ASL_Cit...         19      47  \n",
       "3  file:///media/kristian/HDD/ASL_Citizen/ASL_Cit...         19      67  \n",
       "4  file:///media/kristian/HDD/ASL_Citizen/ASL_Cit...         19      89  "
      ]
     },
     "execution_count": 58,
     "metadata": {},
     "output_type": "execute_result"
    }
   ],
   "source": [
    "traindf.head()"
   ]
  },
  {
   "cell_type": "code",
   "execution_count": 59,
   "id": "9aa9ef76",
   "metadata": {
    "ExecuteTime": {
     "end_time": "2023-08-04T22:04:53.456045Z",
     "start_time": "2023-08-04T22:04:53.441797Z"
    }
   },
   "outputs": [
    {
     "data": {
      "text/html": [
       "<div>\n",
       "<style scoped>\n",
       "    .dataframe tbody tr th:only-of-type {\n",
       "        vertical-align: middle;\n",
       "    }\n",
       "\n",
       "    .dataframe tbody tr th {\n",
       "        vertical-align: top;\n",
       "    }\n",
       "\n",
       "    .dataframe thead th {\n",
       "        text-align: right;\n",
       "    }\n",
       "</style>\n",
       "<table border=\"1\" class=\"dataframe\">\n",
       "  <thead>\n",
       "    <tr style=\"text-align: right;\">\n",
       "      <th></th>\n",
       "      <th>Frequency</th>\n",
       "      <th>Frames</th>\n",
       "    </tr>\n",
       "  </thead>\n",
       "  <tbody>\n",
       "    <tr>\n",
       "      <th>count</th>\n",
       "      <td>950.000000</td>\n",
       "      <td>950.000000</td>\n",
       "    </tr>\n",
       "    <tr>\n",
       "      <th>mean</th>\n",
       "      <td>19.082105</td>\n",
       "      <td>87.755789</td>\n",
       "    </tr>\n",
       "    <tr>\n",
       "      <th>std</th>\n",
       "      <td>1.316026</td>\n",
       "      <td>46.654745</td>\n",
       "    </tr>\n",
       "    <tr>\n",
       "      <th>min</th>\n",
       "      <td>18.000000</td>\n",
       "      <td>25.000000</td>\n",
       "    </tr>\n",
       "    <tr>\n",
       "      <th>25%</th>\n",
       "      <td>18.000000</td>\n",
       "      <td>60.000000</td>\n",
       "    </tr>\n",
       "    <tr>\n",
       "      <th>50%</th>\n",
       "      <td>19.000000</td>\n",
       "      <td>77.000000</td>\n",
       "    </tr>\n",
       "    <tr>\n",
       "      <th>75%</th>\n",
       "      <td>20.000000</td>\n",
       "      <td>97.000000</td>\n",
       "    </tr>\n",
       "    <tr>\n",
       "      <th>max</th>\n",
       "      <td>24.000000</td>\n",
       "      <td>540.000000</td>\n",
       "    </tr>\n",
       "  </tbody>\n",
       "</table>\n",
       "</div>"
      ],
      "text/plain": [
       "        Frequency      Frames\n",
       "count  950.000000  950.000000\n",
       "mean    19.082105   87.755789\n",
       "std      1.316026   46.654745\n",
       "min     18.000000   25.000000\n",
       "25%     18.000000   60.000000\n",
       "50%     19.000000   77.000000\n",
       "75%     20.000000   97.000000\n",
       "max     24.000000  540.000000"
      ]
     },
     "execution_count": 59,
     "metadata": {},
     "output_type": "execute_result"
    }
   ],
   "source": [
    "traindf.describe()"
   ]
  },
  {
   "cell_type": "code",
   "execution_count": 60,
   "id": "2227fcbf",
   "metadata": {
    "ExecuteTime": {
     "end_time": "2023-08-04T22:05:04.195691Z",
     "start_time": "2023-08-04T22:05:04.181646Z"
    }
   },
   "outputs": [
    {
     "data": {
      "text/html": [
       "<div>\n",
       "<style scoped>\n",
       "    .dataframe tbody tr th:only-of-type {\n",
       "        vertical-align: middle;\n",
       "    }\n",
       "\n",
       "    .dataframe tbody tr th {\n",
       "        vertical-align: top;\n",
       "    }\n",
       "\n",
       "    .dataframe thead th {\n",
       "        text-align: right;\n",
       "    }\n",
       "</style>\n",
       "<table border=\"1\" class=\"dataframe\">\n",
       "  <thead>\n",
       "    <tr style=\"text-align: right;\">\n",
       "      <th></th>\n",
       "      <th>Frequency</th>\n",
       "      <th>Frames</th>\n",
       "    </tr>\n",
       "  </thead>\n",
       "  <tbody>\n",
       "    <tr>\n",
       "      <th>count</th>\n",
       "      <td>839.000000</td>\n",
       "      <td>839.000000</td>\n",
       "    </tr>\n",
       "    <tr>\n",
       "      <th>mean</th>\n",
       "      <td>19.096544</td>\n",
       "      <td>74.880810</td>\n",
       "    </tr>\n",
       "    <tr>\n",
       "      <th>std</th>\n",
       "      <td>1.315041</td>\n",
       "      <td>20.661209</td>\n",
       "    </tr>\n",
       "    <tr>\n",
       "      <th>min</th>\n",
       "      <td>18.000000</td>\n",
       "      <td>25.000000</td>\n",
       "    </tr>\n",
       "    <tr>\n",
       "      <th>25%</th>\n",
       "      <td>18.000000</td>\n",
       "      <td>59.000000</td>\n",
       "    </tr>\n",
       "    <tr>\n",
       "      <th>50%</th>\n",
       "      <td>19.000000</td>\n",
       "      <td>73.000000</td>\n",
       "    </tr>\n",
       "    <tr>\n",
       "      <th>75%</th>\n",
       "      <td>20.000000</td>\n",
       "      <td>88.000000</td>\n",
       "    </tr>\n",
       "    <tr>\n",
       "      <th>max</th>\n",
       "      <td>24.000000</td>\n",
       "      <td>130.000000</td>\n",
       "    </tr>\n",
       "  </tbody>\n",
       "</table>\n",
       "</div>"
      ],
      "text/plain": [
       "        Frequency      Frames\n",
       "count  839.000000  839.000000\n",
       "mean    19.096544   74.880810\n",
       "std      1.315041   20.661209\n",
       "min     18.000000   25.000000\n",
       "25%     18.000000   59.000000\n",
       "50%     19.000000   73.000000\n",
       "75%     20.000000   88.000000\n",
       "max     24.000000  130.000000"
      ]
     },
     "execution_count": 60,
     "metadata": {},
     "output_type": "execute_result"
    }
   ],
   "source": [
    "traindf = traindf[traindf['Frames'] < 131]\n",
    "#filtered_df = traindf[(traindf['Frames'] > 0) & (traindf['Frames'] < 121)]\n",
    "#filtered_df = traindf[traindf['Frames'] > 0]\n",
    "traindf.describe()"
   ]
  },
  {
   "cell_type": "code",
   "execution_count": 61,
   "id": "a153f34d",
   "metadata": {
    "ExecuteTime": {
     "end_time": "2023-08-04T22:05:25.298762Z",
     "start_time": "2023-08-04T22:05:25.284142Z"
    }
   },
   "outputs": [
    {
     "data": {
      "text/html": [
       "<div>\n",
       "<style scoped>\n",
       "    .dataframe tbody tr th:only-of-type {\n",
       "        vertical-align: middle;\n",
       "    }\n",
       "\n",
       "    .dataframe tbody tr th {\n",
       "        vertical-align: top;\n",
       "    }\n",
       "\n",
       "    .dataframe thead th {\n",
       "        text-align: right;\n",
       "    }\n",
       "</style>\n",
       "<table border=\"1\" class=\"dataframe\">\n",
       "  <thead>\n",
       "    <tr style=\"text-align: right;\">\n",
       "      <th></th>\n",
       "      <th>Frequency</th>\n",
       "      <th>Frames</th>\n",
       "    </tr>\n",
       "  </thead>\n",
       "  <tbody>\n",
       "    <tr>\n",
       "      <th>count</th>\n",
       "      <td>839.000000</td>\n",
       "      <td>839.000000</td>\n",
       "    </tr>\n",
       "    <tr>\n",
       "      <th>mean</th>\n",
       "      <td>16.940405</td>\n",
       "      <td>74.880810</td>\n",
       "    </tr>\n",
       "    <tr>\n",
       "      <th>std</th>\n",
       "      <td>1.653455</td>\n",
       "      <td>20.661209</td>\n",
       "    </tr>\n",
       "    <tr>\n",
       "      <th>min</th>\n",
       "      <td>13.000000</td>\n",
       "      <td>25.000000</td>\n",
       "    </tr>\n",
       "    <tr>\n",
       "      <th>25%</th>\n",
       "      <td>16.000000</td>\n",
       "      <td>59.000000</td>\n",
       "    </tr>\n",
       "    <tr>\n",
       "      <th>50%</th>\n",
       "      <td>17.000000</td>\n",
       "      <td>73.000000</td>\n",
       "    </tr>\n",
       "    <tr>\n",
       "      <th>75%</th>\n",
       "      <td>18.000000</td>\n",
       "      <td>88.000000</td>\n",
       "    </tr>\n",
       "    <tr>\n",
       "      <th>max</th>\n",
       "      <td>21.000000</td>\n",
       "      <td>130.000000</td>\n",
       "    </tr>\n",
       "  </tbody>\n",
       "</table>\n",
       "</div>"
      ],
      "text/plain": [
       "        Frequency      Frames\n",
       "count  839.000000  839.000000\n",
       "mean    16.940405   74.880810\n",
       "std      1.653455   20.661209\n",
       "min     13.000000   25.000000\n",
       "25%     16.000000   59.000000\n",
       "50%     17.000000   73.000000\n",
       "75%     18.000000   88.000000\n",
       "max     21.000000  130.000000"
      ]
     },
     "execution_count": 61,
     "metadata": {},
     "output_type": "execute_result"
    }
   ],
   "source": [
    "traindf['Frequency'] = traindf['Gloss'].map(traindf['Gloss'].value_counts())\n",
    "traindf = traindf.sort_values(by='Frequency',)\n",
    "\n",
    "traindf.describe()"
   ]
  },
  {
   "cell_type": "code",
   "execution_count": 62,
   "id": "412b9611",
   "metadata": {
    "ExecuteTime": {
     "end_time": "2023-08-04T22:06:31.888079Z",
     "start_time": "2023-08-04T22:06:31.884595Z"
    }
   },
   "outputs": [
    {
     "name": "stdout",
     "output_type": "stream",
     "text": [
      "50\n"
     ]
    }
   ],
   "source": [
    "print(traindf['Gloss'].nunique())"
   ]
  },
  {
   "cell_type": "code",
   "execution_count": 72,
   "id": "4aefe938",
   "metadata": {
    "ExecuteTime": {
     "end_time": "2023-08-04T23:17:20.410650Z",
     "start_time": "2023-08-04T23:17:19.214447Z"
    },
    "scrolled": true
   },
   "outputs": [
    {
     "name": "stderr",
     "output_type": "stream",
     "text": [
      "100%|██████████████████████████████████| 191/191 [00:01<00:00, 160.34it/s]\n"
     ]
    }
   ],
   "source": [
    "tqdm.pandas()\n",
    "valdf['Frames'] = valdf['Path'].progress_apply(frames_from_file)"
   ]
  },
  {
   "cell_type": "code",
   "execution_count": 73,
   "id": "216b9d76",
   "metadata": {
    "ExecuteTime": {
     "end_time": "2023-08-04T23:17:21.932079Z",
     "start_time": "2023-08-04T23:17:21.927539Z"
    }
   },
   "outputs": [
    {
     "data": {
      "text/plain": [
       "207"
      ]
     },
     "execution_count": 73,
     "metadata": {},
     "output_type": "execute_result"
    }
   ],
   "source": [
    "valdf['Frames'].max()"
   ]
  },
  {
   "cell_type": "code",
   "execution_count": 74,
   "id": "1fc190e2",
   "metadata": {
    "ExecuteTime": {
     "end_time": "2023-08-04T23:17:23.942394Z",
     "start_time": "2023-08-04T23:17:23.934900Z"
    },
    "scrolled": true
   },
   "outputs": [
    {
     "data": {
      "text/html": [
       "<div>\n",
       "<style scoped>\n",
       "    .dataframe tbody tr th:only-of-type {\n",
       "        vertical-align: middle;\n",
       "    }\n",
       "\n",
       "    .dataframe tbody tr th {\n",
       "        vertical-align: top;\n",
       "    }\n",
       "\n",
       "    .dataframe thead th {\n",
       "        text-align: right;\n",
       "    }\n",
       "</style>\n",
       "<table border=\"1\" class=\"dataframe\">\n",
       "  <thead>\n",
       "    <tr style=\"text-align: right;\">\n",
       "      <th></th>\n",
       "      <th>Participant ID</th>\n",
       "      <th>Video file</th>\n",
       "      <th>Gloss</th>\n",
       "      <th>ASL-LEX Code</th>\n",
       "      <th>Path</th>\n",
       "      <th>Frequency</th>\n",
       "      <th>Frames</th>\n",
       "    </tr>\n",
       "  </thead>\n",
       "  <tbody>\n",
       "    <tr>\n",
       "      <th>0</th>\n",
       "      <td>P39</td>\n",
       "      <td>19778675091674147-AXE.mp4</td>\n",
       "      <td>AXE</td>\n",
       "      <td>G_03_066</td>\n",
       "      <td>file:///media/kristian/HDD/ASL_Citizen/ASL_Cit...</td>\n",
       "      <td>4</td>\n",
       "      <td>121</td>\n",
       "    </tr>\n",
       "    <tr>\n",
       "      <th>1</th>\n",
       "      <td>P26</td>\n",
       "      <td>8581142177964065-AXE.mp4</td>\n",
       "      <td>AXE</td>\n",
       "      <td>G_03_066</td>\n",
       "      <td>file:///media/kristian/HDD/ASL_Citizen/ASL_Cit...</td>\n",
       "      <td>4</td>\n",
       "      <td>81</td>\n",
       "    </tr>\n",
       "    <tr>\n",
       "      <th>2</th>\n",
       "      <td>P39</td>\n",
       "      <td>3877478645046861-AXE.mp4</td>\n",
       "      <td>AXE</td>\n",
       "      <td>G_03_066</td>\n",
       "      <td>file:///media/kristian/HDD/ASL_Citizen/ASL_Cit...</td>\n",
       "      <td>4</td>\n",
       "      <td>120</td>\n",
       "    </tr>\n",
       "    <tr>\n",
       "      <th>3</th>\n",
       "      <td>P21</td>\n",
       "      <td>8521417940364975-AXE.mp4</td>\n",
       "      <td>AXE</td>\n",
       "      <td>G_03_066</td>\n",
       "      <td>file:///media/kristian/HDD/ASL_Citizen/ASL_Cit...</td>\n",
       "      <td>4</td>\n",
       "      <td>71</td>\n",
       "    </tr>\n",
       "    <tr>\n",
       "      <th>4</th>\n",
       "      <td>P5</td>\n",
       "      <td>9990244640190733-BACKPACK.mp4</td>\n",
       "      <td>BACKPACK</td>\n",
       "      <td>G_03_091</td>\n",
       "      <td>file:///media/kristian/HDD/ASL_Citizen/ASL_Cit...</td>\n",
       "      <td>3</td>\n",
       "      <td>93</td>\n",
       "    </tr>\n",
       "  </tbody>\n",
       "</table>\n",
       "</div>"
      ],
      "text/plain": [
       "  Participant ID                     Video file     Gloss ASL-LEX Code  \\\n",
       "0            P39      19778675091674147-AXE.mp4       AXE     G_03_066   \n",
       "1            P26       8581142177964065-AXE.mp4       AXE     G_03_066   \n",
       "2            P39       3877478645046861-AXE.mp4       AXE     G_03_066   \n",
       "3            P21       8521417940364975-AXE.mp4       AXE     G_03_066   \n",
       "4             P5  9990244640190733-BACKPACK.mp4  BACKPACK     G_03_091   \n",
       "\n",
       "                                                Path  Frequency  Frames  \n",
       "0  file:///media/kristian/HDD/ASL_Citizen/ASL_Cit...          4     121  \n",
       "1  file:///media/kristian/HDD/ASL_Citizen/ASL_Cit...          4      81  \n",
       "2  file:///media/kristian/HDD/ASL_Citizen/ASL_Cit...          4     120  \n",
       "3  file:///media/kristian/HDD/ASL_Citizen/ASL_Cit...          4      71  \n",
       "4  file:///media/kristian/HDD/ASL_Citizen/ASL_Cit...          3      93  "
      ]
     },
     "execution_count": 74,
     "metadata": {},
     "output_type": "execute_result"
    }
   ],
   "source": [
    "valdf.head()"
   ]
  },
  {
   "cell_type": "code",
   "execution_count": 75,
   "id": "caeee133",
   "metadata": {
    "ExecuteTime": {
     "end_time": "2023-08-04T23:17:26.054229Z",
     "start_time": "2023-08-04T23:17:26.031425Z"
    }
   },
   "outputs": [
    {
     "data": {
      "text/html": [
       "<div>\n",
       "<style scoped>\n",
       "    .dataframe tbody tr th:only-of-type {\n",
       "        vertical-align: middle;\n",
       "    }\n",
       "\n",
       "    .dataframe tbody tr th {\n",
       "        vertical-align: top;\n",
       "    }\n",
       "\n",
       "    .dataframe thead th {\n",
       "        text-align: right;\n",
       "    }\n",
       "</style>\n",
       "<table border=\"1\" class=\"dataframe\">\n",
       "  <thead>\n",
       "    <tr style=\"text-align: right;\">\n",
       "      <th></th>\n",
       "      <th>Frequency</th>\n",
       "      <th>Frames</th>\n",
       "    </tr>\n",
       "  </thead>\n",
       "  <tbody>\n",
       "    <tr>\n",
       "      <th>count</th>\n",
       "      <td>191.000000</td>\n",
       "      <td>191.000000</td>\n",
       "    </tr>\n",
       "    <tr>\n",
       "      <th>mean</th>\n",
       "      <td>3.963351</td>\n",
       "      <td>88.905759</td>\n",
       "    </tr>\n",
       "    <tr>\n",
       "      <th>std</th>\n",
       "      <td>0.770316</td>\n",
       "      <td>36.214006</td>\n",
       "    </tr>\n",
       "    <tr>\n",
       "      <th>min</th>\n",
       "      <td>3.000000</td>\n",
       "      <td>37.000000</td>\n",
       "    </tr>\n",
       "    <tr>\n",
       "      <th>25%</th>\n",
       "      <td>3.000000</td>\n",
       "      <td>61.500000</td>\n",
       "    </tr>\n",
       "    <tr>\n",
       "      <th>50%</th>\n",
       "      <td>4.000000</td>\n",
       "      <td>76.000000</td>\n",
       "    </tr>\n",
       "    <tr>\n",
       "      <th>75%</th>\n",
       "      <td>4.000000</td>\n",
       "      <td>117.500000</td>\n",
       "    </tr>\n",
       "    <tr>\n",
       "      <th>max</th>\n",
       "      <td>6.000000</td>\n",
       "      <td>207.000000</td>\n",
       "    </tr>\n",
       "  </tbody>\n",
       "</table>\n",
       "</div>"
      ],
      "text/plain": [
       "        Frequency      Frames\n",
       "count  191.000000  191.000000\n",
       "mean     3.963351   88.905759\n",
       "std      0.770316   36.214006\n",
       "min      3.000000   37.000000\n",
       "25%      3.000000   61.500000\n",
       "50%      4.000000   76.000000\n",
       "75%      4.000000  117.500000\n",
       "max      6.000000  207.000000"
      ]
     },
     "execution_count": 75,
     "metadata": {},
     "output_type": "execute_result"
    }
   ],
   "source": [
    "valdf.describe()"
   ]
  },
  {
   "cell_type": "code",
   "execution_count": 76,
   "id": "d835838e",
   "metadata": {
    "ExecuteTime": {
     "end_time": "2023-08-04T23:17:28.275915Z",
     "start_time": "2023-08-04T23:17:28.266010Z"
    }
   },
   "outputs": [
    {
     "data": {
      "text/html": [
       "<div>\n",
       "<style scoped>\n",
       "    .dataframe tbody tr th:only-of-type {\n",
       "        vertical-align: middle;\n",
       "    }\n",
       "\n",
       "    .dataframe tbody tr th {\n",
       "        vertical-align: top;\n",
       "    }\n",
       "\n",
       "    .dataframe thead th {\n",
       "        text-align: right;\n",
       "    }\n",
       "</style>\n",
       "<table border=\"1\" class=\"dataframe\">\n",
       "  <thead>\n",
       "    <tr style=\"text-align: right;\">\n",
       "      <th></th>\n",
       "      <th>Frequency</th>\n",
       "      <th>Frames</th>\n",
       "    </tr>\n",
       "  </thead>\n",
       "  <tbody>\n",
       "    <tr>\n",
       "      <th>count</th>\n",
       "      <td>164.000000</td>\n",
       "      <td>164.000000</td>\n",
       "    </tr>\n",
       "    <tr>\n",
       "      <th>mean</th>\n",
       "      <td>3.993902</td>\n",
       "      <td>77.719512</td>\n",
       "    </tr>\n",
       "    <tr>\n",
       "      <th>std</th>\n",
       "      <td>0.755324</td>\n",
       "      <td>24.042281</td>\n",
       "    </tr>\n",
       "    <tr>\n",
       "      <th>min</th>\n",
       "      <td>3.000000</td>\n",
       "      <td>37.000000</td>\n",
       "    </tr>\n",
       "    <tr>\n",
       "      <th>25%</th>\n",
       "      <td>3.000000</td>\n",
       "      <td>58.750000</td>\n",
       "    </tr>\n",
       "    <tr>\n",
       "      <th>50%</th>\n",
       "      <td>4.000000</td>\n",
       "      <td>71.000000</td>\n",
       "    </tr>\n",
       "    <tr>\n",
       "      <th>75%</th>\n",
       "      <td>4.000000</td>\n",
       "      <td>92.000000</td>\n",
       "    </tr>\n",
       "    <tr>\n",
       "      <th>max</th>\n",
       "      <td>6.000000</td>\n",
       "      <td>130.000000</td>\n",
       "    </tr>\n",
       "  </tbody>\n",
       "</table>\n",
       "</div>"
      ],
      "text/plain": [
       "        Frequency      Frames\n",
       "count  164.000000  164.000000\n",
       "mean     3.993902   77.719512\n",
       "std      0.755324   24.042281\n",
       "min      3.000000   37.000000\n",
       "25%      3.000000   58.750000\n",
       "50%      4.000000   71.000000\n",
       "75%      4.000000   92.000000\n",
       "max      6.000000  130.000000"
      ]
     },
     "execution_count": 76,
     "metadata": {},
     "output_type": "execute_result"
    }
   ],
   "source": [
    "valdf = valdf[valdf['Frames'] < 131]\n",
    "#filtered_df = traindf[(traindf['Frames'] > 0) & (traindf['Frames'] < 121)]\n",
    "#filtered_df = traindf[traindf['Frames'] > 0]\n",
    "valdf.describe()"
   ]
  },
  {
   "cell_type": "code",
   "execution_count": 77,
   "id": "f917ef72",
   "metadata": {
    "ExecuteTime": {
     "end_time": "2023-08-04T23:17:33.914447Z",
     "start_time": "2023-08-04T23:17:33.900414Z"
    }
   },
   "outputs": [
    {
     "data": {
      "text/html": [
       "<div>\n",
       "<style scoped>\n",
       "    .dataframe tbody tr th:only-of-type {\n",
       "        vertical-align: middle;\n",
       "    }\n",
       "\n",
       "    .dataframe tbody tr th {\n",
       "        vertical-align: top;\n",
       "    }\n",
       "\n",
       "    .dataframe thead th {\n",
       "        text-align: right;\n",
       "    }\n",
       "</style>\n",
       "<table border=\"1\" class=\"dataframe\">\n",
       "  <thead>\n",
       "    <tr style=\"text-align: right;\">\n",
       "      <th></th>\n",
       "      <th>Frequency</th>\n",
       "      <th>Frames</th>\n",
       "    </tr>\n",
       "  </thead>\n",
       "  <tbody>\n",
       "    <tr>\n",
       "      <th>count</th>\n",
       "      <td>164.000000</td>\n",
       "      <td>164.000000</td>\n",
       "    </tr>\n",
       "    <tr>\n",
       "      <th>mean</th>\n",
       "      <td>3.536585</td>\n",
       "      <td>77.719512</td>\n",
       "    </tr>\n",
       "    <tr>\n",
       "      <th>std</th>\n",
       "      <td>0.888856</td>\n",
       "      <td>24.042281</td>\n",
       "    </tr>\n",
       "    <tr>\n",
       "      <th>min</th>\n",
       "      <td>2.000000</td>\n",
       "      <td>37.000000</td>\n",
       "    </tr>\n",
       "    <tr>\n",
       "      <th>25%</th>\n",
       "      <td>3.000000</td>\n",
       "      <td>58.750000</td>\n",
       "    </tr>\n",
       "    <tr>\n",
       "      <th>50%</th>\n",
       "      <td>4.000000</td>\n",
       "      <td>71.000000</td>\n",
       "    </tr>\n",
       "    <tr>\n",
       "      <th>75%</th>\n",
       "      <td>4.000000</td>\n",
       "      <td>92.000000</td>\n",
       "    </tr>\n",
       "    <tr>\n",
       "      <th>max</th>\n",
       "      <td>5.000000</td>\n",
       "      <td>130.000000</td>\n",
       "    </tr>\n",
       "  </tbody>\n",
       "</table>\n",
       "</div>"
      ],
      "text/plain": [
       "        Frequency      Frames\n",
       "count  164.000000  164.000000\n",
       "mean     3.536585   77.719512\n",
       "std      0.888856   24.042281\n",
       "min      2.000000   37.000000\n",
       "25%      3.000000   58.750000\n",
       "50%      4.000000   71.000000\n",
       "75%      4.000000   92.000000\n",
       "max      5.000000  130.000000"
      ]
     },
     "execution_count": 77,
     "metadata": {},
     "output_type": "execute_result"
    }
   ],
   "source": [
    "valdf['Frequency'] = valdf['Gloss'].map(valdf['Gloss'].value_counts())\n",
    "valdf = valdf.sort_values(by='Frequency',)\n",
    "\n",
    "valdf.describe()"
   ]
  },
  {
   "cell_type": "code",
   "execution_count": 78,
   "id": "a6821b84",
   "metadata": {
    "ExecuteTime": {
     "end_time": "2023-08-04T23:17:37.168899Z",
     "start_time": "2023-08-04T23:17:37.166224Z"
    },
    "scrolled": true
   },
   "outputs": [
    {
     "name": "stdout",
     "output_type": "stream",
     "text": [
      "50\n"
     ]
    }
   ],
   "source": [
    "print(valdf['Gloss'].nunique())"
   ]
  },
  {
   "cell_type": "code",
   "execution_count": 79,
   "id": "83d64ef5",
   "metadata": {
    "ExecuteTime": {
     "end_time": "2023-08-04T23:17:44.858874Z",
     "start_time": "2023-08-04T23:17:39.826450Z"
    },
    "scrolled": true
   },
   "outputs": [
    {
     "name": "stderr",
     "output_type": "stream",
     "text": [
      "100%|██████████████████████████████████| 729/729 [00:05<00:00, 145.02it/s]\n"
     ]
    }
   ],
   "source": [
    "tqdm.pandas()\n",
    "testdf['Frames'] = testdf['Path'].progress_apply(frames_from_file)"
   ]
  },
  {
   "cell_type": "code",
   "execution_count": 80,
   "id": "6d46c46f",
   "metadata": {
    "ExecuteTime": {
     "end_time": "2023-08-04T23:17:46.342744Z",
     "start_time": "2023-08-04T23:17:46.339409Z"
    }
   },
   "outputs": [
    {
     "data": {
      "text/plain": [
       "234"
      ]
     },
     "execution_count": 80,
     "metadata": {},
     "output_type": "execute_result"
    }
   ],
   "source": [
    "testdf['Frames'].max()"
   ]
  },
  {
   "cell_type": "code",
   "execution_count": 81,
   "id": "e580247c",
   "metadata": {
    "ExecuteTime": {
     "end_time": "2023-08-04T23:17:48.166037Z",
     "start_time": "2023-08-04T23:17:48.158562Z"
    },
    "scrolled": true
   },
   "outputs": [
    {
     "data": {
      "text/html": [
       "<div>\n",
       "<style scoped>\n",
       "    .dataframe tbody tr th:only-of-type {\n",
       "        vertical-align: middle;\n",
       "    }\n",
       "\n",
       "    .dataframe tbody tr th {\n",
       "        vertical-align: top;\n",
       "    }\n",
       "\n",
       "    .dataframe thead th {\n",
       "        text-align: right;\n",
       "    }\n",
       "</style>\n",
       "<table border=\"1\" class=\"dataframe\">\n",
       "  <thead>\n",
       "    <tr style=\"text-align: right;\">\n",
       "      <th></th>\n",
       "      <th>Participant ID</th>\n",
       "      <th>Video file</th>\n",
       "      <th>Gloss</th>\n",
       "      <th>ASL-LEX Code</th>\n",
       "      <th>Path</th>\n",
       "      <th>Frequency</th>\n",
       "      <th>Frames</th>\n",
       "    </tr>\n",
       "  </thead>\n",
       "  <tbody>\n",
       "    <tr>\n",
       "      <th>0</th>\n",
       "      <td>P15</td>\n",
       "      <td>33721516025652254-AXE.mp4</td>\n",
       "      <td>AXE</td>\n",
       "      <td>G_03_066</td>\n",
       "      <td>file:///media/kristian/HDD/ASL_Citizen/ASL_Cit...</td>\n",
       "      <td>15</td>\n",
       "      <td>196</td>\n",
       "    </tr>\n",
       "    <tr>\n",
       "      <th>1</th>\n",
       "      <td>P47</td>\n",
       "      <td>519067006979435-AXE.mp4</td>\n",
       "      <td>AXE</td>\n",
       "      <td>G_03_066</td>\n",
       "      <td>file:///media/kristian/HDD/ASL_Citizen/ASL_Cit...</td>\n",
       "      <td>15</td>\n",
       "      <td>102</td>\n",
       "    </tr>\n",
       "    <tr>\n",
       "      <th>2</th>\n",
       "      <td>P35</td>\n",
       "      <td>5104381603195376-AXE.mp4</td>\n",
       "      <td>AXE</td>\n",
       "      <td>G_03_066</td>\n",
       "      <td>file:///media/kristian/HDD/ASL_Citizen/ASL_Cit...</td>\n",
       "      <td>15</td>\n",
       "      <td>70</td>\n",
       "    </tr>\n",
       "    <tr>\n",
       "      <th>3</th>\n",
       "      <td>P42</td>\n",
       "      <td>44458614013793873-AXE.mp4</td>\n",
       "      <td>AXE</td>\n",
       "      <td>G_03_066</td>\n",
       "      <td>file:///media/kristian/HDD/ASL_Citizen/ASL_Cit...</td>\n",
       "      <td>15</td>\n",
       "      <td>57</td>\n",
       "    </tr>\n",
       "    <tr>\n",
       "      <th>4</th>\n",
       "      <td>P42</td>\n",
       "      <td>9604797909481075-AXE.mp4</td>\n",
       "      <td>AXE</td>\n",
       "      <td>G_03_066</td>\n",
       "      <td>file:///media/kristian/HDD/ASL_Citizen/ASL_Cit...</td>\n",
       "      <td>15</td>\n",
       "      <td>66</td>\n",
       "    </tr>\n",
       "  </tbody>\n",
       "</table>\n",
       "</div>"
      ],
      "text/plain": [
       "  Participant ID                 Video file Gloss ASL-LEX Code  \\\n",
       "0            P15  33721516025652254-AXE.mp4   AXE     G_03_066   \n",
       "1            P47    519067006979435-AXE.mp4   AXE     G_03_066   \n",
       "2            P35   5104381603195376-AXE.mp4   AXE     G_03_066   \n",
       "3            P42  44458614013793873-AXE.mp4   AXE     G_03_066   \n",
       "4            P42   9604797909481075-AXE.mp4   AXE     G_03_066   \n",
       "\n",
       "                                                Path  Frequency  Frames  \n",
       "0  file:///media/kristian/HDD/ASL_Citizen/ASL_Cit...         15     196  \n",
       "1  file:///media/kristian/HDD/ASL_Citizen/ASL_Cit...         15     102  \n",
       "2  file:///media/kristian/HDD/ASL_Citizen/ASL_Cit...         15      70  \n",
       "3  file:///media/kristian/HDD/ASL_Citizen/ASL_Cit...         15      57  \n",
       "4  file:///media/kristian/HDD/ASL_Citizen/ASL_Cit...         15      66  "
      ]
     },
     "execution_count": 81,
     "metadata": {},
     "output_type": "execute_result"
    }
   ],
   "source": [
    "testdf.head()"
   ]
  },
  {
   "cell_type": "code",
   "execution_count": 82,
   "id": "00eee3c1",
   "metadata": {
    "ExecuteTime": {
     "end_time": "2023-08-04T23:17:49.777437Z",
     "start_time": "2023-08-04T23:17:49.767017Z"
    }
   },
   "outputs": [
    {
     "data": {
      "text/html": [
       "<div>\n",
       "<style scoped>\n",
       "    .dataframe tbody tr th:only-of-type {\n",
       "        vertical-align: middle;\n",
       "    }\n",
       "\n",
       "    .dataframe tbody tr th {\n",
       "        vertical-align: top;\n",
       "    }\n",
       "\n",
       "    .dataframe thead th {\n",
       "        text-align: right;\n",
       "    }\n",
       "</style>\n",
       "<table border=\"1\" class=\"dataframe\">\n",
       "  <thead>\n",
       "    <tr style=\"text-align: right;\">\n",
       "      <th></th>\n",
       "      <th>Frequency</th>\n",
       "      <th>Frames</th>\n",
       "    </tr>\n",
       "  </thead>\n",
       "  <tbody>\n",
       "    <tr>\n",
       "      <th>count</th>\n",
       "      <td>729.000000</td>\n",
       "      <td>729.000000</td>\n",
       "    </tr>\n",
       "    <tr>\n",
       "      <th>mean</th>\n",
       "      <td>14.978052</td>\n",
       "      <td>75.192044</td>\n",
       "    </tr>\n",
       "    <tr>\n",
       "      <th>std</th>\n",
       "      <td>2.229192</td>\n",
       "      <td>27.848864</td>\n",
       "    </tr>\n",
       "    <tr>\n",
       "      <th>min</th>\n",
       "      <td>9.000000</td>\n",
       "      <td>10.000000</td>\n",
       "    </tr>\n",
       "    <tr>\n",
       "      <th>25%</th>\n",
       "      <td>14.000000</td>\n",
       "      <td>56.000000</td>\n",
       "    </tr>\n",
       "    <tr>\n",
       "      <th>50%</th>\n",
       "      <td>15.000000</td>\n",
       "      <td>73.000000</td>\n",
       "    </tr>\n",
       "    <tr>\n",
       "      <th>75%</th>\n",
       "      <td>16.000000</td>\n",
       "      <td>90.000000</td>\n",
       "    </tr>\n",
       "    <tr>\n",
       "      <th>max</th>\n",
       "      <td>20.000000</td>\n",
       "      <td>234.000000</td>\n",
       "    </tr>\n",
       "  </tbody>\n",
       "</table>\n",
       "</div>"
      ],
      "text/plain": [
       "        Frequency      Frames\n",
       "count  729.000000  729.000000\n",
       "mean    14.978052   75.192044\n",
       "std      2.229192   27.848864\n",
       "min      9.000000   10.000000\n",
       "25%     14.000000   56.000000\n",
       "50%     15.000000   73.000000\n",
       "75%     16.000000   90.000000\n",
       "max     20.000000  234.000000"
      ]
     },
     "execution_count": 82,
     "metadata": {},
     "output_type": "execute_result"
    }
   ],
   "source": [
    "testdf.describe()"
   ]
  },
  {
   "cell_type": "code",
   "execution_count": 83,
   "id": "c21b65eb",
   "metadata": {
    "ExecuteTime": {
     "end_time": "2023-08-04T23:17:51.559281Z",
     "start_time": "2023-08-04T23:17:51.546070Z"
    }
   },
   "outputs": [
    {
     "data": {
      "text/html": [
       "<div>\n",
       "<style scoped>\n",
       "    .dataframe tbody tr th:only-of-type {\n",
       "        vertical-align: middle;\n",
       "    }\n",
       "\n",
       "    .dataframe tbody tr th {\n",
       "        vertical-align: top;\n",
       "    }\n",
       "\n",
       "    .dataframe thead th {\n",
       "        text-align: right;\n",
       "    }\n",
       "</style>\n",
       "<table border=\"1\" class=\"dataframe\">\n",
       "  <thead>\n",
       "    <tr style=\"text-align: right;\">\n",
       "      <th></th>\n",
       "      <th>Frequency</th>\n",
       "      <th>Frames</th>\n",
       "    </tr>\n",
       "  </thead>\n",
       "  <tbody>\n",
       "    <tr>\n",
       "      <th>count</th>\n",
       "      <td>705.000000</td>\n",
       "      <td>705.000000</td>\n",
       "    </tr>\n",
       "    <tr>\n",
       "      <th>mean</th>\n",
       "      <td>15.001418</td>\n",
       "      <td>72.147518</td>\n",
       "    </tr>\n",
       "    <tr>\n",
       "      <th>std</th>\n",
       "      <td>2.215967</td>\n",
       "      <td>22.115421</td>\n",
       "    </tr>\n",
       "    <tr>\n",
       "      <th>min</th>\n",
       "      <td>9.000000</td>\n",
       "      <td>10.000000</td>\n",
       "    </tr>\n",
       "    <tr>\n",
       "      <th>25%</th>\n",
       "      <td>14.000000</td>\n",
       "      <td>55.000000</td>\n",
       "    </tr>\n",
       "    <tr>\n",
       "      <th>50%</th>\n",
       "      <td>15.000000</td>\n",
       "      <td>72.000000</td>\n",
       "    </tr>\n",
       "    <tr>\n",
       "      <th>75%</th>\n",
       "      <td>16.000000</td>\n",
       "      <td>88.000000</td>\n",
       "    </tr>\n",
       "    <tr>\n",
       "      <th>max</th>\n",
       "      <td>20.000000</td>\n",
       "      <td>130.000000</td>\n",
       "    </tr>\n",
       "  </tbody>\n",
       "</table>\n",
       "</div>"
      ],
      "text/plain": [
       "        Frequency      Frames\n",
       "count  705.000000  705.000000\n",
       "mean    15.001418   72.147518\n",
       "std      2.215967   22.115421\n",
       "min      9.000000   10.000000\n",
       "25%     14.000000   55.000000\n",
       "50%     15.000000   72.000000\n",
       "75%     16.000000   88.000000\n",
       "max     20.000000  130.000000"
      ]
     },
     "execution_count": 83,
     "metadata": {},
     "output_type": "execute_result"
    }
   ],
   "source": [
    "testdf = testdf[testdf['Frames'] < 131]\n",
    "#filtered_df = traindf[(traindf['Frames'] > 0) & (traindf['Frames'] < 121)]\n",
    "#filtered_df = traindf[traindf['Frames'] > 0]\n",
    "testdf.describe()"
   ]
  },
  {
   "cell_type": "code",
   "execution_count": 84,
   "id": "af8b3e3d",
   "metadata": {
    "ExecuteTime": {
     "end_time": "2023-08-04T23:17:53.317080Z",
     "start_time": "2023-08-04T23:17:53.303449Z"
    }
   },
   "outputs": [
    {
     "data": {
      "text/html": [
       "<div>\n",
       "<style scoped>\n",
       "    .dataframe tbody tr th:only-of-type {\n",
       "        vertical-align: middle;\n",
       "    }\n",
       "\n",
       "    .dataframe tbody tr th {\n",
       "        vertical-align: top;\n",
       "    }\n",
       "\n",
       "    .dataframe thead th {\n",
       "        text-align: right;\n",
       "    }\n",
       "</style>\n",
       "<table border=\"1\" class=\"dataframe\">\n",
       "  <thead>\n",
       "    <tr style=\"text-align: right;\">\n",
       "      <th></th>\n",
       "      <th>Frequency</th>\n",
       "      <th>Frames</th>\n",
       "    </tr>\n",
       "  </thead>\n",
       "  <tbody>\n",
       "    <tr>\n",
       "      <th>count</th>\n",
       "      <td>705.000000</td>\n",
       "      <td>705.000000</td>\n",
       "    </tr>\n",
       "    <tr>\n",
       "      <th>mean</th>\n",
       "      <td>14.557447</td>\n",
       "      <td>72.147518</td>\n",
       "    </tr>\n",
       "    <tr>\n",
       "      <th>std</th>\n",
       "      <td>2.324500</td>\n",
       "      <td>22.115421</td>\n",
       "    </tr>\n",
       "    <tr>\n",
       "      <th>min</th>\n",
       "      <td>8.000000</td>\n",
       "      <td>10.000000</td>\n",
       "    </tr>\n",
       "    <tr>\n",
       "      <th>25%</th>\n",
       "      <td>14.000000</td>\n",
       "      <td>55.000000</td>\n",
       "    </tr>\n",
       "    <tr>\n",
       "      <th>50%</th>\n",
       "      <td>15.000000</td>\n",
       "      <td>72.000000</td>\n",
       "    </tr>\n",
       "    <tr>\n",
       "      <th>75%</th>\n",
       "      <td>16.000000</td>\n",
       "      <td>88.000000</td>\n",
       "    </tr>\n",
       "    <tr>\n",
       "      <th>max</th>\n",
       "      <td>20.000000</td>\n",
       "      <td>130.000000</td>\n",
       "    </tr>\n",
       "  </tbody>\n",
       "</table>\n",
       "</div>"
      ],
      "text/plain": [
       "        Frequency      Frames\n",
       "count  705.000000  705.000000\n",
       "mean    14.557447   72.147518\n",
       "std      2.324500   22.115421\n",
       "min      8.000000   10.000000\n",
       "25%     14.000000   55.000000\n",
       "50%     15.000000   72.000000\n",
       "75%     16.000000   88.000000\n",
       "max     20.000000  130.000000"
      ]
     },
     "execution_count": 84,
     "metadata": {},
     "output_type": "execute_result"
    }
   ],
   "source": [
    "testdf['Frequency'] = testdf['Gloss'].map(testdf['Gloss'].value_counts())\n",
    "testdf = testdf.sort_values(by='Frequency',)\n",
    "\n",
    "testdf.describe()"
   ]
  },
  {
   "cell_type": "code",
   "execution_count": 85,
   "id": "8d686f4c",
   "metadata": {
    "ExecuteTime": {
     "end_time": "2023-08-04T23:17:54.962530Z",
     "start_time": "2023-08-04T23:17:54.959347Z"
    }
   },
   "outputs": [
    {
     "name": "stdout",
     "output_type": "stream",
     "text": [
      "50\n"
     ]
    }
   ],
   "source": [
    "print(testdf['Gloss'].nunique())"
   ]
  },
  {
   "cell_type": "code",
   "execution_count": 63,
   "id": "55f0bfc1",
   "metadata": {
    "ExecuteTime": {
     "end_time": "2023-08-04T23:16:00.297126Z",
     "start_time": "2023-08-04T22:07:52.165594Z"
    }
   },
   "outputs": [
    {
     "name": "stderr",
     "output_type": "stream",
     "text": [
      "100%|█████████████████████████████████| 839/839 [1:08:08<00:00,  4.87s/it]\n"
     ]
    }
   ],
   "source": [
    "keypoints_series = traindf['Path'].progress_apply(extract_keypoints_from_file)"
   ]
  },
  {
   "cell_type": "code",
   "execution_count": 64,
   "id": "e614bc50",
   "metadata": {
    "ExecuteTime": {
     "end_time": "2023-08-04T23:16:13.012772Z",
     "start_time": "2023-08-04T23:16:13.007904Z"
    }
   },
   "outputs": [
    {
     "data": {
      "text/plain": [
       "(839,)"
      ]
     },
     "execution_count": 64,
     "metadata": {},
     "output_type": "execute_result"
    }
   ],
   "source": [
    "keypoints_series.shape"
   ]
  },
  {
   "cell_type": "code",
   "execution_count": 65,
   "id": "e1248da2",
   "metadata": {
    "ExecuteTime": {
     "end_time": "2023-08-04T23:16:18.796082Z",
     "start_time": "2023-08-04T23:16:18.792456Z"
    }
   },
   "outputs": [
    {
     "data": {
      "text/plain": [
       "130"
      ]
     },
     "execution_count": 65,
     "metadata": {},
     "output_type": "execute_result"
    }
   ],
   "source": [
    "max(keypoints.shape[0] for keypoints in keypoints_series)"
   ]
  },
  {
   "cell_type": "code",
   "execution_count": 66,
   "id": "e0706526",
   "metadata": {
    "ExecuteTime": {
     "end_time": "2023-08-04T23:16:20.771164Z",
     "start_time": "2023-08-04T23:16:20.767770Z"
    }
   },
   "outputs": [
    {
     "data": {
      "text/plain": [
       "25"
      ]
     },
     "execution_count": 66,
     "metadata": {},
     "output_type": "execute_result"
    }
   ],
   "source": [
    "min(keypoints.shape[0] for keypoints in keypoints_series)\n"
   ]
  },
  {
   "cell_type": "code",
   "execution_count": 68,
   "id": "5777338f",
   "metadata": {
    "ExecuteTime": {
     "end_time": "2023-08-04T23:16:39.138541Z",
     "start_time": "2023-08-04T23:16:39.135913Z"
    }
   },
   "outputs": [],
   "source": [
    "max_len = traindf['Frames'].max()"
   ]
  },
  {
   "cell_type": "code",
   "execution_count": 69,
   "id": "bd079722",
   "metadata": {
    "ExecuteTime": {
     "end_time": "2023-08-04T23:16:43.010739Z",
     "start_time": "2023-08-04T23:16:42.648572Z"
    }
   },
   "outputs": [],
   "source": [
    "keypoints_np = np.zeros((len(keypoints_series), max_len, 1662))\n",
    "for i, keypoints in enumerate(keypoints_series):\n",
    "    keypoints_np[i, :keypoints.shape[0], :] = keypoints"
   ]
  },
  {
   "cell_type": "code",
   "execution_count": 70,
   "id": "26eb2969",
   "metadata": {
    "ExecuteTime": {
     "end_time": "2023-08-04T23:16:45.134055Z",
     "start_time": "2023-08-04T23:16:45.130554Z"
    }
   },
   "outputs": [
    {
     "data": {
      "text/plain": [
       "(839, 130, 1662)"
      ]
     },
     "execution_count": 70,
     "metadata": {},
     "output_type": "execute_result"
    }
   ],
   "source": [
    "keypoints_np.shape"
   ]
  },
  {
   "cell_type": "code",
   "execution_count": 71,
   "id": "e13534ab",
   "metadata": {
    "ExecuteTime": {
     "end_time": "2023-08-04T23:16:54.168665Z",
     "start_time": "2023-08-04T23:16:52.500247Z"
    }
   },
   "outputs": [],
   "source": [
    "np.save(\"/home/kristian/Capstone/keypoints/ASL_Citizen/Mediapipe/train_keypoints.npy\", keypoints_np)"
   ]
  },
  {
   "cell_type": "code",
   "execution_count": null,
   "id": "568a99de",
   "metadata": {
    "ExecuteTime": {
     "start_time": "2023-08-04T23:18:10.270Z"
    }
   },
   "outputs": [
    {
     "name": "stderr",
     "output_type": "stream",
     "text": [
      " 89%|███████████████████████████████▏   | 146/164 [12:51<01:39,  5.55s/it]"
     ]
    }
   ],
   "source": [
    "keypoints_series = valdf['Path'].progress_apply(extract_keypoints_from_file)"
   ]
  },
  {
   "cell_type": "code",
   "execution_count": 130,
   "id": "55cdd638",
   "metadata": {
    "ExecuteTime": {
     "end_time": "2023-07-29T18:14:17.624274Z",
     "start_time": "2023-07-29T18:14:17.617907Z"
    }
   },
   "outputs": [
    {
     "data": {
      "text/plain": [
       "(1405,)"
      ]
     },
     "execution_count": 130,
     "metadata": {},
     "output_type": "execute_result"
    }
   ],
   "source": [
    "keypoints_series.shape"
   ]
  },
  {
   "cell_type": "code",
   "execution_count": 1,
   "id": "3712004f",
   "metadata": {
    "ExecuteTime": {
     "end_time": "2023-08-03T16:24:19.668723Z",
     "start_time": "2023-08-03T16:24:19.163277Z"
    }
   },
   "outputs": [
    {
     "ename": "NameError",
     "evalue": "name 'keypoints_series' is not defined",
     "output_type": "error",
     "traceback": [
      "\u001b[0;31m---------------------------------------------------------------------------\u001b[0m",
      "\u001b[0;31mNameError\u001b[0m                                 Traceback (most recent call last)",
      "Cell \u001b[0;32mIn[1], line 1\u001b[0m\n\u001b[0;32m----> 1\u001b[0m keypoints_np \u001b[38;5;241m=\u001b[39m np\u001b[38;5;241m.\u001b[39mzeros((\u001b[38;5;28mlen\u001b[39m(\u001b[43mkeypoints_series\u001b[49m), max_len, \u001b[38;5;241m1662\u001b[39m))\n\u001b[1;32m      2\u001b[0m \u001b[38;5;28;01mfor\u001b[39;00m i, keypoints \u001b[38;5;129;01min\u001b[39;00m \u001b[38;5;28menumerate\u001b[39m(keypoints_series):\n\u001b[1;32m      3\u001b[0m     keypoints_np[i, :keypoints\u001b[38;5;241m.\u001b[39mshape[\u001b[38;5;241m0\u001b[39m], :] \u001b[38;5;241m=\u001b[39m keypoints\n",
      "\u001b[0;31mNameError\u001b[0m: name 'keypoints_series' is not defined"
     ]
    }
   ],
   "source": [
    "keypoints_np = np.zeros((len(keypoints_series), max_len, 1662))\n",
    "for i, keypoints in enumerate(keypoints_series):\n",
    "    keypoints_np[i, :keypoints.shape[0], :] = keypoints"
   ]
  },
  {
   "cell_type": "code",
   "execution_count": 1,
   "id": "f1324b15",
   "metadata": {
    "ExecuteTime": {
     "end_time": "2023-08-03T11:43:49.950393Z",
     "start_time": "2023-08-03T11:43:49.158252Z"
    }
   },
   "outputs": [
    {
     "ename": "NameError",
     "evalue": "name 'keypoints_np' is not defined",
     "output_type": "error",
     "traceback": [
      "\u001b[0;31m---------------------------------------------------------------------------\u001b[0m",
      "\u001b[0;31mNameError\u001b[0m                                 Traceback (most recent call last)",
      "Cell \u001b[0;32mIn[1], line 1\u001b[0m\n\u001b[0;32m----> 1\u001b[0m \u001b[43mkeypoints_np\u001b[49m\u001b[38;5;241m.\u001b[39mshape\n",
      "\u001b[0;31mNameError\u001b[0m: name 'keypoints_np' is not defined"
     ]
    }
   ],
   "source": [
    "keypoints_np.shape"
   ]
  },
  {
   "cell_type": "code",
   "execution_count": 137,
   "id": "0b093751",
   "metadata": {
    "ExecuteTime": {
     "end_time": "2023-07-29T18:15:09.633635Z",
     "start_time": "2023-07-29T18:14:43.324404Z"
    }
   },
   "outputs": [],
   "source": [
    "np.save(\"/home/kristian/Capstone/keypoints/ASL_Citizen/Mediapipe/val_keypoints.npy\", keypoints_np)"
   ]
  },
  {
   "cell_type": "code",
   "execution_count": null,
   "id": "52bf8c65",
   "metadata": {
    "ExecuteTime": {
     "start_time": "2023-08-04T22:07:52.163Z"
    }
   },
   "outputs": [
    {
     "name": "stderr",
     "output_type": "stream",
     "text": [
      " 42%|██████████████▊                    | 354/839 [29:36<33:21,  4.13s/it]"
     ]
    }
   ],
   "source": [
    "keypoints_series = testdf['Path'].progress_apply(extract_keypoints_from_file)"
   ]
  },
  {
   "cell_type": "code",
   "execution_count": 130,
   "id": "910357aa",
   "metadata": {
    "ExecuteTime": {
     "end_time": "2023-07-29T18:14:17.624274Z",
     "start_time": "2023-07-29T18:14:17.617907Z"
    }
   },
   "outputs": [
    {
     "data": {
      "text/plain": [
       "(1405,)"
      ]
     },
     "execution_count": 130,
     "metadata": {},
     "output_type": "execute_result"
    }
   ],
   "source": [
    "keypoints_series.shape"
   ]
  },
  {
   "cell_type": "code",
   "execution_count": 1,
   "id": "6fdb2a8f",
   "metadata": {
    "ExecuteTime": {
     "end_time": "2023-08-03T16:24:19.668723Z",
     "start_time": "2023-08-03T16:24:19.163277Z"
    }
   },
   "outputs": [
    {
     "ename": "NameError",
     "evalue": "name 'keypoints_series' is not defined",
     "output_type": "error",
     "traceback": [
      "\u001b[0;31m---------------------------------------------------------------------------\u001b[0m",
      "\u001b[0;31mNameError\u001b[0m                                 Traceback (most recent call last)",
      "Cell \u001b[0;32mIn[1], line 1\u001b[0m\n\u001b[0;32m----> 1\u001b[0m keypoints_np \u001b[38;5;241m=\u001b[39m np\u001b[38;5;241m.\u001b[39mzeros((\u001b[38;5;28mlen\u001b[39m(\u001b[43mkeypoints_series\u001b[49m), max_len, \u001b[38;5;241m1662\u001b[39m))\n\u001b[1;32m      2\u001b[0m \u001b[38;5;28;01mfor\u001b[39;00m i, keypoints \u001b[38;5;129;01min\u001b[39;00m \u001b[38;5;28menumerate\u001b[39m(keypoints_series):\n\u001b[1;32m      3\u001b[0m     keypoints_np[i, :keypoints\u001b[38;5;241m.\u001b[39mshape[\u001b[38;5;241m0\u001b[39m], :] \u001b[38;5;241m=\u001b[39m keypoints\n",
      "\u001b[0;31mNameError\u001b[0m: name 'keypoints_series' is not defined"
     ]
    }
   ],
   "source": [
    "keypoints_np = np.zeros((len(keypoints_series), max_len, 1662))\n",
    "for i, keypoints in enumerate(keypoints_series):\n",
    "    keypoints_np[i, :keypoints.shape[0], :] = keypoints"
   ]
  },
  {
   "cell_type": "code",
   "execution_count": 1,
   "id": "a407b1ff",
   "metadata": {
    "ExecuteTime": {
     "end_time": "2023-08-03T11:43:49.950393Z",
     "start_time": "2023-08-03T11:43:49.158252Z"
    }
   },
   "outputs": [
    {
     "ename": "NameError",
     "evalue": "name 'keypoints_np' is not defined",
     "output_type": "error",
     "traceback": [
      "\u001b[0;31m---------------------------------------------------------------------------\u001b[0m",
      "\u001b[0;31mNameError\u001b[0m                                 Traceback (most recent call last)",
      "Cell \u001b[0;32mIn[1], line 1\u001b[0m\n\u001b[0;32m----> 1\u001b[0m \u001b[43mkeypoints_np\u001b[49m\u001b[38;5;241m.\u001b[39mshape\n",
      "\u001b[0;31mNameError\u001b[0m: name 'keypoints_np' is not defined"
     ]
    }
   ],
   "source": [
    "keypoints_np.shape"
   ]
  },
  {
   "cell_type": "code",
   "execution_count": 137,
   "id": "0e619f26",
   "metadata": {
    "ExecuteTime": {
     "end_time": "2023-07-29T18:15:09.633635Z",
     "start_time": "2023-07-29T18:14:43.324404Z"
    }
   },
   "outputs": [],
   "source": [
    "np.save(\"/home/kristian/Capstone/keypoints/ASL_Citizen/Mediapipe/test_keypoints.npy\", keypoints_np)"
   ]
  },
  {
   "cell_type": "code",
   "execution_count": 53,
   "id": "2008566c",
   "metadata": {
    "ExecuteTime": {
     "end_time": "2023-08-03T22:14:00.497032Z",
     "start_time": "2023-08-03T22:13:59.662144Z"
    }
   },
   "outputs": [],
   "source": [
    "import numpy as np\n",
    "keypoints_np=np.load('/home/kristian/Capstone/keypoints/mediapipe_keypoints.npy')"
   ]
  },
  {
   "cell_type": "code",
   "execution_count": 54,
   "id": "ce62069f",
   "metadata": {
    "ExecuteTime": {
     "end_time": "2023-08-03T22:14:01.275898Z",
     "start_time": "2023-08-03T22:14:01.272427Z"
    }
   },
   "outputs": [
    {
     "data": {
      "text/plain": [
       "(1405, 212, 1662)"
      ]
     },
     "execution_count": 54,
     "metadata": {},
     "output_type": "execute_result"
    }
   ],
   "source": [
    "keypoints_np.shape"
   ]
  },
  {
   "cell_type": "markdown",
   "id": "eeaa54d2",
   "metadata": {},
   "source": [
    "# Preprocessing"
   ]
  },
  {
   "cell_type": "code",
   "execution_count": 55,
   "id": "223cc5ec",
   "metadata": {
    "ExecuteTime": {
     "end_time": "2023-08-03T22:14:04.814000Z",
     "start_time": "2023-08-03T22:14:04.569573Z"
    }
   },
   "outputs": [],
   "source": [
    "from sklearn.model_selection import train_test_split\n",
    "from sklearn.preprocessing import OrdinalEncoder\n",
    "from keras.utils import to_categorical\n",
    "import numpy as np\n",
    "from keras.preprocessing.sequence import pad_sequences"
   ]
  },
  {
   "cell_type": "code",
   "execution_count": 56,
   "id": "8d5808da",
   "metadata": {
    "ExecuteTime": {
     "end_time": "2023-08-03T22:14:12.042000Z",
     "start_time": "2023-08-03T22:14:09.656813Z"
    }
   },
   "outputs": [],
   "source": [
    "# Pad sequences with zeros and create a mask\n",
    "padded_keypoints = pad_sequences(keypoints_np, maxlen=212, padding='post', value=0.0, dtype='float32')\n",
    "mask = (padded_keypoints.sum(axis=2) != 0).astype('float32')  # Create a mask"
   ]
  },
  {
   "cell_type": "code",
   "execution_count": 57,
   "id": "9a09f64e",
   "metadata": {
    "ExecuteTime": {
     "end_time": "2023-08-03T22:14:12.797190Z",
     "start_time": "2023-08-03T22:14:12.794297Z"
    }
   },
   "outputs": [
    {
     "data": {
      "text/plain": [
       "(1405, 212)"
      ]
     },
     "execution_count": 57,
     "metadata": {},
     "output_type": "execute_result"
    }
   ],
   "source": [
    "mask.shape"
   ]
  },
  {
   "cell_type": "code",
   "execution_count": 58,
   "id": "ddc114ab",
   "metadata": {
    "ExecuteTime": {
     "end_time": "2023-08-03T22:14:13.646208Z",
     "start_time": "2023-08-03T22:14:13.638998Z"
    }
   },
   "outputs": [
    {
     "data": {
      "text/html": [
       "<div>\n",
       "<style scoped>\n",
       "    .dataframe tbody tr th:only-of-type {\n",
       "        vertical-align: middle;\n",
       "    }\n",
       "\n",
       "    .dataframe tbody tr th {\n",
       "        vertical-align: top;\n",
       "    }\n",
       "\n",
       "    .dataframe thead th {\n",
       "        text-align: right;\n",
       "    }\n",
       "</style>\n",
       "<table border=\"1\" class=\"dataframe\">\n",
       "  <thead>\n",
       "    <tr style=\"text-align: right;\">\n",
       "      <th></th>\n",
       "      <th>path</th>\n",
       "      <th>target</th>\n",
       "      <th>file</th>\n",
       "      <th>originaltarget</th>\n",
       "      <th>frequency</th>\n",
       "      <th>frames</th>\n",
       "    </tr>\n",
       "  </thead>\n",
       "  <tbody>\n",
       "    <tr>\n",
       "      <th>0</th>\n",
       "      <td>file:/home/kristian/WLASL/videos_organized/acc...</td>\n",
       "      <td>accident</td>\n",
       "      <td>00618.mp4</td>\n",
       "      <td>accident</td>\n",
       "      <td>17</td>\n",
       "      <td>27</td>\n",
       "    </tr>\n",
       "    <tr>\n",
       "      <th>1</th>\n",
       "      <td>file:/home/kristian/WLASL/videos_organized/acc...</td>\n",
       "      <td>accident</td>\n",
       "      <td>00623.mp4</td>\n",
       "      <td>accident</td>\n",
       "      <td>17</td>\n",
       "      <td>104</td>\n",
       "    </tr>\n",
       "    <tr>\n",
       "      <th>2</th>\n",
       "      <td>file:/home/kristian/WLASL/videos_organized/acc...</td>\n",
       "      <td>accident</td>\n",
       "      <td>00624.mp4</td>\n",
       "      <td>accident</td>\n",
       "      <td>17</td>\n",
       "      <td>109</td>\n",
       "    </tr>\n",
       "    <tr>\n",
       "      <th>3</th>\n",
       "      <td>file:/home/kristian/WLASL/videos_organized/acc...</td>\n",
       "      <td>accident</td>\n",
       "      <td>00625.mp4</td>\n",
       "      <td>accident</td>\n",
       "      <td>17</td>\n",
       "      <td>34</td>\n",
       "    </tr>\n",
       "    <tr>\n",
       "      <th>4</th>\n",
       "      <td>file:/home/kristian/WLASL/videos_organized/acc...</td>\n",
       "      <td>accident</td>\n",
       "      <td>00626.mp4</td>\n",
       "      <td>accident</td>\n",
       "      <td>17</td>\n",
       "      <td>44</td>\n",
       "    </tr>\n",
       "  </tbody>\n",
       "</table>\n",
       "</div>"
      ],
      "text/plain": [
       "                                                path    target       file  \\\n",
       "0  file:/home/kristian/WLASL/videos_organized/acc...  accident  00618.mp4   \n",
       "1  file:/home/kristian/WLASL/videos_organized/acc...  accident  00623.mp4   \n",
       "2  file:/home/kristian/WLASL/videos_organized/acc...  accident  00624.mp4   \n",
       "3  file:/home/kristian/WLASL/videos_organized/acc...  accident  00625.mp4   \n",
       "4  file:/home/kristian/WLASL/videos_organized/acc...  accident  00626.mp4   \n",
       "\n",
       "  originaltarget  frequency  frames  \n",
       "0       accident         17      27  \n",
       "1       accident         17     104  \n",
       "2       accident         17     109  \n",
       "3       accident         17      34  \n",
       "4       accident         17      44  "
      ]
     },
     "execution_count": 58,
     "metadata": {},
     "output_type": "execute_result"
    }
   ],
   "source": [
    "traindf.head()"
   ]
  },
  {
   "cell_type": "code",
   "execution_count": 59,
   "id": "71e58811",
   "metadata": {
    "ExecuteTime": {
     "end_time": "2023-08-03T22:14:23.018886Z",
     "start_time": "2023-08-03T22:14:23.016132Z"
    }
   },
   "outputs": [],
   "source": [
    "encoder = OrdinalEncoder()"
   ]
  },
  {
   "cell_type": "code",
   "execution_count": 60,
   "id": "0129a2ad",
   "metadata": {
    "ExecuteTime": {
     "end_time": "2023-08-03T22:14:24.855919Z",
     "start_time": "2023-08-03T22:14:24.851069Z"
    }
   },
   "outputs": [],
   "source": [
    "video_df['cat_label'] = encoder.fit_transform(video_df[['target']]).astype(int)"
   ]
  },
  {
   "cell_type": "code",
   "execution_count": 61,
   "id": "21e97f05",
   "metadata": {
    "ExecuteTime": {
     "end_time": "2023-08-03T22:14:25.649601Z",
     "start_time": "2023-08-03T22:14:25.640618Z"
    }
   },
   "outputs": [
    {
     "data": {
      "text/html": [
       "<div>\n",
       "<style scoped>\n",
       "    .dataframe tbody tr th:only-of-type {\n",
       "        vertical-align: middle;\n",
       "    }\n",
       "\n",
       "    .dataframe tbody tr th {\n",
       "        vertical-align: top;\n",
       "    }\n",
       "\n",
       "    .dataframe thead th {\n",
       "        text-align: right;\n",
       "    }\n",
       "</style>\n",
       "<table border=\"1\" class=\"dataframe\">\n",
       "  <thead>\n",
       "    <tr style=\"text-align: right;\">\n",
       "      <th></th>\n",
       "      <th>path</th>\n",
       "      <th>target</th>\n",
       "      <th>file</th>\n",
       "      <th>originaltarget</th>\n",
       "      <th>frequency</th>\n",
       "      <th>frames</th>\n",
       "      <th>cat_label</th>\n",
       "    </tr>\n",
       "  </thead>\n",
       "  <tbody>\n",
       "    <tr>\n",
       "      <th>0</th>\n",
       "      <td>file:/home/kristian/WLASL/videos_organized/acc...</td>\n",
       "      <td>accident</td>\n",
       "      <td>00618.mp4</td>\n",
       "      <td>accident</td>\n",
       "      <td>17</td>\n",
       "      <td>27</td>\n",
       "      <td>0</td>\n",
       "    </tr>\n",
       "    <tr>\n",
       "      <th>1</th>\n",
       "      <td>file:/home/kristian/WLASL/videos_organized/acc...</td>\n",
       "      <td>accident</td>\n",
       "      <td>00623.mp4</td>\n",
       "      <td>accident</td>\n",
       "      <td>17</td>\n",
       "      <td>104</td>\n",
       "      <td>0</td>\n",
       "    </tr>\n",
       "    <tr>\n",
       "      <th>2</th>\n",
       "      <td>file:/home/kristian/WLASL/videos_organized/acc...</td>\n",
       "      <td>accident</td>\n",
       "      <td>00624.mp4</td>\n",
       "      <td>accident</td>\n",
       "      <td>17</td>\n",
       "      <td>109</td>\n",
       "      <td>0</td>\n",
       "    </tr>\n",
       "    <tr>\n",
       "      <th>3</th>\n",
       "      <td>file:/home/kristian/WLASL/videos_organized/acc...</td>\n",
       "      <td>accident</td>\n",
       "      <td>00625.mp4</td>\n",
       "      <td>accident</td>\n",
       "      <td>17</td>\n",
       "      <td>34</td>\n",
       "      <td>0</td>\n",
       "    </tr>\n",
       "    <tr>\n",
       "      <th>4</th>\n",
       "      <td>file:/home/kristian/WLASL/videos_organized/acc...</td>\n",
       "      <td>accident</td>\n",
       "      <td>00626.mp4</td>\n",
       "      <td>accident</td>\n",
       "      <td>17</td>\n",
       "      <td>44</td>\n",
       "      <td>0</td>\n",
       "    </tr>\n",
       "  </tbody>\n",
       "</table>\n",
       "</div>"
      ],
      "text/plain": [
       "                                                path    target       file  \\\n",
       "0  file:/home/kristian/WLASL/videos_organized/acc...  accident  00618.mp4   \n",
       "1  file:/home/kristian/WLASL/videos_organized/acc...  accident  00623.mp4   \n",
       "2  file:/home/kristian/WLASL/videos_organized/acc...  accident  00624.mp4   \n",
       "3  file:/home/kristian/WLASL/videos_organized/acc...  accident  00625.mp4   \n",
       "4  file:/home/kristian/WLASL/videos_organized/acc...  accident  00626.mp4   \n",
       "\n",
       "  originaltarget  frequency  frames  cat_label  \n",
       "0       accident         17      27          0  \n",
       "1       accident         17     104          0  \n",
       "2       accident         17     109          0  \n",
       "3       accident         17      34          0  \n",
       "4       accident         17      44          0  "
      ]
     },
     "execution_count": 61,
     "metadata": {},
     "output_type": "execute_result"
    }
   ],
   "source": [
    "video_df.head()"
   ]
  },
  {
   "cell_type": "code",
   "execution_count": 62,
   "id": "5c7a48a3",
   "metadata": {
    "ExecuteTime": {
     "end_time": "2023-08-03T22:14:26.548182Z",
     "start_time": "2023-08-03T22:14:26.539527Z"
    }
   },
   "outputs": [
    {
     "data": {
      "text/html": [
       "<div>\n",
       "<style scoped>\n",
       "    .dataframe tbody tr th:only-of-type {\n",
       "        vertical-align: middle;\n",
       "    }\n",
       "\n",
       "    .dataframe tbody tr th {\n",
       "        vertical-align: top;\n",
       "    }\n",
       "\n",
       "    .dataframe thead th {\n",
       "        text-align: right;\n",
       "    }\n",
       "</style>\n",
       "<table border=\"1\" class=\"dataframe\">\n",
       "  <thead>\n",
       "    <tr style=\"text-align: right;\">\n",
       "      <th></th>\n",
       "      <th>path</th>\n",
       "      <th>target</th>\n",
       "      <th>file</th>\n",
       "      <th>originaltarget</th>\n",
       "      <th>frequency</th>\n",
       "      <th>frames</th>\n",
       "      <th>cat_label</th>\n",
       "    </tr>\n",
       "  </thead>\n",
       "  <tbody>\n",
       "    <tr>\n",
       "      <th>1400</th>\n",
       "      <td>file:/home/kristian/WLASL/videos_organized/yes...</td>\n",
       "      <td>yesterday</td>\n",
       "      <td>64314.mp4</td>\n",
       "      <td>yesterday</td>\n",
       "      <td>15</td>\n",
       "      <td>64</td>\n",
       "      <td>83</td>\n",
       "    </tr>\n",
       "    <tr>\n",
       "      <th>1401</th>\n",
       "      <td>file:/home/kristian/WLASL/videos_organized/yes...</td>\n",
       "      <td>yesterday</td>\n",
       "      <td>64315.mp4</td>\n",
       "      <td>yesterday</td>\n",
       "      <td>15</td>\n",
       "      <td>109</td>\n",
       "      <td>83</td>\n",
       "    </tr>\n",
       "    <tr>\n",
       "      <th>1402</th>\n",
       "      <td>file:/home/kristian/WLASL/videos_organized/yes...</td>\n",
       "      <td>yesterday</td>\n",
       "      <td>66821.mp4</td>\n",
       "      <td>yesterday</td>\n",
       "      <td>15</td>\n",
       "      <td>64</td>\n",
       "      <td>83</td>\n",
       "    </tr>\n",
       "    <tr>\n",
       "      <th>1403</th>\n",
       "      <td>file:/home/kristian/WLASL/videos_organized/yes...</td>\n",
       "      <td>yesterday</td>\n",
       "      <td>66822.mp4</td>\n",
       "      <td>yesterday</td>\n",
       "      <td>15</td>\n",
       "      <td>62</td>\n",
       "      <td>83</td>\n",
       "    </tr>\n",
       "    <tr>\n",
       "      <th>1404</th>\n",
       "      <td>file:/home/kristian/WLASL/videos_organized/yes...</td>\n",
       "      <td>yesterday</td>\n",
       "      <td>70347.mp4</td>\n",
       "      <td>yesterday</td>\n",
       "      <td>15</td>\n",
       "      <td>111</td>\n",
       "      <td>83</td>\n",
       "    </tr>\n",
       "  </tbody>\n",
       "</table>\n",
       "</div>"
      ],
      "text/plain": [
       "                                                   path     target       file  \\\n",
       "1400  file:/home/kristian/WLASL/videos_organized/yes...  yesterday  64314.mp4   \n",
       "1401  file:/home/kristian/WLASL/videos_organized/yes...  yesterday  64315.mp4   \n",
       "1402  file:/home/kristian/WLASL/videos_organized/yes...  yesterday  66821.mp4   \n",
       "1403  file:/home/kristian/WLASL/videos_organized/yes...  yesterday  66822.mp4   \n",
       "1404  file:/home/kristian/WLASL/videos_organized/yes...  yesterday  70347.mp4   \n",
       "\n",
       "     originaltarget  frequency  frames  cat_label  \n",
       "1400      yesterday         15      64         83  \n",
       "1401      yesterday         15     109         83  \n",
       "1402      yesterday         15      64         83  \n",
       "1403      yesterday         15      62         83  \n",
       "1404      yesterday         15     111         83  "
      ]
     },
     "execution_count": 62,
     "metadata": {},
     "output_type": "execute_result"
    }
   ],
   "source": [
    "video_df.tail()"
   ]
  },
  {
   "cell_type": "code",
   "execution_count": 63,
   "id": "d9d509a7",
   "metadata": {
    "ExecuteTime": {
     "end_time": "2023-08-03T22:14:30.698341Z",
     "start_time": "2023-08-03T22:14:30.695361Z"
    }
   },
   "outputs": [],
   "source": [
    "label_map = {label:num for num, label in enumerate(video_df['target'].unique())}"
   ]
  },
  {
   "cell_type": "code",
   "execution_count": 64,
   "id": "b2139a4c",
   "metadata": {
    "ExecuteTime": {
     "end_time": "2023-08-03T22:14:32.189044Z",
     "start_time": "2023-08-03T22:14:32.183678Z"
    },
    "scrolled": true
   },
   "outputs": [
    {
     "data": {
      "text/plain": [
       "{'accident': 0,\n",
       " 'africa': 1,\n",
       " 'all': 2,\n",
       " 'apple': 3,\n",
       " 'bed': 4,\n",
       " 'before': 5,\n",
       " 'bird': 6,\n",
       " 'black': 7,\n",
       " 'book': 8,\n",
       " 'bowling': 9,\n",
       " 'candy': 10,\n",
       " 'chair': 11,\n",
       " 'change': 12,\n",
       " 'cheat': 13,\n",
       " 'check': 14,\n",
       " 'city': 15,\n",
       " 'clothes': 16,\n",
       " 'color': 17,\n",
       " 'computer': 18,\n",
       " 'convince': 19,\n",
       " 'cook': 20,\n",
       " 'cool': 21,\n",
       " 'corn': 22,\n",
       " 'cousin': 23,\n",
       " 'cow': 24,\n",
       " 'dark': 25,\n",
       " 'deaf': 26,\n",
       " 'decide': 27,\n",
       " 'dog': 28,\n",
       " 'drink': 29,\n",
       " 'family': 30,\n",
       " 'fine': 31,\n",
       " 'finish': 32,\n",
       " 'fish': 33,\n",
       " 'forget': 34,\n",
       " 'full': 35,\n",
       " 'give': 36,\n",
       " 'go': 37,\n",
       " 'graduate': 38,\n",
       " 'hair': 39,\n",
       " 'hat': 40,\n",
       " 'headache': 41,\n",
       " 'hearing': 42,\n",
       " 'help': 43,\n",
       " 'hot': 44,\n",
       " 'kiss': 45,\n",
       " 'language': 46,\n",
       " 'last': 47,\n",
       " 'later': 48,\n",
       " 'like': 49,\n",
       " 'man': 50,\n",
       " 'many': 51,\n",
       " 'meet': 52,\n",
       " 'mother': 53,\n",
       " 'no': 54,\n",
       " 'now': 55,\n",
       " 'orange': 56,\n",
       " 'paper': 57,\n",
       " 'pink': 58,\n",
       " 'pizza': 59,\n",
       " 'play': 60,\n",
       " 'pull': 61,\n",
       " 'school': 62,\n",
       " 'secretary': 63,\n",
       " 'shirt': 64,\n",
       " 'short': 65,\n",
       " 'son': 66,\n",
       " 'study': 67,\n",
       " 'table': 68,\n",
       " 'tall': 69,\n",
       " 'thanksgiving': 70,\n",
       " 'thin': 71,\n",
       " 'thursday': 72,\n",
       " 'time': 73,\n",
       " 'trade': 74,\n",
       " 'visit': 75,\n",
       " 'water': 76,\n",
       " 'white': 77,\n",
       " 'who': 78,\n",
       " 'woman': 79,\n",
       " 'wrong': 80,\n",
       " 'year': 81,\n",
       " 'yes': 82,\n",
       " 'yesterday': 83}"
      ]
     },
     "execution_count": 64,
     "metadata": {},
     "output_type": "execute_result"
    }
   ],
   "source": [
    "label_map"
   ]
  },
  {
   "cell_type": "code",
   "execution_count": 65,
   "id": "962046fb",
   "metadata": {
    "ExecuteTime": {
     "end_time": "2023-08-03T22:14:33.143252Z",
     "start_time": "2023-08-03T22:14:33.135613Z"
    }
   },
   "outputs": [
    {
     "data": {
      "text/html": [
       "<div>\n",
       "<style scoped>\n",
       "    .dataframe tbody tr th:only-of-type {\n",
       "        vertical-align: middle;\n",
       "    }\n",
       "\n",
       "    .dataframe tbody tr th {\n",
       "        vertical-align: top;\n",
       "    }\n",
       "\n",
       "    .dataframe thead th {\n",
       "        text-align: right;\n",
       "    }\n",
       "</style>\n",
       "<table border=\"1\" class=\"dataframe\">\n",
       "  <thead>\n",
       "    <tr style=\"text-align: right;\">\n",
       "      <th></th>\n",
       "      <th>path</th>\n",
       "      <th>target</th>\n",
       "      <th>file</th>\n",
       "      <th>originaltarget</th>\n",
       "      <th>frequency</th>\n",
       "      <th>frames</th>\n",
       "      <th>cat_label</th>\n",
       "    </tr>\n",
       "  </thead>\n",
       "  <tbody>\n",
       "    <tr>\n",
       "      <th>300</th>\n",
       "      <td>file:/home/kristian/WLASL/videos_organized/clo...</td>\n",
       "      <td>clothes</td>\n",
       "      <td>11321.mp4</td>\n",
       "      <td>clothes</td>\n",
       "      <td>23</td>\n",
       "      <td>139</td>\n",
       "      <td>16</td>\n",
       "    </tr>\n",
       "    <tr>\n",
       "      <th>610</th>\n",
       "      <td>file:/home/kristian/WLASL/videos_organized/for...</td>\n",
       "      <td>forget</td>\n",
       "      <td>68054.mp4</td>\n",
       "      <td>forget</td>\n",
       "      <td>16</td>\n",
       "      <td>51</td>\n",
       "      <td>34</td>\n",
       "    </tr>\n",
       "    <tr>\n",
       "      <th>1356</th>\n",
       "      <td>file:/home/kristian/WLASL/videos_organized/yea...</td>\n",
       "      <td>year</td>\n",
       "      <td>64201.mp4</td>\n",
       "      <td>year</td>\n",
       "      <td>16</td>\n",
       "      <td>77</td>\n",
       "      <td>81</td>\n",
       "    </tr>\n",
       "    <tr>\n",
       "      <th>1273</th>\n",
       "      <td>file:/home/kristian/WLASL/videos_organized/wat...</td>\n",
       "      <td>water</td>\n",
       "      <td>62479.mp4</td>\n",
       "      <td>water</td>\n",
       "      <td>15</td>\n",
       "      <td>53</td>\n",
       "      <td>76</td>\n",
       "    </tr>\n",
       "    <tr>\n",
       "      <th>733</th>\n",
       "      <td>file:/home/kristian/WLASL/videos_organized/hea...</td>\n",
       "      <td>hearing</td>\n",
       "      <td>26986.mp4</td>\n",
       "      <td>hearing</td>\n",
       "      <td>15</td>\n",
       "      <td>60</td>\n",
       "      <td>42</td>\n",
       "    </tr>\n",
       "    <tr>\n",
       "      <th>640</th>\n",
       "      <td>file:/home/kristian/WLASL/videos_organized/giv...</td>\n",
       "      <td>give</td>\n",
       "      <td>24660.mp4</td>\n",
       "      <td>give</td>\n",
       "      <td>15</td>\n",
       "      <td>70</td>\n",
       "      <td>36</td>\n",
       "    </tr>\n",
       "    <tr>\n",
       "      <th>206</th>\n",
       "      <td>file:/home/kristian/WLASL/videos_organized/cha...</td>\n",
       "      <td>chair</td>\n",
       "      <td>09848.mp4</td>\n",
       "      <td>chair</td>\n",
       "      <td>22</td>\n",
       "      <td>96</td>\n",
       "      <td>11</td>\n",
       "    </tr>\n",
       "    <tr>\n",
       "      <th>1216</th>\n",
       "      <td>file:/home/kristian/WLASL/videos_organized/thu...</td>\n",
       "      <td>thursday</td>\n",
       "      <td>58365.mp4</td>\n",
       "      <td>thursday</td>\n",
       "      <td>16</td>\n",
       "      <td>69</td>\n",
       "      <td>72</td>\n",
       "    </tr>\n",
       "    <tr>\n",
       "      <th>1315</th>\n",
       "      <td>file:/home/kristian/WLASL/videos_organized/who...</td>\n",
       "      <td>who</td>\n",
       "      <td>63237.mp4</td>\n",
       "      <td>who</td>\n",
       "      <td>17</td>\n",
       "      <td>47</td>\n",
       "      <td>78</td>\n",
       "    </tr>\n",
       "    <tr>\n",
       "      <th>1095</th>\n",
       "      <td>file:/home/kristian/WLASL/videos_organized/sho...</td>\n",
       "      <td>short</td>\n",
       "      <td>51221.mp4</td>\n",
       "      <td>short</td>\n",
       "      <td>16</td>\n",
       "      <td>100</td>\n",
       "      <td>65</td>\n",
       "    </tr>\n",
       "  </tbody>\n",
       "</table>\n",
       "</div>"
      ],
      "text/plain": [
       "                                                   path    target       file  \\\n",
       "300   file:/home/kristian/WLASL/videos_organized/clo...   clothes  11321.mp4   \n",
       "610   file:/home/kristian/WLASL/videos_organized/for...    forget  68054.mp4   \n",
       "1356  file:/home/kristian/WLASL/videos_organized/yea...      year  64201.mp4   \n",
       "1273  file:/home/kristian/WLASL/videos_organized/wat...     water  62479.mp4   \n",
       "733   file:/home/kristian/WLASL/videos_organized/hea...   hearing  26986.mp4   \n",
       "640   file:/home/kristian/WLASL/videos_organized/giv...      give  24660.mp4   \n",
       "206   file:/home/kristian/WLASL/videos_organized/cha...     chair  09848.mp4   \n",
       "1216  file:/home/kristian/WLASL/videos_organized/thu...  thursday  58365.mp4   \n",
       "1315  file:/home/kristian/WLASL/videos_organized/who...       who  63237.mp4   \n",
       "1095  file:/home/kristian/WLASL/videos_organized/sho...     short  51221.mp4   \n",
       "\n",
       "     originaltarget  frequency  frames  cat_label  \n",
       "300         clothes         23     139         16  \n",
       "610          forget         16      51         34  \n",
       "1356           year         16      77         81  \n",
       "1273          water         15      53         76  \n",
       "733         hearing         15      60         42  \n",
       "640            give         15      70         36  \n",
       "206           chair         22      96         11  \n",
       "1216       thursday         16      69         72  \n",
       "1315            who         17      47         78  \n",
       "1095          short         16     100         65  "
      ]
     },
     "execution_count": 65,
     "metadata": {},
     "output_type": "execute_result"
    }
   ],
   "source": [
    "video_df.sample(10)"
   ]
  },
  {
   "cell_type": "code",
   "execution_count": 66,
   "id": "6bf774ca",
   "metadata": {
    "ExecuteTime": {
     "end_time": "2023-08-03T22:14:48.719999Z",
     "start_time": "2023-08-03T22:14:48.715700Z"
    }
   },
   "outputs": [],
   "source": [
    "Y = encoder.fit_transform(video_df[['target']])"
   ]
  },
  {
   "cell_type": "code",
   "execution_count": 67,
   "id": "fac9b5f8",
   "metadata": {
    "ExecuteTime": {
     "end_time": "2023-08-03T22:14:55.137808Z",
     "start_time": "2023-08-03T22:14:55.133456Z"
    }
   },
   "outputs": [
    {
     "data": {
      "text/plain": [
       "array([[ 0.],\n",
       "       [ 0.],\n",
       "       [ 0.],\n",
       "       ...,\n",
       "       [83.],\n",
       "       [83.],\n",
       "       [83.]])"
      ]
     },
     "execution_count": 67,
     "metadata": {},
     "output_type": "execute_result"
    }
   ],
   "source": [
    "Y"
   ]
  },
  {
   "cell_type": "code",
   "execution_count": 70,
   "id": "d52a77ac",
   "metadata": {
    "ExecuteTime": {
     "end_time": "2023-08-03T10:17:06.982532Z",
     "start_time": "2023-08-03T10:17:06.977460Z"
    }
   },
   "outputs": [
    {
     "name": "stdout",
     "output_type": "stream",
     "text": [
      "Shape before one-hot encoding:  (1405, 1)\n",
      "Shape after one-hot encoding:  (1405, 84)\n"
     ]
    }
   ],
   "source": [
    "n_classes = 84\n",
    "print(\"Shape before one-hot encoding: \", Y.shape)\n",
    "Y = to_categorical(Y, n_classes)\n",
    "print(\"Shape after one-hot encoding: \", Y.shape)"
   ]
  },
  {
   "cell_type": "code",
   "execution_count": 68,
   "id": "28e63d67",
   "metadata": {
    "ExecuteTime": {
     "end_time": "2023-08-03T22:15:11.869765Z",
     "start_time": "2023-08-03T22:15:11.867359Z"
    }
   },
   "outputs": [],
   "source": [
    "X = keypoints_np"
   ]
  },
  {
   "cell_type": "code",
   "execution_count": 69,
   "id": "f7ed8513",
   "metadata": {
    "ExecuteTime": {
     "end_time": "2023-08-03T22:15:13.047531Z",
     "start_time": "2023-08-03T22:15:13.044471Z"
    }
   },
   "outputs": [
    {
     "data": {
      "text/plain": [
       "(1405, 212, 1662)"
      ]
     },
     "execution_count": 69,
     "metadata": {},
     "output_type": "execute_result"
    }
   ],
   "source": [
    "X.shape"
   ]
  },
  {
   "cell_type": "code",
   "execution_count": 71,
   "id": "7cd74294",
   "metadata": {
    "ExecuteTime": {
     "end_time": "2023-08-03T22:15:31.814063Z",
     "start_time": "2023-08-03T22:15:31.780681Z"
    }
   },
   "outputs": [],
   "source": [
    "np.save(\"/home/kristian/Capstone/keypoints/labels_array_1D.npy\", Y)"
   ]
  },
  {
   "cell_type": "code",
   "execution_count": 7,
   "id": "7f203e75",
   "metadata": {
    "ExecuteTime": {
     "end_time": "2023-08-03T18:53:54.315723Z",
     "start_time": "2023-08-03T18:53:54.313180Z"
    }
   },
   "outputs": [],
   "source": [
    "Y=np.load('/home/kristian/Capstone/keypoints/labels_array.npy')"
   ]
  },
  {
   "cell_type": "code",
   "execution_count": 8,
   "id": "eb749626",
   "metadata": {
    "ExecuteTime": {
     "end_time": "2023-08-03T18:53:55.916113Z",
     "start_time": "2023-08-03T18:53:55.912804Z"
    }
   },
   "outputs": [
    {
     "data": {
      "text/plain": [
       "numpy.ndarray"
      ]
     },
     "execution_count": 8,
     "metadata": {},
     "output_type": "execute_result"
    }
   ],
   "source": [
    "type(Y)"
   ]
  },
  {
   "cell_type": "code",
   "execution_count": 9,
   "id": "3258ad3f",
   "metadata": {
    "ExecuteTime": {
     "end_time": "2023-08-03T18:53:57.508551Z",
     "start_time": "2023-08-03T18:53:57.504595Z"
    }
   },
   "outputs": [
    {
     "data": {
      "text/plain": [
       "(1405, 84)"
      ]
     },
     "execution_count": 9,
     "metadata": {},
     "output_type": "execute_result"
    }
   ],
   "source": [
    "Y.shape"
   ]
  },
  {
   "cell_type": "code",
   "execution_count": 10,
   "id": "0a2e3c0b",
   "metadata": {
    "ExecuteTime": {
     "end_time": "2023-08-03T18:54:09.792399Z",
     "start_time": "2023-08-03T18:54:08.816481Z"
    }
   },
   "outputs": [],
   "source": [
    "X_train, X_test, Y_train, Y_test = train_test_split(X, \n",
    "                                                    Y,\n",
    "                                                    test_size=0.2,\n",
    "                                                    random_state=10)"
   ]
  },
  {
   "cell_type": "code",
   "execution_count": 13,
   "id": "5a8fde5c",
   "metadata": {
    "ExecuteTime": {
     "end_time": "2023-08-03T18:02:26.004380Z",
     "start_time": "2023-08-03T18:02:22.713446Z"
    }
   },
   "outputs": [],
   "source": [
    "from sklearn.preprocessing import MinMaxScaler\n",
    "\n",
    "# Reshape your input data to match the shape (samples, features)\n",
    "# Assuming your data is named \"input_data\"\n",
    "num_samples, num_frames, num_keypoints = X.shape\n",
    "input_data_reshaped = X.reshape(num_samples, -1)\n",
    "\n",
    "# Create a MinMaxScaler\n",
    "scaler = MinMaxScaler()\n",
    "\n",
    "# Fit and transform the data\n",
    "input_data_scaled = scaler.fit_transform(input_data_reshaped)\n",
    "\n",
    "# Reshape the scaled data back to the original shape\n",
    "input_data_scaled = input_data_scaled.reshape(num_samples, num_frames, num_keypoints)"
   ]
  },
  {
   "cell_type": "code",
   "execution_count": 12,
   "id": "e8042926",
   "metadata": {
    "ExecuteTime": {
     "end_time": "2023-08-03T15:07:54.134468Z",
     "start_time": "2023-08-03T15:07:54.130682Z"
    }
   },
   "outputs": [
    {
     "data": {
      "text/plain": [
       "(1405, 212, 1662)"
      ]
     },
     "execution_count": 12,
     "metadata": {},
     "output_type": "execute_result"
    }
   ],
   "source": [
    "input_data_scaled.shape"
   ]
  },
  {
   "cell_type": "code",
   "execution_count": 20,
   "id": "49da28e5",
   "metadata": {
    "ExecuteTime": {
     "end_time": "2023-08-03T15:51:46.223692Z",
     "start_time": "2023-08-03T15:51:46.190010Z"
    }
   },
   "outputs": [
    {
     "ename": "NameError",
     "evalue": "name 'input_data_scaled' is not defined",
     "output_type": "error",
     "traceback": [
      "\u001b[0;31m---------------------------------------------------------------------------\u001b[0m",
      "\u001b[0;31mNameError\u001b[0m                                 Traceback (most recent call last)",
      "Cell \u001b[0;32mIn[20], line 1\u001b[0m\n\u001b[0;32m----> 1\u001b[0m X_train, X_test, Y_train, Y_test, mask_train, mask_test \u001b[38;5;241m=\u001b[39m train_test_split(\u001b[43minput_data_scaled\u001b[49m,\n\u001b[1;32m      2\u001b[0m                                                     Y, mask,\n\u001b[1;32m      3\u001b[0m                                                     test_size\u001b[38;5;241m=\u001b[39m\u001b[38;5;241m0.1\u001b[39m,\n\u001b[1;32m      4\u001b[0m                                                     random_state\u001b[38;5;241m=\u001b[39m\u001b[38;5;241m10\u001b[39m)\n",
      "\u001b[0;31mNameError\u001b[0m: name 'input_data_scaled' is not defined"
     ]
    }
   ],
   "source": [
    "X_train, X_test, Y_train, Y_test = train_test_split(input_data_scaled,\n",
    "                                                    Y,\n",
    "                                                    test_size=0.,\n",
    "                                                    random_state=10)"
   ]
  },
  {
   "cell_type": "code",
   "execution_count": 21,
   "id": "61ba291c",
   "metadata": {
    "ExecuteTime": {
     "end_time": "2023-08-03T15:58:19.701582Z",
     "start_time": "2023-08-03T15:58:19.695610Z"
    }
   },
   "outputs": [
    {
     "data": {
      "text/plain": [
       "(1124, 212)"
      ]
     },
     "execution_count": 21,
     "metadata": {},
     "output_type": "execute_result"
    }
   ],
   "source": [
    "mask_train.shape"
   ]
  },
  {
   "cell_type": "code",
   "execution_count": 23,
   "id": "c00d3fb2",
   "metadata": {
    "ExecuteTime": {
     "end_time": "2023-08-03T16:31:22.053464Z",
     "start_time": "2023-08-03T16:31:22.045618Z"
    }
   },
   "outputs": [
    {
     "data": {
      "text/plain": [
       "(1264, 212, 1662)"
      ]
     },
     "execution_count": 23,
     "metadata": {},
     "output_type": "execute_result"
    }
   ],
   "source": [
    "X_train.shape"
   ]
  },
  {
   "cell_type": "markdown",
   "id": "965a4a24",
   "metadata": {},
   "source": [
    "# Model"
   ]
  },
  {
   "cell_type": "code",
   "execution_count": 11,
   "id": "80a6472e",
   "metadata": {
    "ExecuteTime": {
     "end_time": "2023-08-03T18:54:13.916097Z",
     "start_time": "2023-08-03T18:54:13.887022Z"
    }
   },
   "outputs": [],
   "source": [
    "from tensorflow.keras.models import Sequential\n",
    "from tensorflow.keras.layers import LSTM, Dense, Dropout, GRU\n",
    "from tensorflow.keras.callbacks import TensorBoard\n",
    "import tensorflow as tf\n",
    "import tensorflow as tf\n",
    "from tensorflow.keras import layers, models\n",
    "from tensorflow.keras.optimizers import Adam\n"
   ]
  },
  {
   "cell_type": "code",
   "execution_count": 12,
   "id": "5ae984cb",
   "metadata": {
    "ExecuteTime": {
     "end_time": "2023-08-03T18:54:16.599862Z",
     "start_time": "2023-08-03T18:54:16.522298Z"
    }
   },
   "outputs": [],
   "source": [
    "physical_devices = tf.config.list_physical_devices('GPU')\n",
    "if physical_devices:\n",
    "    for device in physical_devices:\n",
    "        tf.config.experimental.set_memory_growth(device, True)"
   ]
  },
  {
   "cell_type": "code",
   "execution_count": 14,
   "id": "4f92236a",
   "metadata": {
    "ExecuteTime": {
     "end_time": "2023-08-03T18:32:58.269560Z",
     "start_time": "2023-08-03T18:32:58.263812Z"
    }
   },
   "outputs": [],
   "source": [
    "log_dir = os.path.join('Logs')\n",
    "tb_callback = TensorBoard(log_dir=log_dir)"
   ]
  },
  {
   "cell_type": "code",
   "execution_count": 16,
   "id": "d3aecc93",
   "metadata": {
    "ExecuteTime": {
     "end_time": "2023-08-03T16:33:23.893453Z",
     "start_time": "2023-08-03T16:33:23.799685Z"
    }
   },
   "outputs": [
    {
     "name": "stderr",
     "output_type": "stream",
     "text": [
      "2023-08-03 17:33:23.873474: I tensorflow/core/common_runtime/gpu/gpu_device.cc:1639] Created device /job:localhost/replica:0/task:0/device:GPU:0 with 1739 MB memory:  -> device: 0, name: NVIDIA GeForce MX250, pci bus id: 0000:01:00.0, compute capability: 6.1\n"
     ]
    }
   ],
   "source": [
    "model = Sequential(name='sequential')"
   ]
  },
  {
   "cell_type": "code",
   "execution_count": 17,
   "id": "d8f02a77",
   "metadata": {
    "ExecuteTime": {
     "end_time": "2023-08-03T16:33:30.105133Z",
     "start_time": "2023-08-03T16:33:29.800679Z"
    }
   },
   "outputs": [
    {
     "name": "stdout",
     "output_type": "stream",
     "text": [
      "WARNING:tensorflow:Layer lstm will not use cuDNN kernels since it doesn't meet the criteria. It will use a generic GPU kernel as fallback when running on GPU.\n",
      "WARNING:tensorflow:Layer lstm_1 will not use cuDNN kernels since it doesn't meet the criteria. It will use a generic GPU kernel as fallback when running on GPU.\n",
      "WARNING:tensorflow:Layer lstm_2 will not use cuDNN kernels since it doesn't meet the criteria. It will use a generic GPU kernel as fallback when running on GPU.\n"
     ]
    }
   ],
   "source": [
    "model.add(LSTM(128, return_sequences=True, activation='relu', dropout=0.5,input_shape=(212,1662)))\n",
    "#model.add(Dropout(0.5))\n",
    "model.add(LSTM(64, return_sequences=True, activation='sigmoid',dropout=.5))\n",
    "#model.add(Dropout(0.25))\n",
    "model.add(LSTM(128, return_sequences=False, activation='sigmoid'))\n",
    "model.add(Dense(128, activation='relu'))\n",
    "model.add(Dense(64, activation='relu'))\n",
    "model.add(Dense(Y.shape[1], activation='softmax'))"
   ]
  },
  {
   "cell_type": "code",
   "execution_count": 18,
   "id": "24f632e6",
   "metadata": {
    "ExecuteTime": {
     "end_time": "2023-08-03T16:33:36.815799Z",
     "start_time": "2023-08-03T16:33:36.787150Z"
    },
    "scrolled": false
   },
   "outputs": [
    {
     "name": "stdout",
     "output_type": "stream",
     "text": [
      "Model: \"sequential\"\n",
      "_________________________________________________________________\n",
      " Layer (type)                Output Shape              Param #   \n",
      "=================================================================\n",
      " lstm (LSTM)                 (None, 212, 128)          916992    \n",
      "                                                                 \n",
      " lstm_1 (LSTM)               (None, 212, 64)           49408     \n",
      "                                                                 \n",
      " lstm_2 (LSTM)               (None, 128)               98816     \n",
      "                                                                 \n",
      " dense (Dense)               (None, 128)               16512     \n",
      "                                                                 \n",
      " dense_1 (Dense)             (None, 64)                8256      \n",
      "                                                                 \n",
      " dense_2 (Dense)             (None, 84)                5460      \n",
      "                                                                 \n",
      "=================================================================\n",
      "Total params: 1095444 (4.18 MB)\n",
      "Trainable params: 1095444 (4.18 MB)\n",
      "Non-trainable params: 0 (0.00 Byte)\n",
      "_________________________________________________________________\n"
     ]
    }
   ],
   "source": [
    "model.summary()"
   ]
  },
  {
   "cell_type": "code",
   "execution_count": 19,
   "id": "27a718ee",
   "metadata": {
    "ExecuteTime": {
     "end_time": "2023-08-03T16:33:37.614143Z",
     "start_time": "2023-08-03T16:33:37.591258Z"
    }
   },
   "outputs": [],
   "source": [
    "optimizer = Adam(learning_rate=.001,clipvalue=0)\n",
    "model.compile(optimizer=optimizer, loss='categorical_crossentropy', metrics=['categorical_accuracy'])"
   ]
  },
  {
   "cell_type": "code",
   "execution_count": 20,
   "id": "93800134",
   "metadata": {
    "ExecuteTime": {
     "end_time": "2023-08-03T16:33:53.092986Z",
     "start_time": "2023-08-03T16:33:39.198542Z"
    },
    "scrolled": true
   },
   "outputs": [
    {
     "name": "stderr",
     "output_type": "stream",
     "text": [
      "2023-08-03 17:33:39.635109: W tensorflow/tsl/framework/cpu_allocator_impl.cc:83] Allocation of 1781451264 exceeds 10% of free system memory.\n",
      "2023-08-03 17:33:41.049569: W tensorflow/tsl/framework/cpu_allocator_impl.cc:83] Allocation of 1781451264 exceeds 10% of free system memory.\n"
     ]
    },
    {
     "name": "stdout",
     "output_type": "stream",
     "text": [
      "Epoch 1/20\n"
     ]
    },
    {
     "name": "stderr",
     "output_type": "stream",
     "text": [
      "2023-08-03 17:33:53.017370: W tensorflow/tsl/framework/bfc_allocator.cc:485] Allocator (GPU_0_bfc) ran out of memory trying to allocate 256.0KiB (rounded to 262144)requested by op Fill\n",
      "If the cause is memory fragmentation maybe the environment variable 'TF_GPU_ALLOCATOR=cuda_malloc_async' will improve the situation. \n",
      "Current allocation summary follows.\n",
      "Current allocation summary follows.\n",
      "2023-08-03 17:33:53.017446: I tensorflow/tsl/framework/bfc_allocator.cc:1039] BFCAllocator dump for GPU_0_bfc\n",
      "2023-08-03 17:33:53.017473: I tensorflow/tsl/framework/bfc_allocator.cc:1046] Bin (256): \tTotal Chunks: 26, Chunks in use: 26. 6.5KiB allocated for chunks. 6.5KiB in use in bin. 369B client-requested in use in bin.\n",
      "2023-08-03 17:33:53.017494: I tensorflow/tsl/framework/bfc_allocator.cc:1046] Bin (512): \tTotal Chunks: 2, Chunks in use: 2. 1.0KiB allocated for chunks. 1.0KiB in use in bin. 848B client-requested in use in bin.\n",
      "2023-08-03 17:33:53.017514: I tensorflow/tsl/framework/bfc_allocator.cc:1046] Bin (1024): \tTotal Chunks: 2, Chunks in use: 2. 2.2KiB allocated for chunks. 2.2KiB in use in bin. 2.0KiB client-requested in use in bin.\n",
      "2023-08-03 17:33:53.017532: I tensorflow/tsl/framework/bfc_allocator.cc:1046] Bin (2048): \tTotal Chunks: 2, Chunks in use: 2. 4.0KiB allocated for chunks. 4.0KiB in use in bin. 4.0KiB client-requested in use in bin.\n",
      "2023-08-03 17:33:53.017549: I tensorflow/tsl/framework/bfc_allocator.cc:1046] Bin (4096): \tTotal Chunks: 0, Chunks in use: 0. 0B allocated for chunks. 0B in use in bin. 0B client-requested in use in bin.\n",
      "2023-08-03 17:33:53.017566: I tensorflow/tsl/framework/bfc_allocator.cc:1046] Bin (8192): \tTotal Chunks: 1, Chunks in use: 0. 9.2KiB allocated for chunks. 0B in use in bin. 0B client-requested in use in bin.\n",
      "2023-08-03 17:33:53.017587: I tensorflow/tsl/framework/bfc_allocator.cc:1046] Bin (16384): \tTotal Chunks: 1, Chunks in use: 1. 22.0KiB allocated for chunks. 22.0KiB in use in bin. 21.0KiB client-requested in use in bin.\n",
      "2023-08-03 17:33:53.017606: I tensorflow/tsl/framework/bfc_allocator.cc:1046] Bin (32768): \tTotal Chunks: 2, Chunks in use: 1. 74.0KiB allocated for chunks. 32.0KiB in use in bin. 32.0KiB client-requested in use in bin.\n",
      "2023-08-03 17:33:53.017627: I tensorflow/tsl/framework/bfc_allocator.cc:1046] Bin (65536): \tTotal Chunks: 3, Chunks in use: 2. 272.0KiB allocated for chunks. 176.0KiB in use in bin. 128.0KiB client-requested in use in bin.\n",
      "2023-08-03 17:33:53.017647: I tensorflow/tsl/framework/bfc_allocator.cc:1046] Bin (131072): \tTotal Chunks: 2, Chunks in use: 2. 380.0KiB allocated for chunks. 380.0KiB in use in bin. 256.0KiB client-requested in use in bin.\n",
      "2023-08-03 17:33:53.017666: I tensorflow/tsl/framework/bfc_allocator.cc:1046] Bin (262144): \tTotal Chunks: 4, Chunks in use: 4. 1.25MiB allocated for chunks. 1.25MiB in use in bin. 1.15MiB client-requested in use in bin.\n",
      "2023-08-03 17:33:53.017682: I tensorflow/tsl/framework/bfc_allocator.cc:1046] Bin (524288): \tTotal Chunks: 0, Chunks in use: 0. 0B allocated for chunks. 0B in use in bin. 0B client-requested in use in bin.\n",
      "2023-08-03 17:33:53.017697: I tensorflow/tsl/framework/bfc_allocator.cc:1046] Bin (1048576): \tTotal Chunks: 0, Chunks in use: 0. 0B allocated for chunks. 0B in use in bin. 0B client-requested in use in bin.\n",
      "2023-08-03 17:33:53.017715: I tensorflow/tsl/framework/bfc_allocator.cc:1046] Bin (2097152): \tTotal Chunks: 1, Chunks in use: 1. 3.25MiB allocated for chunks. 3.25MiB in use in bin. 3.25MiB client-requested in use in bin.\n",
      "2023-08-03 17:33:53.017733: I tensorflow/tsl/framework/bfc_allocator.cc:1046] Bin (4194304): \tTotal Chunks: 2, Chunks in use: 2. 8.75MiB allocated for chunks. 8.75MiB in use in bin. 6.49MiB client-requested in use in bin.\n",
      "2023-08-03 17:33:53.017749: I tensorflow/tsl/framework/bfc_allocator.cc:1046] Bin (8388608): \tTotal Chunks: 0, Chunks in use: 0. 0B allocated for chunks. 0B in use in bin. 0B client-requested in use in bin.\n",
      "2023-08-03 17:33:53.017765: I tensorflow/tsl/framework/bfc_allocator.cc:1046] Bin (16777216): \tTotal Chunks: 0, Chunks in use: 0. 0B allocated for chunks. 0B in use in bin. 0B client-requested in use in bin.\n",
      "2023-08-03 17:33:53.017781: I tensorflow/tsl/framework/bfc_allocator.cc:1046] Bin (33554432): \tTotal Chunks: 0, Chunks in use: 0. 0B allocated for chunks. 0B in use in bin. 0B client-requested in use in bin.\n",
      "2023-08-03 17:33:53.017796: I tensorflow/tsl/framework/bfc_allocator.cc:1046] Bin (67108864): \tTotal Chunks: 0, Chunks in use: 0. 0B allocated for chunks. 0B in use in bin. 0B client-requested in use in bin.\n",
      "2023-08-03 17:33:53.017812: I tensorflow/tsl/framework/bfc_allocator.cc:1046] Bin (134217728): \tTotal Chunks: 0, Chunks in use: 0. 0B allocated for chunks. 0B in use in bin. 0B client-requested in use in bin.\n",
      "2023-08-03 17:33:53.017830: I tensorflow/tsl/framework/bfc_allocator.cc:1046] Bin (268435456): \tTotal Chunks: 1, Chunks in use: 1. 1.68GiB allocated for chunks. 1.68GiB in use in bin. 1.66GiB client-requested in use in bin.\n",
      "2023-08-03 17:33:53.017860: I tensorflow/tsl/framework/bfc_allocator.cc:1062] Bin for 256.0KiB was 256.0KiB, Chunk State: \n",
      "2023-08-03 17:33:53.017875: I tensorflow/tsl/framework/bfc_allocator.cc:1075] Next region of size 1809448960\n",
      "2023-08-03 17:33:53.017897: I tensorflow/tsl/framework/bfc_allocator.cc:1095] InUse at 7f14ea000000 of size 1809448960 next 18446744073709551615\n",
      "2023-08-03 17:33:53.017912: I tensorflow/tsl/framework/bfc_allocator.cc:1075] Next region of size 2097152\n",
      "2023-08-03 17:33:53.017925: I tensorflow/tsl/framework/bfc_allocator.cc:1095] InUse at 7f1664c00000 of size 256 next 1\n",
      "2023-08-03 17:33:53.017939: I tensorflow/tsl/framework/bfc_allocator.cc:1095] InUse at 7f1664c00100 of size 1280 next 2\n",
      "2023-08-03 17:33:53.017952: I tensorflow/tsl/framework/bfc_allocator.cc:1095] InUse at 7f1664c00600 of size 256 next 3\n",
      "2023-08-03 17:33:53.017963: I tensorflow/tsl/framework/bfc_allocator.cc:1095] InUse at 7f1664c00700 of size 256 next 4\n",
      "2023-08-03 17:33:53.017975: I tensorflow/tsl/framework/bfc_allocator.cc:1095] InUse at 7f1664c00800 of size 256 next 5\n",
      "2023-08-03 17:33:53.017987: I tensorflow/tsl/framework/bfc_allocator.cc:1095] InUse at 7f1664c00900 of size 256 next 6\n",
      "2023-08-03 17:33:53.017999: I tensorflow/tsl/framework/bfc_allocator.cc:1095] InUse at 7f1664c00a00 of size 256 next 12\n",
      "2023-08-03 17:33:53.018011: I tensorflow/tsl/framework/bfc_allocator.cc:1095] InUse at 7f1664c00b00 of size 256 next 13\n",
      "2023-08-03 17:33:53.018022: I tensorflow/tsl/framework/bfc_allocator.cc:1095] InUse at 7f1664c00c00 of size 256 next 8\n",
      "2023-08-03 17:33:53.018034: I tensorflow/tsl/framework/bfc_allocator.cc:1095] InUse at 7f1664c00d00 of size 256 next 11\n",
      "2023-08-03 17:33:53.018045: I tensorflow/tsl/framework/bfc_allocator.cc:1095] InUse at 7f1664c00e00 of size 256 next 20\n",
      "2023-08-03 17:33:53.018057: I tensorflow/tsl/framework/bfc_allocator.cc:1095] InUse at 7f1664c00f00 of size 256 next 24\n",
      "2023-08-03 17:33:53.018069: I tensorflow/tsl/framework/bfc_allocator.cc:1095] InUse at 7f1664c01000 of size 256 next 26\n",
      "2023-08-03 17:33:53.018081: I tensorflow/tsl/framework/bfc_allocator.cc:1095] InUse at 7f1664c01100 of size 256 next 31\n",
      "2023-08-03 17:33:53.018093: I tensorflow/tsl/framework/bfc_allocator.cc:1095] InUse at 7f1664c01200 of size 512 next 15\n",
      "2023-08-03 17:33:53.018105: I tensorflow/tsl/framework/bfc_allocator.cc:1095] InUse at 7f1664c01400 of size 2048 next 17\n",
      "2023-08-03 17:33:53.018118: I tensorflow/tsl/framework/bfc_allocator.cc:1095] InUse at 7f1664c01c00 of size 1024 next 25\n",
      "2023-08-03 17:33:53.018130: I tensorflow/tsl/framework/bfc_allocator.cc:1095] InUse at 7f1664c02000 of size 256 next 33\n",
      "2023-08-03 17:33:53.018141: I tensorflow/tsl/framework/bfc_allocator.cc:1095] InUse at 7f1664c02100 of size 256 next 32\n",
      "2023-08-03 17:33:53.018153: I tensorflow/tsl/framework/bfc_allocator.cc:1095] InUse at 7f1664c02200 of size 256 next 36\n",
      "2023-08-03 17:33:53.018165: I tensorflow/tsl/framework/bfc_allocator.cc:1095] InUse at 7f1664c02300 of size 256 next 18\n",
      "2023-08-03 17:33:53.018177: I tensorflow/tsl/framework/bfc_allocator.cc:1095] InUse at 7f1664c02400 of size 2048 next 30\n",
      "2023-08-03 17:33:53.018188: I tensorflow/tsl/framework/bfc_allocator.cc:1095] InUse at 7f1664c02c00 of size 256 next 35\n",
      "2023-08-03 17:33:53.018200: I tensorflow/tsl/framework/bfc_allocator.cc:1095] InUse at 7f1664c02d00 of size 512 next 40\n",
      "2023-08-03 17:33:53.018212: I tensorflow/tsl/framework/bfc_allocator.cc:1095] InUse at 7f1664c02f00 of size 256 next 38\n",
      "2023-08-03 17:33:53.018224: I tensorflow/tsl/framework/bfc_allocator.cc:1095] InUse at 7f1664c03000 of size 256 next 39\n",
      "2023-08-03 17:33:53.018235: I tensorflow/tsl/framework/bfc_allocator.cc:1095] InUse at 7f1664c03100 of size 256 next 41\n",
      "2023-08-03 17:33:53.018246: I tensorflow/tsl/framework/bfc_allocator.cc:1095] InUse at 7f1664c03200 of size 256 next 43\n",
      "2023-08-03 17:33:53.018258: I tensorflow/tsl/framework/bfc_allocator.cc:1095] InUse at 7f1664c03300 of size 256 next 45\n",
      "2023-08-03 17:33:53.018272: I tensorflow/tsl/framework/bfc_allocator.cc:1095] InUse at 7f1664c03400 of size 256 next 46\n",
      "2023-08-03 17:33:53.018285: I tensorflow/tsl/framework/bfc_allocator.cc:1095] InUse at 7f1664c03500 of size 256 next 47\n",
      "2023-08-03 17:33:53.018296: I tensorflow/tsl/framework/bfc_allocator.cc:1095] InUse at 7f1664c03600 of size 256 next 48\n",
      "2023-08-03 17:33:53.018308: I tensorflow/tsl/framework/bfc_allocator.cc:1095] Free  at 7f1664c03700 of size 9472 next 19\n",
      "2023-08-03 17:33:53.018322: I tensorflow/tsl/framework/bfc_allocator.cc:1095] InUse at 7f1664c05c00 of size 114688 next 23\n",
      "2023-08-03 17:33:53.018334: I tensorflow/tsl/framework/bfc_allocator.cc:1095] InUse at 7f1664c21c00 of size 32768 next 37\n",
      "2023-08-03 17:33:53.018346: I tensorflow/tsl/framework/bfc_allocator.cc:1095] Free  at 7f1664c29c00 of size 98304 next 22\n",
      "2023-08-03 17:33:53.018359: I tensorflow/tsl/framework/bfc_allocator.cc:1095] InUse at 7f1664c41c00 of size 131072 next 21\n",
      "2023-08-03 17:33:53.018372: I tensorflow/tsl/framework/bfc_allocator.cc:1095] InUse at 7f1664c61c00 of size 65536 next 34\n",
      "2023-08-03 17:33:53.018384: I tensorflow/tsl/framework/bfc_allocator.cc:1095] Free  at 7f1664c71c00 of size 43008 next 42\n",
      "2023-08-03 17:33:53.018397: I tensorflow/tsl/framework/bfc_allocator.cc:1095] InUse at 7f1664c7c400 of size 22528 next 28\n",
      "2023-08-03 17:33:53.018409: I tensorflow/tsl/framework/bfc_allocator.cc:1095] InUse at 7f1664c81c00 of size 258048 next 14\n",
      "2023-08-03 17:33:53.018421: I tensorflow/tsl/framework/bfc_allocator.cc:1095] InUse at 7f1664cc0c00 of size 262144 next 16\n",
      "2023-08-03 17:33:53.018433: I tensorflow/tsl/framework/bfc_allocator.cc:1095] InUse at 7f1664d00c00 of size 262144 next 27\n",
      "2023-08-03 17:33:53.018445: I tensorflow/tsl/framework/bfc_allocator.cc:1095] InUse at 7f1664d40c00 of size 262144 next 29\n",
      "2023-08-03 17:33:53.018458: I tensorflow/tsl/framework/bfc_allocator.cc:1095] InUse at 7f1664d80c00 of size 521216 next 18446744073709551615\n",
      "2023-08-03 17:33:53.018474: I tensorflow/tsl/framework/bfc_allocator.cc:1075] Next region of size 4194304\n",
      "2023-08-03 17:33:53.018487: I tensorflow/tsl/framework/bfc_allocator.cc:1095] InUse at 7f1665000000 of size 4194304 next 18446744073709551615\n",
      "2023-08-03 17:33:53.018501: I tensorflow/tsl/framework/bfc_allocator.cc:1075] Next region of size 8388608\n",
      "2023-08-03 17:33:53.018514: I tensorflow/tsl/framework/bfc_allocator.cc:1095] InUse at 7f1665600000 of size 3403776 next 10\n",
      "2023-08-03 17:33:53.018526: I tensorflow/tsl/framework/bfc_allocator.cc:1095] InUse at 7f166593f000 of size 4984832 next 18446744073709551615\n",
      "2023-08-03 17:33:53.018540: I tensorflow/tsl/framework/bfc_allocator.cc:1100]      Summary of in-use Chunks by size: \n",
      "2023-08-03 17:33:53.018557: I tensorflow/tsl/framework/bfc_allocator.cc:1103] 26 Chunks of size 256 totalling 6.5KiB\n",
      "2023-08-03 17:33:53.018572: I tensorflow/tsl/framework/bfc_allocator.cc:1103] 2 Chunks of size 512 totalling 1.0KiB\n",
      "2023-08-03 17:33:53.018593: I tensorflow/tsl/framework/bfc_allocator.cc:1103] 1 Chunks of size 1024 totalling 1.0KiB\n",
      "2023-08-03 17:33:53.018620: I tensorflow/tsl/framework/bfc_allocator.cc:1103] 1 Chunks of size 1280 totalling 1.2KiB\n",
      "2023-08-03 17:33:53.018648: I tensorflow/tsl/framework/bfc_allocator.cc:1103] 2 Chunks of size 2048 totalling 4.0KiB\n",
      "2023-08-03 17:33:53.018676: I tensorflow/tsl/framework/bfc_allocator.cc:1103] 1 Chunks of size 22528 totalling 22.0KiB\n",
      "2023-08-03 17:33:53.018707: I tensorflow/tsl/framework/bfc_allocator.cc:1103] 1 Chunks of size 32768 totalling 32.0KiB\n",
      "2023-08-03 17:33:53.018737: I tensorflow/tsl/framework/bfc_allocator.cc:1103] 1 Chunks of size 65536 totalling 64.0KiB\n",
      "2023-08-03 17:33:53.018770: I tensorflow/tsl/framework/bfc_allocator.cc:1103] 1 Chunks of size 114688 totalling 112.0KiB\n",
      "2023-08-03 17:33:53.018797: I tensorflow/tsl/framework/bfc_allocator.cc:1103] 1 Chunks of size 131072 totalling 128.0KiB\n",
      "2023-08-03 17:33:53.018819: I tensorflow/tsl/framework/bfc_allocator.cc:1103] 1 Chunks of size 258048 totalling 252.0KiB\n",
      "2023-08-03 17:33:53.018841: I tensorflow/tsl/framework/bfc_allocator.cc:1103] 3 Chunks of size 262144 totalling 768.0KiB\n",
      "2023-08-03 17:33:53.018870: I tensorflow/tsl/framework/bfc_allocator.cc:1103] 1 Chunks of size 521216 totalling 509.0KiB\n",
      "2023-08-03 17:33:53.018898: I tensorflow/tsl/framework/bfc_allocator.cc:1103] 1 Chunks of size 3403776 totalling 3.25MiB\n",
      "2023-08-03 17:33:53.018924: I tensorflow/tsl/framework/bfc_allocator.cc:1103] 1 Chunks of size 4194304 totalling 4.00MiB\n",
      "2023-08-03 17:33:53.018952: I tensorflow/tsl/framework/bfc_allocator.cc:1103] 1 Chunks of size 4984832 totalling 4.75MiB\n",
      "2023-08-03 17:33:53.018977: I tensorflow/tsl/framework/bfc_allocator.cc:1103] 1 Chunks of size 1809448960 totalling 1.68GiB\n",
      "2023-08-03 17:33:53.019007: I tensorflow/tsl/framework/bfc_allocator.cc:1107] Sum Total of in-use chunks: 1.70GiB\n",
      "2023-08-03 17:33:53.019029: I tensorflow/tsl/framework/bfc_allocator.cc:1109] Total bytes in pool: 1824129024 memory_limit_: 1824129024 available bytes: 0 curr_region_allocation_bytes_: 2147483648\n",
      "2023-08-03 17:33:53.019063: I tensorflow/tsl/framework/bfc_allocator.cc:1114] Stats: \n",
      "Limit:                      1824129024\n",
      "InUse:                      1823978240\n",
      "MaxInUse:                   1823978240\n",
      "NumAllocs:                         119\n",
      "MaxAllocSize:               1809448960\n",
      "Reserved:                            0\n",
      "PeakReserved:                        0\n",
      "LargestFreeBlock:                    0\n",
      "\n",
      "2023-08-03 17:33:53.019106: W tensorflow/tsl/framework/bfc_allocator.cc:497] **************************************************************************************************x*\n",
      "2023-08-03 17:33:53.019166: W tensorflow/core/framework/op_kernel.cc:1828] OP_REQUIRES failed at constant_op.cc:175 : RESOURCE_EXHAUSTED: OOM when allocating tensor with shape[128,512] and type float on /job:localhost/replica:0/task:0/device:GPU:0 by allocator GPU_0_bfc\n"
     ]
    },
    {
     "ename": "ResourceExhaustedError",
     "evalue": "in user code:\n\n    File \"/home/kristian/miniconda3/lib/python3.10/site-packages/keras/src/engine/training.py\", line 1338, in train_function  *\n        return step_function(self, iterator)\n    File \"/home/kristian/miniconda3/lib/python3.10/site-packages/keras/src/engine/training.py\", line 1322, in step_function  **\n        outputs = model.distribute_strategy.run(run_step, args=(data,))\n    File \"/home/kristian/miniconda3/lib/python3.10/site-packages/keras/src/engine/training.py\", line 1303, in run_step  **\n        outputs = model.train_step(data)\n    File \"/home/kristian/miniconda3/lib/python3.10/site-packages/keras/src/engine/training.py\", line 1084, in train_step\n        self.optimizer.minimize(loss, self.trainable_variables, tape=tape)\n    File \"/home/kristian/miniconda3/lib/python3.10/site-packages/keras/src/optimizers/optimizer.py\", line 544, in minimize\n        self.apply_gradients(grads_and_vars)\n    File \"/home/kristian/miniconda3/lib/python3.10/site-packages/keras/src/optimizers/optimizer.py\", line 1230, in apply_gradients\n        return super().apply_gradients(grads_and_vars, name=name)\n    File \"/home/kristian/miniconda3/lib/python3.10/site-packages/keras/src/optimizers/optimizer.py\", line 638, in apply_gradients\n        self.build(trainable_variables)\n    File \"/home/kristian/miniconda3/lib/python3.10/site-packages/keras/src/optimizers/adam.py\", line 148, in build\n        self.add_variable_from_reference(\n    File \"/home/kristian/miniconda3/lib/python3.10/site-packages/keras/src/optimizers/optimizer.py\", line 1135, in add_variable_from_reference\n        return super().add_variable_from_reference(\n    File \"/home/kristian/miniconda3/lib/python3.10/site-packages/keras/src/optimizers/optimizer.py\", line 508, in add_variable_from_reference\n        initial_value = tf.zeros(\n\n    ResourceExhaustedError: {{function_node __wrapped__Fill_device_/job:localhost/replica:0/task:0/device:GPU:0}} OOM when allocating tensor with shape[128,512] and type float on /job:localhost/replica:0/task:0/device:GPU:0 by allocator GPU_0_bfc [Op:Fill] name: \n",
     "output_type": "error",
     "traceback": [
      "\u001b[0;31m---------------------------------------------------------------------------\u001b[0m",
      "\u001b[0;31mResourceExhaustedError\u001b[0m                    Traceback (most recent call last)",
      "Cell \u001b[0;32mIn[20], line 1\u001b[0m\n\u001b[0;32m----> 1\u001b[0m \u001b[43mmodel\u001b[49m\u001b[38;5;241;43m.\u001b[39;49m\u001b[43mfit\u001b[49m\u001b[43m(\u001b[49m\u001b[43mX_train\u001b[49m\u001b[43m,\u001b[49m\u001b[43m \u001b[49m\u001b[43mY_train\u001b[49m\u001b[43m,\u001b[49m\u001b[43m \u001b[49m\u001b[43mepochs\u001b[49m\u001b[38;5;241;43m=\u001b[39;49m\u001b[38;5;241;43m20\u001b[39;49m\u001b[43m,\u001b[49m\u001b[43m \u001b[49m\u001b[43mcallbacks\u001b[49m\u001b[38;5;241;43m=\u001b[39;49m\u001b[43m[\u001b[49m\u001b[43mtb_callback\u001b[49m\u001b[43m]\u001b[49m\u001b[43m,\u001b[49m\u001b[43mbatch_size\u001b[49m\u001b[43m \u001b[49m\u001b[38;5;241;43m=\u001b[39;49m\u001b[38;5;241;43m2\u001b[39;49m\u001b[43m)\u001b[49m\n",
      "File \u001b[0;32m~/miniconda3/lib/python3.10/site-packages/keras/src/utils/traceback_utils.py:70\u001b[0m, in \u001b[0;36mfilter_traceback.<locals>.error_handler\u001b[0;34m(*args, **kwargs)\u001b[0m\n\u001b[1;32m     67\u001b[0m     filtered_tb \u001b[38;5;241m=\u001b[39m _process_traceback_frames(e\u001b[38;5;241m.\u001b[39m__traceback__)\n\u001b[1;32m     68\u001b[0m     \u001b[38;5;66;03m# To get the full stack trace, call:\u001b[39;00m\n\u001b[1;32m     69\u001b[0m     \u001b[38;5;66;03m# `tf.debugging.disable_traceback_filtering()`\u001b[39;00m\n\u001b[0;32m---> 70\u001b[0m     \u001b[38;5;28;01mraise\u001b[39;00m e\u001b[38;5;241m.\u001b[39mwith_traceback(filtered_tb) \u001b[38;5;28;01mfrom\u001b[39;00m \u001b[38;5;28;01mNone\u001b[39;00m\n\u001b[1;32m     71\u001b[0m \u001b[38;5;28;01mfinally\u001b[39;00m:\n\u001b[1;32m     72\u001b[0m     \u001b[38;5;28;01mdel\u001b[39;00m filtered_tb\n",
      "File \u001b[0;32m~/miniconda3/lib/python3.10/site-packages/tensorflow/python/eager/polymorphic_function/autograph_util.py:52\u001b[0m, in \u001b[0;36mpy_func_from_autograph.<locals>.autograph_handler\u001b[0;34m(*args, **kwargs)\u001b[0m\n\u001b[1;32m     50\u001b[0m \u001b[38;5;28;01mexcept\u001b[39;00m \u001b[38;5;167;01mException\u001b[39;00m \u001b[38;5;28;01mas\u001b[39;00m e:  \u001b[38;5;66;03m# pylint:disable=broad-except\u001b[39;00m\n\u001b[1;32m     51\u001b[0m   \u001b[38;5;28;01mif\u001b[39;00m \u001b[38;5;28mhasattr\u001b[39m(e, \u001b[38;5;124m\"\u001b[39m\u001b[38;5;124mag_error_metadata\u001b[39m\u001b[38;5;124m\"\u001b[39m):\n\u001b[0;32m---> 52\u001b[0m     \u001b[38;5;28;01mraise\u001b[39;00m e\u001b[38;5;241m.\u001b[39mag_error_metadata\u001b[38;5;241m.\u001b[39mto_exception(e)\n\u001b[1;32m     53\u001b[0m   \u001b[38;5;28;01melse\u001b[39;00m:\n\u001b[1;32m     54\u001b[0m     \u001b[38;5;28;01mraise\u001b[39;00m\n",
      "\u001b[0;31mResourceExhaustedError\u001b[0m: in user code:\n\n    File \"/home/kristian/miniconda3/lib/python3.10/site-packages/keras/src/engine/training.py\", line 1338, in train_function  *\n        return step_function(self, iterator)\n    File \"/home/kristian/miniconda3/lib/python3.10/site-packages/keras/src/engine/training.py\", line 1322, in step_function  **\n        outputs = model.distribute_strategy.run(run_step, args=(data,))\n    File \"/home/kristian/miniconda3/lib/python3.10/site-packages/keras/src/engine/training.py\", line 1303, in run_step  **\n        outputs = model.train_step(data)\n    File \"/home/kristian/miniconda3/lib/python3.10/site-packages/keras/src/engine/training.py\", line 1084, in train_step\n        self.optimizer.minimize(loss, self.trainable_variables, tape=tape)\n    File \"/home/kristian/miniconda3/lib/python3.10/site-packages/keras/src/optimizers/optimizer.py\", line 544, in minimize\n        self.apply_gradients(grads_and_vars)\n    File \"/home/kristian/miniconda3/lib/python3.10/site-packages/keras/src/optimizers/optimizer.py\", line 1230, in apply_gradients\n        return super().apply_gradients(grads_and_vars, name=name)\n    File \"/home/kristian/miniconda3/lib/python3.10/site-packages/keras/src/optimizers/optimizer.py\", line 638, in apply_gradients\n        self.build(trainable_variables)\n    File \"/home/kristian/miniconda3/lib/python3.10/site-packages/keras/src/optimizers/adam.py\", line 148, in build\n        self.add_variable_from_reference(\n    File \"/home/kristian/miniconda3/lib/python3.10/site-packages/keras/src/optimizers/optimizer.py\", line 1135, in add_variable_from_reference\n        return super().add_variable_from_reference(\n    File \"/home/kristian/miniconda3/lib/python3.10/site-packages/keras/src/optimizers/optimizer.py\", line 508, in add_variable_from_reference\n        initial_value = tf.zeros(\n\n    ResourceExhaustedError: {{function_node __wrapped__Fill_device_/job:localhost/replica:0/task:0/device:GPU:0}} OOM when allocating tensor with shape[128,512] and type float on /job:localhost/replica:0/task:0/device:GPU:0 by allocator GPU_0_bfc [Op:Fill] name: \n"
     ]
    }
   ],
   "source": [
    "model.fit(X_train, Y_train, epochs=20, callbacks=[tb_callback],batch_size =8)"
   ]
  },
  {
   "cell_type": "code",
   "execution_count": 24,
   "id": "4afb1613",
   "metadata": {
    "ExecuteTime": {
     "end_time": "2023-08-03T14:59:45.843106Z",
     "start_time": "2023-08-03T14:59:45.437835Z"
    }
   },
   "outputs": [
    {
     "ename": "SyntaxError",
     "evalue": "invalid syntax (2932272115.py, line 1)",
     "output_type": "error",
     "traceback": [
      "\u001b[0;36m  Cell \u001b[0;32mIn[24], line 1\u001b[0;36m\u001b[0m\n\u001b[0;31m    for i in $(sudo lsof /dev/nvidia | grep python | awk '{print $2}' | sort -u); do sudo kill -9 $i; done\u001b[0m\n\u001b[0m             ^\u001b[0m\n\u001b[0;31mSyntaxError\u001b[0m\u001b[0;31m:\u001b[0m invalid syntax\n"
     ]
    }
   ],
   "source": []
  },
  {
   "cell_type": "code",
   "execution_count": 20,
   "id": "8b4a8838",
   "metadata": {
    "ExecuteTime": {
     "end_time": "2023-08-03T14:13:58.764713Z",
     "start_time": "2023-08-03T14:13:50.452546Z"
    }
   },
   "outputs": [
    {
     "name": "stderr",
     "output_type": "stream",
     "text": [
      "2023-08-03 15:13:51.601746: W tensorflow/tsl/framework/cpu_allocator_impl.cc:83] Allocation of 1584138624 exceeds 10% of free system memory.\n"
     ]
    },
    {
     "name": "stdout",
     "output_type": "stream",
     "text": [
      "Epoch 1/20\n"
     ]
    },
    {
     "name": "stderr",
     "output_type": "stream",
     "text": [
      "2023-08-03 15:13:58.156817: W tensorflow/core/framework/op_kernel.cc:1828] OP_REQUIRES failed at xla_ops.cc:444 : INVALID_ARGUMENT: Trying to access resource Resource-17-at-0x9a1e600 (defined @ /home/kristian/miniconda3/lib/python3.10/site-packages/keras/src/engine/base_layer_utils.py:137) located in device /job:localhost/replica:0/task:0/device:GPU:0 from device /job:localhost/replica:0/task:0/device:CPU:0\n",
      " Cf. https://www.tensorflow.org/xla/known_issues#tfvariable_on_a_different_device\n",
      "2023-08-03 15:13:58.156864: W tensorflow/core/framework/op_kernel.cc:1828] OP_REQUIRES failed at xla_ops.cc:444 : INVALID_ARGUMENT: Trying to access resource Resource-16-at-0x9a18cb0 (defined @ /home/kristian/miniconda3/lib/python3.10/site-packages/keras/src/engine/base_layer_utils.py:137) located in device /job:localhost/replica:0/task:0/device:GPU:0 from device /job:localhost/replica:0/task:0/device:CPU:0\n",
      " Cf. https://www.tensorflow.org/xla/known_issues#tfvariable_on_a_different_device\n",
      "2023-08-03 15:13:58.156913: W tensorflow/core/framework/op_kernel.cc:1828] OP_REQUIRES failed at xla_ops.cc:444 : INVALID_ARGUMENT: Trying to access resource Resource-15-at-0x99e7720 (defined @ /home/kristian/miniconda3/lib/python3.10/site-packages/keras/src/engine/base_layer_utils.py:137) located in device /job:localhost/replica:0/task:0/device:GPU:0 from device /job:localhost/replica:0/task:0/device:CPU:0\n",
      " Cf. https://www.tensorflow.org/xla/known_issues#tfvariable_on_a_different_device\n",
      "2023-08-03 15:13:58.156960: W tensorflow/core/framework/op_kernel.cc:1828] OP_REQUIRES failed at xla_ops.cc:444 : INVALID_ARGUMENT: Trying to access resource Resource-14-at-0x99dc360 (defined @ /home/kristian/miniconda3/lib/python3.10/site-packages/keras/src/engine/base_layer_utils.py:137) located in device /job:localhost/replica:0/task:0/device:GPU:0 from device /job:localhost/replica:0/task:0/device:CPU:0\n",
      " Cf. https://www.tensorflow.org/xla/known_issues#tfvariable_on_a_different_device\n",
      "2023-08-03 15:13:58.156996: I tensorflow/core/framework/local_rendezvous.cc:405] Local rendezvous recv item cancelled. Key hash: 11565657073271605270\n",
      "2023-08-03 15:13:58.157017: W tensorflow/core/framework/op_kernel.cc:1828] OP_REQUIRES failed at xla_ops.cc:444 : INVALID_ARGUMENT: Trying to access resource Resource-13-at-0x99a9ff0 (defined @ /home/kristian/miniconda3/lib/python3.10/site-packages/keras/src/engine/base_layer_utils.py:137) located in device /job:localhost/replica:0/task:0/device:GPU:0 from device /job:localhost/replica:0/task:0/device:CPU:0\n",
      " Cf. https://www.tensorflow.org/xla/known_issues#tfvariable_on_a_different_device\n",
      "2023-08-03 15:13:58.157032: W tensorflow/core/framework/op_kernel.cc:1828] OP_REQUIRES failed at xla_ops.cc:444 : INVALID_ARGUMENT: Trying to access resource Resource-12-at-0x999cd60 (defined @ /home/kristian/miniconda3/lib/python3.10/site-packages/keras/src/engine/base_layer_utils.py:137) located in device /job:localhost/replica:0/task:0/device:GPU:0 from device /job:localhost/replica:0/task:0/device:CPU:0\n",
      " Cf. https://www.tensorflow.org/xla/known_issues#tfvariable_on_a_different_device\n",
      "2023-08-03 15:13:58.157048: I tensorflow/core/framework/local_rendezvous.cc:405] Local rendezvous recv item cancelled. Key hash: 17164707960672776583\n",
      "2023-08-03 15:13:58.157066: I tensorflow/core/framework/local_rendezvous.cc:405] Local rendezvous recv item cancelled. Key hash: 4753026724946392353\n",
      "2023-08-03 15:13:58.157080: I tensorflow/core/framework/local_rendezvous.cc:405] Local rendezvous recv item cancelled. Key hash: 7349820435146587374\n",
      "2023-08-03 15:13:58.157091: I tensorflow/core/framework/local_rendezvous.cc:405] Local rendezvous recv item cancelled. Key hash: 7705518041242737940\n",
      "2023-08-03 15:13:58.157113: I tensorflow/core/framework/local_rendezvous.cc:405] Local rendezvous recv item cancelled. Key hash: 14695272020905233794\n"
     ]
    },
    {
     "ename": "InvalidArgumentError",
     "evalue": "Graph execution error:\n\nDetected at node 'Adam/StatefulPartitionedCall_14' defined at (most recent call last):\n    File \"/home/kristian/miniconda3/lib/python3.10/runpy.py\", line 196, in _run_module_as_main\n      return _run_code(code, main_globals, None,\n    File \"/home/kristian/miniconda3/lib/python3.10/runpy.py\", line 86, in _run_code\n      exec(code, run_globals)\n    File \"/home/kristian/miniconda3/lib/python3.10/site-packages/ipykernel_launcher.py\", line 17, in <module>\n      app.launch_new_instance()\n    File \"/home/kristian/miniconda3/lib/python3.10/site-packages/traitlets/config/application.py\", line 992, in launch_instance\n      app.start()\n    File \"/home/kristian/miniconda3/lib/python3.10/site-packages/ipykernel/kernelapp.py\", line 711, in start\n      self.io_loop.start()\n    File \"/home/kristian/miniconda3/lib/python3.10/site-packages/tornado/platform/asyncio.py\", line 215, in start\n      self.asyncio_loop.run_forever()\n    File \"/home/kristian/miniconda3/lib/python3.10/asyncio/base_events.py\", line 603, in run_forever\n      self._run_once()\n    File \"/home/kristian/miniconda3/lib/python3.10/asyncio/base_events.py\", line 1909, in _run_once\n      handle._run()\n    File \"/home/kristian/miniconda3/lib/python3.10/asyncio/events.py\", line 80, in _run\n      self._context.run(self._callback, *self._args)\n    File \"/home/kristian/miniconda3/lib/python3.10/site-packages/ipykernel/kernelbase.py\", line 510, in dispatch_queue\n      await self.process_one()\n    File \"/home/kristian/miniconda3/lib/python3.10/site-packages/ipykernel/kernelbase.py\", line 499, in process_one\n      await dispatch(*args)\n    File \"/home/kristian/miniconda3/lib/python3.10/site-packages/ipykernel/kernelbase.py\", line 406, in dispatch_shell\n      await result\n    File \"/home/kristian/miniconda3/lib/python3.10/site-packages/ipykernel/kernelbase.py\", line 729, in execute_request\n      reply_content = await reply_content\n    File \"/home/kristian/miniconda3/lib/python3.10/site-packages/ipykernel/ipkernel.py\", line 411, in do_execute\n      res = shell.run_cell(\n    File \"/home/kristian/miniconda3/lib/python3.10/site-packages/ipykernel/zmqshell.py\", line 531, in run_cell\n      return super().run_cell(*args, **kwargs)\n    File \"/home/kristian/miniconda3/lib/python3.10/site-packages/IPython/core/interactiveshell.py\", line 3006, in run_cell\n      result = self._run_cell(\n    File \"/home/kristian/miniconda3/lib/python3.10/site-packages/IPython/core/interactiveshell.py\", line 3061, in _run_cell\n      result = runner(coro)\n    File \"/home/kristian/miniconda3/lib/python3.10/site-packages/IPython/core/async_helpers.py\", line 129, in _pseudo_sync_runner\n      coro.send(None)\n    File \"/home/kristian/miniconda3/lib/python3.10/site-packages/IPython/core/interactiveshell.py\", line 3266, in run_cell_async\n      has_raised = await self.run_ast_nodes(code_ast.body, cell_name,\n    File \"/home/kristian/miniconda3/lib/python3.10/site-packages/IPython/core/interactiveshell.py\", line 3445, in run_ast_nodes\n      if await self.run_code(code, result, async_=asy):\n    File \"/home/kristian/miniconda3/lib/python3.10/site-packages/IPython/core/interactiveshell.py\", line 3505, in run_code\n      exec(code_obj, self.user_global_ns, self.user_ns)\n    File \"/tmp/ipykernel_79246/521328152.py\", line 2, in <module>\n      model.fit(X_train, Y_train, epochs=20, callbacks=[tb_callback],batch_size =64)\n    File \"/home/kristian/miniconda3/lib/python3.10/site-packages/keras/src/utils/traceback_utils.py\", line 65, in error_handler\n      return fn(*args, **kwargs)\n    File \"/home/kristian/miniconda3/lib/python3.10/site-packages/keras/src/engine/training.py\", line 1742, in fit\n      tmp_logs = self.train_function(iterator)\n    File \"/home/kristian/miniconda3/lib/python3.10/site-packages/keras/src/engine/training.py\", line 1338, in train_function\n      return step_function(self, iterator)\n    File \"/home/kristian/miniconda3/lib/python3.10/site-packages/keras/src/engine/training.py\", line 1322, in step_function\n      outputs = model.distribute_strategy.run(run_step, args=(data,))\n    File \"/home/kristian/miniconda3/lib/python3.10/site-packages/keras/src/engine/training.py\", line 1303, in run_step\n      outputs = model.train_step(data)\n    File \"/home/kristian/miniconda3/lib/python3.10/site-packages/keras/src/engine/training.py\", line 1084, in train_step\n      self.optimizer.minimize(loss, self.trainable_variables, tape=tape)\n    File \"/home/kristian/miniconda3/lib/python3.10/site-packages/keras/src/optimizers/optimizer.py\", line 544, in minimize\n      self.apply_gradients(grads_and_vars)\n    File \"/home/kristian/miniconda3/lib/python3.10/site-packages/keras/src/optimizers/optimizer.py\", line 1230, in apply_gradients\n      return super().apply_gradients(grads_and_vars, name=name)\n    File \"/home/kristian/miniconda3/lib/python3.10/site-packages/keras/src/optimizers/optimizer.py\", line 652, in apply_gradients\n      iteration = self._internal_apply_gradients(grads_and_vars)\n    File \"/home/kristian/miniconda3/lib/python3.10/site-packages/keras/src/optimizers/optimizer.py\", line 1260, in _internal_apply_gradients\n      return tf.__internal__.distribute.interim.maybe_merge_call(\n    File \"/home/kristian/miniconda3/lib/python3.10/site-packages/keras/src/optimizers/optimizer.py\", line 1352, in _distributed_apply_gradients_fn\n      distribution.extended.update(\n    File \"/home/kristian/miniconda3/lib/python3.10/site-packages/keras/src/optimizers/optimizer.py\", line 1347, in apply_grad_to_update_var\n      return self._update_step_xla(grad, var, id(self._var_key(var)))\nNode: 'Adam/StatefulPartitionedCall_14'\nDetected at node 'Adam/StatefulPartitionedCall_14' defined at (most recent call last):\n    File \"/home/kristian/miniconda3/lib/python3.10/runpy.py\", line 196, in _run_module_as_main\n      return _run_code(code, main_globals, None,\n    File \"/home/kristian/miniconda3/lib/python3.10/runpy.py\", line 86, in _run_code\n      exec(code, run_globals)\n    File \"/home/kristian/miniconda3/lib/python3.10/site-packages/ipykernel_launcher.py\", line 17, in <module>\n      app.launch_new_instance()\n    File \"/home/kristian/miniconda3/lib/python3.10/site-packages/traitlets/config/application.py\", line 992, in launch_instance\n      app.start()\n    File \"/home/kristian/miniconda3/lib/python3.10/site-packages/ipykernel/kernelapp.py\", line 711, in start\n      self.io_loop.start()\n    File \"/home/kristian/miniconda3/lib/python3.10/site-packages/tornado/platform/asyncio.py\", line 215, in start\n      self.asyncio_loop.run_forever()\n    File \"/home/kristian/miniconda3/lib/python3.10/asyncio/base_events.py\", line 603, in run_forever\n      self._run_once()\n    File \"/home/kristian/miniconda3/lib/python3.10/asyncio/base_events.py\", line 1909, in _run_once\n      handle._run()\n    File \"/home/kristian/miniconda3/lib/python3.10/asyncio/events.py\", line 80, in _run\n      self._context.run(self._callback, *self._args)\n    File \"/home/kristian/miniconda3/lib/python3.10/site-packages/ipykernel/kernelbase.py\", line 510, in dispatch_queue\n      await self.process_one()\n    File \"/home/kristian/miniconda3/lib/python3.10/site-packages/ipykernel/kernelbase.py\", line 499, in process_one\n      await dispatch(*args)\n    File \"/home/kristian/miniconda3/lib/python3.10/site-packages/ipykernel/kernelbase.py\", line 406, in dispatch_shell\n      await result\n    File \"/home/kristian/miniconda3/lib/python3.10/site-packages/ipykernel/kernelbase.py\", line 729, in execute_request\n      reply_content = await reply_content\n    File \"/home/kristian/miniconda3/lib/python3.10/site-packages/ipykernel/ipkernel.py\", line 411, in do_execute\n      res = shell.run_cell(\n    File \"/home/kristian/miniconda3/lib/python3.10/site-packages/ipykernel/zmqshell.py\", line 531, in run_cell\n      return super().run_cell(*args, **kwargs)\n    File \"/home/kristian/miniconda3/lib/python3.10/site-packages/IPython/core/interactiveshell.py\", line 3006, in run_cell\n      result = self._run_cell(\n    File \"/home/kristian/miniconda3/lib/python3.10/site-packages/IPython/core/interactiveshell.py\", line 3061, in _run_cell\n      result = runner(coro)\n    File \"/home/kristian/miniconda3/lib/python3.10/site-packages/IPython/core/async_helpers.py\", line 129, in _pseudo_sync_runner\n      coro.send(None)\n    File \"/home/kristian/miniconda3/lib/python3.10/site-packages/IPython/core/interactiveshell.py\", line 3266, in run_cell_async\n      has_raised = await self.run_ast_nodes(code_ast.body, cell_name,\n    File \"/home/kristian/miniconda3/lib/python3.10/site-packages/IPython/core/interactiveshell.py\", line 3445, in run_ast_nodes\n      if await self.run_code(code, result, async_=asy):\n    File \"/home/kristian/miniconda3/lib/python3.10/site-packages/IPython/core/interactiveshell.py\", line 3505, in run_code\n      exec(code_obj, self.user_global_ns, self.user_ns)\n    File \"/tmp/ipykernel_79246/521328152.py\", line 2, in <module>\n      model.fit(X_train, Y_train, epochs=20, callbacks=[tb_callback],batch_size =64)\n    File \"/home/kristian/miniconda3/lib/python3.10/site-packages/keras/src/utils/traceback_utils.py\", line 65, in error_handler\n      return fn(*args, **kwargs)\n    File \"/home/kristian/miniconda3/lib/python3.10/site-packages/keras/src/engine/training.py\", line 1742, in fit\n      tmp_logs = self.train_function(iterator)\n    File \"/home/kristian/miniconda3/lib/python3.10/site-packages/keras/src/engine/training.py\", line 1338, in train_function\n      return step_function(self, iterator)\n    File \"/home/kristian/miniconda3/lib/python3.10/site-packages/keras/src/engine/training.py\", line 1322, in step_function\n      outputs = model.distribute_strategy.run(run_step, args=(data,))\n    File \"/home/kristian/miniconda3/lib/python3.10/site-packages/keras/src/engine/training.py\", line 1303, in run_step\n      outputs = model.train_step(data)\n    File \"/home/kristian/miniconda3/lib/python3.10/site-packages/keras/src/engine/training.py\", line 1084, in train_step\n      self.optimizer.minimize(loss, self.trainable_variables, tape=tape)\n    File \"/home/kristian/miniconda3/lib/python3.10/site-packages/keras/src/optimizers/optimizer.py\", line 544, in minimize\n      self.apply_gradients(grads_and_vars)\n    File \"/home/kristian/miniconda3/lib/python3.10/site-packages/keras/src/optimizers/optimizer.py\", line 1230, in apply_gradients\n      return super().apply_gradients(grads_and_vars, name=name)\n    File \"/home/kristian/miniconda3/lib/python3.10/site-packages/keras/src/optimizers/optimizer.py\", line 652, in apply_gradients\n      iteration = self._internal_apply_gradients(grads_and_vars)\n    File \"/home/kristian/miniconda3/lib/python3.10/site-packages/keras/src/optimizers/optimizer.py\", line 1260, in _internal_apply_gradients\n      return tf.__internal__.distribute.interim.maybe_merge_call(\n    File \"/home/kristian/miniconda3/lib/python3.10/site-packages/keras/src/optimizers/optimizer.py\", line 1352, in _distributed_apply_gradients_fn\n      distribution.extended.update(\n    File \"/home/kristian/miniconda3/lib/python3.10/site-packages/keras/src/optimizers/optimizer.py\", line 1347, in apply_grad_to_update_var\n      return self._update_step_xla(grad, var, id(self._var_key(var)))\nNode: 'Adam/StatefulPartitionedCall_14'\n2 root error(s) found.\n  (0) INVALID_ARGUMENT:  Trying to access resource Resource-17-at-0x9a1e600 (defined @ /home/kristian/miniconda3/lib/python3.10/site-packages/keras/src/engine/base_layer_utils.py:137) located in device /job:localhost/replica:0/task:0/device:GPU:0 from device /job:localhost/replica:0/task:0/device:CPU:0\n Cf. https://www.tensorflow.org/xla/known_issues#tfvariable_on_a_different_device\n\t [[{{node Adam/StatefulPartitionedCall_14}}]]\n\t [[GroupCrossDeviceControlEdges_0/Adam/AssignAddVariableOp/_247]]\n  (1) INVALID_ARGUMENT:  Trying to access resource Resource-17-at-0x9a1e600 (defined @ /home/kristian/miniconda3/lib/python3.10/site-packages/keras/src/engine/base_layer_utils.py:137) located in device /job:localhost/replica:0/task:0/device:GPU:0 from device /job:localhost/replica:0/task:0/device:CPU:0\n Cf. https://www.tensorflow.org/xla/known_issues#tfvariable_on_a_different_device\n\t [[{{node Adam/StatefulPartitionedCall_14}}]]\n0 successful operations.\n0 derived errors ignored. [Op:__inference_train_function_6462]",
     "output_type": "error",
     "traceback": [
      "\u001b[0;31m---------------------------------------------------------------------------\u001b[0m",
      "\u001b[0;31mInvalidArgumentError\u001b[0m                      Traceback (most recent call last)",
      "Cell \u001b[0;32mIn[20], line 2\u001b[0m\n\u001b[1;32m      1\u001b[0m \u001b[38;5;28;01mwith\u001b[39;00m tf\u001b[38;5;241m.\u001b[39mdevice(\u001b[38;5;124m'\u001b[39m\u001b[38;5;124m/cpu:0\u001b[39m\u001b[38;5;124m'\u001b[39m):\n\u001b[0;32m----> 2\u001b[0m     \u001b[43mmodel\u001b[49m\u001b[38;5;241;43m.\u001b[39;49m\u001b[43mfit\u001b[49m\u001b[43m(\u001b[49m\u001b[43mX_train\u001b[49m\u001b[43m,\u001b[49m\u001b[43m \u001b[49m\u001b[43mY_train\u001b[49m\u001b[43m,\u001b[49m\u001b[43m \u001b[49m\u001b[43mepochs\u001b[49m\u001b[38;5;241;43m=\u001b[39;49m\u001b[38;5;241;43m20\u001b[39;49m\u001b[43m,\u001b[49m\u001b[43m \u001b[49m\u001b[43mcallbacks\u001b[49m\u001b[38;5;241;43m=\u001b[39;49m\u001b[43m[\u001b[49m\u001b[43mtb_callback\u001b[49m\u001b[43m]\u001b[49m\u001b[43m,\u001b[49m\u001b[43mbatch_size\u001b[49m\u001b[43m \u001b[49m\u001b[38;5;241;43m=\u001b[39;49m\u001b[38;5;241;43m64\u001b[39;49m\u001b[43m)\u001b[49m\n",
      "File \u001b[0;32m~/miniconda3/lib/python3.10/site-packages/keras/src/utils/traceback_utils.py:70\u001b[0m, in \u001b[0;36mfilter_traceback.<locals>.error_handler\u001b[0;34m(*args, **kwargs)\u001b[0m\n\u001b[1;32m     67\u001b[0m     filtered_tb \u001b[38;5;241m=\u001b[39m _process_traceback_frames(e\u001b[38;5;241m.\u001b[39m__traceback__)\n\u001b[1;32m     68\u001b[0m     \u001b[38;5;66;03m# To get the full stack trace, call:\u001b[39;00m\n\u001b[1;32m     69\u001b[0m     \u001b[38;5;66;03m# `tf.debugging.disable_traceback_filtering()`\u001b[39;00m\n\u001b[0;32m---> 70\u001b[0m     \u001b[38;5;28;01mraise\u001b[39;00m e\u001b[38;5;241m.\u001b[39mwith_traceback(filtered_tb) \u001b[38;5;28;01mfrom\u001b[39;00m \u001b[38;5;28;01mNone\u001b[39;00m\n\u001b[1;32m     71\u001b[0m \u001b[38;5;28;01mfinally\u001b[39;00m:\n\u001b[1;32m     72\u001b[0m     \u001b[38;5;28;01mdel\u001b[39;00m filtered_tb\n",
      "File \u001b[0;32m~/miniconda3/lib/python3.10/site-packages/tensorflow/python/eager/execute.py:53\u001b[0m, in \u001b[0;36mquick_execute\u001b[0;34m(op_name, num_outputs, inputs, attrs, ctx, name)\u001b[0m\n\u001b[1;32m     51\u001b[0m \u001b[38;5;28;01mtry\u001b[39;00m:\n\u001b[1;32m     52\u001b[0m   ctx\u001b[38;5;241m.\u001b[39mensure_initialized()\n\u001b[0;32m---> 53\u001b[0m   tensors \u001b[38;5;241m=\u001b[39m pywrap_tfe\u001b[38;5;241m.\u001b[39mTFE_Py_Execute(ctx\u001b[38;5;241m.\u001b[39m_handle, device_name, op_name,\n\u001b[1;32m     54\u001b[0m                                       inputs, attrs, num_outputs)\n\u001b[1;32m     55\u001b[0m \u001b[38;5;28;01mexcept\u001b[39;00m core\u001b[38;5;241m.\u001b[39m_NotOkStatusException \u001b[38;5;28;01mas\u001b[39;00m e:\n\u001b[1;32m     56\u001b[0m   \u001b[38;5;28;01mif\u001b[39;00m name \u001b[38;5;129;01mis\u001b[39;00m \u001b[38;5;129;01mnot\u001b[39;00m \u001b[38;5;28;01mNone\u001b[39;00m:\n",
      "\u001b[0;31mInvalidArgumentError\u001b[0m: Graph execution error:\n\nDetected at node 'Adam/StatefulPartitionedCall_14' defined at (most recent call last):\n    File \"/home/kristian/miniconda3/lib/python3.10/runpy.py\", line 196, in _run_module_as_main\n      return _run_code(code, main_globals, None,\n    File \"/home/kristian/miniconda3/lib/python3.10/runpy.py\", line 86, in _run_code\n      exec(code, run_globals)\n    File \"/home/kristian/miniconda3/lib/python3.10/site-packages/ipykernel_launcher.py\", line 17, in <module>\n      app.launch_new_instance()\n    File \"/home/kristian/miniconda3/lib/python3.10/site-packages/traitlets/config/application.py\", line 992, in launch_instance\n      app.start()\n    File \"/home/kristian/miniconda3/lib/python3.10/site-packages/ipykernel/kernelapp.py\", line 711, in start\n      self.io_loop.start()\n    File \"/home/kristian/miniconda3/lib/python3.10/site-packages/tornado/platform/asyncio.py\", line 215, in start\n      self.asyncio_loop.run_forever()\n    File \"/home/kristian/miniconda3/lib/python3.10/asyncio/base_events.py\", line 603, in run_forever\n      self._run_once()\n    File \"/home/kristian/miniconda3/lib/python3.10/asyncio/base_events.py\", line 1909, in _run_once\n      handle._run()\n    File \"/home/kristian/miniconda3/lib/python3.10/asyncio/events.py\", line 80, in _run\n      self._context.run(self._callback, *self._args)\n    File \"/home/kristian/miniconda3/lib/python3.10/site-packages/ipykernel/kernelbase.py\", line 510, in dispatch_queue\n      await self.process_one()\n    File \"/home/kristian/miniconda3/lib/python3.10/site-packages/ipykernel/kernelbase.py\", line 499, in process_one\n      await dispatch(*args)\n    File \"/home/kristian/miniconda3/lib/python3.10/site-packages/ipykernel/kernelbase.py\", line 406, in dispatch_shell\n      await result\n    File \"/home/kristian/miniconda3/lib/python3.10/site-packages/ipykernel/kernelbase.py\", line 729, in execute_request\n      reply_content = await reply_content\n    File \"/home/kristian/miniconda3/lib/python3.10/site-packages/ipykernel/ipkernel.py\", line 411, in do_execute\n      res = shell.run_cell(\n    File \"/home/kristian/miniconda3/lib/python3.10/site-packages/ipykernel/zmqshell.py\", line 531, in run_cell\n      return super().run_cell(*args, **kwargs)\n    File \"/home/kristian/miniconda3/lib/python3.10/site-packages/IPython/core/interactiveshell.py\", line 3006, in run_cell\n      result = self._run_cell(\n    File \"/home/kristian/miniconda3/lib/python3.10/site-packages/IPython/core/interactiveshell.py\", line 3061, in _run_cell\n      result = runner(coro)\n    File \"/home/kristian/miniconda3/lib/python3.10/site-packages/IPython/core/async_helpers.py\", line 129, in _pseudo_sync_runner\n      coro.send(None)\n    File \"/home/kristian/miniconda3/lib/python3.10/site-packages/IPython/core/interactiveshell.py\", line 3266, in run_cell_async\n      has_raised = await self.run_ast_nodes(code_ast.body, cell_name,\n    File \"/home/kristian/miniconda3/lib/python3.10/site-packages/IPython/core/interactiveshell.py\", line 3445, in run_ast_nodes\n      if await self.run_code(code, result, async_=asy):\n    File \"/home/kristian/miniconda3/lib/python3.10/site-packages/IPython/core/interactiveshell.py\", line 3505, in run_code\n      exec(code_obj, self.user_global_ns, self.user_ns)\n    File \"/tmp/ipykernel_79246/521328152.py\", line 2, in <module>\n      model.fit(X_train, Y_train, epochs=20, callbacks=[tb_callback],batch_size =64)\n    File \"/home/kristian/miniconda3/lib/python3.10/site-packages/keras/src/utils/traceback_utils.py\", line 65, in error_handler\n      return fn(*args, **kwargs)\n    File \"/home/kristian/miniconda3/lib/python3.10/site-packages/keras/src/engine/training.py\", line 1742, in fit\n      tmp_logs = self.train_function(iterator)\n    File \"/home/kristian/miniconda3/lib/python3.10/site-packages/keras/src/engine/training.py\", line 1338, in train_function\n      return step_function(self, iterator)\n    File \"/home/kristian/miniconda3/lib/python3.10/site-packages/keras/src/engine/training.py\", line 1322, in step_function\n      outputs = model.distribute_strategy.run(run_step, args=(data,))\n    File \"/home/kristian/miniconda3/lib/python3.10/site-packages/keras/src/engine/training.py\", line 1303, in run_step\n      outputs = model.train_step(data)\n    File \"/home/kristian/miniconda3/lib/python3.10/site-packages/keras/src/engine/training.py\", line 1084, in train_step\n      self.optimizer.minimize(loss, self.trainable_variables, tape=tape)\n    File \"/home/kristian/miniconda3/lib/python3.10/site-packages/keras/src/optimizers/optimizer.py\", line 544, in minimize\n      self.apply_gradients(grads_and_vars)\n    File \"/home/kristian/miniconda3/lib/python3.10/site-packages/keras/src/optimizers/optimizer.py\", line 1230, in apply_gradients\n      return super().apply_gradients(grads_and_vars, name=name)\n    File \"/home/kristian/miniconda3/lib/python3.10/site-packages/keras/src/optimizers/optimizer.py\", line 652, in apply_gradients\n      iteration = self._internal_apply_gradients(grads_and_vars)\n    File \"/home/kristian/miniconda3/lib/python3.10/site-packages/keras/src/optimizers/optimizer.py\", line 1260, in _internal_apply_gradients\n      return tf.__internal__.distribute.interim.maybe_merge_call(\n    File \"/home/kristian/miniconda3/lib/python3.10/site-packages/keras/src/optimizers/optimizer.py\", line 1352, in _distributed_apply_gradients_fn\n      distribution.extended.update(\n    File \"/home/kristian/miniconda3/lib/python3.10/site-packages/keras/src/optimizers/optimizer.py\", line 1347, in apply_grad_to_update_var\n      return self._update_step_xla(grad, var, id(self._var_key(var)))\nNode: 'Adam/StatefulPartitionedCall_14'\nDetected at node 'Adam/StatefulPartitionedCall_14' defined at (most recent call last):\n    File \"/home/kristian/miniconda3/lib/python3.10/runpy.py\", line 196, in _run_module_as_main\n      return _run_code(code, main_globals, None,\n    File \"/home/kristian/miniconda3/lib/python3.10/runpy.py\", line 86, in _run_code\n      exec(code, run_globals)\n    File \"/home/kristian/miniconda3/lib/python3.10/site-packages/ipykernel_launcher.py\", line 17, in <module>\n      app.launch_new_instance()\n    File \"/home/kristian/miniconda3/lib/python3.10/site-packages/traitlets/config/application.py\", line 992, in launch_instance\n      app.start()\n    File \"/home/kristian/miniconda3/lib/python3.10/site-packages/ipykernel/kernelapp.py\", line 711, in start\n      self.io_loop.start()\n    File \"/home/kristian/miniconda3/lib/python3.10/site-packages/tornado/platform/asyncio.py\", line 215, in start\n      self.asyncio_loop.run_forever()\n    File \"/home/kristian/miniconda3/lib/python3.10/asyncio/base_events.py\", line 603, in run_forever\n      self._run_once()\n    File \"/home/kristian/miniconda3/lib/python3.10/asyncio/base_events.py\", line 1909, in _run_once\n      handle._run()\n    File \"/home/kristian/miniconda3/lib/python3.10/asyncio/events.py\", line 80, in _run\n      self._context.run(self._callback, *self._args)\n    File \"/home/kristian/miniconda3/lib/python3.10/site-packages/ipykernel/kernelbase.py\", line 510, in dispatch_queue\n      await self.process_one()\n    File \"/home/kristian/miniconda3/lib/python3.10/site-packages/ipykernel/kernelbase.py\", line 499, in process_one\n      await dispatch(*args)\n    File \"/home/kristian/miniconda3/lib/python3.10/site-packages/ipykernel/kernelbase.py\", line 406, in dispatch_shell\n      await result\n    File \"/home/kristian/miniconda3/lib/python3.10/site-packages/ipykernel/kernelbase.py\", line 729, in execute_request\n      reply_content = await reply_content\n    File \"/home/kristian/miniconda3/lib/python3.10/site-packages/ipykernel/ipkernel.py\", line 411, in do_execute\n      res = shell.run_cell(\n    File \"/home/kristian/miniconda3/lib/python3.10/site-packages/ipykernel/zmqshell.py\", line 531, in run_cell\n      return super().run_cell(*args, **kwargs)\n    File \"/home/kristian/miniconda3/lib/python3.10/site-packages/IPython/core/interactiveshell.py\", line 3006, in run_cell\n      result = self._run_cell(\n    File \"/home/kristian/miniconda3/lib/python3.10/site-packages/IPython/core/interactiveshell.py\", line 3061, in _run_cell\n      result = runner(coro)\n    File \"/home/kristian/miniconda3/lib/python3.10/site-packages/IPython/core/async_helpers.py\", line 129, in _pseudo_sync_runner\n      coro.send(None)\n    File \"/home/kristian/miniconda3/lib/python3.10/site-packages/IPython/core/interactiveshell.py\", line 3266, in run_cell_async\n      has_raised = await self.run_ast_nodes(code_ast.body, cell_name,\n    File \"/home/kristian/miniconda3/lib/python3.10/site-packages/IPython/core/interactiveshell.py\", line 3445, in run_ast_nodes\n      if await self.run_code(code, result, async_=asy):\n    File \"/home/kristian/miniconda3/lib/python3.10/site-packages/IPython/core/interactiveshell.py\", line 3505, in run_code\n      exec(code_obj, self.user_global_ns, self.user_ns)\n    File \"/tmp/ipykernel_79246/521328152.py\", line 2, in <module>\n      model.fit(X_train, Y_train, epochs=20, callbacks=[tb_callback],batch_size =64)\n    File \"/home/kristian/miniconda3/lib/python3.10/site-packages/keras/src/utils/traceback_utils.py\", line 65, in error_handler\n      return fn(*args, **kwargs)\n    File \"/home/kristian/miniconda3/lib/python3.10/site-packages/keras/src/engine/training.py\", line 1742, in fit\n      tmp_logs = self.train_function(iterator)\n    File \"/home/kristian/miniconda3/lib/python3.10/site-packages/keras/src/engine/training.py\", line 1338, in train_function\n      return step_function(self, iterator)\n    File \"/home/kristian/miniconda3/lib/python3.10/site-packages/keras/src/engine/training.py\", line 1322, in step_function\n      outputs = model.distribute_strategy.run(run_step, args=(data,))\n    File \"/home/kristian/miniconda3/lib/python3.10/site-packages/keras/src/engine/training.py\", line 1303, in run_step\n      outputs = model.train_step(data)\n    File \"/home/kristian/miniconda3/lib/python3.10/site-packages/keras/src/engine/training.py\", line 1084, in train_step\n      self.optimizer.minimize(loss, self.trainable_variables, tape=tape)\n    File \"/home/kristian/miniconda3/lib/python3.10/site-packages/keras/src/optimizers/optimizer.py\", line 544, in minimize\n      self.apply_gradients(grads_and_vars)\n    File \"/home/kristian/miniconda3/lib/python3.10/site-packages/keras/src/optimizers/optimizer.py\", line 1230, in apply_gradients\n      return super().apply_gradients(grads_and_vars, name=name)\n    File \"/home/kristian/miniconda3/lib/python3.10/site-packages/keras/src/optimizers/optimizer.py\", line 652, in apply_gradients\n      iteration = self._internal_apply_gradients(grads_and_vars)\n    File \"/home/kristian/miniconda3/lib/python3.10/site-packages/keras/src/optimizers/optimizer.py\", line 1260, in _internal_apply_gradients\n      return tf.__internal__.distribute.interim.maybe_merge_call(\n    File \"/home/kristian/miniconda3/lib/python3.10/site-packages/keras/src/optimizers/optimizer.py\", line 1352, in _distributed_apply_gradients_fn\n      distribution.extended.update(\n    File \"/home/kristian/miniconda3/lib/python3.10/site-packages/keras/src/optimizers/optimizer.py\", line 1347, in apply_grad_to_update_var\n      return self._update_step_xla(grad, var, id(self._var_key(var)))\nNode: 'Adam/StatefulPartitionedCall_14'\n2 root error(s) found.\n  (0) INVALID_ARGUMENT:  Trying to access resource Resource-17-at-0x9a1e600 (defined @ /home/kristian/miniconda3/lib/python3.10/site-packages/keras/src/engine/base_layer_utils.py:137) located in device /job:localhost/replica:0/task:0/device:GPU:0 from device /job:localhost/replica:0/task:0/device:CPU:0\n Cf. https://www.tensorflow.org/xla/known_issues#tfvariable_on_a_different_device\n\t [[{{node Adam/StatefulPartitionedCall_14}}]]\n\t [[GroupCrossDeviceControlEdges_0/Adam/AssignAddVariableOp/_247]]\n  (1) INVALID_ARGUMENT:  Trying to access resource Resource-17-at-0x9a1e600 (defined @ /home/kristian/miniconda3/lib/python3.10/site-packages/keras/src/engine/base_layer_utils.py:137) located in device /job:localhost/replica:0/task:0/device:GPU:0 from device /job:localhost/replica:0/task:0/device:CPU:0\n Cf. https://www.tensorflow.org/xla/known_issues#tfvariable_on_a_different_device\n\t [[{{node Adam/StatefulPartitionedCall_14}}]]\n0 successful operations.\n0 derived errors ignored. [Op:__inference_train_function_6462]"
     ]
    }
   ],
   "source": [
    "with tf.device('/cpu:0'):\n",
    "    model.fit(X_train, Y_train, epochs=20, callbacks=[tb_callback],batch_size =64)\n"
   ]
  },
  {
   "cell_type": "code",
   "execution_count": 39,
   "id": "69800974",
   "metadata": {
    "ExecuteTime": {
     "end_time": "2023-08-03T13:22:18.604368Z",
     "start_time": "2023-08-03T13:22:18.592946Z"
    }
   },
   "outputs": [],
   "source": [
    "model = Sequential(name='sequential')"
   ]
  },
  {
   "cell_type": "code",
   "execution_count": 40,
   "id": "6e2ba983",
   "metadata": {
    "ExecuteTime": {
     "end_time": "2023-08-03T13:22:20.074921Z",
     "start_time": "2023-08-03T13:22:19.403425Z"
    }
   },
   "outputs": [],
   "source": [
    "model.add(GRU(64, return_sequences=True, activation='tanh', input_shape=(212, 1662)))\n",
    "model.add(GRU(128, return_sequences=True, activation='tanh'))\n",
    "model.add(GRU(64, return_sequences=False, activation='tanh'))\n",
    "model.add(Dense(64, activation='relu'))\n",
    "model.add(Dense(32, activation='relu'))\n",
    "model.add(Dense(Y.shape[1], activation='softmax'))"
   ]
  },
  {
   "cell_type": "code",
   "execution_count": 41,
   "id": "b22741af",
   "metadata": {
    "ExecuteTime": {
     "end_time": "2023-08-03T13:22:20.668394Z",
     "start_time": "2023-08-03T13:22:20.641062Z"
    }
   },
   "outputs": [
    {
     "name": "stdout",
     "output_type": "stream",
     "text": [
      "Model: \"sequential\"\n",
      "_________________________________________________________________\n",
      " Layer (type)                Output Shape              Param #   \n",
      "=================================================================\n",
      " gru_11 (GRU)                (None, 212, 64)           331776    \n",
      "                                                                 \n",
      " gru_12 (GRU)                (None, 212, 128)          74496     \n",
      "                                                                 \n",
      " gru_13 (GRU)                (None, 64)                37248     \n",
      "                                                                 \n",
      " dense_15 (Dense)            (None, 64)                4160      \n",
      "                                                                 \n",
      " dense_16 (Dense)            (None, 32)                2080      \n",
      "                                                                 \n",
      " dense_17 (Dense)            (None, 84)                2772      \n",
      "                                                                 \n",
      "=================================================================\n",
      "Total params: 452532 (1.73 MB)\n",
      "Trainable params: 452532 (1.73 MB)\n",
      "Non-trainable params: 0 (0.00 Byte)\n",
      "_________________________________________________________________\n"
     ]
    }
   ],
   "source": [
    "model.summary()"
   ]
  },
  {
   "cell_type": "code",
   "execution_count": 42,
   "id": "9956e76b",
   "metadata": {
    "ExecuteTime": {
     "end_time": "2023-08-03T13:22:35.062274Z",
     "start_time": "2023-08-03T13:22:35.043759Z"
    }
   },
   "outputs": [],
   "source": [
    "optimizer = Adam(learning_rate=.01,clipvalue=1.0)\n",
    "model.compile(optimizer=optimizer, loss='categorical_crossentropy', metrics=['categorical_accuracy'])"
   ]
  },
  {
   "cell_type": "code",
   "execution_count": 43,
   "id": "745f9899",
   "metadata": {
    "ExecuteTime": {
     "end_time": "2023-08-03T13:23:33.344447Z",
     "start_time": "2023-08-03T13:22:55.994234Z"
    }
   },
   "outputs": [
    {
     "name": "stderr",
     "output_type": "stream",
     "text": [
      "2023-08-03 14:22:57.722675: W tensorflow/tsl/framework/cpu_allocator_impl.cc:83] Allocation of 1584138624 exceeds 10% of free system memory.\n",
      "2023-08-03 14:22:59.241294: W tensorflow/tsl/framework/cpu_allocator_impl.cc:83] Allocation of 1584138624 exceeds 10% of free system memory.\n"
     ]
    },
    {
     "name": "stdout",
     "output_type": "stream",
     "text": [
      "Epoch 1/20\n",
      "71/71 [==============================] - 10s 49ms/step - loss: 4.4668 - categorical_accuracy: 0.0089\n",
      "Epoch 2/20\n",
      "71/71 [==============================] - 4s 50ms/step - loss: 4.4306 - categorical_accuracy: 0.0267\n",
      "Epoch 3/20\n",
      "71/71 [==============================] - 4s 50ms/step - loss: 4.4264 - categorical_accuracy: 0.0258\n",
      "Epoch 4/20\n",
      "71/71 [==============================] - 4s 50ms/step - loss: nan - categorical_accuracy: 0.0133\n",
      "Epoch 5/20\n",
      "71/71 [==============================] - 4s 51ms/step - loss: nan - categorical_accuracy: 0.0125\n",
      "Epoch 6/20\n",
      "71/71 [==============================] - 4s 51ms/step - loss: nan - categorical_accuracy: 0.0125\n",
      "Epoch 7/20\n",
      "71/71 [==============================] - 4s 51ms/step - loss: nan - categorical_accuracy: 0.0125\n",
      "Epoch 8/20\n",
      " 7/71 [=>............................] - ETA: 3s - loss: nan - categorical_accuracy: 0.0000e+00"
     ]
    },
    {
     "ename": "KeyboardInterrupt",
     "evalue": "",
     "output_type": "error",
     "traceback": [
      "\u001b[0;31m---------------------------------------------------------------------------\u001b[0m",
      "\u001b[0;31mKeyboardInterrupt\u001b[0m                         Traceback (most recent call last)",
      "Cell \u001b[0;32mIn[43], line 1\u001b[0m\n\u001b[0;32m----> 1\u001b[0m \u001b[43mmodel\u001b[49m\u001b[38;5;241;43m.\u001b[39;49m\u001b[43mfit\u001b[49m\u001b[43m(\u001b[49m\u001b[43mX_train\u001b[49m\u001b[43m,\u001b[49m\u001b[43m \u001b[49m\u001b[43mY_train\u001b[49m\u001b[43m,\u001b[49m\u001b[43m \u001b[49m\u001b[43mepochs\u001b[49m\u001b[38;5;241;43m=\u001b[39;49m\u001b[38;5;241;43m20\u001b[39;49m\u001b[43m,\u001b[49m\u001b[43m \u001b[49m\u001b[43mcallbacks\u001b[49m\u001b[38;5;241;43m=\u001b[39;49m\u001b[43m[\u001b[49m\u001b[43mtb_callback\u001b[49m\u001b[43m]\u001b[49m\u001b[43m,\u001b[49m\u001b[43mbatch_size\u001b[49m\u001b[43m \u001b[49m\u001b[38;5;241;43m=\u001b[39;49m\u001b[38;5;241;43m16\u001b[39;49m\u001b[43m)\u001b[49m\n",
      "File \u001b[0;32m~/miniconda3/lib/python3.10/site-packages/keras/src/utils/traceback_utils.py:65\u001b[0m, in \u001b[0;36mfilter_traceback.<locals>.error_handler\u001b[0;34m(*args, **kwargs)\u001b[0m\n\u001b[1;32m     63\u001b[0m filtered_tb \u001b[38;5;241m=\u001b[39m \u001b[38;5;28;01mNone\u001b[39;00m\n\u001b[1;32m     64\u001b[0m \u001b[38;5;28;01mtry\u001b[39;00m:\n\u001b[0;32m---> 65\u001b[0m     \u001b[38;5;28;01mreturn\u001b[39;00m \u001b[43mfn\u001b[49m\u001b[43m(\u001b[49m\u001b[38;5;241;43m*\u001b[39;49m\u001b[43margs\u001b[49m\u001b[43m,\u001b[49m\u001b[43m \u001b[49m\u001b[38;5;241;43m*\u001b[39;49m\u001b[38;5;241;43m*\u001b[39;49m\u001b[43mkwargs\u001b[49m\u001b[43m)\u001b[49m\n\u001b[1;32m     66\u001b[0m \u001b[38;5;28;01mexcept\u001b[39;00m \u001b[38;5;167;01mException\u001b[39;00m \u001b[38;5;28;01mas\u001b[39;00m e:\n\u001b[1;32m     67\u001b[0m     filtered_tb \u001b[38;5;241m=\u001b[39m _process_traceback_frames(e\u001b[38;5;241m.\u001b[39m__traceback__)\n",
      "File \u001b[0;32m~/miniconda3/lib/python3.10/site-packages/keras/src/engine/training.py:1748\u001b[0m, in \u001b[0;36mModel.fit\u001b[0;34m(self, x, y, batch_size, epochs, verbose, callbacks, validation_split, validation_data, shuffle, class_weight, sample_weight, initial_epoch, steps_per_epoch, validation_steps, validation_batch_size, validation_freq, max_queue_size, workers, use_multiprocessing)\u001b[0m\n\u001b[1;32m   1746\u001b[0m logs \u001b[38;5;241m=\u001b[39m tmp_logs\n\u001b[1;32m   1747\u001b[0m end_step \u001b[38;5;241m=\u001b[39m step \u001b[38;5;241m+\u001b[39m data_handler\u001b[38;5;241m.\u001b[39mstep_increment\n\u001b[0;32m-> 1748\u001b[0m \u001b[43mcallbacks\u001b[49m\u001b[38;5;241;43m.\u001b[39;49m\u001b[43mon_train_batch_end\u001b[49m\u001b[43m(\u001b[49m\u001b[43mend_step\u001b[49m\u001b[43m,\u001b[49m\u001b[43m \u001b[49m\u001b[43mlogs\u001b[49m\u001b[43m)\u001b[49m\n\u001b[1;32m   1749\u001b[0m \u001b[38;5;28;01mif\u001b[39;00m \u001b[38;5;28mself\u001b[39m\u001b[38;5;241m.\u001b[39mstop_training:\n\u001b[1;32m   1750\u001b[0m     \u001b[38;5;28;01mbreak\u001b[39;00m\n",
      "File \u001b[0;32m~/miniconda3/lib/python3.10/site-packages/keras/src/callbacks.py:475\u001b[0m, in \u001b[0;36mCallbackList.on_train_batch_end\u001b[0;34m(self, batch, logs)\u001b[0m\n\u001b[1;32m    468\u001b[0m \u001b[38;5;250m\u001b[39m\u001b[38;5;124;03m\"\"\"Calls the `on_train_batch_end` methods of its callbacks.\u001b[39;00m\n\u001b[1;32m    469\u001b[0m \n\u001b[1;32m    470\u001b[0m \u001b[38;5;124;03mArgs:\u001b[39;00m\n\u001b[1;32m    471\u001b[0m \u001b[38;5;124;03m    batch: Integer, index of batch within the current epoch.\u001b[39;00m\n\u001b[1;32m    472\u001b[0m \u001b[38;5;124;03m    logs: Dict. Aggregated metric results up until this batch.\u001b[39;00m\n\u001b[1;32m    473\u001b[0m \u001b[38;5;124;03m\"\"\"\u001b[39;00m\n\u001b[1;32m    474\u001b[0m \u001b[38;5;28;01mif\u001b[39;00m \u001b[38;5;28mself\u001b[39m\u001b[38;5;241m.\u001b[39m_should_call_train_batch_hooks:\n\u001b[0;32m--> 475\u001b[0m     \u001b[38;5;28;43mself\u001b[39;49m\u001b[38;5;241;43m.\u001b[39;49m\u001b[43m_call_batch_hook\u001b[49m\u001b[43m(\u001b[49m\u001b[43mModeKeys\u001b[49m\u001b[38;5;241;43m.\u001b[39;49m\u001b[43mTRAIN\u001b[49m\u001b[43m,\u001b[49m\u001b[43m \u001b[49m\u001b[38;5;124;43m\"\u001b[39;49m\u001b[38;5;124;43mend\u001b[39;49m\u001b[38;5;124;43m\"\u001b[39;49m\u001b[43m,\u001b[49m\u001b[43m \u001b[49m\u001b[43mbatch\u001b[49m\u001b[43m,\u001b[49m\u001b[43m \u001b[49m\u001b[43mlogs\u001b[49m\u001b[38;5;241;43m=\u001b[39;49m\u001b[43mlogs\u001b[49m\u001b[43m)\u001b[49m\n",
      "File \u001b[0;32m~/miniconda3/lib/python3.10/site-packages/keras/src/callbacks.py:322\u001b[0m, in \u001b[0;36mCallbackList._call_batch_hook\u001b[0;34m(self, mode, hook, batch, logs)\u001b[0m\n\u001b[1;32m    320\u001b[0m     \u001b[38;5;28mself\u001b[39m\u001b[38;5;241m.\u001b[39m_call_batch_begin_hook(mode, batch, logs)\n\u001b[1;32m    321\u001b[0m \u001b[38;5;28;01melif\u001b[39;00m hook \u001b[38;5;241m==\u001b[39m \u001b[38;5;124m\"\u001b[39m\u001b[38;5;124mend\u001b[39m\u001b[38;5;124m\"\u001b[39m:\n\u001b[0;32m--> 322\u001b[0m     \u001b[38;5;28;43mself\u001b[39;49m\u001b[38;5;241;43m.\u001b[39;49m\u001b[43m_call_batch_end_hook\u001b[49m\u001b[43m(\u001b[49m\u001b[43mmode\u001b[49m\u001b[43m,\u001b[49m\u001b[43m \u001b[49m\u001b[43mbatch\u001b[49m\u001b[43m,\u001b[49m\u001b[43m \u001b[49m\u001b[43mlogs\u001b[49m\u001b[43m)\u001b[49m\n\u001b[1;32m    323\u001b[0m \u001b[38;5;28;01melse\u001b[39;00m:\n\u001b[1;32m    324\u001b[0m     \u001b[38;5;28;01mraise\u001b[39;00m \u001b[38;5;167;01mValueError\u001b[39;00m(\n\u001b[1;32m    325\u001b[0m         \u001b[38;5;124mf\u001b[39m\u001b[38;5;124m\"\u001b[39m\u001b[38;5;124mUnrecognized hook: \u001b[39m\u001b[38;5;132;01m{\u001b[39;00mhook\u001b[38;5;132;01m}\u001b[39;00m\u001b[38;5;124m. \u001b[39m\u001b[38;5;124m\"\u001b[39m\n\u001b[1;32m    326\u001b[0m         \u001b[38;5;124m'\u001b[39m\u001b[38;5;124mExpected values are [\u001b[39m\u001b[38;5;124m\"\u001b[39m\u001b[38;5;124mbegin\u001b[39m\u001b[38;5;124m\"\u001b[39m\u001b[38;5;124m, \u001b[39m\u001b[38;5;124m\"\u001b[39m\u001b[38;5;124mend\u001b[39m\u001b[38;5;124m\"\u001b[39m\u001b[38;5;124m]\u001b[39m\u001b[38;5;124m'\u001b[39m\n\u001b[1;32m    327\u001b[0m     )\n",
      "File \u001b[0;32m~/miniconda3/lib/python3.10/site-packages/keras/src/callbacks.py:345\u001b[0m, in \u001b[0;36mCallbackList._call_batch_end_hook\u001b[0;34m(self, mode, batch, logs)\u001b[0m\n\u001b[1;32m    342\u001b[0m     batch_time \u001b[38;5;241m=\u001b[39m time\u001b[38;5;241m.\u001b[39mtime() \u001b[38;5;241m-\u001b[39m \u001b[38;5;28mself\u001b[39m\u001b[38;5;241m.\u001b[39m_batch_start_time\n\u001b[1;32m    343\u001b[0m     \u001b[38;5;28mself\u001b[39m\u001b[38;5;241m.\u001b[39m_batch_times\u001b[38;5;241m.\u001b[39mappend(batch_time)\n\u001b[0;32m--> 345\u001b[0m \u001b[38;5;28;43mself\u001b[39;49m\u001b[38;5;241;43m.\u001b[39;49m\u001b[43m_call_batch_hook_helper\u001b[49m\u001b[43m(\u001b[49m\u001b[43mhook_name\u001b[49m\u001b[43m,\u001b[49m\u001b[43m \u001b[49m\u001b[43mbatch\u001b[49m\u001b[43m,\u001b[49m\u001b[43m \u001b[49m\u001b[43mlogs\u001b[49m\u001b[43m)\u001b[49m\n\u001b[1;32m    347\u001b[0m \u001b[38;5;28;01mif\u001b[39;00m \u001b[38;5;28mlen\u001b[39m(\u001b[38;5;28mself\u001b[39m\u001b[38;5;241m.\u001b[39m_batch_times) \u001b[38;5;241m>\u001b[39m\u001b[38;5;241m=\u001b[39m \u001b[38;5;28mself\u001b[39m\u001b[38;5;241m.\u001b[39m_num_batches_for_timing_check:\n\u001b[1;32m    348\u001b[0m     end_hook_name \u001b[38;5;241m=\u001b[39m hook_name\n",
      "File \u001b[0;32m~/miniconda3/lib/python3.10/site-packages/keras/src/callbacks.py:393\u001b[0m, in \u001b[0;36mCallbackList._call_batch_hook_helper\u001b[0;34m(self, hook_name, batch, logs)\u001b[0m\n\u001b[1;32m    391\u001b[0m \u001b[38;5;28;01mfor\u001b[39;00m callback \u001b[38;5;129;01min\u001b[39;00m \u001b[38;5;28mself\u001b[39m\u001b[38;5;241m.\u001b[39mcallbacks:\n\u001b[1;32m    392\u001b[0m     hook \u001b[38;5;241m=\u001b[39m \u001b[38;5;28mgetattr\u001b[39m(callback, hook_name)\n\u001b[0;32m--> 393\u001b[0m     \u001b[43mhook\u001b[49m\u001b[43m(\u001b[49m\u001b[43mbatch\u001b[49m\u001b[43m,\u001b[49m\u001b[43m \u001b[49m\u001b[43mlogs\u001b[49m\u001b[43m)\u001b[49m\n\u001b[1;32m    395\u001b[0m \u001b[38;5;28;01mif\u001b[39;00m \u001b[38;5;28mself\u001b[39m\u001b[38;5;241m.\u001b[39m_check_timing:\n\u001b[1;32m    396\u001b[0m     \u001b[38;5;28;01mif\u001b[39;00m hook_name \u001b[38;5;129;01mnot\u001b[39;00m \u001b[38;5;129;01min\u001b[39;00m \u001b[38;5;28mself\u001b[39m\u001b[38;5;241m.\u001b[39m_hook_times:\n",
      "File \u001b[0;32m~/miniconda3/lib/python3.10/site-packages/keras/src/callbacks.py:1093\u001b[0m, in \u001b[0;36mProgbarLogger.on_train_batch_end\u001b[0;34m(self, batch, logs)\u001b[0m\n\u001b[1;32m   1092\u001b[0m \u001b[38;5;28;01mdef\u001b[39;00m \u001b[38;5;21mon_train_batch_end\u001b[39m(\u001b[38;5;28mself\u001b[39m, batch, logs\u001b[38;5;241m=\u001b[39m\u001b[38;5;28;01mNone\u001b[39;00m):\n\u001b[0;32m-> 1093\u001b[0m     \u001b[38;5;28;43mself\u001b[39;49m\u001b[38;5;241;43m.\u001b[39;49m\u001b[43m_batch_update_progbar\u001b[49m\u001b[43m(\u001b[49m\u001b[43mbatch\u001b[49m\u001b[43m,\u001b[49m\u001b[43m \u001b[49m\u001b[43mlogs\u001b[49m\u001b[43m)\u001b[49m\n",
      "File \u001b[0;32m~/miniconda3/lib/python3.10/site-packages/keras/src/callbacks.py:1170\u001b[0m, in \u001b[0;36mProgbarLogger._batch_update_progbar\u001b[0;34m(self, batch, logs)\u001b[0m\n\u001b[1;32m   1167\u001b[0m \u001b[38;5;28;01mif\u001b[39;00m \u001b[38;5;28mself\u001b[39m\u001b[38;5;241m.\u001b[39mverbose \u001b[38;5;241m==\u001b[39m \u001b[38;5;241m1\u001b[39m:\n\u001b[1;32m   1168\u001b[0m     \u001b[38;5;66;03m# Only block async when verbose = 1.\u001b[39;00m\n\u001b[1;32m   1169\u001b[0m     logs \u001b[38;5;241m=\u001b[39m tf_utils\u001b[38;5;241m.\u001b[39msync_to_numpy_or_python_type(logs)\n\u001b[0;32m-> 1170\u001b[0m     \u001b[38;5;28;43mself\u001b[39;49m\u001b[38;5;241;43m.\u001b[39;49m\u001b[43mprogbar\u001b[49m\u001b[38;5;241;43m.\u001b[39;49m\u001b[43mupdate\u001b[49m\u001b[43m(\u001b[49m\u001b[38;5;28;43mself\u001b[39;49m\u001b[38;5;241;43m.\u001b[39;49m\u001b[43mseen\u001b[49m\u001b[43m,\u001b[49m\u001b[43m \u001b[49m\u001b[38;5;28;43mlist\u001b[39;49m\u001b[43m(\u001b[49m\u001b[43mlogs\u001b[49m\u001b[38;5;241;43m.\u001b[39;49m\u001b[43mitems\u001b[49m\u001b[43m(\u001b[49m\u001b[43m)\u001b[49m\u001b[43m)\u001b[49m\u001b[43m,\u001b[49m\u001b[43m \u001b[49m\u001b[43mfinalize\u001b[49m\u001b[38;5;241;43m=\u001b[39;49m\u001b[38;5;28;43;01mFalse\u001b[39;49;00m\u001b[43m)\u001b[49m\n",
      "File \u001b[0;32m~/miniconda3/lib/python3.10/site-packages/keras/src/utils/generic_utils.py:296\u001b[0m, in \u001b[0;36mProgbar.update\u001b[0;34m(self, current, values, finalize)\u001b[0m\n\u001b[1;32m    293\u001b[0m         info \u001b[38;5;241m+\u001b[39m\u001b[38;5;241m=\u001b[39m \u001b[38;5;124m\"\u001b[39m\u001b[38;5;130;01m\\n\u001b[39;00m\u001b[38;5;124m\"\u001b[39m\n\u001b[1;32m    295\u001b[0m     message \u001b[38;5;241m+\u001b[39m\u001b[38;5;241m=\u001b[39m info\n\u001b[0;32m--> 296\u001b[0m     \u001b[43mio_utils\u001b[49m\u001b[38;5;241;43m.\u001b[39;49m\u001b[43mprint_msg\u001b[49m\u001b[43m(\u001b[49m\u001b[43mmessage\u001b[49m\u001b[43m,\u001b[49m\u001b[43m \u001b[49m\u001b[43mline_break\u001b[49m\u001b[38;5;241;43m=\u001b[39;49m\u001b[38;5;28;43;01mFalse\u001b[39;49;00m\u001b[43m)\u001b[49m\n\u001b[1;32m    297\u001b[0m     message \u001b[38;5;241m=\u001b[39m \u001b[38;5;124m\"\u001b[39m\u001b[38;5;124m\"\u001b[39m\n\u001b[1;32m    299\u001b[0m \u001b[38;5;28;01melif\u001b[39;00m \u001b[38;5;28mself\u001b[39m\u001b[38;5;241m.\u001b[39mverbose \u001b[38;5;241m==\u001b[39m \u001b[38;5;241m2\u001b[39m:\n",
      "File \u001b[0;32m~/miniconda3/lib/python3.10/site-packages/keras/src/utils/io_utils.py:80\u001b[0m, in \u001b[0;36mprint_msg\u001b[0;34m(message, line_break)\u001b[0m\n\u001b[1;32m     78\u001b[0m     \u001b[38;5;28;01melse\u001b[39;00m:\n\u001b[1;32m     79\u001b[0m         sys\u001b[38;5;241m.\u001b[39mstdout\u001b[38;5;241m.\u001b[39mwrite(message)\n\u001b[0;32m---> 80\u001b[0m     \u001b[43msys\u001b[49m\u001b[38;5;241;43m.\u001b[39;49m\u001b[43mstdout\u001b[49m\u001b[38;5;241;43m.\u001b[39;49m\u001b[43mflush\u001b[49m\u001b[43m(\u001b[49m\u001b[43m)\u001b[49m\n\u001b[1;32m     81\u001b[0m \u001b[38;5;28;01melse\u001b[39;00m:\n\u001b[1;32m     82\u001b[0m     logging\u001b[38;5;241m.\u001b[39minfo(message)\n",
      "File \u001b[0;32m~/miniconda3/lib/python3.10/site-packages/ipykernel/iostream.py:486\u001b[0m, in \u001b[0;36mOutStream.flush\u001b[0;34m(self)\u001b[0m\n\u001b[1;32m    484\u001b[0m \u001b[38;5;66;03m# wait for flush to actually get through, if we can.\u001b[39;00m\n\u001b[1;32m    485\u001b[0m evt \u001b[38;5;241m=\u001b[39m threading\u001b[38;5;241m.\u001b[39mEvent()\n\u001b[0;32m--> 486\u001b[0m \u001b[38;5;28;43mself\u001b[39;49m\u001b[38;5;241;43m.\u001b[39;49m\u001b[43mpub_thread\u001b[49m\u001b[38;5;241;43m.\u001b[39;49m\u001b[43mschedule\u001b[49m\u001b[43m(\u001b[49m\u001b[43mevt\u001b[49m\u001b[38;5;241;43m.\u001b[39;49m\u001b[43mset\u001b[49m\u001b[43m)\u001b[49m\n\u001b[1;32m    487\u001b[0m \u001b[38;5;66;03m# and give a timeout to avoid\u001b[39;00m\n\u001b[1;32m    488\u001b[0m \u001b[38;5;28;01mif\u001b[39;00m \u001b[38;5;129;01mnot\u001b[39;00m evt\u001b[38;5;241m.\u001b[39mwait(\u001b[38;5;28mself\u001b[39m\u001b[38;5;241m.\u001b[39mflush_timeout):\n\u001b[1;32m    489\u001b[0m     \u001b[38;5;66;03m# write directly to __stderr__ instead of warning because\u001b[39;00m\n\u001b[1;32m    490\u001b[0m     \u001b[38;5;66;03m# if this is happening sys.stderr may be the problem.\u001b[39;00m\n",
      "File \u001b[0;32m~/miniconda3/lib/python3.10/site-packages/ipykernel/iostream.py:210\u001b[0m, in \u001b[0;36mIOPubThread.schedule\u001b[0;34m(self, f)\u001b[0m\n\u001b[1;32m    208\u001b[0m     \u001b[38;5;28mself\u001b[39m\u001b[38;5;241m.\u001b[39m_events\u001b[38;5;241m.\u001b[39mappend(f)\n\u001b[1;32m    209\u001b[0m     \u001b[38;5;66;03m# wake event thread (message content is ignored)\u001b[39;00m\n\u001b[0;32m--> 210\u001b[0m     \u001b[38;5;28;43mself\u001b[39;49m\u001b[38;5;241;43m.\u001b[39;49m\u001b[43m_event_pipe\u001b[49m\u001b[38;5;241;43m.\u001b[39;49m\u001b[43msend\u001b[49m\u001b[43m(\u001b[49m\u001b[38;5;124;43mb\u001b[39;49m\u001b[38;5;124;43m\"\u001b[39;49m\u001b[38;5;124;43m\"\u001b[39;49m\u001b[43m)\u001b[49m\n\u001b[1;32m    211\u001b[0m \u001b[38;5;28;01melse\u001b[39;00m:\n\u001b[1;32m    212\u001b[0m     f()\n",
      "File \u001b[0;32m~/miniconda3/lib/python3.10/site-packages/zmq/sugar/socket.py:696\u001b[0m, in \u001b[0;36mSocket.send\u001b[0;34m(self, data, flags, copy, track, routing_id, group)\u001b[0m\n\u001b[1;32m    689\u001b[0m         data \u001b[38;5;241m=\u001b[39m zmq\u001b[38;5;241m.\u001b[39mFrame(\n\u001b[1;32m    690\u001b[0m             data,\n\u001b[1;32m    691\u001b[0m             track\u001b[38;5;241m=\u001b[39mtrack,\n\u001b[1;32m    692\u001b[0m             copy\u001b[38;5;241m=\u001b[39mcopy \u001b[38;5;129;01mor\u001b[39;00m \u001b[38;5;28;01mNone\u001b[39;00m,\n\u001b[1;32m    693\u001b[0m             copy_threshold\u001b[38;5;241m=\u001b[39m\u001b[38;5;28mself\u001b[39m\u001b[38;5;241m.\u001b[39mcopy_threshold,\n\u001b[1;32m    694\u001b[0m         )\n\u001b[1;32m    695\u001b[0m     data\u001b[38;5;241m.\u001b[39mgroup \u001b[38;5;241m=\u001b[39m group\n\u001b[0;32m--> 696\u001b[0m \u001b[38;5;28;01mreturn\u001b[39;00m \u001b[38;5;28;43msuper\u001b[39;49m\u001b[43m(\u001b[49m\u001b[43m)\u001b[49m\u001b[38;5;241;43m.\u001b[39;49m\u001b[43msend\u001b[49m\u001b[43m(\u001b[49m\u001b[43mdata\u001b[49m\u001b[43m,\u001b[49m\u001b[43m \u001b[49m\u001b[43mflags\u001b[49m\u001b[38;5;241;43m=\u001b[39;49m\u001b[43mflags\u001b[49m\u001b[43m,\u001b[49m\u001b[43m \u001b[49m\u001b[43mcopy\u001b[49m\u001b[38;5;241;43m=\u001b[39;49m\u001b[43mcopy\u001b[49m\u001b[43m,\u001b[49m\u001b[43m \u001b[49m\u001b[43mtrack\u001b[49m\u001b[38;5;241;43m=\u001b[39;49m\u001b[43mtrack\u001b[49m\u001b[43m)\u001b[49m\n",
      "File \u001b[0;32mzmq/backend/cython/socket.pyx:742\u001b[0m, in \u001b[0;36mzmq.backend.cython.socket.Socket.send\u001b[0;34m()\u001b[0m\n",
      "File \u001b[0;32mzmq/backend/cython/socket.pyx:789\u001b[0m, in \u001b[0;36mzmq.backend.cython.socket.Socket.send\u001b[0;34m()\u001b[0m\n",
      "File \u001b[0;32mzmq/backend/cython/socket.pyx:250\u001b[0m, in \u001b[0;36mzmq.backend.cython.socket._send_copy\u001b[0;34m()\u001b[0m\n",
      "File \u001b[0;32m~/miniconda3/lib/python3.10/site-packages/zmq/backend/cython/checkrc.pxd:13\u001b[0m, in \u001b[0;36mzmq.backend.cython.checkrc._check_rc\u001b[0;34m()\u001b[0m\n",
      "\u001b[0;31mKeyboardInterrupt\u001b[0m: "
     ]
    }
   ],
   "source": [
    "model.fit(X_train, Y_train, epochs=20, callbacks=[tb_callback],batch_size =16)"
   ]
  },
  {
   "cell_type": "code",
   "execution_count": 14,
   "id": "ed852823",
   "metadata": {
    "ExecuteTime": {
     "end_time": "2023-08-03T18:57:08.683610Z",
     "start_time": "2023-08-03T18:56:57.076660Z"
    },
    "scrolled": true
   },
   "outputs": [
    {
     "name": "stdout",
     "output_type": "stream",
     "text": [
      "Model: \"sequential\"\n",
      "_________________________________________________________________\n",
      " Layer (type)                Output Shape              Param #   \n",
      "=================================================================\n",
      " conv1d_3 (Conv1D)           (None, 210, 32)           159584    \n",
      "                                                                 \n",
      " max_pooling1d_3 (MaxPoolin  (None, 105, 32)           0         \n",
      " g1D)                                                            \n",
      "                                                                 \n",
      " conv1d_4 (Conv1D)           (None, 103, 128)          12416     \n",
      "                                                                 \n",
      " max_pooling1d_4 (MaxPoolin  (None, 51, 128)           0         \n",
      " g1D)                                                            \n",
      "                                                                 \n",
      " spatial_dropout1d_1 (Spati  (None, 51, 128)           0         \n",
      " alDropout1D)                                                    \n",
      "                                                                 \n",
      " flatten_1 (Flatten)         (None, 6528)              0         \n",
      "                                                                 \n",
      " dense_3 (Dense)             (None, 128)               835712    \n",
      "                                                                 \n",
      " dense_4 (Dense)             (None, 64)                8256      \n",
      "                                                                 \n",
      " dense_5 (Dense)             (None, 84)                5460      \n",
      "                                                                 \n",
      "=================================================================\n",
      "Total params: 1021428 (3.90 MB)\n",
      "Trainable params: 1021428 (3.90 MB)\n",
      "Non-trainable params: 0 (0.00 Byte)\n",
      "_________________________________________________________________\n"
     ]
    },
    {
     "name": "stderr",
     "output_type": "stream",
     "text": [
      "2023-08-03 19:57:08.520945: W tensorflow/tsl/framework/bfc_allocator.cc:485] Allocator (GPU_0_bfc) ran out of memory trying to allocate 1.03GiB (rounded to 1107769600)requested by op _EagerConst\n",
      "If the cause is memory fragmentation maybe the environment variable 'TF_GPU_ALLOCATOR=cuda_malloc_async' will improve the situation. \n",
      "Current allocation summary follows.\n",
      "Current allocation summary follows.\n",
      "2023-08-03 19:57:08.521032: I tensorflow/tsl/framework/bfc_allocator.cc:1039] BFCAllocator dump for GPU_0_bfc\n",
      "2023-08-03 19:57:08.521064: I tensorflow/tsl/framework/bfc_allocator.cc:1046] Bin (256): \tTotal Chunks: 54, Chunks in use: 54. 13.5KiB allocated for chunks. 13.5KiB in use in bin. 2.5KiB client-requested in use in bin.\n",
      "2023-08-03 19:57:08.521086: I tensorflow/tsl/framework/bfc_allocator.cc:1046] Bin (512): \tTotal Chunks: 12, Chunks in use: 12. 6.0KiB allocated for chunks. 6.0KiB in use in bin. 5.3KiB client-requested in use in bin.\n",
      "2023-08-03 19:57:08.521105: I tensorflow/tsl/framework/bfc_allocator.cc:1046] Bin (1024): \tTotal Chunks: 1, Chunks in use: 1. 1.2KiB allocated for chunks. 1.2KiB in use in bin. 1.0KiB client-requested in use in bin.\n",
      "2023-08-03 19:57:08.521123: I tensorflow/tsl/framework/bfc_allocator.cc:1046] Bin (2048): \tTotal Chunks: 0, Chunks in use: 0. 0B allocated for chunks. 0B in use in bin. 0B client-requested in use in bin.\n",
      "2023-08-03 19:57:08.521140: I tensorflow/tsl/framework/bfc_allocator.cc:1046] Bin (4096): \tTotal Chunks: 1, Chunks in use: 0. 7.2KiB allocated for chunks. 0B in use in bin. 0B client-requested in use in bin.\n",
      "2023-08-03 19:57:08.521156: I tensorflow/tsl/framework/bfc_allocator.cc:1046] Bin (8192): \tTotal Chunks: 0, Chunks in use: 0. 0B allocated for chunks. 0B in use in bin. 0B client-requested in use in bin.\n",
      "2023-08-03 19:57:08.521179: I tensorflow/tsl/framework/bfc_allocator.cc:1046] Bin (16384): \tTotal Chunks: 7, Chunks in use: 7. 168.2KiB allocated for chunks. 168.2KiB in use in bin. 156.0KiB client-requested in use in bin.\n",
      "2023-08-03 19:57:08.521199: I tensorflow/tsl/framework/bfc_allocator.cc:1046] Bin (32768): \tTotal Chunks: 6, Chunks in use: 5. 218.0KiB allocated for chunks. 176.0KiB in use in bin. 176.0KiB client-requested in use in bin.\n",
      "2023-08-03 19:57:08.521219: I tensorflow/tsl/framework/bfc_allocator.cc:1046] Bin (65536): \tTotal Chunks: 4, Chunks in use: 4. 406.8KiB allocated for chunks. 406.8KiB in use in bin. 398.9KiB client-requested in use in bin.\n",
      "2023-08-03 19:57:08.521235: I tensorflow/tsl/framework/bfc_allocator.cc:1046] Bin (131072): \tTotal Chunks: 0, Chunks in use: 0. 0B allocated for chunks. 0B in use in bin. 0B client-requested in use in bin.\n",
      "2023-08-03 19:57:08.521255: I tensorflow/tsl/framework/bfc_allocator.cc:1046] Bin (262144): \tTotal Chunks: 1, Chunks in use: 1. 258.0KiB allocated for chunks. 258.0KiB in use in bin. 257.9KiB client-requested in use in bin.\n",
      "2023-08-03 19:57:08.521273: I tensorflow/tsl/framework/bfc_allocator.cc:1046] Bin (524288): \tTotal Chunks: 4, Chunks in use: 4. 2.61MiB allocated for chunks. 2.61MiB in use in bin. 2.43MiB client-requested in use in bin.\n",
      "2023-08-03 19:57:08.521291: I tensorflow/tsl/framework/bfc_allocator.cc:1046] Bin (1048576): \tTotal Chunks: 4, Chunks in use: 3. 5.87MiB allocated for chunks. 4.80MiB in use in bin. 4.50MiB client-requested in use in bin.\n",
      "2023-08-03 19:57:08.521310: I tensorflow/tsl/framework/bfc_allocator.cc:1046] Bin (2097152): \tTotal Chunks: 2, Chunks in use: 1. 6.38MiB allocated for chunks. 3.19MiB in use in bin. 3.19MiB client-requested in use in bin.\n",
      "2023-08-03 19:57:08.521327: I tensorflow/tsl/framework/bfc_allocator.cc:1046] Bin (4194304): \tTotal Chunks: 1, Chunks in use: 0. 4.46MiB allocated for chunks. 0B in use in bin. 0B client-requested in use in bin.\n",
      "2023-08-03 19:57:08.521342: I tensorflow/tsl/framework/bfc_allocator.cc:1046] Bin (8388608): \tTotal Chunks: 0, Chunks in use: 0. 0B allocated for chunks. 0B in use in bin. 0B client-requested in use in bin.\n",
      "2023-08-03 19:57:08.521358: I tensorflow/tsl/framework/bfc_allocator.cc:1046] Bin (16777216): \tTotal Chunks: 0, Chunks in use: 0. 0B allocated for chunks. 0B in use in bin. 0B client-requested in use in bin.\n",
      "2023-08-03 19:57:08.521374: I tensorflow/tsl/framework/bfc_allocator.cc:1046] Bin (33554432): \tTotal Chunks: 0, Chunks in use: 0. 0B allocated for chunks. 0B in use in bin. 0B client-requested in use in bin.\n",
      "2023-08-03 19:57:08.521390: I tensorflow/tsl/framework/bfc_allocator.cc:1046] Bin (67108864): \tTotal Chunks: 0, Chunks in use: 0. 0B allocated for chunks. 0B in use in bin. 0B client-requested in use in bin.\n",
      "2023-08-03 19:57:08.521407: I tensorflow/tsl/framework/bfc_allocator.cc:1046] Bin (134217728): \tTotal Chunks: 1, Chunks in use: 0. 208.50MiB allocated for chunks. 0B in use in bin. 0B client-requested in use in bin.\n",
      "2023-08-03 19:57:08.521440: I tensorflow/tsl/framework/bfc_allocator.cc:1046] Bin (268435456): \tTotal Chunks: 2, Chunks in use: 2. 1.47GiB allocated for chunks. 1.47GiB in use in bin. 1.47GiB client-requested in use in bin.\n",
      "2023-08-03 19:57:08.521460: I tensorflow/tsl/framework/bfc_allocator.cc:1062] Bin for 1.03GiB was 256.00MiB, Chunk State: \n",
      "2023-08-03 19:57:08.521474: I tensorflow/tsl/framework/bfc_allocator.cc:1075] Next region of size 1809448960\n",
      "2023-08-03 19:57:08.521495: I tensorflow/tsl/framework/bfc_allocator.cc:1095] InUse at 7efafa000000 of size 1107769600 next 38\n",
      "2023-08-03 19:57:08.521509: I tensorflow/tsl/framework/bfc_allocator.cc:1095] InUse at 7efb3c073900 of size 476369152 next 89\n",
      "2023-08-03 19:57:08.521522: I tensorflow/tsl/framework/bfc_allocator.cc:1095] Free  at 7efb586c0a00 of size 3342336 next 73\n",
      "2023-08-03 19:57:08.521534: I tensorflow/tsl/framework/bfc_allocator.cc:1095] InUse at 7efb589f0a00 of size 3342336 next 74\n",
      "2023-08-03 19:57:08.521548: I tensorflow/tsl/framework/bfc_allocator.cc:1095] Free  at 7efb58d20a00 of size 218625536 next 18446744073709551615\n",
      "2023-08-03 19:57:08.521562: I tensorflow/tsl/framework/bfc_allocator.cc:1075] Next region of size 2097152\n",
      "2023-08-03 19:57:08.521575: I tensorflow/tsl/framework/bfc_allocator.cc:1095] InUse at 7efca6c00000 of size 256 next 1\n",
      "2023-08-03 19:57:08.521588: I tensorflow/tsl/framework/bfc_allocator.cc:1095] InUse at 7efca6c00100 of size 1280 next 2\n",
      "2023-08-03 19:57:08.521601: I tensorflow/tsl/framework/bfc_allocator.cc:1095] InUse at 7efca6c00600 of size 256 next 3\n",
      "2023-08-03 19:57:08.521612: I tensorflow/tsl/framework/bfc_allocator.cc:1095] InUse at 7efca6c00700 of size 256 next 4\n",
      "2023-08-03 19:57:08.521624: I tensorflow/tsl/framework/bfc_allocator.cc:1095] InUse at 7efca6c00800 of size 256 next 6\n",
      "2023-08-03 19:57:08.521636: I tensorflow/tsl/framework/bfc_allocator.cc:1095] InUse at 7efca6c00900 of size 256 next 7\n",
      "2023-08-03 19:57:08.521647: I tensorflow/tsl/framework/bfc_allocator.cc:1095] InUse at 7efca6c00a00 of size 256 next 5\n",
      "2023-08-03 19:57:08.521659: I tensorflow/tsl/framework/bfc_allocator.cc:1095] InUse at 7efca6c00b00 of size 256 next 8\n",
      "2023-08-03 19:57:08.521670: I tensorflow/tsl/framework/bfc_allocator.cc:1095] InUse at 7efca6c00c00 of size 256 next 11\n",
      "2023-08-03 19:57:08.521682: I tensorflow/tsl/framework/bfc_allocator.cc:1095] InUse at 7efca6c00d00 of size 256 next 12\n",
      "2023-08-03 19:57:08.521693: I tensorflow/tsl/framework/bfc_allocator.cc:1095] InUse at 7efca6c00e00 of size 256 next 10\n",
      "2023-08-03 19:57:08.521705: I tensorflow/tsl/framework/bfc_allocator.cc:1095] InUse at 7efca6c00f00 of size 512 next 17\n",
      "2023-08-03 19:57:08.521717: I tensorflow/tsl/framework/bfc_allocator.cc:1095] InUse at 7efca6c01100 of size 256 next 13\n",
      "2023-08-03 19:57:08.521728: I tensorflow/tsl/framework/bfc_allocator.cc:1095] InUse at 7efca6c01200 of size 256 next 16\n",
      "2023-08-03 19:57:08.521739: I tensorflow/tsl/framework/bfc_allocator.cc:1095] InUse at 7efca6c01300 of size 512 next 23\n",
      "2023-08-03 19:57:08.521751: I tensorflow/tsl/framework/bfc_allocator.cc:1095] InUse at 7efca6c01500 of size 256 next 20\n",
      "2023-08-03 19:57:08.521762: I tensorflow/tsl/framework/bfc_allocator.cc:1095] InUse at 7efca6c01600 of size 256 next 21\n",
      "2023-08-03 19:57:08.521773: I tensorflow/tsl/framework/bfc_allocator.cc:1095] InUse at 7efca6c01700 of size 512 next 32\n",
      "2023-08-03 19:57:08.521785: I tensorflow/tsl/framework/bfc_allocator.cc:1095] InUse at 7efca6c01900 of size 256 next 31\n",
      "2023-08-03 19:57:08.521797: I tensorflow/tsl/framework/bfc_allocator.cc:1095] InUse at 7efca6c01a00 of size 256 next 33\n",
      "2023-08-03 19:57:08.521808: I tensorflow/tsl/framework/bfc_allocator.cc:1095] InUse at 7efca6c01b00 of size 256 next 35\n",
      "2023-08-03 19:57:08.521819: I tensorflow/tsl/framework/bfc_allocator.cc:1095] InUse at 7efca6c01c00 of size 256 next 36\n",
      "2023-08-03 19:57:08.521830: I tensorflow/tsl/framework/bfc_allocator.cc:1095] InUse at 7efca6c01d00 of size 256 next 40\n",
      "2023-08-03 19:57:08.521844: I tensorflow/tsl/framework/bfc_allocator.cc:1095] InUse at 7efca6c01e00 of size 256 next 41\n",
      "2023-08-03 19:57:08.521856: I tensorflow/tsl/framework/bfc_allocator.cc:1095] InUse at 7efca6c01f00 of size 256 next 42\n",
      "2023-08-03 19:57:08.521868: I tensorflow/tsl/framework/bfc_allocator.cc:1095] InUse at 7efca6c02000 of size 256 next 44\n",
      "2023-08-03 19:57:08.521879: I tensorflow/tsl/framework/bfc_allocator.cc:1095] InUse at 7efca6c02100 of size 256 next 45\n",
      "2023-08-03 19:57:08.521891: I tensorflow/tsl/framework/bfc_allocator.cc:1095] InUse at 7efca6c02200 of size 256 next 47\n",
      "2023-08-03 19:57:08.521902: I tensorflow/tsl/framework/bfc_allocator.cc:1095] InUse at 7efca6c02300 of size 256 next 48\n",
      "2023-08-03 19:57:08.521913: I tensorflow/tsl/framework/bfc_allocator.cc:1095] InUse at 7efca6c02400 of size 512 next 50\n",
      "2023-08-03 19:57:08.521925: I tensorflow/tsl/framework/bfc_allocator.cc:1095] InUse at 7efca6c02600 of size 512 next 51\n",
      "2023-08-03 19:57:08.521936: I tensorflow/tsl/framework/bfc_allocator.cc:1095] InUse at 7efca6c02800 of size 512 next 53\n",
      "2023-08-03 19:57:08.521947: I tensorflow/tsl/framework/bfc_allocator.cc:1095] InUse at 7efca6c02a00 of size 512 next 54\n",
      "2023-08-03 19:57:08.521959: I tensorflow/tsl/framework/bfc_allocator.cc:1095] InUse at 7efca6c02c00 of size 256 next 57\n",
      "2023-08-03 19:57:08.521970: I tensorflow/tsl/framework/bfc_allocator.cc:1095] InUse at 7efca6c02d00 of size 256 next 58\n",
      "2023-08-03 19:57:08.521982: I tensorflow/tsl/framework/bfc_allocator.cc:1095] InUse at 7efca6c02e00 of size 512 next 61\n",
      "2023-08-03 19:57:08.521994: I tensorflow/tsl/framework/bfc_allocator.cc:1095] InUse at 7efca6c03000 of size 512 next 62\n",
      "2023-08-03 19:57:08.522005: I tensorflow/tsl/framework/bfc_allocator.cc:1095] InUse at 7efca6c03200 of size 256 next 63\n",
      "2023-08-03 19:57:08.522016: I tensorflow/tsl/framework/bfc_allocator.cc:1095] InUse at 7efca6c03300 of size 256 next 64\n",
      "2023-08-03 19:57:08.522027: I tensorflow/tsl/framework/bfc_allocator.cc:1095] InUse at 7efca6c03400 of size 256 next 65\n",
      "2023-08-03 19:57:08.522038: I tensorflow/tsl/framework/bfc_allocator.cc:1095] InUse at 7efca6c03500 of size 256 next 66\n",
      "2023-08-03 19:57:08.522050: I tensorflow/tsl/framework/bfc_allocator.cc:1095] InUse at 7efca6c03600 of size 256 next 67\n",
      "2023-08-03 19:57:08.522061: I tensorflow/tsl/framework/bfc_allocator.cc:1095] InUse at 7efca6c03700 of size 256 next 68\n",
      "2023-08-03 19:57:08.522073: I tensorflow/tsl/framework/bfc_allocator.cc:1095] InUse at 7efca6c03800 of size 256 next 69\n",
      "2023-08-03 19:57:08.522084: I tensorflow/tsl/framework/bfc_allocator.cc:1095] InUse at 7efca6c03900 of size 256 next 70\n",
      "2023-08-03 19:57:08.522096: I tensorflow/tsl/framework/bfc_allocator.cc:1095] InUse at 7efca6c03a00 of size 256 next 71\n",
      "2023-08-03 19:57:08.522107: I tensorflow/tsl/framework/bfc_allocator.cc:1095] InUse at 7efca6c03b00 of size 256 next 100\n",
      "2023-08-03 19:57:08.522118: I tensorflow/tsl/framework/bfc_allocator.cc:1095] InUse at 7efca6c03c00 of size 256 next 77\n",
      "2023-08-03 19:57:08.522130: I tensorflow/tsl/framework/bfc_allocator.cc:1095] InUse at 7efca6c03d00 of size 256 next 75\n",
      "2023-08-03 19:57:08.522141: I tensorflow/tsl/framework/bfc_allocator.cc:1095] InUse at 7efca6c03e00 of size 256 next 72\n",
      "2023-08-03 19:57:08.522152: I tensorflow/tsl/framework/bfc_allocator.cc:1095] InUse at 7efca6c03f00 of size 256 next 106\n",
      "2023-08-03 19:57:08.522164: I tensorflow/tsl/framework/bfc_allocator.cc:1095] InUse at 7efca6c04000 of size 256 next 80\n",
      "2023-08-03 19:57:08.522176: I tensorflow/tsl/framework/bfc_allocator.cc:1095] InUse at 7efca6c04100 of size 256 next 108\n",
      "2023-08-03 19:57:08.522187: I tensorflow/tsl/framework/bfc_allocator.cc:1095] InUse at 7efca6c04200 of size 256 next 87\n",
      "2023-08-03 19:57:08.522198: I tensorflow/tsl/framework/bfc_allocator.cc:1095] InUse at 7efca6c04300 of size 256 next 93\n",
      "2023-08-03 19:57:08.522210: I tensorflow/tsl/framework/bfc_allocator.cc:1095] InUse at 7efca6c04400 of size 512 next 90\n",
      "2023-08-03 19:57:08.522221: I tensorflow/tsl/framework/bfc_allocator.cc:1095] InUse at 7efca6c04600 of size 256 next 96\n",
      "2023-08-03 19:57:08.522235: I tensorflow/tsl/framework/bfc_allocator.cc:1095] InUse at 7efca6c04700 of size 256 next 86\n",
      "2023-08-03 19:57:08.522246: I tensorflow/tsl/framework/bfc_allocator.cc:1095] InUse at 7efca6c04800 of size 512 next 99\n",
      "2023-08-03 19:57:08.522258: I tensorflow/tsl/framework/bfc_allocator.cc:1095] InUse at 7efca6c04a00 of size 256 next 92\n",
      "2023-08-03 19:57:08.522269: I tensorflow/tsl/framework/bfc_allocator.cc:1095] InUse at 7efca6c04b00 of size 512 next 110\n",
      "2023-08-03 19:57:08.522281: I tensorflow/tsl/framework/bfc_allocator.cc:1095] InUse at 7efca6c04d00 of size 256 next 97\n",
      "2023-08-03 19:57:08.522292: I tensorflow/tsl/framework/bfc_allocator.cc:1095] InUse at 7efca6c04e00 of size 256 next 103\n",
      "2023-08-03 19:57:08.522304: I tensorflow/tsl/framework/bfc_allocator.cc:1095] Free  at 7efca6c04f00 of size 7424 next 34\n",
      "2023-08-03 19:57:08.522316: I tensorflow/tsl/framework/bfc_allocator.cc:1095] InUse at 7efca6c06c00 of size 25344 next 14\n",
      "2023-08-03 19:57:08.522329: I tensorflow/tsl/framework/bfc_allocator.cc:1095] InUse at 7efca6c0cf00 of size 24576 next 15\n",
      "2023-08-03 19:57:08.522341: I tensorflow/tsl/framework/bfc_allocator.cc:1095] InUse at 7efca6c12f00 of size 256 next 27\n",
      "2023-08-03 19:57:08.522352: I tensorflow/tsl/framework/bfc_allocator.cc:1095] InUse at 7efca6c13000 of size 256 next 26\n",
      "2023-08-03 19:57:08.522363: I tensorflow/tsl/framework/bfc_allocator.cc:1095] InUse at 7efca6c13100 of size 256 next 28\n",
      "2023-08-03 19:57:08.522375: I tensorflow/tsl/framework/bfc_allocator.cc:1095] InUse at 7efca6c13200 of size 32256 next 29\n",
      "2023-08-03 19:57:08.522388: I tensorflow/tsl/framework/bfc_allocator.cc:1095] InUse at 7efca6c1b000 of size 32768 next 30\n",
      "2023-08-03 19:57:08.522399: I tensorflow/tsl/framework/bfc_allocator.cc:1095] InUse at 7efca6c23000 of size 24576 next 46\n",
      "2023-08-03 19:57:08.522411: I tensorflow/tsl/framework/bfc_allocator.cc:1095] InUse at 7efca6c29000 of size 106240 next 19\n",
      "2023-08-03 19:57:08.522424: I tensorflow/tsl/framework/bfc_allocator.cc:1095] InUse at 7efca6c42f00 of size 98304 next 18\n",
      "2023-08-03 19:57:08.522436: I tensorflow/tsl/framework/bfc_allocator.cc:1095] InUse at 7efca6c5af00 of size 264192 next 39\n",
      "2023-08-03 19:57:08.522449: I tensorflow/tsl/framework/bfc_allocator.cc:1095] InUse at 7efca6c9b700 of size 642560 next 9\n",
      "2023-08-03 19:57:08.522461: I tensorflow/tsl/framework/bfc_allocator.cc:1095] InUse at 7efca6d38500 of size 817920 next 18446744073709551615\n",
      "2023-08-03 19:57:08.522474: I tensorflow/tsl/framework/bfc_allocator.cc:1075] Next region of size 4194304\n",
      "2023-08-03 19:57:08.522487: I tensorflow/tsl/framework/bfc_allocator.cc:1095] InUse at 7efca7200000 of size 638208 n"
     ]
    },
    {
     "ename": "InternalError",
     "evalue": "Failed copying input tensor from /job:localhost/replica:0/task:0/device:CPU:0 to /job:localhost/replica:0/task:0/device:GPU:0 in order to run _EagerConst: Dst tensor is not initialized.",
     "output_type": "error",
     "traceback": [
      "\u001b[0;31m---------------------------------------------------------------------------\u001b[0m",
      "\u001b[0;31mInternalError\u001b[0m                             Traceback (most recent call last)",
      "Cell \u001b[0;32mIn[14], line 42\u001b[0m\n\u001b[1;32m     39\u001b[0m model\u001b[38;5;241m.\u001b[39msummary()\n\u001b[1;32m     41\u001b[0m \u001b[38;5;66;03m# Train the model\u001b[39;00m\n\u001b[0;32m---> 42\u001b[0m \u001b[43mmodel\u001b[49m\u001b[38;5;241;43m.\u001b[39;49m\u001b[43mfit\u001b[49m\u001b[43m(\u001b[49m\u001b[43mX_train\u001b[49m\u001b[43m,\u001b[49m\u001b[43m \u001b[49m\u001b[43mY_train\u001b[49m\u001b[43m,\u001b[49m\u001b[43m \u001b[49m\u001b[43mepochs\u001b[49m\u001b[38;5;241;43m=\u001b[39;49m\u001b[38;5;241;43m80\u001b[39;49m\u001b[43m,\u001b[49m\u001b[43m \u001b[49m\u001b[43mbatch_size\u001b[49m\u001b[38;5;241;43m=\u001b[39;49m\u001b[38;5;241;43m64\u001b[39;49m\u001b[43m,\u001b[49m\u001b[43mvalidation_split\u001b[49m\u001b[38;5;241;43m=\u001b[39;49m\u001b[38;5;241;43m.3\u001b[39;49m\u001b[43m)\u001b[49m\n",
      "File \u001b[0;32m~/miniconda3/lib/python3.10/site-packages/keras/src/utils/traceback_utils.py:70\u001b[0m, in \u001b[0;36mfilter_traceback.<locals>.error_handler\u001b[0;34m(*args, **kwargs)\u001b[0m\n\u001b[1;32m     67\u001b[0m     filtered_tb \u001b[38;5;241m=\u001b[39m _process_traceback_frames(e\u001b[38;5;241m.\u001b[39m__traceback__)\n\u001b[1;32m     68\u001b[0m     \u001b[38;5;66;03m# To get the full stack trace, call:\u001b[39;00m\n\u001b[1;32m     69\u001b[0m     \u001b[38;5;66;03m# `tf.debugging.disable_traceback_filtering()`\u001b[39;00m\n\u001b[0;32m---> 70\u001b[0m     \u001b[38;5;28;01mraise\u001b[39;00m e\u001b[38;5;241m.\u001b[39mwith_traceback(filtered_tb) \u001b[38;5;28;01mfrom\u001b[39;00m \u001b[38;5;28;01mNone\u001b[39;00m\n\u001b[1;32m     71\u001b[0m \u001b[38;5;28;01mfinally\u001b[39;00m:\n\u001b[1;32m     72\u001b[0m     \u001b[38;5;28;01mdel\u001b[39;00m filtered_tb\n",
      "File \u001b[0;32m~/miniconda3/lib/python3.10/site-packages/tensorflow/python/framework/constant_op.py:98\u001b[0m, in \u001b[0;36mconvert_to_eager_tensor\u001b[0;34m(value, ctx, dtype)\u001b[0m\n\u001b[1;32m     96\u001b[0m     dtype \u001b[38;5;241m=\u001b[39m dtypes\u001b[38;5;241m.\u001b[39mas_dtype(dtype)\u001b[38;5;241m.\u001b[39mas_datatype_enum\n\u001b[1;32m     97\u001b[0m ctx\u001b[38;5;241m.\u001b[39mensure_initialized()\n\u001b[0;32m---> 98\u001b[0m \u001b[38;5;28;01mreturn\u001b[39;00m \u001b[43mops\u001b[49m\u001b[38;5;241;43m.\u001b[39;49m\u001b[43mEagerTensor\u001b[49m\u001b[43m(\u001b[49m\u001b[43mvalue\u001b[49m\u001b[43m,\u001b[49m\u001b[43m \u001b[49m\u001b[43mctx\u001b[49m\u001b[38;5;241;43m.\u001b[39;49m\u001b[43mdevice_name\u001b[49m\u001b[43m,\u001b[49m\u001b[43m \u001b[49m\u001b[43mdtype\u001b[49m\u001b[43m)\u001b[49m\n",
      "\u001b[0;31mInternalError\u001b[0m: Failed copying input tensor from /job:localhost/replica:0/task:0/device:CPU:0 to /job:localhost/replica:0/task:0/device:GPU:0 in order to run _EagerConst: Dst tensor is not initialized."
     ]
    },
    {
     "name": "stderr",
     "output_type": "stream",
     "text": [
      "ext 43\n",
      "2023-08-03 19:57:08.522500: I tensorflow/tsl/framework/bfc_allocator.cc:1095] InUse at 7efca729bd00 of size 98304 next 49\n",
      "2023-08-03 19:57:08.522512: I tensorflow/tsl/framework/bfc_allocator.cc:1095] InUse at 7efca72b3d00 of size 1572864 next 52\n",
      "2023-08-03 19:57:08.522524: I tensorflow/tsl/framework/bfc_allocator.cc:1095] InUse at 7efca7433d00 of size 1884928 next 18446744073709551615\n",
      "2023-08-03 19:57:08.522537: I tensorflow/tsl/framework/bfc_allocator.cc:1075] Next region of size 8388608\n",
      "2023-08-03 19:57:08.522549: I tensorflow/tsl/framework/bfc_allocator.cc:1095] InUse at 7efca7600000 of size 1572864 next 25\n",
      "2023-08-03 19:57:08.522561: I tensorflow/tsl/framework/bfc_allocator.cc:1095] InUse at 7efca7780000 of size 32768 next 55\n",
      "2023-08-03 19:57:08.522572: I tensorflow/tsl/framework/bfc_allocator.cc:1095] InUse at 7efca7788000 of size 32768 next 56\n",
      "2023-08-03 19:57:08.522584: I tensorflow/tsl/framework/bfc_allocator.cc:1095] InUse at 7efca7790000 of size 21504 next 59\n",
      "2023-08-03 19:57:08.522596: I tensorflow/tsl/framework/bfc_allocator.cc:1095] InUse at 7efca7795400 of size 21504 next 60\n",
      "2023-08-03 19:57:08.522608: I tensorflow/tsl/framework/bfc_allocator.cc:1095] InUse at 7efca779a800 of size 256 next 79\n",
      "2023-08-03 19:57:08.522620: I tensorflow/tsl/framework/bfc_allocator.cc:1095] InUse at 7efca779a900 of size 113664 next 82\n",
      "2023-08-03 19:57:08.522634: I tensorflow/tsl/framework/bfc_allocator.cc:1095] Free  at 7efca77b6500 of size 43008 next 109\n",
      "2023-08-03 19:57:08.522646: I tensorflow/tsl/framework/bfc_allocator.cc:1095] InUse at 7efca77c0d00 of size 22528 next 84\n",
      "2023-08-03 19:57:08.522658: I tensorflow/tsl/framework/bfc_allocator.cc:1095] InUse at 7efca77c6500 of size 32768 next 88\n",
      "2023-08-03 19:57:08.522670: I tensorflow/tsl/framework/bfc_allocator.cc:1095] InUse at 7efca77ce500 of size 49152 next 105\n",
      "2023-08-03 19:57:08.522682: I tensorflow/tsl/framework/bfc_allocator.cc:1095] Free  at 7efca77da500 of size 1128960 next 81\n",
      "2023-08-03 19:57:08.522695: I tensorflow/tsl/framework/bfc_allocator.cc:1095] InUse at 7efca78edf00 of size 638208 next 104\n",
      "2023-08-03 19:57:08.522707: I tensorflow/tsl/framework/bfc_allocator.cc:1095] Free  at 7efca7989c00 of size 4678656 next 18446744073709551615\n",
      "2023-08-03 19:57:08.522719: I tensorflow/tsl/framework/bfc_allocator.cc:1100]      Summary of in-use Chunks by size: \n",
      "2023-08-03 19:57:08.522738: I tensorflow/tsl/framework/bfc_allocator.cc:1103] 54 Chunks of size 256 totalling 13.5KiB\n",
      "2023-08-03 19:57:08.522752: I tensorflow/tsl/framework/bfc_allocator.cc:1103] 12 Chunks of size 512 totalling 6.0KiB\n",
      "2023-08-03 19:57:08.522767: I tensorflow/tsl/framework/bfc_allocator.cc:1103] 1 Chunks of size 1280 totalling 1.2KiB\n",
      "2023-08-03 19:57:08.522781: I tensorflow/tsl/framework/bfc_allocator.cc:1103] 2 Chunks of size 21504 totalling 42.0KiB\n",
      "2023-08-03 19:57:08.522796: I tensorflow/tsl/framework/bfc_allocator.cc:1103] 1 Chunks of size 22528 totalling 22.0KiB\n",
      "2023-08-03 19:57:08.522810: I tensorflow/tsl/framework/bfc_allocator.cc:1103] 2 Chunks of size 24576 totalling 48.0KiB\n",
      "2023-08-03 19:57:08.522825: I tensorflow/tsl/framework/bfc_allocator.cc:1103] 1 Chunks of size 25344 totalling 24.8KiB\n",
      "2023-08-03 19:57:08.522839: I tensorflow/tsl/framework/bfc_allocator.cc:1103] 1 Chunks of size 32256 totalling 31.5KiB\n",
      "2023-08-03 19:57:08.522854: I tensorflow/tsl/framework/bfc_allocator.cc:1103] 4 Chunks of size 32768 totalling 128.0KiB\n",
      "2023-08-03 19:57:08.522869: I tensorflow/tsl/framework/bfc_allocator.cc:1103] 1 Chunks of size 49152 totalling 48.0KiB\n",
      "2023-08-03 19:57:08.522883: I tensorflow/tsl/framework/bfc_allocator.cc:1103] 2 Chunks of size 98304 totalling 192.0KiB\n",
      "2023-08-03 19:57:08.522898: I tensorflow/tsl/framework/bfc_allocator.cc:1103] 1 Chunks of size 106240 totalling 103.8KiB\n",
      "2023-08-03 19:57:08.522913: I tensorflow/tsl/framework/bfc_allocator.cc:1103] 1 Chunks of size 113664 totalling 111.0KiB\n",
      "2023-08-03 19:57:08.522928: I tensorflow/tsl/framework/bfc_allocator.cc:1103] 1 Chunks of size 264192 totalling 258.0KiB\n",
      "2023-08-03 19:57:08.522942: I tensorflow/tsl/framework/bfc_allocator.cc:1103] 2 Chunks of size 638208 totalling 1.22MiB\n",
      "2023-08-03 19:57:08.522956: I tensorflow/tsl/framework/bfc_allocator.cc:1103] 1 Chunks of size 642560 totalling 627.5KiB\n",
      "2023-08-03 19:57:08.522971: I tensorflow/tsl/framework/bfc_allocator.cc:1103] 1 Chunks of size 817920 totalling 798.8KiB\n",
      "2023-08-03 19:57:08.522986: I tensorflow/tsl/framework/bfc_allocator.cc:1103] 2 Chunks of size 1572864 totalling 3.00MiB\n",
      "2023-08-03 19:57:08.523000: I tensorflow/tsl/framework/bfc_allocator.cc:1103] 1 Chunks of size 1884928 totalling 1.80MiB\n",
      "2023-08-03 19:57:08.523013: I tensorflow/tsl/framework/bfc_allocator.cc:1103] 1 Chunks of size 3342336 totalling 3.19MiB\n",
      "2023-08-03 19:57:08.523028: I tensorflow/tsl/framework/bfc_allocator.cc:1103] 1 Chunks of size 476369152 totalling 454.30MiB\n",
      "2023-08-03 19:57:08.523042: I tensorflow/tsl/framework/bfc_allocator.cc:1103] 1 Chunks of size 1107769600 totalling 1.03GiB\n",
      "2023-08-03 19:57:08.523056: I tensorflow/tsl/framework/bfc_allocator.cc:1107] Sum Total of in-use chunks: 1.49GiB\n",
      "2023-08-03 19:57:08.523071: I tensorflow/tsl/framework/bfc_allocator.cc:1109] Total bytes in pool: 1824129024 memory_limit_: 1824129024 available bytes: 0 curr_region_allocation_bytes_: 2147483648\n",
      "2023-08-03 19:57:08.523094: I tensorflow/tsl/framework/bfc_allocator.cc:1114] Stats: \n",
      "Limit:                      1824129024\n",
      "InUse:                      1596303104\n",
      "MaxInUse:                   1818432256\n",
      "NumAllocs:                      150845\n",
      "MaxAllocSize:               1107769600\n",
      "Reserved:                            0\n",
      "PeakReserved:                        0\n",
      "LargestFreeBlock:                    0\n",
      "\n",
      "2023-08-03 19:57:08.523133: W tensorflow/tsl/framework/bfc_allocator.cc:497] ****************************************************************************************___________*\n"
     ]
    }
   ],
   "source": [
    "import numpy as np\n",
    "import tensorflow as tf\n",
    "from tensorflow.keras.models import Sequential\n",
    "from tensorflow.keras import regularizers\n",
    "from tensorflow.keras.layers import Conv1D, MaxPooling1D, Flatten, Dense, Dropout, SpatialDropout1D\n",
    "\n",
    "# Assuming you have your padded keypoints data (keypoints_np) and labels (labels)\n",
    "# keypoints_np.shape = (num_samples, max_len, num_keypoints)\n",
    "# labels.shape = (num_samples, num_classes)\n",
    "\n",
    "# Define the CNN model\n",
    "model = Sequential(name='sequential')\n",
    "\n",
    "# Add convolutional layers\n",
    "model.add(Conv1D(filters=32, kernel_size=3, activation='relu', input_shape=(212, 1662),\n",
    "                 kernel_regularizer=regularizers.l2(l=0.01)))\n",
    "model.add(MaxPooling1D(pool_size=2))\n",
    "#model.add(Conv1D(filters=64, kernel_size=3, activation='relu', kernel_regularizer=regularizers.l2(l=0.01)))\n",
    "#model.add(MaxPooling1D(pool_size=2))\n",
    "model.add(Conv1D(filters=128, kernel_size=3, activation='relu', kernel_regularizer=regularizers.l2(l=0.01)))\n",
    "model.add(MaxPooling1D(pool_size=2))\n",
    "\n",
    "# droput layer, remove if no work\n",
    "model.add(SpatialDropout1D(0.5))\n",
    "\n",
    "# Flatten the output for the fully connected layers\n",
    "model.add(Flatten())\n",
    "\n",
    "# Add fully connected layers\n",
    "model.add(Dense(128, activation='relu'))\n",
    "#model.add(Dense(64, activation='relu'))\n",
    "model.add(Dense(84, activation='softmax'))  # Output layer\n",
    "\n",
    "optimizer = Adam(learning_rate=.0005)\n",
    "# Compile the model\n",
    "model.compile(loss='categorical_crossentropy', optimizer=optimizer, metrics=['accuracy'])\n",
    "\n",
    "# Print model summary\n",
    "model.summary()\n",
    "\n",
    "# Train the model\n",
    "model.fit(X_train, Y_train, epochs=80, batch_size=64,validation_split=.3)\n"
   ]
  },
  {
   "cell_type": "code",
   "execution_count": 53,
   "id": "785ed7bf",
   "metadata": {
    "ExecuteTime": {
     "end_time": "2023-08-03T17:51:57.170732Z",
     "start_time": "2023-08-03T17:51:57.090892Z"
    }
   },
   "outputs": [
    {
     "name": "stdout",
     "output_type": "stream",
     "text": [
      "1/1 [==============================] - 0s 25ms/step\n"
     ]
    },
    {
     "data": {
      "text/plain": [
       "18"
      ]
     },
     "execution_count": 53,
     "metadata": {},
     "output_type": "execute_result"
    }
   ],
   "source": [
    "np.argmax(model.predict(X_test[[1]]))"
   ]
  },
  {
   "cell_type": "code",
   "execution_count": 52,
   "id": "dcb61aaa",
   "metadata": {
    "ExecuteTime": {
     "end_time": "2023-08-03T17:51:53.468501Z",
     "start_time": "2023-08-03T17:51:53.462574Z"
    }
   },
   "outputs": [
    {
     "data": {
      "text/plain": [
       "41"
      ]
     },
     "execution_count": 52,
     "metadata": {},
     "output_type": "execute_result"
    }
   ],
   "source": [
    "np.argmax(Y_test[1])"
   ]
  },
  {
   "cell_type": "code",
   "execution_count": 38,
   "id": "98b10ca8",
   "metadata": {
    "ExecuteTime": {
     "end_time": "2023-08-03T17:42:01.630162Z",
     "start_time": "2023-08-03T17:42:01.548785Z"
    }
   },
   "outputs": [
    {
     "name": "stdout",
     "output_type": "stream",
     "text": [
      "1/1 [==============================] - 0s 20ms/step\n"
     ]
    },
    {
     "data": {
      "text/plain": [
       "array([[1.0129494e-06, 7.4129015e-17, 4.8822547e-11, 1.1211572e-13,\n",
       "        5.1141450e-07, 1.4339512e-10, 6.1791358e-14, 5.4054793e-20,\n",
       "        5.5316541e-15, 4.7033727e-12, 4.9788362e-10, 5.2938990e-11,\n",
       "        2.1888662e-08, 8.2826823e-13, 3.0033429e-10, 2.5744862e-07,\n",
       "        3.9990834e-07, 2.3802282e-19, 1.1033153e-15, 2.3090003e-07,\n",
       "        6.4198423e-15, 5.0172403e-08, 8.0218030e-17, 8.2776613e-35,\n",
       "        2.8937308e-20, 1.9814779e-19, 2.5020405e-14, 4.0026234e-17,\n",
       "        2.3025483e-11, 1.3046385e-15, 1.1999841e-10, 2.4870423e-15,\n",
       "        1.5261118e-06, 1.1967564e-05, 1.1540307e-22, 7.1786820e-07,\n",
       "        2.3164215e-13, 3.3356621e-08, 7.5515008e-09, 2.1571792e-24,\n",
       "        1.1177559e-24, 9.9436084e-11, 8.9361262e-28, 1.3001557e-17,\n",
       "        2.2173275e-07, 1.4378391e-19, 4.7059345e-14, 5.1826217e-11,\n",
       "        1.4783451e-07, 5.9562458e-19, 1.3092859e-10, 2.0330034e-15,\n",
       "        6.0108329e-15, 9.5366354e-17, 5.7902678e-24, 6.8326376e-22,\n",
       "        4.4553554e-13, 1.6354499e-19, 5.5277251e-17, 1.4734579e-13,\n",
       "        2.9456159e-15, 3.1206100e-03, 2.5144112e-11, 2.9704543e-06,\n",
       "        1.1455883e-09, 1.7677588e-16, 1.0396036e-10, 9.9684215e-01,\n",
       "        6.6087598e-09, 1.3574731e-16, 9.5096066e-06, 2.6817621e-12,\n",
       "        1.1787855e-09, 8.1021811e-09, 7.4082958e-09, 1.4038027e-12,\n",
       "        3.1790176e-18, 1.4173429e-17, 1.2766213e-14, 6.6068941e-07,\n",
       "        2.4654372e-09, 2.2047146e-10, 6.9154244e-06, 2.1251486e-21]],\n",
       "      dtype=float32)"
      ]
     },
     "execution_count": 38,
     "metadata": {},
     "output_type": "execute_result"
    }
   ],
   "source": [
    "model.predict(X_test[[50]])"
   ]
  },
  {
   "cell_type": "code",
   "execution_count": null,
   "id": "41e74106",
   "metadata": {},
   "outputs": [],
   "source": []
  }
 ],
 "metadata": {
  "kernelspec": {
   "display_name": "Python 3 (ipykernel)",
   "language": "python",
   "name": "python3"
  },
  "language_info": {
   "codemirror_mode": {
    "name": "ipython",
    "version": 3
   },
   "file_extension": ".py",
   "mimetype": "text/x-python",
   "name": "python",
   "nbconvert_exporter": "python",
   "pygments_lexer": "ipython3",
   "version": "3.10.12"
  },
  "notify_time": "10",
  "toc": {
   "base_numbering": 1,
   "nav_menu": {},
   "number_sections": true,
   "sideBar": true,
   "skip_h1_title": true,
   "title_cell": "Table of Contents",
   "title_sidebar": "Contents",
   "toc_cell": true,
   "toc_position": {},
   "toc_section_display": true,
   "toc_window_display": false
  },
  "varInspector": {
   "cols": {
    "lenName": 16,
    "lenType": 16,
    "lenVar": 40
   },
   "kernels_config": {
    "python": {
     "delete_cmd_postfix": "",
     "delete_cmd_prefix": "del ",
     "library": "var_list.py",
     "varRefreshCmd": "print(var_dic_list())"
    },
    "r": {
     "delete_cmd_postfix": ") ",
     "delete_cmd_prefix": "rm(",
     "library": "var_list.r",
     "varRefreshCmd": "cat(var_dic_list()) "
    }
   },
   "types_to_exclude": [
    "module",
    "function",
    "builtin_function_or_method",
    "instance",
    "_Feature"
   ],
   "window_display": false
  }
 },
 "nbformat": 4,
 "nbformat_minor": 5
}
