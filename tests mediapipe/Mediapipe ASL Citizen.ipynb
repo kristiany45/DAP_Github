{
 "cells": [
  {
   "cell_type": "markdown",
   "id": "957d823f",
   "metadata": {
    "toc": true
   },
   "source": [
    "<h1>Table of Contents<span class=\"tocSkip\"></span></h1>\n",
    "<div class=\"toc\"><ul class=\"toc-item\"></ul></div>"
   ]
  },
  {
   "cell_type": "code",
   "execution_count": 1,
   "id": "ab7927e9",
   "metadata": {
    "ExecuteTime": {
     "end_time": "2023-08-07T14:32:08.837258Z",
     "start_time": "2023-08-07T14:31:12.055657Z"
    }
   },
   "outputs": [
    {
     "name": "stderr",
     "output_type": "stream",
     "text": [
      "2023-08-07 15:31:36.584541: I tensorflow/core/platform/cpu_feature_guard.cc:182] This TensorFlow binary is optimized to use available CPU instructions in performance-critical operations.\n",
      "To enable the following instructions: AVX2 FMA, in other operations, rebuild TensorFlow with the appropriate compiler flags.\n",
      "2023-08-07 15:31:49.478717: W tensorflow/compiler/tf2tensorrt/utils/py_utils.cc:38] TF-TRT Warning: Could not find TensorRT\n"
     ]
    }
   ],
   "source": [
    "import mediapipe as mp\n",
    "import numpy as np\n",
    "import cv2\n",
    "import pandas as pd\n",
    "from tqdm import tqdm\n",
    "import gc\n",
    "from operator import add"
   ]
  },
  {
   "cell_type": "code",
   "execution_count": 2,
   "id": "fefa485b",
   "metadata": {
    "ExecuteTime": {
     "end_time": "2023-08-07T14:32:14.911304Z",
     "start_time": "2023-08-07T14:32:14.908818Z"
    }
   },
   "outputs": [],
   "source": [
    "mp_drawing = mp.solutions.drawing_utils\n",
    "mp_holistic = mp.solutions.holistic"
   ]
  },
  {
   "cell_type": "code",
   "execution_count": 3,
   "id": "05d07926",
   "metadata": {
    "ExecuteTime": {
     "end_time": "2023-08-07T14:32:35.962085Z",
     "start_time": "2023-08-07T14:32:17.392087Z"
    }
   },
   "outputs": [
    {
     "name": "stderr",
     "output_type": "stream",
     "text": [
      "INFO: Created TensorFlow Lite XNNPACK delegate for CPU.\n"
     ]
    }
   ],
   "source": [
    "cap = cv2.VideoCapture(\"file://media/kristian/HDD/ASL_Citizen/ASL_Citizen/videos/0023159093449660606-CAFETERIA.mp4\")\n",
    "#cap = cv2.VideoCapture(0)\n",
    "\n",
    "with mp_holistic.Holistic(static_image_mode=False,\n",
    "                          model_complexity=2) as holistic:\n",
    "    while True:\n",
    "        ret, frame = cap.read()\n",
    "        if ret == False:\n",
    "            break\n",
    "        frame_rgb = cv2.cvtColor(frame, cv2.COLOR_BGR2RGB)\n",
    "        results = holistic.process(frame_rgb)\n",
    "        # face\n",
    "        mp_drawing.draw_landmarks(\n",
    "            frame, results.face_landmarks, mp_holistic.FACEMESH_TESSELATION,\n",
    "            mp_drawing.DrawingSpec(color=(0, 255, 255),\n",
    "                                   thickness=1,\n",
    "                                   circle_radius=1),\n",
    "            mp_drawing.DrawingSpec(color=(0, 128, 255), thickness=2))\n",
    "\n",
    "        # Left hand\n",
    "        mp_drawing.draw_landmarks(\n",
    "            frame, results.left_hand_landmarks, mp_holistic.HAND_CONNECTIONS,\n",
    "            mp_drawing.DrawingSpec(color=(0, 0, 0),\n",
    "                                   thickness=2,\n",
    "                                   circle_radius=1),\n",
    "            mp_drawing.DrawingSpec(color=(0, 92, 230), thickness=2))\n",
    "\n",
    "        # Right Hand\n",
    "        mp_drawing.draw_landmarks(\n",
    "            frame, results.right_hand_landmarks, mp_holistic.HAND_CONNECTIONS,\n",
    "            mp_drawing.DrawingSpec(color=(0, 0, 0),\n",
    "                                   thickness=2,\n",
    "                                   circle_radius=1),\n",
    "            mp_drawing.DrawingSpec(color=(0, 92, 230), thickness=2))\n",
    "\n",
    "        # Posture\n",
    "        mp_drawing.draw_landmarks(\n",
    "            frame, results.pose_landmarks, mp_holistic.POSE_CONNECTIONS,\n",
    "            mp_drawing.DrawingSpec(color=(0, 0, 0),\n",
    "                                   thickness=2,\n",
    "                                   circle_radius=1),\n",
    "            mp_drawing.DrawingSpec(color=(0, 92, 230), thickness=2))\n",
    "        frame = cv2.flip(frame, 1)\n",
    "        cv2.imshow(\"Frame\", frame)\n",
    "        if cv2.waitKey(1) & 0xFF == 27:\n",
    "            break\n",
    "cap.release()\n",
    "cv2.destroyAllWindows()"
   ]
  },
  {
   "cell_type": "code",
   "execution_count": 4,
   "id": "3884fb03",
   "metadata": {
    "ExecuteTime": {
     "end_time": "2023-08-07T14:32:37.630418Z",
     "start_time": "2023-08-07T14:32:37.625708Z"
    }
   },
   "outputs": [
    {
     "data": {
      "text/plain": [
       "mediapipe.python.solution_base.SolutionOutputs"
      ]
     },
     "execution_count": 4,
     "metadata": {},
     "output_type": "execute_result"
    }
   ],
   "source": [
    "results"
   ]
  },
  {
   "cell_type": "code",
   "execution_count": 5,
   "id": "439656a0",
   "metadata": {
    "ExecuteTime": {
     "end_time": "2023-08-07T14:32:38.654184Z",
     "start_time": "2023-08-07T14:32:38.650817Z"
    }
   },
   "outputs": [
    {
     "data": {
      "text/plain": [
       "33"
      ]
     },
     "execution_count": 5,
     "metadata": {},
     "output_type": "execute_result"
    }
   ],
   "source": [
    "len(results.pose_landmarks.landmark)"
   ]
  },
  {
   "cell_type": "code",
   "execution_count": 6,
   "id": "f5879199",
   "metadata": {
    "ExecuteTime": {
     "end_time": "2023-08-07T14:32:40.292652Z",
     "start_time": "2023-08-07T14:32:40.289870Z"
    }
   },
   "outputs": [],
   "source": [
    "pose = []\n",
    "for res in results.pose_landmarks.landmark:\n",
    "    test = np.array([res.x, res.y, res.z, res.visibility])\n",
    "    pose.append(test)"
   ]
  },
  {
   "cell_type": "code",
   "execution_count": 7,
   "id": "85938609",
   "metadata": {
    "ExecuteTime": {
     "end_time": "2023-08-07T14:32:41.689983Z",
     "start_time": "2023-08-07T14:32:41.685564Z"
    }
   },
   "outputs": [],
   "source": [
    "pose = np.array([[res.x, res.y, res.z, res.visibility] for res in results.pose_landmarks.landmark]).flatten() if results.pose_landmarks else np.zeros(132)\n",
    "face = np.array([[res.x, res.y, res.z] for res in results.face_landmarks.landmark]).flatten() if results.face_landmarks else np.zeros(1404)\n",
    "lh = np.array([[res.x, res.y, res.z] for res in results.left_hand_landmarks.landmark]).flatten() if results.left_hand_landmarks else np.zeros(21*3)\n",
    "rh = np.array([[res.x, res.y, res.z] for res in results.right_hand_landmarks.landmark]).flatten() if results.right_hand_landmarks else np.zeros(21*3)"
   ]
  },
  {
   "cell_type": "code",
   "execution_count": 8,
   "id": "d61e74ee",
   "metadata": {
    "ExecuteTime": {
     "end_time": "2023-08-07T14:32:43.972883Z",
     "start_time": "2023-08-07T14:32:43.969155Z"
    }
   },
   "outputs": [],
   "source": [
    "def extract_keypoints(results):\n",
    "    pose = np.array([[res.x, res.y, res.z, res.visibility] for res in results.pose_landmarks.landmark]).flatten() if results.pose_landmarks else np.zeros(33*4)\n",
    "    face = np.array([[res.x, res.y, res.z] for res in results.face_landmarks.landmark]).flatten() if results.face_landmarks else np.zeros(468*3)\n",
    "    lh = np.array([[res.x, res.y, res.z] for res in results.left_hand_landmarks.landmark]).flatten() if results.left_hand_landmarks else np.zeros(21*3)\n",
    "    rh = np.array([[res.x, res.y, res.z] for res in results.right_hand_landmarks.landmark]).flatten() if results.right_hand_landmarks else np.zeros(21*3)\n",
    "    return np.concatenate([pose, face, lh, rh])"
   ]
  },
  {
   "cell_type": "code",
   "execution_count": 9,
   "id": "b7a805c6",
   "metadata": {
    "ExecuteTime": {
     "end_time": "2023-08-07T14:32:45.040299Z",
     "start_time": "2023-08-07T14:32:45.037783Z"
    }
   },
   "outputs": [],
   "source": [
    "result_test = extract_keypoints(results)"
   ]
  },
  {
   "cell_type": "code",
   "execution_count": 10,
   "id": "96d95912",
   "metadata": {
    "ExecuteTime": {
     "end_time": "2023-08-07T14:32:45.964124Z",
     "start_time": "2023-08-07T14:32:45.960378Z"
    }
   },
   "outputs": [
    {
     "data": {
      "text/plain": [
       "array([ 0.52970541,  0.45343369, -0.51835597, ...,  0.        ,\n",
       "        0.        ,  0.        ])"
      ]
     },
     "execution_count": 10,
     "metadata": {},
     "output_type": "execute_result"
    }
   ],
   "source": [
    "result_test"
   ]
  },
  {
   "cell_type": "code",
   "execution_count": 11,
   "id": "a8fb31b4",
   "metadata": {
    "ExecuteTime": {
     "end_time": "2023-08-07T14:32:48.639018Z",
     "start_time": "2023-08-07T14:32:48.635897Z"
    }
   },
   "outputs": [],
   "source": [
    "def signvideodataframe(filepath):\n",
    "    # Read the CSV file into a DataFrame\n",
    "    df = pd.read_csv(filepath)\n",
    "\n",
    "    # Define the path to the videos directory\n",
    "    path = 'file:///media/kristian/HDD/ASL_Citizen/ASL_Citizen/videos/'\n",
    "\n",
    "    # Create a 'Path' column by concatenating the path with 'Video file' column\n",
    "    df['Path'] = path + df['Video file']\n",
    "    \n",
    "#    df['Gloss'] = df['Gloss'].str.replace('\\d+', '',regex=True)\n",
    "\n",
    "    # Calculate the frequency of each gloss and create a 'frequency' column\n",
    "    df['Frequency'] = df['Gloss'].map(df['Gloss'].value_counts())\n",
    "\n",
    "    # Sort the DataFrame by the 'Gloss' column\n",
    "    df = df.sort_values(by='Gloss')\n",
    "\n",
    "    # Reset the index of the DataFrame\n",
    "    df = df.reset_index(drop=True)\n",
    "\n",
    "    return df"
   ]
  },
  {
   "cell_type": "code",
   "execution_count": 12,
   "id": "1877e8ce",
   "metadata": {
    "ExecuteTime": {
     "end_time": "2023-08-07T14:32:49.805304Z",
     "start_time": "2023-08-07T14:32:49.802202Z"
    }
   },
   "outputs": [],
   "source": [
    "def frames_from_file(filepath):\n",
    "    cap = cv2.VideoCapture(filepath)\n",
    "    frames = int(cap.get(cv2.CAP_PROP_FRAME_COUNT))\n",
    "    fps = int(cap.get(cv2.CAP_PROP_FPS))\n",
    "    length = round(frames / fps)\n",
    "    return frames, fps, length"
   ]
  },
  {
   "cell_type": "code",
   "execution_count": 13,
   "id": "c90d3d92",
   "metadata": {
    "ExecuteTime": {
     "end_time": "2023-08-07T14:32:51.870036Z",
     "start_time": "2023-08-07T14:32:51.123949Z"
    }
   },
   "outputs": [],
   "source": [
    "traindf = signvideodataframe('file:///media/kristian/HDD/ASL_Citizen/ASL_Citizen/splits/train.csv')"
   ]
  },
  {
   "cell_type": "code",
   "execution_count": 14,
   "id": "ea9e1a27",
   "metadata": {
    "ExecuteTime": {
     "end_time": "2023-08-07T14:32:53.237251Z",
     "start_time": "2023-08-07T14:32:53.149179Z"
    }
   },
   "outputs": [
    {
     "data": {
      "text/html": [
       "<div>\n",
       "<style scoped>\n",
       "    .dataframe tbody tr th:only-of-type {\n",
       "        vertical-align: middle;\n",
       "    }\n",
       "\n",
       "    .dataframe tbody tr th {\n",
       "        vertical-align: top;\n",
       "    }\n",
       "\n",
       "    .dataframe thead th {\n",
       "        text-align: right;\n",
       "    }\n",
       "</style>\n",
       "<table border=\"1\" class=\"dataframe\">\n",
       "  <thead>\n",
       "    <tr style=\"text-align: right;\">\n",
       "      <th></th>\n",
       "      <th>Participant ID</th>\n",
       "      <th>Video file</th>\n",
       "      <th>Gloss</th>\n",
       "      <th>ASL-LEX Code</th>\n",
       "      <th>Path</th>\n",
       "      <th>Frequency</th>\n",
       "    </tr>\n",
       "  </thead>\n",
       "  <tbody>\n",
       "    <tr>\n",
       "      <th>0</th>\n",
       "      <td>P31</td>\n",
       "      <td>3827306090663467-1 DOLLAR.mp4</td>\n",
       "      <td>1DOLLAR</td>\n",
       "      <td>C_02_025</td>\n",
       "      <td>file:///media/kristian/HDD/ASL_Citizen/ASL_Cit...</td>\n",
       "      <td>15</td>\n",
       "    </tr>\n",
       "    <tr>\n",
       "      <th>1</th>\n",
       "      <td>P37</td>\n",
       "      <td>16792698524451422-1 DOLLAR.mp4</td>\n",
       "      <td>1DOLLAR</td>\n",
       "      <td>C_02_025</td>\n",
       "      <td>file:///media/kristian/HDD/ASL_Citizen/ASL_Cit...</td>\n",
       "      <td>15</td>\n",
       "    </tr>\n",
       "    <tr>\n",
       "      <th>2</th>\n",
       "      <td>P11</td>\n",
       "      <td>6868778695018762-1 DOLLAR.mp4</td>\n",
       "      <td>1DOLLAR</td>\n",
       "      <td>C_02_025</td>\n",
       "      <td>file:///media/kristian/HDD/ASL_Citizen/ASL_Cit...</td>\n",
       "      <td>15</td>\n",
       "    </tr>\n",
       "    <tr>\n",
       "      <th>3</th>\n",
       "      <td>P11</td>\n",
       "      <td>6870709051348651-1 DOLLAR.mp4</td>\n",
       "      <td>1DOLLAR</td>\n",
       "      <td>C_02_025</td>\n",
       "      <td>file:///media/kristian/HDD/ASL_Citizen/ASL_Cit...</td>\n",
       "      <td>15</td>\n",
       "    </tr>\n",
       "    <tr>\n",
       "      <th>4</th>\n",
       "      <td>P50</td>\n",
       "      <td>0719792557216079-1 DOLLAR.mp4</td>\n",
       "      <td>1DOLLAR</td>\n",
       "      <td>C_02_025</td>\n",
       "      <td>file:///media/kristian/HDD/ASL_Citizen/ASL_Cit...</td>\n",
       "      <td>15</td>\n",
       "    </tr>\n",
       "  </tbody>\n",
       "</table>\n",
       "</div>"
      ],
      "text/plain": [
       "  Participant ID                      Video file    Gloss ASL-LEX Code  \\\n",
       "0            P31   3827306090663467-1 DOLLAR.mp4  1DOLLAR     C_02_025   \n",
       "1            P37  16792698524451422-1 DOLLAR.mp4  1DOLLAR     C_02_025   \n",
       "2            P11   6868778695018762-1 DOLLAR.mp4  1DOLLAR     C_02_025   \n",
       "3            P11   6870709051348651-1 DOLLAR.mp4  1DOLLAR     C_02_025   \n",
       "4            P50   0719792557216079-1 DOLLAR.mp4  1DOLLAR     C_02_025   \n",
       "\n",
       "                                                Path  Frequency  \n",
       "0  file:///media/kristian/HDD/ASL_Citizen/ASL_Cit...         15  \n",
       "1  file:///media/kristian/HDD/ASL_Citizen/ASL_Cit...         15  \n",
       "2  file:///media/kristian/HDD/ASL_Citizen/ASL_Cit...         15  \n",
       "3  file:///media/kristian/HDD/ASL_Citizen/ASL_Cit...         15  \n",
       "4  file:///media/kristian/HDD/ASL_Citizen/ASL_Cit...         15  "
      ]
     },
     "execution_count": 14,
     "metadata": {},
     "output_type": "execute_result"
    }
   ],
   "source": [
    "traindf.head()"
   ]
  },
  {
   "cell_type": "code",
   "execution_count": 15,
   "id": "5bdd5fc9",
   "metadata": {
    "ExecuteTime": {
     "end_time": "2023-08-07T14:32:54.963230Z",
     "start_time": "2023-08-07T14:32:54.954940Z"
    }
   },
   "outputs": [
    {
     "data": {
      "text/html": [
       "<div>\n",
       "<style scoped>\n",
       "    .dataframe tbody tr th:only-of-type {\n",
       "        vertical-align: middle;\n",
       "    }\n",
       "\n",
       "    .dataframe tbody tr th {\n",
       "        vertical-align: top;\n",
       "    }\n",
       "\n",
       "    .dataframe thead th {\n",
       "        text-align: right;\n",
       "    }\n",
       "</style>\n",
       "<table border=\"1\" class=\"dataframe\">\n",
       "  <thead>\n",
       "    <tr style=\"text-align: right;\">\n",
       "      <th></th>\n",
       "      <th>Participant ID</th>\n",
       "      <th>Video file</th>\n",
       "      <th>Gloss</th>\n",
       "      <th>ASL-LEX Code</th>\n",
       "      <th>Path</th>\n",
       "      <th>Frequency</th>\n",
       "    </tr>\n",
       "  </thead>\n",
       "  <tbody>\n",
       "    <tr>\n",
       "      <th>40149</th>\n",
       "      <td>P37</td>\n",
       "      <td>9716493262876276-ZOOM OFF.mp4</td>\n",
       "      <td>ZOOMOFF</td>\n",
       "      <td>D_01_057</td>\n",
       "      <td>file:///media/kristian/HDD/ASL_Citizen/ASL_Cit...</td>\n",
       "      <td>15</td>\n",
       "    </tr>\n",
       "    <tr>\n",
       "      <th>40150</th>\n",
       "      <td>P31</td>\n",
       "      <td>7550572181460327-ZOOM OFF.mp4</td>\n",
       "      <td>ZOOMOFF</td>\n",
       "      <td>D_01_057</td>\n",
       "      <td>file:///media/kristian/HDD/ASL_Citizen/ASL_Cit...</td>\n",
       "      <td>15</td>\n",
       "    </tr>\n",
       "    <tr>\n",
       "      <th>40151</th>\n",
       "      <td>P46</td>\n",
       "      <td>47985881750082227-ZOOM OFF.mp4</td>\n",
       "      <td>ZOOMOFF</td>\n",
       "      <td>D_01_057</td>\n",
       "      <td>file:///media/kristian/HDD/ASL_Citizen/ASL_Cit...</td>\n",
       "      <td>15</td>\n",
       "    </tr>\n",
       "    <tr>\n",
       "      <th>40152</th>\n",
       "      <td>P50</td>\n",
       "      <td>04671245574824856-ZOOM OFF.mp4</td>\n",
       "      <td>ZOOMOFF</td>\n",
       "      <td>D_01_057</td>\n",
       "      <td>file:///media/kristian/HDD/ASL_Citizen/ASL_Cit...</td>\n",
       "      <td>15</td>\n",
       "    </tr>\n",
       "    <tr>\n",
       "      <th>40153</th>\n",
       "      <td>P51</td>\n",
       "      <td>19959052532136146-ZOOM OFF.mp4</td>\n",
       "      <td>ZOOMOFF</td>\n",
       "      <td>D_01_057</td>\n",
       "      <td>file:///media/kristian/HDD/ASL_Citizen/ASL_Cit...</td>\n",
       "      <td>15</td>\n",
       "    </tr>\n",
       "  </tbody>\n",
       "</table>\n",
       "</div>"
      ],
      "text/plain": [
       "      Participant ID                      Video file    Gloss ASL-LEX Code  \\\n",
       "40149            P37   9716493262876276-ZOOM OFF.mp4  ZOOMOFF     D_01_057   \n",
       "40150            P31   7550572181460327-ZOOM OFF.mp4  ZOOMOFF     D_01_057   \n",
       "40151            P46  47985881750082227-ZOOM OFF.mp4  ZOOMOFF     D_01_057   \n",
       "40152            P50  04671245574824856-ZOOM OFF.mp4  ZOOMOFF     D_01_057   \n",
       "40153            P51  19959052532136146-ZOOM OFF.mp4  ZOOMOFF     D_01_057   \n",
       "\n",
       "                                                    Path  Frequency  \n",
       "40149  file:///media/kristian/HDD/ASL_Citizen/ASL_Cit...         15  \n",
       "40150  file:///media/kristian/HDD/ASL_Citizen/ASL_Cit...         15  \n",
       "40151  file:///media/kristian/HDD/ASL_Citizen/ASL_Cit...         15  \n",
       "40152  file:///media/kristian/HDD/ASL_Citizen/ASL_Cit...         15  \n",
       "40153  file:///media/kristian/HDD/ASL_Citizen/ASL_Cit...         15  "
      ]
     },
     "execution_count": 15,
     "metadata": {},
     "output_type": "execute_result"
    }
   ],
   "source": [
    "traindf.tail()"
   ]
  },
  {
   "cell_type": "code",
   "execution_count": 16,
   "id": "095e54bd",
   "metadata": {
    "ExecuteTime": {
     "end_time": "2023-08-07T14:32:56.609097Z",
     "start_time": "2023-08-07T14:32:56.605700Z"
    }
   },
   "outputs": [
    {
     "data": {
      "text/plain": [
       "'file:///media/kristian/HDD/ASL_Citizen/ASL_Citizen/videos/3827306090663467-1 DOLLAR.mp4'"
      ]
     },
     "execution_count": 16,
     "metadata": {},
     "output_type": "execute_result"
    }
   ],
   "source": [
    "traindf['Path'][0]"
   ]
  },
  {
   "cell_type": "code",
   "execution_count": 17,
   "id": "d581c72d",
   "metadata": {
    "ExecuteTime": {
     "end_time": "2023-08-07T14:33:02.136076Z",
     "start_time": "2023-08-07T14:32:58.892412Z"
    }
   },
   "outputs": [],
   "source": [
    "cap = cv2.VideoCapture(traindf['Path'][0])\n",
    "#cap = cv2.VideoCapture(0)\n",
    "\n",
    "with mp_holistic.Holistic(static_image_mode=False,\n",
    "                          model_complexity=2) as holistic:\n",
    "    while True:\n",
    "        ret, frame = cap.read()\n",
    "        if ret == False:\n",
    "            break\n",
    "        frame_rgb = cv2.cvtColor(frame, cv2.COLOR_BGR2RGB)\n",
    "        results = holistic.process(frame_rgb)\n",
    "        # face\n",
    "        mp_drawing.draw_landmarks(\n",
    "            frame, results.face_landmarks, mp_holistic.FACEMESH_TESSELATION,\n",
    "            mp_drawing.DrawingSpec(color=(0, 255, 255),\n",
    "                                   thickness=1,\n",
    "                                   circle_radius=1),\n",
    "            mp_drawing.DrawingSpec(color=(0, 128, 255), thickness=2))\n",
    "\n",
    "        # Left hand\n",
    "        mp_drawing.draw_landmarks(\n",
    "            frame, results.left_hand_landmarks, mp_holistic.HAND_CONNECTIONS,\n",
    "            mp_drawing.DrawingSpec(color=(0, 0, 0),\n",
    "                                   thickness=2,\n",
    "                                   circle_radius=1),\n",
    "            mp_drawing.DrawingSpec(color=(0, 92, 230), thickness=2))\n",
    "\n",
    "        # Right Hand\n",
    "        mp_drawing.draw_landmarks(\n",
    "            frame, results.right_hand_landmarks, mp_holistic.HAND_CONNECTIONS,\n",
    "            mp_drawing.DrawingSpec(color=(0, 0, 0),\n",
    "                                   thickness=2,\n",
    "                                   circle_radius=1),\n",
    "            mp_drawing.DrawingSpec(color=(0, 92, 230), thickness=2))\n",
    "\n",
    "        # Posture\n",
    "        mp_drawing.draw_landmarks(\n",
    "            frame, results.pose_landmarks, mp_holistic.POSE_CONNECTIONS,\n",
    "            mp_drawing.DrawingSpec(color=(0, 0, 0),\n",
    "                                   thickness=2,\n",
    "                                   circle_radius=1),\n",
    "            mp_drawing.DrawingSpec(color=(0, 92, 230), thickness=2))\n",
    "        frame = cv2.flip(frame, 1)\n",
    "        cv2.imshow(\"Frame\", frame)\n",
    "        if cv2.waitKey(1) & 0xFF == 27:\n",
    "            break\n",
    "cap.release()\n",
    "cv2.destroyAllWindows()"
   ]
  },
  {
   "cell_type": "code",
   "execution_count": 18,
   "id": "7e7c3bde",
   "metadata": {
    "ExecuteTime": {
     "end_time": "2023-08-07T14:33:03.698942Z",
     "start_time": "2023-08-07T14:33:03.689589Z"
    },
    "scrolled": false
   },
   "outputs": [
    {
     "data": {
      "text/html": [
       "<div>\n",
       "<style scoped>\n",
       "    .dataframe tbody tr th:only-of-type {\n",
       "        vertical-align: middle;\n",
       "    }\n",
       "\n",
       "    .dataframe tbody tr th {\n",
       "        vertical-align: top;\n",
       "    }\n",
       "\n",
       "    .dataframe thead th {\n",
       "        text-align: right;\n",
       "    }\n",
       "</style>\n",
       "<table border=\"1\" class=\"dataframe\">\n",
       "  <thead>\n",
       "    <tr style=\"text-align: right;\">\n",
       "      <th></th>\n",
       "      <th>Participant ID</th>\n",
       "      <th>Video file</th>\n",
       "      <th>Gloss</th>\n",
       "      <th>ASL-LEX Code</th>\n",
       "      <th>Path</th>\n",
       "      <th>Frequency</th>\n",
       "    </tr>\n",
       "  </thead>\n",
       "  <tbody>\n",
       "    <tr>\n",
       "      <th>16970</th>\n",
       "      <td>P29</td>\n",
       "      <td>7590669547710722-HITCHHIKE.mp4</td>\n",
       "      <td>HITCHHIKE</td>\n",
       "      <td>J_02_034</td>\n",
       "      <td>file:///media/kristian/HDD/ASL_Citizen/ASL_Cit...</td>\n",
       "      <td>13</td>\n",
       "    </tr>\n",
       "    <tr>\n",
       "      <th>24195</th>\n",
       "      <td>P27</td>\n",
       "      <td>21203636481513954-OR.mp4</td>\n",
       "      <td>OR</td>\n",
       "      <td>F_03_081</td>\n",
       "      <td>file:///media/kristian/HDD/ASL_Citizen/ASL_Cit...</td>\n",
       "      <td>15</td>\n",
       "    </tr>\n",
       "    <tr>\n",
       "      <th>35310</th>\n",
       "      <td>P14</td>\n",
       "      <td>46737223048953713-TENT.mp4</td>\n",
       "      <td>TENT</td>\n",
       "      <td>E_02_012</td>\n",
       "      <td>file:///media/kristian/HDD/ASL_Citizen/ASL_Cit...</td>\n",
       "      <td>16</td>\n",
       "    </tr>\n",
       "    <tr>\n",
       "      <th>38248</th>\n",
       "      <td>P50</td>\n",
       "      <td>6046104101537046-WANT 2.mp4</td>\n",
       "      <td>WANT1</td>\n",
       "      <td>E_01_025</td>\n",
       "      <td>file:///media/kristian/HDD/ASL_Citizen/ASL_Cit...</td>\n",
       "      <td>16</td>\n",
       "    </tr>\n",
       "    <tr>\n",
       "      <th>35501</th>\n",
       "      <td>P43</td>\n",
       "      <td>07598140885303795-THERMOMETER.mp4</td>\n",
       "      <td>THERMOMETER</td>\n",
       "      <td>D_02_012</td>\n",
       "      <td>file:///media/kristian/HDD/ASL_Citizen/ASL_Cit...</td>\n",
       "      <td>16</td>\n",
       "    </tr>\n",
       "    <tr>\n",
       "      <th>12975</th>\n",
       "      <td>P27</td>\n",
       "      <td>41565812261435275-FINGERSPELLING.mp4</td>\n",
       "      <td>FINGERSPELLING</td>\n",
       "      <td>B_03_065</td>\n",
       "      <td>file:///media/kristian/HDD/ASL_Citizen/ASL_Cit...</td>\n",
       "      <td>13</td>\n",
       "    </tr>\n",
       "    <tr>\n",
       "      <th>5425</th>\n",
       "      <td>P14</td>\n",
       "      <td>5495199667315276-CASTLE 2.mp4</td>\n",
       "      <td>CASTLE2</td>\n",
       "      <td>K_01_017</td>\n",
       "      <td>file:///media/kristian/HDD/ASL_Citizen/ASL_Cit...</td>\n",
       "      <td>16</td>\n",
       "    </tr>\n",
       "    <tr>\n",
       "      <th>39115</th>\n",
       "      <td>P33</td>\n",
       "      <td>28913897920899023-WHY.mp4</td>\n",
       "      <td>WHY</td>\n",
       "      <td>D_01_067</td>\n",
       "      <td>file:///media/kristian/HDD/ASL_Citizen/ASL_Cit...</td>\n",
       "      <td>14</td>\n",
       "    </tr>\n",
       "    <tr>\n",
       "      <th>17590</th>\n",
       "      <td>P27</td>\n",
       "      <td>47262000245136493-HUNGRY.mp4</td>\n",
       "      <td>HUNGRY</td>\n",
       "      <td>C_01_010</td>\n",
       "      <td>file:///media/kristian/HDD/ASL_Citizen/ASL_Cit...</td>\n",
       "      <td>15</td>\n",
       "    </tr>\n",
       "    <tr>\n",
       "      <th>26065</th>\n",
       "      <td>P29</td>\n",
       "      <td>37115423300976147-PIZZA CUTTER.mp4</td>\n",
       "      <td>PIZZACUTTER</td>\n",
       "      <td>E_02_084</td>\n",
       "      <td>file:///media/kristian/HDD/ASL_Citizen/ASL_Cit...</td>\n",
       "      <td>16</td>\n",
       "    </tr>\n",
       "    <tr>\n",
       "      <th>24238</th>\n",
       "      <td>P16</td>\n",
       "      <td>9530048846723267-ORANGE EYES.mp4</td>\n",
       "      <td>ORANGEEYES</td>\n",
       "      <td>E_03_087</td>\n",
       "      <td>file:///media/kristian/HDD/ASL_Citizen/ASL_Cit...</td>\n",
       "      <td>16</td>\n",
       "    </tr>\n",
       "    <tr>\n",
       "      <th>23708</th>\n",
       "      <td>P40</td>\n",
       "      <td>7389574114292055-OCEAN.mp4</td>\n",
       "      <td>OCEAN</td>\n",
       "      <td>G_03_076</td>\n",
       "      <td>file:///media/kristian/HDD/ASL_Citizen/ASL_Cit...</td>\n",
       "      <td>14</td>\n",
       "    </tr>\n",
       "    <tr>\n",
       "      <th>37362</th>\n",
       "      <td>P16</td>\n",
       "      <td>18001375597282498-UNICORN.mp4</td>\n",
       "      <td>UNICORN</td>\n",
       "      <td>F_02_031</td>\n",
       "      <td>file:///media/kristian/HDD/ASL_Citizen/ASL_Cit...</td>\n",
       "      <td>13</td>\n",
       "    </tr>\n",
       "    <tr>\n",
       "      <th>11016</th>\n",
       "      <td>P50</td>\n",
       "      <td>007821997608132847-ECLIPSE.mp4</td>\n",
       "      <td>ECLIPSE</td>\n",
       "      <td>F_02_015</td>\n",
       "      <td>file:///media/kristian/HDD/ASL_Citizen/ASL_Cit...</td>\n",
       "      <td>13</td>\n",
       "    </tr>\n",
       "    <tr>\n",
       "      <th>34687</th>\n",
       "      <td>P29</td>\n",
       "      <td>9848546864584722-SWING 2.mp4</td>\n",
       "      <td>SWING2</td>\n",
       "      <td>F_02_085</td>\n",
       "      <td>file:///media/kristian/HDD/ASL_Citizen/ASL_Cit...</td>\n",
       "      <td>14</td>\n",
       "    </tr>\n",
       "    <tr>\n",
       "      <th>10063</th>\n",
       "      <td>P11</td>\n",
       "      <td>4153553967461503-DONT NEED.mp4</td>\n",
       "      <td>DONTNEED</td>\n",
       "      <td>H_01_104</td>\n",
       "      <td>file:///media/kristian/HDD/ASL_Citizen/ASL_Cit...</td>\n",
       "      <td>14</td>\n",
       "    </tr>\n",
       "    <tr>\n",
       "      <th>27091</th>\n",
       "      <td>P50</td>\n",
       "      <td>6513123080229295-PROBLEM 2.mp4</td>\n",
       "      <td>PROBLEM1</td>\n",
       "      <td>B_03_047</td>\n",
       "      <td>file:///media/kristian/HDD/ASL_Citizen/ASL_Cit...</td>\n",
       "      <td>14</td>\n",
       "    </tr>\n",
       "    <tr>\n",
       "      <th>11319</th>\n",
       "      <td>P29</td>\n",
       "      <td>04397345722703205-EMBARRASS.mp4</td>\n",
       "      <td>EMBARRASS</td>\n",
       "      <td>C_01_014</td>\n",
       "      <td>file:///media/kristian/HDD/ASL_Citizen/ASL_Cit...</td>\n",
       "      <td>15</td>\n",
       "    </tr>\n",
       "    <tr>\n",
       "      <th>14865</th>\n",
       "      <td>P29</td>\n",
       "      <td>8354410716389704-GO.mp4</td>\n",
       "      <td>GO</td>\n",
       "      <td>C_03_056</td>\n",
       "      <td>file:///media/kristian/HDD/ASL_Citizen/ASL_Cit...</td>\n",
       "      <td>15</td>\n",
       "    </tr>\n",
       "    <tr>\n",
       "      <th>39684</th>\n",
       "      <td>P31</td>\n",
       "      <td>5590970103484183-WRAP UP_2.mp4</td>\n",
       "      <td>WRAPUP2</td>\n",
       "      <td>K_02_062</td>\n",
       "      <td>file:///media/kristian/HDD/ASL_Citizen/ASL_Cit...</td>\n",
       "      <td>13</td>\n",
       "    </tr>\n",
       "  </tbody>\n",
       "</table>\n",
       "</div>"
      ],
      "text/plain": [
       "      Participant ID                            Video file           Gloss  \\\n",
       "16970            P29        7590669547710722-HITCHHIKE.mp4       HITCHHIKE   \n",
       "24195            P27              21203636481513954-OR.mp4              OR   \n",
       "35310            P14            46737223048953713-TENT.mp4            TENT   \n",
       "38248            P50           6046104101537046-WANT 2.mp4           WANT1   \n",
       "35501            P43     07598140885303795-THERMOMETER.mp4     THERMOMETER   \n",
       "12975            P27  41565812261435275-FINGERSPELLING.mp4  FINGERSPELLING   \n",
       "5425             P14         5495199667315276-CASTLE 2.mp4         CASTLE2   \n",
       "39115            P33             28913897920899023-WHY.mp4             WHY   \n",
       "17590            P27          47262000245136493-HUNGRY.mp4          HUNGRY   \n",
       "26065            P29    37115423300976147-PIZZA CUTTER.mp4     PIZZACUTTER   \n",
       "24238            P16      9530048846723267-ORANGE EYES.mp4      ORANGEEYES   \n",
       "23708            P40            7389574114292055-OCEAN.mp4           OCEAN   \n",
       "37362            P16         18001375597282498-UNICORN.mp4         UNICORN   \n",
       "11016            P50        007821997608132847-ECLIPSE.mp4         ECLIPSE   \n",
       "34687            P29          9848546864584722-SWING 2.mp4          SWING2   \n",
       "10063            P11        4153553967461503-DONT NEED.mp4        DONTNEED   \n",
       "27091            P50        6513123080229295-PROBLEM 2.mp4        PROBLEM1   \n",
       "11319            P29       04397345722703205-EMBARRASS.mp4       EMBARRASS   \n",
       "14865            P29               8354410716389704-GO.mp4              GO   \n",
       "39684            P31        5590970103484183-WRAP UP_2.mp4         WRAPUP2   \n",
       "\n",
       "      ASL-LEX Code                                               Path  \\\n",
       "16970     J_02_034  file:///media/kristian/HDD/ASL_Citizen/ASL_Cit...   \n",
       "24195     F_03_081  file:///media/kristian/HDD/ASL_Citizen/ASL_Cit...   \n",
       "35310     E_02_012  file:///media/kristian/HDD/ASL_Citizen/ASL_Cit...   \n",
       "38248     E_01_025  file:///media/kristian/HDD/ASL_Citizen/ASL_Cit...   \n",
       "35501     D_02_012  file:///media/kristian/HDD/ASL_Citizen/ASL_Cit...   \n",
       "12975     B_03_065  file:///media/kristian/HDD/ASL_Citizen/ASL_Cit...   \n",
       "5425      K_01_017  file:///media/kristian/HDD/ASL_Citizen/ASL_Cit...   \n",
       "39115     D_01_067  file:///media/kristian/HDD/ASL_Citizen/ASL_Cit...   \n",
       "17590     C_01_010  file:///media/kristian/HDD/ASL_Citizen/ASL_Cit...   \n",
       "26065     E_02_084  file:///media/kristian/HDD/ASL_Citizen/ASL_Cit...   \n",
       "24238     E_03_087  file:///media/kristian/HDD/ASL_Citizen/ASL_Cit...   \n",
       "23708     G_03_076  file:///media/kristian/HDD/ASL_Citizen/ASL_Cit...   \n",
       "37362     F_02_031  file:///media/kristian/HDD/ASL_Citizen/ASL_Cit...   \n",
       "11016     F_02_015  file:///media/kristian/HDD/ASL_Citizen/ASL_Cit...   \n",
       "34687     F_02_085  file:///media/kristian/HDD/ASL_Citizen/ASL_Cit...   \n",
       "10063     H_01_104  file:///media/kristian/HDD/ASL_Citizen/ASL_Cit...   \n",
       "27091     B_03_047  file:///media/kristian/HDD/ASL_Citizen/ASL_Cit...   \n",
       "11319     C_01_014  file:///media/kristian/HDD/ASL_Citizen/ASL_Cit...   \n",
       "14865     C_03_056  file:///media/kristian/HDD/ASL_Citizen/ASL_Cit...   \n",
       "39684     K_02_062  file:///media/kristian/HDD/ASL_Citizen/ASL_Cit...   \n",
       "\n",
       "       Frequency  \n",
       "16970         13  \n",
       "24195         15  \n",
       "35310         16  \n",
       "38248         16  \n",
       "35501         16  \n",
       "12975         13  \n",
       "5425          16  \n",
       "39115         14  \n",
       "17590         15  \n",
       "26065         16  \n",
       "24238         16  \n",
       "23708         14  \n",
       "37362         13  \n",
       "11016         13  \n",
       "34687         14  \n",
       "10063         14  \n",
       "27091         14  \n",
       "11319         15  \n",
       "14865         15  \n",
       "39684         13  "
      ]
     },
     "execution_count": 18,
     "metadata": {},
     "output_type": "execute_result"
    }
   ],
   "source": [
    "traindf.sample(20)"
   ]
  },
  {
   "cell_type": "code",
   "execution_count": null,
   "id": "cf42e5e2",
   "metadata": {},
   "outputs": [],
   "source": []
  },
  {
   "cell_type": "code",
   "execution_count": 19,
   "id": "980e9aca",
   "metadata": {
    "ExecuteTime": {
     "end_time": "2023-08-07T14:33:05.190918Z",
     "start_time": "2023-08-07T14:33:05.187547Z"
    }
   },
   "outputs": [],
   "source": [
    "traindf = traindf[traindf['Frequency'] > 17]\n",
    "traindf = traindf.reset_index(drop=True)"
   ]
  },
  {
   "cell_type": "code",
   "execution_count": 20,
   "id": "e3da8550",
   "metadata": {
    "ExecuteTime": {
     "end_time": "2023-08-07T14:33:06.875877Z",
     "start_time": "2023-08-07T14:33:06.867118Z"
    }
   },
   "outputs": [
    {
     "data": {
      "text/html": [
       "<div>\n",
       "<style scoped>\n",
       "    .dataframe tbody tr th:only-of-type {\n",
       "        vertical-align: middle;\n",
       "    }\n",
       "\n",
       "    .dataframe tbody tr th {\n",
       "        vertical-align: top;\n",
       "    }\n",
       "\n",
       "    .dataframe thead th {\n",
       "        text-align: right;\n",
       "    }\n",
       "</style>\n",
       "<table border=\"1\" class=\"dataframe\">\n",
       "  <thead>\n",
       "    <tr style=\"text-align: right;\">\n",
       "      <th></th>\n",
       "      <th>Participant ID</th>\n",
       "      <th>Video file</th>\n",
       "      <th>Gloss</th>\n",
       "      <th>ASL-LEX Code</th>\n",
       "      <th>Path</th>\n",
       "      <th>Frequency</th>\n",
       "    </tr>\n",
       "  </thead>\n",
       "  <tbody>\n",
       "    <tr>\n",
       "      <th>0</th>\n",
       "      <td>P52</td>\n",
       "      <td>07157565148825373-seedAXE.mp4</td>\n",
       "      <td>AXE1</td>\n",
       "      <td>G_03_066</td>\n",
       "      <td>file:///media/kristian/HDD/ASL_Citizen/ASL_Cit...</td>\n",
       "      <td>19</td>\n",
       "    </tr>\n",
       "    <tr>\n",
       "      <th>1</th>\n",
       "      <td>P28</td>\n",
       "      <td>7179300005186042-AXE.mp4</td>\n",
       "      <td>AXE1</td>\n",
       "      <td>G_03_066</td>\n",
       "      <td>file:///media/kristian/HDD/ASL_Citizen/ASL_Cit...</td>\n",
       "      <td>19</td>\n",
       "    </tr>\n",
       "    <tr>\n",
       "      <th>2</th>\n",
       "      <td>P29</td>\n",
       "      <td>16216064841959765-AXE.mp4</td>\n",
       "      <td>AXE1</td>\n",
       "      <td>G_03_066</td>\n",
       "      <td>file:///media/kristian/HDD/ASL_Citizen/ASL_Cit...</td>\n",
       "      <td>19</td>\n",
       "    </tr>\n",
       "    <tr>\n",
       "      <th>3</th>\n",
       "      <td>P37</td>\n",
       "      <td>6193814382865199-AXE.mp4</td>\n",
       "      <td>AXE1</td>\n",
       "      <td>G_03_066</td>\n",
       "      <td>file:///media/kristian/HDD/ASL_Citizen/ASL_Cit...</td>\n",
       "      <td>19</td>\n",
       "    </tr>\n",
       "    <tr>\n",
       "      <th>4</th>\n",
       "      <td>P40</td>\n",
       "      <td>5947453960317015-AXE.mp4</td>\n",
       "      <td>AXE1</td>\n",
       "      <td>G_03_066</td>\n",
       "      <td>file:///media/kristian/HDD/ASL_Citizen/ASL_Cit...</td>\n",
       "      <td>19</td>\n",
       "    </tr>\n",
       "  </tbody>\n",
       "</table>\n",
       "</div>"
      ],
      "text/plain": [
       "  Participant ID                     Video file Gloss ASL-LEX Code  \\\n",
       "0            P52  07157565148825373-seedAXE.mp4  AXE1     G_03_066   \n",
       "1            P28       7179300005186042-AXE.mp4  AXE1     G_03_066   \n",
       "2            P29      16216064841959765-AXE.mp4  AXE1     G_03_066   \n",
       "3            P37       6193814382865199-AXE.mp4  AXE1     G_03_066   \n",
       "4            P40       5947453960317015-AXE.mp4  AXE1     G_03_066   \n",
       "\n",
       "                                                Path  Frequency  \n",
       "0  file:///media/kristian/HDD/ASL_Citizen/ASL_Cit...         19  \n",
       "1  file:///media/kristian/HDD/ASL_Citizen/ASL_Cit...         19  \n",
       "2  file:///media/kristian/HDD/ASL_Citizen/ASL_Cit...         19  \n",
       "3  file:///media/kristian/HDD/ASL_Citizen/ASL_Cit...         19  \n",
       "4  file:///media/kristian/HDD/ASL_Citizen/ASL_Cit...         19  "
      ]
     },
     "execution_count": 20,
     "metadata": {},
     "output_type": "execute_result"
    }
   ],
   "source": [
    "traindf.head()"
   ]
  },
  {
   "cell_type": "code",
   "execution_count": 21,
   "id": "98e78fd9",
   "metadata": {
    "ExecuteTime": {
     "end_time": "2023-08-07T14:33:07.658520Z",
     "start_time": "2023-08-07T14:33:07.651814Z"
    }
   },
   "outputs": [
    {
     "data": {
      "text/html": [
       "<div>\n",
       "<style scoped>\n",
       "    .dataframe tbody tr th:only-of-type {\n",
       "        vertical-align: middle;\n",
       "    }\n",
       "\n",
       "    .dataframe tbody tr th {\n",
       "        vertical-align: top;\n",
       "    }\n",
       "\n",
       "    .dataframe thead th {\n",
       "        text-align: right;\n",
       "    }\n",
       "</style>\n",
       "<table border=\"1\" class=\"dataframe\">\n",
       "  <thead>\n",
       "    <tr style=\"text-align: right;\">\n",
       "      <th></th>\n",
       "      <th>Participant ID</th>\n",
       "      <th>Video file</th>\n",
       "      <th>Gloss</th>\n",
       "      <th>ASL-LEX Code</th>\n",
       "      <th>Path</th>\n",
       "      <th>Frequency</th>\n",
       "    </tr>\n",
       "  </thead>\n",
       "  <tbody>\n",
       "    <tr>\n",
       "      <th>945</th>\n",
       "      <td>P50</td>\n",
       "      <td>9161417844146778-WHAT FOR.mp4</td>\n",
       "      <td>WHATFOR1</td>\n",
       "      <td>C_02_054</td>\n",
       "      <td>file:///media/kristian/HDD/ASL_Citizen/ASL_Cit...</td>\n",
       "      <td>20</td>\n",
       "    </tr>\n",
       "    <tr>\n",
       "      <th>946</th>\n",
       "      <td>P14</td>\n",
       "      <td>00930662603221255-WHAT FOR.mp4</td>\n",
       "      <td>WHATFOR1</td>\n",
       "      <td>C_02_054</td>\n",
       "      <td>file:///media/kristian/HDD/ASL_Citizen/ASL_Cit...</td>\n",
       "      <td>20</td>\n",
       "    </tr>\n",
       "    <tr>\n",
       "      <th>947</th>\n",
       "      <td>P27</td>\n",
       "      <td>82063651021682-WHAT FOR.mp4</td>\n",
       "      <td>WHATFOR1</td>\n",
       "      <td>C_02_054</td>\n",
       "      <td>file:///media/kristian/HDD/ASL_Citizen/ASL_Cit...</td>\n",
       "      <td>20</td>\n",
       "    </tr>\n",
       "    <tr>\n",
       "      <th>948</th>\n",
       "      <td>P40</td>\n",
       "      <td>5268072837528903-WHAT FOR.mp4</td>\n",
       "      <td>WHATFOR1</td>\n",
       "      <td>C_02_054</td>\n",
       "      <td>file:///media/kristian/HDD/ASL_Citizen/ASL_Cit...</td>\n",
       "      <td>20</td>\n",
       "    </tr>\n",
       "    <tr>\n",
       "      <th>949</th>\n",
       "      <td>P40</td>\n",
       "      <td>6363286086951516-WHAT FOR.mp4</td>\n",
       "      <td>WHATFOR1</td>\n",
       "      <td>C_02_054</td>\n",
       "      <td>file:///media/kristian/HDD/ASL_Citizen/ASL_Cit...</td>\n",
       "      <td>20</td>\n",
       "    </tr>\n",
       "  </tbody>\n",
       "</table>\n",
       "</div>"
      ],
      "text/plain": [
       "    Participant ID                      Video file     Gloss ASL-LEX Code  \\\n",
       "945            P50   9161417844146778-WHAT FOR.mp4  WHATFOR1     C_02_054   \n",
       "946            P14  00930662603221255-WHAT FOR.mp4  WHATFOR1     C_02_054   \n",
       "947            P27     82063651021682-WHAT FOR.mp4  WHATFOR1     C_02_054   \n",
       "948            P40   5268072837528903-WHAT FOR.mp4  WHATFOR1     C_02_054   \n",
       "949            P40   6363286086951516-WHAT FOR.mp4  WHATFOR1     C_02_054   \n",
       "\n",
       "                                                  Path  Frequency  \n",
       "945  file:///media/kristian/HDD/ASL_Citizen/ASL_Cit...         20  \n",
       "946  file:///media/kristian/HDD/ASL_Citizen/ASL_Cit...         20  \n",
       "947  file:///media/kristian/HDD/ASL_Citizen/ASL_Cit...         20  \n",
       "948  file:///media/kristian/HDD/ASL_Citizen/ASL_Cit...         20  \n",
       "949  file:///media/kristian/HDD/ASL_Citizen/ASL_Cit...         20  "
      ]
     },
     "execution_count": 21,
     "metadata": {},
     "output_type": "execute_result"
    }
   ],
   "source": [
    "traindf.tail()"
   ]
  },
  {
   "cell_type": "code",
   "execution_count": 22,
   "id": "c1d6fcb5",
   "metadata": {
    "ExecuteTime": {
     "end_time": "2023-08-07T14:33:08.375862Z",
     "start_time": "2023-08-07T14:33:08.350331Z"
    }
   },
   "outputs": [
    {
     "data": {
      "text/html": [
       "<div>\n",
       "<style scoped>\n",
       "    .dataframe tbody tr th:only-of-type {\n",
       "        vertical-align: middle;\n",
       "    }\n",
       "\n",
       "    .dataframe tbody tr th {\n",
       "        vertical-align: top;\n",
       "    }\n",
       "\n",
       "    .dataframe thead th {\n",
       "        text-align: right;\n",
       "    }\n",
       "</style>\n",
       "<table border=\"1\" class=\"dataframe\">\n",
       "  <thead>\n",
       "    <tr style=\"text-align: right;\">\n",
       "      <th></th>\n",
       "      <th>Frequency</th>\n",
       "    </tr>\n",
       "  </thead>\n",
       "  <tbody>\n",
       "    <tr>\n",
       "      <th>count</th>\n",
       "      <td>950.000000</td>\n",
       "    </tr>\n",
       "    <tr>\n",
       "      <th>mean</th>\n",
       "      <td>19.082105</td>\n",
       "    </tr>\n",
       "    <tr>\n",
       "      <th>std</th>\n",
       "      <td>1.316026</td>\n",
       "    </tr>\n",
       "    <tr>\n",
       "      <th>min</th>\n",
       "      <td>18.000000</td>\n",
       "    </tr>\n",
       "    <tr>\n",
       "      <th>25%</th>\n",
       "      <td>18.000000</td>\n",
       "    </tr>\n",
       "    <tr>\n",
       "      <th>50%</th>\n",
       "      <td>19.000000</td>\n",
       "    </tr>\n",
       "    <tr>\n",
       "      <th>75%</th>\n",
       "      <td>20.000000</td>\n",
       "    </tr>\n",
       "    <tr>\n",
       "      <th>max</th>\n",
       "      <td>24.000000</td>\n",
       "    </tr>\n",
       "  </tbody>\n",
       "</table>\n",
       "</div>"
      ],
      "text/plain": [
       "        Frequency\n",
       "count  950.000000\n",
       "mean    19.082105\n",
       "std      1.316026\n",
       "min     18.000000\n",
       "25%     18.000000\n",
       "50%     19.000000\n",
       "75%     20.000000\n",
       "max     24.000000"
      ]
     },
     "execution_count": 22,
     "metadata": {},
     "output_type": "execute_result"
    }
   ],
   "source": [
    "traindf.describe()"
   ]
  },
  {
   "cell_type": "code",
   "execution_count": 23,
   "id": "90a5583a",
   "metadata": {
    "ExecuteTime": {
     "end_time": "2023-08-07T14:33:09.983495Z",
     "start_time": "2023-08-07T14:33:09.981169Z"
    }
   },
   "outputs": [],
   "source": [
    "#traindf['Gloss'] = traindf['Gloss'].str.replace('\\d+', '',regex=True)"
   ]
  },
  {
   "cell_type": "code",
   "execution_count": 24,
   "id": "17318e0f",
   "metadata": {
    "ExecuteTime": {
     "end_time": "2023-08-07T14:33:10.680425Z",
     "start_time": "2023-08-07T14:33:10.656740Z"
    }
   },
   "outputs": [
    {
     "data": {
      "text/plain": [
       "50"
      ]
     },
     "execution_count": 24,
     "metadata": {},
     "output_type": "execute_result"
    }
   ],
   "source": [
    "traindf['Gloss'].nunique()"
   ]
  },
  {
   "cell_type": "code",
   "execution_count": 25,
   "id": "2e7f4f27",
   "metadata": {
    "ExecuteTime": {
     "end_time": "2023-08-07T14:33:11.321544Z",
     "start_time": "2023-08-07T14:33:11.317935Z"
    }
   },
   "outputs": [
    {
     "data": {
      "text/plain": [
       "array(['AXE1', 'BACKPACK1', 'BASKETBALL1', 'BEE1', 'BELT1', 'BITE1',\n",
       "       'BREAKFAST1', 'CANCER1', 'CHRISTMAS1', 'CONFUSED1', 'DARK1',\n",
       "       'DEAF1', 'DECIDE1', 'DEMAND1', 'DEVELOP1', 'DINNER1', 'DOG1',\n",
       "       'DOWNSIZE1', 'DRAG1', 'EAT1', 'EDIT1', 'ELEVATOR1', 'FINE1',\n",
       "       'FLOAT1', 'FOREIGNER1', 'GUESS1', 'HALLOWEEN1', 'HOSPITAL1',\n",
       "       'HURDLE/TRIP1', 'JEWELRY', 'KNIGHT1', 'LOCK1', 'LUNCH1', 'MAPLE',\n",
       "       'MEAT1', 'MECHANIC1', 'MICROSCOPE1', 'MOVIE1', 'NOON1', 'PARTY1',\n",
       "       'PATIENT2', 'RAZOR2', 'RIVER1', 'ROCKINGCHAIR1', 'SHAVE1', 'SINK',\n",
       "       'SQUEEZE', 'THEY1', 'TWINS1', 'WHATFOR1'], dtype=object)"
      ]
     },
     "execution_count": 25,
     "metadata": {},
     "output_type": "execute_result"
    }
   ],
   "source": [
    "words = traindf['Gloss'].unique()\n",
    "words"
   ]
  },
  {
   "cell_type": "code",
   "execution_count": 26,
   "id": "c400650b",
   "metadata": {
    "ExecuteTime": {
     "end_time": "2023-08-07T14:33:12.191279Z",
     "start_time": "2023-08-07T14:33:12.142600Z"
    }
   },
   "outputs": [],
   "source": [
    "valdf = signvideodataframe('file:///media/kristian/HDD/ASL_Citizen/ASL_Citizen/splits/val.csv') "
   ]
  },
  {
   "cell_type": "code",
   "execution_count": 27,
   "id": "8c148709",
   "metadata": {
    "ExecuteTime": {
     "end_time": "2023-08-07T14:33:13.080736Z",
     "start_time": "2023-08-07T14:33:13.073786Z"
    }
   },
   "outputs": [
    {
     "data": {
      "text/html": [
       "<div>\n",
       "<style scoped>\n",
       "    .dataframe tbody tr th:only-of-type {\n",
       "        vertical-align: middle;\n",
       "    }\n",
       "\n",
       "    .dataframe tbody tr th {\n",
       "        vertical-align: top;\n",
       "    }\n",
       "\n",
       "    .dataframe thead th {\n",
       "        text-align: right;\n",
       "    }\n",
       "</style>\n",
       "<table border=\"1\" class=\"dataframe\">\n",
       "  <thead>\n",
       "    <tr style=\"text-align: right;\">\n",
       "      <th></th>\n",
       "      <th>Participant ID</th>\n",
       "      <th>Video file</th>\n",
       "      <th>Gloss</th>\n",
       "      <th>ASL-LEX Code</th>\n",
       "      <th>Path</th>\n",
       "      <th>Frequency</th>\n",
       "    </tr>\n",
       "  </thead>\n",
       "  <tbody>\n",
       "    <tr>\n",
       "      <th>0</th>\n",
       "      <td>P26</td>\n",
       "      <td>22595012150860327-1 DOLLAR.mp4</td>\n",
       "      <td>1DOLLAR</td>\n",
       "      <td>C_02_025</td>\n",
       "      <td>file:///media/kristian/HDD/ASL_Citizen/ASL_Cit...</td>\n",
       "      <td>3</td>\n",
       "    </tr>\n",
       "    <tr>\n",
       "      <th>1</th>\n",
       "      <td>P39</td>\n",
       "      <td>7421622940519235-1 DOLLAR.mp4</td>\n",
       "      <td>1DOLLAR</td>\n",
       "      <td>C_02_025</td>\n",
       "      <td>file:///media/kristian/HDD/ASL_Citizen/ASL_Cit...</td>\n",
       "      <td>3</td>\n",
       "    </tr>\n",
       "    <tr>\n",
       "      <th>2</th>\n",
       "      <td>P21</td>\n",
       "      <td>686738356933241-1 DOLLAR.mp4</td>\n",
       "      <td>1DOLLAR</td>\n",
       "      <td>C_02_025</td>\n",
       "      <td>file:///media/kristian/HDD/ASL_Citizen/ASL_Cit...</td>\n",
       "      <td>3</td>\n",
       "    </tr>\n",
       "    <tr>\n",
       "      <th>3</th>\n",
       "      <td>P12</td>\n",
       "      <td>9219095671540121-5 DOLLARS.mp4</td>\n",
       "      <td>5DOLLARS</td>\n",
       "      <td>B_01_062</td>\n",
       "      <td>file:///media/kristian/HDD/ASL_Citizen/ASL_Cit...</td>\n",
       "      <td>4</td>\n",
       "    </tr>\n",
       "    <tr>\n",
       "      <th>4</th>\n",
       "      <td>P21</td>\n",
       "      <td>1448188216215387-5 DOLLARS.mp4</td>\n",
       "      <td>5DOLLARS</td>\n",
       "      <td>B_01_062</td>\n",
       "      <td>file:///media/kristian/HDD/ASL_Citizen/ASL_Cit...</td>\n",
       "      <td>4</td>\n",
       "    </tr>\n",
       "  </tbody>\n",
       "</table>\n",
       "</div>"
      ],
      "text/plain": [
       "  Participant ID                      Video file     Gloss ASL-LEX Code  \\\n",
       "0            P26  22595012150860327-1 DOLLAR.mp4   1DOLLAR     C_02_025   \n",
       "1            P39   7421622940519235-1 DOLLAR.mp4   1DOLLAR     C_02_025   \n",
       "2            P21    686738356933241-1 DOLLAR.mp4   1DOLLAR     C_02_025   \n",
       "3            P12  9219095671540121-5 DOLLARS.mp4  5DOLLARS     B_01_062   \n",
       "4            P21  1448188216215387-5 DOLLARS.mp4  5DOLLARS     B_01_062   \n",
       "\n",
       "                                                Path  Frequency  \n",
       "0  file:///media/kristian/HDD/ASL_Citizen/ASL_Cit...          3  \n",
       "1  file:///media/kristian/HDD/ASL_Citizen/ASL_Cit...          3  \n",
       "2  file:///media/kristian/HDD/ASL_Citizen/ASL_Cit...          3  \n",
       "3  file:///media/kristian/HDD/ASL_Citizen/ASL_Cit...          4  \n",
       "4  file:///media/kristian/HDD/ASL_Citizen/ASL_Cit...          4  "
      ]
     },
     "execution_count": 27,
     "metadata": {},
     "output_type": "execute_result"
    }
   ],
   "source": [
    "valdf.head()"
   ]
  },
  {
   "cell_type": "code",
   "execution_count": 28,
   "id": "ec2b183e",
   "metadata": {
    "ExecuteTime": {
     "end_time": "2023-08-07T14:33:13.786852Z",
     "start_time": "2023-08-07T14:33:13.780348Z"
    }
   },
   "outputs": [
    {
     "data": {
      "text/html": [
       "<div>\n",
       "<style scoped>\n",
       "    .dataframe tbody tr th:only-of-type {\n",
       "        vertical-align: middle;\n",
       "    }\n",
       "\n",
       "    .dataframe tbody tr th {\n",
       "        vertical-align: top;\n",
       "    }\n",
       "\n",
       "    .dataframe thead th {\n",
       "        text-align: right;\n",
       "    }\n",
       "</style>\n",
       "<table border=\"1\" class=\"dataframe\">\n",
       "  <thead>\n",
       "    <tr style=\"text-align: right;\">\n",
       "      <th></th>\n",
       "      <th>Participant ID</th>\n",
       "      <th>Video file</th>\n",
       "      <th>Gloss</th>\n",
       "      <th>ASL-LEX Code</th>\n",
       "      <th>Path</th>\n",
       "      <th>Frequency</th>\n",
       "    </tr>\n",
       "  </thead>\n",
       "  <tbody>\n",
       "    <tr>\n",
       "      <th>10299</th>\n",
       "      <td>P21</td>\n",
       "      <td>6959326205750493-ZOOM IN.mp4</td>\n",
       "      <td>ZOOMIN</td>\n",
       "      <td>B_02_056</td>\n",
       "      <td>file:///media/kristian/HDD/ASL_Citizen/ASL_Cit...</td>\n",
       "      <td>3</td>\n",
       "    </tr>\n",
       "    <tr>\n",
       "      <th>10300</th>\n",
       "      <td>P12</td>\n",
       "      <td>7758716133684984-ZOOM OFF.mp4</td>\n",
       "      <td>ZOOMOFF</td>\n",
       "      <td>D_01_057</td>\n",
       "      <td>file:///media/kristian/HDD/ASL_Citizen/ASL_Cit...</td>\n",
       "      <td>4</td>\n",
       "    </tr>\n",
       "    <tr>\n",
       "      <th>10301</th>\n",
       "      <td>P39</td>\n",
       "      <td>844134294032034-ZOOM OFF.mp4</td>\n",
       "      <td>ZOOMOFF</td>\n",
       "      <td>D_01_057</td>\n",
       "      <td>file:///media/kristian/HDD/ASL_Citizen/ASL_Cit...</td>\n",
       "      <td>4</td>\n",
       "    </tr>\n",
       "    <tr>\n",
       "      <th>10302</th>\n",
       "      <td>P21</td>\n",
       "      <td>5548062993721732-ZOOM OFF.mp4</td>\n",
       "      <td>ZOOMOFF</td>\n",
       "      <td>D_01_057</td>\n",
       "      <td>file:///media/kristian/HDD/ASL_Citizen/ASL_Cit...</td>\n",
       "      <td>4</td>\n",
       "    </tr>\n",
       "    <tr>\n",
       "      <th>10303</th>\n",
       "      <td>P26</td>\n",
       "      <td>19366754134806952-ZOOM OFF.mp4</td>\n",
       "      <td>ZOOMOFF</td>\n",
       "      <td>D_01_057</td>\n",
       "      <td>file:///media/kristian/HDD/ASL_Citizen/ASL_Cit...</td>\n",
       "      <td>4</td>\n",
       "    </tr>\n",
       "  </tbody>\n",
       "</table>\n",
       "</div>"
      ],
      "text/plain": [
       "      Participant ID                      Video file    Gloss ASL-LEX Code  \\\n",
       "10299            P21    6959326205750493-ZOOM IN.mp4   ZOOMIN     B_02_056   \n",
       "10300            P12   7758716133684984-ZOOM OFF.mp4  ZOOMOFF     D_01_057   \n",
       "10301            P39    844134294032034-ZOOM OFF.mp4  ZOOMOFF     D_01_057   \n",
       "10302            P21   5548062993721732-ZOOM OFF.mp4  ZOOMOFF     D_01_057   \n",
       "10303            P26  19366754134806952-ZOOM OFF.mp4  ZOOMOFF     D_01_057   \n",
       "\n",
       "                                                    Path  Frequency  \n",
       "10299  file:///media/kristian/HDD/ASL_Citizen/ASL_Cit...          3  \n",
       "10300  file:///media/kristian/HDD/ASL_Citizen/ASL_Cit...          4  \n",
       "10301  file:///media/kristian/HDD/ASL_Citizen/ASL_Cit...          4  \n",
       "10302  file:///media/kristian/HDD/ASL_Citizen/ASL_Cit...          4  \n",
       "10303  file:///media/kristian/HDD/ASL_Citizen/ASL_Cit...          4  "
      ]
     },
     "execution_count": 28,
     "metadata": {},
     "output_type": "execute_result"
    }
   ],
   "source": [
    "valdf.tail()"
   ]
  },
  {
   "cell_type": "code",
   "execution_count": 29,
   "id": "b1578a6c",
   "metadata": {
    "ExecuteTime": {
     "end_time": "2023-08-07T14:33:14.450244Z",
     "start_time": "2023-08-07T14:33:14.369246Z"
    }
   },
   "outputs": [],
   "source": [
    "testdf = signvideodataframe('file:///media/kristian/HDD/ASL_Citizen/ASL_Citizen/splits/test.csv')"
   ]
  },
  {
   "cell_type": "code",
   "execution_count": 30,
   "id": "2a22044f",
   "metadata": {
    "ExecuteTime": {
     "end_time": "2023-08-07T14:33:16.213963Z",
     "start_time": "2023-08-07T14:33:16.207109Z"
    }
   },
   "outputs": [
    {
     "data": {
      "text/html": [
       "<div>\n",
       "<style scoped>\n",
       "    .dataframe tbody tr th:only-of-type {\n",
       "        vertical-align: middle;\n",
       "    }\n",
       "\n",
       "    .dataframe tbody tr th {\n",
       "        vertical-align: top;\n",
       "    }\n",
       "\n",
       "    .dataframe thead th {\n",
       "        text-align: right;\n",
       "    }\n",
       "</style>\n",
       "<table border=\"1\" class=\"dataframe\">\n",
       "  <thead>\n",
       "    <tr style=\"text-align: right;\">\n",
       "      <th></th>\n",
       "      <th>Participant ID</th>\n",
       "      <th>Video file</th>\n",
       "      <th>Gloss</th>\n",
       "      <th>ASL-LEX Code</th>\n",
       "      <th>Path</th>\n",
       "      <th>Frequency</th>\n",
       "    </tr>\n",
       "  </thead>\n",
       "  <tbody>\n",
       "    <tr>\n",
       "      <th>0</th>\n",
       "      <td>P18</td>\n",
       "      <td>23521769221811684-1 DOLLAR.mp4</td>\n",
       "      <td>1DOLLAR</td>\n",
       "      <td>C_02_025</td>\n",
       "      <td>file:///media/kristian/HDD/ASL_Citizen/ASL_Cit...</td>\n",
       "      <td>13</td>\n",
       "    </tr>\n",
       "    <tr>\n",
       "      <th>1</th>\n",
       "      <td>P42</td>\n",
       "      <td>023931338852502426-1 DOLLAR.mp4</td>\n",
       "      <td>1DOLLAR</td>\n",
       "      <td>C_02_025</td>\n",
       "      <td>file:///media/kristian/HDD/ASL_Citizen/ASL_Cit...</td>\n",
       "      <td>13</td>\n",
       "    </tr>\n",
       "    <tr>\n",
       "      <th>2</th>\n",
       "      <td>P49</td>\n",
       "      <td>4893817008748198-1 DOLLAR.mp4</td>\n",
       "      <td>1DOLLAR</td>\n",
       "      <td>C_02_025</td>\n",
       "      <td>file:///media/kristian/HDD/ASL_Citizen/ASL_Cit...</td>\n",
       "      <td>13</td>\n",
       "    </tr>\n",
       "    <tr>\n",
       "      <th>3</th>\n",
       "      <td>P17</td>\n",
       "      <td>13991818149960333-1 DOLLAR.mp4</td>\n",
       "      <td>1DOLLAR</td>\n",
       "      <td>C_02_025</td>\n",
       "      <td>file:///media/kristian/HDD/ASL_Citizen/ASL_Cit...</td>\n",
       "      <td>13</td>\n",
       "    </tr>\n",
       "    <tr>\n",
       "      <th>4</th>\n",
       "      <td>P49</td>\n",
       "      <td>34625615110480457-1 DOLLAR.mp4</td>\n",
       "      <td>1DOLLAR</td>\n",
       "      <td>C_02_025</td>\n",
       "      <td>file:///media/kristian/HDD/ASL_Citizen/ASL_Cit...</td>\n",
       "      <td>13</td>\n",
       "    </tr>\n",
       "  </tbody>\n",
       "</table>\n",
       "</div>"
      ],
      "text/plain": [
       "  Participant ID                       Video file    Gloss ASL-LEX Code  \\\n",
       "0            P18   23521769221811684-1 DOLLAR.mp4  1DOLLAR     C_02_025   \n",
       "1            P42  023931338852502426-1 DOLLAR.mp4  1DOLLAR     C_02_025   \n",
       "2            P49    4893817008748198-1 DOLLAR.mp4  1DOLLAR     C_02_025   \n",
       "3            P17   13991818149960333-1 DOLLAR.mp4  1DOLLAR     C_02_025   \n",
       "4            P49   34625615110480457-1 DOLLAR.mp4  1DOLLAR     C_02_025   \n",
       "\n",
       "                                                Path  Frequency  \n",
       "0  file:///media/kristian/HDD/ASL_Citizen/ASL_Cit...         13  \n",
       "1  file:///media/kristian/HDD/ASL_Citizen/ASL_Cit...         13  \n",
       "2  file:///media/kristian/HDD/ASL_Citizen/ASL_Cit...         13  \n",
       "3  file:///media/kristian/HDD/ASL_Citizen/ASL_Cit...         13  \n",
       "4  file:///media/kristian/HDD/ASL_Citizen/ASL_Cit...         13  "
      ]
     },
     "execution_count": 30,
     "metadata": {},
     "output_type": "execute_result"
    }
   ],
   "source": [
    "testdf.head()"
   ]
  },
  {
   "cell_type": "code",
   "execution_count": 31,
   "id": "0a4cd28e",
   "metadata": {
    "ExecuteTime": {
     "end_time": "2023-08-07T14:33:16.957078Z",
     "start_time": "2023-08-07T14:33:16.950289Z"
    }
   },
   "outputs": [
    {
     "data": {
      "text/html": [
       "<div>\n",
       "<style scoped>\n",
       "    .dataframe tbody tr th:only-of-type {\n",
       "        vertical-align: middle;\n",
       "    }\n",
       "\n",
       "    .dataframe tbody tr th {\n",
       "        vertical-align: top;\n",
       "    }\n",
       "\n",
       "    .dataframe thead th {\n",
       "        text-align: right;\n",
       "    }\n",
       "</style>\n",
       "<table border=\"1\" class=\"dataframe\">\n",
       "  <thead>\n",
       "    <tr style=\"text-align: right;\">\n",
       "      <th></th>\n",
       "      <th>Participant ID</th>\n",
       "      <th>Video file</th>\n",
       "      <th>Gloss</th>\n",
       "      <th>ASL-LEX Code</th>\n",
       "      <th>Path</th>\n",
       "      <th>Frequency</th>\n",
       "    </tr>\n",
       "  </thead>\n",
       "  <tbody>\n",
       "    <tr>\n",
       "      <th>32936</th>\n",
       "      <td>P18</td>\n",
       "      <td>4320702510886756-ZOOM OFF.mp4</td>\n",
       "      <td>ZOOMOFF</td>\n",
       "      <td>D_01_057</td>\n",
       "      <td>file:///media/kristian/HDD/ASL_Citizen/ASL_Cit...</td>\n",
       "      <td>13</td>\n",
       "    </tr>\n",
       "    <tr>\n",
       "      <th>32937</th>\n",
       "      <td>P9</td>\n",
       "      <td>7676354653247301-ZOOM OFF.mp4</td>\n",
       "      <td>ZOOMOFF</td>\n",
       "      <td>D_01_057</td>\n",
       "      <td>file:///media/kristian/HDD/ASL_Citizen/ASL_Cit...</td>\n",
       "      <td>13</td>\n",
       "    </tr>\n",
       "    <tr>\n",
       "      <th>32938</th>\n",
       "      <td>P47</td>\n",
       "      <td>5386272465310649-ZOOM OFF.mp4</td>\n",
       "      <td>ZOOMOFF</td>\n",
       "      <td>D_01_057</td>\n",
       "      <td>file:///media/kristian/HDD/ASL_Citizen/ASL_Cit...</td>\n",
       "      <td>13</td>\n",
       "    </tr>\n",
       "    <tr>\n",
       "      <th>32939</th>\n",
       "      <td>P18</td>\n",
       "      <td>738440364224181-ZOOM OFF.mp4</td>\n",
       "      <td>ZOOMOFF</td>\n",
       "      <td>D_01_057</td>\n",
       "      <td>file:///media/kristian/HDD/ASL_Citizen/ASL_Cit...</td>\n",
       "      <td>13</td>\n",
       "    </tr>\n",
       "    <tr>\n",
       "      <th>32940</th>\n",
       "      <td>P17</td>\n",
       "      <td>9953298353288469-ZOOM OFF.mp4</td>\n",
       "      <td>ZOOMOFF</td>\n",
       "      <td>D_01_057</td>\n",
       "      <td>file:///media/kristian/HDD/ASL_Citizen/ASL_Cit...</td>\n",
       "      <td>13</td>\n",
       "    </tr>\n",
       "  </tbody>\n",
       "</table>\n",
       "</div>"
      ],
      "text/plain": [
       "      Participant ID                     Video file    Gloss ASL-LEX Code  \\\n",
       "32936            P18  4320702510886756-ZOOM OFF.mp4  ZOOMOFF     D_01_057   \n",
       "32937             P9  7676354653247301-ZOOM OFF.mp4  ZOOMOFF     D_01_057   \n",
       "32938            P47  5386272465310649-ZOOM OFF.mp4  ZOOMOFF     D_01_057   \n",
       "32939            P18   738440364224181-ZOOM OFF.mp4  ZOOMOFF     D_01_057   \n",
       "32940            P17  9953298353288469-ZOOM OFF.mp4  ZOOMOFF     D_01_057   \n",
       "\n",
       "                                                    Path  Frequency  \n",
       "32936  file:///media/kristian/HDD/ASL_Citizen/ASL_Cit...         13  \n",
       "32937  file:///media/kristian/HDD/ASL_Citizen/ASL_Cit...         13  \n",
       "32938  file:///media/kristian/HDD/ASL_Citizen/ASL_Cit...         13  \n",
       "32939  file:///media/kristian/HDD/ASL_Citizen/ASL_Cit...         13  \n",
       "32940  file:///media/kristian/HDD/ASL_Citizen/ASL_Cit...         13  "
      ]
     },
     "execution_count": 31,
     "metadata": {},
     "output_type": "execute_result"
    }
   ],
   "source": [
    "testdf.tail()"
   ]
  },
  {
   "cell_type": "code",
   "execution_count": null,
   "id": "30a2e9d4",
   "metadata": {},
   "outputs": [],
   "source": []
  },
  {
   "cell_type": "code",
   "execution_count": 32,
   "id": "309b17ef",
   "metadata": {
    "ExecuteTime": {
     "end_time": "2023-08-07T14:33:18.119509Z",
     "start_time": "2023-08-07T14:33:18.115773Z"
    }
   },
   "outputs": [],
   "source": [
    "valdf = valdf[valdf['Gloss'].isin(words)]\n",
    "valdf = valdf.reset_index(drop=True)"
   ]
  },
  {
   "cell_type": "code",
   "execution_count": 33,
   "id": "17c21f12",
   "metadata": {
    "ExecuteTime": {
     "end_time": "2023-08-07T14:33:19.120967Z",
     "start_time": "2023-08-07T14:33:19.114199Z"
    }
   },
   "outputs": [
    {
     "data": {
      "text/html": [
       "<div>\n",
       "<style scoped>\n",
       "    .dataframe tbody tr th:only-of-type {\n",
       "        vertical-align: middle;\n",
       "    }\n",
       "\n",
       "    .dataframe tbody tr th {\n",
       "        vertical-align: top;\n",
       "    }\n",
       "\n",
       "    .dataframe thead th {\n",
       "        text-align: right;\n",
       "    }\n",
       "</style>\n",
       "<table border=\"1\" class=\"dataframe\">\n",
       "  <thead>\n",
       "    <tr style=\"text-align: right;\">\n",
       "      <th></th>\n",
       "      <th>Participant ID</th>\n",
       "      <th>Video file</th>\n",
       "      <th>Gloss</th>\n",
       "      <th>ASL-LEX Code</th>\n",
       "      <th>Path</th>\n",
       "      <th>Frequency</th>\n",
       "    </tr>\n",
       "  </thead>\n",
       "  <tbody>\n",
       "    <tr>\n",
       "      <th>0</th>\n",
       "      <td>P39</td>\n",
       "      <td>19778675091674147-AXE.mp4</td>\n",
       "      <td>AXE1</td>\n",
       "      <td>G_03_066</td>\n",
       "      <td>file:///media/kristian/HDD/ASL_Citizen/ASL_Cit...</td>\n",
       "      <td>4</td>\n",
       "    </tr>\n",
       "    <tr>\n",
       "      <th>1</th>\n",
       "      <td>P26</td>\n",
       "      <td>8581142177964065-AXE.mp4</td>\n",
       "      <td>AXE1</td>\n",
       "      <td>G_03_066</td>\n",
       "      <td>file:///media/kristian/HDD/ASL_Citizen/ASL_Cit...</td>\n",
       "      <td>4</td>\n",
       "    </tr>\n",
       "    <tr>\n",
       "      <th>2</th>\n",
       "      <td>P39</td>\n",
       "      <td>3877478645046861-AXE.mp4</td>\n",
       "      <td>AXE1</td>\n",
       "      <td>G_03_066</td>\n",
       "      <td>file:///media/kristian/HDD/ASL_Citizen/ASL_Cit...</td>\n",
       "      <td>4</td>\n",
       "    </tr>\n",
       "    <tr>\n",
       "      <th>3</th>\n",
       "      <td>P21</td>\n",
       "      <td>8521417940364975-AXE.mp4</td>\n",
       "      <td>AXE1</td>\n",
       "      <td>G_03_066</td>\n",
       "      <td>file:///media/kristian/HDD/ASL_Citizen/ASL_Cit...</td>\n",
       "      <td>4</td>\n",
       "    </tr>\n",
       "    <tr>\n",
       "      <th>4</th>\n",
       "      <td>P5</td>\n",
       "      <td>9990244640190733-BACKPACK.mp4</td>\n",
       "      <td>BACKPACK1</td>\n",
       "      <td>G_03_091</td>\n",
       "      <td>file:///media/kristian/HDD/ASL_Citizen/ASL_Cit...</td>\n",
       "      <td>3</td>\n",
       "    </tr>\n",
       "  </tbody>\n",
       "</table>\n",
       "</div>"
      ],
      "text/plain": [
       "  Participant ID                     Video file      Gloss ASL-LEX Code  \\\n",
       "0            P39      19778675091674147-AXE.mp4       AXE1     G_03_066   \n",
       "1            P26       8581142177964065-AXE.mp4       AXE1     G_03_066   \n",
       "2            P39       3877478645046861-AXE.mp4       AXE1     G_03_066   \n",
       "3            P21       8521417940364975-AXE.mp4       AXE1     G_03_066   \n",
       "4             P5  9990244640190733-BACKPACK.mp4  BACKPACK1     G_03_091   \n",
       "\n",
       "                                                Path  Frequency  \n",
       "0  file:///media/kristian/HDD/ASL_Citizen/ASL_Cit...          4  \n",
       "1  file:///media/kristian/HDD/ASL_Citizen/ASL_Cit...          4  \n",
       "2  file:///media/kristian/HDD/ASL_Citizen/ASL_Cit...          4  \n",
       "3  file:///media/kristian/HDD/ASL_Citizen/ASL_Cit...          4  \n",
       "4  file:///media/kristian/HDD/ASL_Citizen/ASL_Cit...          3  "
      ]
     },
     "execution_count": 33,
     "metadata": {},
     "output_type": "execute_result"
    }
   ],
   "source": [
    "valdf.head()"
   ]
  },
  {
   "cell_type": "code",
   "execution_count": 34,
   "id": "bc330590",
   "metadata": {
    "ExecuteTime": {
     "end_time": "2023-08-07T14:33:21.260591Z",
     "start_time": "2023-08-07T14:33:21.254043Z"
    }
   },
   "outputs": [
    {
     "data": {
      "text/html": [
       "<div>\n",
       "<style scoped>\n",
       "    .dataframe tbody tr th:only-of-type {\n",
       "        vertical-align: middle;\n",
       "    }\n",
       "\n",
       "    .dataframe tbody tr th {\n",
       "        vertical-align: top;\n",
       "    }\n",
       "\n",
       "    .dataframe thead th {\n",
       "        text-align: right;\n",
       "    }\n",
       "</style>\n",
       "<table border=\"1\" class=\"dataframe\">\n",
       "  <thead>\n",
       "    <tr style=\"text-align: right;\">\n",
       "      <th></th>\n",
       "      <th>Participant ID</th>\n",
       "      <th>Video file</th>\n",
       "      <th>Gloss</th>\n",
       "      <th>ASL-LEX Code</th>\n",
       "      <th>Path</th>\n",
       "      <th>Frequency</th>\n",
       "    </tr>\n",
       "  </thead>\n",
       "  <tbody>\n",
       "    <tr>\n",
       "      <th>186</th>\n",
       "      <td>P26</td>\n",
       "      <td>032677896012150764-WHAT FOR.mp4</td>\n",
       "      <td>WHATFOR1</td>\n",
       "      <td>C_02_054</td>\n",
       "      <td>file:///media/kristian/HDD/ASL_Citizen/ASL_Cit...</td>\n",
       "      <td>5</td>\n",
       "    </tr>\n",
       "    <tr>\n",
       "      <th>187</th>\n",
       "      <td>P5</td>\n",
       "      <td>6523145816470133-WHAT FOR.mp4</td>\n",
       "      <td>WHATFOR1</td>\n",
       "      <td>C_02_054</td>\n",
       "      <td>file:///media/kristian/HDD/ASL_Citizen/ASL_Cit...</td>\n",
       "      <td>5</td>\n",
       "    </tr>\n",
       "    <tr>\n",
       "      <th>188</th>\n",
       "      <td>P39</td>\n",
       "      <td>0283886564670357-WHAT FOR.mp4</td>\n",
       "      <td>WHATFOR1</td>\n",
       "      <td>C_02_054</td>\n",
       "      <td>file:///media/kristian/HDD/ASL_Citizen/ASL_Cit...</td>\n",
       "      <td>5</td>\n",
       "    </tr>\n",
       "    <tr>\n",
       "      <th>189</th>\n",
       "      <td>P21</td>\n",
       "      <td>6142521746642153-WHAT FOR.mp4</td>\n",
       "      <td>WHATFOR1</td>\n",
       "      <td>C_02_054</td>\n",
       "      <td>file:///media/kristian/HDD/ASL_Citizen/ASL_Cit...</td>\n",
       "      <td>5</td>\n",
       "    </tr>\n",
       "    <tr>\n",
       "      <th>190</th>\n",
       "      <td>P12</td>\n",
       "      <td>06408604416165864-WHAT FOR.mp4</td>\n",
       "      <td>WHATFOR1</td>\n",
       "      <td>C_02_054</td>\n",
       "      <td>file:///media/kristian/HDD/ASL_Citizen/ASL_Cit...</td>\n",
       "      <td>5</td>\n",
       "    </tr>\n",
       "  </tbody>\n",
       "</table>\n",
       "</div>"
      ],
      "text/plain": [
       "    Participant ID                       Video file     Gloss ASL-LEX Code  \\\n",
       "186            P26  032677896012150764-WHAT FOR.mp4  WHATFOR1     C_02_054   \n",
       "187             P5    6523145816470133-WHAT FOR.mp4  WHATFOR1     C_02_054   \n",
       "188            P39    0283886564670357-WHAT FOR.mp4  WHATFOR1     C_02_054   \n",
       "189            P21    6142521746642153-WHAT FOR.mp4  WHATFOR1     C_02_054   \n",
       "190            P12   06408604416165864-WHAT FOR.mp4  WHATFOR1     C_02_054   \n",
       "\n",
       "                                                  Path  Frequency  \n",
       "186  file:///media/kristian/HDD/ASL_Citizen/ASL_Cit...          5  \n",
       "187  file:///media/kristian/HDD/ASL_Citizen/ASL_Cit...          5  \n",
       "188  file:///media/kristian/HDD/ASL_Citizen/ASL_Cit...          5  \n",
       "189  file:///media/kristian/HDD/ASL_Citizen/ASL_Cit...          5  \n",
       "190  file:///media/kristian/HDD/ASL_Citizen/ASL_Cit...          5  "
      ]
     },
     "execution_count": 34,
     "metadata": {},
     "output_type": "execute_result"
    }
   ],
   "source": [
    "valdf.tail()"
   ]
  },
  {
   "cell_type": "code",
   "execution_count": null,
   "id": "f0182060",
   "metadata": {
    "ExecuteTime": {
     "end_time": "2023-08-04T13:08:33.954653Z",
     "start_time": "2023-08-04T13:08:33.951157Z"
    }
   },
   "outputs": [],
   "source": []
  },
  {
   "cell_type": "code",
   "execution_count": 35,
   "id": "d4dac473",
   "metadata": {
    "ExecuteTime": {
     "end_time": "2023-08-07T14:33:22.546332Z",
     "start_time": "2023-08-07T14:33:22.542630Z"
    }
   },
   "outputs": [
    {
     "data": {
      "text/plain": [
       "50"
      ]
     },
     "execution_count": 35,
     "metadata": {},
     "output_type": "execute_result"
    }
   ],
   "source": [
    "valdf['Gloss'].nunique()"
   ]
  },
  {
   "cell_type": "code",
   "execution_count": 36,
   "id": "252e3a11",
   "metadata": {
    "ExecuteTime": {
     "end_time": "2023-08-07T14:33:23.841119Z",
     "start_time": "2023-08-07T14:33:23.833685Z"
    }
   },
   "outputs": [
    {
     "data": {
      "text/html": [
       "<div>\n",
       "<style scoped>\n",
       "    .dataframe tbody tr th:only-of-type {\n",
       "        vertical-align: middle;\n",
       "    }\n",
       "\n",
       "    .dataframe tbody tr th {\n",
       "        vertical-align: top;\n",
       "    }\n",
       "\n",
       "    .dataframe thead th {\n",
       "        text-align: right;\n",
       "    }\n",
       "</style>\n",
       "<table border=\"1\" class=\"dataframe\">\n",
       "  <thead>\n",
       "    <tr style=\"text-align: right;\">\n",
       "      <th></th>\n",
       "      <th>Frequency</th>\n",
       "    </tr>\n",
       "  </thead>\n",
       "  <tbody>\n",
       "    <tr>\n",
       "      <th>count</th>\n",
       "      <td>191.000000</td>\n",
       "    </tr>\n",
       "    <tr>\n",
       "      <th>mean</th>\n",
       "      <td>3.963351</td>\n",
       "    </tr>\n",
       "    <tr>\n",
       "      <th>std</th>\n",
       "      <td>0.770316</td>\n",
       "    </tr>\n",
       "    <tr>\n",
       "      <th>min</th>\n",
       "      <td>3.000000</td>\n",
       "    </tr>\n",
       "    <tr>\n",
       "      <th>25%</th>\n",
       "      <td>3.000000</td>\n",
       "    </tr>\n",
       "    <tr>\n",
       "      <th>50%</th>\n",
       "      <td>4.000000</td>\n",
       "    </tr>\n",
       "    <tr>\n",
       "      <th>75%</th>\n",
       "      <td>4.000000</td>\n",
       "    </tr>\n",
       "    <tr>\n",
       "      <th>max</th>\n",
       "      <td>6.000000</td>\n",
       "    </tr>\n",
       "  </tbody>\n",
       "</table>\n",
       "</div>"
      ],
      "text/plain": [
       "        Frequency\n",
       "count  191.000000\n",
       "mean     3.963351\n",
       "std      0.770316\n",
       "min      3.000000\n",
       "25%      3.000000\n",
       "50%      4.000000\n",
       "75%      4.000000\n",
       "max      6.000000"
      ]
     },
     "execution_count": 36,
     "metadata": {},
     "output_type": "execute_result"
    }
   ],
   "source": [
    "valdf.describe()"
   ]
  },
  {
   "cell_type": "code",
   "execution_count": 37,
   "id": "a1bab0d3",
   "metadata": {
    "ExecuteTime": {
     "end_time": "2023-08-07T14:33:25.784777Z",
     "start_time": "2023-08-07T14:33:25.778174Z"
    }
   },
   "outputs": [
    {
     "data": {
      "text/html": [
       "<div>\n",
       "<style scoped>\n",
       "    .dataframe tbody tr th:only-of-type {\n",
       "        vertical-align: middle;\n",
       "    }\n",
       "\n",
       "    .dataframe tbody tr th {\n",
       "        vertical-align: top;\n",
       "    }\n",
       "\n",
       "    .dataframe thead th {\n",
       "        text-align: right;\n",
       "    }\n",
       "</style>\n",
       "<table border=\"1\" class=\"dataframe\">\n",
       "  <thead>\n",
       "    <tr style=\"text-align: right;\">\n",
       "      <th></th>\n",
       "      <th>Participant ID</th>\n",
       "      <th>Video file</th>\n",
       "      <th>Gloss</th>\n",
       "      <th>ASL-LEX Code</th>\n",
       "      <th>Path</th>\n",
       "      <th>Frequency</th>\n",
       "    </tr>\n",
       "  </thead>\n",
       "  <tbody>\n",
       "    <tr>\n",
       "      <th>0</th>\n",
       "      <td>P39</td>\n",
       "      <td>19778675091674147-AXE.mp4</td>\n",
       "      <td>AXE1</td>\n",
       "      <td>G_03_066</td>\n",
       "      <td>file:///media/kristian/HDD/ASL_Citizen/ASL_Cit...</td>\n",
       "      <td>4</td>\n",
       "    </tr>\n",
       "    <tr>\n",
       "      <th>1</th>\n",
       "      <td>P26</td>\n",
       "      <td>8581142177964065-AXE.mp4</td>\n",
       "      <td>AXE1</td>\n",
       "      <td>G_03_066</td>\n",
       "      <td>file:///media/kristian/HDD/ASL_Citizen/ASL_Cit...</td>\n",
       "      <td>4</td>\n",
       "    </tr>\n",
       "    <tr>\n",
       "      <th>2</th>\n",
       "      <td>P39</td>\n",
       "      <td>3877478645046861-AXE.mp4</td>\n",
       "      <td>AXE1</td>\n",
       "      <td>G_03_066</td>\n",
       "      <td>file:///media/kristian/HDD/ASL_Citizen/ASL_Cit...</td>\n",
       "      <td>4</td>\n",
       "    </tr>\n",
       "    <tr>\n",
       "      <th>3</th>\n",
       "      <td>P21</td>\n",
       "      <td>8521417940364975-AXE.mp4</td>\n",
       "      <td>AXE1</td>\n",
       "      <td>G_03_066</td>\n",
       "      <td>file:///media/kristian/HDD/ASL_Citizen/ASL_Cit...</td>\n",
       "      <td>4</td>\n",
       "    </tr>\n",
       "    <tr>\n",
       "      <th>4</th>\n",
       "      <td>P5</td>\n",
       "      <td>9990244640190733-BACKPACK.mp4</td>\n",
       "      <td>BACKPACK1</td>\n",
       "      <td>G_03_091</td>\n",
       "      <td>file:///media/kristian/HDD/ASL_Citizen/ASL_Cit...</td>\n",
       "      <td>3</td>\n",
       "    </tr>\n",
       "  </tbody>\n",
       "</table>\n",
       "</div>"
      ],
      "text/plain": [
       "  Participant ID                     Video file      Gloss ASL-LEX Code  \\\n",
       "0            P39      19778675091674147-AXE.mp4       AXE1     G_03_066   \n",
       "1            P26       8581142177964065-AXE.mp4       AXE1     G_03_066   \n",
       "2            P39       3877478645046861-AXE.mp4       AXE1     G_03_066   \n",
       "3            P21       8521417940364975-AXE.mp4       AXE1     G_03_066   \n",
       "4             P5  9990244640190733-BACKPACK.mp4  BACKPACK1     G_03_091   \n",
       "\n",
       "                                                Path  Frequency  \n",
       "0  file:///media/kristian/HDD/ASL_Citizen/ASL_Cit...          4  \n",
       "1  file:///media/kristian/HDD/ASL_Citizen/ASL_Cit...          4  \n",
       "2  file:///media/kristian/HDD/ASL_Citizen/ASL_Cit...          4  \n",
       "3  file:///media/kristian/HDD/ASL_Citizen/ASL_Cit...          4  \n",
       "4  file:///media/kristian/HDD/ASL_Citizen/ASL_Cit...          3  "
      ]
     },
     "execution_count": 37,
     "metadata": {},
     "output_type": "execute_result"
    }
   ],
   "source": [
    "valdf.head()"
   ]
  },
  {
   "cell_type": "code",
   "execution_count": 38,
   "id": "34fb9081",
   "metadata": {
    "ExecuteTime": {
     "end_time": "2023-08-07T14:33:26.493990Z",
     "start_time": "2023-08-07T14:33:26.490139Z"
    }
   },
   "outputs": [],
   "source": [
    "testdf = testdf[testdf['Gloss'].isin(words)]\n",
    "testdf = testdf.reset_index(drop=True)"
   ]
  },
  {
   "cell_type": "code",
   "execution_count": 39,
   "id": "ca06885e",
   "metadata": {
    "ExecuteTime": {
     "end_time": "2023-08-07T14:33:27.131009Z",
     "start_time": "2023-08-07T14:33:27.127191Z"
    }
   },
   "outputs": [
    {
     "data": {
      "text/plain": [
       "50"
      ]
     },
     "execution_count": 39,
     "metadata": {},
     "output_type": "execute_result"
    }
   ],
   "source": [
    "testdf['Gloss'].nunique()"
   ]
  },
  {
   "cell_type": "code",
   "execution_count": 40,
   "id": "da2567e4",
   "metadata": {
    "ExecuteTime": {
     "end_time": "2023-08-07T14:33:27.745905Z",
     "start_time": "2023-08-07T14:33:27.737506Z"
    }
   },
   "outputs": [
    {
     "data": {
      "text/html": [
       "<div>\n",
       "<style scoped>\n",
       "    .dataframe tbody tr th:only-of-type {\n",
       "        vertical-align: middle;\n",
       "    }\n",
       "\n",
       "    .dataframe tbody tr th {\n",
       "        vertical-align: top;\n",
       "    }\n",
       "\n",
       "    .dataframe thead th {\n",
       "        text-align: right;\n",
       "    }\n",
       "</style>\n",
       "<table border=\"1\" class=\"dataframe\">\n",
       "  <thead>\n",
       "    <tr style=\"text-align: right;\">\n",
       "      <th></th>\n",
       "      <th>Participant ID</th>\n",
       "      <th>Video file</th>\n",
       "      <th>Gloss</th>\n",
       "      <th>ASL-LEX Code</th>\n",
       "      <th>Path</th>\n",
       "      <th>Frequency</th>\n",
       "    </tr>\n",
       "  </thead>\n",
       "  <tbody>\n",
       "    <tr>\n",
       "      <th>0</th>\n",
       "      <td>P15</td>\n",
       "      <td>33721516025652254-AXE.mp4</td>\n",
       "      <td>AXE1</td>\n",
       "      <td>G_03_066</td>\n",
       "      <td>file:///media/kristian/HDD/ASL_Citizen/ASL_Cit...</td>\n",
       "      <td>15</td>\n",
       "    </tr>\n",
       "    <tr>\n",
       "      <th>1</th>\n",
       "      <td>P47</td>\n",
       "      <td>519067006979435-AXE.mp4</td>\n",
       "      <td>AXE1</td>\n",
       "      <td>G_03_066</td>\n",
       "      <td>file:///media/kristian/HDD/ASL_Citizen/ASL_Cit...</td>\n",
       "      <td>15</td>\n",
       "    </tr>\n",
       "    <tr>\n",
       "      <th>2</th>\n",
       "      <td>P35</td>\n",
       "      <td>5104381603195376-AXE.mp4</td>\n",
       "      <td>AXE1</td>\n",
       "      <td>G_03_066</td>\n",
       "      <td>file:///media/kristian/HDD/ASL_Citizen/ASL_Cit...</td>\n",
       "      <td>15</td>\n",
       "    </tr>\n",
       "    <tr>\n",
       "      <th>3</th>\n",
       "      <td>P42</td>\n",
       "      <td>44458614013793873-AXE.mp4</td>\n",
       "      <td>AXE1</td>\n",
       "      <td>G_03_066</td>\n",
       "      <td>file:///media/kristian/HDD/ASL_Citizen/ASL_Cit...</td>\n",
       "      <td>15</td>\n",
       "    </tr>\n",
       "    <tr>\n",
       "      <th>4</th>\n",
       "      <td>P42</td>\n",
       "      <td>9604797909481075-AXE.mp4</td>\n",
       "      <td>AXE1</td>\n",
       "      <td>G_03_066</td>\n",
       "      <td>file:///media/kristian/HDD/ASL_Citizen/ASL_Cit...</td>\n",
       "      <td>15</td>\n",
       "    </tr>\n",
       "  </tbody>\n",
       "</table>\n",
       "</div>"
      ],
      "text/plain": [
       "  Participant ID                 Video file Gloss ASL-LEX Code  \\\n",
       "0            P15  33721516025652254-AXE.mp4  AXE1     G_03_066   \n",
       "1            P47    519067006979435-AXE.mp4  AXE1     G_03_066   \n",
       "2            P35   5104381603195376-AXE.mp4  AXE1     G_03_066   \n",
       "3            P42  44458614013793873-AXE.mp4  AXE1     G_03_066   \n",
       "4            P42   9604797909481075-AXE.mp4  AXE1     G_03_066   \n",
       "\n",
       "                                                Path  Frequency  \n",
       "0  file:///media/kristian/HDD/ASL_Citizen/ASL_Cit...         15  \n",
       "1  file:///media/kristian/HDD/ASL_Citizen/ASL_Cit...         15  \n",
       "2  file:///media/kristian/HDD/ASL_Citizen/ASL_Cit...         15  \n",
       "3  file:///media/kristian/HDD/ASL_Citizen/ASL_Cit...         15  \n",
       "4  file:///media/kristian/HDD/ASL_Citizen/ASL_Cit...         15  "
      ]
     },
     "execution_count": 40,
     "metadata": {},
     "output_type": "execute_result"
    }
   ],
   "source": [
    "testdf.head()"
   ]
  },
  {
   "cell_type": "code",
   "execution_count": 41,
   "id": "3282f968",
   "metadata": {
    "ExecuteTime": {
     "end_time": "2023-08-07T14:33:28.384032Z",
     "start_time": "2023-08-07T14:33:28.307674Z"
    }
   },
   "outputs": [
    {
     "data": {
      "text/html": [
       "<div>\n",
       "<style scoped>\n",
       "    .dataframe tbody tr th:only-of-type {\n",
       "        vertical-align: middle;\n",
       "    }\n",
       "\n",
       "    .dataframe tbody tr th {\n",
       "        vertical-align: top;\n",
       "    }\n",
       "\n",
       "    .dataframe thead th {\n",
       "        text-align: right;\n",
       "    }\n",
       "</style>\n",
       "<table border=\"1\" class=\"dataframe\">\n",
       "  <thead>\n",
       "    <tr style=\"text-align: right;\">\n",
       "      <th></th>\n",
       "      <th>Participant ID</th>\n",
       "      <th>Video file</th>\n",
       "      <th>Gloss</th>\n",
       "      <th>ASL-LEX Code</th>\n",
       "      <th>Path</th>\n",
       "      <th>Frequency</th>\n",
       "    </tr>\n",
       "  </thead>\n",
       "  <tbody>\n",
       "    <tr>\n",
       "      <th>724</th>\n",
       "      <td>P42</td>\n",
       "      <td>3448123355846451-WHAT FOR.mp4</td>\n",
       "      <td>WHATFOR1</td>\n",
       "      <td>C_02_054</td>\n",
       "      <td>file:///media/kristian/HDD/ASL_Citizen/ASL_Cit...</td>\n",
       "      <td>18</td>\n",
       "    </tr>\n",
       "    <tr>\n",
       "      <th>725</th>\n",
       "      <td>P47</td>\n",
       "      <td>034046510887022485-WHAT FOR.mp4</td>\n",
       "      <td>WHATFOR1</td>\n",
       "      <td>C_02_054</td>\n",
       "      <td>file:///media/kristian/HDD/ASL_Citizen/ASL_Cit...</td>\n",
       "      <td>18</td>\n",
       "    </tr>\n",
       "    <tr>\n",
       "      <th>726</th>\n",
       "      <td>P22</td>\n",
       "      <td>9359050586202402-WHAT FOR.mp4</td>\n",
       "      <td>WHATFOR1</td>\n",
       "      <td>C_02_054</td>\n",
       "      <td>file:///media/kristian/HDD/ASL_Citizen/ASL_Cit...</td>\n",
       "      <td>18</td>\n",
       "    </tr>\n",
       "    <tr>\n",
       "      <th>727</th>\n",
       "      <td>P42</td>\n",
       "      <td>2748457214117681-WHAT FOR.mp4</td>\n",
       "      <td>WHATFOR1</td>\n",
       "      <td>C_02_054</td>\n",
       "      <td>file:///media/kristian/HDD/ASL_Citizen/ASL_Cit...</td>\n",
       "      <td>18</td>\n",
       "    </tr>\n",
       "    <tr>\n",
       "      <th>728</th>\n",
       "      <td>P15</td>\n",
       "      <td>540014801916062-WHAT FOR.mp4</td>\n",
       "      <td>WHATFOR1</td>\n",
       "      <td>C_02_054</td>\n",
       "      <td>file:///media/kristian/HDD/ASL_Citizen/ASL_Cit...</td>\n",
       "      <td>18</td>\n",
       "    </tr>\n",
       "  </tbody>\n",
       "</table>\n",
       "</div>"
      ],
      "text/plain": [
       "    Participant ID                       Video file     Gloss ASL-LEX Code  \\\n",
       "724            P42    3448123355846451-WHAT FOR.mp4  WHATFOR1     C_02_054   \n",
       "725            P47  034046510887022485-WHAT FOR.mp4  WHATFOR1     C_02_054   \n",
       "726            P22    9359050586202402-WHAT FOR.mp4  WHATFOR1     C_02_054   \n",
       "727            P42    2748457214117681-WHAT FOR.mp4  WHATFOR1     C_02_054   \n",
       "728            P15     540014801916062-WHAT FOR.mp4  WHATFOR1     C_02_054   \n",
       "\n",
       "                                                  Path  Frequency  \n",
       "724  file:///media/kristian/HDD/ASL_Citizen/ASL_Cit...         18  \n",
       "725  file:///media/kristian/HDD/ASL_Citizen/ASL_Cit...         18  \n",
       "726  file:///media/kristian/HDD/ASL_Citizen/ASL_Cit...         18  \n",
       "727  file:///media/kristian/HDD/ASL_Citizen/ASL_Cit...         18  \n",
       "728  file:///media/kristian/HDD/ASL_Citizen/ASL_Cit...         18  "
      ]
     },
     "execution_count": 41,
     "metadata": {},
     "output_type": "execute_result"
    }
   ],
   "source": [
    "testdf.tail()"
   ]
  },
  {
   "cell_type": "code",
   "execution_count": 42,
   "id": "71973869",
   "metadata": {
    "ExecuteTime": {
     "end_time": "2023-08-07T14:33:28.946405Z",
     "start_time": "2023-08-07T14:33:28.939241Z"
    }
   },
   "outputs": [
    {
     "data": {
      "text/html": [
       "<div>\n",
       "<style scoped>\n",
       "    .dataframe tbody tr th:only-of-type {\n",
       "        vertical-align: middle;\n",
       "    }\n",
       "\n",
       "    .dataframe tbody tr th {\n",
       "        vertical-align: top;\n",
       "    }\n",
       "\n",
       "    .dataframe thead th {\n",
       "        text-align: right;\n",
       "    }\n",
       "</style>\n",
       "<table border=\"1\" class=\"dataframe\">\n",
       "  <thead>\n",
       "    <tr style=\"text-align: right;\">\n",
       "      <th></th>\n",
       "      <th>Frequency</th>\n",
       "    </tr>\n",
       "  </thead>\n",
       "  <tbody>\n",
       "    <tr>\n",
       "      <th>count</th>\n",
       "      <td>729.000000</td>\n",
       "    </tr>\n",
       "    <tr>\n",
       "      <th>mean</th>\n",
       "      <td>14.978052</td>\n",
       "    </tr>\n",
       "    <tr>\n",
       "      <th>std</th>\n",
       "      <td>2.229192</td>\n",
       "    </tr>\n",
       "    <tr>\n",
       "      <th>min</th>\n",
       "      <td>9.000000</td>\n",
       "    </tr>\n",
       "    <tr>\n",
       "      <th>25%</th>\n",
       "      <td>14.000000</td>\n",
       "    </tr>\n",
       "    <tr>\n",
       "      <th>50%</th>\n",
       "      <td>15.000000</td>\n",
       "    </tr>\n",
       "    <tr>\n",
       "      <th>75%</th>\n",
       "      <td>16.000000</td>\n",
       "    </tr>\n",
       "    <tr>\n",
       "      <th>max</th>\n",
       "      <td>20.000000</td>\n",
       "    </tr>\n",
       "  </tbody>\n",
       "</table>\n",
       "</div>"
      ],
      "text/plain": [
       "        Frequency\n",
       "count  729.000000\n",
       "mean    14.978052\n",
       "std      2.229192\n",
       "min      9.000000\n",
       "25%     14.000000\n",
       "50%     15.000000\n",
       "75%     16.000000\n",
       "max     20.000000"
      ]
     },
     "execution_count": 42,
     "metadata": {},
     "output_type": "execute_result"
    }
   ],
   "source": [
    "testdf.describe()"
   ]
  },
  {
   "cell_type": "code",
   "execution_count": 43,
   "id": "6afdda5e",
   "metadata": {
    "ExecuteTime": {
     "end_time": "2023-08-07T14:33:30.708400Z",
     "start_time": "2023-08-07T14:33:30.702487Z"
    }
   },
   "outputs": [],
   "source": [
    "traindf['Gloss'] = traindf['Gloss'].str.replace('\\d+', '',regex=True)\n",
    "valdf['Gloss'] = valdf['Gloss'].str.replace('\\d+', '',regex=True)\n",
    "testdf['Gloss'] = testdf['Gloss'].str.replace('\\d+', '',regex=True)"
   ]
  },
  {
   "cell_type": "code",
   "execution_count": 44,
   "id": "327c7f6e",
   "metadata": {
    "ExecuteTime": {
     "end_time": "2023-08-07T14:33:31.322717Z",
     "start_time": "2023-08-07T14:33:31.319210Z"
    }
   },
   "outputs": [
    {
     "data": {
      "text/plain": [
       "array(['AXE', 'BACKPACK', 'BASKETBALL', 'BEE', 'BELT', 'BITE',\n",
       "       'BREAKFAST', 'CANCER', 'CHRISTMAS', 'CONFUSED', 'DARK', 'DEAF',\n",
       "       'DECIDE', 'DEMAND', 'DEVELOP', 'DINNER', 'DOG', 'DOWNSIZE', 'DRAG',\n",
       "       'EAT', 'EDIT', 'ELEVATOR', 'FINE', 'FLOAT', 'FOREIGNER', 'GUESS',\n",
       "       'HALLOWEEN', 'HOSPITAL', 'HURDLE/TRIP', 'JEWELRY', 'KNIGHT',\n",
       "       'LOCK', 'LUNCH', 'MAPLE', 'MEAT', 'MECHANIC', 'MICROSCOPE',\n",
       "       'MOVIE', 'NOON', 'PARTY', 'PATIENT', 'RAZOR', 'RIVER',\n",
       "       'ROCKINGCHAIR', 'SHAVE', 'SINK', 'SQUEEZE', 'THEY', 'TWINS',\n",
       "       'WHATFOR'], dtype=object)"
      ]
     },
     "execution_count": 44,
     "metadata": {},
     "output_type": "execute_result"
    }
   ],
   "source": [
    "words = traindf['Gloss'].unique()\n",
    "words"
   ]
  },
  {
   "cell_type": "code",
   "execution_count": 45,
   "id": "a6cfb4eb",
   "metadata": {
    "ExecuteTime": {
     "end_time": "2023-08-07T14:33:31.934968Z",
     "start_time": "2023-08-07T14:33:31.931067Z"
    }
   },
   "outputs": [
    {
     "data": {
      "text/plain": [
       "array(['AXE', 'BACKPACK', 'BASKETBALL', 'BEE', 'BELT', 'BITE',\n",
       "       'BREAKFAST', 'CANCER', 'CHRISTMAS', 'CONFUSED', 'DARK', 'DEAF',\n",
       "       'DECIDE', 'DEMAND', 'DEVELOP', 'DINNER', 'DOG', 'DOWNSIZE', 'DRAG',\n",
       "       'EAT', 'EDIT', 'ELEVATOR', 'FINE', 'FLOAT', 'FOREIGNER', 'GUESS',\n",
       "       'HALLOWEEN', 'HOSPITAL', 'HURDLE/TRIP', 'JEWELRY', 'KNIGHT',\n",
       "       'LOCK', 'LUNCH', 'MAPLE', 'MEAT', 'MECHANIC', 'MICROSCOPE',\n",
       "       'MOVIE', 'NOON', 'PARTY', 'PATIENT', 'RAZOR', 'RIVER',\n",
       "       'ROCKINGCHAIR', 'SHAVE', 'SINK', 'SQUEEZE', 'THEY', 'TWINS',\n",
       "       'WHATFOR'], dtype=object)"
      ]
     },
     "execution_count": 45,
     "metadata": {},
     "output_type": "execute_result"
    }
   ],
   "source": [
    "words = valdf['Gloss'].unique()\n",
    "words"
   ]
  },
  {
   "cell_type": "code",
   "execution_count": 46,
   "id": "dcfaf16e",
   "metadata": {
    "ExecuteTime": {
     "end_time": "2023-08-07T14:33:32.648479Z",
     "start_time": "2023-08-07T14:33:32.644877Z"
    }
   },
   "outputs": [
    {
     "data": {
      "text/plain": [
       "array(['AXE', 'BACKPACK', 'BASKETBALL', 'BEE', 'BELT', 'BITE',\n",
       "       'BREAKFAST', 'CANCER', 'CHRISTMAS', 'CONFUSED', 'DARK', 'DEAF',\n",
       "       'DECIDE', 'DEMAND', 'DEVELOP', 'DINNER', 'DOG', 'DOWNSIZE', 'DRAG',\n",
       "       'EAT', 'EDIT', 'ELEVATOR', 'FINE', 'FLOAT', 'FOREIGNER', 'GUESS',\n",
       "       'HALLOWEEN', 'HOSPITAL', 'HURDLE/TRIP', 'JEWELRY', 'KNIGHT',\n",
       "       'LOCK', 'LUNCH', 'MAPLE', 'MEAT', 'MECHANIC', 'MICROSCOPE',\n",
       "       'MOVIE', 'NOON', 'PARTY', 'PATIENT', 'RAZOR', 'RIVER',\n",
       "       'ROCKINGCHAIR', 'SHAVE', 'SINK', 'SQUEEZE', 'THEY', 'TWINS',\n",
       "       'WHATFOR'], dtype=object)"
      ]
     },
     "execution_count": 46,
     "metadata": {},
     "output_type": "execute_result"
    }
   ],
   "source": [
    "words = testdf['Gloss'].unique()\n",
    "words"
   ]
  },
  {
   "cell_type": "code",
   "execution_count": 47,
   "id": "fd22d14f",
   "metadata": {
    "ExecuteTime": {
     "end_time": "2023-08-07T14:33:33.215399Z",
     "start_time": "2023-08-07T14:33:33.212071Z"
    }
   },
   "outputs": [
    {
     "name": "stdout",
     "output_type": "stream",
     "text": [
      "50\n",
      "50\n",
      "50\n"
     ]
    }
   ],
   "source": [
    "print(traindf['Gloss'].nunique())\n",
    "print(valdf['Gloss'].nunique())\n",
    "print(testdf['Gloss'].nunique())"
   ]
  },
  {
   "cell_type": "code",
   "execution_count": 48,
   "id": "ad70c4fa",
   "metadata": {
    "ExecuteTime": {
     "end_time": "2023-08-07T14:33:39.808904Z",
     "start_time": "2023-08-07T14:33:36.224860Z"
    }
   },
   "outputs": [],
   "source": [
    "cap = cv2.VideoCapture(traindf.Path[0])\n",
    "#cap = cv2.VideoCapture(0, cv2.CAP_DSHOW)\n",
    "\n",
    "with mp_holistic.Holistic(static_image_mode=False,\n",
    "                          model_complexity=2) as holistic:\n",
    "    while True:\n",
    "        ret, frame = cap.read()\n",
    "        if ret == False:\n",
    "            break\n",
    "        frame_rgb = cv2.cvtColor(frame, cv2.COLOR_BGR2RGB)\n",
    "        results = holistic.process(frame_rgb)\n",
    "        # rostro\n",
    "        mp_drawing.draw_landmarks(\n",
    "            frame, results.face_landmarks, mp_holistic.FACEMESH_TESSELATION,\n",
    "            mp_drawing.DrawingSpec(color=(0, 255, 255),\n",
    "                                   thickness=1,\n",
    "                                   circle_radius=1),\n",
    "            mp_drawing.DrawingSpec(color=(0, 128, 255), thickness=2))\n",
    "\n",
    "        # Mano izquieda (azul)\n",
    "        mp_drawing.draw_landmarks(\n",
    "            frame, results.left_hand_landmarks, mp_holistic.HAND_CONNECTIONS,\n",
    "            mp_drawing.DrawingSpec(color=(0, 0, 0),\n",
    "                                   thickness=2,\n",
    "                                   circle_radius=1),\n",
    "            mp_drawing.DrawingSpec(color=(0, 92, 230), thickness=2))\n",
    "\n",
    "        # Mano derecha (verde)\n",
    "        mp_drawing.draw_landmarks(\n",
    "            frame, results.right_hand_landmarks, mp_holistic.HAND_CONNECTIONS,\n",
    "            mp_drawing.DrawingSpec(color=(0, 0, 0),\n",
    "                                   thickness=2,\n",
    "                                   circle_radius=1),\n",
    "            mp_drawing.DrawingSpec(color=(0, 92, 230), thickness=2))\n",
    "\n",
    "        # Postura\n",
    "        mp_drawing.draw_landmarks(\n",
    "            frame, results.pose_landmarks, mp_holistic.POSE_CONNECTIONS,\n",
    "            mp_drawing.DrawingSpec(color=(0, 0, 0),\n",
    "                                   thickness=2,\n",
    "                                   circle_radius=1),\n",
    "            mp_drawing.DrawingSpec(color=(0, 92, 230), thickness=2))\n",
    "        frame = cv2.flip(frame, 1)\n",
    "        cv2.imshow(\"Frame\", frame)\n",
    "        if cv2.waitKey(1) & 0xFF == 27:\n",
    "            break\n",
    "cap.release()\n",
    "cv2.destroyAllWindows()"
   ]
  },
  {
   "cell_type": "code",
   "execution_count": 49,
   "id": "1b4860ef",
   "metadata": {
    "ExecuteTime": {
     "end_time": "2023-08-07T14:33:42.643001Z",
     "start_time": "2023-08-07T14:33:42.639175Z"
    }
   },
   "outputs": [],
   "source": [
    "# Define a function to extract keypoints from a single video file\n",
    "def extract_keypoints_from_file(filepath):\n",
    "    # Initialize a MediaPipe Holistic model\n",
    "    holistic = mp.solutions.holistic.Holistic(static_image_mode=False,\n",
    "                                              model_complexity=2,\n",
    "                                              min_detection_confidence=0.5,\n",
    "                                              min_tracking_confidence=0.5)\n",
    "\n",
    "    # Open the video file\n",
    "    cap = cv2.VideoCapture(filepath)\n",
    "\n",
    "    # Initialize an empty list to store the keypoints for each frame\n",
    "    keypoints = []\n",
    "\n",
    "    # Loop through the frames of the video\n",
    "    while cap.isOpened():\n",
    "        # Read a frame from the video\n",
    "        ret, frame = cap.read()\n",
    "        if not ret:\n",
    "            break\n",
    "\n",
    "        # Convert the frame to RGB color space\n",
    "        frame = cv2.cvtColor(frame, cv2.COLOR_BGR2RGB)\n",
    "\n",
    "        # Use the Holistic model to detect landmarks for the face, pose, and hands\n",
    "        results = holistic.process(frame)\n",
    "\n",
    "        # Extract the keypoints from the results object and append them to the keypoints list\n",
    "        keypoints.append(extract_keypoints(results))\n",
    "\n",
    "    # Release the video capture object and the Holistic model\n",
    "    cap.release()\n",
    "    holistic.close()\n",
    "\n",
    "    return np.array(keypoints)"
   ]
  },
  {
   "cell_type": "code",
   "execution_count": 50,
   "id": "49e95ea7",
   "metadata": {
    "ExecuteTime": {
     "end_time": "2023-08-07T14:33:55.992687Z",
     "start_time": "2023-08-07T14:33:43.491982Z"
    }
   },
   "outputs": [
    {
     "data": {
      "text/plain": [
       "(100, 1662)"
      ]
     },
     "execution_count": 50,
     "metadata": {},
     "output_type": "execute_result"
    }
   ],
   "source": [
    "extract_keypoints_from_file(traindf.Path[0]).shape"
   ]
  },
  {
   "cell_type": "code",
   "execution_count": 51,
   "id": "5d2a0a7a",
   "metadata": {
    "ExecuteTime": {
     "end_time": "2023-08-07T14:33:59.258050Z",
     "start_time": "2023-08-07T14:33:59.120390Z"
    }
   },
   "outputs": [
    {
     "name": "stdout",
     "output_type": "stream",
     "text": [
      "100\n"
     ]
    }
   ],
   "source": [
    "cap = cv2.VideoCapture(traindf.Path[0])\n",
    "length = int(cap.get(cv2.CAP_PROP_FRAME_COUNT))\n",
    "print( length )"
   ]
  },
  {
   "cell_type": "code",
   "execution_count": 52,
   "id": "b48bfa39",
   "metadata": {
    "ExecuteTime": {
     "end_time": "2023-08-07T14:34:12.375563Z",
     "start_time": "2023-08-07T14:34:01.871350Z"
    }
   },
   "outputs": [
    {
     "data": {
      "text/plain": [
       "numpy.ndarray"
      ]
     },
     "execution_count": 52,
     "metadata": {},
     "output_type": "execute_result"
    }
   ],
   "source": [
    "type(extract_keypoints_from_file(traindf.Path[643]))"
   ]
  },
  {
   "cell_type": "code",
   "execution_count": 53,
   "id": "f5533751",
   "metadata": {
    "ExecuteTime": {
     "end_time": "2023-08-07T14:34:14.275421Z",
     "start_time": "2023-08-07T14:34:14.269934Z"
    }
   },
   "outputs": [
    {
     "data": {
      "text/plain": [
       "Participant ID    950\n",
       "Video file        950\n",
       "Gloss             950\n",
       "ASL-LEX Code      950\n",
       "Path              950\n",
       "Frequency         950\n",
       "dtype: int64"
      ]
     },
     "execution_count": 53,
     "metadata": {},
     "output_type": "execute_result"
    }
   ],
   "source": [
    "traindf.count()"
   ]
  },
  {
   "cell_type": "code",
   "execution_count": 54,
   "id": "9a9a5517",
   "metadata": {
    "ExecuteTime": {
     "end_time": "2023-08-07T14:34:19.916360Z",
     "start_time": "2023-08-07T14:34:19.912769Z"
    }
   },
   "outputs": [],
   "source": [
    "def frames_from_file(filepath):\n",
    "    cap = cv2.VideoCapture(filepath)\n",
    "    frames = int(cap.get(cv2.CAP_PROP_FRAME_COUNT))\n",
    "    fps = int(cap.get(cv2.CAP_PROP_FPS))\n",
    "    length = round(frames / fps)\n",
    "    return frames, fps, length"
   ]
  },
  {
   "cell_type": "code",
   "execution_count": 55,
   "id": "2576a32d",
   "metadata": {
    "ExecuteTime": {
     "end_time": "2023-08-07T14:34:21.167642Z",
     "start_time": "2023-08-07T14:34:21.157836Z"
    }
   },
   "outputs": [
    {
     "data": {
      "text/plain": [
       "(100, 31, 3)"
      ]
     },
     "execution_count": 55,
     "metadata": {},
     "output_type": "execute_result"
    }
   ],
   "source": [
    "frames_from_file(traindf.Path[0])"
   ]
  },
  {
   "cell_type": "code",
   "execution_count": 58,
   "id": "fad1ee21",
   "metadata": {
    "ExecuteTime": {
     "end_time": "2023-08-07T14:35:50.962776Z",
     "start_time": "2023-08-07T14:35:45.660695Z"
    },
    "scrolled": true
   },
   "outputs": [
    {
     "name": "stderr",
     "output_type": "stream",
     "text": [
      "100%|████████████████████████████████████████| 950/950 [00:05<00:00, 179.37it/s]\n"
     ]
    }
   ],
   "source": [
    "tqdm.pandas()\n",
    "traindf[['Frames', 'FPS', 'Length']] = traindf['Path'].progress_apply(lambda x: pd.Series(frames_from_file(x)))"
   ]
  },
  {
   "cell_type": "code",
   "execution_count": 62,
   "id": "87551a0c",
   "metadata": {
    "ExecuteTime": {
     "end_time": "2023-08-07T14:37:58.155961Z",
     "start_time": "2023-08-07T14:37:58.152735Z"
    }
   },
   "outputs": [
    {
     "data": {
      "text/plain": [
       "540"
      ]
     },
     "execution_count": 62,
     "metadata": {},
     "output_type": "execute_result"
    }
   ],
   "source": [
    "traindf['Frames'].max()"
   ]
  },
  {
   "cell_type": "code",
   "execution_count": 60,
   "id": "491120f6",
   "metadata": {
    "ExecuteTime": {
     "end_time": "2023-08-07T14:35:53.780249Z",
     "start_time": "2023-08-07T14:35:53.770171Z"
    }
   },
   "outputs": [
    {
     "data": {
      "text/html": [
       "<div>\n",
       "<style scoped>\n",
       "    .dataframe tbody tr th:only-of-type {\n",
       "        vertical-align: middle;\n",
       "    }\n",
       "\n",
       "    .dataframe tbody tr th {\n",
       "        vertical-align: top;\n",
       "    }\n",
       "\n",
       "    .dataframe thead th {\n",
       "        text-align: right;\n",
       "    }\n",
       "</style>\n",
       "<table border=\"1\" class=\"dataframe\">\n",
       "  <thead>\n",
       "    <tr style=\"text-align: right;\">\n",
       "      <th></th>\n",
       "      <th>Participant ID</th>\n",
       "      <th>Video file</th>\n",
       "      <th>Gloss</th>\n",
       "      <th>ASL-LEX Code</th>\n",
       "      <th>Path</th>\n",
       "      <th>Frequency</th>\n",
       "      <th>Frames</th>\n",
       "      <th>FPS</th>\n",
       "      <th>Length</th>\n",
       "    </tr>\n",
       "  </thead>\n",
       "  <tbody>\n",
       "    <tr>\n",
       "      <th>0</th>\n",
       "      <td>P52</td>\n",
       "      <td>07157565148825373-seedAXE.mp4</td>\n",
       "      <td>AXE</td>\n",
       "      <td>G_03_066</td>\n",
       "      <td>file:///media/kristian/HDD/ASL_Citizen/ASL_Cit...</td>\n",
       "      <td>19</td>\n",
       "      <td>100</td>\n",
       "      <td>31</td>\n",
       "      <td>3</td>\n",
       "    </tr>\n",
       "    <tr>\n",
       "      <th>1</th>\n",
       "      <td>P28</td>\n",
       "      <td>7179300005186042-AXE.mp4</td>\n",
       "      <td>AXE</td>\n",
       "      <td>G_03_066</td>\n",
       "      <td>file:///media/kristian/HDD/ASL_Citizen/ASL_Cit...</td>\n",
       "      <td>19</td>\n",
       "      <td>81</td>\n",
       "      <td>30</td>\n",
       "      <td>3</td>\n",
       "    </tr>\n",
       "    <tr>\n",
       "      <th>2</th>\n",
       "      <td>P29</td>\n",
       "      <td>16216064841959765-AXE.mp4</td>\n",
       "      <td>AXE</td>\n",
       "      <td>G_03_066</td>\n",
       "      <td>file:///media/kristian/HDD/ASL_Citizen/ASL_Cit...</td>\n",
       "      <td>19</td>\n",
       "      <td>47</td>\n",
       "      <td>30</td>\n",
       "      <td>2</td>\n",
       "    </tr>\n",
       "    <tr>\n",
       "      <th>3</th>\n",
       "      <td>P37</td>\n",
       "      <td>6193814382865199-AXE.mp4</td>\n",
       "      <td>AXE</td>\n",
       "      <td>G_03_066</td>\n",
       "      <td>file:///media/kristian/HDD/ASL_Citizen/ASL_Cit...</td>\n",
       "      <td>19</td>\n",
       "      <td>67</td>\n",
       "      <td>30</td>\n",
       "      <td>2</td>\n",
       "    </tr>\n",
       "    <tr>\n",
       "      <th>4</th>\n",
       "      <td>P40</td>\n",
       "      <td>5947453960317015-AXE.mp4</td>\n",
       "      <td>AXE</td>\n",
       "      <td>G_03_066</td>\n",
       "      <td>file:///media/kristian/HDD/ASL_Citizen/ASL_Cit...</td>\n",
       "      <td>19</td>\n",
       "      <td>89</td>\n",
       "      <td>30</td>\n",
       "      <td>3</td>\n",
       "    </tr>\n",
       "  </tbody>\n",
       "</table>\n",
       "</div>"
      ],
      "text/plain": [
       "  Participant ID                     Video file Gloss ASL-LEX Code  \\\n",
       "0            P52  07157565148825373-seedAXE.mp4   AXE     G_03_066   \n",
       "1            P28       7179300005186042-AXE.mp4   AXE     G_03_066   \n",
       "2            P29      16216064841959765-AXE.mp4   AXE     G_03_066   \n",
       "3            P37       6193814382865199-AXE.mp4   AXE     G_03_066   \n",
       "4            P40       5947453960317015-AXE.mp4   AXE     G_03_066   \n",
       "\n",
       "                                                Path  Frequency  Frames  FPS  \\\n",
       "0  file:///media/kristian/HDD/ASL_Citizen/ASL_Cit...         19     100   31   \n",
       "1  file:///media/kristian/HDD/ASL_Citizen/ASL_Cit...         19      81   30   \n",
       "2  file:///media/kristian/HDD/ASL_Citizen/ASL_Cit...         19      47   30   \n",
       "3  file:///media/kristian/HDD/ASL_Citizen/ASL_Cit...         19      67   30   \n",
       "4  file:///media/kristian/HDD/ASL_Citizen/ASL_Cit...         19      89   30   \n",
       "\n",
       "   Length  \n",
       "0       3  \n",
       "1       3  \n",
       "2       2  \n",
       "3       2  \n",
       "4       3  "
      ]
     },
     "execution_count": 60,
     "metadata": {},
     "output_type": "execute_result"
    }
   ],
   "source": [
    "traindf.head()"
   ]
  },
  {
   "cell_type": "code",
   "execution_count": 61,
   "id": "88f50ce9",
   "metadata": {
    "ExecuteTime": {
     "end_time": "2023-08-07T14:35:58.159062Z",
     "start_time": "2023-08-07T14:35:58.144591Z"
    }
   },
   "outputs": [
    {
     "data": {
      "text/html": [
       "<div>\n",
       "<style scoped>\n",
       "    .dataframe tbody tr th:only-of-type {\n",
       "        vertical-align: middle;\n",
       "    }\n",
       "\n",
       "    .dataframe tbody tr th {\n",
       "        vertical-align: top;\n",
       "    }\n",
       "\n",
       "    .dataframe thead th {\n",
       "        text-align: right;\n",
       "    }\n",
       "</style>\n",
       "<table border=\"1\" class=\"dataframe\">\n",
       "  <thead>\n",
       "    <tr style=\"text-align: right;\">\n",
       "      <th></th>\n",
       "      <th>Frequency</th>\n",
       "      <th>Frames</th>\n",
       "      <th>FPS</th>\n",
       "      <th>Length</th>\n",
       "    </tr>\n",
       "  </thead>\n",
       "  <tbody>\n",
       "    <tr>\n",
       "      <th>count</th>\n",
       "      <td>950.000000</td>\n",
       "      <td>950.000000</td>\n",
       "      <td>950.000000</td>\n",
       "      <td>950.000000</td>\n",
       "    </tr>\n",
       "    <tr>\n",
       "      <th>mean</th>\n",
       "      <td>19.082105</td>\n",
       "      <td>87.755789</td>\n",
       "      <td>29.354737</td>\n",
       "      <td>3.016842</td>\n",
       "    </tr>\n",
       "    <tr>\n",
       "      <th>std</th>\n",
       "      <td>1.316026</td>\n",
       "      <td>46.654745</td>\n",
       "      <td>2.197195</td>\n",
       "      <td>1.568167</td>\n",
       "    </tr>\n",
       "    <tr>\n",
       "      <th>min</th>\n",
       "      <td>18.000000</td>\n",
       "      <td>25.000000</td>\n",
       "      <td>11.000000</td>\n",
       "      <td>1.000000</td>\n",
       "    </tr>\n",
       "    <tr>\n",
       "      <th>25%</th>\n",
       "      <td>18.000000</td>\n",
       "      <td>60.000000</td>\n",
       "      <td>29.000000</td>\n",
       "      <td>2.000000</td>\n",
       "    </tr>\n",
       "    <tr>\n",
       "      <th>50%</th>\n",
       "      <td>19.000000</td>\n",
       "      <td>77.000000</td>\n",
       "      <td>30.000000</td>\n",
       "      <td>3.000000</td>\n",
       "    </tr>\n",
       "    <tr>\n",
       "      <th>75%</th>\n",
       "      <td>20.000000</td>\n",
       "      <td>97.000000</td>\n",
       "      <td>30.000000</td>\n",
       "      <td>3.000000</td>\n",
       "    </tr>\n",
       "    <tr>\n",
       "      <th>max</th>\n",
       "      <td>24.000000</td>\n",
       "      <td>540.000000</td>\n",
       "      <td>31.000000</td>\n",
       "      <td>18.000000</td>\n",
       "    </tr>\n",
       "  </tbody>\n",
       "</table>\n",
       "</div>"
      ],
      "text/plain": [
       "        Frequency      Frames         FPS      Length\n",
       "count  950.000000  950.000000  950.000000  950.000000\n",
       "mean    19.082105   87.755789   29.354737    3.016842\n",
       "std      1.316026   46.654745    2.197195    1.568167\n",
       "min     18.000000   25.000000   11.000000    1.000000\n",
       "25%     18.000000   60.000000   29.000000    2.000000\n",
       "50%     19.000000   77.000000   30.000000    3.000000\n",
       "75%     20.000000   97.000000   30.000000    3.000000\n",
       "max     24.000000  540.000000   31.000000   18.000000"
      ]
     },
     "execution_count": 61,
     "metadata": {},
     "output_type": "execute_result"
    }
   ],
   "source": [
    "traindf.describe()"
   ]
  },
  {
   "cell_type": "code",
   "execution_count": 63,
   "id": "860c8cbd",
   "metadata": {
    "ExecuteTime": {
     "end_time": "2023-08-07T14:40:48.484273Z",
     "start_time": "2023-08-07T14:40:48.465031Z"
    }
   },
   "outputs": [
    {
     "data": {
      "text/html": [
       "<div>\n",
       "<style scoped>\n",
       "    .dataframe tbody tr th:only-of-type {\n",
       "        vertical-align: middle;\n",
       "    }\n",
       "\n",
       "    .dataframe tbody tr th {\n",
       "        vertical-align: top;\n",
       "    }\n",
       "\n",
       "    .dataframe thead th {\n",
       "        text-align: right;\n",
       "    }\n",
       "</style>\n",
       "<table border=\"1\" class=\"dataframe\">\n",
       "  <thead>\n",
       "    <tr style=\"text-align: right;\">\n",
       "      <th></th>\n",
       "      <th>Frequency</th>\n",
       "      <th>Frames</th>\n",
       "      <th>FPS</th>\n",
       "      <th>Length</th>\n",
       "    </tr>\n",
       "  </thead>\n",
       "  <tbody>\n",
       "    <tr>\n",
       "      <th>count</th>\n",
       "      <td>804.000000</td>\n",
       "      <td>804.000000</td>\n",
       "      <td>804.000000</td>\n",
       "      <td>804.000000</td>\n",
       "    </tr>\n",
       "    <tr>\n",
       "      <th>mean</th>\n",
       "      <td>19.084577</td>\n",
       "      <td>76.113184</td>\n",
       "      <td>29.680348</td>\n",
       "      <td>2.593284</td>\n",
       "    </tr>\n",
       "    <tr>\n",
       "      <th>std</th>\n",
       "      <td>1.305343</td>\n",
       "      <td>20.091965</td>\n",
       "      <td>0.479790</td>\n",
       "      <td>0.671427</td>\n",
       "    </tr>\n",
       "    <tr>\n",
       "      <th>min</th>\n",
       "      <td>18.000000</td>\n",
       "      <td>45.000000</td>\n",
       "      <td>29.000000</td>\n",
       "      <td>2.000000</td>\n",
       "    </tr>\n",
       "    <tr>\n",
       "      <th>25%</th>\n",
       "      <td>18.000000</td>\n",
       "      <td>60.000000</td>\n",
       "      <td>29.000000</td>\n",
       "      <td>2.000000</td>\n",
       "    </tr>\n",
       "    <tr>\n",
       "      <th>50%</th>\n",
       "      <td>19.000000</td>\n",
       "      <td>74.000000</td>\n",
       "      <td>30.000000</td>\n",
       "      <td>2.000000</td>\n",
       "    </tr>\n",
       "    <tr>\n",
       "      <th>75%</th>\n",
       "      <td>20.000000</td>\n",
       "      <td>88.000000</td>\n",
       "      <td>30.000000</td>\n",
       "      <td>3.000000</td>\n",
       "    </tr>\n",
       "    <tr>\n",
       "      <th>max</th>\n",
       "      <td>24.000000</td>\n",
       "      <td>130.000000</td>\n",
       "      <td>31.000000</td>\n",
       "      <td>4.000000</td>\n",
       "    </tr>\n",
       "  </tbody>\n",
       "</table>\n",
       "</div>"
      ],
      "text/plain": [
       "        Frequency      Frames         FPS      Length\n",
       "count  804.000000  804.000000  804.000000  804.000000\n",
       "mean    19.084577   76.113184   29.680348    2.593284\n",
       "std      1.305343   20.091965    0.479790    0.671427\n",
       "min     18.000000   45.000000   29.000000    2.000000\n",
       "25%     18.000000   60.000000   29.000000    2.000000\n",
       "50%     19.000000   74.000000   30.000000    2.000000\n",
       "75%     20.000000   88.000000   30.000000    3.000000\n",
       "max     24.000000  130.000000   31.000000    4.000000"
      ]
     },
     "execution_count": 63,
     "metadata": {},
     "output_type": "execute_result"
    }
   ],
   "source": [
    "traindf = traindf[(traindf['Length'] > 1) & (traindf['FPS'] > 28) &(traindf['Frames'] < 131) ]\n",
    "#filtered_df = traindf[(traindf['Frames'] > 0) & (traindf['Frames'] < 121)]\n",
    "#filtered_df = traindf[traindf['Frames'] > 0]\n",
    "traindf= traindf.reset_index(drop=True)\n",
    "traindf.describe()"
   ]
  },
  {
   "cell_type": "code",
   "execution_count": 64,
   "id": "80536b78",
   "metadata": {
    "ExecuteTime": {
     "end_time": "2023-08-07T14:40:55.815684Z",
     "start_time": "2023-08-07T14:40:55.799785Z"
    }
   },
   "outputs": [
    {
     "data": {
      "text/html": [
       "<div>\n",
       "<style scoped>\n",
       "    .dataframe tbody tr th:only-of-type {\n",
       "        vertical-align: middle;\n",
       "    }\n",
       "\n",
       "    .dataframe tbody tr th {\n",
       "        vertical-align: top;\n",
       "    }\n",
       "\n",
       "    .dataframe thead th {\n",
       "        text-align: right;\n",
       "    }\n",
       "</style>\n",
       "<table border=\"1\" class=\"dataframe\">\n",
       "  <thead>\n",
       "    <tr style=\"text-align: right;\">\n",
       "      <th></th>\n",
       "      <th>Frequency</th>\n",
       "      <th>Frames</th>\n",
       "      <th>FPS</th>\n",
       "      <th>Length</th>\n",
       "    </tr>\n",
       "  </thead>\n",
       "  <tbody>\n",
       "    <tr>\n",
       "      <th>count</th>\n",
       "      <td>804.000000</td>\n",
       "      <td>804.000000</td>\n",
       "      <td>804.000000</td>\n",
       "      <td>804.000000</td>\n",
       "    </tr>\n",
       "    <tr>\n",
       "      <th>mean</th>\n",
       "      <td>16.261194</td>\n",
       "      <td>76.113184</td>\n",
       "      <td>29.680348</td>\n",
       "      <td>2.593284</td>\n",
       "    </tr>\n",
       "    <tr>\n",
       "      <th>std</th>\n",
       "      <td>1.722009</td>\n",
       "      <td>20.091965</td>\n",
       "      <td>0.479790</td>\n",
       "      <td>0.671427</td>\n",
       "    </tr>\n",
       "    <tr>\n",
       "      <th>min</th>\n",
       "      <td>13.000000</td>\n",
       "      <td>45.000000</td>\n",
       "      <td>29.000000</td>\n",
       "      <td>2.000000</td>\n",
       "    </tr>\n",
       "    <tr>\n",
       "      <th>25%</th>\n",
       "      <td>15.000000</td>\n",
       "      <td>60.000000</td>\n",
       "      <td>29.000000</td>\n",
       "      <td>2.000000</td>\n",
       "    </tr>\n",
       "    <tr>\n",
       "      <th>50%</th>\n",
       "      <td>16.000000</td>\n",
       "      <td>74.000000</td>\n",
       "      <td>30.000000</td>\n",
       "      <td>2.000000</td>\n",
       "    </tr>\n",
       "    <tr>\n",
       "      <th>75%</th>\n",
       "      <td>17.000000</td>\n",
       "      <td>88.000000</td>\n",
       "      <td>30.000000</td>\n",
       "      <td>3.000000</td>\n",
       "    </tr>\n",
       "    <tr>\n",
       "      <th>max</th>\n",
       "      <td>20.000000</td>\n",
       "      <td>130.000000</td>\n",
       "      <td>31.000000</td>\n",
       "      <td>4.000000</td>\n",
       "    </tr>\n",
       "  </tbody>\n",
       "</table>\n",
       "</div>"
      ],
      "text/plain": [
       "        Frequency      Frames         FPS      Length\n",
       "count  804.000000  804.000000  804.000000  804.000000\n",
       "mean    16.261194   76.113184   29.680348    2.593284\n",
       "std      1.722009   20.091965    0.479790    0.671427\n",
       "min     13.000000   45.000000   29.000000    2.000000\n",
       "25%     15.000000   60.000000   29.000000    2.000000\n",
       "50%     16.000000   74.000000   30.000000    2.000000\n",
       "75%     17.000000   88.000000   30.000000    3.000000\n",
       "max     20.000000  130.000000   31.000000    4.000000"
      ]
     },
     "execution_count": 64,
     "metadata": {},
     "output_type": "execute_result"
    }
   ],
   "source": [
    "traindf['Frequency'] = traindf['Gloss'].map(traindf['Gloss'].value_counts())\n",
    "#traindf = traindf.sort_values(by='Frequency',)\n",
    "\n",
    "traindf.describe()"
   ]
  },
  {
   "cell_type": "code",
   "execution_count": 93,
   "id": "5eeb8014",
   "metadata": {
    "ExecuteTime": {
     "end_time": "2023-08-07T17:14:11.243688Z",
     "start_time": "2023-08-07T17:14:11.231825Z"
    }
   },
   "outputs": [
    {
     "data": {
      "text/html": [
       "<div>\n",
       "<style scoped>\n",
       "    .dataframe tbody tr th:only-of-type {\n",
       "        vertical-align: middle;\n",
       "    }\n",
       "\n",
       "    .dataframe tbody tr th {\n",
       "        vertical-align: top;\n",
       "    }\n",
       "\n",
       "    .dataframe thead th {\n",
       "        text-align: right;\n",
       "    }\n",
       "</style>\n",
       "<table border=\"1\" class=\"dataframe\">\n",
       "  <thead>\n",
       "    <tr style=\"text-align: right;\">\n",
       "      <th></th>\n",
       "      <th>Participant ID</th>\n",
       "      <th>Video file</th>\n",
       "      <th>Gloss</th>\n",
       "      <th>ASL-LEX Code</th>\n",
       "      <th>Path</th>\n",
       "      <th>Frequency</th>\n",
       "      <th>Frames</th>\n",
       "      <th>FPS</th>\n",
       "      <th>Length</th>\n",
       "    </tr>\n",
       "  </thead>\n",
       "  <tbody>\n",
       "    <tr>\n",
       "      <th>0</th>\n",
       "      <td>P52</td>\n",
       "      <td>07157565148825373-seedAXE.mp4</td>\n",
       "      <td>AXE</td>\n",
       "      <td>G_03_066</td>\n",
       "      <td>file:///media/kristian/HDD/ASL_Citizen/ASL_Cit...</td>\n",
       "      <td>18</td>\n",
       "      <td>100</td>\n",
       "      <td>31</td>\n",
       "      <td>3</td>\n",
       "    </tr>\n",
       "    <tr>\n",
       "      <th>1</th>\n",
       "      <td>P28</td>\n",
       "      <td>7179300005186042-AXE.mp4</td>\n",
       "      <td>AXE</td>\n",
       "      <td>G_03_066</td>\n",
       "      <td>file:///media/kristian/HDD/ASL_Citizen/ASL_Cit...</td>\n",
       "      <td>18</td>\n",
       "      <td>81</td>\n",
       "      <td>30</td>\n",
       "      <td>3</td>\n",
       "    </tr>\n",
       "    <tr>\n",
       "      <th>2</th>\n",
       "      <td>P29</td>\n",
       "      <td>16216064841959765-AXE.mp4</td>\n",
       "      <td>AXE</td>\n",
       "      <td>G_03_066</td>\n",
       "      <td>file:///media/kristian/HDD/ASL_Citizen/ASL_Cit...</td>\n",
       "      <td>18</td>\n",
       "      <td>47</td>\n",
       "      <td>30</td>\n",
       "      <td>2</td>\n",
       "    </tr>\n",
       "    <tr>\n",
       "      <th>3</th>\n",
       "      <td>P37</td>\n",
       "      <td>6193814382865199-AXE.mp4</td>\n",
       "      <td>AXE</td>\n",
       "      <td>G_03_066</td>\n",
       "      <td>file:///media/kristian/HDD/ASL_Citizen/ASL_Cit...</td>\n",
       "      <td>18</td>\n",
       "      <td>67</td>\n",
       "      <td>30</td>\n",
       "      <td>2</td>\n",
       "    </tr>\n",
       "    <tr>\n",
       "      <th>4</th>\n",
       "      <td>P40</td>\n",
       "      <td>5947453960317015-AXE.mp4</td>\n",
       "      <td>AXE</td>\n",
       "      <td>G_03_066</td>\n",
       "      <td>file:///media/kristian/HDD/ASL_Citizen/ASL_Cit...</td>\n",
       "      <td>18</td>\n",
       "      <td>89</td>\n",
       "      <td>30</td>\n",
       "      <td>3</td>\n",
       "    </tr>\n",
       "    <tr>\n",
       "      <th>5</th>\n",
       "      <td>P40</td>\n",
       "      <td>929570016067665-AXE.mp4</td>\n",
       "      <td>AXE</td>\n",
       "      <td>G_03_066</td>\n",
       "      <td>file:///media/kristian/HDD/ASL_Citizen/ASL_Cit...</td>\n",
       "      <td>18</td>\n",
       "      <td>112</td>\n",
       "      <td>29</td>\n",
       "      <td>4</td>\n",
       "    </tr>\n",
       "    <tr>\n",
       "      <th>6</th>\n",
       "      <td>P16</td>\n",
       "      <td>904767261814883-AXE.mp4</td>\n",
       "      <td>AXE</td>\n",
       "      <td>G_03_066</td>\n",
       "      <td>file:///media/kristian/HDD/ASL_Citizen/ASL_Cit...</td>\n",
       "      <td>18</td>\n",
       "      <td>64</td>\n",
       "      <td>30</td>\n",
       "      <td>2</td>\n",
       "    </tr>\n",
       "    <tr>\n",
       "      <th>7</th>\n",
       "      <td>P43</td>\n",
       "      <td>016134052760367945-AXE.mp4</td>\n",
       "      <td>AXE</td>\n",
       "      <td>G_03_066</td>\n",
       "      <td>file:///media/kristian/HDD/ASL_Citizen/ASL_Cit...</td>\n",
       "      <td>18</td>\n",
       "      <td>75</td>\n",
       "      <td>30</td>\n",
       "      <td>2</td>\n",
       "    </tr>\n",
       "    <tr>\n",
       "      <th>8</th>\n",
       "      <td>P40</td>\n",
       "      <td>23099527328070546-AXE.mp4</td>\n",
       "      <td>AXE</td>\n",
       "      <td>G_03_066</td>\n",
       "      <td>file:///media/kristian/HDD/ASL_Citizen/ASL_Cit...</td>\n",
       "      <td>18</td>\n",
       "      <td>91</td>\n",
       "      <td>29</td>\n",
       "      <td>3</td>\n",
       "    </tr>\n",
       "    <tr>\n",
       "      <th>9</th>\n",
       "      <td>P37</td>\n",
       "      <td>21310388087265242-AXE.mp4</td>\n",
       "      <td>AXE</td>\n",
       "      <td>G_03_066</td>\n",
       "      <td>file:///media/kristian/HDD/ASL_Citizen/ASL_Cit...</td>\n",
       "      <td>18</td>\n",
       "      <td>69</td>\n",
       "      <td>30</td>\n",
       "      <td>2</td>\n",
       "    </tr>\n",
       "  </tbody>\n",
       "</table>\n",
       "</div>"
      ],
      "text/plain": [
       "  Participant ID                     Video file Gloss ASL-LEX Code  \\\n",
       "0            P52  07157565148825373-seedAXE.mp4   AXE     G_03_066   \n",
       "1            P28       7179300005186042-AXE.mp4   AXE     G_03_066   \n",
       "2            P29      16216064841959765-AXE.mp4   AXE     G_03_066   \n",
       "3            P37       6193814382865199-AXE.mp4   AXE     G_03_066   \n",
       "4            P40       5947453960317015-AXE.mp4   AXE     G_03_066   \n",
       "5            P40        929570016067665-AXE.mp4   AXE     G_03_066   \n",
       "6            P16        904767261814883-AXE.mp4   AXE     G_03_066   \n",
       "7            P43     016134052760367945-AXE.mp4   AXE     G_03_066   \n",
       "8            P40      23099527328070546-AXE.mp4   AXE     G_03_066   \n",
       "9            P37      21310388087265242-AXE.mp4   AXE     G_03_066   \n",
       "\n",
       "                                                Path  Frequency  Frames  FPS  \\\n",
       "0  file:///media/kristian/HDD/ASL_Citizen/ASL_Cit...         18     100   31   \n",
       "1  file:///media/kristian/HDD/ASL_Citizen/ASL_Cit...         18      81   30   \n",
       "2  file:///media/kristian/HDD/ASL_Citizen/ASL_Cit...         18      47   30   \n",
       "3  file:///media/kristian/HDD/ASL_Citizen/ASL_Cit...         18      67   30   \n",
       "4  file:///media/kristian/HDD/ASL_Citizen/ASL_Cit...         18      89   30   \n",
       "5  file:///media/kristian/HDD/ASL_Citizen/ASL_Cit...         18     112   29   \n",
       "6  file:///media/kristian/HDD/ASL_Citizen/ASL_Cit...         18      64   30   \n",
       "7  file:///media/kristian/HDD/ASL_Citizen/ASL_Cit...         18      75   30   \n",
       "8  file:///media/kristian/HDD/ASL_Citizen/ASL_Cit...         18      91   29   \n",
       "9  file:///media/kristian/HDD/ASL_Citizen/ASL_Cit...         18      69   30   \n",
       "\n",
       "   Length  \n",
       "0       3  \n",
       "1       3  \n",
       "2       2  \n",
       "3       2  \n",
       "4       3  \n",
       "5       4  \n",
       "6       2  \n",
       "7       2  \n",
       "8       3  \n",
       "9       2  "
      ]
     },
     "execution_count": 93,
     "metadata": {},
     "output_type": "execute_result"
    }
   ],
   "source": [
    "traindf.head(10)"
   ]
  },
  {
   "cell_type": "code",
   "execution_count": 65,
   "id": "e5173282",
   "metadata": {
    "ExecuteTime": {
     "end_time": "2023-08-07T14:41:10.790381Z",
     "start_time": "2023-08-07T14:41:10.787468Z"
    }
   },
   "outputs": [
    {
     "name": "stdout",
     "output_type": "stream",
     "text": [
      "50\n"
     ]
    }
   ],
   "source": [
    "print(traindf['Gloss'].nunique())"
   ]
  },
  {
   "cell_type": "code",
   "execution_count": 66,
   "id": "cb3e9805",
   "metadata": {
    "ExecuteTime": {
     "end_time": "2023-08-07T14:41:51.239809Z",
     "start_time": "2023-08-07T14:41:38.887029Z"
    },
    "scrolled": true
   },
   "outputs": [
    {
     "name": "stderr",
     "output_type": "stream",
     "text": [
      "100%|█████████████████████████████████████████| 191/191 [00:12<00:00, 15.47it/s]\n"
     ]
    }
   ],
   "source": [
    "tqdm.pandas()\n",
    "valdf[['Frames', 'FPS', 'Length']] = valdf['Path'].progress_apply(lambda x: pd.Series(frames_from_file(x)))"
   ]
  },
  {
   "cell_type": "code",
   "execution_count": 67,
   "id": "7c00f056",
   "metadata": {
    "ExecuteTime": {
     "end_time": "2023-08-07T14:42:04.515531Z",
     "start_time": "2023-08-07T14:42:04.511070Z"
    }
   },
   "outputs": [
    {
     "data": {
      "text/plain": [
       "207"
      ]
     },
     "execution_count": 67,
     "metadata": {},
     "output_type": "execute_result"
    }
   ],
   "source": [
    "valdf['Frames'].max()"
   ]
  },
  {
   "cell_type": "code",
   "execution_count": 68,
   "id": "51f9d882",
   "metadata": {
    "ExecuteTime": {
     "end_time": "2023-08-07T14:42:05.207135Z",
     "start_time": "2023-08-07T14:42:05.197802Z"
    },
    "scrolled": true
   },
   "outputs": [
    {
     "data": {
      "text/html": [
       "<div>\n",
       "<style scoped>\n",
       "    .dataframe tbody tr th:only-of-type {\n",
       "        vertical-align: middle;\n",
       "    }\n",
       "\n",
       "    .dataframe tbody tr th {\n",
       "        vertical-align: top;\n",
       "    }\n",
       "\n",
       "    .dataframe thead th {\n",
       "        text-align: right;\n",
       "    }\n",
       "</style>\n",
       "<table border=\"1\" class=\"dataframe\">\n",
       "  <thead>\n",
       "    <tr style=\"text-align: right;\">\n",
       "      <th></th>\n",
       "      <th>Participant ID</th>\n",
       "      <th>Video file</th>\n",
       "      <th>Gloss</th>\n",
       "      <th>ASL-LEX Code</th>\n",
       "      <th>Path</th>\n",
       "      <th>Frequency</th>\n",
       "      <th>Frames</th>\n",
       "      <th>FPS</th>\n",
       "      <th>Length</th>\n",
       "    </tr>\n",
       "  </thead>\n",
       "  <tbody>\n",
       "    <tr>\n",
       "      <th>0</th>\n",
       "      <td>P39</td>\n",
       "      <td>19778675091674147-AXE.mp4</td>\n",
       "      <td>AXE</td>\n",
       "      <td>G_03_066</td>\n",
       "      <td>file:///media/kristian/HDD/ASL_Citizen/ASL_Cit...</td>\n",
       "      <td>4</td>\n",
       "      <td>121</td>\n",
       "      <td>30</td>\n",
       "      <td>4</td>\n",
       "    </tr>\n",
       "    <tr>\n",
       "      <th>1</th>\n",
       "      <td>P26</td>\n",
       "      <td>8581142177964065-AXE.mp4</td>\n",
       "      <td>AXE</td>\n",
       "      <td>G_03_066</td>\n",
       "      <td>file:///media/kristian/HDD/ASL_Citizen/ASL_Cit...</td>\n",
       "      <td>4</td>\n",
       "      <td>81</td>\n",
       "      <td>29</td>\n",
       "      <td>3</td>\n",
       "    </tr>\n",
       "    <tr>\n",
       "      <th>2</th>\n",
       "      <td>P39</td>\n",
       "      <td>3877478645046861-AXE.mp4</td>\n",
       "      <td>AXE</td>\n",
       "      <td>G_03_066</td>\n",
       "      <td>file:///media/kristian/HDD/ASL_Citizen/ASL_Cit...</td>\n",
       "      <td>4</td>\n",
       "      <td>120</td>\n",
       "      <td>30</td>\n",
       "      <td>4</td>\n",
       "    </tr>\n",
       "    <tr>\n",
       "      <th>3</th>\n",
       "      <td>P21</td>\n",
       "      <td>8521417940364975-AXE.mp4</td>\n",
       "      <td>AXE</td>\n",
       "      <td>G_03_066</td>\n",
       "      <td>file:///media/kristian/HDD/ASL_Citizen/ASL_Cit...</td>\n",
       "      <td>4</td>\n",
       "      <td>71</td>\n",
       "      <td>29</td>\n",
       "      <td>2</td>\n",
       "    </tr>\n",
       "    <tr>\n",
       "      <th>4</th>\n",
       "      <td>P5</td>\n",
       "      <td>9990244640190733-BACKPACK.mp4</td>\n",
       "      <td>BACKPACK</td>\n",
       "      <td>G_03_091</td>\n",
       "      <td>file:///media/kristian/HDD/ASL_Citizen/ASL_Cit...</td>\n",
       "      <td>3</td>\n",
       "      <td>93</td>\n",
       "      <td>29</td>\n",
       "      <td>3</td>\n",
       "    </tr>\n",
       "  </tbody>\n",
       "</table>\n",
       "</div>"
      ],
      "text/plain": [
       "  Participant ID                     Video file     Gloss ASL-LEX Code  \\\n",
       "0            P39      19778675091674147-AXE.mp4       AXE     G_03_066   \n",
       "1            P26       8581142177964065-AXE.mp4       AXE     G_03_066   \n",
       "2            P39       3877478645046861-AXE.mp4       AXE     G_03_066   \n",
       "3            P21       8521417940364975-AXE.mp4       AXE     G_03_066   \n",
       "4             P5  9990244640190733-BACKPACK.mp4  BACKPACK     G_03_091   \n",
       "\n",
       "                                                Path  Frequency  Frames  FPS  \\\n",
       "0  file:///media/kristian/HDD/ASL_Citizen/ASL_Cit...          4     121   30   \n",
       "1  file:///media/kristian/HDD/ASL_Citizen/ASL_Cit...          4      81   29   \n",
       "2  file:///media/kristian/HDD/ASL_Citizen/ASL_Cit...          4     120   30   \n",
       "3  file:///media/kristian/HDD/ASL_Citizen/ASL_Cit...          4      71   29   \n",
       "4  file:///media/kristian/HDD/ASL_Citizen/ASL_Cit...          3      93   29   \n",
       "\n",
       "   Length  \n",
       "0       4  \n",
       "1       3  \n",
       "2       4  \n",
       "3       2  \n",
       "4       3  "
      ]
     },
     "execution_count": 68,
     "metadata": {},
     "output_type": "execute_result"
    }
   ],
   "source": [
    "valdf.head()"
   ]
  },
  {
   "cell_type": "code",
   "execution_count": 69,
   "id": "366e7b55",
   "metadata": {
    "ExecuteTime": {
     "end_time": "2023-08-07T14:42:05.954456Z",
     "start_time": "2023-08-07T14:42:05.937030Z"
    }
   },
   "outputs": [
    {
     "data": {
      "text/html": [
       "<div>\n",
       "<style scoped>\n",
       "    .dataframe tbody tr th:only-of-type {\n",
       "        vertical-align: middle;\n",
       "    }\n",
       "\n",
       "    .dataframe tbody tr th {\n",
       "        vertical-align: top;\n",
       "    }\n",
       "\n",
       "    .dataframe thead th {\n",
       "        text-align: right;\n",
       "    }\n",
       "</style>\n",
       "<table border=\"1\" class=\"dataframe\">\n",
       "  <thead>\n",
       "    <tr style=\"text-align: right;\">\n",
       "      <th></th>\n",
       "      <th>Frequency</th>\n",
       "      <th>Frames</th>\n",
       "      <th>FPS</th>\n",
       "      <th>Length</th>\n",
       "    </tr>\n",
       "  </thead>\n",
       "  <tbody>\n",
       "    <tr>\n",
       "      <th>count</th>\n",
       "      <td>191.000000</td>\n",
       "      <td>191.000000</td>\n",
       "      <td>191.000000</td>\n",
       "      <td>191.000000</td>\n",
       "    </tr>\n",
       "    <tr>\n",
       "      <th>mean</th>\n",
       "      <td>3.963351</td>\n",
       "      <td>88.905759</td>\n",
       "      <td>29.706806</td>\n",
       "      <td>3.000000</td>\n",
       "    </tr>\n",
       "    <tr>\n",
       "      <th>std</th>\n",
       "      <td>0.770316</td>\n",
       "      <td>36.214006</td>\n",
       "      <td>0.456423</td>\n",
       "      <td>1.248157</td>\n",
       "    </tr>\n",
       "    <tr>\n",
       "      <th>min</th>\n",
       "      <td>3.000000</td>\n",
       "      <td>37.000000</td>\n",
       "      <td>29.000000</td>\n",
       "      <td>1.000000</td>\n",
       "    </tr>\n",
       "    <tr>\n",
       "      <th>25%</th>\n",
       "      <td>3.000000</td>\n",
       "      <td>61.500000</td>\n",
       "      <td>29.000000</td>\n",
       "      <td>2.000000</td>\n",
       "    </tr>\n",
       "    <tr>\n",
       "      <th>50%</th>\n",
       "      <td>4.000000</td>\n",
       "      <td>76.000000</td>\n",
       "      <td>30.000000</td>\n",
       "      <td>3.000000</td>\n",
       "    </tr>\n",
       "    <tr>\n",
       "      <th>75%</th>\n",
       "      <td>4.000000</td>\n",
       "      <td>117.500000</td>\n",
       "      <td>30.000000</td>\n",
       "      <td>4.000000</td>\n",
       "    </tr>\n",
       "    <tr>\n",
       "      <th>max</th>\n",
       "      <td>6.000000</td>\n",
       "      <td>207.000000</td>\n",
       "      <td>30.000000</td>\n",
       "      <td>7.000000</td>\n",
       "    </tr>\n",
       "  </tbody>\n",
       "</table>\n",
       "</div>"
      ],
      "text/plain": [
       "        Frequency      Frames         FPS      Length\n",
       "count  191.000000  191.000000  191.000000  191.000000\n",
       "mean     3.963351   88.905759   29.706806    3.000000\n",
       "std      0.770316   36.214006    0.456423    1.248157\n",
       "min      3.000000   37.000000   29.000000    1.000000\n",
       "25%      3.000000   61.500000   29.000000    2.000000\n",
       "50%      4.000000   76.000000   30.000000    3.000000\n",
       "75%      4.000000  117.500000   30.000000    4.000000\n",
       "max      6.000000  207.000000   30.000000    7.000000"
      ]
     },
     "execution_count": 69,
     "metadata": {},
     "output_type": "execute_result"
    }
   ],
   "source": [
    "valdf.describe()"
   ]
  },
  {
   "cell_type": "code",
   "execution_count": 70,
   "id": "2c20676f",
   "metadata": {
    "ExecuteTime": {
     "end_time": "2023-08-07T14:42:33.350092Z",
     "start_time": "2023-08-07T14:42:33.331093Z"
    }
   },
   "outputs": [
    {
     "data": {
      "text/html": [
       "<div>\n",
       "<style scoped>\n",
       "    .dataframe tbody tr th:only-of-type {\n",
       "        vertical-align: middle;\n",
       "    }\n",
       "\n",
       "    .dataframe tbody tr th {\n",
       "        vertical-align: top;\n",
       "    }\n",
       "\n",
       "    .dataframe thead th {\n",
       "        text-align: right;\n",
       "    }\n",
       "</style>\n",
       "<table border=\"1\" class=\"dataframe\">\n",
       "  <thead>\n",
       "    <tr style=\"text-align: right;\">\n",
       "      <th></th>\n",
       "      <th>Frequency</th>\n",
       "      <th>Frames</th>\n",
       "      <th>FPS</th>\n",
       "      <th>Length</th>\n",
       "    </tr>\n",
       "  </thead>\n",
       "  <tbody>\n",
       "    <tr>\n",
       "      <th>count</th>\n",
       "      <td>162.000000</td>\n",
       "      <td>162.000000</td>\n",
       "      <td>162.000000</td>\n",
       "      <td>162.000000</td>\n",
       "    </tr>\n",
       "    <tr>\n",
       "      <th>mean</th>\n",
       "      <td>3.993827</td>\n",
       "      <td>78.203704</td>\n",
       "      <td>29.691358</td>\n",
       "      <td>2.623457</td>\n",
       "    </tr>\n",
       "    <tr>\n",
       "      <th>std</th>\n",
       "      <td>0.760001</td>\n",
       "      <td>23.787397</td>\n",
       "      <td>0.463365</td>\n",
       "      <td>0.772311</td>\n",
       "    </tr>\n",
       "    <tr>\n",
       "      <th>min</th>\n",
       "      <td>3.000000</td>\n",
       "      <td>45.000000</td>\n",
       "      <td>29.000000</td>\n",
       "      <td>2.000000</td>\n",
       "    </tr>\n",
       "    <tr>\n",
       "      <th>25%</th>\n",
       "      <td>3.000000</td>\n",
       "      <td>59.250000</td>\n",
       "      <td>29.000000</td>\n",
       "      <td>2.000000</td>\n",
       "    </tr>\n",
       "    <tr>\n",
       "      <th>50%</th>\n",
       "      <td>4.000000</td>\n",
       "      <td>71.500000</td>\n",
       "      <td>30.000000</td>\n",
       "      <td>2.000000</td>\n",
       "    </tr>\n",
       "    <tr>\n",
       "      <th>75%</th>\n",
       "      <td>4.000000</td>\n",
       "      <td>92.000000</td>\n",
       "      <td>30.000000</td>\n",
       "      <td>3.000000</td>\n",
       "    </tr>\n",
       "    <tr>\n",
       "      <th>max</th>\n",
       "      <td>6.000000</td>\n",
       "      <td>130.000000</td>\n",
       "      <td>30.000000</td>\n",
       "      <td>4.000000</td>\n",
       "    </tr>\n",
       "  </tbody>\n",
       "</table>\n",
       "</div>"
      ],
      "text/plain": [
       "        Frequency      Frames         FPS      Length\n",
       "count  162.000000  162.000000  162.000000  162.000000\n",
       "mean     3.993827   78.203704   29.691358    2.623457\n",
       "std      0.760001   23.787397    0.463365    0.772311\n",
       "min      3.000000   45.000000   29.000000    2.000000\n",
       "25%      3.000000   59.250000   29.000000    2.000000\n",
       "50%      4.000000   71.500000   30.000000    2.000000\n",
       "75%      4.000000   92.000000   30.000000    3.000000\n",
       "max      6.000000  130.000000   30.000000    4.000000"
      ]
     },
     "execution_count": 70,
     "metadata": {},
     "output_type": "execute_result"
    }
   ],
   "source": [
    "valdf = valdf[(valdf['Length'] > 1) & (valdf['FPS'] > 28) &(valdf['Frames'] < 131) ]\n",
    "#filtered_df = traindf[(traindf['Frames'] > 0) & (traindf['Frames'] < 121)]\n",
    "#filtered_df = traindf[traindf['Frames'] > 0]\n",
    "valdf = valdf.reset_index(drop=True)\n",
    "valdf.describe()"
   ]
  },
  {
   "cell_type": "code",
   "execution_count": 71,
   "id": "bbacb7f1",
   "metadata": {
    "ExecuteTime": {
     "end_time": "2023-08-07T14:42:47.860895Z",
     "start_time": "2023-08-07T14:42:47.844982Z"
    }
   },
   "outputs": [
    {
     "data": {
      "text/html": [
       "<div>\n",
       "<style scoped>\n",
       "    .dataframe tbody tr th:only-of-type {\n",
       "        vertical-align: middle;\n",
       "    }\n",
       "\n",
       "    .dataframe tbody tr th {\n",
       "        vertical-align: top;\n",
       "    }\n",
       "\n",
       "    .dataframe thead th {\n",
       "        text-align: right;\n",
       "    }\n",
       "</style>\n",
       "<table border=\"1\" class=\"dataframe\">\n",
       "  <thead>\n",
       "    <tr style=\"text-align: right;\">\n",
       "      <th></th>\n",
       "      <th>Frequency</th>\n",
       "      <th>Frames</th>\n",
       "      <th>FPS</th>\n",
       "      <th>Length</th>\n",
       "    </tr>\n",
       "  </thead>\n",
       "  <tbody>\n",
       "    <tr>\n",
       "      <th>count</th>\n",
       "      <td>162.000000</td>\n",
       "      <td>162.000000</td>\n",
       "      <td>162.000000</td>\n",
       "      <td>162.000000</td>\n",
       "    </tr>\n",
       "    <tr>\n",
       "      <th>mean</th>\n",
       "      <td>3.506173</td>\n",
       "      <td>78.203704</td>\n",
       "      <td>29.691358</td>\n",
       "      <td>2.623457</td>\n",
       "    </tr>\n",
       "    <tr>\n",
       "      <th>std</th>\n",
       "      <td>0.907162</td>\n",
       "      <td>23.787397</td>\n",
       "      <td>0.463365</td>\n",
       "      <td>0.772311</td>\n",
       "    </tr>\n",
       "    <tr>\n",
       "      <th>min</th>\n",
       "      <td>2.000000</td>\n",
       "      <td>45.000000</td>\n",
       "      <td>29.000000</td>\n",
       "      <td>2.000000</td>\n",
       "    </tr>\n",
       "    <tr>\n",
       "      <th>25%</th>\n",
       "      <td>3.000000</td>\n",
       "      <td>59.250000</td>\n",
       "      <td>29.000000</td>\n",
       "      <td>2.000000</td>\n",
       "    </tr>\n",
       "    <tr>\n",
       "      <th>50%</th>\n",
       "      <td>4.000000</td>\n",
       "      <td>71.500000</td>\n",
       "      <td>30.000000</td>\n",
       "      <td>2.000000</td>\n",
       "    </tr>\n",
       "    <tr>\n",
       "      <th>75%</th>\n",
       "      <td>4.000000</td>\n",
       "      <td>92.000000</td>\n",
       "      <td>30.000000</td>\n",
       "      <td>3.000000</td>\n",
       "    </tr>\n",
       "    <tr>\n",
       "      <th>max</th>\n",
       "      <td>5.000000</td>\n",
       "      <td>130.000000</td>\n",
       "      <td>30.000000</td>\n",
       "      <td>4.000000</td>\n",
       "    </tr>\n",
       "  </tbody>\n",
       "</table>\n",
       "</div>"
      ],
      "text/plain": [
       "        Frequency      Frames         FPS      Length\n",
       "count  162.000000  162.000000  162.000000  162.000000\n",
       "mean     3.506173   78.203704   29.691358    2.623457\n",
       "std      0.907162   23.787397    0.463365    0.772311\n",
       "min      2.000000   45.000000   29.000000    2.000000\n",
       "25%      3.000000   59.250000   29.000000    2.000000\n",
       "50%      4.000000   71.500000   30.000000    2.000000\n",
       "75%      4.000000   92.000000   30.000000    3.000000\n",
       "max      5.000000  130.000000   30.000000    4.000000"
      ]
     },
     "execution_count": 71,
     "metadata": {},
     "output_type": "execute_result"
    }
   ],
   "source": [
    "valdf['Frequency'] = valdf['Gloss'].map(valdf['Gloss'].value_counts())\n",
    "#valdf = valdf.sort_values(by='Frequency',)\n",
    "\n",
    "valdf.describe()"
   ]
  },
  {
   "cell_type": "code",
   "execution_count": 72,
   "id": "d63acde7",
   "metadata": {
    "ExecuteTime": {
     "end_time": "2023-08-07T14:42:55.764746Z",
     "start_time": "2023-08-07T14:42:55.761616Z"
    },
    "scrolled": true
   },
   "outputs": [
    {
     "name": "stdout",
     "output_type": "stream",
     "text": [
      "50\n"
     ]
    }
   ],
   "source": [
    "print(valdf['Gloss'].nunique())"
   ]
  },
  {
   "cell_type": "code",
   "execution_count": 74,
   "id": "db83287e",
   "metadata": {
    "ExecuteTime": {
     "end_time": "2023-08-07T14:44:00.679095Z",
     "start_time": "2023-08-07T14:43:25.885384Z"
    },
    "scrolled": true
   },
   "outputs": [
    {
     "name": "stderr",
     "output_type": "stream",
     "text": [
      "100%|█████████████████████████████████████████| 729/729 [00:34<00:00, 20.96it/s]\n"
     ]
    }
   ],
   "source": [
    "tqdm.pandas()\n",
    "testdf[['Frames', 'FPS', 'Length']] = testdf['Path'].progress_apply(lambda x: pd.Series(frames_from_file(x)))"
   ]
  },
  {
   "cell_type": "code",
   "execution_count": 75,
   "id": "a62678e9",
   "metadata": {
    "ExecuteTime": {
     "end_time": "2023-08-07T14:44:02.445581Z",
     "start_time": "2023-08-07T14:44:02.441810Z"
    }
   },
   "outputs": [
    {
     "data": {
      "text/plain": [
       "234"
      ]
     },
     "execution_count": 75,
     "metadata": {},
     "output_type": "execute_result"
    }
   ],
   "source": [
    "testdf['Frames'].max()"
   ]
  },
  {
   "cell_type": "code",
   "execution_count": 76,
   "id": "7395e5bd",
   "metadata": {
    "ExecuteTime": {
     "end_time": "2023-08-07T14:44:03.292689Z",
     "start_time": "2023-08-07T14:44:03.284967Z"
    },
    "scrolled": true
   },
   "outputs": [
    {
     "data": {
      "text/html": [
       "<div>\n",
       "<style scoped>\n",
       "    .dataframe tbody tr th:only-of-type {\n",
       "        vertical-align: middle;\n",
       "    }\n",
       "\n",
       "    .dataframe tbody tr th {\n",
       "        vertical-align: top;\n",
       "    }\n",
       "\n",
       "    .dataframe thead th {\n",
       "        text-align: right;\n",
       "    }\n",
       "</style>\n",
       "<table border=\"1\" class=\"dataframe\">\n",
       "  <thead>\n",
       "    <tr style=\"text-align: right;\">\n",
       "      <th></th>\n",
       "      <th>Participant ID</th>\n",
       "      <th>Video file</th>\n",
       "      <th>Gloss</th>\n",
       "      <th>ASL-LEX Code</th>\n",
       "      <th>Path</th>\n",
       "      <th>Frequency</th>\n",
       "      <th>Frames</th>\n",
       "      <th>FPS</th>\n",
       "      <th>Length</th>\n",
       "    </tr>\n",
       "  </thead>\n",
       "  <tbody>\n",
       "    <tr>\n",
       "      <th>0</th>\n",
       "      <td>P15</td>\n",
       "      <td>33721516025652254-AXE.mp4</td>\n",
       "      <td>AXE</td>\n",
       "      <td>G_03_066</td>\n",
       "      <td>file:///media/kristian/HDD/ASL_Citizen/ASL_Cit...</td>\n",
       "      <td>15</td>\n",
       "      <td>196</td>\n",
       "      <td>29</td>\n",
       "      <td>7</td>\n",
       "    </tr>\n",
       "    <tr>\n",
       "      <th>1</th>\n",
       "      <td>P47</td>\n",
       "      <td>519067006979435-AXE.mp4</td>\n",
       "      <td>AXE</td>\n",
       "      <td>G_03_066</td>\n",
       "      <td>file:///media/kristian/HDD/ASL_Citizen/ASL_Cit...</td>\n",
       "      <td>15</td>\n",
       "      <td>102</td>\n",
       "      <td>26</td>\n",
       "      <td>4</td>\n",
       "    </tr>\n",
       "    <tr>\n",
       "      <th>2</th>\n",
       "      <td>P35</td>\n",
       "      <td>5104381603195376-AXE.mp4</td>\n",
       "      <td>AXE</td>\n",
       "      <td>G_03_066</td>\n",
       "      <td>file:///media/kristian/HDD/ASL_Citizen/ASL_Cit...</td>\n",
       "      <td>15</td>\n",
       "      <td>70</td>\n",
       "      <td>29</td>\n",
       "      <td>2</td>\n",
       "    </tr>\n",
       "    <tr>\n",
       "      <th>3</th>\n",
       "      <td>P42</td>\n",
       "      <td>44458614013793873-AXE.mp4</td>\n",
       "      <td>AXE</td>\n",
       "      <td>G_03_066</td>\n",
       "      <td>file:///media/kristian/HDD/ASL_Citizen/ASL_Cit...</td>\n",
       "      <td>15</td>\n",
       "      <td>57</td>\n",
       "      <td>30</td>\n",
       "      <td>2</td>\n",
       "    </tr>\n",
       "    <tr>\n",
       "      <th>4</th>\n",
       "      <td>P42</td>\n",
       "      <td>9604797909481075-AXE.mp4</td>\n",
       "      <td>AXE</td>\n",
       "      <td>G_03_066</td>\n",
       "      <td>file:///media/kristian/HDD/ASL_Citizen/ASL_Cit...</td>\n",
       "      <td>15</td>\n",
       "      <td>66</td>\n",
       "      <td>30</td>\n",
       "      <td>2</td>\n",
       "    </tr>\n",
       "  </tbody>\n",
       "</table>\n",
       "</div>"
      ],
      "text/plain": [
       "  Participant ID                 Video file Gloss ASL-LEX Code  \\\n",
       "0            P15  33721516025652254-AXE.mp4   AXE     G_03_066   \n",
       "1            P47    519067006979435-AXE.mp4   AXE     G_03_066   \n",
       "2            P35   5104381603195376-AXE.mp4   AXE     G_03_066   \n",
       "3            P42  44458614013793873-AXE.mp4   AXE     G_03_066   \n",
       "4            P42   9604797909481075-AXE.mp4   AXE     G_03_066   \n",
       "\n",
       "                                                Path  Frequency  Frames  FPS  \\\n",
       "0  file:///media/kristian/HDD/ASL_Citizen/ASL_Cit...         15     196   29   \n",
       "1  file:///media/kristian/HDD/ASL_Citizen/ASL_Cit...         15     102   26   \n",
       "2  file:///media/kristian/HDD/ASL_Citizen/ASL_Cit...         15      70   29   \n",
       "3  file:///media/kristian/HDD/ASL_Citizen/ASL_Cit...         15      57   30   \n",
       "4  file:///media/kristian/HDD/ASL_Citizen/ASL_Cit...         15      66   30   \n",
       "\n",
       "   Length  \n",
       "0       7  \n",
       "1       4  \n",
       "2       2  \n",
       "3       2  \n",
       "4       2  "
      ]
     },
     "execution_count": 76,
     "metadata": {},
     "output_type": "execute_result"
    }
   ],
   "source": [
    "testdf.head()"
   ]
  },
  {
   "cell_type": "code",
   "execution_count": 77,
   "id": "3aba3d90",
   "metadata": {
    "ExecuteTime": {
     "end_time": "2023-08-07T14:44:12.977871Z",
     "start_time": "2023-08-07T14:44:12.963134Z"
    }
   },
   "outputs": [
    {
     "data": {
      "text/html": [
       "<div>\n",
       "<style scoped>\n",
       "    .dataframe tbody tr th:only-of-type {\n",
       "        vertical-align: middle;\n",
       "    }\n",
       "\n",
       "    .dataframe tbody tr th {\n",
       "        vertical-align: top;\n",
       "    }\n",
       "\n",
       "    .dataframe thead th {\n",
       "        text-align: right;\n",
       "    }\n",
       "</style>\n",
       "<table border=\"1\" class=\"dataframe\">\n",
       "  <thead>\n",
       "    <tr style=\"text-align: right;\">\n",
       "      <th></th>\n",
       "      <th>Frequency</th>\n",
       "      <th>Frames</th>\n",
       "      <th>FPS</th>\n",
       "      <th>Length</th>\n",
       "    </tr>\n",
       "  </thead>\n",
       "  <tbody>\n",
       "    <tr>\n",
       "      <th>count</th>\n",
       "      <td>729.000000</td>\n",
       "      <td>729.000000</td>\n",
       "      <td>729.000000</td>\n",
       "      <td>729.000000</td>\n",
       "    </tr>\n",
       "    <tr>\n",
       "      <th>mean</th>\n",
       "      <td>14.978052</td>\n",
       "      <td>75.192044</td>\n",
       "      <td>28.696845</td>\n",
       "      <td>2.624143</td>\n",
       "    </tr>\n",
       "    <tr>\n",
       "      <th>std</th>\n",
       "      <td>2.229192</td>\n",
       "      <td>27.848864</td>\n",
       "      <td>3.113689</td>\n",
       "      <td>1.003439</td>\n",
       "    </tr>\n",
       "    <tr>\n",
       "      <th>min</th>\n",
       "      <td>9.000000</td>\n",
       "      <td>10.000000</td>\n",
       "      <td>14.000000</td>\n",
       "      <td>0.000000</td>\n",
       "    </tr>\n",
       "    <tr>\n",
       "      <th>25%</th>\n",
       "      <td>14.000000</td>\n",
       "      <td>56.000000</td>\n",
       "      <td>29.000000</td>\n",
       "      <td>2.000000</td>\n",
       "    </tr>\n",
       "    <tr>\n",
       "      <th>50%</th>\n",
       "      <td>15.000000</td>\n",
       "      <td>73.000000</td>\n",
       "      <td>30.000000</td>\n",
       "      <td>3.000000</td>\n",
       "    </tr>\n",
       "    <tr>\n",
       "      <th>75%</th>\n",
       "      <td>16.000000</td>\n",
       "      <td>90.000000</td>\n",
       "      <td>30.000000</td>\n",
       "      <td>3.000000</td>\n",
       "    </tr>\n",
       "    <tr>\n",
       "      <th>max</th>\n",
       "      <td>20.000000</td>\n",
       "      <td>234.000000</td>\n",
       "      <td>31.000000</td>\n",
       "      <td>8.000000</td>\n",
       "    </tr>\n",
       "  </tbody>\n",
       "</table>\n",
       "</div>"
      ],
      "text/plain": [
       "        Frequency      Frames         FPS      Length\n",
       "count  729.000000  729.000000  729.000000  729.000000\n",
       "mean    14.978052   75.192044   28.696845    2.624143\n",
       "std      2.229192   27.848864    3.113689    1.003439\n",
       "min      9.000000   10.000000   14.000000    0.000000\n",
       "25%     14.000000   56.000000   29.000000    2.000000\n",
       "50%     15.000000   73.000000   30.000000    3.000000\n",
       "75%     16.000000   90.000000   30.000000    3.000000\n",
       "max     20.000000  234.000000   31.000000    8.000000"
      ]
     },
     "execution_count": 77,
     "metadata": {},
     "output_type": "execute_result"
    }
   ],
   "source": [
    "testdf.describe()"
   ]
  },
  {
   "cell_type": "code",
   "execution_count": 78,
   "id": "1f35b8a3",
   "metadata": {
    "ExecuteTime": {
     "end_time": "2023-08-07T14:44:14.974347Z",
     "start_time": "2023-08-07T14:44:14.953992Z"
    }
   },
   "outputs": [
    {
     "data": {
      "text/html": [
       "<div>\n",
       "<style scoped>\n",
       "    .dataframe tbody tr th:only-of-type {\n",
       "        vertical-align: middle;\n",
       "    }\n",
       "\n",
       "    .dataframe tbody tr th {\n",
       "        vertical-align: top;\n",
       "    }\n",
       "\n",
       "    .dataframe thead th {\n",
       "        text-align: right;\n",
       "    }\n",
       "</style>\n",
       "<table border=\"1\" class=\"dataframe\">\n",
       "  <thead>\n",
       "    <tr style=\"text-align: right;\">\n",
       "      <th></th>\n",
       "      <th>Frequency</th>\n",
       "      <th>Frames</th>\n",
       "      <th>FPS</th>\n",
       "      <th>Length</th>\n",
       "    </tr>\n",
       "  </thead>\n",
       "  <tbody>\n",
       "    <tr>\n",
       "      <th>count</th>\n",
       "      <td>534.000000</td>\n",
       "      <td>534.000000</td>\n",
       "      <td>534.000000</td>\n",
       "      <td>534.000000</td>\n",
       "    </tr>\n",
       "    <tr>\n",
       "      <th>mean</th>\n",
       "      <td>15.014981</td>\n",
       "      <td>77.256554</td>\n",
       "      <td>29.702247</td>\n",
       "      <td>2.619850</td>\n",
       "    </tr>\n",
       "    <tr>\n",
       "      <th>std</th>\n",
       "      <td>2.217904</td>\n",
       "      <td>19.420007</td>\n",
       "      <td>0.526337</td>\n",
       "      <td>0.670792</td>\n",
       "    </tr>\n",
       "    <tr>\n",
       "      <th>min</th>\n",
       "      <td>9.000000</td>\n",
       "      <td>45.000000</td>\n",
       "      <td>29.000000</td>\n",
       "      <td>2.000000</td>\n",
       "    </tr>\n",
       "    <tr>\n",
       "      <th>25%</th>\n",
       "      <td>14.000000</td>\n",
       "      <td>61.000000</td>\n",
       "      <td>29.000000</td>\n",
       "      <td>2.000000</td>\n",
       "    </tr>\n",
       "    <tr>\n",
       "      <th>50%</th>\n",
       "      <td>15.000000</td>\n",
       "      <td>75.000000</td>\n",
       "      <td>30.000000</td>\n",
       "      <td>3.000000</td>\n",
       "    </tr>\n",
       "    <tr>\n",
       "      <th>75%</th>\n",
       "      <td>16.000000</td>\n",
       "      <td>91.000000</td>\n",
       "      <td>30.000000</td>\n",
       "      <td>3.000000</td>\n",
       "    </tr>\n",
       "    <tr>\n",
       "      <th>max</th>\n",
       "      <td>20.000000</td>\n",
       "      <td>130.000000</td>\n",
       "      <td>31.000000</td>\n",
       "      <td>4.000000</td>\n",
       "    </tr>\n",
       "  </tbody>\n",
       "</table>\n",
       "</div>"
      ],
      "text/plain": [
       "        Frequency      Frames         FPS      Length\n",
       "count  534.000000  534.000000  534.000000  534.000000\n",
       "mean    15.014981   77.256554   29.702247    2.619850\n",
       "std      2.217904   19.420007    0.526337    0.670792\n",
       "min      9.000000   45.000000   29.000000    2.000000\n",
       "25%     14.000000   61.000000   29.000000    2.000000\n",
       "50%     15.000000   75.000000   30.000000    3.000000\n",
       "75%     16.000000   91.000000   30.000000    3.000000\n",
       "max     20.000000  130.000000   31.000000    4.000000"
      ]
     },
     "execution_count": 78,
     "metadata": {},
     "output_type": "execute_result"
    }
   ],
   "source": [
    "testdf = testdf[(testdf['Length'] > 1) & (testdf['FPS'] > 28) &(testdf['Frames'] < 131) ]\n",
    "#filtered_df = traindf[(traindf['Frames'] > 0) & (traindf['Frames'] < 121)]\n",
    "#filtered_df = traindf[traindf['Frames'] > 0]\n",
    "testdf = testdf.reset_index(drop=True)\n",
    "testdf.describe()"
   ]
  },
  {
   "cell_type": "code",
   "execution_count": 79,
   "id": "4be6e1b2",
   "metadata": {
    "ExecuteTime": {
     "end_time": "2023-08-07T14:44:17.320708Z",
     "start_time": "2023-08-07T14:44:17.302388Z"
    }
   },
   "outputs": [
    {
     "data": {
      "text/html": [
       "<div>\n",
       "<style scoped>\n",
       "    .dataframe tbody tr th:only-of-type {\n",
       "        vertical-align: middle;\n",
       "    }\n",
       "\n",
       "    .dataframe tbody tr th {\n",
       "        vertical-align: top;\n",
       "    }\n",
       "\n",
       "    .dataframe thead th {\n",
       "        text-align: right;\n",
       "    }\n",
       "</style>\n",
       "<table border=\"1\" class=\"dataframe\">\n",
       "  <thead>\n",
       "    <tr style=\"text-align: right;\">\n",
       "      <th></th>\n",
       "      <th>Frequency</th>\n",
       "      <th>Frames</th>\n",
       "      <th>FPS</th>\n",
       "      <th>Length</th>\n",
       "    </tr>\n",
       "  </thead>\n",
       "  <tbody>\n",
       "    <tr>\n",
       "      <th>count</th>\n",
       "      <td>534.000000</td>\n",
       "      <td>534.000000</td>\n",
       "      <td>534.000000</td>\n",
       "      <td>534.000000</td>\n",
       "    </tr>\n",
       "    <tr>\n",
       "      <th>mean</th>\n",
       "      <td>11.254682</td>\n",
       "      <td>77.256554</td>\n",
       "      <td>29.702247</td>\n",
       "      <td>2.619850</td>\n",
       "    </tr>\n",
       "    <tr>\n",
       "      <th>std</th>\n",
       "      <td>2.311308</td>\n",
       "      <td>19.420007</td>\n",
       "      <td>0.526337</td>\n",
       "      <td>0.670792</td>\n",
       "    </tr>\n",
       "    <tr>\n",
       "      <th>min</th>\n",
       "      <td>5.000000</td>\n",
       "      <td>45.000000</td>\n",
       "      <td>29.000000</td>\n",
       "      <td>2.000000</td>\n",
       "    </tr>\n",
       "    <tr>\n",
       "      <th>25%</th>\n",
       "      <td>10.000000</td>\n",
       "      <td>61.000000</td>\n",
       "      <td>29.000000</td>\n",
       "      <td>2.000000</td>\n",
       "    </tr>\n",
       "    <tr>\n",
       "      <th>50%</th>\n",
       "      <td>12.000000</td>\n",
       "      <td>75.000000</td>\n",
       "      <td>30.000000</td>\n",
       "      <td>3.000000</td>\n",
       "    </tr>\n",
       "    <tr>\n",
       "      <th>75%</th>\n",
       "      <td>13.000000</td>\n",
       "      <td>91.000000</td>\n",
       "      <td>30.000000</td>\n",
       "      <td>3.000000</td>\n",
       "    </tr>\n",
       "    <tr>\n",
       "      <th>max</th>\n",
       "      <td>15.000000</td>\n",
       "      <td>130.000000</td>\n",
       "      <td>31.000000</td>\n",
       "      <td>4.000000</td>\n",
       "    </tr>\n",
       "  </tbody>\n",
       "</table>\n",
       "</div>"
      ],
      "text/plain": [
       "        Frequency      Frames         FPS      Length\n",
       "count  534.000000  534.000000  534.000000  534.000000\n",
       "mean    11.254682   77.256554   29.702247    2.619850\n",
       "std      2.311308   19.420007    0.526337    0.670792\n",
       "min      5.000000   45.000000   29.000000    2.000000\n",
       "25%     10.000000   61.000000   29.000000    2.000000\n",
       "50%     12.000000   75.000000   30.000000    3.000000\n",
       "75%     13.000000   91.000000   30.000000    3.000000\n",
       "max     15.000000  130.000000   31.000000    4.000000"
      ]
     },
     "execution_count": 79,
     "metadata": {},
     "output_type": "execute_result"
    }
   ],
   "source": [
    "testdf['Frequency'] = testdf['Gloss'].map(testdf['Gloss'].value_counts())\n",
    "#testdf = testdf.sort_values(by='Frequency',)\n",
    "\n",
    "testdf.describe()"
   ]
  },
  {
   "cell_type": "code",
   "execution_count": 80,
   "id": "f92bddde",
   "metadata": {
    "ExecuteTime": {
     "end_time": "2023-08-07T14:44:29.065067Z",
     "start_time": "2023-08-07T14:44:29.062322Z"
    }
   },
   "outputs": [
    {
     "name": "stdout",
     "output_type": "stream",
     "text": [
      "50\n"
     ]
    }
   ],
   "source": [
    "print(testdf['Gloss'].nunique())"
   ]
  },
  {
   "cell_type": "code",
   "execution_count": 81,
   "id": "55f0bfc1",
   "metadata": {
    "ExecuteTime": {
     "end_time": "2023-08-07T17:11:51.091385Z",
     "start_time": "2023-08-07T14:44:36.899220Z"
    }
   },
   "outputs": [
    {
     "name": "stderr",
     "output_type": "stream",
     "text": [
      "100%|███████████████████████████████████████| 804/804 [2:27:14<00:00, 10.99s/it]\n"
     ]
    }
   ],
   "source": [
    "keypoints_series = traindf['Path'].progress_apply(extract_keypoints_from_file)"
   ]
  },
  {
   "cell_type": "code",
   "execution_count": 110,
   "id": "e614bc50",
   "metadata": {
    "ExecuteTime": {
     "end_time": "2023-08-07T17:17:42.418868Z",
     "start_time": "2023-08-07T17:17:42.414814Z"
    }
   },
   "outputs": [
    {
     "data": {
      "text/plain": [
       "(804,)"
      ]
     },
     "execution_count": 110,
     "metadata": {},
     "output_type": "execute_result"
    }
   ],
   "source": [
    "keypoints_series.shape"
   ]
  },
  {
   "cell_type": "code",
   "execution_count": 84,
   "id": "e13534ab",
   "metadata": {
    "ExecuteTime": {
     "end_time": "2023-08-07T17:12:33.331826Z",
     "start_time": "2023-08-07T17:12:12.852894Z"
    }
   },
   "outputs": [],
   "source": [
    "np.save(\"/home/kristian/Capstone/keypoints/ASL_Citizen/Mediapipe/train_keypoints.npy\", keypoints_series)"
   ]
  },
  {
   "cell_type": "code",
   "execution_count": 108,
   "id": "9f2a7ac5",
   "metadata": {
    "ExecuteTime": {
     "end_time": "2023-08-07T17:17:35.006688Z",
     "start_time": "2023-08-07T17:17:34.701272Z"
    }
   },
   "outputs": [],
   "source": [
    "import numpy as np\n",
    "keypoints_series=np.load(\"/home/kristian/Capstone/keypoints/ASL_Citizen/Mediapipe/train_keypoints.npy\",allow_pickle=True)"
   ]
  },
  {
   "cell_type": "code",
   "execution_count": 111,
   "id": "e1248da2",
   "metadata": {
    "ExecuteTime": {
     "end_time": "2023-08-07T17:17:44.640719Z",
     "start_time": "2023-08-07T17:17:44.635950Z"
    }
   },
   "outputs": [
    {
     "data": {
      "text/plain": [
       "130"
      ]
     },
     "execution_count": 111,
     "metadata": {},
     "output_type": "execute_result"
    }
   ],
   "source": [
    "max(keypoints.shape[0] for keypoints in keypoints_series)"
   ]
  },
  {
   "cell_type": "code",
   "execution_count": 112,
   "id": "e0706526",
   "metadata": {
    "ExecuteTime": {
     "end_time": "2023-08-07T17:17:45.423730Z",
     "start_time": "2023-08-07T17:17:45.419937Z"
    }
   },
   "outputs": [
    {
     "data": {
      "text/plain": [
       "45"
      ]
     },
     "execution_count": 112,
     "metadata": {},
     "output_type": "execute_result"
    }
   ],
   "source": [
    "min(keypoints.shape[0] for keypoints in keypoints_series)\n"
   ]
  },
  {
   "cell_type": "code",
   "execution_count": 113,
   "id": "5777338f",
   "metadata": {
    "ExecuteTime": {
     "end_time": "2023-08-07T17:17:50.608906Z",
     "start_time": "2023-08-07T17:17:50.606352Z"
    }
   },
   "outputs": [],
   "source": [
    "max_len = traindf['Frames'].max()"
   ]
  },
  {
   "cell_type": "code",
   "execution_count": 114,
   "id": "c59e0367",
   "metadata": {
    "ExecuteTime": {
     "end_time": "2023-08-07T17:17:51.324808Z",
     "start_time": "2023-08-07T17:17:51.321849Z"
    }
   },
   "outputs": [
    {
     "data": {
      "text/plain": [
       "130"
      ]
     },
     "execution_count": 114,
     "metadata": {},
     "output_type": "execute_result"
    }
   ],
   "source": [
    "max_len"
   ]
  },
  {
   "cell_type": "code",
   "execution_count": 94,
   "id": "bd079722",
   "metadata": {
    "ExecuteTime": {
     "end_time": "2023-08-07T17:14:51.431313Z",
     "start_time": "2023-08-07T17:14:51.106018Z"
    }
   },
   "outputs": [],
   "source": [
    "#keypoints_np = np.zeros((len(keypoints_series), max_len, 1662))\n",
    "#for i, keypoints in enumerate(keypoints_series):\n",
    "#    keypoints_np[i, :keypoints.shape[0], :] = keypoints"
   ]
  },
  {
   "cell_type": "code",
   "execution_count": 115,
   "id": "0fb0f5e2",
   "metadata": {
    "ExecuteTime": {
     "end_time": "2023-08-07T17:17:56.244291Z",
     "start_time": "2023-08-07T17:17:55.941457Z"
    }
   },
   "outputs": [],
   "source": [
    "# Create a padded array to store keypoints\n",
    "keypoints_np = np.zeros((len(keypoints_series), max_len, 1662))\n",
    "\n",
    "# Iterate through keypoints_series and fill keypoints_np with pre-padding\n",
    "for i, keypoints in enumerate(keypoints_series):\n",
    "    keypoints_len = min(keypoints.shape[0], max_len)\n",
    "    padding_len = max_len - keypoints_len\n",
    "    keypoints_np[i, padding_len:, :] = keypoints[:keypoints_len, :]"
   ]
  },
  {
   "cell_type": "code",
   "execution_count": 116,
   "id": "26eb2969",
   "metadata": {
    "ExecuteTime": {
     "end_time": "2023-08-07T17:17:57.157063Z",
     "start_time": "2023-08-07T17:17:57.153761Z"
    }
   },
   "outputs": [
    {
     "data": {
      "text/plain": [
       "(804, 130, 1662)"
      ]
     },
     "execution_count": 116,
     "metadata": {},
     "output_type": "execute_result"
    }
   ],
   "source": [
    "keypoints_np.shape"
   ]
  },
  {
   "cell_type": "code",
   "execution_count": 117,
   "id": "150f59b6",
   "metadata": {
    "ExecuteTime": {
     "end_time": "2023-08-07T17:17:59.700799Z",
     "start_time": "2023-08-07T17:17:59.696698Z"
    }
   },
   "outputs": [
    {
     "name": "stdout",
     "output_type": "stream",
     "text": [
      "[[ 0.          0.          0.         ...  0.          0.\n",
      "   0.        ]\n",
      " [ 0.          0.          0.         ...  0.          0.\n",
      "   0.        ]\n",
      " [ 0.          0.          0.         ...  0.          0.\n",
      "   0.        ]\n",
      " ...\n",
      " [ 0.49487716  0.39238185 -1.29218626 ...  0.          0.\n",
      "   0.        ]\n",
      " [ 0.49096876  0.39365393 -1.30090356 ...  0.          0.\n",
      "   0.        ]\n",
      " [ 0.48817223  0.39431143 -1.3236835  ...  0.          0.\n",
      "   0.        ]]\n"
     ]
    }
   ],
   "source": [
    "print(keypoints_np[6])"
   ]
  },
  {
   "cell_type": "code",
   "execution_count": 119,
   "id": "237a962e",
   "metadata": {
    "ExecuteTime": {
     "end_time": "2023-08-07T17:18:20.250710Z",
     "start_time": "2023-08-07T17:18:20.246688Z"
    }
   },
   "outputs": [
    {
     "data": {
      "text/plain": [
       "(804, 130, 1662)"
      ]
     },
     "execution_count": 119,
     "metadata": {},
     "output_type": "execute_result"
    }
   ],
   "source": [
    "keypoints_np.shape"
   ]
  },
  {
   "cell_type": "code",
   "execution_count": 120,
   "id": "1f2be3d0",
   "metadata": {
    "ExecuteTime": {
     "end_time": "2023-08-07T17:48:17.418786Z",
     "start_time": "2023-08-07T17:18:21.912757Z"
    }
   },
   "outputs": [
    {
     "name": "stderr",
     "output_type": "stream",
     "text": [
      "100%|█████████████████████████████████████████| 162/162 [29:55<00:00, 11.08s/it]\n"
     ]
    }
   ],
   "source": [
    "keypoints_series = valdf['Path'].progress_apply(extract_keypoints_from_file)"
   ]
  },
  {
   "cell_type": "code",
   "execution_count": 121,
   "id": "4ec22db7",
   "metadata": {
    "ExecuteTime": {
     "end_time": "2023-08-07T17:48:21.120595Z",
     "start_time": "2023-08-07T17:48:21.117123Z"
    }
   },
   "outputs": [
    {
     "data": {
      "text/plain": [
       "(162,)"
      ]
     },
     "execution_count": 121,
     "metadata": {},
     "output_type": "execute_result"
    }
   ],
   "source": [
    "keypoints_series.shape"
   ]
  },
  {
   "cell_type": "code",
   "execution_count": 122,
   "id": "975a3ce7",
   "metadata": {
    "ExecuteTime": {
     "end_time": "2023-08-07T17:48:39.836151Z",
     "start_time": "2023-08-07T17:48:35.626636Z"
    }
   },
   "outputs": [],
   "source": [
    "np.save(\"/home/kristian/Capstone/keypoints/ASL_Citizen/Mediapipe/val_keypoints.npy\", keypoints_series)"
   ]
  },
  {
   "cell_type": "code",
   "execution_count": 123,
   "id": "44547126",
   "metadata": {
    "ExecuteTime": {
     "end_time": "2023-08-07T17:48:47.081768Z",
     "start_time": "2023-08-07T17:48:47.038337Z"
    }
   },
   "outputs": [],
   "source": [
    "import numpy as np\n",
    "keypoints_series=np.load(\"/home/kristian/Capstone/keypoints/ASL_Citizen/Mediapipe/val_keypoints.npy\",allow_pickle=True)"
   ]
  },
  {
   "cell_type": "code",
   "execution_count": 124,
   "id": "7f22c2fc",
   "metadata": {
    "ExecuteTime": {
     "end_time": "2023-08-07T17:49:01.478911Z",
     "start_time": "2023-08-07T17:49:01.475110Z"
    }
   },
   "outputs": [
    {
     "data": {
      "text/plain": [
       "(162,)"
      ]
     },
     "execution_count": 124,
     "metadata": {},
     "output_type": "execute_result"
    }
   ],
   "source": [
    "keypoints_series.shape"
   ]
  },
  {
   "cell_type": "code",
   "execution_count": 125,
   "id": "8d955591",
   "metadata": {
    "ExecuteTime": {
     "end_time": "2023-08-07T17:49:08.142171Z",
     "start_time": "2023-08-07T17:49:08.139896Z"
    }
   },
   "outputs": [],
   "source": [
    "#keypoints_np = np.zeros((len(keypoints_series), max_len, 1662))\n",
    "#for i, keypoints in enumerate(keypoints_series):\n",
    "#    keypoints_np[i, :keypoints.shape[0], :] = keypoints"
   ]
  },
  {
   "cell_type": "code",
   "execution_count": 126,
   "id": "b376fa0f",
   "metadata": {
    "ExecuteTime": {
     "end_time": "2023-08-07T17:49:12.787861Z",
     "start_time": "2023-08-07T17:49:12.741801Z"
    }
   },
   "outputs": [],
   "source": [
    "# Create a padded array to store keypoints\n",
    "keypoints_np = np.zeros((len(keypoints_series), max_len, 1662))\n",
    "\n",
    "# Iterate through keypoints_series and fill keypoints_np with pre-padding\n",
    "for i, keypoints in enumerate(keypoints_series):\n",
    "    keypoints_len = min(keypoints.shape[0], max_len)\n",
    "    padding_len = max_len - keypoints_len\n",
    "    keypoints_np[i, padding_len:, :] = keypoints[:keypoints_len, :]"
   ]
  },
  {
   "cell_type": "code",
   "execution_count": 127,
   "id": "fc123465",
   "metadata": {
    "ExecuteTime": {
     "end_time": "2023-08-07T17:49:16.366748Z",
     "start_time": "2023-08-07T17:49:16.363415Z"
    }
   },
   "outputs": [
    {
     "data": {
      "text/plain": [
       "(162, 130, 1662)"
      ]
     },
     "execution_count": 127,
     "metadata": {},
     "output_type": "execute_result"
    }
   ],
   "source": [
    "keypoints_np.shape"
   ]
  },
  {
   "cell_type": "code",
   "execution_count": 128,
   "id": "48d73578",
   "metadata": {
    "ExecuteTime": {
     "end_time": "2023-08-07T17:49:17.423093Z",
     "start_time": "2023-08-07T17:49:17.419467Z"
    }
   },
   "outputs": [
    {
     "data": {
      "text/plain": [
       "(162, 130, 1662)"
      ]
     },
     "execution_count": 128,
     "metadata": {},
     "output_type": "execute_result"
    }
   ],
   "source": [
    "keypoints_np.shape"
   ]
  },
  {
   "cell_type": "code",
   "execution_count": 129,
   "id": "34332d29",
   "metadata": {
    "ExecuteTime": {
     "end_time": "2023-08-07T17:49:26.623611Z",
     "start_time": "2023-08-07T17:49:26.617529Z"
    },
    "scrolled": true
   },
   "outputs": [
    {
     "data": {
      "text/plain": [
       "array([[[ 0.        ,  0.        ,  0.        , ...,  0.        ,\n",
       "          0.        ,  0.        ],\n",
       "        [ 0.        ,  0.        ,  0.        , ...,  0.        ,\n",
       "          0.        ,  0.        ],\n",
       "        [ 0.        ,  0.        ,  0.        , ...,  0.        ,\n",
       "          0.        ,  0.        ],\n",
       "        ...,\n",
       "        [ 0.5595299 ,  0.3205725 , -1.27106977, ...,  0.        ,\n",
       "          0.        ,  0.        ],\n",
       "        [ 0.55954963,  0.32069033, -1.25959992, ...,  0.        ,\n",
       "          0.        ,  0.        ],\n",
       "        [ 0.55960971,  0.3209095 , -1.23169589, ...,  0.        ,\n",
       "          0.        ,  0.        ]],\n",
       "\n",
       "       [[ 0.        ,  0.        ,  0.        , ...,  0.        ,\n",
       "          0.        ,  0.        ],\n",
       "        [ 0.        ,  0.        ,  0.        , ...,  0.        ,\n",
       "          0.        ,  0.        ],\n",
       "        [ 0.        ,  0.        ,  0.        , ...,  0.        ,\n",
       "          0.        ,  0.        ],\n",
       "        ...,\n",
       "        [ 0.5183838 ,  0.33223236, -1.15552998, ...,  0.        ,\n",
       "          0.        ,  0.        ],\n",
       "        [ 0.51840633,  0.33222494, -1.12819552, ...,  0.        ,\n",
       "          0.        ,  0.        ],\n",
       "        [ 0.51843715,  0.33220932, -1.11825132, ...,  0.        ,\n",
       "          0.        ,  0.        ]],\n",
       "\n",
       "       [[ 0.        ,  0.        ,  0.        , ...,  0.        ,\n",
       "          0.        ,  0.        ],\n",
       "        [ 0.        ,  0.        ,  0.        , ...,  0.        ,\n",
       "          0.        ,  0.        ],\n",
       "        [ 0.        ,  0.        ,  0.        , ...,  0.        ,\n",
       "          0.        ,  0.        ],\n",
       "        ...,\n",
       "        [ 0.58451182,  0.30696356, -1.27353859, ...,  0.        ,\n",
       "          0.        ,  0.        ],\n",
       "        [ 0.58379984,  0.30720744, -1.29565203, ...,  0.        ,\n",
       "          0.        ,  0.        ],\n",
       "        [ 0.58312511,  0.30719438, -1.32043719, ...,  0.        ,\n",
       "          0.        ,  0.        ]],\n",
       "\n",
       "       ...,\n",
       "\n",
       "       [[ 0.        ,  0.        ,  0.        , ...,  0.        ,\n",
       "          0.        ,  0.        ],\n",
       "        [ 0.        ,  0.        ,  0.        , ...,  0.        ,\n",
       "          0.        ,  0.        ],\n",
       "        [ 0.        ,  0.        ,  0.        , ...,  0.        ,\n",
       "          0.        ,  0.        ],\n",
       "        ...,\n",
       "        [ 0.59118927,  0.39442283, -0.75201887, ...,  0.        ,\n",
       "          0.        ,  0.        ],\n",
       "        [ 0.5912236 ,  0.39451751, -0.76342458, ...,  0.        ,\n",
       "          0.        ,  0.        ],\n",
       "        [ 0.5915451 ,  0.39482784, -0.77948147, ...,  0.        ,\n",
       "          0.        ,  0.        ]],\n",
       "\n",
       "       [[ 0.        ,  0.        ,  0.        , ...,  0.        ,\n",
       "          0.        ,  0.        ],\n",
       "        [ 0.        ,  0.        ,  0.        , ...,  0.        ,\n",
       "          0.        ,  0.        ],\n",
       "        [ 0.        ,  0.        ,  0.        , ...,  0.        ,\n",
       "          0.        ,  0.        ],\n",
       "        ...,\n",
       "        [ 0.46675587,  0.3912048 , -0.82078028, ...,  0.        ,\n",
       "          0.        ,  0.        ],\n",
       "        [ 0.46747947,  0.39122894, -0.8108533 , ...,  0.        ,\n",
       "          0.        ,  0.        ],\n",
       "        [ 0.46801692,  0.39124438, -0.8093155 , ...,  0.        ,\n",
       "          0.        ,  0.        ]],\n",
       "\n",
       "       [[ 0.        ,  0.        ,  0.        , ...,  0.        ,\n",
       "          0.        ,  0.        ],\n",
       "        [ 0.        ,  0.        ,  0.        , ...,  0.        ,\n",
       "          0.        ,  0.        ],\n",
       "        [ 0.        ,  0.        ,  0.        , ...,  0.        ,\n",
       "          0.        ,  0.        ],\n",
       "        ...,\n",
       "        [ 0.4523553 ,  0.31633756, -1.122316  , ...,  0.31361642,\n",
       "          0.78425157, -0.03243052],\n",
       "        [ 0.45163697,  0.31579784, -1.15146101, ...,  0.        ,\n",
       "          0.        ,  0.        ],\n",
       "        [ 0.45089644,  0.31528085, -1.16140938, ...,  0.        ,\n",
       "          0.        ,  0.        ]]])"
      ]
     },
     "execution_count": 129,
     "metadata": {},
     "output_type": "execute_result"
    }
   ],
   "source": [
    "keypoints_np"
   ]
  },
  {
   "cell_type": "code",
   "execution_count": 112,
   "id": "48c53a1f",
   "metadata": {
    "ExecuteTime": {
     "end_time": "2023-08-05T21:04:19.704958Z",
     "start_time": "2023-08-05T19:03:25.783183Z"
    }
   },
   "outputs": [
    {
     "name": "stderr",
     "output_type": "stream",
     "text": [
      "100%|█████████████████████████████████| 705/705 [2:00:53<00:00, 10.29s/it]\n"
     ]
    }
   ],
   "source": [
    "keypoints_series = testdf['Path'].progress_apply(extract_keypoints_from_file)"
   ]
  },
  {
   "cell_type": "code",
   "execution_count": 113,
   "id": "b97a37d2",
   "metadata": {
    "ExecuteTime": {
     "end_time": "2023-08-05T21:04:42.540504Z",
     "start_time": "2023-08-05T21:04:42.537389Z"
    }
   },
   "outputs": [
    {
     "data": {
      "text/plain": [
       "(705,)"
      ]
     },
     "execution_count": 113,
     "metadata": {},
     "output_type": "execute_result"
    }
   ],
   "source": [
    "keypoints_series.shape"
   ]
  },
  {
   "cell_type": "code",
   "execution_count": 116,
   "id": "8de71d83",
   "metadata": {
    "ExecuteTime": {
     "end_time": "2023-08-05T21:04:49.253829Z",
     "start_time": "2023-08-05T21:04:48.499114Z"
    }
   },
   "outputs": [],
   "source": [
    "np.save(\"/home/kristian/Capstone/keypoints/ASL_Citizen/Mediapipe/test_keypoints.npy\", keypoints_np)"
   ]
  },
  {
   "cell_type": "code",
   "execution_count": null,
   "id": "c7518075",
   "metadata": {},
   "outputs": [],
   "source": [
    "import numpy as np\n",
    "keypoints_series=np.load(\"/home/kristian/Capstone/keypoints/ASL_Citizen/Mediapipe/test_keypoints.npy\", allow_pickle=True)"
   ]
  },
  {
   "cell_type": "code",
   "execution_count": null,
   "id": "02a925a8",
   "metadata": {},
   "outputs": [],
   "source": [
    "keypoints_series.shape"
   ]
  },
  {
   "cell_type": "code",
   "execution_count": null,
   "id": "0a0ba381",
   "metadata": {},
   "outputs": [],
   "source": [
    "# Create a padded array to store keypoints\n",
    "keypoints_np = np.zeros((len(keypoints_series), max_len, 1662))\n",
    "\n",
    "# Iterate through keypoints_series and fill keypoints_np with pre-padding\n",
    "for i, keypoints in enumerate(keypoints_series):\n",
    "    keypoints_len = min(keypoints.shape[0], max_len)\n",
    "    padding_len = max_len - keypoints_len\n",
    "    keypoints_np[i, padding_len:, :] = keypoints[:keypoints_len, :]"
   ]
  },
  {
   "cell_type": "code",
   "execution_count": 114,
   "id": "a1eb043d",
   "metadata": {
    "ExecuteTime": {
     "end_time": "2023-08-05T21:04:45.493022Z",
     "start_time": "2023-08-05T21:04:45.220080Z"
    }
   },
   "outputs": [],
   "source": [
    "keypoints_np = np.zeros((len(keypoints_series), max_len, 1662))\n",
    "for i, keypoints in enumerate(keypoints_series):\n",
    "    keypoints_np[i, :keypoints.shape[0], :] = keypoints"
   ]
  },
  {
   "cell_type": "code",
   "execution_count": 115,
   "id": "72bad504",
   "metadata": {
    "ExecuteTime": {
     "end_time": "2023-08-05T21:04:46.330737Z",
     "start_time": "2023-08-05T21:04:46.327305Z"
    }
   },
   "outputs": [
    {
     "data": {
      "text/plain": [
       "(705, 130, 1662)"
      ]
     },
     "execution_count": 115,
     "metadata": {},
     "output_type": "execute_result"
    }
   ],
   "source": [
    "keypoints_np.shape"
   ]
  },
  {
   "cell_type": "code",
   "execution_count": 118,
   "id": "ce62069f",
   "metadata": {
    "ExecuteTime": {
     "end_time": "2023-08-05T21:04:51.449533Z",
     "start_time": "2023-08-05T21:04:51.446147Z"
    }
   },
   "outputs": [
    {
     "data": {
      "text/plain": [
       "(705, 130, 1662)"
      ]
     },
     "execution_count": 118,
     "metadata": {},
     "output_type": "execute_result"
    }
   ],
   "source": [
    "keypoints_np.shape"
   ]
  },
  {
   "cell_type": "markdown",
   "id": "eeaa54d2",
   "metadata": {},
   "source": [
    "# Preprocessing"
   ]
  },
  {
   "cell_type": "code",
   "execution_count": 19,
   "id": "ef55d8b0",
   "metadata": {
    "ExecuteTime": {
     "end_time": "2023-08-07T23:47:07.340373Z",
     "start_time": "2023-08-07T23:47:06.182692Z"
    },
    "init_cell": true
   },
   "outputs": [
    {
     "name": "stdout",
     "output_type": "stream",
     "text": [
      "Training Keypoints Shape: (804,)\n",
      "Validation Kepoints Shape: (162,)\n"
     ]
    }
   ],
   "source": [
    "import numpy as np\n",
    "train_keypoints=np.load(\"/home/kristian/Capstone/keypoints/ASL_Citizen/Mediapipe/train_keypoints.npy\",allow_pickle=True)\n",
    "val_keypoints =np.load(\"/home/kristian/Capstone/keypoints/ASL_Citizen/Mediapipe/val_keypoints.npy\",allow_pickle=True)\n",
    "#test_keypoints=np.load(\"/home/kristian/Capstone/keypoints/ASL_Citizen/Mediapipe/test_keypoints.npy\")\n",
    "\n",
    "print('Training Keypoints Shape:', train_keypoints.shape)\n",
    "print('Validation Kepoints Shape:', val_keypoints.shape)\n",
    "#print('Test Keypoints Shape:',test_keypoints.shape)"
   ]
  },
  {
   "cell_type": "code",
   "execution_count": 20,
   "id": "f26ef7f7",
   "metadata": {
    "ExecuteTime": {
     "end_time": "2023-08-07T23:47:07.925661Z",
     "start_time": "2023-08-07T23:47:07.343252Z"
    },
    "init_cell": true
   },
   "outputs": [],
   "source": [
    "max_len=130"
   ]
  },
  {
   "cell_type": "code",
   "execution_count": 21,
   "id": "7e3b03a1",
   "metadata": {
    "ExecuteTime": {
     "end_time": "2023-08-07T23:47:08.977786Z",
     "start_time": "2023-08-07T23:47:07.927106Z"
    },
    "init_cell": true
   },
   "outputs": [
    {
     "name": "stdout",
     "output_type": "stream",
     "text": [
      "Training Keypoints Shape: (804, 130, 1662)\n"
     ]
    }
   ],
   "source": [
    "# Create a padded array to store keypoints\n",
    "keypoints_np = np.zeros((len(train_keypoints), max_len, 1662))\n",
    "\n",
    "# Iterate through keypoints_series and fill keypoints_np with pre-padding\n",
    "for i, keypoints in enumerate(train_keypoints):\n",
    "    keypoints_len = min(keypoints.shape[0], max_len)\n",
    "    padding_len = max_len - keypoints_len\n",
    "    keypoints_np[i, padding_len:, :] = keypoints[:keypoints_len, :]\n",
    "    \n",
    "train_keypoints = keypoints_np\n",
    "print('Training Keypoints Shape:', train_keypoints.shape)"
   ]
  },
  {
   "cell_type": "code",
   "execution_count": 22,
   "id": "7153147b",
   "metadata": {
    "ExecuteTime": {
     "end_time": "2023-08-07T23:47:09.099977Z",
     "start_time": "2023-08-07T23:47:08.979335Z"
    },
    "init_cell": true
   },
   "outputs": [
    {
     "name": "stdout",
     "output_type": "stream",
     "text": [
      "Validation Keypoints Shape: (162, 130, 1662)\n"
     ]
    }
   ],
   "source": [
    "# Create a padded array to store keypoints\n",
    "keypoints_np = np.zeros((len(val_keypoints), max_len, 1662))\n",
    "\n",
    "# Iterate through keypoints_series and fill keypoints_np with pre-padding\n",
    "for i, keypoints in enumerate(val_keypoints):\n",
    "    keypoints_len = min(keypoints.shape[0], max_len)\n",
    "    padding_len = max_len - keypoints_len\n",
    "    keypoints_np[i, padding_len:, :] = keypoints[:keypoints_len, :]\n",
    "    \n",
    "val_keypoints = keypoints_np\n",
    "print('Validation Keypoints Shape:', val_keypoints.shape)"
   ]
  },
  {
   "cell_type": "code",
   "execution_count": 5,
   "id": "627933c0",
   "metadata": {
    "ExecuteTime": {
     "end_time": "2023-08-07T19:43:24.760572Z",
     "start_time": "2023-08-07T19:43:24.262154Z"
    }
   },
   "outputs": [
    {
     "ename": "NameError",
     "evalue": "name 'test_keypoints' is not defined",
     "output_type": "error",
     "traceback": [
      "\u001b[0;31m---------------------------------------------------------------------------\u001b[0m",
      "\u001b[0;31mNameError\u001b[0m                                 Traceback (most recent call last)",
      "Cell \u001b[0;32mIn[5], line 2\u001b[0m\n\u001b[1;32m      1\u001b[0m \u001b[38;5;66;03m# Create a padded array to store keypoints\u001b[39;00m\n\u001b[0;32m----> 2\u001b[0m keypoints_np \u001b[38;5;241m=\u001b[39m np\u001b[38;5;241m.\u001b[39mzeros((\u001b[38;5;28mlen\u001b[39m(\u001b[43mtest_keypoints\u001b[49m), max_len, \u001b[38;5;241m1662\u001b[39m))\n\u001b[1;32m      4\u001b[0m \u001b[38;5;66;03m# Iterate through keypoints_series and fill keypoints_np with pre-padding\u001b[39;00m\n\u001b[1;32m      5\u001b[0m \u001b[38;5;28;01mfor\u001b[39;00m i, keypoints \u001b[38;5;129;01min\u001b[39;00m \u001b[38;5;28menumerate\u001b[39m(test_keypoints):\n",
      "\u001b[0;31mNameError\u001b[0m: name 'test_keypoints' is not defined"
     ]
    }
   ],
   "source": [
    "# Create a padded array to store keypoints\n",
    "keypoints_np = np.zeros((len(test_keypoints), max_len, 1662))\n",
    "\n",
    "# Iterate through keypoints_series and fill keypoints_np with pre-padding\n",
    "for i, keypoints in enumerate(test_keypoints):\n",
    "    keypoints_len = min(keypoints.shape[0], max_len)\n",
    "    padding_len = max_len - keypoints_len\n",
    "    keypoints_np[i, padding_len:, :] = keypoints[:keypoints_len, :]\n",
    "    \n",
    "test_keypoints = keypoints_np\n",
    "print('Test Keypoints Shape:', test_keypoints.shape)"
   ]
  },
  {
   "cell_type": "code",
   "execution_count": 23,
   "id": "223cc5ec",
   "metadata": {
    "ExecuteTime": {
     "end_time": "2023-08-07T23:47:09.586150Z",
     "start_time": "2023-08-07T23:47:09.101354Z"
    },
    "init_cell": true
   },
   "outputs": [],
   "source": [
    "from sklearn.model_selection import train_test_split\n",
    "from sklearn.preprocessing import OrdinalEncoder\n",
    "from keras.utils import to_categorical\n",
    "import numpy as np\n",
    "from keras.preprocessing.sequence import pad_sequences"
   ]
  },
  {
   "cell_type": "code",
   "execution_count": 6,
   "id": "ddc114ab",
   "metadata": {
    "ExecuteTime": {
     "end_time": "2023-08-07T19:51:23.833085Z",
     "start_time": "2023-08-07T19:51:23.108869Z"
    }
   },
   "outputs": [
    {
     "ename": "NameError",
     "evalue": "name 'traindf' is not defined",
     "output_type": "error",
     "traceback": [
      "\u001b[0;31m---------------------------------------------------------------------------\u001b[0m",
      "\u001b[0;31mNameError\u001b[0m                                 Traceback (most recent call last)",
      "Cell \u001b[0;32mIn[6], line 1\u001b[0m\n\u001b[0;32m----> 1\u001b[0m \u001b[43mtraindf\u001b[49m\u001b[38;5;241m.\u001b[39mhead()\n",
      "\u001b[0;31mNameError\u001b[0m: name 'traindf' is not defined"
     ]
    }
   ],
   "source": [
    "traindf.head()"
   ]
  },
  {
   "cell_type": "code",
   "execution_count": 138,
   "id": "71e58811",
   "metadata": {
    "ExecuteTime": {
     "end_time": "2023-08-07T17:56:21.891045Z",
     "start_time": "2023-08-07T17:56:21.888553Z"
    }
   },
   "outputs": [],
   "source": [
    "encoder = OrdinalEncoder()"
   ]
  },
  {
   "cell_type": "code",
   "execution_count": 139,
   "id": "0129a2ad",
   "metadata": {
    "ExecuteTime": {
     "end_time": "2023-08-07T17:56:25.439762Z",
     "start_time": "2023-08-07T17:56:25.433735Z"
    }
   },
   "outputs": [],
   "source": [
    "traindf['Cat_label'] = encoder.fit_transform(traindf[['Gloss']]).astype(int)\n",
    "traindf = traindf.sort_values(by='Gloss',)"
   ]
  },
  {
   "cell_type": "code",
   "execution_count": 140,
   "id": "21e97f05",
   "metadata": {
    "ExecuteTime": {
     "end_time": "2023-08-07T17:56:26.150344Z",
     "start_time": "2023-08-07T17:56:26.142593Z"
    }
   },
   "outputs": [
    {
     "data": {
      "text/html": [
       "<div>\n",
       "<style scoped>\n",
       "    .dataframe tbody tr th:only-of-type {\n",
       "        vertical-align: middle;\n",
       "    }\n",
       "\n",
       "    .dataframe tbody tr th {\n",
       "        vertical-align: top;\n",
       "    }\n",
       "\n",
       "    .dataframe thead th {\n",
       "        text-align: right;\n",
       "    }\n",
       "</style>\n",
       "<table border=\"1\" class=\"dataframe\">\n",
       "  <thead>\n",
       "    <tr style=\"text-align: right;\">\n",
       "      <th></th>\n",
       "      <th>Participant ID</th>\n",
       "      <th>Video file</th>\n",
       "      <th>Gloss</th>\n",
       "      <th>ASL-LEX Code</th>\n",
       "      <th>Path</th>\n",
       "      <th>Frequency</th>\n",
       "      <th>Frames</th>\n",
       "      <th>FPS</th>\n",
       "      <th>Length</th>\n",
       "      <th>Cat_label</th>\n",
       "    </tr>\n",
       "  </thead>\n",
       "  <tbody>\n",
       "    <tr>\n",
       "      <th>0</th>\n",
       "      <td>P52</td>\n",
       "      <td>07157565148825373-seedAXE.mp4</td>\n",
       "      <td>AXE</td>\n",
       "      <td>G_03_066</td>\n",
       "      <td>file:///media/kristian/HDD/ASL_Citizen/ASL_Cit...</td>\n",
       "      <td>18</td>\n",
       "      <td>100</td>\n",
       "      <td>31</td>\n",
       "      <td>3</td>\n",
       "      <td>0</td>\n",
       "    </tr>\n",
       "    <tr>\n",
       "      <th>17</th>\n",
       "      <td>P37</td>\n",
       "      <td>29360158406046777-AXE.mp4</td>\n",
       "      <td>AXE</td>\n",
       "      <td>G_03_066</td>\n",
       "      <td>file:///media/kristian/HDD/ASL_Citizen/ASL_Cit...</td>\n",
       "      <td>18</td>\n",
       "      <td>73</td>\n",
       "      <td>30</td>\n",
       "      <td>2</td>\n",
       "      <td>0</td>\n",
       "    </tr>\n",
       "    <tr>\n",
       "      <th>16</th>\n",
       "      <td>P27</td>\n",
       "      <td>053394218351220823-AXE.mp4</td>\n",
       "      <td>AXE</td>\n",
       "      <td>G_03_066</td>\n",
       "      <td>file:///media/kristian/HDD/ASL_Citizen/ASL_Cit...</td>\n",
       "      <td>18</td>\n",
       "      <td>52</td>\n",
       "      <td>29</td>\n",
       "      <td>2</td>\n",
       "      <td>0</td>\n",
       "    </tr>\n",
       "    <tr>\n",
       "      <th>15</th>\n",
       "      <td>P40</td>\n",
       "      <td>10598328043940142-AXE.mp4</td>\n",
       "      <td>AXE</td>\n",
       "      <td>G_03_066</td>\n",
       "      <td>file:///media/kristian/HDD/ASL_Citizen/ASL_Cit...</td>\n",
       "      <td>18</td>\n",
       "      <td>81</td>\n",
       "      <td>29</td>\n",
       "      <td>3</td>\n",
       "      <td>0</td>\n",
       "    </tr>\n",
       "    <tr>\n",
       "      <th>14</th>\n",
       "      <td>P50</td>\n",
       "      <td>3937261764308986-AXE.mp4</td>\n",
       "      <td>AXE</td>\n",
       "      <td>G_03_066</td>\n",
       "      <td>file:///media/kristian/HDD/ASL_Citizen/ASL_Cit...</td>\n",
       "      <td>18</td>\n",
       "      <td>72</td>\n",
       "      <td>30</td>\n",
       "      <td>2</td>\n",
       "      <td>0</td>\n",
       "    </tr>\n",
       "  </tbody>\n",
       "</table>\n",
       "</div>"
      ],
      "text/plain": [
       "   Participant ID                     Video file Gloss ASL-LEX Code  \\\n",
       "0             P52  07157565148825373-seedAXE.mp4   AXE     G_03_066   \n",
       "17            P37      29360158406046777-AXE.mp4   AXE     G_03_066   \n",
       "16            P27     053394218351220823-AXE.mp4   AXE     G_03_066   \n",
       "15            P40      10598328043940142-AXE.mp4   AXE     G_03_066   \n",
       "14            P50       3937261764308986-AXE.mp4   AXE     G_03_066   \n",
       "\n",
       "                                                 Path  Frequency  Frames  FPS  \\\n",
       "0   file:///media/kristian/HDD/ASL_Citizen/ASL_Cit...         18     100   31   \n",
       "17  file:///media/kristian/HDD/ASL_Citizen/ASL_Cit...         18      73   30   \n",
       "16  file:///media/kristian/HDD/ASL_Citizen/ASL_Cit...         18      52   29   \n",
       "15  file:///media/kristian/HDD/ASL_Citizen/ASL_Cit...         18      81   29   \n",
       "14  file:///media/kristian/HDD/ASL_Citizen/ASL_Cit...         18      72   30   \n",
       "\n",
       "    Length  Cat_label  \n",
       "0        3          0  \n",
       "17       2          0  \n",
       "16       2          0  \n",
       "15       3          0  \n",
       "14       2          0  "
      ]
     },
     "execution_count": 140,
     "metadata": {},
     "output_type": "execute_result"
    }
   ],
   "source": [
    "traindf.head()"
   ]
  },
  {
   "cell_type": "code",
   "execution_count": 141,
   "id": "5c7a48a3",
   "metadata": {
    "ExecuteTime": {
     "end_time": "2023-08-07T17:56:29.010014Z",
     "start_time": "2023-08-07T17:56:29.002389Z"
    }
   },
   "outputs": [
    {
     "data": {
      "text/html": [
       "<div>\n",
       "<style scoped>\n",
       "    .dataframe tbody tr th:only-of-type {\n",
       "        vertical-align: middle;\n",
       "    }\n",
       "\n",
       "    .dataframe tbody tr th {\n",
       "        vertical-align: top;\n",
       "    }\n",
       "\n",
       "    .dataframe thead th {\n",
       "        text-align: right;\n",
       "    }\n",
       "</style>\n",
       "<table border=\"1\" class=\"dataframe\">\n",
       "  <thead>\n",
       "    <tr style=\"text-align: right;\">\n",
       "      <th></th>\n",
       "      <th>Participant ID</th>\n",
       "      <th>Video file</th>\n",
       "      <th>Gloss</th>\n",
       "      <th>ASL-LEX Code</th>\n",
       "      <th>Path</th>\n",
       "      <th>Frequency</th>\n",
       "      <th>Frames</th>\n",
       "      <th>FPS</th>\n",
       "      <th>Length</th>\n",
       "      <th>Cat_label</th>\n",
       "    </tr>\n",
       "  </thead>\n",
       "  <tbody>\n",
       "    <tr>\n",
       "      <th>789</th>\n",
       "      <td>P40</td>\n",
       "      <td>6445331634562388-WHAT FOR.mp4</td>\n",
       "      <td>WHATFOR</td>\n",
       "      <td>C_02_054</td>\n",
       "      <td>file:///media/kristian/HDD/ASL_Citizen/ASL_Cit...</td>\n",
       "      <td>16</td>\n",
       "      <td>89</td>\n",
       "      <td>30</td>\n",
       "      <td>3</td>\n",
       "      <td>49</td>\n",
       "    </tr>\n",
       "    <tr>\n",
       "      <th>788</th>\n",
       "      <td>P37</td>\n",
       "      <td>6237575353180616-WHAT FOR.mp4</td>\n",
       "      <td>WHATFOR</td>\n",
       "      <td>C_02_054</td>\n",
       "      <td>file:///media/kristian/HDD/ASL_Citizen/ASL_Cit...</td>\n",
       "      <td>16</td>\n",
       "      <td>56</td>\n",
       "      <td>30</td>\n",
       "      <td>2</td>\n",
       "      <td>49</td>\n",
       "    </tr>\n",
       "    <tr>\n",
       "      <th>802</th>\n",
       "      <td>P40</td>\n",
       "      <td>5268072837528903-WHAT FOR.mp4</td>\n",
       "      <td>WHATFOR</td>\n",
       "      <td>C_02_054</td>\n",
       "      <td>file:///media/kristian/HDD/ASL_Citizen/ASL_Cit...</td>\n",
       "      <td>16</td>\n",
       "      <td>92</td>\n",
       "      <td>29</td>\n",
       "      <td>3</td>\n",
       "      <td>49</td>\n",
       "    </tr>\n",
       "    <tr>\n",
       "      <th>794</th>\n",
       "      <td>P37</td>\n",
       "      <td>16185522171162914-WHAT FOR.mp4</td>\n",
       "      <td>WHATFOR</td>\n",
       "      <td>C_02_054</td>\n",
       "      <td>file:///media/kristian/HDD/ASL_Citizen/ASL_Cit...</td>\n",
       "      <td>16</td>\n",
       "      <td>64</td>\n",
       "      <td>30</td>\n",
       "      <td>2</td>\n",
       "      <td>49</td>\n",
       "    </tr>\n",
       "    <tr>\n",
       "      <th>803</th>\n",
       "      <td>P40</td>\n",
       "      <td>6363286086951516-WHAT FOR.mp4</td>\n",
       "      <td>WHATFOR</td>\n",
       "      <td>C_02_054</td>\n",
       "      <td>file:///media/kristian/HDD/ASL_Citizen/ASL_Cit...</td>\n",
       "      <td>16</td>\n",
       "      <td>65</td>\n",
       "      <td>29</td>\n",
       "      <td>2</td>\n",
       "      <td>49</td>\n",
       "    </tr>\n",
       "  </tbody>\n",
       "</table>\n",
       "</div>"
      ],
      "text/plain": [
       "    Participant ID                      Video file    Gloss ASL-LEX Code  \\\n",
       "789            P40   6445331634562388-WHAT FOR.mp4  WHATFOR     C_02_054   \n",
       "788            P37   6237575353180616-WHAT FOR.mp4  WHATFOR     C_02_054   \n",
       "802            P40   5268072837528903-WHAT FOR.mp4  WHATFOR     C_02_054   \n",
       "794            P37  16185522171162914-WHAT FOR.mp4  WHATFOR     C_02_054   \n",
       "803            P40   6363286086951516-WHAT FOR.mp4  WHATFOR     C_02_054   \n",
       "\n",
       "                                                  Path  Frequency  Frames  \\\n",
       "789  file:///media/kristian/HDD/ASL_Citizen/ASL_Cit...         16      89   \n",
       "788  file:///media/kristian/HDD/ASL_Citizen/ASL_Cit...         16      56   \n",
       "802  file:///media/kristian/HDD/ASL_Citizen/ASL_Cit...         16      92   \n",
       "794  file:///media/kristian/HDD/ASL_Citizen/ASL_Cit...         16      64   \n",
       "803  file:///media/kristian/HDD/ASL_Citizen/ASL_Cit...         16      65   \n",
       "\n",
       "     FPS  Length  Cat_label  \n",
       "789   30       3         49  \n",
       "788   30       2         49  \n",
       "802   29       3         49  \n",
       "794   30       2         49  \n",
       "803   29       2         49  "
      ]
     },
     "execution_count": 141,
     "metadata": {},
     "output_type": "execute_result"
    }
   ],
   "source": [
    "traindf.tail()"
   ]
  },
  {
   "cell_type": "code",
   "execution_count": 142,
   "id": "4319817b",
   "metadata": {
    "ExecuteTime": {
     "end_time": "2023-08-07T17:56:34.110631Z",
     "start_time": "2023-08-07T17:56:34.105731Z"
    }
   },
   "outputs": [],
   "source": [
    "valdf['Cat_label'] = encoder.fit_transform(valdf[['Gloss']]).astype(int)\n",
    "valdf = valdf.sort_values(by='Gloss',)"
   ]
  },
  {
   "cell_type": "code",
   "execution_count": 143,
   "id": "aef49cd5",
   "metadata": {
    "ExecuteTime": {
     "end_time": "2023-08-07T17:56:35.169078Z",
     "start_time": "2023-08-07T17:56:34.647400Z"
    }
   },
   "outputs": [
    {
     "data": {
      "text/html": [
       "<div>\n",
       "<style scoped>\n",
       "    .dataframe tbody tr th:only-of-type {\n",
       "        vertical-align: middle;\n",
       "    }\n",
       "\n",
       "    .dataframe tbody tr th {\n",
       "        vertical-align: top;\n",
       "    }\n",
       "\n",
       "    .dataframe thead th {\n",
       "        text-align: right;\n",
       "    }\n",
       "</style>\n",
       "<table border=\"1\" class=\"dataframe\">\n",
       "  <thead>\n",
       "    <tr style=\"text-align: right;\">\n",
       "      <th></th>\n",
       "      <th>Participant ID</th>\n",
       "      <th>Video file</th>\n",
       "      <th>Gloss</th>\n",
       "      <th>ASL-LEX Code</th>\n",
       "      <th>Path</th>\n",
       "      <th>Frequency</th>\n",
       "      <th>Frames</th>\n",
       "      <th>FPS</th>\n",
       "      <th>Length</th>\n",
       "      <th>Cat_label</th>\n",
       "    </tr>\n",
       "  </thead>\n",
       "  <tbody>\n",
       "    <tr>\n",
       "      <th>0</th>\n",
       "      <td>P39</td>\n",
       "      <td>19778675091674147-AXE.mp4</td>\n",
       "      <td>AXE</td>\n",
       "      <td>G_03_066</td>\n",
       "      <td>file:///media/kristian/HDD/ASL_Citizen/ASL_Cit...</td>\n",
       "      <td>4</td>\n",
       "      <td>121</td>\n",
       "      <td>30</td>\n",
       "      <td>4</td>\n",
       "      <td>0</td>\n",
       "    </tr>\n",
       "    <tr>\n",
       "      <th>1</th>\n",
       "      <td>P26</td>\n",
       "      <td>8581142177964065-AXE.mp4</td>\n",
       "      <td>AXE</td>\n",
       "      <td>G_03_066</td>\n",
       "      <td>file:///media/kristian/HDD/ASL_Citizen/ASL_Cit...</td>\n",
       "      <td>4</td>\n",
       "      <td>81</td>\n",
       "      <td>29</td>\n",
       "      <td>3</td>\n",
       "      <td>0</td>\n",
       "    </tr>\n",
       "    <tr>\n",
       "      <th>2</th>\n",
       "      <td>P39</td>\n",
       "      <td>3877478645046861-AXE.mp4</td>\n",
       "      <td>AXE</td>\n",
       "      <td>G_03_066</td>\n",
       "      <td>file:///media/kristian/HDD/ASL_Citizen/ASL_Cit...</td>\n",
       "      <td>4</td>\n",
       "      <td>120</td>\n",
       "      <td>30</td>\n",
       "      <td>4</td>\n",
       "      <td>0</td>\n",
       "    </tr>\n",
       "    <tr>\n",
       "      <th>3</th>\n",
       "      <td>P21</td>\n",
       "      <td>8521417940364975-AXE.mp4</td>\n",
       "      <td>AXE</td>\n",
       "      <td>G_03_066</td>\n",
       "      <td>file:///media/kristian/HDD/ASL_Citizen/ASL_Cit...</td>\n",
       "      <td>4</td>\n",
       "      <td>71</td>\n",
       "      <td>29</td>\n",
       "      <td>2</td>\n",
       "      <td>0</td>\n",
       "    </tr>\n",
       "    <tr>\n",
       "      <th>4</th>\n",
       "      <td>P5</td>\n",
       "      <td>9990244640190733-BACKPACK.mp4</td>\n",
       "      <td>BACKPACK</td>\n",
       "      <td>G_03_091</td>\n",
       "      <td>file:///media/kristian/HDD/ASL_Citizen/ASL_Cit...</td>\n",
       "      <td>3</td>\n",
       "      <td>93</td>\n",
       "      <td>29</td>\n",
       "      <td>3</td>\n",
       "      <td>1</td>\n",
       "    </tr>\n",
       "  </tbody>\n",
       "</table>\n",
       "</div>"
      ],
      "text/plain": [
       "  Participant ID                     Video file     Gloss ASL-LEX Code  \\\n",
       "0            P39      19778675091674147-AXE.mp4       AXE     G_03_066   \n",
       "1            P26       8581142177964065-AXE.mp4       AXE     G_03_066   \n",
       "2            P39       3877478645046861-AXE.mp4       AXE     G_03_066   \n",
       "3            P21       8521417940364975-AXE.mp4       AXE     G_03_066   \n",
       "4             P5  9990244640190733-BACKPACK.mp4  BACKPACK     G_03_091   \n",
       "\n",
       "                                                Path  Frequency  Frames  FPS  \\\n",
       "0  file:///media/kristian/HDD/ASL_Citizen/ASL_Cit...          4     121   30   \n",
       "1  file:///media/kristian/HDD/ASL_Citizen/ASL_Cit...          4      81   29   \n",
       "2  file:///media/kristian/HDD/ASL_Citizen/ASL_Cit...          4     120   30   \n",
       "3  file:///media/kristian/HDD/ASL_Citizen/ASL_Cit...          4      71   29   \n",
       "4  file:///media/kristian/HDD/ASL_Citizen/ASL_Cit...          3      93   29   \n",
       "\n",
       "   Length  Cat_label  \n",
       "0       4          0  \n",
       "1       3          0  \n",
       "2       4          0  \n",
       "3       2          0  \n",
       "4       3          1  "
      ]
     },
     "execution_count": 143,
     "metadata": {},
     "output_type": "execute_result"
    }
   ],
   "source": [
    "valdf.head()"
   ]
  },
  {
   "cell_type": "code",
   "execution_count": 144,
   "id": "46a71f83",
   "metadata": {
    "ExecuteTime": {
     "end_time": "2023-08-07T17:56:36.905315Z",
     "start_time": "2023-08-07T17:56:36.895456Z"
    }
   },
   "outputs": [
    {
     "data": {
      "text/html": [
       "<div>\n",
       "<style scoped>\n",
       "    .dataframe tbody tr th:only-of-type {\n",
       "        vertical-align: middle;\n",
       "    }\n",
       "\n",
       "    .dataframe tbody tr th {\n",
       "        vertical-align: top;\n",
       "    }\n",
       "\n",
       "    .dataframe thead th {\n",
       "        text-align: right;\n",
       "    }\n",
       "</style>\n",
       "<table border=\"1\" class=\"dataframe\">\n",
       "  <thead>\n",
       "    <tr style=\"text-align: right;\">\n",
       "      <th></th>\n",
       "      <th>Participant ID</th>\n",
       "      <th>Video file</th>\n",
       "      <th>Gloss</th>\n",
       "      <th>ASL-LEX Code</th>\n",
       "      <th>Path</th>\n",
       "      <th>Frequency</th>\n",
       "      <th>Frames</th>\n",
       "      <th>FPS</th>\n",
       "      <th>Length</th>\n",
       "      <th>Cat_label</th>\n",
       "    </tr>\n",
       "  </thead>\n",
       "  <tbody>\n",
       "    <tr>\n",
       "      <th>159</th>\n",
       "      <td>P39</td>\n",
       "      <td>0283886564670357-WHAT FOR.mp4</td>\n",
       "      <td>WHATFOR</td>\n",
       "      <td>C_02_054</td>\n",
       "      <td>file:///media/kristian/HDD/ASL_Citizen/ASL_Cit...</td>\n",
       "      <td>5</td>\n",
       "      <td>121</td>\n",
       "      <td>30</td>\n",
       "      <td>4</td>\n",
       "      <td>49</td>\n",
       "    </tr>\n",
       "    <tr>\n",
       "      <th>160</th>\n",
       "      <td>P21</td>\n",
       "      <td>6142521746642153-WHAT FOR.mp4</td>\n",
       "      <td>WHATFOR</td>\n",
       "      <td>C_02_054</td>\n",
       "      <td>file:///media/kristian/HDD/ASL_Citizen/ASL_Cit...</td>\n",
       "      <td>5</td>\n",
       "      <td>57</td>\n",
       "      <td>30</td>\n",
       "      <td>2</td>\n",
       "      <td>49</td>\n",
       "    </tr>\n",
       "    <tr>\n",
       "      <th>157</th>\n",
       "      <td>P26</td>\n",
       "      <td>032677896012150764-WHAT FOR.mp4</td>\n",
       "      <td>WHATFOR</td>\n",
       "      <td>C_02_054</td>\n",
       "      <td>file:///media/kristian/HDD/ASL_Citizen/ASL_Cit...</td>\n",
       "      <td>5</td>\n",
       "      <td>81</td>\n",
       "      <td>29</td>\n",
       "      <td>3</td>\n",
       "      <td>49</td>\n",
       "    </tr>\n",
       "    <tr>\n",
       "      <th>158</th>\n",
       "      <td>P5</td>\n",
       "      <td>6523145816470133-WHAT FOR.mp4</td>\n",
       "      <td>WHATFOR</td>\n",
       "      <td>C_02_054</td>\n",
       "      <td>file:///media/kristian/HDD/ASL_Citizen/ASL_Cit...</td>\n",
       "      <td>5</td>\n",
       "      <td>116</td>\n",
       "      <td>30</td>\n",
       "      <td>4</td>\n",
       "      <td>49</td>\n",
       "    </tr>\n",
       "    <tr>\n",
       "      <th>161</th>\n",
       "      <td>P12</td>\n",
       "      <td>06408604416165864-WHAT FOR.mp4</td>\n",
       "      <td>WHATFOR</td>\n",
       "      <td>C_02_054</td>\n",
       "      <td>file:///media/kristian/HDD/ASL_Citizen/ASL_Cit...</td>\n",
       "      <td>5</td>\n",
       "      <td>71</td>\n",
       "      <td>30</td>\n",
       "      <td>2</td>\n",
       "      <td>49</td>\n",
       "    </tr>\n",
       "  </tbody>\n",
       "</table>\n",
       "</div>"
      ],
      "text/plain": [
       "    Participant ID                       Video file    Gloss ASL-LEX Code  \\\n",
       "159            P39    0283886564670357-WHAT FOR.mp4  WHATFOR     C_02_054   \n",
       "160            P21    6142521746642153-WHAT FOR.mp4  WHATFOR     C_02_054   \n",
       "157            P26  032677896012150764-WHAT FOR.mp4  WHATFOR     C_02_054   \n",
       "158             P5    6523145816470133-WHAT FOR.mp4  WHATFOR     C_02_054   \n",
       "161            P12   06408604416165864-WHAT FOR.mp4  WHATFOR     C_02_054   \n",
       "\n",
       "                                                  Path  Frequency  Frames  \\\n",
       "159  file:///media/kristian/HDD/ASL_Citizen/ASL_Cit...          5     121   \n",
       "160  file:///media/kristian/HDD/ASL_Citizen/ASL_Cit...          5      57   \n",
       "157  file:///media/kristian/HDD/ASL_Citizen/ASL_Cit...          5      81   \n",
       "158  file:///media/kristian/HDD/ASL_Citizen/ASL_Cit...          5     116   \n",
       "161  file:///media/kristian/HDD/ASL_Citizen/ASL_Cit...          5      71   \n",
       "\n",
       "     FPS  Length  Cat_label  \n",
       "159   30       4         49  \n",
       "160   30       2         49  \n",
       "157   29       3         49  \n",
       "158   30       4         49  \n",
       "161   30       2         49  "
      ]
     },
     "execution_count": 144,
     "metadata": {},
     "output_type": "execute_result"
    }
   ],
   "source": [
    "valdf.tail()"
   ]
  },
  {
   "cell_type": "code",
   "execution_count": 145,
   "id": "1b4c8529",
   "metadata": {
    "ExecuteTime": {
     "end_time": "2023-08-07T17:56:40.137054Z",
     "start_time": "2023-08-07T17:56:40.131320Z"
    }
   },
   "outputs": [],
   "source": [
    "testdf['Cat_label'] = encoder.fit_transform(testdf[['Gloss']]).astype(int)\n",
    "testdf = testdf.sort_values(by='Gloss',)"
   ]
  },
  {
   "cell_type": "code",
   "execution_count": 146,
   "id": "b22157d7",
   "metadata": {
    "ExecuteTime": {
     "end_time": "2023-08-07T17:56:40.802011Z",
     "start_time": "2023-08-07T17:56:40.794543Z"
    }
   },
   "outputs": [
    {
     "data": {
      "text/html": [
       "<div>\n",
       "<style scoped>\n",
       "    .dataframe tbody tr th:only-of-type {\n",
       "        vertical-align: middle;\n",
       "    }\n",
       "\n",
       "    .dataframe tbody tr th {\n",
       "        vertical-align: top;\n",
       "    }\n",
       "\n",
       "    .dataframe thead th {\n",
       "        text-align: right;\n",
       "    }\n",
       "</style>\n",
       "<table border=\"1\" class=\"dataframe\">\n",
       "  <thead>\n",
       "    <tr style=\"text-align: right;\">\n",
       "      <th></th>\n",
       "      <th>Participant ID</th>\n",
       "      <th>Video file</th>\n",
       "      <th>Gloss</th>\n",
       "      <th>ASL-LEX Code</th>\n",
       "      <th>Path</th>\n",
       "      <th>Frequency</th>\n",
       "      <th>Frames</th>\n",
       "      <th>FPS</th>\n",
       "      <th>Length</th>\n",
       "      <th>Cat_label</th>\n",
       "    </tr>\n",
       "  </thead>\n",
       "  <tbody>\n",
       "    <tr>\n",
       "      <th>0</th>\n",
       "      <td>P35</td>\n",
       "      <td>5104381603195376-AXE.mp4</td>\n",
       "      <td>AXE</td>\n",
       "      <td>G_03_066</td>\n",
       "      <td>file:///media/kristian/HDD/ASL_Citizen/ASL_Cit...</td>\n",
       "      <td>11</td>\n",
       "      <td>70</td>\n",
       "      <td>29</td>\n",
       "      <td>2</td>\n",
       "      <td>0</td>\n",
       "    </tr>\n",
       "    <tr>\n",
       "      <th>1</th>\n",
       "      <td>P42</td>\n",
       "      <td>44458614013793873-AXE.mp4</td>\n",
       "      <td>AXE</td>\n",
       "      <td>G_03_066</td>\n",
       "      <td>file:///media/kristian/HDD/ASL_Citizen/ASL_Cit...</td>\n",
       "      <td>11</td>\n",
       "      <td>57</td>\n",
       "      <td>30</td>\n",
       "      <td>2</td>\n",
       "      <td>0</td>\n",
       "    </tr>\n",
       "    <tr>\n",
       "      <th>2</th>\n",
       "      <td>P42</td>\n",
       "      <td>9604797909481075-AXE.mp4</td>\n",
       "      <td>AXE</td>\n",
       "      <td>G_03_066</td>\n",
       "      <td>file:///media/kristian/HDD/ASL_Citizen/ASL_Cit...</td>\n",
       "      <td>11</td>\n",
       "      <td>66</td>\n",
       "      <td>30</td>\n",
       "      <td>2</td>\n",
       "      <td>0</td>\n",
       "    </tr>\n",
       "    <tr>\n",
       "      <th>3</th>\n",
       "      <td>P9</td>\n",
       "      <td>30728048195204827-AXE.mp4</td>\n",
       "      <td>AXE</td>\n",
       "      <td>G_03_066</td>\n",
       "      <td>file:///media/kristian/HDD/ASL_Citizen/ASL_Cit...</td>\n",
       "      <td>11</td>\n",
       "      <td>96</td>\n",
       "      <td>30</td>\n",
       "      <td>3</td>\n",
       "      <td>0</td>\n",
       "    </tr>\n",
       "    <tr>\n",
       "      <th>4</th>\n",
       "      <td>P6</td>\n",
       "      <td>28522130623160047-AXE.mp4</td>\n",
       "      <td>AXE</td>\n",
       "      <td>G_03_066</td>\n",
       "      <td>file:///media/kristian/HDD/ASL_Citizen/ASL_Cit...</td>\n",
       "      <td>11</td>\n",
       "      <td>54</td>\n",
       "      <td>29</td>\n",
       "      <td>2</td>\n",
       "      <td>0</td>\n",
       "    </tr>\n",
       "  </tbody>\n",
       "</table>\n",
       "</div>"
      ],
      "text/plain": [
       "  Participant ID                 Video file Gloss ASL-LEX Code  \\\n",
       "0            P35   5104381603195376-AXE.mp4   AXE     G_03_066   \n",
       "1            P42  44458614013793873-AXE.mp4   AXE     G_03_066   \n",
       "2            P42   9604797909481075-AXE.mp4   AXE     G_03_066   \n",
       "3             P9  30728048195204827-AXE.mp4   AXE     G_03_066   \n",
       "4             P6  28522130623160047-AXE.mp4   AXE     G_03_066   \n",
       "\n",
       "                                                Path  Frequency  Frames  FPS  \\\n",
       "0  file:///media/kristian/HDD/ASL_Citizen/ASL_Cit...         11      70   29   \n",
       "1  file:///media/kristian/HDD/ASL_Citizen/ASL_Cit...         11      57   30   \n",
       "2  file:///media/kristian/HDD/ASL_Citizen/ASL_Cit...         11      66   30   \n",
       "3  file:///media/kristian/HDD/ASL_Citizen/ASL_Cit...         11      96   30   \n",
       "4  file:///media/kristian/HDD/ASL_Citizen/ASL_Cit...         11      54   29   \n",
       "\n",
       "   Length  Cat_label  \n",
       "0       2          0  \n",
       "1       2          0  \n",
       "2       2          0  \n",
       "3       3          0  \n",
       "4       2          0  "
      ]
     },
     "execution_count": 146,
     "metadata": {},
     "output_type": "execute_result"
    }
   ],
   "source": [
    "testdf.head()"
   ]
  },
  {
   "cell_type": "code",
   "execution_count": 147,
   "id": "3da4ef9e",
   "metadata": {
    "ExecuteTime": {
     "end_time": "2023-08-07T17:56:42.401644Z",
     "start_time": "2023-08-07T17:56:42.394186Z"
    }
   },
   "outputs": [
    {
     "data": {
      "text/html": [
       "<div>\n",
       "<style scoped>\n",
       "    .dataframe tbody tr th:only-of-type {\n",
       "        vertical-align: middle;\n",
       "    }\n",
       "\n",
       "    .dataframe tbody tr th {\n",
       "        vertical-align: top;\n",
       "    }\n",
       "\n",
       "    .dataframe thead th {\n",
       "        text-align: right;\n",
       "    }\n",
       "</style>\n",
       "<table border=\"1\" class=\"dataframe\">\n",
       "  <thead>\n",
       "    <tr style=\"text-align: right;\">\n",
       "      <th></th>\n",
       "      <th>Participant ID</th>\n",
       "      <th>Video file</th>\n",
       "      <th>Gloss</th>\n",
       "      <th>ASL-LEX Code</th>\n",
       "      <th>Path</th>\n",
       "      <th>Frequency</th>\n",
       "      <th>Frames</th>\n",
       "      <th>FPS</th>\n",
       "      <th>Length</th>\n",
       "      <th>Cat_label</th>\n",
       "    </tr>\n",
       "  </thead>\n",
       "  <tbody>\n",
       "    <tr>\n",
       "      <th>522</th>\n",
       "      <td>P6</td>\n",
       "      <td>6734748834983595-WHAT FOR.mp4</td>\n",
       "      <td>WHATFOR</td>\n",
       "      <td>C_02_054</td>\n",
       "      <td>file:///media/kristian/HDD/ASL_Citizen/ASL_Cit...</td>\n",
       "      <td>13</td>\n",
       "      <td>66</td>\n",
       "      <td>29</td>\n",
       "      <td>2</td>\n",
       "      <td>49</td>\n",
       "    </tr>\n",
       "    <tr>\n",
       "      <th>521</th>\n",
       "      <td>P17</td>\n",
       "      <td>33051835760678294-WHAT FOR.mp4</td>\n",
       "      <td>WHATFOR</td>\n",
       "      <td>C_02_054</td>\n",
       "      <td>file:///media/kristian/HDD/ASL_Citizen/ASL_Cit...</td>\n",
       "      <td>13</td>\n",
       "      <td>52</td>\n",
       "      <td>31</td>\n",
       "      <td>2</td>\n",
       "      <td>49</td>\n",
       "    </tr>\n",
       "    <tr>\n",
       "      <th>532</th>\n",
       "      <td>P42</td>\n",
       "      <td>2748457214117681-WHAT FOR.mp4</td>\n",
       "      <td>WHATFOR</td>\n",
       "      <td>C_02_054</td>\n",
       "      <td>file:///media/kristian/HDD/ASL_Citizen/ASL_Cit...</td>\n",
       "      <td>13</td>\n",
       "      <td>74</td>\n",
       "      <td>30</td>\n",
       "      <td>2</td>\n",
       "      <td>49</td>\n",
       "    </tr>\n",
       "    <tr>\n",
       "      <th>526</th>\n",
       "      <td>P42</td>\n",
       "      <td>9684934734400592-WHAT FOR.mp4</td>\n",
       "      <td>WHATFOR</td>\n",
       "      <td>C_02_054</td>\n",
       "      <td>file:///media/kristian/HDD/ASL_Citizen/ASL_Cit...</td>\n",
       "      <td>13</td>\n",
       "      <td>89</td>\n",
       "      <td>30</td>\n",
       "      <td>3</td>\n",
       "      <td>49</td>\n",
       "    </tr>\n",
       "    <tr>\n",
       "      <th>533</th>\n",
       "      <td>P15</td>\n",
       "      <td>540014801916062-WHAT FOR.mp4</td>\n",
       "      <td>WHATFOR</td>\n",
       "      <td>C_02_054</td>\n",
       "      <td>file:///media/kristian/HDD/ASL_Citizen/ASL_Cit...</td>\n",
       "      <td>13</td>\n",
       "      <td>79</td>\n",
       "      <td>29</td>\n",
       "      <td>3</td>\n",
       "      <td>49</td>\n",
       "    </tr>\n",
       "  </tbody>\n",
       "</table>\n",
       "</div>"
      ],
      "text/plain": [
       "    Participant ID                      Video file    Gloss ASL-LEX Code  \\\n",
       "522             P6   6734748834983595-WHAT FOR.mp4  WHATFOR     C_02_054   \n",
       "521            P17  33051835760678294-WHAT FOR.mp4  WHATFOR     C_02_054   \n",
       "532            P42   2748457214117681-WHAT FOR.mp4  WHATFOR     C_02_054   \n",
       "526            P42   9684934734400592-WHAT FOR.mp4  WHATFOR     C_02_054   \n",
       "533            P15    540014801916062-WHAT FOR.mp4  WHATFOR     C_02_054   \n",
       "\n",
       "                                                  Path  Frequency  Frames  \\\n",
       "522  file:///media/kristian/HDD/ASL_Citizen/ASL_Cit...         13      66   \n",
       "521  file:///media/kristian/HDD/ASL_Citizen/ASL_Cit...         13      52   \n",
       "532  file:///media/kristian/HDD/ASL_Citizen/ASL_Cit...         13      74   \n",
       "526  file:///media/kristian/HDD/ASL_Citizen/ASL_Cit...         13      89   \n",
       "533  file:///media/kristian/HDD/ASL_Citizen/ASL_Cit...         13      79   \n",
       "\n",
       "     FPS  Length  Cat_label  \n",
       "522   29       2         49  \n",
       "521   31       2         49  \n",
       "532   30       2         49  \n",
       "526   30       3         49  \n",
       "533   29       3         49  "
      ]
     },
     "execution_count": 147,
     "metadata": {},
     "output_type": "execute_result"
    }
   ],
   "source": [
    "testdf.tail()"
   ]
  },
  {
   "cell_type": "code",
   "execution_count": 148,
   "id": "d9d509a7",
   "metadata": {
    "ExecuteTime": {
     "end_time": "2023-08-07T17:56:43.651121Z",
     "start_time": "2023-08-07T17:56:43.648449Z"
    }
   },
   "outputs": [],
   "source": [
    "label_map = {label:num for num, label in enumerate(traindf['Gloss'].unique())}"
   ]
  },
  {
   "cell_type": "code",
   "execution_count": 149,
   "id": "b2139a4c",
   "metadata": {
    "ExecuteTime": {
     "end_time": "2023-08-07T17:56:44.532083Z",
     "start_time": "2023-08-07T17:56:44.527867Z"
    },
    "scrolled": true
   },
   "outputs": [
    {
     "data": {
      "text/plain": [
       "{'AXE': 0,\n",
       " 'BACKPACK': 1,\n",
       " 'BASKETBALL': 2,\n",
       " 'BEE': 3,\n",
       " 'BELT': 4,\n",
       " 'BITE': 5,\n",
       " 'BREAKFAST': 6,\n",
       " 'CANCER': 7,\n",
       " 'CHRISTMAS': 8,\n",
       " 'CONFUSED': 9,\n",
       " 'DARK': 10,\n",
       " 'DEAF': 11,\n",
       " 'DECIDE': 12,\n",
       " 'DEMAND': 13,\n",
       " 'DEVELOP': 14,\n",
       " 'DINNER': 15,\n",
       " 'DOG': 16,\n",
       " 'DOWNSIZE': 17,\n",
       " 'DRAG': 18,\n",
       " 'EAT': 19,\n",
       " 'EDIT': 20,\n",
       " 'ELEVATOR': 21,\n",
       " 'FINE': 22,\n",
       " 'FLOAT': 23,\n",
       " 'FOREIGNER': 24,\n",
       " 'GUESS': 25,\n",
       " 'HALLOWEEN': 26,\n",
       " 'HOSPITAL': 27,\n",
       " 'HURDLE/TRIP': 28,\n",
       " 'JEWELRY': 29,\n",
       " 'KNIGHT': 30,\n",
       " 'LOCK': 31,\n",
       " 'LUNCH': 32,\n",
       " 'MAPLE': 33,\n",
       " 'MEAT': 34,\n",
       " 'MECHANIC': 35,\n",
       " 'MICROSCOPE': 36,\n",
       " 'MOVIE': 37,\n",
       " 'NOON': 38,\n",
       " 'PARTY': 39,\n",
       " 'PATIENT': 40,\n",
       " 'RAZOR': 41,\n",
       " 'RIVER': 42,\n",
       " 'ROCKINGCHAIR': 43,\n",
       " 'SHAVE': 44,\n",
       " 'SINK': 45,\n",
       " 'SQUEEZE': 46,\n",
       " 'THEY': 47,\n",
       " 'TWINS': 48,\n",
       " 'WHATFOR': 49}"
      ]
     },
     "execution_count": 149,
     "metadata": {},
     "output_type": "execute_result"
    }
   ],
   "source": [
    "label_map"
   ]
  },
  {
   "cell_type": "code",
   "execution_count": 150,
   "id": "962046fb",
   "metadata": {
    "ExecuteTime": {
     "end_time": "2023-08-07T17:56:47.930511Z",
     "start_time": "2023-08-07T17:56:47.921530Z"
    }
   },
   "outputs": [
    {
     "data": {
      "text/html": [
       "<div>\n",
       "<style scoped>\n",
       "    .dataframe tbody tr th:only-of-type {\n",
       "        vertical-align: middle;\n",
       "    }\n",
       "\n",
       "    .dataframe tbody tr th {\n",
       "        vertical-align: top;\n",
       "    }\n",
       "\n",
       "    .dataframe thead th {\n",
       "        text-align: right;\n",
       "    }\n",
       "</style>\n",
       "<table border=\"1\" class=\"dataframe\">\n",
       "  <thead>\n",
       "    <tr style=\"text-align: right;\">\n",
       "      <th></th>\n",
       "      <th>Participant ID</th>\n",
       "      <th>Video file</th>\n",
       "      <th>Gloss</th>\n",
       "      <th>ASL-LEX Code</th>\n",
       "      <th>Path</th>\n",
       "      <th>Frequency</th>\n",
       "      <th>Frames</th>\n",
       "      <th>FPS</th>\n",
       "      <th>Length</th>\n",
       "      <th>Cat_label</th>\n",
       "    </tr>\n",
       "  </thead>\n",
       "  <tbody>\n",
       "    <tr>\n",
       "      <th>685</th>\n",
       "      <td>P11</td>\n",
       "      <td>8561671103002648-RIVER.mp4</td>\n",
       "      <td>RIVER</td>\n",
       "      <td>A_03_035</td>\n",
       "      <td>file:///media/kristian/HDD/ASL_Citizen/ASL_Cit...</td>\n",
       "      <td>15</td>\n",
       "      <td>68</td>\n",
       "      <td>29</td>\n",
       "      <td>2</td>\n",
       "      <td>42</td>\n",
       "    </tr>\n",
       "    <tr>\n",
       "      <th>454</th>\n",
       "      <td>P27</td>\n",
       "      <td>9543121609158431-HOSPITAL.mp4</td>\n",
       "      <td>HOSPITAL</td>\n",
       "      <td>B_02_026</td>\n",
       "      <td>file:///media/kristian/HDD/ASL_Citizen/ASL_Cit...</td>\n",
       "      <td>17</td>\n",
       "      <td>63</td>\n",
       "      <td>29</td>\n",
       "      <td>2</td>\n",
       "      <td>27</td>\n",
       "    </tr>\n",
       "    <tr>\n",
       "      <th>618</th>\n",
       "      <td>P37</td>\n",
       "      <td>1012683026825647-NOON.mp4</td>\n",
       "      <td>NOON</td>\n",
       "      <td>G_02_014</td>\n",
       "      <td>file:///media/kristian/HDD/ASL_Citizen/ASL_Cit...</td>\n",
       "      <td>17</td>\n",
       "      <td>62</td>\n",
       "      <td>30</td>\n",
       "      <td>2</td>\n",
       "      <td>38</td>\n",
       "    </tr>\n",
       "    <tr>\n",
       "      <th>673</th>\n",
       "      <td>P36</td>\n",
       "      <td>34327843271669756-RAZOR 2.mp4</td>\n",
       "      <td>RAZOR</td>\n",
       "      <td>K_03_103</td>\n",
       "      <td>file:///media/kristian/HDD/ASL_Citizen/ASL_Cit...</td>\n",
       "      <td>13</td>\n",
       "      <td>75</td>\n",
       "      <td>30</td>\n",
       "      <td>2</td>\n",
       "      <td>41</td>\n",
       "    </tr>\n",
       "    <tr>\n",
       "      <th>476</th>\n",
       "      <td>P50</td>\n",
       "      <td>22335744767716914-HURDLE-TRIP.mp4</td>\n",
       "      <td>HURDLE/TRIP</td>\n",
       "      <td>G_01_036</td>\n",
       "      <td>file:///media/kristian/HDD/ASL_Citizen/ASL_Cit...</td>\n",
       "      <td>17</td>\n",
       "      <td>87</td>\n",
       "      <td>30</td>\n",
       "      <td>3</td>\n",
       "      <td>28</td>\n",
       "    </tr>\n",
       "    <tr>\n",
       "      <th>482</th>\n",
       "      <td>P23</td>\n",
       "      <td>7185958868464457-JEWELRY.mp4</td>\n",
       "      <td>JEWELRY</td>\n",
       "      <td>H_03_040</td>\n",
       "      <td>file:///media/kristian/HDD/ASL_Citizen/ASL_Cit...</td>\n",
       "      <td>15</td>\n",
       "      <td>95</td>\n",
       "      <td>30</td>\n",
       "      <td>3</td>\n",
       "      <td>29</td>\n",
       "    </tr>\n",
       "    <tr>\n",
       "      <th>321</th>\n",
       "      <td>P31</td>\n",
       "      <td>6460191084812579-EAT.mp4</td>\n",
       "      <td>EAT</td>\n",
       "      <td>B_02_002</td>\n",
       "      <td>file:///media/kristian/HDD/ASL_Citizen/ASL_Cit...</td>\n",
       "      <td>14</td>\n",
       "      <td>79</td>\n",
       "      <td>30</td>\n",
       "      <td>3</td>\n",
       "      <td>19</td>\n",
       "    </tr>\n",
       "    <tr>\n",
       "      <th>307</th>\n",
       "      <td>P37</td>\n",
       "      <td>20831865620547463-DRAG.mp4</td>\n",
       "      <td>DRAG</td>\n",
       "      <td>J_02_039</td>\n",
       "      <td>file:///media/kristian/HDD/ASL_Citizen/ASL_Cit...</td>\n",
       "      <td>16</td>\n",
       "      <td>60</td>\n",
       "      <td>29</td>\n",
       "      <td>2</td>\n",
       "      <td>18</td>\n",
       "    </tr>\n",
       "    <tr>\n",
       "      <th>735</th>\n",
       "      <td>P37</td>\n",
       "      <td>43245204383901537-SINK.mp4</td>\n",
       "      <td>SINK</td>\n",
       "      <td>E_02_042</td>\n",
       "      <td>file:///media/kristian/HDD/ASL_Citizen/ASL_Cit...</td>\n",
       "      <td>14</td>\n",
       "      <td>71</td>\n",
       "      <td>30</td>\n",
       "      <td>2</td>\n",
       "      <td>45</td>\n",
       "    </tr>\n",
       "    <tr>\n",
       "      <th>118</th>\n",
       "      <td>P40</td>\n",
       "      <td>23598266126803202-BREAKFAST.mp4</td>\n",
       "      <td>BREAKFAST</td>\n",
       "      <td>J_01_053</td>\n",
       "      <td>file:///media/kristian/HDD/ASL_Citizen/ASL_Cit...</td>\n",
       "      <td>18</td>\n",
       "      <td>85</td>\n",
       "      <td>29</td>\n",
       "      <td>3</td>\n",
       "      <td>6</td>\n",
       "    </tr>\n",
       "  </tbody>\n",
       "</table>\n",
       "</div>"
      ],
      "text/plain": [
       "    Participant ID                         Video file        Gloss  \\\n",
       "685            P11         8561671103002648-RIVER.mp4        RIVER   \n",
       "454            P27      9543121609158431-HOSPITAL.mp4     HOSPITAL   \n",
       "618            P37          1012683026825647-NOON.mp4         NOON   \n",
       "673            P36      34327843271669756-RAZOR 2.mp4        RAZOR   \n",
       "476            P50  22335744767716914-HURDLE-TRIP.mp4  HURDLE/TRIP   \n",
       "482            P23       7185958868464457-JEWELRY.mp4      JEWELRY   \n",
       "321            P31           6460191084812579-EAT.mp4          EAT   \n",
       "307            P37         20831865620547463-DRAG.mp4         DRAG   \n",
       "735            P37         43245204383901537-SINK.mp4         SINK   \n",
       "118            P40    23598266126803202-BREAKFAST.mp4    BREAKFAST   \n",
       "\n",
       "    ASL-LEX Code                                               Path  \\\n",
       "685     A_03_035  file:///media/kristian/HDD/ASL_Citizen/ASL_Cit...   \n",
       "454     B_02_026  file:///media/kristian/HDD/ASL_Citizen/ASL_Cit...   \n",
       "618     G_02_014  file:///media/kristian/HDD/ASL_Citizen/ASL_Cit...   \n",
       "673     K_03_103  file:///media/kristian/HDD/ASL_Citizen/ASL_Cit...   \n",
       "476     G_01_036  file:///media/kristian/HDD/ASL_Citizen/ASL_Cit...   \n",
       "482     H_03_040  file:///media/kristian/HDD/ASL_Citizen/ASL_Cit...   \n",
       "321     B_02_002  file:///media/kristian/HDD/ASL_Citizen/ASL_Cit...   \n",
       "307     J_02_039  file:///media/kristian/HDD/ASL_Citizen/ASL_Cit...   \n",
       "735     E_02_042  file:///media/kristian/HDD/ASL_Citizen/ASL_Cit...   \n",
       "118     J_01_053  file:///media/kristian/HDD/ASL_Citizen/ASL_Cit...   \n",
       "\n",
       "     Frequency  Frames  FPS  Length  Cat_label  \n",
       "685         15      68   29       2         42  \n",
       "454         17      63   29       2         27  \n",
       "618         17      62   30       2         38  \n",
       "673         13      75   30       2         41  \n",
       "476         17      87   30       3         28  \n",
       "482         15      95   30       3         29  \n",
       "321         14      79   30       3         19  \n",
       "307         16      60   29       2         18  \n",
       "735         14      71   30       2         45  \n",
       "118         18      85   29       3          6  "
      ]
     },
     "execution_count": 150,
     "metadata": {},
     "output_type": "execute_result"
    }
   ],
   "source": [
    "traindf.sample(10)"
   ]
  },
  {
   "cell_type": "code",
   "execution_count": 6,
   "id": "6bf774ca",
   "metadata": {
    "ExecuteTime": {
     "end_time": "2023-08-07T18:07:20.285288Z",
     "start_time": "2023-08-07T18:07:19.605296Z"
    }
   },
   "outputs": [
    {
     "ename": "NameError",
     "evalue": "name 'encoder' is not defined",
     "output_type": "error",
     "traceback": [
      "\u001b[0;31m---------------------------------------------------------------------------\u001b[0m",
      "\u001b[0;31mNameError\u001b[0m                                 Traceback (most recent call last)",
      "Cell \u001b[0;32mIn[6], line 1\u001b[0m\n\u001b[0;32m----> 1\u001b[0m Ytrain \u001b[38;5;241m=\u001b[39m \u001b[43mencoder\u001b[49m\u001b[38;5;241m.\u001b[39mfit_transform(traindf[[\u001b[38;5;124m'\u001b[39m\u001b[38;5;124mGloss\u001b[39m\u001b[38;5;124m'\u001b[39m]])\n\u001b[1;32m      2\u001b[0m Ytest \u001b[38;5;241m=\u001b[39m encoder\u001b[38;5;241m.\u001b[39mfit_transform(testdf[[\u001b[38;5;124m'\u001b[39m\u001b[38;5;124mGloss\u001b[39m\u001b[38;5;124m'\u001b[39m]])\n\u001b[1;32m      3\u001b[0m Yval \u001b[38;5;241m=\u001b[39m encoder\u001b[38;5;241m.\u001b[39mfit_transform(valdf[[\u001b[38;5;124m'\u001b[39m\u001b[38;5;124mGloss\u001b[39m\u001b[38;5;124m'\u001b[39m]])\n",
      "\u001b[0;31mNameError\u001b[0m: name 'encoder' is not defined"
     ]
    }
   ],
   "source": [
    "Ytrain = encoder.fit_transform(traindf[['Gloss']])\n",
    "Ytest = encoder.fit_transform(testdf[['Gloss']])\n",
    "Yval = encoder.fit_transform(valdf[['Gloss']])"
   ]
  },
  {
   "cell_type": "code",
   "execution_count": 152,
   "id": "7cd74294",
   "metadata": {
    "ExecuteTime": {
     "end_time": "2023-08-07T17:57:08.929946Z",
     "start_time": "2023-08-07T17:57:08.925721Z"
    }
   },
   "outputs": [],
   "source": [
    "np.save(\"/home/kristian/Capstone/keypoints/ASL_Citizen/Mediapipe/train_labels_array_1D.npy\", Ytrain)\n",
    "np.save(\"/home/kristian/Capstone/keypoints/ASL_Citizen/Mediapipe/test_labels_array_1D.npy\", Ytest)\n",
    "np.save(\"/home/kristian/Capstone/keypoints/ASL_Citizen/Mediapipe/val_labels_array_1D.npy\", Yval)"
   ]
  },
  {
   "cell_type": "code",
   "execution_count": 24,
   "id": "26877e3a",
   "metadata": {
    "ExecuteTime": {
     "end_time": "2023-08-07T23:47:10.116696Z",
     "start_time": "2023-08-07T23:47:09.587442Z"
    },
    "init_cell": true
   },
   "outputs": [],
   "source": [
    "Ytrain=np.load(\"/home/kristian/Capstone/keypoints/ASL_Citizen/Mediapipe/train_labels_array_1D.npy\")\n",
    "Ytest=np.load(\"/home/kristian/Capstone/keypoints/ASL_Citizen/Mediapipe/test_labels_array_1D.npy\")\n",
    "Yval=np.load(\"/home/kristian/Capstone/keypoints/ASL_Citizen/Mediapipe/val_labels_array_1D.npy\")\n"
   ]
  },
  {
   "cell_type": "code",
   "execution_count": 25,
   "id": "28e63d67",
   "metadata": {
    "ExecuteTime": {
     "end_time": "2023-08-07T23:47:10.679071Z",
     "start_time": "2023-08-07T23:47:10.118260Z"
    },
    "init_cell": true
   },
   "outputs": [],
   "source": [
    "Xtrain = train_keypoints\n",
    "#Xtest = test_keypoints\n",
    "Xval = val_keypoints"
   ]
  },
  {
   "cell_type": "code",
   "execution_count": 26,
   "id": "d52a77ac",
   "metadata": {
    "ExecuteTime": {
     "end_time": "2023-08-07T23:47:11.081701Z",
     "start_time": "2023-08-07T23:47:10.680349Z"
    },
    "init_cell": true
   },
   "outputs": [
    {
     "name": "stdout",
     "output_type": "stream",
     "text": [
      "Shape before one-hot encoding:  (804, 1)\n",
      "Shape after one-hot encoding:  (804, 50)\n",
      "Shape before one-hot encoding:  (534, 1)\n",
      "Shape after one-hot encoding:  (534, 50)\n",
      "Shape before one-hot encoding:  (162, 1)\n",
      "Shape after one-hot encoding:  (162, 50)\n"
     ]
    }
   ],
   "source": [
    "n_classes = 50\n",
    "print(\"Shape before one-hot encoding: \", Ytrain.shape)\n",
    "Ytrain = to_categorical(Ytrain, n_classes)\n",
    "print(\"Shape after one-hot encoding: \", Ytrain.shape)\n",
    "print(\"Shape before one-hot encoding: \", Ytest.shape)\n",
    "Ytest = to_categorical(Ytest, n_classes)\n",
    "print(\"Shape after one-hot encoding: \", Ytest.shape)\n",
    "print(\"Shape before one-hot encoding: \", Yval.shape)\n",
    "Yval = to_categorical(Yval, n_classes)\n",
    "print(\"Shape after one-hot encoding: \", Yval.shape)"
   ]
  },
  {
   "cell_type": "code",
   "execution_count": 27,
   "id": "eb749626",
   "metadata": {
    "ExecuteTime": {
     "end_time": "2023-08-07T23:47:11.623919Z",
     "start_time": "2023-08-07T23:47:11.088452Z"
    },
    "init_cell": true
   },
   "outputs": [
    {
     "data": {
      "text/plain": [
       "numpy.ndarray"
      ]
     },
     "execution_count": 27,
     "metadata": {},
     "output_type": "execute_result"
    }
   ],
   "source": [
    "type(Ytrain)"
   ]
  },
  {
   "cell_type": "code",
   "execution_count": 28,
   "id": "3258ad3f",
   "metadata": {
    "ExecuteTime": {
     "end_time": "2023-08-07T23:47:12.064994Z",
     "start_time": "2023-08-07T23:47:11.627571Z"
    },
    "init_cell": true
   },
   "outputs": [
    {
     "data": {
      "text/plain": [
       "(804, 50)"
      ]
     },
     "execution_count": 28,
     "metadata": {},
     "output_type": "execute_result"
    }
   ],
   "source": [
    "Ytrain.shape"
   ]
  },
  {
   "cell_type": "code",
   "execution_count": 10,
   "id": "0a2e3c0b",
   "metadata": {
    "ExecuteTime": {
     "end_time": "2023-08-03T18:54:09.792399Z",
     "start_time": "2023-08-03T18:54:08.816481Z"
    }
   },
   "outputs": [],
   "source": [
    "X_train, X_test, Y_train, Y_test = train_test_split(X, \n",
    "                                                    Y,\n",
    "                                                    test_size=0.2,\n",
    "                                                    random_state=10)"
   ]
  },
  {
   "cell_type": "code",
   "execution_count": 29,
   "id": "5a8fde5c",
   "metadata": {
    "ExecuteTime": {
     "end_time": "2023-08-07T23:47:13.873327Z",
     "start_time": "2023-08-07T23:47:12.067005Z"
    },
    "init_cell": true
   },
   "outputs": [],
   "source": [
    "from sklearn.preprocessing import MinMaxScaler\n",
    "\n",
    "\n",
    "num_samples, num_frames, num_keypoints = Xtrain.shape\n",
    "Xtrain = Xtrain.reshape(num_samples, -1)\n",
    "\n",
    "# Create a MinMaxScaler\n",
    "scaler = MinMaxScaler()\n",
    "\n",
    "# Fit and transform the data\n",
    "Xtrain = scaler.fit_transform(Xtrain)\n",
    "\n",
    "# Reshape the scaled data back to the original shape\n",
    "Xtrain = Xtrain.reshape(num_samples, num_frames, num_keypoints)"
   ]
  },
  {
   "cell_type": "code",
   "execution_count": 30,
   "id": "e8042926",
   "metadata": {
    "ExecuteTime": {
     "end_time": "2023-08-07T23:47:13.883189Z",
     "start_time": "2023-08-07T23:47:13.876281Z"
    },
    "init_cell": true
   },
   "outputs": [
    {
     "data": {
      "text/plain": [
       "(804, 130, 1662)"
      ]
     },
     "execution_count": 30,
     "metadata": {},
     "output_type": "execute_result"
    }
   ],
   "source": [
    "Xtrain.shape"
   ]
  },
  {
   "cell_type": "code",
   "execution_count": 20,
   "id": "49da28e5",
   "metadata": {
    "ExecuteTime": {
     "end_time": "2023-08-03T15:51:46.223692Z",
     "start_time": "2023-08-03T15:51:46.190010Z"
    }
   },
   "outputs": [
    {
     "ename": "NameError",
     "evalue": "name 'input_data_scaled' is not defined",
     "output_type": "error",
     "traceback": [
      "\u001b[0;31m---------------------------------------------------------------------------\u001b[0m",
      "\u001b[0;31mNameError\u001b[0m                                 Traceback (most recent call last)",
      "Cell \u001b[0;32mIn[20], line 1\u001b[0m\n\u001b[0;32m----> 1\u001b[0m X_train, X_test, Y_train, Y_test, mask_train, mask_test \u001b[38;5;241m=\u001b[39m train_test_split(\u001b[43minput_data_scaled\u001b[49m,\n\u001b[1;32m      2\u001b[0m                                                     Y, mask,\n\u001b[1;32m      3\u001b[0m                                                     test_size\u001b[38;5;241m=\u001b[39m\u001b[38;5;241m0.1\u001b[39m,\n\u001b[1;32m      4\u001b[0m                                                     random_state\u001b[38;5;241m=\u001b[39m\u001b[38;5;241m10\u001b[39m)\n",
      "\u001b[0;31mNameError\u001b[0m: name 'input_data_scaled' is not defined"
     ]
    }
   ],
   "source": [
    "X_train, X_test, Y_train, Y_test = train_test_split(input_data_scaled,\n",
    "                                                    Y,\n",
    "                                                    test_size=0.,\n",
    "                                                    random_state=10)"
   ]
  },
  {
   "cell_type": "code",
   "execution_count": 31,
   "id": "c00d3fb2",
   "metadata": {
    "ExecuteTime": {
     "end_time": "2023-08-07T23:47:14.796359Z",
     "start_time": "2023-08-07T23:47:13.888049Z"
    },
    "init_cell": true
   },
   "outputs": [
    {
     "data": {
      "text/plain": [
       "(804, 130, 1662)"
      ]
     },
     "execution_count": 31,
     "metadata": {},
     "output_type": "execute_result"
    }
   ],
   "source": [
    "Xtrain.shape"
   ]
  },
  {
   "cell_type": "code",
   "execution_count": 32,
   "id": "afebe752",
   "metadata": {
    "ExecuteTime": {
     "end_time": "2023-08-07T23:47:15.635134Z",
     "start_time": "2023-08-07T23:47:14.798165Z"
    },
    "init_cell": true,
    "scrolled": true
   },
   "outputs": [
    {
     "data": {
      "text/plain": [
       "array([[[0.        , 0.        , 1.        , ..., 0.        ,\n",
       "         0.        , 0.        ],\n",
       "        [0.        , 0.        , 1.        , ..., 0.        ,\n",
       "         0.        , 0.        ],\n",
       "        [0.        , 0.        , 1.        , ..., 0.        ,\n",
       "         0.        , 0.        ],\n",
       "        ...,\n",
       "        [0.32836917, 0.43633427, 0.59659172, ..., 0.        ,\n",
       "         0.        , 0.94466859],\n",
       "        [0.32857075, 0.4358778 , 0.6248101 , ..., 0.        ,\n",
       "         0.        , 1.        ],\n",
       "        [0.32915611, 0.43495438, 0.63639134, ..., 0.        ,\n",
       "         0.        , 0.97963139]],\n",
       "\n",
       "       [[0.        , 0.        , 1.        , ..., 0.        ,\n",
       "         0.        , 0.        ],\n",
       "        [0.        , 0.        , 1.        , ..., 0.        ,\n",
       "         0.        , 0.        ],\n",
       "        [0.        , 0.        , 1.        , ..., 0.        ,\n",
       "         0.        , 0.        ],\n",
       "        ...,\n",
       "        [0.42377348, 0.31397443, 0.37976738, ..., 0.        ,\n",
       "         0.        , 0.94466859],\n",
       "        [0.42403817, 0.31381947, 0.40919964, ..., 0.        ,\n",
       "         0.        , 1.        ],\n",
       "        [0.42454109, 0.31302887, 0.42867799, ..., 0.        ,\n",
       "         0.        , 0.97963139]],\n",
       "\n",
       "       [[0.        , 0.        , 1.        , ..., 0.        ,\n",
       "         0.        , 0.        ],\n",
       "        [0.        , 0.        , 1.        , ..., 0.        ,\n",
       "         0.        , 0.        ],\n",
       "        [0.        , 0.        , 1.        , ..., 0.        ,\n",
       "         0.        , 0.        ],\n",
       "        ...,\n",
       "        [0.37787306, 0.64378795, 0.74457777, ..., 0.        ,\n",
       "         0.        , 0.94466859],\n",
       "        [0.37798292, 0.64348243, 0.75885475, ..., 0.        ,\n",
       "         0.        , 1.        ],\n",
       "        [0.37851239, 0.64290671, 0.73476606, ..., 0.        ,\n",
       "         0.        , 0.97963139]],\n",
       "\n",
       "       ...,\n",
       "\n",
       "       [[0.        , 0.        , 1.        , ..., 0.        ,\n",
       "         0.        , 0.        ],\n",
       "        [0.        , 0.        , 1.        , ..., 0.        ,\n",
       "         0.        , 0.        ],\n",
       "        [0.        , 0.        , 1.        , ..., 0.        ,\n",
       "         0.        , 0.        ],\n",
       "        ...,\n",
       "        [0.48184812, 0.37227932, 0.54967918, ..., 0.        ,\n",
       "         0.        , 0.94466859],\n",
       "        [0.48198932, 0.37212002, 0.57620719, ..., 0.        ,\n",
       "         0.        , 1.        ],\n",
       "        [0.48222472, 0.37178203, 0.58592004, ..., 0.        ,\n",
       "         0.        , 0.97963139]],\n",
       "\n",
       "       [[0.        , 0.        , 1.        , ..., 0.        ,\n",
       "         0.        , 0.        ],\n",
       "        [0.        , 0.        , 1.        , ..., 0.        ,\n",
       "         0.        , 0.        ],\n",
       "        [0.        , 0.        , 1.        , ..., 0.        ,\n",
       "         0.        , 0.        ],\n",
       "        ...,\n",
       "        [0.44496703, 0.4510922 , 0.63399195, ..., 0.        ,\n",
       "         0.        , 0.94466859],\n",
       "        [0.44588856, 0.45072722, 0.69664292, ..., 0.        ,\n",
       "         0.        , 1.        ],\n",
       "        [0.44716317, 0.45026296, 0.70345285, ..., 0.        ,\n",
       "         0.        , 0.97963139]],\n",
       "\n",
       "       [[0.        , 0.        , 1.        , ..., 0.        ,\n",
       "         0.        , 0.        ],\n",
       "        [0.        , 0.        , 1.        , ..., 0.        ,\n",
       "         0.        , 0.        ],\n",
       "        [0.        , 0.        , 1.        , ..., 0.        ,\n",
       "         0.        , 0.        ],\n",
       "        ...,\n",
       "        [0.47412192, 0.37211666, 0.82703364, ..., 0.        ,\n",
       "         0.        , 0.94466859],\n",
       "        [0.47456208, 0.36800117, 0.82831966, ..., 0.        ,\n",
       "         0.        , 1.        ],\n",
       "        [0.47554192, 0.36522876, 0.83087573, ..., 0.        ,\n",
       "         0.        , 0.97963139]]])"
      ]
     },
     "execution_count": 32,
     "metadata": {},
     "output_type": "execute_result"
    }
   ],
   "source": [
    "Xtrain"
   ]
  },
  {
   "cell_type": "markdown",
   "id": "965a4a24",
   "metadata": {},
   "source": [
    "# Model"
   ]
  },
  {
   "cell_type": "code",
   "execution_count": 33,
   "id": "80a6472e",
   "metadata": {
    "ExecuteTime": {
     "end_time": "2023-08-07T23:47:16.482874Z",
     "start_time": "2023-08-07T23:47:15.636730Z"
    },
    "init_cell": true
   },
   "outputs": [],
   "source": [
    "from tensorflow.keras.models import Sequential\n",
    "from tensorflow.keras.layers import LSTM, Dense, Dropout, GRU\n",
    "from tensorflow.keras.callbacks import TensorBoard\n",
    "import tensorflow as tf\n",
    "import tensorflow as tf\n",
    "from tensorflow.keras import layers, models\n",
    "from tensorflow.keras.optimizers import Adam ,Adagrad, Adadelta, SGD, Lion\n",
    "import os\n"
   ]
  },
  {
   "cell_type": "code",
   "execution_count": 34,
   "id": "84471a45",
   "metadata": {
    "ExecuteTime": {
     "end_time": "2023-08-07T23:47:17.411719Z",
     "start_time": "2023-08-07T23:47:16.484113Z"
    },
    "init_cell": true
   },
   "outputs": [],
   "source": [
    "log_dir = os.path.join('Logs')\n",
    "tb_callback = TensorBoard(log_dir=log_dir)"
   ]
  },
  {
   "cell_type": "code",
   "execution_count": 35,
   "id": "5ae984cb",
   "metadata": {
    "ExecuteTime": {
     "end_time": "2023-08-07T23:47:18.119433Z",
     "start_time": "2023-08-07T23:47:17.413128Z"
    },
    "init_cell": true
   },
   "outputs": [],
   "source": [
    "physical_devices = tf.config.list_physical_devices('GPU')\n",
    "if physical_devices:\n",
    "    for device in physical_devices:\n",
    "        tf.config.experimental.set_memory_growth(device, True)"
   ]
  },
  {
   "cell_type": "code",
   "execution_count": 36,
   "id": "882eff58",
   "metadata": {
    "ExecuteTime": {
     "end_time": "2023-08-07T23:47:18.792932Z",
     "start_time": "2023-08-07T23:47:18.120975Z"
    },
    "init_cell": true
   },
   "outputs": [],
   "source": [
    "max_len = 130"
   ]
  },
  {
   "cell_type": "code",
   "execution_count": 18,
   "id": "83de7026",
   "metadata": {
    "ExecuteTime": {
     "end_time": "2023-08-07T20:32:59.595934Z",
     "start_time": "2023-08-07T20:31:15.893793Z"
    },
    "scrolled": true
   },
   "outputs": [
    {
     "name": "stderr",
     "output_type": "stream",
     "text": [
      "2023-08-07 21:31:15.975071: I tensorflow/core/common_runtime/gpu/gpu_device.cc:1639] Created device /job:localhost/replica:0/task:0/device:GPU:0 with 1037 MB memory:  -> device: 0, name: NVIDIA GeForce MX250, pci bus id: 0000:01:00.0, compute capability: 6.1\n"
     ]
    },
    {
     "name": "stdout",
     "output_type": "stream",
     "text": [
      "Model: \"Sequential\"\n",
      "_________________________________________________________________\n",
      " Layer (type)                Output Shape              Param #   \n",
      "=================================================================\n",
      " lstm (LSTM)                 (None, 130, 180)          1326960   \n",
      "                                                                 \n",
      " lstm_1 (LSTM)               (None, 130, 90)           97560     \n",
      "                                                                 \n",
      " lstm_2 (LSTM)               (None, 130, 180)          195120    \n",
      "                                                                 \n",
      " lstm_3 (LSTM)               (None, 90)                97560     \n",
      "                                                                 \n",
      " dense (Dense)               (None, 90)                8190      \n",
      "                                                                 \n",
      " dense_1 (Dense)             (None, 90)                8190      \n",
      "                                                                 \n",
      " dense_2 (Dense)             (None, 90)                8190      \n",
      "                                                                 \n",
      " dense_3 (Dense)             (None, 90)                8190      \n",
      "                                                                 \n",
      " dense_4 (Dense)             (None, 45)                4095      \n",
      "                                                                 \n",
      " dense_5 (Dense)             (None, 90)                4140      \n",
      "                                                                 \n",
      " dense_6 (Dense)             (None, 50)                4550      \n",
      "                                                                 \n",
      "=================================================================\n",
      "Total params: 1762745 (6.72 MB)\n",
      "Trainable params: 1762745 (6.72 MB)\n",
      "Non-trainable params: 0 (0.00 Byte)\n",
      "_________________________________________________________________\n",
      "Epoch 1/1000\n"
     ]
    },
    {
     "name": "stderr",
     "output_type": "stream",
     "text": [
      "2023-08-07 21:31:23.890758: I tensorflow/compiler/xla/stream_executor/cuda/cuda_dnn.cc:432] Loaded cuDNN version 8600\n",
      "2023-08-07 21:31:24.039649: I tensorflow/compiler/xla/service/service.cc:168] XLA service 0xa6a3900 initialized for platform CUDA (this does not guarantee that XLA will be used). Devices:\n",
      "2023-08-07 21:31:24.039679: I tensorflow/compiler/xla/service/service.cc:176]   StreamExecutor device (0): NVIDIA GeForce MX250, Compute Capability 6.1\n",
      "2023-08-07 21:31:24.100011: I ./tensorflow/compiler/jit/device_compiler.h:186] Compiled cluster using XLA!  This line is logged at most once for the lifetime of the process.\n"
     ]
    },
    {
     "name": "stdout",
     "output_type": "stream",
     "text": [
      "11/11 [==============================] - 10s 360ms/step - loss: 8.4307 - categorical_accuracy: 0.0171 - val_loss: 5.4406 - val_categorical_accuracy: 0.0000e+00\n",
      "Epoch 2/1000\n",
      "11/11 [==============================] - 2s 218ms/step - loss: 7.6683 - categorical_accuracy: 0.0311 - val_loss: 5.3028 - val_categorical_accuracy: 0.0000e+00\n",
      "Epoch 3/1000\n",
      "11/11 [==============================] - 2s 220ms/step - loss: 7.6718 - categorical_accuracy: 0.0249 - val_loss: 5.0410 - val_categorical_accuracy: 0.0000e+00\n",
      "Epoch 4/1000\n",
      "11/11 [==============================] - 2s 221ms/step - loss: 8.3987 - categorical_accuracy: 0.0187 - val_loss: 5.0319 - val_categorical_accuracy: 0.0000e+00\n",
      "Epoch 5/1000\n",
      "11/11 [==============================] - 2s 221ms/step - loss: 7.4197 - categorical_accuracy: 0.0280 - val_loss: 5.5538 - val_categorical_accuracy: 0.0000e+00\n",
      "Epoch 6/1000\n",
      "11/11 [==============================] - 2s 219ms/step - loss: 8.0407 - categorical_accuracy: 0.0311 - val_loss: 7.9545 - val_categorical_accuracy: 0.0000e+00\n",
      "Epoch 7/1000\n",
      "11/11 [==============================] - 2s 219ms/step - loss: 8.0923 - categorical_accuracy: 0.0280 - val_loss: 5.0318 - val_categorical_accuracy: 0.0000e+00\n",
      "Epoch 8/1000\n",
      "11/11 [==============================] - 2s 220ms/step - loss: 7.8106 - categorical_accuracy: 0.0249 - val_loss: 8.0347 - val_categorical_accuracy: 0.0000e+00\n",
      "Epoch 9/1000\n",
      "11/11 [==============================] - 2s 219ms/step - loss: 8.6343 - categorical_accuracy: 0.0264 - val_loss: 5.0350 - val_categorical_accuracy: 0.0000e+00\n",
      "Epoch 10/1000\n",
      "11/11 [==============================] - 2s 219ms/step - loss: 7.6313 - categorical_accuracy: 0.0233 - val_loss: 5.0359 - val_categorical_accuracy: 0.0000e+00\n",
      "Epoch 11/1000\n",
      "11/11 [==============================] - 2s 220ms/step - loss: 6.9260 - categorical_accuracy: 0.0218 - val_loss: 11.0226 - val_categorical_accuracy: 0.0000e+00\n",
      "Epoch 12/1000\n",
      "11/11 [==============================] - 2s 220ms/step - loss: 8.2332 - categorical_accuracy: 0.0202 - val_loss: 4.9825 - val_categorical_accuracy: 0.0994\n",
      "Epoch 13/1000\n",
      "11/11 [==============================] - 2s 220ms/step - loss: 7.8706 - categorical_accuracy: 0.0233 - val_loss: 4.9841 - val_categorical_accuracy: 0.0994\n",
      "Epoch 14/1000\n",
      "11/11 [==============================] - 2s 221ms/step - loss: 7.3172 - categorical_accuracy: 0.0249 - val_loss: 4.9831 - val_categorical_accuracy: 0.0994\n",
      "Epoch 15/1000\n",
      "11/11 [==============================] - 2s 217ms/step - loss: 8.2094 - categorical_accuracy: 0.0171 - val_loss: 11.3550 - val_categorical_accuracy: 0.0000e+00\n",
      "Epoch 16/1000\n",
      "11/11 [==============================] - 2s 222ms/step - loss: 7.8881 - categorical_accuracy: 0.0187 - val_loss: 7.9880 - val_categorical_accuracy: 0.0994\n",
      "Epoch 17/1000\n",
      "11/11 [==============================] - 2s 226ms/step - loss: 8.3123 - categorical_accuracy: 0.0218 - val_loss: 7.9903 - val_categorical_accuracy: 0.0994\n",
      "Epoch 18/1000\n",
      "11/11 [==============================] - 2s 222ms/step - loss: 8.2341 - categorical_accuracy: 0.0171 - val_loss: 4.9904 - val_categorical_accuracy: 0.0994\n",
      "Epoch 19/1000\n",
      "11/11 [==============================] - 2s 224ms/step - loss: 6.9151 - categorical_accuracy: 0.0187 - val_loss: 5.9431 - val_categorical_accuracy: 0.0994\n",
      "Epoch 20/1000\n",
      "11/11 [==============================] - 2s 221ms/step - loss: 7.6260 - categorical_accuracy: 0.0218 - val_loss: 4.9903 - val_categorical_accuracy: 0.0994\n",
      "Epoch 21/1000\n",
      "11/11 [==============================] - 2s 220ms/step - loss: 7.8169 - categorical_accuracy: 0.0295 - val_loss: 4.9939 - val_categorical_accuracy: 0.0994\n",
      "Epoch 22/1000\n",
      "11/11 [==============================] - 2s 221ms/step - loss: 7.6955 - categorical_accuracy: 0.0171 - val_loss: 4.9973 - val_categorical_accuracy: 0.0994\n",
      "Epoch 23/1000\n",
      "11/11 [==============================] - 2s 221ms/step - loss: 7.3087 - categorical_accuracy: 0.0171 - val_loss: 4.9986 - val_categorical_accuracy: 0.0994\n",
      "Epoch 24/1000\n",
      "11/11 [==============================] - 2s 222ms/step - loss: 7.4312 - categorical_accuracy: 0.0249 - val_loss: 4.9984 - val_categorical_accuracy: 0.0994\n",
      "Epoch 25/1000\n",
      "11/11 [==============================] - 2s 220ms/step - loss: 7.3447 - categorical_accuracy: 0.0233 - val_loss: 5.8044 - val_categorical_accuracy: 0.0000e+00\n",
      "Epoch 26/1000\n",
      "11/11 [==============================] - 2s 221ms/step - loss: 6.9409 - categorical_accuracy: 0.0218 - val_loss: 6.5245 - val_categorical_accuracy: 0.0000e+00\n",
      "Epoch 27/1000\n",
      "11/11 [==============================] - 2s 221ms/step - loss: 8.0626 - categorical_accuracy: 0.0311 - val_loss: 7.9870 - val_categorical_accuracy: 0.0000e+00\n",
      "Epoch 28/1000\n",
      "11/11 [==============================] - 2s 223ms/step - loss: 9.5177 - categorical_accuracy: 0.0156 - val_loss: 11.3321 - val_categorical_accuracy: 0.0000e+00\n",
      "Epoch 29/1000\n",
      "11/11 [==============================] - 2s 222ms/step - loss: 9.0008 - categorical_accuracy: 0.0171 - val_loss: 5.9848 - val_categorical_accuracy: 0.0000e+00\n",
      "Epoch 30/1000\n",
      "11/11 [==============================] - 2s 226ms/step - loss: 8.8190 - categorical_accuracy: 0.0202 - val_loss: 13.5651 - val_categorical_accuracy: 0.0000e+00\n",
      "Epoch 31/1000\n",
      "11/11 [==============================] - 2s 223ms/step - loss: 8.9168 - categorical_accuracy: 0.0187 - val_loss: 7.9912 - val_categorical_accuracy: 0.0000e+00\n",
      "Epoch 32/1000\n",
      "11/11 [==============================] - 2s 228ms/step - loss: 9.8154 - categorical_accuracy: 0.0233 - val_loss: 7.9926 - val_categorical_accuracy: 0.0000e+00\n",
      "Epoch 33/1000\n",
      "11/11 [==============================] - 2s 221ms/step - loss: 9.9764 - categorical_accuracy: 0.0218 - val_loss: 7.9943 - val_categorical_accuracy: 0.0000e+00\n",
      "Epoch 34/1000\n",
      "11/11 [==============================] - 2s 224ms/step - loss: 9.8159 - categorical_accuracy: 0.0202 - val_loss: 7.9935 - val_categorical_accuracy: 0.0000e+00\n",
      "Epoch 35/1000\n",
      "11/11 [==============================] - 2s 225ms/step - loss: 8.6428 - categorical_accuracy: 0.0249 - val_loss: 7.9950 - val_categorical_accuracy: 0.0000e+00\n",
      "Epoch 36/1000\n",
      "11/11 [==============================] - 2s 227ms/step - loss: 7.2037 - categorical_accuracy: 0.0218 - val_loss: 6.0162 - val_categorical_accuracy: 0.0000e+00\n",
      "Epoch 37/1000\n",
      "11/11 [==============================] - 2s 226ms/step - loss: 9.6929 - categorical_accuracy: 0.0187 - val_loss: 12.7522 - val_categorical_accuracy: 0.0000e+00\n",
      "Epoch 38/1000\n",
      " 2/11 [====>.........................] - ETA: 1s - loss: 6.5004 - categorical_accuracy: 0.0156    "
     ]
    },
    {
     "ename": "KeyboardInterrupt",
     "evalue": "",
     "output_type": "error",
     "traceback": [
      "\u001b[0;31m---------------------------------------------------------------------------\u001b[0m",
      "\u001b[0;31mKeyboardInterrupt\u001b[0m                         Traceback (most recent call last)",
      "Cell \u001b[0;32mIn[18], line 19\u001b[0m\n\u001b[1;32m     16\u001b[0m optimizer \u001b[38;5;241m=\u001b[39m SGD(learning_rate\u001b[38;5;241m=\u001b[39m\u001b[38;5;241m.00001\u001b[39m,nesterov\u001b[38;5;241m=\u001b[39m\u001b[38;5;28;01mTrue\u001b[39;00m)\n\u001b[1;32m     17\u001b[0m model\u001b[38;5;241m.\u001b[39mcompile(optimizer\u001b[38;5;241m=\u001b[39moptimizer, loss\u001b[38;5;241m=\u001b[39m\u001b[38;5;124m'\u001b[39m\u001b[38;5;124mcategorical_crossentropy\u001b[39m\u001b[38;5;124m'\u001b[39m, metrics\u001b[38;5;241m=\u001b[39m[\u001b[38;5;124m'\u001b[39m\u001b[38;5;124mcategorical_accuracy\u001b[39m\u001b[38;5;124m'\u001b[39m])\n\u001b[0;32m---> 19\u001b[0m history \u001b[38;5;241m=\u001b[39m \u001b[43mmodel\u001b[49m\u001b[38;5;241;43m.\u001b[39;49m\u001b[43mfit\u001b[49m\u001b[43m(\u001b[49m\u001b[43mXtrain\u001b[49m\u001b[43m,\u001b[49m\u001b[43m \u001b[49m\u001b[43mYtrain\u001b[49m\u001b[43m,\u001b[49m\u001b[43m \u001b[49m\u001b[43mepochs\u001b[49m\u001b[38;5;241;43m=\u001b[39;49m\u001b[38;5;241;43m1000\u001b[39;49m\u001b[43m,\u001b[49m\u001b[43m \u001b[49m\u001b[43mvalidation_split\u001b[49m\u001b[38;5;241;43m=\u001b[39;49m\u001b[38;5;241;43m.2\u001b[39;49m\u001b[43m,\u001b[49m\u001b[43m \u001b[49m\u001b[43mbatch_size\u001b[49m\u001b[43m \u001b[49m\u001b[38;5;241;43m=\u001b[39;49m\u001b[43m \u001b[49m\u001b[38;5;241;43m64\u001b[39;49m\u001b[43m)\u001b[49m\n",
      "File \u001b[0;32m~/miniconda3/lib/python3.10/site-packages/keras/src/utils/traceback_utils.py:65\u001b[0m, in \u001b[0;36mfilter_traceback.<locals>.error_handler\u001b[0;34m(*args, **kwargs)\u001b[0m\n\u001b[1;32m     63\u001b[0m filtered_tb \u001b[38;5;241m=\u001b[39m \u001b[38;5;28;01mNone\u001b[39;00m\n\u001b[1;32m     64\u001b[0m \u001b[38;5;28;01mtry\u001b[39;00m:\n\u001b[0;32m---> 65\u001b[0m     \u001b[38;5;28;01mreturn\u001b[39;00m \u001b[43mfn\u001b[49m\u001b[43m(\u001b[49m\u001b[38;5;241;43m*\u001b[39;49m\u001b[43margs\u001b[49m\u001b[43m,\u001b[49m\u001b[43m \u001b[49m\u001b[38;5;241;43m*\u001b[39;49m\u001b[38;5;241;43m*\u001b[39;49m\u001b[43mkwargs\u001b[49m\u001b[43m)\u001b[49m\n\u001b[1;32m     66\u001b[0m \u001b[38;5;28;01mexcept\u001b[39;00m \u001b[38;5;167;01mException\u001b[39;00m \u001b[38;5;28;01mas\u001b[39;00m e:\n\u001b[1;32m     67\u001b[0m     filtered_tb \u001b[38;5;241m=\u001b[39m _process_traceback_frames(e\u001b[38;5;241m.\u001b[39m__traceback__)\n",
      "File \u001b[0;32m~/miniconda3/lib/python3.10/site-packages/keras/src/engine/training.py:1748\u001b[0m, in \u001b[0;36mModel.fit\u001b[0;34m(self, x, y, batch_size, epochs, verbose, callbacks, validation_split, validation_data, shuffle, class_weight, sample_weight, initial_epoch, steps_per_epoch, validation_steps, validation_batch_size, validation_freq, max_queue_size, workers, use_multiprocessing)\u001b[0m\n\u001b[1;32m   1746\u001b[0m logs \u001b[38;5;241m=\u001b[39m tmp_logs\n\u001b[1;32m   1747\u001b[0m end_step \u001b[38;5;241m=\u001b[39m step \u001b[38;5;241m+\u001b[39m data_handler\u001b[38;5;241m.\u001b[39mstep_increment\n\u001b[0;32m-> 1748\u001b[0m \u001b[43mcallbacks\u001b[49m\u001b[38;5;241;43m.\u001b[39;49m\u001b[43mon_train_batch_end\u001b[49m\u001b[43m(\u001b[49m\u001b[43mend_step\u001b[49m\u001b[43m,\u001b[49m\u001b[43m \u001b[49m\u001b[43mlogs\u001b[49m\u001b[43m)\u001b[49m\n\u001b[1;32m   1749\u001b[0m \u001b[38;5;28;01mif\u001b[39;00m \u001b[38;5;28mself\u001b[39m\u001b[38;5;241m.\u001b[39mstop_training:\n\u001b[1;32m   1750\u001b[0m     \u001b[38;5;28;01mbreak\u001b[39;00m\n",
      "File \u001b[0;32m~/miniconda3/lib/python3.10/site-packages/keras/src/callbacks.py:475\u001b[0m, in \u001b[0;36mCallbackList.on_train_batch_end\u001b[0;34m(self, batch, logs)\u001b[0m\n\u001b[1;32m    468\u001b[0m \u001b[38;5;250m\u001b[39m\u001b[38;5;124;03m\"\"\"Calls the `on_train_batch_end` methods of its callbacks.\u001b[39;00m\n\u001b[1;32m    469\u001b[0m \n\u001b[1;32m    470\u001b[0m \u001b[38;5;124;03mArgs:\u001b[39;00m\n\u001b[1;32m    471\u001b[0m \u001b[38;5;124;03m    batch: Integer, index of batch within the current epoch.\u001b[39;00m\n\u001b[1;32m    472\u001b[0m \u001b[38;5;124;03m    logs: Dict. Aggregated metric results up until this batch.\u001b[39;00m\n\u001b[1;32m    473\u001b[0m \u001b[38;5;124;03m\"\"\"\u001b[39;00m\n\u001b[1;32m    474\u001b[0m \u001b[38;5;28;01mif\u001b[39;00m \u001b[38;5;28mself\u001b[39m\u001b[38;5;241m.\u001b[39m_should_call_train_batch_hooks:\n\u001b[0;32m--> 475\u001b[0m     \u001b[38;5;28;43mself\u001b[39;49m\u001b[38;5;241;43m.\u001b[39;49m\u001b[43m_call_batch_hook\u001b[49m\u001b[43m(\u001b[49m\u001b[43mModeKeys\u001b[49m\u001b[38;5;241;43m.\u001b[39;49m\u001b[43mTRAIN\u001b[49m\u001b[43m,\u001b[49m\u001b[43m \u001b[49m\u001b[38;5;124;43m\"\u001b[39;49m\u001b[38;5;124;43mend\u001b[39;49m\u001b[38;5;124;43m\"\u001b[39;49m\u001b[43m,\u001b[49m\u001b[43m \u001b[49m\u001b[43mbatch\u001b[49m\u001b[43m,\u001b[49m\u001b[43m \u001b[49m\u001b[43mlogs\u001b[49m\u001b[38;5;241;43m=\u001b[39;49m\u001b[43mlogs\u001b[49m\u001b[43m)\u001b[49m\n",
      "File \u001b[0;32m~/miniconda3/lib/python3.10/site-packages/keras/src/callbacks.py:322\u001b[0m, in \u001b[0;36mCallbackList._call_batch_hook\u001b[0;34m(self, mode, hook, batch, logs)\u001b[0m\n\u001b[1;32m    320\u001b[0m     \u001b[38;5;28mself\u001b[39m\u001b[38;5;241m.\u001b[39m_call_batch_begin_hook(mode, batch, logs)\n\u001b[1;32m    321\u001b[0m \u001b[38;5;28;01melif\u001b[39;00m hook \u001b[38;5;241m==\u001b[39m \u001b[38;5;124m\"\u001b[39m\u001b[38;5;124mend\u001b[39m\u001b[38;5;124m\"\u001b[39m:\n\u001b[0;32m--> 322\u001b[0m     \u001b[38;5;28;43mself\u001b[39;49m\u001b[38;5;241;43m.\u001b[39;49m\u001b[43m_call_batch_end_hook\u001b[49m\u001b[43m(\u001b[49m\u001b[43mmode\u001b[49m\u001b[43m,\u001b[49m\u001b[43m \u001b[49m\u001b[43mbatch\u001b[49m\u001b[43m,\u001b[49m\u001b[43m \u001b[49m\u001b[43mlogs\u001b[49m\u001b[43m)\u001b[49m\n\u001b[1;32m    323\u001b[0m \u001b[38;5;28;01melse\u001b[39;00m:\n\u001b[1;32m    324\u001b[0m     \u001b[38;5;28;01mraise\u001b[39;00m \u001b[38;5;167;01mValueError\u001b[39;00m(\n\u001b[1;32m    325\u001b[0m         \u001b[38;5;124mf\u001b[39m\u001b[38;5;124m\"\u001b[39m\u001b[38;5;124mUnrecognized hook: \u001b[39m\u001b[38;5;132;01m{\u001b[39;00mhook\u001b[38;5;132;01m}\u001b[39;00m\u001b[38;5;124m. \u001b[39m\u001b[38;5;124m\"\u001b[39m\n\u001b[1;32m    326\u001b[0m         \u001b[38;5;124m'\u001b[39m\u001b[38;5;124mExpected values are [\u001b[39m\u001b[38;5;124m\"\u001b[39m\u001b[38;5;124mbegin\u001b[39m\u001b[38;5;124m\"\u001b[39m\u001b[38;5;124m, \u001b[39m\u001b[38;5;124m\"\u001b[39m\u001b[38;5;124mend\u001b[39m\u001b[38;5;124m\"\u001b[39m\u001b[38;5;124m]\u001b[39m\u001b[38;5;124m'\u001b[39m\n\u001b[1;32m    327\u001b[0m     )\n",
      "File \u001b[0;32m~/miniconda3/lib/python3.10/site-packages/keras/src/callbacks.py:345\u001b[0m, in \u001b[0;36mCallbackList._call_batch_end_hook\u001b[0;34m(self, mode, batch, logs)\u001b[0m\n\u001b[1;32m    342\u001b[0m     batch_time \u001b[38;5;241m=\u001b[39m time\u001b[38;5;241m.\u001b[39mtime() \u001b[38;5;241m-\u001b[39m \u001b[38;5;28mself\u001b[39m\u001b[38;5;241m.\u001b[39m_batch_start_time\n\u001b[1;32m    343\u001b[0m     \u001b[38;5;28mself\u001b[39m\u001b[38;5;241m.\u001b[39m_batch_times\u001b[38;5;241m.\u001b[39mappend(batch_time)\n\u001b[0;32m--> 345\u001b[0m \u001b[38;5;28;43mself\u001b[39;49m\u001b[38;5;241;43m.\u001b[39;49m\u001b[43m_call_batch_hook_helper\u001b[49m\u001b[43m(\u001b[49m\u001b[43mhook_name\u001b[49m\u001b[43m,\u001b[49m\u001b[43m \u001b[49m\u001b[43mbatch\u001b[49m\u001b[43m,\u001b[49m\u001b[43m \u001b[49m\u001b[43mlogs\u001b[49m\u001b[43m)\u001b[49m\n\u001b[1;32m    347\u001b[0m \u001b[38;5;28;01mif\u001b[39;00m \u001b[38;5;28mlen\u001b[39m(\u001b[38;5;28mself\u001b[39m\u001b[38;5;241m.\u001b[39m_batch_times) \u001b[38;5;241m>\u001b[39m\u001b[38;5;241m=\u001b[39m \u001b[38;5;28mself\u001b[39m\u001b[38;5;241m.\u001b[39m_num_batches_for_timing_check:\n\u001b[1;32m    348\u001b[0m     end_hook_name \u001b[38;5;241m=\u001b[39m hook_name\n",
      "File \u001b[0;32m~/miniconda3/lib/python3.10/site-packages/keras/src/callbacks.py:393\u001b[0m, in \u001b[0;36mCallbackList._call_batch_hook_helper\u001b[0;34m(self, hook_name, batch, logs)\u001b[0m\n\u001b[1;32m    391\u001b[0m \u001b[38;5;28;01mfor\u001b[39;00m callback \u001b[38;5;129;01min\u001b[39;00m \u001b[38;5;28mself\u001b[39m\u001b[38;5;241m.\u001b[39mcallbacks:\n\u001b[1;32m    392\u001b[0m     hook \u001b[38;5;241m=\u001b[39m \u001b[38;5;28mgetattr\u001b[39m(callback, hook_name)\n\u001b[0;32m--> 393\u001b[0m     \u001b[43mhook\u001b[49m\u001b[43m(\u001b[49m\u001b[43mbatch\u001b[49m\u001b[43m,\u001b[49m\u001b[43m \u001b[49m\u001b[43mlogs\u001b[49m\u001b[43m)\u001b[49m\n\u001b[1;32m    395\u001b[0m \u001b[38;5;28;01mif\u001b[39;00m \u001b[38;5;28mself\u001b[39m\u001b[38;5;241m.\u001b[39m_check_timing:\n\u001b[1;32m    396\u001b[0m     \u001b[38;5;28;01mif\u001b[39;00m hook_name \u001b[38;5;129;01mnot\u001b[39;00m \u001b[38;5;129;01min\u001b[39;00m \u001b[38;5;28mself\u001b[39m\u001b[38;5;241m.\u001b[39m_hook_times:\n",
      "File \u001b[0;32m~/miniconda3/lib/python3.10/site-packages/keras/src/callbacks.py:1093\u001b[0m, in \u001b[0;36mProgbarLogger.on_train_batch_end\u001b[0;34m(self, batch, logs)\u001b[0m\n\u001b[1;32m   1092\u001b[0m \u001b[38;5;28;01mdef\u001b[39;00m \u001b[38;5;21mon_train_batch_end\u001b[39m(\u001b[38;5;28mself\u001b[39m, batch, logs\u001b[38;5;241m=\u001b[39m\u001b[38;5;28;01mNone\u001b[39;00m):\n\u001b[0;32m-> 1093\u001b[0m     \u001b[38;5;28;43mself\u001b[39;49m\u001b[38;5;241;43m.\u001b[39;49m\u001b[43m_batch_update_progbar\u001b[49m\u001b[43m(\u001b[49m\u001b[43mbatch\u001b[49m\u001b[43m,\u001b[49m\u001b[43m \u001b[49m\u001b[43mlogs\u001b[49m\u001b[43m)\u001b[49m\n",
      "File \u001b[0;32m~/miniconda3/lib/python3.10/site-packages/keras/src/callbacks.py:1169\u001b[0m, in \u001b[0;36mProgbarLogger._batch_update_progbar\u001b[0;34m(self, batch, logs)\u001b[0m\n\u001b[1;32m   1165\u001b[0m     \u001b[38;5;28mself\u001b[39m\u001b[38;5;241m.\u001b[39mseen \u001b[38;5;241m+\u001b[39m\u001b[38;5;241m=\u001b[39m add_seen\n\u001b[1;32m   1167\u001b[0m \u001b[38;5;28;01mif\u001b[39;00m \u001b[38;5;28mself\u001b[39m\u001b[38;5;241m.\u001b[39mverbose \u001b[38;5;241m==\u001b[39m \u001b[38;5;241m1\u001b[39m:\n\u001b[1;32m   1168\u001b[0m     \u001b[38;5;66;03m# Only block async when verbose = 1.\u001b[39;00m\n\u001b[0;32m-> 1169\u001b[0m     logs \u001b[38;5;241m=\u001b[39m \u001b[43mtf_utils\u001b[49m\u001b[38;5;241;43m.\u001b[39;49m\u001b[43msync_to_numpy_or_python_type\u001b[49m\u001b[43m(\u001b[49m\u001b[43mlogs\u001b[49m\u001b[43m)\u001b[49m\n\u001b[1;32m   1170\u001b[0m     \u001b[38;5;28mself\u001b[39m\u001b[38;5;241m.\u001b[39mprogbar\u001b[38;5;241m.\u001b[39mupdate(\u001b[38;5;28mself\u001b[39m\u001b[38;5;241m.\u001b[39mseen, \u001b[38;5;28mlist\u001b[39m(logs\u001b[38;5;241m.\u001b[39mitems()), finalize\u001b[38;5;241m=\u001b[39m\u001b[38;5;28;01mFalse\u001b[39;00m)\n",
      "File \u001b[0;32m~/miniconda3/lib/python3.10/site-packages/keras/src/utils/tf_utils.py:694\u001b[0m, in \u001b[0;36msync_to_numpy_or_python_type\u001b[0;34m(tensors)\u001b[0m\n\u001b[1;32m    691\u001b[0m         \u001b[38;5;28;01mreturn\u001b[39;00m t\n\u001b[1;32m    692\u001b[0m     \u001b[38;5;28;01mreturn\u001b[39;00m t\u001b[38;5;241m.\u001b[39mitem() \u001b[38;5;28;01mif\u001b[39;00m np\u001b[38;5;241m.\u001b[39mndim(t) \u001b[38;5;241m==\u001b[39m \u001b[38;5;241m0\u001b[39m \u001b[38;5;28;01melse\u001b[39;00m t\n\u001b[0;32m--> 694\u001b[0m \u001b[38;5;28;01mreturn\u001b[39;00m \u001b[43mtf\u001b[49m\u001b[38;5;241;43m.\u001b[39;49m\u001b[43mnest\u001b[49m\u001b[38;5;241;43m.\u001b[39;49m\u001b[43mmap_structure\u001b[49m\u001b[43m(\u001b[49m\u001b[43m_to_single_numpy_or_python_type\u001b[49m\u001b[43m,\u001b[49m\u001b[43m \u001b[49m\u001b[43mtensors\u001b[49m\u001b[43m)\u001b[49m\n",
      "File \u001b[0;32m~/miniconda3/lib/python3.10/site-packages/tensorflow/python/util/nest.py:624\u001b[0m, in \u001b[0;36mmap_structure\u001b[0;34m(func, *structure, **kwargs)\u001b[0m\n\u001b[1;32m    538\u001b[0m \u001b[38;5;129m@tf_export\u001b[39m(\u001b[38;5;124m\"\u001b[39m\u001b[38;5;124mnest.map_structure\u001b[39m\u001b[38;5;124m\"\u001b[39m)\n\u001b[1;32m    539\u001b[0m \u001b[38;5;28;01mdef\u001b[39;00m \u001b[38;5;21mmap_structure\u001b[39m(func, \u001b[38;5;241m*\u001b[39mstructure, \u001b[38;5;241m*\u001b[39m\u001b[38;5;241m*\u001b[39mkwargs):\n\u001b[1;32m    540\u001b[0m \u001b[38;5;250m  \u001b[39m\u001b[38;5;124;03m\"\"\"Creates a new structure by applying `func` to each atom in `structure`.\u001b[39;00m\n\u001b[1;32m    541\u001b[0m \n\u001b[1;32m    542\u001b[0m \u001b[38;5;124;03m  Refer to [tf.nest](https://www.tensorflow.org/api_docs/python/tf/nest)\u001b[39;00m\n\u001b[0;32m   (...)\u001b[0m\n\u001b[1;32m    622\u001b[0m \u001b[38;5;124;03m    ValueError: If wrong keyword arguments are provided.\u001b[39;00m\n\u001b[1;32m    623\u001b[0m \u001b[38;5;124;03m  \"\"\"\u001b[39;00m\n\u001b[0;32m--> 624\u001b[0m   \u001b[38;5;28;01mreturn\u001b[39;00m \u001b[43mnest_util\u001b[49m\u001b[38;5;241;43m.\u001b[39;49m\u001b[43mmap_structure\u001b[49m\u001b[43m(\u001b[49m\n\u001b[1;32m    625\u001b[0m \u001b[43m      \u001b[49m\u001b[43mnest_util\u001b[49m\u001b[38;5;241;43m.\u001b[39;49m\u001b[43mModality\u001b[49m\u001b[38;5;241;43m.\u001b[39;49m\u001b[43mCORE\u001b[49m\u001b[43m,\u001b[49m\u001b[43m \u001b[49m\u001b[43mfunc\u001b[49m\u001b[43m,\u001b[49m\u001b[43m \u001b[49m\u001b[38;5;241;43m*\u001b[39;49m\u001b[43mstructure\u001b[49m\u001b[43m,\u001b[49m\u001b[43m \u001b[49m\u001b[38;5;241;43m*\u001b[39;49m\u001b[38;5;241;43m*\u001b[39;49m\u001b[43mkwargs\u001b[49m\n\u001b[1;32m    626\u001b[0m \u001b[43m  \u001b[49m\u001b[43m)\u001b[49m\n",
      "File \u001b[0;32m~/miniconda3/lib/python3.10/site-packages/tensorflow/python/util/nest_util.py:1054\u001b[0m, in \u001b[0;36mmap_structure\u001b[0;34m(modality, func, *structure, **kwargs)\u001b[0m\n\u001b[1;32m    957\u001b[0m \u001b[38;5;250m\u001b[39m\u001b[38;5;124;03m\"\"\"Creates a new structure by applying `func` to each atom in `structure`.\u001b[39;00m\n\u001b[1;32m    958\u001b[0m \n\u001b[1;32m    959\u001b[0m \u001b[38;5;124;03m- For Modality.CORE: Refer to\u001b[39;00m\n\u001b[0;32m   (...)\u001b[0m\n\u001b[1;32m   1051\u001b[0m \u001b[38;5;124;03m  ValueError: If wrong keyword arguments are provided.\u001b[39;00m\n\u001b[1;32m   1052\u001b[0m \u001b[38;5;124;03m\"\"\"\u001b[39;00m\n\u001b[1;32m   1053\u001b[0m \u001b[38;5;28;01mif\u001b[39;00m modality \u001b[38;5;241m==\u001b[39m Modality\u001b[38;5;241m.\u001b[39mCORE:\n\u001b[0;32m-> 1054\u001b[0m   \u001b[38;5;28;01mreturn\u001b[39;00m \u001b[43m_tf_core_map_structure\u001b[49m\u001b[43m(\u001b[49m\u001b[43mfunc\u001b[49m\u001b[43m,\u001b[49m\u001b[43m \u001b[49m\u001b[38;5;241;43m*\u001b[39;49m\u001b[43mstructure\u001b[49m\u001b[43m,\u001b[49m\u001b[43m \u001b[49m\u001b[38;5;241;43m*\u001b[39;49m\u001b[38;5;241;43m*\u001b[39;49m\u001b[43mkwargs\u001b[49m\u001b[43m)\u001b[49m\n\u001b[1;32m   1055\u001b[0m \u001b[38;5;28;01melif\u001b[39;00m modality \u001b[38;5;241m==\u001b[39m Modality\u001b[38;5;241m.\u001b[39mDATA:\n\u001b[1;32m   1056\u001b[0m   \u001b[38;5;28;01mreturn\u001b[39;00m _tf_data_map_structure(func, \u001b[38;5;241m*\u001b[39mstructure, \u001b[38;5;241m*\u001b[39m\u001b[38;5;241m*\u001b[39mkwargs)\n",
      "File \u001b[0;32m~/miniconda3/lib/python3.10/site-packages/tensorflow/python/util/nest_util.py:1094\u001b[0m, in \u001b[0;36m_tf_core_map_structure\u001b[0;34m(func, *structure, **kwargs)\u001b[0m\n\u001b[1;32m   1089\u001b[0m flat_structure \u001b[38;5;241m=\u001b[39m (_tf_core_flatten(s, expand_composites) \u001b[38;5;28;01mfor\u001b[39;00m s \u001b[38;5;129;01min\u001b[39;00m structure)\n\u001b[1;32m   1090\u001b[0m entries \u001b[38;5;241m=\u001b[39m \u001b[38;5;28mzip\u001b[39m(\u001b[38;5;241m*\u001b[39mflat_structure)\n\u001b[1;32m   1092\u001b[0m \u001b[38;5;28;01mreturn\u001b[39;00m _tf_core_pack_sequence_as(\n\u001b[1;32m   1093\u001b[0m     structure[\u001b[38;5;241m0\u001b[39m],\n\u001b[0;32m-> 1094\u001b[0m     [func(\u001b[38;5;241m*\u001b[39mx) \u001b[38;5;28;01mfor\u001b[39;00m x \u001b[38;5;129;01min\u001b[39;00m entries],\n\u001b[1;32m   1095\u001b[0m     expand_composites\u001b[38;5;241m=\u001b[39mexpand_composites,\n\u001b[1;32m   1096\u001b[0m )\n",
      "File \u001b[0;32m~/miniconda3/lib/python3.10/site-packages/tensorflow/python/util/nest_util.py:1094\u001b[0m, in \u001b[0;36m<listcomp>\u001b[0;34m(.0)\u001b[0m\n\u001b[1;32m   1089\u001b[0m flat_structure \u001b[38;5;241m=\u001b[39m (_tf_core_flatten(s, expand_composites) \u001b[38;5;28;01mfor\u001b[39;00m s \u001b[38;5;129;01min\u001b[39;00m structure)\n\u001b[1;32m   1090\u001b[0m entries \u001b[38;5;241m=\u001b[39m \u001b[38;5;28mzip\u001b[39m(\u001b[38;5;241m*\u001b[39mflat_structure)\n\u001b[1;32m   1092\u001b[0m \u001b[38;5;28;01mreturn\u001b[39;00m _tf_core_pack_sequence_as(\n\u001b[1;32m   1093\u001b[0m     structure[\u001b[38;5;241m0\u001b[39m],\n\u001b[0;32m-> 1094\u001b[0m     [\u001b[43mfunc\u001b[49m\u001b[43m(\u001b[49m\u001b[38;5;241;43m*\u001b[39;49m\u001b[43mx\u001b[49m\u001b[43m)\u001b[49m \u001b[38;5;28;01mfor\u001b[39;00m x \u001b[38;5;129;01min\u001b[39;00m entries],\n\u001b[1;32m   1095\u001b[0m     expand_composites\u001b[38;5;241m=\u001b[39mexpand_composites,\n\u001b[1;32m   1096\u001b[0m )\n",
      "File \u001b[0;32m~/miniconda3/lib/python3.10/site-packages/keras/src/utils/tf_utils.py:687\u001b[0m, in \u001b[0;36msync_to_numpy_or_python_type.<locals>._to_single_numpy_or_python_type\u001b[0;34m(t)\u001b[0m\n\u001b[1;32m    684\u001b[0m \u001b[38;5;28;01mdef\u001b[39;00m \u001b[38;5;21m_to_single_numpy_or_python_type\u001b[39m(t):\n\u001b[1;32m    685\u001b[0m     \u001b[38;5;66;03m# Don't turn ragged or sparse tensors to NumPy.\u001b[39;00m\n\u001b[1;32m    686\u001b[0m     \u001b[38;5;28;01mif\u001b[39;00m \u001b[38;5;28misinstance\u001b[39m(t, tf\u001b[38;5;241m.\u001b[39mTensor):\n\u001b[0;32m--> 687\u001b[0m         t \u001b[38;5;241m=\u001b[39m \u001b[43mt\u001b[49m\u001b[38;5;241;43m.\u001b[39;49m\u001b[43mnumpy\u001b[49m\u001b[43m(\u001b[49m\u001b[43m)\u001b[49m\n\u001b[1;32m    688\u001b[0m     \u001b[38;5;66;03m# Strings, ragged and sparse tensors don't have .item(). Return them\u001b[39;00m\n\u001b[1;32m    689\u001b[0m     \u001b[38;5;66;03m# as-is.\u001b[39;00m\n\u001b[1;32m    690\u001b[0m     \u001b[38;5;28;01mif\u001b[39;00m \u001b[38;5;129;01mnot\u001b[39;00m \u001b[38;5;28misinstance\u001b[39m(t, (np\u001b[38;5;241m.\u001b[39mndarray, np\u001b[38;5;241m.\u001b[39mgeneric)):\n",
      "File \u001b[0;32m~/miniconda3/lib/python3.10/site-packages/tensorflow/python/framework/ops.py:1141\u001b[0m, in \u001b[0;36m_EagerTensorBase.numpy\u001b[0;34m(self)\u001b[0m\n\u001b[1;32m   1118\u001b[0m \u001b[38;5;250m\u001b[39m\u001b[38;5;124;03m\"\"\"Copy of the contents of this Tensor into a NumPy array or scalar.\u001b[39;00m\n\u001b[1;32m   1119\u001b[0m \n\u001b[1;32m   1120\u001b[0m \u001b[38;5;124;03mUnlike NumPy arrays, Tensors are immutable, so this method has to copy\u001b[39;00m\n\u001b[0;32m   (...)\u001b[0m\n\u001b[1;32m   1138\u001b[0m \u001b[38;5;124;03m    NumPy dtype.\u001b[39;00m\n\u001b[1;32m   1139\u001b[0m \u001b[38;5;124;03m\"\"\"\u001b[39;00m\n\u001b[1;32m   1140\u001b[0m \u001b[38;5;66;03m# TODO(slebedev): Consider avoiding a copy for non-CPU or remote tensors.\u001b[39;00m\n\u001b[0;32m-> 1141\u001b[0m maybe_arr \u001b[38;5;241m=\u001b[39m \u001b[38;5;28;43mself\u001b[39;49m\u001b[38;5;241;43m.\u001b[39;49m\u001b[43m_numpy\u001b[49m\u001b[43m(\u001b[49m\u001b[43m)\u001b[49m  \u001b[38;5;66;03m# pylint: disable=protected-access\u001b[39;00m\n\u001b[1;32m   1142\u001b[0m \u001b[38;5;28;01mreturn\u001b[39;00m maybe_arr\u001b[38;5;241m.\u001b[39mcopy() \u001b[38;5;28;01mif\u001b[39;00m \u001b[38;5;28misinstance\u001b[39m(maybe_arr, np\u001b[38;5;241m.\u001b[39mndarray) \u001b[38;5;28;01melse\u001b[39;00m maybe_arr\n",
      "File \u001b[0;32m~/miniconda3/lib/python3.10/site-packages/tensorflow/python/framework/ops.py:1107\u001b[0m, in \u001b[0;36m_EagerTensorBase._numpy\u001b[0;34m(self)\u001b[0m\n\u001b[1;32m   1105\u001b[0m \u001b[38;5;28;01mdef\u001b[39;00m \u001b[38;5;21m_numpy\u001b[39m(\u001b[38;5;28mself\u001b[39m):\n\u001b[1;32m   1106\u001b[0m   \u001b[38;5;28;01mtry\u001b[39;00m:\n\u001b[0;32m-> 1107\u001b[0m     \u001b[38;5;28;01mreturn\u001b[39;00m \u001b[38;5;28;43mself\u001b[39;49m\u001b[38;5;241;43m.\u001b[39;49m\u001b[43m_numpy_internal\u001b[49m\u001b[43m(\u001b[49m\u001b[43m)\u001b[49m\n\u001b[1;32m   1108\u001b[0m   \u001b[38;5;28;01mexcept\u001b[39;00m core\u001b[38;5;241m.\u001b[39m_NotOkStatusException \u001b[38;5;28;01mas\u001b[39;00m e:  \u001b[38;5;66;03m# pylint: disable=protected-access\u001b[39;00m\n\u001b[1;32m   1109\u001b[0m     \u001b[38;5;28;01mraise\u001b[39;00m core\u001b[38;5;241m.\u001b[39m_status_to_exception(e) \u001b[38;5;28;01mfrom\u001b[39;00m \u001b[38;5;28;01mNone\u001b[39;00m\n",
      "\u001b[0;31mKeyboardInterrupt\u001b[0m: "
     ]
    }
   ],
   "source": [
    "model = Sequential(name='Sequential')\n",
    "act_function = 'tanh'\n",
    "model.add(LSTM(180, return_sequences=True, activation=act_function, input_shape=(130,1662)))\n",
    "model.add(LSTM(90, return_sequences=True, activation=act_function))\n",
    "model.add(LSTM(180, return_sequences=True, activation=act_function))\n",
    "model.add(LSTM(90, return_sequences=False,activation=act_function))\n",
    "model.add(Dense(90, activation=act_function))\n",
    "model.add(Dense(90, activation=act_function))\n",
    "model.add(Dense(90, activation=act_function))\n",
    "model.add(Dense(90, activation=act_function))\n",
    "model.add(Dense(45, activation=act_function))\n",
    "model.add(Dense(90, activation=act_function))\n",
    "model.add(Dense(50, activation=act_function))\n",
    "model.summary()\n",
    "\n",
    "optimizer = SGD(learning_rate=.00001,nesterov=True)\n",
    "model.compile(optimizer=optimizer, loss='categorical_crossentropy', metrics=['categorical_accuracy'])\n",
    "\n",
    "history = model.fit(Xtrain, Ytrain, epochs=1000, validation_split=.2, batch_size = 64)"
   ]
  },
  {
   "cell_type": "code",
   "execution_count": 18,
   "id": "b4546c78",
   "metadata": {
    "ExecuteTime": {
     "end_time": "2023-08-07T20:49:37.295257Z",
     "start_time": "2023-08-07T20:49:05.389345Z"
    },
    "scrolled": true
   },
   "outputs": [
    {
     "name": "stderr",
     "output_type": "stream",
     "text": [
      "2023-08-07 21:49:05.468776: I tensorflow/core/common_runtime/gpu/gpu_device.cc:1639] Created device /job:localhost/replica:0/task:0/device:GPU:0 with 1037 MB memory:  -> device: 0, name: NVIDIA GeForce MX250, pci bus id: 0000:01:00.0, compute capability: 6.1\n"
     ]
    },
    {
     "name": "stdout",
     "output_type": "stream",
     "text": [
      "Epoch 1/1000\n"
     ]
    },
    {
     "name": "stderr",
     "output_type": "stream",
     "text": [
      "2023-08-07 21:49:09.595786: I tensorflow/compiler/xla/stream_executor/cuda/cuda_dnn.cc:432] Loaded cuDNN version 8600\n",
      "2023-08-07 21:49:09.643909: I tensorflow/compiler/xla/service/service.cc:168] XLA service 0x7f8864929fe0 initialized for platform CUDA (this does not guarantee that XLA will be used). Devices:\n",
      "2023-08-07 21:49:09.643936: I tensorflow/compiler/xla/service/service.cc:176]   StreamExecutor device (0): NVIDIA GeForce MX250, Compute Capability 6.1\n",
      "2023-08-07 21:49:09.647840: I tensorflow/compiler/mlir/tensorflow/utils/dump_mlir_util.cc:255] disabling MLIR crash reproducer, set env var `MLIR_CRASH_REPRODUCER_DIRECTORY` to enable.\n",
      "2023-08-07 21:49:09.756578: I ./tensorflow/compiler/jit/device_compiler.h:186] Compiled cluster using XLA!  This line is logged at most once for the lifetime of the process.\n"
     ]
    },
    {
     "name": "stdout",
     "output_type": "stream",
     "text": [
      "11/11 [==============================] - 5s 178ms/step - loss: 7.8501 - categorical_accuracy: 0.0311 - val_loss: 8.1508 - val_categorical_accuracy: 0.0000e+00\n",
      "Epoch 2/1000\n",
      "11/11 [==============================] - 1s 82ms/step - loss: 8.1865 - categorical_accuracy: 0.0218 - val_loss: 9.0874 - val_categorical_accuracy: 0.0000e+00\n",
      "Epoch 3/1000\n",
      "11/11 [==============================] - 1s 82ms/step - loss: 7.9489 - categorical_accuracy: 0.0171 - val_loss: 9.2725 - val_categorical_accuracy: 0.0000e+00\n",
      "Epoch 4/1000\n",
      "11/11 [==============================] - 1s 82ms/step - loss: 8.4394 - categorical_accuracy: 0.0264 - val_loss: 7.0158 - val_categorical_accuracy: 0.0435\n",
      "Epoch 5/1000\n",
      "11/11 [==============================] - 1s 82ms/step - loss: 7.9150 - categorical_accuracy: 0.0264 - val_loss: 6.5328 - val_categorical_accuracy: 0.0000e+00\n",
      "Epoch 6/1000\n",
      "11/11 [==============================] - 1s 83ms/step - loss: 7.8367 - categorical_accuracy: 0.0249 - val_loss: 7.1868 - val_categorical_accuracy: 0.0000e+00\n",
      "Epoch 7/1000\n",
      "11/11 [==============================] - 1s 82ms/step - loss: 7.4580 - categorical_accuracy: 0.0218 - val_loss: 7.9999 - val_categorical_accuracy: 0.0435\n",
      "Epoch 8/1000\n",
      "11/11 [==============================] - 1s 82ms/step - loss: 7.6811 - categorical_accuracy: 0.0202 - val_loss: 8.0838 - val_categorical_accuracy: 0.0435\n",
      "Epoch 9/1000\n",
      "11/11 [==============================] - 1s 83ms/step - loss: 8.0921 - categorical_accuracy: 0.0156 - val_loss: 10.9521 - val_categorical_accuracy: 0.0000e+00\n",
      "Epoch 10/1000\n",
      "11/11 [==============================] - 1s 82ms/step - loss: 7.6189 - categorical_accuracy: 0.0280 - val_loss: 8.0590 - val_categorical_accuracy: 0.0000e+00\n",
      "Epoch 11/1000\n",
      "11/11 [==============================] - 1s 82ms/step - loss: 8.2331 - categorical_accuracy: 0.0249 - val_loss: 9.4764 - val_categorical_accuracy: 0.0000e+00\n",
      "Epoch 12/1000\n",
      "11/11 [==============================] - 1s 82ms/step - loss: 8.2073 - categorical_accuracy: 0.0249 - val_loss: 7.8109 - val_categorical_accuracy: 0.0000e+00\n",
      "Epoch 13/1000\n",
      "11/11 [==============================] - 1s 83ms/step - loss: 7.9964 - categorical_accuracy: 0.0218 - val_loss: 7.8109 - val_categorical_accuracy: 0.0000e+00\n",
      "Epoch 14/1000\n",
      "11/11 [==============================] - 1s 84ms/step - loss: 8.0214 - categorical_accuracy: 0.0218 - val_loss: 7.8109 - val_categorical_accuracy: 0.0000e+00\n",
      "Epoch 15/1000\n",
      "11/11 [==============================] - 1s 82ms/step - loss: 8.0214 - categorical_accuracy: 0.0233 - val_loss: 7.8109 - val_categorical_accuracy: 0.0000e+00\n",
      "Epoch 16/1000\n",
      "11/11 [==============================] - 1s 84ms/step - loss: 7.9713 - categorical_accuracy: 0.0233 - val_loss: 7.8109 - val_categorical_accuracy: 0.0000e+00\n",
      "Epoch 17/1000\n",
      "11/11 [==============================] - 1s 82ms/step - loss: 7.9964 - categorical_accuracy: 0.0249 - val_loss: 7.8109 - val_categorical_accuracy: 0.0000e+00\n",
      "Epoch 18/1000\n",
      "11/11 [==============================] - 1s 81ms/step - loss: 7.9713 - categorical_accuracy: 0.0233 - val_loss: 7.8109 - val_categorical_accuracy: 0.0000e+00\n",
      "Epoch 19/1000\n",
      "11/11 [==============================] - 1s 82ms/step - loss: 7.9713 - categorical_accuracy: 0.0249 - val_loss: 7.8109 - val_categorical_accuracy: 0.0000e+00\n",
      "Epoch 20/1000\n",
      "11/11 [==============================] - 1s 83ms/step - loss: 7.9713 - categorical_accuracy: 0.0280 - val_loss: 7.8109 - val_categorical_accuracy: 0.0000e+00\n",
      "Epoch 21/1000\n",
      "11/11 [==============================] - 1s 83ms/step - loss: 7.9964 - categorical_accuracy: 0.0202 - val_loss: 7.8109 - val_categorical_accuracy: 0.0000e+00\n",
      "Epoch 22/1000\n",
      "11/11 [==============================] - 1s 82ms/step - loss: 8.0465 - categorical_accuracy: 0.0264 - val_loss: 7.8109 - val_categorical_accuracy: 0.0000e+00\n",
      "Epoch 23/1000\n",
      "11/11 [==============================] - 1s 83ms/step - loss: 8.0465 - categorical_accuracy: 0.0187 - val_loss: 7.8109 - val_categorical_accuracy: 0.0000e+00\n",
      "Epoch 24/1000\n",
      "11/11 [==============================] - 1s 82ms/step - loss: 8.0465 - categorical_accuracy: 0.0218 - val_loss: 7.8109 - val_categorical_accuracy: 0.0000e+00\n",
      "Epoch 25/1000\n",
      "11/11 [==============================] - 1s 81ms/step - loss: 8.0716 - categorical_accuracy: 0.0249 - val_loss: 7.8109 - val_categorical_accuracy: 0.0000e+00\n",
      "Epoch 26/1000\n",
      "11/11 [==============================] - 1s 83ms/step - loss: 7.9964 - categorical_accuracy: 0.0233 - val_loss: 7.8109 - val_categorical_accuracy: 0.0000e+00\n",
      "Epoch 27/1000\n",
      "11/11 [==============================] - 1s 82ms/step - loss: 7.9964 - categorical_accuracy: 0.0202 - val_loss: 7.8109 - val_categorical_accuracy: 0.0000e+00\n",
      "Epoch 28/1000\n",
      " 6/11 [===============>..............] - ETA: 0s - loss: 8.4368 - categorical_accuracy: 0.0208"
     ]
    },
    {
     "ename": "KeyboardInterrupt",
     "evalue": "",
     "output_type": "error",
     "traceback": [
      "\u001b[0;31m---------------------------------------------------------------------------\u001b[0m",
      "\u001b[0;31mKeyboardInterrupt\u001b[0m                         Traceback (most recent call last)",
      "Cell \u001b[0;32mIn[18], line 10\u001b[0m\n\u001b[1;32m      7\u001b[0m optimizer \u001b[38;5;241m=\u001b[39m Adagrad(learning_rate\u001b[38;5;241m=\u001b[39m\u001b[38;5;241m.01\u001b[39m)\n\u001b[1;32m      8\u001b[0m model\u001b[38;5;241m.\u001b[39mcompile(optimizer\u001b[38;5;241m=\u001b[39moptimizer, loss\u001b[38;5;241m=\u001b[39m\u001b[38;5;124m'\u001b[39m\u001b[38;5;124mcategorical_crossentropy\u001b[39m\u001b[38;5;124m'\u001b[39m, metrics\u001b[38;5;241m=\u001b[39m[\u001b[38;5;124m'\u001b[39m\u001b[38;5;124mcategorical_accuracy\u001b[39m\u001b[38;5;124m'\u001b[39m])\n\u001b[0;32m---> 10\u001b[0m history \u001b[38;5;241m=\u001b[39m \u001b[43mmodel\u001b[49m\u001b[38;5;241;43m.\u001b[39;49m\u001b[43mfit\u001b[49m\u001b[43m(\u001b[49m\u001b[43mXtrain\u001b[49m\u001b[43m,\u001b[49m\u001b[43m \u001b[49m\u001b[43mYtrain\u001b[49m\u001b[43m,\u001b[49m\u001b[43m \u001b[49m\u001b[43mepochs\u001b[49m\u001b[38;5;241;43m=\u001b[39;49m\u001b[38;5;241;43m1000\u001b[39;49m\u001b[43m,\u001b[49m\u001b[43m \u001b[49m\u001b[43mvalidation_split\u001b[49m\u001b[38;5;241;43m=\u001b[39;49m\u001b[38;5;241;43m.2\u001b[39;49m\u001b[43m,\u001b[49m\u001b[43m \u001b[49m\u001b[43mbatch_size\u001b[49m\u001b[43m \u001b[49m\u001b[38;5;241;43m=\u001b[39;49m\u001b[43m \u001b[49m\u001b[38;5;241;43m64\u001b[39;49m\u001b[43m)\u001b[49m\n\u001b[1;32m     11\u001b[0m model\u001b[38;5;241m.\u001b[39msummary()\n",
      "File \u001b[0;32m~/miniconda3/lib/python3.10/site-packages/keras/src/utils/traceback_utils.py:65\u001b[0m, in \u001b[0;36mfilter_traceback.<locals>.error_handler\u001b[0;34m(*args, **kwargs)\u001b[0m\n\u001b[1;32m     63\u001b[0m filtered_tb \u001b[38;5;241m=\u001b[39m \u001b[38;5;28;01mNone\u001b[39;00m\n\u001b[1;32m     64\u001b[0m \u001b[38;5;28;01mtry\u001b[39;00m:\n\u001b[0;32m---> 65\u001b[0m     \u001b[38;5;28;01mreturn\u001b[39;00m \u001b[43mfn\u001b[49m\u001b[43m(\u001b[49m\u001b[38;5;241;43m*\u001b[39;49m\u001b[43margs\u001b[49m\u001b[43m,\u001b[49m\u001b[43m \u001b[49m\u001b[38;5;241;43m*\u001b[39;49m\u001b[38;5;241;43m*\u001b[39;49m\u001b[43mkwargs\u001b[49m\u001b[43m)\u001b[49m\n\u001b[1;32m     66\u001b[0m \u001b[38;5;28;01mexcept\u001b[39;00m \u001b[38;5;167;01mException\u001b[39;00m \u001b[38;5;28;01mas\u001b[39;00m e:\n\u001b[1;32m     67\u001b[0m     filtered_tb \u001b[38;5;241m=\u001b[39m _process_traceback_frames(e\u001b[38;5;241m.\u001b[39m__traceback__)\n",
      "File \u001b[0;32m~/miniconda3/lib/python3.10/site-packages/keras/src/engine/training.py:1742\u001b[0m, in \u001b[0;36mModel.fit\u001b[0;34m(self, x, y, batch_size, epochs, verbose, callbacks, validation_split, validation_data, shuffle, class_weight, sample_weight, initial_epoch, steps_per_epoch, validation_steps, validation_batch_size, validation_freq, max_queue_size, workers, use_multiprocessing)\u001b[0m\n\u001b[1;32m   1734\u001b[0m \u001b[38;5;28;01mwith\u001b[39;00m tf\u001b[38;5;241m.\u001b[39mprofiler\u001b[38;5;241m.\u001b[39mexperimental\u001b[38;5;241m.\u001b[39mTrace(\n\u001b[1;32m   1735\u001b[0m     \u001b[38;5;124m\"\u001b[39m\u001b[38;5;124mtrain\u001b[39m\u001b[38;5;124m\"\u001b[39m,\n\u001b[1;32m   1736\u001b[0m     epoch_num\u001b[38;5;241m=\u001b[39mepoch,\n\u001b[0;32m   (...)\u001b[0m\n\u001b[1;32m   1739\u001b[0m     _r\u001b[38;5;241m=\u001b[39m\u001b[38;5;241m1\u001b[39m,\n\u001b[1;32m   1740\u001b[0m ):\n\u001b[1;32m   1741\u001b[0m     callbacks\u001b[38;5;241m.\u001b[39mon_train_batch_begin(step)\n\u001b[0;32m-> 1742\u001b[0m     tmp_logs \u001b[38;5;241m=\u001b[39m \u001b[38;5;28;43mself\u001b[39;49m\u001b[38;5;241;43m.\u001b[39;49m\u001b[43mtrain_function\u001b[49m\u001b[43m(\u001b[49m\u001b[43miterator\u001b[49m\u001b[43m)\u001b[49m\n\u001b[1;32m   1743\u001b[0m     \u001b[38;5;28;01mif\u001b[39;00m data_handler\u001b[38;5;241m.\u001b[39mshould_sync:\n\u001b[1;32m   1744\u001b[0m         context\u001b[38;5;241m.\u001b[39masync_wait()\n",
      "File \u001b[0;32m~/miniconda3/lib/python3.10/site-packages/tensorflow/python/util/traceback_utils.py:150\u001b[0m, in \u001b[0;36mfilter_traceback.<locals>.error_handler\u001b[0;34m(*args, **kwargs)\u001b[0m\n\u001b[1;32m    148\u001b[0m filtered_tb \u001b[38;5;241m=\u001b[39m \u001b[38;5;28;01mNone\u001b[39;00m\n\u001b[1;32m    149\u001b[0m \u001b[38;5;28;01mtry\u001b[39;00m:\n\u001b[0;32m--> 150\u001b[0m   \u001b[38;5;28;01mreturn\u001b[39;00m \u001b[43mfn\u001b[49m\u001b[43m(\u001b[49m\u001b[38;5;241;43m*\u001b[39;49m\u001b[43margs\u001b[49m\u001b[43m,\u001b[49m\u001b[43m \u001b[49m\u001b[38;5;241;43m*\u001b[39;49m\u001b[38;5;241;43m*\u001b[39;49m\u001b[43mkwargs\u001b[49m\u001b[43m)\u001b[49m\n\u001b[1;32m    151\u001b[0m \u001b[38;5;28;01mexcept\u001b[39;00m \u001b[38;5;167;01mException\u001b[39;00m \u001b[38;5;28;01mas\u001b[39;00m e:\n\u001b[1;32m    152\u001b[0m   filtered_tb \u001b[38;5;241m=\u001b[39m _process_traceback_frames(e\u001b[38;5;241m.\u001b[39m__traceback__)\n",
      "File \u001b[0;32m~/miniconda3/lib/python3.10/site-packages/tensorflow/python/eager/polymorphic_function/polymorphic_function.py:825\u001b[0m, in \u001b[0;36mFunction.__call__\u001b[0;34m(self, *args, **kwds)\u001b[0m\n\u001b[1;32m    822\u001b[0m compiler \u001b[38;5;241m=\u001b[39m \u001b[38;5;124m\"\u001b[39m\u001b[38;5;124mxla\u001b[39m\u001b[38;5;124m\"\u001b[39m \u001b[38;5;28;01mif\u001b[39;00m \u001b[38;5;28mself\u001b[39m\u001b[38;5;241m.\u001b[39m_jit_compile \u001b[38;5;28;01melse\u001b[39;00m \u001b[38;5;124m\"\u001b[39m\u001b[38;5;124mnonXla\u001b[39m\u001b[38;5;124m\"\u001b[39m\n\u001b[1;32m    824\u001b[0m \u001b[38;5;28;01mwith\u001b[39;00m OptionalXlaContext(\u001b[38;5;28mself\u001b[39m\u001b[38;5;241m.\u001b[39m_jit_compile):\n\u001b[0;32m--> 825\u001b[0m   result \u001b[38;5;241m=\u001b[39m \u001b[38;5;28;43mself\u001b[39;49m\u001b[38;5;241;43m.\u001b[39;49m\u001b[43m_call\u001b[49m\u001b[43m(\u001b[49m\u001b[38;5;241;43m*\u001b[39;49m\u001b[43margs\u001b[49m\u001b[43m,\u001b[49m\u001b[43m \u001b[49m\u001b[38;5;241;43m*\u001b[39;49m\u001b[38;5;241;43m*\u001b[39;49m\u001b[43mkwds\u001b[49m\u001b[43m)\u001b[49m\n\u001b[1;32m    827\u001b[0m new_tracing_count \u001b[38;5;241m=\u001b[39m \u001b[38;5;28mself\u001b[39m\u001b[38;5;241m.\u001b[39mexperimental_get_tracing_count()\n\u001b[1;32m    828\u001b[0m without_tracing \u001b[38;5;241m=\u001b[39m (tracing_count \u001b[38;5;241m==\u001b[39m new_tracing_count)\n",
      "File \u001b[0;32m~/miniconda3/lib/python3.10/site-packages/tensorflow/python/eager/polymorphic_function/polymorphic_function.py:857\u001b[0m, in \u001b[0;36mFunction._call\u001b[0;34m(self, *args, **kwds)\u001b[0m\n\u001b[1;32m    854\u001b[0m   \u001b[38;5;28mself\u001b[39m\u001b[38;5;241m.\u001b[39m_lock\u001b[38;5;241m.\u001b[39mrelease()\n\u001b[1;32m    855\u001b[0m   \u001b[38;5;66;03m# In this case we have created variables on the first call, so we run the\u001b[39;00m\n\u001b[1;32m    856\u001b[0m   \u001b[38;5;66;03m# defunned version which is guaranteed to never create variables.\u001b[39;00m\n\u001b[0;32m--> 857\u001b[0m   \u001b[38;5;28;01mreturn\u001b[39;00m \u001b[38;5;28;43mself\u001b[39;49m\u001b[38;5;241;43m.\u001b[39;49m\u001b[43m_no_variable_creation_fn\u001b[49m\u001b[43m(\u001b[49m\u001b[38;5;241;43m*\u001b[39;49m\u001b[43margs\u001b[49m\u001b[43m,\u001b[49m\u001b[43m \u001b[49m\u001b[38;5;241;43m*\u001b[39;49m\u001b[38;5;241;43m*\u001b[39;49m\u001b[43mkwds\u001b[49m\u001b[43m)\u001b[49m  \u001b[38;5;66;03m# pylint: disable=not-callable\u001b[39;00m\n\u001b[1;32m    858\u001b[0m \u001b[38;5;28;01melif\u001b[39;00m \u001b[38;5;28mself\u001b[39m\u001b[38;5;241m.\u001b[39m_variable_creation_fn \u001b[38;5;129;01mis\u001b[39;00m \u001b[38;5;129;01mnot\u001b[39;00m \u001b[38;5;28;01mNone\u001b[39;00m:\n\u001b[1;32m    859\u001b[0m   \u001b[38;5;66;03m# Release the lock early so that multiple threads can perform the call\u001b[39;00m\n\u001b[1;32m    860\u001b[0m   \u001b[38;5;66;03m# in parallel.\u001b[39;00m\n\u001b[1;32m    861\u001b[0m   \u001b[38;5;28mself\u001b[39m\u001b[38;5;241m.\u001b[39m_lock\u001b[38;5;241m.\u001b[39mrelease()\n",
      "File \u001b[0;32m~/miniconda3/lib/python3.10/site-packages/tensorflow/python/eager/polymorphic_function/tracing_compiler.py:148\u001b[0m, in \u001b[0;36mTracingCompiler.__call__\u001b[0;34m(self, *args, **kwargs)\u001b[0m\n\u001b[1;32m    145\u001b[0m \u001b[38;5;28;01mwith\u001b[39;00m \u001b[38;5;28mself\u001b[39m\u001b[38;5;241m.\u001b[39m_lock:\n\u001b[1;32m    146\u001b[0m   (concrete_function,\n\u001b[1;32m    147\u001b[0m    filtered_flat_args) \u001b[38;5;241m=\u001b[39m \u001b[38;5;28mself\u001b[39m\u001b[38;5;241m.\u001b[39m_maybe_define_function(args, kwargs)\n\u001b[0;32m--> 148\u001b[0m \u001b[38;5;28;01mreturn\u001b[39;00m \u001b[43mconcrete_function\u001b[49m\u001b[38;5;241;43m.\u001b[39;49m\u001b[43m_call_flat\u001b[49m\u001b[43m(\u001b[49m\n\u001b[1;32m    149\u001b[0m \u001b[43m    \u001b[49m\u001b[43mfiltered_flat_args\u001b[49m\u001b[43m,\u001b[49m\u001b[43m \u001b[49m\u001b[43mcaptured_inputs\u001b[49m\u001b[38;5;241;43m=\u001b[39;49m\u001b[43mconcrete_function\u001b[49m\u001b[38;5;241;43m.\u001b[39;49m\u001b[43mcaptured_inputs\u001b[49m\u001b[43m)\u001b[49m\n",
      "File \u001b[0;32m~/miniconda3/lib/python3.10/site-packages/tensorflow/python/eager/polymorphic_function/monomorphic_function.py:1349\u001b[0m, in \u001b[0;36mConcreteFunction._call_flat\u001b[0;34m(self, args, captured_inputs)\u001b[0m\n\u001b[1;32m   1345\u001b[0m possible_gradient_type \u001b[38;5;241m=\u001b[39m gradients_util\u001b[38;5;241m.\u001b[39mPossibleTapeGradientTypes(args)\n\u001b[1;32m   1346\u001b[0m \u001b[38;5;28;01mif\u001b[39;00m (possible_gradient_type \u001b[38;5;241m==\u001b[39m gradients_util\u001b[38;5;241m.\u001b[39mPOSSIBLE_GRADIENT_TYPES_NONE\n\u001b[1;32m   1347\u001b[0m     \u001b[38;5;129;01mand\u001b[39;00m executing_eagerly):\n\u001b[1;32m   1348\u001b[0m   \u001b[38;5;66;03m# No tape is watching; skip to running the function.\u001b[39;00m\n\u001b[0;32m-> 1349\u001b[0m   \u001b[38;5;28;01mreturn\u001b[39;00m \u001b[38;5;28mself\u001b[39m\u001b[38;5;241m.\u001b[39m_build_call_outputs(\u001b[38;5;28;43mself\u001b[39;49m\u001b[38;5;241;43m.\u001b[39;49m\u001b[43m_inference_function\u001b[49m\u001b[43m(\u001b[49m\u001b[38;5;241;43m*\u001b[39;49m\u001b[43margs\u001b[49m\u001b[43m)\u001b[49m)\n\u001b[1;32m   1350\u001b[0m forward_backward \u001b[38;5;241m=\u001b[39m \u001b[38;5;28mself\u001b[39m\u001b[38;5;241m.\u001b[39m_select_forward_and_backward_functions(\n\u001b[1;32m   1351\u001b[0m     args,\n\u001b[1;32m   1352\u001b[0m     possible_gradient_type,\n\u001b[1;32m   1353\u001b[0m     executing_eagerly)\n\u001b[1;32m   1354\u001b[0m forward_function, args_with_tangents \u001b[38;5;241m=\u001b[39m forward_backward\u001b[38;5;241m.\u001b[39mforward()\n",
      "File \u001b[0;32m~/miniconda3/lib/python3.10/site-packages/tensorflow/python/eager/polymorphic_function/atomic_function.py:196\u001b[0m, in \u001b[0;36mAtomicFunction.__call__\u001b[0;34m(self, *args)\u001b[0m\n\u001b[1;32m    194\u001b[0m \u001b[38;5;28;01mwith\u001b[39;00m record\u001b[38;5;241m.\u001b[39mstop_recording():\n\u001b[1;32m    195\u001b[0m   \u001b[38;5;28;01mif\u001b[39;00m \u001b[38;5;28mself\u001b[39m\u001b[38;5;241m.\u001b[39m_bound_context\u001b[38;5;241m.\u001b[39mexecuting_eagerly():\n\u001b[0;32m--> 196\u001b[0m     outputs \u001b[38;5;241m=\u001b[39m \u001b[38;5;28;43mself\u001b[39;49m\u001b[38;5;241;43m.\u001b[39;49m\u001b[43m_bound_context\u001b[49m\u001b[38;5;241;43m.\u001b[39;49m\u001b[43mcall_function\u001b[49m\u001b[43m(\u001b[49m\n\u001b[1;32m    197\u001b[0m \u001b[43m        \u001b[49m\u001b[38;5;28;43mself\u001b[39;49m\u001b[38;5;241;43m.\u001b[39;49m\u001b[43mname\u001b[49m\u001b[43m,\u001b[49m\n\u001b[1;32m    198\u001b[0m \u001b[43m        \u001b[49m\u001b[38;5;28;43mlist\u001b[39;49m\u001b[43m(\u001b[49m\u001b[43margs\u001b[49m\u001b[43m)\u001b[49m\u001b[43m,\u001b[49m\n\u001b[1;32m    199\u001b[0m \u001b[43m        \u001b[49m\u001b[38;5;28;43mlen\u001b[39;49m\u001b[43m(\u001b[49m\u001b[38;5;28;43mself\u001b[39;49m\u001b[38;5;241;43m.\u001b[39;49m\u001b[43mfunction_type\u001b[49m\u001b[38;5;241;43m.\u001b[39;49m\u001b[43mflat_outputs\u001b[49m\u001b[43m)\u001b[49m\u001b[43m,\u001b[49m\n\u001b[1;32m    200\u001b[0m \u001b[43m    \u001b[49m\u001b[43m)\u001b[49m\n\u001b[1;32m    201\u001b[0m   \u001b[38;5;28;01melse\u001b[39;00m:\n\u001b[1;32m    202\u001b[0m     outputs \u001b[38;5;241m=\u001b[39m make_call_op_in_graph(\u001b[38;5;28mself\u001b[39m, \u001b[38;5;28mlist\u001b[39m(args))\n",
      "File \u001b[0;32m~/miniconda3/lib/python3.10/site-packages/tensorflow/python/eager/context.py:1457\u001b[0m, in \u001b[0;36mContext.call_function\u001b[0;34m(self, name, tensor_inputs, num_outputs)\u001b[0m\n\u001b[1;32m   1455\u001b[0m cancellation_context \u001b[38;5;241m=\u001b[39m cancellation\u001b[38;5;241m.\u001b[39mcontext()\n\u001b[1;32m   1456\u001b[0m \u001b[38;5;28;01mif\u001b[39;00m cancellation_context \u001b[38;5;129;01mis\u001b[39;00m \u001b[38;5;28;01mNone\u001b[39;00m:\n\u001b[0;32m-> 1457\u001b[0m   outputs \u001b[38;5;241m=\u001b[39m \u001b[43mexecute\u001b[49m\u001b[38;5;241;43m.\u001b[39;49m\u001b[43mexecute\u001b[49m\u001b[43m(\u001b[49m\n\u001b[1;32m   1458\u001b[0m \u001b[43m      \u001b[49m\u001b[43mname\u001b[49m\u001b[38;5;241;43m.\u001b[39;49m\u001b[43mdecode\u001b[49m\u001b[43m(\u001b[49m\u001b[38;5;124;43m\"\u001b[39;49m\u001b[38;5;124;43mutf-8\u001b[39;49m\u001b[38;5;124;43m\"\u001b[39;49m\u001b[43m)\u001b[49m\u001b[43m,\u001b[49m\n\u001b[1;32m   1459\u001b[0m \u001b[43m      \u001b[49m\u001b[43mnum_outputs\u001b[49m\u001b[38;5;241;43m=\u001b[39;49m\u001b[43mnum_outputs\u001b[49m\u001b[43m,\u001b[49m\n\u001b[1;32m   1460\u001b[0m \u001b[43m      \u001b[49m\u001b[43minputs\u001b[49m\u001b[38;5;241;43m=\u001b[39;49m\u001b[43mtensor_inputs\u001b[49m\u001b[43m,\u001b[49m\n\u001b[1;32m   1461\u001b[0m \u001b[43m      \u001b[49m\u001b[43mattrs\u001b[49m\u001b[38;5;241;43m=\u001b[39;49m\u001b[43mattrs\u001b[49m\u001b[43m,\u001b[49m\n\u001b[1;32m   1462\u001b[0m \u001b[43m      \u001b[49m\u001b[43mctx\u001b[49m\u001b[38;5;241;43m=\u001b[39;49m\u001b[38;5;28;43mself\u001b[39;49m\u001b[43m,\u001b[49m\n\u001b[1;32m   1463\u001b[0m \u001b[43m  \u001b[49m\u001b[43m)\u001b[49m\n\u001b[1;32m   1464\u001b[0m \u001b[38;5;28;01melse\u001b[39;00m:\n\u001b[1;32m   1465\u001b[0m   outputs \u001b[38;5;241m=\u001b[39m execute\u001b[38;5;241m.\u001b[39mexecute_with_cancellation(\n\u001b[1;32m   1466\u001b[0m       name\u001b[38;5;241m.\u001b[39mdecode(\u001b[38;5;124m\"\u001b[39m\u001b[38;5;124mutf-8\u001b[39m\u001b[38;5;124m\"\u001b[39m),\n\u001b[1;32m   1467\u001b[0m       num_outputs\u001b[38;5;241m=\u001b[39mnum_outputs,\n\u001b[0;32m   (...)\u001b[0m\n\u001b[1;32m   1471\u001b[0m       cancellation_manager\u001b[38;5;241m=\u001b[39mcancellation_context,\n\u001b[1;32m   1472\u001b[0m   )\n",
      "File \u001b[0;32m~/miniconda3/lib/python3.10/site-packages/tensorflow/python/eager/execute.py:53\u001b[0m, in \u001b[0;36mquick_execute\u001b[0;34m(op_name, num_outputs, inputs, attrs, ctx, name)\u001b[0m\n\u001b[1;32m     51\u001b[0m \u001b[38;5;28;01mtry\u001b[39;00m:\n\u001b[1;32m     52\u001b[0m   ctx\u001b[38;5;241m.\u001b[39mensure_initialized()\n\u001b[0;32m---> 53\u001b[0m   tensors \u001b[38;5;241m=\u001b[39m \u001b[43mpywrap_tfe\u001b[49m\u001b[38;5;241;43m.\u001b[39;49m\u001b[43mTFE_Py_Execute\u001b[49m\u001b[43m(\u001b[49m\u001b[43mctx\u001b[49m\u001b[38;5;241;43m.\u001b[39;49m\u001b[43m_handle\u001b[49m\u001b[43m,\u001b[49m\u001b[43m \u001b[49m\u001b[43mdevice_name\u001b[49m\u001b[43m,\u001b[49m\u001b[43m \u001b[49m\u001b[43mop_name\u001b[49m\u001b[43m,\u001b[49m\n\u001b[1;32m     54\u001b[0m \u001b[43m                                      \u001b[49m\u001b[43minputs\u001b[49m\u001b[43m,\u001b[49m\u001b[43m \u001b[49m\u001b[43mattrs\u001b[49m\u001b[43m,\u001b[49m\u001b[43m \u001b[49m\u001b[43mnum_outputs\u001b[49m\u001b[43m)\u001b[49m\n\u001b[1;32m     55\u001b[0m \u001b[38;5;28;01mexcept\u001b[39;00m core\u001b[38;5;241m.\u001b[39m_NotOkStatusException \u001b[38;5;28;01mas\u001b[39;00m e:\n\u001b[1;32m     56\u001b[0m   \u001b[38;5;28;01mif\u001b[39;00m name \u001b[38;5;129;01mis\u001b[39;00m \u001b[38;5;129;01mnot\u001b[39;00m \u001b[38;5;28;01mNone\u001b[39;00m:\n",
      "\u001b[0;31mKeyboardInterrupt\u001b[0m: "
     ]
    }
   ],
   "source": [
    "model = Sequential(name='Sequential')\n",
    "act_function = 'tanh'\n",
    "model.add(GRU(64, return_sequences=True, activation=act_function, input_shape=(130,1662)))\n",
    "model.add(GRU(64, return_sequences=False, activation=act_function))\n",
    "model.add(Dense(64, activation=act_function))\n",
    "model.add(Dense(50, activation=act_function))\n",
    "optimizer = Adagrad(learning_rate=.01)\n",
    "model.compile(optimizer=optimizer, loss='categorical_crossentropy', metrics=['categorical_accuracy'])\n",
    "\n",
    "history = model.fit(Xtrain, Ytrain, epochs=1000, validation_split=.2, batch_size = 64)\n",
    "model.summary()"
   ]
  },
  {
   "cell_type": "code",
   "execution_count": 57,
   "id": "b335502b",
   "metadata": {
    "ExecuteTime": {
     "end_time": "2023-08-07T21:56:51.582243Z",
     "start_time": "2023-08-07T21:56:18.508905Z"
    },
    "scrolled": true
   },
   "outputs": [
    {
     "name": "stdout",
     "output_type": "stream",
     "text": [
      "WARNING:tensorflow:Layer lstm_2 will not use cuDNN kernels since it doesn't meet the criteria. It will use a generic GPU kernel as fallback when running on GPU.\n",
      "WARNING:tensorflow:Layer gru_1 will not use cuDNN kernels since it doesn't meet the criteria. It will use a generic GPU kernel as fallback when running on GPU.\n",
      "WARNING:tensorflow:Layer lstm_3 will not use cuDNN kernels since it doesn't meet the criteria. It will use a generic GPU kernel as fallback when running on GPU.\n",
      "Epoch 1/1000\n",
      "21/21 [==============================] - 16s 566ms/step - loss: 3.9102 - categorical_accuracy: 0.0218 - val_loss: 3.9294 - val_categorical_accuracy: 0.0000e+00\n",
      "Epoch 2/1000\n",
      "21/21 [==============================] - 11s 541ms/step - loss: 3.9102 - categorical_accuracy: 0.0218 - val_loss: 3.9294 - val_categorical_accuracy: 0.0000e+00\n",
      "Epoch 3/1000\n",
      " 7/21 [=========>....................] - ETA: 7s - loss: 3.9032 - categorical_accuracy: 0.0223"
     ]
    },
    {
     "ename": "KeyboardInterrupt",
     "evalue": "",
     "output_type": "error",
     "traceback": [
      "\u001b[0;31m---------------------------------------------------------------------------\u001b[0m",
      "\u001b[0;31mKeyboardInterrupt\u001b[0m                         Traceback (most recent call last)",
      "Cell \u001b[0;32mIn[57], line 13\u001b[0m\n\u001b[1;32m     10\u001b[0m optimizer \u001b[38;5;241m=\u001b[39m SGD(learning_rate\u001b[38;5;241m=\u001b[39m\u001b[38;5;241m.0000005\u001b[39m)\n\u001b[1;32m     11\u001b[0m model\u001b[38;5;241m.\u001b[39mcompile(optimizer\u001b[38;5;241m=\u001b[39moptimizer, loss\u001b[38;5;241m=\u001b[39m\u001b[38;5;124m'\u001b[39m\u001b[38;5;124mcategorical_crossentropy\u001b[39m\u001b[38;5;124m'\u001b[39m, metrics\u001b[38;5;241m=\u001b[39m[\u001b[38;5;124m'\u001b[39m\u001b[38;5;124mcategorical_accuracy\u001b[39m\u001b[38;5;124m'\u001b[39m])\n\u001b[0;32m---> 13\u001b[0m history \u001b[38;5;241m=\u001b[39m \u001b[43mmodel\u001b[49m\u001b[38;5;241;43m.\u001b[39;49m\u001b[43mfit\u001b[49m\u001b[43m(\u001b[49m\u001b[43mXtrain\u001b[49m\u001b[43m,\u001b[49m\u001b[43m \u001b[49m\u001b[43mYtrain\u001b[49m\u001b[43m,\u001b[49m\u001b[43m \u001b[49m\u001b[43mepochs\u001b[49m\u001b[38;5;241;43m=\u001b[39;49m\u001b[38;5;241;43m1000\u001b[39;49m\u001b[43m,\u001b[49m\u001b[43m \u001b[49m\u001b[43mvalidation_split\u001b[49m\u001b[38;5;241;43m=\u001b[39;49m\u001b[38;5;241;43m.2\u001b[39;49m\u001b[43m,\u001b[49m\u001b[43m \u001b[49m\u001b[43mbatch_size\u001b[49m\u001b[43m \u001b[49m\u001b[38;5;241;43m=\u001b[39;49m\u001b[43m \u001b[49m\u001b[38;5;241;43m32\u001b[39;49m\u001b[43m,\u001b[49m\u001b[43m \u001b[49m\u001b[43mcallbacks\u001b[49m\u001b[38;5;241;43m=\u001b[39;49m\u001b[43m[\u001b[49m\u001b[43mtb_callback\u001b[49m\u001b[43m]\u001b[49m\u001b[43m)\u001b[49m\n\u001b[1;32m     14\u001b[0m model\u001b[38;5;241m.\u001b[39msummary()\n",
      "File \u001b[0;32m~/miniconda3/lib/python3.10/site-packages/keras/src/utils/traceback_utils.py:65\u001b[0m, in \u001b[0;36mfilter_traceback.<locals>.error_handler\u001b[0;34m(*args, **kwargs)\u001b[0m\n\u001b[1;32m     63\u001b[0m filtered_tb \u001b[38;5;241m=\u001b[39m \u001b[38;5;28;01mNone\u001b[39;00m\n\u001b[1;32m     64\u001b[0m \u001b[38;5;28;01mtry\u001b[39;00m:\n\u001b[0;32m---> 65\u001b[0m     \u001b[38;5;28;01mreturn\u001b[39;00m \u001b[43mfn\u001b[49m\u001b[43m(\u001b[49m\u001b[38;5;241;43m*\u001b[39;49m\u001b[43margs\u001b[49m\u001b[43m,\u001b[49m\u001b[43m \u001b[49m\u001b[38;5;241;43m*\u001b[39;49m\u001b[38;5;241;43m*\u001b[39;49m\u001b[43mkwargs\u001b[49m\u001b[43m)\u001b[49m\n\u001b[1;32m     66\u001b[0m \u001b[38;5;28;01mexcept\u001b[39;00m \u001b[38;5;167;01mException\u001b[39;00m \u001b[38;5;28;01mas\u001b[39;00m e:\n\u001b[1;32m     67\u001b[0m     filtered_tb \u001b[38;5;241m=\u001b[39m _process_traceback_frames(e\u001b[38;5;241m.\u001b[39m__traceback__)\n",
      "File \u001b[0;32m~/miniconda3/lib/python3.10/site-packages/keras/src/engine/training.py:1742\u001b[0m, in \u001b[0;36mModel.fit\u001b[0;34m(self, x, y, batch_size, epochs, verbose, callbacks, validation_split, validation_data, shuffle, class_weight, sample_weight, initial_epoch, steps_per_epoch, validation_steps, validation_batch_size, validation_freq, max_queue_size, workers, use_multiprocessing)\u001b[0m\n\u001b[1;32m   1734\u001b[0m \u001b[38;5;28;01mwith\u001b[39;00m tf\u001b[38;5;241m.\u001b[39mprofiler\u001b[38;5;241m.\u001b[39mexperimental\u001b[38;5;241m.\u001b[39mTrace(\n\u001b[1;32m   1735\u001b[0m     \u001b[38;5;124m\"\u001b[39m\u001b[38;5;124mtrain\u001b[39m\u001b[38;5;124m\"\u001b[39m,\n\u001b[1;32m   1736\u001b[0m     epoch_num\u001b[38;5;241m=\u001b[39mepoch,\n\u001b[0;32m   (...)\u001b[0m\n\u001b[1;32m   1739\u001b[0m     _r\u001b[38;5;241m=\u001b[39m\u001b[38;5;241m1\u001b[39m,\n\u001b[1;32m   1740\u001b[0m ):\n\u001b[1;32m   1741\u001b[0m     callbacks\u001b[38;5;241m.\u001b[39mon_train_batch_begin(step)\n\u001b[0;32m-> 1742\u001b[0m     tmp_logs \u001b[38;5;241m=\u001b[39m \u001b[38;5;28;43mself\u001b[39;49m\u001b[38;5;241;43m.\u001b[39;49m\u001b[43mtrain_function\u001b[49m\u001b[43m(\u001b[49m\u001b[43miterator\u001b[49m\u001b[43m)\u001b[49m\n\u001b[1;32m   1743\u001b[0m     \u001b[38;5;28;01mif\u001b[39;00m data_handler\u001b[38;5;241m.\u001b[39mshould_sync:\n\u001b[1;32m   1744\u001b[0m         context\u001b[38;5;241m.\u001b[39masync_wait()\n",
      "File \u001b[0;32m~/miniconda3/lib/python3.10/site-packages/tensorflow/python/util/traceback_utils.py:150\u001b[0m, in \u001b[0;36mfilter_traceback.<locals>.error_handler\u001b[0;34m(*args, **kwargs)\u001b[0m\n\u001b[1;32m    148\u001b[0m filtered_tb \u001b[38;5;241m=\u001b[39m \u001b[38;5;28;01mNone\u001b[39;00m\n\u001b[1;32m    149\u001b[0m \u001b[38;5;28;01mtry\u001b[39;00m:\n\u001b[0;32m--> 150\u001b[0m   \u001b[38;5;28;01mreturn\u001b[39;00m \u001b[43mfn\u001b[49m\u001b[43m(\u001b[49m\u001b[38;5;241;43m*\u001b[39;49m\u001b[43margs\u001b[49m\u001b[43m,\u001b[49m\u001b[43m \u001b[49m\u001b[38;5;241;43m*\u001b[39;49m\u001b[38;5;241;43m*\u001b[39;49m\u001b[43mkwargs\u001b[49m\u001b[43m)\u001b[49m\n\u001b[1;32m    151\u001b[0m \u001b[38;5;28;01mexcept\u001b[39;00m \u001b[38;5;167;01mException\u001b[39;00m \u001b[38;5;28;01mas\u001b[39;00m e:\n\u001b[1;32m    152\u001b[0m   filtered_tb \u001b[38;5;241m=\u001b[39m _process_traceback_frames(e\u001b[38;5;241m.\u001b[39m__traceback__)\n",
      "File \u001b[0;32m~/miniconda3/lib/python3.10/site-packages/tensorflow/python/eager/polymorphic_function/polymorphic_function.py:825\u001b[0m, in \u001b[0;36mFunction.__call__\u001b[0;34m(self, *args, **kwds)\u001b[0m\n\u001b[1;32m    822\u001b[0m compiler \u001b[38;5;241m=\u001b[39m \u001b[38;5;124m\"\u001b[39m\u001b[38;5;124mxla\u001b[39m\u001b[38;5;124m\"\u001b[39m \u001b[38;5;28;01mif\u001b[39;00m \u001b[38;5;28mself\u001b[39m\u001b[38;5;241m.\u001b[39m_jit_compile \u001b[38;5;28;01melse\u001b[39;00m \u001b[38;5;124m\"\u001b[39m\u001b[38;5;124mnonXla\u001b[39m\u001b[38;5;124m\"\u001b[39m\n\u001b[1;32m    824\u001b[0m \u001b[38;5;28;01mwith\u001b[39;00m OptionalXlaContext(\u001b[38;5;28mself\u001b[39m\u001b[38;5;241m.\u001b[39m_jit_compile):\n\u001b[0;32m--> 825\u001b[0m   result \u001b[38;5;241m=\u001b[39m \u001b[38;5;28;43mself\u001b[39;49m\u001b[38;5;241;43m.\u001b[39;49m\u001b[43m_call\u001b[49m\u001b[43m(\u001b[49m\u001b[38;5;241;43m*\u001b[39;49m\u001b[43margs\u001b[49m\u001b[43m,\u001b[49m\u001b[43m \u001b[49m\u001b[38;5;241;43m*\u001b[39;49m\u001b[38;5;241;43m*\u001b[39;49m\u001b[43mkwds\u001b[49m\u001b[43m)\u001b[49m\n\u001b[1;32m    827\u001b[0m new_tracing_count \u001b[38;5;241m=\u001b[39m \u001b[38;5;28mself\u001b[39m\u001b[38;5;241m.\u001b[39mexperimental_get_tracing_count()\n\u001b[1;32m    828\u001b[0m without_tracing \u001b[38;5;241m=\u001b[39m (tracing_count \u001b[38;5;241m==\u001b[39m new_tracing_count)\n",
      "File \u001b[0;32m~/miniconda3/lib/python3.10/site-packages/tensorflow/python/eager/polymorphic_function/polymorphic_function.py:857\u001b[0m, in \u001b[0;36mFunction._call\u001b[0;34m(self, *args, **kwds)\u001b[0m\n\u001b[1;32m    854\u001b[0m   \u001b[38;5;28mself\u001b[39m\u001b[38;5;241m.\u001b[39m_lock\u001b[38;5;241m.\u001b[39mrelease()\n\u001b[1;32m    855\u001b[0m   \u001b[38;5;66;03m# In this case we have created variables on the first call, so we run the\u001b[39;00m\n\u001b[1;32m    856\u001b[0m   \u001b[38;5;66;03m# defunned version which is guaranteed to never create variables.\u001b[39;00m\n\u001b[0;32m--> 857\u001b[0m   \u001b[38;5;28;01mreturn\u001b[39;00m \u001b[38;5;28;43mself\u001b[39;49m\u001b[38;5;241;43m.\u001b[39;49m\u001b[43m_no_variable_creation_fn\u001b[49m\u001b[43m(\u001b[49m\u001b[38;5;241;43m*\u001b[39;49m\u001b[43margs\u001b[49m\u001b[43m,\u001b[49m\u001b[43m \u001b[49m\u001b[38;5;241;43m*\u001b[39;49m\u001b[38;5;241;43m*\u001b[39;49m\u001b[43mkwds\u001b[49m\u001b[43m)\u001b[49m  \u001b[38;5;66;03m# pylint: disable=not-callable\u001b[39;00m\n\u001b[1;32m    858\u001b[0m \u001b[38;5;28;01melif\u001b[39;00m \u001b[38;5;28mself\u001b[39m\u001b[38;5;241m.\u001b[39m_variable_creation_fn \u001b[38;5;129;01mis\u001b[39;00m \u001b[38;5;129;01mnot\u001b[39;00m \u001b[38;5;28;01mNone\u001b[39;00m:\n\u001b[1;32m    859\u001b[0m   \u001b[38;5;66;03m# Release the lock early so that multiple threads can perform the call\u001b[39;00m\n\u001b[1;32m    860\u001b[0m   \u001b[38;5;66;03m# in parallel.\u001b[39;00m\n\u001b[1;32m    861\u001b[0m   \u001b[38;5;28mself\u001b[39m\u001b[38;5;241m.\u001b[39m_lock\u001b[38;5;241m.\u001b[39mrelease()\n",
      "File \u001b[0;32m~/miniconda3/lib/python3.10/site-packages/tensorflow/python/eager/polymorphic_function/tracing_compiler.py:148\u001b[0m, in \u001b[0;36mTracingCompiler.__call__\u001b[0;34m(self, *args, **kwargs)\u001b[0m\n\u001b[1;32m    145\u001b[0m \u001b[38;5;28;01mwith\u001b[39;00m \u001b[38;5;28mself\u001b[39m\u001b[38;5;241m.\u001b[39m_lock:\n\u001b[1;32m    146\u001b[0m   (concrete_function,\n\u001b[1;32m    147\u001b[0m    filtered_flat_args) \u001b[38;5;241m=\u001b[39m \u001b[38;5;28mself\u001b[39m\u001b[38;5;241m.\u001b[39m_maybe_define_function(args, kwargs)\n\u001b[0;32m--> 148\u001b[0m \u001b[38;5;28;01mreturn\u001b[39;00m \u001b[43mconcrete_function\u001b[49m\u001b[38;5;241;43m.\u001b[39;49m\u001b[43m_call_flat\u001b[49m\u001b[43m(\u001b[49m\n\u001b[1;32m    149\u001b[0m \u001b[43m    \u001b[49m\u001b[43mfiltered_flat_args\u001b[49m\u001b[43m,\u001b[49m\u001b[43m \u001b[49m\u001b[43mcaptured_inputs\u001b[49m\u001b[38;5;241;43m=\u001b[39;49m\u001b[43mconcrete_function\u001b[49m\u001b[38;5;241;43m.\u001b[39;49m\u001b[43mcaptured_inputs\u001b[49m\u001b[43m)\u001b[49m\n",
      "File \u001b[0;32m~/miniconda3/lib/python3.10/site-packages/tensorflow/python/eager/polymorphic_function/monomorphic_function.py:1349\u001b[0m, in \u001b[0;36mConcreteFunction._call_flat\u001b[0;34m(self, args, captured_inputs)\u001b[0m\n\u001b[1;32m   1345\u001b[0m possible_gradient_type \u001b[38;5;241m=\u001b[39m gradients_util\u001b[38;5;241m.\u001b[39mPossibleTapeGradientTypes(args)\n\u001b[1;32m   1346\u001b[0m \u001b[38;5;28;01mif\u001b[39;00m (possible_gradient_type \u001b[38;5;241m==\u001b[39m gradients_util\u001b[38;5;241m.\u001b[39mPOSSIBLE_GRADIENT_TYPES_NONE\n\u001b[1;32m   1347\u001b[0m     \u001b[38;5;129;01mand\u001b[39;00m executing_eagerly):\n\u001b[1;32m   1348\u001b[0m   \u001b[38;5;66;03m# No tape is watching; skip to running the function.\u001b[39;00m\n\u001b[0;32m-> 1349\u001b[0m   \u001b[38;5;28;01mreturn\u001b[39;00m \u001b[38;5;28mself\u001b[39m\u001b[38;5;241m.\u001b[39m_build_call_outputs(\u001b[38;5;28;43mself\u001b[39;49m\u001b[38;5;241;43m.\u001b[39;49m\u001b[43m_inference_function\u001b[49m\u001b[43m(\u001b[49m\u001b[38;5;241;43m*\u001b[39;49m\u001b[43margs\u001b[49m\u001b[43m)\u001b[49m)\n\u001b[1;32m   1350\u001b[0m forward_backward \u001b[38;5;241m=\u001b[39m \u001b[38;5;28mself\u001b[39m\u001b[38;5;241m.\u001b[39m_select_forward_and_backward_functions(\n\u001b[1;32m   1351\u001b[0m     args,\n\u001b[1;32m   1352\u001b[0m     possible_gradient_type,\n\u001b[1;32m   1353\u001b[0m     executing_eagerly)\n\u001b[1;32m   1354\u001b[0m forward_function, args_with_tangents \u001b[38;5;241m=\u001b[39m forward_backward\u001b[38;5;241m.\u001b[39mforward()\n",
      "File \u001b[0;32m~/miniconda3/lib/python3.10/site-packages/tensorflow/python/eager/polymorphic_function/atomic_function.py:196\u001b[0m, in \u001b[0;36mAtomicFunction.__call__\u001b[0;34m(self, *args)\u001b[0m\n\u001b[1;32m    194\u001b[0m \u001b[38;5;28;01mwith\u001b[39;00m record\u001b[38;5;241m.\u001b[39mstop_recording():\n\u001b[1;32m    195\u001b[0m   \u001b[38;5;28;01mif\u001b[39;00m \u001b[38;5;28mself\u001b[39m\u001b[38;5;241m.\u001b[39m_bound_context\u001b[38;5;241m.\u001b[39mexecuting_eagerly():\n\u001b[0;32m--> 196\u001b[0m     outputs \u001b[38;5;241m=\u001b[39m \u001b[38;5;28;43mself\u001b[39;49m\u001b[38;5;241;43m.\u001b[39;49m\u001b[43m_bound_context\u001b[49m\u001b[38;5;241;43m.\u001b[39;49m\u001b[43mcall_function\u001b[49m\u001b[43m(\u001b[49m\n\u001b[1;32m    197\u001b[0m \u001b[43m        \u001b[49m\u001b[38;5;28;43mself\u001b[39;49m\u001b[38;5;241;43m.\u001b[39;49m\u001b[43mname\u001b[49m\u001b[43m,\u001b[49m\n\u001b[1;32m    198\u001b[0m \u001b[43m        \u001b[49m\u001b[38;5;28;43mlist\u001b[39;49m\u001b[43m(\u001b[49m\u001b[43margs\u001b[49m\u001b[43m)\u001b[49m\u001b[43m,\u001b[49m\n\u001b[1;32m    199\u001b[0m \u001b[43m        \u001b[49m\u001b[38;5;28;43mlen\u001b[39;49m\u001b[43m(\u001b[49m\u001b[38;5;28;43mself\u001b[39;49m\u001b[38;5;241;43m.\u001b[39;49m\u001b[43mfunction_type\u001b[49m\u001b[38;5;241;43m.\u001b[39;49m\u001b[43mflat_outputs\u001b[49m\u001b[43m)\u001b[49m\u001b[43m,\u001b[49m\n\u001b[1;32m    200\u001b[0m \u001b[43m    \u001b[49m\u001b[43m)\u001b[49m\n\u001b[1;32m    201\u001b[0m   \u001b[38;5;28;01melse\u001b[39;00m:\n\u001b[1;32m    202\u001b[0m     outputs \u001b[38;5;241m=\u001b[39m make_call_op_in_graph(\u001b[38;5;28mself\u001b[39m, \u001b[38;5;28mlist\u001b[39m(args))\n",
      "File \u001b[0;32m~/miniconda3/lib/python3.10/site-packages/tensorflow/python/eager/context.py:1457\u001b[0m, in \u001b[0;36mContext.call_function\u001b[0;34m(self, name, tensor_inputs, num_outputs)\u001b[0m\n\u001b[1;32m   1455\u001b[0m cancellation_context \u001b[38;5;241m=\u001b[39m cancellation\u001b[38;5;241m.\u001b[39mcontext()\n\u001b[1;32m   1456\u001b[0m \u001b[38;5;28;01mif\u001b[39;00m cancellation_context \u001b[38;5;129;01mis\u001b[39;00m \u001b[38;5;28;01mNone\u001b[39;00m:\n\u001b[0;32m-> 1457\u001b[0m   outputs \u001b[38;5;241m=\u001b[39m \u001b[43mexecute\u001b[49m\u001b[38;5;241;43m.\u001b[39;49m\u001b[43mexecute\u001b[49m\u001b[43m(\u001b[49m\n\u001b[1;32m   1458\u001b[0m \u001b[43m      \u001b[49m\u001b[43mname\u001b[49m\u001b[38;5;241;43m.\u001b[39;49m\u001b[43mdecode\u001b[49m\u001b[43m(\u001b[49m\u001b[38;5;124;43m\"\u001b[39;49m\u001b[38;5;124;43mutf-8\u001b[39;49m\u001b[38;5;124;43m\"\u001b[39;49m\u001b[43m)\u001b[49m\u001b[43m,\u001b[49m\n\u001b[1;32m   1459\u001b[0m \u001b[43m      \u001b[49m\u001b[43mnum_outputs\u001b[49m\u001b[38;5;241;43m=\u001b[39;49m\u001b[43mnum_outputs\u001b[49m\u001b[43m,\u001b[49m\n\u001b[1;32m   1460\u001b[0m \u001b[43m      \u001b[49m\u001b[43minputs\u001b[49m\u001b[38;5;241;43m=\u001b[39;49m\u001b[43mtensor_inputs\u001b[49m\u001b[43m,\u001b[49m\n\u001b[1;32m   1461\u001b[0m \u001b[43m      \u001b[49m\u001b[43mattrs\u001b[49m\u001b[38;5;241;43m=\u001b[39;49m\u001b[43mattrs\u001b[49m\u001b[43m,\u001b[49m\n\u001b[1;32m   1462\u001b[0m \u001b[43m      \u001b[49m\u001b[43mctx\u001b[49m\u001b[38;5;241;43m=\u001b[39;49m\u001b[38;5;28;43mself\u001b[39;49m\u001b[43m,\u001b[49m\n\u001b[1;32m   1463\u001b[0m \u001b[43m  \u001b[49m\u001b[43m)\u001b[49m\n\u001b[1;32m   1464\u001b[0m \u001b[38;5;28;01melse\u001b[39;00m:\n\u001b[1;32m   1465\u001b[0m   outputs \u001b[38;5;241m=\u001b[39m execute\u001b[38;5;241m.\u001b[39mexecute_with_cancellation(\n\u001b[1;32m   1466\u001b[0m       name\u001b[38;5;241m.\u001b[39mdecode(\u001b[38;5;124m\"\u001b[39m\u001b[38;5;124mutf-8\u001b[39m\u001b[38;5;124m\"\u001b[39m),\n\u001b[1;32m   1467\u001b[0m       num_outputs\u001b[38;5;241m=\u001b[39mnum_outputs,\n\u001b[0;32m   (...)\u001b[0m\n\u001b[1;32m   1471\u001b[0m       cancellation_manager\u001b[38;5;241m=\u001b[39mcancellation_context,\n\u001b[1;32m   1472\u001b[0m   )\n",
      "File \u001b[0;32m~/miniconda3/lib/python3.10/site-packages/tensorflow/python/eager/execute.py:53\u001b[0m, in \u001b[0;36mquick_execute\u001b[0;34m(op_name, num_outputs, inputs, attrs, ctx, name)\u001b[0m\n\u001b[1;32m     51\u001b[0m \u001b[38;5;28;01mtry\u001b[39;00m:\n\u001b[1;32m     52\u001b[0m   ctx\u001b[38;5;241m.\u001b[39mensure_initialized()\n\u001b[0;32m---> 53\u001b[0m   tensors \u001b[38;5;241m=\u001b[39m \u001b[43mpywrap_tfe\u001b[49m\u001b[38;5;241;43m.\u001b[39;49m\u001b[43mTFE_Py_Execute\u001b[49m\u001b[43m(\u001b[49m\u001b[43mctx\u001b[49m\u001b[38;5;241;43m.\u001b[39;49m\u001b[43m_handle\u001b[49m\u001b[43m,\u001b[49m\u001b[43m \u001b[49m\u001b[43mdevice_name\u001b[49m\u001b[43m,\u001b[49m\u001b[43m \u001b[49m\u001b[43mop_name\u001b[49m\u001b[43m,\u001b[49m\n\u001b[1;32m     54\u001b[0m \u001b[43m                                      \u001b[49m\u001b[43minputs\u001b[49m\u001b[43m,\u001b[49m\u001b[43m \u001b[49m\u001b[43mattrs\u001b[49m\u001b[43m,\u001b[49m\u001b[43m \u001b[49m\u001b[43mnum_outputs\u001b[49m\u001b[43m)\u001b[49m\n\u001b[1;32m     55\u001b[0m \u001b[38;5;28;01mexcept\u001b[39;00m core\u001b[38;5;241m.\u001b[39m_NotOkStatusException \u001b[38;5;28;01mas\u001b[39;00m e:\n\u001b[1;32m     56\u001b[0m   \u001b[38;5;28;01mif\u001b[39;00m name \u001b[38;5;129;01mis\u001b[39;00m \u001b[38;5;129;01mnot\u001b[39;00m \u001b[38;5;28;01mNone\u001b[39;00m:\n",
      "\u001b[0;31mKeyboardInterrupt\u001b[0m: "
     ]
    }
   ],
   "source": [
    "model = Sequential()\n",
    "\n",
    "act_function = 'LeakyReLU'\n",
    "model.add(LSTM(64, return_sequences=True, activation=act_function, input_shape=(130,1662)))\n",
    "model.add(GRU(128, return_sequences=True, activation=act_function))\n",
    "model.add(LSTM(64, return_sequences=False, activation=act_function))\n",
    "model.add(Dense(64, activation=act_function))\n",
    "model.add(Dense(32, activation=act_function))\n",
    "model.add(Dense(50, activation='softmax'))\n",
    "optimizer = SGD(learning_rate=.0000005)\n",
    "model.compile(optimizer=optimizer, loss='categorical_crossentropy', metrics=['categorical_accuracy'])\n",
    "\n",
    "history = model.fit(Xtrain, Ytrain, epochs=1000, validation_split=.2, batch_size = 32, callbacks=[tb_callback])\n",
    "model.summary()"
   ]
  },
  {
   "cell_type": "code",
   "execution_count": 41,
   "id": "1c679311",
   "metadata": {
    "ExecuteTime": {
     "end_time": "2023-08-07T22:34:57.355376Z",
     "start_time": "2023-08-07T22:26:10.505974Z"
    },
    "scrolled": true
   },
   "outputs": [
    {
     "name": "stdout",
     "output_type": "stream",
     "text": [
      "WARNING:tensorflow:Layer gru_2 will not use cuDNN kernels since it doesn't meet the criteria. It will use a generic GPU kernel as fallback when running on GPU.\n",
      "Epoch 1/1000\n"
     ]
    },
    {
     "name": "stderr",
     "output_type": "stream",
     "text": [
      "2023-08-07 23:26:13.531247: I tensorflow/compiler/mlir/tensorflow/utils/dump_mlir_util.cc:255] disabling MLIR crash reproducer, set env var `MLIR_CRASH_REPRODUCER_DIRECTORY` to enable.\n"
     ]
    },
    {
     "name": "stdout",
     "output_type": "stream",
     "text": [
      "21/21 [==============================] - 7s 260ms/step - loss: 3.9072 - categorical_accuracy: 0.0249 - val_loss: 4.4004 - val_categorical_accuracy: 0.0000e+00\n",
      "Epoch 2/1000\n",
      "21/21 [==============================] - 4s 200ms/step - loss: 3.8445 - categorical_accuracy: 0.0280 - val_loss: 5.2406 - val_categorical_accuracy: 0.0000e+00\n",
      "Epoch 3/1000\n",
      "21/21 [==============================] - 4s 210ms/step - loss: 3.7973 - categorical_accuracy: 0.0311 - val_loss: 5.7973 - val_categorical_accuracy: 0.0000e+00\n",
      "Epoch 4/1000\n",
      "21/21 [==============================] - 4s 205ms/step - loss: 3.7802 - categorical_accuracy: 0.0280 - val_loss: 6.3050 - val_categorical_accuracy: 0.0000e+00\n",
      "Epoch 5/1000\n",
      "21/21 [==============================] - 4s 211ms/step - loss: 3.7318 - categorical_accuracy: 0.0311 - val_loss: 6.7130 - val_categorical_accuracy: 0.0000e+00\n",
      "Epoch 6/1000\n",
      "21/21 [==============================] - 4s 212ms/step - loss: 3.7243 - categorical_accuracy: 0.0358 - val_loss: 6.5412 - val_categorical_accuracy: 0.0000e+00\n",
      "Epoch 7/1000\n",
      "21/21 [==============================] - 4s 214ms/step - loss: 3.7003 - categorical_accuracy: 0.0373 - val_loss: 7.0272 - val_categorical_accuracy: 0.0000e+00\n",
      "Epoch 8/1000\n",
      "21/21 [==============================] - 5s 216ms/step - loss: 3.6761 - categorical_accuracy: 0.0404 - val_loss: 7.8921 - val_categorical_accuracy: 0.0000e+00\n",
      "Epoch 9/1000\n",
      "21/21 [==============================] - 5s 215ms/step - loss: 3.6558 - categorical_accuracy: 0.0467 - val_loss: 7.6433 - val_categorical_accuracy: 0.0000e+00\n",
      "Epoch 10/1000\n",
      "21/21 [==============================] - 5s 217ms/step - loss: 3.6031 - categorical_accuracy: 0.0560 - val_loss: 7.9050 - val_categorical_accuracy: 0.0000e+00\n",
      "Epoch 11/1000\n",
      "21/21 [==============================] - 5s 220ms/step - loss: 3.5875 - categorical_accuracy: 0.0715 - val_loss: 8.0933 - val_categorical_accuracy: 0.0000e+00\n",
      "Epoch 12/1000\n",
      "21/21 [==============================] - 5s 219ms/step - loss: 3.5519 - categorical_accuracy: 0.0638 - val_loss: 8.5692 - val_categorical_accuracy: 0.0000e+00\n",
      "Epoch 13/1000\n",
      "21/21 [==============================] - 5s 220ms/step - loss: 3.5135 - categorical_accuracy: 0.0762 - val_loss: 8.9272 - val_categorical_accuracy: 0.0000e+00\n",
      "Epoch 14/1000\n",
      "21/21 [==============================] - 5s 222ms/step - loss: 3.4838 - categorical_accuracy: 0.0731 - val_loss: 8.4728 - val_categorical_accuracy: 0.0000e+00\n",
      "Epoch 15/1000\n",
      "21/21 [==============================] - 5s 219ms/step - loss: 3.4659 - categorical_accuracy: 0.0622 - val_loss: 9.5863 - val_categorical_accuracy: 0.0000e+00\n",
      "Epoch 16/1000\n",
      "21/21 [==============================] - 5s 225ms/step - loss: 3.4314 - categorical_accuracy: 0.0824 - val_loss: 9.9956 - val_categorical_accuracy: 0.0000e+00\n",
      "Epoch 17/1000\n",
      "21/21 [==============================] - 5s 230ms/step - loss: 3.4006 - categorical_accuracy: 0.0793 - val_loss: 8.9388 - val_categorical_accuracy: 0.0000e+00\n",
      "Epoch 18/1000\n",
      "21/21 [==============================] - 5s 236ms/step - loss: 3.3683 - categorical_accuracy: 0.0980 - val_loss: 9.7315 - val_categorical_accuracy: 0.0000e+00\n",
      "Epoch 19/1000\n",
      "21/21 [==============================] - 5s 226ms/step - loss: 3.3504 - categorical_accuracy: 0.1011 - val_loss: 10.2606 - val_categorical_accuracy: 0.0000e+00\n",
      "Epoch 20/1000\n",
      "21/21 [==============================] - 5s 229ms/step - loss: 3.3065 - categorical_accuracy: 0.1042 - val_loss: 11.6430 - val_categorical_accuracy: 0.0000e+00\n",
      "Epoch 21/1000\n",
      "21/21 [==============================] - 6s 279ms/step - loss: 3.2785 - categorical_accuracy: 0.1135 - val_loss: 11.0480 - val_categorical_accuracy: 0.0000e+00\n",
      "Epoch 22/1000\n",
      "21/21 [==============================] - 5s 249ms/step - loss: 3.2421 - categorical_accuracy: 0.1182 - val_loss: 11.4047 - val_categorical_accuracy: 0.0000e+00\n",
      "Epoch 23/1000\n",
      "21/21 [==============================] - 5s 250ms/step - loss: 3.2248 - categorical_accuracy: 0.1198 - val_loss: 12.6930 - val_categorical_accuracy: 0.0000e+00\n",
      "Epoch 24/1000\n",
      "21/21 [==============================] - 5s 230ms/step - loss: 3.1880 - categorical_accuracy: 0.1166 - val_loss: 12.8365 - val_categorical_accuracy: 0.0000e+00\n",
      "Epoch 25/1000\n",
      "21/21 [==============================] - 5s 227ms/step - loss: 3.1384 - categorical_accuracy: 0.1353 - val_loss: 13.6448 - val_categorical_accuracy: 0.0000e+00\n",
      "Epoch 26/1000\n",
      "21/21 [==============================] - 5s 232ms/step - loss: 3.1092 - categorical_accuracy: 0.1384 - val_loss: 13.8340 - val_categorical_accuracy: 0.0000e+00\n",
      "Epoch 27/1000\n",
      "21/21 [==============================] - 5s 231ms/step - loss: 3.0597 - categorical_accuracy: 0.1524 - val_loss: 14.3220 - val_categorical_accuracy: 0.0000e+00\n",
      "Epoch 28/1000\n",
      "21/21 [==============================] - 5s 228ms/step - loss: 3.0181 - categorical_accuracy: 0.1742 - val_loss: 14.8347 - val_categorical_accuracy: 0.0000e+00\n",
      "Epoch 29/1000\n",
      "21/21 [==============================] - 5s 228ms/step - loss: 2.9718 - categorical_accuracy: 0.1835 - val_loss: 15.9078 - val_categorical_accuracy: 0.0000e+00\n",
      "Epoch 30/1000\n",
      "21/21 [==============================] - 5s 239ms/step - loss: 2.9288 - categorical_accuracy: 0.1928 - val_loss: 16.7567 - val_categorical_accuracy: 0.0000e+00\n",
      "Epoch 31/1000\n",
      "21/21 [==============================] - 5s 227ms/step - loss: 2.8644 - categorical_accuracy: 0.2022 - val_loss: 17.3261 - val_categorical_accuracy: 0.0000e+00\n",
      "Epoch 32/1000\n",
      "21/21 [==============================] - 5s 230ms/step - loss: 2.8143 - categorical_accuracy: 0.2177 - val_loss: 17.2927 - val_categorical_accuracy: 0.0000e+00\n",
      "Epoch 33/1000\n",
      "21/21 [==============================] - 5s 230ms/step - loss: 2.8052 - categorical_accuracy: 0.2240 - val_loss: 18.3649 - val_categorical_accuracy: 0.0000e+00\n",
      "Epoch 34/1000\n",
      "21/21 [==============================] - 5s 233ms/step - loss: 2.7561 - categorical_accuracy: 0.2240 - val_loss: 20.3722 - val_categorical_accuracy: 0.0000e+00\n",
      "Epoch 35/1000\n",
      "21/21 [==============================] - 5s 229ms/step - loss: 2.7309 - categorical_accuracy: 0.2426 - val_loss: 21.8044 - val_categorical_accuracy: 0.0000e+00\n",
      "Epoch 36/1000\n",
      "21/21 [==============================] - 5s 231ms/step - loss: 2.6520 - categorical_accuracy: 0.2535 - val_loss: 22.5094 - val_categorical_accuracy: 0.0000e+00\n",
      "Epoch 37/1000\n",
      "21/21 [==============================] - 5s 233ms/step - loss: 2.6198 - categorical_accuracy: 0.2893 - val_loss: 20.5283 - val_categorical_accuracy: 0.0000e+00\n",
      "Epoch 38/1000\n",
      "21/21 [==============================] - 5s 229ms/step - loss: 2.5713 - categorical_accuracy: 0.2784 - val_loss: 22.8186 - val_categorical_accuracy: 0.0000e+00\n",
      "Epoch 39/1000\n",
      "21/21 [==============================] - 5s 229ms/step - loss: 2.4859 - categorical_accuracy: 0.3095 - val_loss: 24.3406 - val_categorical_accuracy: 0.0000e+00\n",
      "Epoch 40/1000\n",
      "21/21 [==============================] - 5s 235ms/step - loss: 2.4648 - categorical_accuracy: 0.2877 - val_loss: 25.1903 - val_categorical_accuracy: 0.0000e+00\n",
      "Epoch 41/1000\n",
      "21/21 [==============================] - 5s 234ms/step - loss: 2.4018 - categorical_accuracy: 0.3173 - val_loss: 25.5593 - val_categorical_accuracy: 0.0000e+00\n",
      "Epoch 42/1000\n",
      "21/21 [==============================] - 5s 237ms/step - loss: 2.3565 - categorical_accuracy: 0.3328 - val_loss: 25.5580 - val_categorical_accuracy: 0.0000e+00\n",
      "Epoch 43/1000\n",
      "21/21 [==============================] - 5s 232ms/step - loss: 2.2461 - categorical_accuracy: 0.3639 - val_loss: 28.1050 - val_categorical_accuracy: 0.0000e+00\n",
      "Epoch 44/1000\n",
      "21/21 [==============================] - 5s 233ms/step - loss: 2.1999 - categorical_accuracy: 0.3639 - val_loss: 29.7611 - val_categorical_accuracy: 0.0000e+00\n",
      "Epoch 45/1000\n",
      "21/21 [==============================] - 5s 231ms/step - loss: 2.1242 - categorical_accuracy: 0.4137 - val_loss: 28.1522 - val_categorical_accuracy: 0.0000e+00\n",
      "Epoch 46/1000\n",
      "21/21 [==============================] - 5s 232ms/step - loss: 2.0813 - categorical_accuracy: 0.3888 - val_loss: 31.9677 - val_categorical_accuracy: 0.0000e+00\n",
      "Epoch 47/1000\n",
      "21/21 [==============================] - 5s 231ms/step - loss: 2.0056 - categorical_accuracy: 0.4230 - val_loss: 32.7196 - val_categorical_accuracy: 0.0000e+00\n",
      "Epoch 48/1000\n"
     ]
    },
    {
     "name": "stdout",
     "output_type": "stream",
     "text": [
      "21/21 [==============================] - 5s 231ms/step - loss: 1.9802 - categorical_accuracy: 0.4277 - val_loss: 35.2716 - val_categorical_accuracy: 0.0000e+00\n",
      "Epoch 49/1000\n",
      "21/21 [==============================] - 5s 232ms/step - loss: 1.9189 - categorical_accuracy: 0.4526 - val_loss: 35.2482 - val_categorical_accuracy: 0.0000e+00\n",
      "Epoch 50/1000\n",
      "21/21 [==============================] - 5s 230ms/step - loss: 1.8469 - categorical_accuracy: 0.4650 - val_loss: 37.3292 - val_categorical_accuracy: 0.0000e+00\n",
      "Epoch 51/1000\n",
      "21/21 [==============================] - 5s 235ms/step - loss: 1.8254 - categorical_accuracy: 0.4541 - val_loss: 39.3376 - val_categorical_accuracy: 0.0000e+00\n",
      "Epoch 52/1000\n",
      "21/21 [==============================] - 5s 228ms/step - loss: 1.7407 - categorical_accuracy: 0.4914 - val_loss: 38.7546 - val_categorical_accuracy: 0.0000e+00\n",
      "Epoch 53/1000\n",
      "21/21 [==============================] - 5s 232ms/step - loss: 1.6727 - categorical_accuracy: 0.5163 - val_loss: 41.2606 - val_categorical_accuracy: 0.0000e+00\n",
      "Epoch 54/1000\n",
      "21/21 [==============================] - 5s 239ms/step - loss: 1.6622 - categorical_accuracy: 0.5117 - val_loss: 42.7785 - val_categorical_accuracy: 0.0000e+00\n",
      "Epoch 55/1000\n",
      "21/21 [==============================] - 6s 297ms/step - loss: 1.5614 - categorical_accuracy: 0.5397 - val_loss: 45.2310 - val_categorical_accuracy: 0.0000e+00\n",
      "Epoch 56/1000\n",
      "21/21 [==============================] - 5s 230ms/step - loss: 1.5345 - categorical_accuracy: 0.5459 - val_loss: 46.7847 - val_categorical_accuracy: 0.0000e+00\n",
      "Epoch 57/1000\n",
      "21/21 [==============================] - 5s 230ms/step - loss: 1.5232 - categorical_accuracy: 0.5568 - val_loss: 47.1653 - val_categorical_accuracy: 0.0000e+00\n",
      "Epoch 58/1000\n",
      "21/21 [==============================] - 5s 235ms/step - loss: 1.4904 - categorical_accuracy: 0.5661 - val_loss: 49.5679 - val_categorical_accuracy: 0.0000e+00\n",
      "Epoch 59/1000\n",
      "21/21 [==============================] - 5s 230ms/step - loss: 1.4373 - categorical_accuracy: 0.5723 - val_loss: 48.3089 - val_categorical_accuracy: 0.0000e+00\n",
      "Epoch 60/1000\n",
      "21/21 [==============================] - 5s 230ms/step - loss: 1.3829 - categorical_accuracy: 0.6019 - val_loss: 50.1315 - val_categorical_accuracy: 0.0000e+00\n",
      "Epoch 61/1000\n",
      "21/21 [==============================] - 5s 238ms/step - loss: 1.2608 - categorical_accuracy: 0.6205 - val_loss: 53.1835 - val_categorical_accuracy: 0.0000e+00\n",
      "Epoch 62/1000\n",
      "21/21 [==============================] - 5s 232ms/step - loss: 1.2541 - categorical_accuracy: 0.6267 - val_loss: 54.2886 - val_categorical_accuracy: 0.0000e+00\n",
      "Epoch 63/1000\n",
      "21/21 [==============================] - 5s 233ms/step - loss: 1.1722 - categorical_accuracy: 0.6501 - val_loss: 54.7847 - val_categorical_accuracy: 0.0000e+00\n",
      "Epoch 64/1000\n",
      "21/21 [==============================] - 5s 235ms/step - loss: 1.1498 - categorical_accuracy: 0.6501 - val_loss: 57.8309 - val_categorical_accuracy: 0.0000e+00\n",
      "Epoch 65/1000\n",
      "21/21 [==============================] - 5s 235ms/step - loss: 1.0895 - categorical_accuracy: 0.6796 - val_loss: 58.5808 - val_categorical_accuracy: 0.0000e+00\n",
      "Epoch 66/1000\n",
      "21/21 [==============================] - 5s 238ms/step - loss: 1.0652 - categorical_accuracy: 0.6703 - val_loss: 63.0357 - val_categorical_accuracy: 0.0000e+00\n",
      "Epoch 67/1000\n",
      "21/21 [==============================] - 5s 240ms/step - loss: 1.0334 - categorical_accuracy: 0.7014 - val_loss: 62.3520 - val_categorical_accuracy: 0.0000e+00\n",
      "Epoch 68/1000\n",
      "21/21 [==============================] - 5s 232ms/step - loss: 0.9286 - categorical_accuracy: 0.7014 - val_loss: 69.9814 - val_categorical_accuracy: 0.0000e+00\n",
      "Epoch 69/1000\n",
      "21/21 [==============================] - 5s 231ms/step - loss: 0.8931 - categorical_accuracy: 0.7107 - val_loss: 71.2831 - val_categorical_accuracy: 0.0000e+00\n",
      "Epoch 70/1000\n",
      "21/21 [==============================] - 5s 231ms/step - loss: 0.8944 - categorical_accuracy: 0.7418 - val_loss: 73.7746 - val_categorical_accuracy: 0.0000e+00\n",
      "Epoch 71/1000\n",
      "21/21 [==============================] - 5s 237ms/step - loss: 1.0303 - categorical_accuracy: 0.7014 - val_loss: 71.7336 - val_categorical_accuracy: 0.0000e+00\n",
      "Epoch 72/1000\n",
      "21/21 [==============================] - 5s 237ms/step - loss: 1.0211 - categorical_accuracy: 0.6936 - val_loss: 71.5522 - val_categorical_accuracy: 0.0000e+00\n",
      "Epoch 73/1000\n",
      "21/21 [==============================] - 5s 233ms/step - loss: 1.1174 - categorical_accuracy: 0.6936 - val_loss: 74.4243 - val_categorical_accuracy: 0.0000e+00\n",
      "Epoch 74/1000\n",
      "21/21 [==============================] - 5s 233ms/step - loss: 1.1038 - categorical_accuracy: 0.6827 - val_loss: 72.3276 - val_categorical_accuracy: 0.0000e+00\n",
      "Epoch 75/1000\n",
      "21/21 [==============================] - 5s 233ms/step - loss: 1.0770 - categorical_accuracy: 0.6781 - val_loss: 71.6424 - val_categorical_accuracy: 0.0000e+00\n",
      "Epoch 76/1000\n",
      "21/21 [==============================] - 5s 233ms/step - loss: 1.0054 - categorical_accuracy: 0.7061 - val_loss: 72.9294 - val_categorical_accuracy: 0.0000e+00\n",
      "Epoch 77/1000\n",
      "21/21 [==============================] - 5s 244ms/step - loss: 0.9672 - categorical_accuracy: 0.6890 - val_loss: 73.5944 - val_categorical_accuracy: 0.0000e+00\n",
      "Epoch 78/1000\n",
      "21/21 [==============================] - 6s 283ms/step - loss: 0.9374 - categorical_accuracy: 0.7294 - val_loss: 71.7392 - val_categorical_accuracy: 0.0000e+00\n",
      "Epoch 79/1000\n",
      "21/21 [==============================] - 5s 233ms/step - loss: 0.8604 - categorical_accuracy: 0.7418 - val_loss: 78.7115 - val_categorical_accuracy: 0.0000e+00\n",
      "Epoch 80/1000\n",
      "21/21 [==============================] - 5s 246ms/step - loss: 0.8030 - categorical_accuracy: 0.7496 - val_loss: 78.6273 - val_categorical_accuracy: 0.0000e+00\n",
      "Epoch 81/1000\n",
      "21/21 [==============================] - 5s 247ms/step - loss: 0.7551 - categorical_accuracy: 0.7636 - val_loss: 78.5014 - val_categorical_accuracy: 0.0000e+00\n",
      "Epoch 82/1000\n",
      "21/21 [==============================] - 5s 242ms/step - loss: 0.7642 - categorical_accuracy: 0.7667 - val_loss: 81.3842 - val_categorical_accuracy: 0.0000e+00\n",
      "Epoch 83/1000\n",
      "21/21 [==============================] - 5s 236ms/step - loss: 0.7175 - categorical_accuracy: 0.7745 - val_loss: 79.5823 - val_categorical_accuracy: 0.0000e+00\n",
      "Epoch 84/1000\n",
      "21/21 [==============================] - 5s 240ms/step - loss: 0.7093 - categorical_accuracy: 0.7714 - val_loss: 84.7807 - val_categorical_accuracy: 0.0000e+00\n",
      "Epoch 85/1000\n",
      "21/21 [==============================] - 5s 234ms/step - loss: 0.7492 - categorical_accuracy: 0.7807 - val_loss: 82.7878 - val_categorical_accuracy: 0.0000e+00\n",
      "Epoch 86/1000\n",
      "21/21 [==============================] - 5s 234ms/step - loss: 0.7075 - categorical_accuracy: 0.7760 - val_loss: 82.3884 - val_categorical_accuracy: 0.0000e+00\n",
      "Epoch 87/1000\n",
      "21/21 [==============================] - 5s 235ms/step - loss: 0.6940 - categorical_accuracy: 0.7776 - val_loss: 88.1664 - val_categorical_accuracy: 0.0000e+00\n",
      "Epoch 88/1000\n",
      "21/21 [==============================] - 5s 240ms/step - loss: 0.6706 - categorical_accuracy: 0.7854 - val_loss: 85.8820 - val_categorical_accuracy: 0.0000e+00\n",
      "Epoch 89/1000\n",
      "21/21 [==============================] - 5s 233ms/step - loss: 0.6482 - categorical_accuracy: 0.8056 - val_loss: 86.4862 - val_categorical_accuracy: 0.0000e+00\n",
      "Epoch 90/1000\n",
      "21/21 [==============================] - 5s 236ms/step - loss: 0.5879 - categorical_accuracy: 0.8383 - val_loss: 88.3595 - val_categorical_accuracy: 0.0000e+00\n",
      "Epoch 91/1000\n",
      "21/21 [==============================] - 5s 253ms/step - loss: 0.6076 - categorical_accuracy: 0.8040 - val_loss: 92.3502 - val_categorical_accuracy: 0.0000e+00\n",
      "Epoch 92/1000\n",
      "21/21 [==============================] - 6s 281ms/step - loss: 0.5234 - categorical_accuracy: 0.8460 - val_loss: 94.8087 - val_categorical_accuracy: 0.0000e+00\n",
      "Epoch 93/1000\n",
      "21/21 [==============================] - 5s 254ms/step - loss: 0.5594 - categorical_accuracy: 0.8367 - val_loss: 93.7792 - val_categorical_accuracy: 0.0000e+00\n",
      "Epoch 94/1000\n",
      "21/21 [==============================] - 5s 236ms/step - loss: 0.5541 - categorical_accuracy: 0.8289 - val_loss: 94.6000 - val_categorical_accuracy: 0.0000e+00\n",
      "Epoch 95/1000\n"
     ]
    },
    {
     "name": "stdout",
     "output_type": "stream",
     "text": [
      "21/21 [==============================] - 5s 236ms/step - loss: 0.5081 - categorical_accuracy: 0.8523 - val_loss: 94.4309 - val_categorical_accuracy: 0.0000e+00\n",
      "Epoch 96/1000\n",
      "21/21 [==============================] - 5s 237ms/step - loss: 0.4837 - categorical_accuracy: 0.8351 - val_loss: 95.2666 - val_categorical_accuracy: 0.0000e+00\n",
      "Epoch 97/1000\n",
      "21/21 [==============================] - 5s 234ms/step - loss: 0.4560 - categorical_accuracy: 0.8538 - val_loss: 95.4708 - val_categorical_accuracy: 0.0000e+00\n",
      "Epoch 98/1000\n",
      "21/21 [==============================] - 5s 235ms/step - loss: 0.4226 - categorical_accuracy: 0.8678 - val_loss: 97.3364 - val_categorical_accuracy: 0.0000e+00\n",
      "Epoch 99/1000\n",
      "21/21 [==============================] - 5s 231ms/step - loss: 0.4609 - categorical_accuracy: 0.8554 - val_loss: 99.6497 - val_categorical_accuracy: 0.0000e+00\n",
      "Epoch 100/1000\n",
      "21/21 [==============================] - 5s 233ms/step - loss: 0.4896 - categorical_accuracy: 0.8585 - val_loss: 102.9560 - val_categorical_accuracy: 0.0000e+00\n",
      "Epoch 101/1000\n",
      "21/21 [==============================] - 5s 233ms/step - loss: 0.5110 - categorical_accuracy: 0.8538 - val_loss: 105.0526 - val_categorical_accuracy: 0.0000e+00\n",
      "Epoch 102/1000\n",
      "21/21 [==============================] - 5s 244ms/step - loss: 0.4947 - categorical_accuracy: 0.8554 - val_loss: 104.4195 - val_categorical_accuracy: 0.0000e+00\n",
      "Epoch 103/1000\n",
      "21/21 [==============================] - 5s 235ms/step - loss: 0.4384 - categorical_accuracy: 0.8631 - val_loss: 101.5832 - val_categorical_accuracy: 0.0000e+00\n",
      "Epoch 104/1000\n",
      "21/21 [==============================] - 5s 237ms/step - loss: 0.8942 - categorical_accuracy: 0.8149 - val_loss: 98.8694 - val_categorical_accuracy: 0.0000e+00\n",
      "Epoch 105/1000\n",
      "21/21 [==============================] - 5s 236ms/step - loss: 0.5582 - categorical_accuracy: 0.8367 - val_loss: 97.3706 - val_categorical_accuracy: 0.0000e+00\n",
      "Epoch 106/1000\n",
      "21/21 [==============================] - 5s 234ms/step - loss: 0.5939 - categorical_accuracy: 0.8445 - val_loss: 101.9892 - val_categorical_accuracy: 0.0000e+00\n",
      "Epoch 107/1000\n",
      "12/21 [================>.............] - ETA: 2s - loss: 0.6496 - categorical_accuracy: 0.8464"
     ]
    },
    {
     "ename": "KeyboardInterrupt",
     "evalue": "",
     "output_type": "error",
     "traceback": [
      "\u001b[0;31m---------------------------------------------------------------------------\u001b[0m",
      "\u001b[0;31mKeyboardInterrupt\u001b[0m                         Traceback (most recent call last)",
      "Cell \u001b[0;32mIn[41], line 14\u001b[0m\n\u001b[1;32m     11\u001b[0m optimizer \u001b[38;5;241m=\u001b[39m Lion(learning_rate\u001b[38;5;241m=\u001b[39m\u001b[38;5;241m.00025\u001b[39m)\n\u001b[1;32m     12\u001b[0m model\u001b[38;5;241m.\u001b[39mcompile(optimizer\u001b[38;5;241m=\u001b[39moptimizer, loss\u001b[38;5;241m=\u001b[39m\u001b[38;5;124m'\u001b[39m\u001b[38;5;124mcategorical_crossentropy\u001b[39m\u001b[38;5;124m'\u001b[39m, metrics\u001b[38;5;241m=\u001b[39m[\u001b[38;5;124m'\u001b[39m\u001b[38;5;124mcategorical_accuracy\u001b[39m\u001b[38;5;124m'\u001b[39m])\n\u001b[0;32m---> 14\u001b[0m history \u001b[38;5;241m=\u001b[39m \u001b[43mmodel\u001b[49m\u001b[38;5;241;43m.\u001b[39;49m\u001b[43mfit\u001b[49m\u001b[43m(\u001b[49m\u001b[43mXtrain\u001b[49m\u001b[43m,\u001b[49m\u001b[43m \u001b[49m\u001b[43mYtrain\u001b[49m\u001b[43m,\u001b[49m\u001b[43m \u001b[49m\u001b[43mepochs\u001b[49m\u001b[38;5;241;43m=\u001b[39;49m\u001b[38;5;241;43m1000\u001b[39;49m\u001b[43m,\u001b[49m\u001b[43m \u001b[49m\u001b[43mvalidation_split\u001b[49m\u001b[38;5;241;43m=\u001b[39;49m\u001b[38;5;241;43m.2\u001b[39;49m\u001b[43m,\u001b[49m\u001b[43m \u001b[49m\u001b[43mbatch_size\u001b[49m\u001b[43m \u001b[49m\u001b[38;5;241;43m=\u001b[39;49m\u001b[43m \u001b[49m\u001b[38;5;241;43m32\u001b[39;49m\u001b[43m,\u001b[49m\u001b[43m \u001b[49m\u001b[43mcallbacks\u001b[49m\u001b[38;5;241;43m=\u001b[39;49m\u001b[43m[\u001b[49m\u001b[43mtb_callback\u001b[49m\u001b[43m]\u001b[49m\u001b[43m)\u001b[49m\n\u001b[1;32m     15\u001b[0m model\u001b[38;5;241m.\u001b[39msummary()\n",
      "File \u001b[0;32m~/miniconda3/lib/python3.10/site-packages/keras/src/utils/traceback_utils.py:65\u001b[0m, in \u001b[0;36mfilter_traceback.<locals>.error_handler\u001b[0;34m(*args, **kwargs)\u001b[0m\n\u001b[1;32m     63\u001b[0m filtered_tb \u001b[38;5;241m=\u001b[39m \u001b[38;5;28;01mNone\u001b[39;00m\n\u001b[1;32m     64\u001b[0m \u001b[38;5;28;01mtry\u001b[39;00m:\n\u001b[0;32m---> 65\u001b[0m     \u001b[38;5;28;01mreturn\u001b[39;00m \u001b[43mfn\u001b[49m\u001b[43m(\u001b[49m\u001b[38;5;241;43m*\u001b[39;49m\u001b[43margs\u001b[49m\u001b[43m,\u001b[49m\u001b[43m \u001b[49m\u001b[38;5;241;43m*\u001b[39;49m\u001b[38;5;241;43m*\u001b[39;49m\u001b[43mkwargs\u001b[49m\u001b[43m)\u001b[49m\n\u001b[1;32m     66\u001b[0m \u001b[38;5;28;01mexcept\u001b[39;00m \u001b[38;5;167;01mException\u001b[39;00m \u001b[38;5;28;01mas\u001b[39;00m e:\n\u001b[1;32m     67\u001b[0m     filtered_tb \u001b[38;5;241m=\u001b[39m _process_traceback_frames(e\u001b[38;5;241m.\u001b[39m__traceback__)\n",
      "File \u001b[0;32m~/miniconda3/lib/python3.10/site-packages/keras/src/engine/training.py:1742\u001b[0m, in \u001b[0;36mModel.fit\u001b[0;34m(self, x, y, batch_size, epochs, verbose, callbacks, validation_split, validation_data, shuffle, class_weight, sample_weight, initial_epoch, steps_per_epoch, validation_steps, validation_batch_size, validation_freq, max_queue_size, workers, use_multiprocessing)\u001b[0m\n\u001b[1;32m   1734\u001b[0m \u001b[38;5;28;01mwith\u001b[39;00m tf\u001b[38;5;241m.\u001b[39mprofiler\u001b[38;5;241m.\u001b[39mexperimental\u001b[38;5;241m.\u001b[39mTrace(\n\u001b[1;32m   1735\u001b[0m     \u001b[38;5;124m\"\u001b[39m\u001b[38;5;124mtrain\u001b[39m\u001b[38;5;124m\"\u001b[39m,\n\u001b[1;32m   1736\u001b[0m     epoch_num\u001b[38;5;241m=\u001b[39mepoch,\n\u001b[0;32m   (...)\u001b[0m\n\u001b[1;32m   1739\u001b[0m     _r\u001b[38;5;241m=\u001b[39m\u001b[38;5;241m1\u001b[39m,\n\u001b[1;32m   1740\u001b[0m ):\n\u001b[1;32m   1741\u001b[0m     callbacks\u001b[38;5;241m.\u001b[39mon_train_batch_begin(step)\n\u001b[0;32m-> 1742\u001b[0m     tmp_logs \u001b[38;5;241m=\u001b[39m \u001b[38;5;28;43mself\u001b[39;49m\u001b[38;5;241;43m.\u001b[39;49m\u001b[43mtrain_function\u001b[49m\u001b[43m(\u001b[49m\u001b[43miterator\u001b[49m\u001b[43m)\u001b[49m\n\u001b[1;32m   1743\u001b[0m     \u001b[38;5;28;01mif\u001b[39;00m data_handler\u001b[38;5;241m.\u001b[39mshould_sync:\n\u001b[1;32m   1744\u001b[0m         context\u001b[38;5;241m.\u001b[39masync_wait()\n",
      "File \u001b[0;32m~/miniconda3/lib/python3.10/site-packages/tensorflow/python/util/traceback_utils.py:150\u001b[0m, in \u001b[0;36mfilter_traceback.<locals>.error_handler\u001b[0;34m(*args, **kwargs)\u001b[0m\n\u001b[1;32m    148\u001b[0m filtered_tb \u001b[38;5;241m=\u001b[39m \u001b[38;5;28;01mNone\u001b[39;00m\n\u001b[1;32m    149\u001b[0m \u001b[38;5;28;01mtry\u001b[39;00m:\n\u001b[0;32m--> 150\u001b[0m   \u001b[38;5;28;01mreturn\u001b[39;00m \u001b[43mfn\u001b[49m\u001b[43m(\u001b[49m\u001b[38;5;241;43m*\u001b[39;49m\u001b[43margs\u001b[49m\u001b[43m,\u001b[49m\u001b[43m \u001b[49m\u001b[38;5;241;43m*\u001b[39;49m\u001b[38;5;241;43m*\u001b[39;49m\u001b[43mkwargs\u001b[49m\u001b[43m)\u001b[49m\n\u001b[1;32m    151\u001b[0m \u001b[38;5;28;01mexcept\u001b[39;00m \u001b[38;5;167;01mException\u001b[39;00m \u001b[38;5;28;01mas\u001b[39;00m e:\n\u001b[1;32m    152\u001b[0m   filtered_tb \u001b[38;5;241m=\u001b[39m _process_traceback_frames(e\u001b[38;5;241m.\u001b[39m__traceback__)\n",
      "File \u001b[0;32m~/miniconda3/lib/python3.10/site-packages/tensorflow/python/eager/polymorphic_function/polymorphic_function.py:825\u001b[0m, in \u001b[0;36mFunction.__call__\u001b[0;34m(self, *args, **kwds)\u001b[0m\n\u001b[1;32m    822\u001b[0m compiler \u001b[38;5;241m=\u001b[39m \u001b[38;5;124m\"\u001b[39m\u001b[38;5;124mxla\u001b[39m\u001b[38;5;124m\"\u001b[39m \u001b[38;5;28;01mif\u001b[39;00m \u001b[38;5;28mself\u001b[39m\u001b[38;5;241m.\u001b[39m_jit_compile \u001b[38;5;28;01melse\u001b[39;00m \u001b[38;5;124m\"\u001b[39m\u001b[38;5;124mnonXla\u001b[39m\u001b[38;5;124m\"\u001b[39m\n\u001b[1;32m    824\u001b[0m \u001b[38;5;28;01mwith\u001b[39;00m OptionalXlaContext(\u001b[38;5;28mself\u001b[39m\u001b[38;5;241m.\u001b[39m_jit_compile):\n\u001b[0;32m--> 825\u001b[0m   result \u001b[38;5;241m=\u001b[39m \u001b[38;5;28;43mself\u001b[39;49m\u001b[38;5;241;43m.\u001b[39;49m\u001b[43m_call\u001b[49m\u001b[43m(\u001b[49m\u001b[38;5;241;43m*\u001b[39;49m\u001b[43margs\u001b[49m\u001b[43m,\u001b[49m\u001b[43m \u001b[49m\u001b[38;5;241;43m*\u001b[39;49m\u001b[38;5;241;43m*\u001b[39;49m\u001b[43mkwds\u001b[49m\u001b[43m)\u001b[49m\n\u001b[1;32m    827\u001b[0m new_tracing_count \u001b[38;5;241m=\u001b[39m \u001b[38;5;28mself\u001b[39m\u001b[38;5;241m.\u001b[39mexperimental_get_tracing_count()\n\u001b[1;32m    828\u001b[0m without_tracing \u001b[38;5;241m=\u001b[39m (tracing_count \u001b[38;5;241m==\u001b[39m new_tracing_count)\n",
      "File \u001b[0;32m~/miniconda3/lib/python3.10/site-packages/tensorflow/python/eager/polymorphic_function/polymorphic_function.py:857\u001b[0m, in \u001b[0;36mFunction._call\u001b[0;34m(self, *args, **kwds)\u001b[0m\n\u001b[1;32m    854\u001b[0m   \u001b[38;5;28mself\u001b[39m\u001b[38;5;241m.\u001b[39m_lock\u001b[38;5;241m.\u001b[39mrelease()\n\u001b[1;32m    855\u001b[0m   \u001b[38;5;66;03m# In this case we have created variables on the first call, so we run the\u001b[39;00m\n\u001b[1;32m    856\u001b[0m   \u001b[38;5;66;03m# defunned version which is guaranteed to never create variables.\u001b[39;00m\n\u001b[0;32m--> 857\u001b[0m   \u001b[38;5;28;01mreturn\u001b[39;00m \u001b[38;5;28;43mself\u001b[39;49m\u001b[38;5;241;43m.\u001b[39;49m\u001b[43m_no_variable_creation_fn\u001b[49m\u001b[43m(\u001b[49m\u001b[38;5;241;43m*\u001b[39;49m\u001b[43margs\u001b[49m\u001b[43m,\u001b[49m\u001b[43m \u001b[49m\u001b[38;5;241;43m*\u001b[39;49m\u001b[38;5;241;43m*\u001b[39;49m\u001b[43mkwds\u001b[49m\u001b[43m)\u001b[49m  \u001b[38;5;66;03m# pylint: disable=not-callable\u001b[39;00m\n\u001b[1;32m    858\u001b[0m \u001b[38;5;28;01melif\u001b[39;00m \u001b[38;5;28mself\u001b[39m\u001b[38;5;241m.\u001b[39m_variable_creation_fn \u001b[38;5;129;01mis\u001b[39;00m \u001b[38;5;129;01mnot\u001b[39;00m \u001b[38;5;28;01mNone\u001b[39;00m:\n\u001b[1;32m    859\u001b[0m   \u001b[38;5;66;03m# Release the lock early so that multiple threads can perform the call\u001b[39;00m\n\u001b[1;32m    860\u001b[0m   \u001b[38;5;66;03m# in parallel.\u001b[39;00m\n\u001b[1;32m    861\u001b[0m   \u001b[38;5;28mself\u001b[39m\u001b[38;5;241m.\u001b[39m_lock\u001b[38;5;241m.\u001b[39mrelease()\n",
      "File \u001b[0;32m~/miniconda3/lib/python3.10/site-packages/tensorflow/python/eager/polymorphic_function/tracing_compiler.py:148\u001b[0m, in \u001b[0;36mTracingCompiler.__call__\u001b[0;34m(self, *args, **kwargs)\u001b[0m\n\u001b[1;32m    145\u001b[0m \u001b[38;5;28;01mwith\u001b[39;00m \u001b[38;5;28mself\u001b[39m\u001b[38;5;241m.\u001b[39m_lock:\n\u001b[1;32m    146\u001b[0m   (concrete_function,\n\u001b[1;32m    147\u001b[0m    filtered_flat_args) \u001b[38;5;241m=\u001b[39m \u001b[38;5;28mself\u001b[39m\u001b[38;5;241m.\u001b[39m_maybe_define_function(args, kwargs)\n\u001b[0;32m--> 148\u001b[0m \u001b[38;5;28;01mreturn\u001b[39;00m \u001b[43mconcrete_function\u001b[49m\u001b[38;5;241;43m.\u001b[39;49m\u001b[43m_call_flat\u001b[49m\u001b[43m(\u001b[49m\n\u001b[1;32m    149\u001b[0m \u001b[43m    \u001b[49m\u001b[43mfiltered_flat_args\u001b[49m\u001b[43m,\u001b[49m\u001b[43m \u001b[49m\u001b[43mcaptured_inputs\u001b[49m\u001b[38;5;241;43m=\u001b[39;49m\u001b[43mconcrete_function\u001b[49m\u001b[38;5;241;43m.\u001b[39;49m\u001b[43mcaptured_inputs\u001b[49m\u001b[43m)\u001b[49m\n",
      "File \u001b[0;32m~/miniconda3/lib/python3.10/site-packages/tensorflow/python/eager/polymorphic_function/monomorphic_function.py:1349\u001b[0m, in \u001b[0;36mConcreteFunction._call_flat\u001b[0;34m(self, args, captured_inputs)\u001b[0m\n\u001b[1;32m   1345\u001b[0m possible_gradient_type \u001b[38;5;241m=\u001b[39m gradients_util\u001b[38;5;241m.\u001b[39mPossibleTapeGradientTypes(args)\n\u001b[1;32m   1346\u001b[0m \u001b[38;5;28;01mif\u001b[39;00m (possible_gradient_type \u001b[38;5;241m==\u001b[39m gradients_util\u001b[38;5;241m.\u001b[39mPOSSIBLE_GRADIENT_TYPES_NONE\n\u001b[1;32m   1347\u001b[0m     \u001b[38;5;129;01mand\u001b[39;00m executing_eagerly):\n\u001b[1;32m   1348\u001b[0m   \u001b[38;5;66;03m# No tape is watching; skip to running the function.\u001b[39;00m\n\u001b[0;32m-> 1349\u001b[0m   \u001b[38;5;28;01mreturn\u001b[39;00m \u001b[38;5;28mself\u001b[39m\u001b[38;5;241m.\u001b[39m_build_call_outputs(\u001b[38;5;28;43mself\u001b[39;49m\u001b[38;5;241;43m.\u001b[39;49m\u001b[43m_inference_function\u001b[49m\u001b[43m(\u001b[49m\u001b[38;5;241;43m*\u001b[39;49m\u001b[43margs\u001b[49m\u001b[43m)\u001b[49m)\n\u001b[1;32m   1350\u001b[0m forward_backward \u001b[38;5;241m=\u001b[39m \u001b[38;5;28mself\u001b[39m\u001b[38;5;241m.\u001b[39m_select_forward_and_backward_functions(\n\u001b[1;32m   1351\u001b[0m     args,\n\u001b[1;32m   1352\u001b[0m     possible_gradient_type,\n\u001b[1;32m   1353\u001b[0m     executing_eagerly)\n\u001b[1;32m   1354\u001b[0m forward_function, args_with_tangents \u001b[38;5;241m=\u001b[39m forward_backward\u001b[38;5;241m.\u001b[39mforward()\n",
      "File \u001b[0;32m~/miniconda3/lib/python3.10/site-packages/tensorflow/python/eager/polymorphic_function/atomic_function.py:196\u001b[0m, in \u001b[0;36mAtomicFunction.__call__\u001b[0;34m(self, *args)\u001b[0m\n\u001b[1;32m    194\u001b[0m \u001b[38;5;28;01mwith\u001b[39;00m record\u001b[38;5;241m.\u001b[39mstop_recording():\n\u001b[1;32m    195\u001b[0m   \u001b[38;5;28;01mif\u001b[39;00m \u001b[38;5;28mself\u001b[39m\u001b[38;5;241m.\u001b[39m_bound_context\u001b[38;5;241m.\u001b[39mexecuting_eagerly():\n\u001b[0;32m--> 196\u001b[0m     outputs \u001b[38;5;241m=\u001b[39m \u001b[38;5;28;43mself\u001b[39;49m\u001b[38;5;241;43m.\u001b[39;49m\u001b[43m_bound_context\u001b[49m\u001b[38;5;241;43m.\u001b[39;49m\u001b[43mcall_function\u001b[49m\u001b[43m(\u001b[49m\n\u001b[1;32m    197\u001b[0m \u001b[43m        \u001b[49m\u001b[38;5;28;43mself\u001b[39;49m\u001b[38;5;241;43m.\u001b[39;49m\u001b[43mname\u001b[49m\u001b[43m,\u001b[49m\n\u001b[1;32m    198\u001b[0m \u001b[43m        \u001b[49m\u001b[38;5;28;43mlist\u001b[39;49m\u001b[43m(\u001b[49m\u001b[43margs\u001b[49m\u001b[43m)\u001b[49m\u001b[43m,\u001b[49m\n\u001b[1;32m    199\u001b[0m \u001b[43m        \u001b[49m\u001b[38;5;28;43mlen\u001b[39;49m\u001b[43m(\u001b[49m\u001b[38;5;28;43mself\u001b[39;49m\u001b[38;5;241;43m.\u001b[39;49m\u001b[43mfunction_type\u001b[49m\u001b[38;5;241;43m.\u001b[39;49m\u001b[43mflat_outputs\u001b[49m\u001b[43m)\u001b[49m\u001b[43m,\u001b[49m\n\u001b[1;32m    200\u001b[0m \u001b[43m    \u001b[49m\u001b[43m)\u001b[49m\n\u001b[1;32m    201\u001b[0m   \u001b[38;5;28;01melse\u001b[39;00m:\n\u001b[1;32m    202\u001b[0m     outputs \u001b[38;5;241m=\u001b[39m make_call_op_in_graph(\u001b[38;5;28mself\u001b[39m, \u001b[38;5;28mlist\u001b[39m(args))\n",
      "File \u001b[0;32m~/miniconda3/lib/python3.10/site-packages/tensorflow/python/eager/context.py:1457\u001b[0m, in \u001b[0;36mContext.call_function\u001b[0;34m(self, name, tensor_inputs, num_outputs)\u001b[0m\n\u001b[1;32m   1455\u001b[0m cancellation_context \u001b[38;5;241m=\u001b[39m cancellation\u001b[38;5;241m.\u001b[39mcontext()\n\u001b[1;32m   1456\u001b[0m \u001b[38;5;28;01mif\u001b[39;00m cancellation_context \u001b[38;5;129;01mis\u001b[39;00m \u001b[38;5;28;01mNone\u001b[39;00m:\n\u001b[0;32m-> 1457\u001b[0m   outputs \u001b[38;5;241m=\u001b[39m \u001b[43mexecute\u001b[49m\u001b[38;5;241;43m.\u001b[39;49m\u001b[43mexecute\u001b[49m\u001b[43m(\u001b[49m\n\u001b[1;32m   1458\u001b[0m \u001b[43m      \u001b[49m\u001b[43mname\u001b[49m\u001b[38;5;241;43m.\u001b[39;49m\u001b[43mdecode\u001b[49m\u001b[43m(\u001b[49m\u001b[38;5;124;43m\"\u001b[39;49m\u001b[38;5;124;43mutf-8\u001b[39;49m\u001b[38;5;124;43m\"\u001b[39;49m\u001b[43m)\u001b[49m\u001b[43m,\u001b[49m\n\u001b[1;32m   1459\u001b[0m \u001b[43m      \u001b[49m\u001b[43mnum_outputs\u001b[49m\u001b[38;5;241;43m=\u001b[39;49m\u001b[43mnum_outputs\u001b[49m\u001b[43m,\u001b[49m\n\u001b[1;32m   1460\u001b[0m \u001b[43m      \u001b[49m\u001b[43minputs\u001b[49m\u001b[38;5;241;43m=\u001b[39;49m\u001b[43mtensor_inputs\u001b[49m\u001b[43m,\u001b[49m\n\u001b[1;32m   1461\u001b[0m \u001b[43m      \u001b[49m\u001b[43mattrs\u001b[49m\u001b[38;5;241;43m=\u001b[39;49m\u001b[43mattrs\u001b[49m\u001b[43m,\u001b[49m\n\u001b[1;32m   1462\u001b[0m \u001b[43m      \u001b[49m\u001b[43mctx\u001b[49m\u001b[38;5;241;43m=\u001b[39;49m\u001b[38;5;28;43mself\u001b[39;49m\u001b[43m,\u001b[49m\n\u001b[1;32m   1463\u001b[0m \u001b[43m  \u001b[49m\u001b[43m)\u001b[49m\n\u001b[1;32m   1464\u001b[0m \u001b[38;5;28;01melse\u001b[39;00m:\n\u001b[1;32m   1465\u001b[0m   outputs \u001b[38;5;241m=\u001b[39m execute\u001b[38;5;241m.\u001b[39mexecute_with_cancellation(\n\u001b[1;32m   1466\u001b[0m       name\u001b[38;5;241m.\u001b[39mdecode(\u001b[38;5;124m\"\u001b[39m\u001b[38;5;124mutf-8\u001b[39m\u001b[38;5;124m\"\u001b[39m),\n\u001b[1;32m   1467\u001b[0m       num_outputs\u001b[38;5;241m=\u001b[39mnum_outputs,\n\u001b[0;32m   (...)\u001b[0m\n\u001b[1;32m   1471\u001b[0m       cancellation_manager\u001b[38;5;241m=\u001b[39mcancellation_context,\n\u001b[1;32m   1472\u001b[0m   )\n",
      "File \u001b[0;32m~/miniconda3/lib/python3.10/site-packages/tensorflow/python/eager/execute.py:53\u001b[0m, in \u001b[0;36mquick_execute\u001b[0;34m(op_name, num_outputs, inputs, attrs, ctx, name)\u001b[0m\n\u001b[1;32m     51\u001b[0m \u001b[38;5;28;01mtry\u001b[39;00m:\n\u001b[1;32m     52\u001b[0m   ctx\u001b[38;5;241m.\u001b[39mensure_initialized()\n\u001b[0;32m---> 53\u001b[0m   tensors \u001b[38;5;241m=\u001b[39m \u001b[43mpywrap_tfe\u001b[49m\u001b[38;5;241;43m.\u001b[39;49m\u001b[43mTFE_Py_Execute\u001b[49m\u001b[43m(\u001b[49m\u001b[43mctx\u001b[49m\u001b[38;5;241;43m.\u001b[39;49m\u001b[43m_handle\u001b[49m\u001b[43m,\u001b[49m\u001b[43m \u001b[49m\u001b[43mdevice_name\u001b[49m\u001b[43m,\u001b[49m\u001b[43m \u001b[49m\u001b[43mop_name\u001b[49m\u001b[43m,\u001b[49m\n\u001b[1;32m     54\u001b[0m \u001b[43m                                      \u001b[49m\u001b[43minputs\u001b[49m\u001b[43m,\u001b[49m\u001b[43m \u001b[49m\u001b[43mattrs\u001b[49m\u001b[43m,\u001b[49m\u001b[43m \u001b[49m\u001b[43mnum_outputs\u001b[49m\u001b[43m)\u001b[49m\n\u001b[1;32m     55\u001b[0m \u001b[38;5;28;01mexcept\u001b[39;00m core\u001b[38;5;241m.\u001b[39m_NotOkStatusException \u001b[38;5;28;01mas\u001b[39;00m e:\n\u001b[1;32m     56\u001b[0m   \u001b[38;5;28;01mif\u001b[39;00m name \u001b[38;5;129;01mis\u001b[39;00m \u001b[38;5;129;01mnot\u001b[39;00m \u001b[38;5;28;01mNone\u001b[39;00m:\n",
      "\u001b[0;31mKeyboardInterrupt\u001b[0m: "
     ]
    }
   ],
   "source": [
    "model = Sequential() #good, overfitting\n",
    "\n",
    "act_function = 'LeakyReLU'\n",
    "model.add(GRU(128, return_sequences=False, activation=act_function, input_shape=(130,1662)))\n",
    "#model.add(GRU(128, return_sequences=True, activation=act_function))\n",
    "#model.add(LSTM(64, return_sequences=False, activation=act_function))\n",
    "model.add(Dense(128, activation=act_function, input_shape=(130,1662)))\n",
    "model.add(Dense(128, activation=act_function))\n",
    "model.add(Dense(64, activation=act_function))\n",
    "model.add(Dense(50, activation='softmax'))\n",
    "optimizer = Lion(learning_rate=.00025)\n",
    "model.compile(optimizer=optimizer, loss='categorical_crossentropy', metrics=['categorical_accuracy'])\n",
    "\n",
    "history = model.fit(Xtrain, Ytrain, epochs=1000, validation_split=.2, batch_size = 32, callbacks=[tb_callback])\n",
    "model.summary()"
   ]
  },
  {
   "cell_type": "code",
   "execution_count": 37,
   "id": "4d99828d",
   "metadata": {
    "ExecuteTime": {
     "end_time": "2023-08-07T23:04:17.819924Z",
     "start_time": "2023-08-07T22:51:45.551415Z"
    },
    "scrolled": true
   },
   "outputs": [
    {
     "name": "stdout",
     "output_type": "stream",
     "text": [
      "WARNING:tensorflow:Layer gru will not use cuDNN kernels since it doesn't meet the criteria. It will use a generic GPU kernel as fallback when running on GPU.\n"
     ]
    },
    {
     "name": "stderr",
     "output_type": "stream",
     "text": [
      "2023-08-07 23:51:45.622929: I tensorflow/core/common_runtime/gpu/gpu_device.cc:1639] Created device /job:localhost/replica:0/task:0/device:GPU:0 with 1739 MB memory:  -> device: 0, name: NVIDIA GeForce MX250, pci bus id: 0000:01:00.0, compute capability: 6.1\n"
     ]
    },
    {
     "name": "stdout",
     "output_type": "stream",
     "text": [
      "Epoch 1/1000\n"
     ]
    },
    {
     "name": "stderr",
     "output_type": "stream",
     "text": [
      "2023-08-07 23:51:48.945654: I tensorflow/compiler/xla/service/service.cc:168] XLA service 0x7f1a740b3f40 initialized for platform CUDA (this does not guarantee that XLA will be used). Devices:\n",
      "2023-08-07 23:51:48.945700: I tensorflow/compiler/xla/service/service.cc:176]   StreamExecutor device (0): NVIDIA GeForce MX250, Compute Capability 6.1\n",
      "2023-08-07 23:51:48.952538: I tensorflow/compiler/mlir/tensorflow/utils/dump_mlir_util.cc:255] disabling MLIR crash reproducer, set env var `MLIR_CRASH_REPRODUCER_DIRECTORY` to enable.\n",
      "2023-08-07 23:51:48.972420: I tensorflow/compiler/xla/stream_executor/cuda/cuda_dnn.cc:432] Loaded cuDNN version 8600\n",
      "2023-08-07 23:51:49.040054: I ./tensorflow/compiler/jit/device_compiler.h:186] Compiled cluster using XLA!  This line is logged at most once for the lifetime of the process.\n"
     ]
    },
    {
     "name": "stdout",
     "output_type": "stream",
     "text": [
      "21/21 [==============================] - 8s 252ms/step - loss: 3.9271 - categorical_accuracy: 0.0295 - val_loss: 4.2207 - val_categorical_accuracy: 0.0000e+00\n",
      "Epoch 2/1000\n",
      "21/21 [==============================] - 4s 209ms/step - loss: 3.9170 - categorical_accuracy: 0.0218 - val_loss: 4.3225 - val_categorical_accuracy: 0.0000e+00\n",
      "Epoch 3/1000\n",
      "21/21 [==============================] - 4s 209ms/step - loss: 3.8791 - categorical_accuracy: 0.0171 - val_loss: 4.6208 - val_categorical_accuracy: 0.0000e+00\n",
      "Epoch 4/1000\n",
      "21/21 [==============================] - 4s 214ms/step - loss: 3.8522 - categorical_accuracy: 0.0280 - val_loss: 4.7824 - val_categorical_accuracy: 0.0000e+00\n",
      "Epoch 5/1000\n",
      "21/21 [==============================] - 4s 213ms/step - loss: 3.8406 - categorical_accuracy: 0.0358 - val_loss: 4.7065 - val_categorical_accuracy: 0.0000e+00\n",
      "Epoch 6/1000\n",
      "21/21 [==============================] - 5s 218ms/step - loss: 3.8190 - categorical_accuracy: 0.0295 - val_loss: 4.9908 - val_categorical_accuracy: 0.0000e+00\n",
      "Epoch 7/1000\n",
      "21/21 [==============================] - 5s 217ms/step - loss: 3.7892 - categorical_accuracy: 0.0358 - val_loss: 5.4697 - val_categorical_accuracy: 0.0000e+00\n",
      "Epoch 8/1000\n",
      "21/21 [==============================] - 5s 221ms/step - loss: 3.7633 - categorical_accuracy: 0.0420 - val_loss: 5.2277 - val_categorical_accuracy: 0.0000e+00\n",
      "Epoch 9/1000\n",
      "21/21 [==============================] - 5s 222ms/step - loss: 3.7497 - categorical_accuracy: 0.0373 - val_loss: 5.5881 - val_categorical_accuracy: 0.0000e+00\n",
      "Epoch 10/1000\n",
      "21/21 [==============================] - 5s 230ms/step - loss: 3.7413 - categorical_accuracy: 0.0295 - val_loss: 5.6771 - val_categorical_accuracy: 0.0000e+00\n",
      "Epoch 11/1000\n",
      "21/21 [==============================] - 5s 226ms/step - loss: 3.7264 - categorical_accuracy: 0.0342 - val_loss: 5.8139 - val_categorical_accuracy: 0.0000e+00\n",
      "Epoch 12/1000\n",
      "21/21 [==============================] - 5s 221ms/step - loss: 3.7015 - categorical_accuracy: 0.0373 - val_loss: 6.1549 - val_categorical_accuracy: 0.0000e+00\n",
      "Epoch 13/1000\n",
      "21/21 [==============================] - 5s 222ms/step - loss: 3.6699 - categorical_accuracy: 0.0311 - val_loss: 6.3649 - val_categorical_accuracy: 0.0000e+00\n",
      "Epoch 14/1000\n",
      "21/21 [==============================] - 5s 231ms/step - loss: 3.6605 - categorical_accuracy: 0.0389 - val_loss: 5.9338 - val_categorical_accuracy: 0.0000e+00\n",
      "Epoch 15/1000\n",
      "21/21 [==============================] - 5s 225ms/step - loss: 3.6316 - categorical_accuracy: 0.0638 - val_loss: 6.3917 - val_categorical_accuracy: 0.0000e+00\n",
      "Epoch 16/1000\n",
      "21/21 [==============================] - 5s 226ms/step - loss: 3.6088 - categorical_accuracy: 0.0575 - val_loss: 6.2770 - val_categorical_accuracy: 0.0000e+00\n",
      "Epoch 17/1000\n",
      "21/21 [==============================] - 5s 225ms/step - loss: 3.5599 - categorical_accuracy: 0.0793 - val_loss: 6.7987 - val_categorical_accuracy: 0.0000e+00\n",
      "Epoch 18/1000\n",
      "21/21 [==============================] - 5s 226ms/step - loss: 3.5094 - categorical_accuracy: 0.0793 - val_loss: 6.8565 - val_categorical_accuracy: 0.0000e+00\n",
      "Epoch 19/1000\n",
      "21/21 [==============================] - 5s 227ms/step - loss: 3.4915 - categorical_accuracy: 0.0793 - val_loss: 6.7996 - val_categorical_accuracy: 0.0000e+00\n",
      "Epoch 20/1000\n",
      "21/21 [==============================] - 5s 226ms/step - loss: 3.4389 - categorical_accuracy: 0.0871 - val_loss: 7.1656 - val_categorical_accuracy: 0.0000e+00\n",
      "Epoch 21/1000\n",
      "21/21 [==============================] - 5s 228ms/step - loss: 3.3760 - categorical_accuracy: 0.0762 - val_loss: 7.5528 - val_categorical_accuracy: 0.0000e+00\n",
      "Epoch 22/1000\n",
      "21/21 [==============================] - 5s 235ms/step - loss: 3.2799 - categorical_accuracy: 0.0980 - val_loss: 7.8538 - val_categorical_accuracy: 0.0000e+00\n",
      "Epoch 23/1000\n",
      "21/21 [==============================] - 5s 229ms/step - loss: 3.2387 - categorical_accuracy: 0.1089 - val_loss: 8.8664 - val_categorical_accuracy: 0.0000e+00\n",
      "Epoch 24/1000\n",
      "21/21 [==============================] - 5s 231ms/step - loss: 3.1507 - categorical_accuracy: 0.1151 - val_loss: 8.0766 - val_categorical_accuracy: 0.0000e+00\n",
      "Epoch 25/1000\n",
      "21/21 [==============================] - 5s 257ms/step - loss: 3.1291 - categorical_accuracy: 0.1058 - val_loss: 8.3883 - val_categorical_accuracy: 0.0000e+00\n",
      "Epoch 26/1000\n",
      "21/21 [==============================] - 6s 298ms/step - loss: 3.0620 - categorical_accuracy: 0.1182 - val_loss: 8.6942 - val_categorical_accuracy: 0.0000e+00\n",
      "Epoch 27/1000\n",
      "21/21 [==============================] - 5s 256ms/step - loss: 3.0229 - categorical_accuracy: 0.1384 - val_loss: 8.7571 - val_categorical_accuracy: 0.0000e+00\n",
      "Epoch 28/1000\n",
      "21/21 [==============================] - 5s 224ms/step - loss: 2.9693 - categorical_accuracy: 0.1229 - val_loss: 8.6076 - val_categorical_accuracy: 0.0000e+00\n",
      "Epoch 29/1000\n",
      "21/21 [==============================] - 5s 228ms/step - loss: 2.9314 - categorical_accuracy: 0.1291 - val_loss: 8.8116 - val_categorical_accuracy: 0.0000e+00\n",
      "Epoch 30/1000\n",
      "21/21 [==============================] - 5s 235ms/step - loss: 2.8997 - categorical_accuracy: 0.1571 - val_loss: 9.2708 - val_categorical_accuracy: 0.0000e+00\n",
      "Epoch 31/1000\n",
      "21/21 [==============================] - 5s 226ms/step - loss: 2.8632 - categorical_accuracy: 0.1680 - val_loss: 9.1329 - val_categorical_accuracy: 0.0000e+00\n",
      "Epoch 32/1000\n",
      "21/21 [==============================] - 5s 236ms/step - loss: 2.8202 - categorical_accuracy: 0.1711 - val_loss: 8.7335 - val_categorical_accuracy: 0.0000e+00\n",
      "Epoch 33/1000\n",
      "21/21 [==============================] - 5s 242ms/step - loss: 2.7856 - categorical_accuracy: 0.1742 - val_loss: 9.1801 - val_categorical_accuracy: 0.0000e+00\n",
      "Epoch 34/1000\n",
      "21/21 [==============================] - 5s 255ms/step - loss: 2.7603 - categorical_accuracy: 0.1586 - val_loss: 9.4277 - val_categorical_accuracy: 0.0000e+00\n",
      "Epoch 35/1000\n",
      "21/21 [==============================] - 6s 280ms/step - loss: 2.6674 - categorical_accuracy: 0.2037 - val_loss: 8.9444 - val_categorical_accuracy: 0.0000e+00\n",
      "Epoch 36/1000\n",
      "21/21 [==============================] - 7s 339ms/step - loss: 2.6586 - categorical_accuracy: 0.1882 - val_loss: 9.9237 - val_categorical_accuracy: 0.0000e+00\n",
      "Epoch 37/1000\n",
      "21/21 [==============================] - 6s 260ms/step - loss: 2.5848 - categorical_accuracy: 0.2255 - val_loss: 9.9841 - val_categorical_accuracy: 0.0000e+00\n",
      "Epoch 38/1000\n",
      "21/21 [==============================] - 5s 256ms/step - loss: 2.5515 - categorical_accuracy: 0.2177 - val_loss: 10.3481 - val_categorical_accuracy: 0.0000e+00\n",
      "Epoch 39/1000\n",
      "21/21 [==============================] - 5s 252ms/step - loss: 2.4972 - categorical_accuracy: 0.2348 - val_loss: 10.7845 - val_categorical_accuracy: 0.0000e+00\n",
      "Epoch 40/1000\n",
      "21/21 [==============================] - 5s 234ms/step - loss: 2.4341 - categorical_accuracy: 0.2535 - val_loss: 10.5227 - val_categorical_accuracy: 0.0000e+00\n",
      "Epoch 41/1000\n",
      "21/21 [==============================] - 5s 232ms/step - loss: 2.4240 - categorical_accuracy: 0.2566 - val_loss: 10.3842 - val_categorical_accuracy: 0.0000e+00\n",
      "Epoch 42/1000\n",
      "21/21 [==============================] - 5s 226ms/step - loss: 2.4164 - categorical_accuracy: 0.2659 - val_loss: 10.2562 - val_categorical_accuracy: 0.0000e+00\n",
      "Epoch 43/1000\n",
      "21/21 [==============================] - 5s 235ms/step - loss: 2.3314 - categorical_accuracy: 0.2582 - val_loss: 10.6513 - val_categorical_accuracy: 0.0000e+00\n",
      "Epoch 44/1000\n",
      "21/21 [==============================] - 5s 234ms/step - loss: 2.2837 - categorical_accuracy: 0.2815 - val_loss: 10.7792 - val_categorical_accuracy: 0.0000e+00\n",
      "Epoch 45/1000\n",
      "21/21 [==============================] - 5s 228ms/step - loss: 2.2908 - categorical_accuracy: 0.2737 - val_loss: 10.6028 - val_categorical_accuracy: 0.0000e+00\n",
      "Epoch 46/1000\n",
      "21/21 [==============================] - 5s 243ms/step - loss: 2.1761 - categorical_accuracy: 0.3390 - val_loss: 10.9635 - val_categorical_accuracy: 0.0000e+00\n",
      "Epoch 47/1000\n",
      "21/21 [==============================] - 5s 230ms/step - loss: 2.1866 - categorical_accuracy: 0.3095 - val_loss: 10.8691 - val_categorical_accuracy: 0.0000e+00\n",
      "Epoch 48/1000\n"
     ]
    },
    {
     "name": "stdout",
     "output_type": "stream",
     "text": [
      "21/21 [==============================] - 5s 245ms/step - loss: 2.1086 - categorical_accuracy: 0.3297 - val_loss: 11.2346 - val_categorical_accuracy: 0.0000e+00\n",
      "Epoch 49/1000\n",
      "21/21 [==============================] - 5s 241ms/step - loss: 2.0561 - categorical_accuracy: 0.3608 - val_loss: 10.6040 - val_categorical_accuracy: 0.0000e+00\n",
      "Epoch 50/1000\n",
      "21/21 [==============================] - 5s 233ms/step - loss: 2.0562 - categorical_accuracy: 0.3530 - val_loss: 11.5774 - val_categorical_accuracy: 0.0000e+00\n",
      "Epoch 51/1000\n",
      "21/21 [==============================] - 5s 234ms/step - loss: 1.9937 - categorical_accuracy: 0.3841 - val_loss: 11.7444 - val_categorical_accuracy: 0.0000e+00\n",
      "Epoch 52/1000\n",
      "21/21 [==============================] - 5s 229ms/step - loss: 1.9682 - categorical_accuracy: 0.3826 - val_loss: 11.9445 - val_categorical_accuracy: 0.0000e+00\n",
      "Epoch 53/1000\n",
      "21/21 [==============================] - 5s 235ms/step - loss: 1.9129 - categorical_accuracy: 0.4090 - val_loss: 12.0834 - val_categorical_accuracy: 0.0000e+00\n",
      "Epoch 54/1000\n",
      "21/21 [==============================] - 5s 257ms/step - loss: 1.8836 - categorical_accuracy: 0.3872 - val_loss: 11.8346 - val_categorical_accuracy: 0.0000e+00\n",
      "Epoch 55/1000\n",
      "21/21 [==============================] - 6s 275ms/step - loss: 1.8321 - categorical_accuracy: 0.4059 - val_loss: 11.9967 - val_categorical_accuracy: 0.0000e+00\n",
      "Epoch 56/1000\n",
      "21/21 [==============================] - 5s 234ms/step - loss: 1.8116 - categorical_accuracy: 0.4541 - val_loss: 12.2652 - val_categorical_accuracy: 0.0000e+00\n",
      "Epoch 57/1000\n",
      "21/21 [==============================] - 5s 253ms/step - loss: 1.7983 - categorical_accuracy: 0.4106 - val_loss: 12.6334 - val_categorical_accuracy: 0.0000e+00\n",
      "Epoch 58/1000\n",
      "21/21 [==============================] - 5s 242ms/step - loss: 1.6727 - categorical_accuracy: 0.4510 - val_loss: 13.3045 - val_categorical_accuracy: 0.0000e+00\n",
      "Epoch 59/1000\n",
      "21/21 [==============================] - 5s 242ms/step - loss: 1.6678 - categorical_accuracy: 0.4370 - val_loss: 12.9999 - val_categorical_accuracy: 0.0000e+00\n",
      "Epoch 60/1000\n",
      "21/21 [==============================] - 5s 236ms/step - loss: 1.6712 - categorical_accuracy: 0.4806 - val_loss: 13.4313 - val_categorical_accuracy: 0.0000e+00\n",
      "Epoch 61/1000\n",
      "21/21 [==============================] - 5s 234ms/step - loss: 1.6537 - categorical_accuracy: 0.4588 - val_loss: 12.9403 - val_categorical_accuracy: 0.0000e+00\n",
      "Epoch 62/1000\n",
      "21/21 [==============================] - 5s 233ms/step - loss: 1.5524 - categorical_accuracy: 0.4852 - val_loss: 13.4728 - val_categorical_accuracy: 0.0000e+00\n",
      "Epoch 63/1000\n",
      "21/21 [==============================] - 5s 234ms/step - loss: 1.5442 - categorical_accuracy: 0.4852 - val_loss: 13.9917 - val_categorical_accuracy: 0.0000e+00\n",
      "Epoch 64/1000\n",
      "21/21 [==============================] - 5s 235ms/step - loss: 1.5760 - categorical_accuracy: 0.4837 - val_loss: 14.7580 - val_categorical_accuracy: 0.0000e+00\n",
      "Epoch 65/1000\n",
      "21/21 [==============================] - 5s 235ms/step - loss: 1.4644 - categorical_accuracy: 0.5288 - val_loss: 14.2765 - val_categorical_accuracy: 0.0000e+00\n",
      "Epoch 66/1000\n",
      "21/21 [==============================] - 5s 233ms/step - loss: 1.4255 - categorical_accuracy: 0.5319 - val_loss: 15.4398 - val_categorical_accuracy: 0.0000e+00\n",
      "Epoch 67/1000\n",
      "21/21 [==============================] - 5s 247ms/step - loss: 1.3968 - categorical_accuracy: 0.5397 - val_loss: 15.5892 - val_categorical_accuracy: 0.0000e+00\n",
      "Epoch 68/1000\n",
      "21/21 [==============================] - 5s 244ms/step - loss: 1.3378 - categorical_accuracy: 0.5303 - val_loss: 15.8074 - val_categorical_accuracy: 0.0000e+00\n",
      "Epoch 69/1000\n",
      "21/21 [==============================] - 5s 246ms/step - loss: 1.3722 - categorical_accuracy: 0.5785 - val_loss: 16.2779 - val_categorical_accuracy: 0.0000e+00\n",
      "Epoch 70/1000\n",
      "21/21 [==============================] - 6s 305ms/step - loss: 1.2966 - categorical_accuracy: 0.5723 - val_loss: 15.4932 - val_categorical_accuracy: 0.0000e+00\n",
      "Epoch 71/1000\n",
      "21/21 [==============================] - 7s 329ms/step - loss: 1.2819 - categorical_accuracy: 0.5692 - val_loss: 15.8810 - val_categorical_accuracy: 0.0000e+00\n",
      "Epoch 72/1000\n",
      "21/21 [==============================] - 6s 277ms/step - loss: 1.3152 - categorical_accuracy: 0.5599 - val_loss: 15.6266 - val_categorical_accuracy: 0.0000e+00\n",
      "Epoch 73/1000\n",
      "21/21 [==============================] - 5s 237ms/step - loss: 1.2322 - categorical_accuracy: 0.5816 - val_loss: 16.6136 - val_categorical_accuracy: 0.0000e+00\n",
      "Epoch 74/1000\n",
      "21/21 [==============================] - 5s 247ms/step - loss: 1.1529 - categorical_accuracy: 0.6096 - val_loss: 16.9921 - val_categorical_accuracy: 0.0000e+00\n",
      "Epoch 75/1000\n",
      "21/21 [==============================] - 5s 259ms/step - loss: 1.2142 - categorical_accuracy: 0.6252 - val_loss: 16.5285 - val_categorical_accuracy: 0.0000e+00\n",
      "Epoch 76/1000\n",
      "21/21 [==============================] - 5s 247ms/step - loss: 1.2030 - categorical_accuracy: 0.5972 - val_loss: 17.0500 - val_categorical_accuracy: 0.0000e+00\n",
      "Epoch 77/1000\n",
      "21/21 [==============================] - 6s 262ms/step - loss: 1.0970 - categorical_accuracy: 0.6330 - val_loss: 16.9030 - val_categorical_accuracy: 0.0000e+00\n",
      "Epoch 78/1000\n",
      "21/21 [==============================] - 5s 232ms/step - loss: 1.1093 - categorical_accuracy: 0.6314 - val_loss: 17.3890 - val_categorical_accuracy: 0.0000e+00\n",
      "Epoch 79/1000\n",
      "21/21 [==============================] - 5s 235ms/step - loss: 1.1039 - categorical_accuracy: 0.6330 - val_loss: 17.3540 - val_categorical_accuracy: 0.0000e+00\n",
      "Epoch 80/1000\n",
      "21/21 [==============================] - 5s 234ms/step - loss: 1.0658 - categorical_accuracy: 0.6610 - val_loss: 17.6743 - val_categorical_accuracy: 0.0000e+00\n",
      "Epoch 81/1000\n",
      "21/21 [==============================] - 5s 241ms/step - loss: 1.1344 - categorical_accuracy: 0.6205 - val_loss: 17.7591 - val_categorical_accuracy: 0.0000e+00\n",
      "Epoch 82/1000\n",
      "21/21 [==============================] - 5s 240ms/step - loss: 1.0300 - categorical_accuracy: 0.6407 - val_loss: 17.9331 - val_categorical_accuracy: 0.0000e+00\n",
      "Epoch 83/1000\n",
      "21/21 [==============================] - 5s 235ms/step - loss: 1.0091 - categorical_accuracy: 0.6594 - val_loss: 18.8336 - val_categorical_accuracy: 0.0062\n",
      "Epoch 84/1000\n",
      "21/21 [==============================] - 5s 233ms/step - loss: 0.9967 - categorical_accuracy: 0.6750 - val_loss: 18.2197 - val_categorical_accuracy: 0.0062\n",
      "Epoch 85/1000\n",
      "21/21 [==============================] - 5s 234ms/step - loss: 0.9319 - categorical_accuracy: 0.6967 - val_loss: 17.9237 - val_categorical_accuracy: 0.0000e+00\n",
      "Epoch 86/1000\n",
      "21/21 [==============================] - 5s 227ms/step - loss: 0.9157 - categorical_accuracy: 0.6719 - val_loss: 19.2746 - val_categorical_accuracy: 0.0062\n",
      "Epoch 87/1000\n",
      "21/21 [==============================] - 5s 229ms/step - loss: 0.9045 - categorical_accuracy: 0.7014 - val_loss: 19.1103 - val_categorical_accuracy: 0.0000e+00\n",
      "Epoch 88/1000\n",
      "21/21 [==============================] - 5s 247ms/step - loss: 0.9210 - categorical_accuracy: 0.7014 - val_loss: 18.6968 - val_categorical_accuracy: 0.0000e+00\n",
      "Epoch 89/1000\n",
      "21/21 [==============================] - 5s 234ms/step - loss: 0.7893 - categorical_accuracy: 0.7325 - val_loss: 18.3358 - val_categorical_accuracy: 0.0000e+00\n",
      "Epoch 90/1000\n",
      "21/21 [==============================] - 5s 245ms/step - loss: 0.8406 - categorical_accuracy: 0.6952 - val_loss: 19.5250 - val_categorical_accuracy: 0.0000e+00\n",
      "Epoch 91/1000\n",
      "21/21 [==============================] - 5s 259ms/step - loss: 0.8451 - categorical_accuracy: 0.7154 - val_loss: 19.7796 - val_categorical_accuracy: 0.0000e+00\n",
      "Epoch 92/1000\n",
      "21/21 [==============================] - 5s 249ms/step - loss: 0.9086 - categorical_accuracy: 0.6858 - val_loss: 19.2241 - val_categorical_accuracy: 0.0000e+00\n",
      "Epoch 93/1000\n",
      "21/21 [==============================] - 5s 242ms/step - loss: 0.8429 - categorical_accuracy: 0.7123 - val_loss: 19.9280 - val_categorical_accuracy: 0.0000e+00\n",
      "Epoch 94/1000\n",
      "21/21 [==============================] - 5s 254ms/step - loss: 0.8634 - categorical_accuracy: 0.7061 - val_loss: 20.0707 - val_categorical_accuracy: 0.0000e+00\n",
      "Epoch 95/1000\n"
     ]
    },
    {
     "name": "stdout",
     "output_type": "stream",
     "text": [
      "21/21 [==============================] - 5s 248ms/step - loss: 0.8217 - categorical_accuracy: 0.7170 - val_loss: 20.6062 - val_categorical_accuracy: 0.0062\n",
      "Epoch 96/1000\n",
      "21/21 [==============================] - 5s 255ms/step - loss: 0.8497 - categorical_accuracy: 0.7216 - val_loss: 21.2923 - val_categorical_accuracy: 0.0000e+00\n",
      "Epoch 97/1000\n",
      "21/21 [==============================] - 5s 249ms/step - loss: 0.8300 - categorical_accuracy: 0.7107 - val_loss: 19.6096 - val_categorical_accuracy: 0.0000e+00\n",
      "Epoch 98/1000\n",
      "21/21 [==============================] - 6s 267ms/step - loss: 0.7510 - categorical_accuracy: 0.7543 - val_loss: 19.1022 - val_categorical_accuracy: 0.0000e+00\n",
      "Epoch 99/1000\n",
      "21/21 [==============================] - 5s 248ms/step - loss: 0.7992 - categorical_accuracy: 0.7154 - val_loss: 20.5280 - val_categorical_accuracy: 0.0000e+00\n",
      "Epoch 100/1000\n",
      "21/21 [==============================] - 5s 240ms/step - loss: 0.7177 - categorical_accuracy: 0.7574 - val_loss: 20.5536 - val_categorical_accuracy: 0.0000e+00\n",
      "Epoch 101/1000\n",
      "21/21 [==============================] - 5s 236ms/step - loss: 0.7085 - categorical_accuracy: 0.7667 - val_loss: 21.0126 - val_categorical_accuracy: 0.0000e+00\n",
      "Epoch 102/1000\n",
      "21/21 [==============================] - 5s 236ms/step - loss: 0.7015 - categorical_accuracy: 0.7512 - val_loss: 21.8758 - val_categorical_accuracy: 0.0000e+00\n",
      "Epoch 103/1000\n",
      "21/21 [==============================] - 5s 236ms/step - loss: 0.7176 - categorical_accuracy: 0.7465 - val_loss: 22.3892 - val_categorical_accuracy: 0.0000e+00\n",
      "Epoch 104/1000\n",
      "21/21 [==============================] - 5s 245ms/step - loss: 0.7047 - categorical_accuracy: 0.7605 - val_loss: 21.2575 - val_categorical_accuracy: 0.0000e+00\n",
      "Epoch 105/1000\n",
      "21/21 [==============================] - 5s 237ms/step - loss: 0.6882 - categorical_accuracy: 0.7512 - val_loss: 21.0077 - val_categorical_accuracy: 0.0000e+00\n",
      "Epoch 106/1000\n",
      "21/21 [==============================] - 5s 237ms/step - loss: 0.6589 - categorical_accuracy: 0.7729 - val_loss: 21.5649 - val_categorical_accuracy: 0.0000e+00\n",
      "Epoch 107/1000\n",
      "21/21 [==============================] - 5s 236ms/step - loss: 0.6435 - categorical_accuracy: 0.7916 - val_loss: 20.5992 - val_categorical_accuracy: 0.0000e+00\n",
      "Epoch 108/1000\n",
      "21/21 [==============================] - 5s 240ms/step - loss: 0.6592 - categorical_accuracy: 0.7760 - val_loss: 21.7703 - val_categorical_accuracy: 0.0000e+00\n",
      "Epoch 109/1000\n",
      "21/21 [==============================] - 6s 306ms/step - loss: 0.5940 - categorical_accuracy: 0.7963 - val_loss: 22.5736 - val_categorical_accuracy: 0.0062\n",
      "Epoch 110/1000\n",
      "21/21 [==============================] - 5s 260ms/step - loss: 0.6184 - categorical_accuracy: 0.7932 - val_loss: 23.0762 - val_categorical_accuracy: 0.0000e+00\n",
      "Epoch 111/1000\n",
      "21/21 [==============================] - 5s 253ms/step - loss: 0.6019 - categorical_accuracy: 0.7978 - val_loss: 22.2125 - val_categorical_accuracy: 0.0000e+00\n",
      "Epoch 112/1000\n",
      "21/21 [==============================] - 5s 236ms/step - loss: 0.6111 - categorical_accuracy: 0.7869 - val_loss: 22.0991 - val_categorical_accuracy: 0.0000e+00\n",
      "Epoch 113/1000\n",
      "21/21 [==============================] - 5s 254ms/step - loss: 0.5428 - categorical_accuracy: 0.8072 - val_loss: 22.6193 - val_categorical_accuracy: 0.0062\n",
      "Epoch 114/1000\n",
      "21/21 [==============================] - 5s 260ms/step - loss: 0.5173 - categorical_accuracy: 0.8243 - val_loss: 22.6706 - val_categorical_accuracy: 0.0000e+00\n",
      "Epoch 115/1000\n",
      "21/21 [==============================] - 6s 270ms/step - loss: 0.4862 - categorical_accuracy: 0.8243 - val_loss: 23.6447 - val_categorical_accuracy: 0.0000e+00\n",
      "Epoch 116/1000\n",
      "21/21 [==============================] - 6s 284ms/step - loss: 0.5676 - categorical_accuracy: 0.7776 - val_loss: 23.3620 - val_categorical_accuracy: 0.0000e+00\n",
      "Epoch 117/1000\n",
      "21/21 [==============================] - 5s 246ms/step - loss: 0.5502 - categorical_accuracy: 0.8134 - val_loss: 23.3846 - val_categorical_accuracy: 0.0000e+00\n",
      "Epoch 118/1000\n",
      "21/21 [==============================] - 6s 275ms/step - loss: 0.4867 - categorical_accuracy: 0.8103 - val_loss: 23.7843 - val_categorical_accuracy: 0.0000e+00\n",
      "Epoch 119/1000\n",
      "21/21 [==============================] - 5s 242ms/step - loss: 0.4849 - categorical_accuracy: 0.8367 - val_loss: 24.3381 - val_categorical_accuracy: 0.0000e+00\n",
      "Epoch 120/1000\n",
      "21/21 [==============================] - 5s 255ms/step - loss: 0.5179 - categorical_accuracy: 0.8258 - val_loss: 24.4336 - val_categorical_accuracy: 0.0000e+00\n",
      "Epoch 121/1000\n",
      "21/21 [==============================] - 5s 257ms/step - loss: 0.4581 - categorical_accuracy: 0.8414 - val_loss: 23.4755 - val_categorical_accuracy: 0.0062\n",
      "Epoch 122/1000\n",
      "21/21 [==============================] - 5s 237ms/step - loss: 0.5069 - categorical_accuracy: 0.8243 - val_loss: 24.4488 - val_categorical_accuracy: 0.0000e+00\n",
      "Epoch 123/1000\n",
      "21/21 [==============================] - 5s 234ms/step - loss: 0.5419 - categorical_accuracy: 0.8056 - val_loss: 23.2352 - val_categorical_accuracy: 0.0000e+00\n",
      "Epoch 124/1000\n",
      "21/21 [==============================] - 5s 253ms/step - loss: 0.4613 - categorical_accuracy: 0.8351 - val_loss: 24.2030 - val_categorical_accuracy: 0.0000e+00\n",
      "Epoch 125/1000\n",
      "21/21 [==============================] - 5s 251ms/step - loss: 0.4872 - categorical_accuracy: 0.8320 - val_loss: 24.6441 - val_categorical_accuracy: 0.0000e+00\n",
      "Epoch 126/1000\n",
      "21/21 [==============================] - 5s 253ms/step - loss: 0.4630 - categorical_accuracy: 0.8305 - val_loss: 24.0033 - val_categorical_accuracy: 0.0000e+00\n",
      "Epoch 127/1000\n",
      "21/21 [==============================] - 5s 258ms/step - loss: 0.4643 - categorical_accuracy: 0.8476 - val_loss: 24.2288 - val_categorical_accuracy: 0.0000e+00\n",
      "Epoch 128/1000\n",
      "21/21 [==============================] - 5s 246ms/step - loss: 0.5931 - categorical_accuracy: 0.8227 - val_loss: 24.3435 - val_categorical_accuracy: 0.0000e+00\n",
      "Epoch 129/1000\n",
      "21/21 [==============================] - 5s 244ms/step - loss: 0.5709 - categorical_accuracy: 0.8274 - val_loss: 24.7403 - val_categorical_accuracy: 0.0000e+00\n",
      "Epoch 130/1000\n",
      "21/21 [==============================] - 5s 254ms/step - loss: 0.6227 - categorical_accuracy: 0.8087 - val_loss: 24.4619 - val_categorical_accuracy: 0.0062\n",
      "Epoch 131/1000\n",
      "21/21 [==============================] - 5s 261ms/step - loss: 0.5749 - categorical_accuracy: 0.8149 - val_loss: 24.5190 - val_categorical_accuracy: 0.0062\n",
      "Epoch 132/1000\n",
      "21/21 [==============================] - 5s 245ms/step - loss: 0.4900 - categorical_accuracy: 0.8336 - val_loss: 23.5900 - val_categorical_accuracy: 0.0000e+00\n",
      "Epoch 133/1000\n",
      "21/21 [==============================] - 5s 258ms/step - loss: 0.5863 - categorical_accuracy: 0.8196 - val_loss: 25.4444 - val_categorical_accuracy: 0.0000e+00\n",
      "Epoch 134/1000\n",
      "21/21 [==============================] - 5s 238ms/step - loss: 0.4739 - categorical_accuracy: 0.8367 - val_loss: 25.2928 - val_categorical_accuracy: 0.0000e+00\n",
      "Epoch 135/1000\n",
      "21/21 [==============================] - 5s 239ms/step - loss: 0.4450 - categorical_accuracy: 0.8554 - val_loss: 24.5781 - val_categorical_accuracy: 0.0000e+00\n",
      "Epoch 136/1000\n",
      "21/21 [==============================] - 5s 236ms/step - loss: 0.4807 - categorical_accuracy: 0.8398 - val_loss: 24.6226 - val_categorical_accuracy: 0.0000e+00\n",
      "Epoch 137/1000\n",
      "21/21 [==============================] - 5s 239ms/step - loss: 0.4763 - categorical_accuracy: 0.8414 - val_loss: 24.6520 - val_categorical_accuracy: 0.0000e+00\n",
      "Epoch 138/1000\n",
      "21/21 [==============================] - 5s 246ms/step - loss: 0.5694 - categorical_accuracy: 0.8554 - val_loss: 24.9237 - val_categorical_accuracy: 0.0000e+00\n",
      "Epoch 139/1000\n",
      "21/21 [==============================] - 5s 236ms/step - loss: 0.5033 - categorical_accuracy: 0.8429 - val_loss: 25.4294 - val_categorical_accuracy: 0.0000e+00\n",
      "Epoch 140/1000\n",
      "21/21 [==============================] - 5s 234ms/step - loss: 0.4531 - categorical_accuracy: 0.8600 - val_loss: 25.4284 - val_categorical_accuracy: 0.0000e+00\n",
      "Epoch 141/1000\n",
      "21/21 [==============================] - 5s 241ms/step - loss: 0.5771 - categorical_accuracy: 0.8414 - val_loss: 26.5132 - val_categorical_accuracy: 0.0062\n",
      "Epoch 142/1000\n"
     ]
    },
    {
     "name": "stdout",
     "output_type": "stream",
     "text": [
      "21/21 [==============================] - 5s 237ms/step - loss: 0.5578 - categorical_accuracy: 0.8429 - val_loss: 26.3455 - val_categorical_accuracy: 0.0000e+00\n",
      "Epoch 143/1000\n",
      "21/21 [==============================] - 5s 235ms/step - loss: 0.5668 - categorical_accuracy: 0.8196 - val_loss: 24.4923 - val_categorical_accuracy: 0.0000e+00\n",
      "Epoch 144/1000\n",
      "21/21 [==============================] - 5s 233ms/step - loss: 0.4871 - categorical_accuracy: 0.8507 - val_loss: 26.0941 - val_categorical_accuracy: 0.0000e+00\n",
      "Epoch 145/1000\n",
      "21/21 [==============================] - 5s 232ms/step - loss: 0.4818 - categorical_accuracy: 0.8398 - val_loss: 24.5604 - val_categorical_accuracy: 0.0000e+00\n",
      "Epoch 146/1000\n",
      "21/21 [==============================] - 5s 245ms/step - loss: 0.4451 - categorical_accuracy: 0.8383 - val_loss: 24.6997 - val_categorical_accuracy: 0.0000e+00\n",
      "Epoch 147/1000\n",
      " 8/21 [==========>...................] - ETA: 3s - loss: 0.3756 - categorical_accuracy: 0.8906"
     ]
    },
    {
     "ename": "KeyboardInterrupt",
     "evalue": "",
     "output_type": "error",
     "traceback": [
      "\u001b[0;31m---------------------------------------------------------------------------\u001b[0m",
      "\u001b[0;31mKeyboardInterrupt\u001b[0m                         Traceback (most recent call last)",
      "Cell \u001b[0;32mIn[37], line 15\u001b[0m\n\u001b[1;32m     12\u001b[0m optimizer \u001b[38;5;241m=\u001b[39m Lion(learning_rate\u001b[38;5;241m=\u001b[39m\u001b[38;5;241m.00025\u001b[39m)\n\u001b[1;32m     13\u001b[0m model\u001b[38;5;241m.\u001b[39mcompile(optimizer\u001b[38;5;241m=\u001b[39moptimizer, loss\u001b[38;5;241m=\u001b[39m\u001b[38;5;124m'\u001b[39m\u001b[38;5;124mcategorical_crossentropy\u001b[39m\u001b[38;5;124m'\u001b[39m, metrics\u001b[38;5;241m=\u001b[39m[\u001b[38;5;124m'\u001b[39m\u001b[38;5;124mcategorical_accuracy\u001b[39m\u001b[38;5;124m'\u001b[39m])\n\u001b[0;32m---> 15\u001b[0m history \u001b[38;5;241m=\u001b[39m \u001b[43mmodel\u001b[49m\u001b[38;5;241;43m.\u001b[39;49m\u001b[43mfit\u001b[49m\u001b[43m(\u001b[49m\u001b[43mXtrain\u001b[49m\u001b[43m,\u001b[49m\u001b[43m \u001b[49m\u001b[43mYtrain\u001b[49m\u001b[43m,\u001b[49m\u001b[43m \u001b[49m\u001b[43mepochs\u001b[49m\u001b[38;5;241;43m=\u001b[39;49m\u001b[38;5;241;43m1000\u001b[39;49m\u001b[43m,\u001b[49m\u001b[43m \u001b[49m\u001b[43mvalidation_split\u001b[49m\u001b[38;5;241;43m=\u001b[39;49m\u001b[38;5;241;43m.2\u001b[39;49m\u001b[43m,\u001b[49m\u001b[43m \u001b[49m\u001b[43mbatch_size\u001b[49m\u001b[43m \u001b[49m\u001b[38;5;241;43m=\u001b[39;49m\u001b[43m \u001b[49m\u001b[38;5;241;43m32\u001b[39;49m\u001b[43m,\u001b[49m\u001b[43m \u001b[49m\u001b[43mcallbacks\u001b[49m\u001b[38;5;241;43m=\u001b[39;49m\u001b[43m[\u001b[49m\u001b[43mtb_callback\u001b[49m\u001b[43m]\u001b[49m\u001b[43m)\u001b[49m\n\u001b[1;32m     16\u001b[0m model\u001b[38;5;241m.\u001b[39msummary()\n",
      "File \u001b[0;32m~/miniconda3/lib/python3.10/site-packages/keras/src/utils/traceback_utils.py:65\u001b[0m, in \u001b[0;36mfilter_traceback.<locals>.error_handler\u001b[0;34m(*args, **kwargs)\u001b[0m\n\u001b[1;32m     63\u001b[0m filtered_tb \u001b[38;5;241m=\u001b[39m \u001b[38;5;28;01mNone\u001b[39;00m\n\u001b[1;32m     64\u001b[0m \u001b[38;5;28;01mtry\u001b[39;00m:\n\u001b[0;32m---> 65\u001b[0m     \u001b[38;5;28;01mreturn\u001b[39;00m \u001b[43mfn\u001b[49m\u001b[43m(\u001b[49m\u001b[38;5;241;43m*\u001b[39;49m\u001b[43margs\u001b[49m\u001b[43m,\u001b[49m\u001b[43m \u001b[49m\u001b[38;5;241;43m*\u001b[39;49m\u001b[38;5;241;43m*\u001b[39;49m\u001b[43mkwargs\u001b[49m\u001b[43m)\u001b[49m\n\u001b[1;32m     66\u001b[0m \u001b[38;5;28;01mexcept\u001b[39;00m \u001b[38;5;167;01mException\u001b[39;00m \u001b[38;5;28;01mas\u001b[39;00m e:\n\u001b[1;32m     67\u001b[0m     filtered_tb \u001b[38;5;241m=\u001b[39m _process_traceback_frames(e\u001b[38;5;241m.\u001b[39m__traceback__)\n",
      "File \u001b[0;32m~/miniconda3/lib/python3.10/site-packages/keras/src/engine/training.py:1742\u001b[0m, in \u001b[0;36mModel.fit\u001b[0;34m(self, x, y, batch_size, epochs, verbose, callbacks, validation_split, validation_data, shuffle, class_weight, sample_weight, initial_epoch, steps_per_epoch, validation_steps, validation_batch_size, validation_freq, max_queue_size, workers, use_multiprocessing)\u001b[0m\n\u001b[1;32m   1734\u001b[0m \u001b[38;5;28;01mwith\u001b[39;00m tf\u001b[38;5;241m.\u001b[39mprofiler\u001b[38;5;241m.\u001b[39mexperimental\u001b[38;5;241m.\u001b[39mTrace(\n\u001b[1;32m   1735\u001b[0m     \u001b[38;5;124m\"\u001b[39m\u001b[38;5;124mtrain\u001b[39m\u001b[38;5;124m\"\u001b[39m,\n\u001b[1;32m   1736\u001b[0m     epoch_num\u001b[38;5;241m=\u001b[39mepoch,\n\u001b[0;32m   (...)\u001b[0m\n\u001b[1;32m   1739\u001b[0m     _r\u001b[38;5;241m=\u001b[39m\u001b[38;5;241m1\u001b[39m,\n\u001b[1;32m   1740\u001b[0m ):\n\u001b[1;32m   1741\u001b[0m     callbacks\u001b[38;5;241m.\u001b[39mon_train_batch_begin(step)\n\u001b[0;32m-> 1742\u001b[0m     tmp_logs \u001b[38;5;241m=\u001b[39m \u001b[38;5;28;43mself\u001b[39;49m\u001b[38;5;241;43m.\u001b[39;49m\u001b[43mtrain_function\u001b[49m\u001b[43m(\u001b[49m\u001b[43miterator\u001b[49m\u001b[43m)\u001b[49m\n\u001b[1;32m   1743\u001b[0m     \u001b[38;5;28;01mif\u001b[39;00m data_handler\u001b[38;5;241m.\u001b[39mshould_sync:\n\u001b[1;32m   1744\u001b[0m         context\u001b[38;5;241m.\u001b[39masync_wait()\n",
      "File \u001b[0;32m~/miniconda3/lib/python3.10/site-packages/tensorflow/python/util/traceback_utils.py:150\u001b[0m, in \u001b[0;36mfilter_traceback.<locals>.error_handler\u001b[0;34m(*args, **kwargs)\u001b[0m\n\u001b[1;32m    148\u001b[0m filtered_tb \u001b[38;5;241m=\u001b[39m \u001b[38;5;28;01mNone\u001b[39;00m\n\u001b[1;32m    149\u001b[0m \u001b[38;5;28;01mtry\u001b[39;00m:\n\u001b[0;32m--> 150\u001b[0m   \u001b[38;5;28;01mreturn\u001b[39;00m \u001b[43mfn\u001b[49m\u001b[43m(\u001b[49m\u001b[38;5;241;43m*\u001b[39;49m\u001b[43margs\u001b[49m\u001b[43m,\u001b[49m\u001b[43m \u001b[49m\u001b[38;5;241;43m*\u001b[39;49m\u001b[38;5;241;43m*\u001b[39;49m\u001b[43mkwargs\u001b[49m\u001b[43m)\u001b[49m\n\u001b[1;32m    151\u001b[0m \u001b[38;5;28;01mexcept\u001b[39;00m \u001b[38;5;167;01mException\u001b[39;00m \u001b[38;5;28;01mas\u001b[39;00m e:\n\u001b[1;32m    152\u001b[0m   filtered_tb \u001b[38;5;241m=\u001b[39m _process_traceback_frames(e\u001b[38;5;241m.\u001b[39m__traceback__)\n",
      "File \u001b[0;32m~/miniconda3/lib/python3.10/site-packages/tensorflow/python/eager/polymorphic_function/polymorphic_function.py:825\u001b[0m, in \u001b[0;36mFunction.__call__\u001b[0;34m(self, *args, **kwds)\u001b[0m\n\u001b[1;32m    822\u001b[0m compiler \u001b[38;5;241m=\u001b[39m \u001b[38;5;124m\"\u001b[39m\u001b[38;5;124mxla\u001b[39m\u001b[38;5;124m\"\u001b[39m \u001b[38;5;28;01mif\u001b[39;00m \u001b[38;5;28mself\u001b[39m\u001b[38;5;241m.\u001b[39m_jit_compile \u001b[38;5;28;01melse\u001b[39;00m \u001b[38;5;124m\"\u001b[39m\u001b[38;5;124mnonXla\u001b[39m\u001b[38;5;124m\"\u001b[39m\n\u001b[1;32m    824\u001b[0m \u001b[38;5;28;01mwith\u001b[39;00m OptionalXlaContext(\u001b[38;5;28mself\u001b[39m\u001b[38;5;241m.\u001b[39m_jit_compile):\n\u001b[0;32m--> 825\u001b[0m   result \u001b[38;5;241m=\u001b[39m \u001b[38;5;28;43mself\u001b[39;49m\u001b[38;5;241;43m.\u001b[39;49m\u001b[43m_call\u001b[49m\u001b[43m(\u001b[49m\u001b[38;5;241;43m*\u001b[39;49m\u001b[43margs\u001b[49m\u001b[43m,\u001b[49m\u001b[43m \u001b[49m\u001b[38;5;241;43m*\u001b[39;49m\u001b[38;5;241;43m*\u001b[39;49m\u001b[43mkwds\u001b[49m\u001b[43m)\u001b[49m\n\u001b[1;32m    827\u001b[0m new_tracing_count \u001b[38;5;241m=\u001b[39m \u001b[38;5;28mself\u001b[39m\u001b[38;5;241m.\u001b[39mexperimental_get_tracing_count()\n\u001b[1;32m    828\u001b[0m without_tracing \u001b[38;5;241m=\u001b[39m (tracing_count \u001b[38;5;241m==\u001b[39m new_tracing_count)\n",
      "File \u001b[0;32m~/miniconda3/lib/python3.10/site-packages/tensorflow/python/eager/polymorphic_function/polymorphic_function.py:857\u001b[0m, in \u001b[0;36mFunction._call\u001b[0;34m(self, *args, **kwds)\u001b[0m\n\u001b[1;32m    854\u001b[0m   \u001b[38;5;28mself\u001b[39m\u001b[38;5;241m.\u001b[39m_lock\u001b[38;5;241m.\u001b[39mrelease()\n\u001b[1;32m    855\u001b[0m   \u001b[38;5;66;03m# In this case we have created variables on the first call, so we run the\u001b[39;00m\n\u001b[1;32m    856\u001b[0m   \u001b[38;5;66;03m# defunned version which is guaranteed to never create variables.\u001b[39;00m\n\u001b[0;32m--> 857\u001b[0m   \u001b[38;5;28;01mreturn\u001b[39;00m \u001b[38;5;28;43mself\u001b[39;49m\u001b[38;5;241;43m.\u001b[39;49m\u001b[43m_no_variable_creation_fn\u001b[49m\u001b[43m(\u001b[49m\u001b[38;5;241;43m*\u001b[39;49m\u001b[43margs\u001b[49m\u001b[43m,\u001b[49m\u001b[43m \u001b[49m\u001b[38;5;241;43m*\u001b[39;49m\u001b[38;5;241;43m*\u001b[39;49m\u001b[43mkwds\u001b[49m\u001b[43m)\u001b[49m  \u001b[38;5;66;03m# pylint: disable=not-callable\u001b[39;00m\n\u001b[1;32m    858\u001b[0m \u001b[38;5;28;01melif\u001b[39;00m \u001b[38;5;28mself\u001b[39m\u001b[38;5;241m.\u001b[39m_variable_creation_fn \u001b[38;5;129;01mis\u001b[39;00m \u001b[38;5;129;01mnot\u001b[39;00m \u001b[38;5;28;01mNone\u001b[39;00m:\n\u001b[1;32m    859\u001b[0m   \u001b[38;5;66;03m# Release the lock early so that multiple threads can perform the call\u001b[39;00m\n\u001b[1;32m    860\u001b[0m   \u001b[38;5;66;03m# in parallel.\u001b[39;00m\n\u001b[1;32m    861\u001b[0m   \u001b[38;5;28mself\u001b[39m\u001b[38;5;241m.\u001b[39m_lock\u001b[38;5;241m.\u001b[39mrelease()\n",
      "File \u001b[0;32m~/miniconda3/lib/python3.10/site-packages/tensorflow/python/eager/polymorphic_function/tracing_compiler.py:148\u001b[0m, in \u001b[0;36mTracingCompiler.__call__\u001b[0;34m(self, *args, **kwargs)\u001b[0m\n\u001b[1;32m    145\u001b[0m \u001b[38;5;28;01mwith\u001b[39;00m \u001b[38;5;28mself\u001b[39m\u001b[38;5;241m.\u001b[39m_lock:\n\u001b[1;32m    146\u001b[0m   (concrete_function,\n\u001b[1;32m    147\u001b[0m    filtered_flat_args) \u001b[38;5;241m=\u001b[39m \u001b[38;5;28mself\u001b[39m\u001b[38;5;241m.\u001b[39m_maybe_define_function(args, kwargs)\n\u001b[0;32m--> 148\u001b[0m \u001b[38;5;28;01mreturn\u001b[39;00m \u001b[43mconcrete_function\u001b[49m\u001b[38;5;241;43m.\u001b[39;49m\u001b[43m_call_flat\u001b[49m\u001b[43m(\u001b[49m\n\u001b[1;32m    149\u001b[0m \u001b[43m    \u001b[49m\u001b[43mfiltered_flat_args\u001b[49m\u001b[43m,\u001b[49m\u001b[43m \u001b[49m\u001b[43mcaptured_inputs\u001b[49m\u001b[38;5;241;43m=\u001b[39;49m\u001b[43mconcrete_function\u001b[49m\u001b[38;5;241;43m.\u001b[39;49m\u001b[43mcaptured_inputs\u001b[49m\u001b[43m)\u001b[49m\n",
      "File \u001b[0;32m~/miniconda3/lib/python3.10/site-packages/tensorflow/python/eager/polymorphic_function/monomorphic_function.py:1349\u001b[0m, in \u001b[0;36mConcreteFunction._call_flat\u001b[0;34m(self, args, captured_inputs)\u001b[0m\n\u001b[1;32m   1345\u001b[0m possible_gradient_type \u001b[38;5;241m=\u001b[39m gradients_util\u001b[38;5;241m.\u001b[39mPossibleTapeGradientTypes(args)\n\u001b[1;32m   1346\u001b[0m \u001b[38;5;28;01mif\u001b[39;00m (possible_gradient_type \u001b[38;5;241m==\u001b[39m gradients_util\u001b[38;5;241m.\u001b[39mPOSSIBLE_GRADIENT_TYPES_NONE\n\u001b[1;32m   1347\u001b[0m     \u001b[38;5;129;01mand\u001b[39;00m executing_eagerly):\n\u001b[1;32m   1348\u001b[0m   \u001b[38;5;66;03m# No tape is watching; skip to running the function.\u001b[39;00m\n\u001b[0;32m-> 1349\u001b[0m   \u001b[38;5;28;01mreturn\u001b[39;00m \u001b[38;5;28mself\u001b[39m\u001b[38;5;241m.\u001b[39m_build_call_outputs(\u001b[38;5;28;43mself\u001b[39;49m\u001b[38;5;241;43m.\u001b[39;49m\u001b[43m_inference_function\u001b[49m\u001b[43m(\u001b[49m\u001b[38;5;241;43m*\u001b[39;49m\u001b[43margs\u001b[49m\u001b[43m)\u001b[49m)\n\u001b[1;32m   1350\u001b[0m forward_backward \u001b[38;5;241m=\u001b[39m \u001b[38;5;28mself\u001b[39m\u001b[38;5;241m.\u001b[39m_select_forward_and_backward_functions(\n\u001b[1;32m   1351\u001b[0m     args,\n\u001b[1;32m   1352\u001b[0m     possible_gradient_type,\n\u001b[1;32m   1353\u001b[0m     executing_eagerly)\n\u001b[1;32m   1354\u001b[0m forward_function, args_with_tangents \u001b[38;5;241m=\u001b[39m forward_backward\u001b[38;5;241m.\u001b[39mforward()\n",
      "File \u001b[0;32m~/miniconda3/lib/python3.10/site-packages/tensorflow/python/eager/polymorphic_function/atomic_function.py:196\u001b[0m, in \u001b[0;36mAtomicFunction.__call__\u001b[0;34m(self, *args)\u001b[0m\n\u001b[1;32m    194\u001b[0m \u001b[38;5;28;01mwith\u001b[39;00m record\u001b[38;5;241m.\u001b[39mstop_recording():\n\u001b[1;32m    195\u001b[0m   \u001b[38;5;28;01mif\u001b[39;00m \u001b[38;5;28mself\u001b[39m\u001b[38;5;241m.\u001b[39m_bound_context\u001b[38;5;241m.\u001b[39mexecuting_eagerly():\n\u001b[0;32m--> 196\u001b[0m     outputs \u001b[38;5;241m=\u001b[39m \u001b[38;5;28;43mself\u001b[39;49m\u001b[38;5;241;43m.\u001b[39;49m\u001b[43m_bound_context\u001b[49m\u001b[38;5;241;43m.\u001b[39;49m\u001b[43mcall_function\u001b[49m\u001b[43m(\u001b[49m\n\u001b[1;32m    197\u001b[0m \u001b[43m        \u001b[49m\u001b[38;5;28;43mself\u001b[39;49m\u001b[38;5;241;43m.\u001b[39;49m\u001b[43mname\u001b[49m\u001b[43m,\u001b[49m\n\u001b[1;32m    198\u001b[0m \u001b[43m        \u001b[49m\u001b[38;5;28;43mlist\u001b[39;49m\u001b[43m(\u001b[49m\u001b[43margs\u001b[49m\u001b[43m)\u001b[49m\u001b[43m,\u001b[49m\n\u001b[1;32m    199\u001b[0m \u001b[43m        \u001b[49m\u001b[38;5;28;43mlen\u001b[39;49m\u001b[43m(\u001b[49m\u001b[38;5;28;43mself\u001b[39;49m\u001b[38;5;241;43m.\u001b[39;49m\u001b[43mfunction_type\u001b[49m\u001b[38;5;241;43m.\u001b[39;49m\u001b[43mflat_outputs\u001b[49m\u001b[43m)\u001b[49m\u001b[43m,\u001b[49m\n\u001b[1;32m    200\u001b[0m \u001b[43m    \u001b[49m\u001b[43m)\u001b[49m\n\u001b[1;32m    201\u001b[0m   \u001b[38;5;28;01melse\u001b[39;00m:\n\u001b[1;32m    202\u001b[0m     outputs \u001b[38;5;241m=\u001b[39m make_call_op_in_graph(\u001b[38;5;28mself\u001b[39m, \u001b[38;5;28mlist\u001b[39m(args))\n",
      "File \u001b[0;32m~/miniconda3/lib/python3.10/site-packages/tensorflow/python/eager/context.py:1457\u001b[0m, in \u001b[0;36mContext.call_function\u001b[0;34m(self, name, tensor_inputs, num_outputs)\u001b[0m\n\u001b[1;32m   1455\u001b[0m cancellation_context \u001b[38;5;241m=\u001b[39m cancellation\u001b[38;5;241m.\u001b[39mcontext()\n\u001b[1;32m   1456\u001b[0m \u001b[38;5;28;01mif\u001b[39;00m cancellation_context \u001b[38;5;129;01mis\u001b[39;00m \u001b[38;5;28;01mNone\u001b[39;00m:\n\u001b[0;32m-> 1457\u001b[0m   outputs \u001b[38;5;241m=\u001b[39m \u001b[43mexecute\u001b[49m\u001b[38;5;241;43m.\u001b[39;49m\u001b[43mexecute\u001b[49m\u001b[43m(\u001b[49m\n\u001b[1;32m   1458\u001b[0m \u001b[43m      \u001b[49m\u001b[43mname\u001b[49m\u001b[38;5;241;43m.\u001b[39;49m\u001b[43mdecode\u001b[49m\u001b[43m(\u001b[49m\u001b[38;5;124;43m\"\u001b[39;49m\u001b[38;5;124;43mutf-8\u001b[39;49m\u001b[38;5;124;43m\"\u001b[39;49m\u001b[43m)\u001b[49m\u001b[43m,\u001b[49m\n\u001b[1;32m   1459\u001b[0m \u001b[43m      \u001b[49m\u001b[43mnum_outputs\u001b[49m\u001b[38;5;241;43m=\u001b[39;49m\u001b[43mnum_outputs\u001b[49m\u001b[43m,\u001b[49m\n\u001b[1;32m   1460\u001b[0m \u001b[43m      \u001b[49m\u001b[43minputs\u001b[49m\u001b[38;5;241;43m=\u001b[39;49m\u001b[43mtensor_inputs\u001b[49m\u001b[43m,\u001b[49m\n\u001b[1;32m   1461\u001b[0m \u001b[43m      \u001b[49m\u001b[43mattrs\u001b[49m\u001b[38;5;241;43m=\u001b[39;49m\u001b[43mattrs\u001b[49m\u001b[43m,\u001b[49m\n\u001b[1;32m   1462\u001b[0m \u001b[43m      \u001b[49m\u001b[43mctx\u001b[49m\u001b[38;5;241;43m=\u001b[39;49m\u001b[38;5;28;43mself\u001b[39;49m\u001b[43m,\u001b[49m\n\u001b[1;32m   1463\u001b[0m \u001b[43m  \u001b[49m\u001b[43m)\u001b[49m\n\u001b[1;32m   1464\u001b[0m \u001b[38;5;28;01melse\u001b[39;00m:\n\u001b[1;32m   1465\u001b[0m   outputs \u001b[38;5;241m=\u001b[39m execute\u001b[38;5;241m.\u001b[39mexecute_with_cancellation(\n\u001b[1;32m   1466\u001b[0m       name\u001b[38;5;241m.\u001b[39mdecode(\u001b[38;5;124m\"\u001b[39m\u001b[38;5;124mutf-8\u001b[39m\u001b[38;5;124m\"\u001b[39m),\n\u001b[1;32m   1467\u001b[0m       num_outputs\u001b[38;5;241m=\u001b[39mnum_outputs,\n\u001b[0;32m   (...)\u001b[0m\n\u001b[1;32m   1471\u001b[0m       cancellation_manager\u001b[38;5;241m=\u001b[39mcancellation_context,\n\u001b[1;32m   1472\u001b[0m   )\n",
      "File \u001b[0;32m~/miniconda3/lib/python3.10/site-packages/tensorflow/python/eager/execute.py:53\u001b[0m, in \u001b[0;36mquick_execute\u001b[0;34m(op_name, num_outputs, inputs, attrs, ctx, name)\u001b[0m\n\u001b[1;32m     51\u001b[0m \u001b[38;5;28;01mtry\u001b[39;00m:\n\u001b[1;32m     52\u001b[0m   ctx\u001b[38;5;241m.\u001b[39mensure_initialized()\n\u001b[0;32m---> 53\u001b[0m   tensors \u001b[38;5;241m=\u001b[39m \u001b[43mpywrap_tfe\u001b[49m\u001b[38;5;241;43m.\u001b[39;49m\u001b[43mTFE_Py_Execute\u001b[49m\u001b[43m(\u001b[49m\u001b[43mctx\u001b[49m\u001b[38;5;241;43m.\u001b[39;49m\u001b[43m_handle\u001b[49m\u001b[43m,\u001b[49m\u001b[43m \u001b[49m\u001b[43mdevice_name\u001b[49m\u001b[43m,\u001b[49m\u001b[43m \u001b[49m\u001b[43mop_name\u001b[49m\u001b[43m,\u001b[49m\n\u001b[1;32m     54\u001b[0m \u001b[43m                                      \u001b[49m\u001b[43minputs\u001b[49m\u001b[43m,\u001b[49m\u001b[43m \u001b[49m\u001b[43mattrs\u001b[49m\u001b[43m,\u001b[49m\u001b[43m \u001b[49m\u001b[43mnum_outputs\u001b[49m\u001b[43m)\u001b[49m\n\u001b[1;32m     55\u001b[0m \u001b[38;5;28;01mexcept\u001b[39;00m core\u001b[38;5;241m.\u001b[39m_NotOkStatusException \u001b[38;5;28;01mas\u001b[39;00m e:\n\u001b[1;32m     56\u001b[0m   \u001b[38;5;28;01mif\u001b[39;00m name \u001b[38;5;129;01mis\u001b[39;00m \u001b[38;5;129;01mnot\u001b[39;00m \u001b[38;5;28;01mNone\u001b[39;00m:\n",
      "\u001b[0;31mKeyboardInterrupt\u001b[0m: "
     ]
    }
   ],
   "source": [
    "model = Sequential()\n",
    "\n",
    "act_function = 'LeakyReLU'\n",
    "model.add(GRU(128, return_sequences=False, activation=act_function, input_shape=(130,1662)))\n",
    "#model.add(GRU(128, return_sequences=True, activation=act_function))\n",
    "#model.add(LSTM(64, return_sequences=False, activation=act_function))\n",
    "model.add(Dense(128, activation=act_function, input_shape=(130,1662)))\n",
    "model.add(Dense(128, activation=act_function))\n",
    "model.add(Dense(64, activation=act_function))\n",
    "model.add(Dropout(.2))\n",
    "model.add(Dense(50, activation='softmax'))\n",
    "optimizer = Lion(learning_rate=.00025)\n",
    "model.compile(optimizer=optimizer, loss='categorical_crossentropy', metrics=['categorical_accuracy'])\n",
    "\n",
    "history = model.fit(Xtrain, Ytrain, epochs=1000, validation_split=.2, batch_size = 32, callbacks=[tb_callback])\n",
    "model.summary()"
   ]
  },
  {
   "cell_type": "code",
   "execution_count": 19,
   "id": "9d747f03",
   "metadata": {
    "ExecuteTime": {
     "end_time": "2023-08-07T23:46:27.836395Z",
     "start_time": "2023-08-07T23:42:54.461518Z"
    },
    "scrolled": true
   },
   "outputs": [
    {
     "name": "stderr",
     "output_type": "stream",
     "text": [
      "2023-08-08 00:42:54.535650: I tensorflow/core/common_runtime/gpu/gpu_device.cc:1639] Created device /job:localhost/replica:0/task:0/device:GPU:0 with 1739 MB memory:  -> device: 0, name: NVIDIA GeForce MX250, pci bus id: 0000:01:00.0, compute capability: 6.1\n"
     ]
    },
    {
     "name": "stdout",
     "output_type": "stream",
     "text": [
      "Epoch 1/1000\n"
     ]
    },
    {
     "name": "stderr",
     "output_type": "stream",
     "text": [
      "2023-08-08 00:42:58.646820: I tensorflow/compiler/xla/stream_executor/cuda/cuda_dnn.cc:432] Loaded cuDNN version 8600\n",
      "2023-08-08 00:42:58.750163: I tensorflow/compiler/xla/service/service.cc:168] XLA service 0x7f53c892a510 initialized for platform CUDA (this does not guarantee that XLA will be used). Devices:\n",
      "2023-08-08 00:42:58.750197: I tensorflow/compiler/xla/service/service.cc:176]   StreamExecutor device (0): NVIDIA GeForce MX250, Compute Capability 6.1\n",
      "2023-08-08 00:42:58.755965: I tensorflow/compiler/mlir/tensorflow/utils/dump_mlir_util.cc:255] disabling MLIR crash reproducer, set env var `MLIR_CRASH_REPRODUCER_DIRECTORY` to enable.\n",
      "2023-08-08 00:42:58.830948: I ./tensorflow/compiler/jit/device_compiler.h:186] Compiled cluster using XLA!  This line is logged at most once for the lifetime of the process.\n"
     ]
    },
    {
     "name": "stdout",
     "output_type": "stream",
     "text": [
      "6/6 [==============================] - 5s 422ms/step - loss: 3.9337 - categorical_accuracy: 0.0233 - val_loss: 4.0035 - val_categorical_accuracy: 0.0000e+00\n",
      "Epoch 2/1000\n",
      "6/6 [==============================] - 1s 126ms/step - loss: 3.9116 - categorical_accuracy: 0.0280 - val_loss: 3.9327 - val_categorical_accuracy: 0.0000e+00\n",
      "Epoch 3/1000\n",
      "6/6 [==============================] - 1s 129ms/step - loss: 3.9111 - categorical_accuracy: 0.0295 - val_loss: 4.0119 - val_categorical_accuracy: 0.0000e+00\n",
      "Epoch 4/1000\n",
      "6/6 [==============================] - 1s 126ms/step - loss: 3.9109 - categorical_accuracy: 0.0249 - val_loss: 4.0355 - val_categorical_accuracy: 0.0000e+00\n",
      "Epoch 5/1000\n",
      "6/6 [==============================] - 1s 127ms/step - loss: 3.9106 - categorical_accuracy: 0.0280 - val_loss: 4.0624 - val_categorical_accuracy: 0.0000e+00\n",
      "Epoch 6/1000\n",
      "6/6 [==============================] - 1s 128ms/step - loss: 3.9100 - categorical_accuracy: 0.0249 - val_loss: 4.0626 - val_categorical_accuracy: 0.0000e+00\n",
      "Epoch 7/1000\n",
      "6/6 [==============================] - 1s 127ms/step - loss: 3.9097 - categorical_accuracy: 0.0109 - val_loss: 4.0648 - val_categorical_accuracy: 0.0000e+00\n",
      "Epoch 8/1000\n",
      "6/6 [==============================] - 1s 127ms/step - loss: 3.9095 - categorical_accuracy: 0.0202 - val_loss: 4.0721 - val_categorical_accuracy: 0.0000e+00\n",
      "Epoch 9/1000\n",
      "6/6 [==============================] - 1s 128ms/step - loss: 3.9087 - categorical_accuracy: 0.0280 - val_loss: 4.0732 - val_categorical_accuracy: 0.0000e+00\n",
      "Epoch 10/1000\n",
      "6/6 [==============================] - 1s 130ms/step - loss: 3.9086 - categorical_accuracy: 0.0233 - val_loss: 4.0582 - val_categorical_accuracy: 0.0000e+00\n",
      "Epoch 11/1000\n",
      "6/6 [==============================] - 1s 128ms/step - loss: 3.9078 - categorical_accuracy: 0.0311 - val_loss: 4.2323 - val_categorical_accuracy: 0.0000e+00\n",
      "Epoch 12/1000\n",
      "6/6 [==============================] - 1s 131ms/step - loss: 3.9078 - categorical_accuracy: 0.0264 - val_loss: 4.0742 - val_categorical_accuracy: 0.0000e+00\n",
      "Epoch 13/1000\n",
      "6/6 [==============================] - 1s 129ms/step - loss: 3.9073 - categorical_accuracy: 0.0358 - val_loss: 4.0724 - val_categorical_accuracy: 0.0000e+00\n",
      "Epoch 14/1000\n",
      "6/6 [==============================] - 1s 128ms/step - loss: 3.9069 - categorical_accuracy: 0.0327 - val_loss: 4.0267 - val_categorical_accuracy: 0.0000e+00\n",
      "Epoch 15/1000\n",
      "6/6 [==============================] - 1s 127ms/step - loss: 3.9065 - categorical_accuracy: 0.0264 - val_loss: 4.0131 - val_categorical_accuracy: 0.0000e+00\n",
      "Epoch 16/1000\n",
      "6/6 [==============================] - 1s 132ms/step - loss: 3.9161 - categorical_accuracy: 0.0249 - val_loss: 4.0136 - val_categorical_accuracy: 0.0000e+00\n",
      "Epoch 17/1000\n",
      "6/6 [==============================] - 1s 129ms/step - loss: 3.9177 - categorical_accuracy: 0.0295 - val_loss: 3.9331 - val_categorical_accuracy: 0.0000e+00\n",
      "Epoch 18/1000\n",
      "6/6 [==============================] - 1s 128ms/step - loss: 3.9054 - categorical_accuracy: 0.0264 - val_loss: 4.0569 - val_categorical_accuracy: 0.0000e+00\n",
      "Epoch 19/1000\n",
      "6/6 [==============================] - 1s 128ms/step - loss: 3.9056 - categorical_accuracy: 0.0218 - val_loss: 4.0574 - val_categorical_accuracy: 0.0000e+00\n",
      "Epoch 20/1000\n",
      "6/6 [==============================] - 1s 169ms/step - loss: 3.9045 - categorical_accuracy: 0.0311 - val_loss: 4.2372 - val_categorical_accuracy: 0.0000e+00\n",
      "Epoch 21/1000\n",
      "6/6 [==============================] - 1s 126ms/step - loss: 3.9050 - categorical_accuracy: 0.0202 - val_loss: 4.0682 - val_categorical_accuracy: 0.0000e+00\n",
      "Epoch 22/1000\n",
      "6/6 [==============================] - 1s 129ms/step - loss: 3.9037 - categorical_accuracy: 0.0233 - val_loss: 4.0698 - val_categorical_accuracy: 0.0000e+00\n",
      "Epoch 23/1000\n",
      "6/6 [==============================] - 1s 128ms/step - loss: 3.9027 - categorical_accuracy: 0.0233 - val_loss: 4.2836 - val_categorical_accuracy: 0.0000e+00\n",
      "Epoch 24/1000\n",
      "6/6 [==============================] - 1s 129ms/step - loss: 3.9037 - categorical_accuracy: 0.0342 - val_loss: 4.0719 - val_categorical_accuracy: 0.0000e+00\n",
      "Epoch 25/1000\n",
      "6/6 [==============================] - 1s 128ms/step - loss: 3.9021 - categorical_accuracy: 0.0218 - val_loss: 4.0739 - val_categorical_accuracy: 0.0000e+00\n",
      "Epoch 26/1000\n",
      "6/6 [==============================] - 1s 129ms/step - loss: 3.9039 - categorical_accuracy: 0.0233 - val_loss: 4.0735 - val_categorical_accuracy: 0.0000e+00\n",
      "Epoch 27/1000\n",
      "6/6 [==============================] - 1s 129ms/step - loss: 3.9011 - categorical_accuracy: 0.0249 - val_loss: 4.0224 - val_categorical_accuracy: 0.0000e+00\n",
      "Epoch 28/1000\n",
      "6/6 [==============================] - 1s 132ms/step - loss: 3.9110 - categorical_accuracy: 0.0156 - val_loss: 3.9495 - val_categorical_accuracy: 0.0000e+00\n",
      "Epoch 29/1000\n",
      "6/6 [==============================] - 1s 132ms/step - loss: 3.9022 - categorical_accuracy: 0.0171 - val_loss: 4.0776 - val_categorical_accuracy: 0.0000e+00\n",
      "Epoch 30/1000\n",
      "6/6 [==============================] - 1s 129ms/step - loss: 3.8997 - categorical_accuracy: 0.0373 - val_loss: 4.0778 - val_categorical_accuracy: 0.0000e+00\n",
      "Epoch 31/1000\n",
      "6/6 [==============================] - 1s 128ms/step - loss: 3.8998 - categorical_accuracy: 0.0187 - val_loss: 4.0751 - val_categorical_accuracy: 0.0000e+00\n",
      "Epoch 32/1000\n",
      "6/6 [==============================] - 1s 120ms/step - loss: 3.8996 - categorical_accuracy: 0.0218 - val_loss: 4.3168 - val_categorical_accuracy: 0.0000e+00\n",
      "Epoch 33/1000\n",
      "6/6 [==============================] - 1s 129ms/step - loss: 3.8982 - categorical_accuracy: 0.0311 - val_loss: 4.0811 - val_categorical_accuracy: 0.0000e+00\n",
      "Epoch 34/1000\n",
      "6/6 [==============================] - 1s 129ms/step - loss: 3.8991 - categorical_accuracy: 0.0327 - val_loss: 4.0742 - val_categorical_accuracy: 0.0000e+00\n",
      "Epoch 35/1000\n",
      "6/6 [==============================] - 1s 135ms/step - loss: 3.8980 - categorical_accuracy: 0.0327 - val_loss: 4.0831 - val_categorical_accuracy: 0.0000e+00\n",
      "Epoch 36/1000\n",
      "6/6 [==============================] - 1s 128ms/step - loss: 3.8983 - categorical_accuracy: 0.0233 - val_loss: 4.0948 - val_categorical_accuracy: 0.0000e+00\n",
      "Epoch 37/1000\n",
      "6/6 [==============================] - 1s 135ms/step - loss: 3.9318 - categorical_accuracy: 0.0264 - val_loss: 4.0157 - val_categorical_accuracy: 0.0000e+00\n",
      "Epoch 38/1000\n",
      "6/6 [==============================] - 1s 132ms/step - loss: 3.8955 - categorical_accuracy: 0.0264 - val_loss: 4.0799 - val_categorical_accuracy: 0.0000e+00\n",
      "Epoch 39/1000\n",
      "6/6 [==============================] - 1s 129ms/step - loss: 3.8942 - categorical_accuracy: 0.0311 - val_loss: 3.9977 - val_categorical_accuracy: 0.0000e+00\n",
      "Epoch 40/1000\n",
      "6/6 [==============================] - 1s 129ms/step - loss: 3.8963 - categorical_accuracy: 0.0280 - val_loss: 3.9388 - val_categorical_accuracy: 0.0000e+00\n",
      "Epoch 41/1000\n",
      "6/6 [==============================] - 1s 130ms/step - loss: 3.8978 - categorical_accuracy: 0.0233 - val_loss: 4.0104 - val_categorical_accuracy: 0.0000e+00\n",
      "Epoch 42/1000\n",
      "6/6 [==============================] - 1s 128ms/step - loss: 3.8954 - categorical_accuracy: 0.0156 - val_loss: 4.0886 - val_categorical_accuracy: 0.0000e+00\n",
      "Epoch 43/1000\n",
      "6/6 [==============================] - 1s 129ms/step - loss: 3.8955 - categorical_accuracy: 0.0327 - val_loss: 4.0903 - val_categorical_accuracy: 0.0000e+00\n",
      "Epoch 44/1000\n",
      "6/6 [==============================] - 1s 137ms/step - loss: 3.8948 - categorical_accuracy: 0.0404 - val_loss: 4.1552 - val_categorical_accuracy: 0.0000e+00\n",
      "Epoch 45/1000\n",
      "6/6 [==============================] - 1s 130ms/step - loss: 3.8931 - categorical_accuracy: 0.0264 - val_loss: 4.1011 - val_categorical_accuracy: 0.0000e+00\n",
      "Epoch 46/1000\n",
      "6/6 [==============================] - 1s 133ms/step - loss: 3.8926 - categorical_accuracy: 0.0373 - val_loss: 4.1144 - val_categorical_accuracy: 0.0000e+00\n",
      "Epoch 47/1000\n",
      "6/6 [==============================] - 1s 131ms/step - loss: 3.8922 - categorical_accuracy: 0.0218 - val_loss: 4.0596 - val_categorical_accuracy: 0.0000e+00\n",
      "Epoch 48/1000\n",
      "6/6 [==============================] - 1s 130ms/step - loss: 3.9150 - categorical_accuracy: 0.0187 - val_loss: 3.9859 - val_categorical_accuracy: 0.0000e+00\n",
      "Epoch 49/1000\n"
     ]
    },
    {
     "name": "stdout",
     "output_type": "stream",
     "text": [
      "6/6 [==============================] - 1s 130ms/step - loss: 3.8928 - categorical_accuracy: 0.0295 - val_loss: 4.1070 - val_categorical_accuracy: 0.0000e+00\n",
      "Epoch 50/1000\n",
      "6/6 [==============================] - 1s 129ms/step - loss: 3.8933 - categorical_accuracy: 0.0187 - val_loss: 4.1108 - val_categorical_accuracy: 0.0000e+00\n",
      "Epoch 51/1000\n",
      "6/6 [==============================] - 1s 132ms/step - loss: 3.8900 - categorical_accuracy: 0.0280 - val_loss: 4.0628 - val_categorical_accuracy: 0.0000e+00\n",
      "Epoch 52/1000\n",
      "6/6 [==============================] - 1s 131ms/step - loss: 3.9004 - categorical_accuracy: 0.0249 - val_loss: 3.9938 - val_categorical_accuracy: 0.0000e+00\n",
      "Epoch 53/1000\n",
      "6/6 [==============================] - 1s 130ms/step - loss: 3.8908 - categorical_accuracy: 0.0233 - val_loss: 4.1276 - val_categorical_accuracy: 0.0248\n",
      "Epoch 54/1000\n",
      "6/6 [==============================] - 1s 133ms/step - loss: 3.8924 - categorical_accuracy: 0.0311 - val_loss: 4.1217 - val_categorical_accuracy: 0.0000e+00\n",
      "Epoch 55/1000\n",
      "6/6 [==============================] - 1s 130ms/step - loss: 3.8892 - categorical_accuracy: 0.0202 - val_loss: 4.1249 - val_categorical_accuracy: 0.0000e+00\n",
      "Epoch 56/1000\n",
      "6/6 [==============================] - 1s 131ms/step - loss: 3.8912 - categorical_accuracy: 0.0233 - val_loss: 4.1567 - val_categorical_accuracy: 0.0000e+00\n",
      "Epoch 57/1000\n",
      "6/6 [==============================] - 1s 130ms/step - loss: 3.8892 - categorical_accuracy: 0.0295 - val_loss: 4.1317 - val_categorical_accuracy: 0.0000e+00\n",
      "Epoch 58/1000\n",
      "6/6 [==============================] - 1s 131ms/step - loss: 3.8864 - categorical_accuracy: 0.0233 - val_loss: 4.1371 - val_categorical_accuracy: 0.0000e+00\n",
      "Epoch 59/1000\n",
      "6/6 [==============================] - 1s 131ms/step - loss: 3.8865 - categorical_accuracy: 0.0327 - val_loss: 4.3357 - val_categorical_accuracy: 0.0000e+00\n",
      "Epoch 60/1000\n",
      "6/6 [==============================] - 1s 131ms/step - loss: 3.8878 - categorical_accuracy: 0.0264 - val_loss: 4.1431 - val_categorical_accuracy: 0.0000e+00\n",
      "Epoch 61/1000\n",
      "6/6 [==============================] - 1s 129ms/step - loss: 3.8821 - categorical_accuracy: 0.0218 - val_loss: 4.1455 - val_categorical_accuracy: 0.0000e+00\n",
      "Epoch 62/1000\n",
      "6/6 [==============================] - 1s 130ms/step - loss: 3.8835 - categorical_accuracy: 0.0280 - val_loss: 4.1391 - val_categorical_accuracy: 0.0000e+00\n",
      "Epoch 63/1000\n",
      "6/6 [==============================] - 1s 135ms/step - loss: 3.8837 - categorical_accuracy: 0.0249 - val_loss: 4.1762 - val_categorical_accuracy: 0.0000e+00\n",
      "Epoch 64/1000\n",
      "6/6 [==============================] - 1s 123ms/step - loss: 3.8870 - categorical_accuracy: 0.0218 - val_loss: 4.1533 - val_categorical_accuracy: 0.0000e+00\n",
      "Epoch 65/1000\n",
      "6/6 [==============================] - 1s 130ms/step - loss: 3.8831 - categorical_accuracy: 0.0264 - val_loss: 4.1556 - val_categorical_accuracy: 0.0000e+00\n",
      "Epoch 66/1000\n",
      "6/6 [==============================] - 1s 133ms/step - loss: 3.8835 - categorical_accuracy: 0.0311 - val_loss: 4.0670 - val_categorical_accuracy: 0.0000e+00\n",
      "Epoch 67/1000\n",
      "6/6 [==============================] - 1s 129ms/step - loss: 3.8833 - categorical_accuracy: 0.0342 - val_loss: 4.0344 - val_categorical_accuracy: 0.0000e+00\n",
      "Epoch 68/1000\n",
      "6/6 [==============================] - 1s 132ms/step - loss: 3.8797 - categorical_accuracy: 0.0249 - val_loss: 4.1553 - val_categorical_accuracy: 0.0000e+00\n",
      "Epoch 69/1000\n",
      "6/6 [==============================] - 1s 132ms/step - loss: 3.8805 - categorical_accuracy: 0.0264 - val_loss: 4.1758 - val_categorical_accuracy: 0.0000e+00\n",
      "Epoch 70/1000\n",
      "6/6 [==============================] - 1s 130ms/step - loss: 3.8805 - categorical_accuracy: 0.0295 - val_loss: 3.9288 - val_categorical_accuracy: 0.0000e+00\n",
      "Epoch 71/1000\n",
      "6/6 [==============================] - 1s 133ms/step - loss: 3.8909 - categorical_accuracy: 0.0249 - val_loss: 4.0410 - val_categorical_accuracy: 0.0000e+00\n",
      "Epoch 72/1000\n",
      "6/6 [==============================] - 1s 129ms/step - loss: 3.8796 - categorical_accuracy: 0.0311 - val_loss: 4.1743 - val_categorical_accuracy: 0.0000e+00\n",
      "Epoch 73/1000\n",
      "6/6 [==============================] - 1s 129ms/step - loss: 3.8781 - categorical_accuracy: 0.0218 - val_loss: 4.1686 - val_categorical_accuracy: 0.0000e+00\n",
      "Epoch 74/1000\n",
      "6/6 [==============================] - 1s 131ms/step - loss: 3.8770 - categorical_accuracy: 0.0280 - val_loss: 4.1650 - val_categorical_accuracy: 0.0000e+00\n",
      "Epoch 75/1000\n",
      "6/6 [==============================] - 1s 133ms/step - loss: 3.8798 - categorical_accuracy: 0.0249 - val_loss: 4.2012 - val_categorical_accuracy: 0.0000e+00\n",
      "Epoch 76/1000\n",
      "6/6 [==============================] - 1s 131ms/step - loss: 3.8763 - categorical_accuracy: 0.0342 - val_loss: 4.2002 - val_categorical_accuracy: 0.0000e+00\n",
      "Epoch 77/1000\n",
      "6/6 [==============================] - 1s 130ms/step - loss: 3.8780 - categorical_accuracy: 0.0295 - val_loss: 4.1938 - val_categorical_accuracy: 0.0000e+00\n",
      "Epoch 78/1000\n",
      "6/6 [==============================] - 1s 130ms/step - loss: 3.8789 - categorical_accuracy: 0.0233 - val_loss: 4.1961 - val_categorical_accuracy: 0.0000e+00\n",
      "Epoch 79/1000\n",
      "6/6 [==============================] - 1s 132ms/step - loss: 3.8791 - categorical_accuracy: 0.0249 - val_loss: 4.1039 - val_categorical_accuracy: 0.0000e+00\n",
      "Epoch 80/1000\n",
      "6/6 [==============================] - 1s 131ms/step - loss: 3.8789 - categorical_accuracy: 0.0218 - val_loss: 4.2096 - val_categorical_accuracy: 0.0000e+00\n",
      "Epoch 81/1000\n",
      "6/6 [==============================] - 1s 130ms/step - loss: 3.8765 - categorical_accuracy: 0.0202 - val_loss: 4.2060 - val_categorical_accuracy: 0.0000e+00\n",
      "Epoch 82/1000\n",
      "6/6 [==============================] - 1s 137ms/step - loss: 3.8742 - categorical_accuracy: 0.0249 - val_loss: 4.2186 - val_categorical_accuracy: 0.0000e+00\n",
      "Epoch 83/1000\n",
      "6/6 [==============================] - 1s 133ms/step - loss: 3.8742 - categorical_accuracy: 0.0156 - val_loss: 4.2043 - val_categorical_accuracy: 0.0000e+00\n",
      "Epoch 84/1000\n",
      "6/6 [==============================] - 1s 131ms/step - loss: 3.8778 - categorical_accuracy: 0.0218 - val_loss: 4.1566 - val_categorical_accuracy: 0.0000e+00\n",
      "Epoch 85/1000\n",
      "6/6 [==============================] - 1s 132ms/step - loss: 3.8761 - categorical_accuracy: 0.0264 - val_loss: 4.2394 - val_categorical_accuracy: 0.0000e+00\n",
      "Epoch 86/1000\n",
      "6/6 [==============================] - 1s 132ms/step - loss: 3.8751 - categorical_accuracy: 0.0249 - val_loss: 4.2293 - val_categorical_accuracy: 0.0000e+00\n",
      "Epoch 87/1000\n",
      "6/6 [==============================] - 1s 130ms/step - loss: 3.8738 - categorical_accuracy: 0.0187 - val_loss: 4.2502 - val_categorical_accuracy: 0.0000e+00\n",
      "Epoch 88/1000\n",
      "6/6 [==============================] - 1s 133ms/step - loss: 3.8718 - categorical_accuracy: 0.0311 - val_loss: 4.2417 - val_categorical_accuracy: 0.0000e+00\n",
      "Epoch 89/1000\n",
      "6/6 [==============================] - 1s 143ms/step - loss: 3.8708 - categorical_accuracy: 0.0280 - val_loss: 4.2290 - val_categorical_accuracy: 0.0000e+00\n",
      "Epoch 90/1000\n",
      "6/6 [==============================] - 1s 131ms/step - loss: 3.8751 - categorical_accuracy: 0.0156 - val_loss: 4.1396 - val_categorical_accuracy: 0.0000e+00\n",
      "Epoch 91/1000\n",
      "6/6 [==============================] - 1s 132ms/step - loss: 3.8665 - categorical_accuracy: 0.0202 - val_loss: 4.2721 - val_categorical_accuracy: 0.0000e+00\n",
      "Epoch 92/1000\n",
      "6/6 [==============================] - 1s 135ms/step - loss: 3.8714 - categorical_accuracy: 0.0295 - val_loss: 4.2596 - val_categorical_accuracy: 0.0000e+00\n",
      "Epoch 93/1000\n",
      "6/6 [==============================] - 1s 134ms/step - loss: 3.8661 - categorical_accuracy: 0.0264 - val_loss: 4.2928 - val_categorical_accuracy: 0.0000e+00\n",
      "Epoch 94/1000\n",
      "6/6 [==============================] - 1s 131ms/step - loss: 3.9173 - categorical_accuracy: 0.0218 - val_loss: 4.2551 - val_categorical_accuracy: 0.0000e+00\n",
      "Epoch 95/1000\n",
      "6/6 [==============================] - 1s 133ms/step - loss: 3.8685 - categorical_accuracy: 0.0218 - val_loss: 4.2832 - val_categorical_accuracy: 0.0000e+00\n",
      "Epoch 96/1000\n",
      "6/6 [==============================] - 1s 132ms/step - loss: 3.8659 - categorical_accuracy: 0.0233 - val_loss: 4.2861 - val_categorical_accuracy: 0.0000e+00\n",
      "Epoch 97/1000\n"
     ]
    },
    {
     "name": "stdout",
     "output_type": "stream",
     "text": [
      "6/6 [==============================] - 1s 134ms/step - loss: 3.8679 - categorical_accuracy: 0.0327 - val_loss: 4.2071 - val_categorical_accuracy: 0.0000e+00\n",
      "Epoch 98/1000\n",
      "6/6 [==============================] - 1s 133ms/step - loss: 3.8656 - categorical_accuracy: 0.0327 - val_loss: 4.2820 - val_categorical_accuracy: 0.0000e+00\n",
      "Epoch 99/1000\n",
      "6/6 [==============================] - 1s 134ms/step - loss: 3.8634 - categorical_accuracy: 0.0358 - val_loss: 4.2756 - val_categorical_accuracy: 0.0000e+00\n",
      "Epoch 100/1000\n",
      "6/6 [==============================] - 1s 132ms/step - loss: 3.8672 - categorical_accuracy: 0.0202 - val_loss: 4.2000 - val_categorical_accuracy: 0.0000e+00\n",
      "Epoch 101/1000\n",
      "6/6 [==============================] - 1s 131ms/step - loss: 3.8672 - categorical_accuracy: 0.0311 - val_loss: 4.2970 - val_categorical_accuracy: 0.0000e+00\n",
      "Epoch 102/1000\n",
      "6/6 [==============================] - 1s 131ms/step - loss: 3.8636 - categorical_accuracy: 0.0327 - val_loss: 4.2849 - val_categorical_accuracy: 0.0000e+00\n",
      "Epoch 103/1000\n",
      "6/6 [==============================] - 1s 132ms/step - loss: 3.8659 - categorical_accuracy: 0.0389 - val_loss: 4.3036 - val_categorical_accuracy: 0.0000e+00\n",
      "Epoch 104/1000\n",
      "6/6 [==============================] - 1s 132ms/step - loss: 3.8563 - categorical_accuracy: 0.0202 - val_loss: 4.3065 - val_categorical_accuracy: 0.0000e+00\n",
      "Epoch 105/1000\n",
      "6/6 [==============================] - 1s 130ms/step - loss: 3.8629 - categorical_accuracy: 0.0233 - val_loss: 4.2941 - val_categorical_accuracy: 0.0000e+00\n",
      "Epoch 106/1000\n",
      "6/6 [==============================] - 1s 133ms/step - loss: 3.8583 - categorical_accuracy: 0.0327 - val_loss: 4.3054 - val_categorical_accuracy: 0.0000e+00\n",
      "Epoch 107/1000\n",
      "6/6 [==============================] - 1s 133ms/step - loss: 3.8566 - categorical_accuracy: 0.0342 - val_loss: 4.1293 - val_categorical_accuracy: 0.0000e+00\n",
      "Epoch 108/1000\n",
      "6/6 [==============================] - 1s 133ms/step - loss: 3.8588 - categorical_accuracy: 0.0420 - val_loss: 4.3167 - val_categorical_accuracy: 0.0000e+00\n",
      "Epoch 109/1000\n",
      "6/6 [==============================] - 1s 136ms/step - loss: 3.8639 - categorical_accuracy: 0.0249 - val_loss: 4.2975 - val_categorical_accuracy: 0.0000e+00\n",
      "Epoch 110/1000\n",
      "6/6 [==============================] - 1s 139ms/step - loss: 3.8616 - categorical_accuracy: 0.0264 - val_loss: 4.2207 - val_categorical_accuracy: 0.0000e+00\n",
      "Epoch 111/1000\n",
      "6/6 [==============================] - 1s 141ms/step - loss: 3.8565 - categorical_accuracy: 0.0249 - val_loss: 4.2246 - val_categorical_accuracy: 0.0000e+00\n",
      "Epoch 112/1000\n",
      "6/6 [==============================] - 1s 147ms/step - loss: 3.8601 - categorical_accuracy: 0.0295 - val_loss: 4.3396 - val_categorical_accuracy: 0.0000e+00\n",
      "Epoch 113/1000\n",
      "6/6 [==============================] - 1s 132ms/step - loss: 3.8540 - categorical_accuracy: 0.0389 - val_loss: 4.2498 - val_categorical_accuracy: 0.0000e+00\n",
      "Epoch 114/1000\n",
      "6/6 [==============================] - 1s 133ms/step - loss: 3.8550 - categorical_accuracy: 0.0327 - val_loss: 4.3529 - val_categorical_accuracy: 0.0000e+00\n",
      "Epoch 115/1000\n",
      "6/6 [==============================] - 1s 132ms/step - loss: 3.8500 - categorical_accuracy: 0.0420 - val_loss: 4.3312 - val_categorical_accuracy: 0.0000e+00\n",
      "Epoch 116/1000\n",
      "6/6 [==============================] - 1s 141ms/step - loss: 3.8543 - categorical_accuracy: 0.0311 - val_loss: 4.3509 - val_categorical_accuracy: 0.0000e+00\n",
      "Epoch 117/1000\n",
      "6/6 [==============================] - 1s 141ms/step - loss: 3.8566 - categorical_accuracy: 0.0280 - val_loss: 4.3020 - val_categorical_accuracy: 0.0000e+00\n",
      "Epoch 118/1000\n",
      "6/6 [==============================] - 1s 133ms/step - loss: 3.8532 - categorical_accuracy: 0.0358 - val_loss: 4.0951 - val_categorical_accuracy: 0.0000e+00\n",
      "Epoch 119/1000\n",
      "6/6 [==============================] - 1s 135ms/step - loss: 3.8501 - categorical_accuracy: 0.0327 - val_loss: 4.4091 - val_categorical_accuracy: 0.0000e+00\n",
      "Epoch 120/1000\n",
      "6/6 [==============================] - 1s 133ms/step - loss: 3.8525 - categorical_accuracy: 0.0233 - val_loss: 4.4329 - val_categorical_accuracy: 0.0000e+00\n",
      "Epoch 121/1000\n",
      "6/6 [==============================] - 1s 155ms/step - loss: 3.8501 - categorical_accuracy: 0.0249 - val_loss: 4.4360 - val_categorical_accuracy: 0.0000e+00\n",
      "Epoch 122/1000\n",
      "6/6 [==============================] - 1s 133ms/step - loss: 3.8512 - categorical_accuracy: 0.0280 - val_loss: 4.4162 - val_categorical_accuracy: 0.0000e+00\n",
      "Epoch 123/1000\n",
      "6/6 [==============================] - 1s 147ms/step - loss: 3.8502 - categorical_accuracy: 0.0295 - val_loss: 4.3714 - val_categorical_accuracy: 0.0000e+00\n",
      "Epoch 124/1000\n",
      "6/6 [==============================] - 1s 135ms/step - loss: 3.8469 - categorical_accuracy: 0.0233 - val_loss: 4.3870 - val_categorical_accuracy: 0.0000e+00\n",
      "Epoch 125/1000\n",
      "6/6 [==============================] - 1s 129ms/step - loss: 3.8515 - categorical_accuracy: 0.0264 - val_loss: 4.4646 - val_categorical_accuracy: 0.0000e+00\n",
      "Epoch 126/1000\n",
      "6/6 [==============================] - 1s 133ms/step - loss: 3.8424 - categorical_accuracy: 0.0295 - val_loss: 4.2871 - val_categorical_accuracy: 0.0000e+00\n",
      "Epoch 127/1000\n",
      "6/6 [==============================] - 1s 133ms/step - loss: 3.8479 - categorical_accuracy: 0.0373 - val_loss: 4.2999 - val_categorical_accuracy: 0.0000e+00\n",
      "Epoch 128/1000\n",
      "6/6 [==============================] - 1s 133ms/step - loss: 3.8502 - categorical_accuracy: 0.0202 - val_loss: 4.4083 - val_categorical_accuracy: 0.0000e+00\n",
      "Epoch 129/1000\n",
      "6/6 [==============================] - 1s 134ms/step - loss: 3.8434 - categorical_accuracy: 0.0249 - val_loss: 4.4042 - val_categorical_accuracy: 0.0000e+00\n",
      "Epoch 130/1000\n",
      "6/6 [==============================] - 1s 135ms/step - loss: 3.8527 - categorical_accuracy: 0.0327 - val_loss: 4.4266 - val_categorical_accuracy: 0.0000e+00\n",
      "Epoch 131/1000\n",
      "6/6 [==============================] - 1s 135ms/step - loss: 3.8486 - categorical_accuracy: 0.0233 - val_loss: 4.6876 - val_categorical_accuracy: 0.0000e+00\n",
      "Epoch 132/1000\n",
      "6/6 [==============================] - 1s 133ms/step - loss: 3.8439 - categorical_accuracy: 0.0280 - val_loss: 4.3135 - val_categorical_accuracy: 0.0000e+00\n",
      "Epoch 133/1000\n",
      "6/6 [==============================] - 1s 132ms/step - loss: 3.8432 - categorical_accuracy: 0.0280 - val_loss: 4.4326 - val_categorical_accuracy: 0.0000e+00\n",
      "Epoch 134/1000\n",
      "6/6 [==============================] - 1s 132ms/step - loss: 3.8416 - categorical_accuracy: 0.0451 - val_loss: 4.4190 - val_categorical_accuracy: 0.0000e+00\n",
      "Epoch 135/1000\n",
      "6/6 [==============================] - 1s 145ms/step - loss: 3.8515 - categorical_accuracy: 0.0311 - val_loss: 4.4411 - val_categorical_accuracy: 0.0000e+00\n",
      "Epoch 136/1000\n",
      "6/6 [==============================] - 1s 134ms/step - loss: 3.8409 - categorical_accuracy: 0.0218 - val_loss: 4.4449 - val_categorical_accuracy: 0.0000e+00\n",
      "Epoch 137/1000\n",
      "6/6 [==============================] - 1s 132ms/step - loss: 3.8414 - categorical_accuracy: 0.0311 - val_loss: 4.4499 - val_categorical_accuracy: 0.0000e+00\n",
      "Epoch 138/1000\n",
      "6/6 [==============================] - 1s 132ms/step - loss: 3.8367 - categorical_accuracy: 0.0342 - val_loss: 4.4547 - val_categorical_accuracy: 0.0000e+00\n",
      "Epoch 139/1000\n",
      "6/6 [==============================] - 1s 133ms/step - loss: 3.8546 - categorical_accuracy: 0.0218 - val_loss: 4.4583 - val_categorical_accuracy: 0.0000e+00\n",
      "Epoch 140/1000\n",
      "6/6 [==============================] - 1s 145ms/step - loss: 3.8445 - categorical_accuracy: 0.0295 - val_loss: 4.3954 - val_categorical_accuracy: 0.0000e+00\n",
      "Epoch 141/1000\n",
      "6/6 [==============================] - 1s 132ms/step - loss: 3.8469 - categorical_accuracy: 0.0311 - val_loss: 4.4687 - val_categorical_accuracy: 0.0000e+00\n",
      "Epoch 142/1000\n",
      "6/6 [==============================] - 1s 132ms/step - loss: 3.8389 - categorical_accuracy: 0.0233 - val_loss: 4.4583 - val_categorical_accuracy: 0.0000e+00\n",
      "Epoch 143/1000\n",
      "6/6 [==============================] - 1s 136ms/step - loss: 3.8447 - categorical_accuracy: 0.0295 - val_loss: 4.5123 - val_categorical_accuracy: 0.0000e+00\n",
      "Epoch 144/1000\n",
      "6/6 [==============================] - 1s 133ms/step - loss: 3.8393 - categorical_accuracy: 0.0327 - val_loss: 4.5040 - val_categorical_accuracy: 0.0000e+00\n"
     ]
    },
    {
     "name": "stdout",
     "output_type": "stream",
     "text": [
      "Epoch 145/1000\n",
      "6/6 [==============================] - 1s 133ms/step - loss: 3.8488 - categorical_accuracy: 0.0187 - val_loss: 4.5031 - val_categorical_accuracy: 0.0000e+00\n",
      "Epoch 146/1000\n",
      "6/6 [==============================] - 1s 134ms/step - loss: 3.8329 - categorical_accuracy: 0.0280 - val_loss: 4.2517 - val_categorical_accuracy: 0.0000e+00\n",
      "Epoch 147/1000\n",
      "6/6 [==============================] - 1s 134ms/step - loss: 3.8743 - categorical_accuracy: 0.0171 - val_loss: 4.5105 - val_categorical_accuracy: 0.0000e+00\n",
      "Epoch 148/1000\n",
      "6/6 [==============================] - 1s 134ms/step - loss: 3.8283 - categorical_accuracy: 0.0358 - val_loss: 4.5074 - val_categorical_accuracy: 0.0000e+00\n",
      "Epoch 149/1000\n",
      "6/6 [==============================] - 1s 131ms/step - loss: 3.8321 - categorical_accuracy: 0.0249 - val_loss: 4.5145 - val_categorical_accuracy: 0.0000e+00\n",
      "Epoch 150/1000\n",
      "6/6 [==============================] - 1s 132ms/step - loss: 3.8338 - categorical_accuracy: 0.0295 - val_loss: 4.5299 - val_categorical_accuracy: 0.0000e+00\n",
      "Epoch 151/1000\n",
      "6/6 [==============================] - 1s 132ms/step - loss: 3.8396 - categorical_accuracy: 0.0280 - val_loss: 4.5075 - val_categorical_accuracy: 0.0000e+00\n",
      "Epoch 152/1000\n",
      "6/6 [==============================] - 1s 132ms/step - loss: 3.8360 - categorical_accuracy: 0.0249 - val_loss: 4.5439 - val_categorical_accuracy: 0.0000e+00\n",
      "Epoch 153/1000\n",
      "6/6 [==============================] - 1s 134ms/step - loss: 3.8408 - categorical_accuracy: 0.0311 - val_loss: 4.5516 - val_categorical_accuracy: 0.0000e+00\n",
      "Epoch 154/1000\n",
      "6/6 [==============================] - 1s 137ms/step - loss: 3.8205 - categorical_accuracy: 0.0264 - val_loss: 4.5303 - val_categorical_accuracy: 0.0000e+00\n",
      "Epoch 155/1000\n",
      "6/6 [==============================] - 1s 132ms/step - loss: 3.8389 - categorical_accuracy: 0.0342 - val_loss: 4.4598 - val_categorical_accuracy: 0.0000e+00\n",
      "Epoch 156/1000\n",
      "6/6 [==============================] - 1s 133ms/step - loss: 3.8309 - categorical_accuracy: 0.0280 - val_loss: 4.5358 - val_categorical_accuracy: 0.0000e+00\n",
      "Epoch 157/1000\n",
      "6/6 [==============================] - 1s 133ms/step - loss: 3.8255 - categorical_accuracy: 0.0218 - val_loss: 4.5393 - val_categorical_accuracy: 0.0000e+00\n",
      "Epoch 158/1000\n",
      "6/6 [==============================] - 1s 135ms/step - loss: 3.8325 - categorical_accuracy: 0.0202 - val_loss: 4.5558 - val_categorical_accuracy: 0.0000e+00\n",
      "Epoch 159/1000\n",
      "6/6 [==============================] - 1s 133ms/step - loss: 3.8236 - categorical_accuracy: 0.0295 - val_loss: 4.5450 - val_categorical_accuracy: 0.0000e+00\n",
      "Epoch 160/1000\n",
      "6/6 [==============================] - 1s 131ms/step - loss: 3.8391 - categorical_accuracy: 0.0187 - val_loss: 4.4170 - val_categorical_accuracy: 0.0000e+00\n",
      "Epoch 161/1000\n",
      "6/6 [==============================] - 1s 134ms/step - loss: 3.8301 - categorical_accuracy: 0.0156 - val_loss: 4.5548 - val_categorical_accuracy: 0.0000e+00\n",
      "Epoch 162/1000\n",
      "6/6 [==============================] - 1s 133ms/step - loss: 3.8290 - categorical_accuracy: 0.0327 - val_loss: 4.5874 - val_categorical_accuracy: 0.0000e+00\n",
      "Epoch 163/1000\n",
      "6/6 [==============================] - 1s 132ms/step - loss: 3.8231 - categorical_accuracy: 0.0249 - val_loss: 4.5826 - val_categorical_accuracy: 0.0000e+00\n",
      "Epoch 164/1000\n",
      "6/6 [==============================] - 1s 133ms/step - loss: 3.8332 - categorical_accuracy: 0.0264 - val_loss: 4.3161 - val_categorical_accuracy: 0.0000e+00\n",
      "Epoch 165/1000\n",
      "6/6 [==============================] - 1s 141ms/step - loss: 3.8263 - categorical_accuracy: 0.0249 - val_loss: 4.4620 - val_categorical_accuracy: 0.0000e+00\n",
      "Epoch 166/1000\n",
      "6/6 [==============================] - 1s 136ms/step - loss: 3.8318 - categorical_accuracy: 0.0358 - val_loss: 4.5787 - val_categorical_accuracy: 0.0000e+00\n",
      "Epoch 167/1000\n",
      "6/6 [==============================] - 1s 133ms/step - loss: 3.8364 - categorical_accuracy: 0.0187 - val_loss: 4.6081 - val_categorical_accuracy: 0.0000e+00\n",
      "Epoch 168/1000\n",
      "6/6 [==============================] - 1s 132ms/step - loss: 3.8203 - categorical_accuracy: 0.0249 - val_loss: 4.4674 - val_categorical_accuracy: 0.0000e+00\n",
      "Epoch 169/1000\n",
      "6/6 [==============================] - 1s 137ms/step - loss: 3.8384 - categorical_accuracy: 0.0187 - val_loss: 4.6179 - val_categorical_accuracy: 0.0000e+00\n",
      "Epoch 170/1000\n",
      "6/6 [==============================] - 1s 133ms/step - loss: 3.8336 - categorical_accuracy: 0.0233 - val_loss: 4.6039 - val_categorical_accuracy: 0.0000e+00\n",
      "Epoch 171/1000\n",
      "6/6 [==============================] - 1s 133ms/step - loss: 3.8293 - categorical_accuracy: 0.0327 - val_loss: 4.5903 - val_categorical_accuracy: 0.0000e+00\n",
      "Epoch 172/1000\n",
      "6/6 [==============================] - 1s 134ms/step - loss: 3.8412 - categorical_accuracy: 0.0311 - val_loss: 4.0083 - val_categorical_accuracy: 0.0186\n",
      "Epoch 173/1000\n",
      "6/6 [==============================] - 1s 131ms/step - loss: 3.8322 - categorical_accuracy: 0.0249 - val_loss: 4.6279 - val_categorical_accuracy: 0.0000e+00\n",
      "Epoch 174/1000\n",
      "6/6 [==============================] - 1s 133ms/step - loss: 3.8358 - categorical_accuracy: 0.0218 - val_loss: 4.6149 - val_categorical_accuracy: 0.0000e+00\n",
      "Epoch 175/1000\n",
      "6/6 [==============================] - 1s 132ms/step - loss: 3.8280 - categorical_accuracy: 0.0233 - val_loss: 4.6393 - val_categorical_accuracy: 0.0000e+00\n",
      "Epoch 176/1000\n",
      "6/6 [==============================] - 1s 133ms/step - loss: 3.8223 - categorical_accuracy: 0.0311 - val_loss: 4.6396 - val_categorical_accuracy: 0.0000e+00\n",
      "Epoch 177/1000\n",
      "6/6 [==============================] - 1s 132ms/step - loss: 3.8194 - categorical_accuracy: 0.0264 - val_loss: 4.6348 - val_categorical_accuracy: 0.0000e+00\n",
      "Epoch 178/1000\n",
      "6/6 [==============================] - 1s 131ms/step - loss: 3.8253 - categorical_accuracy: 0.0249 - val_loss: 4.6304 - val_categorical_accuracy: 0.0000e+00\n",
      "Epoch 179/1000\n",
      "6/6 [==============================] - 1s 133ms/step - loss: 3.8167 - categorical_accuracy: 0.0373 - val_loss: 4.5536 - val_categorical_accuracy: 0.0000e+00\n",
      "Epoch 180/1000\n",
      "6/6 [==============================] - 1s 132ms/step - loss: 3.8289 - categorical_accuracy: 0.0280 - val_loss: 4.6515 - val_categorical_accuracy: 0.0000e+00\n",
      "Epoch 181/1000\n",
      "6/6 [==============================] - 1s 137ms/step - loss: 3.8312 - categorical_accuracy: 0.0202 - val_loss: 4.6643 - val_categorical_accuracy: 0.0000e+00\n",
      "Epoch 182/1000\n",
      "6/6 [==============================] - 1s 132ms/step - loss: 3.8292 - categorical_accuracy: 0.0233 - val_loss: 4.6696 - val_categorical_accuracy: 0.0000e+00\n",
      "Epoch 183/1000\n",
      "6/6 [==============================] - 1s 133ms/step - loss: 3.8230 - categorical_accuracy: 0.0249 - val_loss: 4.5580 - val_categorical_accuracy: 0.0000e+00\n",
      "Epoch 184/1000\n",
      "6/6 [==============================] - 1s 131ms/step - loss: 3.8301 - categorical_accuracy: 0.0264 - val_loss: 4.6666 - val_categorical_accuracy: 0.0000e+00\n",
      "Epoch 185/1000\n",
      "6/6 [==============================] - 1s 131ms/step - loss: 3.8264 - categorical_accuracy: 0.0295 - val_loss: 4.6685 - val_categorical_accuracy: 0.0000e+00\n",
      "Epoch 186/1000\n",
      "6/6 [==============================] - 1s 134ms/step - loss: 3.8216 - categorical_accuracy: 0.0140 - val_loss: 4.5337 - val_categorical_accuracy: 0.0000e+00\n",
      "Epoch 187/1000\n",
      "6/6 [==============================] - 1s 136ms/step - loss: 3.8192 - categorical_accuracy: 0.0280 - val_loss: 4.5920 - val_categorical_accuracy: 0.0000e+00\n",
      "Epoch 188/1000\n",
      "6/6 [==============================] - 1s 135ms/step - loss: 3.8198 - categorical_accuracy: 0.0295 - val_loss: 4.6842 - val_categorical_accuracy: 0.0000e+00\n",
      "Epoch 189/1000\n",
      "6/6 [==============================] - 1s 128ms/step - loss: 3.8089 - categorical_accuracy: 0.0295 - val_loss: 4.5540 - val_categorical_accuracy: 0.0000e+00\n",
      "Epoch 190/1000\n",
      "6/6 [==============================] - 1s 127ms/step - loss: 3.8147 - categorical_accuracy: 0.0218 - val_loss: 4.6782 - val_categorical_accuracy: 0.0000e+00\n",
      "Epoch 191/1000\n",
      "6/6 [==============================] - 1s 128ms/step - loss: 3.8183 - categorical_accuracy: 0.0249 - val_loss: 4.7022 - val_categorical_accuracy: 0.0000e+00\n",
      "Epoch 192/1000\n",
      "6/6 [==============================] - 1s 128ms/step - loss: 3.8153 - categorical_accuracy: 0.0358 - val_loss: 4.6128 - val_categorical_accuracy: 0.0000e+00\n"
     ]
    },
    {
     "name": "stdout",
     "output_type": "stream",
     "text": [
      "Epoch 193/1000\n",
      "6/6 [==============================] - 1s 128ms/step - loss: 3.8159 - categorical_accuracy: 0.0373 - val_loss: 3.8856 - val_categorical_accuracy: 0.1056\n",
      "Epoch 194/1000\n",
      "6/6 [==============================] - 1s 130ms/step - loss: 3.8015 - categorical_accuracy: 0.0280 - val_loss: 4.7096 - val_categorical_accuracy: 0.0000e+00\n",
      "Epoch 195/1000\n",
      "6/6 [==============================] - 1s 125ms/step - loss: 3.8063 - categorical_accuracy: 0.0311 - val_loss: 4.7149 - val_categorical_accuracy: 0.0000e+00\n",
      "Epoch 196/1000\n",
      "6/6 [==============================] - 1s 127ms/step - loss: 3.8126 - categorical_accuracy: 0.0249 - val_loss: 4.7199 - val_categorical_accuracy: 0.0000e+00\n",
      "Epoch 197/1000\n",
      "6/6 [==============================] - 1s 130ms/step - loss: 3.8126 - categorical_accuracy: 0.0280 - val_loss: 4.5718 - val_categorical_accuracy: 0.0000e+00\n",
      "Epoch 198/1000\n",
      "6/6 [==============================] - 1s 135ms/step - loss: 3.8023 - categorical_accuracy: 0.0327 - val_loss: 4.7148 - val_categorical_accuracy: 0.0000e+00\n",
      "Epoch 199/1000\n",
      "6/6 [==============================] - 1s 129ms/step - loss: 3.8125 - categorical_accuracy: 0.0295 - val_loss: 4.7404 - val_categorical_accuracy: 0.0000e+00\n",
      "Epoch 200/1000\n",
      "6/6 [==============================] - 1s 131ms/step - loss: 3.8078 - categorical_accuracy: 0.0342 - val_loss: 4.7459 - val_categorical_accuracy: 0.0000e+00\n",
      "Epoch 201/1000\n",
      "6/6 [==============================] - 1s 142ms/step - loss: 3.8010 - categorical_accuracy: 0.0280 - val_loss: 4.6391 - val_categorical_accuracy: 0.0000e+00\n",
      "Epoch 202/1000\n",
      "6/6 [==============================] - 1s 157ms/step - loss: 3.8256 - categorical_accuracy: 0.0295 - val_loss: 4.7358 - val_categorical_accuracy: 0.0000e+00\n",
      "Epoch 203/1000\n",
      "6/6 [==============================] - 1s 148ms/step - loss: 3.8190 - categorical_accuracy: 0.0280 - val_loss: 4.7690 - val_categorical_accuracy: 0.0000e+00\n",
      "Epoch 204/1000\n",
      "6/6 [==============================] - 1s 137ms/step - loss: 3.8167 - categorical_accuracy: 0.0187 - val_loss: 4.5925 - val_categorical_accuracy: 0.0000e+00\n",
      "Epoch 205/1000\n",
      "6/6 [==============================] - 1s 139ms/step - loss: 3.8211 - categorical_accuracy: 0.0280 - val_loss: 4.7597 - val_categorical_accuracy: 0.0000e+00\n",
      "Epoch 206/1000\n",
      "6/6 [==============================] - 1s 134ms/step - loss: 3.7977 - categorical_accuracy: 0.0311 - val_loss: 4.7830 - val_categorical_accuracy: 0.0000e+00\n",
      "Epoch 207/1000\n",
      "6/6 [==============================] - 1s 133ms/step - loss: 3.8097 - categorical_accuracy: 0.0218 - val_loss: 4.7912 - val_categorical_accuracy: 0.0000e+00\n",
      "Epoch 208/1000\n",
      "6/6 [==============================] - 1s 134ms/step - loss: 3.8181 - categorical_accuracy: 0.0202 - val_loss: 4.7837 - val_categorical_accuracy: 0.0000e+00\n",
      "Epoch 209/1000\n",
      "6/6 [==============================] - 1s 134ms/step - loss: 3.7987 - categorical_accuracy: 0.0264 - val_loss: 4.7886 - val_categorical_accuracy: 0.0000e+00\n",
      "Epoch 210/1000\n",
      "6/6 [==============================] - 1s 133ms/step - loss: 3.8024 - categorical_accuracy: 0.0280 - val_loss: 4.8158 - val_categorical_accuracy: 0.0000e+00\n",
      "Epoch 211/1000\n",
      "6/6 [==============================] - 1s 133ms/step - loss: 3.8076 - categorical_accuracy: 0.0156 - val_loss: 4.8129 - val_categorical_accuracy: 0.0000e+00\n",
      "Epoch 212/1000\n",
      "6/6 [==============================] - 1s 135ms/step - loss: 3.8093 - categorical_accuracy: 0.0295 - val_loss: 4.8052 - val_categorical_accuracy: 0.0000e+00\n",
      "Epoch 213/1000\n",
      "6/6 [==============================] - 1s 133ms/step - loss: 3.8128 - categorical_accuracy: 0.0202 - val_loss: 4.8196 - val_categorical_accuracy: 0.0000e+00\n",
      "Epoch 214/1000\n",
      "6/6 [==============================] - 1s 132ms/step - loss: 3.8209 - categorical_accuracy: 0.0171 - val_loss: 4.8424 - val_categorical_accuracy: 0.0000e+00\n",
      "Epoch 215/1000\n",
      "6/6 [==============================] - 1s 133ms/step - loss: 3.8157 - categorical_accuracy: 0.0171 - val_loss: 4.8367 - val_categorical_accuracy: 0.0000e+00\n",
      "Epoch 216/1000\n",
      "6/6 [==============================] - 1s 135ms/step - loss: 3.8098 - categorical_accuracy: 0.0218 - val_loss: 4.8351 - val_categorical_accuracy: 0.0000e+00\n",
      "Epoch 217/1000\n",
      "6/6 [==============================] - 1s 135ms/step - loss: 3.7965 - categorical_accuracy: 0.0295 - val_loss: 4.2495 - val_categorical_accuracy: 0.0000e+00\n",
      "Epoch 218/1000\n",
      "6/6 [==============================] - 1s 139ms/step - loss: 3.8065 - categorical_accuracy: 0.0202 - val_loss: 4.8514 - val_categorical_accuracy: 0.0000e+00\n",
      "Epoch 219/1000\n",
      "6/6 [==============================] - 1s 131ms/step - loss: 3.7924 - categorical_accuracy: 0.0233 - val_loss: 4.7228 - val_categorical_accuracy: 0.0000e+00\n",
      "Epoch 220/1000\n",
      "6/6 [==============================] - 1s 136ms/step - loss: 3.7964 - categorical_accuracy: 0.0358 - val_loss: 4.8547 - val_categorical_accuracy: 0.0000e+00\n",
      "Epoch 221/1000\n",
      "6/6 [==============================] - 1s 135ms/step - loss: 3.8036 - categorical_accuracy: 0.0327 - val_loss: 4.8611 - val_categorical_accuracy: 0.0000e+00\n",
      "Epoch 222/1000\n",
      "6/6 [==============================] - 1s 132ms/step - loss: 3.8017 - categorical_accuracy: 0.0249 - val_loss: 4.8652 - val_categorical_accuracy: 0.0000e+00\n",
      "Epoch 223/1000\n",
      "6/6 [==============================] - 1s 133ms/step - loss: 3.8144 - categorical_accuracy: 0.0342 - val_loss: 4.8623 - val_categorical_accuracy: 0.0000e+00\n",
      "Epoch 224/1000\n",
      "6/6 [==============================] - 1s 138ms/step - loss: 3.8065 - categorical_accuracy: 0.0295 - val_loss: 4.8825 - val_categorical_accuracy: 0.0000e+00\n",
      "Epoch 225/1000\n",
      "6/6 [==============================] - 1s 133ms/step - loss: 3.8030 - categorical_accuracy: 0.0233 - val_loss: 4.8905 - val_categorical_accuracy: 0.0000e+00\n",
      "Epoch 226/1000\n",
      "6/6 [==============================] - 1s 133ms/step - loss: 3.8203 - categorical_accuracy: 0.0202 - val_loss: 4.8781 - val_categorical_accuracy: 0.0000e+00\n",
      "Epoch 227/1000\n",
      "6/6 [==============================] - 1s 135ms/step - loss: 3.8152 - categorical_accuracy: 0.0093 - val_loss: 3.9107 - val_categorical_accuracy: 0.1180\n",
      "Epoch 228/1000\n",
      "6/6 [==============================] - 1s 133ms/step - loss: 3.8007 - categorical_accuracy: 0.0311 - val_loss: 4.8892 - val_categorical_accuracy: 0.0000e+00\n",
      "Epoch 229/1000\n",
      "6/6 [==============================] - 1s 138ms/step - loss: 3.7993 - categorical_accuracy: 0.0264 - val_loss: 3.9335 - val_categorical_accuracy: 0.1180\n",
      "Epoch 230/1000\n",
      "6/6 [==============================] - 1s 131ms/step - loss: 3.7979 - categorical_accuracy: 0.0280 - val_loss: 4.8998 - val_categorical_accuracy: 0.0000e+00\n",
      "Epoch 231/1000\n",
      "6/6 [==============================] - 1s 135ms/step - loss: 3.8037 - categorical_accuracy: 0.0295 - val_loss: 4.8417 - val_categorical_accuracy: 0.0000e+00\n",
      "Epoch 232/1000\n",
      "6/6 [==============================] - 1s 132ms/step - loss: 3.8050 - categorical_accuracy: 0.0187 - val_loss: 4.9093 - val_categorical_accuracy: 0.0000e+00\n",
      "Epoch 233/1000\n",
      "6/6 [==============================] - 1s 134ms/step - loss: 3.8014 - categorical_accuracy: 0.0264 - val_loss: 4.9276 - val_categorical_accuracy: 0.0000e+00\n",
      "Epoch 234/1000\n",
      "6/6 [==============================] - 1s 133ms/step - loss: 3.8056 - categorical_accuracy: 0.0295 - val_loss: 4.9349 - val_categorical_accuracy: 0.0000e+00\n",
      "Epoch 235/1000\n",
      "6/6 [==============================] - 1s 134ms/step - loss: 3.8077 - categorical_accuracy: 0.0295 - val_loss: 4.8245 - val_categorical_accuracy: 0.0000e+00\n",
      "Epoch 236/1000\n",
      "6/6 [==============================] - 1s 134ms/step - loss: 3.8173 - categorical_accuracy: 0.0327 - val_loss: 4.9461 - val_categorical_accuracy: 0.0000e+00\n",
      "Epoch 237/1000\n",
      "6/6 [==============================] - 1s 134ms/step - loss: 3.8134 - categorical_accuracy: 0.0171 - val_loss: 4.9571 - val_categorical_accuracy: 0.0000e+00\n",
      "Epoch 238/1000\n",
      "6/6 [==============================] - 1s 135ms/step - loss: 3.7982 - categorical_accuracy: 0.0280 - val_loss: 4.9583 - val_categorical_accuracy: 0.0000e+00\n",
      "Epoch 239/1000\n",
      "6/6 [==============================] - 1s 140ms/step - loss: 3.8022 - categorical_accuracy: 0.0233 - val_loss: 4.9544 - val_categorical_accuracy: 0.0000e+00\n",
      "Epoch 240/1000\n",
      "6/6 [==============================] - 1s 134ms/step - loss: 3.8025 - categorical_accuracy: 0.0249 - val_loss: 4.9716 - val_categorical_accuracy: 0.0000e+00\n"
     ]
    },
    {
     "name": "stdout",
     "output_type": "stream",
     "text": [
      "Epoch 241/1000\n",
      "6/6 [==============================] - 1s 134ms/step - loss: 3.8161 - categorical_accuracy: 0.0202 - val_loss: 4.9647 - val_categorical_accuracy: 0.0000e+00\n",
      "Epoch 242/1000\n",
      "6/6 [==============================] - 1s 134ms/step - loss: 3.7996 - categorical_accuracy: 0.0249 - val_loss: 4.8558 - val_categorical_accuracy: 0.0000e+00\n",
      "Epoch 243/1000\n",
      "6/6 [==============================] - 1s 134ms/step - loss: 3.7940 - categorical_accuracy: 0.0264 - val_loss: 4.9817 - val_categorical_accuracy: 0.0000e+00\n",
      "Epoch 244/1000\n",
      "6/6 [==============================] - 1s 131ms/step - loss: 3.8086 - categorical_accuracy: 0.0311 - val_loss: 4.9851 - val_categorical_accuracy: 0.0000e+00\n",
      "Epoch 245/1000\n",
      "6/6 [==============================] - 1s 137ms/step - loss: 3.7997 - categorical_accuracy: 0.0358 - val_loss: 4.9959 - val_categorical_accuracy: 0.0000e+00\n",
      "Epoch 246/1000\n",
      "6/6 [==============================] - 1s 136ms/step - loss: 3.8080 - categorical_accuracy: 0.0171 - val_loss: 4.0887 - val_categorical_accuracy: 0.0000e+00\n",
      "Epoch 247/1000\n",
      "6/6 [==============================] - 1s 135ms/step - loss: 3.8032 - categorical_accuracy: 0.0280 - val_loss: 4.9945 - val_categorical_accuracy: 0.0000e+00\n",
      "Epoch 248/1000\n",
      "6/6 [==============================] - 1s 135ms/step - loss: 3.7847 - categorical_accuracy: 0.0327 - val_loss: 4.9932 - val_categorical_accuracy: 0.0000e+00\n",
      "Epoch 249/1000\n",
      "6/6 [==============================] - 1s 137ms/step - loss: 3.8097 - categorical_accuracy: 0.0249 - val_loss: 5.0111 - val_categorical_accuracy: 0.0000e+00\n",
      "Epoch 250/1000\n",
      "6/6 [==============================] - 1s 134ms/step - loss: 3.7989 - categorical_accuracy: 0.0358 - val_loss: 5.0058 - val_categorical_accuracy: 0.0000e+00\n",
      "Epoch 251/1000\n",
      "6/6 [==============================] - 1s 146ms/step - loss: 3.8071 - categorical_accuracy: 0.0187 - val_loss: 5.0128 - val_categorical_accuracy: 0.0000e+00\n",
      "Epoch 252/1000\n",
      "6/6 [==============================] - 1s 145ms/step - loss: 3.7974 - categorical_accuracy: 0.0280 - val_loss: 4.8661 - val_categorical_accuracy: 0.0000e+00\n",
      "Epoch 253/1000\n",
      "6/6 [==============================] - 1s 137ms/step - loss: 3.8001 - categorical_accuracy: 0.0295 - val_loss: 5.0252 - val_categorical_accuracy: 0.0000e+00\n",
      "Epoch 254/1000\n",
      "6/6 [==============================] - 1s 132ms/step - loss: 3.8105 - categorical_accuracy: 0.0264 - val_loss: 5.0180 - val_categorical_accuracy: 0.0000e+00\n",
      "Epoch 255/1000\n",
      "6/6 [==============================] - 1s 133ms/step - loss: 3.7901 - categorical_accuracy: 0.0264 - val_loss: 5.0660 - val_categorical_accuracy: 0.0000e+00\n",
      "Epoch 256/1000\n",
      "6/6 [==============================] - 1s 122ms/step - loss: 3.7951 - categorical_accuracy: 0.0342 - val_loss: 5.0177 - val_categorical_accuracy: 0.0000e+00\n",
      "Epoch 257/1000\n",
      "6/6 [==============================] - 1s 135ms/step - loss: 3.8156 - categorical_accuracy: 0.0187 - val_loss: 5.0312 - val_categorical_accuracy: 0.0000e+00\n",
      "Epoch 258/1000\n",
      "6/6 [==============================] - 1s 133ms/step - loss: 3.8107 - categorical_accuracy: 0.0218 - val_loss: 4.8628 - val_categorical_accuracy: 0.0000e+00\n",
      "Epoch 259/1000\n",
      "6/6 [==============================] - 1s 135ms/step - loss: 3.8058 - categorical_accuracy: 0.0280 - val_loss: 5.0391 - val_categorical_accuracy: 0.0000e+00\n",
      "Epoch 260/1000\n",
      "6/6 [==============================] - 1s 146ms/step - loss: 3.8171 - categorical_accuracy: 0.0249 - val_loss: 5.0287 - val_categorical_accuracy: 0.0000e+00\n",
      "Epoch 261/1000\n",
      "6/6 [==============================] - 1s 134ms/step - loss: 3.8051 - categorical_accuracy: 0.0264 - val_loss: 5.0472 - val_categorical_accuracy: 0.0000e+00\n",
      "Epoch 262/1000\n",
      "6/6 [==============================] - 1s 135ms/step - loss: 3.8032 - categorical_accuracy: 0.0187 - val_loss: 5.0541 - val_categorical_accuracy: 0.0000e+00\n",
      "Epoch 263/1000\n",
      "6/6 [==============================] - 1s 134ms/step - loss: 3.7945 - categorical_accuracy: 0.0280 - val_loss: 5.0469 - val_categorical_accuracy: 0.0000e+00\n",
      "Epoch 264/1000\n",
      "1/6 [====>.........................] - ETA: 0s - loss: 3.8203 - categorical_accuracy: 0.0078"
     ]
    },
    {
     "ename": "KeyboardInterrupt",
     "evalue": "",
     "output_type": "error",
     "traceback": [
      "\u001b[0;31m---------------------------------------------------------------------------\u001b[0m",
      "\u001b[0;31mKeyboardInterrupt\u001b[0m                         Traceback (most recent call last)",
      "Cell \u001b[0;32mIn[19], line 15\u001b[0m\n\u001b[1;32m     12\u001b[0m optimizer \u001b[38;5;241m=\u001b[39m Lion(learning_rate\u001b[38;5;241m=\u001b[39m\u001b[38;5;241m.00005\u001b[39m,global_clipnorm\u001b[38;5;241m=\u001b[39m\u001b[38;5;241m1\u001b[39m)\n\u001b[1;32m     13\u001b[0m model\u001b[38;5;241m.\u001b[39mcompile(optimizer\u001b[38;5;241m=\u001b[39moptimizer, loss\u001b[38;5;241m=\u001b[39m\u001b[38;5;124m'\u001b[39m\u001b[38;5;124mcategorical_crossentropy\u001b[39m\u001b[38;5;124m'\u001b[39m, metrics\u001b[38;5;241m=\u001b[39m[\u001b[38;5;124m'\u001b[39m\u001b[38;5;124mcategorical_accuracy\u001b[39m\u001b[38;5;124m'\u001b[39m])\n\u001b[0;32m---> 15\u001b[0m history \u001b[38;5;241m=\u001b[39m \u001b[43mmodel\u001b[49m\u001b[38;5;241;43m.\u001b[39;49m\u001b[43mfit\u001b[49m\u001b[43m(\u001b[49m\u001b[43mXtrain\u001b[49m\u001b[43m,\u001b[49m\u001b[43m \u001b[49m\u001b[43mYtrain\u001b[49m\u001b[43m,\u001b[49m\u001b[43m \u001b[49m\u001b[43mepochs\u001b[49m\u001b[38;5;241;43m=\u001b[39;49m\u001b[38;5;241;43m1000\u001b[39;49m\u001b[43m,\u001b[49m\u001b[43m \u001b[49m\u001b[43mvalidation_split\u001b[49m\u001b[38;5;241;43m=\u001b[39;49m\u001b[38;5;241;43m.2\u001b[39;49m\u001b[43m,\u001b[49m\u001b[43m \u001b[49m\u001b[43mbatch_size\u001b[49m\u001b[43m \u001b[49m\u001b[38;5;241;43m=\u001b[39;49m\u001b[43m \u001b[49m\u001b[38;5;241;43m128\u001b[39;49m\u001b[43m,\u001b[49m\u001b[43m \u001b[49m\u001b[43mcallbacks\u001b[49m\u001b[38;5;241;43m=\u001b[39;49m\u001b[43m[\u001b[49m\u001b[43mtb_callback\u001b[49m\u001b[43m]\u001b[49m\u001b[43m)\u001b[49m\n\u001b[1;32m     16\u001b[0m model\u001b[38;5;241m.\u001b[39msummary()\n",
      "File \u001b[0;32m~/miniconda3/lib/python3.10/site-packages/keras/src/utils/traceback_utils.py:65\u001b[0m, in \u001b[0;36mfilter_traceback.<locals>.error_handler\u001b[0;34m(*args, **kwargs)\u001b[0m\n\u001b[1;32m     63\u001b[0m filtered_tb \u001b[38;5;241m=\u001b[39m \u001b[38;5;28;01mNone\u001b[39;00m\n\u001b[1;32m     64\u001b[0m \u001b[38;5;28;01mtry\u001b[39;00m:\n\u001b[0;32m---> 65\u001b[0m     \u001b[38;5;28;01mreturn\u001b[39;00m \u001b[43mfn\u001b[49m\u001b[43m(\u001b[49m\u001b[38;5;241;43m*\u001b[39;49m\u001b[43margs\u001b[49m\u001b[43m,\u001b[49m\u001b[43m \u001b[49m\u001b[38;5;241;43m*\u001b[39;49m\u001b[38;5;241;43m*\u001b[39;49m\u001b[43mkwargs\u001b[49m\u001b[43m)\u001b[49m\n\u001b[1;32m     66\u001b[0m \u001b[38;5;28;01mexcept\u001b[39;00m \u001b[38;5;167;01mException\u001b[39;00m \u001b[38;5;28;01mas\u001b[39;00m e:\n\u001b[1;32m     67\u001b[0m     filtered_tb \u001b[38;5;241m=\u001b[39m _process_traceback_frames(e\u001b[38;5;241m.\u001b[39m__traceback__)\n",
      "File \u001b[0;32m~/miniconda3/lib/python3.10/site-packages/keras/src/engine/training.py:1742\u001b[0m, in \u001b[0;36mModel.fit\u001b[0;34m(self, x, y, batch_size, epochs, verbose, callbacks, validation_split, validation_data, shuffle, class_weight, sample_weight, initial_epoch, steps_per_epoch, validation_steps, validation_batch_size, validation_freq, max_queue_size, workers, use_multiprocessing)\u001b[0m\n\u001b[1;32m   1734\u001b[0m \u001b[38;5;28;01mwith\u001b[39;00m tf\u001b[38;5;241m.\u001b[39mprofiler\u001b[38;5;241m.\u001b[39mexperimental\u001b[38;5;241m.\u001b[39mTrace(\n\u001b[1;32m   1735\u001b[0m     \u001b[38;5;124m\"\u001b[39m\u001b[38;5;124mtrain\u001b[39m\u001b[38;5;124m\"\u001b[39m,\n\u001b[1;32m   1736\u001b[0m     epoch_num\u001b[38;5;241m=\u001b[39mepoch,\n\u001b[0;32m   (...)\u001b[0m\n\u001b[1;32m   1739\u001b[0m     _r\u001b[38;5;241m=\u001b[39m\u001b[38;5;241m1\u001b[39m,\n\u001b[1;32m   1740\u001b[0m ):\n\u001b[1;32m   1741\u001b[0m     callbacks\u001b[38;5;241m.\u001b[39mon_train_batch_begin(step)\n\u001b[0;32m-> 1742\u001b[0m     tmp_logs \u001b[38;5;241m=\u001b[39m \u001b[38;5;28;43mself\u001b[39;49m\u001b[38;5;241;43m.\u001b[39;49m\u001b[43mtrain_function\u001b[49m\u001b[43m(\u001b[49m\u001b[43miterator\u001b[49m\u001b[43m)\u001b[49m\n\u001b[1;32m   1743\u001b[0m     \u001b[38;5;28;01mif\u001b[39;00m data_handler\u001b[38;5;241m.\u001b[39mshould_sync:\n\u001b[1;32m   1744\u001b[0m         context\u001b[38;5;241m.\u001b[39masync_wait()\n",
      "File \u001b[0;32m~/miniconda3/lib/python3.10/site-packages/tensorflow/python/util/traceback_utils.py:150\u001b[0m, in \u001b[0;36mfilter_traceback.<locals>.error_handler\u001b[0;34m(*args, **kwargs)\u001b[0m\n\u001b[1;32m    148\u001b[0m filtered_tb \u001b[38;5;241m=\u001b[39m \u001b[38;5;28;01mNone\u001b[39;00m\n\u001b[1;32m    149\u001b[0m \u001b[38;5;28;01mtry\u001b[39;00m:\n\u001b[0;32m--> 150\u001b[0m   \u001b[38;5;28;01mreturn\u001b[39;00m \u001b[43mfn\u001b[49m\u001b[43m(\u001b[49m\u001b[38;5;241;43m*\u001b[39;49m\u001b[43margs\u001b[49m\u001b[43m,\u001b[49m\u001b[43m \u001b[49m\u001b[38;5;241;43m*\u001b[39;49m\u001b[38;5;241;43m*\u001b[39;49m\u001b[43mkwargs\u001b[49m\u001b[43m)\u001b[49m\n\u001b[1;32m    151\u001b[0m \u001b[38;5;28;01mexcept\u001b[39;00m \u001b[38;5;167;01mException\u001b[39;00m \u001b[38;5;28;01mas\u001b[39;00m e:\n\u001b[1;32m    152\u001b[0m   filtered_tb \u001b[38;5;241m=\u001b[39m _process_traceback_frames(e\u001b[38;5;241m.\u001b[39m__traceback__)\n",
      "File \u001b[0;32m~/miniconda3/lib/python3.10/site-packages/tensorflow/python/eager/polymorphic_function/polymorphic_function.py:825\u001b[0m, in \u001b[0;36mFunction.__call__\u001b[0;34m(self, *args, **kwds)\u001b[0m\n\u001b[1;32m    822\u001b[0m compiler \u001b[38;5;241m=\u001b[39m \u001b[38;5;124m\"\u001b[39m\u001b[38;5;124mxla\u001b[39m\u001b[38;5;124m\"\u001b[39m \u001b[38;5;28;01mif\u001b[39;00m \u001b[38;5;28mself\u001b[39m\u001b[38;5;241m.\u001b[39m_jit_compile \u001b[38;5;28;01melse\u001b[39;00m \u001b[38;5;124m\"\u001b[39m\u001b[38;5;124mnonXla\u001b[39m\u001b[38;5;124m\"\u001b[39m\n\u001b[1;32m    824\u001b[0m \u001b[38;5;28;01mwith\u001b[39;00m OptionalXlaContext(\u001b[38;5;28mself\u001b[39m\u001b[38;5;241m.\u001b[39m_jit_compile):\n\u001b[0;32m--> 825\u001b[0m   result \u001b[38;5;241m=\u001b[39m \u001b[38;5;28;43mself\u001b[39;49m\u001b[38;5;241;43m.\u001b[39;49m\u001b[43m_call\u001b[49m\u001b[43m(\u001b[49m\u001b[38;5;241;43m*\u001b[39;49m\u001b[43margs\u001b[49m\u001b[43m,\u001b[49m\u001b[43m \u001b[49m\u001b[38;5;241;43m*\u001b[39;49m\u001b[38;5;241;43m*\u001b[39;49m\u001b[43mkwds\u001b[49m\u001b[43m)\u001b[49m\n\u001b[1;32m    827\u001b[0m new_tracing_count \u001b[38;5;241m=\u001b[39m \u001b[38;5;28mself\u001b[39m\u001b[38;5;241m.\u001b[39mexperimental_get_tracing_count()\n\u001b[1;32m    828\u001b[0m without_tracing \u001b[38;5;241m=\u001b[39m (tracing_count \u001b[38;5;241m==\u001b[39m new_tracing_count)\n",
      "File \u001b[0;32m~/miniconda3/lib/python3.10/site-packages/tensorflow/python/eager/polymorphic_function/polymorphic_function.py:857\u001b[0m, in \u001b[0;36mFunction._call\u001b[0;34m(self, *args, **kwds)\u001b[0m\n\u001b[1;32m    854\u001b[0m   \u001b[38;5;28mself\u001b[39m\u001b[38;5;241m.\u001b[39m_lock\u001b[38;5;241m.\u001b[39mrelease()\n\u001b[1;32m    855\u001b[0m   \u001b[38;5;66;03m# In this case we have created variables on the first call, so we run the\u001b[39;00m\n\u001b[1;32m    856\u001b[0m   \u001b[38;5;66;03m# defunned version which is guaranteed to never create variables.\u001b[39;00m\n\u001b[0;32m--> 857\u001b[0m   \u001b[38;5;28;01mreturn\u001b[39;00m \u001b[38;5;28;43mself\u001b[39;49m\u001b[38;5;241;43m.\u001b[39;49m\u001b[43m_no_variable_creation_fn\u001b[49m\u001b[43m(\u001b[49m\u001b[38;5;241;43m*\u001b[39;49m\u001b[43margs\u001b[49m\u001b[43m,\u001b[49m\u001b[43m \u001b[49m\u001b[38;5;241;43m*\u001b[39;49m\u001b[38;5;241;43m*\u001b[39;49m\u001b[43mkwds\u001b[49m\u001b[43m)\u001b[49m  \u001b[38;5;66;03m# pylint: disable=not-callable\u001b[39;00m\n\u001b[1;32m    858\u001b[0m \u001b[38;5;28;01melif\u001b[39;00m \u001b[38;5;28mself\u001b[39m\u001b[38;5;241m.\u001b[39m_variable_creation_fn \u001b[38;5;129;01mis\u001b[39;00m \u001b[38;5;129;01mnot\u001b[39;00m \u001b[38;5;28;01mNone\u001b[39;00m:\n\u001b[1;32m    859\u001b[0m   \u001b[38;5;66;03m# Release the lock early so that multiple threads can perform the call\u001b[39;00m\n\u001b[1;32m    860\u001b[0m   \u001b[38;5;66;03m# in parallel.\u001b[39;00m\n\u001b[1;32m    861\u001b[0m   \u001b[38;5;28mself\u001b[39m\u001b[38;5;241m.\u001b[39m_lock\u001b[38;5;241m.\u001b[39mrelease()\n",
      "File \u001b[0;32m~/miniconda3/lib/python3.10/site-packages/tensorflow/python/eager/polymorphic_function/tracing_compiler.py:148\u001b[0m, in \u001b[0;36mTracingCompiler.__call__\u001b[0;34m(self, *args, **kwargs)\u001b[0m\n\u001b[1;32m    145\u001b[0m \u001b[38;5;28;01mwith\u001b[39;00m \u001b[38;5;28mself\u001b[39m\u001b[38;5;241m.\u001b[39m_lock:\n\u001b[1;32m    146\u001b[0m   (concrete_function,\n\u001b[1;32m    147\u001b[0m    filtered_flat_args) \u001b[38;5;241m=\u001b[39m \u001b[38;5;28mself\u001b[39m\u001b[38;5;241m.\u001b[39m_maybe_define_function(args, kwargs)\n\u001b[0;32m--> 148\u001b[0m \u001b[38;5;28;01mreturn\u001b[39;00m \u001b[43mconcrete_function\u001b[49m\u001b[38;5;241;43m.\u001b[39;49m\u001b[43m_call_flat\u001b[49m\u001b[43m(\u001b[49m\n\u001b[1;32m    149\u001b[0m \u001b[43m    \u001b[49m\u001b[43mfiltered_flat_args\u001b[49m\u001b[43m,\u001b[49m\u001b[43m \u001b[49m\u001b[43mcaptured_inputs\u001b[49m\u001b[38;5;241;43m=\u001b[39;49m\u001b[43mconcrete_function\u001b[49m\u001b[38;5;241;43m.\u001b[39;49m\u001b[43mcaptured_inputs\u001b[49m\u001b[43m)\u001b[49m\n",
      "File \u001b[0;32m~/miniconda3/lib/python3.10/site-packages/tensorflow/python/eager/polymorphic_function/monomorphic_function.py:1349\u001b[0m, in \u001b[0;36mConcreteFunction._call_flat\u001b[0;34m(self, args, captured_inputs)\u001b[0m\n\u001b[1;32m   1345\u001b[0m possible_gradient_type \u001b[38;5;241m=\u001b[39m gradients_util\u001b[38;5;241m.\u001b[39mPossibleTapeGradientTypes(args)\n\u001b[1;32m   1346\u001b[0m \u001b[38;5;28;01mif\u001b[39;00m (possible_gradient_type \u001b[38;5;241m==\u001b[39m gradients_util\u001b[38;5;241m.\u001b[39mPOSSIBLE_GRADIENT_TYPES_NONE\n\u001b[1;32m   1347\u001b[0m     \u001b[38;5;129;01mand\u001b[39;00m executing_eagerly):\n\u001b[1;32m   1348\u001b[0m   \u001b[38;5;66;03m# No tape is watching; skip to running the function.\u001b[39;00m\n\u001b[0;32m-> 1349\u001b[0m   \u001b[38;5;28;01mreturn\u001b[39;00m \u001b[38;5;28mself\u001b[39m\u001b[38;5;241m.\u001b[39m_build_call_outputs(\u001b[38;5;28;43mself\u001b[39;49m\u001b[38;5;241;43m.\u001b[39;49m\u001b[43m_inference_function\u001b[49m\u001b[43m(\u001b[49m\u001b[38;5;241;43m*\u001b[39;49m\u001b[43margs\u001b[49m\u001b[43m)\u001b[49m)\n\u001b[1;32m   1350\u001b[0m forward_backward \u001b[38;5;241m=\u001b[39m \u001b[38;5;28mself\u001b[39m\u001b[38;5;241m.\u001b[39m_select_forward_and_backward_functions(\n\u001b[1;32m   1351\u001b[0m     args,\n\u001b[1;32m   1352\u001b[0m     possible_gradient_type,\n\u001b[1;32m   1353\u001b[0m     executing_eagerly)\n\u001b[1;32m   1354\u001b[0m forward_function, args_with_tangents \u001b[38;5;241m=\u001b[39m forward_backward\u001b[38;5;241m.\u001b[39mforward()\n",
      "File \u001b[0;32m~/miniconda3/lib/python3.10/site-packages/tensorflow/python/eager/polymorphic_function/atomic_function.py:196\u001b[0m, in \u001b[0;36mAtomicFunction.__call__\u001b[0;34m(self, *args)\u001b[0m\n\u001b[1;32m    194\u001b[0m \u001b[38;5;28;01mwith\u001b[39;00m record\u001b[38;5;241m.\u001b[39mstop_recording():\n\u001b[1;32m    195\u001b[0m   \u001b[38;5;28;01mif\u001b[39;00m \u001b[38;5;28mself\u001b[39m\u001b[38;5;241m.\u001b[39m_bound_context\u001b[38;5;241m.\u001b[39mexecuting_eagerly():\n\u001b[0;32m--> 196\u001b[0m     outputs \u001b[38;5;241m=\u001b[39m \u001b[38;5;28;43mself\u001b[39;49m\u001b[38;5;241;43m.\u001b[39;49m\u001b[43m_bound_context\u001b[49m\u001b[38;5;241;43m.\u001b[39;49m\u001b[43mcall_function\u001b[49m\u001b[43m(\u001b[49m\n\u001b[1;32m    197\u001b[0m \u001b[43m        \u001b[49m\u001b[38;5;28;43mself\u001b[39;49m\u001b[38;5;241;43m.\u001b[39;49m\u001b[43mname\u001b[49m\u001b[43m,\u001b[49m\n\u001b[1;32m    198\u001b[0m \u001b[43m        \u001b[49m\u001b[38;5;28;43mlist\u001b[39;49m\u001b[43m(\u001b[49m\u001b[43margs\u001b[49m\u001b[43m)\u001b[49m\u001b[43m,\u001b[49m\n\u001b[1;32m    199\u001b[0m \u001b[43m        \u001b[49m\u001b[38;5;28;43mlen\u001b[39;49m\u001b[43m(\u001b[49m\u001b[38;5;28;43mself\u001b[39;49m\u001b[38;5;241;43m.\u001b[39;49m\u001b[43mfunction_type\u001b[49m\u001b[38;5;241;43m.\u001b[39;49m\u001b[43mflat_outputs\u001b[49m\u001b[43m)\u001b[49m\u001b[43m,\u001b[49m\n\u001b[1;32m    200\u001b[0m \u001b[43m    \u001b[49m\u001b[43m)\u001b[49m\n\u001b[1;32m    201\u001b[0m   \u001b[38;5;28;01melse\u001b[39;00m:\n\u001b[1;32m    202\u001b[0m     outputs \u001b[38;5;241m=\u001b[39m make_call_op_in_graph(\u001b[38;5;28mself\u001b[39m, \u001b[38;5;28mlist\u001b[39m(args))\n",
      "File \u001b[0;32m~/miniconda3/lib/python3.10/site-packages/tensorflow/python/eager/context.py:1457\u001b[0m, in \u001b[0;36mContext.call_function\u001b[0;34m(self, name, tensor_inputs, num_outputs)\u001b[0m\n\u001b[1;32m   1455\u001b[0m cancellation_context \u001b[38;5;241m=\u001b[39m cancellation\u001b[38;5;241m.\u001b[39mcontext()\n\u001b[1;32m   1456\u001b[0m \u001b[38;5;28;01mif\u001b[39;00m cancellation_context \u001b[38;5;129;01mis\u001b[39;00m \u001b[38;5;28;01mNone\u001b[39;00m:\n\u001b[0;32m-> 1457\u001b[0m   outputs \u001b[38;5;241m=\u001b[39m \u001b[43mexecute\u001b[49m\u001b[38;5;241;43m.\u001b[39;49m\u001b[43mexecute\u001b[49m\u001b[43m(\u001b[49m\n\u001b[1;32m   1458\u001b[0m \u001b[43m      \u001b[49m\u001b[43mname\u001b[49m\u001b[38;5;241;43m.\u001b[39;49m\u001b[43mdecode\u001b[49m\u001b[43m(\u001b[49m\u001b[38;5;124;43m\"\u001b[39;49m\u001b[38;5;124;43mutf-8\u001b[39;49m\u001b[38;5;124;43m\"\u001b[39;49m\u001b[43m)\u001b[49m\u001b[43m,\u001b[49m\n\u001b[1;32m   1459\u001b[0m \u001b[43m      \u001b[49m\u001b[43mnum_outputs\u001b[49m\u001b[38;5;241;43m=\u001b[39;49m\u001b[43mnum_outputs\u001b[49m\u001b[43m,\u001b[49m\n\u001b[1;32m   1460\u001b[0m \u001b[43m      \u001b[49m\u001b[43minputs\u001b[49m\u001b[38;5;241;43m=\u001b[39;49m\u001b[43mtensor_inputs\u001b[49m\u001b[43m,\u001b[49m\n\u001b[1;32m   1461\u001b[0m \u001b[43m      \u001b[49m\u001b[43mattrs\u001b[49m\u001b[38;5;241;43m=\u001b[39;49m\u001b[43mattrs\u001b[49m\u001b[43m,\u001b[49m\n\u001b[1;32m   1462\u001b[0m \u001b[43m      \u001b[49m\u001b[43mctx\u001b[49m\u001b[38;5;241;43m=\u001b[39;49m\u001b[38;5;28;43mself\u001b[39;49m\u001b[43m,\u001b[49m\n\u001b[1;32m   1463\u001b[0m \u001b[43m  \u001b[49m\u001b[43m)\u001b[49m\n\u001b[1;32m   1464\u001b[0m \u001b[38;5;28;01melse\u001b[39;00m:\n\u001b[1;32m   1465\u001b[0m   outputs \u001b[38;5;241m=\u001b[39m execute\u001b[38;5;241m.\u001b[39mexecute_with_cancellation(\n\u001b[1;32m   1466\u001b[0m       name\u001b[38;5;241m.\u001b[39mdecode(\u001b[38;5;124m\"\u001b[39m\u001b[38;5;124mutf-8\u001b[39m\u001b[38;5;124m\"\u001b[39m),\n\u001b[1;32m   1467\u001b[0m       num_outputs\u001b[38;5;241m=\u001b[39mnum_outputs,\n\u001b[0;32m   (...)\u001b[0m\n\u001b[1;32m   1471\u001b[0m       cancellation_manager\u001b[38;5;241m=\u001b[39mcancellation_context,\n\u001b[1;32m   1472\u001b[0m   )\n",
      "File \u001b[0;32m~/miniconda3/lib/python3.10/site-packages/tensorflow/python/eager/execute.py:53\u001b[0m, in \u001b[0;36mquick_execute\u001b[0;34m(op_name, num_outputs, inputs, attrs, ctx, name)\u001b[0m\n\u001b[1;32m     51\u001b[0m \u001b[38;5;28;01mtry\u001b[39;00m:\n\u001b[1;32m     52\u001b[0m   ctx\u001b[38;5;241m.\u001b[39mensure_initialized()\n\u001b[0;32m---> 53\u001b[0m   tensors \u001b[38;5;241m=\u001b[39m \u001b[43mpywrap_tfe\u001b[49m\u001b[38;5;241;43m.\u001b[39;49m\u001b[43mTFE_Py_Execute\u001b[49m\u001b[43m(\u001b[49m\u001b[43mctx\u001b[49m\u001b[38;5;241;43m.\u001b[39;49m\u001b[43m_handle\u001b[49m\u001b[43m,\u001b[49m\u001b[43m \u001b[49m\u001b[43mdevice_name\u001b[49m\u001b[43m,\u001b[49m\u001b[43m \u001b[49m\u001b[43mop_name\u001b[49m\u001b[43m,\u001b[49m\n\u001b[1;32m     54\u001b[0m \u001b[43m                                      \u001b[49m\u001b[43minputs\u001b[49m\u001b[43m,\u001b[49m\u001b[43m \u001b[49m\u001b[43mattrs\u001b[49m\u001b[43m,\u001b[49m\u001b[43m \u001b[49m\u001b[43mnum_outputs\u001b[49m\u001b[43m)\u001b[49m\n\u001b[1;32m     55\u001b[0m \u001b[38;5;28;01mexcept\u001b[39;00m core\u001b[38;5;241m.\u001b[39m_NotOkStatusException \u001b[38;5;28;01mas\u001b[39;00m e:\n\u001b[1;32m     56\u001b[0m   \u001b[38;5;28;01mif\u001b[39;00m name \u001b[38;5;129;01mis\u001b[39;00m \u001b[38;5;129;01mnot\u001b[39;00m \u001b[38;5;28;01mNone\u001b[39;00m:\n",
      "\u001b[0;31mKeyboardInterrupt\u001b[0m: "
     ]
    }
   ],
   "source": [
    "model = Sequential()\n",
    "\n",
    "act_function = 'elu'\n",
    "model.add(GRU(32, return_sequences=False, activation=act_function, dropout=.5,input_shape=(130,1662)))\n",
    "#model.add(GRU(128, return_sequences=True, activation=act_function))\n",
    "#model.add(LSTM(64, return_sequences=False, activation=act_function))\n",
    "model.add(Dense(32, activation=act_function))\n",
    "#model.add(Dense(64, activation=act_function))\n",
    "model.add(Dense(16, activation=act_function))\n",
    "model.add(Dropout(.3))\n",
    "model.add(Dense(50, activation='softmax'))\n",
    "optimizer = Lion(learning_rate=.00005,global_clipnorm=1)\n",
    "model.compile(optimizer=optimizer, loss='categorical_crossentropy', metrics=['categorical_accuracy'])\n",
    "\n",
    "history = model.fit(Xtrain, Ytrain, epochs=1000, validation_split=.2, batch_size = 128, callbacks=[tb_callback])\n",
    "model.summary()"
   ]
  },
  {
   "cell_type": "code",
   "execution_count": null,
   "id": "c7006b20",
   "metadata": {},
   "outputs": [],
   "source": []
  }
 ],
 "metadata": {
  "celltoolbar": "Initialization Cell",
  "kernelspec": {
   "display_name": "Python 3 (ipykernel)",
   "language": "python",
   "name": "python3"
  },
  "language_info": {
   "codemirror_mode": {
    "name": "ipython",
    "version": 3
   },
   "file_extension": ".py",
   "mimetype": "text/x-python",
   "name": "python",
   "nbconvert_exporter": "python",
   "pygments_lexer": "ipython3",
   "version": "3.10.12"
  },
  "notify_time": "10",
  "toc": {
   "base_numbering": 1,
   "nav_menu": {},
   "number_sections": true,
   "sideBar": true,
   "skip_h1_title": true,
   "title_cell": "Table of Contents",
   "title_sidebar": "Contents",
   "toc_cell": true,
   "toc_position": {},
   "toc_section_display": true,
   "toc_window_display": false
  },
  "varInspector": {
   "cols": {
    "lenName": 16,
    "lenType": 16,
    "lenVar": 40
   },
   "kernels_config": {
    "python": {
     "delete_cmd_postfix": "",
     "delete_cmd_prefix": "del ",
     "library": "var_list.py",
     "varRefreshCmd": "print(var_dic_list())"
    },
    "r": {
     "delete_cmd_postfix": ") ",
     "delete_cmd_prefix": "rm(",
     "library": "var_list.r",
     "varRefreshCmd": "cat(var_dic_list()) "
    }
   },
   "position": {
    "height": "401.844px",
    "left": "1550px",
    "right": "20px",
    "top": "120px",
    "width": "350px"
   },
   "types_to_exclude": [
    "module",
    "function",
    "builtin_function_or_method",
    "instance",
    "_Feature"
   ],
   "window_display": false
  }
 },
 "nbformat": 4,
 "nbformat_minor": 5
}
