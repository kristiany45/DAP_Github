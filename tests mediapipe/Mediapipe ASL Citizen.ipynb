{
 "cells": [
  {
   "cell_type": "markdown",
   "id": "957d823f",
   "metadata": {
    "toc": true
   },
   "source": [
    "<h1>Table of Contents<span class=\"tocSkip\"></span></h1>\n",
    "<div class=\"toc\"><ul class=\"toc-item\"></ul></div>"
   ]
  },
  {
   "cell_type": "code",
   "execution_count": 1,
   "id": "ab7927e9",
   "metadata": {
    "ExecuteTime": {
     "end_time": "2023-08-04T13:21:04.964503Z",
     "start_time": "2023-08-04T13:20:32.546943Z"
    }
   },
   "outputs": [
    {
     "name": "stderr",
     "output_type": "stream",
     "text": [
      "2023-08-04 14:20:42.862149: I tensorflow/core/platform/cpu_feature_guard.cc:182] This TensorFlow binary is optimized to use available CPU instructions in performance-critical operations.\n",
      "To enable the following instructions: AVX2 FMA, in other operations, rebuild TensorFlow with the appropriate compiler flags.\n",
      "2023-08-04 14:20:51.686727: W tensorflow/compiler/tf2tensorrt/utils/py_utils.cc:38] TF-TRT Warning: Could not find TensorRT\n"
     ]
    }
   ],
   "source": [
    "import mediapipe as mp\n",
    "import numpy as np\n",
    "import cv2\n",
    "from pyspark.sql.functions import row_number\n",
    "from pyspark.sql.window import Window\n",
    "import pandas as pd\n",
    "from tqdm import tqdm\n",
    "import gc\n",
    "from operator import add"
   ]
  },
  {
   "cell_type": "code",
   "execution_count": 2,
   "id": "fefa485b",
   "metadata": {
    "ExecuteTime": {
     "end_time": "2023-08-04T13:21:07.974737Z",
     "start_time": "2023-08-04T13:21:07.971880Z"
    }
   },
   "outputs": [],
   "source": [
    "mp_drawing = mp.solutions.drawing_utils\n",
    "mp_holistic = mp.solutions.holistic"
   ]
  },
  {
   "cell_type": "code",
   "execution_count": 4,
   "id": "05d07926",
   "metadata": {
    "ExecuteTime": {
     "end_time": "2023-08-04T13:21:49.215352Z",
     "start_time": "2023-08-04T13:21:30.335845Z"
    }
   },
   "outputs": [],
   "source": [
    "cap = cv2.VideoCapture(\"file://media/kristian/HDD/ASL_Citizen/ASL_Citizen/videos/0023159093449660606-CAFETERIA.mp4\")\n",
    "#cap = cv2.VideoCapture(0)\n",
    "\n",
    "with mp_holistic.Holistic(static_image_mode=False,\n",
    "                          model_complexity=2) as holistic:\n",
    "    while True:\n",
    "        ret, frame = cap.read()\n",
    "        if ret == False:\n",
    "            break\n",
    "        frame_rgb = cv2.cvtColor(frame, cv2.COLOR_BGR2RGB)\n",
    "        results = holistic.process(frame_rgb)\n",
    "        # face\n",
    "        mp_drawing.draw_landmarks(\n",
    "            frame, results.face_landmarks, mp_holistic.FACEMESH_TESSELATION,\n",
    "            mp_drawing.DrawingSpec(color=(0, 255, 255),\n",
    "                                   thickness=1,\n",
    "                                   circle_radius=1),\n",
    "            mp_drawing.DrawingSpec(color=(0, 128, 255), thickness=2))\n",
    "\n",
    "        # Left hand\n",
    "        mp_drawing.draw_landmarks(\n",
    "            frame, results.left_hand_landmarks, mp_holistic.HAND_CONNECTIONS,\n",
    "            mp_drawing.DrawingSpec(color=(0, 0, 0),\n",
    "                                   thickness=2,\n",
    "                                   circle_radius=1),\n",
    "            mp_drawing.DrawingSpec(color=(0, 92, 230), thickness=2))\n",
    "\n",
    "        # Right Hand\n",
    "        mp_drawing.draw_landmarks(\n",
    "            frame, results.right_hand_landmarks, mp_holistic.HAND_CONNECTIONS,\n",
    "            mp_drawing.DrawingSpec(color=(0, 0, 0),\n",
    "                                   thickness=2,\n",
    "                                   circle_radius=1),\n",
    "            mp_drawing.DrawingSpec(color=(0, 92, 230), thickness=2))\n",
    "\n",
    "        # Posture\n",
    "        mp_drawing.draw_landmarks(\n",
    "            frame, results.pose_landmarks, mp_holistic.POSE_CONNECTIONS,\n",
    "            mp_drawing.DrawingSpec(color=(0, 0, 0),\n",
    "                                   thickness=2,\n",
    "                                   circle_radius=1),\n",
    "            mp_drawing.DrawingSpec(color=(0, 92, 230), thickness=2))\n",
    "        frame = cv2.flip(frame, 1)\n",
    "        cv2.imshow(\"Frame\", frame)\n",
    "        if cv2.waitKey(1) & 0xFF == 27:\n",
    "            break\n",
    "cap.release()\n",
    "cv2.destroyAllWindows()"
   ]
  },
  {
   "cell_type": "code",
   "execution_count": 5,
   "id": "3884fb03",
   "metadata": {
    "ExecuteTime": {
     "end_time": "2023-08-04T13:21:53.596967Z",
     "start_time": "2023-08-04T13:21:53.589974Z"
    }
   },
   "outputs": [
    {
     "data": {
      "text/plain": [
       "mediapipe.python.solution_base.SolutionOutputs"
      ]
     },
     "execution_count": 5,
     "metadata": {},
     "output_type": "execute_result"
    }
   ],
   "source": [
    "results"
   ]
  },
  {
   "cell_type": "code",
   "execution_count": 6,
   "id": "439656a0",
   "metadata": {
    "ExecuteTime": {
     "end_time": "2023-08-04T13:21:54.422290Z",
     "start_time": "2023-08-04T13:21:54.418430Z"
    }
   },
   "outputs": [
    {
     "data": {
      "text/plain": [
       "33"
      ]
     },
     "execution_count": 6,
     "metadata": {},
     "output_type": "execute_result"
    }
   ],
   "source": [
    "len(results.pose_landmarks.landmark)"
   ]
  },
  {
   "cell_type": "code",
   "execution_count": 7,
   "id": "f5879199",
   "metadata": {
    "ExecuteTime": {
     "end_time": "2023-08-04T13:21:57.366118Z",
     "start_time": "2023-08-04T13:21:57.362911Z"
    }
   },
   "outputs": [],
   "source": [
    "pose = []\n",
    "for res in results.pose_landmarks.landmark:\n",
    "    test = np.array([res.x, res.y, res.z, res.visibility])\n",
    "    pose.append(test)"
   ]
  },
  {
   "cell_type": "code",
   "execution_count": null,
   "id": "85938609",
   "metadata": {
    "ExecuteTime": {
     "end_time": "2023-08-04T13:21:58.397411Z",
     "start_time": "2023-08-04T13:21:58.397399Z"
    }
   },
   "outputs": [],
   "source": [
    "pose = np.array([[res.x, res.y, res.z, res.visibility] for res in results.pose_landmarks.landmark]).flatten() if results.pose_landmarks else np.zeros(132)\n",
    "face = np.array([[res.x, res.y, res.z] for res in results.face_landmarks.landmark]).flatten() if results.face_landmarks else np.zeros(1404)\n",
    "lh = np.array([[res.x, res.y, res.z] for res in results.left_hand_landmarks.landmark]).flatten() if results.left_hand_landmarks else np.zeros(21*3)\n",
    "rh = np.array([[res.x, res.y, res.z] for res in results.right_hand_landmarks.landmark]).flatten() if results.right_hand_landmarks else np.zeros(21*3)"
   ]
  },
  {
   "cell_type": "code",
   "execution_count": 8,
   "id": "d61e74ee",
   "metadata": {
    "ExecuteTime": {
     "end_time": "2023-08-04T13:21:58.984720Z",
     "start_time": "2023-08-04T13:21:58.980565Z"
    }
   },
   "outputs": [],
   "source": [
    "def extract_keypoints(results):\n",
    "    pose = np.array([[res.x, res.y, res.z, res.visibility] for res in results.pose_landmarks.landmark]).flatten() if results.pose_landmarks else np.zeros(33*4)\n",
    "    face = np.array([[res.x, res.y, res.z] for res in results.face_landmarks.landmark]).flatten() if results.face_landmarks else np.zeros(468*3)\n",
    "    lh = np.array([[res.x, res.y, res.z] for res in results.left_hand_landmarks.landmark]).flatten() if results.left_hand_landmarks else np.zeros(21*3)\n",
    "    rh = np.array([[res.x, res.y, res.z] for res in results.right_hand_landmarks.landmark]).flatten() if results.right_hand_landmarks else np.zeros(21*3)\n",
    "    return np.concatenate([pose, face, lh, rh])"
   ]
  },
  {
   "cell_type": "code",
   "execution_count": 9,
   "id": "b7a805c6",
   "metadata": {
    "ExecuteTime": {
     "end_time": "2023-08-04T13:22:00.794661Z",
     "start_time": "2023-08-04T13:22:00.791870Z"
    }
   },
   "outputs": [],
   "source": [
    "result_test = extract_keypoints(results)"
   ]
  },
  {
   "cell_type": "code",
   "execution_count": 10,
   "id": "96d95912",
   "metadata": {
    "ExecuteTime": {
     "end_time": "2023-08-04T13:22:01.967480Z",
     "start_time": "2023-08-04T13:22:01.963255Z"
    }
   },
   "outputs": [
    {
     "data": {
      "text/plain": [
       "array([ 0.53414291,  0.4640485 , -0.59761614, ...,  0.        ,\n",
       "        0.        ,  0.        ])"
      ]
     },
     "execution_count": 10,
     "metadata": {},
     "output_type": "execute_result"
    }
   ],
   "source": [
    "result_test"
   ]
  },
  {
   "cell_type": "code",
   "execution_count": 11,
   "id": "3fba0ef1",
   "metadata": {
    "ExecuteTime": {
     "end_time": "2023-08-04T13:22:04.152061Z",
     "start_time": "2023-08-04T13:22:04.148823Z"
    }
   },
   "outputs": [],
   "source": [
    "def signvideodataframe(filepath):\n",
    "    # Read the CSV file into a DataFrame\n",
    "    df = pd.read_csv(filepath)\n",
    "\n",
    "    # Define the path to the videos directory\n",
    "    path = 'file:///media/kristian/HDD/ASL_Citizen/ASL_Citizen/videos/'\n",
    "\n",
    "    # Create a 'Path' column by concatenating the path with 'Video file' column\n",
    "    df['Path'] = path + df['Video file']\n",
    "    \n",
    "#    df['Gloss'] = df['Gloss'].str.replace('\\d+', '',regex=True)\n",
    "\n",
    "    # Calculate the frequency of each gloss and create a 'frequency' column\n",
    "    df['frequency'] = df['Gloss'].map(df['Gloss'].value_counts())\n",
    "\n",
    "    # Sort the DataFrame by the 'Gloss' column\n",
    "    df = df.sort_values(by='Gloss')\n",
    "\n",
    "    # Reset the index of the DataFrame\n",
    "    df = df.reset_index(drop=True)\n",
    "\n",
    "    return df"
   ]
  },
  {
   "cell_type": "code",
   "execution_count": 12,
   "id": "95a62d51",
   "metadata": {
    "ExecuteTime": {
     "end_time": "2023-08-04T13:22:09.049429Z",
     "start_time": "2023-08-04T13:22:07.649624Z"
    }
   },
   "outputs": [],
   "source": [
    "traindf = signvideodataframe('file:///media/kristian/HDD/ASL_Citizen/ASL_Citizen/splits/train.csv')"
   ]
  },
  {
   "cell_type": "code",
   "execution_count": 13,
   "id": "ea9e1a27",
   "metadata": {
    "ExecuteTime": {
     "end_time": "2023-08-04T13:22:10.852320Z",
     "start_time": "2023-08-04T13:22:10.767345Z"
    }
   },
   "outputs": [
    {
     "data": {
      "text/html": [
       "<div>\n",
       "<style scoped>\n",
       "    .dataframe tbody tr th:only-of-type {\n",
       "        vertical-align: middle;\n",
       "    }\n",
       "\n",
       "    .dataframe tbody tr th {\n",
       "        vertical-align: top;\n",
       "    }\n",
       "\n",
       "    .dataframe thead th {\n",
       "        text-align: right;\n",
       "    }\n",
       "</style>\n",
       "<table border=\"1\" class=\"dataframe\">\n",
       "  <thead>\n",
       "    <tr style=\"text-align: right;\">\n",
       "      <th></th>\n",
       "      <th>Participant ID</th>\n",
       "      <th>Video file</th>\n",
       "      <th>Gloss</th>\n",
       "      <th>ASL-LEX Code</th>\n",
       "      <th>Path</th>\n",
       "      <th>frequency</th>\n",
       "    </tr>\n",
       "  </thead>\n",
       "  <tbody>\n",
       "    <tr>\n",
       "      <th>0</th>\n",
       "      <td>P31</td>\n",
       "      <td>3827306090663467-1 DOLLAR.mp4</td>\n",
       "      <td>1DOLLAR</td>\n",
       "      <td>C_02_025</td>\n",
       "      <td>file:///media/kristian/HDD/ASL_Citizen/ASL_Cit...</td>\n",
       "      <td>15</td>\n",
       "    </tr>\n",
       "    <tr>\n",
       "      <th>1</th>\n",
       "      <td>P37</td>\n",
       "      <td>16792698524451422-1 DOLLAR.mp4</td>\n",
       "      <td>1DOLLAR</td>\n",
       "      <td>C_02_025</td>\n",
       "      <td>file:///media/kristian/HDD/ASL_Citizen/ASL_Cit...</td>\n",
       "      <td>15</td>\n",
       "    </tr>\n",
       "    <tr>\n",
       "      <th>2</th>\n",
       "      <td>P11</td>\n",
       "      <td>6868778695018762-1 DOLLAR.mp4</td>\n",
       "      <td>1DOLLAR</td>\n",
       "      <td>C_02_025</td>\n",
       "      <td>file:///media/kristian/HDD/ASL_Citizen/ASL_Cit...</td>\n",
       "      <td>15</td>\n",
       "    </tr>\n",
       "    <tr>\n",
       "      <th>3</th>\n",
       "      <td>P11</td>\n",
       "      <td>6870709051348651-1 DOLLAR.mp4</td>\n",
       "      <td>1DOLLAR</td>\n",
       "      <td>C_02_025</td>\n",
       "      <td>file:///media/kristian/HDD/ASL_Citizen/ASL_Cit...</td>\n",
       "      <td>15</td>\n",
       "    </tr>\n",
       "    <tr>\n",
       "      <th>4</th>\n",
       "      <td>P50</td>\n",
       "      <td>0719792557216079-1 DOLLAR.mp4</td>\n",
       "      <td>1DOLLAR</td>\n",
       "      <td>C_02_025</td>\n",
       "      <td>file:///media/kristian/HDD/ASL_Citizen/ASL_Cit...</td>\n",
       "      <td>15</td>\n",
       "    </tr>\n",
       "  </tbody>\n",
       "</table>\n",
       "</div>"
      ],
      "text/plain": [
       "  Participant ID                      Video file    Gloss ASL-LEX Code  \\\n",
       "0            P31   3827306090663467-1 DOLLAR.mp4  1DOLLAR     C_02_025   \n",
       "1            P37  16792698524451422-1 DOLLAR.mp4  1DOLLAR     C_02_025   \n",
       "2            P11   6868778695018762-1 DOLLAR.mp4  1DOLLAR     C_02_025   \n",
       "3            P11   6870709051348651-1 DOLLAR.mp4  1DOLLAR     C_02_025   \n",
       "4            P50   0719792557216079-1 DOLLAR.mp4  1DOLLAR     C_02_025   \n",
       "\n",
       "                                                Path  frequency  \n",
       "0  file:///media/kristian/HDD/ASL_Citizen/ASL_Cit...         15  \n",
       "1  file:///media/kristian/HDD/ASL_Citizen/ASL_Cit...         15  \n",
       "2  file:///media/kristian/HDD/ASL_Citizen/ASL_Cit...         15  \n",
       "3  file:///media/kristian/HDD/ASL_Citizen/ASL_Cit...         15  \n",
       "4  file:///media/kristian/HDD/ASL_Citizen/ASL_Cit...         15  "
      ]
     },
     "execution_count": 13,
     "metadata": {},
     "output_type": "execute_result"
    }
   ],
   "source": [
    "traindf.head()"
   ]
  },
  {
   "cell_type": "code",
   "execution_count": 14,
   "id": "32b5fa2d",
   "metadata": {
    "ExecuteTime": {
     "end_time": "2023-08-04T13:22:12.519379Z",
     "start_time": "2023-08-04T13:22:12.512576Z"
    }
   },
   "outputs": [
    {
     "data": {
      "text/html": [
       "<div>\n",
       "<style scoped>\n",
       "    .dataframe tbody tr th:only-of-type {\n",
       "        vertical-align: middle;\n",
       "    }\n",
       "\n",
       "    .dataframe tbody tr th {\n",
       "        vertical-align: top;\n",
       "    }\n",
       "\n",
       "    .dataframe thead th {\n",
       "        text-align: right;\n",
       "    }\n",
       "</style>\n",
       "<table border=\"1\" class=\"dataframe\">\n",
       "  <thead>\n",
       "    <tr style=\"text-align: right;\">\n",
       "      <th></th>\n",
       "      <th>Participant ID</th>\n",
       "      <th>Video file</th>\n",
       "      <th>Gloss</th>\n",
       "      <th>ASL-LEX Code</th>\n",
       "      <th>Path</th>\n",
       "      <th>frequency</th>\n",
       "    </tr>\n",
       "  </thead>\n",
       "  <tbody>\n",
       "    <tr>\n",
       "      <th>40149</th>\n",
       "      <td>P37</td>\n",
       "      <td>9716493262876276-ZOOM OFF.mp4</td>\n",
       "      <td>ZOOMOFF</td>\n",
       "      <td>D_01_057</td>\n",
       "      <td>file:///media/kristian/HDD/ASL_Citizen/ASL_Cit...</td>\n",
       "      <td>15</td>\n",
       "    </tr>\n",
       "    <tr>\n",
       "      <th>40150</th>\n",
       "      <td>P31</td>\n",
       "      <td>7550572181460327-ZOOM OFF.mp4</td>\n",
       "      <td>ZOOMOFF</td>\n",
       "      <td>D_01_057</td>\n",
       "      <td>file:///media/kristian/HDD/ASL_Citizen/ASL_Cit...</td>\n",
       "      <td>15</td>\n",
       "    </tr>\n",
       "    <tr>\n",
       "      <th>40151</th>\n",
       "      <td>P46</td>\n",
       "      <td>47985881750082227-ZOOM OFF.mp4</td>\n",
       "      <td>ZOOMOFF</td>\n",
       "      <td>D_01_057</td>\n",
       "      <td>file:///media/kristian/HDD/ASL_Citizen/ASL_Cit...</td>\n",
       "      <td>15</td>\n",
       "    </tr>\n",
       "    <tr>\n",
       "      <th>40152</th>\n",
       "      <td>P50</td>\n",
       "      <td>04671245574824856-ZOOM OFF.mp4</td>\n",
       "      <td>ZOOMOFF</td>\n",
       "      <td>D_01_057</td>\n",
       "      <td>file:///media/kristian/HDD/ASL_Citizen/ASL_Cit...</td>\n",
       "      <td>15</td>\n",
       "    </tr>\n",
       "    <tr>\n",
       "      <th>40153</th>\n",
       "      <td>P51</td>\n",
       "      <td>19959052532136146-ZOOM OFF.mp4</td>\n",
       "      <td>ZOOMOFF</td>\n",
       "      <td>D_01_057</td>\n",
       "      <td>file:///media/kristian/HDD/ASL_Citizen/ASL_Cit...</td>\n",
       "      <td>15</td>\n",
       "    </tr>\n",
       "  </tbody>\n",
       "</table>\n",
       "</div>"
      ],
      "text/plain": [
       "      Participant ID                      Video file    Gloss ASL-LEX Code  \\\n",
       "40149            P37   9716493262876276-ZOOM OFF.mp4  ZOOMOFF     D_01_057   \n",
       "40150            P31   7550572181460327-ZOOM OFF.mp4  ZOOMOFF     D_01_057   \n",
       "40151            P46  47985881750082227-ZOOM OFF.mp4  ZOOMOFF     D_01_057   \n",
       "40152            P50  04671245574824856-ZOOM OFF.mp4  ZOOMOFF     D_01_057   \n",
       "40153            P51  19959052532136146-ZOOM OFF.mp4  ZOOMOFF     D_01_057   \n",
       "\n",
       "                                                    Path  frequency  \n",
       "40149  file:///media/kristian/HDD/ASL_Citizen/ASL_Cit...         15  \n",
       "40150  file:///media/kristian/HDD/ASL_Citizen/ASL_Cit...         15  \n",
       "40151  file:///media/kristian/HDD/ASL_Citizen/ASL_Cit...         15  \n",
       "40152  file:///media/kristian/HDD/ASL_Citizen/ASL_Cit...         15  \n",
       "40153  file:///media/kristian/HDD/ASL_Citizen/ASL_Cit...         15  "
      ]
     },
     "execution_count": 14,
     "metadata": {},
     "output_type": "execute_result"
    }
   ],
   "source": [
    "traindf.tail()"
   ]
  },
  {
   "cell_type": "code",
   "execution_count": 15,
   "id": "52b49a41",
   "metadata": {
    "ExecuteTime": {
     "end_time": "2023-08-04T13:22:14.826345Z",
     "start_time": "2023-08-04T13:22:14.823101Z"
    }
   },
   "outputs": [
    {
     "data": {
      "text/plain": [
       "'file:///media/kristian/HDD/ASL_Citizen/ASL_Citizen/videos/3827306090663467-1 DOLLAR.mp4'"
      ]
     },
     "execution_count": 15,
     "metadata": {},
     "output_type": "execute_result"
    }
   ],
   "source": [
    "traindf['Path'][0]"
   ]
  },
  {
   "cell_type": "code",
   "execution_count": 16,
   "id": "d581c72d",
   "metadata": {
    "ExecuteTime": {
     "end_time": "2023-08-04T13:22:28.355769Z",
     "start_time": "2023-08-04T13:22:26.809853Z"
    }
   },
   "outputs": [
    {
     "name": "stderr",
     "output_type": "stream",
     "text": [
      "[ERROR:0@112.167] global cap.cpp:164 open VIDEOIO(CV_IMAGES): raised OpenCV exception:\n",
      "\n",
      "OpenCV(4.8.0) /io/opencv/modules/videoio/src/cap_images.cpp:267: error: (-215:Assertion failed) number < max_number in function 'icvExtractPattern'\n",
      "\n",
      "\n"
     ]
    }
   ],
   "source": [
    "cap = cv2.VideoCapture(traindf['Path'][0])\n",
    "#cap = cv2.VideoCapture(0)\n",
    "\n",
    "with mp_holistic.Holistic(static_image_mode=False,\n",
    "                          model_complexity=2) as holistic:\n",
    "    while True:\n",
    "        ret, frame = cap.read()\n",
    "        if ret == False:\n",
    "            break\n",
    "        frame_rgb = cv2.cvtColor(frame, cv2.COLOR_BGR2RGB)\n",
    "        results = holistic.process(frame_rgb)\n",
    "        # face\n",
    "        mp_drawing.draw_landmarks(\n",
    "            frame, results.face_landmarks, mp_holistic.FACEMESH_TESSELATION,\n",
    "            mp_drawing.DrawingSpec(color=(0, 255, 255),\n",
    "                                   thickness=1,\n",
    "                                   circle_radius=1),\n",
    "            mp_drawing.DrawingSpec(color=(0, 128, 255), thickness=2))\n",
    "\n",
    "        # Left hand\n",
    "        mp_drawing.draw_landmarks(\n",
    "            frame, results.left_hand_landmarks, mp_holistic.HAND_CONNECTIONS,\n",
    "            mp_drawing.DrawingSpec(color=(0, 0, 0),\n",
    "                                   thickness=2,\n",
    "                                   circle_radius=1),\n",
    "            mp_drawing.DrawingSpec(color=(0, 92, 230), thickness=2))\n",
    "\n",
    "        # Right Hand\n",
    "        mp_drawing.draw_landmarks(\n",
    "            frame, results.right_hand_landmarks, mp_holistic.HAND_CONNECTIONS,\n",
    "            mp_drawing.DrawingSpec(color=(0, 0, 0),\n",
    "                                   thickness=2,\n",
    "                                   circle_radius=1),\n",
    "            mp_drawing.DrawingSpec(color=(0, 92, 230), thickness=2))\n",
    "\n",
    "        # Posture\n",
    "        mp_drawing.draw_landmarks(\n",
    "            frame, results.pose_landmarks, mp_holistic.POSE_CONNECTIONS,\n",
    "            mp_drawing.DrawingSpec(color=(0, 0, 0),\n",
    "                                   thickness=2,\n",
    "                                   circle_radius=1),\n",
    "            mp_drawing.DrawingSpec(color=(0, 92, 230), thickness=2))\n",
    "        frame = cv2.flip(frame, 1)\n",
    "        cv2.imshow(\"Frame\", frame)\n",
    "        if cv2.waitKey(1) & 0xFF == 27:\n",
    "            break\n",
    "cap.release()\n",
    "cv2.destroyAllWindows()"
   ]
  },
  {
   "cell_type": "code",
   "execution_count": 17,
   "id": "7e7c3bde",
   "metadata": {
    "ExecuteTime": {
     "end_time": "2023-08-04T13:22:38.580249Z",
     "start_time": "2023-08-04T13:22:38.569247Z"
    }
   },
   "outputs": [
    {
     "data": {
      "text/html": [
       "<div>\n",
       "<style scoped>\n",
       "    .dataframe tbody tr th:only-of-type {\n",
       "        vertical-align: middle;\n",
       "    }\n",
       "\n",
       "    .dataframe tbody tr th {\n",
       "        vertical-align: top;\n",
       "    }\n",
       "\n",
       "    .dataframe thead th {\n",
       "        text-align: right;\n",
       "    }\n",
       "</style>\n",
       "<table border=\"1\" class=\"dataframe\">\n",
       "  <thead>\n",
       "    <tr style=\"text-align: right;\">\n",
       "      <th></th>\n",
       "      <th>Participant ID</th>\n",
       "      <th>Video file</th>\n",
       "      <th>Gloss</th>\n",
       "      <th>ASL-LEX Code</th>\n",
       "      <th>Path</th>\n",
       "      <th>frequency</th>\n",
       "    </tr>\n",
       "  </thead>\n",
       "  <tbody>\n",
       "    <tr>\n",
       "      <th>28637</th>\n",
       "      <td>P31</td>\n",
       "      <td>4135993368940054-RIDE 1.mp4</td>\n",
       "      <td>RIDE2</td>\n",
       "      <td>F_03_023</td>\n",
       "      <td>file:///media/kristian/HDD/ASL_Citizen/ASL_Cit...</td>\n",
       "      <td>14</td>\n",
       "    </tr>\n",
       "    <tr>\n",
       "      <th>36691</th>\n",
       "      <td>P33</td>\n",
       "      <td>6060721040022268-TRIANGLE.mp4</td>\n",
       "      <td>TRIANGLE</td>\n",
       "      <td>J_02_080</td>\n",
       "      <td>file:///media/kristian/HDD/ASL_Citizen/ASL_Cit...</td>\n",
       "      <td>16</td>\n",
       "    </tr>\n",
       "    <tr>\n",
       "      <th>11247</th>\n",
       "      <td>P40</td>\n",
       "      <td>355641287689366-ELEVATOR.mp4</td>\n",
       "      <td>ELEVATOR1</td>\n",
       "      <td>G_03_036</td>\n",
       "      <td>file:///media/kristian/HDD/ASL_Citizen/ASL_Cit...</td>\n",
       "      <td>19</td>\n",
       "    </tr>\n",
       "    <tr>\n",
       "      <th>1438</th>\n",
       "      <td>P43</td>\n",
       "      <td>20257590002949333-ATLANTA.mp4</td>\n",
       "      <td>ATLANTA</td>\n",
       "      <td>K_03_107</td>\n",
       "      <td>file:///media/kristian/HDD/ASL_Citizen/ASL_Cit...</td>\n",
       "      <td>13</td>\n",
       "    </tr>\n",
       "    <tr>\n",
       "      <th>8672</th>\n",
       "      <td>P52</td>\n",
       "      <td>6472978554779458-seedDEAF SCHOOL.mp4</td>\n",
       "      <td>DEAFSCHOOL</td>\n",
       "      <td>H_01_022</td>\n",
       "      <td>file:///media/kristian/HDD/ASL_Citizen/ASL_Cit...</td>\n",
       "      <td>15</td>\n",
       "    </tr>\n",
       "    <tr>\n",
       "      <th>10606</th>\n",
       "      <td>P52</td>\n",
       "      <td>38321646441276225-seedDRY.mp4</td>\n",
       "      <td>DRY</td>\n",
       "      <td>F_03_005</td>\n",
       "      <td>file:///media/kristian/HDD/ASL_Citizen/ASL_Cit...</td>\n",
       "      <td>15</td>\n",
       "    </tr>\n",
       "    <tr>\n",
       "      <th>6393</th>\n",
       "      <td>P30</td>\n",
       "      <td>958412058407474-CHOP.mp4</td>\n",
       "      <td>CHOP</td>\n",
       "      <td>F_02_099</td>\n",
       "      <td>file:///media/kristian/HDD/ASL_Citizen/ASL_Cit...</td>\n",
       "      <td>16</td>\n",
       "    </tr>\n",
       "    <tr>\n",
       "      <th>6187</th>\n",
       "      <td>P40</td>\n",
       "      <td>5685505516650793-CHERRY.mp4</td>\n",
       "      <td>CHERRY2</td>\n",
       "      <td>C_01_083</td>\n",
       "      <td>file:///media/kristian/HDD/ASL_Citizen/ASL_Cit...</td>\n",
       "      <td>14</td>\n",
       "    </tr>\n",
       "    <tr>\n",
       "      <th>28651</th>\n",
       "      <td>P16</td>\n",
       "      <td>24705661999001016-RIGHT 1.mp4</td>\n",
       "      <td>RIGHT1</td>\n",
       "      <td>C_01_065</td>\n",
       "      <td>file:///media/kristian/HDD/ASL_Citizen/ASL_Cit...</td>\n",
       "      <td>15</td>\n",
       "    </tr>\n",
       "    <tr>\n",
       "      <th>15501</th>\n",
       "      <td>P51</td>\n",
       "      <td>9784115170189687-GROUP.mp4</td>\n",
       "      <td>GROUP</td>\n",
       "      <td>J_01_001</td>\n",
       "      <td>file:///media/kristian/HDD/ASL_Citizen/ASL_Cit...</td>\n",
       "      <td>15</td>\n",
       "    </tr>\n",
       "    <tr>\n",
       "      <th>16488</th>\n",
       "      <td>P29</td>\n",
       "      <td>14278756187909525-HEALTH.mp4</td>\n",
       "      <td>HEALTH</td>\n",
       "      <td>B_02_083</td>\n",
       "      <td>file:///media/kristian/HDD/ASL_Citizen/ASL_Cit...</td>\n",
       "      <td>15</td>\n",
       "    </tr>\n",
       "    <tr>\n",
       "      <th>15889</th>\n",
       "      <td>P11</td>\n",
       "      <td>2601715909013995-HAIRDRYER 3.mp4</td>\n",
       "      <td>HAIRDRYER3</td>\n",
       "      <td>K_01_091</td>\n",
       "      <td>file:///media/kristian/HDD/ASL_Citizen/ASL_Cit...</td>\n",
       "      <td>14</td>\n",
       "    </tr>\n",
       "    <tr>\n",
       "      <th>17429</th>\n",
       "      <td>P51</td>\n",
       "      <td>5996093063040984-HOTEL.mp4</td>\n",
       "      <td>HOTEL</td>\n",
       "      <td>B_01_053</td>\n",
       "      <td>file:///media/kristian/HDD/ASL_Citizen/ASL_Cit...</td>\n",
       "      <td>15</td>\n",
       "    </tr>\n",
       "    <tr>\n",
       "      <th>32276</th>\n",
       "      <td>P30</td>\n",
       "      <td>321141448097674-SODA.mp4</td>\n",
       "      <td>SODA</td>\n",
       "      <td>C_03_030</td>\n",
       "      <td>file:///media/kristian/HDD/ASL_Citizen/ASL_Cit...</td>\n",
       "      <td>13</td>\n",
       "    </tr>\n",
       "    <tr>\n",
       "      <th>34933</th>\n",
       "      <td>P33</td>\n",
       "      <td>4400847606871705-TALK DIRTY.mp4</td>\n",
       "      <td>TALKDIRTY</td>\n",
       "      <td>H_02_046</td>\n",
       "      <td>file:///media/kristian/HDD/ASL_Citizen/ASL_Cit...</td>\n",
       "      <td>11</td>\n",
       "    </tr>\n",
       "    <tr>\n",
       "      <th>20614</th>\n",
       "      <td>P7</td>\n",
       "      <td>7647607566066816-LONELY.mp4</td>\n",
       "      <td>LONELY</td>\n",
       "      <td>B_03_078</td>\n",
       "      <td>file:///media/kristian/HDD/ASL_Citizen/ASL_Cit...</td>\n",
       "      <td>15</td>\n",
       "    </tr>\n",
       "    <tr>\n",
       "      <th>9185</th>\n",
       "      <td>P11</td>\n",
       "      <td>7145484532728104-DEVELOP.mp4</td>\n",
       "      <td>DEVELOP1</td>\n",
       "      <td>J_03_092</td>\n",
       "      <td>file:///media/kristian/HDD/ASL_Citizen/ASL_Cit...</td>\n",
       "      <td>19</td>\n",
       "    </tr>\n",
       "    <tr>\n",
       "      <th>12382</th>\n",
       "      <td>P31</td>\n",
       "      <td>014069497775006434-FAN.mp4</td>\n",
       "      <td>FAN</td>\n",
       "      <td>F_03_055</td>\n",
       "      <td>file:///media/kristian/HDD/ASL_Citizen/ASL_Cit...</td>\n",
       "      <td>15</td>\n",
       "    </tr>\n",
       "    <tr>\n",
       "      <th>23362</th>\n",
       "      <td>P11</td>\n",
       "      <td>5104338654997722-NOON 2.mp4</td>\n",
       "      <td>NOON2</td>\n",
       "      <td>G_03_002</td>\n",
       "      <td>file:///media/kristian/HDD/ASL_Citizen/ASL_Cit...</td>\n",
       "      <td>11</td>\n",
       "    </tr>\n",
       "    <tr>\n",
       "      <th>19957</th>\n",
       "      <td>P27</td>\n",
       "      <td>6847367494973611-LET GO.mp4</td>\n",
       "      <td>LETGO</td>\n",
       "      <td>F_02_034</td>\n",
       "      <td>file:///media/kristian/HDD/ASL_Citizen/ASL_Cit...</td>\n",
       "      <td>16</td>\n",
       "    </tr>\n",
       "  </tbody>\n",
       "</table>\n",
       "</div>"
      ],
      "text/plain": [
       "      Participant ID                            Video file       Gloss  \\\n",
       "28637            P31           4135993368940054-RIDE 1.mp4       RIDE2   \n",
       "36691            P33         6060721040022268-TRIANGLE.mp4    TRIANGLE   \n",
       "11247            P40          355641287689366-ELEVATOR.mp4   ELEVATOR1   \n",
       "1438             P43         20257590002949333-ATLANTA.mp4     ATLANTA   \n",
       "8672             P52  6472978554779458-seedDEAF SCHOOL.mp4  DEAFSCHOOL   \n",
       "10606            P52         38321646441276225-seedDRY.mp4         DRY   \n",
       "6393             P30              958412058407474-CHOP.mp4        CHOP   \n",
       "6187             P40           5685505516650793-CHERRY.mp4     CHERRY2   \n",
       "28651            P16         24705661999001016-RIGHT 1.mp4      RIGHT1   \n",
       "15501            P51            9784115170189687-GROUP.mp4       GROUP   \n",
       "16488            P29          14278756187909525-HEALTH.mp4      HEALTH   \n",
       "15889            P11      2601715909013995-HAIRDRYER 3.mp4  HAIRDRYER3   \n",
       "17429            P51            5996093063040984-HOTEL.mp4       HOTEL   \n",
       "32276            P30              321141448097674-SODA.mp4        SODA   \n",
       "34933            P33       4400847606871705-TALK DIRTY.mp4   TALKDIRTY   \n",
       "20614             P7           7647607566066816-LONELY.mp4      LONELY   \n",
       "9185             P11          7145484532728104-DEVELOP.mp4    DEVELOP1   \n",
       "12382            P31            014069497775006434-FAN.mp4         FAN   \n",
       "23362            P11           5104338654997722-NOON 2.mp4       NOON2   \n",
       "19957            P27           6847367494973611-LET GO.mp4       LETGO   \n",
       "\n",
       "      ASL-LEX Code                                               Path  \\\n",
       "28637     F_03_023  file:///media/kristian/HDD/ASL_Citizen/ASL_Cit...   \n",
       "36691     J_02_080  file:///media/kristian/HDD/ASL_Citizen/ASL_Cit...   \n",
       "11247     G_03_036  file:///media/kristian/HDD/ASL_Citizen/ASL_Cit...   \n",
       "1438      K_03_107  file:///media/kristian/HDD/ASL_Citizen/ASL_Cit...   \n",
       "8672      H_01_022  file:///media/kristian/HDD/ASL_Citizen/ASL_Cit...   \n",
       "10606     F_03_005  file:///media/kristian/HDD/ASL_Citizen/ASL_Cit...   \n",
       "6393      F_02_099  file:///media/kristian/HDD/ASL_Citizen/ASL_Cit...   \n",
       "6187      C_01_083  file:///media/kristian/HDD/ASL_Citizen/ASL_Cit...   \n",
       "28651     C_01_065  file:///media/kristian/HDD/ASL_Citizen/ASL_Cit...   \n",
       "15501     J_01_001  file:///media/kristian/HDD/ASL_Citizen/ASL_Cit...   \n",
       "16488     B_02_083  file:///media/kristian/HDD/ASL_Citizen/ASL_Cit...   \n",
       "15889     K_01_091  file:///media/kristian/HDD/ASL_Citizen/ASL_Cit...   \n",
       "17429     B_01_053  file:///media/kristian/HDD/ASL_Citizen/ASL_Cit...   \n",
       "32276     C_03_030  file:///media/kristian/HDD/ASL_Citizen/ASL_Cit...   \n",
       "34933     H_02_046  file:///media/kristian/HDD/ASL_Citizen/ASL_Cit...   \n",
       "20614     B_03_078  file:///media/kristian/HDD/ASL_Citizen/ASL_Cit...   \n",
       "9185      J_03_092  file:///media/kristian/HDD/ASL_Citizen/ASL_Cit...   \n",
       "12382     F_03_055  file:///media/kristian/HDD/ASL_Citizen/ASL_Cit...   \n",
       "23362     G_03_002  file:///media/kristian/HDD/ASL_Citizen/ASL_Cit...   \n",
       "19957     F_02_034  file:///media/kristian/HDD/ASL_Citizen/ASL_Cit...   \n",
       "\n",
       "       frequency  \n",
       "28637         14  \n",
       "36691         16  \n",
       "11247         19  \n",
       "1438          13  \n",
       "8672          15  \n",
       "10606         15  \n",
       "6393          16  \n",
       "6187          14  \n",
       "28651         15  \n",
       "15501         15  \n",
       "16488         15  \n",
       "15889         14  \n",
       "17429         15  \n",
       "32276         13  \n",
       "34933         11  \n",
       "20614         15  \n",
       "9185          19  \n",
       "12382         15  \n",
       "23362         11  \n",
       "19957         16  "
      ]
     },
     "execution_count": 17,
     "metadata": {},
     "output_type": "execute_result"
    }
   ],
   "source": [
    "traindf.sample(20)"
   ]
  },
  {
   "cell_type": "code",
   "execution_count": 18,
   "id": "980e9aca",
   "metadata": {
    "ExecuteTime": {
     "end_time": "2023-08-04T13:22:42.485087Z",
     "start_time": "2023-08-04T13:22:42.481251Z"
    }
   },
   "outputs": [],
   "source": [
    "traindf = traindf[traindf['frequency'] > 17]\n",
    "traindf = traindf.reset_index(drop=True)"
   ]
  },
  {
   "cell_type": "code",
   "execution_count": 21,
   "id": "e3da8550",
   "metadata": {
    "ExecuteTime": {
     "end_time": "2023-08-04T13:23:02.456114Z",
     "start_time": "2023-08-04T13:23:02.449844Z"
    }
   },
   "outputs": [
    {
     "data": {
      "text/html": [
       "<div>\n",
       "<style scoped>\n",
       "    .dataframe tbody tr th:only-of-type {\n",
       "        vertical-align: middle;\n",
       "    }\n",
       "\n",
       "    .dataframe tbody tr th {\n",
       "        vertical-align: top;\n",
       "    }\n",
       "\n",
       "    .dataframe thead th {\n",
       "        text-align: right;\n",
       "    }\n",
       "</style>\n",
       "<table border=\"1\" class=\"dataframe\">\n",
       "  <thead>\n",
       "    <tr style=\"text-align: right;\">\n",
       "      <th></th>\n",
       "      <th>Participant ID</th>\n",
       "      <th>Video file</th>\n",
       "      <th>Gloss</th>\n",
       "      <th>ASL-LEX Code</th>\n",
       "      <th>Path</th>\n",
       "      <th>frequency</th>\n",
       "    </tr>\n",
       "  </thead>\n",
       "  <tbody>\n",
       "    <tr>\n",
       "      <th>0</th>\n",
       "      <td>P52</td>\n",
       "      <td>07157565148825373-seedAXE.mp4</td>\n",
       "      <td>AXE1</td>\n",
       "      <td>G_03_066</td>\n",
       "      <td>file:///media/kristian/HDD/ASL_Citizen/ASL_Cit...</td>\n",
       "      <td>19</td>\n",
       "    </tr>\n",
       "    <tr>\n",
       "      <th>1</th>\n",
       "      <td>P28</td>\n",
       "      <td>7179300005186042-AXE.mp4</td>\n",
       "      <td>AXE1</td>\n",
       "      <td>G_03_066</td>\n",
       "      <td>file:///media/kristian/HDD/ASL_Citizen/ASL_Cit...</td>\n",
       "      <td>19</td>\n",
       "    </tr>\n",
       "    <tr>\n",
       "      <th>2</th>\n",
       "      <td>P29</td>\n",
       "      <td>16216064841959765-AXE.mp4</td>\n",
       "      <td>AXE1</td>\n",
       "      <td>G_03_066</td>\n",
       "      <td>file:///media/kristian/HDD/ASL_Citizen/ASL_Cit...</td>\n",
       "      <td>19</td>\n",
       "    </tr>\n",
       "    <tr>\n",
       "      <th>3</th>\n",
       "      <td>P37</td>\n",
       "      <td>6193814382865199-AXE.mp4</td>\n",
       "      <td>AXE1</td>\n",
       "      <td>G_03_066</td>\n",
       "      <td>file:///media/kristian/HDD/ASL_Citizen/ASL_Cit...</td>\n",
       "      <td>19</td>\n",
       "    </tr>\n",
       "    <tr>\n",
       "      <th>4</th>\n",
       "      <td>P40</td>\n",
       "      <td>5947453960317015-AXE.mp4</td>\n",
       "      <td>AXE1</td>\n",
       "      <td>G_03_066</td>\n",
       "      <td>file:///media/kristian/HDD/ASL_Citizen/ASL_Cit...</td>\n",
       "      <td>19</td>\n",
       "    </tr>\n",
       "  </tbody>\n",
       "</table>\n",
       "</div>"
      ],
      "text/plain": [
       "  Participant ID                     Video file Gloss ASL-LEX Code  \\\n",
       "0            P52  07157565148825373-seedAXE.mp4  AXE1     G_03_066   \n",
       "1            P28       7179300005186042-AXE.mp4  AXE1     G_03_066   \n",
       "2            P29      16216064841959765-AXE.mp4  AXE1     G_03_066   \n",
       "3            P37       6193814382865199-AXE.mp4  AXE1     G_03_066   \n",
       "4            P40       5947453960317015-AXE.mp4  AXE1     G_03_066   \n",
       "\n",
       "                                                Path  frequency  \n",
       "0  file:///media/kristian/HDD/ASL_Citizen/ASL_Cit...         19  \n",
       "1  file:///media/kristian/HDD/ASL_Citizen/ASL_Cit...         19  \n",
       "2  file:///media/kristian/HDD/ASL_Citizen/ASL_Cit...         19  \n",
       "3  file:///media/kristian/HDD/ASL_Citizen/ASL_Cit...         19  \n",
       "4  file:///media/kristian/HDD/ASL_Citizen/ASL_Cit...         19  "
      ]
     },
     "execution_count": 21,
     "metadata": {},
     "output_type": "execute_result"
    }
   ],
   "source": [
    "traindf.head()"
   ]
  },
  {
   "cell_type": "code",
   "execution_count": 22,
   "id": "98e78fd9",
   "metadata": {
    "ExecuteTime": {
     "end_time": "2023-08-04T13:23:04.141422Z",
     "start_time": "2023-08-04T13:23:04.134306Z"
    }
   },
   "outputs": [
    {
     "data": {
      "text/html": [
       "<div>\n",
       "<style scoped>\n",
       "    .dataframe tbody tr th:only-of-type {\n",
       "        vertical-align: middle;\n",
       "    }\n",
       "\n",
       "    .dataframe tbody tr th {\n",
       "        vertical-align: top;\n",
       "    }\n",
       "\n",
       "    .dataframe thead th {\n",
       "        text-align: right;\n",
       "    }\n",
       "</style>\n",
       "<table border=\"1\" class=\"dataframe\">\n",
       "  <thead>\n",
       "    <tr style=\"text-align: right;\">\n",
       "      <th></th>\n",
       "      <th>Participant ID</th>\n",
       "      <th>Video file</th>\n",
       "      <th>Gloss</th>\n",
       "      <th>ASL-LEX Code</th>\n",
       "      <th>Path</th>\n",
       "      <th>frequency</th>\n",
       "    </tr>\n",
       "  </thead>\n",
       "  <tbody>\n",
       "    <tr>\n",
       "      <th>945</th>\n",
       "      <td>P50</td>\n",
       "      <td>9161417844146778-WHAT FOR.mp4</td>\n",
       "      <td>WHATFOR1</td>\n",
       "      <td>C_02_054</td>\n",
       "      <td>file:///media/kristian/HDD/ASL_Citizen/ASL_Cit...</td>\n",
       "      <td>20</td>\n",
       "    </tr>\n",
       "    <tr>\n",
       "      <th>946</th>\n",
       "      <td>P14</td>\n",
       "      <td>00930662603221255-WHAT FOR.mp4</td>\n",
       "      <td>WHATFOR1</td>\n",
       "      <td>C_02_054</td>\n",
       "      <td>file:///media/kristian/HDD/ASL_Citizen/ASL_Cit...</td>\n",
       "      <td>20</td>\n",
       "    </tr>\n",
       "    <tr>\n",
       "      <th>947</th>\n",
       "      <td>P27</td>\n",
       "      <td>82063651021682-WHAT FOR.mp4</td>\n",
       "      <td>WHATFOR1</td>\n",
       "      <td>C_02_054</td>\n",
       "      <td>file:///media/kristian/HDD/ASL_Citizen/ASL_Cit...</td>\n",
       "      <td>20</td>\n",
       "    </tr>\n",
       "    <tr>\n",
       "      <th>948</th>\n",
       "      <td>P40</td>\n",
       "      <td>5268072837528903-WHAT FOR.mp4</td>\n",
       "      <td>WHATFOR1</td>\n",
       "      <td>C_02_054</td>\n",
       "      <td>file:///media/kristian/HDD/ASL_Citizen/ASL_Cit...</td>\n",
       "      <td>20</td>\n",
       "    </tr>\n",
       "    <tr>\n",
       "      <th>949</th>\n",
       "      <td>P40</td>\n",
       "      <td>6363286086951516-WHAT FOR.mp4</td>\n",
       "      <td>WHATFOR1</td>\n",
       "      <td>C_02_054</td>\n",
       "      <td>file:///media/kristian/HDD/ASL_Citizen/ASL_Cit...</td>\n",
       "      <td>20</td>\n",
       "    </tr>\n",
       "  </tbody>\n",
       "</table>\n",
       "</div>"
      ],
      "text/plain": [
       "    Participant ID                      Video file     Gloss ASL-LEX Code  \\\n",
       "945            P50   9161417844146778-WHAT FOR.mp4  WHATFOR1     C_02_054   \n",
       "946            P14  00930662603221255-WHAT FOR.mp4  WHATFOR1     C_02_054   \n",
       "947            P27     82063651021682-WHAT FOR.mp4  WHATFOR1     C_02_054   \n",
       "948            P40   5268072837528903-WHAT FOR.mp4  WHATFOR1     C_02_054   \n",
       "949            P40   6363286086951516-WHAT FOR.mp4  WHATFOR1     C_02_054   \n",
       "\n",
       "                                                  Path  frequency  \n",
       "945  file:///media/kristian/HDD/ASL_Citizen/ASL_Cit...         20  \n",
       "946  file:///media/kristian/HDD/ASL_Citizen/ASL_Cit...         20  \n",
       "947  file:///media/kristian/HDD/ASL_Citizen/ASL_Cit...         20  \n",
       "948  file:///media/kristian/HDD/ASL_Citizen/ASL_Cit...         20  \n",
       "949  file:///media/kristian/HDD/ASL_Citizen/ASL_Cit...         20  "
      ]
     },
     "execution_count": 22,
     "metadata": {},
     "output_type": "execute_result"
    }
   ],
   "source": [
    "traindf.tail()"
   ]
  },
  {
   "cell_type": "code",
   "execution_count": 23,
   "id": "c1d6fcb5",
   "metadata": {
    "ExecuteTime": {
     "end_time": "2023-08-04T13:23:05.614677Z",
     "start_time": "2023-08-04T13:23:05.606868Z"
    }
   },
   "outputs": [
    {
     "data": {
      "text/html": [
       "<div>\n",
       "<style scoped>\n",
       "    .dataframe tbody tr th:only-of-type {\n",
       "        vertical-align: middle;\n",
       "    }\n",
       "\n",
       "    .dataframe tbody tr th {\n",
       "        vertical-align: top;\n",
       "    }\n",
       "\n",
       "    .dataframe thead th {\n",
       "        text-align: right;\n",
       "    }\n",
       "</style>\n",
       "<table border=\"1\" class=\"dataframe\">\n",
       "  <thead>\n",
       "    <tr style=\"text-align: right;\">\n",
       "      <th></th>\n",
       "      <th>frequency</th>\n",
       "    </tr>\n",
       "  </thead>\n",
       "  <tbody>\n",
       "    <tr>\n",
       "      <th>count</th>\n",
       "      <td>950.000000</td>\n",
       "    </tr>\n",
       "    <tr>\n",
       "      <th>mean</th>\n",
       "      <td>19.082105</td>\n",
       "    </tr>\n",
       "    <tr>\n",
       "      <th>std</th>\n",
       "      <td>1.316026</td>\n",
       "    </tr>\n",
       "    <tr>\n",
       "      <th>min</th>\n",
       "      <td>18.000000</td>\n",
       "    </tr>\n",
       "    <tr>\n",
       "      <th>25%</th>\n",
       "      <td>18.000000</td>\n",
       "    </tr>\n",
       "    <tr>\n",
       "      <th>50%</th>\n",
       "      <td>19.000000</td>\n",
       "    </tr>\n",
       "    <tr>\n",
       "      <th>75%</th>\n",
       "      <td>20.000000</td>\n",
       "    </tr>\n",
       "    <tr>\n",
       "      <th>max</th>\n",
       "      <td>24.000000</td>\n",
       "    </tr>\n",
       "  </tbody>\n",
       "</table>\n",
       "</div>"
      ],
      "text/plain": [
       "        frequency\n",
       "count  950.000000\n",
       "mean    19.082105\n",
       "std      1.316026\n",
       "min     18.000000\n",
       "25%     18.000000\n",
       "50%     19.000000\n",
       "75%     20.000000\n",
       "max     24.000000"
      ]
     },
     "execution_count": 23,
     "metadata": {},
     "output_type": "execute_result"
    }
   ],
   "source": [
    "traindf.describe()"
   ]
  },
  {
   "cell_type": "code",
   "execution_count": 24,
   "id": "0dc8165a",
   "metadata": {
    "ExecuteTime": {
     "end_time": "2023-08-04T13:23:08.322099Z",
     "start_time": "2023-08-04T13:23:08.319849Z"
    }
   },
   "outputs": [],
   "source": [
    "#traindf['Gloss'] = traindf['Gloss'].str.replace('\\d+', '',regex=True)"
   ]
  },
  {
   "cell_type": "code",
   "execution_count": 25,
   "id": "17318e0f",
   "metadata": {
    "ExecuteTime": {
     "end_time": "2023-08-04T13:23:10.785208Z",
     "start_time": "2023-08-04T13:23:10.781266Z"
    }
   },
   "outputs": [
    {
     "data": {
      "text/plain": [
       "50"
      ]
     },
     "execution_count": 25,
     "metadata": {},
     "output_type": "execute_result"
    }
   ],
   "source": [
    "traindf['Gloss'].nunique()"
   ]
  },
  {
   "cell_type": "code",
   "execution_count": 26,
   "id": "2e7f4f27",
   "metadata": {
    "ExecuteTime": {
     "end_time": "2023-08-04T13:23:12.704915Z",
     "start_time": "2023-08-04T13:23:12.701079Z"
    }
   },
   "outputs": [
    {
     "data": {
      "text/plain": [
       "array(['AXE1', 'BACKPACK1', 'BASKETBALL1', 'BEE1', 'BELT1', 'BITE1',\n",
       "       'BREAKFAST1', 'CANCER1', 'CHRISTMAS1', 'CONFUSED1', 'DARK1',\n",
       "       'DEAF1', 'DECIDE1', 'DEMAND1', 'DEVELOP1', 'DINNER1', 'DOG1',\n",
       "       'DOWNSIZE1', 'DRAG1', 'EAT1', 'EDIT1', 'ELEVATOR1', 'FINE1',\n",
       "       'FLOAT1', 'FOREIGNER1', 'GUESS1', 'HALLOWEEN1', 'HOSPITAL1',\n",
       "       'HURDLE/TRIP1', 'JEWELRY', 'KNIGHT1', 'LOCK1', 'LUNCH1', 'MAPLE',\n",
       "       'MEAT1', 'MECHANIC1', 'MICROSCOPE1', 'MOVIE1', 'NOON1', 'PARTY1',\n",
       "       'PATIENT2', 'RAZOR2', 'RIVER1', 'ROCKINGCHAIR1', 'SHAVE1', 'SINK',\n",
       "       'SQUEEZE', 'THEY1', 'TWINS1', 'WHATFOR1'], dtype=object)"
      ]
     },
     "execution_count": 26,
     "metadata": {},
     "output_type": "execute_result"
    }
   ],
   "source": [
    "words = traindf['Gloss'].unique()\n",
    "words"
   ]
  },
  {
   "cell_type": "code",
   "execution_count": 27,
   "id": "4dc7b7c1",
   "metadata": {
    "ExecuteTime": {
     "end_time": "2023-08-04T13:23:14.290725Z",
     "start_time": "2023-08-04T13:23:13.897302Z"
    }
   },
   "outputs": [],
   "source": [
    "valdf = signvideodataframe('file:///media/kristian/HDD/ASL_Citizen/ASL_Citizen/splits/val.csv') "
   ]
  },
  {
   "cell_type": "code",
   "execution_count": 28,
   "id": "be4de936",
   "metadata": {
    "ExecuteTime": {
     "end_time": "2023-08-04T13:23:16.088335Z",
     "start_time": "2023-08-04T13:23:16.079328Z"
    }
   },
   "outputs": [
    {
     "data": {
      "text/html": [
       "<div>\n",
       "<style scoped>\n",
       "    .dataframe tbody tr th:only-of-type {\n",
       "        vertical-align: middle;\n",
       "    }\n",
       "\n",
       "    .dataframe tbody tr th {\n",
       "        vertical-align: top;\n",
       "    }\n",
       "\n",
       "    .dataframe thead th {\n",
       "        text-align: right;\n",
       "    }\n",
       "</style>\n",
       "<table border=\"1\" class=\"dataframe\">\n",
       "  <thead>\n",
       "    <tr style=\"text-align: right;\">\n",
       "      <th></th>\n",
       "      <th>Participant ID</th>\n",
       "      <th>Video file</th>\n",
       "      <th>Gloss</th>\n",
       "      <th>ASL-LEX Code</th>\n",
       "      <th>Path</th>\n",
       "      <th>frequency</th>\n",
       "    </tr>\n",
       "  </thead>\n",
       "  <tbody>\n",
       "    <tr>\n",
       "      <th>0</th>\n",
       "      <td>P26</td>\n",
       "      <td>22595012150860327-1 DOLLAR.mp4</td>\n",
       "      <td>1DOLLAR</td>\n",
       "      <td>C_02_025</td>\n",
       "      <td>file:///media/kristian/HDD/ASL_Citizen/ASL_Cit...</td>\n",
       "      <td>3</td>\n",
       "    </tr>\n",
       "    <tr>\n",
       "      <th>1</th>\n",
       "      <td>P39</td>\n",
       "      <td>7421622940519235-1 DOLLAR.mp4</td>\n",
       "      <td>1DOLLAR</td>\n",
       "      <td>C_02_025</td>\n",
       "      <td>file:///media/kristian/HDD/ASL_Citizen/ASL_Cit...</td>\n",
       "      <td>3</td>\n",
       "    </tr>\n",
       "    <tr>\n",
       "      <th>2</th>\n",
       "      <td>P21</td>\n",
       "      <td>686738356933241-1 DOLLAR.mp4</td>\n",
       "      <td>1DOLLAR</td>\n",
       "      <td>C_02_025</td>\n",
       "      <td>file:///media/kristian/HDD/ASL_Citizen/ASL_Cit...</td>\n",
       "      <td>3</td>\n",
       "    </tr>\n",
       "    <tr>\n",
       "      <th>3</th>\n",
       "      <td>P12</td>\n",
       "      <td>9219095671540121-5 DOLLARS.mp4</td>\n",
       "      <td>5DOLLARS</td>\n",
       "      <td>B_01_062</td>\n",
       "      <td>file:///media/kristian/HDD/ASL_Citizen/ASL_Cit...</td>\n",
       "      <td>4</td>\n",
       "    </tr>\n",
       "    <tr>\n",
       "      <th>4</th>\n",
       "      <td>P21</td>\n",
       "      <td>1448188216215387-5 DOLLARS.mp4</td>\n",
       "      <td>5DOLLARS</td>\n",
       "      <td>B_01_062</td>\n",
       "      <td>file:///media/kristian/HDD/ASL_Citizen/ASL_Cit...</td>\n",
       "      <td>4</td>\n",
       "    </tr>\n",
       "  </tbody>\n",
       "</table>\n",
       "</div>"
      ],
      "text/plain": [
       "  Participant ID                      Video file     Gloss ASL-LEX Code  \\\n",
       "0            P26  22595012150860327-1 DOLLAR.mp4   1DOLLAR     C_02_025   \n",
       "1            P39   7421622940519235-1 DOLLAR.mp4   1DOLLAR     C_02_025   \n",
       "2            P21    686738356933241-1 DOLLAR.mp4   1DOLLAR     C_02_025   \n",
       "3            P12  9219095671540121-5 DOLLARS.mp4  5DOLLARS     B_01_062   \n",
       "4            P21  1448188216215387-5 DOLLARS.mp4  5DOLLARS     B_01_062   \n",
       "\n",
       "                                                Path  frequency  \n",
       "0  file:///media/kristian/HDD/ASL_Citizen/ASL_Cit...          3  \n",
       "1  file:///media/kristian/HDD/ASL_Citizen/ASL_Cit...          3  \n",
       "2  file:///media/kristian/HDD/ASL_Citizen/ASL_Cit...          3  \n",
       "3  file:///media/kristian/HDD/ASL_Citizen/ASL_Cit...          4  \n",
       "4  file:///media/kristian/HDD/ASL_Citizen/ASL_Cit...          4  "
      ]
     },
     "execution_count": 28,
     "metadata": {},
     "output_type": "execute_result"
    }
   ],
   "source": [
    "valdf.head()"
   ]
  },
  {
   "cell_type": "code",
   "execution_count": 29,
   "id": "3be53ec8",
   "metadata": {
    "ExecuteTime": {
     "end_time": "2023-08-04T13:23:18.652778Z",
     "start_time": "2023-08-04T13:23:18.646127Z"
    }
   },
   "outputs": [
    {
     "data": {
      "text/html": [
       "<div>\n",
       "<style scoped>\n",
       "    .dataframe tbody tr th:only-of-type {\n",
       "        vertical-align: middle;\n",
       "    }\n",
       "\n",
       "    .dataframe tbody tr th {\n",
       "        vertical-align: top;\n",
       "    }\n",
       "\n",
       "    .dataframe thead th {\n",
       "        text-align: right;\n",
       "    }\n",
       "</style>\n",
       "<table border=\"1\" class=\"dataframe\">\n",
       "  <thead>\n",
       "    <tr style=\"text-align: right;\">\n",
       "      <th></th>\n",
       "      <th>Participant ID</th>\n",
       "      <th>Video file</th>\n",
       "      <th>Gloss</th>\n",
       "      <th>ASL-LEX Code</th>\n",
       "      <th>Path</th>\n",
       "      <th>frequency</th>\n",
       "    </tr>\n",
       "  </thead>\n",
       "  <tbody>\n",
       "    <tr>\n",
       "      <th>10299</th>\n",
       "      <td>P21</td>\n",
       "      <td>6959326205750493-ZOOM IN.mp4</td>\n",
       "      <td>ZOOMIN</td>\n",
       "      <td>B_02_056</td>\n",
       "      <td>file:///media/kristian/HDD/ASL_Citizen/ASL_Cit...</td>\n",
       "      <td>3</td>\n",
       "    </tr>\n",
       "    <tr>\n",
       "      <th>10300</th>\n",
       "      <td>P12</td>\n",
       "      <td>7758716133684984-ZOOM OFF.mp4</td>\n",
       "      <td>ZOOMOFF</td>\n",
       "      <td>D_01_057</td>\n",
       "      <td>file:///media/kristian/HDD/ASL_Citizen/ASL_Cit...</td>\n",
       "      <td>4</td>\n",
       "    </tr>\n",
       "    <tr>\n",
       "      <th>10301</th>\n",
       "      <td>P39</td>\n",
       "      <td>844134294032034-ZOOM OFF.mp4</td>\n",
       "      <td>ZOOMOFF</td>\n",
       "      <td>D_01_057</td>\n",
       "      <td>file:///media/kristian/HDD/ASL_Citizen/ASL_Cit...</td>\n",
       "      <td>4</td>\n",
       "    </tr>\n",
       "    <tr>\n",
       "      <th>10302</th>\n",
       "      <td>P21</td>\n",
       "      <td>5548062993721732-ZOOM OFF.mp4</td>\n",
       "      <td>ZOOMOFF</td>\n",
       "      <td>D_01_057</td>\n",
       "      <td>file:///media/kristian/HDD/ASL_Citizen/ASL_Cit...</td>\n",
       "      <td>4</td>\n",
       "    </tr>\n",
       "    <tr>\n",
       "      <th>10303</th>\n",
       "      <td>P26</td>\n",
       "      <td>19366754134806952-ZOOM OFF.mp4</td>\n",
       "      <td>ZOOMOFF</td>\n",
       "      <td>D_01_057</td>\n",
       "      <td>file:///media/kristian/HDD/ASL_Citizen/ASL_Cit...</td>\n",
       "      <td>4</td>\n",
       "    </tr>\n",
       "  </tbody>\n",
       "</table>\n",
       "</div>"
      ],
      "text/plain": [
       "      Participant ID                      Video file    Gloss ASL-LEX Code  \\\n",
       "10299            P21    6959326205750493-ZOOM IN.mp4   ZOOMIN     B_02_056   \n",
       "10300            P12   7758716133684984-ZOOM OFF.mp4  ZOOMOFF     D_01_057   \n",
       "10301            P39    844134294032034-ZOOM OFF.mp4  ZOOMOFF     D_01_057   \n",
       "10302            P21   5548062993721732-ZOOM OFF.mp4  ZOOMOFF     D_01_057   \n",
       "10303            P26  19366754134806952-ZOOM OFF.mp4  ZOOMOFF     D_01_057   \n",
       "\n",
       "                                                    Path  frequency  \n",
       "10299  file:///media/kristian/HDD/ASL_Citizen/ASL_Cit...          3  \n",
       "10300  file:///media/kristian/HDD/ASL_Citizen/ASL_Cit...          4  \n",
       "10301  file:///media/kristian/HDD/ASL_Citizen/ASL_Cit...          4  \n",
       "10302  file:///media/kristian/HDD/ASL_Citizen/ASL_Cit...          4  \n",
       "10303  file:///media/kristian/HDD/ASL_Citizen/ASL_Cit...          4  "
      ]
     },
     "execution_count": 29,
     "metadata": {},
     "output_type": "execute_result"
    }
   ],
   "source": [
    "valdf.tail()"
   ]
  },
  {
   "cell_type": "code",
   "execution_count": 30,
   "id": "821ba2aa",
   "metadata": {
    "ExecuteTime": {
     "end_time": "2023-08-04T13:23:24.743309Z",
     "start_time": "2023-08-04T13:23:23.685798Z"
    }
   },
   "outputs": [],
   "source": [
    "testdf = signvideodataframe('file:///media/kristian/HDD/ASL_Citizen/ASL_Citizen/splits/test.csv')"
   ]
  },
  {
   "cell_type": "code",
   "execution_count": 31,
   "id": "f8e7c282",
   "metadata": {
    "ExecuteTime": {
     "end_time": "2023-08-04T13:23:25.427005Z",
     "start_time": "2023-08-04T13:23:25.420035Z"
    }
   },
   "outputs": [
    {
     "data": {
      "text/html": [
       "<div>\n",
       "<style scoped>\n",
       "    .dataframe tbody tr th:only-of-type {\n",
       "        vertical-align: middle;\n",
       "    }\n",
       "\n",
       "    .dataframe tbody tr th {\n",
       "        vertical-align: top;\n",
       "    }\n",
       "\n",
       "    .dataframe thead th {\n",
       "        text-align: right;\n",
       "    }\n",
       "</style>\n",
       "<table border=\"1\" class=\"dataframe\">\n",
       "  <thead>\n",
       "    <tr style=\"text-align: right;\">\n",
       "      <th></th>\n",
       "      <th>Participant ID</th>\n",
       "      <th>Video file</th>\n",
       "      <th>Gloss</th>\n",
       "      <th>ASL-LEX Code</th>\n",
       "      <th>Path</th>\n",
       "      <th>frequency</th>\n",
       "    </tr>\n",
       "  </thead>\n",
       "  <tbody>\n",
       "    <tr>\n",
       "      <th>0</th>\n",
       "      <td>P18</td>\n",
       "      <td>23521769221811684-1 DOLLAR.mp4</td>\n",
       "      <td>1DOLLAR</td>\n",
       "      <td>C_02_025</td>\n",
       "      <td>file:///media/kristian/HDD/ASL_Citizen/ASL_Cit...</td>\n",
       "      <td>13</td>\n",
       "    </tr>\n",
       "    <tr>\n",
       "      <th>1</th>\n",
       "      <td>P42</td>\n",
       "      <td>023931338852502426-1 DOLLAR.mp4</td>\n",
       "      <td>1DOLLAR</td>\n",
       "      <td>C_02_025</td>\n",
       "      <td>file:///media/kristian/HDD/ASL_Citizen/ASL_Cit...</td>\n",
       "      <td>13</td>\n",
       "    </tr>\n",
       "    <tr>\n",
       "      <th>2</th>\n",
       "      <td>P49</td>\n",
       "      <td>4893817008748198-1 DOLLAR.mp4</td>\n",
       "      <td>1DOLLAR</td>\n",
       "      <td>C_02_025</td>\n",
       "      <td>file:///media/kristian/HDD/ASL_Citizen/ASL_Cit...</td>\n",
       "      <td>13</td>\n",
       "    </tr>\n",
       "    <tr>\n",
       "      <th>3</th>\n",
       "      <td>P17</td>\n",
       "      <td>13991818149960333-1 DOLLAR.mp4</td>\n",
       "      <td>1DOLLAR</td>\n",
       "      <td>C_02_025</td>\n",
       "      <td>file:///media/kristian/HDD/ASL_Citizen/ASL_Cit...</td>\n",
       "      <td>13</td>\n",
       "    </tr>\n",
       "    <tr>\n",
       "      <th>4</th>\n",
       "      <td>P49</td>\n",
       "      <td>34625615110480457-1 DOLLAR.mp4</td>\n",
       "      <td>1DOLLAR</td>\n",
       "      <td>C_02_025</td>\n",
       "      <td>file:///media/kristian/HDD/ASL_Citizen/ASL_Cit...</td>\n",
       "      <td>13</td>\n",
       "    </tr>\n",
       "  </tbody>\n",
       "</table>\n",
       "</div>"
      ],
      "text/plain": [
       "  Participant ID                       Video file    Gloss ASL-LEX Code  \\\n",
       "0            P18   23521769221811684-1 DOLLAR.mp4  1DOLLAR     C_02_025   \n",
       "1            P42  023931338852502426-1 DOLLAR.mp4  1DOLLAR     C_02_025   \n",
       "2            P49    4893817008748198-1 DOLLAR.mp4  1DOLLAR     C_02_025   \n",
       "3            P17   13991818149960333-1 DOLLAR.mp4  1DOLLAR     C_02_025   \n",
       "4            P49   34625615110480457-1 DOLLAR.mp4  1DOLLAR     C_02_025   \n",
       "\n",
       "                                                Path  frequency  \n",
       "0  file:///media/kristian/HDD/ASL_Citizen/ASL_Cit...         13  \n",
       "1  file:///media/kristian/HDD/ASL_Citizen/ASL_Cit...         13  \n",
       "2  file:///media/kristian/HDD/ASL_Citizen/ASL_Cit...         13  \n",
       "3  file:///media/kristian/HDD/ASL_Citizen/ASL_Cit...         13  \n",
       "4  file:///media/kristian/HDD/ASL_Citizen/ASL_Cit...         13  "
      ]
     },
     "execution_count": 31,
     "metadata": {},
     "output_type": "execute_result"
    }
   ],
   "source": [
    "testdf.head()"
   ]
  },
  {
   "cell_type": "code",
   "execution_count": 32,
   "id": "1fe747cd",
   "metadata": {
    "ExecuteTime": {
     "end_time": "2023-08-04T13:23:26.256282Z",
     "start_time": "2023-08-04T13:23:26.249040Z"
    }
   },
   "outputs": [
    {
     "data": {
      "text/html": [
       "<div>\n",
       "<style scoped>\n",
       "    .dataframe tbody tr th:only-of-type {\n",
       "        vertical-align: middle;\n",
       "    }\n",
       "\n",
       "    .dataframe tbody tr th {\n",
       "        vertical-align: top;\n",
       "    }\n",
       "\n",
       "    .dataframe thead th {\n",
       "        text-align: right;\n",
       "    }\n",
       "</style>\n",
       "<table border=\"1\" class=\"dataframe\">\n",
       "  <thead>\n",
       "    <tr style=\"text-align: right;\">\n",
       "      <th></th>\n",
       "      <th>Participant ID</th>\n",
       "      <th>Video file</th>\n",
       "      <th>Gloss</th>\n",
       "      <th>ASL-LEX Code</th>\n",
       "      <th>Path</th>\n",
       "      <th>frequency</th>\n",
       "    </tr>\n",
       "  </thead>\n",
       "  <tbody>\n",
       "    <tr>\n",
       "      <th>32936</th>\n",
       "      <td>P18</td>\n",
       "      <td>4320702510886756-ZOOM OFF.mp4</td>\n",
       "      <td>ZOOMOFF</td>\n",
       "      <td>D_01_057</td>\n",
       "      <td>file:///media/kristian/HDD/ASL_Citizen/ASL_Cit...</td>\n",
       "      <td>13</td>\n",
       "    </tr>\n",
       "    <tr>\n",
       "      <th>32937</th>\n",
       "      <td>P9</td>\n",
       "      <td>7676354653247301-ZOOM OFF.mp4</td>\n",
       "      <td>ZOOMOFF</td>\n",
       "      <td>D_01_057</td>\n",
       "      <td>file:///media/kristian/HDD/ASL_Citizen/ASL_Cit...</td>\n",
       "      <td>13</td>\n",
       "    </tr>\n",
       "    <tr>\n",
       "      <th>32938</th>\n",
       "      <td>P47</td>\n",
       "      <td>5386272465310649-ZOOM OFF.mp4</td>\n",
       "      <td>ZOOMOFF</td>\n",
       "      <td>D_01_057</td>\n",
       "      <td>file:///media/kristian/HDD/ASL_Citizen/ASL_Cit...</td>\n",
       "      <td>13</td>\n",
       "    </tr>\n",
       "    <tr>\n",
       "      <th>32939</th>\n",
       "      <td>P18</td>\n",
       "      <td>738440364224181-ZOOM OFF.mp4</td>\n",
       "      <td>ZOOMOFF</td>\n",
       "      <td>D_01_057</td>\n",
       "      <td>file:///media/kristian/HDD/ASL_Citizen/ASL_Cit...</td>\n",
       "      <td>13</td>\n",
       "    </tr>\n",
       "    <tr>\n",
       "      <th>32940</th>\n",
       "      <td>P17</td>\n",
       "      <td>9953298353288469-ZOOM OFF.mp4</td>\n",
       "      <td>ZOOMOFF</td>\n",
       "      <td>D_01_057</td>\n",
       "      <td>file:///media/kristian/HDD/ASL_Citizen/ASL_Cit...</td>\n",
       "      <td>13</td>\n",
       "    </tr>\n",
       "  </tbody>\n",
       "</table>\n",
       "</div>"
      ],
      "text/plain": [
       "      Participant ID                     Video file    Gloss ASL-LEX Code  \\\n",
       "32936            P18  4320702510886756-ZOOM OFF.mp4  ZOOMOFF     D_01_057   \n",
       "32937             P9  7676354653247301-ZOOM OFF.mp4  ZOOMOFF     D_01_057   \n",
       "32938            P47  5386272465310649-ZOOM OFF.mp4  ZOOMOFF     D_01_057   \n",
       "32939            P18   738440364224181-ZOOM OFF.mp4  ZOOMOFF     D_01_057   \n",
       "32940            P17  9953298353288469-ZOOM OFF.mp4  ZOOMOFF     D_01_057   \n",
       "\n",
       "                                                    Path  frequency  \n",
       "32936  file:///media/kristian/HDD/ASL_Citizen/ASL_Cit...         13  \n",
       "32937  file:///media/kristian/HDD/ASL_Citizen/ASL_Cit...         13  \n",
       "32938  file:///media/kristian/HDD/ASL_Citizen/ASL_Cit...         13  \n",
       "32939  file:///media/kristian/HDD/ASL_Citizen/ASL_Cit...         13  \n",
       "32940  file:///media/kristian/HDD/ASL_Citizen/ASL_Cit...         13  "
      ]
     },
     "execution_count": 32,
     "metadata": {},
     "output_type": "execute_result"
    }
   ],
   "source": [
    "testdf.tail()"
   ]
  },
  {
   "cell_type": "code",
   "execution_count": 33,
   "id": "1140f7a9",
   "metadata": {
    "ExecuteTime": {
     "end_time": "2023-08-04T13:23:28.229326Z",
     "start_time": "2023-08-04T13:23:28.225312Z"
    }
   },
   "outputs": [],
   "source": [
    "valdf = valdf[valdf['Gloss'].isin(words)]\n",
    "valdf = valdf.reset_index(drop=True)"
   ]
  },
  {
   "cell_type": "code",
   "execution_count": 34,
   "id": "ba079e46",
   "metadata": {
    "ExecuteTime": {
     "end_time": "2023-08-04T13:23:36.936440Z",
     "start_time": "2023-08-04T13:23:36.929872Z"
    }
   },
   "outputs": [
    {
     "data": {
      "text/html": [
       "<div>\n",
       "<style scoped>\n",
       "    .dataframe tbody tr th:only-of-type {\n",
       "        vertical-align: middle;\n",
       "    }\n",
       "\n",
       "    .dataframe tbody tr th {\n",
       "        vertical-align: top;\n",
       "    }\n",
       "\n",
       "    .dataframe thead th {\n",
       "        text-align: right;\n",
       "    }\n",
       "</style>\n",
       "<table border=\"1\" class=\"dataframe\">\n",
       "  <thead>\n",
       "    <tr style=\"text-align: right;\">\n",
       "      <th></th>\n",
       "      <th>Participant ID</th>\n",
       "      <th>Video file</th>\n",
       "      <th>Gloss</th>\n",
       "      <th>ASL-LEX Code</th>\n",
       "      <th>Path</th>\n",
       "      <th>frequency</th>\n",
       "    </tr>\n",
       "  </thead>\n",
       "  <tbody>\n",
       "    <tr>\n",
       "      <th>0</th>\n",
       "      <td>P39</td>\n",
       "      <td>19778675091674147-AXE.mp4</td>\n",
       "      <td>AXE1</td>\n",
       "      <td>G_03_066</td>\n",
       "      <td>file:///media/kristian/HDD/ASL_Citizen/ASL_Cit...</td>\n",
       "      <td>4</td>\n",
       "    </tr>\n",
       "    <tr>\n",
       "      <th>1</th>\n",
       "      <td>P26</td>\n",
       "      <td>8581142177964065-AXE.mp4</td>\n",
       "      <td>AXE1</td>\n",
       "      <td>G_03_066</td>\n",
       "      <td>file:///media/kristian/HDD/ASL_Citizen/ASL_Cit...</td>\n",
       "      <td>4</td>\n",
       "    </tr>\n",
       "    <tr>\n",
       "      <th>2</th>\n",
       "      <td>P39</td>\n",
       "      <td>3877478645046861-AXE.mp4</td>\n",
       "      <td>AXE1</td>\n",
       "      <td>G_03_066</td>\n",
       "      <td>file:///media/kristian/HDD/ASL_Citizen/ASL_Cit...</td>\n",
       "      <td>4</td>\n",
       "    </tr>\n",
       "    <tr>\n",
       "      <th>3</th>\n",
       "      <td>P21</td>\n",
       "      <td>8521417940364975-AXE.mp4</td>\n",
       "      <td>AXE1</td>\n",
       "      <td>G_03_066</td>\n",
       "      <td>file:///media/kristian/HDD/ASL_Citizen/ASL_Cit...</td>\n",
       "      <td>4</td>\n",
       "    </tr>\n",
       "    <tr>\n",
       "      <th>4</th>\n",
       "      <td>P5</td>\n",
       "      <td>9990244640190733-BACKPACK.mp4</td>\n",
       "      <td>BACKPACK1</td>\n",
       "      <td>G_03_091</td>\n",
       "      <td>file:///media/kristian/HDD/ASL_Citizen/ASL_Cit...</td>\n",
       "      <td>3</td>\n",
       "    </tr>\n",
       "  </tbody>\n",
       "</table>\n",
       "</div>"
      ],
      "text/plain": [
       "  Participant ID                     Video file      Gloss ASL-LEX Code  \\\n",
       "0            P39      19778675091674147-AXE.mp4       AXE1     G_03_066   \n",
       "1            P26       8581142177964065-AXE.mp4       AXE1     G_03_066   \n",
       "2            P39       3877478645046861-AXE.mp4       AXE1     G_03_066   \n",
       "3            P21       8521417940364975-AXE.mp4       AXE1     G_03_066   \n",
       "4             P5  9990244640190733-BACKPACK.mp4  BACKPACK1     G_03_091   \n",
       "\n",
       "                                                Path  frequency  \n",
       "0  file:///media/kristian/HDD/ASL_Citizen/ASL_Cit...          4  \n",
       "1  file:///media/kristian/HDD/ASL_Citizen/ASL_Cit...          4  \n",
       "2  file:///media/kristian/HDD/ASL_Citizen/ASL_Cit...          4  \n",
       "3  file:///media/kristian/HDD/ASL_Citizen/ASL_Cit...          4  \n",
       "4  file:///media/kristian/HDD/ASL_Citizen/ASL_Cit...          3  "
      ]
     },
     "execution_count": 34,
     "metadata": {},
     "output_type": "execute_result"
    }
   ],
   "source": [
    "valdf.head()"
   ]
  },
  {
   "cell_type": "code",
   "execution_count": 35,
   "id": "2fd06cc3",
   "metadata": {
    "ExecuteTime": {
     "end_time": "2023-08-04T13:23:39.987962Z",
     "start_time": "2023-08-04T13:23:39.981494Z"
    }
   },
   "outputs": [
    {
     "data": {
      "text/html": [
       "<div>\n",
       "<style scoped>\n",
       "    .dataframe tbody tr th:only-of-type {\n",
       "        vertical-align: middle;\n",
       "    }\n",
       "\n",
       "    .dataframe tbody tr th {\n",
       "        vertical-align: top;\n",
       "    }\n",
       "\n",
       "    .dataframe thead th {\n",
       "        text-align: right;\n",
       "    }\n",
       "</style>\n",
       "<table border=\"1\" class=\"dataframe\">\n",
       "  <thead>\n",
       "    <tr style=\"text-align: right;\">\n",
       "      <th></th>\n",
       "      <th>Participant ID</th>\n",
       "      <th>Video file</th>\n",
       "      <th>Gloss</th>\n",
       "      <th>ASL-LEX Code</th>\n",
       "      <th>Path</th>\n",
       "      <th>frequency</th>\n",
       "    </tr>\n",
       "  </thead>\n",
       "  <tbody>\n",
       "    <tr>\n",
       "      <th>186</th>\n",
       "      <td>P26</td>\n",
       "      <td>032677896012150764-WHAT FOR.mp4</td>\n",
       "      <td>WHATFOR1</td>\n",
       "      <td>C_02_054</td>\n",
       "      <td>file:///media/kristian/HDD/ASL_Citizen/ASL_Cit...</td>\n",
       "      <td>5</td>\n",
       "    </tr>\n",
       "    <tr>\n",
       "      <th>187</th>\n",
       "      <td>P5</td>\n",
       "      <td>6523145816470133-WHAT FOR.mp4</td>\n",
       "      <td>WHATFOR1</td>\n",
       "      <td>C_02_054</td>\n",
       "      <td>file:///media/kristian/HDD/ASL_Citizen/ASL_Cit...</td>\n",
       "      <td>5</td>\n",
       "    </tr>\n",
       "    <tr>\n",
       "      <th>188</th>\n",
       "      <td>P39</td>\n",
       "      <td>0283886564670357-WHAT FOR.mp4</td>\n",
       "      <td>WHATFOR1</td>\n",
       "      <td>C_02_054</td>\n",
       "      <td>file:///media/kristian/HDD/ASL_Citizen/ASL_Cit...</td>\n",
       "      <td>5</td>\n",
       "    </tr>\n",
       "    <tr>\n",
       "      <th>189</th>\n",
       "      <td>P21</td>\n",
       "      <td>6142521746642153-WHAT FOR.mp4</td>\n",
       "      <td>WHATFOR1</td>\n",
       "      <td>C_02_054</td>\n",
       "      <td>file:///media/kristian/HDD/ASL_Citizen/ASL_Cit...</td>\n",
       "      <td>5</td>\n",
       "    </tr>\n",
       "    <tr>\n",
       "      <th>190</th>\n",
       "      <td>P12</td>\n",
       "      <td>06408604416165864-WHAT FOR.mp4</td>\n",
       "      <td>WHATFOR1</td>\n",
       "      <td>C_02_054</td>\n",
       "      <td>file:///media/kristian/HDD/ASL_Citizen/ASL_Cit...</td>\n",
       "      <td>5</td>\n",
       "    </tr>\n",
       "  </tbody>\n",
       "</table>\n",
       "</div>"
      ],
      "text/plain": [
       "    Participant ID                       Video file     Gloss ASL-LEX Code  \\\n",
       "186            P26  032677896012150764-WHAT FOR.mp4  WHATFOR1     C_02_054   \n",
       "187             P5    6523145816470133-WHAT FOR.mp4  WHATFOR1     C_02_054   \n",
       "188            P39    0283886564670357-WHAT FOR.mp4  WHATFOR1     C_02_054   \n",
       "189            P21    6142521746642153-WHAT FOR.mp4  WHATFOR1     C_02_054   \n",
       "190            P12   06408604416165864-WHAT FOR.mp4  WHATFOR1     C_02_054   \n",
       "\n",
       "                                                  Path  frequency  \n",
       "186  file:///media/kristian/HDD/ASL_Citizen/ASL_Cit...          5  \n",
       "187  file:///media/kristian/HDD/ASL_Citizen/ASL_Cit...          5  \n",
       "188  file:///media/kristian/HDD/ASL_Citizen/ASL_Cit...          5  \n",
       "189  file:///media/kristian/HDD/ASL_Citizen/ASL_Cit...          5  \n",
       "190  file:///media/kristian/HDD/ASL_Citizen/ASL_Cit...          5  "
      ]
     },
     "execution_count": 35,
     "metadata": {},
     "output_type": "execute_result"
    }
   ],
   "source": [
    "valdf.tail()"
   ]
  },
  {
   "cell_type": "code",
   "execution_count": null,
   "id": "c5858e65",
   "metadata": {
    "ExecuteTime": {
     "end_time": "2023-08-04T13:08:33.954653Z",
     "start_time": "2023-08-04T13:08:33.951157Z"
    }
   },
   "outputs": [],
   "source": []
  },
  {
   "cell_type": "code",
   "execution_count": 36,
   "id": "174c1fe3",
   "metadata": {
    "ExecuteTime": {
     "end_time": "2023-08-04T13:23:45.166838Z",
     "start_time": "2023-08-04T13:23:45.163428Z"
    }
   },
   "outputs": [
    {
     "data": {
      "text/plain": [
       "50"
      ]
     },
     "execution_count": 36,
     "metadata": {},
     "output_type": "execute_result"
    }
   ],
   "source": [
    "valdf['Gloss'].nunique()"
   ]
  },
  {
   "cell_type": "code",
   "execution_count": 37,
   "id": "096db1ad",
   "metadata": {
    "ExecuteTime": {
     "end_time": "2023-08-04T13:23:47.017068Z",
     "start_time": "2023-08-04T13:23:47.009539Z"
    }
   },
   "outputs": [
    {
     "data": {
      "text/html": [
       "<div>\n",
       "<style scoped>\n",
       "    .dataframe tbody tr th:only-of-type {\n",
       "        vertical-align: middle;\n",
       "    }\n",
       "\n",
       "    .dataframe tbody tr th {\n",
       "        vertical-align: top;\n",
       "    }\n",
       "\n",
       "    .dataframe thead th {\n",
       "        text-align: right;\n",
       "    }\n",
       "</style>\n",
       "<table border=\"1\" class=\"dataframe\">\n",
       "  <thead>\n",
       "    <tr style=\"text-align: right;\">\n",
       "      <th></th>\n",
       "      <th>frequency</th>\n",
       "    </tr>\n",
       "  </thead>\n",
       "  <tbody>\n",
       "    <tr>\n",
       "      <th>count</th>\n",
       "      <td>191.000000</td>\n",
       "    </tr>\n",
       "    <tr>\n",
       "      <th>mean</th>\n",
       "      <td>3.963351</td>\n",
       "    </tr>\n",
       "    <tr>\n",
       "      <th>std</th>\n",
       "      <td>0.770316</td>\n",
       "    </tr>\n",
       "    <tr>\n",
       "      <th>min</th>\n",
       "      <td>3.000000</td>\n",
       "    </tr>\n",
       "    <tr>\n",
       "      <th>25%</th>\n",
       "      <td>3.000000</td>\n",
       "    </tr>\n",
       "    <tr>\n",
       "      <th>50%</th>\n",
       "      <td>4.000000</td>\n",
       "    </tr>\n",
       "    <tr>\n",
       "      <th>75%</th>\n",
       "      <td>4.000000</td>\n",
       "    </tr>\n",
       "    <tr>\n",
       "      <th>max</th>\n",
       "      <td>6.000000</td>\n",
       "    </tr>\n",
       "  </tbody>\n",
       "</table>\n",
       "</div>"
      ],
      "text/plain": [
       "        frequency\n",
       "count  191.000000\n",
       "mean     3.963351\n",
       "std      0.770316\n",
       "min      3.000000\n",
       "25%      3.000000\n",
       "50%      4.000000\n",
       "75%      4.000000\n",
       "max      6.000000"
      ]
     },
     "execution_count": 37,
     "metadata": {},
     "output_type": "execute_result"
    }
   ],
   "source": [
    "valdf.describe()"
   ]
  },
  {
   "cell_type": "code",
   "execution_count": 38,
   "id": "08b487ca",
   "metadata": {
    "ExecuteTime": {
     "end_time": "2023-08-04T13:23:52.467731Z",
     "start_time": "2023-08-04T13:23:52.460397Z"
    }
   },
   "outputs": [
    {
     "data": {
      "text/html": [
       "<div>\n",
       "<style scoped>\n",
       "    .dataframe tbody tr th:only-of-type {\n",
       "        vertical-align: middle;\n",
       "    }\n",
       "\n",
       "    .dataframe tbody tr th {\n",
       "        vertical-align: top;\n",
       "    }\n",
       "\n",
       "    .dataframe thead th {\n",
       "        text-align: right;\n",
       "    }\n",
       "</style>\n",
       "<table border=\"1\" class=\"dataframe\">\n",
       "  <thead>\n",
       "    <tr style=\"text-align: right;\">\n",
       "      <th></th>\n",
       "      <th>Participant ID</th>\n",
       "      <th>Video file</th>\n",
       "      <th>Gloss</th>\n",
       "      <th>ASL-LEX Code</th>\n",
       "      <th>Path</th>\n",
       "      <th>frequency</th>\n",
       "    </tr>\n",
       "  </thead>\n",
       "  <tbody>\n",
       "    <tr>\n",
       "      <th>0</th>\n",
       "      <td>P39</td>\n",
       "      <td>19778675091674147-AXE.mp4</td>\n",
       "      <td>AXE1</td>\n",
       "      <td>G_03_066</td>\n",
       "      <td>file:///media/kristian/HDD/ASL_Citizen/ASL_Cit...</td>\n",
       "      <td>4</td>\n",
       "    </tr>\n",
       "    <tr>\n",
       "      <th>1</th>\n",
       "      <td>P26</td>\n",
       "      <td>8581142177964065-AXE.mp4</td>\n",
       "      <td>AXE1</td>\n",
       "      <td>G_03_066</td>\n",
       "      <td>file:///media/kristian/HDD/ASL_Citizen/ASL_Cit...</td>\n",
       "      <td>4</td>\n",
       "    </tr>\n",
       "    <tr>\n",
       "      <th>2</th>\n",
       "      <td>P39</td>\n",
       "      <td>3877478645046861-AXE.mp4</td>\n",
       "      <td>AXE1</td>\n",
       "      <td>G_03_066</td>\n",
       "      <td>file:///media/kristian/HDD/ASL_Citizen/ASL_Cit...</td>\n",
       "      <td>4</td>\n",
       "    </tr>\n",
       "    <tr>\n",
       "      <th>3</th>\n",
       "      <td>P21</td>\n",
       "      <td>8521417940364975-AXE.mp4</td>\n",
       "      <td>AXE1</td>\n",
       "      <td>G_03_066</td>\n",
       "      <td>file:///media/kristian/HDD/ASL_Citizen/ASL_Cit...</td>\n",
       "      <td>4</td>\n",
       "    </tr>\n",
       "    <tr>\n",
       "      <th>4</th>\n",
       "      <td>P5</td>\n",
       "      <td>9990244640190733-BACKPACK.mp4</td>\n",
       "      <td>BACKPACK1</td>\n",
       "      <td>G_03_091</td>\n",
       "      <td>file:///media/kristian/HDD/ASL_Citizen/ASL_Cit...</td>\n",
       "      <td>3</td>\n",
       "    </tr>\n",
       "  </tbody>\n",
       "</table>\n",
       "</div>"
      ],
      "text/plain": [
       "  Participant ID                     Video file      Gloss ASL-LEX Code  \\\n",
       "0            P39      19778675091674147-AXE.mp4       AXE1     G_03_066   \n",
       "1            P26       8581142177964065-AXE.mp4       AXE1     G_03_066   \n",
       "2            P39       3877478645046861-AXE.mp4       AXE1     G_03_066   \n",
       "3            P21       8521417940364975-AXE.mp4       AXE1     G_03_066   \n",
       "4             P5  9990244640190733-BACKPACK.mp4  BACKPACK1     G_03_091   \n",
       "\n",
       "                                                Path  frequency  \n",
       "0  file:///media/kristian/HDD/ASL_Citizen/ASL_Cit...          4  \n",
       "1  file:///media/kristian/HDD/ASL_Citizen/ASL_Cit...          4  \n",
       "2  file:///media/kristian/HDD/ASL_Citizen/ASL_Cit...          4  \n",
       "3  file:///media/kristian/HDD/ASL_Citizen/ASL_Cit...          4  \n",
       "4  file:///media/kristian/HDD/ASL_Citizen/ASL_Cit...          3  "
      ]
     },
     "execution_count": 38,
     "metadata": {},
     "output_type": "execute_result"
    }
   ],
   "source": [
    "valdf.head()"
   ]
  },
  {
   "cell_type": "code",
   "execution_count": 39,
   "id": "b7ad29f2",
   "metadata": {
    "ExecuteTime": {
     "end_time": "2023-08-04T13:24:01.379387Z",
     "start_time": "2023-08-04T13:24:01.374822Z"
    }
   },
   "outputs": [],
   "source": [
    "testdf = testdf[testdf['Gloss'].isin(words)]\n",
    "testdf = testdf.reset_index(drop=True)"
   ]
  },
  {
   "cell_type": "code",
   "execution_count": 40,
   "id": "23e625dc",
   "metadata": {
    "ExecuteTime": {
     "end_time": "2023-08-04T13:24:03.472902Z",
     "start_time": "2023-08-04T13:24:03.469078Z"
    }
   },
   "outputs": [
    {
     "data": {
      "text/plain": [
       "50"
      ]
     },
     "execution_count": 40,
     "metadata": {},
     "output_type": "execute_result"
    }
   ],
   "source": [
    "testdf['Gloss'].nunique()"
   ]
  },
  {
   "cell_type": "code",
   "execution_count": 41,
   "id": "d272794b",
   "metadata": {
    "ExecuteTime": {
     "end_time": "2023-08-04T13:24:05.426258Z",
     "start_time": "2023-08-04T13:24:05.417751Z"
    }
   },
   "outputs": [
    {
     "data": {
      "text/html": [
       "<div>\n",
       "<style scoped>\n",
       "    .dataframe tbody tr th:only-of-type {\n",
       "        vertical-align: middle;\n",
       "    }\n",
       "\n",
       "    .dataframe tbody tr th {\n",
       "        vertical-align: top;\n",
       "    }\n",
       "\n",
       "    .dataframe thead th {\n",
       "        text-align: right;\n",
       "    }\n",
       "</style>\n",
       "<table border=\"1\" class=\"dataframe\">\n",
       "  <thead>\n",
       "    <tr style=\"text-align: right;\">\n",
       "      <th></th>\n",
       "      <th>Participant ID</th>\n",
       "      <th>Video file</th>\n",
       "      <th>Gloss</th>\n",
       "      <th>ASL-LEX Code</th>\n",
       "      <th>Path</th>\n",
       "      <th>frequency</th>\n",
       "    </tr>\n",
       "  </thead>\n",
       "  <tbody>\n",
       "    <tr>\n",
       "      <th>0</th>\n",
       "      <td>P15</td>\n",
       "      <td>33721516025652254-AXE.mp4</td>\n",
       "      <td>AXE1</td>\n",
       "      <td>G_03_066</td>\n",
       "      <td>file:///media/kristian/HDD/ASL_Citizen/ASL_Cit...</td>\n",
       "      <td>15</td>\n",
       "    </tr>\n",
       "    <tr>\n",
       "      <th>1</th>\n",
       "      <td>P47</td>\n",
       "      <td>519067006979435-AXE.mp4</td>\n",
       "      <td>AXE1</td>\n",
       "      <td>G_03_066</td>\n",
       "      <td>file:///media/kristian/HDD/ASL_Citizen/ASL_Cit...</td>\n",
       "      <td>15</td>\n",
       "    </tr>\n",
       "    <tr>\n",
       "      <th>2</th>\n",
       "      <td>P35</td>\n",
       "      <td>5104381603195376-AXE.mp4</td>\n",
       "      <td>AXE1</td>\n",
       "      <td>G_03_066</td>\n",
       "      <td>file:///media/kristian/HDD/ASL_Citizen/ASL_Cit...</td>\n",
       "      <td>15</td>\n",
       "    </tr>\n",
       "    <tr>\n",
       "      <th>3</th>\n",
       "      <td>P42</td>\n",
       "      <td>44458614013793873-AXE.mp4</td>\n",
       "      <td>AXE1</td>\n",
       "      <td>G_03_066</td>\n",
       "      <td>file:///media/kristian/HDD/ASL_Citizen/ASL_Cit...</td>\n",
       "      <td>15</td>\n",
       "    </tr>\n",
       "    <tr>\n",
       "      <th>4</th>\n",
       "      <td>P42</td>\n",
       "      <td>9604797909481075-AXE.mp4</td>\n",
       "      <td>AXE1</td>\n",
       "      <td>G_03_066</td>\n",
       "      <td>file:///media/kristian/HDD/ASL_Citizen/ASL_Cit...</td>\n",
       "      <td>15</td>\n",
       "    </tr>\n",
       "  </tbody>\n",
       "</table>\n",
       "</div>"
      ],
      "text/plain": [
       "  Participant ID                 Video file Gloss ASL-LEX Code  \\\n",
       "0            P15  33721516025652254-AXE.mp4  AXE1     G_03_066   \n",
       "1            P47    519067006979435-AXE.mp4  AXE1     G_03_066   \n",
       "2            P35   5104381603195376-AXE.mp4  AXE1     G_03_066   \n",
       "3            P42  44458614013793873-AXE.mp4  AXE1     G_03_066   \n",
       "4            P42   9604797909481075-AXE.mp4  AXE1     G_03_066   \n",
       "\n",
       "                                                Path  frequency  \n",
       "0  file:///media/kristian/HDD/ASL_Citizen/ASL_Cit...         15  \n",
       "1  file:///media/kristian/HDD/ASL_Citizen/ASL_Cit...         15  \n",
       "2  file:///media/kristian/HDD/ASL_Citizen/ASL_Cit...         15  \n",
       "3  file:///media/kristian/HDD/ASL_Citizen/ASL_Cit...         15  \n",
       "4  file:///media/kristian/HDD/ASL_Citizen/ASL_Cit...         15  "
      ]
     },
     "execution_count": 41,
     "metadata": {},
     "output_type": "execute_result"
    }
   ],
   "source": [
    "testdf.head()"
   ]
  },
  {
   "cell_type": "code",
   "execution_count": 42,
   "id": "9dba3444",
   "metadata": {
    "ExecuteTime": {
     "end_time": "2023-08-04T13:24:06.450526Z",
     "start_time": "2023-08-04T13:24:06.443600Z"
    }
   },
   "outputs": [
    {
     "data": {
      "text/html": [
       "<div>\n",
       "<style scoped>\n",
       "    .dataframe tbody tr th:only-of-type {\n",
       "        vertical-align: middle;\n",
       "    }\n",
       "\n",
       "    .dataframe tbody tr th {\n",
       "        vertical-align: top;\n",
       "    }\n",
       "\n",
       "    .dataframe thead th {\n",
       "        text-align: right;\n",
       "    }\n",
       "</style>\n",
       "<table border=\"1\" class=\"dataframe\">\n",
       "  <thead>\n",
       "    <tr style=\"text-align: right;\">\n",
       "      <th></th>\n",
       "      <th>Participant ID</th>\n",
       "      <th>Video file</th>\n",
       "      <th>Gloss</th>\n",
       "      <th>ASL-LEX Code</th>\n",
       "      <th>Path</th>\n",
       "      <th>frequency</th>\n",
       "    </tr>\n",
       "  </thead>\n",
       "  <tbody>\n",
       "    <tr>\n",
       "      <th>724</th>\n",
       "      <td>P42</td>\n",
       "      <td>3448123355846451-WHAT FOR.mp4</td>\n",
       "      <td>WHATFOR1</td>\n",
       "      <td>C_02_054</td>\n",
       "      <td>file:///media/kristian/HDD/ASL_Citizen/ASL_Cit...</td>\n",
       "      <td>18</td>\n",
       "    </tr>\n",
       "    <tr>\n",
       "      <th>725</th>\n",
       "      <td>P47</td>\n",
       "      <td>034046510887022485-WHAT FOR.mp4</td>\n",
       "      <td>WHATFOR1</td>\n",
       "      <td>C_02_054</td>\n",
       "      <td>file:///media/kristian/HDD/ASL_Citizen/ASL_Cit...</td>\n",
       "      <td>18</td>\n",
       "    </tr>\n",
       "    <tr>\n",
       "      <th>726</th>\n",
       "      <td>P22</td>\n",
       "      <td>9359050586202402-WHAT FOR.mp4</td>\n",
       "      <td>WHATFOR1</td>\n",
       "      <td>C_02_054</td>\n",
       "      <td>file:///media/kristian/HDD/ASL_Citizen/ASL_Cit...</td>\n",
       "      <td>18</td>\n",
       "    </tr>\n",
       "    <tr>\n",
       "      <th>727</th>\n",
       "      <td>P42</td>\n",
       "      <td>2748457214117681-WHAT FOR.mp4</td>\n",
       "      <td>WHATFOR1</td>\n",
       "      <td>C_02_054</td>\n",
       "      <td>file:///media/kristian/HDD/ASL_Citizen/ASL_Cit...</td>\n",
       "      <td>18</td>\n",
       "    </tr>\n",
       "    <tr>\n",
       "      <th>728</th>\n",
       "      <td>P15</td>\n",
       "      <td>540014801916062-WHAT FOR.mp4</td>\n",
       "      <td>WHATFOR1</td>\n",
       "      <td>C_02_054</td>\n",
       "      <td>file:///media/kristian/HDD/ASL_Citizen/ASL_Cit...</td>\n",
       "      <td>18</td>\n",
       "    </tr>\n",
       "  </tbody>\n",
       "</table>\n",
       "</div>"
      ],
      "text/plain": [
       "    Participant ID                       Video file     Gloss ASL-LEX Code  \\\n",
       "724            P42    3448123355846451-WHAT FOR.mp4  WHATFOR1     C_02_054   \n",
       "725            P47  034046510887022485-WHAT FOR.mp4  WHATFOR1     C_02_054   \n",
       "726            P22    9359050586202402-WHAT FOR.mp4  WHATFOR1     C_02_054   \n",
       "727            P42    2748457214117681-WHAT FOR.mp4  WHATFOR1     C_02_054   \n",
       "728            P15     540014801916062-WHAT FOR.mp4  WHATFOR1     C_02_054   \n",
       "\n",
       "                                                  Path  frequency  \n",
       "724  file:///media/kristian/HDD/ASL_Citizen/ASL_Cit...         18  \n",
       "725  file:///media/kristian/HDD/ASL_Citizen/ASL_Cit...         18  \n",
       "726  file:///media/kristian/HDD/ASL_Citizen/ASL_Cit...         18  \n",
       "727  file:///media/kristian/HDD/ASL_Citizen/ASL_Cit...         18  \n",
       "728  file:///media/kristian/HDD/ASL_Citizen/ASL_Cit...         18  "
      ]
     },
     "execution_count": 42,
     "metadata": {},
     "output_type": "execute_result"
    }
   ],
   "source": [
    "testdf.tail()"
   ]
  },
  {
   "cell_type": "code",
   "execution_count": 43,
   "id": "ce08e465",
   "metadata": {
    "ExecuteTime": {
     "end_time": "2023-08-04T13:24:09.485092Z",
     "start_time": "2023-08-04T13:24:09.476570Z"
    }
   },
   "outputs": [
    {
     "data": {
      "text/html": [
       "<div>\n",
       "<style scoped>\n",
       "    .dataframe tbody tr th:only-of-type {\n",
       "        vertical-align: middle;\n",
       "    }\n",
       "\n",
       "    .dataframe tbody tr th {\n",
       "        vertical-align: top;\n",
       "    }\n",
       "\n",
       "    .dataframe thead th {\n",
       "        text-align: right;\n",
       "    }\n",
       "</style>\n",
       "<table border=\"1\" class=\"dataframe\">\n",
       "  <thead>\n",
       "    <tr style=\"text-align: right;\">\n",
       "      <th></th>\n",
       "      <th>frequency</th>\n",
       "    </tr>\n",
       "  </thead>\n",
       "  <tbody>\n",
       "    <tr>\n",
       "      <th>count</th>\n",
       "      <td>729.000000</td>\n",
       "    </tr>\n",
       "    <tr>\n",
       "      <th>mean</th>\n",
       "      <td>14.978052</td>\n",
       "    </tr>\n",
       "    <tr>\n",
       "      <th>std</th>\n",
       "      <td>2.229192</td>\n",
       "    </tr>\n",
       "    <tr>\n",
       "      <th>min</th>\n",
       "      <td>9.000000</td>\n",
       "    </tr>\n",
       "    <tr>\n",
       "      <th>25%</th>\n",
       "      <td>14.000000</td>\n",
       "    </tr>\n",
       "    <tr>\n",
       "      <th>50%</th>\n",
       "      <td>15.000000</td>\n",
       "    </tr>\n",
       "    <tr>\n",
       "      <th>75%</th>\n",
       "      <td>16.000000</td>\n",
       "    </tr>\n",
       "    <tr>\n",
       "      <th>max</th>\n",
       "      <td>20.000000</td>\n",
       "    </tr>\n",
       "  </tbody>\n",
       "</table>\n",
       "</div>"
      ],
      "text/plain": [
       "        frequency\n",
       "count  729.000000\n",
       "mean    14.978052\n",
       "std      2.229192\n",
       "min      9.000000\n",
       "25%     14.000000\n",
       "50%     15.000000\n",
       "75%     16.000000\n",
       "max     20.000000"
      ]
     },
     "execution_count": 43,
     "metadata": {},
     "output_type": "execute_result"
    }
   ],
   "source": [
    "testdf.describe()"
   ]
  },
  {
   "cell_type": "code",
   "execution_count": 44,
   "id": "ecb86e94",
   "metadata": {
    "ExecuteTime": {
     "end_time": "2023-08-04T13:24:11.235320Z",
     "start_time": "2023-08-04T13:24:11.229181Z"
    }
   },
   "outputs": [],
   "source": [
    "traindf['Gloss'] = traindf['Gloss'].str.replace('\\d+', '',regex=True)\n",
    "valdf['Gloss'] = valdf['Gloss'].str.replace('\\d+', '',regex=True)\n",
    "testdf['Gloss'] = testdf['Gloss'].str.replace('\\d+', '',regex=True)"
   ]
  },
  {
   "cell_type": "code",
   "execution_count": 45,
   "id": "56a924d9",
   "metadata": {
    "ExecuteTime": {
     "end_time": "2023-08-04T13:24:13.043816Z",
     "start_time": "2023-08-04T13:24:13.040072Z"
    }
   },
   "outputs": [
    {
     "data": {
      "text/plain": [
       "array(['AXE', 'BACKPACK', 'BASKETBALL', 'BEE', 'BELT', 'BITE',\n",
       "       'BREAKFAST', 'CANCER', 'CHRISTMAS', 'CONFUSED', 'DARK', 'DEAF',\n",
       "       'DECIDE', 'DEMAND', 'DEVELOP', 'DINNER', 'DOG', 'DOWNSIZE', 'DRAG',\n",
       "       'EAT', 'EDIT', 'ELEVATOR', 'FINE', 'FLOAT', 'FOREIGNER', 'GUESS',\n",
       "       'HALLOWEEN', 'HOSPITAL', 'HURDLE/TRIP', 'JEWELRY', 'KNIGHT',\n",
       "       'LOCK', 'LUNCH', 'MAPLE', 'MEAT', 'MECHANIC', 'MICROSCOPE',\n",
       "       'MOVIE', 'NOON', 'PARTY', 'PATIENT', 'RAZOR', 'RIVER',\n",
       "       'ROCKINGCHAIR', 'SHAVE', 'SINK', 'SQUEEZE', 'THEY', 'TWINS',\n",
       "       'WHATFOR'], dtype=object)"
      ]
     },
     "execution_count": 45,
     "metadata": {},
     "output_type": "execute_result"
    }
   ],
   "source": [
    "words = traindf['Gloss'].unique()\n",
    "words"
   ]
  },
  {
   "cell_type": "code",
   "execution_count": 46,
   "id": "45d61fb4",
   "metadata": {
    "ExecuteTime": {
     "end_time": "2023-08-04T13:24:14.767371Z",
     "start_time": "2023-08-04T13:24:14.763729Z"
    }
   },
   "outputs": [
    {
     "data": {
      "text/plain": [
       "array(['AXE', 'BACKPACK', 'BASKETBALL', 'BEE', 'BELT', 'BITE',\n",
       "       'BREAKFAST', 'CANCER', 'CHRISTMAS', 'CONFUSED', 'DARK', 'DEAF',\n",
       "       'DECIDE', 'DEMAND', 'DEVELOP', 'DINNER', 'DOG', 'DOWNSIZE', 'DRAG',\n",
       "       'EAT', 'EDIT', 'ELEVATOR', 'FINE', 'FLOAT', 'FOREIGNER', 'GUESS',\n",
       "       'HALLOWEEN', 'HOSPITAL', 'HURDLE/TRIP', 'JEWELRY', 'KNIGHT',\n",
       "       'LOCK', 'LUNCH', 'MAPLE', 'MEAT', 'MECHANIC', 'MICROSCOPE',\n",
       "       'MOVIE', 'NOON', 'PARTY', 'PATIENT', 'RAZOR', 'RIVER',\n",
       "       'ROCKINGCHAIR', 'SHAVE', 'SINK', 'SQUEEZE', 'THEY', 'TWINS',\n",
       "       'WHATFOR'], dtype=object)"
      ]
     },
     "execution_count": 46,
     "metadata": {},
     "output_type": "execute_result"
    }
   ],
   "source": [
    "words = valdf['Gloss'].unique()\n",
    "words"
   ]
  },
  {
   "cell_type": "code",
   "execution_count": 47,
   "id": "7d5396cc",
   "metadata": {
    "ExecuteTime": {
     "end_time": "2023-08-04T13:24:16.532305Z",
     "start_time": "2023-08-04T13:24:16.528199Z"
    }
   },
   "outputs": [
    {
     "data": {
      "text/plain": [
       "array(['AXE', 'BACKPACK', 'BASKETBALL', 'BEE', 'BELT', 'BITE',\n",
       "       'BREAKFAST', 'CANCER', 'CHRISTMAS', 'CONFUSED', 'DARK', 'DEAF',\n",
       "       'DECIDE', 'DEMAND', 'DEVELOP', 'DINNER', 'DOG', 'DOWNSIZE', 'DRAG',\n",
       "       'EAT', 'EDIT', 'ELEVATOR', 'FINE', 'FLOAT', 'FOREIGNER', 'GUESS',\n",
       "       'HALLOWEEN', 'HOSPITAL', 'HURDLE/TRIP', 'JEWELRY', 'KNIGHT',\n",
       "       'LOCK', 'LUNCH', 'MAPLE', 'MEAT', 'MECHANIC', 'MICROSCOPE',\n",
       "       'MOVIE', 'NOON', 'PARTY', 'PATIENT', 'RAZOR', 'RIVER',\n",
       "       'ROCKINGCHAIR', 'SHAVE', 'SINK', 'SQUEEZE', 'THEY', 'TWINS',\n",
       "       'WHATFOR'], dtype=object)"
      ]
     },
     "execution_count": 47,
     "metadata": {},
     "output_type": "execute_result"
    }
   ],
   "source": [
    "words = testdf['Gloss'].unique()\n",
    "words"
   ]
  },
  {
   "cell_type": "code",
   "execution_count": 48,
   "id": "5a272af2",
   "metadata": {
    "ExecuteTime": {
     "end_time": "2023-08-04T13:24:18.346517Z",
     "start_time": "2023-08-04T13:24:18.341574Z"
    }
   },
   "outputs": [
    {
     "name": "stdout",
     "output_type": "stream",
     "text": [
      "50\n",
      "50\n",
      "50\n"
     ]
    }
   ],
   "source": [
    "print(traindf['Gloss'].nunique())\n",
    "print(valdf['Gloss'].nunique())\n",
    "print(testdf['Gloss'].nunique())"
   ]
  },
  {
   "cell_type": "code",
   "execution_count": 52,
   "id": "ad70c4fa",
   "metadata": {
    "ExecuteTime": {
     "end_time": "2023-08-04T13:25:52.605922Z",
     "start_time": "2023-08-04T13:25:39.999209Z"
    }
   },
   "outputs": [],
   "source": [
    "cap = cv2.VideoCapture(traindf.Path[643])\n",
    "#cap = cv2.VideoCapture(0, cv2.CAP_DSHOW)\n",
    "\n",
    "with mp_holistic.Holistic(static_image_mode=False,\n",
    "                          model_complexity=2) as holistic:\n",
    "    while True:\n",
    "        ret, frame = cap.read()\n",
    "        if ret == False:\n",
    "            break\n",
    "        frame_rgb = cv2.cvtColor(frame, cv2.COLOR_BGR2RGB)\n",
    "        results = holistic.process(frame_rgb)\n",
    "        # rostro\n",
    "        mp_drawing.draw_landmarks(\n",
    "            frame, results.face_landmarks, mp_holistic.FACEMESH_TESSELATION,\n",
    "            mp_drawing.DrawingSpec(color=(0, 255, 255),\n",
    "                                   thickness=1,\n",
    "                                   circle_radius=1),\n",
    "            mp_drawing.DrawingSpec(color=(0, 128, 255), thickness=2))\n",
    "\n",
    "        # Mano izquieda (azul)\n",
    "        mp_drawing.draw_landmarks(\n",
    "            frame, results.left_hand_landmarks, mp_holistic.HAND_CONNECTIONS,\n",
    "            mp_drawing.DrawingSpec(color=(0, 0, 0),\n",
    "                                   thickness=2,\n",
    "                                   circle_radius=1),\n",
    "            mp_drawing.DrawingSpec(color=(0, 92, 230), thickness=2))\n",
    "\n",
    "        # Mano derecha (verde)\n",
    "        mp_drawing.draw_landmarks(\n",
    "            frame, results.right_hand_landmarks, mp_holistic.HAND_CONNECTIONS,\n",
    "            mp_drawing.DrawingSpec(color=(0, 0, 0),\n",
    "                                   thickness=2,\n",
    "                                   circle_radius=1),\n",
    "            mp_drawing.DrawingSpec(color=(0, 92, 230), thickness=2))\n",
    "\n",
    "        # Postura\n",
    "        mp_drawing.draw_landmarks(\n",
    "            frame, results.pose_landmarks, mp_holistic.POSE_CONNECTIONS,\n",
    "            mp_drawing.DrawingSpec(color=(0, 0, 0),\n",
    "                                   thickness=2,\n",
    "                                   circle_radius=1),\n",
    "            mp_drawing.DrawingSpec(color=(0, 92, 230), thickness=2))\n",
    "        frame = cv2.flip(frame, 1)\n",
    "        cv2.imshow(\"Frame\", frame)\n",
    "        if cv2.waitKey(1) & 0xFF == 27:\n",
    "            break\n",
    "cap.release()\n",
    "cv2.destroyAllWindows()"
   ]
  },
  {
   "cell_type": "code",
   "execution_count": 53,
   "id": "989b23a1",
   "metadata": {
    "ExecuteTime": {
     "end_time": "2023-08-04T13:25:58.885896Z",
     "start_time": "2023-08-04T13:25:58.882214Z"
    }
   },
   "outputs": [
    {
     "data": {
      "text/plain": [
       "'file:///media/kristian/HDD/ASL_Citizen/ASL_Citizen/videos/8626819778158101-MAPLE.mp4'"
      ]
     },
     "execution_count": 53,
     "metadata": {},
     "output_type": "execute_result"
    }
   ],
   "source": [
    "traindf.Path[643]"
   ]
  },
  {
   "cell_type": "code",
   "execution_count": 54,
   "id": "1b4860ef",
   "metadata": {
    "ExecuteTime": {
     "end_time": "2023-08-04T13:26:01.745890Z",
     "start_time": "2023-08-04T13:26:01.741931Z"
    }
   },
   "outputs": [],
   "source": [
    "# Define a function to extract keypoints from a single video file\n",
    "def extract_keypoints_from_file(filepath):\n",
    "    # Initialize a MediaPipe Holistic model\n",
    "    holistic = mp.solutions.holistic.Holistic(static_image_mode=False,\n",
    "                                              model_complexity=0,\n",
    "                                              min_detection_confidence=0.5,\n",
    "                                              min_tracking_confidence=0.5)\n",
    "\n",
    "    # Open the video file\n",
    "    cap = cv2.VideoCapture(filepath)\n",
    "\n",
    "    # Initialize an empty list to store the keypoints for each frame\n",
    "    keypoints = []\n",
    "\n",
    "    # Loop through the frames of the video\n",
    "    while cap.isOpened():\n",
    "        # Read a frame from the video\n",
    "        ret, frame = cap.read()\n",
    "        if not ret:\n",
    "            break\n",
    "\n",
    "        # Convert the frame to RGB color space\n",
    "        frame = cv2.cvtColor(frame, cv2.COLOR_BGR2RGB)\n",
    "\n",
    "        # Use the Holistic model to detect landmarks for the face, pose, and hands\n",
    "        results = holistic.process(frame)\n",
    "\n",
    "        # Extract the keypoints from the results object and append them to the keypoints list\n",
    "        keypoints.append(extract_keypoints(results))\n",
    "\n",
    "    # Release the video capture object and the Holistic model\n",
    "    cap.release()\n",
    "    holistic.close()\n",
    "\n",
    "    return np.array(keypoints)"
   ]
  },
  {
   "cell_type": "code",
   "execution_count": 55,
   "id": "49e95ea7",
   "metadata": {
    "ExecuteTime": {
     "end_time": "2023-08-04T13:26:10.028335Z",
     "start_time": "2023-08-04T13:26:03.983932Z"
    }
   },
   "outputs": [
    {
     "data": {
      "text/plain": [
       "(83, 1662)"
      ]
     },
     "execution_count": 55,
     "metadata": {},
     "output_type": "execute_result"
    }
   ],
   "source": [
    "extract_keypoints_from_file(traindf.Path[643]).shape"
   ]
  },
  {
   "cell_type": "code",
   "execution_count": 467,
   "id": "5d2a0a7a",
   "metadata": {
    "ExecuteTime": {
     "end_time": "2023-08-04T13:15:18.869654Z",
     "start_time": "2023-08-04T13:15:18.857166Z"
    }
   },
   "outputs": [
    {
     "name": "stdout",
     "output_type": "stream",
     "text": [
      "83\n"
     ]
    }
   ],
   "source": [
    "cap = cv2.VideoCapture(traindf.Path[643])\n",
    "length = int(cap.get(cv2.CAP_PROP_FRAME_COUNT))\n",
    "print( length )"
   ]
  },
  {
   "cell_type": "code",
   "execution_count": 468,
   "id": "b48bfa39",
   "metadata": {
    "ExecuteTime": {
     "end_time": "2023-08-04T13:15:24.818431Z",
     "start_time": "2023-08-04T13:15:19.936769Z"
    }
   },
   "outputs": [
    {
     "data": {
      "text/plain": [
       "numpy.ndarray"
      ]
     },
     "execution_count": 468,
     "metadata": {},
     "output_type": "execute_result"
    }
   ],
   "source": [
    "type(extract_keypoints_from_file(traindf.Path[643]))"
   ]
  },
  {
   "cell_type": "code",
   "execution_count": 469,
   "id": "f5533751",
   "metadata": {
    "ExecuteTime": {
     "end_time": "2023-08-04T13:15:26.140062Z",
     "start_time": "2023-08-04T13:15:26.133942Z"
    }
   },
   "outputs": [
    {
     "data": {
      "text/plain": [
       "Participant ID    950\n",
       "Video file        950\n",
       "Gloss             950\n",
       "ASL-LEX Code      950\n",
       "Path              950\n",
       "frequency         950\n",
       "dtype: int64"
      ]
     },
     "execution_count": 469,
     "metadata": {},
     "output_type": "execute_result"
    }
   ],
   "source": [
    "traindf.count()"
   ]
  },
  {
   "cell_type": "code",
   "execution_count": 470,
   "id": "9a9a5517",
   "metadata": {
    "ExecuteTime": {
     "end_time": "2023-08-04T13:15:28.343679Z",
     "start_time": "2023-08-04T13:15:28.341077Z"
    }
   },
   "outputs": [],
   "source": [
    "def frames_from_file(filepath):\n",
    "    cap = cv2.VideoCapture(filepath)\n",
    "    length = int(cap.get(cv2.CAP_PROP_FRAME_COUNT))\n",
    "    return length"
   ]
  },
  {
   "cell_type": "code",
   "execution_count": 471,
   "id": "2576a32d",
   "metadata": {
    "ExecuteTime": {
     "end_time": "2023-08-04T13:15:30.002547Z",
     "start_time": "2023-08-04T13:15:29.990249Z"
    }
   },
   "outputs": [
    {
     "data": {
      "text/plain": [
       "83"
      ]
     },
     "execution_count": 471,
     "metadata": {},
     "output_type": "execute_result"
    }
   ],
   "source": [
    "frames_from_file(traindf.Path[643])"
   ]
  },
  {
   "cell_type": "code",
   "execution_count": 297,
   "id": "fad1ee21",
   "metadata": {
    "ExecuteTime": {
     "end_time": "2023-08-04T12:58:05.745420Z",
     "start_time": "2023-08-04T12:52:39.874346Z"
    },
    "scrolled": true
   },
   "outputs": [
    {
     "name": "stderr",
     "output_type": "stream",
     "text": [
      "  1%|█▌                                                                                                                                                       | 2/191 [00:02<03:44,  1.19s/it][ERROR:0@11098.891] global cap.cpp:164 open VIDEOIO(CV_IMAGES): raised OpenCV exception:\n",
      "\n",
      "OpenCV(4.8.0) /io/opencv/modules/videoio/src/cap_images.cpp:267: error: (-215:Assertion failed) number < max_number in function 'icvExtractPattern'\n",
      "\n",
      "\n",
      "[ERROR:0@11099.972] global cap.cpp:164 open VIDEOIO(CV_IMAGES): raised OpenCV exception:\n",
      "\n",
      "OpenCV(4.8.0) /io/opencv/modules/videoio/src/cap_images.cpp:267: error: (-215:Assertion failed) number < max_number in function 'icvExtractPattern'\n",
      "\n",
      "\n",
      "  2%|███▏                                                                                                                                                     | 4/191 [00:03<02:31,  1.24it/s][ERROR:0@11101.032] global cap.cpp:164 open VIDEOIO(CV_IMAGES): raised OpenCV exception:\n",
      "\n",
      "OpenCV(4.8.0) /io/opencv/modules/videoio/src/cap_images.cpp:267: error: (-215:Assertion failed) number < max_number in function 'icvExtractPattern'\n",
      "\n",
      "\n",
      "  3%|████                                                                                                                                                     | 5/191 [00:04<02:44,  1.13it/s][ERROR:0@11101.034] global cap.cpp:164 open VIDEOIO(CV_IMAGES): raised OpenCV exception:\n",
      "\n",
      "OpenCV(4.8.0) /io/opencv/modules/videoio/src/cap_images.cpp:267: error: (-215:Assertion failed) number < max_number in function 'icvExtractPattern'\n",
      "\n",
      "\n",
      "  4%|██████▍                                                                                                                                                  | 8/191 [00:11<04:45,  1.56s/it][ERROR:0@11108.621] global cap.cpp:164 open VIDEOIO(CV_IMAGES): raised OpenCV exception:\n",
      "\n",
      "OpenCV(4.8.0) /io/opencv/modules/videoio/src/cap_images.cpp:267: error: (-215:Assertion failed) number < max_number in function 'icvExtractPattern'\n",
      "\n",
      "\n",
      "  5%|███████▏                                                                                                                                                 | 9/191 [00:12<04:21,  1.44s/it][ERROR:0@11108.623] global cap.cpp:164 open VIDEOIO(CV_IMAGES): raised OpenCV exception:\n",
      "\n",
      "OpenCV(4.8.0) /io/opencv/modules/videoio/src/cap_images.cpp:267: error: (-215:Assertion failed) number < max_number in function 'icvExtractPattern'\n",
      "\n",
      "\n",
      "[ERROR:0@11109.727] global cap.cpp:164 open VIDEOIO(CV_IMAGES): raised OpenCV exception:\n",
      "\n",
      "OpenCV(4.8.0) /io/opencv/modules/videoio/src/cap_images.cpp:267: error: (-215:Assertion failed) number < max_number in function 'icvExtractPattern'\n",
      "\n",
      "\n",
      "  6%|████████▊                                                                                                                                               | 11/191 [00:13<03:10,  1.06s/it][ERROR:0@11109.729] global cap.cpp:164 open VIDEOIO(CV_IMAGES): raised OpenCV exception:\n",
      "\n",
      "OpenCV(4.8.0) /io/opencv/modules/videoio/src/cap_images.cpp:267: error: (-215:Assertion failed) number < max_number in function 'icvExtractPattern'\n",
      "\n",
      "\n",
      "[ERROR:0@11109.729] global cap.cpp:164 open VIDEOIO(CV_IMAGES): raised OpenCV exception:\n",
      "\n",
      "OpenCV(4.8.0) /io/opencv/modules/videoio/src/cap_images.cpp:267: error: (-215:Assertion failed) number < max_number in function 'icvExtractPattern'\n",
      "\n",
      "\n",
      "[ERROR:0@11110.760] global cap.cpp:164 open VIDEOIO(CV_IMAGES): raised OpenCV exception:\n",
      "\n",
      "OpenCV(4.8.0) /io/opencv/modules/videoio/src/cap_images.cpp:267: error: (-215:Assertion failed) number < max_number in function 'icvExtractPattern'\n",
      "\n",
      "\n",
      "  7%|███████████▏                                                                                                                                            | 14/191 [00:14<02:07,  1.39it/s][ERROR:0@11110.762] global cap.cpp:164 open VIDEOIO(CV_IMAGES): raised OpenCV exception:\n",
      "\n",
      "OpenCV(4.8.0) /io/opencv/modules/videoio/src/cap_images.cpp:267: error: (-215:Assertion failed) number < max_number in function 'icvExtractPattern'\n",
      "\n",
      "\n",
      "[ERROR:0@11110.762] global cap.cpp:164 open VIDEOIO(CV_IMAGES): raised OpenCV exception:\n",
      "\n",
      "OpenCV(4.8.0) /io/opencv/modules/videoio/src/cap_images.cpp:267: error: (-215:Assertion failed) number < max_number in function 'icvExtractPattern'\n",
      "\n",
      "\n",
      "[ERROR:0@11110.763] global cap.cpp:164 open VIDEOIO(CV_IMAGES): raised OpenCV exception:\n",
      "\n",
      "OpenCV(4.8.0) /io/opencv/modules/videoio/src/cap_images.cpp:267: error: (-215:Assertion failed) number < max_number in function 'icvExtractPattern'\n",
      "\n",
      "\n",
      "[ERROR:0@11111.807] global cap.cpp:164 open VIDEOIO(CV_IMAGES): raised OpenCV exception:\n",
      "\n",
      "OpenCV(4.8.0) /io/opencv/modules/videoio/src/cap_images.cpp:267: error: (-215:Assertion failed) number < max_number in function 'icvExtractPattern'\n",
      "\n",
      "\n",
      "  9%|██████████████▎                                                                                                                                         | 18/191 [00:15<01:26,  2.00it/s][ERROR:0@11111.809] global cap.cpp:164 open VIDEOIO(CV_IMAGES): raised OpenCV exception:\n",
      "\n",
      "OpenCV(4.8.0) /io/opencv/modules/videoio/src/cap_images.cpp:267: error: (-215:Assertion failed) number < max_number in function 'icvExtractPattern'\n",
      "\n",
      "\n",
      "[ERROR:0@11112.879] global cap.cpp:164 open VIDEOIO(CV_IMAGES): raised OpenCV exception:\n",
      "\n",
      "OpenCV(4.8.0) /io/opencv/modules/videoio/src/cap_images.cpp:267: error: (-215:Assertion failed) number < max_number in function 'icvExtractPattern'\n",
      "\n",
      "\n",
      " 11%|████████████████▋                                                                                                                                       | 21/191 [00:19<02:36,  1.09it/s][ERROR:0@11117.173] global cap.cpp:164 open VIDEOIO(CV_IMAGES): raised OpenCV exception:\n",
      "\n",
      "OpenCV(4.8.0) /io/opencv/modules/videoio/src/cap_images.cpp:267: error: (-215:Assertion failed) number < max_number in function 'icvExtractPattern'\n",
      "\n",
      "\n",
      " 12%|██████████████████▎                                                                                                                                     | 23/191 [00:25<04:39,  1.66s/it][ERROR:0@11121.597] global cap.cpp:164 open VIDEOIO(CV_IMAGES): raised OpenCV exception:\n",
      "\n",
      "OpenCV(4.8.0) /io/opencv/modules/videoio/src/cap_images.cpp:267: error: (-215:Assertion failed) number < max_number in function 'icvExtractPattern'\n",
      "\n",
      "\n",
      "[ERROR:0@11122.675] global cap.cpp:164 open VIDEOIO(CV_IMAGES): raised OpenCV exception:\n",
      "\n",
      "OpenCV(4.8.0) /io/opencv/modules/videoio/src/cap_images.cpp:267: error: (-215:Assertion failed) number < max_number in function 'icvExtractPattern'\n",
      "\n",
      "\n",
      " 13%|███████████████████▉                                                                                                                                    | 25/191 [00:26<03:27,  1.25s/it][ERROR:0@11122.676] global cap.cpp:164 open VIDEOIO(CV_IMAGES): raised OpenCV exception:\n",
      "\n",
      "OpenCV(4.8.0) /io/opencv/modules/videoio/src/cap_images.cpp:267: error: (-215:Assertion failed) number < max_number in function 'icvExtractPattern'\n",
      "\n",
      "\n",
      "[ERROR:0@11122.677] global cap.cpp:164 open VIDEOIO(CV_IMAGES): raised OpenCV exception:\n",
      "\n",
      "OpenCV(4.8.0) /io/opencv/modules/videoio/src/cap_images.cpp:267: error: (-215:Assertion failed) number < max_number in function 'icvExtractPattern'\n",
      "\n",
      "\n",
      "[ERROR:0@11123.729] global cap.cpp:164 open VIDEOIO(CV_IMAGES): raised OpenCV exception:\n",
      "\n",
      "OpenCV(4.8.0) /io/opencv/modules/videoio/src/cap_images.cpp:267: error: (-215:Assertion failed) number < max_number in function 'icvExtractPattern'\n",
      "\n",
      "\n",
      " 15%|███████████████████████                                                                                                                                 | 29/191 [00:31<03:58,  1.47s/it][ERROR:0@11128.143] global cap.cpp:164 open VIDEOIO(CV_IMAGES): raised OpenCV exception:\n",
      "\n",
      "OpenCV(4.8.0) /io/opencv/modules/videoio/src/cap_images.cpp:267: error: (-215:Assertion failed) number < max_number in function 'icvExtractPattern'\n",
      "\n",
      "\n",
      "[ERROR:0@11128.144] global cap.cpp:164 open VIDEOIO(CV_IMAGES): raised OpenCV exception:\n",
      "\n",
      "OpenCV(4.8.0) /io/opencv/modules/videoio/src/cap_images.cpp:267: error: (-215:Assertion failed) number < max_number in function 'icvExtractPattern'\n",
      "\n",
      "\n",
      "[ERROR:0@11128.144] global cap.cpp:164 open VIDEOIO(CV_IMAGES): raised OpenCV exception:\n",
      "\n",
      "OpenCV(4.8.0) /io/opencv/modules/videoio/src/cap_images.cpp:267: error: (-215:Assertion failed) number < max_number in function 'icvExtractPattern'\n",
      "\n",
      "\n",
      "[ERROR:0@11128.145] global cap.cpp:164 open VIDEOIO(CV_IMAGES): raised OpenCV exception:\n",
      "\n",
      "OpenCV(4.8.0) /io/opencv/modules/videoio/src/cap_images.cpp:267: error: (-215:Assertion failed) number < max_number in function 'icvExtractPattern'\n",
      "\n",
      "\n"
     ]
    },
    {
     "name": "stderr",
     "output_type": "stream",
     "text": [
      "[ERROR:0@11129.221] global cap.cpp:164 open VIDEOIO(CV_IMAGES): raised OpenCV exception:\n",
      "\n",
      "OpenCV(4.8.0) /io/opencv/modules/videoio/src/cap_images.cpp:267: error: (-215:Assertion failed) number < max_number in function 'icvExtractPattern'\n",
      "\n",
      "\n",
      " 18%|███████████████████████████                                                                                                                             | 34/191 [00:32<02:01,  1.29it/s][ERROR:0@11129.222] global cap.cpp:164 open VIDEOIO(CV_IMAGES): raised OpenCV exception:\n",
      "\n",
      "OpenCV(4.8.0) /io/opencv/modules/videoio/src/cap_images.cpp:267: error: (-215:Assertion failed) number < max_number in function 'icvExtractPattern'\n",
      "\n",
      "\n",
      " 19%|█████████████████████████████▍                                                                                                                          | 37/191 [00:40<03:52,  1.51s/it][ERROR:0@11137.326] global cap.cpp:164 open VIDEOIO(CV_IMAGES): raised OpenCV exception:\n",
      "\n",
      "OpenCV(4.8.0) /io/opencv/modules/videoio/src/cap_images.cpp:267: error: (-215:Assertion failed) number < max_number in function 'icvExtractPattern'\n",
      "\n",
      "\n",
      " 20%|██████████████████████████████▏                                                                                                                         | 38/191 [00:40<03:26,  1.35s/it][ERROR:0@11137.805] global cap.cpp:164 open VIDEOIO(CV_IMAGES): raised OpenCV exception:\n",
      "\n",
      "OpenCV(4.8.0) /io/opencv/modules/videoio/src/cap_images.cpp:267: error: (-215:Assertion failed) number < max_number in function 'icvExtractPattern'\n",
      "\n",
      "\n",
      " 20%|███████████████████████████████                                                                                                                         | 39/191 [00:41<02:58,  1.18s/it][ERROR:0@11137.807] global cap.cpp:164 open VIDEOIO(CV_IMAGES): raised OpenCV exception:\n",
      "\n",
      "OpenCV(4.8.0) /io/opencv/modules/videoio/src/cap_images.cpp:267: error: (-215:Assertion failed) number < max_number in function 'icvExtractPattern'\n",
      "\n",
      "\n",
      " 21%|████████████████████████████████▋                                                                                                                       | 41/191 [00:45<03:52,  1.55s/it][ERROR:0@11143.254] global cap.cpp:164 open VIDEOIO(CV_IMAGES): raised OpenCV exception:\n",
      "\n",
      "OpenCV(4.8.0) /io/opencv/modules/videoio/src/cap_images.cpp:267: error: (-215:Assertion failed) number < max_number in function 'icvExtractPattern'\n",
      "\n",
      "\n",
      " 22%|█████████████████████████████████▍                                                                                                                      | 42/191 [00:46<03:35,  1.44s/it][ERROR:0@11143.256] global cap.cpp:164 open VIDEOIO(CV_IMAGES): raised OpenCV exception:\n",
      "\n",
      "OpenCV(4.8.0) /io/opencv/modules/videoio/src/cap_images.cpp:267: error: (-215:Assertion failed) number < max_number in function 'icvExtractPattern'\n",
      "\n",
      "\n",
      " 23%|███████████████████████████████████                                                                                                                     | 44/191 [00:51<04:13,  1.73s/it][ERROR:0@11148.706] global cap.cpp:164 open VIDEOIO(CV_IMAGES): raised OpenCV exception:\n",
      "\n",
      "OpenCV(4.8.0) /io/opencv/modules/videoio/src/cap_images.cpp:267: error: (-215:Assertion failed) number < max_number in function 'icvExtractPattern'\n",
      "\n",
      "\n",
      " 25%|██████████████████████████████████████▏                                                                                                                 | 48/191 [01:00<05:34,  2.34s/it][ERROR:0@11158.641] global cap.cpp:164 open VIDEOIO(CV_IMAGES): raised OpenCV exception:\n",
      "\n",
      "OpenCV(4.8.0) /io/opencv/modules/videoio/src/cap_images.cpp:267: error: (-215:Assertion failed) number < max_number in function 'icvExtractPattern'\n",
      "\n",
      "\n",
      " 26%|██████████████████████████████████████▉                                                                                                                 | 49/191 [01:02<04:45,  2.01s/it][ERROR:0@11158.643] global cap.cpp:164 open VIDEOIO(CV_IMAGES): raised OpenCV exception:\n",
      "\n",
      "OpenCV(4.8.0) /io/opencv/modules/videoio/src/cap_images.cpp:267: error: (-215:Assertion failed) number < max_number in function 'icvExtractPattern'\n",
      "\n",
      "\n",
      " 27%|████████████████████████████████████████▌                                                                                                               | 51/191 [01:04<03:48,  1.63s/it][ERROR:0@11160.939] global cap.cpp:164 open VIDEOIO(CV_IMAGES): raised OpenCV exception:\n",
      "\n",
      "OpenCV(4.8.0) /io/opencv/modules/videoio/src/cap_images.cpp:267: error: (-215:Assertion failed) number < max_number in function 'icvExtractPattern'\n",
      "\n",
      "\n",
      " 28%|██████████████████████████████████████████▏                                                                                                             | 53/191 [01:10<05:12,  2.26s/it][ERROR:0@11167.471] global cap.cpp:164 open VIDEOIO(CV_IMAGES): raised OpenCV exception:\n",
      "\n",
      "OpenCV(4.8.0) /io/opencv/modules/videoio/src/cap_images.cpp:267: error: (-215:Assertion failed) number < max_number in function 'icvExtractPattern'\n",
      "\n",
      "\n",
      "[ERROR:0@11168.516] global cap.cpp:164 open VIDEOIO(CV_IMAGES): raised OpenCV exception:\n",
      "\n",
      "OpenCV(4.8.0) /io/opencv/modules/videoio/src/cap_images.cpp:267: error: (-215:Assertion failed) number < max_number in function 'icvExtractPattern'\n",
      "\n",
      "\n",
      " 29%|████████████████████████████████████████████▌                                                                                                           | 56/191 [01:17<05:38,  2.50s/it][ERROR:0@11174.412] global cap.cpp:164 open VIDEOIO(CV_IMAGES): raised OpenCV exception:\n",
      "\n",
      "OpenCV(4.8.0) /io/opencv/modules/videoio/src/cap_images.cpp:267: error: (-215:Assertion failed) number < max_number in function 'icvExtractPattern'\n",
      "\n",
      "\n",
      "[ERROR:0@11174.413] global cap.cpp:164 open VIDEOIO(CV_IMAGES): raised OpenCV exception:\n",
      "\n",
      "OpenCV(4.8.0) /io/opencv/modules/videoio/src/cap_images.cpp:267: error: (-215:Assertion failed) number < max_number in function 'icvExtractPattern'\n",
      "\n",
      "\n",
      "[ERROR:0@11174.413] global cap.cpp:164 open VIDEOIO(CV_IMAGES): raised OpenCV exception:\n",
      "\n",
      "OpenCV(4.8.0) /io/opencv/modules/videoio/src/cap_images.cpp:267: error: (-215:Assertion failed) number < max_number in function 'icvExtractPattern'\n",
      "\n",
      "\n",
      "[ERROR:0@11174.414] global cap.cpp:164 open VIDEOIO(CV_IMAGES): raised OpenCV exception:\n",
      "\n",
      "OpenCV(4.8.0) /io/opencv/modules/videoio/src/cap_images.cpp:267: error: (-215:Assertion failed) number < max_number in function 'icvExtractPattern'\n",
      "\n",
      "\n",
      "[ERROR:0@11174.414] global cap.cpp:164 open VIDEOIO(CV_IMAGES): raised OpenCV exception:\n",
      "\n",
      "OpenCV(4.8.0) /io/opencv/modules/videoio/src/cap_images.cpp:267: error: (-215:Assertion failed) number < max_number in function 'icvExtractPattern'\n",
      "\n",
      "\n",
      " 33%|██████████████████████████████████████████████████▏                                                                                                     | 63/191 [01:25<03:38,  1.71s/it][ERROR:0@11182.059] global cap.cpp:164 open VIDEOIO(CV_IMAGES): raised OpenCV exception:\n",
      "\n",
      "OpenCV(4.8.0) /io/opencv/modules/videoio/src/cap_images.cpp:267: error: (-215:Assertion failed) number < max_number in function 'icvExtractPattern'\n",
      "\n",
      "\n",
      "[ERROR:0@11184.218] global cap.cpp:164 open VIDEOIO(CV_IMAGES): raised OpenCV exception:\n",
      "\n",
      "OpenCV(4.8.0) /io/opencv/modules/videoio/src/cap_images.cpp:267: error: (-215:Assertion failed) number < max_number in function 'icvExtractPattern'\n",
      "\n",
      "\n",
      " 34%|███████████████████████████████████████████████████▋                                                                                                    | 65/191 [01:27<03:13,  1.54s/it][ERROR:0@11184.220] global cap.cpp:164 open VIDEOIO(CV_IMAGES): raised OpenCV exception:\n",
      "\n",
      "OpenCV(4.8.0) /io/opencv/modules/videoio/src/cap_images.cpp:267: error: (-215:Assertion failed) number < max_number in function 'icvExtractPattern'\n",
      "\n",
      "\n",
      " 36%|██████████████████████████████████████████████████████▉                                                                                                 | 69/191 [01:43<05:35,  2.75s/it][ERROR:0@11201.195] global cap.cpp:164 open VIDEOIO(CV_IMAGES): raised OpenCV exception:\n",
      "\n",
      "OpenCV(4.8.0) /io/opencv/modules/videoio/src/cap_images.cpp:267: error: (-215:Assertion failed) number < max_number in function 'icvExtractPattern'\n",
      "\n",
      "\n"
     ]
    },
    {
     "name": "stderr",
     "output_type": "stream",
     "text": [
      " 37%|███████████████████████████████████████████████████████▋                                                                                                | 70/191 [01:44<04:48,  2.39s/it][ERROR:0@11202.221] global cap.cpp:164 open VIDEOIO(CV_IMAGES): raised OpenCV exception:\n",
      "\n",
      "OpenCV(4.8.0) /io/opencv/modules/videoio/src/cap_images.cpp:267: error: (-215:Assertion failed) number < max_number in function 'icvExtractPattern'\n",
      "\n",
      "\n",
      " 38%|█████████████████████████████████████████████████████████▎                                                                                              | 72/191 [01:50<05:14,  2.64s/it][ERROR:0@11206.577] global cap.cpp:164 open VIDEOIO(CV_IMAGES): raised OpenCV exception:\n",
      "\n",
      "OpenCV(4.8.0) /io/opencv/modules/videoio/src/cap_images.cpp:267: error: (-215:Assertion failed) number < max_number in function 'icvExtractPattern'\n",
      "\n",
      "\n",
      " 39%|███████████████████████████████████████████████████████████▋                                                                                            | 75/191 [01:56<04:28,  2.31s/it][ERROR:0@11214.204] global cap.cpp:164 open VIDEOIO(CV_IMAGES): raised OpenCV exception:\n",
      "\n",
      "OpenCV(4.8.0) /io/opencv/modules/videoio/src/cap_images.cpp:267: error: (-215:Assertion failed) number < max_number in function 'icvExtractPattern'\n",
      "\n",
      "\n",
      " 40%|████████████████████████████████████████████████████████████▍                                                                                           | 76/191 [01:57<03:51,  2.01s/it][ERROR:0@11214.206] global cap.cpp:164 open VIDEOIO(CV_IMAGES): raised OpenCV exception:\n",
      "\n",
      "OpenCV(4.8.0) /io/opencv/modules/videoio/src/cap_images.cpp:267: error: (-215:Assertion failed) number < max_number in function 'icvExtractPattern'\n",
      "\n",
      "\n",
      "[ERROR:0@11215.296] global cap.cpp:164 open VIDEOIO(CV_IMAGES): raised OpenCV exception:\n",
      "\n",
      "OpenCV(4.8.0) /io/opencv/modules/videoio/src/cap_images.cpp:267: error: (-215:Assertion failed) number < max_number in function 'icvExtractPattern'\n",
      "\n",
      "\n",
      " 42%|███████████████████████████████████████████████████████████████▋                                                                                        | 80/191 [02:04<03:22,  1.82s/it][ERROR:0@11221.737] global cap.cpp:164 open VIDEOIO(CV_IMAGES): raised OpenCV exception:\n",
      "\n",
      "OpenCV(4.8.0) /io/opencv/modules/videoio/src/cap_images.cpp:267: error: (-215:Assertion failed) number < max_number in function 'icvExtractPattern'\n",
      "\n",
      "\n",
      " 42%|████████████████████████████████████████████████████████████████▍                                                                                       | 81/191 [02:05<02:58,  1.62s/it][ERROR:0@11221.738] global cap.cpp:164 open VIDEOIO(CV_IMAGES): raised OpenCV exception:\n",
      "\n",
      "OpenCV(4.8.0) /io/opencv/modules/videoio/src/cap_images.cpp:267: error: (-215:Assertion failed) number < max_number in function 'icvExtractPattern'\n",
      "\n",
      "\n",
      " 43%|██████████████████████████████████████████████████████████████████                                                                                      | 83/191 [02:09<03:22,  1.88s/it][ERROR:0@11226.194] global cap.cpp:164 open VIDEOIO(CV_IMAGES): raised OpenCV exception:\n",
      "\n",
      "OpenCV(4.8.0) /io/opencv/modules/videoio/src/cap_images.cpp:267: error: (-215:Assertion failed) number < max_number in function 'icvExtractPattern'\n",
      "\n",
      "\n",
      "[ERROR:0@11226.195] global cap.cpp:164 open VIDEOIO(CV_IMAGES): raised OpenCV exception:\n",
      "\n",
      "OpenCV(4.8.0) /io/opencv/modules/videoio/src/cap_images.cpp:267: error: (-215:Assertion failed) number < max_number in function 'icvExtractPattern'\n",
      "\n",
      "\n",
      " 46%|█████████████████████████████████████████████████████████████████████▏                                                                                  | 87/191 [02:17<03:33,  2.05s/it][ERROR:0@11234.960] global cap.cpp:164 open VIDEOIO(CV_IMAGES): raised OpenCV exception:\n",
      "\n",
      "OpenCV(4.8.0) /io/opencv/modules/videoio/src/cap_images.cpp:267: error: (-215:Assertion failed) number < max_number in function 'icvExtractPattern'\n",
      "\n",
      "\n",
      " 47%|██████████████████████████████████████████████████████████████████████▊                                                                                 | 89/191 [02:22<04:04,  2.40s/it][ERROR:0@11239.234] global cap.cpp:164 open VIDEOIO(CV_IMAGES): raised OpenCV exception:\n",
      "\n",
      "OpenCV(4.8.0) /io/opencv/modules/videoio/src/cap_images.cpp:267: error: (-215:Assertion failed) number < max_number in function 'icvExtractPattern'\n",
      "\n",
      "\n",
      " 48%|████████████████████████████████████████████████████████████████████████▍                                                                               | 91/191 [02:27<03:55,  2.36s/it][ERROR:0@11243.816] global cap.cpp:164 open VIDEOIO(CV_IMAGES): raised OpenCV exception:\n",
      "\n",
      "OpenCV(4.8.0) /io/opencv/modules/videoio/src/cap_images.cpp:267: error: (-215:Assertion failed) number < max_number in function 'icvExtractPattern'\n",
      "\n",
      "\n",
      "[ERROR:0@11243.817] global cap.cpp:164 open VIDEOIO(CV_IMAGES): raised OpenCV exception:\n",
      "\n",
      "OpenCV(4.8.0) /io/opencv/modules/videoio/src/cap_images.cpp:267: error: (-215:Assertion failed) number < max_number in function 'icvExtractPattern'\n",
      "\n",
      "\n",
      " 49%|██████████████████████████████████████████████████████████████████████████▊                                                                             | 94/191 [02:29<02:37,  1.62s/it][ERROR:0@11247.208] global cap.cpp:164 open VIDEOIO(CV_IMAGES): raised OpenCV exception:\n",
      "\n",
      "OpenCV(4.8.0) /io/opencv/modules/videoio/src/cap_images.cpp:267: error: (-215:Assertion failed) number < max_number in function 'icvExtractPattern'\n",
      "\n",
      "\n",
      " 50%|████████████████████████████████████████████████████████████████████████████▍                                                                           | 96/191 [02:35<03:20,  2.11s/it][ERROR:0@11252.704] global cap.cpp:164 open VIDEOIO(CV_IMAGES): raised OpenCV exception:\n",
      "\n",
      "OpenCV(4.8.0) /io/opencv/modules/videoio/src/cap_images.cpp:267: error: (-215:Assertion failed) number < max_number in function 'icvExtractPattern'\n",
      "\n",
      "\n",
      " 51%|█████████████████████████████████████████████████████████████████████████████▏                                                                          | 97/191 [02:36<02:57,  1.89s/it][ERROR:0@11252.706] global cap.cpp:164 open VIDEOIO(CV_IMAGES): raised OpenCV exception:\n",
      "\n",
      "OpenCV(4.8.0) /io/opencv/modules/videoio/src/cap_images.cpp:267: error: (-215:Assertion failed) number < max_number in function 'icvExtractPattern'\n",
      "\n",
      "\n",
      "[ERROR:0@11252.707] global cap.cpp:164 open VIDEOIO(CV_IMAGES): raised OpenCV exception:\n",
      "\n",
      "OpenCV(4.8.0) /io/opencv/modules/videoio/src/cap_images.cpp:267: error: (-215:Assertion failed) number < max_number in function 'icvExtractPattern'\n",
      "\n",
      "\n",
      " 52%|███████████████████████████████████████████████████████████████████████████████                                                                        | 100/191 [02:38<02:01,  1.33s/it][ERROR:0@11256.070] global cap.cpp:164 open VIDEOIO(CV_IMAGES): raised OpenCV exception:\n",
      "\n",
      "OpenCV(4.8.0) /io/opencv/modules/videoio/src/cap_images.cpp:267: error: (-215:Assertion failed) number < max_number in function 'icvExtractPattern'\n",
      "\n",
      "\n",
      " 53%|████████████████████████████████████████████████████████████████████████████████▋                                                                      | 102/191 [02:41<02:13,  1.50s/it][ERROR:0@11258.365] global cap.cpp:164 open VIDEOIO(CV_IMAGES): raised OpenCV exception:\n",
      "\n",
      "OpenCV(4.8.0) /io/opencv/modules/videoio/src/cap_images.cpp:267: error: (-215:Assertion failed) number < max_number in function 'icvExtractPattern'\n",
      "\n",
      "\n",
      "[ERROR:0@11259.467] global cap.cpp:164 open VIDEOIO(CV_IMAGES): raised OpenCV exception:\n",
      "\n",
      "OpenCV(4.8.0) /io/opencv/modules/videoio/src/cap_images.cpp:267: error: (-215:Assertion failed) number < max_number in function 'icvExtractPattern'\n",
      "\n",
      "\n",
      " 54%|██████████████████████████████████████████████████████████████████████████████████▏                                                                    | 104/191 [02:42<01:39,  1.14s/it][ERROR:0@11259.468] global cap.cpp:164 open VIDEOIO(CV_IMAGES): raised OpenCV exception:\n",
      "\n",
      "OpenCV(4.8.0) /io/opencv/modules/videoio/src/cap_images.cpp:267: error: (-215:Assertion failed) number < max_number in function 'icvExtractPattern'\n",
      "\n",
      "\n",
      "[ERROR:0@11259.469] global cap.cpp:164 open VIDEOIO(CV_IMAGES): raised OpenCV exception:\n",
      "\n",
      "OpenCV(4.8.0) /io/opencv/modules/videoio/src/cap_images.cpp:267: error: (-215:Assertion failed) number < max_number in function 'icvExtractPattern'\n",
      "\n",
      "\n"
     ]
    },
    {
     "name": "stderr",
     "output_type": "stream",
     "text": [
      "[ERROR:0@11260.569] global cap.cpp:164 open VIDEOIO(CV_IMAGES): raised OpenCV exception:\n",
      "\n",
      "OpenCV(4.8.0) /io/opencv/modules/videoio/src/cap_images.cpp:267: error: (-215:Assertion failed) number < max_number in function 'icvExtractPattern'\n",
      "\n",
      "\n",
      " 57%|█████████████████████████████████████████████████████████████████████████████████████▍                                                                 | 108/191 [02:50<02:31,  1.82s/it][ERROR:0@11267.199] global cap.cpp:164 open VIDEOIO(CV_IMAGES): raised OpenCV exception:\n",
      "\n",
      "OpenCV(4.8.0) /io/opencv/modules/videoio/src/cap_images.cpp:267: error: (-215:Assertion failed) number < max_number in function 'icvExtractPattern'\n",
      "\n",
      "\n",
      "[ERROR:0@11267.200] global cap.cpp:164 open VIDEOIO(CV_IMAGES): raised OpenCV exception:\n",
      "\n",
      "OpenCV(4.8.0) /io/opencv/modules/videoio/src/cap_images.cpp:267: error: (-215:Assertion failed) number < max_number in function 'icvExtractPattern'\n",
      "\n",
      "\n",
      " 58%|███████████████████████████████████████████████████████████████████████████████████████▊                                                               | 111/191 [02:55<02:13,  1.67s/it][ERROR:0@11271.594] global cap.cpp:164 open VIDEOIO(CV_IMAGES): raised OpenCV exception:\n",
      "\n",
      "OpenCV(4.8.0) /io/opencv/modules/videoio/src/cap_images.cpp:267: error: (-215:Assertion failed) number < max_number in function 'icvExtractPattern'\n",
      "\n",
      "\n",
      "[ERROR:0@11272.632] global cap.cpp:164 open VIDEOIO(CV_IMAGES): raised OpenCV exception:\n",
      "\n",
      "OpenCV(4.8.0) /io/opencv/modules/videoio/src/cap_images.cpp:267: error: (-215:Assertion failed) number < max_number in function 'icvExtractPattern'\n",
      "\n",
      "\n",
      " 59%|█████████████████████████████████████████████████████████████████████████████████████████▎                                                             | 113/191 [02:56<01:44,  1.33s/it][ERROR:0@11272.633] global cap.cpp:164 open VIDEOIO(CV_IMAGES): raised OpenCV exception:\n",
      "\n",
      "OpenCV(4.8.0) /io/opencv/modules/videoio/src/cap_images.cpp:267: error: (-215:Assertion failed) number < max_number in function 'icvExtractPattern'\n",
      "\n",
      "\n",
      "[ERROR:0@11272.634] global cap.cpp:164 open VIDEOIO(CV_IMAGES): raised OpenCV exception:\n",
      "\n",
      "OpenCV(4.8.0) /io/opencv/modules/videoio/src/cap_images.cpp:267: error: (-215:Assertion failed) number < max_number in function 'icvExtractPattern'\n",
      "\n",
      "\n",
      " 62%|█████████████████████████████████████████████████████████████████████████████████████████████▎                                                         | 118/191 [03:10<03:10,  2.61s/it][ERROR:0@11287.211] global cap.cpp:164 open VIDEOIO(CV_IMAGES): raised OpenCV exception:\n",
      "\n",
      "OpenCV(4.8.0) /io/opencv/modules/videoio/src/cap_images.cpp:267: error: (-215:Assertion failed) number < max_number in function 'icvExtractPattern'\n",
      "\n",
      "\n",
      " 63%|██████████████████████████████████████████████████████████████████████████████████████████████▊                                                        | 120/191 [03:12<02:29,  2.10s/it][ERROR:0@11290.564] global cap.cpp:164 open VIDEOIO(CV_IMAGES): raised OpenCV exception:\n",
      "\n",
      "OpenCV(4.8.0) /io/opencv/modules/videoio/src/cap_images.cpp:267: error: (-215:Assertion failed) number < max_number in function 'icvExtractPattern'\n",
      "\n",
      "\n",
      " 64%|█████████████████████████████████████████████████████████████████████████████████████████████████▏                                                     | 123/191 [03:22<03:19,  2.93s/it][ERROR:0@11299.455] global cap.cpp:164 open VIDEOIO(CV_IMAGES): raised OpenCV exception:\n",
      "\n",
      "OpenCV(4.8.0) /io/opencv/modules/videoio/src/cap_images.cpp:267: error: (-215:Assertion failed) number < max_number in function 'icvExtractPattern'\n",
      "\n",
      "\n",
      " 65%|██████████████████████████████████████████████████████████████████████████████████████████████████▊                                                    | 125/191 [03:27<02:53,  2.63s/it][ERROR:0@11303.845] global cap.cpp:164 open VIDEOIO(CV_IMAGES): raised OpenCV exception:\n",
      "\n",
      "OpenCV(4.8.0) /io/opencv/modules/videoio/src/cap_images.cpp:267: error: (-215:Assertion failed) number < max_number in function 'icvExtractPattern'\n",
      "\n",
      "\n",
      " 68%|█████████████████████████████████████████████████████████████████████████████████████████████████████▉                                                 | 129/191 [03:37<02:38,  2.55s/it][ERROR:0@11315.401] global cap.cpp:164 open VIDEOIO(CV_IMAGES): raised OpenCV exception:\n",
      "\n",
      "OpenCV(4.8.0) /io/opencv/modules/videoio/src/cap_images.cpp:267: error: (-215:Assertion failed) number < max_number in function 'icvExtractPattern'\n",
      "\n",
      "\n",
      " 68%|██████████████████████████████████████████████████████████████████████████████████████████████████████▊                                                | 130/191 [03:38<02:20,  2.31s/it][ERROR:0@11316.011] global cap.cpp:164 open VIDEOIO(CV_IMAGES): raised OpenCV exception:\n",
      "\n",
      "OpenCV(4.8.0) /io/opencv/modules/videoio/src/cap_images.cpp:267: error: (-215:Assertion failed) number < max_number in function 'icvExtractPattern'\n",
      "\n",
      "\n",
      " 69%|███████████████████████████████████████████████████████████████████████████████████████████████████████▌                                               | 131/191 [03:39<01:51,  1.87s/it][ERROR:0@11316.012] global cap.cpp:164 open VIDEOIO(CV_IMAGES): raised OpenCV exception:\n",
      "\n",
      "OpenCV(4.8.0) /io/opencv/modules/videoio/src/cap_images.cpp:267: error: (-215:Assertion failed) number < max_number in function 'icvExtractPattern'\n",
      "\n",
      "\n",
      " 71%|███████████████████████████████████████████████████████████████████████████████████████████████████████████▌                                           | 136/191 [03:53<02:39,  2.90s/it][ERROR:0@11330.236] global cap.cpp:164 open VIDEOIO(CV_IMAGES): raised OpenCV exception:\n",
      "\n",
      "OpenCV(4.8.0) /io/opencv/modules/videoio/src/cap_images.cpp:267: error: (-215:Assertion failed) number < max_number in function 'icvExtractPattern'\n",
      "\n",
      "\n",
      " 72%|█████████████████████████████████████████████████████████████████████████████████████████████████████████████                                          | 138/191 [03:57<02:15,  2.56s/it][ERROR:0@11334.472] global cap.cpp:164 open VIDEOIO(CV_IMAGES): raised OpenCV exception:\n",
      "\n",
      "OpenCV(4.8.0) /io/opencv/modules/videoio/src/cap_images.cpp:267: error: (-215:Assertion failed) number < max_number in function 'icvExtractPattern'\n",
      "\n",
      "\n",
      "[ERROR:0@11334.472] global cap.cpp:164 open VIDEOIO(CV_IMAGES): raised OpenCV exception:\n",
      "\n",
      "OpenCV(4.8.0) /io/opencv/modules/videoio/src/cap_images.cpp:267: error: (-215:Assertion failed) number < max_number in function 'icvExtractPattern'\n",
      "\n",
      "\n",
      " 74%|███████████████████████████████████████████████████████████████████████████████████████████████████████████████▍                                       | 141/191 [04:02<01:42,  2.04s/it][ERROR:0@11338.904] global cap.cpp:164 open VIDEOIO(CV_IMAGES): raised OpenCV exception:\n",
      "\n",
      "OpenCV(4.8.0) /io/opencv/modules/videoio/src/cap_images.cpp:267: error: (-215:Assertion failed) number < max_number in function 'icvExtractPattern'\n",
      "\n",
      "\n",
      "[ERROR:0@11339.960] global cap.cpp:164 open VIDEOIO(CV_IMAGES): raised OpenCV exception:\n",
      "\n",
      "OpenCV(4.8.0) /io/opencv/modules/videoio/src/cap_images.cpp:267: error: (-215:Assertion failed) number < max_number in function 'icvExtractPattern'\n",
      "\n",
      "\n",
      " 76%|██████████████████████████████████████████████████████████████████████████████████████████████████████████████████▋                                    | 145/191 [04:13<02:07,  2.78s/it][ERROR:0@11349.792] global cap.cpp:164 open VIDEOIO(CV_IMAGES): raised OpenCV exception:\n",
      "\n",
      "OpenCV(4.8.0) /io/opencv/modules/videoio/src/cap_images.cpp:267: error: (-215:Assertion failed) number < max_number in function 'icvExtractPattern'\n",
      "\n",
      "\n",
      "[ERROR:0@11350.852] global cap.cpp:164 open VIDEOIO(CV_IMAGES): raised OpenCV exception:\n",
      "\n",
      "OpenCV(4.8.0) /io/opencv/modules/videoio/src/cap_images.cpp:267: error: (-215:Assertion failed) number < max_number in function 'icvExtractPattern'\n",
      "\n",
      "\n",
      " 77%|████████████████████████████████████████████████████████████████████████████████████████████████████████████████████▏                                  | 147/191 [04:14<01:25,  1.94s/it][ERROR:0@11350.853] global cap.cpp:164 open VIDEOIO(CV_IMAGES): raised OpenCV exception:\n",
      "\n",
      "OpenCV(4.8.0) /io/opencv/modules/videoio/src/cap_images.cpp:267: error: (-215:Assertion failed) number < max_number in function 'icvExtractPattern'\n",
      "\n",
      "\n",
      "[ERROR:0@11351.945] global cap.cpp:164 open VIDEOIO(CV_IMAGES): raised OpenCV exception:\n",
      "\n",
      "OpenCV(4.8.0) /io/opencv/modules/videoio/src/cap_images.cpp:267: error: (-215:Assertion failed) number < max_number in function 'icvExtractPattern'\n",
      "\n",
      "\n"
     ]
    },
    {
     "name": "stderr",
     "output_type": "stream",
     "text": [
      " 78%|█████████████████████████████████████████████████████████████████████████████████████████████████████████████████████▊                                 | 149/191 [04:15<01:01,  1.46s/it][ERROR:0@11353.037] global cap.cpp:164 open VIDEOIO(CV_IMAGES): raised OpenCV exception:\n",
      "\n",
      "OpenCV(4.8.0) /io/opencv/modules/videoio/src/cap_images.cpp:267: error: (-215:Assertion failed) number < max_number in function 'icvExtractPattern'\n",
      "\n",
      "\n",
      " 79%|██████████████████████████████████████████████████████████████████████████████████████████████████████████████████████▌                                | 150/191 [04:16<00:56,  1.39s/it][ERROR:0@11353.038] global cap.cpp:164 open VIDEOIO(CV_IMAGES): raised OpenCV exception:\n",
      "\n",
      "OpenCV(4.8.0) /io/opencv/modules/videoio/src/cap_images.cpp:267: error: (-215:Assertion failed) number < max_number in function 'icvExtractPattern'\n",
      "\n",
      "\n",
      " 82%|███████████████████████████████████████████████████████████████████████████████████████████████████████████████████████████▎                           | 156/191 [04:31<01:19,  2.26s/it][ERROR:0@11368.150] global cap.cpp:164 open VIDEOIO(CV_IMAGES): raised OpenCV exception:\n",
      "\n",
      "OpenCV(4.8.0) /io/opencv/modules/videoio/src/cap_images.cpp:267: error: (-215:Assertion failed) number < max_number in function 'icvExtractPattern'\n",
      "\n",
      "\n",
      "[ERROR:0@11369.307] global cap.cpp:164 open VIDEOIO(CV_IMAGES): raised OpenCV exception:\n",
      "\n",
      "OpenCV(4.8.0) /io/opencv/modules/videoio/src/cap_images.cpp:267: error: (-215:Assertion failed) number < max_number in function 'icvExtractPattern'\n",
      "\n",
      "\n",
      " 83%|████████████████████████████████████████████████████████████████████████████████████████████████████████████████████████████▉                          | 158/191 [04:32<00:50,  1.54s/it][ERROR:0@11369.308] global cap.cpp:164 open VIDEOIO(CV_IMAGES): raised OpenCV exception:\n",
      "\n",
      "OpenCV(4.8.0) /io/opencv/modules/videoio/src/cap_images.cpp:267: error: (-215:Assertion failed) number < max_number in function 'icvExtractPattern'\n",
      "\n",
      "\n",
      "[ERROR:0@11370.465] global cap.cpp:164 open VIDEOIO(CV_IMAGES): raised OpenCV exception:\n",
      "\n",
      "OpenCV(4.8.0) /io/opencv/modules/videoio/src/cap_images.cpp:267: error: (-215:Assertion failed) number < max_number in function 'icvExtractPattern'\n",
      "\n",
      "\n",
      " 85%|████████████████████████████████████████████████████████████████████████████████████████████████████████████████████████████████                       | 162/191 [04:38<00:46,  1.60s/it][ERROR:0@11374.937] global cap.cpp:164 open VIDEOIO(CV_IMAGES): raised OpenCV exception:\n",
      "\n",
      "OpenCV(4.8.0) /io/opencv/modules/videoio/src/cap_images.cpp:267: error: (-215:Assertion failed) number < max_number in function 'icvExtractPattern'\n",
      "\n",
      "\n",
      "[ERROR:0@11374.937] global cap.cpp:164 open VIDEOIO(CV_IMAGES): raised OpenCV exception:\n",
      "\n",
      "OpenCV(4.8.0) /io/opencv/modules/videoio/src/cap_images.cpp:267: error: (-215:Assertion failed) number < max_number in function 'icvExtractPattern'\n",
      "\n",
      "\n",
      " 87%|███████████████████████████████████████████████████████████████████████████████████████████████████████████████████████████████████▏                   | 166/191 [04:46<00:46,  1.88s/it][ERROR:0@11382.714] global cap.cpp:164 open VIDEOIO(CV_IMAGES): raised OpenCV exception:\n",
      "\n",
      "OpenCV(4.8.0) /io/opencv/modules/videoio/src/cap_images.cpp:267: error: (-215:Assertion failed) number < max_number in function 'icvExtractPattern'\n",
      "\n",
      "\n",
      " 88%|████████████████████████████████████████████████████████████████████████████████████████████████████████████████████████████████████▊                  | 168/191 [04:47<00:32,  1.42s/it][ERROR:0@11384.896] global cap.cpp:164 open VIDEOIO(CV_IMAGES): raised OpenCV exception:\n",
      "\n",
      "OpenCV(4.8.0) /io/opencv/modules/videoio/src/cap_images.cpp:267: error: (-215:Assertion failed) number < max_number in function 'icvExtractPattern'\n",
      "\n",
      "\n",
      " 88%|█████████████████████████████████████████████████████████████████████████████████████████████████████████████████████████████████████▌                 | 169/191 [04:48<00:29,  1.34s/it][ERROR:0@11384.898] global cap.cpp:164 open VIDEOIO(CV_IMAGES): raised OpenCV exception:\n",
      "\n",
      "OpenCV(4.8.0) /io/opencv/modules/videoio/src/cap_images.cpp:267: error: (-215:Assertion failed) number < max_number in function 'icvExtractPattern'\n",
      "\n",
      "\n",
      "[ERROR:0@11384.899] global cap.cpp:164 open VIDEOIO(CV_IMAGES): raised OpenCV exception:\n",
      "\n",
      "OpenCV(4.8.0) /io/opencv/modules/videoio/src/cap_images.cpp:267: error: (-215:Assertion failed) number < max_number in function 'icvExtractPattern'\n",
      "\n",
      "\n",
      "[ERROR:0@11385.945] global cap.cpp:164 open VIDEOIO(CV_IMAGES): raised OpenCV exception:\n",
      "\n",
      "OpenCV(4.8.0) /io/opencv/modules/videoio/src/cap_images.cpp:267: error: (-215:Assertion failed) number < max_number in function 'icvExtractPattern'\n",
      "\n",
      "\n",
      " 90%|███████████████████████████████████████████████████████████████████████████████████████████████████████████████████████████████████████▉               | 172/191 [04:49<00:16,  1.14it/s][ERROR:0@11385.947] global cap.cpp:164 open VIDEOIO(CV_IMAGES): raised OpenCV exception:\n",
      "\n",
      "OpenCV(4.8.0) /io/opencv/modules/videoio/src/cap_images.cpp:267: error: (-215:Assertion failed) number < max_number in function 'icvExtractPattern'\n",
      "\n",
      "\n",
      "[ERROR:0@11387.049] global cap.cpp:164 open VIDEOIO(CV_IMAGES): raised OpenCV exception:\n",
      "\n",
      "OpenCV(4.8.0) /io/opencv/modules/videoio/src/cap_images.cpp:267: error: (-215:Assertion failed) number < max_number in function 'icvExtractPattern'\n",
      "\n",
      "\n",
      " 93%|████████████████████████████████████████████████████████████████████████████████████████████████████████████████████████████████████████████▋          | 178/191 [05:04<00:29,  2.31s/it][ERROR:0@11400.886] global cap.cpp:164 open VIDEOIO(CV_IMAGES): raised OpenCV exception:\n",
      "\n",
      "OpenCV(4.8.0) /io/opencv/modules/videoio/src/cap_images.cpp:267: error: (-215:Assertion failed) number < max_number in function 'icvExtractPattern'\n",
      "\n",
      "\n",
      "[ERROR:0@11402.026] global cap.cpp:164 open VIDEOIO(CV_IMAGES): raised OpenCV exception:\n",
      "\n",
      "OpenCV(4.8.0) /io/opencv/modules/videoio/src/cap_images.cpp:267: error: (-215:Assertion failed) number < max_number in function 'icvExtractPattern'\n",
      "\n",
      "\n",
      " 94%|██████████████████████████████████████████████████████████████████████████████████████████████████████████████████████████████████████████████▎        | 180/191 [05:05<00:17,  1.59s/it][ERROR:0@11402.027] global cap.cpp:164 open VIDEOIO(CV_IMAGES): raised OpenCV exception:\n",
      "\n",
      "OpenCV(4.8.0) /io/opencv/modules/videoio/src/cap_images.cpp:267: error: (-215:Assertion failed) number < max_number in function 'icvExtractPattern'\n",
      "\n",
      "\n",
      " 96%|█████████████████████████████████████████████████████████████████████████████████████████████████████████████████████████████████████████████████▍     | 184/191 [05:17<00:17,  2.45s/it][ERROR:0@11415.567] global cap.cpp:164 open VIDEOIO(CV_IMAGES): raised OpenCV exception:\n",
      "\n",
      "OpenCV(4.8.0) /io/opencv/modules/videoio/src/cap_images.cpp:267: error: (-215:Assertion failed) number < max_number in function 'icvExtractPattern'\n",
      "\n",
      "\n",
      " 97%|██████████████████████████████████████████████████████████████████████████████████████████████████████████████████████████████████████████████████▎    | 185/191 [05:19<00:12,  2.11s/it][ERROR:0@11415.569] global cap.cpp:164 open VIDEOIO(CV_IMAGES): raised OpenCV exception:\n",
      "\n",
      "OpenCV(4.8.0) /io/opencv/modules/videoio/src/cap_images.cpp:267: error: (-215:Assertion failed) number < max_number in function 'icvExtractPattern'\n",
      "\n",
      "\n",
      " 98%|███████████████████████████████████████████████████████████████████████████████████████████████████████████████████████████████████████████████████▊   | 187/191 [05:23<00:08,  2.18s/it][ERROR:0@11420.148] global cap.cpp:164 open VIDEOIO(CV_IMAGES): raised OpenCV exception:\n",
      "\n",
      "OpenCV(4.8.0) /io/opencv/modules/videoio/src/cap_images.cpp:267: error: (-215:Assertion failed) number < max_number in function 'icvExtractPattern'\n",
      "\n",
      "\n",
      "[ERROR:0@11420.148] global cap.cpp:164 open VIDEOIO(CV_IMAGES): raised OpenCV exception:\n",
      "\n",
      "OpenCV(4.8.0) /io/opencv/modules/videoio/src/cap_images.cpp:267: error: (-215:Assertion failed) number < max_number in function 'icvExtractPattern'\n",
      "\n",
      "\n",
      "[ERROR:0@11421.297] global cap.cpp:164 open VIDEOIO(CV_IMAGES): raised OpenCV exception:\n",
      "\n",
      "OpenCV(4.8.0) /io/opencv/modules/videoio/src/cap_images.cpp:267: error: (-215:Assertion failed) number < max_number in function 'icvExtractPattern'\n",
      "\n",
      "\n"
     ]
    },
    {
     "name": "stderr",
     "output_type": "stream",
     "text": [
      " 99%|██████████████████████████████████████████████████████████████████████████████████████████████████████████████████████████████████████████████████████▏| 190/191 [05:24<00:01,  1.34s/it][ERROR:0@11421.299] global cap.cpp:164 open VIDEOIO(CV_IMAGES): raised OpenCV exception:\n",
      "\n",
      "OpenCV(4.8.0) /io/opencv/modules/videoio/src/cap_images.cpp:267: error: (-215:Assertion failed) number < max_number in function 'icvExtractPattern'\n",
      "\n",
      "\n",
      "[ERROR:0@11422.376] global cap.cpp:164 open VIDEOIO(CV_IMAGES): raised OpenCV exception:\n",
      "\n",
      "OpenCV(4.8.0) /io/opencv/modules/videoio/src/cap_images.cpp:267: error: (-215:Assertion failed) number < max_number in function 'icvExtractPattern'\n",
      "\n",
      "\n",
      "100%|███████████████████████████████████████████████████████████████████████████████████████████████████████████████████████████████████████████████████████| 191/191 [05:25<00:00,  1.71s/it]\n"
     ]
    }
   ],
   "source": [
    "tqdm.pandas()\n",
    "valdf['Frames'] = valdf['Path'].progress_apply(frames_from_file)"
   ]
  },
  {
   "cell_type": "code",
   "execution_count": 292,
   "id": "240e0936",
   "metadata": {
    "ExecuteTime": {
     "end_time": "2023-08-04T12:48:29.410551Z",
     "start_time": "2023-08-04T12:48:29.407658Z"
    }
   },
   "outputs": [],
   "source": [
    "traindf['Frames'] = traindf['Frames'].astype('int')"
   ]
  },
  {
   "cell_type": "code",
   "execution_count": 293,
   "id": "87551a0c",
   "metadata": {
    "ExecuteTime": {
     "end_time": "2023-08-04T12:48:30.069082Z",
     "start_time": "2023-08-04T12:48:30.064813Z"
    }
   },
   "outputs": [
    {
     "data": {
      "text/plain": [
       "337"
      ]
     },
     "execution_count": 293,
     "metadata": {},
     "output_type": "execute_result"
    }
   ],
   "source": [
    "traindf['Frames'].max()"
   ]
  },
  {
   "cell_type": "code",
   "execution_count": 291,
   "id": "348da908",
   "metadata": {
    "ExecuteTime": {
     "end_time": "2023-08-04T12:48:26.173418Z",
     "start_time": "2023-08-04T12:48:26.164123Z"
    }
   },
   "outputs": [
    {
     "data": {
      "text/html": [
       "<div>\n",
       "<style scoped>\n",
       "    .dataframe tbody tr th:only-of-type {\n",
       "        vertical-align: middle;\n",
       "    }\n",
       "\n",
       "    .dataframe tbody tr th {\n",
       "        vertical-align: top;\n",
       "    }\n",
       "\n",
       "    .dataframe thead th {\n",
       "        text-align: right;\n",
       "    }\n",
       "</style>\n",
       "<table border=\"1\" class=\"dataframe\">\n",
       "  <thead>\n",
       "    <tr style=\"text-align: right;\">\n",
       "      <th></th>\n",
       "      <th>Participant ID</th>\n",
       "      <th>Video file</th>\n",
       "      <th>Gloss</th>\n",
       "      <th>ASL-LEX Code</th>\n",
       "      <th>Path</th>\n",
       "      <th>frequency</th>\n",
       "      <th>Frames</th>\n",
       "    </tr>\n",
       "  </thead>\n",
       "  <tbody>\n",
       "    <tr>\n",
       "      <th>0</th>\n",
       "      <td>P52</td>\n",
       "      <td>07157565148825373-seedAXE.mp4</td>\n",
       "      <td>AXE1</td>\n",
       "      <td>G_03_066</td>\n",
       "      <td>file:///media/kristian/HDD/ASL_Citizen/ASL_Cit...</td>\n",
       "      <td>19</td>\n",
       "      <td>100</td>\n",
       "    </tr>\n",
       "    <tr>\n",
       "      <th>1</th>\n",
       "      <td>P28</td>\n",
       "      <td>7179300005186042-AXE.mp4</td>\n",
       "      <td>AXE1</td>\n",
       "      <td>G_03_066</td>\n",
       "      <td>file:///media/kristian/HDD/ASL_Citizen/ASL_Cit...</td>\n",
       "      <td>19</td>\n",
       "      <td>0</td>\n",
       "    </tr>\n",
       "    <tr>\n",
       "      <th>2</th>\n",
       "      <td>P29</td>\n",
       "      <td>16216064841959765-AXE.mp4</td>\n",
       "      <td>AXE1</td>\n",
       "      <td>G_03_066</td>\n",
       "      <td>file:///media/kristian/HDD/ASL_Citizen/ASL_Cit...</td>\n",
       "      <td>19</td>\n",
       "      <td>0</td>\n",
       "    </tr>\n",
       "    <tr>\n",
       "      <th>3</th>\n",
       "      <td>P37</td>\n",
       "      <td>6193814382865199-AXE.mp4</td>\n",
       "      <td>AXE1</td>\n",
       "      <td>G_03_066</td>\n",
       "      <td>file:///media/kristian/HDD/ASL_Citizen/ASL_Cit...</td>\n",
       "      <td>19</td>\n",
       "      <td>0</td>\n",
       "    </tr>\n",
       "    <tr>\n",
       "      <th>4</th>\n",
       "      <td>P40</td>\n",
       "      <td>5947453960317015-AXE.mp4</td>\n",
       "      <td>AXE1</td>\n",
       "      <td>G_03_066</td>\n",
       "      <td>file:///media/kristian/HDD/ASL_Citizen/ASL_Cit...</td>\n",
       "      <td>19</td>\n",
       "      <td>0</td>\n",
       "    </tr>\n",
       "  </tbody>\n",
       "</table>\n",
       "</div>"
      ],
      "text/plain": [
       "  Participant ID                     Video file Gloss ASL-LEX Code  \\\n",
       "0            P52  07157565148825373-seedAXE.mp4  AXE1     G_03_066   \n",
       "1            P28       7179300005186042-AXE.mp4  AXE1     G_03_066   \n",
       "2            P29      16216064841959765-AXE.mp4  AXE1     G_03_066   \n",
       "3            P37       6193814382865199-AXE.mp4  AXE1     G_03_066   \n",
       "4            P40       5947453960317015-AXE.mp4  AXE1     G_03_066   \n",
       "\n",
       "                                                Path  frequency  Frames  \n",
       "0  file:///media/kristian/HDD/ASL_Citizen/ASL_Cit...         19     100  \n",
       "1  file:///media/kristian/HDD/ASL_Citizen/ASL_Cit...         19       0  \n",
       "2  file:///media/kristian/HDD/ASL_Citizen/ASL_Cit...         19       0  \n",
       "3  file:///media/kristian/HDD/ASL_Citizen/ASL_Cit...         19       0  \n",
       "4  file:///media/kristian/HDD/ASL_Citizen/ASL_Cit...         19       0  "
      ]
     },
     "execution_count": 291,
     "metadata": {},
     "output_type": "execute_result"
    }
   ],
   "source": [
    "traindf.head()"
   ]
  },
  {
   "cell_type": "code",
   "execution_count": 129,
   "id": "55f0bfc1",
   "metadata": {
    "ExecuteTime": {
     "end_time": "2023-07-29T12:26:45.962096Z",
     "start_time": "2023-07-29T09:30:20.522887Z"
    }
   },
   "outputs": [
    {
     "name": "stderr",
     "output_type": "stream",
     "text": [
      "100%|████████████████████████████████████| 1405/1405 [2:56:25<00:00,  7.53s/it]\n"
     ]
    }
   ],
   "source": [
    "keypoints_series = video_df['path'].progress_apply(extract_keypoints_from_file)"
   ]
  },
  {
   "cell_type": "code",
   "execution_count": 130,
   "id": "e614bc50",
   "metadata": {
    "ExecuteTime": {
     "end_time": "2023-07-29T18:14:17.624274Z",
     "start_time": "2023-07-29T18:14:17.617907Z"
    }
   },
   "outputs": [
    {
     "data": {
      "text/plain": [
       "(1405,)"
      ]
     },
     "execution_count": 130,
     "metadata": {},
     "output_type": "execute_result"
    }
   ],
   "source": [
    "keypoints_series.shape"
   ]
  },
  {
   "cell_type": "code",
   "execution_count": 131,
   "id": "e1248da2",
   "metadata": {
    "ExecuteTime": {
     "end_time": "2023-07-29T18:14:19.814922Z",
     "start_time": "2023-07-29T18:14:19.809151Z"
    }
   },
   "outputs": [
    {
     "data": {
      "text/plain": [
       "212"
      ]
     },
     "execution_count": 131,
     "metadata": {},
     "output_type": "execute_result"
    }
   ],
   "source": [
    "max(keypoints.shape[0] for keypoints in keypoints_series)"
   ]
  },
  {
   "cell_type": "code",
   "execution_count": 132,
   "id": "e0706526",
   "metadata": {
    "ExecuteTime": {
     "end_time": "2023-07-29T18:14:21.502914Z",
     "start_time": "2023-07-29T18:14:21.496712Z"
    }
   },
   "outputs": [
    {
     "data": {
      "text/plain": [
       "17"
      ]
     },
     "execution_count": 132,
     "metadata": {},
     "output_type": "execute_result"
    }
   ],
   "source": [
    "min(keypoints.shape[0] for keypoints in keypoints_series)\n"
   ]
  },
  {
   "cell_type": "code",
   "execution_count": 52,
   "id": "5777338f",
   "metadata": {
    "ExecuteTime": {
     "end_time": "2023-08-03T10:14:05.424197Z",
     "start_time": "2023-08-03T10:14:05.420389Z"
    }
   },
   "outputs": [],
   "source": [
    "max_len = video_df['frames'].max()"
   ]
  },
  {
   "cell_type": "code",
   "execution_count": 298,
   "id": "820663c1",
   "metadata": {
    "ExecuteTime": {
     "end_time": "2023-08-04T12:58:16.242523Z",
     "start_time": "2023-08-04T12:58:16.227628Z"
    }
   },
   "outputs": [
    {
     "data": {
      "text/html": [
       "<div>\n",
       "<style scoped>\n",
       "    .dataframe tbody tr th:only-of-type {\n",
       "        vertical-align: middle;\n",
       "    }\n",
       "\n",
       "    .dataframe tbody tr th {\n",
       "        vertical-align: top;\n",
       "    }\n",
       "\n",
       "    .dataframe thead th {\n",
       "        text-align: right;\n",
       "    }\n",
       "</style>\n",
       "<table border=\"1\" class=\"dataframe\">\n",
       "  <thead>\n",
       "    <tr style=\"text-align: right;\">\n",
       "      <th></th>\n",
       "      <th>frequency</th>\n",
       "      <th>Frames</th>\n",
       "    </tr>\n",
       "  </thead>\n",
       "  <tbody>\n",
       "    <tr>\n",
       "      <th>count</th>\n",
       "      <td>191.000000</td>\n",
       "      <td>191.000000</td>\n",
       "    </tr>\n",
       "    <tr>\n",
       "      <th>mean</th>\n",
       "      <td>3.963351</td>\n",
       "      <td>36.020942</td>\n",
       "    </tr>\n",
       "    <tr>\n",
       "      <th>std</th>\n",
       "      <td>0.770316</td>\n",
       "      <td>51.732608</td>\n",
       "    </tr>\n",
       "    <tr>\n",
       "      <th>min</th>\n",
       "      <td>3.000000</td>\n",
       "      <td>0.000000</td>\n",
       "    </tr>\n",
       "    <tr>\n",
       "      <th>25%</th>\n",
       "      <td>3.000000</td>\n",
       "      <td>0.000000</td>\n",
       "    </tr>\n",
       "    <tr>\n",
       "      <th>50%</th>\n",
       "      <td>4.000000</td>\n",
       "      <td>0.000000</td>\n",
       "    </tr>\n",
       "    <tr>\n",
       "      <th>75%</th>\n",
       "      <td>4.000000</td>\n",
       "      <td>64.500000</td>\n",
       "    </tr>\n",
       "    <tr>\n",
       "      <th>max</th>\n",
       "      <td>6.000000</td>\n",
       "      <td>170.000000</td>\n",
       "    </tr>\n",
       "  </tbody>\n",
       "</table>\n",
       "</div>"
      ],
      "text/plain": [
       "        frequency      Frames\n",
       "count  191.000000  191.000000\n",
       "mean     3.963351   36.020942\n",
       "std      0.770316   51.732608\n",
       "min      3.000000    0.000000\n",
       "25%      3.000000    0.000000\n",
       "50%      4.000000    0.000000\n",
       "75%      4.000000   64.500000\n",
       "max      6.000000  170.000000"
      ]
     },
     "execution_count": 298,
     "metadata": {},
     "output_type": "execute_result"
    }
   ],
   "source": [
    "valdf.describe()"
   ]
  },
  {
   "cell_type": "code",
   "execution_count": 296,
   "id": "ad0329f9",
   "metadata": {
    "ExecuteTime": {
     "end_time": "2023-08-04T12:49:42.660522Z",
     "start_time": "2023-08-04T12:49:42.648729Z"
    }
   },
   "outputs": [
    {
     "data": {
      "text/html": [
       "<div>\n",
       "<style scoped>\n",
       "    .dataframe tbody tr th:only-of-type {\n",
       "        vertical-align: middle;\n",
       "    }\n",
       "\n",
       "    .dataframe tbody tr th {\n",
       "        vertical-align: top;\n",
       "    }\n",
       "\n",
       "    .dataframe thead th {\n",
       "        text-align: right;\n",
       "    }\n",
       "</style>\n",
       "<table border=\"1\" class=\"dataframe\">\n",
       "  <thead>\n",
       "    <tr style=\"text-align: right;\">\n",
       "      <th></th>\n",
       "      <th>Participant ID</th>\n",
       "      <th>Video file</th>\n",
       "      <th>Gloss</th>\n",
       "      <th>ASL-LEX Code</th>\n",
       "      <th>Path</th>\n",
       "      <th>frequency</th>\n",
       "      <th>Frames</th>\n",
       "    </tr>\n",
       "  </thead>\n",
       "  <tbody>\n",
       "    <tr>\n",
       "      <th>293</th>\n",
       "      <td>P37</td>\n",
       "      <td>7262160429010622-DINNER.mp4</td>\n",
       "      <td>DINNER1</td>\n",
       "      <td>G_03_044</td>\n",
       "      <td>file:///media/kristian/HDD/ASL_Citizen/ASL_Cit...</td>\n",
       "      <td>18</td>\n",
       "      <td>77</td>\n",
       "    </tr>\n",
       "    <tr>\n",
       "      <th>930</th>\n",
       "      <td>P37</td>\n",
       "      <td>6237575353180616-WHAT FOR.mp4</td>\n",
       "      <td>WHATFOR1</td>\n",
       "      <td>C_02_054</td>\n",
       "      <td>file:///media/kristian/HDD/ASL_Citizen/ASL_Cit...</td>\n",
       "      <td>20</td>\n",
       "      <td>0</td>\n",
       "    </tr>\n",
       "    <tr>\n",
       "      <th>895</th>\n",
       "      <td>P40</td>\n",
       "      <td>7717057217254395-THEY.mp4</td>\n",
       "      <td>THEY1</td>\n",
       "      <td>F_02_103</td>\n",
       "      <td>file:///media/kristian/HDD/ASL_Citizen/ASL_Cit...</td>\n",
       "      <td>18</td>\n",
       "      <td>0</td>\n",
       "    </tr>\n",
       "    <tr>\n",
       "      <th>324</th>\n",
       "      <td>P29</td>\n",
       "      <td>5465905150307049-DOG.mp4</td>\n",
       "      <td>DOG1</td>\n",
       "      <td>A_01_056</td>\n",
       "      <td>file:///media/kristian/HDD/ASL_Citizen/ASL_Cit...</td>\n",
       "      <td>24</td>\n",
       "      <td>0</td>\n",
       "    </tr>\n",
       "    <tr>\n",
       "      <th>768</th>\n",
       "      <td>P37</td>\n",
       "      <td>7753126798089989-PATIENT 2.mp4</td>\n",
       "      <td>PATIENT2</td>\n",
       "      <td>B_01_085</td>\n",
       "      <td>file:///media/kristian/HDD/ASL_Citizen/ASL_Cit...</td>\n",
       "      <td>19</td>\n",
       "      <td>56</td>\n",
       "    </tr>\n",
       "    <tr>\n",
       "      <th>727</th>\n",
       "      <td>P40</td>\n",
       "      <td>8667743378159272-NOON.mp4</td>\n",
       "      <td>NOON1</td>\n",
       "      <td>G_02_014</td>\n",
       "      <td>file:///media/kristian/HDD/ASL_Citizen/ASL_Cit...</td>\n",
       "      <td>19</td>\n",
       "      <td>0</td>\n",
       "    </tr>\n",
       "    <tr>\n",
       "      <th>440</th>\n",
       "      <td>P33</td>\n",
       "      <td>07214322840682375-FINE.mp4</td>\n",
       "      <td>FINE1</td>\n",
       "      <td>C_01_043</td>\n",
       "      <td>file:///media/kristian/HDD/ASL_Citizen/ASL_Cit...</td>\n",
       "      <td>19</td>\n",
       "      <td>0</td>\n",
       "    </tr>\n",
       "    <tr>\n",
       "      <th>119</th>\n",
       "      <td>P50</td>\n",
       "      <td>7717758625736204-BREAKFAST.mp4</td>\n",
       "      <td>BREAKFAST1</td>\n",
       "      <td>J_01_053</td>\n",
       "      <td>file:///media/kristian/HDD/ASL_Citizen/ASL_Cit...</td>\n",
       "      <td>21</td>\n",
       "      <td>0</td>\n",
       "    </tr>\n",
       "    <tr>\n",
       "      <th>541</th>\n",
       "      <td>P29</td>\n",
       "      <td>02514324335585849-HURDLE-TRIP.mp4</td>\n",
       "      <td>HURDLE/TRIP1</td>\n",
       "      <td>G_01_036</td>\n",
       "      <td>file:///media/kristian/HDD/ASL_Citizen/ASL_Cit...</td>\n",
       "      <td>22</td>\n",
       "      <td>0</td>\n",
       "    </tr>\n",
       "    <tr>\n",
       "      <th>534</th>\n",
       "      <td>P29</td>\n",
       "      <td>5903218158401913-HOSPITAL.mp4</td>\n",
       "      <td>HOSPITAL1</td>\n",
       "      <td>B_02_026</td>\n",
       "      <td>file:///media/kristian/HDD/ASL_Citizen/ASL_Cit...</td>\n",
       "      <td>18</td>\n",
       "      <td>0</td>\n",
       "    </tr>\n",
       "    <tr>\n",
       "      <th>816</th>\n",
       "      <td>P33</td>\n",
       "      <td>5360642687333399-RIVER.mp4</td>\n",
       "      <td>RIVER1</td>\n",
       "      <td>A_03_035</td>\n",
       "      <td>file:///media/kristian/HDD/ASL_Citizen/ASL_Cit...</td>\n",
       "      <td>19</td>\n",
       "      <td>0</td>\n",
       "    </tr>\n",
       "    <tr>\n",
       "      <th>651</th>\n",
       "      <td>P27</td>\n",
       "      <td>09876439206400178-MEAT.mp4</td>\n",
       "      <td>MEAT1</td>\n",
       "      <td>D_02_022</td>\n",
       "      <td>file:///media/kristian/HDD/ASL_Citizen/ASL_Cit...</td>\n",
       "      <td>18</td>\n",
       "      <td>0</td>\n",
       "    </tr>\n",
       "    <tr>\n",
       "      <th>248</th>\n",
       "      <td>P52</td>\n",
       "      <td>7176496996122961-seedDECIDE.mp4</td>\n",
       "      <td>DECIDE1</td>\n",
       "      <td>B_02_074</td>\n",
       "      <td>file:///media/kristian/HDD/ASL_Citizen/ASL_Cit...</td>\n",
       "      <td>20</td>\n",
       "      <td>136</td>\n",
       "    </tr>\n",
       "    <tr>\n",
       "      <th>118</th>\n",
       "      <td>P16</td>\n",
       "      <td>28121654798077556-BREAKFAST.mp4</td>\n",
       "      <td>BREAKFAST1</td>\n",
       "      <td>J_01_053</td>\n",
       "      <td>file:///media/kristian/HDD/ASL_Citizen/ASL_Cit...</td>\n",
       "      <td>21</td>\n",
       "      <td>0</td>\n",
       "    </tr>\n",
       "    <tr>\n",
       "      <th>71</th>\n",
       "      <td>P32</td>\n",
       "      <td>11711757232107178-BEE.mp4</td>\n",
       "      <td>BEE1</td>\n",
       "      <td>J_02_101</td>\n",
       "      <td>file:///media/kristian/HDD/ASL_Citizen/ASL_Cit...</td>\n",
       "      <td>19</td>\n",
       "      <td>0</td>\n",
       "    </tr>\n",
       "    <tr>\n",
       "      <th>780</th>\n",
       "      <td>P40</td>\n",
       "      <td>21338949344886227-PATIENT 2.mp4</td>\n",
       "      <td>PATIENT2</td>\n",
       "      <td>B_01_085</td>\n",
       "      <td>file:///media/kristian/HDD/ASL_Citizen/ASL_Cit...</td>\n",
       "      <td>19</td>\n",
       "      <td>0</td>\n",
       "    </tr>\n",
       "    <tr>\n",
       "      <th>198</th>\n",
       "      <td>P37</td>\n",
       "      <td>5874541618160627-DARK.mp4</td>\n",
       "      <td>DARK1</td>\n",
       "      <td>J_03_094</td>\n",
       "      <td>file:///media/kristian/HDD/ASL_Citizen/ASL_Cit...</td>\n",
       "      <td>21</td>\n",
       "      <td>0</td>\n",
       "    </tr>\n",
       "    <tr>\n",
       "      <th>282</th>\n",
       "      <td>P37</td>\n",
       "      <td>06281926263685134-DEVELOP.mp4</td>\n",
       "      <td>DEVELOP1</td>\n",
       "      <td>J_03_092</td>\n",
       "      <td>file:///media/kristian/HDD/ASL_Citizen/ASL_Cit...</td>\n",
       "      <td>19</td>\n",
       "      <td>0</td>\n",
       "    </tr>\n",
       "    <tr>\n",
       "      <th>453</th>\n",
       "      <td>P10</td>\n",
       "      <td>8231785096149529-FLOAT 3.mp4</td>\n",
       "      <td>FLOAT1</td>\n",
       "      <td>K_01_082</td>\n",
       "      <td>file:///media/kristian/HDD/ASL_Citizen/ASL_Cit...</td>\n",
       "      <td>18</td>\n",
       "      <td>0</td>\n",
       "    </tr>\n",
       "    <tr>\n",
       "      <th>786</th>\n",
       "      <td>P27</td>\n",
       "      <td>4255829936145523-RAZOR 2.mp4</td>\n",
       "      <td>RAZOR2</td>\n",
       "      <td>K_03_103</td>\n",
       "      <td>file:///media/kristian/HDD/ASL_Citizen/ASL_Cit...</td>\n",
       "      <td>18</td>\n",
       "      <td>0</td>\n",
       "    </tr>\n",
       "    <tr>\n",
       "      <th>834</th>\n",
       "      <td>P51</td>\n",
       "      <td>9596563070505133-ROCKING CHAIR.mp4</td>\n",
       "      <td>ROCKINGCHAIR1</td>\n",
       "      <td>G_01_010</td>\n",
       "      <td>file:///media/kristian/HDD/ASL_Citizen/ASL_Cit...</td>\n",
       "      <td>20</td>\n",
       "      <td>0</td>\n",
       "    </tr>\n",
       "    <tr>\n",
       "      <th>733</th>\n",
       "      <td>P36</td>\n",
       "      <td>3567776249024257-NOON.mp4</td>\n",
       "      <td>NOON1</td>\n",
       "      <td>G_02_014</td>\n",
       "      <td>file:///media/kristian/HDD/ASL_Citizen/ASL_Cit...</td>\n",
       "      <td>19</td>\n",
       "      <td>74</td>\n",
       "    </tr>\n",
       "    <tr>\n",
       "      <th>232</th>\n",
       "      <td>P16</td>\n",
       "      <td>5966497138153777-DEAF.mp4</td>\n",
       "      <td>DEAF1</td>\n",
       "      <td>F_03_038</td>\n",
       "      <td>file:///media/kristian/HDD/ASL_Citizen/ASL_Cit...</td>\n",
       "      <td>20</td>\n",
       "      <td>54</td>\n",
       "    </tr>\n",
       "    <tr>\n",
       "      <th>299</th>\n",
       "      <td>P40</td>\n",
       "      <td>6584846911041882-DINNER.mp4</td>\n",
       "      <td>DINNER1</td>\n",
       "      <td>G_03_044</td>\n",
       "      <td>file:///media/kristian/HDD/ASL_Citizen/ASL_Cit...</td>\n",
       "      <td>18</td>\n",
       "      <td>105</td>\n",
       "    </tr>\n",
       "    <tr>\n",
       "      <th>591</th>\n",
       "      <td>P23</td>\n",
       "      <td>026385371205682073-KNIGHT.mp4</td>\n",
       "      <td>KNIGHT1</td>\n",
       "      <td>H_01_054</td>\n",
       "      <td>file:///media/kristian/HDD/ASL_Citizen/ASL_Cit...</td>\n",
       "      <td>18</td>\n",
       "      <td>0</td>\n",
       "    </tr>\n",
       "    <tr>\n",
       "      <th>288</th>\n",
       "      <td>P23</td>\n",
       "      <td>38096647252278104-DEVELOP.mp4</td>\n",
       "      <td>DEVELOP1</td>\n",
       "      <td>J_03_092</td>\n",
       "      <td>file:///media/kristian/HDD/ASL_Citizen/ASL_Cit...</td>\n",
       "      <td>19</td>\n",
       "      <td>0</td>\n",
       "    </tr>\n",
       "    <tr>\n",
       "      <th>196</th>\n",
       "      <td>P33</td>\n",
       "      <td>35989551869392655-DARK.mp4</td>\n",
       "      <td>DARK1</td>\n",
       "      <td>J_03_094</td>\n",
       "      <td>file:///media/kristian/HDD/ASL_Citizen/ASL_Cit...</td>\n",
       "      <td>21</td>\n",
       "      <td>0</td>\n",
       "    </tr>\n",
       "    <tr>\n",
       "      <th>864</th>\n",
       "      <td>P31</td>\n",
       "      <td>6981090089514066-SINK.mp4</td>\n",
       "      <td>SINK</td>\n",
       "      <td>E_02_042</td>\n",
       "      <td>file:///media/kristian/HDD/ASL_Citizen/ASL_Cit...</td>\n",
       "      <td>18</td>\n",
       "      <td>0</td>\n",
       "    </tr>\n",
       "    <tr>\n",
       "      <th>320</th>\n",
       "      <td>P4</td>\n",
       "      <td>19708892618191043-DOG.mp4</td>\n",
       "      <td>DOG1</td>\n",
       "      <td>A_01_056</td>\n",
       "      <td>file:///media/kristian/HDD/ASL_Citizen/ASL_Cit...</td>\n",
       "      <td>24</td>\n",
       "      <td>0</td>\n",
       "    </tr>\n",
       "    <tr>\n",
       "      <th>922</th>\n",
       "      <td>P29</td>\n",
       "      <td>055633165115255956-TWINS.mp4</td>\n",
       "      <td>TWINS1</td>\n",
       "      <td>F_01_032</td>\n",
       "      <td>file:///media/kristian/HDD/ASL_Citizen/ASL_Cit...</td>\n",
       "      <td>18</td>\n",
       "      <td>47</td>\n",
       "    </tr>\n",
       "    <tr>\n",
       "      <th>689</th>\n",
       "      <td>P40</td>\n",
       "      <td>4980758080077503-MICROSCOPE.mp4</td>\n",
       "      <td>MICROSCOPE1</td>\n",
       "      <td>A_03_076</td>\n",
       "      <td>file:///media/kristian/HDD/ASL_Citizen/ASL_Cit...</td>\n",
       "      <td>18</td>\n",
       "      <td>0</td>\n",
       "    </tr>\n",
       "    <tr>\n",
       "      <th>212</th>\n",
       "      <td>P52</td>\n",
       "      <td>4883631321850692-seedDARK.mp4</td>\n",
       "      <td>DARK1</td>\n",
       "      <td>J_03_094</td>\n",
       "      <td>file:///media/kristian/HDD/ASL_Citizen/ASL_Cit...</td>\n",
       "      <td>21</td>\n",
       "      <td>0</td>\n",
       "    </tr>\n",
       "    <tr>\n",
       "      <th>207</th>\n",
       "      <td>P37</td>\n",
       "      <td>5156194365351785-DARK.mp4</td>\n",
       "      <td>DARK1</td>\n",
       "      <td>J_03_094</td>\n",
       "      <td>file:///media/kristian/HDD/ASL_Citizen/ASL_Cit...</td>\n",
       "      <td>21</td>\n",
       "      <td>0</td>\n",
       "    </tr>\n",
       "    <tr>\n",
       "      <th>308</th>\n",
       "      <td>P33</td>\n",
       "      <td>7036076708506829-DINNER.mp4</td>\n",
       "      <td>DINNER1</td>\n",
       "      <td>G_03_044</td>\n",
       "      <td>file:///media/kristian/HDD/ASL_Citizen/ASL_Cit...</td>\n",
       "      <td>18</td>\n",
       "      <td>0</td>\n",
       "    </tr>\n",
       "    <tr>\n",
       "      <th>448</th>\n",
       "      <td>P43</td>\n",
       "      <td>8081668677951284-FLOAT 3.mp4</td>\n",
       "      <td>FLOAT1</td>\n",
       "      <td>K_01_082</td>\n",
       "      <td>file:///media/kristian/HDD/ASL_Citizen/ASL_Cit...</td>\n",
       "      <td>18</td>\n",
       "      <td>0</td>\n",
       "    </tr>\n",
       "    <tr>\n",
       "      <th>399</th>\n",
       "      <td>P29</td>\n",
       "      <td>7080955853184407-EDIT.mp4</td>\n",
       "      <td>EDIT1</td>\n",
       "      <td>G_02_057</td>\n",
       "      <td>file:///media/kristian/HDD/ASL_Citizen/ASL_Cit...</td>\n",
       "      <td>19</td>\n",
       "      <td>77</td>\n",
       "    </tr>\n",
       "    <tr>\n",
       "      <th>686</th>\n",
       "      <td>P14</td>\n",
       "      <td>7219831406702091-MECHANIC.mp4</td>\n",
       "      <td>MECHANIC1</td>\n",
       "      <td>A_03_030</td>\n",
       "      <td>file:///media/kristian/HDD/ASL_Citizen/ASL_Cit...</td>\n",
       "      <td>20</td>\n",
       "      <td>64</td>\n",
       "    </tr>\n",
       "    <tr>\n",
       "      <th>575</th>\n",
       "      <td>P33</td>\n",
       "      <td>8835133508017037-JEWELRY.mp4</td>\n",
       "      <td>JEWELRY</td>\n",
       "      <td>H_03_040</td>\n",
       "      <td>file:///media/kristian/HDD/ASL_Citizen/ASL_Cit...</td>\n",
       "      <td>18</td>\n",
       "      <td>145</td>\n",
       "    </tr>\n",
       "    <tr>\n",
       "      <th>476</th>\n",
       "      <td>P31</td>\n",
       "      <td>7089071856116709-FOREIGNER.mp4</td>\n",
       "      <td>FOREIGNER1</td>\n",
       "      <td>C_01_077</td>\n",
       "      <td>file:///media/kristian/HDD/ASL_Citizen/ASL_Cit...</td>\n",
       "      <td>18</td>\n",
       "      <td>0</td>\n",
       "    </tr>\n",
       "    <tr>\n",
       "      <th>632</th>\n",
       "      <td>P10</td>\n",
       "      <td>5117619310612302-MAPLE.mp4</td>\n",
       "      <td>MAPLE</td>\n",
       "      <td>H_03_064</td>\n",
       "      <td>file:///media/kristian/HDD/ASL_Citizen/ASL_Cit...</td>\n",
       "      <td>18</td>\n",
       "      <td>0</td>\n",
       "    </tr>\n",
       "    <tr>\n",
       "      <th>564</th>\n",
       "      <td>P51</td>\n",
       "      <td>9926262910924768-JEWELRY.mp4</td>\n",
       "      <td>JEWELRY</td>\n",
       "      <td>H_03_040</td>\n",
       "      <td>file:///media/kristian/HDD/ASL_Citizen/ASL_Cit...</td>\n",
       "      <td>18</td>\n",
       "      <td>0</td>\n",
       "    </tr>\n",
       "    <tr>\n",
       "      <th>222</th>\n",
       "      <td>P23</td>\n",
       "      <td>07152092969372692-DEAF.mp4</td>\n",
       "      <td>DEAF1</td>\n",
       "      <td>F_03_038</td>\n",
       "      <td>file:///media/kristian/HDD/ASL_Citizen/ASL_Cit...</td>\n",
       "      <td>20</td>\n",
       "      <td>85</td>\n",
       "    </tr>\n",
       "    <tr>\n",
       "      <th>791</th>\n",
       "      <td>P14</td>\n",
       "      <td>005402281585379365-RAZOR 2.mp4</td>\n",
       "      <td>RAZOR2</td>\n",
       "      <td>K_03_103</td>\n",
       "      <td>file:///media/kristian/HDD/ASL_Citizen/ASL_Cit...</td>\n",
       "      <td>18</td>\n",
       "      <td>48</td>\n",
       "    </tr>\n",
       "    <tr>\n",
       "      <th>226</th>\n",
       "      <td>P11</td>\n",
       "      <td>93340344109002-DEAF.mp4</td>\n",
       "      <td>DEAF1</td>\n",
       "      <td>F_03_038</td>\n",
       "      <td>file:///media/kristian/HDD/ASL_Citizen/ASL_Cit...</td>\n",
       "      <td>20</td>\n",
       "      <td>0</td>\n",
       "    </tr>\n",
       "    <tr>\n",
       "      <th>516</th>\n",
       "      <td>P16</td>\n",
       "      <td>5020573065427365-HALLOWEEN.mp4</td>\n",
       "      <td>HALLOWEEN1</td>\n",
       "      <td>G_03_011</td>\n",
       "      <td>file:///media/kristian/HDD/ASL_Citizen/ASL_Cit...</td>\n",
       "      <td>19</td>\n",
       "      <td>64</td>\n",
       "    </tr>\n",
       "    <tr>\n",
       "      <th>660</th>\n",
       "      <td>P8</td>\n",
       "      <td>06604208014079349-MEAT.mp4</td>\n",
       "      <td>MEAT1</td>\n",
       "      <td>D_02_022</td>\n",
       "      <td>file:///media/kristian/HDD/ASL_Citizen/ASL_Cit...</td>\n",
       "      <td>18</td>\n",
       "      <td>0</td>\n",
       "    </tr>\n",
       "    <tr>\n",
       "      <th>507</th>\n",
       "      <td>P28</td>\n",
       "      <td>11830659217532946-HALLOWEEN.mp4</td>\n",
       "      <td>HALLOWEEN1</td>\n",
       "      <td>G_03_011</td>\n",
       "      <td>file:///media/kristian/HDD/ASL_Citizen/ASL_Cit...</td>\n",
       "      <td>19</td>\n",
       "      <td>0</td>\n",
       "    </tr>\n",
       "    <tr>\n",
       "      <th>912</th>\n",
       "      <td>P33</td>\n",
       "      <td>7300879307064365-TWINS.mp4</td>\n",
       "      <td>TWINS1</td>\n",
       "      <td>F_01_032</td>\n",
       "      <td>file:///media/kristian/HDD/ASL_Citizen/ASL_Cit...</td>\n",
       "      <td>18</td>\n",
       "      <td>0</td>\n",
       "    </tr>\n",
       "    <tr>\n",
       "      <th>572</th>\n",
       "      <td>P50</td>\n",
       "      <td>6086082072658165-JEWELRY.mp4</td>\n",
       "      <td>JEWELRY</td>\n",
       "      <td>H_03_040</td>\n",
       "      <td>file:///media/kristian/HDD/ASL_Citizen/ASL_Cit...</td>\n",
       "      <td>18</td>\n",
       "      <td>0</td>\n",
       "    </tr>\n",
       "    <tr>\n",
       "      <th>584</th>\n",
       "      <td>P33</td>\n",
       "      <td>14138842202005564-KNIGHT.mp4</td>\n",
       "      <td>KNIGHT1</td>\n",
       "      <td>H_01_054</td>\n",
       "      <td>file:///media/kristian/HDD/ASL_Citizen/ASL_Cit...</td>\n",
       "      <td>18</td>\n",
       "      <td>0</td>\n",
       "    </tr>\n",
       "  </tbody>\n",
       "</table>\n",
       "</div>"
      ],
      "text/plain": [
       "    Participant ID                          Video file          Gloss  \\\n",
       "293            P37         7262160429010622-DINNER.mp4        DINNER1   \n",
       "930            P37       6237575353180616-WHAT FOR.mp4       WHATFOR1   \n",
       "895            P40           7717057217254395-THEY.mp4          THEY1   \n",
       "324            P29            5465905150307049-DOG.mp4           DOG1   \n",
       "768            P37      7753126798089989-PATIENT 2.mp4       PATIENT2   \n",
       "727            P40           8667743378159272-NOON.mp4          NOON1   \n",
       "440            P33          07214322840682375-FINE.mp4          FINE1   \n",
       "119            P50      7717758625736204-BREAKFAST.mp4     BREAKFAST1   \n",
       "541            P29   02514324335585849-HURDLE-TRIP.mp4   HURDLE/TRIP1   \n",
       "534            P29       5903218158401913-HOSPITAL.mp4      HOSPITAL1   \n",
       "816            P33          5360642687333399-RIVER.mp4         RIVER1   \n",
       "651            P27          09876439206400178-MEAT.mp4          MEAT1   \n",
       "248            P52     7176496996122961-seedDECIDE.mp4        DECIDE1   \n",
       "118            P16     28121654798077556-BREAKFAST.mp4     BREAKFAST1   \n",
       "71             P32           11711757232107178-BEE.mp4           BEE1   \n",
       "780            P40     21338949344886227-PATIENT 2.mp4       PATIENT2   \n",
       "198            P37           5874541618160627-DARK.mp4          DARK1   \n",
       "282            P37       06281926263685134-DEVELOP.mp4       DEVELOP1   \n",
       "453            P10        8231785096149529-FLOAT 3.mp4         FLOAT1   \n",
       "786            P27        4255829936145523-RAZOR 2.mp4         RAZOR2   \n",
       "834            P51  9596563070505133-ROCKING CHAIR.mp4  ROCKINGCHAIR1   \n",
       "733            P36           3567776249024257-NOON.mp4          NOON1   \n",
       "232            P16           5966497138153777-DEAF.mp4          DEAF1   \n",
       "299            P40         6584846911041882-DINNER.mp4        DINNER1   \n",
       "591            P23       026385371205682073-KNIGHT.mp4        KNIGHT1   \n",
       "288            P23       38096647252278104-DEVELOP.mp4       DEVELOP1   \n",
       "196            P33          35989551869392655-DARK.mp4          DARK1   \n",
       "864            P31           6981090089514066-SINK.mp4           SINK   \n",
       "320             P4           19708892618191043-DOG.mp4           DOG1   \n",
       "922            P29        055633165115255956-TWINS.mp4         TWINS1   \n",
       "689            P40     4980758080077503-MICROSCOPE.mp4    MICROSCOPE1   \n",
       "212            P52       4883631321850692-seedDARK.mp4          DARK1   \n",
       "207            P37           5156194365351785-DARK.mp4          DARK1   \n",
       "308            P33         7036076708506829-DINNER.mp4        DINNER1   \n",
       "448            P43        8081668677951284-FLOAT 3.mp4         FLOAT1   \n",
       "399            P29           7080955853184407-EDIT.mp4          EDIT1   \n",
       "686            P14       7219831406702091-MECHANIC.mp4      MECHANIC1   \n",
       "575            P33        8835133508017037-JEWELRY.mp4        JEWELRY   \n",
       "476            P31      7089071856116709-FOREIGNER.mp4     FOREIGNER1   \n",
       "632            P10          5117619310612302-MAPLE.mp4          MAPLE   \n",
       "564            P51        9926262910924768-JEWELRY.mp4        JEWELRY   \n",
       "222            P23          07152092969372692-DEAF.mp4          DEAF1   \n",
       "791            P14      005402281585379365-RAZOR 2.mp4         RAZOR2   \n",
       "226            P11             93340344109002-DEAF.mp4          DEAF1   \n",
       "516            P16      5020573065427365-HALLOWEEN.mp4     HALLOWEEN1   \n",
       "660             P8          06604208014079349-MEAT.mp4          MEAT1   \n",
       "507            P28     11830659217532946-HALLOWEEN.mp4     HALLOWEEN1   \n",
       "912            P33          7300879307064365-TWINS.mp4         TWINS1   \n",
       "572            P50        6086082072658165-JEWELRY.mp4        JEWELRY   \n",
       "584            P33        14138842202005564-KNIGHT.mp4        KNIGHT1   \n",
       "\n",
       "    ASL-LEX Code                                               Path  \\\n",
       "293     G_03_044  file:///media/kristian/HDD/ASL_Citizen/ASL_Cit...   \n",
       "930     C_02_054  file:///media/kristian/HDD/ASL_Citizen/ASL_Cit...   \n",
       "895     F_02_103  file:///media/kristian/HDD/ASL_Citizen/ASL_Cit...   \n",
       "324     A_01_056  file:///media/kristian/HDD/ASL_Citizen/ASL_Cit...   \n",
       "768     B_01_085  file:///media/kristian/HDD/ASL_Citizen/ASL_Cit...   \n",
       "727     G_02_014  file:///media/kristian/HDD/ASL_Citizen/ASL_Cit...   \n",
       "440     C_01_043  file:///media/kristian/HDD/ASL_Citizen/ASL_Cit...   \n",
       "119     J_01_053  file:///media/kristian/HDD/ASL_Citizen/ASL_Cit...   \n",
       "541     G_01_036  file:///media/kristian/HDD/ASL_Citizen/ASL_Cit...   \n",
       "534     B_02_026  file:///media/kristian/HDD/ASL_Citizen/ASL_Cit...   \n",
       "816     A_03_035  file:///media/kristian/HDD/ASL_Citizen/ASL_Cit...   \n",
       "651     D_02_022  file:///media/kristian/HDD/ASL_Citizen/ASL_Cit...   \n",
       "248     B_02_074  file:///media/kristian/HDD/ASL_Citizen/ASL_Cit...   \n",
       "118     J_01_053  file:///media/kristian/HDD/ASL_Citizen/ASL_Cit...   \n",
       "71      J_02_101  file:///media/kristian/HDD/ASL_Citizen/ASL_Cit...   \n",
       "780     B_01_085  file:///media/kristian/HDD/ASL_Citizen/ASL_Cit...   \n",
       "198     J_03_094  file:///media/kristian/HDD/ASL_Citizen/ASL_Cit...   \n",
       "282     J_03_092  file:///media/kristian/HDD/ASL_Citizen/ASL_Cit...   \n",
       "453     K_01_082  file:///media/kristian/HDD/ASL_Citizen/ASL_Cit...   \n",
       "786     K_03_103  file:///media/kristian/HDD/ASL_Citizen/ASL_Cit...   \n",
       "834     G_01_010  file:///media/kristian/HDD/ASL_Citizen/ASL_Cit...   \n",
       "733     G_02_014  file:///media/kristian/HDD/ASL_Citizen/ASL_Cit...   \n",
       "232     F_03_038  file:///media/kristian/HDD/ASL_Citizen/ASL_Cit...   \n",
       "299     G_03_044  file:///media/kristian/HDD/ASL_Citizen/ASL_Cit...   \n",
       "591     H_01_054  file:///media/kristian/HDD/ASL_Citizen/ASL_Cit...   \n",
       "288     J_03_092  file:///media/kristian/HDD/ASL_Citizen/ASL_Cit...   \n",
       "196     J_03_094  file:///media/kristian/HDD/ASL_Citizen/ASL_Cit...   \n",
       "864     E_02_042  file:///media/kristian/HDD/ASL_Citizen/ASL_Cit...   \n",
       "320     A_01_056  file:///media/kristian/HDD/ASL_Citizen/ASL_Cit...   \n",
       "922     F_01_032  file:///media/kristian/HDD/ASL_Citizen/ASL_Cit...   \n",
       "689     A_03_076  file:///media/kristian/HDD/ASL_Citizen/ASL_Cit...   \n",
       "212     J_03_094  file:///media/kristian/HDD/ASL_Citizen/ASL_Cit...   \n",
       "207     J_03_094  file:///media/kristian/HDD/ASL_Citizen/ASL_Cit...   \n",
       "308     G_03_044  file:///media/kristian/HDD/ASL_Citizen/ASL_Cit...   \n",
       "448     K_01_082  file:///media/kristian/HDD/ASL_Citizen/ASL_Cit...   \n",
       "399     G_02_057  file:///media/kristian/HDD/ASL_Citizen/ASL_Cit...   \n",
       "686     A_03_030  file:///media/kristian/HDD/ASL_Citizen/ASL_Cit...   \n",
       "575     H_03_040  file:///media/kristian/HDD/ASL_Citizen/ASL_Cit...   \n",
       "476     C_01_077  file:///media/kristian/HDD/ASL_Citizen/ASL_Cit...   \n",
       "632     H_03_064  file:///media/kristian/HDD/ASL_Citizen/ASL_Cit...   \n",
       "564     H_03_040  file:///media/kristian/HDD/ASL_Citizen/ASL_Cit...   \n",
       "222     F_03_038  file:///media/kristian/HDD/ASL_Citizen/ASL_Cit...   \n",
       "791     K_03_103  file:///media/kristian/HDD/ASL_Citizen/ASL_Cit...   \n",
       "226     F_03_038  file:///media/kristian/HDD/ASL_Citizen/ASL_Cit...   \n",
       "516     G_03_011  file:///media/kristian/HDD/ASL_Citizen/ASL_Cit...   \n",
       "660     D_02_022  file:///media/kristian/HDD/ASL_Citizen/ASL_Cit...   \n",
       "507     G_03_011  file:///media/kristian/HDD/ASL_Citizen/ASL_Cit...   \n",
       "912     F_01_032  file:///media/kristian/HDD/ASL_Citizen/ASL_Cit...   \n",
       "572     H_03_040  file:///media/kristian/HDD/ASL_Citizen/ASL_Cit...   \n",
       "584     H_01_054  file:///media/kristian/HDD/ASL_Citizen/ASL_Cit...   \n",
       "\n",
       "     frequency  Frames  \n",
       "293         18      77  \n",
       "930         20       0  \n",
       "895         18       0  \n",
       "324         24       0  \n",
       "768         19      56  \n",
       "727         19       0  \n",
       "440         19       0  \n",
       "119         21       0  \n",
       "541         22       0  \n",
       "534         18       0  \n",
       "816         19       0  \n",
       "651         18       0  \n",
       "248         20     136  \n",
       "118         21       0  \n",
       "71          19       0  \n",
       "780         19       0  \n",
       "198         21       0  \n",
       "282         19       0  \n",
       "453         18       0  \n",
       "786         18       0  \n",
       "834         20       0  \n",
       "733         19      74  \n",
       "232         20      54  \n",
       "299         18     105  \n",
       "591         18       0  \n",
       "288         19       0  \n",
       "196         21       0  \n",
       "864         18       0  \n",
       "320         24       0  \n",
       "922         18      47  \n",
       "689         18       0  \n",
       "212         21       0  \n",
       "207         21       0  \n",
       "308         18       0  \n",
       "448         18       0  \n",
       "399         19      77  \n",
       "686         20      64  \n",
       "575         18     145  \n",
       "476         18       0  \n",
       "632         18       0  \n",
       "564         18       0  \n",
       "222         20      85  \n",
       "791         18      48  \n",
       "226         20       0  \n",
       "516         19      64  \n",
       "660         18       0  \n",
       "507         19       0  \n",
       "912         18       0  \n",
       "572         18       0  \n",
       "584         18       0  "
      ]
     },
     "execution_count": 296,
     "metadata": {},
     "output_type": "execute_result"
    }
   ],
   "source": [
    "traindf.sample(50)"
   ]
  },
  {
   "cell_type": "code",
   "execution_count": 1,
   "id": "bd079722",
   "metadata": {
    "ExecuteTime": {
     "end_time": "2023-08-03T16:24:19.668723Z",
     "start_time": "2023-08-03T16:24:19.163277Z"
    }
   },
   "outputs": [
    {
     "ename": "NameError",
     "evalue": "name 'keypoints_series' is not defined",
     "output_type": "error",
     "traceback": [
      "\u001b[0;31m---------------------------------------------------------------------------\u001b[0m",
      "\u001b[0;31mNameError\u001b[0m                                 Traceback (most recent call last)",
      "Cell \u001b[0;32mIn[1], line 1\u001b[0m\n\u001b[0;32m----> 1\u001b[0m keypoints_np \u001b[38;5;241m=\u001b[39m np\u001b[38;5;241m.\u001b[39mzeros((\u001b[38;5;28mlen\u001b[39m(\u001b[43mkeypoints_series\u001b[49m), max_len, \u001b[38;5;241m1662\u001b[39m))\n\u001b[1;32m      2\u001b[0m \u001b[38;5;28;01mfor\u001b[39;00m i, keypoints \u001b[38;5;129;01min\u001b[39;00m \u001b[38;5;28menumerate\u001b[39m(keypoints_series):\n\u001b[1;32m      3\u001b[0m     keypoints_np[i, :keypoints\u001b[38;5;241m.\u001b[39mshape[\u001b[38;5;241m0\u001b[39m], :] \u001b[38;5;241m=\u001b[39m keypoints\n",
      "\u001b[0;31mNameError\u001b[0m: name 'keypoints_series' is not defined"
     ]
    }
   ],
   "source": [
    "keypoints_np = np.zeros((len(keypoints_series), max_len, 1662))\n",
    "for i, keypoints in enumerate(keypoints_series):\n",
    "    keypoints_np[i, :keypoints.shape[0], :] = keypoints"
   ]
  },
  {
   "cell_type": "code",
   "execution_count": 1,
   "id": "26eb2969",
   "metadata": {
    "ExecuteTime": {
     "end_time": "2023-08-03T11:43:49.950393Z",
     "start_time": "2023-08-03T11:43:49.158252Z"
    }
   },
   "outputs": [
    {
     "ename": "NameError",
     "evalue": "name 'keypoints_np' is not defined",
     "output_type": "error",
     "traceback": [
      "\u001b[0;31m---------------------------------------------------------------------------\u001b[0m",
      "\u001b[0;31mNameError\u001b[0m                                 Traceback (most recent call last)",
      "Cell \u001b[0;32mIn[1], line 1\u001b[0m\n\u001b[0;32m----> 1\u001b[0m \u001b[43mkeypoints_np\u001b[49m\u001b[38;5;241m.\u001b[39mshape\n",
      "\u001b[0;31mNameError\u001b[0m: name 'keypoints_np' is not defined"
     ]
    }
   ],
   "source": [
    "keypoints_np.shape"
   ]
  },
  {
   "cell_type": "code",
   "execution_count": 137,
   "id": "e13534ab",
   "metadata": {
    "ExecuteTime": {
     "end_time": "2023-07-29T18:15:09.633635Z",
     "start_time": "2023-07-29T18:14:43.324404Z"
    }
   },
   "outputs": [],
   "source": [
    "np.save(\"/home/kristian/Capstone/keypoints/mediapipe_keypoints.npy\", keypoints_np)"
   ]
  },
  {
   "cell_type": "code",
   "execution_count": 53,
   "id": "2008566c",
   "metadata": {
    "ExecuteTime": {
     "end_time": "2023-08-03T22:14:00.497032Z",
     "start_time": "2023-08-03T22:13:59.662144Z"
    }
   },
   "outputs": [],
   "source": [
    "import numpy as np\n",
    "keypoints_np=np.load('/home/kristian/Capstone/keypoints/mediapipe_keypoints.npy')"
   ]
  },
  {
   "cell_type": "code",
   "execution_count": 54,
   "id": "ce62069f",
   "metadata": {
    "ExecuteTime": {
     "end_time": "2023-08-03T22:14:01.275898Z",
     "start_time": "2023-08-03T22:14:01.272427Z"
    }
   },
   "outputs": [
    {
     "data": {
      "text/plain": [
       "(1405, 212, 1662)"
      ]
     },
     "execution_count": 54,
     "metadata": {},
     "output_type": "execute_result"
    }
   ],
   "source": [
    "keypoints_np.shape"
   ]
  },
  {
   "cell_type": "markdown",
   "id": "eeaa54d2",
   "metadata": {},
   "source": [
    "# Preprocessing"
   ]
  },
  {
   "cell_type": "code",
   "execution_count": 55,
   "id": "223cc5ec",
   "metadata": {
    "ExecuteTime": {
     "end_time": "2023-08-03T22:14:04.814000Z",
     "start_time": "2023-08-03T22:14:04.569573Z"
    }
   },
   "outputs": [],
   "source": [
    "from sklearn.model_selection import train_test_split\n",
    "from sklearn.preprocessing import OrdinalEncoder\n",
    "from keras.utils import to_categorical\n",
    "import numpy as np\n",
    "from keras.preprocessing.sequence import pad_sequences"
   ]
  },
  {
   "cell_type": "code",
   "execution_count": 56,
   "id": "8d5808da",
   "metadata": {
    "ExecuteTime": {
     "end_time": "2023-08-03T22:14:12.042000Z",
     "start_time": "2023-08-03T22:14:09.656813Z"
    }
   },
   "outputs": [],
   "source": [
    "# Pad sequences with zeros and create a mask\n",
    "padded_keypoints = pad_sequences(keypoints_np, maxlen=212, padding='post', value=0.0, dtype='float32')\n",
    "mask = (padded_keypoints.sum(axis=2) != 0).astype('float32')  # Create a mask"
   ]
  },
  {
   "cell_type": "code",
   "execution_count": 57,
   "id": "9a09f64e",
   "metadata": {
    "ExecuteTime": {
     "end_time": "2023-08-03T22:14:12.797190Z",
     "start_time": "2023-08-03T22:14:12.794297Z"
    }
   },
   "outputs": [
    {
     "data": {
      "text/plain": [
       "(1405, 212)"
      ]
     },
     "execution_count": 57,
     "metadata": {},
     "output_type": "execute_result"
    }
   ],
   "source": [
    "mask.shape"
   ]
  },
  {
   "cell_type": "code",
   "execution_count": 58,
   "id": "ddc114ab",
   "metadata": {
    "ExecuteTime": {
     "end_time": "2023-08-03T22:14:13.646208Z",
     "start_time": "2023-08-03T22:14:13.638998Z"
    }
   },
   "outputs": [
    {
     "data": {
      "text/html": [
       "<div>\n",
       "<style scoped>\n",
       "    .dataframe tbody tr th:only-of-type {\n",
       "        vertical-align: middle;\n",
       "    }\n",
       "\n",
       "    .dataframe tbody tr th {\n",
       "        vertical-align: top;\n",
       "    }\n",
       "\n",
       "    .dataframe thead th {\n",
       "        text-align: right;\n",
       "    }\n",
       "</style>\n",
       "<table border=\"1\" class=\"dataframe\">\n",
       "  <thead>\n",
       "    <tr style=\"text-align: right;\">\n",
       "      <th></th>\n",
       "      <th>path</th>\n",
       "      <th>target</th>\n",
       "      <th>file</th>\n",
       "      <th>originaltarget</th>\n",
       "      <th>frequency</th>\n",
       "      <th>frames</th>\n",
       "    </tr>\n",
       "  </thead>\n",
       "  <tbody>\n",
       "    <tr>\n",
       "      <th>0</th>\n",
       "      <td>file:/home/kristian/WLASL/videos_organized/acc...</td>\n",
       "      <td>accident</td>\n",
       "      <td>00618.mp4</td>\n",
       "      <td>accident</td>\n",
       "      <td>17</td>\n",
       "      <td>27</td>\n",
       "    </tr>\n",
       "    <tr>\n",
       "      <th>1</th>\n",
       "      <td>file:/home/kristian/WLASL/videos_organized/acc...</td>\n",
       "      <td>accident</td>\n",
       "      <td>00623.mp4</td>\n",
       "      <td>accident</td>\n",
       "      <td>17</td>\n",
       "      <td>104</td>\n",
       "    </tr>\n",
       "    <tr>\n",
       "      <th>2</th>\n",
       "      <td>file:/home/kristian/WLASL/videos_organized/acc...</td>\n",
       "      <td>accident</td>\n",
       "      <td>00624.mp4</td>\n",
       "      <td>accident</td>\n",
       "      <td>17</td>\n",
       "      <td>109</td>\n",
       "    </tr>\n",
       "    <tr>\n",
       "      <th>3</th>\n",
       "      <td>file:/home/kristian/WLASL/videos_organized/acc...</td>\n",
       "      <td>accident</td>\n",
       "      <td>00625.mp4</td>\n",
       "      <td>accident</td>\n",
       "      <td>17</td>\n",
       "      <td>34</td>\n",
       "    </tr>\n",
       "    <tr>\n",
       "      <th>4</th>\n",
       "      <td>file:/home/kristian/WLASL/videos_organized/acc...</td>\n",
       "      <td>accident</td>\n",
       "      <td>00626.mp4</td>\n",
       "      <td>accident</td>\n",
       "      <td>17</td>\n",
       "      <td>44</td>\n",
       "    </tr>\n",
       "  </tbody>\n",
       "</table>\n",
       "</div>"
      ],
      "text/plain": [
       "                                                path    target       file  \\\n",
       "0  file:/home/kristian/WLASL/videos_organized/acc...  accident  00618.mp4   \n",
       "1  file:/home/kristian/WLASL/videos_organized/acc...  accident  00623.mp4   \n",
       "2  file:/home/kristian/WLASL/videos_organized/acc...  accident  00624.mp4   \n",
       "3  file:/home/kristian/WLASL/videos_organized/acc...  accident  00625.mp4   \n",
       "4  file:/home/kristian/WLASL/videos_organized/acc...  accident  00626.mp4   \n",
       "\n",
       "  originaltarget  frequency  frames  \n",
       "0       accident         17      27  \n",
       "1       accident         17     104  \n",
       "2       accident         17     109  \n",
       "3       accident         17      34  \n",
       "4       accident         17      44  "
      ]
     },
     "execution_count": 58,
     "metadata": {},
     "output_type": "execute_result"
    }
   ],
   "source": [
    "traindf.head()"
   ]
  },
  {
   "cell_type": "code",
   "execution_count": 59,
   "id": "71e58811",
   "metadata": {
    "ExecuteTime": {
     "end_time": "2023-08-03T22:14:23.018886Z",
     "start_time": "2023-08-03T22:14:23.016132Z"
    }
   },
   "outputs": [],
   "source": [
    "encoder = OrdinalEncoder()"
   ]
  },
  {
   "cell_type": "code",
   "execution_count": 60,
   "id": "0129a2ad",
   "metadata": {
    "ExecuteTime": {
     "end_time": "2023-08-03T22:14:24.855919Z",
     "start_time": "2023-08-03T22:14:24.851069Z"
    }
   },
   "outputs": [],
   "source": [
    "video_df['cat_label'] = encoder.fit_transform(video_df[['target']]).astype(int)"
   ]
  },
  {
   "cell_type": "code",
   "execution_count": 61,
   "id": "21e97f05",
   "metadata": {
    "ExecuteTime": {
     "end_time": "2023-08-03T22:14:25.649601Z",
     "start_time": "2023-08-03T22:14:25.640618Z"
    }
   },
   "outputs": [
    {
     "data": {
      "text/html": [
       "<div>\n",
       "<style scoped>\n",
       "    .dataframe tbody tr th:only-of-type {\n",
       "        vertical-align: middle;\n",
       "    }\n",
       "\n",
       "    .dataframe tbody tr th {\n",
       "        vertical-align: top;\n",
       "    }\n",
       "\n",
       "    .dataframe thead th {\n",
       "        text-align: right;\n",
       "    }\n",
       "</style>\n",
       "<table border=\"1\" class=\"dataframe\">\n",
       "  <thead>\n",
       "    <tr style=\"text-align: right;\">\n",
       "      <th></th>\n",
       "      <th>path</th>\n",
       "      <th>target</th>\n",
       "      <th>file</th>\n",
       "      <th>originaltarget</th>\n",
       "      <th>frequency</th>\n",
       "      <th>frames</th>\n",
       "      <th>cat_label</th>\n",
       "    </tr>\n",
       "  </thead>\n",
       "  <tbody>\n",
       "    <tr>\n",
       "      <th>0</th>\n",
       "      <td>file:/home/kristian/WLASL/videos_organized/acc...</td>\n",
       "      <td>accident</td>\n",
       "      <td>00618.mp4</td>\n",
       "      <td>accident</td>\n",
       "      <td>17</td>\n",
       "      <td>27</td>\n",
       "      <td>0</td>\n",
       "    </tr>\n",
       "    <tr>\n",
       "      <th>1</th>\n",
       "      <td>file:/home/kristian/WLASL/videos_organized/acc...</td>\n",
       "      <td>accident</td>\n",
       "      <td>00623.mp4</td>\n",
       "      <td>accident</td>\n",
       "      <td>17</td>\n",
       "      <td>104</td>\n",
       "      <td>0</td>\n",
       "    </tr>\n",
       "    <tr>\n",
       "      <th>2</th>\n",
       "      <td>file:/home/kristian/WLASL/videos_organized/acc...</td>\n",
       "      <td>accident</td>\n",
       "      <td>00624.mp4</td>\n",
       "      <td>accident</td>\n",
       "      <td>17</td>\n",
       "      <td>109</td>\n",
       "      <td>0</td>\n",
       "    </tr>\n",
       "    <tr>\n",
       "      <th>3</th>\n",
       "      <td>file:/home/kristian/WLASL/videos_organized/acc...</td>\n",
       "      <td>accident</td>\n",
       "      <td>00625.mp4</td>\n",
       "      <td>accident</td>\n",
       "      <td>17</td>\n",
       "      <td>34</td>\n",
       "      <td>0</td>\n",
       "    </tr>\n",
       "    <tr>\n",
       "      <th>4</th>\n",
       "      <td>file:/home/kristian/WLASL/videos_organized/acc...</td>\n",
       "      <td>accident</td>\n",
       "      <td>00626.mp4</td>\n",
       "      <td>accident</td>\n",
       "      <td>17</td>\n",
       "      <td>44</td>\n",
       "      <td>0</td>\n",
       "    </tr>\n",
       "  </tbody>\n",
       "</table>\n",
       "</div>"
      ],
      "text/plain": [
       "                                                path    target       file  \\\n",
       "0  file:/home/kristian/WLASL/videos_organized/acc...  accident  00618.mp4   \n",
       "1  file:/home/kristian/WLASL/videos_organized/acc...  accident  00623.mp4   \n",
       "2  file:/home/kristian/WLASL/videos_organized/acc...  accident  00624.mp4   \n",
       "3  file:/home/kristian/WLASL/videos_organized/acc...  accident  00625.mp4   \n",
       "4  file:/home/kristian/WLASL/videos_organized/acc...  accident  00626.mp4   \n",
       "\n",
       "  originaltarget  frequency  frames  cat_label  \n",
       "0       accident         17      27          0  \n",
       "1       accident         17     104          0  \n",
       "2       accident         17     109          0  \n",
       "3       accident         17      34          0  \n",
       "4       accident         17      44          0  "
      ]
     },
     "execution_count": 61,
     "metadata": {},
     "output_type": "execute_result"
    }
   ],
   "source": [
    "video_df.head()"
   ]
  },
  {
   "cell_type": "code",
   "execution_count": 62,
   "id": "5c7a48a3",
   "metadata": {
    "ExecuteTime": {
     "end_time": "2023-08-03T22:14:26.548182Z",
     "start_time": "2023-08-03T22:14:26.539527Z"
    }
   },
   "outputs": [
    {
     "data": {
      "text/html": [
       "<div>\n",
       "<style scoped>\n",
       "    .dataframe tbody tr th:only-of-type {\n",
       "        vertical-align: middle;\n",
       "    }\n",
       "\n",
       "    .dataframe tbody tr th {\n",
       "        vertical-align: top;\n",
       "    }\n",
       "\n",
       "    .dataframe thead th {\n",
       "        text-align: right;\n",
       "    }\n",
       "</style>\n",
       "<table border=\"1\" class=\"dataframe\">\n",
       "  <thead>\n",
       "    <tr style=\"text-align: right;\">\n",
       "      <th></th>\n",
       "      <th>path</th>\n",
       "      <th>target</th>\n",
       "      <th>file</th>\n",
       "      <th>originaltarget</th>\n",
       "      <th>frequency</th>\n",
       "      <th>frames</th>\n",
       "      <th>cat_label</th>\n",
       "    </tr>\n",
       "  </thead>\n",
       "  <tbody>\n",
       "    <tr>\n",
       "      <th>1400</th>\n",
       "      <td>file:/home/kristian/WLASL/videos_organized/yes...</td>\n",
       "      <td>yesterday</td>\n",
       "      <td>64314.mp4</td>\n",
       "      <td>yesterday</td>\n",
       "      <td>15</td>\n",
       "      <td>64</td>\n",
       "      <td>83</td>\n",
       "    </tr>\n",
       "    <tr>\n",
       "      <th>1401</th>\n",
       "      <td>file:/home/kristian/WLASL/videos_organized/yes...</td>\n",
       "      <td>yesterday</td>\n",
       "      <td>64315.mp4</td>\n",
       "      <td>yesterday</td>\n",
       "      <td>15</td>\n",
       "      <td>109</td>\n",
       "      <td>83</td>\n",
       "    </tr>\n",
       "    <tr>\n",
       "      <th>1402</th>\n",
       "      <td>file:/home/kristian/WLASL/videos_organized/yes...</td>\n",
       "      <td>yesterday</td>\n",
       "      <td>66821.mp4</td>\n",
       "      <td>yesterday</td>\n",
       "      <td>15</td>\n",
       "      <td>64</td>\n",
       "      <td>83</td>\n",
       "    </tr>\n",
       "    <tr>\n",
       "      <th>1403</th>\n",
       "      <td>file:/home/kristian/WLASL/videos_organized/yes...</td>\n",
       "      <td>yesterday</td>\n",
       "      <td>66822.mp4</td>\n",
       "      <td>yesterday</td>\n",
       "      <td>15</td>\n",
       "      <td>62</td>\n",
       "      <td>83</td>\n",
       "    </tr>\n",
       "    <tr>\n",
       "      <th>1404</th>\n",
       "      <td>file:/home/kristian/WLASL/videos_organized/yes...</td>\n",
       "      <td>yesterday</td>\n",
       "      <td>70347.mp4</td>\n",
       "      <td>yesterday</td>\n",
       "      <td>15</td>\n",
       "      <td>111</td>\n",
       "      <td>83</td>\n",
       "    </tr>\n",
       "  </tbody>\n",
       "</table>\n",
       "</div>"
      ],
      "text/plain": [
       "                                                   path     target       file  \\\n",
       "1400  file:/home/kristian/WLASL/videos_organized/yes...  yesterday  64314.mp4   \n",
       "1401  file:/home/kristian/WLASL/videos_organized/yes...  yesterday  64315.mp4   \n",
       "1402  file:/home/kristian/WLASL/videos_organized/yes...  yesterday  66821.mp4   \n",
       "1403  file:/home/kristian/WLASL/videos_organized/yes...  yesterday  66822.mp4   \n",
       "1404  file:/home/kristian/WLASL/videos_organized/yes...  yesterday  70347.mp4   \n",
       "\n",
       "     originaltarget  frequency  frames  cat_label  \n",
       "1400      yesterday         15      64         83  \n",
       "1401      yesterday         15     109         83  \n",
       "1402      yesterday         15      64         83  \n",
       "1403      yesterday         15      62         83  \n",
       "1404      yesterday         15     111         83  "
      ]
     },
     "execution_count": 62,
     "metadata": {},
     "output_type": "execute_result"
    }
   ],
   "source": [
    "video_df.tail()"
   ]
  },
  {
   "cell_type": "code",
   "execution_count": 63,
   "id": "d9d509a7",
   "metadata": {
    "ExecuteTime": {
     "end_time": "2023-08-03T22:14:30.698341Z",
     "start_time": "2023-08-03T22:14:30.695361Z"
    }
   },
   "outputs": [],
   "source": [
    "label_map = {label:num for num, label in enumerate(video_df['target'].unique())}"
   ]
  },
  {
   "cell_type": "code",
   "execution_count": 64,
   "id": "b2139a4c",
   "metadata": {
    "ExecuteTime": {
     "end_time": "2023-08-03T22:14:32.189044Z",
     "start_time": "2023-08-03T22:14:32.183678Z"
    },
    "scrolled": true
   },
   "outputs": [
    {
     "data": {
      "text/plain": [
       "{'accident': 0,\n",
       " 'africa': 1,\n",
       " 'all': 2,\n",
       " 'apple': 3,\n",
       " 'bed': 4,\n",
       " 'before': 5,\n",
       " 'bird': 6,\n",
       " 'black': 7,\n",
       " 'book': 8,\n",
       " 'bowling': 9,\n",
       " 'candy': 10,\n",
       " 'chair': 11,\n",
       " 'change': 12,\n",
       " 'cheat': 13,\n",
       " 'check': 14,\n",
       " 'city': 15,\n",
       " 'clothes': 16,\n",
       " 'color': 17,\n",
       " 'computer': 18,\n",
       " 'convince': 19,\n",
       " 'cook': 20,\n",
       " 'cool': 21,\n",
       " 'corn': 22,\n",
       " 'cousin': 23,\n",
       " 'cow': 24,\n",
       " 'dark': 25,\n",
       " 'deaf': 26,\n",
       " 'decide': 27,\n",
       " 'dog': 28,\n",
       " 'drink': 29,\n",
       " 'family': 30,\n",
       " 'fine': 31,\n",
       " 'finish': 32,\n",
       " 'fish': 33,\n",
       " 'forget': 34,\n",
       " 'full': 35,\n",
       " 'give': 36,\n",
       " 'go': 37,\n",
       " 'graduate': 38,\n",
       " 'hair': 39,\n",
       " 'hat': 40,\n",
       " 'headache': 41,\n",
       " 'hearing': 42,\n",
       " 'help': 43,\n",
       " 'hot': 44,\n",
       " 'kiss': 45,\n",
       " 'language': 46,\n",
       " 'last': 47,\n",
       " 'later': 48,\n",
       " 'like': 49,\n",
       " 'man': 50,\n",
       " 'many': 51,\n",
       " 'meet': 52,\n",
       " 'mother': 53,\n",
       " 'no': 54,\n",
       " 'now': 55,\n",
       " 'orange': 56,\n",
       " 'paper': 57,\n",
       " 'pink': 58,\n",
       " 'pizza': 59,\n",
       " 'play': 60,\n",
       " 'pull': 61,\n",
       " 'school': 62,\n",
       " 'secretary': 63,\n",
       " 'shirt': 64,\n",
       " 'short': 65,\n",
       " 'son': 66,\n",
       " 'study': 67,\n",
       " 'table': 68,\n",
       " 'tall': 69,\n",
       " 'thanksgiving': 70,\n",
       " 'thin': 71,\n",
       " 'thursday': 72,\n",
       " 'time': 73,\n",
       " 'trade': 74,\n",
       " 'visit': 75,\n",
       " 'water': 76,\n",
       " 'white': 77,\n",
       " 'who': 78,\n",
       " 'woman': 79,\n",
       " 'wrong': 80,\n",
       " 'year': 81,\n",
       " 'yes': 82,\n",
       " 'yesterday': 83}"
      ]
     },
     "execution_count": 64,
     "metadata": {},
     "output_type": "execute_result"
    }
   ],
   "source": [
    "label_map"
   ]
  },
  {
   "cell_type": "code",
   "execution_count": 65,
   "id": "962046fb",
   "metadata": {
    "ExecuteTime": {
     "end_time": "2023-08-03T22:14:33.143252Z",
     "start_time": "2023-08-03T22:14:33.135613Z"
    }
   },
   "outputs": [
    {
     "data": {
      "text/html": [
       "<div>\n",
       "<style scoped>\n",
       "    .dataframe tbody tr th:only-of-type {\n",
       "        vertical-align: middle;\n",
       "    }\n",
       "\n",
       "    .dataframe tbody tr th {\n",
       "        vertical-align: top;\n",
       "    }\n",
       "\n",
       "    .dataframe thead th {\n",
       "        text-align: right;\n",
       "    }\n",
       "</style>\n",
       "<table border=\"1\" class=\"dataframe\">\n",
       "  <thead>\n",
       "    <tr style=\"text-align: right;\">\n",
       "      <th></th>\n",
       "      <th>path</th>\n",
       "      <th>target</th>\n",
       "      <th>file</th>\n",
       "      <th>originaltarget</th>\n",
       "      <th>frequency</th>\n",
       "      <th>frames</th>\n",
       "      <th>cat_label</th>\n",
       "    </tr>\n",
       "  </thead>\n",
       "  <tbody>\n",
       "    <tr>\n",
       "      <th>300</th>\n",
       "      <td>file:/home/kristian/WLASL/videos_organized/clo...</td>\n",
       "      <td>clothes</td>\n",
       "      <td>11321.mp4</td>\n",
       "      <td>clothes</td>\n",
       "      <td>23</td>\n",
       "      <td>139</td>\n",
       "      <td>16</td>\n",
       "    </tr>\n",
       "    <tr>\n",
       "      <th>610</th>\n",
       "      <td>file:/home/kristian/WLASL/videos_organized/for...</td>\n",
       "      <td>forget</td>\n",
       "      <td>68054.mp4</td>\n",
       "      <td>forget</td>\n",
       "      <td>16</td>\n",
       "      <td>51</td>\n",
       "      <td>34</td>\n",
       "    </tr>\n",
       "    <tr>\n",
       "      <th>1356</th>\n",
       "      <td>file:/home/kristian/WLASL/videos_organized/yea...</td>\n",
       "      <td>year</td>\n",
       "      <td>64201.mp4</td>\n",
       "      <td>year</td>\n",
       "      <td>16</td>\n",
       "      <td>77</td>\n",
       "      <td>81</td>\n",
       "    </tr>\n",
       "    <tr>\n",
       "      <th>1273</th>\n",
       "      <td>file:/home/kristian/WLASL/videos_organized/wat...</td>\n",
       "      <td>water</td>\n",
       "      <td>62479.mp4</td>\n",
       "      <td>water</td>\n",
       "      <td>15</td>\n",
       "      <td>53</td>\n",
       "      <td>76</td>\n",
       "    </tr>\n",
       "    <tr>\n",
       "      <th>733</th>\n",
       "      <td>file:/home/kristian/WLASL/videos_organized/hea...</td>\n",
       "      <td>hearing</td>\n",
       "      <td>26986.mp4</td>\n",
       "      <td>hearing</td>\n",
       "      <td>15</td>\n",
       "      <td>60</td>\n",
       "      <td>42</td>\n",
       "    </tr>\n",
       "    <tr>\n",
       "      <th>640</th>\n",
       "      <td>file:/home/kristian/WLASL/videos_organized/giv...</td>\n",
       "      <td>give</td>\n",
       "      <td>24660.mp4</td>\n",
       "      <td>give</td>\n",
       "      <td>15</td>\n",
       "      <td>70</td>\n",
       "      <td>36</td>\n",
       "    </tr>\n",
       "    <tr>\n",
       "      <th>206</th>\n",
       "      <td>file:/home/kristian/WLASL/videos_organized/cha...</td>\n",
       "      <td>chair</td>\n",
       "      <td>09848.mp4</td>\n",
       "      <td>chair</td>\n",
       "      <td>22</td>\n",
       "      <td>96</td>\n",
       "      <td>11</td>\n",
       "    </tr>\n",
       "    <tr>\n",
       "      <th>1216</th>\n",
       "      <td>file:/home/kristian/WLASL/videos_organized/thu...</td>\n",
       "      <td>thursday</td>\n",
       "      <td>58365.mp4</td>\n",
       "      <td>thursday</td>\n",
       "      <td>16</td>\n",
       "      <td>69</td>\n",
       "      <td>72</td>\n",
       "    </tr>\n",
       "    <tr>\n",
       "      <th>1315</th>\n",
       "      <td>file:/home/kristian/WLASL/videos_organized/who...</td>\n",
       "      <td>who</td>\n",
       "      <td>63237.mp4</td>\n",
       "      <td>who</td>\n",
       "      <td>17</td>\n",
       "      <td>47</td>\n",
       "      <td>78</td>\n",
       "    </tr>\n",
       "    <tr>\n",
       "      <th>1095</th>\n",
       "      <td>file:/home/kristian/WLASL/videos_organized/sho...</td>\n",
       "      <td>short</td>\n",
       "      <td>51221.mp4</td>\n",
       "      <td>short</td>\n",
       "      <td>16</td>\n",
       "      <td>100</td>\n",
       "      <td>65</td>\n",
       "    </tr>\n",
       "  </tbody>\n",
       "</table>\n",
       "</div>"
      ],
      "text/plain": [
       "                                                   path    target       file  \\\n",
       "300   file:/home/kristian/WLASL/videos_organized/clo...   clothes  11321.mp4   \n",
       "610   file:/home/kristian/WLASL/videos_organized/for...    forget  68054.mp4   \n",
       "1356  file:/home/kristian/WLASL/videos_organized/yea...      year  64201.mp4   \n",
       "1273  file:/home/kristian/WLASL/videos_organized/wat...     water  62479.mp4   \n",
       "733   file:/home/kristian/WLASL/videos_organized/hea...   hearing  26986.mp4   \n",
       "640   file:/home/kristian/WLASL/videos_organized/giv...      give  24660.mp4   \n",
       "206   file:/home/kristian/WLASL/videos_organized/cha...     chair  09848.mp4   \n",
       "1216  file:/home/kristian/WLASL/videos_organized/thu...  thursday  58365.mp4   \n",
       "1315  file:/home/kristian/WLASL/videos_organized/who...       who  63237.mp4   \n",
       "1095  file:/home/kristian/WLASL/videos_organized/sho...     short  51221.mp4   \n",
       "\n",
       "     originaltarget  frequency  frames  cat_label  \n",
       "300         clothes         23     139         16  \n",
       "610          forget         16      51         34  \n",
       "1356           year         16      77         81  \n",
       "1273          water         15      53         76  \n",
       "733         hearing         15      60         42  \n",
       "640            give         15      70         36  \n",
       "206           chair         22      96         11  \n",
       "1216       thursday         16      69         72  \n",
       "1315            who         17      47         78  \n",
       "1095          short         16     100         65  "
      ]
     },
     "execution_count": 65,
     "metadata": {},
     "output_type": "execute_result"
    }
   ],
   "source": [
    "video_df.sample(10)"
   ]
  },
  {
   "cell_type": "code",
   "execution_count": 66,
   "id": "6bf774ca",
   "metadata": {
    "ExecuteTime": {
     "end_time": "2023-08-03T22:14:48.719999Z",
     "start_time": "2023-08-03T22:14:48.715700Z"
    }
   },
   "outputs": [],
   "source": [
    "Y = encoder.fit_transform(video_df[['target']])"
   ]
  },
  {
   "cell_type": "code",
   "execution_count": 67,
   "id": "fac9b5f8",
   "metadata": {
    "ExecuteTime": {
     "end_time": "2023-08-03T22:14:55.137808Z",
     "start_time": "2023-08-03T22:14:55.133456Z"
    }
   },
   "outputs": [
    {
     "data": {
      "text/plain": [
       "array([[ 0.],\n",
       "       [ 0.],\n",
       "       [ 0.],\n",
       "       ...,\n",
       "       [83.],\n",
       "       [83.],\n",
       "       [83.]])"
      ]
     },
     "execution_count": 67,
     "metadata": {},
     "output_type": "execute_result"
    }
   ],
   "source": [
    "Y"
   ]
  },
  {
   "cell_type": "code",
   "execution_count": 70,
   "id": "d52a77ac",
   "metadata": {
    "ExecuteTime": {
     "end_time": "2023-08-03T10:17:06.982532Z",
     "start_time": "2023-08-03T10:17:06.977460Z"
    }
   },
   "outputs": [
    {
     "name": "stdout",
     "output_type": "stream",
     "text": [
      "Shape before one-hot encoding:  (1405, 1)\n",
      "Shape after one-hot encoding:  (1405, 84)\n"
     ]
    }
   ],
   "source": [
    "n_classes = 84\n",
    "print(\"Shape before one-hot encoding: \", Y.shape)\n",
    "Y = to_categorical(Y, n_classes)\n",
    "print(\"Shape after one-hot encoding: \", Y.shape)"
   ]
  },
  {
   "cell_type": "code",
   "execution_count": 68,
   "id": "28e63d67",
   "metadata": {
    "ExecuteTime": {
     "end_time": "2023-08-03T22:15:11.869765Z",
     "start_time": "2023-08-03T22:15:11.867359Z"
    }
   },
   "outputs": [],
   "source": [
    "X = keypoints_np"
   ]
  },
  {
   "cell_type": "code",
   "execution_count": 69,
   "id": "f7ed8513",
   "metadata": {
    "ExecuteTime": {
     "end_time": "2023-08-03T22:15:13.047531Z",
     "start_time": "2023-08-03T22:15:13.044471Z"
    }
   },
   "outputs": [
    {
     "data": {
      "text/plain": [
       "(1405, 212, 1662)"
      ]
     },
     "execution_count": 69,
     "metadata": {},
     "output_type": "execute_result"
    }
   ],
   "source": [
    "X.shape"
   ]
  },
  {
   "cell_type": "code",
   "execution_count": 71,
   "id": "7cd74294",
   "metadata": {
    "ExecuteTime": {
     "end_time": "2023-08-03T22:15:31.814063Z",
     "start_time": "2023-08-03T22:15:31.780681Z"
    }
   },
   "outputs": [],
   "source": [
    "np.save(\"/home/kristian/Capstone/keypoints/labels_array_1D.npy\", Y)"
   ]
  },
  {
   "cell_type": "code",
   "execution_count": 7,
   "id": "7f203e75",
   "metadata": {
    "ExecuteTime": {
     "end_time": "2023-08-03T18:53:54.315723Z",
     "start_time": "2023-08-03T18:53:54.313180Z"
    }
   },
   "outputs": [],
   "source": [
    "Y=np.load('/home/kristian/Capstone/keypoints/labels_array.npy')"
   ]
  },
  {
   "cell_type": "code",
   "execution_count": 8,
   "id": "eb749626",
   "metadata": {
    "ExecuteTime": {
     "end_time": "2023-08-03T18:53:55.916113Z",
     "start_time": "2023-08-03T18:53:55.912804Z"
    }
   },
   "outputs": [
    {
     "data": {
      "text/plain": [
       "numpy.ndarray"
      ]
     },
     "execution_count": 8,
     "metadata": {},
     "output_type": "execute_result"
    }
   ],
   "source": [
    "type(Y)"
   ]
  },
  {
   "cell_type": "code",
   "execution_count": 9,
   "id": "3258ad3f",
   "metadata": {
    "ExecuteTime": {
     "end_time": "2023-08-03T18:53:57.508551Z",
     "start_time": "2023-08-03T18:53:57.504595Z"
    }
   },
   "outputs": [
    {
     "data": {
      "text/plain": [
       "(1405, 84)"
      ]
     },
     "execution_count": 9,
     "metadata": {},
     "output_type": "execute_result"
    }
   ],
   "source": [
    "Y.shape"
   ]
  },
  {
   "cell_type": "code",
   "execution_count": 10,
   "id": "0a2e3c0b",
   "metadata": {
    "ExecuteTime": {
     "end_time": "2023-08-03T18:54:09.792399Z",
     "start_time": "2023-08-03T18:54:08.816481Z"
    }
   },
   "outputs": [],
   "source": [
    "X_train, X_test, Y_train, Y_test = train_test_split(X, \n",
    "                                                    Y,\n",
    "                                                    test_size=0.2,\n",
    "                                                    random_state=10)"
   ]
  },
  {
   "cell_type": "code",
   "execution_count": 13,
   "id": "5a8fde5c",
   "metadata": {
    "ExecuteTime": {
     "end_time": "2023-08-03T18:02:26.004380Z",
     "start_time": "2023-08-03T18:02:22.713446Z"
    }
   },
   "outputs": [],
   "source": [
    "from sklearn.preprocessing import MinMaxScaler\n",
    "\n",
    "# Reshape your input data to match the shape (samples, features)\n",
    "# Assuming your data is named \"input_data\"\n",
    "num_samples, num_frames, num_keypoints = X.shape\n",
    "input_data_reshaped = X.reshape(num_samples, -1)\n",
    "\n",
    "# Create a MinMaxScaler\n",
    "scaler = MinMaxScaler()\n",
    "\n",
    "# Fit and transform the data\n",
    "input_data_scaled = scaler.fit_transform(input_data_reshaped)\n",
    "\n",
    "# Reshape the scaled data back to the original shape\n",
    "input_data_scaled = input_data_scaled.reshape(num_samples, num_frames, num_keypoints)"
   ]
  },
  {
   "cell_type": "code",
   "execution_count": 12,
   "id": "e8042926",
   "metadata": {
    "ExecuteTime": {
     "end_time": "2023-08-03T15:07:54.134468Z",
     "start_time": "2023-08-03T15:07:54.130682Z"
    }
   },
   "outputs": [
    {
     "data": {
      "text/plain": [
       "(1405, 212, 1662)"
      ]
     },
     "execution_count": 12,
     "metadata": {},
     "output_type": "execute_result"
    }
   ],
   "source": [
    "input_data_scaled.shape"
   ]
  },
  {
   "cell_type": "code",
   "execution_count": 20,
   "id": "49da28e5",
   "metadata": {
    "ExecuteTime": {
     "end_time": "2023-08-03T15:51:46.223692Z",
     "start_time": "2023-08-03T15:51:46.190010Z"
    }
   },
   "outputs": [
    {
     "ename": "NameError",
     "evalue": "name 'input_data_scaled' is not defined",
     "output_type": "error",
     "traceback": [
      "\u001b[0;31m---------------------------------------------------------------------------\u001b[0m",
      "\u001b[0;31mNameError\u001b[0m                                 Traceback (most recent call last)",
      "Cell \u001b[0;32mIn[20], line 1\u001b[0m\n\u001b[0;32m----> 1\u001b[0m X_train, X_test, Y_train, Y_test, mask_train, mask_test \u001b[38;5;241m=\u001b[39m train_test_split(\u001b[43minput_data_scaled\u001b[49m,\n\u001b[1;32m      2\u001b[0m                                                     Y, mask,\n\u001b[1;32m      3\u001b[0m                                                     test_size\u001b[38;5;241m=\u001b[39m\u001b[38;5;241m0.1\u001b[39m,\n\u001b[1;32m      4\u001b[0m                                                     random_state\u001b[38;5;241m=\u001b[39m\u001b[38;5;241m10\u001b[39m)\n",
      "\u001b[0;31mNameError\u001b[0m: name 'input_data_scaled' is not defined"
     ]
    }
   ],
   "source": [
    "X_train, X_test, Y_train, Y_test = train_test_split(input_data_scaled,\n",
    "                                                    Y,\n",
    "                                                    test_size=0.,\n",
    "                                                    random_state=10)"
   ]
  },
  {
   "cell_type": "code",
   "execution_count": 21,
   "id": "61ba291c",
   "metadata": {
    "ExecuteTime": {
     "end_time": "2023-08-03T15:58:19.701582Z",
     "start_time": "2023-08-03T15:58:19.695610Z"
    }
   },
   "outputs": [
    {
     "data": {
      "text/plain": [
       "(1124, 212)"
      ]
     },
     "execution_count": 21,
     "metadata": {},
     "output_type": "execute_result"
    }
   ],
   "source": [
    "mask_train.shape"
   ]
  },
  {
   "cell_type": "code",
   "execution_count": 23,
   "id": "c00d3fb2",
   "metadata": {
    "ExecuteTime": {
     "end_time": "2023-08-03T16:31:22.053464Z",
     "start_time": "2023-08-03T16:31:22.045618Z"
    }
   },
   "outputs": [
    {
     "data": {
      "text/plain": [
       "(1264, 212, 1662)"
      ]
     },
     "execution_count": 23,
     "metadata": {},
     "output_type": "execute_result"
    }
   ],
   "source": [
    "X_train.shape"
   ]
  },
  {
   "cell_type": "markdown",
   "id": "965a4a24",
   "metadata": {},
   "source": [
    "# Model"
   ]
  },
  {
   "cell_type": "code",
   "execution_count": 11,
   "id": "80a6472e",
   "metadata": {
    "ExecuteTime": {
     "end_time": "2023-08-03T18:54:13.916097Z",
     "start_time": "2023-08-03T18:54:13.887022Z"
    }
   },
   "outputs": [],
   "source": [
    "from tensorflow.keras.models import Sequential\n",
    "from tensorflow.keras.layers import LSTM, Dense, Dropout, GRU\n",
    "from tensorflow.keras.callbacks import TensorBoard\n",
    "import tensorflow as tf\n",
    "import tensorflow as tf\n",
    "from tensorflow.keras import layers, models\n",
    "from tensorflow.keras.optimizers import Adam\n"
   ]
  },
  {
   "cell_type": "code",
   "execution_count": 12,
   "id": "5ae984cb",
   "metadata": {
    "ExecuteTime": {
     "end_time": "2023-08-03T18:54:16.599862Z",
     "start_time": "2023-08-03T18:54:16.522298Z"
    }
   },
   "outputs": [],
   "source": [
    "physical_devices = tf.config.list_physical_devices('GPU')\n",
    "if physical_devices:\n",
    "    for device in physical_devices:\n",
    "        tf.config.experimental.set_memory_growth(device, True)"
   ]
  },
  {
   "cell_type": "code",
   "execution_count": 14,
   "id": "4f92236a",
   "metadata": {
    "ExecuteTime": {
     "end_time": "2023-08-03T18:32:58.269560Z",
     "start_time": "2023-08-03T18:32:58.263812Z"
    }
   },
   "outputs": [],
   "source": [
    "log_dir = os.path.join('Logs')\n",
    "tb_callback = TensorBoard(log_dir=log_dir)"
   ]
  },
  {
   "cell_type": "code",
   "execution_count": 16,
   "id": "d3aecc93",
   "metadata": {
    "ExecuteTime": {
     "end_time": "2023-08-03T16:33:23.893453Z",
     "start_time": "2023-08-03T16:33:23.799685Z"
    }
   },
   "outputs": [
    {
     "name": "stderr",
     "output_type": "stream",
     "text": [
      "2023-08-03 17:33:23.873474: I tensorflow/core/common_runtime/gpu/gpu_device.cc:1639] Created device /job:localhost/replica:0/task:0/device:GPU:0 with 1739 MB memory:  -> device: 0, name: NVIDIA GeForce MX250, pci bus id: 0000:01:00.0, compute capability: 6.1\n"
     ]
    }
   ],
   "source": [
    "model = Sequential(name='sequential')"
   ]
  },
  {
   "cell_type": "code",
   "execution_count": 17,
   "id": "d8f02a77",
   "metadata": {
    "ExecuteTime": {
     "end_time": "2023-08-03T16:33:30.105133Z",
     "start_time": "2023-08-03T16:33:29.800679Z"
    }
   },
   "outputs": [
    {
     "name": "stdout",
     "output_type": "stream",
     "text": [
      "WARNING:tensorflow:Layer lstm will not use cuDNN kernels since it doesn't meet the criteria. It will use a generic GPU kernel as fallback when running on GPU.\n",
      "WARNING:tensorflow:Layer lstm_1 will not use cuDNN kernels since it doesn't meet the criteria. It will use a generic GPU kernel as fallback when running on GPU.\n",
      "WARNING:tensorflow:Layer lstm_2 will not use cuDNN kernels since it doesn't meet the criteria. It will use a generic GPU kernel as fallback when running on GPU.\n"
     ]
    }
   ],
   "source": [
    "model.add(LSTM(128, return_sequences=True, activation='relu', dropout=0.5,input_shape=(212,1662)))\n",
    "#model.add(Dropout(0.5))\n",
    "model.add(LSTM(64, return_sequences=True, activation='sigmoid',dropout=.5))\n",
    "#model.add(Dropout(0.25))\n",
    "model.add(LSTM(128, return_sequences=False, activation='sigmoid'))\n",
    "model.add(Dense(128, activation='relu'))\n",
    "model.add(Dense(64, activation='relu'))\n",
    "model.add(Dense(Y.shape[1], activation='softmax'))"
   ]
  },
  {
   "cell_type": "code",
   "execution_count": 18,
   "id": "24f632e6",
   "metadata": {
    "ExecuteTime": {
     "end_time": "2023-08-03T16:33:36.815799Z",
     "start_time": "2023-08-03T16:33:36.787150Z"
    },
    "scrolled": false
   },
   "outputs": [
    {
     "name": "stdout",
     "output_type": "stream",
     "text": [
      "Model: \"sequential\"\n",
      "_________________________________________________________________\n",
      " Layer (type)                Output Shape              Param #   \n",
      "=================================================================\n",
      " lstm (LSTM)                 (None, 212, 128)          916992    \n",
      "                                                                 \n",
      " lstm_1 (LSTM)               (None, 212, 64)           49408     \n",
      "                                                                 \n",
      " lstm_2 (LSTM)               (None, 128)               98816     \n",
      "                                                                 \n",
      " dense (Dense)               (None, 128)               16512     \n",
      "                                                                 \n",
      " dense_1 (Dense)             (None, 64)                8256      \n",
      "                                                                 \n",
      " dense_2 (Dense)             (None, 84)                5460      \n",
      "                                                                 \n",
      "=================================================================\n",
      "Total params: 1095444 (4.18 MB)\n",
      "Trainable params: 1095444 (4.18 MB)\n",
      "Non-trainable params: 0 (0.00 Byte)\n",
      "_________________________________________________________________\n"
     ]
    }
   ],
   "source": [
    "model.summary()"
   ]
  },
  {
   "cell_type": "code",
   "execution_count": 19,
   "id": "27a718ee",
   "metadata": {
    "ExecuteTime": {
     "end_time": "2023-08-03T16:33:37.614143Z",
     "start_time": "2023-08-03T16:33:37.591258Z"
    }
   },
   "outputs": [],
   "source": [
    "optimizer = Adam(learning_rate=.001,clipvalue=0)\n",
    "model.compile(optimizer=optimizer, loss='categorical_crossentropy', metrics=['categorical_accuracy'])"
   ]
  },
  {
   "cell_type": "code",
   "execution_count": 20,
   "id": "93800134",
   "metadata": {
    "ExecuteTime": {
     "end_time": "2023-08-03T16:33:53.092986Z",
     "start_time": "2023-08-03T16:33:39.198542Z"
    },
    "scrolled": true
   },
   "outputs": [
    {
     "name": "stderr",
     "output_type": "stream",
     "text": [
      "2023-08-03 17:33:39.635109: W tensorflow/tsl/framework/cpu_allocator_impl.cc:83] Allocation of 1781451264 exceeds 10% of free system memory.\n",
      "2023-08-03 17:33:41.049569: W tensorflow/tsl/framework/cpu_allocator_impl.cc:83] Allocation of 1781451264 exceeds 10% of free system memory.\n"
     ]
    },
    {
     "name": "stdout",
     "output_type": "stream",
     "text": [
      "Epoch 1/20\n"
     ]
    },
    {
     "name": "stderr",
     "output_type": "stream",
     "text": [
      "2023-08-03 17:33:53.017370: W tensorflow/tsl/framework/bfc_allocator.cc:485] Allocator (GPU_0_bfc) ran out of memory trying to allocate 256.0KiB (rounded to 262144)requested by op Fill\n",
      "If the cause is memory fragmentation maybe the environment variable 'TF_GPU_ALLOCATOR=cuda_malloc_async' will improve the situation. \n",
      "Current allocation summary follows.\n",
      "Current allocation summary follows.\n",
      "2023-08-03 17:33:53.017446: I tensorflow/tsl/framework/bfc_allocator.cc:1039] BFCAllocator dump for GPU_0_bfc\n",
      "2023-08-03 17:33:53.017473: I tensorflow/tsl/framework/bfc_allocator.cc:1046] Bin (256): \tTotal Chunks: 26, Chunks in use: 26. 6.5KiB allocated for chunks. 6.5KiB in use in bin. 369B client-requested in use in bin.\n",
      "2023-08-03 17:33:53.017494: I tensorflow/tsl/framework/bfc_allocator.cc:1046] Bin (512): \tTotal Chunks: 2, Chunks in use: 2. 1.0KiB allocated for chunks. 1.0KiB in use in bin. 848B client-requested in use in bin.\n",
      "2023-08-03 17:33:53.017514: I tensorflow/tsl/framework/bfc_allocator.cc:1046] Bin (1024): \tTotal Chunks: 2, Chunks in use: 2. 2.2KiB allocated for chunks. 2.2KiB in use in bin. 2.0KiB client-requested in use in bin.\n",
      "2023-08-03 17:33:53.017532: I tensorflow/tsl/framework/bfc_allocator.cc:1046] Bin (2048): \tTotal Chunks: 2, Chunks in use: 2. 4.0KiB allocated for chunks. 4.0KiB in use in bin. 4.0KiB client-requested in use in bin.\n",
      "2023-08-03 17:33:53.017549: I tensorflow/tsl/framework/bfc_allocator.cc:1046] Bin (4096): \tTotal Chunks: 0, Chunks in use: 0. 0B allocated for chunks. 0B in use in bin. 0B client-requested in use in bin.\n",
      "2023-08-03 17:33:53.017566: I tensorflow/tsl/framework/bfc_allocator.cc:1046] Bin (8192): \tTotal Chunks: 1, Chunks in use: 0. 9.2KiB allocated for chunks. 0B in use in bin. 0B client-requested in use in bin.\n",
      "2023-08-03 17:33:53.017587: I tensorflow/tsl/framework/bfc_allocator.cc:1046] Bin (16384): \tTotal Chunks: 1, Chunks in use: 1. 22.0KiB allocated for chunks. 22.0KiB in use in bin. 21.0KiB client-requested in use in bin.\n",
      "2023-08-03 17:33:53.017606: I tensorflow/tsl/framework/bfc_allocator.cc:1046] Bin (32768): \tTotal Chunks: 2, Chunks in use: 1. 74.0KiB allocated for chunks. 32.0KiB in use in bin. 32.0KiB client-requested in use in bin.\n",
      "2023-08-03 17:33:53.017627: I tensorflow/tsl/framework/bfc_allocator.cc:1046] Bin (65536): \tTotal Chunks: 3, Chunks in use: 2. 272.0KiB allocated for chunks. 176.0KiB in use in bin. 128.0KiB client-requested in use in bin.\n",
      "2023-08-03 17:33:53.017647: I tensorflow/tsl/framework/bfc_allocator.cc:1046] Bin (131072): \tTotal Chunks: 2, Chunks in use: 2. 380.0KiB allocated for chunks. 380.0KiB in use in bin. 256.0KiB client-requested in use in bin.\n",
      "2023-08-03 17:33:53.017666: I tensorflow/tsl/framework/bfc_allocator.cc:1046] Bin (262144): \tTotal Chunks: 4, Chunks in use: 4. 1.25MiB allocated for chunks. 1.25MiB in use in bin. 1.15MiB client-requested in use in bin.\n",
      "2023-08-03 17:33:53.017682: I tensorflow/tsl/framework/bfc_allocator.cc:1046] Bin (524288): \tTotal Chunks: 0, Chunks in use: 0. 0B allocated for chunks. 0B in use in bin. 0B client-requested in use in bin.\n",
      "2023-08-03 17:33:53.017697: I tensorflow/tsl/framework/bfc_allocator.cc:1046] Bin (1048576): \tTotal Chunks: 0, Chunks in use: 0. 0B allocated for chunks. 0B in use in bin. 0B client-requested in use in bin.\n",
      "2023-08-03 17:33:53.017715: I tensorflow/tsl/framework/bfc_allocator.cc:1046] Bin (2097152): \tTotal Chunks: 1, Chunks in use: 1. 3.25MiB allocated for chunks. 3.25MiB in use in bin. 3.25MiB client-requested in use in bin.\n",
      "2023-08-03 17:33:53.017733: I tensorflow/tsl/framework/bfc_allocator.cc:1046] Bin (4194304): \tTotal Chunks: 2, Chunks in use: 2. 8.75MiB allocated for chunks. 8.75MiB in use in bin. 6.49MiB client-requested in use in bin.\n",
      "2023-08-03 17:33:53.017749: I tensorflow/tsl/framework/bfc_allocator.cc:1046] Bin (8388608): \tTotal Chunks: 0, Chunks in use: 0. 0B allocated for chunks. 0B in use in bin. 0B client-requested in use in bin.\n",
      "2023-08-03 17:33:53.017765: I tensorflow/tsl/framework/bfc_allocator.cc:1046] Bin (16777216): \tTotal Chunks: 0, Chunks in use: 0. 0B allocated for chunks. 0B in use in bin. 0B client-requested in use in bin.\n",
      "2023-08-03 17:33:53.017781: I tensorflow/tsl/framework/bfc_allocator.cc:1046] Bin (33554432): \tTotal Chunks: 0, Chunks in use: 0. 0B allocated for chunks. 0B in use in bin. 0B client-requested in use in bin.\n",
      "2023-08-03 17:33:53.017796: I tensorflow/tsl/framework/bfc_allocator.cc:1046] Bin (67108864): \tTotal Chunks: 0, Chunks in use: 0. 0B allocated for chunks. 0B in use in bin. 0B client-requested in use in bin.\n",
      "2023-08-03 17:33:53.017812: I tensorflow/tsl/framework/bfc_allocator.cc:1046] Bin (134217728): \tTotal Chunks: 0, Chunks in use: 0. 0B allocated for chunks. 0B in use in bin. 0B client-requested in use in bin.\n",
      "2023-08-03 17:33:53.017830: I tensorflow/tsl/framework/bfc_allocator.cc:1046] Bin (268435456): \tTotal Chunks: 1, Chunks in use: 1. 1.68GiB allocated for chunks. 1.68GiB in use in bin. 1.66GiB client-requested in use in bin.\n",
      "2023-08-03 17:33:53.017860: I tensorflow/tsl/framework/bfc_allocator.cc:1062] Bin for 256.0KiB was 256.0KiB, Chunk State: \n",
      "2023-08-03 17:33:53.017875: I tensorflow/tsl/framework/bfc_allocator.cc:1075] Next region of size 1809448960\n",
      "2023-08-03 17:33:53.017897: I tensorflow/tsl/framework/bfc_allocator.cc:1095] InUse at 7f14ea000000 of size 1809448960 next 18446744073709551615\n",
      "2023-08-03 17:33:53.017912: I tensorflow/tsl/framework/bfc_allocator.cc:1075] Next region of size 2097152\n",
      "2023-08-03 17:33:53.017925: I tensorflow/tsl/framework/bfc_allocator.cc:1095] InUse at 7f1664c00000 of size 256 next 1\n",
      "2023-08-03 17:33:53.017939: I tensorflow/tsl/framework/bfc_allocator.cc:1095] InUse at 7f1664c00100 of size 1280 next 2\n",
      "2023-08-03 17:33:53.017952: I tensorflow/tsl/framework/bfc_allocator.cc:1095] InUse at 7f1664c00600 of size 256 next 3\n",
      "2023-08-03 17:33:53.017963: I tensorflow/tsl/framework/bfc_allocator.cc:1095] InUse at 7f1664c00700 of size 256 next 4\n",
      "2023-08-03 17:33:53.017975: I tensorflow/tsl/framework/bfc_allocator.cc:1095] InUse at 7f1664c00800 of size 256 next 5\n",
      "2023-08-03 17:33:53.017987: I tensorflow/tsl/framework/bfc_allocator.cc:1095] InUse at 7f1664c00900 of size 256 next 6\n",
      "2023-08-03 17:33:53.017999: I tensorflow/tsl/framework/bfc_allocator.cc:1095] InUse at 7f1664c00a00 of size 256 next 12\n",
      "2023-08-03 17:33:53.018011: I tensorflow/tsl/framework/bfc_allocator.cc:1095] InUse at 7f1664c00b00 of size 256 next 13\n",
      "2023-08-03 17:33:53.018022: I tensorflow/tsl/framework/bfc_allocator.cc:1095] InUse at 7f1664c00c00 of size 256 next 8\n",
      "2023-08-03 17:33:53.018034: I tensorflow/tsl/framework/bfc_allocator.cc:1095] InUse at 7f1664c00d00 of size 256 next 11\n",
      "2023-08-03 17:33:53.018045: I tensorflow/tsl/framework/bfc_allocator.cc:1095] InUse at 7f1664c00e00 of size 256 next 20\n",
      "2023-08-03 17:33:53.018057: I tensorflow/tsl/framework/bfc_allocator.cc:1095] InUse at 7f1664c00f00 of size 256 next 24\n",
      "2023-08-03 17:33:53.018069: I tensorflow/tsl/framework/bfc_allocator.cc:1095] InUse at 7f1664c01000 of size 256 next 26\n",
      "2023-08-03 17:33:53.018081: I tensorflow/tsl/framework/bfc_allocator.cc:1095] InUse at 7f1664c01100 of size 256 next 31\n",
      "2023-08-03 17:33:53.018093: I tensorflow/tsl/framework/bfc_allocator.cc:1095] InUse at 7f1664c01200 of size 512 next 15\n",
      "2023-08-03 17:33:53.018105: I tensorflow/tsl/framework/bfc_allocator.cc:1095] InUse at 7f1664c01400 of size 2048 next 17\n",
      "2023-08-03 17:33:53.018118: I tensorflow/tsl/framework/bfc_allocator.cc:1095] InUse at 7f1664c01c00 of size 1024 next 25\n",
      "2023-08-03 17:33:53.018130: I tensorflow/tsl/framework/bfc_allocator.cc:1095] InUse at 7f1664c02000 of size 256 next 33\n",
      "2023-08-03 17:33:53.018141: I tensorflow/tsl/framework/bfc_allocator.cc:1095] InUse at 7f1664c02100 of size 256 next 32\n",
      "2023-08-03 17:33:53.018153: I tensorflow/tsl/framework/bfc_allocator.cc:1095] InUse at 7f1664c02200 of size 256 next 36\n",
      "2023-08-03 17:33:53.018165: I tensorflow/tsl/framework/bfc_allocator.cc:1095] InUse at 7f1664c02300 of size 256 next 18\n",
      "2023-08-03 17:33:53.018177: I tensorflow/tsl/framework/bfc_allocator.cc:1095] InUse at 7f1664c02400 of size 2048 next 30\n",
      "2023-08-03 17:33:53.018188: I tensorflow/tsl/framework/bfc_allocator.cc:1095] InUse at 7f1664c02c00 of size 256 next 35\n",
      "2023-08-03 17:33:53.018200: I tensorflow/tsl/framework/bfc_allocator.cc:1095] InUse at 7f1664c02d00 of size 512 next 40\n",
      "2023-08-03 17:33:53.018212: I tensorflow/tsl/framework/bfc_allocator.cc:1095] InUse at 7f1664c02f00 of size 256 next 38\n",
      "2023-08-03 17:33:53.018224: I tensorflow/tsl/framework/bfc_allocator.cc:1095] InUse at 7f1664c03000 of size 256 next 39\n",
      "2023-08-03 17:33:53.018235: I tensorflow/tsl/framework/bfc_allocator.cc:1095] InUse at 7f1664c03100 of size 256 next 41\n",
      "2023-08-03 17:33:53.018246: I tensorflow/tsl/framework/bfc_allocator.cc:1095] InUse at 7f1664c03200 of size 256 next 43\n",
      "2023-08-03 17:33:53.018258: I tensorflow/tsl/framework/bfc_allocator.cc:1095] InUse at 7f1664c03300 of size 256 next 45\n",
      "2023-08-03 17:33:53.018272: I tensorflow/tsl/framework/bfc_allocator.cc:1095] InUse at 7f1664c03400 of size 256 next 46\n",
      "2023-08-03 17:33:53.018285: I tensorflow/tsl/framework/bfc_allocator.cc:1095] InUse at 7f1664c03500 of size 256 next 47\n",
      "2023-08-03 17:33:53.018296: I tensorflow/tsl/framework/bfc_allocator.cc:1095] InUse at 7f1664c03600 of size 256 next 48\n",
      "2023-08-03 17:33:53.018308: I tensorflow/tsl/framework/bfc_allocator.cc:1095] Free  at 7f1664c03700 of size 9472 next 19\n",
      "2023-08-03 17:33:53.018322: I tensorflow/tsl/framework/bfc_allocator.cc:1095] InUse at 7f1664c05c00 of size 114688 next 23\n",
      "2023-08-03 17:33:53.018334: I tensorflow/tsl/framework/bfc_allocator.cc:1095] InUse at 7f1664c21c00 of size 32768 next 37\n",
      "2023-08-03 17:33:53.018346: I tensorflow/tsl/framework/bfc_allocator.cc:1095] Free  at 7f1664c29c00 of size 98304 next 22\n",
      "2023-08-03 17:33:53.018359: I tensorflow/tsl/framework/bfc_allocator.cc:1095] InUse at 7f1664c41c00 of size 131072 next 21\n",
      "2023-08-03 17:33:53.018372: I tensorflow/tsl/framework/bfc_allocator.cc:1095] InUse at 7f1664c61c00 of size 65536 next 34\n",
      "2023-08-03 17:33:53.018384: I tensorflow/tsl/framework/bfc_allocator.cc:1095] Free  at 7f1664c71c00 of size 43008 next 42\n",
      "2023-08-03 17:33:53.018397: I tensorflow/tsl/framework/bfc_allocator.cc:1095] InUse at 7f1664c7c400 of size 22528 next 28\n",
      "2023-08-03 17:33:53.018409: I tensorflow/tsl/framework/bfc_allocator.cc:1095] InUse at 7f1664c81c00 of size 258048 next 14\n",
      "2023-08-03 17:33:53.018421: I tensorflow/tsl/framework/bfc_allocator.cc:1095] InUse at 7f1664cc0c00 of size 262144 next 16\n",
      "2023-08-03 17:33:53.018433: I tensorflow/tsl/framework/bfc_allocator.cc:1095] InUse at 7f1664d00c00 of size 262144 next 27\n",
      "2023-08-03 17:33:53.018445: I tensorflow/tsl/framework/bfc_allocator.cc:1095] InUse at 7f1664d40c00 of size 262144 next 29\n",
      "2023-08-03 17:33:53.018458: I tensorflow/tsl/framework/bfc_allocator.cc:1095] InUse at 7f1664d80c00 of size 521216 next 18446744073709551615\n",
      "2023-08-03 17:33:53.018474: I tensorflow/tsl/framework/bfc_allocator.cc:1075] Next region of size 4194304\n",
      "2023-08-03 17:33:53.018487: I tensorflow/tsl/framework/bfc_allocator.cc:1095] InUse at 7f1665000000 of size 4194304 next 18446744073709551615\n",
      "2023-08-03 17:33:53.018501: I tensorflow/tsl/framework/bfc_allocator.cc:1075] Next region of size 8388608\n",
      "2023-08-03 17:33:53.018514: I tensorflow/tsl/framework/bfc_allocator.cc:1095] InUse at 7f1665600000 of size 3403776 next 10\n",
      "2023-08-03 17:33:53.018526: I tensorflow/tsl/framework/bfc_allocator.cc:1095] InUse at 7f166593f000 of size 4984832 next 18446744073709551615\n",
      "2023-08-03 17:33:53.018540: I tensorflow/tsl/framework/bfc_allocator.cc:1100]      Summary of in-use Chunks by size: \n",
      "2023-08-03 17:33:53.018557: I tensorflow/tsl/framework/bfc_allocator.cc:1103] 26 Chunks of size 256 totalling 6.5KiB\n",
      "2023-08-03 17:33:53.018572: I tensorflow/tsl/framework/bfc_allocator.cc:1103] 2 Chunks of size 512 totalling 1.0KiB\n",
      "2023-08-03 17:33:53.018593: I tensorflow/tsl/framework/bfc_allocator.cc:1103] 1 Chunks of size 1024 totalling 1.0KiB\n",
      "2023-08-03 17:33:53.018620: I tensorflow/tsl/framework/bfc_allocator.cc:1103] 1 Chunks of size 1280 totalling 1.2KiB\n",
      "2023-08-03 17:33:53.018648: I tensorflow/tsl/framework/bfc_allocator.cc:1103] 2 Chunks of size 2048 totalling 4.0KiB\n",
      "2023-08-03 17:33:53.018676: I tensorflow/tsl/framework/bfc_allocator.cc:1103] 1 Chunks of size 22528 totalling 22.0KiB\n",
      "2023-08-03 17:33:53.018707: I tensorflow/tsl/framework/bfc_allocator.cc:1103] 1 Chunks of size 32768 totalling 32.0KiB\n",
      "2023-08-03 17:33:53.018737: I tensorflow/tsl/framework/bfc_allocator.cc:1103] 1 Chunks of size 65536 totalling 64.0KiB\n",
      "2023-08-03 17:33:53.018770: I tensorflow/tsl/framework/bfc_allocator.cc:1103] 1 Chunks of size 114688 totalling 112.0KiB\n",
      "2023-08-03 17:33:53.018797: I tensorflow/tsl/framework/bfc_allocator.cc:1103] 1 Chunks of size 131072 totalling 128.0KiB\n",
      "2023-08-03 17:33:53.018819: I tensorflow/tsl/framework/bfc_allocator.cc:1103] 1 Chunks of size 258048 totalling 252.0KiB\n",
      "2023-08-03 17:33:53.018841: I tensorflow/tsl/framework/bfc_allocator.cc:1103] 3 Chunks of size 262144 totalling 768.0KiB\n",
      "2023-08-03 17:33:53.018870: I tensorflow/tsl/framework/bfc_allocator.cc:1103] 1 Chunks of size 521216 totalling 509.0KiB\n",
      "2023-08-03 17:33:53.018898: I tensorflow/tsl/framework/bfc_allocator.cc:1103] 1 Chunks of size 3403776 totalling 3.25MiB\n",
      "2023-08-03 17:33:53.018924: I tensorflow/tsl/framework/bfc_allocator.cc:1103] 1 Chunks of size 4194304 totalling 4.00MiB\n",
      "2023-08-03 17:33:53.018952: I tensorflow/tsl/framework/bfc_allocator.cc:1103] 1 Chunks of size 4984832 totalling 4.75MiB\n",
      "2023-08-03 17:33:53.018977: I tensorflow/tsl/framework/bfc_allocator.cc:1103] 1 Chunks of size 1809448960 totalling 1.68GiB\n",
      "2023-08-03 17:33:53.019007: I tensorflow/tsl/framework/bfc_allocator.cc:1107] Sum Total of in-use chunks: 1.70GiB\n",
      "2023-08-03 17:33:53.019029: I tensorflow/tsl/framework/bfc_allocator.cc:1109] Total bytes in pool: 1824129024 memory_limit_: 1824129024 available bytes: 0 curr_region_allocation_bytes_: 2147483648\n",
      "2023-08-03 17:33:53.019063: I tensorflow/tsl/framework/bfc_allocator.cc:1114] Stats: \n",
      "Limit:                      1824129024\n",
      "InUse:                      1823978240\n",
      "MaxInUse:                   1823978240\n",
      "NumAllocs:                         119\n",
      "MaxAllocSize:               1809448960\n",
      "Reserved:                            0\n",
      "PeakReserved:                        0\n",
      "LargestFreeBlock:                    0\n",
      "\n",
      "2023-08-03 17:33:53.019106: W tensorflow/tsl/framework/bfc_allocator.cc:497] **************************************************************************************************x*\n",
      "2023-08-03 17:33:53.019166: W tensorflow/core/framework/op_kernel.cc:1828] OP_REQUIRES failed at constant_op.cc:175 : RESOURCE_EXHAUSTED: OOM when allocating tensor with shape[128,512] and type float on /job:localhost/replica:0/task:0/device:GPU:0 by allocator GPU_0_bfc\n"
     ]
    },
    {
     "ename": "ResourceExhaustedError",
     "evalue": "in user code:\n\n    File \"/home/kristian/miniconda3/lib/python3.10/site-packages/keras/src/engine/training.py\", line 1338, in train_function  *\n        return step_function(self, iterator)\n    File \"/home/kristian/miniconda3/lib/python3.10/site-packages/keras/src/engine/training.py\", line 1322, in step_function  **\n        outputs = model.distribute_strategy.run(run_step, args=(data,))\n    File \"/home/kristian/miniconda3/lib/python3.10/site-packages/keras/src/engine/training.py\", line 1303, in run_step  **\n        outputs = model.train_step(data)\n    File \"/home/kristian/miniconda3/lib/python3.10/site-packages/keras/src/engine/training.py\", line 1084, in train_step\n        self.optimizer.minimize(loss, self.trainable_variables, tape=tape)\n    File \"/home/kristian/miniconda3/lib/python3.10/site-packages/keras/src/optimizers/optimizer.py\", line 544, in minimize\n        self.apply_gradients(grads_and_vars)\n    File \"/home/kristian/miniconda3/lib/python3.10/site-packages/keras/src/optimizers/optimizer.py\", line 1230, in apply_gradients\n        return super().apply_gradients(grads_and_vars, name=name)\n    File \"/home/kristian/miniconda3/lib/python3.10/site-packages/keras/src/optimizers/optimizer.py\", line 638, in apply_gradients\n        self.build(trainable_variables)\n    File \"/home/kristian/miniconda3/lib/python3.10/site-packages/keras/src/optimizers/adam.py\", line 148, in build\n        self.add_variable_from_reference(\n    File \"/home/kristian/miniconda3/lib/python3.10/site-packages/keras/src/optimizers/optimizer.py\", line 1135, in add_variable_from_reference\n        return super().add_variable_from_reference(\n    File \"/home/kristian/miniconda3/lib/python3.10/site-packages/keras/src/optimizers/optimizer.py\", line 508, in add_variable_from_reference\n        initial_value = tf.zeros(\n\n    ResourceExhaustedError: {{function_node __wrapped__Fill_device_/job:localhost/replica:0/task:0/device:GPU:0}} OOM when allocating tensor with shape[128,512] and type float on /job:localhost/replica:0/task:0/device:GPU:0 by allocator GPU_0_bfc [Op:Fill] name: \n",
     "output_type": "error",
     "traceback": [
      "\u001b[0;31m---------------------------------------------------------------------------\u001b[0m",
      "\u001b[0;31mResourceExhaustedError\u001b[0m                    Traceback (most recent call last)",
      "Cell \u001b[0;32mIn[20], line 1\u001b[0m\n\u001b[0;32m----> 1\u001b[0m \u001b[43mmodel\u001b[49m\u001b[38;5;241;43m.\u001b[39;49m\u001b[43mfit\u001b[49m\u001b[43m(\u001b[49m\u001b[43mX_train\u001b[49m\u001b[43m,\u001b[49m\u001b[43m \u001b[49m\u001b[43mY_train\u001b[49m\u001b[43m,\u001b[49m\u001b[43m \u001b[49m\u001b[43mepochs\u001b[49m\u001b[38;5;241;43m=\u001b[39;49m\u001b[38;5;241;43m20\u001b[39;49m\u001b[43m,\u001b[49m\u001b[43m \u001b[49m\u001b[43mcallbacks\u001b[49m\u001b[38;5;241;43m=\u001b[39;49m\u001b[43m[\u001b[49m\u001b[43mtb_callback\u001b[49m\u001b[43m]\u001b[49m\u001b[43m,\u001b[49m\u001b[43mbatch_size\u001b[49m\u001b[43m \u001b[49m\u001b[38;5;241;43m=\u001b[39;49m\u001b[38;5;241;43m2\u001b[39;49m\u001b[43m)\u001b[49m\n",
      "File \u001b[0;32m~/miniconda3/lib/python3.10/site-packages/keras/src/utils/traceback_utils.py:70\u001b[0m, in \u001b[0;36mfilter_traceback.<locals>.error_handler\u001b[0;34m(*args, **kwargs)\u001b[0m\n\u001b[1;32m     67\u001b[0m     filtered_tb \u001b[38;5;241m=\u001b[39m _process_traceback_frames(e\u001b[38;5;241m.\u001b[39m__traceback__)\n\u001b[1;32m     68\u001b[0m     \u001b[38;5;66;03m# To get the full stack trace, call:\u001b[39;00m\n\u001b[1;32m     69\u001b[0m     \u001b[38;5;66;03m# `tf.debugging.disable_traceback_filtering()`\u001b[39;00m\n\u001b[0;32m---> 70\u001b[0m     \u001b[38;5;28;01mraise\u001b[39;00m e\u001b[38;5;241m.\u001b[39mwith_traceback(filtered_tb) \u001b[38;5;28;01mfrom\u001b[39;00m \u001b[38;5;28;01mNone\u001b[39;00m\n\u001b[1;32m     71\u001b[0m \u001b[38;5;28;01mfinally\u001b[39;00m:\n\u001b[1;32m     72\u001b[0m     \u001b[38;5;28;01mdel\u001b[39;00m filtered_tb\n",
      "File \u001b[0;32m~/miniconda3/lib/python3.10/site-packages/tensorflow/python/eager/polymorphic_function/autograph_util.py:52\u001b[0m, in \u001b[0;36mpy_func_from_autograph.<locals>.autograph_handler\u001b[0;34m(*args, **kwargs)\u001b[0m\n\u001b[1;32m     50\u001b[0m \u001b[38;5;28;01mexcept\u001b[39;00m \u001b[38;5;167;01mException\u001b[39;00m \u001b[38;5;28;01mas\u001b[39;00m e:  \u001b[38;5;66;03m# pylint:disable=broad-except\u001b[39;00m\n\u001b[1;32m     51\u001b[0m   \u001b[38;5;28;01mif\u001b[39;00m \u001b[38;5;28mhasattr\u001b[39m(e, \u001b[38;5;124m\"\u001b[39m\u001b[38;5;124mag_error_metadata\u001b[39m\u001b[38;5;124m\"\u001b[39m):\n\u001b[0;32m---> 52\u001b[0m     \u001b[38;5;28;01mraise\u001b[39;00m e\u001b[38;5;241m.\u001b[39mag_error_metadata\u001b[38;5;241m.\u001b[39mto_exception(e)\n\u001b[1;32m     53\u001b[0m   \u001b[38;5;28;01melse\u001b[39;00m:\n\u001b[1;32m     54\u001b[0m     \u001b[38;5;28;01mraise\u001b[39;00m\n",
      "\u001b[0;31mResourceExhaustedError\u001b[0m: in user code:\n\n    File \"/home/kristian/miniconda3/lib/python3.10/site-packages/keras/src/engine/training.py\", line 1338, in train_function  *\n        return step_function(self, iterator)\n    File \"/home/kristian/miniconda3/lib/python3.10/site-packages/keras/src/engine/training.py\", line 1322, in step_function  **\n        outputs = model.distribute_strategy.run(run_step, args=(data,))\n    File \"/home/kristian/miniconda3/lib/python3.10/site-packages/keras/src/engine/training.py\", line 1303, in run_step  **\n        outputs = model.train_step(data)\n    File \"/home/kristian/miniconda3/lib/python3.10/site-packages/keras/src/engine/training.py\", line 1084, in train_step\n        self.optimizer.minimize(loss, self.trainable_variables, tape=tape)\n    File \"/home/kristian/miniconda3/lib/python3.10/site-packages/keras/src/optimizers/optimizer.py\", line 544, in minimize\n        self.apply_gradients(grads_and_vars)\n    File \"/home/kristian/miniconda3/lib/python3.10/site-packages/keras/src/optimizers/optimizer.py\", line 1230, in apply_gradients\n        return super().apply_gradients(grads_and_vars, name=name)\n    File \"/home/kristian/miniconda3/lib/python3.10/site-packages/keras/src/optimizers/optimizer.py\", line 638, in apply_gradients\n        self.build(trainable_variables)\n    File \"/home/kristian/miniconda3/lib/python3.10/site-packages/keras/src/optimizers/adam.py\", line 148, in build\n        self.add_variable_from_reference(\n    File \"/home/kristian/miniconda3/lib/python3.10/site-packages/keras/src/optimizers/optimizer.py\", line 1135, in add_variable_from_reference\n        return super().add_variable_from_reference(\n    File \"/home/kristian/miniconda3/lib/python3.10/site-packages/keras/src/optimizers/optimizer.py\", line 508, in add_variable_from_reference\n        initial_value = tf.zeros(\n\n    ResourceExhaustedError: {{function_node __wrapped__Fill_device_/job:localhost/replica:0/task:0/device:GPU:0}} OOM when allocating tensor with shape[128,512] and type float on /job:localhost/replica:0/task:0/device:GPU:0 by allocator GPU_0_bfc [Op:Fill] name: \n"
     ]
    }
   ],
   "source": [
    "model.fit(X_train, Y_train, epochs=20, callbacks=[tb_callback],batch_size =8)"
   ]
  },
  {
   "cell_type": "code",
   "execution_count": 24,
   "id": "4afb1613",
   "metadata": {
    "ExecuteTime": {
     "end_time": "2023-08-03T14:59:45.843106Z",
     "start_time": "2023-08-03T14:59:45.437835Z"
    }
   },
   "outputs": [
    {
     "ename": "SyntaxError",
     "evalue": "invalid syntax (2932272115.py, line 1)",
     "output_type": "error",
     "traceback": [
      "\u001b[0;36m  Cell \u001b[0;32mIn[24], line 1\u001b[0;36m\u001b[0m\n\u001b[0;31m    for i in $(sudo lsof /dev/nvidia | grep python | awk '{print $2}' | sort -u); do sudo kill -9 $i; done\u001b[0m\n\u001b[0m             ^\u001b[0m\n\u001b[0;31mSyntaxError\u001b[0m\u001b[0;31m:\u001b[0m invalid syntax\n"
     ]
    }
   ],
   "source": []
  },
  {
   "cell_type": "code",
   "execution_count": 20,
   "id": "8b4a8838",
   "metadata": {
    "ExecuteTime": {
     "end_time": "2023-08-03T14:13:58.764713Z",
     "start_time": "2023-08-03T14:13:50.452546Z"
    }
   },
   "outputs": [
    {
     "name": "stderr",
     "output_type": "stream",
     "text": [
      "2023-08-03 15:13:51.601746: W tensorflow/tsl/framework/cpu_allocator_impl.cc:83] Allocation of 1584138624 exceeds 10% of free system memory.\n"
     ]
    },
    {
     "name": "stdout",
     "output_type": "stream",
     "text": [
      "Epoch 1/20\n"
     ]
    },
    {
     "name": "stderr",
     "output_type": "stream",
     "text": [
      "2023-08-03 15:13:58.156817: W tensorflow/core/framework/op_kernel.cc:1828] OP_REQUIRES failed at xla_ops.cc:444 : INVALID_ARGUMENT: Trying to access resource Resource-17-at-0x9a1e600 (defined @ /home/kristian/miniconda3/lib/python3.10/site-packages/keras/src/engine/base_layer_utils.py:137) located in device /job:localhost/replica:0/task:0/device:GPU:0 from device /job:localhost/replica:0/task:0/device:CPU:0\n",
      " Cf. https://www.tensorflow.org/xla/known_issues#tfvariable_on_a_different_device\n",
      "2023-08-03 15:13:58.156864: W tensorflow/core/framework/op_kernel.cc:1828] OP_REQUIRES failed at xla_ops.cc:444 : INVALID_ARGUMENT: Trying to access resource Resource-16-at-0x9a18cb0 (defined @ /home/kristian/miniconda3/lib/python3.10/site-packages/keras/src/engine/base_layer_utils.py:137) located in device /job:localhost/replica:0/task:0/device:GPU:0 from device /job:localhost/replica:0/task:0/device:CPU:0\n",
      " Cf. https://www.tensorflow.org/xla/known_issues#tfvariable_on_a_different_device\n",
      "2023-08-03 15:13:58.156913: W tensorflow/core/framework/op_kernel.cc:1828] OP_REQUIRES failed at xla_ops.cc:444 : INVALID_ARGUMENT: Trying to access resource Resource-15-at-0x99e7720 (defined @ /home/kristian/miniconda3/lib/python3.10/site-packages/keras/src/engine/base_layer_utils.py:137) located in device /job:localhost/replica:0/task:0/device:GPU:0 from device /job:localhost/replica:0/task:0/device:CPU:0\n",
      " Cf. https://www.tensorflow.org/xla/known_issues#tfvariable_on_a_different_device\n",
      "2023-08-03 15:13:58.156960: W tensorflow/core/framework/op_kernel.cc:1828] OP_REQUIRES failed at xla_ops.cc:444 : INVALID_ARGUMENT: Trying to access resource Resource-14-at-0x99dc360 (defined @ /home/kristian/miniconda3/lib/python3.10/site-packages/keras/src/engine/base_layer_utils.py:137) located in device /job:localhost/replica:0/task:0/device:GPU:0 from device /job:localhost/replica:0/task:0/device:CPU:0\n",
      " Cf. https://www.tensorflow.org/xla/known_issues#tfvariable_on_a_different_device\n",
      "2023-08-03 15:13:58.156996: I tensorflow/core/framework/local_rendezvous.cc:405] Local rendezvous recv item cancelled. Key hash: 11565657073271605270\n",
      "2023-08-03 15:13:58.157017: W tensorflow/core/framework/op_kernel.cc:1828] OP_REQUIRES failed at xla_ops.cc:444 : INVALID_ARGUMENT: Trying to access resource Resource-13-at-0x99a9ff0 (defined @ /home/kristian/miniconda3/lib/python3.10/site-packages/keras/src/engine/base_layer_utils.py:137) located in device /job:localhost/replica:0/task:0/device:GPU:0 from device /job:localhost/replica:0/task:0/device:CPU:0\n",
      " Cf. https://www.tensorflow.org/xla/known_issues#tfvariable_on_a_different_device\n",
      "2023-08-03 15:13:58.157032: W tensorflow/core/framework/op_kernel.cc:1828] OP_REQUIRES failed at xla_ops.cc:444 : INVALID_ARGUMENT: Trying to access resource Resource-12-at-0x999cd60 (defined @ /home/kristian/miniconda3/lib/python3.10/site-packages/keras/src/engine/base_layer_utils.py:137) located in device /job:localhost/replica:0/task:0/device:GPU:0 from device /job:localhost/replica:0/task:0/device:CPU:0\n",
      " Cf. https://www.tensorflow.org/xla/known_issues#tfvariable_on_a_different_device\n",
      "2023-08-03 15:13:58.157048: I tensorflow/core/framework/local_rendezvous.cc:405] Local rendezvous recv item cancelled. Key hash: 17164707960672776583\n",
      "2023-08-03 15:13:58.157066: I tensorflow/core/framework/local_rendezvous.cc:405] Local rendezvous recv item cancelled. Key hash: 4753026724946392353\n",
      "2023-08-03 15:13:58.157080: I tensorflow/core/framework/local_rendezvous.cc:405] Local rendezvous recv item cancelled. Key hash: 7349820435146587374\n",
      "2023-08-03 15:13:58.157091: I tensorflow/core/framework/local_rendezvous.cc:405] Local rendezvous recv item cancelled. Key hash: 7705518041242737940\n",
      "2023-08-03 15:13:58.157113: I tensorflow/core/framework/local_rendezvous.cc:405] Local rendezvous recv item cancelled. Key hash: 14695272020905233794\n"
     ]
    },
    {
     "ename": "InvalidArgumentError",
     "evalue": "Graph execution error:\n\nDetected at node 'Adam/StatefulPartitionedCall_14' defined at (most recent call last):\n    File \"/home/kristian/miniconda3/lib/python3.10/runpy.py\", line 196, in _run_module_as_main\n      return _run_code(code, main_globals, None,\n    File \"/home/kristian/miniconda3/lib/python3.10/runpy.py\", line 86, in _run_code\n      exec(code, run_globals)\n    File \"/home/kristian/miniconda3/lib/python3.10/site-packages/ipykernel_launcher.py\", line 17, in <module>\n      app.launch_new_instance()\n    File \"/home/kristian/miniconda3/lib/python3.10/site-packages/traitlets/config/application.py\", line 992, in launch_instance\n      app.start()\n    File \"/home/kristian/miniconda3/lib/python3.10/site-packages/ipykernel/kernelapp.py\", line 711, in start\n      self.io_loop.start()\n    File \"/home/kristian/miniconda3/lib/python3.10/site-packages/tornado/platform/asyncio.py\", line 215, in start\n      self.asyncio_loop.run_forever()\n    File \"/home/kristian/miniconda3/lib/python3.10/asyncio/base_events.py\", line 603, in run_forever\n      self._run_once()\n    File \"/home/kristian/miniconda3/lib/python3.10/asyncio/base_events.py\", line 1909, in _run_once\n      handle._run()\n    File \"/home/kristian/miniconda3/lib/python3.10/asyncio/events.py\", line 80, in _run\n      self._context.run(self._callback, *self._args)\n    File \"/home/kristian/miniconda3/lib/python3.10/site-packages/ipykernel/kernelbase.py\", line 510, in dispatch_queue\n      await self.process_one()\n    File \"/home/kristian/miniconda3/lib/python3.10/site-packages/ipykernel/kernelbase.py\", line 499, in process_one\n      await dispatch(*args)\n    File \"/home/kristian/miniconda3/lib/python3.10/site-packages/ipykernel/kernelbase.py\", line 406, in dispatch_shell\n      await result\n    File \"/home/kristian/miniconda3/lib/python3.10/site-packages/ipykernel/kernelbase.py\", line 729, in execute_request\n      reply_content = await reply_content\n    File \"/home/kristian/miniconda3/lib/python3.10/site-packages/ipykernel/ipkernel.py\", line 411, in do_execute\n      res = shell.run_cell(\n    File \"/home/kristian/miniconda3/lib/python3.10/site-packages/ipykernel/zmqshell.py\", line 531, in run_cell\n      return super().run_cell(*args, **kwargs)\n    File \"/home/kristian/miniconda3/lib/python3.10/site-packages/IPython/core/interactiveshell.py\", line 3006, in run_cell\n      result = self._run_cell(\n    File \"/home/kristian/miniconda3/lib/python3.10/site-packages/IPython/core/interactiveshell.py\", line 3061, in _run_cell\n      result = runner(coro)\n    File \"/home/kristian/miniconda3/lib/python3.10/site-packages/IPython/core/async_helpers.py\", line 129, in _pseudo_sync_runner\n      coro.send(None)\n    File \"/home/kristian/miniconda3/lib/python3.10/site-packages/IPython/core/interactiveshell.py\", line 3266, in run_cell_async\n      has_raised = await self.run_ast_nodes(code_ast.body, cell_name,\n    File \"/home/kristian/miniconda3/lib/python3.10/site-packages/IPython/core/interactiveshell.py\", line 3445, in run_ast_nodes\n      if await self.run_code(code, result, async_=asy):\n    File \"/home/kristian/miniconda3/lib/python3.10/site-packages/IPython/core/interactiveshell.py\", line 3505, in run_code\n      exec(code_obj, self.user_global_ns, self.user_ns)\n    File \"/tmp/ipykernel_79246/521328152.py\", line 2, in <module>\n      model.fit(X_train, Y_train, epochs=20, callbacks=[tb_callback],batch_size =64)\n    File \"/home/kristian/miniconda3/lib/python3.10/site-packages/keras/src/utils/traceback_utils.py\", line 65, in error_handler\n      return fn(*args, **kwargs)\n    File \"/home/kristian/miniconda3/lib/python3.10/site-packages/keras/src/engine/training.py\", line 1742, in fit\n      tmp_logs = self.train_function(iterator)\n    File \"/home/kristian/miniconda3/lib/python3.10/site-packages/keras/src/engine/training.py\", line 1338, in train_function\n      return step_function(self, iterator)\n    File \"/home/kristian/miniconda3/lib/python3.10/site-packages/keras/src/engine/training.py\", line 1322, in step_function\n      outputs = model.distribute_strategy.run(run_step, args=(data,))\n    File \"/home/kristian/miniconda3/lib/python3.10/site-packages/keras/src/engine/training.py\", line 1303, in run_step\n      outputs = model.train_step(data)\n    File \"/home/kristian/miniconda3/lib/python3.10/site-packages/keras/src/engine/training.py\", line 1084, in train_step\n      self.optimizer.minimize(loss, self.trainable_variables, tape=tape)\n    File \"/home/kristian/miniconda3/lib/python3.10/site-packages/keras/src/optimizers/optimizer.py\", line 544, in minimize\n      self.apply_gradients(grads_and_vars)\n    File \"/home/kristian/miniconda3/lib/python3.10/site-packages/keras/src/optimizers/optimizer.py\", line 1230, in apply_gradients\n      return super().apply_gradients(grads_and_vars, name=name)\n    File \"/home/kristian/miniconda3/lib/python3.10/site-packages/keras/src/optimizers/optimizer.py\", line 652, in apply_gradients\n      iteration = self._internal_apply_gradients(grads_and_vars)\n    File \"/home/kristian/miniconda3/lib/python3.10/site-packages/keras/src/optimizers/optimizer.py\", line 1260, in _internal_apply_gradients\n      return tf.__internal__.distribute.interim.maybe_merge_call(\n    File \"/home/kristian/miniconda3/lib/python3.10/site-packages/keras/src/optimizers/optimizer.py\", line 1352, in _distributed_apply_gradients_fn\n      distribution.extended.update(\n    File \"/home/kristian/miniconda3/lib/python3.10/site-packages/keras/src/optimizers/optimizer.py\", line 1347, in apply_grad_to_update_var\n      return self._update_step_xla(grad, var, id(self._var_key(var)))\nNode: 'Adam/StatefulPartitionedCall_14'\nDetected at node 'Adam/StatefulPartitionedCall_14' defined at (most recent call last):\n    File \"/home/kristian/miniconda3/lib/python3.10/runpy.py\", line 196, in _run_module_as_main\n      return _run_code(code, main_globals, None,\n    File \"/home/kristian/miniconda3/lib/python3.10/runpy.py\", line 86, in _run_code\n      exec(code, run_globals)\n    File \"/home/kristian/miniconda3/lib/python3.10/site-packages/ipykernel_launcher.py\", line 17, in <module>\n      app.launch_new_instance()\n    File \"/home/kristian/miniconda3/lib/python3.10/site-packages/traitlets/config/application.py\", line 992, in launch_instance\n      app.start()\n    File \"/home/kristian/miniconda3/lib/python3.10/site-packages/ipykernel/kernelapp.py\", line 711, in start\n      self.io_loop.start()\n    File \"/home/kristian/miniconda3/lib/python3.10/site-packages/tornado/platform/asyncio.py\", line 215, in start\n      self.asyncio_loop.run_forever()\n    File \"/home/kristian/miniconda3/lib/python3.10/asyncio/base_events.py\", line 603, in run_forever\n      self._run_once()\n    File \"/home/kristian/miniconda3/lib/python3.10/asyncio/base_events.py\", line 1909, in _run_once\n      handle._run()\n    File \"/home/kristian/miniconda3/lib/python3.10/asyncio/events.py\", line 80, in _run\n      self._context.run(self._callback, *self._args)\n    File \"/home/kristian/miniconda3/lib/python3.10/site-packages/ipykernel/kernelbase.py\", line 510, in dispatch_queue\n      await self.process_one()\n    File \"/home/kristian/miniconda3/lib/python3.10/site-packages/ipykernel/kernelbase.py\", line 499, in process_one\n      await dispatch(*args)\n    File \"/home/kristian/miniconda3/lib/python3.10/site-packages/ipykernel/kernelbase.py\", line 406, in dispatch_shell\n      await result\n    File \"/home/kristian/miniconda3/lib/python3.10/site-packages/ipykernel/kernelbase.py\", line 729, in execute_request\n      reply_content = await reply_content\n    File \"/home/kristian/miniconda3/lib/python3.10/site-packages/ipykernel/ipkernel.py\", line 411, in do_execute\n      res = shell.run_cell(\n    File \"/home/kristian/miniconda3/lib/python3.10/site-packages/ipykernel/zmqshell.py\", line 531, in run_cell\n      return super().run_cell(*args, **kwargs)\n    File \"/home/kristian/miniconda3/lib/python3.10/site-packages/IPython/core/interactiveshell.py\", line 3006, in run_cell\n      result = self._run_cell(\n    File \"/home/kristian/miniconda3/lib/python3.10/site-packages/IPython/core/interactiveshell.py\", line 3061, in _run_cell\n      result = runner(coro)\n    File \"/home/kristian/miniconda3/lib/python3.10/site-packages/IPython/core/async_helpers.py\", line 129, in _pseudo_sync_runner\n      coro.send(None)\n    File \"/home/kristian/miniconda3/lib/python3.10/site-packages/IPython/core/interactiveshell.py\", line 3266, in run_cell_async\n      has_raised = await self.run_ast_nodes(code_ast.body, cell_name,\n    File \"/home/kristian/miniconda3/lib/python3.10/site-packages/IPython/core/interactiveshell.py\", line 3445, in run_ast_nodes\n      if await self.run_code(code, result, async_=asy):\n    File \"/home/kristian/miniconda3/lib/python3.10/site-packages/IPython/core/interactiveshell.py\", line 3505, in run_code\n      exec(code_obj, self.user_global_ns, self.user_ns)\n    File \"/tmp/ipykernel_79246/521328152.py\", line 2, in <module>\n      model.fit(X_train, Y_train, epochs=20, callbacks=[tb_callback],batch_size =64)\n    File \"/home/kristian/miniconda3/lib/python3.10/site-packages/keras/src/utils/traceback_utils.py\", line 65, in error_handler\n      return fn(*args, **kwargs)\n    File \"/home/kristian/miniconda3/lib/python3.10/site-packages/keras/src/engine/training.py\", line 1742, in fit\n      tmp_logs = self.train_function(iterator)\n    File \"/home/kristian/miniconda3/lib/python3.10/site-packages/keras/src/engine/training.py\", line 1338, in train_function\n      return step_function(self, iterator)\n    File \"/home/kristian/miniconda3/lib/python3.10/site-packages/keras/src/engine/training.py\", line 1322, in step_function\n      outputs = model.distribute_strategy.run(run_step, args=(data,))\n    File \"/home/kristian/miniconda3/lib/python3.10/site-packages/keras/src/engine/training.py\", line 1303, in run_step\n      outputs = model.train_step(data)\n    File \"/home/kristian/miniconda3/lib/python3.10/site-packages/keras/src/engine/training.py\", line 1084, in train_step\n      self.optimizer.minimize(loss, self.trainable_variables, tape=tape)\n    File \"/home/kristian/miniconda3/lib/python3.10/site-packages/keras/src/optimizers/optimizer.py\", line 544, in minimize\n      self.apply_gradients(grads_and_vars)\n    File \"/home/kristian/miniconda3/lib/python3.10/site-packages/keras/src/optimizers/optimizer.py\", line 1230, in apply_gradients\n      return super().apply_gradients(grads_and_vars, name=name)\n    File \"/home/kristian/miniconda3/lib/python3.10/site-packages/keras/src/optimizers/optimizer.py\", line 652, in apply_gradients\n      iteration = self._internal_apply_gradients(grads_and_vars)\n    File \"/home/kristian/miniconda3/lib/python3.10/site-packages/keras/src/optimizers/optimizer.py\", line 1260, in _internal_apply_gradients\n      return tf.__internal__.distribute.interim.maybe_merge_call(\n    File \"/home/kristian/miniconda3/lib/python3.10/site-packages/keras/src/optimizers/optimizer.py\", line 1352, in _distributed_apply_gradients_fn\n      distribution.extended.update(\n    File \"/home/kristian/miniconda3/lib/python3.10/site-packages/keras/src/optimizers/optimizer.py\", line 1347, in apply_grad_to_update_var\n      return self._update_step_xla(grad, var, id(self._var_key(var)))\nNode: 'Adam/StatefulPartitionedCall_14'\n2 root error(s) found.\n  (0) INVALID_ARGUMENT:  Trying to access resource Resource-17-at-0x9a1e600 (defined @ /home/kristian/miniconda3/lib/python3.10/site-packages/keras/src/engine/base_layer_utils.py:137) located in device /job:localhost/replica:0/task:0/device:GPU:0 from device /job:localhost/replica:0/task:0/device:CPU:0\n Cf. https://www.tensorflow.org/xla/known_issues#tfvariable_on_a_different_device\n\t [[{{node Adam/StatefulPartitionedCall_14}}]]\n\t [[GroupCrossDeviceControlEdges_0/Adam/AssignAddVariableOp/_247]]\n  (1) INVALID_ARGUMENT:  Trying to access resource Resource-17-at-0x9a1e600 (defined @ /home/kristian/miniconda3/lib/python3.10/site-packages/keras/src/engine/base_layer_utils.py:137) located in device /job:localhost/replica:0/task:0/device:GPU:0 from device /job:localhost/replica:0/task:0/device:CPU:0\n Cf. https://www.tensorflow.org/xla/known_issues#tfvariable_on_a_different_device\n\t [[{{node Adam/StatefulPartitionedCall_14}}]]\n0 successful operations.\n0 derived errors ignored. [Op:__inference_train_function_6462]",
     "output_type": "error",
     "traceback": [
      "\u001b[0;31m---------------------------------------------------------------------------\u001b[0m",
      "\u001b[0;31mInvalidArgumentError\u001b[0m                      Traceback (most recent call last)",
      "Cell \u001b[0;32mIn[20], line 2\u001b[0m\n\u001b[1;32m      1\u001b[0m \u001b[38;5;28;01mwith\u001b[39;00m tf\u001b[38;5;241m.\u001b[39mdevice(\u001b[38;5;124m'\u001b[39m\u001b[38;5;124m/cpu:0\u001b[39m\u001b[38;5;124m'\u001b[39m):\n\u001b[0;32m----> 2\u001b[0m     \u001b[43mmodel\u001b[49m\u001b[38;5;241;43m.\u001b[39;49m\u001b[43mfit\u001b[49m\u001b[43m(\u001b[49m\u001b[43mX_train\u001b[49m\u001b[43m,\u001b[49m\u001b[43m \u001b[49m\u001b[43mY_train\u001b[49m\u001b[43m,\u001b[49m\u001b[43m \u001b[49m\u001b[43mepochs\u001b[49m\u001b[38;5;241;43m=\u001b[39;49m\u001b[38;5;241;43m20\u001b[39;49m\u001b[43m,\u001b[49m\u001b[43m \u001b[49m\u001b[43mcallbacks\u001b[49m\u001b[38;5;241;43m=\u001b[39;49m\u001b[43m[\u001b[49m\u001b[43mtb_callback\u001b[49m\u001b[43m]\u001b[49m\u001b[43m,\u001b[49m\u001b[43mbatch_size\u001b[49m\u001b[43m \u001b[49m\u001b[38;5;241;43m=\u001b[39;49m\u001b[38;5;241;43m64\u001b[39;49m\u001b[43m)\u001b[49m\n",
      "File \u001b[0;32m~/miniconda3/lib/python3.10/site-packages/keras/src/utils/traceback_utils.py:70\u001b[0m, in \u001b[0;36mfilter_traceback.<locals>.error_handler\u001b[0;34m(*args, **kwargs)\u001b[0m\n\u001b[1;32m     67\u001b[0m     filtered_tb \u001b[38;5;241m=\u001b[39m _process_traceback_frames(e\u001b[38;5;241m.\u001b[39m__traceback__)\n\u001b[1;32m     68\u001b[0m     \u001b[38;5;66;03m# To get the full stack trace, call:\u001b[39;00m\n\u001b[1;32m     69\u001b[0m     \u001b[38;5;66;03m# `tf.debugging.disable_traceback_filtering()`\u001b[39;00m\n\u001b[0;32m---> 70\u001b[0m     \u001b[38;5;28;01mraise\u001b[39;00m e\u001b[38;5;241m.\u001b[39mwith_traceback(filtered_tb) \u001b[38;5;28;01mfrom\u001b[39;00m \u001b[38;5;28;01mNone\u001b[39;00m\n\u001b[1;32m     71\u001b[0m \u001b[38;5;28;01mfinally\u001b[39;00m:\n\u001b[1;32m     72\u001b[0m     \u001b[38;5;28;01mdel\u001b[39;00m filtered_tb\n",
      "File \u001b[0;32m~/miniconda3/lib/python3.10/site-packages/tensorflow/python/eager/execute.py:53\u001b[0m, in \u001b[0;36mquick_execute\u001b[0;34m(op_name, num_outputs, inputs, attrs, ctx, name)\u001b[0m\n\u001b[1;32m     51\u001b[0m \u001b[38;5;28;01mtry\u001b[39;00m:\n\u001b[1;32m     52\u001b[0m   ctx\u001b[38;5;241m.\u001b[39mensure_initialized()\n\u001b[0;32m---> 53\u001b[0m   tensors \u001b[38;5;241m=\u001b[39m pywrap_tfe\u001b[38;5;241m.\u001b[39mTFE_Py_Execute(ctx\u001b[38;5;241m.\u001b[39m_handle, device_name, op_name,\n\u001b[1;32m     54\u001b[0m                                       inputs, attrs, num_outputs)\n\u001b[1;32m     55\u001b[0m \u001b[38;5;28;01mexcept\u001b[39;00m core\u001b[38;5;241m.\u001b[39m_NotOkStatusException \u001b[38;5;28;01mas\u001b[39;00m e:\n\u001b[1;32m     56\u001b[0m   \u001b[38;5;28;01mif\u001b[39;00m name \u001b[38;5;129;01mis\u001b[39;00m \u001b[38;5;129;01mnot\u001b[39;00m \u001b[38;5;28;01mNone\u001b[39;00m:\n",
      "\u001b[0;31mInvalidArgumentError\u001b[0m: Graph execution error:\n\nDetected at node 'Adam/StatefulPartitionedCall_14' defined at (most recent call last):\n    File \"/home/kristian/miniconda3/lib/python3.10/runpy.py\", line 196, in _run_module_as_main\n      return _run_code(code, main_globals, None,\n    File \"/home/kristian/miniconda3/lib/python3.10/runpy.py\", line 86, in _run_code\n      exec(code, run_globals)\n    File \"/home/kristian/miniconda3/lib/python3.10/site-packages/ipykernel_launcher.py\", line 17, in <module>\n      app.launch_new_instance()\n    File \"/home/kristian/miniconda3/lib/python3.10/site-packages/traitlets/config/application.py\", line 992, in launch_instance\n      app.start()\n    File \"/home/kristian/miniconda3/lib/python3.10/site-packages/ipykernel/kernelapp.py\", line 711, in start\n      self.io_loop.start()\n    File \"/home/kristian/miniconda3/lib/python3.10/site-packages/tornado/platform/asyncio.py\", line 215, in start\n      self.asyncio_loop.run_forever()\n    File \"/home/kristian/miniconda3/lib/python3.10/asyncio/base_events.py\", line 603, in run_forever\n      self._run_once()\n    File \"/home/kristian/miniconda3/lib/python3.10/asyncio/base_events.py\", line 1909, in _run_once\n      handle._run()\n    File \"/home/kristian/miniconda3/lib/python3.10/asyncio/events.py\", line 80, in _run\n      self._context.run(self._callback, *self._args)\n    File \"/home/kristian/miniconda3/lib/python3.10/site-packages/ipykernel/kernelbase.py\", line 510, in dispatch_queue\n      await self.process_one()\n    File \"/home/kristian/miniconda3/lib/python3.10/site-packages/ipykernel/kernelbase.py\", line 499, in process_one\n      await dispatch(*args)\n    File \"/home/kristian/miniconda3/lib/python3.10/site-packages/ipykernel/kernelbase.py\", line 406, in dispatch_shell\n      await result\n    File \"/home/kristian/miniconda3/lib/python3.10/site-packages/ipykernel/kernelbase.py\", line 729, in execute_request\n      reply_content = await reply_content\n    File \"/home/kristian/miniconda3/lib/python3.10/site-packages/ipykernel/ipkernel.py\", line 411, in do_execute\n      res = shell.run_cell(\n    File \"/home/kristian/miniconda3/lib/python3.10/site-packages/ipykernel/zmqshell.py\", line 531, in run_cell\n      return super().run_cell(*args, **kwargs)\n    File \"/home/kristian/miniconda3/lib/python3.10/site-packages/IPython/core/interactiveshell.py\", line 3006, in run_cell\n      result = self._run_cell(\n    File \"/home/kristian/miniconda3/lib/python3.10/site-packages/IPython/core/interactiveshell.py\", line 3061, in _run_cell\n      result = runner(coro)\n    File \"/home/kristian/miniconda3/lib/python3.10/site-packages/IPython/core/async_helpers.py\", line 129, in _pseudo_sync_runner\n      coro.send(None)\n    File \"/home/kristian/miniconda3/lib/python3.10/site-packages/IPython/core/interactiveshell.py\", line 3266, in run_cell_async\n      has_raised = await self.run_ast_nodes(code_ast.body, cell_name,\n    File \"/home/kristian/miniconda3/lib/python3.10/site-packages/IPython/core/interactiveshell.py\", line 3445, in run_ast_nodes\n      if await self.run_code(code, result, async_=asy):\n    File \"/home/kristian/miniconda3/lib/python3.10/site-packages/IPython/core/interactiveshell.py\", line 3505, in run_code\n      exec(code_obj, self.user_global_ns, self.user_ns)\n    File \"/tmp/ipykernel_79246/521328152.py\", line 2, in <module>\n      model.fit(X_train, Y_train, epochs=20, callbacks=[tb_callback],batch_size =64)\n    File \"/home/kristian/miniconda3/lib/python3.10/site-packages/keras/src/utils/traceback_utils.py\", line 65, in error_handler\n      return fn(*args, **kwargs)\n    File \"/home/kristian/miniconda3/lib/python3.10/site-packages/keras/src/engine/training.py\", line 1742, in fit\n      tmp_logs = self.train_function(iterator)\n    File \"/home/kristian/miniconda3/lib/python3.10/site-packages/keras/src/engine/training.py\", line 1338, in train_function\n      return step_function(self, iterator)\n    File \"/home/kristian/miniconda3/lib/python3.10/site-packages/keras/src/engine/training.py\", line 1322, in step_function\n      outputs = model.distribute_strategy.run(run_step, args=(data,))\n    File \"/home/kristian/miniconda3/lib/python3.10/site-packages/keras/src/engine/training.py\", line 1303, in run_step\n      outputs = model.train_step(data)\n    File \"/home/kristian/miniconda3/lib/python3.10/site-packages/keras/src/engine/training.py\", line 1084, in train_step\n      self.optimizer.minimize(loss, self.trainable_variables, tape=tape)\n    File \"/home/kristian/miniconda3/lib/python3.10/site-packages/keras/src/optimizers/optimizer.py\", line 544, in minimize\n      self.apply_gradients(grads_and_vars)\n    File \"/home/kristian/miniconda3/lib/python3.10/site-packages/keras/src/optimizers/optimizer.py\", line 1230, in apply_gradients\n      return super().apply_gradients(grads_and_vars, name=name)\n    File \"/home/kristian/miniconda3/lib/python3.10/site-packages/keras/src/optimizers/optimizer.py\", line 652, in apply_gradients\n      iteration = self._internal_apply_gradients(grads_and_vars)\n    File \"/home/kristian/miniconda3/lib/python3.10/site-packages/keras/src/optimizers/optimizer.py\", line 1260, in _internal_apply_gradients\n      return tf.__internal__.distribute.interim.maybe_merge_call(\n    File \"/home/kristian/miniconda3/lib/python3.10/site-packages/keras/src/optimizers/optimizer.py\", line 1352, in _distributed_apply_gradients_fn\n      distribution.extended.update(\n    File \"/home/kristian/miniconda3/lib/python3.10/site-packages/keras/src/optimizers/optimizer.py\", line 1347, in apply_grad_to_update_var\n      return self._update_step_xla(grad, var, id(self._var_key(var)))\nNode: 'Adam/StatefulPartitionedCall_14'\nDetected at node 'Adam/StatefulPartitionedCall_14' defined at (most recent call last):\n    File \"/home/kristian/miniconda3/lib/python3.10/runpy.py\", line 196, in _run_module_as_main\n      return _run_code(code, main_globals, None,\n    File \"/home/kristian/miniconda3/lib/python3.10/runpy.py\", line 86, in _run_code\n      exec(code, run_globals)\n    File \"/home/kristian/miniconda3/lib/python3.10/site-packages/ipykernel_launcher.py\", line 17, in <module>\n      app.launch_new_instance()\n    File \"/home/kristian/miniconda3/lib/python3.10/site-packages/traitlets/config/application.py\", line 992, in launch_instance\n      app.start()\n    File \"/home/kristian/miniconda3/lib/python3.10/site-packages/ipykernel/kernelapp.py\", line 711, in start\n      self.io_loop.start()\n    File \"/home/kristian/miniconda3/lib/python3.10/site-packages/tornado/platform/asyncio.py\", line 215, in start\n      self.asyncio_loop.run_forever()\n    File \"/home/kristian/miniconda3/lib/python3.10/asyncio/base_events.py\", line 603, in run_forever\n      self._run_once()\n    File \"/home/kristian/miniconda3/lib/python3.10/asyncio/base_events.py\", line 1909, in _run_once\n      handle._run()\n    File \"/home/kristian/miniconda3/lib/python3.10/asyncio/events.py\", line 80, in _run\n      self._context.run(self._callback, *self._args)\n    File \"/home/kristian/miniconda3/lib/python3.10/site-packages/ipykernel/kernelbase.py\", line 510, in dispatch_queue\n      await self.process_one()\n    File \"/home/kristian/miniconda3/lib/python3.10/site-packages/ipykernel/kernelbase.py\", line 499, in process_one\n      await dispatch(*args)\n    File \"/home/kristian/miniconda3/lib/python3.10/site-packages/ipykernel/kernelbase.py\", line 406, in dispatch_shell\n      await result\n    File \"/home/kristian/miniconda3/lib/python3.10/site-packages/ipykernel/kernelbase.py\", line 729, in execute_request\n      reply_content = await reply_content\n    File \"/home/kristian/miniconda3/lib/python3.10/site-packages/ipykernel/ipkernel.py\", line 411, in do_execute\n      res = shell.run_cell(\n    File \"/home/kristian/miniconda3/lib/python3.10/site-packages/ipykernel/zmqshell.py\", line 531, in run_cell\n      return super().run_cell(*args, **kwargs)\n    File \"/home/kristian/miniconda3/lib/python3.10/site-packages/IPython/core/interactiveshell.py\", line 3006, in run_cell\n      result = self._run_cell(\n    File \"/home/kristian/miniconda3/lib/python3.10/site-packages/IPython/core/interactiveshell.py\", line 3061, in _run_cell\n      result = runner(coro)\n    File \"/home/kristian/miniconda3/lib/python3.10/site-packages/IPython/core/async_helpers.py\", line 129, in _pseudo_sync_runner\n      coro.send(None)\n    File \"/home/kristian/miniconda3/lib/python3.10/site-packages/IPython/core/interactiveshell.py\", line 3266, in run_cell_async\n      has_raised = await self.run_ast_nodes(code_ast.body, cell_name,\n    File \"/home/kristian/miniconda3/lib/python3.10/site-packages/IPython/core/interactiveshell.py\", line 3445, in run_ast_nodes\n      if await self.run_code(code, result, async_=asy):\n    File \"/home/kristian/miniconda3/lib/python3.10/site-packages/IPython/core/interactiveshell.py\", line 3505, in run_code\n      exec(code_obj, self.user_global_ns, self.user_ns)\n    File \"/tmp/ipykernel_79246/521328152.py\", line 2, in <module>\n      model.fit(X_train, Y_train, epochs=20, callbacks=[tb_callback],batch_size =64)\n    File \"/home/kristian/miniconda3/lib/python3.10/site-packages/keras/src/utils/traceback_utils.py\", line 65, in error_handler\n      return fn(*args, **kwargs)\n    File \"/home/kristian/miniconda3/lib/python3.10/site-packages/keras/src/engine/training.py\", line 1742, in fit\n      tmp_logs = self.train_function(iterator)\n    File \"/home/kristian/miniconda3/lib/python3.10/site-packages/keras/src/engine/training.py\", line 1338, in train_function\n      return step_function(self, iterator)\n    File \"/home/kristian/miniconda3/lib/python3.10/site-packages/keras/src/engine/training.py\", line 1322, in step_function\n      outputs = model.distribute_strategy.run(run_step, args=(data,))\n    File \"/home/kristian/miniconda3/lib/python3.10/site-packages/keras/src/engine/training.py\", line 1303, in run_step\n      outputs = model.train_step(data)\n    File \"/home/kristian/miniconda3/lib/python3.10/site-packages/keras/src/engine/training.py\", line 1084, in train_step\n      self.optimizer.minimize(loss, self.trainable_variables, tape=tape)\n    File \"/home/kristian/miniconda3/lib/python3.10/site-packages/keras/src/optimizers/optimizer.py\", line 544, in minimize\n      self.apply_gradients(grads_and_vars)\n    File \"/home/kristian/miniconda3/lib/python3.10/site-packages/keras/src/optimizers/optimizer.py\", line 1230, in apply_gradients\n      return super().apply_gradients(grads_and_vars, name=name)\n    File \"/home/kristian/miniconda3/lib/python3.10/site-packages/keras/src/optimizers/optimizer.py\", line 652, in apply_gradients\n      iteration = self._internal_apply_gradients(grads_and_vars)\n    File \"/home/kristian/miniconda3/lib/python3.10/site-packages/keras/src/optimizers/optimizer.py\", line 1260, in _internal_apply_gradients\n      return tf.__internal__.distribute.interim.maybe_merge_call(\n    File \"/home/kristian/miniconda3/lib/python3.10/site-packages/keras/src/optimizers/optimizer.py\", line 1352, in _distributed_apply_gradients_fn\n      distribution.extended.update(\n    File \"/home/kristian/miniconda3/lib/python3.10/site-packages/keras/src/optimizers/optimizer.py\", line 1347, in apply_grad_to_update_var\n      return self._update_step_xla(grad, var, id(self._var_key(var)))\nNode: 'Adam/StatefulPartitionedCall_14'\n2 root error(s) found.\n  (0) INVALID_ARGUMENT:  Trying to access resource Resource-17-at-0x9a1e600 (defined @ /home/kristian/miniconda3/lib/python3.10/site-packages/keras/src/engine/base_layer_utils.py:137) located in device /job:localhost/replica:0/task:0/device:GPU:0 from device /job:localhost/replica:0/task:0/device:CPU:0\n Cf. https://www.tensorflow.org/xla/known_issues#tfvariable_on_a_different_device\n\t [[{{node Adam/StatefulPartitionedCall_14}}]]\n\t [[GroupCrossDeviceControlEdges_0/Adam/AssignAddVariableOp/_247]]\n  (1) INVALID_ARGUMENT:  Trying to access resource Resource-17-at-0x9a1e600 (defined @ /home/kristian/miniconda3/lib/python3.10/site-packages/keras/src/engine/base_layer_utils.py:137) located in device /job:localhost/replica:0/task:0/device:GPU:0 from device /job:localhost/replica:0/task:0/device:CPU:0\n Cf. https://www.tensorflow.org/xla/known_issues#tfvariable_on_a_different_device\n\t [[{{node Adam/StatefulPartitionedCall_14}}]]\n0 successful operations.\n0 derived errors ignored. [Op:__inference_train_function_6462]"
     ]
    }
   ],
   "source": [
    "with tf.device('/cpu:0'):\n",
    "    model.fit(X_train, Y_train, epochs=20, callbacks=[tb_callback],batch_size =64)\n"
   ]
  },
  {
   "cell_type": "code",
   "execution_count": 39,
   "id": "69800974",
   "metadata": {
    "ExecuteTime": {
     "end_time": "2023-08-03T13:22:18.604368Z",
     "start_time": "2023-08-03T13:22:18.592946Z"
    }
   },
   "outputs": [],
   "source": [
    "model = Sequential(name='sequential')"
   ]
  },
  {
   "cell_type": "code",
   "execution_count": 40,
   "id": "6e2ba983",
   "metadata": {
    "ExecuteTime": {
     "end_time": "2023-08-03T13:22:20.074921Z",
     "start_time": "2023-08-03T13:22:19.403425Z"
    }
   },
   "outputs": [],
   "source": [
    "model.add(GRU(64, return_sequences=True, activation='tanh', input_shape=(212, 1662)))\n",
    "model.add(GRU(128, return_sequences=True, activation='tanh'))\n",
    "model.add(GRU(64, return_sequences=False, activation='tanh'))\n",
    "model.add(Dense(64, activation='relu'))\n",
    "model.add(Dense(32, activation='relu'))\n",
    "model.add(Dense(Y.shape[1], activation='softmax'))"
   ]
  },
  {
   "cell_type": "code",
   "execution_count": 41,
   "id": "b22741af",
   "metadata": {
    "ExecuteTime": {
     "end_time": "2023-08-03T13:22:20.668394Z",
     "start_time": "2023-08-03T13:22:20.641062Z"
    }
   },
   "outputs": [
    {
     "name": "stdout",
     "output_type": "stream",
     "text": [
      "Model: \"sequential\"\n",
      "_________________________________________________________________\n",
      " Layer (type)                Output Shape              Param #   \n",
      "=================================================================\n",
      " gru_11 (GRU)                (None, 212, 64)           331776    \n",
      "                                                                 \n",
      " gru_12 (GRU)                (None, 212, 128)          74496     \n",
      "                                                                 \n",
      " gru_13 (GRU)                (None, 64)                37248     \n",
      "                                                                 \n",
      " dense_15 (Dense)            (None, 64)                4160      \n",
      "                                                                 \n",
      " dense_16 (Dense)            (None, 32)                2080      \n",
      "                                                                 \n",
      " dense_17 (Dense)            (None, 84)                2772      \n",
      "                                                                 \n",
      "=================================================================\n",
      "Total params: 452532 (1.73 MB)\n",
      "Trainable params: 452532 (1.73 MB)\n",
      "Non-trainable params: 0 (0.00 Byte)\n",
      "_________________________________________________________________\n"
     ]
    }
   ],
   "source": [
    "model.summary()"
   ]
  },
  {
   "cell_type": "code",
   "execution_count": 42,
   "id": "9956e76b",
   "metadata": {
    "ExecuteTime": {
     "end_time": "2023-08-03T13:22:35.062274Z",
     "start_time": "2023-08-03T13:22:35.043759Z"
    }
   },
   "outputs": [],
   "source": [
    "optimizer = Adam(learning_rate=.01,clipvalue=1.0)\n",
    "model.compile(optimizer=optimizer, loss='categorical_crossentropy', metrics=['categorical_accuracy'])"
   ]
  },
  {
   "cell_type": "code",
   "execution_count": 43,
   "id": "745f9899",
   "metadata": {
    "ExecuteTime": {
     "end_time": "2023-08-03T13:23:33.344447Z",
     "start_time": "2023-08-03T13:22:55.994234Z"
    }
   },
   "outputs": [
    {
     "name": "stderr",
     "output_type": "stream",
     "text": [
      "2023-08-03 14:22:57.722675: W tensorflow/tsl/framework/cpu_allocator_impl.cc:83] Allocation of 1584138624 exceeds 10% of free system memory.\n",
      "2023-08-03 14:22:59.241294: W tensorflow/tsl/framework/cpu_allocator_impl.cc:83] Allocation of 1584138624 exceeds 10% of free system memory.\n"
     ]
    },
    {
     "name": "stdout",
     "output_type": "stream",
     "text": [
      "Epoch 1/20\n",
      "71/71 [==============================] - 10s 49ms/step - loss: 4.4668 - categorical_accuracy: 0.0089\n",
      "Epoch 2/20\n",
      "71/71 [==============================] - 4s 50ms/step - loss: 4.4306 - categorical_accuracy: 0.0267\n",
      "Epoch 3/20\n",
      "71/71 [==============================] - 4s 50ms/step - loss: 4.4264 - categorical_accuracy: 0.0258\n",
      "Epoch 4/20\n",
      "71/71 [==============================] - 4s 50ms/step - loss: nan - categorical_accuracy: 0.0133\n",
      "Epoch 5/20\n",
      "71/71 [==============================] - 4s 51ms/step - loss: nan - categorical_accuracy: 0.0125\n",
      "Epoch 6/20\n",
      "71/71 [==============================] - 4s 51ms/step - loss: nan - categorical_accuracy: 0.0125\n",
      "Epoch 7/20\n",
      "71/71 [==============================] - 4s 51ms/step - loss: nan - categorical_accuracy: 0.0125\n",
      "Epoch 8/20\n",
      " 7/71 [=>............................] - ETA: 3s - loss: nan - categorical_accuracy: 0.0000e+00"
     ]
    },
    {
     "ename": "KeyboardInterrupt",
     "evalue": "",
     "output_type": "error",
     "traceback": [
      "\u001b[0;31m---------------------------------------------------------------------------\u001b[0m",
      "\u001b[0;31mKeyboardInterrupt\u001b[0m                         Traceback (most recent call last)",
      "Cell \u001b[0;32mIn[43], line 1\u001b[0m\n\u001b[0;32m----> 1\u001b[0m \u001b[43mmodel\u001b[49m\u001b[38;5;241;43m.\u001b[39;49m\u001b[43mfit\u001b[49m\u001b[43m(\u001b[49m\u001b[43mX_train\u001b[49m\u001b[43m,\u001b[49m\u001b[43m \u001b[49m\u001b[43mY_train\u001b[49m\u001b[43m,\u001b[49m\u001b[43m \u001b[49m\u001b[43mepochs\u001b[49m\u001b[38;5;241;43m=\u001b[39;49m\u001b[38;5;241;43m20\u001b[39;49m\u001b[43m,\u001b[49m\u001b[43m \u001b[49m\u001b[43mcallbacks\u001b[49m\u001b[38;5;241;43m=\u001b[39;49m\u001b[43m[\u001b[49m\u001b[43mtb_callback\u001b[49m\u001b[43m]\u001b[49m\u001b[43m,\u001b[49m\u001b[43mbatch_size\u001b[49m\u001b[43m \u001b[49m\u001b[38;5;241;43m=\u001b[39;49m\u001b[38;5;241;43m16\u001b[39;49m\u001b[43m)\u001b[49m\n",
      "File \u001b[0;32m~/miniconda3/lib/python3.10/site-packages/keras/src/utils/traceback_utils.py:65\u001b[0m, in \u001b[0;36mfilter_traceback.<locals>.error_handler\u001b[0;34m(*args, **kwargs)\u001b[0m\n\u001b[1;32m     63\u001b[0m filtered_tb \u001b[38;5;241m=\u001b[39m \u001b[38;5;28;01mNone\u001b[39;00m\n\u001b[1;32m     64\u001b[0m \u001b[38;5;28;01mtry\u001b[39;00m:\n\u001b[0;32m---> 65\u001b[0m     \u001b[38;5;28;01mreturn\u001b[39;00m \u001b[43mfn\u001b[49m\u001b[43m(\u001b[49m\u001b[38;5;241;43m*\u001b[39;49m\u001b[43margs\u001b[49m\u001b[43m,\u001b[49m\u001b[43m \u001b[49m\u001b[38;5;241;43m*\u001b[39;49m\u001b[38;5;241;43m*\u001b[39;49m\u001b[43mkwargs\u001b[49m\u001b[43m)\u001b[49m\n\u001b[1;32m     66\u001b[0m \u001b[38;5;28;01mexcept\u001b[39;00m \u001b[38;5;167;01mException\u001b[39;00m \u001b[38;5;28;01mas\u001b[39;00m e:\n\u001b[1;32m     67\u001b[0m     filtered_tb \u001b[38;5;241m=\u001b[39m _process_traceback_frames(e\u001b[38;5;241m.\u001b[39m__traceback__)\n",
      "File \u001b[0;32m~/miniconda3/lib/python3.10/site-packages/keras/src/engine/training.py:1748\u001b[0m, in \u001b[0;36mModel.fit\u001b[0;34m(self, x, y, batch_size, epochs, verbose, callbacks, validation_split, validation_data, shuffle, class_weight, sample_weight, initial_epoch, steps_per_epoch, validation_steps, validation_batch_size, validation_freq, max_queue_size, workers, use_multiprocessing)\u001b[0m\n\u001b[1;32m   1746\u001b[0m logs \u001b[38;5;241m=\u001b[39m tmp_logs\n\u001b[1;32m   1747\u001b[0m end_step \u001b[38;5;241m=\u001b[39m step \u001b[38;5;241m+\u001b[39m data_handler\u001b[38;5;241m.\u001b[39mstep_increment\n\u001b[0;32m-> 1748\u001b[0m \u001b[43mcallbacks\u001b[49m\u001b[38;5;241;43m.\u001b[39;49m\u001b[43mon_train_batch_end\u001b[49m\u001b[43m(\u001b[49m\u001b[43mend_step\u001b[49m\u001b[43m,\u001b[49m\u001b[43m \u001b[49m\u001b[43mlogs\u001b[49m\u001b[43m)\u001b[49m\n\u001b[1;32m   1749\u001b[0m \u001b[38;5;28;01mif\u001b[39;00m \u001b[38;5;28mself\u001b[39m\u001b[38;5;241m.\u001b[39mstop_training:\n\u001b[1;32m   1750\u001b[0m     \u001b[38;5;28;01mbreak\u001b[39;00m\n",
      "File \u001b[0;32m~/miniconda3/lib/python3.10/site-packages/keras/src/callbacks.py:475\u001b[0m, in \u001b[0;36mCallbackList.on_train_batch_end\u001b[0;34m(self, batch, logs)\u001b[0m\n\u001b[1;32m    468\u001b[0m \u001b[38;5;250m\u001b[39m\u001b[38;5;124;03m\"\"\"Calls the `on_train_batch_end` methods of its callbacks.\u001b[39;00m\n\u001b[1;32m    469\u001b[0m \n\u001b[1;32m    470\u001b[0m \u001b[38;5;124;03mArgs:\u001b[39;00m\n\u001b[1;32m    471\u001b[0m \u001b[38;5;124;03m    batch: Integer, index of batch within the current epoch.\u001b[39;00m\n\u001b[1;32m    472\u001b[0m \u001b[38;5;124;03m    logs: Dict. Aggregated metric results up until this batch.\u001b[39;00m\n\u001b[1;32m    473\u001b[0m \u001b[38;5;124;03m\"\"\"\u001b[39;00m\n\u001b[1;32m    474\u001b[0m \u001b[38;5;28;01mif\u001b[39;00m \u001b[38;5;28mself\u001b[39m\u001b[38;5;241m.\u001b[39m_should_call_train_batch_hooks:\n\u001b[0;32m--> 475\u001b[0m     \u001b[38;5;28;43mself\u001b[39;49m\u001b[38;5;241;43m.\u001b[39;49m\u001b[43m_call_batch_hook\u001b[49m\u001b[43m(\u001b[49m\u001b[43mModeKeys\u001b[49m\u001b[38;5;241;43m.\u001b[39;49m\u001b[43mTRAIN\u001b[49m\u001b[43m,\u001b[49m\u001b[43m \u001b[49m\u001b[38;5;124;43m\"\u001b[39;49m\u001b[38;5;124;43mend\u001b[39;49m\u001b[38;5;124;43m\"\u001b[39;49m\u001b[43m,\u001b[49m\u001b[43m \u001b[49m\u001b[43mbatch\u001b[49m\u001b[43m,\u001b[49m\u001b[43m \u001b[49m\u001b[43mlogs\u001b[49m\u001b[38;5;241;43m=\u001b[39;49m\u001b[43mlogs\u001b[49m\u001b[43m)\u001b[49m\n",
      "File \u001b[0;32m~/miniconda3/lib/python3.10/site-packages/keras/src/callbacks.py:322\u001b[0m, in \u001b[0;36mCallbackList._call_batch_hook\u001b[0;34m(self, mode, hook, batch, logs)\u001b[0m\n\u001b[1;32m    320\u001b[0m     \u001b[38;5;28mself\u001b[39m\u001b[38;5;241m.\u001b[39m_call_batch_begin_hook(mode, batch, logs)\n\u001b[1;32m    321\u001b[0m \u001b[38;5;28;01melif\u001b[39;00m hook \u001b[38;5;241m==\u001b[39m \u001b[38;5;124m\"\u001b[39m\u001b[38;5;124mend\u001b[39m\u001b[38;5;124m\"\u001b[39m:\n\u001b[0;32m--> 322\u001b[0m     \u001b[38;5;28;43mself\u001b[39;49m\u001b[38;5;241;43m.\u001b[39;49m\u001b[43m_call_batch_end_hook\u001b[49m\u001b[43m(\u001b[49m\u001b[43mmode\u001b[49m\u001b[43m,\u001b[49m\u001b[43m \u001b[49m\u001b[43mbatch\u001b[49m\u001b[43m,\u001b[49m\u001b[43m \u001b[49m\u001b[43mlogs\u001b[49m\u001b[43m)\u001b[49m\n\u001b[1;32m    323\u001b[0m \u001b[38;5;28;01melse\u001b[39;00m:\n\u001b[1;32m    324\u001b[0m     \u001b[38;5;28;01mraise\u001b[39;00m \u001b[38;5;167;01mValueError\u001b[39;00m(\n\u001b[1;32m    325\u001b[0m         \u001b[38;5;124mf\u001b[39m\u001b[38;5;124m\"\u001b[39m\u001b[38;5;124mUnrecognized hook: \u001b[39m\u001b[38;5;132;01m{\u001b[39;00mhook\u001b[38;5;132;01m}\u001b[39;00m\u001b[38;5;124m. \u001b[39m\u001b[38;5;124m\"\u001b[39m\n\u001b[1;32m    326\u001b[0m         \u001b[38;5;124m'\u001b[39m\u001b[38;5;124mExpected values are [\u001b[39m\u001b[38;5;124m\"\u001b[39m\u001b[38;5;124mbegin\u001b[39m\u001b[38;5;124m\"\u001b[39m\u001b[38;5;124m, \u001b[39m\u001b[38;5;124m\"\u001b[39m\u001b[38;5;124mend\u001b[39m\u001b[38;5;124m\"\u001b[39m\u001b[38;5;124m]\u001b[39m\u001b[38;5;124m'\u001b[39m\n\u001b[1;32m    327\u001b[0m     )\n",
      "File \u001b[0;32m~/miniconda3/lib/python3.10/site-packages/keras/src/callbacks.py:345\u001b[0m, in \u001b[0;36mCallbackList._call_batch_end_hook\u001b[0;34m(self, mode, batch, logs)\u001b[0m\n\u001b[1;32m    342\u001b[0m     batch_time \u001b[38;5;241m=\u001b[39m time\u001b[38;5;241m.\u001b[39mtime() \u001b[38;5;241m-\u001b[39m \u001b[38;5;28mself\u001b[39m\u001b[38;5;241m.\u001b[39m_batch_start_time\n\u001b[1;32m    343\u001b[0m     \u001b[38;5;28mself\u001b[39m\u001b[38;5;241m.\u001b[39m_batch_times\u001b[38;5;241m.\u001b[39mappend(batch_time)\n\u001b[0;32m--> 345\u001b[0m \u001b[38;5;28;43mself\u001b[39;49m\u001b[38;5;241;43m.\u001b[39;49m\u001b[43m_call_batch_hook_helper\u001b[49m\u001b[43m(\u001b[49m\u001b[43mhook_name\u001b[49m\u001b[43m,\u001b[49m\u001b[43m \u001b[49m\u001b[43mbatch\u001b[49m\u001b[43m,\u001b[49m\u001b[43m \u001b[49m\u001b[43mlogs\u001b[49m\u001b[43m)\u001b[49m\n\u001b[1;32m    347\u001b[0m \u001b[38;5;28;01mif\u001b[39;00m \u001b[38;5;28mlen\u001b[39m(\u001b[38;5;28mself\u001b[39m\u001b[38;5;241m.\u001b[39m_batch_times) \u001b[38;5;241m>\u001b[39m\u001b[38;5;241m=\u001b[39m \u001b[38;5;28mself\u001b[39m\u001b[38;5;241m.\u001b[39m_num_batches_for_timing_check:\n\u001b[1;32m    348\u001b[0m     end_hook_name \u001b[38;5;241m=\u001b[39m hook_name\n",
      "File \u001b[0;32m~/miniconda3/lib/python3.10/site-packages/keras/src/callbacks.py:393\u001b[0m, in \u001b[0;36mCallbackList._call_batch_hook_helper\u001b[0;34m(self, hook_name, batch, logs)\u001b[0m\n\u001b[1;32m    391\u001b[0m \u001b[38;5;28;01mfor\u001b[39;00m callback \u001b[38;5;129;01min\u001b[39;00m \u001b[38;5;28mself\u001b[39m\u001b[38;5;241m.\u001b[39mcallbacks:\n\u001b[1;32m    392\u001b[0m     hook \u001b[38;5;241m=\u001b[39m \u001b[38;5;28mgetattr\u001b[39m(callback, hook_name)\n\u001b[0;32m--> 393\u001b[0m     \u001b[43mhook\u001b[49m\u001b[43m(\u001b[49m\u001b[43mbatch\u001b[49m\u001b[43m,\u001b[49m\u001b[43m \u001b[49m\u001b[43mlogs\u001b[49m\u001b[43m)\u001b[49m\n\u001b[1;32m    395\u001b[0m \u001b[38;5;28;01mif\u001b[39;00m \u001b[38;5;28mself\u001b[39m\u001b[38;5;241m.\u001b[39m_check_timing:\n\u001b[1;32m    396\u001b[0m     \u001b[38;5;28;01mif\u001b[39;00m hook_name \u001b[38;5;129;01mnot\u001b[39;00m \u001b[38;5;129;01min\u001b[39;00m \u001b[38;5;28mself\u001b[39m\u001b[38;5;241m.\u001b[39m_hook_times:\n",
      "File \u001b[0;32m~/miniconda3/lib/python3.10/site-packages/keras/src/callbacks.py:1093\u001b[0m, in \u001b[0;36mProgbarLogger.on_train_batch_end\u001b[0;34m(self, batch, logs)\u001b[0m\n\u001b[1;32m   1092\u001b[0m \u001b[38;5;28;01mdef\u001b[39;00m \u001b[38;5;21mon_train_batch_end\u001b[39m(\u001b[38;5;28mself\u001b[39m, batch, logs\u001b[38;5;241m=\u001b[39m\u001b[38;5;28;01mNone\u001b[39;00m):\n\u001b[0;32m-> 1093\u001b[0m     \u001b[38;5;28;43mself\u001b[39;49m\u001b[38;5;241;43m.\u001b[39;49m\u001b[43m_batch_update_progbar\u001b[49m\u001b[43m(\u001b[49m\u001b[43mbatch\u001b[49m\u001b[43m,\u001b[49m\u001b[43m \u001b[49m\u001b[43mlogs\u001b[49m\u001b[43m)\u001b[49m\n",
      "File \u001b[0;32m~/miniconda3/lib/python3.10/site-packages/keras/src/callbacks.py:1170\u001b[0m, in \u001b[0;36mProgbarLogger._batch_update_progbar\u001b[0;34m(self, batch, logs)\u001b[0m\n\u001b[1;32m   1167\u001b[0m \u001b[38;5;28;01mif\u001b[39;00m \u001b[38;5;28mself\u001b[39m\u001b[38;5;241m.\u001b[39mverbose \u001b[38;5;241m==\u001b[39m \u001b[38;5;241m1\u001b[39m:\n\u001b[1;32m   1168\u001b[0m     \u001b[38;5;66;03m# Only block async when verbose = 1.\u001b[39;00m\n\u001b[1;32m   1169\u001b[0m     logs \u001b[38;5;241m=\u001b[39m tf_utils\u001b[38;5;241m.\u001b[39msync_to_numpy_or_python_type(logs)\n\u001b[0;32m-> 1170\u001b[0m     \u001b[38;5;28;43mself\u001b[39;49m\u001b[38;5;241;43m.\u001b[39;49m\u001b[43mprogbar\u001b[49m\u001b[38;5;241;43m.\u001b[39;49m\u001b[43mupdate\u001b[49m\u001b[43m(\u001b[49m\u001b[38;5;28;43mself\u001b[39;49m\u001b[38;5;241;43m.\u001b[39;49m\u001b[43mseen\u001b[49m\u001b[43m,\u001b[49m\u001b[43m \u001b[49m\u001b[38;5;28;43mlist\u001b[39;49m\u001b[43m(\u001b[49m\u001b[43mlogs\u001b[49m\u001b[38;5;241;43m.\u001b[39;49m\u001b[43mitems\u001b[49m\u001b[43m(\u001b[49m\u001b[43m)\u001b[49m\u001b[43m)\u001b[49m\u001b[43m,\u001b[49m\u001b[43m \u001b[49m\u001b[43mfinalize\u001b[49m\u001b[38;5;241;43m=\u001b[39;49m\u001b[38;5;28;43;01mFalse\u001b[39;49;00m\u001b[43m)\u001b[49m\n",
      "File \u001b[0;32m~/miniconda3/lib/python3.10/site-packages/keras/src/utils/generic_utils.py:296\u001b[0m, in \u001b[0;36mProgbar.update\u001b[0;34m(self, current, values, finalize)\u001b[0m\n\u001b[1;32m    293\u001b[0m         info \u001b[38;5;241m+\u001b[39m\u001b[38;5;241m=\u001b[39m \u001b[38;5;124m\"\u001b[39m\u001b[38;5;130;01m\\n\u001b[39;00m\u001b[38;5;124m\"\u001b[39m\n\u001b[1;32m    295\u001b[0m     message \u001b[38;5;241m+\u001b[39m\u001b[38;5;241m=\u001b[39m info\n\u001b[0;32m--> 296\u001b[0m     \u001b[43mio_utils\u001b[49m\u001b[38;5;241;43m.\u001b[39;49m\u001b[43mprint_msg\u001b[49m\u001b[43m(\u001b[49m\u001b[43mmessage\u001b[49m\u001b[43m,\u001b[49m\u001b[43m \u001b[49m\u001b[43mline_break\u001b[49m\u001b[38;5;241;43m=\u001b[39;49m\u001b[38;5;28;43;01mFalse\u001b[39;49;00m\u001b[43m)\u001b[49m\n\u001b[1;32m    297\u001b[0m     message \u001b[38;5;241m=\u001b[39m \u001b[38;5;124m\"\u001b[39m\u001b[38;5;124m\"\u001b[39m\n\u001b[1;32m    299\u001b[0m \u001b[38;5;28;01melif\u001b[39;00m \u001b[38;5;28mself\u001b[39m\u001b[38;5;241m.\u001b[39mverbose \u001b[38;5;241m==\u001b[39m \u001b[38;5;241m2\u001b[39m:\n",
      "File \u001b[0;32m~/miniconda3/lib/python3.10/site-packages/keras/src/utils/io_utils.py:80\u001b[0m, in \u001b[0;36mprint_msg\u001b[0;34m(message, line_break)\u001b[0m\n\u001b[1;32m     78\u001b[0m     \u001b[38;5;28;01melse\u001b[39;00m:\n\u001b[1;32m     79\u001b[0m         sys\u001b[38;5;241m.\u001b[39mstdout\u001b[38;5;241m.\u001b[39mwrite(message)\n\u001b[0;32m---> 80\u001b[0m     \u001b[43msys\u001b[49m\u001b[38;5;241;43m.\u001b[39;49m\u001b[43mstdout\u001b[49m\u001b[38;5;241;43m.\u001b[39;49m\u001b[43mflush\u001b[49m\u001b[43m(\u001b[49m\u001b[43m)\u001b[49m\n\u001b[1;32m     81\u001b[0m \u001b[38;5;28;01melse\u001b[39;00m:\n\u001b[1;32m     82\u001b[0m     logging\u001b[38;5;241m.\u001b[39minfo(message)\n",
      "File \u001b[0;32m~/miniconda3/lib/python3.10/site-packages/ipykernel/iostream.py:486\u001b[0m, in \u001b[0;36mOutStream.flush\u001b[0;34m(self)\u001b[0m\n\u001b[1;32m    484\u001b[0m \u001b[38;5;66;03m# wait for flush to actually get through, if we can.\u001b[39;00m\n\u001b[1;32m    485\u001b[0m evt \u001b[38;5;241m=\u001b[39m threading\u001b[38;5;241m.\u001b[39mEvent()\n\u001b[0;32m--> 486\u001b[0m \u001b[38;5;28;43mself\u001b[39;49m\u001b[38;5;241;43m.\u001b[39;49m\u001b[43mpub_thread\u001b[49m\u001b[38;5;241;43m.\u001b[39;49m\u001b[43mschedule\u001b[49m\u001b[43m(\u001b[49m\u001b[43mevt\u001b[49m\u001b[38;5;241;43m.\u001b[39;49m\u001b[43mset\u001b[49m\u001b[43m)\u001b[49m\n\u001b[1;32m    487\u001b[0m \u001b[38;5;66;03m# and give a timeout to avoid\u001b[39;00m\n\u001b[1;32m    488\u001b[0m \u001b[38;5;28;01mif\u001b[39;00m \u001b[38;5;129;01mnot\u001b[39;00m evt\u001b[38;5;241m.\u001b[39mwait(\u001b[38;5;28mself\u001b[39m\u001b[38;5;241m.\u001b[39mflush_timeout):\n\u001b[1;32m    489\u001b[0m     \u001b[38;5;66;03m# write directly to __stderr__ instead of warning because\u001b[39;00m\n\u001b[1;32m    490\u001b[0m     \u001b[38;5;66;03m# if this is happening sys.stderr may be the problem.\u001b[39;00m\n",
      "File \u001b[0;32m~/miniconda3/lib/python3.10/site-packages/ipykernel/iostream.py:210\u001b[0m, in \u001b[0;36mIOPubThread.schedule\u001b[0;34m(self, f)\u001b[0m\n\u001b[1;32m    208\u001b[0m     \u001b[38;5;28mself\u001b[39m\u001b[38;5;241m.\u001b[39m_events\u001b[38;5;241m.\u001b[39mappend(f)\n\u001b[1;32m    209\u001b[0m     \u001b[38;5;66;03m# wake event thread (message content is ignored)\u001b[39;00m\n\u001b[0;32m--> 210\u001b[0m     \u001b[38;5;28;43mself\u001b[39;49m\u001b[38;5;241;43m.\u001b[39;49m\u001b[43m_event_pipe\u001b[49m\u001b[38;5;241;43m.\u001b[39;49m\u001b[43msend\u001b[49m\u001b[43m(\u001b[49m\u001b[38;5;124;43mb\u001b[39;49m\u001b[38;5;124;43m\"\u001b[39;49m\u001b[38;5;124;43m\"\u001b[39;49m\u001b[43m)\u001b[49m\n\u001b[1;32m    211\u001b[0m \u001b[38;5;28;01melse\u001b[39;00m:\n\u001b[1;32m    212\u001b[0m     f()\n",
      "File \u001b[0;32m~/miniconda3/lib/python3.10/site-packages/zmq/sugar/socket.py:696\u001b[0m, in \u001b[0;36mSocket.send\u001b[0;34m(self, data, flags, copy, track, routing_id, group)\u001b[0m\n\u001b[1;32m    689\u001b[0m         data \u001b[38;5;241m=\u001b[39m zmq\u001b[38;5;241m.\u001b[39mFrame(\n\u001b[1;32m    690\u001b[0m             data,\n\u001b[1;32m    691\u001b[0m             track\u001b[38;5;241m=\u001b[39mtrack,\n\u001b[1;32m    692\u001b[0m             copy\u001b[38;5;241m=\u001b[39mcopy \u001b[38;5;129;01mor\u001b[39;00m \u001b[38;5;28;01mNone\u001b[39;00m,\n\u001b[1;32m    693\u001b[0m             copy_threshold\u001b[38;5;241m=\u001b[39m\u001b[38;5;28mself\u001b[39m\u001b[38;5;241m.\u001b[39mcopy_threshold,\n\u001b[1;32m    694\u001b[0m         )\n\u001b[1;32m    695\u001b[0m     data\u001b[38;5;241m.\u001b[39mgroup \u001b[38;5;241m=\u001b[39m group\n\u001b[0;32m--> 696\u001b[0m \u001b[38;5;28;01mreturn\u001b[39;00m \u001b[38;5;28;43msuper\u001b[39;49m\u001b[43m(\u001b[49m\u001b[43m)\u001b[49m\u001b[38;5;241;43m.\u001b[39;49m\u001b[43msend\u001b[49m\u001b[43m(\u001b[49m\u001b[43mdata\u001b[49m\u001b[43m,\u001b[49m\u001b[43m \u001b[49m\u001b[43mflags\u001b[49m\u001b[38;5;241;43m=\u001b[39;49m\u001b[43mflags\u001b[49m\u001b[43m,\u001b[49m\u001b[43m \u001b[49m\u001b[43mcopy\u001b[49m\u001b[38;5;241;43m=\u001b[39;49m\u001b[43mcopy\u001b[49m\u001b[43m,\u001b[49m\u001b[43m \u001b[49m\u001b[43mtrack\u001b[49m\u001b[38;5;241;43m=\u001b[39;49m\u001b[43mtrack\u001b[49m\u001b[43m)\u001b[49m\n",
      "File \u001b[0;32mzmq/backend/cython/socket.pyx:742\u001b[0m, in \u001b[0;36mzmq.backend.cython.socket.Socket.send\u001b[0;34m()\u001b[0m\n",
      "File \u001b[0;32mzmq/backend/cython/socket.pyx:789\u001b[0m, in \u001b[0;36mzmq.backend.cython.socket.Socket.send\u001b[0;34m()\u001b[0m\n",
      "File \u001b[0;32mzmq/backend/cython/socket.pyx:250\u001b[0m, in \u001b[0;36mzmq.backend.cython.socket._send_copy\u001b[0;34m()\u001b[0m\n",
      "File \u001b[0;32m~/miniconda3/lib/python3.10/site-packages/zmq/backend/cython/checkrc.pxd:13\u001b[0m, in \u001b[0;36mzmq.backend.cython.checkrc._check_rc\u001b[0;34m()\u001b[0m\n",
      "\u001b[0;31mKeyboardInterrupt\u001b[0m: "
     ]
    }
   ],
   "source": [
    "model.fit(X_train, Y_train, epochs=20, callbacks=[tb_callback],batch_size =16)"
   ]
  },
  {
   "cell_type": "code",
   "execution_count": 14,
   "id": "ed852823",
   "metadata": {
    "ExecuteTime": {
     "end_time": "2023-08-03T18:57:08.683610Z",
     "start_time": "2023-08-03T18:56:57.076660Z"
    },
    "scrolled": true
   },
   "outputs": [
    {
     "name": "stdout",
     "output_type": "stream",
     "text": [
      "Model: \"sequential\"\n",
      "_________________________________________________________________\n",
      " Layer (type)                Output Shape              Param #   \n",
      "=================================================================\n",
      " conv1d_3 (Conv1D)           (None, 210, 32)           159584    \n",
      "                                                                 \n",
      " max_pooling1d_3 (MaxPoolin  (None, 105, 32)           0         \n",
      " g1D)                                                            \n",
      "                                                                 \n",
      " conv1d_4 (Conv1D)           (None, 103, 128)          12416     \n",
      "                                                                 \n",
      " max_pooling1d_4 (MaxPoolin  (None, 51, 128)           0         \n",
      " g1D)                                                            \n",
      "                                                                 \n",
      " spatial_dropout1d_1 (Spati  (None, 51, 128)           0         \n",
      " alDropout1D)                                                    \n",
      "                                                                 \n",
      " flatten_1 (Flatten)         (None, 6528)              0         \n",
      "                                                                 \n",
      " dense_3 (Dense)             (None, 128)               835712    \n",
      "                                                                 \n",
      " dense_4 (Dense)             (None, 64)                8256      \n",
      "                                                                 \n",
      " dense_5 (Dense)             (None, 84)                5460      \n",
      "                                                                 \n",
      "=================================================================\n",
      "Total params: 1021428 (3.90 MB)\n",
      "Trainable params: 1021428 (3.90 MB)\n",
      "Non-trainable params: 0 (0.00 Byte)\n",
      "_________________________________________________________________\n"
     ]
    },
    {
     "name": "stderr",
     "output_type": "stream",
     "text": [
      "2023-08-03 19:57:08.520945: W tensorflow/tsl/framework/bfc_allocator.cc:485] Allocator (GPU_0_bfc) ran out of memory trying to allocate 1.03GiB (rounded to 1107769600)requested by op _EagerConst\n",
      "If the cause is memory fragmentation maybe the environment variable 'TF_GPU_ALLOCATOR=cuda_malloc_async' will improve the situation. \n",
      "Current allocation summary follows.\n",
      "Current allocation summary follows.\n",
      "2023-08-03 19:57:08.521032: I tensorflow/tsl/framework/bfc_allocator.cc:1039] BFCAllocator dump for GPU_0_bfc\n",
      "2023-08-03 19:57:08.521064: I tensorflow/tsl/framework/bfc_allocator.cc:1046] Bin (256): \tTotal Chunks: 54, Chunks in use: 54. 13.5KiB allocated for chunks. 13.5KiB in use in bin. 2.5KiB client-requested in use in bin.\n",
      "2023-08-03 19:57:08.521086: I tensorflow/tsl/framework/bfc_allocator.cc:1046] Bin (512): \tTotal Chunks: 12, Chunks in use: 12. 6.0KiB allocated for chunks. 6.0KiB in use in bin. 5.3KiB client-requested in use in bin.\n",
      "2023-08-03 19:57:08.521105: I tensorflow/tsl/framework/bfc_allocator.cc:1046] Bin (1024): \tTotal Chunks: 1, Chunks in use: 1. 1.2KiB allocated for chunks. 1.2KiB in use in bin. 1.0KiB client-requested in use in bin.\n",
      "2023-08-03 19:57:08.521123: I tensorflow/tsl/framework/bfc_allocator.cc:1046] Bin (2048): \tTotal Chunks: 0, Chunks in use: 0. 0B allocated for chunks. 0B in use in bin. 0B client-requested in use in bin.\n",
      "2023-08-03 19:57:08.521140: I tensorflow/tsl/framework/bfc_allocator.cc:1046] Bin (4096): \tTotal Chunks: 1, Chunks in use: 0. 7.2KiB allocated for chunks. 0B in use in bin. 0B client-requested in use in bin.\n",
      "2023-08-03 19:57:08.521156: I tensorflow/tsl/framework/bfc_allocator.cc:1046] Bin (8192): \tTotal Chunks: 0, Chunks in use: 0. 0B allocated for chunks. 0B in use in bin. 0B client-requested in use in bin.\n",
      "2023-08-03 19:57:08.521179: I tensorflow/tsl/framework/bfc_allocator.cc:1046] Bin (16384): \tTotal Chunks: 7, Chunks in use: 7. 168.2KiB allocated for chunks. 168.2KiB in use in bin. 156.0KiB client-requested in use in bin.\n",
      "2023-08-03 19:57:08.521199: I tensorflow/tsl/framework/bfc_allocator.cc:1046] Bin (32768): \tTotal Chunks: 6, Chunks in use: 5. 218.0KiB allocated for chunks. 176.0KiB in use in bin. 176.0KiB client-requested in use in bin.\n",
      "2023-08-03 19:57:08.521219: I tensorflow/tsl/framework/bfc_allocator.cc:1046] Bin (65536): \tTotal Chunks: 4, Chunks in use: 4. 406.8KiB allocated for chunks. 406.8KiB in use in bin. 398.9KiB client-requested in use in bin.\n",
      "2023-08-03 19:57:08.521235: I tensorflow/tsl/framework/bfc_allocator.cc:1046] Bin (131072): \tTotal Chunks: 0, Chunks in use: 0. 0B allocated for chunks. 0B in use in bin. 0B client-requested in use in bin.\n",
      "2023-08-03 19:57:08.521255: I tensorflow/tsl/framework/bfc_allocator.cc:1046] Bin (262144): \tTotal Chunks: 1, Chunks in use: 1. 258.0KiB allocated for chunks. 258.0KiB in use in bin. 257.9KiB client-requested in use in bin.\n",
      "2023-08-03 19:57:08.521273: I tensorflow/tsl/framework/bfc_allocator.cc:1046] Bin (524288): \tTotal Chunks: 4, Chunks in use: 4. 2.61MiB allocated for chunks. 2.61MiB in use in bin. 2.43MiB client-requested in use in bin.\n",
      "2023-08-03 19:57:08.521291: I tensorflow/tsl/framework/bfc_allocator.cc:1046] Bin (1048576): \tTotal Chunks: 4, Chunks in use: 3. 5.87MiB allocated for chunks. 4.80MiB in use in bin. 4.50MiB client-requested in use in bin.\n",
      "2023-08-03 19:57:08.521310: I tensorflow/tsl/framework/bfc_allocator.cc:1046] Bin (2097152): \tTotal Chunks: 2, Chunks in use: 1. 6.38MiB allocated for chunks. 3.19MiB in use in bin. 3.19MiB client-requested in use in bin.\n",
      "2023-08-03 19:57:08.521327: I tensorflow/tsl/framework/bfc_allocator.cc:1046] Bin (4194304): \tTotal Chunks: 1, Chunks in use: 0. 4.46MiB allocated for chunks. 0B in use in bin. 0B client-requested in use in bin.\n",
      "2023-08-03 19:57:08.521342: I tensorflow/tsl/framework/bfc_allocator.cc:1046] Bin (8388608): \tTotal Chunks: 0, Chunks in use: 0. 0B allocated for chunks. 0B in use in bin. 0B client-requested in use in bin.\n",
      "2023-08-03 19:57:08.521358: I tensorflow/tsl/framework/bfc_allocator.cc:1046] Bin (16777216): \tTotal Chunks: 0, Chunks in use: 0. 0B allocated for chunks. 0B in use in bin. 0B client-requested in use in bin.\n",
      "2023-08-03 19:57:08.521374: I tensorflow/tsl/framework/bfc_allocator.cc:1046] Bin (33554432): \tTotal Chunks: 0, Chunks in use: 0. 0B allocated for chunks. 0B in use in bin. 0B client-requested in use in bin.\n",
      "2023-08-03 19:57:08.521390: I tensorflow/tsl/framework/bfc_allocator.cc:1046] Bin (67108864): \tTotal Chunks: 0, Chunks in use: 0. 0B allocated for chunks. 0B in use in bin. 0B client-requested in use in bin.\n",
      "2023-08-03 19:57:08.521407: I tensorflow/tsl/framework/bfc_allocator.cc:1046] Bin (134217728): \tTotal Chunks: 1, Chunks in use: 0. 208.50MiB allocated for chunks. 0B in use in bin. 0B client-requested in use in bin.\n",
      "2023-08-03 19:57:08.521440: I tensorflow/tsl/framework/bfc_allocator.cc:1046] Bin (268435456): \tTotal Chunks: 2, Chunks in use: 2. 1.47GiB allocated for chunks. 1.47GiB in use in bin. 1.47GiB client-requested in use in bin.\n",
      "2023-08-03 19:57:08.521460: I tensorflow/tsl/framework/bfc_allocator.cc:1062] Bin for 1.03GiB was 256.00MiB, Chunk State: \n",
      "2023-08-03 19:57:08.521474: I tensorflow/tsl/framework/bfc_allocator.cc:1075] Next region of size 1809448960\n",
      "2023-08-03 19:57:08.521495: I tensorflow/tsl/framework/bfc_allocator.cc:1095] InUse at 7efafa000000 of size 1107769600 next 38\n",
      "2023-08-03 19:57:08.521509: I tensorflow/tsl/framework/bfc_allocator.cc:1095] InUse at 7efb3c073900 of size 476369152 next 89\n",
      "2023-08-03 19:57:08.521522: I tensorflow/tsl/framework/bfc_allocator.cc:1095] Free  at 7efb586c0a00 of size 3342336 next 73\n",
      "2023-08-03 19:57:08.521534: I tensorflow/tsl/framework/bfc_allocator.cc:1095] InUse at 7efb589f0a00 of size 3342336 next 74\n",
      "2023-08-03 19:57:08.521548: I tensorflow/tsl/framework/bfc_allocator.cc:1095] Free  at 7efb58d20a00 of size 218625536 next 18446744073709551615\n",
      "2023-08-03 19:57:08.521562: I tensorflow/tsl/framework/bfc_allocator.cc:1075] Next region of size 2097152\n",
      "2023-08-03 19:57:08.521575: I tensorflow/tsl/framework/bfc_allocator.cc:1095] InUse at 7efca6c00000 of size 256 next 1\n",
      "2023-08-03 19:57:08.521588: I tensorflow/tsl/framework/bfc_allocator.cc:1095] InUse at 7efca6c00100 of size 1280 next 2\n",
      "2023-08-03 19:57:08.521601: I tensorflow/tsl/framework/bfc_allocator.cc:1095] InUse at 7efca6c00600 of size 256 next 3\n",
      "2023-08-03 19:57:08.521612: I tensorflow/tsl/framework/bfc_allocator.cc:1095] InUse at 7efca6c00700 of size 256 next 4\n",
      "2023-08-03 19:57:08.521624: I tensorflow/tsl/framework/bfc_allocator.cc:1095] InUse at 7efca6c00800 of size 256 next 6\n",
      "2023-08-03 19:57:08.521636: I tensorflow/tsl/framework/bfc_allocator.cc:1095] InUse at 7efca6c00900 of size 256 next 7\n",
      "2023-08-03 19:57:08.521647: I tensorflow/tsl/framework/bfc_allocator.cc:1095] InUse at 7efca6c00a00 of size 256 next 5\n",
      "2023-08-03 19:57:08.521659: I tensorflow/tsl/framework/bfc_allocator.cc:1095] InUse at 7efca6c00b00 of size 256 next 8\n",
      "2023-08-03 19:57:08.521670: I tensorflow/tsl/framework/bfc_allocator.cc:1095] InUse at 7efca6c00c00 of size 256 next 11\n",
      "2023-08-03 19:57:08.521682: I tensorflow/tsl/framework/bfc_allocator.cc:1095] InUse at 7efca6c00d00 of size 256 next 12\n",
      "2023-08-03 19:57:08.521693: I tensorflow/tsl/framework/bfc_allocator.cc:1095] InUse at 7efca6c00e00 of size 256 next 10\n",
      "2023-08-03 19:57:08.521705: I tensorflow/tsl/framework/bfc_allocator.cc:1095] InUse at 7efca6c00f00 of size 512 next 17\n",
      "2023-08-03 19:57:08.521717: I tensorflow/tsl/framework/bfc_allocator.cc:1095] InUse at 7efca6c01100 of size 256 next 13\n",
      "2023-08-03 19:57:08.521728: I tensorflow/tsl/framework/bfc_allocator.cc:1095] InUse at 7efca6c01200 of size 256 next 16\n",
      "2023-08-03 19:57:08.521739: I tensorflow/tsl/framework/bfc_allocator.cc:1095] InUse at 7efca6c01300 of size 512 next 23\n",
      "2023-08-03 19:57:08.521751: I tensorflow/tsl/framework/bfc_allocator.cc:1095] InUse at 7efca6c01500 of size 256 next 20\n",
      "2023-08-03 19:57:08.521762: I tensorflow/tsl/framework/bfc_allocator.cc:1095] InUse at 7efca6c01600 of size 256 next 21\n",
      "2023-08-03 19:57:08.521773: I tensorflow/tsl/framework/bfc_allocator.cc:1095] InUse at 7efca6c01700 of size 512 next 32\n",
      "2023-08-03 19:57:08.521785: I tensorflow/tsl/framework/bfc_allocator.cc:1095] InUse at 7efca6c01900 of size 256 next 31\n",
      "2023-08-03 19:57:08.521797: I tensorflow/tsl/framework/bfc_allocator.cc:1095] InUse at 7efca6c01a00 of size 256 next 33\n",
      "2023-08-03 19:57:08.521808: I tensorflow/tsl/framework/bfc_allocator.cc:1095] InUse at 7efca6c01b00 of size 256 next 35\n",
      "2023-08-03 19:57:08.521819: I tensorflow/tsl/framework/bfc_allocator.cc:1095] InUse at 7efca6c01c00 of size 256 next 36\n",
      "2023-08-03 19:57:08.521830: I tensorflow/tsl/framework/bfc_allocator.cc:1095] InUse at 7efca6c01d00 of size 256 next 40\n",
      "2023-08-03 19:57:08.521844: I tensorflow/tsl/framework/bfc_allocator.cc:1095] InUse at 7efca6c01e00 of size 256 next 41\n",
      "2023-08-03 19:57:08.521856: I tensorflow/tsl/framework/bfc_allocator.cc:1095] InUse at 7efca6c01f00 of size 256 next 42\n",
      "2023-08-03 19:57:08.521868: I tensorflow/tsl/framework/bfc_allocator.cc:1095] InUse at 7efca6c02000 of size 256 next 44\n",
      "2023-08-03 19:57:08.521879: I tensorflow/tsl/framework/bfc_allocator.cc:1095] InUse at 7efca6c02100 of size 256 next 45\n",
      "2023-08-03 19:57:08.521891: I tensorflow/tsl/framework/bfc_allocator.cc:1095] InUse at 7efca6c02200 of size 256 next 47\n",
      "2023-08-03 19:57:08.521902: I tensorflow/tsl/framework/bfc_allocator.cc:1095] InUse at 7efca6c02300 of size 256 next 48\n",
      "2023-08-03 19:57:08.521913: I tensorflow/tsl/framework/bfc_allocator.cc:1095] InUse at 7efca6c02400 of size 512 next 50\n",
      "2023-08-03 19:57:08.521925: I tensorflow/tsl/framework/bfc_allocator.cc:1095] InUse at 7efca6c02600 of size 512 next 51\n",
      "2023-08-03 19:57:08.521936: I tensorflow/tsl/framework/bfc_allocator.cc:1095] InUse at 7efca6c02800 of size 512 next 53\n",
      "2023-08-03 19:57:08.521947: I tensorflow/tsl/framework/bfc_allocator.cc:1095] InUse at 7efca6c02a00 of size 512 next 54\n",
      "2023-08-03 19:57:08.521959: I tensorflow/tsl/framework/bfc_allocator.cc:1095] InUse at 7efca6c02c00 of size 256 next 57\n",
      "2023-08-03 19:57:08.521970: I tensorflow/tsl/framework/bfc_allocator.cc:1095] InUse at 7efca6c02d00 of size 256 next 58\n",
      "2023-08-03 19:57:08.521982: I tensorflow/tsl/framework/bfc_allocator.cc:1095] InUse at 7efca6c02e00 of size 512 next 61\n",
      "2023-08-03 19:57:08.521994: I tensorflow/tsl/framework/bfc_allocator.cc:1095] InUse at 7efca6c03000 of size 512 next 62\n",
      "2023-08-03 19:57:08.522005: I tensorflow/tsl/framework/bfc_allocator.cc:1095] InUse at 7efca6c03200 of size 256 next 63\n",
      "2023-08-03 19:57:08.522016: I tensorflow/tsl/framework/bfc_allocator.cc:1095] InUse at 7efca6c03300 of size 256 next 64\n",
      "2023-08-03 19:57:08.522027: I tensorflow/tsl/framework/bfc_allocator.cc:1095] InUse at 7efca6c03400 of size 256 next 65\n",
      "2023-08-03 19:57:08.522038: I tensorflow/tsl/framework/bfc_allocator.cc:1095] InUse at 7efca6c03500 of size 256 next 66\n",
      "2023-08-03 19:57:08.522050: I tensorflow/tsl/framework/bfc_allocator.cc:1095] InUse at 7efca6c03600 of size 256 next 67\n",
      "2023-08-03 19:57:08.522061: I tensorflow/tsl/framework/bfc_allocator.cc:1095] InUse at 7efca6c03700 of size 256 next 68\n",
      "2023-08-03 19:57:08.522073: I tensorflow/tsl/framework/bfc_allocator.cc:1095] InUse at 7efca6c03800 of size 256 next 69\n",
      "2023-08-03 19:57:08.522084: I tensorflow/tsl/framework/bfc_allocator.cc:1095] InUse at 7efca6c03900 of size 256 next 70\n",
      "2023-08-03 19:57:08.522096: I tensorflow/tsl/framework/bfc_allocator.cc:1095] InUse at 7efca6c03a00 of size 256 next 71\n",
      "2023-08-03 19:57:08.522107: I tensorflow/tsl/framework/bfc_allocator.cc:1095] InUse at 7efca6c03b00 of size 256 next 100\n",
      "2023-08-03 19:57:08.522118: I tensorflow/tsl/framework/bfc_allocator.cc:1095] InUse at 7efca6c03c00 of size 256 next 77\n",
      "2023-08-03 19:57:08.522130: I tensorflow/tsl/framework/bfc_allocator.cc:1095] InUse at 7efca6c03d00 of size 256 next 75\n",
      "2023-08-03 19:57:08.522141: I tensorflow/tsl/framework/bfc_allocator.cc:1095] InUse at 7efca6c03e00 of size 256 next 72\n",
      "2023-08-03 19:57:08.522152: I tensorflow/tsl/framework/bfc_allocator.cc:1095] InUse at 7efca6c03f00 of size 256 next 106\n",
      "2023-08-03 19:57:08.522164: I tensorflow/tsl/framework/bfc_allocator.cc:1095] InUse at 7efca6c04000 of size 256 next 80\n",
      "2023-08-03 19:57:08.522176: I tensorflow/tsl/framework/bfc_allocator.cc:1095] InUse at 7efca6c04100 of size 256 next 108\n",
      "2023-08-03 19:57:08.522187: I tensorflow/tsl/framework/bfc_allocator.cc:1095] InUse at 7efca6c04200 of size 256 next 87\n",
      "2023-08-03 19:57:08.522198: I tensorflow/tsl/framework/bfc_allocator.cc:1095] InUse at 7efca6c04300 of size 256 next 93\n",
      "2023-08-03 19:57:08.522210: I tensorflow/tsl/framework/bfc_allocator.cc:1095] InUse at 7efca6c04400 of size 512 next 90\n",
      "2023-08-03 19:57:08.522221: I tensorflow/tsl/framework/bfc_allocator.cc:1095] InUse at 7efca6c04600 of size 256 next 96\n",
      "2023-08-03 19:57:08.522235: I tensorflow/tsl/framework/bfc_allocator.cc:1095] InUse at 7efca6c04700 of size 256 next 86\n",
      "2023-08-03 19:57:08.522246: I tensorflow/tsl/framework/bfc_allocator.cc:1095] InUse at 7efca6c04800 of size 512 next 99\n",
      "2023-08-03 19:57:08.522258: I tensorflow/tsl/framework/bfc_allocator.cc:1095] InUse at 7efca6c04a00 of size 256 next 92\n",
      "2023-08-03 19:57:08.522269: I tensorflow/tsl/framework/bfc_allocator.cc:1095] InUse at 7efca6c04b00 of size 512 next 110\n",
      "2023-08-03 19:57:08.522281: I tensorflow/tsl/framework/bfc_allocator.cc:1095] InUse at 7efca6c04d00 of size 256 next 97\n",
      "2023-08-03 19:57:08.522292: I tensorflow/tsl/framework/bfc_allocator.cc:1095] InUse at 7efca6c04e00 of size 256 next 103\n",
      "2023-08-03 19:57:08.522304: I tensorflow/tsl/framework/bfc_allocator.cc:1095] Free  at 7efca6c04f00 of size 7424 next 34\n",
      "2023-08-03 19:57:08.522316: I tensorflow/tsl/framework/bfc_allocator.cc:1095] InUse at 7efca6c06c00 of size 25344 next 14\n",
      "2023-08-03 19:57:08.522329: I tensorflow/tsl/framework/bfc_allocator.cc:1095] InUse at 7efca6c0cf00 of size 24576 next 15\n",
      "2023-08-03 19:57:08.522341: I tensorflow/tsl/framework/bfc_allocator.cc:1095] InUse at 7efca6c12f00 of size 256 next 27\n",
      "2023-08-03 19:57:08.522352: I tensorflow/tsl/framework/bfc_allocator.cc:1095] InUse at 7efca6c13000 of size 256 next 26\n",
      "2023-08-03 19:57:08.522363: I tensorflow/tsl/framework/bfc_allocator.cc:1095] InUse at 7efca6c13100 of size 256 next 28\n",
      "2023-08-03 19:57:08.522375: I tensorflow/tsl/framework/bfc_allocator.cc:1095] InUse at 7efca6c13200 of size 32256 next 29\n",
      "2023-08-03 19:57:08.522388: I tensorflow/tsl/framework/bfc_allocator.cc:1095] InUse at 7efca6c1b000 of size 32768 next 30\n",
      "2023-08-03 19:57:08.522399: I tensorflow/tsl/framework/bfc_allocator.cc:1095] InUse at 7efca6c23000 of size 24576 next 46\n",
      "2023-08-03 19:57:08.522411: I tensorflow/tsl/framework/bfc_allocator.cc:1095] InUse at 7efca6c29000 of size 106240 next 19\n",
      "2023-08-03 19:57:08.522424: I tensorflow/tsl/framework/bfc_allocator.cc:1095] InUse at 7efca6c42f00 of size 98304 next 18\n",
      "2023-08-03 19:57:08.522436: I tensorflow/tsl/framework/bfc_allocator.cc:1095] InUse at 7efca6c5af00 of size 264192 next 39\n",
      "2023-08-03 19:57:08.522449: I tensorflow/tsl/framework/bfc_allocator.cc:1095] InUse at 7efca6c9b700 of size 642560 next 9\n",
      "2023-08-03 19:57:08.522461: I tensorflow/tsl/framework/bfc_allocator.cc:1095] InUse at 7efca6d38500 of size 817920 next 18446744073709551615\n",
      "2023-08-03 19:57:08.522474: I tensorflow/tsl/framework/bfc_allocator.cc:1075] Next region of size 4194304\n",
      "2023-08-03 19:57:08.522487: I tensorflow/tsl/framework/bfc_allocator.cc:1095] InUse at 7efca7200000 of size 638208 n"
     ]
    },
    {
     "ename": "InternalError",
     "evalue": "Failed copying input tensor from /job:localhost/replica:0/task:0/device:CPU:0 to /job:localhost/replica:0/task:0/device:GPU:0 in order to run _EagerConst: Dst tensor is not initialized.",
     "output_type": "error",
     "traceback": [
      "\u001b[0;31m---------------------------------------------------------------------------\u001b[0m",
      "\u001b[0;31mInternalError\u001b[0m                             Traceback (most recent call last)",
      "Cell \u001b[0;32mIn[14], line 42\u001b[0m\n\u001b[1;32m     39\u001b[0m model\u001b[38;5;241m.\u001b[39msummary()\n\u001b[1;32m     41\u001b[0m \u001b[38;5;66;03m# Train the model\u001b[39;00m\n\u001b[0;32m---> 42\u001b[0m \u001b[43mmodel\u001b[49m\u001b[38;5;241;43m.\u001b[39;49m\u001b[43mfit\u001b[49m\u001b[43m(\u001b[49m\u001b[43mX_train\u001b[49m\u001b[43m,\u001b[49m\u001b[43m \u001b[49m\u001b[43mY_train\u001b[49m\u001b[43m,\u001b[49m\u001b[43m \u001b[49m\u001b[43mepochs\u001b[49m\u001b[38;5;241;43m=\u001b[39;49m\u001b[38;5;241;43m80\u001b[39;49m\u001b[43m,\u001b[49m\u001b[43m \u001b[49m\u001b[43mbatch_size\u001b[49m\u001b[38;5;241;43m=\u001b[39;49m\u001b[38;5;241;43m64\u001b[39;49m\u001b[43m,\u001b[49m\u001b[43mvalidation_split\u001b[49m\u001b[38;5;241;43m=\u001b[39;49m\u001b[38;5;241;43m.3\u001b[39;49m\u001b[43m)\u001b[49m\n",
      "File \u001b[0;32m~/miniconda3/lib/python3.10/site-packages/keras/src/utils/traceback_utils.py:70\u001b[0m, in \u001b[0;36mfilter_traceback.<locals>.error_handler\u001b[0;34m(*args, **kwargs)\u001b[0m\n\u001b[1;32m     67\u001b[0m     filtered_tb \u001b[38;5;241m=\u001b[39m _process_traceback_frames(e\u001b[38;5;241m.\u001b[39m__traceback__)\n\u001b[1;32m     68\u001b[0m     \u001b[38;5;66;03m# To get the full stack trace, call:\u001b[39;00m\n\u001b[1;32m     69\u001b[0m     \u001b[38;5;66;03m# `tf.debugging.disable_traceback_filtering()`\u001b[39;00m\n\u001b[0;32m---> 70\u001b[0m     \u001b[38;5;28;01mraise\u001b[39;00m e\u001b[38;5;241m.\u001b[39mwith_traceback(filtered_tb) \u001b[38;5;28;01mfrom\u001b[39;00m \u001b[38;5;28;01mNone\u001b[39;00m\n\u001b[1;32m     71\u001b[0m \u001b[38;5;28;01mfinally\u001b[39;00m:\n\u001b[1;32m     72\u001b[0m     \u001b[38;5;28;01mdel\u001b[39;00m filtered_tb\n",
      "File \u001b[0;32m~/miniconda3/lib/python3.10/site-packages/tensorflow/python/framework/constant_op.py:98\u001b[0m, in \u001b[0;36mconvert_to_eager_tensor\u001b[0;34m(value, ctx, dtype)\u001b[0m\n\u001b[1;32m     96\u001b[0m     dtype \u001b[38;5;241m=\u001b[39m dtypes\u001b[38;5;241m.\u001b[39mas_dtype(dtype)\u001b[38;5;241m.\u001b[39mas_datatype_enum\n\u001b[1;32m     97\u001b[0m ctx\u001b[38;5;241m.\u001b[39mensure_initialized()\n\u001b[0;32m---> 98\u001b[0m \u001b[38;5;28;01mreturn\u001b[39;00m \u001b[43mops\u001b[49m\u001b[38;5;241;43m.\u001b[39;49m\u001b[43mEagerTensor\u001b[49m\u001b[43m(\u001b[49m\u001b[43mvalue\u001b[49m\u001b[43m,\u001b[49m\u001b[43m \u001b[49m\u001b[43mctx\u001b[49m\u001b[38;5;241;43m.\u001b[39;49m\u001b[43mdevice_name\u001b[49m\u001b[43m,\u001b[49m\u001b[43m \u001b[49m\u001b[43mdtype\u001b[49m\u001b[43m)\u001b[49m\n",
      "\u001b[0;31mInternalError\u001b[0m: Failed copying input tensor from /job:localhost/replica:0/task:0/device:CPU:0 to /job:localhost/replica:0/task:0/device:GPU:0 in order to run _EagerConst: Dst tensor is not initialized."
     ]
    },
    {
     "name": "stderr",
     "output_type": "stream",
     "text": [
      "ext 43\n",
      "2023-08-03 19:57:08.522500: I tensorflow/tsl/framework/bfc_allocator.cc:1095] InUse at 7efca729bd00 of size 98304 next 49\n",
      "2023-08-03 19:57:08.522512: I tensorflow/tsl/framework/bfc_allocator.cc:1095] InUse at 7efca72b3d00 of size 1572864 next 52\n",
      "2023-08-03 19:57:08.522524: I tensorflow/tsl/framework/bfc_allocator.cc:1095] InUse at 7efca7433d00 of size 1884928 next 18446744073709551615\n",
      "2023-08-03 19:57:08.522537: I tensorflow/tsl/framework/bfc_allocator.cc:1075] Next region of size 8388608\n",
      "2023-08-03 19:57:08.522549: I tensorflow/tsl/framework/bfc_allocator.cc:1095] InUse at 7efca7600000 of size 1572864 next 25\n",
      "2023-08-03 19:57:08.522561: I tensorflow/tsl/framework/bfc_allocator.cc:1095] InUse at 7efca7780000 of size 32768 next 55\n",
      "2023-08-03 19:57:08.522572: I tensorflow/tsl/framework/bfc_allocator.cc:1095] InUse at 7efca7788000 of size 32768 next 56\n",
      "2023-08-03 19:57:08.522584: I tensorflow/tsl/framework/bfc_allocator.cc:1095] InUse at 7efca7790000 of size 21504 next 59\n",
      "2023-08-03 19:57:08.522596: I tensorflow/tsl/framework/bfc_allocator.cc:1095] InUse at 7efca7795400 of size 21504 next 60\n",
      "2023-08-03 19:57:08.522608: I tensorflow/tsl/framework/bfc_allocator.cc:1095] InUse at 7efca779a800 of size 256 next 79\n",
      "2023-08-03 19:57:08.522620: I tensorflow/tsl/framework/bfc_allocator.cc:1095] InUse at 7efca779a900 of size 113664 next 82\n",
      "2023-08-03 19:57:08.522634: I tensorflow/tsl/framework/bfc_allocator.cc:1095] Free  at 7efca77b6500 of size 43008 next 109\n",
      "2023-08-03 19:57:08.522646: I tensorflow/tsl/framework/bfc_allocator.cc:1095] InUse at 7efca77c0d00 of size 22528 next 84\n",
      "2023-08-03 19:57:08.522658: I tensorflow/tsl/framework/bfc_allocator.cc:1095] InUse at 7efca77c6500 of size 32768 next 88\n",
      "2023-08-03 19:57:08.522670: I tensorflow/tsl/framework/bfc_allocator.cc:1095] InUse at 7efca77ce500 of size 49152 next 105\n",
      "2023-08-03 19:57:08.522682: I tensorflow/tsl/framework/bfc_allocator.cc:1095] Free  at 7efca77da500 of size 1128960 next 81\n",
      "2023-08-03 19:57:08.522695: I tensorflow/tsl/framework/bfc_allocator.cc:1095] InUse at 7efca78edf00 of size 638208 next 104\n",
      "2023-08-03 19:57:08.522707: I tensorflow/tsl/framework/bfc_allocator.cc:1095] Free  at 7efca7989c00 of size 4678656 next 18446744073709551615\n",
      "2023-08-03 19:57:08.522719: I tensorflow/tsl/framework/bfc_allocator.cc:1100]      Summary of in-use Chunks by size: \n",
      "2023-08-03 19:57:08.522738: I tensorflow/tsl/framework/bfc_allocator.cc:1103] 54 Chunks of size 256 totalling 13.5KiB\n",
      "2023-08-03 19:57:08.522752: I tensorflow/tsl/framework/bfc_allocator.cc:1103] 12 Chunks of size 512 totalling 6.0KiB\n",
      "2023-08-03 19:57:08.522767: I tensorflow/tsl/framework/bfc_allocator.cc:1103] 1 Chunks of size 1280 totalling 1.2KiB\n",
      "2023-08-03 19:57:08.522781: I tensorflow/tsl/framework/bfc_allocator.cc:1103] 2 Chunks of size 21504 totalling 42.0KiB\n",
      "2023-08-03 19:57:08.522796: I tensorflow/tsl/framework/bfc_allocator.cc:1103] 1 Chunks of size 22528 totalling 22.0KiB\n",
      "2023-08-03 19:57:08.522810: I tensorflow/tsl/framework/bfc_allocator.cc:1103] 2 Chunks of size 24576 totalling 48.0KiB\n",
      "2023-08-03 19:57:08.522825: I tensorflow/tsl/framework/bfc_allocator.cc:1103] 1 Chunks of size 25344 totalling 24.8KiB\n",
      "2023-08-03 19:57:08.522839: I tensorflow/tsl/framework/bfc_allocator.cc:1103] 1 Chunks of size 32256 totalling 31.5KiB\n",
      "2023-08-03 19:57:08.522854: I tensorflow/tsl/framework/bfc_allocator.cc:1103] 4 Chunks of size 32768 totalling 128.0KiB\n",
      "2023-08-03 19:57:08.522869: I tensorflow/tsl/framework/bfc_allocator.cc:1103] 1 Chunks of size 49152 totalling 48.0KiB\n",
      "2023-08-03 19:57:08.522883: I tensorflow/tsl/framework/bfc_allocator.cc:1103] 2 Chunks of size 98304 totalling 192.0KiB\n",
      "2023-08-03 19:57:08.522898: I tensorflow/tsl/framework/bfc_allocator.cc:1103] 1 Chunks of size 106240 totalling 103.8KiB\n",
      "2023-08-03 19:57:08.522913: I tensorflow/tsl/framework/bfc_allocator.cc:1103] 1 Chunks of size 113664 totalling 111.0KiB\n",
      "2023-08-03 19:57:08.522928: I tensorflow/tsl/framework/bfc_allocator.cc:1103] 1 Chunks of size 264192 totalling 258.0KiB\n",
      "2023-08-03 19:57:08.522942: I tensorflow/tsl/framework/bfc_allocator.cc:1103] 2 Chunks of size 638208 totalling 1.22MiB\n",
      "2023-08-03 19:57:08.522956: I tensorflow/tsl/framework/bfc_allocator.cc:1103] 1 Chunks of size 642560 totalling 627.5KiB\n",
      "2023-08-03 19:57:08.522971: I tensorflow/tsl/framework/bfc_allocator.cc:1103] 1 Chunks of size 817920 totalling 798.8KiB\n",
      "2023-08-03 19:57:08.522986: I tensorflow/tsl/framework/bfc_allocator.cc:1103] 2 Chunks of size 1572864 totalling 3.00MiB\n",
      "2023-08-03 19:57:08.523000: I tensorflow/tsl/framework/bfc_allocator.cc:1103] 1 Chunks of size 1884928 totalling 1.80MiB\n",
      "2023-08-03 19:57:08.523013: I tensorflow/tsl/framework/bfc_allocator.cc:1103] 1 Chunks of size 3342336 totalling 3.19MiB\n",
      "2023-08-03 19:57:08.523028: I tensorflow/tsl/framework/bfc_allocator.cc:1103] 1 Chunks of size 476369152 totalling 454.30MiB\n",
      "2023-08-03 19:57:08.523042: I tensorflow/tsl/framework/bfc_allocator.cc:1103] 1 Chunks of size 1107769600 totalling 1.03GiB\n",
      "2023-08-03 19:57:08.523056: I tensorflow/tsl/framework/bfc_allocator.cc:1107] Sum Total of in-use chunks: 1.49GiB\n",
      "2023-08-03 19:57:08.523071: I tensorflow/tsl/framework/bfc_allocator.cc:1109] Total bytes in pool: 1824129024 memory_limit_: 1824129024 available bytes: 0 curr_region_allocation_bytes_: 2147483648\n",
      "2023-08-03 19:57:08.523094: I tensorflow/tsl/framework/bfc_allocator.cc:1114] Stats: \n",
      "Limit:                      1824129024\n",
      "InUse:                      1596303104\n",
      "MaxInUse:                   1818432256\n",
      "NumAllocs:                      150845\n",
      "MaxAllocSize:               1107769600\n",
      "Reserved:                            0\n",
      "PeakReserved:                        0\n",
      "LargestFreeBlock:                    0\n",
      "\n",
      "2023-08-03 19:57:08.523133: W tensorflow/tsl/framework/bfc_allocator.cc:497] ****************************************************************************************___________*\n"
     ]
    }
   ],
   "source": [
    "import numpy as np\n",
    "import tensorflow as tf\n",
    "from tensorflow.keras.models import Sequential\n",
    "from tensorflow.keras import regularizers\n",
    "from tensorflow.keras.layers import Conv1D, MaxPooling1D, Flatten, Dense, Dropout, SpatialDropout1D\n",
    "\n",
    "# Assuming you have your padded keypoints data (keypoints_np) and labels (labels)\n",
    "# keypoints_np.shape = (num_samples, max_len, num_keypoints)\n",
    "# labels.shape = (num_samples, num_classes)\n",
    "\n",
    "# Define the CNN model\n",
    "model = Sequential(name='sequential')\n",
    "\n",
    "# Add convolutional layers\n",
    "model.add(Conv1D(filters=32, kernel_size=3, activation='relu', input_shape=(212, 1662),\n",
    "                 kernel_regularizer=regularizers.l2(l=0.01)))\n",
    "model.add(MaxPooling1D(pool_size=2))\n",
    "#model.add(Conv1D(filters=64, kernel_size=3, activation='relu', kernel_regularizer=regularizers.l2(l=0.01)))\n",
    "#model.add(MaxPooling1D(pool_size=2))\n",
    "model.add(Conv1D(filters=128, kernel_size=3, activation='relu', kernel_regularizer=regularizers.l2(l=0.01)))\n",
    "model.add(MaxPooling1D(pool_size=2))\n",
    "\n",
    "# droput layer, remove if no work\n",
    "model.add(SpatialDropout1D(0.5))\n",
    "\n",
    "# Flatten the output for the fully connected layers\n",
    "model.add(Flatten())\n",
    "\n",
    "# Add fully connected layers\n",
    "model.add(Dense(128, activation='relu'))\n",
    "#model.add(Dense(64, activation='relu'))\n",
    "model.add(Dense(84, activation='softmax'))  # Output layer\n",
    "\n",
    "optimizer = Adam(learning_rate=.0005)\n",
    "# Compile the model\n",
    "model.compile(loss='categorical_crossentropy', optimizer=optimizer, metrics=['accuracy'])\n",
    "\n",
    "# Print model summary\n",
    "model.summary()\n",
    "\n",
    "# Train the model\n",
    "model.fit(X_train, Y_train, epochs=80, batch_size=64,validation_split=.3)\n"
   ]
  },
  {
   "cell_type": "code",
   "execution_count": 53,
   "id": "785ed7bf",
   "metadata": {
    "ExecuteTime": {
     "end_time": "2023-08-03T17:51:57.170732Z",
     "start_time": "2023-08-03T17:51:57.090892Z"
    }
   },
   "outputs": [
    {
     "name": "stdout",
     "output_type": "stream",
     "text": [
      "1/1 [==============================] - 0s 25ms/step\n"
     ]
    },
    {
     "data": {
      "text/plain": [
       "18"
      ]
     },
     "execution_count": 53,
     "metadata": {},
     "output_type": "execute_result"
    }
   ],
   "source": [
    "np.argmax(model.predict(X_test[[1]]))"
   ]
  },
  {
   "cell_type": "code",
   "execution_count": 52,
   "id": "dcb61aaa",
   "metadata": {
    "ExecuteTime": {
     "end_time": "2023-08-03T17:51:53.468501Z",
     "start_time": "2023-08-03T17:51:53.462574Z"
    }
   },
   "outputs": [
    {
     "data": {
      "text/plain": [
       "41"
      ]
     },
     "execution_count": 52,
     "metadata": {},
     "output_type": "execute_result"
    }
   ],
   "source": [
    "np.argmax(Y_test[1])"
   ]
  },
  {
   "cell_type": "code",
   "execution_count": 38,
   "id": "98b10ca8",
   "metadata": {
    "ExecuteTime": {
     "end_time": "2023-08-03T17:42:01.630162Z",
     "start_time": "2023-08-03T17:42:01.548785Z"
    }
   },
   "outputs": [
    {
     "name": "stdout",
     "output_type": "stream",
     "text": [
      "1/1 [==============================] - 0s 20ms/step\n"
     ]
    },
    {
     "data": {
      "text/plain": [
       "array([[1.0129494e-06, 7.4129015e-17, 4.8822547e-11, 1.1211572e-13,\n",
       "        5.1141450e-07, 1.4339512e-10, 6.1791358e-14, 5.4054793e-20,\n",
       "        5.5316541e-15, 4.7033727e-12, 4.9788362e-10, 5.2938990e-11,\n",
       "        2.1888662e-08, 8.2826823e-13, 3.0033429e-10, 2.5744862e-07,\n",
       "        3.9990834e-07, 2.3802282e-19, 1.1033153e-15, 2.3090003e-07,\n",
       "        6.4198423e-15, 5.0172403e-08, 8.0218030e-17, 8.2776613e-35,\n",
       "        2.8937308e-20, 1.9814779e-19, 2.5020405e-14, 4.0026234e-17,\n",
       "        2.3025483e-11, 1.3046385e-15, 1.1999841e-10, 2.4870423e-15,\n",
       "        1.5261118e-06, 1.1967564e-05, 1.1540307e-22, 7.1786820e-07,\n",
       "        2.3164215e-13, 3.3356621e-08, 7.5515008e-09, 2.1571792e-24,\n",
       "        1.1177559e-24, 9.9436084e-11, 8.9361262e-28, 1.3001557e-17,\n",
       "        2.2173275e-07, 1.4378391e-19, 4.7059345e-14, 5.1826217e-11,\n",
       "        1.4783451e-07, 5.9562458e-19, 1.3092859e-10, 2.0330034e-15,\n",
       "        6.0108329e-15, 9.5366354e-17, 5.7902678e-24, 6.8326376e-22,\n",
       "        4.4553554e-13, 1.6354499e-19, 5.5277251e-17, 1.4734579e-13,\n",
       "        2.9456159e-15, 3.1206100e-03, 2.5144112e-11, 2.9704543e-06,\n",
       "        1.1455883e-09, 1.7677588e-16, 1.0396036e-10, 9.9684215e-01,\n",
       "        6.6087598e-09, 1.3574731e-16, 9.5096066e-06, 2.6817621e-12,\n",
       "        1.1787855e-09, 8.1021811e-09, 7.4082958e-09, 1.4038027e-12,\n",
       "        3.1790176e-18, 1.4173429e-17, 1.2766213e-14, 6.6068941e-07,\n",
       "        2.4654372e-09, 2.2047146e-10, 6.9154244e-06, 2.1251486e-21]],\n",
       "      dtype=float32)"
      ]
     },
     "execution_count": 38,
     "metadata": {},
     "output_type": "execute_result"
    }
   ],
   "source": [
    "model.predict(X_test[[50]])"
   ]
  },
  {
   "cell_type": "code",
   "execution_count": null,
   "id": "ff269469",
   "metadata": {},
   "outputs": [],
   "source": []
  }
 ],
 "metadata": {
  "kernelspec": {
   "display_name": "Python 3 (ipykernel)",
   "language": "python",
   "name": "python3"
  },
  "language_info": {
   "codemirror_mode": {
    "name": "ipython",
    "version": 3
   },
   "file_extension": ".py",
   "mimetype": "text/x-python",
   "name": "python",
   "nbconvert_exporter": "python",
   "pygments_lexer": "ipython3",
   "version": "3.10.12"
  },
  "notify_time": "10",
  "toc": {
   "base_numbering": 1,
   "nav_menu": {},
   "number_sections": true,
   "sideBar": true,
   "skip_h1_title": true,
   "title_cell": "Table of Contents",
   "title_sidebar": "Contents",
   "toc_cell": true,
   "toc_position": {},
   "toc_section_display": true,
   "toc_window_display": false
  },
  "varInspector": {
   "cols": {
    "lenName": 16,
    "lenType": 16,
    "lenVar": 40
   },
   "kernels_config": {
    "python": {
     "delete_cmd_postfix": "",
     "delete_cmd_prefix": "del ",
     "library": "var_list.py",
     "varRefreshCmd": "print(var_dic_list())"
    },
    "r": {
     "delete_cmd_postfix": ") ",
     "delete_cmd_prefix": "rm(",
     "library": "var_list.r",
     "varRefreshCmd": "cat(var_dic_list()) "
    }
   },
   "types_to_exclude": [
    "module",
    "function",
    "builtin_function_or_method",
    "instance",
    "_Feature"
   ],
   "window_display": false
  }
 },
 "nbformat": 4,
 "nbformat_minor": 5
}
