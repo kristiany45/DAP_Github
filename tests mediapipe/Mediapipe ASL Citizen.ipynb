{
 "cells": [
  {
   "cell_type": "markdown",
   "id": "957d823f",
   "metadata": {
    "toc": true
   },
   "source": [
    "<h1>Table of Contents<span class=\"tocSkip\"></span></h1>\n",
    "<div class=\"toc\"><ul class=\"toc-item\"></ul></div>"
   ]
  },
  {
   "cell_type": "code",
   "execution_count": 8,
   "id": "ab7927e9",
   "metadata": {
    "ExecuteTime": {
     "end_time": "2023-08-08T18:34:03.039995Z",
     "start_time": "2023-08-08T18:34:03.037568Z"
    }
   },
   "outputs": [],
   "source": [
    "import mediapipe as mp\n",
    "import numpy as np\n",
    "import cv2\n",
    "import pandas as pd\n",
    "from tqdm import tqdm\n",
    "import gc\n",
    "from operator import add"
   ]
  },
  {
   "cell_type": "code",
   "execution_count": 9,
   "id": "fefa485b",
   "metadata": {
    "ExecuteTime": {
     "end_time": "2023-08-08T18:34:05.665488Z",
     "start_time": "2023-08-08T18:34:05.663012Z"
    }
   },
   "outputs": [],
   "source": [
    "mp_drawing = mp.solutions.drawing_utils\n",
    "mp_holistic = mp.solutions.holistic"
   ]
  },
  {
   "cell_type": "code",
   "execution_count": 10,
   "id": "05d07926",
   "metadata": {
    "ExecuteTime": {
     "end_time": "2023-08-08T18:34:18.130902Z",
     "start_time": "2023-08-08T18:34:09.219042Z"
    }
   },
   "outputs": [
    {
     "name": "stderr",
     "output_type": "stream",
     "text": [
      "INFO: Created TensorFlow Lite XNNPACK delegate for CPU.\n"
     ]
    }
   ],
   "source": [
    "cap = cv2.VideoCapture(\"file://media/kristian/HDD/ASL_Citizen/ASL_Citizen/videos/0023159093449660606-CAFETERIA.mp4\")\n",
    "#cap = cv2.VideoCapture(0)\n",
    "\n",
    "with mp_holistic.Holistic(static_image_mode=False,\n",
    "                          model_complexity=2) as holistic:\n",
    "    while True:\n",
    "        ret, frame = cap.read()\n",
    "        if ret == False:\n",
    "            break\n",
    "        frame_rgb = cv2.cvtColor(frame, cv2.COLOR_BGR2RGB)\n",
    "        results = holistic.process(frame_rgb)\n",
    "        # face\n",
    "        mp_drawing.draw_landmarks(\n",
    "            frame, results.face_landmarks, mp_holistic.FACEMESH_TESSELATION,\n",
    "            mp_drawing.DrawingSpec(color=(0, 255, 255),\n",
    "                                   thickness=1,\n",
    "                                   circle_radius=1),\n",
    "            mp_drawing.DrawingSpec(color=(0, 128, 255), thickness=2))\n",
    "\n",
    "        # Left hand\n",
    "        mp_drawing.draw_landmarks(\n",
    "            frame, results.left_hand_landmarks, mp_holistic.HAND_CONNECTIONS,\n",
    "            mp_drawing.DrawingSpec(color=(0, 0, 0),\n",
    "                                   thickness=2,\n",
    "                                   circle_radius=1),\n",
    "            mp_drawing.DrawingSpec(color=(0, 92, 230), thickness=2))\n",
    "\n",
    "        # Right Hand\n",
    "        mp_drawing.draw_landmarks(\n",
    "            frame, results.right_hand_landmarks, mp_holistic.HAND_CONNECTIONS,\n",
    "            mp_drawing.DrawingSpec(color=(0, 0, 0),\n",
    "                                   thickness=2,\n",
    "                                   circle_radius=1),\n",
    "            mp_drawing.DrawingSpec(color=(0, 92, 230), thickness=2))\n",
    "\n",
    "        # Posture\n",
    "        mp_drawing.draw_landmarks(\n",
    "            frame, results.pose_landmarks, mp_holistic.POSE_CONNECTIONS,\n",
    "            mp_drawing.DrawingSpec(color=(0, 0, 0),\n",
    "                                   thickness=2,\n",
    "                                   circle_radius=1),\n",
    "            mp_drawing.DrawingSpec(color=(0, 92, 230), thickness=2))\n",
    "        frame = cv2.flip(frame, 1)\n",
    "        cv2.imshow(\"Frame\", frame)\n",
    "        if cv2.waitKey(1) & 0xFF == 27:\n",
    "            break\n",
    "cap.release()\n",
    "cv2.destroyAllWindows()"
   ]
  },
  {
   "cell_type": "code",
   "execution_count": 11,
   "id": "3884fb03",
   "metadata": {
    "ExecuteTime": {
     "end_time": "2023-08-08T18:34:25.062687Z",
     "start_time": "2023-08-08T18:34:25.057328Z"
    }
   },
   "outputs": [
    {
     "data": {
      "text/plain": [
       "mediapipe.python.solution_base.SolutionOutputs"
      ]
     },
     "execution_count": 11,
     "metadata": {},
     "output_type": "execute_result"
    }
   ],
   "source": [
    "results"
   ]
  },
  {
   "cell_type": "code",
   "execution_count": 12,
   "id": "439656a0",
   "metadata": {
    "ExecuteTime": {
     "end_time": "2023-08-08T18:34:28.908466Z",
     "start_time": "2023-08-08T18:34:28.904895Z"
    }
   },
   "outputs": [
    {
     "data": {
      "text/plain": [
       "33"
      ]
     },
     "execution_count": 12,
     "metadata": {},
     "output_type": "execute_result"
    }
   ],
   "source": [
    "len(results.pose_landmarks.landmark)"
   ]
  },
  {
   "cell_type": "code",
   "execution_count": 13,
   "id": "f5879199",
   "metadata": {
    "ExecuteTime": {
     "end_time": "2023-08-08T18:34:33.434570Z",
     "start_time": "2023-08-08T18:34:33.431787Z"
    }
   },
   "outputs": [],
   "source": [
    "pose = []\n",
    "for res in results.pose_landmarks.landmark:\n",
    "    test = np.array([res.x, res.y, res.z, res.visibility])\n",
    "    pose.append(test)"
   ]
  },
  {
   "cell_type": "code",
   "execution_count": 14,
   "id": "85938609",
   "metadata": {
    "ExecuteTime": {
     "end_time": "2023-08-08T18:34:34.271293Z",
     "start_time": "2023-08-08T18:34:34.266171Z"
    }
   },
   "outputs": [],
   "source": [
    "pose = np.array([[res.x, res.y, res.z, res.visibility] for res in results.pose_landmarks.landmark]).flatten() if results.pose_landmarks else np.zeros(132)\n",
    "face = np.array([[res.x, res.y, res.z] for res in results.face_landmarks.landmark]).flatten() if results.face_landmarks else np.zeros(1404)\n",
    "lh = np.array([[res.x, res.y, res.z] for res in results.left_hand_landmarks.landmark]).flatten() if results.left_hand_landmarks else np.zeros(21*3)\n",
    "rh = np.array([[res.x, res.y, res.z] for res in results.right_hand_landmarks.landmark]).flatten() if results.right_hand_landmarks else np.zeros(21*3)"
   ]
  },
  {
   "cell_type": "code",
   "execution_count": 15,
   "id": "d61e74ee",
   "metadata": {
    "ExecuteTime": {
     "end_time": "2023-08-08T18:34:38.669496Z",
     "start_time": "2023-08-08T18:34:38.664753Z"
    }
   },
   "outputs": [],
   "source": [
    "def extract_keypoints(results):\n",
    "    pose = np.array([[res.x, res.y, res.z, res.visibility] for res in results.pose_landmarks.landmark]).flatten() if results.pose_landmarks else np.zeros(33*4)\n",
    "    face = np.array([[res.x, res.y, res.z] for res in results.face_landmarks.landmark]).flatten() if results.face_landmarks else np.zeros(468*3)\n",
    "    lh = np.array([[res.x, res.y, res.z] for res in results.left_hand_landmarks.landmark]).flatten() if results.left_hand_landmarks else np.zeros(21*3)\n",
    "    rh = np.array([[res.x, res.y, res.z] for res in results.right_hand_landmarks.landmark]).flatten() if results.right_hand_landmarks else np.zeros(21*3)\n",
    "    return np.concatenate([pose, face, lh, rh])"
   ]
  },
  {
   "cell_type": "code",
   "execution_count": 16,
   "id": "b7a805c6",
   "metadata": {
    "ExecuteTime": {
     "end_time": "2023-08-08T18:34:43.668625Z",
     "start_time": "2023-08-08T18:34:43.665373Z"
    }
   },
   "outputs": [],
   "source": [
    "result_test = extract_keypoints(results)"
   ]
  },
  {
   "cell_type": "code",
   "execution_count": 17,
   "id": "96d95912",
   "metadata": {
    "ExecuteTime": {
     "end_time": "2023-08-08T18:34:48.738329Z",
     "start_time": "2023-08-08T18:34:48.734396Z"
    }
   },
   "outputs": [
    {
     "data": {
      "text/plain": [
       "array([ 0.53414291,  0.4640485 , -0.59761614, ...,  0.        ,\n",
       "        0.        ,  0.        ])"
      ]
     },
     "execution_count": 17,
     "metadata": {},
     "output_type": "execute_result"
    }
   ],
   "source": [
    "result_test"
   ]
  },
  {
   "cell_type": "code",
   "execution_count": 18,
   "id": "a8fb31b4",
   "metadata": {
    "ExecuteTime": {
     "end_time": "2023-08-08T18:34:53.710443Z",
     "start_time": "2023-08-08T18:34:53.706680Z"
    }
   },
   "outputs": [],
   "source": [
    "def signvideodataframe(filepath):\n",
    "    # Read the CSV file into a DataFrame\n",
    "    df = pd.read_csv(filepath)\n",
    "\n",
    "    # Define the path to the videos directory\n",
    "    path = 'file:///media/kristian/HDD/ASL_Citizen/ASL_Citizen/videos/'\n",
    "\n",
    "    # Create a 'Path' column by concatenating the path with 'Video file' column\n",
    "    df['Path'] = path + df['Video file']\n",
    "    \n",
    "#    df['Gloss'] = df['Gloss'].str.replace('\\d+', '',regex=True)\n",
    "\n",
    "    # Calculate the frequency of each gloss and create a 'frequency' column\n",
    "    df['Frequency'] = df['Gloss'].map(df['Gloss'].value_counts())\n",
    "\n",
    "    # Sort the DataFrame by the 'Gloss' column\n",
    "    df = df.sort_values(by='Gloss')\n",
    "\n",
    "    # Reset the index of the DataFrame\n",
    "    df = df.reset_index(drop=True)\n",
    "\n",
    "    return df"
   ]
  },
  {
   "cell_type": "code",
   "execution_count": 19,
   "id": "1877e8ce",
   "metadata": {
    "ExecuteTime": {
     "end_time": "2023-08-08T18:34:58.886505Z",
     "start_time": "2023-08-08T18:34:58.882605Z"
    }
   },
   "outputs": [],
   "source": [
    "def frames_from_file(filepath):\n",
    "    cap = cv2.VideoCapture(filepath)\n",
    "    frames = int(cap.get(cv2.CAP_PROP_FRAME_COUNT))\n",
    "    fps = int(cap.get(cv2.CAP_PROP_FPS))\n",
    "    length = round(frames / fps)\n",
    "    return frames, fps, length"
   ]
  },
  {
   "cell_type": "code",
   "execution_count": 20,
   "id": "c90d3d92",
   "metadata": {
    "ExecuteTime": {
     "end_time": "2023-08-08T18:35:04.488130Z",
     "start_time": "2023-08-08T18:35:03.952794Z"
    }
   },
   "outputs": [],
   "source": [
    "traindf = signvideodataframe('file:///media/kristian/HDD/ASL_Citizen/ASL_Citizen/splits/train.csv')"
   ]
  },
  {
   "cell_type": "code",
   "execution_count": 21,
   "id": "ea9e1a27",
   "metadata": {
    "ExecuteTime": {
     "end_time": "2023-08-08T18:35:09.749349Z",
     "start_time": "2023-08-08T18:35:09.740401Z"
    }
   },
   "outputs": [
    {
     "data": {
      "text/html": [
       "<div>\n",
       "<style scoped>\n",
       "    .dataframe tbody tr th:only-of-type {\n",
       "        vertical-align: middle;\n",
       "    }\n",
       "\n",
       "    .dataframe tbody tr th {\n",
       "        vertical-align: top;\n",
       "    }\n",
       "\n",
       "    .dataframe thead th {\n",
       "        text-align: right;\n",
       "    }\n",
       "</style>\n",
       "<table border=\"1\" class=\"dataframe\">\n",
       "  <thead>\n",
       "    <tr style=\"text-align: right;\">\n",
       "      <th></th>\n",
       "      <th>Participant ID</th>\n",
       "      <th>Video file</th>\n",
       "      <th>Gloss</th>\n",
       "      <th>ASL-LEX Code</th>\n",
       "      <th>Path</th>\n",
       "      <th>Frequency</th>\n",
       "    </tr>\n",
       "  </thead>\n",
       "  <tbody>\n",
       "    <tr>\n",
       "      <th>0</th>\n",
       "      <td>P31</td>\n",
       "      <td>3827306090663467-1 DOLLAR.mp4</td>\n",
       "      <td>1DOLLAR</td>\n",
       "      <td>C_02_025</td>\n",
       "      <td>file:///media/kristian/HDD/ASL_Citizen/ASL_Cit...</td>\n",
       "      <td>15</td>\n",
       "    </tr>\n",
       "    <tr>\n",
       "      <th>1</th>\n",
       "      <td>P37</td>\n",
       "      <td>16792698524451422-1 DOLLAR.mp4</td>\n",
       "      <td>1DOLLAR</td>\n",
       "      <td>C_02_025</td>\n",
       "      <td>file:///media/kristian/HDD/ASL_Citizen/ASL_Cit...</td>\n",
       "      <td>15</td>\n",
       "    </tr>\n",
       "    <tr>\n",
       "      <th>2</th>\n",
       "      <td>P11</td>\n",
       "      <td>6868778695018762-1 DOLLAR.mp4</td>\n",
       "      <td>1DOLLAR</td>\n",
       "      <td>C_02_025</td>\n",
       "      <td>file:///media/kristian/HDD/ASL_Citizen/ASL_Cit...</td>\n",
       "      <td>15</td>\n",
       "    </tr>\n",
       "    <tr>\n",
       "      <th>3</th>\n",
       "      <td>P11</td>\n",
       "      <td>6870709051348651-1 DOLLAR.mp4</td>\n",
       "      <td>1DOLLAR</td>\n",
       "      <td>C_02_025</td>\n",
       "      <td>file:///media/kristian/HDD/ASL_Citizen/ASL_Cit...</td>\n",
       "      <td>15</td>\n",
       "    </tr>\n",
       "    <tr>\n",
       "      <th>4</th>\n",
       "      <td>P50</td>\n",
       "      <td>0719792557216079-1 DOLLAR.mp4</td>\n",
       "      <td>1DOLLAR</td>\n",
       "      <td>C_02_025</td>\n",
       "      <td>file:///media/kristian/HDD/ASL_Citizen/ASL_Cit...</td>\n",
       "      <td>15</td>\n",
       "    </tr>\n",
       "  </tbody>\n",
       "</table>\n",
       "</div>"
      ],
      "text/plain": [
       "  Participant ID                      Video file    Gloss ASL-LEX Code  \\\n",
       "0            P31   3827306090663467-1 DOLLAR.mp4  1DOLLAR     C_02_025   \n",
       "1            P37  16792698524451422-1 DOLLAR.mp4  1DOLLAR     C_02_025   \n",
       "2            P11   6868778695018762-1 DOLLAR.mp4  1DOLLAR     C_02_025   \n",
       "3            P11   6870709051348651-1 DOLLAR.mp4  1DOLLAR     C_02_025   \n",
       "4            P50   0719792557216079-1 DOLLAR.mp4  1DOLLAR     C_02_025   \n",
       "\n",
       "                                                Path  Frequency  \n",
       "0  file:///media/kristian/HDD/ASL_Citizen/ASL_Cit...         15  \n",
       "1  file:///media/kristian/HDD/ASL_Citizen/ASL_Cit...         15  \n",
       "2  file:///media/kristian/HDD/ASL_Citizen/ASL_Cit...         15  \n",
       "3  file:///media/kristian/HDD/ASL_Citizen/ASL_Cit...         15  \n",
       "4  file:///media/kristian/HDD/ASL_Citizen/ASL_Cit...         15  "
      ]
     },
     "execution_count": 21,
     "metadata": {},
     "output_type": "execute_result"
    }
   ],
   "source": [
    "traindf.head()"
   ]
  },
  {
   "cell_type": "code",
   "execution_count": 22,
   "id": "5bdd5fc9",
   "metadata": {
    "ExecuteTime": {
     "end_time": "2023-08-08T18:35:15.104209Z",
     "start_time": "2023-08-08T18:35:15.095679Z"
    }
   },
   "outputs": [
    {
     "data": {
      "text/html": [
       "<div>\n",
       "<style scoped>\n",
       "    .dataframe tbody tr th:only-of-type {\n",
       "        vertical-align: middle;\n",
       "    }\n",
       "\n",
       "    .dataframe tbody tr th {\n",
       "        vertical-align: top;\n",
       "    }\n",
       "\n",
       "    .dataframe thead th {\n",
       "        text-align: right;\n",
       "    }\n",
       "</style>\n",
       "<table border=\"1\" class=\"dataframe\">\n",
       "  <thead>\n",
       "    <tr style=\"text-align: right;\">\n",
       "      <th></th>\n",
       "      <th>Participant ID</th>\n",
       "      <th>Video file</th>\n",
       "      <th>Gloss</th>\n",
       "      <th>ASL-LEX Code</th>\n",
       "      <th>Path</th>\n",
       "      <th>Frequency</th>\n",
       "    </tr>\n",
       "  </thead>\n",
       "  <tbody>\n",
       "    <tr>\n",
       "      <th>40149</th>\n",
       "      <td>P37</td>\n",
       "      <td>9716493262876276-ZOOM OFF.mp4</td>\n",
       "      <td>ZOOMOFF</td>\n",
       "      <td>D_01_057</td>\n",
       "      <td>file:///media/kristian/HDD/ASL_Citizen/ASL_Cit...</td>\n",
       "      <td>15</td>\n",
       "    </tr>\n",
       "    <tr>\n",
       "      <th>40150</th>\n",
       "      <td>P31</td>\n",
       "      <td>7550572181460327-ZOOM OFF.mp4</td>\n",
       "      <td>ZOOMOFF</td>\n",
       "      <td>D_01_057</td>\n",
       "      <td>file:///media/kristian/HDD/ASL_Citizen/ASL_Cit...</td>\n",
       "      <td>15</td>\n",
       "    </tr>\n",
       "    <tr>\n",
       "      <th>40151</th>\n",
       "      <td>P46</td>\n",
       "      <td>47985881750082227-ZOOM OFF.mp4</td>\n",
       "      <td>ZOOMOFF</td>\n",
       "      <td>D_01_057</td>\n",
       "      <td>file:///media/kristian/HDD/ASL_Citizen/ASL_Cit...</td>\n",
       "      <td>15</td>\n",
       "    </tr>\n",
       "    <tr>\n",
       "      <th>40152</th>\n",
       "      <td>P50</td>\n",
       "      <td>04671245574824856-ZOOM OFF.mp4</td>\n",
       "      <td>ZOOMOFF</td>\n",
       "      <td>D_01_057</td>\n",
       "      <td>file:///media/kristian/HDD/ASL_Citizen/ASL_Cit...</td>\n",
       "      <td>15</td>\n",
       "    </tr>\n",
       "    <tr>\n",
       "      <th>40153</th>\n",
       "      <td>P51</td>\n",
       "      <td>19959052532136146-ZOOM OFF.mp4</td>\n",
       "      <td>ZOOMOFF</td>\n",
       "      <td>D_01_057</td>\n",
       "      <td>file:///media/kristian/HDD/ASL_Citizen/ASL_Cit...</td>\n",
       "      <td>15</td>\n",
       "    </tr>\n",
       "  </tbody>\n",
       "</table>\n",
       "</div>"
      ],
      "text/plain": [
       "      Participant ID                      Video file    Gloss ASL-LEX Code  \\\n",
       "40149            P37   9716493262876276-ZOOM OFF.mp4  ZOOMOFF     D_01_057   \n",
       "40150            P31   7550572181460327-ZOOM OFF.mp4  ZOOMOFF     D_01_057   \n",
       "40151            P46  47985881750082227-ZOOM OFF.mp4  ZOOMOFF     D_01_057   \n",
       "40152            P50  04671245574824856-ZOOM OFF.mp4  ZOOMOFF     D_01_057   \n",
       "40153            P51  19959052532136146-ZOOM OFF.mp4  ZOOMOFF     D_01_057   \n",
       "\n",
       "                                                    Path  Frequency  \n",
       "40149  file:///media/kristian/HDD/ASL_Citizen/ASL_Cit...         15  \n",
       "40150  file:///media/kristian/HDD/ASL_Citizen/ASL_Cit...         15  \n",
       "40151  file:///media/kristian/HDD/ASL_Citizen/ASL_Cit...         15  \n",
       "40152  file:///media/kristian/HDD/ASL_Citizen/ASL_Cit...         15  \n",
       "40153  file:///media/kristian/HDD/ASL_Citizen/ASL_Cit...         15  "
      ]
     },
     "execution_count": 22,
     "metadata": {},
     "output_type": "execute_result"
    }
   ],
   "source": [
    "traindf.tail()"
   ]
  },
  {
   "cell_type": "code",
   "execution_count": 23,
   "id": "095e54bd",
   "metadata": {
    "ExecuteTime": {
     "end_time": "2023-08-08T18:35:20.758965Z",
     "start_time": "2023-08-08T18:35:20.754981Z"
    }
   },
   "outputs": [
    {
     "data": {
      "text/plain": [
       "'file:///media/kristian/HDD/ASL_Citizen/ASL_Citizen/videos/3827306090663467-1 DOLLAR.mp4'"
      ]
     },
     "execution_count": 23,
     "metadata": {},
     "output_type": "execute_result"
    }
   ],
   "source": [
    "traindf['Path'][0]"
   ]
  },
  {
   "cell_type": "code",
   "execution_count": 24,
   "id": "d581c72d",
   "metadata": {
    "ExecuteTime": {
     "end_time": "2023-08-08T18:35:29.548081Z",
     "start_time": "2023-08-08T18:35:26.420659Z"
    }
   },
   "outputs": [],
   "source": [
    "cap = cv2.VideoCapture(traindf['Path'][0])\n",
    "#cap = cv2.VideoCapture(0)\n",
    "\n",
    "with mp_holistic.Holistic(static_image_mode=False,\n",
    "                          model_complexity=2) as holistic:\n",
    "    while True:\n",
    "        ret, frame = cap.read()\n",
    "        if ret == False:\n",
    "            break\n",
    "        frame_rgb = cv2.cvtColor(frame, cv2.COLOR_BGR2RGB)\n",
    "        results = holistic.process(frame_rgb)\n",
    "        # face\n",
    "        mp_drawing.draw_landmarks(\n",
    "            frame, results.face_landmarks, mp_holistic.FACEMESH_TESSELATION,\n",
    "            mp_drawing.DrawingSpec(color=(0, 255, 255),\n",
    "                                   thickness=1,\n",
    "                                   circle_radius=1),\n",
    "            mp_drawing.DrawingSpec(color=(0, 128, 255), thickness=2))\n",
    "\n",
    "        # Left hand\n",
    "        mp_drawing.draw_landmarks(\n",
    "            frame, results.left_hand_landmarks, mp_holistic.HAND_CONNECTIONS,\n",
    "            mp_drawing.DrawingSpec(color=(0, 0, 0),\n",
    "                                   thickness=2,\n",
    "                                   circle_radius=1),\n",
    "            mp_drawing.DrawingSpec(color=(0, 92, 230), thickness=2))\n",
    "\n",
    "        # Right Hand\n",
    "        mp_drawing.draw_landmarks(\n",
    "            frame, results.right_hand_landmarks, mp_holistic.HAND_CONNECTIONS,\n",
    "            mp_drawing.DrawingSpec(color=(0, 0, 0),\n",
    "                                   thickness=2,\n",
    "                                   circle_radius=1),\n",
    "            mp_drawing.DrawingSpec(color=(0, 92, 230), thickness=2))\n",
    "\n",
    "        # Posture\n",
    "        mp_drawing.draw_landmarks(\n",
    "            frame, results.pose_landmarks, mp_holistic.POSE_CONNECTIONS,\n",
    "            mp_drawing.DrawingSpec(color=(0, 0, 0),\n",
    "                                   thickness=2,\n",
    "                                   circle_radius=1),\n",
    "            mp_drawing.DrawingSpec(color=(0, 92, 230), thickness=2))\n",
    "        frame = cv2.flip(frame, 1)\n",
    "        cv2.imshow(\"Frame\", frame)\n",
    "        if cv2.waitKey(1) & 0xFF == 27:\n",
    "            break\n",
    "cap.release()\n",
    "cv2.destroyAllWindows()"
   ]
  },
  {
   "cell_type": "code",
   "execution_count": 25,
   "id": "7e7c3bde",
   "metadata": {
    "ExecuteTime": {
     "end_time": "2023-08-08T18:35:35.397361Z",
     "start_time": "2023-08-08T18:35:35.380745Z"
    },
    "scrolled": false
   },
   "outputs": [
    {
     "data": {
      "text/html": [
       "<div>\n",
       "<style scoped>\n",
       "    .dataframe tbody tr th:only-of-type {\n",
       "        vertical-align: middle;\n",
       "    }\n",
       "\n",
       "    .dataframe tbody tr th {\n",
       "        vertical-align: top;\n",
       "    }\n",
       "\n",
       "    .dataframe thead th {\n",
       "        text-align: right;\n",
       "    }\n",
       "</style>\n",
       "<table border=\"1\" class=\"dataframe\">\n",
       "  <thead>\n",
       "    <tr style=\"text-align: right;\">\n",
       "      <th></th>\n",
       "      <th>Participant ID</th>\n",
       "      <th>Video file</th>\n",
       "      <th>Gloss</th>\n",
       "      <th>ASL-LEX Code</th>\n",
       "      <th>Path</th>\n",
       "      <th>Frequency</th>\n",
       "    </tr>\n",
       "  </thead>\n",
       "  <tbody>\n",
       "    <tr>\n",
       "      <th>35587</th>\n",
       "      <td>P11</td>\n",
       "      <td>5142572502501956-THIN.mp4</td>\n",
       "      <td>THIN</td>\n",
       "      <td>C_02_002</td>\n",
       "      <td>file:///media/kristian/HDD/ASL_Citizen/ASL_Cit...</td>\n",
       "      <td>13</td>\n",
       "    </tr>\n",
       "    <tr>\n",
       "      <th>9572</th>\n",
       "      <td>P27</td>\n",
       "      <td>9025933808422706-DISCONNECT.mp4</td>\n",
       "      <td>DISCONNECT</td>\n",
       "      <td>H_01_017</td>\n",
       "      <td>file:///media/kristian/HDD/ASL_Citizen/ASL_Cit...</td>\n",
       "      <td>14</td>\n",
       "    </tr>\n",
       "    <tr>\n",
       "      <th>23657</th>\n",
       "      <td>P2</td>\n",
       "      <td>6509144917236493-NUT.mp4</td>\n",
       "      <td>NUT1</td>\n",
       "      <td>D_02_073</td>\n",
       "      <td>file:///media/kristian/HDD/ASL_Citizen/ASL_Cit...</td>\n",
       "      <td>16</td>\n",
       "    </tr>\n",
       "    <tr>\n",
       "      <th>23264</th>\n",
       "      <td>P27</td>\n",
       "      <td>26718272677630317-NINE.mp4</td>\n",
       "      <td>NINE</td>\n",
       "      <td>E_03_008</td>\n",
       "      <td>file:///media/kristian/HDD/ASL_Citizen/ASL_Cit...</td>\n",
       "      <td>16</td>\n",
       "    </tr>\n",
       "    <tr>\n",
       "      <th>22628</th>\n",
       "      <td>P16</td>\n",
       "      <td>6123371122658205-MURDER.mp4</td>\n",
       "      <td>MURDER</td>\n",
       "      <td>F_02_077</td>\n",
       "      <td>file:///media/kristian/HDD/ASL_Citizen/ASL_Cit...</td>\n",
       "      <td>15</td>\n",
       "    </tr>\n",
       "    <tr>\n",
       "      <th>24302</th>\n",
       "      <td>P37</td>\n",
       "      <td>3827863142418859-ORGANIZATION.mp4</td>\n",
       "      <td>ORGANIZATION</td>\n",
       "      <td>J_03_033</td>\n",
       "      <td>file:///media/kristian/HDD/ASL_Citizen/ASL_Cit...</td>\n",
       "      <td>14</td>\n",
       "    </tr>\n",
       "    <tr>\n",
       "      <th>14719</th>\n",
       "      <td>P37</td>\n",
       "      <td>165101863778635-GLASS 2.mp4</td>\n",
       "      <td>GLASS3</td>\n",
       "      <td>K_01_115</td>\n",
       "      <td>file:///media/kristian/HDD/ASL_Citizen/ASL_Cit...</td>\n",
       "      <td>16</td>\n",
       "    </tr>\n",
       "    <tr>\n",
       "      <th>22875</th>\n",
       "      <td>P31</td>\n",
       "      <td>8031051338831652-NECK.mp4</td>\n",
       "      <td>NECK</td>\n",
       "      <td>F_02_081</td>\n",
       "      <td>file:///media/kristian/HDD/ASL_Citizen/ASL_Cit...</td>\n",
       "      <td>14</td>\n",
       "    </tr>\n",
       "    <tr>\n",
       "      <th>2018</th>\n",
       "      <td>P14</td>\n",
       "      <td>29396825939572246-BANANA 2.mp4</td>\n",
       "      <td>BANANA2</td>\n",
       "      <td>K_02_097</td>\n",
       "      <td>file:///media/kristian/HDD/ASL_Citizen/ASL_Cit...</td>\n",
       "      <td>15</td>\n",
       "    </tr>\n",
       "    <tr>\n",
       "      <th>15883</th>\n",
       "      <td>P50</td>\n",
       "      <td>13742983558106459-HAIRDRYER 3.mp4</td>\n",
       "      <td>HAIRDRYER3</td>\n",
       "      <td>K_01_091</td>\n",
       "      <td>file:///media/kristian/HDD/ASL_Citizen/ASL_Cit...</td>\n",
       "      <td>14</td>\n",
       "    </tr>\n",
       "    <tr>\n",
       "      <th>21864</th>\n",
       "      <td>P50</td>\n",
       "      <td>4827989833360864-MICROSCOPE 3.mp4</td>\n",
       "      <td>MICROSCOPE2</td>\n",
       "      <td>K_02_008</td>\n",
       "      <td>file:///media/kristian/HDD/ASL_Citizen/ASL_Cit...</td>\n",
       "      <td>17</td>\n",
       "    </tr>\n",
       "    <tr>\n",
       "      <th>29922</th>\n",
       "      <td>P52</td>\n",
       "      <td>026913108747173453-seedSCREWDRIVER.mp4</td>\n",
       "      <td>SCREWDRIVER1</td>\n",
       "      <td>D_02_023</td>\n",
       "      <td>file:///media/kristian/HDD/ASL_Citizen/ASL_Cit...</td>\n",
       "      <td>15</td>\n",
       "    </tr>\n",
       "    <tr>\n",
       "      <th>36667</th>\n",
       "      <td>P40</td>\n",
       "      <td>9249679413613336-TRAVEL.mp4</td>\n",
       "      <td>TRAVEL</td>\n",
       "      <td>B_02_089</td>\n",
       "      <td>file:///media/kristian/HDD/ASL_Citizen/ASL_Cit...</td>\n",
       "      <td>15</td>\n",
       "    </tr>\n",
       "    <tr>\n",
       "      <th>14201</th>\n",
       "      <td>P33</td>\n",
       "      <td>1312328998680623-FRUIT.mp4</td>\n",
       "      <td>FRUIT</td>\n",
       "      <td>C_02_083</td>\n",
       "      <td>file:///media/kristian/HDD/ASL_Citizen/ASL_Cit...</td>\n",
       "      <td>15</td>\n",
       "    </tr>\n",
       "    <tr>\n",
       "      <th>19384</th>\n",
       "      <td>P11</td>\n",
       "      <td>9180321894692871-KNITTING 2.mp4</td>\n",
       "      <td>KNITTING3</td>\n",
       "      <td>K_02_025</td>\n",
       "      <td>file:///media/kristian/HDD/ASL_Citizen/ASL_Cit...</td>\n",
       "      <td>16</td>\n",
       "    </tr>\n",
       "    <tr>\n",
       "      <th>38752</th>\n",
       "      <td>P31</td>\n",
       "      <td>8562618297152573-WEST.mp4</td>\n",
       "      <td>WEST</td>\n",
       "      <td>D_03_053</td>\n",
       "      <td>file:///media/kristian/HDD/ASL_Citizen/ASL_Cit...</td>\n",
       "      <td>13</td>\n",
       "    </tr>\n",
       "    <tr>\n",
       "      <th>9045</th>\n",
       "      <td>P23</td>\n",
       "      <td>7365023609231192-DENY.mp4</td>\n",
       "      <td>DENY</td>\n",
       "      <td>D_02_039</td>\n",
       "      <td>file:///media/kristian/HDD/ASL_Citizen/ASL_Cit...</td>\n",
       "      <td>15</td>\n",
       "    </tr>\n",
       "    <tr>\n",
       "      <th>33124</th>\n",
       "      <td>P30</td>\n",
       "      <td>8184860038557844-STAIRS.mp4</td>\n",
       "      <td>STAIRS</td>\n",
       "      <td>A_03_048</td>\n",
       "      <td>file:///media/kristian/HDD/ASL_Citizen/ASL_Cit...</td>\n",
       "      <td>14</td>\n",
       "    </tr>\n",
       "    <tr>\n",
       "      <th>31929</th>\n",
       "      <td>P30</td>\n",
       "      <td>9635258534501763-SMOOTH.mp4</td>\n",
       "      <td>SMOOTH</td>\n",
       "      <td>H_02_101</td>\n",
       "      <td>file:///media/kristian/HDD/ASL_Citizen/ASL_Cit...</td>\n",
       "      <td>16</td>\n",
       "    </tr>\n",
       "    <tr>\n",
       "      <th>12559</th>\n",
       "      <td>P52</td>\n",
       "      <td>9457234157143086-seedFEBRUARY.mp4</td>\n",
       "      <td>FEBRUARY</td>\n",
       "      <td>D_01_093</td>\n",
       "      <td>file:///media/kristian/HDD/ASL_Citizen/ASL_Cit...</td>\n",
       "      <td>14</td>\n",
       "    </tr>\n",
       "  </tbody>\n",
       "</table>\n",
       "</div>"
      ],
      "text/plain": [
       "      Participant ID                              Video file         Gloss  \\\n",
       "35587            P11               5142572502501956-THIN.mp4          THIN   \n",
       "9572             P27         9025933808422706-DISCONNECT.mp4    DISCONNECT   \n",
       "23657             P2                6509144917236493-NUT.mp4          NUT1   \n",
       "23264            P27              26718272677630317-NINE.mp4          NINE   \n",
       "22628            P16             6123371122658205-MURDER.mp4        MURDER   \n",
       "24302            P37       3827863142418859-ORGANIZATION.mp4  ORGANIZATION   \n",
       "14719            P37             165101863778635-GLASS 2.mp4        GLASS3   \n",
       "22875            P31               8031051338831652-NECK.mp4          NECK   \n",
       "2018             P14          29396825939572246-BANANA 2.mp4       BANANA2   \n",
       "15883            P50       13742983558106459-HAIRDRYER 3.mp4    HAIRDRYER3   \n",
       "21864            P50       4827989833360864-MICROSCOPE 3.mp4   MICROSCOPE2   \n",
       "29922            P52  026913108747173453-seedSCREWDRIVER.mp4  SCREWDRIVER1   \n",
       "36667            P40             9249679413613336-TRAVEL.mp4        TRAVEL   \n",
       "14201            P33              1312328998680623-FRUIT.mp4         FRUIT   \n",
       "19384            P11         9180321894692871-KNITTING 2.mp4     KNITTING3   \n",
       "38752            P31               8562618297152573-WEST.mp4          WEST   \n",
       "9045             P23               7365023609231192-DENY.mp4          DENY   \n",
       "33124            P30             8184860038557844-STAIRS.mp4        STAIRS   \n",
       "31929            P30             9635258534501763-SMOOTH.mp4        SMOOTH   \n",
       "12559            P52       9457234157143086-seedFEBRUARY.mp4      FEBRUARY   \n",
       "\n",
       "      ASL-LEX Code                                               Path  \\\n",
       "35587     C_02_002  file:///media/kristian/HDD/ASL_Citizen/ASL_Cit...   \n",
       "9572      H_01_017  file:///media/kristian/HDD/ASL_Citizen/ASL_Cit...   \n",
       "23657     D_02_073  file:///media/kristian/HDD/ASL_Citizen/ASL_Cit...   \n",
       "23264     E_03_008  file:///media/kristian/HDD/ASL_Citizen/ASL_Cit...   \n",
       "22628     F_02_077  file:///media/kristian/HDD/ASL_Citizen/ASL_Cit...   \n",
       "24302     J_03_033  file:///media/kristian/HDD/ASL_Citizen/ASL_Cit...   \n",
       "14719     K_01_115  file:///media/kristian/HDD/ASL_Citizen/ASL_Cit...   \n",
       "22875     F_02_081  file:///media/kristian/HDD/ASL_Citizen/ASL_Cit...   \n",
       "2018      K_02_097  file:///media/kristian/HDD/ASL_Citizen/ASL_Cit...   \n",
       "15883     K_01_091  file:///media/kristian/HDD/ASL_Citizen/ASL_Cit...   \n",
       "21864     K_02_008  file:///media/kristian/HDD/ASL_Citizen/ASL_Cit...   \n",
       "29922     D_02_023  file:///media/kristian/HDD/ASL_Citizen/ASL_Cit...   \n",
       "36667     B_02_089  file:///media/kristian/HDD/ASL_Citizen/ASL_Cit...   \n",
       "14201     C_02_083  file:///media/kristian/HDD/ASL_Citizen/ASL_Cit...   \n",
       "19384     K_02_025  file:///media/kristian/HDD/ASL_Citizen/ASL_Cit...   \n",
       "38752     D_03_053  file:///media/kristian/HDD/ASL_Citizen/ASL_Cit...   \n",
       "9045      D_02_039  file:///media/kristian/HDD/ASL_Citizen/ASL_Cit...   \n",
       "33124     A_03_048  file:///media/kristian/HDD/ASL_Citizen/ASL_Cit...   \n",
       "31929     H_02_101  file:///media/kristian/HDD/ASL_Citizen/ASL_Cit...   \n",
       "12559     D_01_093  file:///media/kristian/HDD/ASL_Citizen/ASL_Cit...   \n",
       "\n",
       "       Frequency  \n",
       "35587         13  \n",
       "9572          14  \n",
       "23657         16  \n",
       "23264         16  \n",
       "22628         15  \n",
       "24302         14  \n",
       "14719         16  \n",
       "22875         14  \n",
       "2018          15  \n",
       "15883         14  \n",
       "21864         17  \n",
       "29922         15  \n",
       "36667         15  \n",
       "14201         15  \n",
       "19384         16  \n",
       "38752         13  \n",
       "9045          15  \n",
       "33124         14  \n",
       "31929         16  \n",
       "12559         14  "
      ]
     },
     "execution_count": 25,
     "metadata": {},
     "output_type": "execute_result"
    }
   ],
   "source": [
    "traindf.sample(20)"
   ]
  },
  {
   "cell_type": "code",
   "execution_count": null,
   "id": "cf42e5e2",
   "metadata": {},
   "outputs": [],
   "source": []
  },
  {
   "cell_type": "code",
   "execution_count": 26,
   "id": "980e9aca",
   "metadata": {
    "ExecuteTime": {
     "end_time": "2023-08-08T18:35:41.330224Z",
     "start_time": "2023-08-08T18:35:41.326123Z"
    }
   },
   "outputs": [],
   "source": [
    "traindf = traindf[traindf['Frequency'] > 17]\n",
    "traindf = traindf.reset_index(drop=True)"
   ]
  },
  {
   "cell_type": "code",
   "execution_count": 27,
   "id": "e3da8550",
   "metadata": {
    "ExecuteTime": {
     "end_time": "2023-08-08T18:35:46.982650Z",
     "start_time": "2023-08-08T18:35:46.973490Z"
    }
   },
   "outputs": [
    {
     "data": {
      "text/html": [
       "<div>\n",
       "<style scoped>\n",
       "    .dataframe tbody tr th:only-of-type {\n",
       "        vertical-align: middle;\n",
       "    }\n",
       "\n",
       "    .dataframe tbody tr th {\n",
       "        vertical-align: top;\n",
       "    }\n",
       "\n",
       "    .dataframe thead th {\n",
       "        text-align: right;\n",
       "    }\n",
       "</style>\n",
       "<table border=\"1\" class=\"dataframe\">\n",
       "  <thead>\n",
       "    <tr style=\"text-align: right;\">\n",
       "      <th></th>\n",
       "      <th>Participant ID</th>\n",
       "      <th>Video file</th>\n",
       "      <th>Gloss</th>\n",
       "      <th>ASL-LEX Code</th>\n",
       "      <th>Path</th>\n",
       "      <th>Frequency</th>\n",
       "    </tr>\n",
       "  </thead>\n",
       "  <tbody>\n",
       "    <tr>\n",
       "      <th>0</th>\n",
       "      <td>P52</td>\n",
       "      <td>07157565148825373-seedAXE.mp4</td>\n",
       "      <td>AXE1</td>\n",
       "      <td>G_03_066</td>\n",
       "      <td>file:///media/kristian/HDD/ASL_Citizen/ASL_Cit...</td>\n",
       "      <td>19</td>\n",
       "    </tr>\n",
       "    <tr>\n",
       "      <th>1</th>\n",
       "      <td>P28</td>\n",
       "      <td>7179300005186042-AXE.mp4</td>\n",
       "      <td>AXE1</td>\n",
       "      <td>G_03_066</td>\n",
       "      <td>file:///media/kristian/HDD/ASL_Citizen/ASL_Cit...</td>\n",
       "      <td>19</td>\n",
       "    </tr>\n",
       "    <tr>\n",
       "      <th>2</th>\n",
       "      <td>P29</td>\n",
       "      <td>16216064841959765-AXE.mp4</td>\n",
       "      <td>AXE1</td>\n",
       "      <td>G_03_066</td>\n",
       "      <td>file:///media/kristian/HDD/ASL_Citizen/ASL_Cit...</td>\n",
       "      <td>19</td>\n",
       "    </tr>\n",
       "    <tr>\n",
       "      <th>3</th>\n",
       "      <td>P37</td>\n",
       "      <td>6193814382865199-AXE.mp4</td>\n",
       "      <td>AXE1</td>\n",
       "      <td>G_03_066</td>\n",
       "      <td>file:///media/kristian/HDD/ASL_Citizen/ASL_Cit...</td>\n",
       "      <td>19</td>\n",
       "    </tr>\n",
       "    <tr>\n",
       "      <th>4</th>\n",
       "      <td>P40</td>\n",
       "      <td>5947453960317015-AXE.mp4</td>\n",
       "      <td>AXE1</td>\n",
       "      <td>G_03_066</td>\n",
       "      <td>file:///media/kristian/HDD/ASL_Citizen/ASL_Cit...</td>\n",
       "      <td>19</td>\n",
       "    </tr>\n",
       "  </tbody>\n",
       "</table>\n",
       "</div>"
      ],
      "text/plain": [
       "  Participant ID                     Video file Gloss ASL-LEX Code  \\\n",
       "0            P52  07157565148825373-seedAXE.mp4  AXE1     G_03_066   \n",
       "1            P28       7179300005186042-AXE.mp4  AXE1     G_03_066   \n",
       "2            P29      16216064841959765-AXE.mp4  AXE1     G_03_066   \n",
       "3            P37       6193814382865199-AXE.mp4  AXE1     G_03_066   \n",
       "4            P40       5947453960317015-AXE.mp4  AXE1     G_03_066   \n",
       "\n",
       "                                                Path  Frequency  \n",
       "0  file:///media/kristian/HDD/ASL_Citizen/ASL_Cit...         19  \n",
       "1  file:///media/kristian/HDD/ASL_Citizen/ASL_Cit...         19  \n",
       "2  file:///media/kristian/HDD/ASL_Citizen/ASL_Cit...         19  \n",
       "3  file:///media/kristian/HDD/ASL_Citizen/ASL_Cit...         19  \n",
       "4  file:///media/kristian/HDD/ASL_Citizen/ASL_Cit...         19  "
      ]
     },
     "execution_count": 27,
     "metadata": {},
     "output_type": "execute_result"
    }
   ],
   "source": [
    "traindf.head()"
   ]
  },
  {
   "cell_type": "code",
   "execution_count": 28,
   "id": "98e78fd9",
   "metadata": {
    "ExecuteTime": {
     "end_time": "2023-08-08T18:35:52.600973Z",
     "start_time": "2023-08-08T18:35:52.592937Z"
    }
   },
   "outputs": [
    {
     "data": {
      "text/html": [
       "<div>\n",
       "<style scoped>\n",
       "    .dataframe tbody tr th:only-of-type {\n",
       "        vertical-align: middle;\n",
       "    }\n",
       "\n",
       "    .dataframe tbody tr th {\n",
       "        vertical-align: top;\n",
       "    }\n",
       "\n",
       "    .dataframe thead th {\n",
       "        text-align: right;\n",
       "    }\n",
       "</style>\n",
       "<table border=\"1\" class=\"dataframe\">\n",
       "  <thead>\n",
       "    <tr style=\"text-align: right;\">\n",
       "      <th></th>\n",
       "      <th>Participant ID</th>\n",
       "      <th>Video file</th>\n",
       "      <th>Gloss</th>\n",
       "      <th>ASL-LEX Code</th>\n",
       "      <th>Path</th>\n",
       "      <th>Frequency</th>\n",
       "    </tr>\n",
       "  </thead>\n",
       "  <tbody>\n",
       "    <tr>\n",
       "      <th>945</th>\n",
       "      <td>P50</td>\n",
       "      <td>9161417844146778-WHAT FOR.mp4</td>\n",
       "      <td>WHATFOR1</td>\n",
       "      <td>C_02_054</td>\n",
       "      <td>file:///media/kristian/HDD/ASL_Citizen/ASL_Cit...</td>\n",
       "      <td>20</td>\n",
       "    </tr>\n",
       "    <tr>\n",
       "      <th>946</th>\n",
       "      <td>P14</td>\n",
       "      <td>00930662603221255-WHAT FOR.mp4</td>\n",
       "      <td>WHATFOR1</td>\n",
       "      <td>C_02_054</td>\n",
       "      <td>file:///media/kristian/HDD/ASL_Citizen/ASL_Cit...</td>\n",
       "      <td>20</td>\n",
       "    </tr>\n",
       "    <tr>\n",
       "      <th>947</th>\n",
       "      <td>P27</td>\n",
       "      <td>82063651021682-WHAT FOR.mp4</td>\n",
       "      <td>WHATFOR1</td>\n",
       "      <td>C_02_054</td>\n",
       "      <td>file:///media/kristian/HDD/ASL_Citizen/ASL_Cit...</td>\n",
       "      <td>20</td>\n",
       "    </tr>\n",
       "    <tr>\n",
       "      <th>948</th>\n",
       "      <td>P40</td>\n",
       "      <td>5268072837528903-WHAT FOR.mp4</td>\n",
       "      <td>WHATFOR1</td>\n",
       "      <td>C_02_054</td>\n",
       "      <td>file:///media/kristian/HDD/ASL_Citizen/ASL_Cit...</td>\n",
       "      <td>20</td>\n",
       "    </tr>\n",
       "    <tr>\n",
       "      <th>949</th>\n",
       "      <td>P40</td>\n",
       "      <td>6363286086951516-WHAT FOR.mp4</td>\n",
       "      <td>WHATFOR1</td>\n",
       "      <td>C_02_054</td>\n",
       "      <td>file:///media/kristian/HDD/ASL_Citizen/ASL_Cit...</td>\n",
       "      <td>20</td>\n",
       "    </tr>\n",
       "  </tbody>\n",
       "</table>\n",
       "</div>"
      ],
      "text/plain": [
       "    Participant ID                      Video file     Gloss ASL-LEX Code  \\\n",
       "945            P50   9161417844146778-WHAT FOR.mp4  WHATFOR1     C_02_054   \n",
       "946            P14  00930662603221255-WHAT FOR.mp4  WHATFOR1     C_02_054   \n",
       "947            P27     82063651021682-WHAT FOR.mp4  WHATFOR1     C_02_054   \n",
       "948            P40   5268072837528903-WHAT FOR.mp4  WHATFOR1     C_02_054   \n",
       "949            P40   6363286086951516-WHAT FOR.mp4  WHATFOR1     C_02_054   \n",
       "\n",
       "                                                  Path  Frequency  \n",
       "945  file:///media/kristian/HDD/ASL_Citizen/ASL_Cit...         20  \n",
       "946  file:///media/kristian/HDD/ASL_Citizen/ASL_Cit...         20  \n",
       "947  file:///media/kristian/HDD/ASL_Citizen/ASL_Cit...         20  \n",
       "948  file:///media/kristian/HDD/ASL_Citizen/ASL_Cit...         20  \n",
       "949  file:///media/kristian/HDD/ASL_Citizen/ASL_Cit...         20  "
      ]
     },
     "execution_count": 28,
     "metadata": {},
     "output_type": "execute_result"
    }
   ],
   "source": [
    "traindf.tail()"
   ]
  },
  {
   "cell_type": "code",
   "execution_count": 29,
   "id": "c1d6fcb5",
   "metadata": {
    "ExecuteTime": {
     "end_time": "2023-08-08T18:35:58.411665Z",
     "start_time": "2023-08-08T18:35:58.402828Z"
    }
   },
   "outputs": [
    {
     "data": {
      "text/html": [
       "<div>\n",
       "<style scoped>\n",
       "    .dataframe tbody tr th:only-of-type {\n",
       "        vertical-align: middle;\n",
       "    }\n",
       "\n",
       "    .dataframe tbody tr th {\n",
       "        vertical-align: top;\n",
       "    }\n",
       "\n",
       "    .dataframe thead th {\n",
       "        text-align: right;\n",
       "    }\n",
       "</style>\n",
       "<table border=\"1\" class=\"dataframe\">\n",
       "  <thead>\n",
       "    <tr style=\"text-align: right;\">\n",
       "      <th></th>\n",
       "      <th>Frequency</th>\n",
       "    </tr>\n",
       "  </thead>\n",
       "  <tbody>\n",
       "    <tr>\n",
       "      <th>count</th>\n",
       "      <td>950.000000</td>\n",
       "    </tr>\n",
       "    <tr>\n",
       "      <th>mean</th>\n",
       "      <td>19.082105</td>\n",
       "    </tr>\n",
       "    <tr>\n",
       "      <th>std</th>\n",
       "      <td>1.316026</td>\n",
       "    </tr>\n",
       "    <tr>\n",
       "      <th>min</th>\n",
       "      <td>18.000000</td>\n",
       "    </tr>\n",
       "    <tr>\n",
       "      <th>25%</th>\n",
       "      <td>18.000000</td>\n",
       "    </tr>\n",
       "    <tr>\n",
       "      <th>50%</th>\n",
       "      <td>19.000000</td>\n",
       "    </tr>\n",
       "    <tr>\n",
       "      <th>75%</th>\n",
       "      <td>20.000000</td>\n",
       "    </tr>\n",
       "    <tr>\n",
       "      <th>max</th>\n",
       "      <td>24.000000</td>\n",
       "    </tr>\n",
       "  </tbody>\n",
       "</table>\n",
       "</div>"
      ],
      "text/plain": [
       "        Frequency\n",
       "count  950.000000\n",
       "mean    19.082105\n",
       "std      1.316026\n",
       "min     18.000000\n",
       "25%     18.000000\n",
       "50%     19.000000\n",
       "75%     20.000000\n",
       "max     24.000000"
      ]
     },
     "execution_count": 29,
     "metadata": {},
     "output_type": "execute_result"
    }
   ],
   "source": [
    "traindf.describe()"
   ]
  },
  {
   "cell_type": "code",
   "execution_count": 30,
   "id": "90a5583a",
   "metadata": {
    "ExecuteTime": {
     "end_time": "2023-08-08T18:36:20.117933Z",
     "start_time": "2023-08-08T18:36:20.115148Z"
    }
   },
   "outputs": [],
   "source": [
    "#traindf['Gloss'] = traindf['Gloss'].str.replace('\\d+', '',regex=True)"
   ]
  },
  {
   "cell_type": "code",
   "execution_count": 31,
   "id": "17318e0f",
   "metadata": {
    "ExecuteTime": {
     "end_time": "2023-08-08T18:37:08.143881Z",
     "start_time": "2023-08-08T18:37:08.139546Z"
    }
   },
   "outputs": [
    {
     "data": {
      "text/plain": [
       "50"
      ]
     },
     "execution_count": 31,
     "metadata": {},
     "output_type": "execute_result"
    }
   ],
   "source": [
    "traindf['Gloss'].nunique()"
   ]
  },
  {
   "cell_type": "code",
   "execution_count": 32,
   "id": "2e7f4f27",
   "metadata": {
    "ExecuteTime": {
     "end_time": "2023-08-08T18:37:13.307506Z",
     "start_time": "2023-08-08T18:37:13.303310Z"
    }
   },
   "outputs": [
    {
     "data": {
      "text/plain": [
       "array(['AXE1', 'BACKPACK1', 'BASKETBALL1', 'BEE1', 'BELT1', 'BITE1',\n",
       "       'BREAKFAST1', 'CANCER1', 'CHRISTMAS1', 'CONFUSED1', 'DARK1',\n",
       "       'DEAF1', 'DECIDE1', 'DEMAND1', 'DEVELOP1', 'DINNER1', 'DOG1',\n",
       "       'DOWNSIZE1', 'DRAG1', 'EAT1', 'EDIT1', 'ELEVATOR1', 'FINE1',\n",
       "       'FLOAT1', 'FOREIGNER1', 'GUESS1', 'HALLOWEEN1', 'HOSPITAL1',\n",
       "       'HURDLE/TRIP1', 'JEWELRY', 'KNIGHT1', 'LOCK1', 'LUNCH1', 'MAPLE',\n",
       "       'MEAT1', 'MECHANIC1', 'MICROSCOPE1', 'MOVIE1', 'NOON1', 'PARTY1',\n",
       "       'PATIENT2', 'RAZOR2', 'RIVER1', 'ROCKINGCHAIR1', 'SHAVE1', 'SINK',\n",
       "       'SQUEEZE', 'THEY1', 'TWINS1', 'WHATFOR1'], dtype=object)"
      ]
     },
     "execution_count": 32,
     "metadata": {},
     "output_type": "execute_result"
    }
   ],
   "source": [
    "words = traindf['Gloss'].unique()\n",
    "words"
   ]
  },
  {
   "cell_type": "code",
   "execution_count": 33,
   "id": "c400650b",
   "metadata": {
    "ExecuteTime": {
     "end_time": "2023-08-08T18:37:18.855493Z",
     "start_time": "2023-08-08T18:37:18.523242Z"
    }
   },
   "outputs": [],
   "source": [
    "valdf = signvideodataframe('file:///media/kristian/HDD/ASL_Citizen/ASL_Citizen/splits/val.csv') "
   ]
  },
  {
   "cell_type": "code",
   "execution_count": 34,
   "id": "8c148709",
   "metadata": {
    "ExecuteTime": {
     "end_time": "2023-08-08T18:37:24.301648Z",
     "start_time": "2023-08-08T18:37:24.293300Z"
    }
   },
   "outputs": [
    {
     "data": {
      "text/html": [
       "<div>\n",
       "<style scoped>\n",
       "    .dataframe tbody tr th:only-of-type {\n",
       "        vertical-align: middle;\n",
       "    }\n",
       "\n",
       "    .dataframe tbody tr th {\n",
       "        vertical-align: top;\n",
       "    }\n",
       "\n",
       "    .dataframe thead th {\n",
       "        text-align: right;\n",
       "    }\n",
       "</style>\n",
       "<table border=\"1\" class=\"dataframe\">\n",
       "  <thead>\n",
       "    <tr style=\"text-align: right;\">\n",
       "      <th></th>\n",
       "      <th>Participant ID</th>\n",
       "      <th>Video file</th>\n",
       "      <th>Gloss</th>\n",
       "      <th>ASL-LEX Code</th>\n",
       "      <th>Path</th>\n",
       "      <th>Frequency</th>\n",
       "    </tr>\n",
       "  </thead>\n",
       "  <tbody>\n",
       "    <tr>\n",
       "      <th>0</th>\n",
       "      <td>P26</td>\n",
       "      <td>22595012150860327-1 DOLLAR.mp4</td>\n",
       "      <td>1DOLLAR</td>\n",
       "      <td>C_02_025</td>\n",
       "      <td>file:///media/kristian/HDD/ASL_Citizen/ASL_Cit...</td>\n",
       "      <td>3</td>\n",
       "    </tr>\n",
       "    <tr>\n",
       "      <th>1</th>\n",
       "      <td>P39</td>\n",
       "      <td>7421622940519235-1 DOLLAR.mp4</td>\n",
       "      <td>1DOLLAR</td>\n",
       "      <td>C_02_025</td>\n",
       "      <td>file:///media/kristian/HDD/ASL_Citizen/ASL_Cit...</td>\n",
       "      <td>3</td>\n",
       "    </tr>\n",
       "    <tr>\n",
       "      <th>2</th>\n",
       "      <td>P21</td>\n",
       "      <td>686738356933241-1 DOLLAR.mp4</td>\n",
       "      <td>1DOLLAR</td>\n",
       "      <td>C_02_025</td>\n",
       "      <td>file:///media/kristian/HDD/ASL_Citizen/ASL_Cit...</td>\n",
       "      <td>3</td>\n",
       "    </tr>\n",
       "    <tr>\n",
       "      <th>3</th>\n",
       "      <td>P12</td>\n",
       "      <td>9219095671540121-5 DOLLARS.mp4</td>\n",
       "      <td>5DOLLARS</td>\n",
       "      <td>B_01_062</td>\n",
       "      <td>file:///media/kristian/HDD/ASL_Citizen/ASL_Cit...</td>\n",
       "      <td>4</td>\n",
       "    </tr>\n",
       "    <tr>\n",
       "      <th>4</th>\n",
       "      <td>P21</td>\n",
       "      <td>1448188216215387-5 DOLLARS.mp4</td>\n",
       "      <td>5DOLLARS</td>\n",
       "      <td>B_01_062</td>\n",
       "      <td>file:///media/kristian/HDD/ASL_Citizen/ASL_Cit...</td>\n",
       "      <td>4</td>\n",
       "    </tr>\n",
       "  </tbody>\n",
       "</table>\n",
       "</div>"
      ],
      "text/plain": [
       "  Participant ID                      Video file     Gloss ASL-LEX Code  \\\n",
       "0            P26  22595012150860327-1 DOLLAR.mp4   1DOLLAR     C_02_025   \n",
       "1            P39   7421622940519235-1 DOLLAR.mp4   1DOLLAR     C_02_025   \n",
       "2            P21    686738356933241-1 DOLLAR.mp4   1DOLLAR     C_02_025   \n",
       "3            P12  9219095671540121-5 DOLLARS.mp4  5DOLLARS     B_01_062   \n",
       "4            P21  1448188216215387-5 DOLLARS.mp4  5DOLLARS     B_01_062   \n",
       "\n",
       "                                                Path  Frequency  \n",
       "0  file:///media/kristian/HDD/ASL_Citizen/ASL_Cit...          3  \n",
       "1  file:///media/kristian/HDD/ASL_Citizen/ASL_Cit...          3  \n",
       "2  file:///media/kristian/HDD/ASL_Citizen/ASL_Cit...          3  \n",
       "3  file:///media/kristian/HDD/ASL_Citizen/ASL_Cit...          4  \n",
       "4  file:///media/kristian/HDD/ASL_Citizen/ASL_Cit...          4  "
      ]
     },
     "execution_count": 34,
     "metadata": {},
     "output_type": "execute_result"
    }
   ],
   "source": [
    "valdf.head()"
   ]
  },
  {
   "cell_type": "code",
   "execution_count": 35,
   "id": "ec2b183e",
   "metadata": {
    "ExecuteTime": {
     "end_time": "2023-08-08T18:37:30.257979Z",
     "start_time": "2023-08-08T18:37:30.249029Z"
    }
   },
   "outputs": [
    {
     "data": {
      "text/html": [
       "<div>\n",
       "<style scoped>\n",
       "    .dataframe tbody tr th:only-of-type {\n",
       "        vertical-align: middle;\n",
       "    }\n",
       "\n",
       "    .dataframe tbody tr th {\n",
       "        vertical-align: top;\n",
       "    }\n",
       "\n",
       "    .dataframe thead th {\n",
       "        text-align: right;\n",
       "    }\n",
       "</style>\n",
       "<table border=\"1\" class=\"dataframe\">\n",
       "  <thead>\n",
       "    <tr style=\"text-align: right;\">\n",
       "      <th></th>\n",
       "      <th>Participant ID</th>\n",
       "      <th>Video file</th>\n",
       "      <th>Gloss</th>\n",
       "      <th>ASL-LEX Code</th>\n",
       "      <th>Path</th>\n",
       "      <th>Frequency</th>\n",
       "    </tr>\n",
       "  </thead>\n",
       "  <tbody>\n",
       "    <tr>\n",
       "      <th>10299</th>\n",
       "      <td>P21</td>\n",
       "      <td>6959326205750493-ZOOM IN.mp4</td>\n",
       "      <td>ZOOMIN</td>\n",
       "      <td>B_02_056</td>\n",
       "      <td>file:///media/kristian/HDD/ASL_Citizen/ASL_Cit...</td>\n",
       "      <td>3</td>\n",
       "    </tr>\n",
       "    <tr>\n",
       "      <th>10300</th>\n",
       "      <td>P12</td>\n",
       "      <td>7758716133684984-ZOOM OFF.mp4</td>\n",
       "      <td>ZOOMOFF</td>\n",
       "      <td>D_01_057</td>\n",
       "      <td>file:///media/kristian/HDD/ASL_Citizen/ASL_Cit...</td>\n",
       "      <td>4</td>\n",
       "    </tr>\n",
       "    <tr>\n",
       "      <th>10301</th>\n",
       "      <td>P39</td>\n",
       "      <td>844134294032034-ZOOM OFF.mp4</td>\n",
       "      <td>ZOOMOFF</td>\n",
       "      <td>D_01_057</td>\n",
       "      <td>file:///media/kristian/HDD/ASL_Citizen/ASL_Cit...</td>\n",
       "      <td>4</td>\n",
       "    </tr>\n",
       "    <tr>\n",
       "      <th>10302</th>\n",
       "      <td>P21</td>\n",
       "      <td>5548062993721732-ZOOM OFF.mp4</td>\n",
       "      <td>ZOOMOFF</td>\n",
       "      <td>D_01_057</td>\n",
       "      <td>file:///media/kristian/HDD/ASL_Citizen/ASL_Cit...</td>\n",
       "      <td>4</td>\n",
       "    </tr>\n",
       "    <tr>\n",
       "      <th>10303</th>\n",
       "      <td>P26</td>\n",
       "      <td>19366754134806952-ZOOM OFF.mp4</td>\n",
       "      <td>ZOOMOFF</td>\n",
       "      <td>D_01_057</td>\n",
       "      <td>file:///media/kristian/HDD/ASL_Citizen/ASL_Cit...</td>\n",
       "      <td>4</td>\n",
       "    </tr>\n",
       "  </tbody>\n",
       "</table>\n",
       "</div>"
      ],
      "text/plain": [
       "      Participant ID                      Video file    Gloss ASL-LEX Code  \\\n",
       "10299            P21    6959326205750493-ZOOM IN.mp4   ZOOMIN     B_02_056   \n",
       "10300            P12   7758716133684984-ZOOM OFF.mp4  ZOOMOFF     D_01_057   \n",
       "10301            P39    844134294032034-ZOOM OFF.mp4  ZOOMOFF     D_01_057   \n",
       "10302            P21   5548062993721732-ZOOM OFF.mp4  ZOOMOFF     D_01_057   \n",
       "10303            P26  19366754134806952-ZOOM OFF.mp4  ZOOMOFF     D_01_057   \n",
       "\n",
       "                                                    Path  Frequency  \n",
       "10299  file:///media/kristian/HDD/ASL_Citizen/ASL_Cit...          3  \n",
       "10300  file:///media/kristian/HDD/ASL_Citizen/ASL_Cit...          4  \n",
       "10301  file:///media/kristian/HDD/ASL_Citizen/ASL_Cit...          4  \n",
       "10302  file:///media/kristian/HDD/ASL_Citizen/ASL_Cit...          4  \n",
       "10303  file:///media/kristian/HDD/ASL_Citizen/ASL_Cit...          4  "
      ]
     },
     "execution_count": 35,
     "metadata": {},
     "output_type": "execute_result"
    }
   ],
   "source": [
    "valdf.tail()"
   ]
  },
  {
   "cell_type": "code",
   "execution_count": 36,
   "id": "b1578a6c",
   "metadata": {
    "ExecuteTime": {
     "end_time": "2023-08-08T18:37:37.009776Z",
     "start_time": "2023-08-08T18:37:36.598574Z"
    }
   },
   "outputs": [],
   "source": [
    "testdf = signvideodataframe('file:///media/kristian/HDD/ASL_Citizen/ASL_Citizen/splits/test.csv')"
   ]
  },
  {
   "cell_type": "code",
   "execution_count": 37,
   "id": "2a22044f",
   "metadata": {
    "ExecuteTime": {
     "end_time": "2023-08-08T18:37:43.261946Z",
     "start_time": "2023-08-08T18:37:43.253348Z"
    }
   },
   "outputs": [
    {
     "data": {
      "text/html": [
       "<div>\n",
       "<style scoped>\n",
       "    .dataframe tbody tr th:only-of-type {\n",
       "        vertical-align: middle;\n",
       "    }\n",
       "\n",
       "    .dataframe tbody tr th {\n",
       "        vertical-align: top;\n",
       "    }\n",
       "\n",
       "    .dataframe thead th {\n",
       "        text-align: right;\n",
       "    }\n",
       "</style>\n",
       "<table border=\"1\" class=\"dataframe\">\n",
       "  <thead>\n",
       "    <tr style=\"text-align: right;\">\n",
       "      <th></th>\n",
       "      <th>Participant ID</th>\n",
       "      <th>Video file</th>\n",
       "      <th>Gloss</th>\n",
       "      <th>ASL-LEX Code</th>\n",
       "      <th>Path</th>\n",
       "      <th>Frequency</th>\n",
       "    </tr>\n",
       "  </thead>\n",
       "  <tbody>\n",
       "    <tr>\n",
       "      <th>0</th>\n",
       "      <td>P18</td>\n",
       "      <td>23521769221811684-1 DOLLAR.mp4</td>\n",
       "      <td>1DOLLAR</td>\n",
       "      <td>C_02_025</td>\n",
       "      <td>file:///media/kristian/HDD/ASL_Citizen/ASL_Cit...</td>\n",
       "      <td>13</td>\n",
       "    </tr>\n",
       "    <tr>\n",
       "      <th>1</th>\n",
       "      <td>P42</td>\n",
       "      <td>023931338852502426-1 DOLLAR.mp4</td>\n",
       "      <td>1DOLLAR</td>\n",
       "      <td>C_02_025</td>\n",
       "      <td>file:///media/kristian/HDD/ASL_Citizen/ASL_Cit...</td>\n",
       "      <td>13</td>\n",
       "    </tr>\n",
       "    <tr>\n",
       "      <th>2</th>\n",
       "      <td>P49</td>\n",
       "      <td>4893817008748198-1 DOLLAR.mp4</td>\n",
       "      <td>1DOLLAR</td>\n",
       "      <td>C_02_025</td>\n",
       "      <td>file:///media/kristian/HDD/ASL_Citizen/ASL_Cit...</td>\n",
       "      <td>13</td>\n",
       "    </tr>\n",
       "    <tr>\n",
       "      <th>3</th>\n",
       "      <td>P17</td>\n",
       "      <td>13991818149960333-1 DOLLAR.mp4</td>\n",
       "      <td>1DOLLAR</td>\n",
       "      <td>C_02_025</td>\n",
       "      <td>file:///media/kristian/HDD/ASL_Citizen/ASL_Cit...</td>\n",
       "      <td>13</td>\n",
       "    </tr>\n",
       "    <tr>\n",
       "      <th>4</th>\n",
       "      <td>P49</td>\n",
       "      <td>34625615110480457-1 DOLLAR.mp4</td>\n",
       "      <td>1DOLLAR</td>\n",
       "      <td>C_02_025</td>\n",
       "      <td>file:///media/kristian/HDD/ASL_Citizen/ASL_Cit...</td>\n",
       "      <td>13</td>\n",
       "    </tr>\n",
       "  </tbody>\n",
       "</table>\n",
       "</div>"
      ],
      "text/plain": [
       "  Participant ID                       Video file    Gloss ASL-LEX Code  \\\n",
       "0            P18   23521769221811684-1 DOLLAR.mp4  1DOLLAR     C_02_025   \n",
       "1            P42  023931338852502426-1 DOLLAR.mp4  1DOLLAR     C_02_025   \n",
       "2            P49    4893817008748198-1 DOLLAR.mp4  1DOLLAR     C_02_025   \n",
       "3            P17   13991818149960333-1 DOLLAR.mp4  1DOLLAR     C_02_025   \n",
       "4            P49   34625615110480457-1 DOLLAR.mp4  1DOLLAR     C_02_025   \n",
       "\n",
       "                                                Path  Frequency  \n",
       "0  file:///media/kristian/HDD/ASL_Citizen/ASL_Cit...         13  \n",
       "1  file:///media/kristian/HDD/ASL_Citizen/ASL_Cit...         13  \n",
       "2  file:///media/kristian/HDD/ASL_Citizen/ASL_Cit...         13  \n",
       "3  file:///media/kristian/HDD/ASL_Citizen/ASL_Cit...         13  \n",
       "4  file:///media/kristian/HDD/ASL_Citizen/ASL_Cit...         13  "
      ]
     },
     "execution_count": 37,
     "metadata": {},
     "output_type": "execute_result"
    }
   ],
   "source": [
    "testdf.head()"
   ]
  },
  {
   "cell_type": "code",
   "execution_count": 38,
   "id": "0a4cd28e",
   "metadata": {
    "ExecuteTime": {
     "end_time": "2023-08-08T18:37:49.737037Z",
     "start_time": "2023-08-08T18:37:49.728656Z"
    }
   },
   "outputs": [
    {
     "data": {
      "text/html": [
       "<div>\n",
       "<style scoped>\n",
       "    .dataframe tbody tr th:only-of-type {\n",
       "        vertical-align: middle;\n",
       "    }\n",
       "\n",
       "    .dataframe tbody tr th {\n",
       "        vertical-align: top;\n",
       "    }\n",
       "\n",
       "    .dataframe thead th {\n",
       "        text-align: right;\n",
       "    }\n",
       "</style>\n",
       "<table border=\"1\" class=\"dataframe\">\n",
       "  <thead>\n",
       "    <tr style=\"text-align: right;\">\n",
       "      <th></th>\n",
       "      <th>Participant ID</th>\n",
       "      <th>Video file</th>\n",
       "      <th>Gloss</th>\n",
       "      <th>ASL-LEX Code</th>\n",
       "      <th>Path</th>\n",
       "      <th>Frequency</th>\n",
       "    </tr>\n",
       "  </thead>\n",
       "  <tbody>\n",
       "    <tr>\n",
       "      <th>32936</th>\n",
       "      <td>P18</td>\n",
       "      <td>4320702510886756-ZOOM OFF.mp4</td>\n",
       "      <td>ZOOMOFF</td>\n",
       "      <td>D_01_057</td>\n",
       "      <td>file:///media/kristian/HDD/ASL_Citizen/ASL_Cit...</td>\n",
       "      <td>13</td>\n",
       "    </tr>\n",
       "    <tr>\n",
       "      <th>32937</th>\n",
       "      <td>P9</td>\n",
       "      <td>7676354653247301-ZOOM OFF.mp4</td>\n",
       "      <td>ZOOMOFF</td>\n",
       "      <td>D_01_057</td>\n",
       "      <td>file:///media/kristian/HDD/ASL_Citizen/ASL_Cit...</td>\n",
       "      <td>13</td>\n",
       "    </tr>\n",
       "    <tr>\n",
       "      <th>32938</th>\n",
       "      <td>P47</td>\n",
       "      <td>5386272465310649-ZOOM OFF.mp4</td>\n",
       "      <td>ZOOMOFF</td>\n",
       "      <td>D_01_057</td>\n",
       "      <td>file:///media/kristian/HDD/ASL_Citizen/ASL_Cit...</td>\n",
       "      <td>13</td>\n",
       "    </tr>\n",
       "    <tr>\n",
       "      <th>32939</th>\n",
       "      <td>P18</td>\n",
       "      <td>738440364224181-ZOOM OFF.mp4</td>\n",
       "      <td>ZOOMOFF</td>\n",
       "      <td>D_01_057</td>\n",
       "      <td>file:///media/kristian/HDD/ASL_Citizen/ASL_Cit...</td>\n",
       "      <td>13</td>\n",
       "    </tr>\n",
       "    <tr>\n",
       "      <th>32940</th>\n",
       "      <td>P17</td>\n",
       "      <td>9953298353288469-ZOOM OFF.mp4</td>\n",
       "      <td>ZOOMOFF</td>\n",
       "      <td>D_01_057</td>\n",
       "      <td>file:///media/kristian/HDD/ASL_Citizen/ASL_Cit...</td>\n",
       "      <td>13</td>\n",
       "    </tr>\n",
       "  </tbody>\n",
       "</table>\n",
       "</div>"
      ],
      "text/plain": [
       "      Participant ID                     Video file    Gloss ASL-LEX Code  \\\n",
       "32936            P18  4320702510886756-ZOOM OFF.mp4  ZOOMOFF     D_01_057   \n",
       "32937             P9  7676354653247301-ZOOM OFF.mp4  ZOOMOFF     D_01_057   \n",
       "32938            P47  5386272465310649-ZOOM OFF.mp4  ZOOMOFF     D_01_057   \n",
       "32939            P18   738440364224181-ZOOM OFF.mp4  ZOOMOFF     D_01_057   \n",
       "32940            P17  9953298353288469-ZOOM OFF.mp4  ZOOMOFF     D_01_057   \n",
       "\n",
       "                                                    Path  Frequency  \n",
       "32936  file:///media/kristian/HDD/ASL_Citizen/ASL_Cit...         13  \n",
       "32937  file:///media/kristian/HDD/ASL_Citizen/ASL_Cit...         13  \n",
       "32938  file:///media/kristian/HDD/ASL_Citizen/ASL_Cit...         13  \n",
       "32939  file:///media/kristian/HDD/ASL_Citizen/ASL_Cit...         13  \n",
       "32940  file:///media/kristian/HDD/ASL_Citizen/ASL_Cit...         13  "
      ]
     },
     "execution_count": 38,
     "metadata": {},
     "output_type": "execute_result"
    }
   ],
   "source": [
    "testdf.tail()"
   ]
  },
  {
   "cell_type": "code",
   "execution_count": null,
   "id": "30a2e9d4",
   "metadata": {},
   "outputs": [],
   "source": []
  },
  {
   "cell_type": "code",
   "execution_count": 39,
   "id": "309b17ef",
   "metadata": {
    "ExecuteTime": {
     "end_time": "2023-08-08T18:37:56.231059Z",
     "start_time": "2023-08-08T18:37:56.226804Z"
    }
   },
   "outputs": [],
   "source": [
    "valdf = valdf[valdf['Gloss'].isin(words)]\n",
    "valdf = valdf.reset_index(drop=True)"
   ]
  },
  {
   "cell_type": "code",
   "execution_count": 40,
   "id": "17c21f12",
   "metadata": {
    "ExecuteTime": {
     "end_time": "2023-08-08T18:38:02.729740Z",
     "start_time": "2023-08-08T18:38:02.721446Z"
    }
   },
   "outputs": [
    {
     "data": {
      "text/html": [
       "<div>\n",
       "<style scoped>\n",
       "    .dataframe tbody tr th:only-of-type {\n",
       "        vertical-align: middle;\n",
       "    }\n",
       "\n",
       "    .dataframe tbody tr th {\n",
       "        vertical-align: top;\n",
       "    }\n",
       "\n",
       "    .dataframe thead th {\n",
       "        text-align: right;\n",
       "    }\n",
       "</style>\n",
       "<table border=\"1\" class=\"dataframe\">\n",
       "  <thead>\n",
       "    <tr style=\"text-align: right;\">\n",
       "      <th></th>\n",
       "      <th>Participant ID</th>\n",
       "      <th>Video file</th>\n",
       "      <th>Gloss</th>\n",
       "      <th>ASL-LEX Code</th>\n",
       "      <th>Path</th>\n",
       "      <th>Frequency</th>\n",
       "    </tr>\n",
       "  </thead>\n",
       "  <tbody>\n",
       "    <tr>\n",
       "      <th>0</th>\n",
       "      <td>P39</td>\n",
       "      <td>19778675091674147-AXE.mp4</td>\n",
       "      <td>AXE1</td>\n",
       "      <td>G_03_066</td>\n",
       "      <td>file:///media/kristian/HDD/ASL_Citizen/ASL_Cit...</td>\n",
       "      <td>4</td>\n",
       "    </tr>\n",
       "    <tr>\n",
       "      <th>1</th>\n",
       "      <td>P26</td>\n",
       "      <td>8581142177964065-AXE.mp4</td>\n",
       "      <td>AXE1</td>\n",
       "      <td>G_03_066</td>\n",
       "      <td>file:///media/kristian/HDD/ASL_Citizen/ASL_Cit...</td>\n",
       "      <td>4</td>\n",
       "    </tr>\n",
       "    <tr>\n",
       "      <th>2</th>\n",
       "      <td>P39</td>\n",
       "      <td>3877478645046861-AXE.mp4</td>\n",
       "      <td>AXE1</td>\n",
       "      <td>G_03_066</td>\n",
       "      <td>file:///media/kristian/HDD/ASL_Citizen/ASL_Cit...</td>\n",
       "      <td>4</td>\n",
       "    </tr>\n",
       "    <tr>\n",
       "      <th>3</th>\n",
       "      <td>P21</td>\n",
       "      <td>8521417940364975-AXE.mp4</td>\n",
       "      <td>AXE1</td>\n",
       "      <td>G_03_066</td>\n",
       "      <td>file:///media/kristian/HDD/ASL_Citizen/ASL_Cit...</td>\n",
       "      <td>4</td>\n",
       "    </tr>\n",
       "    <tr>\n",
       "      <th>4</th>\n",
       "      <td>P5</td>\n",
       "      <td>9990244640190733-BACKPACK.mp4</td>\n",
       "      <td>BACKPACK1</td>\n",
       "      <td>G_03_091</td>\n",
       "      <td>file:///media/kristian/HDD/ASL_Citizen/ASL_Cit...</td>\n",
       "      <td>3</td>\n",
       "    </tr>\n",
       "  </tbody>\n",
       "</table>\n",
       "</div>"
      ],
      "text/plain": [
       "  Participant ID                     Video file      Gloss ASL-LEX Code  \\\n",
       "0            P39      19778675091674147-AXE.mp4       AXE1     G_03_066   \n",
       "1            P26       8581142177964065-AXE.mp4       AXE1     G_03_066   \n",
       "2            P39       3877478645046861-AXE.mp4       AXE1     G_03_066   \n",
       "3            P21       8521417940364975-AXE.mp4       AXE1     G_03_066   \n",
       "4             P5  9990244640190733-BACKPACK.mp4  BACKPACK1     G_03_091   \n",
       "\n",
       "                                                Path  Frequency  \n",
       "0  file:///media/kristian/HDD/ASL_Citizen/ASL_Cit...          4  \n",
       "1  file:///media/kristian/HDD/ASL_Citizen/ASL_Cit...          4  \n",
       "2  file:///media/kristian/HDD/ASL_Citizen/ASL_Cit...          4  \n",
       "3  file:///media/kristian/HDD/ASL_Citizen/ASL_Cit...          4  \n",
       "4  file:///media/kristian/HDD/ASL_Citizen/ASL_Cit...          3  "
      ]
     },
     "execution_count": 40,
     "metadata": {},
     "output_type": "execute_result"
    }
   ],
   "source": [
    "valdf.head()"
   ]
  },
  {
   "cell_type": "code",
   "execution_count": 41,
   "id": "bc330590",
   "metadata": {
    "ExecuteTime": {
     "end_time": "2023-08-08T18:38:11.412425Z",
     "start_time": "2023-08-08T18:38:11.403932Z"
    }
   },
   "outputs": [
    {
     "data": {
      "text/html": [
       "<div>\n",
       "<style scoped>\n",
       "    .dataframe tbody tr th:only-of-type {\n",
       "        vertical-align: middle;\n",
       "    }\n",
       "\n",
       "    .dataframe tbody tr th {\n",
       "        vertical-align: top;\n",
       "    }\n",
       "\n",
       "    .dataframe thead th {\n",
       "        text-align: right;\n",
       "    }\n",
       "</style>\n",
       "<table border=\"1\" class=\"dataframe\">\n",
       "  <thead>\n",
       "    <tr style=\"text-align: right;\">\n",
       "      <th></th>\n",
       "      <th>Participant ID</th>\n",
       "      <th>Video file</th>\n",
       "      <th>Gloss</th>\n",
       "      <th>ASL-LEX Code</th>\n",
       "      <th>Path</th>\n",
       "      <th>Frequency</th>\n",
       "    </tr>\n",
       "  </thead>\n",
       "  <tbody>\n",
       "    <tr>\n",
       "      <th>186</th>\n",
       "      <td>P26</td>\n",
       "      <td>032677896012150764-WHAT FOR.mp4</td>\n",
       "      <td>WHATFOR1</td>\n",
       "      <td>C_02_054</td>\n",
       "      <td>file:///media/kristian/HDD/ASL_Citizen/ASL_Cit...</td>\n",
       "      <td>5</td>\n",
       "    </tr>\n",
       "    <tr>\n",
       "      <th>187</th>\n",
       "      <td>P5</td>\n",
       "      <td>6523145816470133-WHAT FOR.mp4</td>\n",
       "      <td>WHATFOR1</td>\n",
       "      <td>C_02_054</td>\n",
       "      <td>file:///media/kristian/HDD/ASL_Citizen/ASL_Cit...</td>\n",
       "      <td>5</td>\n",
       "    </tr>\n",
       "    <tr>\n",
       "      <th>188</th>\n",
       "      <td>P39</td>\n",
       "      <td>0283886564670357-WHAT FOR.mp4</td>\n",
       "      <td>WHATFOR1</td>\n",
       "      <td>C_02_054</td>\n",
       "      <td>file:///media/kristian/HDD/ASL_Citizen/ASL_Cit...</td>\n",
       "      <td>5</td>\n",
       "    </tr>\n",
       "    <tr>\n",
       "      <th>189</th>\n",
       "      <td>P21</td>\n",
       "      <td>6142521746642153-WHAT FOR.mp4</td>\n",
       "      <td>WHATFOR1</td>\n",
       "      <td>C_02_054</td>\n",
       "      <td>file:///media/kristian/HDD/ASL_Citizen/ASL_Cit...</td>\n",
       "      <td>5</td>\n",
       "    </tr>\n",
       "    <tr>\n",
       "      <th>190</th>\n",
       "      <td>P12</td>\n",
       "      <td>06408604416165864-WHAT FOR.mp4</td>\n",
       "      <td>WHATFOR1</td>\n",
       "      <td>C_02_054</td>\n",
       "      <td>file:///media/kristian/HDD/ASL_Citizen/ASL_Cit...</td>\n",
       "      <td>5</td>\n",
       "    </tr>\n",
       "  </tbody>\n",
       "</table>\n",
       "</div>"
      ],
      "text/plain": [
       "    Participant ID                       Video file     Gloss ASL-LEX Code  \\\n",
       "186            P26  032677896012150764-WHAT FOR.mp4  WHATFOR1     C_02_054   \n",
       "187             P5    6523145816470133-WHAT FOR.mp4  WHATFOR1     C_02_054   \n",
       "188            P39    0283886564670357-WHAT FOR.mp4  WHATFOR1     C_02_054   \n",
       "189            P21    6142521746642153-WHAT FOR.mp4  WHATFOR1     C_02_054   \n",
       "190            P12   06408604416165864-WHAT FOR.mp4  WHATFOR1     C_02_054   \n",
       "\n",
       "                                                  Path  Frequency  \n",
       "186  file:///media/kristian/HDD/ASL_Citizen/ASL_Cit...          5  \n",
       "187  file:///media/kristian/HDD/ASL_Citizen/ASL_Cit...          5  \n",
       "188  file:///media/kristian/HDD/ASL_Citizen/ASL_Cit...          5  \n",
       "189  file:///media/kristian/HDD/ASL_Citizen/ASL_Cit...          5  \n",
       "190  file:///media/kristian/HDD/ASL_Citizen/ASL_Cit...          5  "
      ]
     },
     "execution_count": 41,
     "metadata": {},
     "output_type": "execute_result"
    }
   ],
   "source": [
    "valdf.tail()"
   ]
  },
  {
   "cell_type": "code",
   "execution_count": null,
   "id": "f0182060",
   "metadata": {
    "ExecuteTime": {
     "end_time": "2023-08-04T13:08:33.954653Z",
     "start_time": "2023-08-04T13:08:33.951157Z"
    }
   },
   "outputs": [],
   "source": []
  },
  {
   "cell_type": "code",
   "execution_count": 42,
   "id": "d4dac473",
   "metadata": {
    "ExecuteTime": {
     "end_time": "2023-08-08T18:38:17.565104Z",
     "start_time": "2023-08-08T18:38:17.560059Z"
    }
   },
   "outputs": [
    {
     "data": {
      "text/plain": [
       "50"
      ]
     },
     "execution_count": 42,
     "metadata": {},
     "output_type": "execute_result"
    }
   ],
   "source": [
    "valdf['Gloss'].nunique()"
   ]
  },
  {
   "cell_type": "code",
   "execution_count": 43,
   "id": "252e3a11",
   "metadata": {
    "ExecuteTime": {
     "end_time": "2023-08-08T18:38:24.035420Z",
     "start_time": "2023-08-08T18:38:24.025647Z"
    }
   },
   "outputs": [
    {
     "data": {
      "text/html": [
       "<div>\n",
       "<style scoped>\n",
       "    .dataframe tbody tr th:only-of-type {\n",
       "        vertical-align: middle;\n",
       "    }\n",
       "\n",
       "    .dataframe tbody tr th {\n",
       "        vertical-align: top;\n",
       "    }\n",
       "\n",
       "    .dataframe thead th {\n",
       "        text-align: right;\n",
       "    }\n",
       "</style>\n",
       "<table border=\"1\" class=\"dataframe\">\n",
       "  <thead>\n",
       "    <tr style=\"text-align: right;\">\n",
       "      <th></th>\n",
       "      <th>Frequency</th>\n",
       "    </tr>\n",
       "  </thead>\n",
       "  <tbody>\n",
       "    <tr>\n",
       "      <th>count</th>\n",
       "      <td>191.000000</td>\n",
       "    </tr>\n",
       "    <tr>\n",
       "      <th>mean</th>\n",
       "      <td>3.963351</td>\n",
       "    </tr>\n",
       "    <tr>\n",
       "      <th>std</th>\n",
       "      <td>0.770316</td>\n",
       "    </tr>\n",
       "    <tr>\n",
       "      <th>min</th>\n",
       "      <td>3.000000</td>\n",
       "    </tr>\n",
       "    <tr>\n",
       "      <th>25%</th>\n",
       "      <td>3.000000</td>\n",
       "    </tr>\n",
       "    <tr>\n",
       "      <th>50%</th>\n",
       "      <td>4.000000</td>\n",
       "    </tr>\n",
       "    <tr>\n",
       "      <th>75%</th>\n",
       "      <td>4.000000</td>\n",
       "    </tr>\n",
       "    <tr>\n",
       "      <th>max</th>\n",
       "      <td>6.000000</td>\n",
       "    </tr>\n",
       "  </tbody>\n",
       "</table>\n",
       "</div>"
      ],
      "text/plain": [
       "        Frequency\n",
       "count  191.000000\n",
       "mean     3.963351\n",
       "std      0.770316\n",
       "min      3.000000\n",
       "25%      3.000000\n",
       "50%      4.000000\n",
       "75%      4.000000\n",
       "max      6.000000"
      ]
     },
     "execution_count": 43,
     "metadata": {},
     "output_type": "execute_result"
    }
   ],
   "source": [
    "valdf.describe()"
   ]
  },
  {
   "cell_type": "code",
   "execution_count": 44,
   "id": "a1bab0d3",
   "metadata": {
    "ExecuteTime": {
     "end_time": "2023-08-08T18:38:30.596173Z",
     "start_time": "2023-08-08T18:38:30.587662Z"
    }
   },
   "outputs": [
    {
     "data": {
      "text/html": [
       "<div>\n",
       "<style scoped>\n",
       "    .dataframe tbody tr th:only-of-type {\n",
       "        vertical-align: middle;\n",
       "    }\n",
       "\n",
       "    .dataframe tbody tr th {\n",
       "        vertical-align: top;\n",
       "    }\n",
       "\n",
       "    .dataframe thead th {\n",
       "        text-align: right;\n",
       "    }\n",
       "</style>\n",
       "<table border=\"1\" class=\"dataframe\">\n",
       "  <thead>\n",
       "    <tr style=\"text-align: right;\">\n",
       "      <th></th>\n",
       "      <th>Participant ID</th>\n",
       "      <th>Video file</th>\n",
       "      <th>Gloss</th>\n",
       "      <th>ASL-LEX Code</th>\n",
       "      <th>Path</th>\n",
       "      <th>Frequency</th>\n",
       "    </tr>\n",
       "  </thead>\n",
       "  <tbody>\n",
       "    <tr>\n",
       "      <th>0</th>\n",
       "      <td>P39</td>\n",
       "      <td>19778675091674147-AXE.mp4</td>\n",
       "      <td>AXE1</td>\n",
       "      <td>G_03_066</td>\n",
       "      <td>file:///media/kristian/HDD/ASL_Citizen/ASL_Cit...</td>\n",
       "      <td>4</td>\n",
       "    </tr>\n",
       "    <tr>\n",
       "      <th>1</th>\n",
       "      <td>P26</td>\n",
       "      <td>8581142177964065-AXE.mp4</td>\n",
       "      <td>AXE1</td>\n",
       "      <td>G_03_066</td>\n",
       "      <td>file:///media/kristian/HDD/ASL_Citizen/ASL_Cit...</td>\n",
       "      <td>4</td>\n",
       "    </tr>\n",
       "    <tr>\n",
       "      <th>2</th>\n",
       "      <td>P39</td>\n",
       "      <td>3877478645046861-AXE.mp4</td>\n",
       "      <td>AXE1</td>\n",
       "      <td>G_03_066</td>\n",
       "      <td>file:///media/kristian/HDD/ASL_Citizen/ASL_Cit...</td>\n",
       "      <td>4</td>\n",
       "    </tr>\n",
       "    <tr>\n",
       "      <th>3</th>\n",
       "      <td>P21</td>\n",
       "      <td>8521417940364975-AXE.mp4</td>\n",
       "      <td>AXE1</td>\n",
       "      <td>G_03_066</td>\n",
       "      <td>file:///media/kristian/HDD/ASL_Citizen/ASL_Cit...</td>\n",
       "      <td>4</td>\n",
       "    </tr>\n",
       "    <tr>\n",
       "      <th>4</th>\n",
       "      <td>P5</td>\n",
       "      <td>9990244640190733-BACKPACK.mp4</td>\n",
       "      <td>BACKPACK1</td>\n",
       "      <td>G_03_091</td>\n",
       "      <td>file:///media/kristian/HDD/ASL_Citizen/ASL_Cit...</td>\n",
       "      <td>3</td>\n",
       "    </tr>\n",
       "  </tbody>\n",
       "</table>\n",
       "</div>"
      ],
      "text/plain": [
       "  Participant ID                     Video file      Gloss ASL-LEX Code  \\\n",
       "0            P39      19778675091674147-AXE.mp4       AXE1     G_03_066   \n",
       "1            P26       8581142177964065-AXE.mp4       AXE1     G_03_066   \n",
       "2            P39       3877478645046861-AXE.mp4       AXE1     G_03_066   \n",
       "3            P21       8521417940364975-AXE.mp4       AXE1     G_03_066   \n",
       "4             P5  9990244640190733-BACKPACK.mp4  BACKPACK1     G_03_091   \n",
       "\n",
       "                                                Path  Frequency  \n",
       "0  file:///media/kristian/HDD/ASL_Citizen/ASL_Cit...          4  \n",
       "1  file:///media/kristian/HDD/ASL_Citizen/ASL_Cit...          4  \n",
       "2  file:///media/kristian/HDD/ASL_Citizen/ASL_Cit...          4  \n",
       "3  file:///media/kristian/HDD/ASL_Citizen/ASL_Cit...          4  \n",
       "4  file:///media/kristian/HDD/ASL_Citizen/ASL_Cit...          3  "
      ]
     },
     "execution_count": 44,
     "metadata": {},
     "output_type": "execute_result"
    }
   ],
   "source": [
    "valdf.head()"
   ]
  },
  {
   "cell_type": "code",
   "execution_count": 45,
   "id": "34fb9081",
   "metadata": {
    "ExecuteTime": {
     "end_time": "2023-08-08T18:38:37.294906Z",
     "start_time": "2023-08-08T18:38:37.287903Z"
    }
   },
   "outputs": [],
   "source": [
    "testdf = testdf[testdf['Gloss'].isin(words)]\n",
    "testdf = testdf.reset_index(drop=True)"
   ]
  },
  {
   "cell_type": "code",
   "execution_count": 46,
   "id": "ca06885e",
   "metadata": {
    "ExecuteTime": {
     "end_time": "2023-08-08T18:38:43.832789Z",
     "start_time": "2023-08-08T18:38:43.828315Z"
    }
   },
   "outputs": [
    {
     "data": {
      "text/plain": [
       "50"
      ]
     },
     "execution_count": 46,
     "metadata": {},
     "output_type": "execute_result"
    }
   ],
   "source": [
    "testdf['Gloss'].nunique()"
   ]
  },
  {
   "cell_type": "code",
   "execution_count": 47,
   "id": "da2567e4",
   "metadata": {
    "ExecuteTime": {
     "end_time": "2023-08-08T18:38:50.286337Z",
     "start_time": "2023-08-08T18:38:50.276731Z"
    }
   },
   "outputs": [
    {
     "data": {
      "text/html": [
       "<div>\n",
       "<style scoped>\n",
       "    .dataframe tbody tr th:only-of-type {\n",
       "        vertical-align: middle;\n",
       "    }\n",
       "\n",
       "    .dataframe tbody tr th {\n",
       "        vertical-align: top;\n",
       "    }\n",
       "\n",
       "    .dataframe thead th {\n",
       "        text-align: right;\n",
       "    }\n",
       "</style>\n",
       "<table border=\"1\" class=\"dataframe\">\n",
       "  <thead>\n",
       "    <tr style=\"text-align: right;\">\n",
       "      <th></th>\n",
       "      <th>Participant ID</th>\n",
       "      <th>Video file</th>\n",
       "      <th>Gloss</th>\n",
       "      <th>ASL-LEX Code</th>\n",
       "      <th>Path</th>\n",
       "      <th>Frequency</th>\n",
       "    </tr>\n",
       "  </thead>\n",
       "  <tbody>\n",
       "    <tr>\n",
       "      <th>0</th>\n",
       "      <td>P15</td>\n",
       "      <td>33721516025652254-AXE.mp4</td>\n",
       "      <td>AXE1</td>\n",
       "      <td>G_03_066</td>\n",
       "      <td>file:///media/kristian/HDD/ASL_Citizen/ASL_Cit...</td>\n",
       "      <td>15</td>\n",
       "    </tr>\n",
       "    <tr>\n",
       "      <th>1</th>\n",
       "      <td>P47</td>\n",
       "      <td>519067006979435-AXE.mp4</td>\n",
       "      <td>AXE1</td>\n",
       "      <td>G_03_066</td>\n",
       "      <td>file:///media/kristian/HDD/ASL_Citizen/ASL_Cit...</td>\n",
       "      <td>15</td>\n",
       "    </tr>\n",
       "    <tr>\n",
       "      <th>2</th>\n",
       "      <td>P35</td>\n",
       "      <td>5104381603195376-AXE.mp4</td>\n",
       "      <td>AXE1</td>\n",
       "      <td>G_03_066</td>\n",
       "      <td>file:///media/kristian/HDD/ASL_Citizen/ASL_Cit...</td>\n",
       "      <td>15</td>\n",
       "    </tr>\n",
       "    <tr>\n",
       "      <th>3</th>\n",
       "      <td>P42</td>\n",
       "      <td>44458614013793873-AXE.mp4</td>\n",
       "      <td>AXE1</td>\n",
       "      <td>G_03_066</td>\n",
       "      <td>file:///media/kristian/HDD/ASL_Citizen/ASL_Cit...</td>\n",
       "      <td>15</td>\n",
       "    </tr>\n",
       "    <tr>\n",
       "      <th>4</th>\n",
       "      <td>P42</td>\n",
       "      <td>9604797909481075-AXE.mp4</td>\n",
       "      <td>AXE1</td>\n",
       "      <td>G_03_066</td>\n",
       "      <td>file:///media/kristian/HDD/ASL_Citizen/ASL_Cit...</td>\n",
       "      <td>15</td>\n",
       "    </tr>\n",
       "  </tbody>\n",
       "</table>\n",
       "</div>"
      ],
      "text/plain": [
       "  Participant ID                 Video file Gloss ASL-LEX Code  \\\n",
       "0            P15  33721516025652254-AXE.mp4  AXE1     G_03_066   \n",
       "1            P47    519067006979435-AXE.mp4  AXE1     G_03_066   \n",
       "2            P35   5104381603195376-AXE.mp4  AXE1     G_03_066   \n",
       "3            P42  44458614013793873-AXE.mp4  AXE1     G_03_066   \n",
       "4            P42   9604797909481075-AXE.mp4  AXE1     G_03_066   \n",
       "\n",
       "                                                Path  Frequency  \n",
       "0  file:///media/kristian/HDD/ASL_Citizen/ASL_Cit...         15  \n",
       "1  file:///media/kristian/HDD/ASL_Citizen/ASL_Cit...         15  \n",
       "2  file:///media/kristian/HDD/ASL_Citizen/ASL_Cit...         15  \n",
       "3  file:///media/kristian/HDD/ASL_Citizen/ASL_Cit...         15  \n",
       "4  file:///media/kristian/HDD/ASL_Citizen/ASL_Cit...         15  "
      ]
     },
     "execution_count": 47,
     "metadata": {},
     "output_type": "execute_result"
    }
   ],
   "source": [
    "testdf.head()"
   ]
  },
  {
   "cell_type": "code",
   "execution_count": 48,
   "id": "3282f968",
   "metadata": {
    "ExecuteTime": {
     "end_time": "2023-08-08T18:38:56.882719Z",
     "start_time": "2023-08-08T18:38:56.874596Z"
    }
   },
   "outputs": [
    {
     "data": {
      "text/html": [
       "<div>\n",
       "<style scoped>\n",
       "    .dataframe tbody tr th:only-of-type {\n",
       "        vertical-align: middle;\n",
       "    }\n",
       "\n",
       "    .dataframe tbody tr th {\n",
       "        vertical-align: top;\n",
       "    }\n",
       "\n",
       "    .dataframe thead th {\n",
       "        text-align: right;\n",
       "    }\n",
       "</style>\n",
       "<table border=\"1\" class=\"dataframe\">\n",
       "  <thead>\n",
       "    <tr style=\"text-align: right;\">\n",
       "      <th></th>\n",
       "      <th>Participant ID</th>\n",
       "      <th>Video file</th>\n",
       "      <th>Gloss</th>\n",
       "      <th>ASL-LEX Code</th>\n",
       "      <th>Path</th>\n",
       "      <th>Frequency</th>\n",
       "    </tr>\n",
       "  </thead>\n",
       "  <tbody>\n",
       "    <tr>\n",
       "      <th>724</th>\n",
       "      <td>P42</td>\n",
       "      <td>3448123355846451-WHAT FOR.mp4</td>\n",
       "      <td>WHATFOR1</td>\n",
       "      <td>C_02_054</td>\n",
       "      <td>file:///media/kristian/HDD/ASL_Citizen/ASL_Cit...</td>\n",
       "      <td>18</td>\n",
       "    </tr>\n",
       "    <tr>\n",
       "      <th>725</th>\n",
       "      <td>P47</td>\n",
       "      <td>034046510887022485-WHAT FOR.mp4</td>\n",
       "      <td>WHATFOR1</td>\n",
       "      <td>C_02_054</td>\n",
       "      <td>file:///media/kristian/HDD/ASL_Citizen/ASL_Cit...</td>\n",
       "      <td>18</td>\n",
       "    </tr>\n",
       "    <tr>\n",
       "      <th>726</th>\n",
       "      <td>P22</td>\n",
       "      <td>9359050586202402-WHAT FOR.mp4</td>\n",
       "      <td>WHATFOR1</td>\n",
       "      <td>C_02_054</td>\n",
       "      <td>file:///media/kristian/HDD/ASL_Citizen/ASL_Cit...</td>\n",
       "      <td>18</td>\n",
       "    </tr>\n",
       "    <tr>\n",
       "      <th>727</th>\n",
       "      <td>P42</td>\n",
       "      <td>2748457214117681-WHAT FOR.mp4</td>\n",
       "      <td>WHATFOR1</td>\n",
       "      <td>C_02_054</td>\n",
       "      <td>file:///media/kristian/HDD/ASL_Citizen/ASL_Cit...</td>\n",
       "      <td>18</td>\n",
       "    </tr>\n",
       "    <tr>\n",
       "      <th>728</th>\n",
       "      <td>P15</td>\n",
       "      <td>540014801916062-WHAT FOR.mp4</td>\n",
       "      <td>WHATFOR1</td>\n",
       "      <td>C_02_054</td>\n",
       "      <td>file:///media/kristian/HDD/ASL_Citizen/ASL_Cit...</td>\n",
       "      <td>18</td>\n",
       "    </tr>\n",
       "  </tbody>\n",
       "</table>\n",
       "</div>"
      ],
      "text/plain": [
       "    Participant ID                       Video file     Gloss ASL-LEX Code  \\\n",
       "724            P42    3448123355846451-WHAT FOR.mp4  WHATFOR1     C_02_054   \n",
       "725            P47  034046510887022485-WHAT FOR.mp4  WHATFOR1     C_02_054   \n",
       "726            P22    9359050586202402-WHAT FOR.mp4  WHATFOR1     C_02_054   \n",
       "727            P42    2748457214117681-WHAT FOR.mp4  WHATFOR1     C_02_054   \n",
       "728            P15     540014801916062-WHAT FOR.mp4  WHATFOR1     C_02_054   \n",
       "\n",
       "                                                  Path  Frequency  \n",
       "724  file:///media/kristian/HDD/ASL_Citizen/ASL_Cit...         18  \n",
       "725  file:///media/kristian/HDD/ASL_Citizen/ASL_Cit...         18  \n",
       "726  file:///media/kristian/HDD/ASL_Citizen/ASL_Cit...         18  \n",
       "727  file:///media/kristian/HDD/ASL_Citizen/ASL_Cit...         18  \n",
       "728  file:///media/kristian/HDD/ASL_Citizen/ASL_Cit...         18  "
      ]
     },
     "execution_count": 48,
     "metadata": {},
     "output_type": "execute_result"
    }
   ],
   "source": [
    "testdf.tail()"
   ]
  },
  {
   "cell_type": "code",
   "execution_count": 49,
   "id": "71973869",
   "metadata": {
    "ExecuteTime": {
     "end_time": "2023-08-08T18:39:03.426044Z",
     "start_time": "2023-08-08T18:39:03.416435Z"
    }
   },
   "outputs": [
    {
     "data": {
      "text/html": [
       "<div>\n",
       "<style scoped>\n",
       "    .dataframe tbody tr th:only-of-type {\n",
       "        vertical-align: middle;\n",
       "    }\n",
       "\n",
       "    .dataframe tbody tr th {\n",
       "        vertical-align: top;\n",
       "    }\n",
       "\n",
       "    .dataframe thead th {\n",
       "        text-align: right;\n",
       "    }\n",
       "</style>\n",
       "<table border=\"1\" class=\"dataframe\">\n",
       "  <thead>\n",
       "    <tr style=\"text-align: right;\">\n",
       "      <th></th>\n",
       "      <th>Frequency</th>\n",
       "    </tr>\n",
       "  </thead>\n",
       "  <tbody>\n",
       "    <tr>\n",
       "      <th>count</th>\n",
       "      <td>729.000000</td>\n",
       "    </tr>\n",
       "    <tr>\n",
       "      <th>mean</th>\n",
       "      <td>14.978052</td>\n",
       "    </tr>\n",
       "    <tr>\n",
       "      <th>std</th>\n",
       "      <td>2.229192</td>\n",
       "    </tr>\n",
       "    <tr>\n",
       "      <th>min</th>\n",
       "      <td>9.000000</td>\n",
       "    </tr>\n",
       "    <tr>\n",
       "      <th>25%</th>\n",
       "      <td>14.000000</td>\n",
       "    </tr>\n",
       "    <tr>\n",
       "      <th>50%</th>\n",
       "      <td>15.000000</td>\n",
       "    </tr>\n",
       "    <tr>\n",
       "      <th>75%</th>\n",
       "      <td>16.000000</td>\n",
       "    </tr>\n",
       "    <tr>\n",
       "      <th>max</th>\n",
       "      <td>20.000000</td>\n",
       "    </tr>\n",
       "  </tbody>\n",
       "</table>\n",
       "</div>"
      ],
      "text/plain": [
       "        Frequency\n",
       "count  729.000000\n",
       "mean    14.978052\n",
       "std      2.229192\n",
       "min      9.000000\n",
       "25%     14.000000\n",
       "50%     15.000000\n",
       "75%     16.000000\n",
       "max     20.000000"
      ]
     },
     "execution_count": 49,
     "metadata": {},
     "output_type": "execute_result"
    }
   ],
   "source": [
    "testdf.describe()"
   ]
  },
  {
   "cell_type": "code",
   "execution_count": 50,
   "id": "6afdda5e",
   "metadata": {
    "ExecuteTime": {
     "end_time": "2023-08-08T18:39:10.029039Z",
     "start_time": "2023-08-08T18:39:10.021550Z"
    }
   },
   "outputs": [],
   "source": [
    "traindf['Gloss'] = traindf['Gloss'].str.replace('\\d+', '',regex=True)\n",
    "valdf['Gloss'] = valdf['Gloss'].str.replace('\\d+', '',regex=True)\n",
    "testdf['Gloss'] = testdf['Gloss'].str.replace('\\d+', '',regex=True)"
   ]
  },
  {
   "cell_type": "code",
   "execution_count": 51,
   "id": "327c7f6e",
   "metadata": {
    "ExecuteTime": {
     "end_time": "2023-08-08T18:39:16.550670Z",
     "start_time": "2023-08-08T18:39:16.546434Z"
    }
   },
   "outputs": [
    {
     "data": {
      "text/plain": [
       "array(['AXE', 'BACKPACK', 'BASKETBALL', 'BEE', 'BELT', 'BITE',\n",
       "       'BREAKFAST', 'CANCER', 'CHRISTMAS', 'CONFUSED', 'DARK', 'DEAF',\n",
       "       'DECIDE', 'DEMAND', 'DEVELOP', 'DINNER', 'DOG', 'DOWNSIZE', 'DRAG',\n",
       "       'EAT', 'EDIT', 'ELEVATOR', 'FINE', 'FLOAT', 'FOREIGNER', 'GUESS',\n",
       "       'HALLOWEEN', 'HOSPITAL', 'HURDLE/TRIP', 'JEWELRY', 'KNIGHT',\n",
       "       'LOCK', 'LUNCH', 'MAPLE', 'MEAT', 'MECHANIC', 'MICROSCOPE',\n",
       "       'MOVIE', 'NOON', 'PARTY', 'PATIENT', 'RAZOR', 'RIVER',\n",
       "       'ROCKINGCHAIR', 'SHAVE', 'SINK', 'SQUEEZE', 'THEY', 'TWINS',\n",
       "       'WHATFOR'], dtype=object)"
      ]
     },
     "execution_count": 51,
     "metadata": {},
     "output_type": "execute_result"
    }
   ],
   "source": [
    "words = traindf['Gloss'].unique()\n",
    "words"
   ]
  },
  {
   "cell_type": "code",
   "execution_count": 52,
   "id": "a6cfb4eb",
   "metadata": {
    "ExecuteTime": {
     "end_time": "2023-08-08T18:39:23.170101Z",
     "start_time": "2023-08-08T18:39:23.165690Z"
    }
   },
   "outputs": [
    {
     "data": {
      "text/plain": [
       "array(['AXE', 'BACKPACK', 'BASKETBALL', 'BEE', 'BELT', 'BITE',\n",
       "       'BREAKFAST', 'CANCER', 'CHRISTMAS', 'CONFUSED', 'DARK', 'DEAF',\n",
       "       'DECIDE', 'DEMAND', 'DEVELOP', 'DINNER', 'DOG', 'DOWNSIZE', 'DRAG',\n",
       "       'EAT', 'EDIT', 'ELEVATOR', 'FINE', 'FLOAT', 'FOREIGNER', 'GUESS',\n",
       "       'HALLOWEEN', 'HOSPITAL', 'HURDLE/TRIP', 'JEWELRY', 'KNIGHT',\n",
       "       'LOCK', 'LUNCH', 'MAPLE', 'MEAT', 'MECHANIC', 'MICROSCOPE',\n",
       "       'MOVIE', 'NOON', 'PARTY', 'PATIENT', 'RAZOR', 'RIVER',\n",
       "       'ROCKINGCHAIR', 'SHAVE', 'SINK', 'SQUEEZE', 'THEY', 'TWINS',\n",
       "       'WHATFOR'], dtype=object)"
      ]
     },
     "execution_count": 52,
     "metadata": {},
     "output_type": "execute_result"
    }
   ],
   "source": [
    "words = valdf['Gloss'].unique()\n",
    "words"
   ]
  },
  {
   "cell_type": "code",
   "execution_count": 53,
   "id": "dcfaf16e",
   "metadata": {
    "ExecuteTime": {
     "end_time": "2023-08-08T18:39:29.704200Z",
     "start_time": "2023-08-08T18:39:29.699422Z"
    }
   },
   "outputs": [
    {
     "data": {
      "text/plain": [
       "array(['AXE', 'BACKPACK', 'BASKETBALL', 'BEE', 'BELT', 'BITE',\n",
       "       'BREAKFAST', 'CANCER', 'CHRISTMAS', 'CONFUSED', 'DARK', 'DEAF',\n",
       "       'DECIDE', 'DEMAND', 'DEVELOP', 'DINNER', 'DOG', 'DOWNSIZE', 'DRAG',\n",
       "       'EAT', 'EDIT', 'ELEVATOR', 'FINE', 'FLOAT', 'FOREIGNER', 'GUESS',\n",
       "       'HALLOWEEN', 'HOSPITAL', 'HURDLE/TRIP', 'JEWELRY', 'KNIGHT',\n",
       "       'LOCK', 'LUNCH', 'MAPLE', 'MEAT', 'MECHANIC', 'MICROSCOPE',\n",
       "       'MOVIE', 'NOON', 'PARTY', 'PATIENT', 'RAZOR', 'RIVER',\n",
       "       'ROCKINGCHAIR', 'SHAVE', 'SINK', 'SQUEEZE', 'THEY', 'TWINS',\n",
       "       'WHATFOR'], dtype=object)"
      ]
     },
     "execution_count": 53,
     "metadata": {},
     "output_type": "execute_result"
    }
   ],
   "source": [
    "words = testdf['Gloss'].unique()\n",
    "words"
   ]
  },
  {
   "cell_type": "code",
   "execution_count": 54,
   "id": "fd22d14f",
   "metadata": {
    "ExecuteTime": {
     "end_time": "2023-08-08T18:39:36.329876Z",
     "start_time": "2023-08-08T18:39:36.325715Z"
    }
   },
   "outputs": [
    {
     "name": "stdout",
     "output_type": "stream",
     "text": [
      "50\n",
      "50\n",
      "50\n"
     ]
    }
   ],
   "source": [
    "print(traindf['Gloss'].nunique())\n",
    "print(valdf['Gloss'].nunique())\n",
    "print(testdf['Gloss'].nunique())"
   ]
  },
  {
   "cell_type": "code",
   "execution_count": 59,
   "id": "ad70c4fa",
   "metadata": {
    "ExecuteTime": {
     "end_time": "2023-08-08T18:40:53.670693Z",
     "start_time": "2023-08-08T18:40:34.974893Z"
    }
   },
   "outputs": [],
   "source": [
    "cap = cv2.VideoCapture(traindf.Path[0])\n",
    "#cap = cv2.VideoCapture(0)\n",
    "\n",
    "with mp_holistic.Holistic(static_image_mode=False,\n",
    "                          model_complexity=2) as holistic:\n",
    "    while True:\n",
    "        ret, frame = cap.read()\n",
    "        if ret == False:\n",
    "            break\n",
    "        frame_rgb = cv2.cvtColor(frame, cv2.COLOR_BGR2RGB)\n",
    "        results = holistic.process(frame_rgb)\n",
    "        # rostro\n",
    "        mp_drawing.draw_landmarks(\n",
    "            frame, results.face_landmarks, mp_holistic.FACEMESH_TESSELATION,\n",
    "            mp_drawing.DrawingSpec(color=(0, 255, 255),\n",
    "                                   thickness=1,\n",
    "                                   circle_radius=1),\n",
    "            mp_drawing.DrawingSpec(color=(0, 128, 255), thickness=2))\n",
    "\n",
    "        # Mano izquieda (azul)\n",
    "        mp_drawing.draw_landmarks(\n",
    "            frame, results.left_hand_landmarks, mp_holistic.HAND_CONNECTIONS,\n",
    "            mp_drawing.DrawingSpec(color=(0, 0, 0),\n",
    "                                   thickness=2,\n",
    "                                   circle_radius=1),\n",
    "            mp_drawing.DrawingSpec(color=(0, 92, 230), thickness=2))\n",
    "\n",
    "        # Mano derecha (verde)\n",
    "        mp_drawing.draw_landmarks(\n",
    "            frame, results.right_hand_landmarks, mp_holistic.HAND_CONNECTIONS,\n",
    "            mp_drawing.DrawingSpec(color=(0, 0, 0),\n",
    "                                   thickness=2,\n",
    "                                   circle_radius=1),\n",
    "            mp_drawing.DrawingSpec(color=(0, 92, 230), thickness=2))\n",
    "\n",
    "        # Postura\n",
    "        mp_drawing.draw_landmarks(\n",
    "            frame, results.pose_landmarks, mp_holistic.POSE_CONNECTIONS,\n",
    "            mp_drawing.DrawingSpec(color=(0, 0, 0),\n",
    "                                   thickness=2,\n",
    "                                   circle_radius=1),\n",
    "            mp_drawing.DrawingSpec(color=(0, 92, 230), thickness=2))\n",
    "        frame = cv2.flip(frame, 1)\n",
    "        cv2.imshow(\"Frame\", frame)\n",
    "        if cv2.waitKey(1) & 0xFF == 27:\n",
    "            break\n",
    "cap.release()\n",
    "cv2.destroyAllWindows()"
   ]
  },
  {
   "cell_type": "code",
   "execution_count": 56,
   "id": "1b4860ef",
   "metadata": {
    "ExecuteTime": {
     "end_time": "2023-08-08T18:39:54.401042Z",
     "start_time": "2023-08-08T18:39:54.396378Z"
    }
   },
   "outputs": [],
   "source": [
    "# Define a function to extract keypoints from a single video file\n",
    "def extract_keypoints_from_file(filepath):\n",
    "    # Initialize a MediaPipe Holistic model\n",
    "    holistic = mp.solutions.holistic.Holistic(static_image_mode=False,\n",
    "                                              model_complexity=2,\n",
    "                                              min_detection_confidence=0.5,\n",
    "                                              min_tracking_confidence=0.5)\n",
    "\n",
    "    # Open the video file\n",
    "    cap = cv2.VideoCapture(filepath)\n",
    "\n",
    "    # Initialize an empty list to store the keypoints for each frame\n",
    "    keypoints = []\n",
    "\n",
    "    # Loop through the frames of the video\n",
    "    while cap.isOpened():\n",
    "        # Read a frame from the video\n",
    "        ret, frame = cap.read()\n",
    "        if not ret:\n",
    "            break\n",
    "\n",
    "        # Convert the frame to RGB color space\n",
    "        frame = cv2.cvtColor(frame, cv2.COLOR_BGR2RGB)\n",
    "\n",
    "        # Use the Holistic model to detect landmarks for the face, pose, and hands\n",
    "        results = holistic.process(frame)\n",
    "\n",
    "        # Extract the keypoints from the results object and append them to the keypoints list\n",
    "        keypoints.append(extract_keypoints(results))\n",
    "\n",
    "    # Release the video capture object and the Holistic model\n",
    "    cap.release()\n",
    "    holistic.close()\n",
    "\n",
    "    return np.array(keypoints)"
   ]
  },
  {
   "cell_type": "code",
   "execution_count": 57,
   "id": "49e95ea7",
   "metadata": {
    "ExecuteTime": {
     "end_time": "2023-08-08T18:40:15.091296Z",
     "start_time": "2023-08-08T18:40:01.083755Z"
    }
   },
   "outputs": [
    {
     "data": {
      "text/plain": [
       "(100, 1662)"
      ]
     },
     "execution_count": 57,
     "metadata": {},
     "output_type": "execute_result"
    }
   ],
   "source": [
    "extract_keypoints_from_file(traindf.Path[0]).shape"
   ]
  },
  {
   "cell_type": "code",
   "execution_count": 60,
   "id": "5d2a0a7a",
   "metadata": {
    "ExecuteTime": {
     "end_time": "2023-08-08T18:41:00.022088Z",
     "start_time": "2023-08-08T18:41:00.011352Z"
    }
   },
   "outputs": [
    {
     "name": "stdout",
     "output_type": "stream",
     "text": [
      "100\n"
     ]
    }
   ],
   "source": [
    "cap = cv2.VideoCapture(traindf.Path[0])\n",
    "length = int(cap.get(cv2.CAP_PROP_FRAME_COUNT))\n",
    "print( length )"
   ]
  },
  {
   "cell_type": "code",
   "execution_count": 61,
   "id": "b48bfa39",
   "metadata": {
    "ExecuteTime": {
     "end_time": "2023-08-08T18:41:18.844622Z",
     "start_time": "2023-08-08T18:41:06.671136Z"
    }
   },
   "outputs": [
    {
     "data": {
      "text/plain": [
       "numpy.ndarray"
      ]
     },
     "execution_count": 61,
     "metadata": {},
     "output_type": "execute_result"
    }
   ],
   "source": [
    "type(extract_keypoints_from_file(traindf.Path[643]))"
   ]
  },
  {
   "cell_type": "code",
   "execution_count": 62,
   "id": "f5533751",
   "metadata": {
    "ExecuteTime": {
     "end_time": "2023-08-08T18:41:25.580347Z",
     "start_time": "2023-08-08T18:41:25.573045Z"
    }
   },
   "outputs": [
    {
     "data": {
      "text/plain": [
       "Participant ID    950\n",
       "Video file        950\n",
       "Gloss             950\n",
       "ASL-LEX Code      950\n",
       "Path              950\n",
       "Frequency         950\n",
       "dtype: int64"
      ]
     },
     "execution_count": 62,
     "metadata": {},
     "output_type": "execute_result"
    }
   ],
   "source": [
    "traindf.count()"
   ]
  },
  {
   "cell_type": "code",
   "execution_count": 63,
   "id": "9a9a5517",
   "metadata": {
    "ExecuteTime": {
     "end_time": "2023-08-08T18:41:32.137482Z",
     "start_time": "2023-08-08T18:41:32.134155Z"
    }
   },
   "outputs": [],
   "source": [
    "def frames_from_file(filepath):\n",
    "    cap = cv2.VideoCapture(filepath)\n",
    "    frames = int(cap.get(cv2.CAP_PROP_FRAME_COUNT))\n",
    "    fps = int(cap.get(cv2.CAP_PROP_FPS))\n",
    "    length = round(frames / fps)\n",
    "    return frames, fps, length"
   ]
  },
  {
   "cell_type": "code",
   "execution_count": 64,
   "id": "2576a32d",
   "metadata": {
    "ExecuteTime": {
     "end_time": "2023-08-08T18:41:38.972701Z",
     "start_time": "2023-08-08T18:41:38.962180Z"
    }
   },
   "outputs": [
    {
     "data": {
      "text/plain": [
       "(100, 31, 3)"
      ]
     },
     "execution_count": 64,
     "metadata": {},
     "output_type": "execute_result"
    }
   ],
   "source": [
    "frames_from_file(traindf.Path[0])"
   ]
  },
  {
   "cell_type": "code",
   "execution_count": 65,
   "id": "fad1ee21",
   "metadata": {
    "ExecuteTime": {
     "end_time": "2023-08-08T18:42:41.941919Z",
     "start_time": "2023-08-08T18:41:45.534576Z"
    },
    "scrolled": true
   },
   "outputs": [
    {
     "name": "stderr",
     "output_type": "stream",
     "text": [
      "100%|█████████████████████████████████████████| 950/950 [00:56<00:00, 16.84it/s]\n"
     ]
    }
   ],
   "source": [
    "tqdm.pandas()\n",
    "traindf[['Frames', 'FPS', 'Length']] = traindf['Path'].progress_apply(lambda x: pd.Series(frames_from_file(x)))"
   ]
  },
  {
   "cell_type": "code",
   "execution_count": 66,
   "id": "87551a0c",
   "metadata": {
    "ExecuteTime": {
     "end_time": "2023-08-08T18:42:48.797905Z",
     "start_time": "2023-08-08T18:42:48.792510Z"
    }
   },
   "outputs": [
    {
     "data": {
      "text/plain": [
       "540"
      ]
     },
     "execution_count": 66,
     "metadata": {},
     "output_type": "execute_result"
    }
   ],
   "source": [
    "traindf['Frames'].max()"
   ]
  },
  {
   "cell_type": "code",
   "execution_count": 67,
   "id": "491120f6",
   "metadata": {
    "ExecuteTime": {
     "end_time": "2023-08-08T18:42:55.583204Z",
     "start_time": "2023-08-08T18:42:55.571986Z"
    }
   },
   "outputs": [
    {
     "data": {
      "text/html": [
       "<div>\n",
       "<style scoped>\n",
       "    .dataframe tbody tr th:only-of-type {\n",
       "        vertical-align: middle;\n",
       "    }\n",
       "\n",
       "    .dataframe tbody tr th {\n",
       "        vertical-align: top;\n",
       "    }\n",
       "\n",
       "    .dataframe thead th {\n",
       "        text-align: right;\n",
       "    }\n",
       "</style>\n",
       "<table border=\"1\" class=\"dataframe\">\n",
       "  <thead>\n",
       "    <tr style=\"text-align: right;\">\n",
       "      <th></th>\n",
       "      <th>Participant ID</th>\n",
       "      <th>Video file</th>\n",
       "      <th>Gloss</th>\n",
       "      <th>ASL-LEX Code</th>\n",
       "      <th>Path</th>\n",
       "      <th>Frequency</th>\n",
       "      <th>Frames</th>\n",
       "      <th>FPS</th>\n",
       "      <th>Length</th>\n",
       "    </tr>\n",
       "  </thead>\n",
       "  <tbody>\n",
       "    <tr>\n",
       "      <th>0</th>\n",
       "      <td>P52</td>\n",
       "      <td>07157565148825373-seedAXE.mp4</td>\n",
       "      <td>AXE</td>\n",
       "      <td>G_03_066</td>\n",
       "      <td>file:///media/kristian/HDD/ASL_Citizen/ASL_Cit...</td>\n",
       "      <td>19</td>\n",
       "      <td>100</td>\n",
       "      <td>31</td>\n",
       "      <td>3</td>\n",
       "    </tr>\n",
       "    <tr>\n",
       "      <th>1</th>\n",
       "      <td>P28</td>\n",
       "      <td>7179300005186042-AXE.mp4</td>\n",
       "      <td>AXE</td>\n",
       "      <td>G_03_066</td>\n",
       "      <td>file:///media/kristian/HDD/ASL_Citizen/ASL_Cit...</td>\n",
       "      <td>19</td>\n",
       "      <td>81</td>\n",
       "      <td>30</td>\n",
       "      <td>3</td>\n",
       "    </tr>\n",
       "    <tr>\n",
       "      <th>2</th>\n",
       "      <td>P29</td>\n",
       "      <td>16216064841959765-AXE.mp4</td>\n",
       "      <td>AXE</td>\n",
       "      <td>G_03_066</td>\n",
       "      <td>file:///media/kristian/HDD/ASL_Citizen/ASL_Cit...</td>\n",
       "      <td>19</td>\n",
       "      <td>47</td>\n",
       "      <td>30</td>\n",
       "      <td>2</td>\n",
       "    </tr>\n",
       "    <tr>\n",
       "      <th>3</th>\n",
       "      <td>P37</td>\n",
       "      <td>6193814382865199-AXE.mp4</td>\n",
       "      <td>AXE</td>\n",
       "      <td>G_03_066</td>\n",
       "      <td>file:///media/kristian/HDD/ASL_Citizen/ASL_Cit...</td>\n",
       "      <td>19</td>\n",
       "      <td>67</td>\n",
       "      <td>30</td>\n",
       "      <td>2</td>\n",
       "    </tr>\n",
       "    <tr>\n",
       "      <th>4</th>\n",
       "      <td>P40</td>\n",
       "      <td>5947453960317015-AXE.mp4</td>\n",
       "      <td>AXE</td>\n",
       "      <td>G_03_066</td>\n",
       "      <td>file:///media/kristian/HDD/ASL_Citizen/ASL_Cit...</td>\n",
       "      <td>19</td>\n",
       "      <td>89</td>\n",
       "      <td>30</td>\n",
       "      <td>3</td>\n",
       "    </tr>\n",
       "  </tbody>\n",
       "</table>\n",
       "</div>"
      ],
      "text/plain": [
       "  Participant ID                     Video file Gloss ASL-LEX Code  \\\n",
       "0            P52  07157565148825373-seedAXE.mp4   AXE     G_03_066   \n",
       "1            P28       7179300005186042-AXE.mp4   AXE     G_03_066   \n",
       "2            P29      16216064841959765-AXE.mp4   AXE     G_03_066   \n",
       "3            P37       6193814382865199-AXE.mp4   AXE     G_03_066   \n",
       "4            P40       5947453960317015-AXE.mp4   AXE     G_03_066   \n",
       "\n",
       "                                                Path  Frequency  Frames  FPS  \\\n",
       "0  file:///media/kristian/HDD/ASL_Citizen/ASL_Cit...         19     100   31   \n",
       "1  file:///media/kristian/HDD/ASL_Citizen/ASL_Cit...         19      81   30   \n",
       "2  file:///media/kristian/HDD/ASL_Citizen/ASL_Cit...         19      47   30   \n",
       "3  file:///media/kristian/HDD/ASL_Citizen/ASL_Cit...         19      67   30   \n",
       "4  file:///media/kristian/HDD/ASL_Citizen/ASL_Cit...         19      89   30   \n",
       "\n",
       "   Length  \n",
       "0       3  \n",
       "1       3  \n",
       "2       2  \n",
       "3       2  \n",
       "4       3  "
      ]
     },
     "execution_count": 67,
     "metadata": {},
     "output_type": "execute_result"
    }
   ],
   "source": [
    "traindf.head()"
   ]
  },
  {
   "cell_type": "code",
   "execution_count": 68,
   "id": "88f50ce9",
   "metadata": {
    "ExecuteTime": {
     "end_time": "2023-08-08T18:43:02.474098Z",
     "start_time": "2023-08-08T18:43:02.454775Z"
    }
   },
   "outputs": [
    {
     "data": {
      "text/html": [
       "<div>\n",
       "<style scoped>\n",
       "    .dataframe tbody tr th:only-of-type {\n",
       "        vertical-align: middle;\n",
       "    }\n",
       "\n",
       "    .dataframe tbody tr th {\n",
       "        vertical-align: top;\n",
       "    }\n",
       "\n",
       "    .dataframe thead th {\n",
       "        text-align: right;\n",
       "    }\n",
       "</style>\n",
       "<table border=\"1\" class=\"dataframe\">\n",
       "  <thead>\n",
       "    <tr style=\"text-align: right;\">\n",
       "      <th></th>\n",
       "      <th>Frequency</th>\n",
       "      <th>Frames</th>\n",
       "      <th>FPS</th>\n",
       "      <th>Length</th>\n",
       "    </tr>\n",
       "  </thead>\n",
       "  <tbody>\n",
       "    <tr>\n",
       "      <th>count</th>\n",
       "      <td>950.000000</td>\n",
       "      <td>950.000000</td>\n",
       "      <td>950.000000</td>\n",
       "      <td>950.000000</td>\n",
       "    </tr>\n",
       "    <tr>\n",
       "      <th>mean</th>\n",
       "      <td>19.082105</td>\n",
       "      <td>87.755789</td>\n",
       "      <td>29.354737</td>\n",
       "      <td>3.016842</td>\n",
       "    </tr>\n",
       "    <tr>\n",
       "      <th>std</th>\n",
       "      <td>1.316026</td>\n",
       "      <td>46.654745</td>\n",
       "      <td>2.197195</td>\n",
       "      <td>1.568167</td>\n",
       "    </tr>\n",
       "    <tr>\n",
       "      <th>min</th>\n",
       "      <td>18.000000</td>\n",
       "      <td>25.000000</td>\n",
       "      <td>11.000000</td>\n",
       "      <td>1.000000</td>\n",
       "    </tr>\n",
       "    <tr>\n",
       "      <th>25%</th>\n",
       "      <td>18.000000</td>\n",
       "      <td>60.000000</td>\n",
       "      <td>29.000000</td>\n",
       "      <td>2.000000</td>\n",
       "    </tr>\n",
       "    <tr>\n",
       "      <th>50%</th>\n",
       "      <td>19.000000</td>\n",
       "      <td>77.000000</td>\n",
       "      <td>30.000000</td>\n",
       "      <td>3.000000</td>\n",
       "    </tr>\n",
       "    <tr>\n",
       "      <th>75%</th>\n",
       "      <td>20.000000</td>\n",
       "      <td>97.000000</td>\n",
       "      <td>30.000000</td>\n",
       "      <td>3.000000</td>\n",
       "    </tr>\n",
       "    <tr>\n",
       "      <th>max</th>\n",
       "      <td>24.000000</td>\n",
       "      <td>540.000000</td>\n",
       "      <td>31.000000</td>\n",
       "      <td>18.000000</td>\n",
       "    </tr>\n",
       "  </tbody>\n",
       "</table>\n",
       "</div>"
      ],
      "text/plain": [
       "        Frequency      Frames         FPS      Length\n",
       "count  950.000000  950.000000  950.000000  950.000000\n",
       "mean    19.082105   87.755789   29.354737    3.016842\n",
       "std      1.316026   46.654745    2.197195    1.568167\n",
       "min     18.000000   25.000000   11.000000    1.000000\n",
       "25%     18.000000   60.000000   29.000000    2.000000\n",
       "50%     19.000000   77.000000   30.000000    3.000000\n",
       "75%     20.000000   97.000000   30.000000    3.000000\n",
       "max     24.000000  540.000000   31.000000   18.000000"
      ]
     },
     "execution_count": 68,
     "metadata": {},
     "output_type": "execute_result"
    }
   ],
   "source": [
    "traindf.describe()"
   ]
  },
  {
   "cell_type": "code",
   "execution_count": 69,
   "id": "860c8cbd",
   "metadata": {
    "ExecuteTime": {
     "end_time": "2023-08-08T18:43:09.620661Z",
     "start_time": "2023-08-08T18:43:09.599930Z"
    }
   },
   "outputs": [
    {
     "data": {
      "text/html": [
       "<div>\n",
       "<style scoped>\n",
       "    .dataframe tbody tr th:only-of-type {\n",
       "        vertical-align: middle;\n",
       "    }\n",
       "\n",
       "    .dataframe tbody tr th {\n",
       "        vertical-align: top;\n",
       "    }\n",
       "\n",
       "    .dataframe thead th {\n",
       "        text-align: right;\n",
       "    }\n",
       "</style>\n",
       "<table border=\"1\" class=\"dataframe\">\n",
       "  <thead>\n",
       "    <tr style=\"text-align: right;\">\n",
       "      <th></th>\n",
       "      <th>Frequency</th>\n",
       "      <th>Frames</th>\n",
       "      <th>FPS</th>\n",
       "      <th>Length</th>\n",
       "    </tr>\n",
       "  </thead>\n",
       "  <tbody>\n",
       "    <tr>\n",
       "      <th>count</th>\n",
       "      <td>804.000000</td>\n",
       "      <td>804.000000</td>\n",
       "      <td>804.000000</td>\n",
       "      <td>804.000000</td>\n",
       "    </tr>\n",
       "    <tr>\n",
       "      <th>mean</th>\n",
       "      <td>19.084577</td>\n",
       "      <td>76.113184</td>\n",
       "      <td>29.680348</td>\n",
       "      <td>2.593284</td>\n",
       "    </tr>\n",
       "    <tr>\n",
       "      <th>std</th>\n",
       "      <td>1.305343</td>\n",
       "      <td>20.091965</td>\n",
       "      <td>0.479790</td>\n",
       "      <td>0.671427</td>\n",
       "    </tr>\n",
       "    <tr>\n",
       "      <th>min</th>\n",
       "      <td>18.000000</td>\n",
       "      <td>45.000000</td>\n",
       "      <td>29.000000</td>\n",
       "      <td>2.000000</td>\n",
       "    </tr>\n",
       "    <tr>\n",
       "      <th>25%</th>\n",
       "      <td>18.000000</td>\n",
       "      <td>60.000000</td>\n",
       "      <td>29.000000</td>\n",
       "      <td>2.000000</td>\n",
       "    </tr>\n",
       "    <tr>\n",
       "      <th>50%</th>\n",
       "      <td>19.000000</td>\n",
       "      <td>74.000000</td>\n",
       "      <td>30.000000</td>\n",
       "      <td>2.000000</td>\n",
       "    </tr>\n",
       "    <tr>\n",
       "      <th>75%</th>\n",
       "      <td>20.000000</td>\n",
       "      <td>88.000000</td>\n",
       "      <td>30.000000</td>\n",
       "      <td>3.000000</td>\n",
       "    </tr>\n",
       "    <tr>\n",
       "      <th>max</th>\n",
       "      <td>24.000000</td>\n",
       "      <td>130.000000</td>\n",
       "      <td>31.000000</td>\n",
       "      <td>4.000000</td>\n",
       "    </tr>\n",
       "  </tbody>\n",
       "</table>\n",
       "</div>"
      ],
      "text/plain": [
       "        Frequency      Frames         FPS      Length\n",
       "count  804.000000  804.000000  804.000000  804.000000\n",
       "mean    19.084577   76.113184   29.680348    2.593284\n",
       "std      1.305343   20.091965    0.479790    0.671427\n",
       "min     18.000000   45.000000   29.000000    2.000000\n",
       "25%     18.000000   60.000000   29.000000    2.000000\n",
       "50%     19.000000   74.000000   30.000000    2.000000\n",
       "75%     20.000000   88.000000   30.000000    3.000000\n",
       "max     24.000000  130.000000   31.000000    4.000000"
      ]
     },
     "execution_count": 69,
     "metadata": {},
     "output_type": "execute_result"
    }
   ],
   "source": [
    "traindf = traindf[(traindf['Length'] > 1) & (traindf['FPS'] > 28) &(traindf['Frames'] < 131) ]\n",
    "#filtered_df = traindf[(traindf['Frames'] > 0) & (traindf['Frames'] < 121)]\n",
    "#filtered_df = traindf[traindf['Frames'] > 0]\n",
    "traindf= traindf.reset_index(drop=True)\n",
    "traindf.describe()"
   ]
  },
  {
   "cell_type": "code",
   "execution_count": 70,
   "id": "80536b78",
   "metadata": {
    "ExecuteTime": {
     "end_time": "2023-08-08T18:43:16.902891Z",
     "start_time": "2023-08-08T18:43:16.884015Z"
    }
   },
   "outputs": [
    {
     "data": {
      "text/html": [
       "<div>\n",
       "<style scoped>\n",
       "    .dataframe tbody tr th:only-of-type {\n",
       "        vertical-align: middle;\n",
       "    }\n",
       "\n",
       "    .dataframe tbody tr th {\n",
       "        vertical-align: top;\n",
       "    }\n",
       "\n",
       "    .dataframe thead th {\n",
       "        text-align: right;\n",
       "    }\n",
       "</style>\n",
       "<table border=\"1\" class=\"dataframe\">\n",
       "  <thead>\n",
       "    <tr style=\"text-align: right;\">\n",
       "      <th></th>\n",
       "      <th>Frequency</th>\n",
       "      <th>Frames</th>\n",
       "      <th>FPS</th>\n",
       "      <th>Length</th>\n",
       "    </tr>\n",
       "  </thead>\n",
       "  <tbody>\n",
       "    <tr>\n",
       "      <th>count</th>\n",
       "      <td>804.000000</td>\n",
       "      <td>804.000000</td>\n",
       "      <td>804.000000</td>\n",
       "      <td>804.000000</td>\n",
       "    </tr>\n",
       "    <tr>\n",
       "      <th>mean</th>\n",
       "      <td>16.261194</td>\n",
       "      <td>76.113184</td>\n",
       "      <td>29.680348</td>\n",
       "      <td>2.593284</td>\n",
       "    </tr>\n",
       "    <tr>\n",
       "      <th>std</th>\n",
       "      <td>1.722009</td>\n",
       "      <td>20.091965</td>\n",
       "      <td>0.479790</td>\n",
       "      <td>0.671427</td>\n",
       "    </tr>\n",
       "    <tr>\n",
       "      <th>min</th>\n",
       "      <td>13.000000</td>\n",
       "      <td>45.000000</td>\n",
       "      <td>29.000000</td>\n",
       "      <td>2.000000</td>\n",
       "    </tr>\n",
       "    <tr>\n",
       "      <th>25%</th>\n",
       "      <td>15.000000</td>\n",
       "      <td>60.000000</td>\n",
       "      <td>29.000000</td>\n",
       "      <td>2.000000</td>\n",
       "    </tr>\n",
       "    <tr>\n",
       "      <th>50%</th>\n",
       "      <td>16.000000</td>\n",
       "      <td>74.000000</td>\n",
       "      <td>30.000000</td>\n",
       "      <td>2.000000</td>\n",
       "    </tr>\n",
       "    <tr>\n",
       "      <th>75%</th>\n",
       "      <td>17.000000</td>\n",
       "      <td>88.000000</td>\n",
       "      <td>30.000000</td>\n",
       "      <td>3.000000</td>\n",
       "    </tr>\n",
       "    <tr>\n",
       "      <th>max</th>\n",
       "      <td>20.000000</td>\n",
       "      <td>130.000000</td>\n",
       "      <td>31.000000</td>\n",
       "      <td>4.000000</td>\n",
       "    </tr>\n",
       "  </tbody>\n",
       "</table>\n",
       "</div>"
      ],
      "text/plain": [
       "        Frequency      Frames         FPS      Length\n",
       "count  804.000000  804.000000  804.000000  804.000000\n",
       "mean    16.261194   76.113184   29.680348    2.593284\n",
       "std      1.722009   20.091965    0.479790    0.671427\n",
       "min     13.000000   45.000000   29.000000    2.000000\n",
       "25%     15.000000   60.000000   29.000000    2.000000\n",
       "50%     16.000000   74.000000   30.000000    2.000000\n",
       "75%     17.000000   88.000000   30.000000    3.000000\n",
       "max     20.000000  130.000000   31.000000    4.000000"
      ]
     },
     "execution_count": 70,
     "metadata": {},
     "output_type": "execute_result"
    }
   ],
   "source": [
    "traindf['Frequency'] = traindf['Gloss'].map(traindf['Gloss'].value_counts())\n",
    "#traindf = traindf.sort_values(by='Frequency',)\n",
    "\n",
    "traindf.describe()"
   ]
  },
  {
   "cell_type": "code",
   "execution_count": 71,
   "id": "5eeb8014",
   "metadata": {
    "ExecuteTime": {
     "end_time": "2023-08-08T18:43:24.035039Z",
     "start_time": "2023-08-08T18:43:24.022482Z"
    }
   },
   "outputs": [
    {
     "data": {
      "text/html": [
       "<div>\n",
       "<style scoped>\n",
       "    .dataframe tbody tr th:only-of-type {\n",
       "        vertical-align: middle;\n",
       "    }\n",
       "\n",
       "    .dataframe tbody tr th {\n",
       "        vertical-align: top;\n",
       "    }\n",
       "\n",
       "    .dataframe thead th {\n",
       "        text-align: right;\n",
       "    }\n",
       "</style>\n",
       "<table border=\"1\" class=\"dataframe\">\n",
       "  <thead>\n",
       "    <tr style=\"text-align: right;\">\n",
       "      <th></th>\n",
       "      <th>Participant ID</th>\n",
       "      <th>Video file</th>\n",
       "      <th>Gloss</th>\n",
       "      <th>ASL-LEX Code</th>\n",
       "      <th>Path</th>\n",
       "      <th>Frequency</th>\n",
       "      <th>Frames</th>\n",
       "      <th>FPS</th>\n",
       "      <th>Length</th>\n",
       "    </tr>\n",
       "  </thead>\n",
       "  <tbody>\n",
       "    <tr>\n",
       "      <th>0</th>\n",
       "      <td>P52</td>\n",
       "      <td>07157565148825373-seedAXE.mp4</td>\n",
       "      <td>AXE</td>\n",
       "      <td>G_03_066</td>\n",
       "      <td>file:///media/kristian/HDD/ASL_Citizen/ASL_Cit...</td>\n",
       "      <td>18</td>\n",
       "      <td>100</td>\n",
       "      <td>31</td>\n",
       "      <td>3</td>\n",
       "    </tr>\n",
       "    <tr>\n",
       "      <th>1</th>\n",
       "      <td>P28</td>\n",
       "      <td>7179300005186042-AXE.mp4</td>\n",
       "      <td>AXE</td>\n",
       "      <td>G_03_066</td>\n",
       "      <td>file:///media/kristian/HDD/ASL_Citizen/ASL_Cit...</td>\n",
       "      <td>18</td>\n",
       "      <td>81</td>\n",
       "      <td>30</td>\n",
       "      <td>3</td>\n",
       "    </tr>\n",
       "    <tr>\n",
       "      <th>2</th>\n",
       "      <td>P29</td>\n",
       "      <td>16216064841959765-AXE.mp4</td>\n",
       "      <td>AXE</td>\n",
       "      <td>G_03_066</td>\n",
       "      <td>file:///media/kristian/HDD/ASL_Citizen/ASL_Cit...</td>\n",
       "      <td>18</td>\n",
       "      <td>47</td>\n",
       "      <td>30</td>\n",
       "      <td>2</td>\n",
       "    </tr>\n",
       "    <tr>\n",
       "      <th>3</th>\n",
       "      <td>P37</td>\n",
       "      <td>6193814382865199-AXE.mp4</td>\n",
       "      <td>AXE</td>\n",
       "      <td>G_03_066</td>\n",
       "      <td>file:///media/kristian/HDD/ASL_Citizen/ASL_Cit...</td>\n",
       "      <td>18</td>\n",
       "      <td>67</td>\n",
       "      <td>30</td>\n",
       "      <td>2</td>\n",
       "    </tr>\n",
       "    <tr>\n",
       "      <th>4</th>\n",
       "      <td>P40</td>\n",
       "      <td>5947453960317015-AXE.mp4</td>\n",
       "      <td>AXE</td>\n",
       "      <td>G_03_066</td>\n",
       "      <td>file:///media/kristian/HDD/ASL_Citizen/ASL_Cit...</td>\n",
       "      <td>18</td>\n",
       "      <td>89</td>\n",
       "      <td>30</td>\n",
       "      <td>3</td>\n",
       "    </tr>\n",
       "    <tr>\n",
       "      <th>5</th>\n",
       "      <td>P40</td>\n",
       "      <td>929570016067665-AXE.mp4</td>\n",
       "      <td>AXE</td>\n",
       "      <td>G_03_066</td>\n",
       "      <td>file:///media/kristian/HDD/ASL_Citizen/ASL_Cit...</td>\n",
       "      <td>18</td>\n",
       "      <td>112</td>\n",
       "      <td>29</td>\n",
       "      <td>4</td>\n",
       "    </tr>\n",
       "    <tr>\n",
       "      <th>6</th>\n",
       "      <td>P16</td>\n",
       "      <td>904767261814883-AXE.mp4</td>\n",
       "      <td>AXE</td>\n",
       "      <td>G_03_066</td>\n",
       "      <td>file:///media/kristian/HDD/ASL_Citizen/ASL_Cit...</td>\n",
       "      <td>18</td>\n",
       "      <td>64</td>\n",
       "      <td>30</td>\n",
       "      <td>2</td>\n",
       "    </tr>\n",
       "    <tr>\n",
       "      <th>7</th>\n",
       "      <td>P43</td>\n",
       "      <td>016134052760367945-AXE.mp4</td>\n",
       "      <td>AXE</td>\n",
       "      <td>G_03_066</td>\n",
       "      <td>file:///media/kristian/HDD/ASL_Citizen/ASL_Cit...</td>\n",
       "      <td>18</td>\n",
       "      <td>75</td>\n",
       "      <td>30</td>\n",
       "      <td>2</td>\n",
       "    </tr>\n",
       "    <tr>\n",
       "      <th>8</th>\n",
       "      <td>P40</td>\n",
       "      <td>23099527328070546-AXE.mp4</td>\n",
       "      <td>AXE</td>\n",
       "      <td>G_03_066</td>\n",
       "      <td>file:///media/kristian/HDD/ASL_Citizen/ASL_Cit...</td>\n",
       "      <td>18</td>\n",
       "      <td>91</td>\n",
       "      <td>29</td>\n",
       "      <td>3</td>\n",
       "    </tr>\n",
       "    <tr>\n",
       "      <th>9</th>\n",
       "      <td>P37</td>\n",
       "      <td>21310388087265242-AXE.mp4</td>\n",
       "      <td>AXE</td>\n",
       "      <td>G_03_066</td>\n",
       "      <td>file:///media/kristian/HDD/ASL_Citizen/ASL_Cit...</td>\n",
       "      <td>18</td>\n",
       "      <td>69</td>\n",
       "      <td>30</td>\n",
       "      <td>2</td>\n",
       "    </tr>\n",
       "  </tbody>\n",
       "</table>\n",
       "</div>"
      ],
      "text/plain": [
       "  Participant ID                     Video file Gloss ASL-LEX Code  \\\n",
       "0            P52  07157565148825373-seedAXE.mp4   AXE     G_03_066   \n",
       "1            P28       7179300005186042-AXE.mp4   AXE     G_03_066   \n",
       "2            P29      16216064841959765-AXE.mp4   AXE     G_03_066   \n",
       "3            P37       6193814382865199-AXE.mp4   AXE     G_03_066   \n",
       "4            P40       5947453960317015-AXE.mp4   AXE     G_03_066   \n",
       "5            P40        929570016067665-AXE.mp4   AXE     G_03_066   \n",
       "6            P16        904767261814883-AXE.mp4   AXE     G_03_066   \n",
       "7            P43     016134052760367945-AXE.mp4   AXE     G_03_066   \n",
       "8            P40      23099527328070546-AXE.mp4   AXE     G_03_066   \n",
       "9            P37      21310388087265242-AXE.mp4   AXE     G_03_066   \n",
       "\n",
       "                                                Path  Frequency  Frames  FPS  \\\n",
       "0  file:///media/kristian/HDD/ASL_Citizen/ASL_Cit...         18     100   31   \n",
       "1  file:///media/kristian/HDD/ASL_Citizen/ASL_Cit...         18      81   30   \n",
       "2  file:///media/kristian/HDD/ASL_Citizen/ASL_Cit...         18      47   30   \n",
       "3  file:///media/kristian/HDD/ASL_Citizen/ASL_Cit...         18      67   30   \n",
       "4  file:///media/kristian/HDD/ASL_Citizen/ASL_Cit...         18      89   30   \n",
       "5  file:///media/kristian/HDD/ASL_Citizen/ASL_Cit...         18     112   29   \n",
       "6  file:///media/kristian/HDD/ASL_Citizen/ASL_Cit...         18      64   30   \n",
       "7  file:///media/kristian/HDD/ASL_Citizen/ASL_Cit...         18      75   30   \n",
       "8  file:///media/kristian/HDD/ASL_Citizen/ASL_Cit...         18      91   29   \n",
       "9  file:///media/kristian/HDD/ASL_Citizen/ASL_Cit...         18      69   30   \n",
       "\n",
       "   Length  \n",
       "0       3  \n",
       "1       3  \n",
       "2       2  \n",
       "3       2  \n",
       "4       3  \n",
       "5       4  \n",
       "6       2  \n",
       "7       2  \n",
       "8       3  \n",
       "9       2  "
      ]
     },
     "execution_count": 71,
     "metadata": {},
     "output_type": "execute_result"
    }
   ],
   "source": [
    "traindf.head(10)"
   ]
  },
  {
   "cell_type": "code",
   "execution_count": 72,
   "id": "e5173282",
   "metadata": {
    "ExecuteTime": {
     "end_time": "2023-08-08T18:43:31.183674Z",
     "start_time": "2023-08-08T18:43:31.178568Z"
    }
   },
   "outputs": [
    {
     "name": "stdout",
     "output_type": "stream",
     "text": [
      "50\n"
     ]
    }
   ],
   "source": [
    "print(traindf['Gloss'].nunique())"
   ]
  },
  {
   "cell_type": "code",
   "execution_count": 73,
   "id": "cb3e9805",
   "metadata": {
    "ExecuteTime": {
     "end_time": "2023-08-08T18:43:48.600587Z",
     "start_time": "2023-08-08T18:43:38.017169Z"
    },
    "scrolled": true
   },
   "outputs": [
    {
     "name": "stderr",
     "output_type": "stream",
     "text": [
      "100%|█████████████████████████████████████████| 191/191 [00:10<00:00, 18.06it/s]\n"
     ]
    }
   ],
   "source": [
    "tqdm.pandas()\n",
    "valdf[['Frames', 'FPS', 'Length']] = valdf['Path'].progress_apply(lambda x: pd.Series(frames_from_file(x)))"
   ]
  },
  {
   "cell_type": "code",
   "execution_count": 74,
   "id": "7c00f056",
   "metadata": {
    "ExecuteTime": {
     "end_time": "2023-08-08T18:44:14.590887Z",
     "start_time": "2023-08-08T18:44:14.587482Z"
    }
   },
   "outputs": [
    {
     "data": {
      "text/plain": [
       "207"
      ]
     },
     "execution_count": 74,
     "metadata": {},
     "output_type": "execute_result"
    }
   ],
   "source": [
    "valdf['Frames'].max()"
   ]
  },
  {
   "cell_type": "code",
   "execution_count": 75,
   "id": "51f9d882",
   "metadata": {
    "ExecuteTime": {
     "end_time": "2023-08-08T18:44:20.844252Z",
     "start_time": "2023-08-08T18:44:20.830970Z"
    },
    "scrolled": true
   },
   "outputs": [
    {
     "data": {
      "text/html": [
       "<div>\n",
       "<style scoped>\n",
       "    .dataframe tbody tr th:only-of-type {\n",
       "        vertical-align: middle;\n",
       "    }\n",
       "\n",
       "    .dataframe tbody tr th {\n",
       "        vertical-align: top;\n",
       "    }\n",
       "\n",
       "    .dataframe thead th {\n",
       "        text-align: right;\n",
       "    }\n",
       "</style>\n",
       "<table border=\"1\" class=\"dataframe\">\n",
       "  <thead>\n",
       "    <tr style=\"text-align: right;\">\n",
       "      <th></th>\n",
       "      <th>Participant ID</th>\n",
       "      <th>Video file</th>\n",
       "      <th>Gloss</th>\n",
       "      <th>ASL-LEX Code</th>\n",
       "      <th>Path</th>\n",
       "      <th>Frequency</th>\n",
       "      <th>Frames</th>\n",
       "      <th>FPS</th>\n",
       "      <th>Length</th>\n",
       "    </tr>\n",
       "  </thead>\n",
       "  <tbody>\n",
       "    <tr>\n",
       "      <th>0</th>\n",
       "      <td>P39</td>\n",
       "      <td>19778675091674147-AXE.mp4</td>\n",
       "      <td>AXE</td>\n",
       "      <td>G_03_066</td>\n",
       "      <td>file:///media/kristian/HDD/ASL_Citizen/ASL_Cit...</td>\n",
       "      <td>4</td>\n",
       "      <td>121</td>\n",
       "      <td>30</td>\n",
       "      <td>4</td>\n",
       "    </tr>\n",
       "    <tr>\n",
       "      <th>1</th>\n",
       "      <td>P26</td>\n",
       "      <td>8581142177964065-AXE.mp4</td>\n",
       "      <td>AXE</td>\n",
       "      <td>G_03_066</td>\n",
       "      <td>file:///media/kristian/HDD/ASL_Citizen/ASL_Cit...</td>\n",
       "      <td>4</td>\n",
       "      <td>81</td>\n",
       "      <td>29</td>\n",
       "      <td>3</td>\n",
       "    </tr>\n",
       "    <tr>\n",
       "      <th>2</th>\n",
       "      <td>P39</td>\n",
       "      <td>3877478645046861-AXE.mp4</td>\n",
       "      <td>AXE</td>\n",
       "      <td>G_03_066</td>\n",
       "      <td>file:///media/kristian/HDD/ASL_Citizen/ASL_Cit...</td>\n",
       "      <td>4</td>\n",
       "      <td>120</td>\n",
       "      <td>30</td>\n",
       "      <td>4</td>\n",
       "    </tr>\n",
       "    <tr>\n",
       "      <th>3</th>\n",
       "      <td>P21</td>\n",
       "      <td>8521417940364975-AXE.mp4</td>\n",
       "      <td>AXE</td>\n",
       "      <td>G_03_066</td>\n",
       "      <td>file:///media/kristian/HDD/ASL_Citizen/ASL_Cit...</td>\n",
       "      <td>4</td>\n",
       "      <td>71</td>\n",
       "      <td>29</td>\n",
       "      <td>2</td>\n",
       "    </tr>\n",
       "    <tr>\n",
       "      <th>4</th>\n",
       "      <td>P5</td>\n",
       "      <td>9990244640190733-BACKPACK.mp4</td>\n",
       "      <td>BACKPACK</td>\n",
       "      <td>G_03_091</td>\n",
       "      <td>file:///media/kristian/HDD/ASL_Citizen/ASL_Cit...</td>\n",
       "      <td>3</td>\n",
       "      <td>93</td>\n",
       "      <td>29</td>\n",
       "      <td>3</td>\n",
       "    </tr>\n",
       "  </tbody>\n",
       "</table>\n",
       "</div>"
      ],
      "text/plain": [
       "  Participant ID                     Video file     Gloss ASL-LEX Code  \\\n",
       "0            P39      19778675091674147-AXE.mp4       AXE     G_03_066   \n",
       "1            P26       8581142177964065-AXE.mp4       AXE     G_03_066   \n",
       "2            P39       3877478645046861-AXE.mp4       AXE     G_03_066   \n",
       "3            P21       8521417940364975-AXE.mp4       AXE     G_03_066   \n",
       "4             P5  9990244640190733-BACKPACK.mp4  BACKPACK     G_03_091   \n",
       "\n",
       "                                                Path  Frequency  Frames  FPS  \\\n",
       "0  file:///media/kristian/HDD/ASL_Citizen/ASL_Cit...          4     121   30   \n",
       "1  file:///media/kristian/HDD/ASL_Citizen/ASL_Cit...          4      81   29   \n",
       "2  file:///media/kristian/HDD/ASL_Citizen/ASL_Cit...          4     120   30   \n",
       "3  file:///media/kristian/HDD/ASL_Citizen/ASL_Cit...          4      71   29   \n",
       "4  file:///media/kristian/HDD/ASL_Citizen/ASL_Cit...          3      93   29   \n",
       "\n",
       "   Length  \n",
       "0       4  \n",
       "1       3  \n",
       "2       4  \n",
       "3       2  \n",
       "4       3  "
      ]
     },
     "execution_count": 75,
     "metadata": {},
     "output_type": "execute_result"
    }
   ],
   "source": [
    "valdf.head()"
   ]
  },
  {
   "cell_type": "code",
   "execution_count": 76,
   "id": "366e7b55",
   "metadata": {
    "ExecuteTime": {
     "end_time": "2023-08-08T18:44:27.315172Z",
     "start_time": "2023-08-08T18:44:27.299776Z"
    }
   },
   "outputs": [
    {
     "data": {
      "text/html": [
       "<div>\n",
       "<style scoped>\n",
       "    .dataframe tbody tr th:only-of-type {\n",
       "        vertical-align: middle;\n",
       "    }\n",
       "\n",
       "    .dataframe tbody tr th {\n",
       "        vertical-align: top;\n",
       "    }\n",
       "\n",
       "    .dataframe thead th {\n",
       "        text-align: right;\n",
       "    }\n",
       "</style>\n",
       "<table border=\"1\" class=\"dataframe\">\n",
       "  <thead>\n",
       "    <tr style=\"text-align: right;\">\n",
       "      <th></th>\n",
       "      <th>Frequency</th>\n",
       "      <th>Frames</th>\n",
       "      <th>FPS</th>\n",
       "      <th>Length</th>\n",
       "    </tr>\n",
       "  </thead>\n",
       "  <tbody>\n",
       "    <tr>\n",
       "      <th>count</th>\n",
       "      <td>191.000000</td>\n",
       "      <td>191.000000</td>\n",
       "      <td>191.000000</td>\n",
       "      <td>191.000000</td>\n",
       "    </tr>\n",
       "    <tr>\n",
       "      <th>mean</th>\n",
       "      <td>3.963351</td>\n",
       "      <td>88.905759</td>\n",
       "      <td>29.706806</td>\n",
       "      <td>3.000000</td>\n",
       "    </tr>\n",
       "    <tr>\n",
       "      <th>std</th>\n",
       "      <td>0.770316</td>\n",
       "      <td>36.214006</td>\n",
       "      <td>0.456423</td>\n",
       "      <td>1.248157</td>\n",
       "    </tr>\n",
       "    <tr>\n",
       "      <th>min</th>\n",
       "      <td>3.000000</td>\n",
       "      <td>37.000000</td>\n",
       "      <td>29.000000</td>\n",
       "      <td>1.000000</td>\n",
       "    </tr>\n",
       "    <tr>\n",
       "      <th>25%</th>\n",
       "      <td>3.000000</td>\n",
       "      <td>61.500000</td>\n",
       "      <td>29.000000</td>\n",
       "      <td>2.000000</td>\n",
       "    </tr>\n",
       "    <tr>\n",
       "      <th>50%</th>\n",
       "      <td>4.000000</td>\n",
       "      <td>76.000000</td>\n",
       "      <td>30.000000</td>\n",
       "      <td>3.000000</td>\n",
       "    </tr>\n",
       "    <tr>\n",
       "      <th>75%</th>\n",
       "      <td>4.000000</td>\n",
       "      <td>117.500000</td>\n",
       "      <td>30.000000</td>\n",
       "      <td>4.000000</td>\n",
       "    </tr>\n",
       "    <tr>\n",
       "      <th>max</th>\n",
       "      <td>6.000000</td>\n",
       "      <td>207.000000</td>\n",
       "      <td>30.000000</td>\n",
       "      <td>7.000000</td>\n",
       "    </tr>\n",
       "  </tbody>\n",
       "</table>\n",
       "</div>"
      ],
      "text/plain": [
       "        Frequency      Frames         FPS      Length\n",
       "count  191.000000  191.000000  191.000000  191.000000\n",
       "mean     3.963351   88.905759   29.706806    3.000000\n",
       "std      0.770316   36.214006    0.456423    1.248157\n",
       "min      3.000000   37.000000   29.000000    1.000000\n",
       "25%      3.000000   61.500000   29.000000    2.000000\n",
       "50%      4.000000   76.000000   30.000000    3.000000\n",
       "75%      4.000000  117.500000   30.000000    4.000000\n",
       "max      6.000000  207.000000   30.000000    7.000000"
      ]
     },
     "execution_count": 76,
     "metadata": {},
     "output_type": "execute_result"
    }
   ],
   "source": [
    "valdf.describe()"
   ]
  },
  {
   "cell_type": "code",
   "execution_count": 77,
   "id": "2c20676f",
   "metadata": {
    "ExecuteTime": {
     "end_time": "2023-08-08T18:44:33.508122Z",
     "start_time": "2023-08-08T18:44:33.491212Z"
    }
   },
   "outputs": [
    {
     "data": {
      "text/html": [
       "<div>\n",
       "<style scoped>\n",
       "    .dataframe tbody tr th:only-of-type {\n",
       "        vertical-align: middle;\n",
       "    }\n",
       "\n",
       "    .dataframe tbody tr th {\n",
       "        vertical-align: top;\n",
       "    }\n",
       "\n",
       "    .dataframe thead th {\n",
       "        text-align: right;\n",
       "    }\n",
       "</style>\n",
       "<table border=\"1\" class=\"dataframe\">\n",
       "  <thead>\n",
       "    <tr style=\"text-align: right;\">\n",
       "      <th></th>\n",
       "      <th>Frequency</th>\n",
       "      <th>Frames</th>\n",
       "      <th>FPS</th>\n",
       "      <th>Length</th>\n",
       "    </tr>\n",
       "  </thead>\n",
       "  <tbody>\n",
       "    <tr>\n",
       "      <th>count</th>\n",
       "      <td>162.000000</td>\n",
       "      <td>162.000000</td>\n",
       "      <td>162.000000</td>\n",
       "      <td>162.000000</td>\n",
       "    </tr>\n",
       "    <tr>\n",
       "      <th>mean</th>\n",
       "      <td>3.993827</td>\n",
       "      <td>78.203704</td>\n",
       "      <td>29.691358</td>\n",
       "      <td>2.623457</td>\n",
       "    </tr>\n",
       "    <tr>\n",
       "      <th>std</th>\n",
       "      <td>0.760001</td>\n",
       "      <td>23.787397</td>\n",
       "      <td>0.463365</td>\n",
       "      <td>0.772311</td>\n",
       "    </tr>\n",
       "    <tr>\n",
       "      <th>min</th>\n",
       "      <td>3.000000</td>\n",
       "      <td>45.000000</td>\n",
       "      <td>29.000000</td>\n",
       "      <td>2.000000</td>\n",
       "    </tr>\n",
       "    <tr>\n",
       "      <th>25%</th>\n",
       "      <td>3.000000</td>\n",
       "      <td>59.250000</td>\n",
       "      <td>29.000000</td>\n",
       "      <td>2.000000</td>\n",
       "    </tr>\n",
       "    <tr>\n",
       "      <th>50%</th>\n",
       "      <td>4.000000</td>\n",
       "      <td>71.500000</td>\n",
       "      <td>30.000000</td>\n",
       "      <td>2.000000</td>\n",
       "    </tr>\n",
       "    <tr>\n",
       "      <th>75%</th>\n",
       "      <td>4.000000</td>\n",
       "      <td>92.000000</td>\n",
       "      <td>30.000000</td>\n",
       "      <td>3.000000</td>\n",
       "    </tr>\n",
       "    <tr>\n",
       "      <th>max</th>\n",
       "      <td>6.000000</td>\n",
       "      <td>130.000000</td>\n",
       "      <td>30.000000</td>\n",
       "      <td>4.000000</td>\n",
       "    </tr>\n",
       "  </tbody>\n",
       "</table>\n",
       "</div>"
      ],
      "text/plain": [
       "        Frequency      Frames         FPS      Length\n",
       "count  162.000000  162.000000  162.000000  162.000000\n",
       "mean     3.993827   78.203704   29.691358    2.623457\n",
       "std      0.760001   23.787397    0.463365    0.772311\n",
       "min      3.000000   45.000000   29.000000    2.000000\n",
       "25%      3.000000   59.250000   29.000000    2.000000\n",
       "50%      4.000000   71.500000   30.000000    2.000000\n",
       "75%      4.000000   92.000000   30.000000    3.000000\n",
       "max      6.000000  130.000000   30.000000    4.000000"
      ]
     },
     "execution_count": 77,
     "metadata": {},
     "output_type": "execute_result"
    }
   ],
   "source": [
    "valdf = valdf[(valdf['Length'] > 1) & (valdf['FPS'] > 28) &(valdf['Frames'] < 131) ]\n",
    "#filtered_df = traindf[(traindf['Frames'] > 0) & (traindf['Frames'] < 121)]\n",
    "#filtered_df = traindf[traindf['Frames'] > 0]\n",
    "valdf = valdf.reset_index(drop=True)\n",
    "valdf.describe()"
   ]
  },
  {
   "cell_type": "code",
   "execution_count": 78,
   "id": "bbacb7f1",
   "metadata": {
    "ExecuteTime": {
     "end_time": "2023-08-08T18:44:39.509538Z",
     "start_time": "2023-08-08T18:44:39.486876Z"
    }
   },
   "outputs": [
    {
     "data": {
      "text/html": [
       "<div>\n",
       "<style scoped>\n",
       "    .dataframe tbody tr th:only-of-type {\n",
       "        vertical-align: middle;\n",
       "    }\n",
       "\n",
       "    .dataframe tbody tr th {\n",
       "        vertical-align: top;\n",
       "    }\n",
       "\n",
       "    .dataframe thead th {\n",
       "        text-align: right;\n",
       "    }\n",
       "</style>\n",
       "<table border=\"1\" class=\"dataframe\">\n",
       "  <thead>\n",
       "    <tr style=\"text-align: right;\">\n",
       "      <th></th>\n",
       "      <th>Frequency</th>\n",
       "      <th>Frames</th>\n",
       "      <th>FPS</th>\n",
       "      <th>Length</th>\n",
       "    </tr>\n",
       "  </thead>\n",
       "  <tbody>\n",
       "    <tr>\n",
       "      <th>count</th>\n",
       "      <td>162.000000</td>\n",
       "      <td>162.000000</td>\n",
       "      <td>162.000000</td>\n",
       "      <td>162.000000</td>\n",
       "    </tr>\n",
       "    <tr>\n",
       "      <th>mean</th>\n",
       "      <td>3.506173</td>\n",
       "      <td>78.203704</td>\n",
       "      <td>29.691358</td>\n",
       "      <td>2.623457</td>\n",
       "    </tr>\n",
       "    <tr>\n",
       "      <th>std</th>\n",
       "      <td>0.907162</td>\n",
       "      <td>23.787397</td>\n",
       "      <td>0.463365</td>\n",
       "      <td>0.772311</td>\n",
       "    </tr>\n",
       "    <tr>\n",
       "      <th>min</th>\n",
       "      <td>2.000000</td>\n",
       "      <td>45.000000</td>\n",
       "      <td>29.000000</td>\n",
       "      <td>2.000000</td>\n",
       "    </tr>\n",
       "    <tr>\n",
       "      <th>25%</th>\n",
       "      <td>3.000000</td>\n",
       "      <td>59.250000</td>\n",
       "      <td>29.000000</td>\n",
       "      <td>2.000000</td>\n",
       "    </tr>\n",
       "    <tr>\n",
       "      <th>50%</th>\n",
       "      <td>4.000000</td>\n",
       "      <td>71.500000</td>\n",
       "      <td>30.000000</td>\n",
       "      <td>2.000000</td>\n",
       "    </tr>\n",
       "    <tr>\n",
       "      <th>75%</th>\n",
       "      <td>4.000000</td>\n",
       "      <td>92.000000</td>\n",
       "      <td>30.000000</td>\n",
       "      <td>3.000000</td>\n",
       "    </tr>\n",
       "    <tr>\n",
       "      <th>max</th>\n",
       "      <td>5.000000</td>\n",
       "      <td>130.000000</td>\n",
       "      <td>30.000000</td>\n",
       "      <td>4.000000</td>\n",
       "    </tr>\n",
       "  </tbody>\n",
       "</table>\n",
       "</div>"
      ],
      "text/plain": [
       "        Frequency      Frames         FPS      Length\n",
       "count  162.000000  162.000000  162.000000  162.000000\n",
       "mean     3.506173   78.203704   29.691358    2.623457\n",
       "std      0.907162   23.787397    0.463365    0.772311\n",
       "min      2.000000   45.000000   29.000000    2.000000\n",
       "25%      3.000000   59.250000   29.000000    2.000000\n",
       "50%      4.000000   71.500000   30.000000    2.000000\n",
       "75%      4.000000   92.000000   30.000000    3.000000\n",
       "max      5.000000  130.000000   30.000000    4.000000"
      ]
     },
     "execution_count": 78,
     "metadata": {},
     "output_type": "execute_result"
    }
   ],
   "source": [
    "valdf['Frequency'] = valdf['Gloss'].map(valdf['Gloss'].value_counts())\n",
    "#valdf = valdf.sort_values(by='Frequency',)\n",
    "\n",
    "valdf.describe()"
   ]
  },
  {
   "cell_type": "code",
   "execution_count": 79,
   "id": "d63acde7",
   "metadata": {
    "ExecuteTime": {
     "end_time": "2023-08-08T18:44:46.007682Z",
     "start_time": "2023-08-08T18:44:46.004109Z"
    },
    "scrolled": true
   },
   "outputs": [
    {
     "name": "stdout",
     "output_type": "stream",
     "text": [
      "50\n"
     ]
    }
   ],
   "source": [
    "print(valdf['Gloss'].nunique())"
   ]
  },
  {
   "cell_type": "code",
   "execution_count": 80,
   "id": "db83287e",
   "metadata": {
    "ExecuteTime": {
     "end_time": "2023-08-08T18:45:34.207819Z",
     "start_time": "2023-08-08T18:44:52.653685Z"
    },
    "scrolled": true
   },
   "outputs": [
    {
     "name": "stderr",
     "output_type": "stream",
     "text": [
      "100%|█████████████████████████████████████████| 729/729 [00:41<00:00, 17.55it/s]\n"
     ]
    }
   ],
   "source": [
    "tqdm.pandas()\n",
    "testdf[['Frames', 'FPS', 'Length']] = testdf['Path'].progress_apply(lambda x: pd.Series(frames_from_file(x)))"
   ]
  },
  {
   "cell_type": "code",
   "execution_count": 81,
   "id": "a62678e9",
   "metadata": {
    "ExecuteTime": {
     "end_time": "2023-08-08T18:46:07.028492Z",
     "start_time": "2023-08-08T18:46:07.025241Z"
    }
   },
   "outputs": [
    {
     "data": {
      "text/plain": [
       "234"
      ]
     },
     "execution_count": 81,
     "metadata": {},
     "output_type": "execute_result"
    }
   ],
   "source": [
    "testdf['Frames'].max()"
   ]
  },
  {
   "cell_type": "code",
   "execution_count": 82,
   "id": "7395e5bd",
   "metadata": {
    "ExecuteTime": {
     "end_time": "2023-08-08T18:46:12.793243Z",
     "start_time": "2023-08-08T18:46:12.784097Z"
    },
    "scrolled": true
   },
   "outputs": [
    {
     "data": {
      "text/html": [
       "<div>\n",
       "<style scoped>\n",
       "    .dataframe tbody tr th:only-of-type {\n",
       "        vertical-align: middle;\n",
       "    }\n",
       "\n",
       "    .dataframe tbody tr th {\n",
       "        vertical-align: top;\n",
       "    }\n",
       "\n",
       "    .dataframe thead th {\n",
       "        text-align: right;\n",
       "    }\n",
       "</style>\n",
       "<table border=\"1\" class=\"dataframe\">\n",
       "  <thead>\n",
       "    <tr style=\"text-align: right;\">\n",
       "      <th></th>\n",
       "      <th>Participant ID</th>\n",
       "      <th>Video file</th>\n",
       "      <th>Gloss</th>\n",
       "      <th>ASL-LEX Code</th>\n",
       "      <th>Path</th>\n",
       "      <th>Frequency</th>\n",
       "      <th>Frames</th>\n",
       "      <th>FPS</th>\n",
       "      <th>Length</th>\n",
       "    </tr>\n",
       "  </thead>\n",
       "  <tbody>\n",
       "    <tr>\n",
       "      <th>0</th>\n",
       "      <td>P15</td>\n",
       "      <td>33721516025652254-AXE.mp4</td>\n",
       "      <td>AXE</td>\n",
       "      <td>G_03_066</td>\n",
       "      <td>file:///media/kristian/HDD/ASL_Citizen/ASL_Cit...</td>\n",
       "      <td>15</td>\n",
       "      <td>196</td>\n",
       "      <td>29</td>\n",
       "      <td>7</td>\n",
       "    </tr>\n",
       "    <tr>\n",
       "      <th>1</th>\n",
       "      <td>P47</td>\n",
       "      <td>519067006979435-AXE.mp4</td>\n",
       "      <td>AXE</td>\n",
       "      <td>G_03_066</td>\n",
       "      <td>file:///media/kristian/HDD/ASL_Citizen/ASL_Cit...</td>\n",
       "      <td>15</td>\n",
       "      <td>102</td>\n",
       "      <td>26</td>\n",
       "      <td>4</td>\n",
       "    </tr>\n",
       "    <tr>\n",
       "      <th>2</th>\n",
       "      <td>P35</td>\n",
       "      <td>5104381603195376-AXE.mp4</td>\n",
       "      <td>AXE</td>\n",
       "      <td>G_03_066</td>\n",
       "      <td>file:///media/kristian/HDD/ASL_Citizen/ASL_Cit...</td>\n",
       "      <td>15</td>\n",
       "      <td>70</td>\n",
       "      <td>29</td>\n",
       "      <td>2</td>\n",
       "    </tr>\n",
       "    <tr>\n",
       "      <th>3</th>\n",
       "      <td>P42</td>\n",
       "      <td>44458614013793873-AXE.mp4</td>\n",
       "      <td>AXE</td>\n",
       "      <td>G_03_066</td>\n",
       "      <td>file:///media/kristian/HDD/ASL_Citizen/ASL_Cit...</td>\n",
       "      <td>15</td>\n",
       "      <td>57</td>\n",
       "      <td>30</td>\n",
       "      <td>2</td>\n",
       "    </tr>\n",
       "    <tr>\n",
       "      <th>4</th>\n",
       "      <td>P42</td>\n",
       "      <td>9604797909481075-AXE.mp4</td>\n",
       "      <td>AXE</td>\n",
       "      <td>G_03_066</td>\n",
       "      <td>file:///media/kristian/HDD/ASL_Citizen/ASL_Cit...</td>\n",
       "      <td>15</td>\n",
       "      <td>66</td>\n",
       "      <td>30</td>\n",
       "      <td>2</td>\n",
       "    </tr>\n",
       "  </tbody>\n",
       "</table>\n",
       "</div>"
      ],
      "text/plain": [
       "  Participant ID                 Video file Gloss ASL-LEX Code  \\\n",
       "0            P15  33721516025652254-AXE.mp4   AXE     G_03_066   \n",
       "1            P47    519067006979435-AXE.mp4   AXE     G_03_066   \n",
       "2            P35   5104381603195376-AXE.mp4   AXE     G_03_066   \n",
       "3            P42  44458614013793873-AXE.mp4   AXE     G_03_066   \n",
       "4            P42   9604797909481075-AXE.mp4   AXE     G_03_066   \n",
       "\n",
       "                                                Path  Frequency  Frames  FPS  \\\n",
       "0  file:///media/kristian/HDD/ASL_Citizen/ASL_Cit...         15     196   29   \n",
       "1  file:///media/kristian/HDD/ASL_Citizen/ASL_Cit...         15     102   26   \n",
       "2  file:///media/kristian/HDD/ASL_Citizen/ASL_Cit...         15      70   29   \n",
       "3  file:///media/kristian/HDD/ASL_Citizen/ASL_Cit...         15      57   30   \n",
       "4  file:///media/kristian/HDD/ASL_Citizen/ASL_Cit...         15      66   30   \n",
       "\n",
       "   Length  \n",
       "0       7  \n",
       "1       4  \n",
       "2       2  \n",
       "3       2  \n",
       "4       2  "
      ]
     },
     "execution_count": 82,
     "metadata": {},
     "output_type": "execute_result"
    }
   ],
   "source": [
    "testdf.head()"
   ]
  },
  {
   "cell_type": "code",
   "execution_count": 83,
   "id": "3aba3d90",
   "metadata": {
    "ExecuteTime": {
     "end_time": "2023-08-08T18:46:18.906860Z",
     "start_time": "2023-08-08T18:46:18.889302Z"
    }
   },
   "outputs": [
    {
     "data": {
      "text/html": [
       "<div>\n",
       "<style scoped>\n",
       "    .dataframe tbody tr th:only-of-type {\n",
       "        vertical-align: middle;\n",
       "    }\n",
       "\n",
       "    .dataframe tbody tr th {\n",
       "        vertical-align: top;\n",
       "    }\n",
       "\n",
       "    .dataframe thead th {\n",
       "        text-align: right;\n",
       "    }\n",
       "</style>\n",
       "<table border=\"1\" class=\"dataframe\">\n",
       "  <thead>\n",
       "    <tr style=\"text-align: right;\">\n",
       "      <th></th>\n",
       "      <th>Frequency</th>\n",
       "      <th>Frames</th>\n",
       "      <th>FPS</th>\n",
       "      <th>Length</th>\n",
       "    </tr>\n",
       "  </thead>\n",
       "  <tbody>\n",
       "    <tr>\n",
       "      <th>count</th>\n",
       "      <td>729.000000</td>\n",
       "      <td>729.000000</td>\n",
       "      <td>729.000000</td>\n",
       "      <td>729.000000</td>\n",
       "    </tr>\n",
       "    <tr>\n",
       "      <th>mean</th>\n",
       "      <td>14.978052</td>\n",
       "      <td>75.192044</td>\n",
       "      <td>28.696845</td>\n",
       "      <td>2.624143</td>\n",
       "    </tr>\n",
       "    <tr>\n",
       "      <th>std</th>\n",
       "      <td>2.229192</td>\n",
       "      <td>27.848864</td>\n",
       "      <td>3.113689</td>\n",
       "      <td>1.003439</td>\n",
       "    </tr>\n",
       "    <tr>\n",
       "      <th>min</th>\n",
       "      <td>9.000000</td>\n",
       "      <td>10.000000</td>\n",
       "      <td>14.000000</td>\n",
       "      <td>0.000000</td>\n",
       "    </tr>\n",
       "    <tr>\n",
       "      <th>25%</th>\n",
       "      <td>14.000000</td>\n",
       "      <td>56.000000</td>\n",
       "      <td>29.000000</td>\n",
       "      <td>2.000000</td>\n",
       "    </tr>\n",
       "    <tr>\n",
       "      <th>50%</th>\n",
       "      <td>15.000000</td>\n",
       "      <td>73.000000</td>\n",
       "      <td>30.000000</td>\n",
       "      <td>3.000000</td>\n",
       "    </tr>\n",
       "    <tr>\n",
       "      <th>75%</th>\n",
       "      <td>16.000000</td>\n",
       "      <td>90.000000</td>\n",
       "      <td>30.000000</td>\n",
       "      <td>3.000000</td>\n",
       "    </tr>\n",
       "    <tr>\n",
       "      <th>max</th>\n",
       "      <td>20.000000</td>\n",
       "      <td>234.000000</td>\n",
       "      <td>31.000000</td>\n",
       "      <td>8.000000</td>\n",
       "    </tr>\n",
       "  </tbody>\n",
       "</table>\n",
       "</div>"
      ],
      "text/plain": [
       "        Frequency      Frames         FPS      Length\n",
       "count  729.000000  729.000000  729.000000  729.000000\n",
       "mean    14.978052   75.192044   28.696845    2.624143\n",
       "std      2.229192   27.848864    3.113689    1.003439\n",
       "min      9.000000   10.000000   14.000000    0.000000\n",
       "25%     14.000000   56.000000   29.000000    2.000000\n",
       "50%     15.000000   73.000000   30.000000    3.000000\n",
       "75%     16.000000   90.000000   30.000000    3.000000\n",
       "max     20.000000  234.000000   31.000000    8.000000"
      ]
     },
     "execution_count": 83,
     "metadata": {},
     "output_type": "execute_result"
    }
   ],
   "source": [
    "testdf.describe()"
   ]
  },
  {
   "cell_type": "code",
   "execution_count": 84,
   "id": "1f35b8a3",
   "metadata": {
    "ExecuteTime": {
     "end_time": "2023-08-08T18:46:24.989902Z",
     "start_time": "2023-08-08T18:46:24.969121Z"
    }
   },
   "outputs": [
    {
     "data": {
      "text/html": [
       "<div>\n",
       "<style scoped>\n",
       "    .dataframe tbody tr th:only-of-type {\n",
       "        vertical-align: middle;\n",
       "    }\n",
       "\n",
       "    .dataframe tbody tr th {\n",
       "        vertical-align: top;\n",
       "    }\n",
       "\n",
       "    .dataframe thead th {\n",
       "        text-align: right;\n",
       "    }\n",
       "</style>\n",
       "<table border=\"1\" class=\"dataframe\">\n",
       "  <thead>\n",
       "    <tr style=\"text-align: right;\">\n",
       "      <th></th>\n",
       "      <th>Frequency</th>\n",
       "      <th>Frames</th>\n",
       "      <th>FPS</th>\n",
       "      <th>Length</th>\n",
       "    </tr>\n",
       "  </thead>\n",
       "  <tbody>\n",
       "    <tr>\n",
       "      <th>count</th>\n",
       "      <td>534.000000</td>\n",
       "      <td>534.000000</td>\n",
       "      <td>534.000000</td>\n",
       "      <td>534.000000</td>\n",
       "    </tr>\n",
       "    <tr>\n",
       "      <th>mean</th>\n",
       "      <td>15.014981</td>\n",
       "      <td>77.256554</td>\n",
       "      <td>29.702247</td>\n",
       "      <td>2.619850</td>\n",
       "    </tr>\n",
       "    <tr>\n",
       "      <th>std</th>\n",
       "      <td>2.217904</td>\n",
       "      <td>19.420007</td>\n",
       "      <td>0.526337</td>\n",
       "      <td>0.670792</td>\n",
       "    </tr>\n",
       "    <tr>\n",
       "      <th>min</th>\n",
       "      <td>9.000000</td>\n",
       "      <td>45.000000</td>\n",
       "      <td>29.000000</td>\n",
       "      <td>2.000000</td>\n",
       "    </tr>\n",
       "    <tr>\n",
       "      <th>25%</th>\n",
       "      <td>14.000000</td>\n",
       "      <td>61.000000</td>\n",
       "      <td>29.000000</td>\n",
       "      <td>2.000000</td>\n",
       "    </tr>\n",
       "    <tr>\n",
       "      <th>50%</th>\n",
       "      <td>15.000000</td>\n",
       "      <td>75.000000</td>\n",
       "      <td>30.000000</td>\n",
       "      <td>3.000000</td>\n",
       "    </tr>\n",
       "    <tr>\n",
       "      <th>75%</th>\n",
       "      <td>16.000000</td>\n",
       "      <td>91.000000</td>\n",
       "      <td>30.000000</td>\n",
       "      <td>3.000000</td>\n",
       "    </tr>\n",
       "    <tr>\n",
       "      <th>max</th>\n",
       "      <td>20.000000</td>\n",
       "      <td>130.000000</td>\n",
       "      <td>31.000000</td>\n",
       "      <td>4.000000</td>\n",
       "    </tr>\n",
       "  </tbody>\n",
       "</table>\n",
       "</div>"
      ],
      "text/plain": [
       "        Frequency      Frames         FPS      Length\n",
       "count  534.000000  534.000000  534.000000  534.000000\n",
       "mean    15.014981   77.256554   29.702247    2.619850\n",
       "std      2.217904   19.420007    0.526337    0.670792\n",
       "min      9.000000   45.000000   29.000000    2.000000\n",
       "25%     14.000000   61.000000   29.000000    2.000000\n",
       "50%     15.000000   75.000000   30.000000    3.000000\n",
       "75%     16.000000   91.000000   30.000000    3.000000\n",
       "max     20.000000  130.000000   31.000000    4.000000"
      ]
     },
     "execution_count": 84,
     "metadata": {},
     "output_type": "execute_result"
    }
   ],
   "source": [
    "testdf = testdf[(testdf['Length'] > 1) & (testdf['FPS'] > 28) &(testdf['Frames'] < 131) ]\n",
    "#filtered_df = traindf[(traindf['Frames'] > 0) & (traindf['Frames'] < 121)]\n",
    "#filtered_df = traindf[traindf['Frames'] > 0]\n",
    "testdf = testdf.reset_index(drop=True)\n",
    "testdf.describe()"
   ]
  },
  {
   "cell_type": "code",
   "execution_count": 85,
   "id": "4be6e1b2",
   "metadata": {
    "ExecuteTime": {
     "end_time": "2023-08-08T18:46:31.077730Z",
     "start_time": "2023-08-08T18:46:31.050398Z"
    }
   },
   "outputs": [
    {
     "data": {
      "text/html": [
       "<div>\n",
       "<style scoped>\n",
       "    .dataframe tbody tr th:only-of-type {\n",
       "        vertical-align: middle;\n",
       "    }\n",
       "\n",
       "    .dataframe tbody tr th {\n",
       "        vertical-align: top;\n",
       "    }\n",
       "\n",
       "    .dataframe thead th {\n",
       "        text-align: right;\n",
       "    }\n",
       "</style>\n",
       "<table border=\"1\" class=\"dataframe\">\n",
       "  <thead>\n",
       "    <tr style=\"text-align: right;\">\n",
       "      <th></th>\n",
       "      <th>Frequency</th>\n",
       "      <th>Frames</th>\n",
       "      <th>FPS</th>\n",
       "      <th>Length</th>\n",
       "    </tr>\n",
       "  </thead>\n",
       "  <tbody>\n",
       "    <tr>\n",
       "      <th>count</th>\n",
       "      <td>534.000000</td>\n",
       "      <td>534.000000</td>\n",
       "      <td>534.000000</td>\n",
       "      <td>534.000000</td>\n",
       "    </tr>\n",
       "    <tr>\n",
       "      <th>mean</th>\n",
       "      <td>11.254682</td>\n",
       "      <td>77.256554</td>\n",
       "      <td>29.702247</td>\n",
       "      <td>2.619850</td>\n",
       "    </tr>\n",
       "    <tr>\n",
       "      <th>std</th>\n",
       "      <td>2.311308</td>\n",
       "      <td>19.420007</td>\n",
       "      <td>0.526337</td>\n",
       "      <td>0.670792</td>\n",
       "    </tr>\n",
       "    <tr>\n",
       "      <th>min</th>\n",
       "      <td>5.000000</td>\n",
       "      <td>45.000000</td>\n",
       "      <td>29.000000</td>\n",
       "      <td>2.000000</td>\n",
       "    </tr>\n",
       "    <tr>\n",
       "      <th>25%</th>\n",
       "      <td>10.000000</td>\n",
       "      <td>61.000000</td>\n",
       "      <td>29.000000</td>\n",
       "      <td>2.000000</td>\n",
       "    </tr>\n",
       "    <tr>\n",
       "      <th>50%</th>\n",
       "      <td>12.000000</td>\n",
       "      <td>75.000000</td>\n",
       "      <td>30.000000</td>\n",
       "      <td>3.000000</td>\n",
       "    </tr>\n",
       "    <tr>\n",
       "      <th>75%</th>\n",
       "      <td>13.000000</td>\n",
       "      <td>91.000000</td>\n",
       "      <td>30.000000</td>\n",
       "      <td>3.000000</td>\n",
       "    </tr>\n",
       "    <tr>\n",
       "      <th>max</th>\n",
       "      <td>15.000000</td>\n",
       "      <td>130.000000</td>\n",
       "      <td>31.000000</td>\n",
       "      <td>4.000000</td>\n",
       "    </tr>\n",
       "  </tbody>\n",
       "</table>\n",
       "</div>"
      ],
      "text/plain": [
       "        Frequency      Frames         FPS      Length\n",
       "count  534.000000  534.000000  534.000000  534.000000\n",
       "mean    11.254682   77.256554   29.702247    2.619850\n",
       "std      2.311308   19.420007    0.526337    0.670792\n",
       "min      5.000000   45.000000   29.000000    2.000000\n",
       "25%     10.000000   61.000000   29.000000    2.000000\n",
       "50%     12.000000   75.000000   30.000000    3.000000\n",
       "75%     13.000000   91.000000   30.000000    3.000000\n",
       "max     15.000000  130.000000   31.000000    4.000000"
      ]
     },
     "execution_count": 85,
     "metadata": {},
     "output_type": "execute_result"
    }
   ],
   "source": [
    "testdf['Frequency'] = testdf['Gloss'].map(testdf['Gloss'].value_counts())\n",
    "#testdf = testdf.sort_values(by='Frequency',)\n",
    "\n",
    "testdf.describe()"
   ]
  },
  {
   "cell_type": "code",
   "execution_count": 80,
   "id": "f92bddde",
   "metadata": {
    "ExecuteTime": {
     "end_time": "2023-08-07T14:44:29.065067Z",
     "start_time": "2023-08-07T14:44:29.062322Z"
    }
   },
   "outputs": [
    {
     "name": "stdout",
     "output_type": "stream",
     "text": [
      "50\n"
     ]
    }
   ],
   "source": [
    "print(testdf['Gloss'].nunique())"
   ]
  },
  {
   "cell_type": "code",
   "execution_count": 81,
   "id": "55f0bfc1",
   "metadata": {
    "ExecuteTime": {
     "end_time": "2023-08-07T17:11:51.091385Z",
     "start_time": "2023-08-07T14:44:36.899220Z"
    }
   },
   "outputs": [
    {
     "name": "stderr",
     "output_type": "stream",
     "text": [
      "100%|███████████████████████████████████████| 804/804 [2:27:14<00:00, 10.99s/it]\n"
     ]
    }
   ],
   "source": [
    "keypoints_series = traindf['Path'].progress_apply(extract_keypoints_from_file)"
   ]
  },
  {
   "cell_type": "code",
   "execution_count": 110,
   "id": "e614bc50",
   "metadata": {
    "ExecuteTime": {
     "end_time": "2023-08-07T17:17:42.418868Z",
     "start_time": "2023-08-07T17:17:42.414814Z"
    }
   },
   "outputs": [
    {
     "data": {
      "text/plain": [
       "(804,)"
      ]
     },
     "execution_count": 110,
     "metadata": {},
     "output_type": "execute_result"
    }
   ],
   "source": [
    "keypoints_series.shape"
   ]
  },
  {
   "cell_type": "code",
   "execution_count": 84,
   "id": "e13534ab",
   "metadata": {
    "ExecuteTime": {
     "end_time": "2023-08-07T17:12:33.331826Z",
     "start_time": "2023-08-07T17:12:12.852894Z"
    }
   },
   "outputs": [],
   "source": [
    "np.save(\"/home/kristian/Capstone/keypoints/ASL_Citizen/Mediapipe/train_keypoints.npy\", keypoints_series)"
   ]
  },
  {
   "cell_type": "code",
   "execution_count": 108,
   "id": "9f2a7ac5",
   "metadata": {
    "ExecuteTime": {
     "end_time": "2023-08-07T17:17:35.006688Z",
     "start_time": "2023-08-07T17:17:34.701272Z"
    }
   },
   "outputs": [],
   "source": [
    "import numpy as np\n",
    "keypoints_series=np.load(\"/home/kristian/Capstone/keypoints/ASL_Citizen/Mediapipe/train_keypoints.npy\",allow_pickle=True)"
   ]
  },
  {
   "cell_type": "code",
   "execution_count": 111,
   "id": "e1248da2",
   "metadata": {
    "ExecuteTime": {
     "end_time": "2023-08-07T17:17:44.640719Z",
     "start_time": "2023-08-07T17:17:44.635950Z"
    }
   },
   "outputs": [
    {
     "data": {
      "text/plain": [
       "130"
      ]
     },
     "execution_count": 111,
     "metadata": {},
     "output_type": "execute_result"
    }
   ],
   "source": [
    "max(keypoints.shape[0] for keypoints in keypoints_series)"
   ]
  },
  {
   "cell_type": "code",
   "execution_count": 112,
   "id": "e0706526",
   "metadata": {
    "ExecuteTime": {
     "end_time": "2023-08-07T17:17:45.423730Z",
     "start_time": "2023-08-07T17:17:45.419937Z"
    }
   },
   "outputs": [
    {
     "data": {
      "text/plain": [
       "45"
      ]
     },
     "execution_count": 112,
     "metadata": {},
     "output_type": "execute_result"
    }
   ],
   "source": [
    "min(keypoints.shape[0] for keypoints in keypoints_series)\n"
   ]
  },
  {
   "cell_type": "code",
   "execution_count": 113,
   "id": "5777338f",
   "metadata": {
    "ExecuteTime": {
     "end_time": "2023-08-07T17:17:50.608906Z",
     "start_time": "2023-08-07T17:17:50.606352Z"
    }
   },
   "outputs": [],
   "source": [
    "max_len = traindf['Frames'].max()"
   ]
  },
  {
   "cell_type": "code",
   "execution_count": 114,
   "id": "c59e0367",
   "metadata": {
    "ExecuteTime": {
     "end_time": "2023-08-07T17:17:51.324808Z",
     "start_time": "2023-08-07T17:17:51.321849Z"
    }
   },
   "outputs": [
    {
     "data": {
      "text/plain": [
       "130"
      ]
     },
     "execution_count": 114,
     "metadata": {},
     "output_type": "execute_result"
    }
   ],
   "source": [
    "max_len"
   ]
  },
  {
   "cell_type": "code",
   "execution_count": 94,
   "id": "bd079722",
   "metadata": {
    "ExecuteTime": {
     "end_time": "2023-08-07T17:14:51.431313Z",
     "start_time": "2023-08-07T17:14:51.106018Z"
    }
   },
   "outputs": [],
   "source": [
    "#keypoints_np = np.zeros((len(keypoints_series), max_len, 1662))\n",
    "#for i, keypoints in enumerate(keypoints_series):\n",
    "#    keypoints_np[i, :keypoints.shape[0], :] = keypoints"
   ]
  },
  {
   "cell_type": "code",
   "execution_count": 115,
   "id": "0fb0f5e2",
   "metadata": {
    "ExecuteTime": {
     "end_time": "2023-08-07T17:17:56.244291Z",
     "start_time": "2023-08-07T17:17:55.941457Z"
    }
   },
   "outputs": [],
   "source": [
    "# Create a padded array to store keypoints\n",
    "keypoints_np = np.zeros((len(keypoints_series), max_len, 1662))\n",
    "\n",
    "# Iterate through keypoints_series and fill keypoints_np with pre-padding\n",
    "for i, keypoints in enumerate(keypoints_series):\n",
    "    keypoints_len = min(keypoints.shape[0], max_len)\n",
    "    padding_len = max_len - keypoints_len\n",
    "    keypoints_np[i, padding_len:, :] = keypoints[:keypoints_len, :]"
   ]
  },
  {
   "cell_type": "code",
   "execution_count": 116,
   "id": "26eb2969",
   "metadata": {
    "ExecuteTime": {
     "end_time": "2023-08-07T17:17:57.157063Z",
     "start_time": "2023-08-07T17:17:57.153761Z"
    }
   },
   "outputs": [
    {
     "data": {
      "text/plain": [
       "(804, 130, 1662)"
      ]
     },
     "execution_count": 116,
     "metadata": {},
     "output_type": "execute_result"
    }
   ],
   "source": [
    "keypoints_np.shape"
   ]
  },
  {
   "cell_type": "code",
   "execution_count": 117,
   "id": "150f59b6",
   "metadata": {
    "ExecuteTime": {
     "end_time": "2023-08-07T17:17:59.700799Z",
     "start_time": "2023-08-07T17:17:59.696698Z"
    }
   },
   "outputs": [
    {
     "name": "stdout",
     "output_type": "stream",
     "text": [
      "[[ 0.          0.          0.         ...  0.          0.\n",
      "   0.        ]\n",
      " [ 0.          0.          0.         ...  0.          0.\n",
      "   0.        ]\n",
      " [ 0.          0.          0.         ...  0.          0.\n",
      "   0.        ]\n",
      " ...\n",
      " [ 0.49487716  0.39238185 -1.29218626 ...  0.          0.\n",
      "   0.        ]\n",
      " [ 0.49096876  0.39365393 -1.30090356 ...  0.          0.\n",
      "   0.        ]\n",
      " [ 0.48817223  0.39431143 -1.3236835  ...  0.          0.\n",
      "   0.        ]]\n"
     ]
    }
   ],
   "source": [
    "print(keypoints_np[6])"
   ]
  },
  {
   "cell_type": "code",
   "execution_count": 119,
   "id": "237a962e",
   "metadata": {
    "ExecuteTime": {
     "end_time": "2023-08-07T17:18:20.250710Z",
     "start_time": "2023-08-07T17:18:20.246688Z"
    }
   },
   "outputs": [
    {
     "data": {
      "text/plain": [
       "(804, 130, 1662)"
      ]
     },
     "execution_count": 119,
     "metadata": {},
     "output_type": "execute_result"
    }
   ],
   "source": [
    "keypoints_np.shape"
   ]
  },
  {
   "cell_type": "code",
   "execution_count": 120,
   "id": "1f2be3d0",
   "metadata": {
    "ExecuteTime": {
     "end_time": "2023-08-07T17:48:17.418786Z",
     "start_time": "2023-08-07T17:18:21.912757Z"
    }
   },
   "outputs": [
    {
     "name": "stderr",
     "output_type": "stream",
     "text": [
      "100%|█████████████████████████████████████████| 162/162 [29:55<00:00, 11.08s/it]\n"
     ]
    }
   ],
   "source": [
    "keypoints_series = valdf['Path'].progress_apply(extract_keypoints_from_file)"
   ]
  },
  {
   "cell_type": "code",
   "execution_count": 121,
   "id": "4ec22db7",
   "metadata": {
    "ExecuteTime": {
     "end_time": "2023-08-07T17:48:21.120595Z",
     "start_time": "2023-08-07T17:48:21.117123Z"
    }
   },
   "outputs": [
    {
     "data": {
      "text/plain": [
       "(162,)"
      ]
     },
     "execution_count": 121,
     "metadata": {},
     "output_type": "execute_result"
    }
   ],
   "source": [
    "keypoints_series.shape"
   ]
  },
  {
   "cell_type": "code",
   "execution_count": 122,
   "id": "975a3ce7",
   "metadata": {
    "ExecuteTime": {
     "end_time": "2023-08-07T17:48:39.836151Z",
     "start_time": "2023-08-07T17:48:35.626636Z"
    }
   },
   "outputs": [],
   "source": [
    "np.save(\"/home/kristian/Capstone/keypoints/ASL_Citizen/Mediapipe/val_keypoints.npy\", keypoints_series)"
   ]
  },
  {
   "cell_type": "code",
   "execution_count": 123,
   "id": "44547126",
   "metadata": {
    "ExecuteTime": {
     "end_time": "2023-08-07T17:48:47.081768Z",
     "start_time": "2023-08-07T17:48:47.038337Z"
    }
   },
   "outputs": [],
   "source": [
    "import numpy as np\n",
    "keypoints_series=np.load(\"/home/kristian/Capstone/keypoints/ASL_Citizen/Mediapipe/val_keypoints.npy\",allow_pickle=True)"
   ]
  },
  {
   "cell_type": "code",
   "execution_count": 124,
   "id": "7f22c2fc",
   "metadata": {
    "ExecuteTime": {
     "end_time": "2023-08-07T17:49:01.478911Z",
     "start_time": "2023-08-07T17:49:01.475110Z"
    }
   },
   "outputs": [
    {
     "data": {
      "text/plain": [
       "(162,)"
      ]
     },
     "execution_count": 124,
     "metadata": {},
     "output_type": "execute_result"
    }
   ],
   "source": [
    "keypoints_series.shape"
   ]
  },
  {
   "cell_type": "code",
   "execution_count": 125,
   "id": "8d955591",
   "metadata": {
    "ExecuteTime": {
     "end_time": "2023-08-07T17:49:08.142171Z",
     "start_time": "2023-08-07T17:49:08.139896Z"
    }
   },
   "outputs": [],
   "source": [
    "#keypoints_np = np.zeros((len(keypoints_series), max_len, 1662))\n",
    "#for i, keypoints in enumerate(keypoints_series):\n",
    "#    keypoints_np[i, :keypoints.shape[0], :] = keypoints"
   ]
  },
  {
   "cell_type": "code",
   "execution_count": 126,
   "id": "b376fa0f",
   "metadata": {
    "ExecuteTime": {
     "end_time": "2023-08-07T17:49:12.787861Z",
     "start_time": "2023-08-07T17:49:12.741801Z"
    }
   },
   "outputs": [],
   "source": [
    "# Create a padded array to store keypoints\n",
    "keypoints_np = np.zeros((len(keypoints_series), max_len, 1662))\n",
    "\n",
    "# Iterate through keypoints_series and fill keypoints_np with pre-padding\n",
    "for i, keypoints in enumerate(keypoints_series):\n",
    "    keypoints_len = min(keypoints.shape[0], max_len)\n",
    "    padding_len = max_len - keypoints_len\n",
    "    keypoints_np[i, padding_len:, :] = keypoints[:keypoints_len, :]"
   ]
  },
  {
   "cell_type": "code",
   "execution_count": 127,
   "id": "fc123465",
   "metadata": {
    "ExecuteTime": {
     "end_time": "2023-08-07T17:49:16.366748Z",
     "start_time": "2023-08-07T17:49:16.363415Z"
    }
   },
   "outputs": [
    {
     "data": {
      "text/plain": [
       "(162, 130, 1662)"
      ]
     },
     "execution_count": 127,
     "metadata": {},
     "output_type": "execute_result"
    }
   ],
   "source": [
    "keypoints_np.shape"
   ]
  },
  {
   "cell_type": "code",
   "execution_count": 128,
   "id": "48d73578",
   "metadata": {
    "ExecuteTime": {
     "end_time": "2023-08-07T17:49:17.423093Z",
     "start_time": "2023-08-07T17:49:17.419467Z"
    }
   },
   "outputs": [
    {
     "data": {
      "text/plain": [
       "(162, 130, 1662)"
      ]
     },
     "execution_count": 128,
     "metadata": {},
     "output_type": "execute_result"
    }
   ],
   "source": [
    "keypoints_np.shape"
   ]
  },
  {
   "cell_type": "code",
   "execution_count": 129,
   "id": "34332d29",
   "metadata": {
    "ExecuteTime": {
     "end_time": "2023-08-07T17:49:26.623611Z",
     "start_time": "2023-08-07T17:49:26.617529Z"
    },
    "scrolled": true
   },
   "outputs": [
    {
     "data": {
      "text/plain": [
       "array([[[ 0.        ,  0.        ,  0.        , ...,  0.        ,\n",
       "          0.        ,  0.        ],\n",
       "        [ 0.        ,  0.        ,  0.        , ...,  0.        ,\n",
       "          0.        ,  0.        ],\n",
       "        [ 0.        ,  0.        ,  0.        , ...,  0.        ,\n",
       "          0.        ,  0.        ],\n",
       "        ...,\n",
       "        [ 0.5595299 ,  0.3205725 , -1.27106977, ...,  0.        ,\n",
       "          0.        ,  0.        ],\n",
       "        [ 0.55954963,  0.32069033, -1.25959992, ...,  0.        ,\n",
       "          0.        ,  0.        ],\n",
       "        [ 0.55960971,  0.3209095 , -1.23169589, ...,  0.        ,\n",
       "          0.        ,  0.        ]],\n",
       "\n",
       "       [[ 0.        ,  0.        ,  0.        , ...,  0.        ,\n",
       "          0.        ,  0.        ],\n",
       "        [ 0.        ,  0.        ,  0.        , ...,  0.        ,\n",
       "          0.        ,  0.        ],\n",
       "        [ 0.        ,  0.        ,  0.        , ...,  0.        ,\n",
       "          0.        ,  0.        ],\n",
       "        ...,\n",
       "        [ 0.5183838 ,  0.33223236, -1.15552998, ...,  0.        ,\n",
       "          0.        ,  0.        ],\n",
       "        [ 0.51840633,  0.33222494, -1.12819552, ...,  0.        ,\n",
       "          0.        ,  0.        ],\n",
       "        [ 0.51843715,  0.33220932, -1.11825132, ...,  0.        ,\n",
       "          0.        ,  0.        ]],\n",
       "\n",
       "       [[ 0.        ,  0.        ,  0.        , ...,  0.        ,\n",
       "          0.        ,  0.        ],\n",
       "        [ 0.        ,  0.        ,  0.        , ...,  0.        ,\n",
       "          0.        ,  0.        ],\n",
       "        [ 0.        ,  0.        ,  0.        , ...,  0.        ,\n",
       "          0.        ,  0.        ],\n",
       "        ...,\n",
       "        [ 0.58451182,  0.30696356, -1.27353859, ...,  0.        ,\n",
       "          0.        ,  0.        ],\n",
       "        [ 0.58379984,  0.30720744, -1.29565203, ...,  0.        ,\n",
       "          0.        ,  0.        ],\n",
       "        [ 0.58312511,  0.30719438, -1.32043719, ...,  0.        ,\n",
       "          0.        ,  0.        ]],\n",
       "\n",
       "       ...,\n",
       "\n",
       "       [[ 0.        ,  0.        ,  0.        , ...,  0.        ,\n",
       "          0.        ,  0.        ],\n",
       "        [ 0.        ,  0.        ,  0.        , ...,  0.        ,\n",
       "          0.        ,  0.        ],\n",
       "        [ 0.        ,  0.        ,  0.        , ...,  0.        ,\n",
       "          0.        ,  0.        ],\n",
       "        ...,\n",
       "        [ 0.59118927,  0.39442283, -0.75201887, ...,  0.        ,\n",
       "          0.        ,  0.        ],\n",
       "        [ 0.5912236 ,  0.39451751, -0.76342458, ...,  0.        ,\n",
       "          0.        ,  0.        ],\n",
       "        [ 0.5915451 ,  0.39482784, -0.77948147, ...,  0.        ,\n",
       "          0.        ,  0.        ]],\n",
       "\n",
       "       [[ 0.        ,  0.        ,  0.        , ...,  0.        ,\n",
       "          0.        ,  0.        ],\n",
       "        [ 0.        ,  0.        ,  0.        , ...,  0.        ,\n",
       "          0.        ,  0.        ],\n",
       "        [ 0.        ,  0.        ,  0.        , ...,  0.        ,\n",
       "          0.        ,  0.        ],\n",
       "        ...,\n",
       "        [ 0.46675587,  0.3912048 , -0.82078028, ...,  0.        ,\n",
       "          0.        ,  0.        ],\n",
       "        [ 0.46747947,  0.39122894, -0.8108533 , ...,  0.        ,\n",
       "          0.        ,  0.        ],\n",
       "        [ 0.46801692,  0.39124438, -0.8093155 , ...,  0.        ,\n",
       "          0.        ,  0.        ]],\n",
       "\n",
       "       [[ 0.        ,  0.        ,  0.        , ...,  0.        ,\n",
       "          0.        ,  0.        ],\n",
       "        [ 0.        ,  0.        ,  0.        , ...,  0.        ,\n",
       "          0.        ,  0.        ],\n",
       "        [ 0.        ,  0.        ,  0.        , ...,  0.        ,\n",
       "          0.        ,  0.        ],\n",
       "        ...,\n",
       "        [ 0.4523553 ,  0.31633756, -1.122316  , ...,  0.31361642,\n",
       "          0.78425157, -0.03243052],\n",
       "        [ 0.45163697,  0.31579784, -1.15146101, ...,  0.        ,\n",
       "          0.        ,  0.        ],\n",
       "        [ 0.45089644,  0.31528085, -1.16140938, ...,  0.        ,\n",
       "          0.        ,  0.        ]]])"
      ]
     },
     "execution_count": 129,
     "metadata": {},
     "output_type": "execute_result"
    }
   ],
   "source": [
    "keypoints_np"
   ]
  },
  {
   "cell_type": "code",
   "execution_count": 112,
   "id": "48c53a1f",
   "metadata": {
    "ExecuteTime": {
     "end_time": "2023-08-05T21:04:19.704958Z",
     "start_time": "2023-08-05T19:03:25.783183Z"
    }
   },
   "outputs": [
    {
     "name": "stderr",
     "output_type": "stream",
     "text": [
      "100%|█████████████████████████████████| 705/705 [2:00:53<00:00, 10.29s/it]\n"
     ]
    }
   ],
   "source": [
    "keypoints_series = testdf['Path'].progress_apply(extract_keypoints_from_file)"
   ]
  },
  {
   "cell_type": "code",
   "execution_count": 113,
   "id": "b97a37d2",
   "metadata": {
    "ExecuteTime": {
     "end_time": "2023-08-05T21:04:42.540504Z",
     "start_time": "2023-08-05T21:04:42.537389Z"
    }
   },
   "outputs": [
    {
     "data": {
      "text/plain": [
       "(705,)"
      ]
     },
     "execution_count": 113,
     "metadata": {},
     "output_type": "execute_result"
    }
   ],
   "source": [
    "keypoints_series.shape"
   ]
  },
  {
   "cell_type": "code",
   "execution_count": 116,
   "id": "8de71d83",
   "metadata": {
    "ExecuteTime": {
     "end_time": "2023-08-05T21:04:49.253829Z",
     "start_time": "2023-08-05T21:04:48.499114Z"
    }
   },
   "outputs": [],
   "source": [
    "np.save(\"/home/kristian/Capstone/keypoints/ASL_Citizen/Mediapipe/test_keypoints.npy\", keypoints_np)"
   ]
  },
  {
   "cell_type": "code",
   "execution_count": null,
   "id": "c7518075",
   "metadata": {},
   "outputs": [],
   "source": [
    "import numpy as np\n",
    "keypoints_series=np.load(\"/home/kristian/Capstone/keypoints/ASL_Citizen/Mediapipe/test_keypoints.npy\", allow_pickle=True)"
   ]
  },
  {
   "cell_type": "code",
   "execution_count": null,
   "id": "02a925a8",
   "metadata": {},
   "outputs": [],
   "source": [
    "keypoints_series.shape"
   ]
  },
  {
   "cell_type": "code",
   "execution_count": null,
   "id": "0a0ba381",
   "metadata": {},
   "outputs": [],
   "source": [
    "# Create a padded array to store keypoints\n",
    "keypoints_np = np.zeros((len(keypoints_series), max_len, 1662))\n",
    "\n",
    "# Iterate through keypoints_series and fill keypoints_np with pre-padding\n",
    "for i, keypoints in enumerate(keypoints_series):\n",
    "    keypoints_len = min(keypoints.shape[0], max_len)\n",
    "    padding_len = max_len - keypoints_len\n",
    "    keypoints_np[i, padding_len:, :] = keypoints[:keypoints_len, :]"
   ]
  },
  {
   "cell_type": "code",
   "execution_count": 114,
   "id": "a1eb043d",
   "metadata": {
    "ExecuteTime": {
     "end_time": "2023-08-05T21:04:45.493022Z",
     "start_time": "2023-08-05T21:04:45.220080Z"
    }
   },
   "outputs": [],
   "source": [
    "keypoints_np = np.zeros((len(keypoints_series), max_len, 1662))\n",
    "for i, keypoints in enumerate(keypoints_series):\n",
    "    keypoints_np[i, :keypoints.shape[0], :] = keypoints"
   ]
  },
  {
   "cell_type": "code",
   "execution_count": 115,
   "id": "72bad504",
   "metadata": {
    "ExecuteTime": {
     "end_time": "2023-08-05T21:04:46.330737Z",
     "start_time": "2023-08-05T21:04:46.327305Z"
    }
   },
   "outputs": [
    {
     "data": {
      "text/plain": [
       "(705, 130, 1662)"
      ]
     },
     "execution_count": 115,
     "metadata": {},
     "output_type": "execute_result"
    }
   ],
   "source": [
    "keypoints_np.shape"
   ]
  },
  {
   "cell_type": "code",
   "execution_count": 118,
   "id": "ce62069f",
   "metadata": {
    "ExecuteTime": {
     "end_time": "2023-08-05T21:04:51.449533Z",
     "start_time": "2023-08-05T21:04:51.446147Z"
    }
   },
   "outputs": [
    {
     "data": {
      "text/plain": [
       "(705, 130, 1662)"
      ]
     },
     "execution_count": 118,
     "metadata": {},
     "output_type": "execute_result"
    }
   ],
   "source": [
    "keypoints_np.shape"
   ]
  },
  {
   "cell_type": "markdown",
   "id": "eeaa54d2",
   "metadata": {},
   "source": [
    "# Preprocessing"
   ]
  },
  {
   "cell_type": "code",
   "execution_count": null,
   "id": "ef55d8b0",
   "metadata": {
    "ExecuteTime": {
     "end_time": "2023-08-08T18:32:32.098520Z",
     "start_time": "2023-08-08T18:32:32.098508Z"
    },
    "init_cell": true
   },
   "outputs": [],
   "source": [
    "import numpy as np\n",
    "train_keypoints=np.load(\"/home/kristian/Capstone/keypoints/ASL_Citizen/Mediapipe/train_keypoints.npy\",allow_pickle=True)\n",
    "val_keypoints =np.load(\"/home/kristian/Capstone/keypoints/ASL_Citizen/Mediapipe/val_keypoints.npy\",allow_pickle=True)\n",
    "test_keypoints=np.load(\"/home/kristian/Capstone/keypoints/ASL_Citizen/Mediapipe/test_keypoints.npy\",allow_pickle=True)\n",
    "\n",
    "print('Training Keypoints Shape:', train_keypoints.shape)\n",
    "print('Validation Kepoints Shape:', val_keypoints.shape)\n",
    "print('Test Keypoints Shape:',test_keypoints.shape)"
   ]
  },
  {
   "cell_type": "code",
   "execution_count": null,
   "id": "f26ef7f7",
   "metadata": {
    "ExecuteTime": {
     "end_time": "2023-08-08T18:32:32.099494Z",
     "start_time": "2023-08-08T18:32:32.099482Z"
    },
    "init_cell": true
   },
   "outputs": [],
   "source": [
    "max_len=130"
   ]
  },
  {
   "cell_type": "code",
   "execution_count": null,
   "id": "7e3b03a1",
   "metadata": {
    "ExecuteTime": {
     "end_time": "2023-08-08T18:32:32.100227Z",
     "start_time": "2023-08-08T18:32:32.100216Z"
    },
    "init_cell": true
   },
   "outputs": [],
   "source": [
    "# Create a padded array to store keypoints\n",
    "keypoints_np = np.zeros((len(train_keypoints), max_len, 1662))\n",
    "\n",
    "# Iterate through keypoints_series and fill keypoints_np with pre-padding\n",
    "for i, keypoints in enumerate(train_keypoints):\n",
    "    keypoints_len = min(keypoints.shape[0], max_len)\n",
    "    padding_len = max_len - keypoints_len\n",
    "    keypoints_np[i, padding_len:, :] = keypoints[:keypoints_len, :]\n",
    "    \n",
    "train_keypoints = keypoints_np\n",
    "print('Training Keypoints Shape:', train_keypoints.shape)"
   ]
  },
  {
   "cell_type": "code",
   "execution_count": null,
   "id": "7153147b",
   "metadata": {
    "ExecuteTime": {
     "end_time": "2023-08-08T18:32:32.100988Z",
     "start_time": "2023-08-08T18:32:32.100977Z"
    },
    "init_cell": true
   },
   "outputs": [],
   "source": [
    "# Create a padded array to store keypoints\n",
    "keypoints_np = np.zeros((len(val_keypoints), max_len, 1662))\n",
    "\n",
    "# Iterate through keypoints_series and fill keypoints_np with pre-padding\n",
    "for i, keypoints in enumerate(val_keypoints):\n",
    "    keypoints_len = min(keypoints.shape[0], max_len)\n",
    "    padding_len = max_len - keypoints_len\n",
    "    keypoints_np[i, padding_len:, :] = keypoints[:keypoints_len, :]\n",
    "    \n",
    "val_keypoints = keypoints_np\n",
    "print('Validation Keypoints Shape:', val_keypoints.shape)"
   ]
  },
  {
   "cell_type": "code",
   "execution_count": null,
   "id": "627933c0",
   "metadata": {
    "ExecuteTime": {
     "end_time": "2023-08-08T18:32:32.101831Z",
     "start_time": "2023-08-08T18:32:32.101820Z"
    },
    "init_cell": true
   },
   "outputs": [],
   "source": [
    "# Create a padded array to store keypoints\n",
    "keypoints_np = np.zeros((len(test_keypoints), max_len, 1662))\n",
    "\n",
    "# Iterate through keypoints_series and fill keypoints_np with pre-padding\n",
    "for i, keypoints in enumerate(test_keypoints):\n",
    "    keypoints_len = min(keypoints.shape[0], max_len)\n",
    "    padding_len = max_len - keypoints_len\n",
    "    keypoints_np[i, padding_len:, :] = keypoints[:keypoints_len, :]\n",
    "    \n",
    "test_keypoints = keypoints_np\n",
    "print('Test Keypoints Shape:', test_keypoints.shape)"
   ]
  },
  {
   "cell_type": "code",
   "execution_count": null,
   "id": "223cc5ec",
   "metadata": {
    "ExecuteTime": {
     "end_time": "2023-08-08T18:32:32.102546Z",
     "start_time": "2023-08-08T18:32:32.102534Z"
    },
    "init_cell": true
   },
   "outputs": [],
   "source": [
    "from sklearn.model_selection import train_test_split\n",
    "from sklearn.preprocessing import OrdinalEncoder\n",
    "from keras.utils import to_categorical\n",
    "import numpy as np\n",
    "from keras.preprocessing.sequence import pad_sequences"
   ]
  },
  {
   "cell_type": "code",
   "execution_count": 6,
   "id": "ddc114ab",
   "metadata": {
    "ExecuteTime": {
     "end_time": "2023-08-07T19:51:23.833085Z",
     "start_time": "2023-08-07T19:51:23.108869Z"
    }
   },
   "outputs": [
    {
     "ename": "NameError",
     "evalue": "name 'traindf' is not defined",
     "output_type": "error",
     "traceback": [
      "\u001b[0;31m---------------------------------------------------------------------------\u001b[0m",
      "\u001b[0;31mNameError\u001b[0m                                 Traceback (most recent call last)",
      "Cell \u001b[0;32mIn[6], line 1\u001b[0m\n\u001b[0;32m----> 1\u001b[0m \u001b[43mtraindf\u001b[49m\u001b[38;5;241m.\u001b[39mhead()\n",
      "\u001b[0;31mNameError\u001b[0m: name 'traindf' is not defined"
     ]
    }
   ],
   "source": [
    "traindf.head()"
   ]
  },
  {
   "cell_type": "code",
   "execution_count": 138,
   "id": "71e58811",
   "metadata": {
    "ExecuteTime": {
     "end_time": "2023-08-07T17:56:21.891045Z",
     "start_time": "2023-08-07T17:56:21.888553Z"
    }
   },
   "outputs": [],
   "source": [
    "encoder = OrdinalEncoder()"
   ]
  },
  {
   "cell_type": "code",
   "execution_count": 139,
   "id": "0129a2ad",
   "metadata": {
    "ExecuteTime": {
     "end_time": "2023-08-07T17:56:25.439762Z",
     "start_time": "2023-08-07T17:56:25.433735Z"
    }
   },
   "outputs": [],
   "source": [
    "traindf['Cat_label'] = encoder.fit_transform(traindf[['Gloss']]).astype(int)\n",
    "traindf = traindf.sort_values(by='Gloss',)"
   ]
  },
  {
   "cell_type": "code",
   "execution_count": 140,
   "id": "21e97f05",
   "metadata": {
    "ExecuteTime": {
     "end_time": "2023-08-07T17:56:26.150344Z",
     "start_time": "2023-08-07T17:56:26.142593Z"
    }
   },
   "outputs": [
    {
     "data": {
      "text/html": [
       "<div>\n",
       "<style scoped>\n",
       "    .dataframe tbody tr th:only-of-type {\n",
       "        vertical-align: middle;\n",
       "    }\n",
       "\n",
       "    .dataframe tbody tr th {\n",
       "        vertical-align: top;\n",
       "    }\n",
       "\n",
       "    .dataframe thead th {\n",
       "        text-align: right;\n",
       "    }\n",
       "</style>\n",
       "<table border=\"1\" class=\"dataframe\">\n",
       "  <thead>\n",
       "    <tr style=\"text-align: right;\">\n",
       "      <th></th>\n",
       "      <th>Participant ID</th>\n",
       "      <th>Video file</th>\n",
       "      <th>Gloss</th>\n",
       "      <th>ASL-LEX Code</th>\n",
       "      <th>Path</th>\n",
       "      <th>Frequency</th>\n",
       "      <th>Frames</th>\n",
       "      <th>FPS</th>\n",
       "      <th>Length</th>\n",
       "      <th>Cat_label</th>\n",
       "    </tr>\n",
       "  </thead>\n",
       "  <tbody>\n",
       "    <tr>\n",
       "      <th>0</th>\n",
       "      <td>P52</td>\n",
       "      <td>07157565148825373-seedAXE.mp4</td>\n",
       "      <td>AXE</td>\n",
       "      <td>G_03_066</td>\n",
       "      <td>file:///media/kristian/HDD/ASL_Citizen/ASL_Cit...</td>\n",
       "      <td>18</td>\n",
       "      <td>100</td>\n",
       "      <td>31</td>\n",
       "      <td>3</td>\n",
       "      <td>0</td>\n",
       "    </tr>\n",
       "    <tr>\n",
       "      <th>17</th>\n",
       "      <td>P37</td>\n",
       "      <td>29360158406046777-AXE.mp4</td>\n",
       "      <td>AXE</td>\n",
       "      <td>G_03_066</td>\n",
       "      <td>file:///media/kristian/HDD/ASL_Citizen/ASL_Cit...</td>\n",
       "      <td>18</td>\n",
       "      <td>73</td>\n",
       "      <td>30</td>\n",
       "      <td>2</td>\n",
       "      <td>0</td>\n",
       "    </tr>\n",
       "    <tr>\n",
       "      <th>16</th>\n",
       "      <td>P27</td>\n",
       "      <td>053394218351220823-AXE.mp4</td>\n",
       "      <td>AXE</td>\n",
       "      <td>G_03_066</td>\n",
       "      <td>file:///media/kristian/HDD/ASL_Citizen/ASL_Cit...</td>\n",
       "      <td>18</td>\n",
       "      <td>52</td>\n",
       "      <td>29</td>\n",
       "      <td>2</td>\n",
       "      <td>0</td>\n",
       "    </tr>\n",
       "    <tr>\n",
       "      <th>15</th>\n",
       "      <td>P40</td>\n",
       "      <td>10598328043940142-AXE.mp4</td>\n",
       "      <td>AXE</td>\n",
       "      <td>G_03_066</td>\n",
       "      <td>file:///media/kristian/HDD/ASL_Citizen/ASL_Cit...</td>\n",
       "      <td>18</td>\n",
       "      <td>81</td>\n",
       "      <td>29</td>\n",
       "      <td>3</td>\n",
       "      <td>0</td>\n",
       "    </tr>\n",
       "    <tr>\n",
       "      <th>14</th>\n",
       "      <td>P50</td>\n",
       "      <td>3937261764308986-AXE.mp4</td>\n",
       "      <td>AXE</td>\n",
       "      <td>G_03_066</td>\n",
       "      <td>file:///media/kristian/HDD/ASL_Citizen/ASL_Cit...</td>\n",
       "      <td>18</td>\n",
       "      <td>72</td>\n",
       "      <td>30</td>\n",
       "      <td>2</td>\n",
       "      <td>0</td>\n",
       "    </tr>\n",
       "  </tbody>\n",
       "</table>\n",
       "</div>"
      ],
      "text/plain": [
       "   Participant ID                     Video file Gloss ASL-LEX Code  \\\n",
       "0             P52  07157565148825373-seedAXE.mp4   AXE     G_03_066   \n",
       "17            P37      29360158406046777-AXE.mp4   AXE     G_03_066   \n",
       "16            P27     053394218351220823-AXE.mp4   AXE     G_03_066   \n",
       "15            P40      10598328043940142-AXE.mp4   AXE     G_03_066   \n",
       "14            P50       3937261764308986-AXE.mp4   AXE     G_03_066   \n",
       "\n",
       "                                                 Path  Frequency  Frames  FPS  \\\n",
       "0   file:///media/kristian/HDD/ASL_Citizen/ASL_Cit...         18     100   31   \n",
       "17  file:///media/kristian/HDD/ASL_Citizen/ASL_Cit...         18      73   30   \n",
       "16  file:///media/kristian/HDD/ASL_Citizen/ASL_Cit...         18      52   29   \n",
       "15  file:///media/kristian/HDD/ASL_Citizen/ASL_Cit...         18      81   29   \n",
       "14  file:///media/kristian/HDD/ASL_Citizen/ASL_Cit...         18      72   30   \n",
       "\n",
       "    Length  Cat_label  \n",
       "0        3          0  \n",
       "17       2          0  \n",
       "16       2          0  \n",
       "15       3          0  \n",
       "14       2          0  "
      ]
     },
     "execution_count": 140,
     "metadata": {},
     "output_type": "execute_result"
    }
   ],
   "source": [
    "traindf.head()"
   ]
  },
  {
   "cell_type": "code",
   "execution_count": 141,
   "id": "5c7a48a3",
   "metadata": {
    "ExecuteTime": {
     "end_time": "2023-08-07T17:56:29.010014Z",
     "start_time": "2023-08-07T17:56:29.002389Z"
    }
   },
   "outputs": [
    {
     "data": {
      "text/html": [
       "<div>\n",
       "<style scoped>\n",
       "    .dataframe tbody tr th:only-of-type {\n",
       "        vertical-align: middle;\n",
       "    }\n",
       "\n",
       "    .dataframe tbody tr th {\n",
       "        vertical-align: top;\n",
       "    }\n",
       "\n",
       "    .dataframe thead th {\n",
       "        text-align: right;\n",
       "    }\n",
       "</style>\n",
       "<table border=\"1\" class=\"dataframe\">\n",
       "  <thead>\n",
       "    <tr style=\"text-align: right;\">\n",
       "      <th></th>\n",
       "      <th>Participant ID</th>\n",
       "      <th>Video file</th>\n",
       "      <th>Gloss</th>\n",
       "      <th>ASL-LEX Code</th>\n",
       "      <th>Path</th>\n",
       "      <th>Frequency</th>\n",
       "      <th>Frames</th>\n",
       "      <th>FPS</th>\n",
       "      <th>Length</th>\n",
       "      <th>Cat_label</th>\n",
       "    </tr>\n",
       "  </thead>\n",
       "  <tbody>\n",
       "    <tr>\n",
       "      <th>789</th>\n",
       "      <td>P40</td>\n",
       "      <td>6445331634562388-WHAT FOR.mp4</td>\n",
       "      <td>WHATFOR</td>\n",
       "      <td>C_02_054</td>\n",
       "      <td>file:///media/kristian/HDD/ASL_Citizen/ASL_Cit...</td>\n",
       "      <td>16</td>\n",
       "      <td>89</td>\n",
       "      <td>30</td>\n",
       "      <td>3</td>\n",
       "      <td>49</td>\n",
       "    </tr>\n",
       "    <tr>\n",
       "      <th>788</th>\n",
       "      <td>P37</td>\n",
       "      <td>6237575353180616-WHAT FOR.mp4</td>\n",
       "      <td>WHATFOR</td>\n",
       "      <td>C_02_054</td>\n",
       "      <td>file:///media/kristian/HDD/ASL_Citizen/ASL_Cit...</td>\n",
       "      <td>16</td>\n",
       "      <td>56</td>\n",
       "      <td>30</td>\n",
       "      <td>2</td>\n",
       "      <td>49</td>\n",
       "    </tr>\n",
       "    <tr>\n",
       "      <th>802</th>\n",
       "      <td>P40</td>\n",
       "      <td>5268072837528903-WHAT FOR.mp4</td>\n",
       "      <td>WHATFOR</td>\n",
       "      <td>C_02_054</td>\n",
       "      <td>file:///media/kristian/HDD/ASL_Citizen/ASL_Cit...</td>\n",
       "      <td>16</td>\n",
       "      <td>92</td>\n",
       "      <td>29</td>\n",
       "      <td>3</td>\n",
       "      <td>49</td>\n",
       "    </tr>\n",
       "    <tr>\n",
       "      <th>794</th>\n",
       "      <td>P37</td>\n",
       "      <td>16185522171162914-WHAT FOR.mp4</td>\n",
       "      <td>WHATFOR</td>\n",
       "      <td>C_02_054</td>\n",
       "      <td>file:///media/kristian/HDD/ASL_Citizen/ASL_Cit...</td>\n",
       "      <td>16</td>\n",
       "      <td>64</td>\n",
       "      <td>30</td>\n",
       "      <td>2</td>\n",
       "      <td>49</td>\n",
       "    </tr>\n",
       "    <tr>\n",
       "      <th>803</th>\n",
       "      <td>P40</td>\n",
       "      <td>6363286086951516-WHAT FOR.mp4</td>\n",
       "      <td>WHATFOR</td>\n",
       "      <td>C_02_054</td>\n",
       "      <td>file:///media/kristian/HDD/ASL_Citizen/ASL_Cit...</td>\n",
       "      <td>16</td>\n",
       "      <td>65</td>\n",
       "      <td>29</td>\n",
       "      <td>2</td>\n",
       "      <td>49</td>\n",
       "    </tr>\n",
       "  </tbody>\n",
       "</table>\n",
       "</div>"
      ],
      "text/plain": [
       "    Participant ID                      Video file    Gloss ASL-LEX Code  \\\n",
       "789            P40   6445331634562388-WHAT FOR.mp4  WHATFOR     C_02_054   \n",
       "788            P37   6237575353180616-WHAT FOR.mp4  WHATFOR     C_02_054   \n",
       "802            P40   5268072837528903-WHAT FOR.mp4  WHATFOR     C_02_054   \n",
       "794            P37  16185522171162914-WHAT FOR.mp4  WHATFOR     C_02_054   \n",
       "803            P40   6363286086951516-WHAT FOR.mp4  WHATFOR     C_02_054   \n",
       "\n",
       "                                                  Path  Frequency  Frames  \\\n",
       "789  file:///media/kristian/HDD/ASL_Citizen/ASL_Cit...         16      89   \n",
       "788  file:///media/kristian/HDD/ASL_Citizen/ASL_Cit...         16      56   \n",
       "802  file:///media/kristian/HDD/ASL_Citizen/ASL_Cit...         16      92   \n",
       "794  file:///media/kristian/HDD/ASL_Citizen/ASL_Cit...         16      64   \n",
       "803  file:///media/kristian/HDD/ASL_Citizen/ASL_Cit...         16      65   \n",
       "\n",
       "     FPS  Length  Cat_label  \n",
       "789   30       3         49  \n",
       "788   30       2         49  \n",
       "802   29       3         49  \n",
       "794   30       2         49  \n",
       "803   29       2         49  "
      ]
     },
     "execution_count": 141,
     "metadata": {},
     "output_type": "execute_result"
    }
   ],
   "source": [
    "traindf.tail()"
   ]
  },
  {
   "cell_type": "code",
   "execution_count": 142,
   "id": "4319817b",
   "metadata": {
    "ExecuteTime": {
     "end_time": "2023-08-07T17:56:34.110631Z",
     "start_time": "2023-08-07T17:56:34.105731Z"
    }
   },
   "outputs": [],
   "source": [
    "valdf['Cat_label'] = encoder.fit_transform(valdf[['Gloss']]).astype(int)\n",
    "valdf = valdf.sort_values(by='Gloss',)"
   ]
  },
  {
   "cell_type": "code",
   "execution_count": 143,
   "id": "aef49cd5",
   "metadata": {
    "ExecuteTime": {
     "end_time": "2023-08-07T17:56:35.169078Z",
     "start_time": "2023-08-07T17:56:34.647400Z"
    }
   },
   "outputs": [
    {
     "data": {
      "text/html": [
       "<div>\n",
       "<style scoped>\n",
       "    .dataframe tbody tr th:only-of-type {\n",
       "        vertical-align: middle;\n",
       "    }\n",
       "\n",
       "    .dataframe tbody tr th {\n",
       "        vertical-align: top;\n",
       "    }\n",
       "\n",
       "    .dataframe thead th {\n",
       "        text-align: right;\n",
       "    }\n",
       "</style>\n",
       "<table border=\"1\" class=\"dataframe\">\n",
       "  <thead>\n",
       "    <tr style=\"text-align: right;\">\n",
       "      <th></th>\n",
       "      <th>Participant ID</th>\n",
       "      <th>Video file</th>\n",
       "      <th>Gloss</th>\n",
       "      <th>ASL-LEX Code</th>\n",
       "      <th>Path</th>\n",
       "      <th>Frequency</th>\n",
       "      <th>Frames</th>\n",
       "      <th>FPS</th>\n",
       "      <th>Length</th>\n",
       "      <th>Cat_label</th>\n",
       "    </tr>\n",
       "  </thead>\n",
       "  <tbody>\n",
       "    <tr>\n",
       "      <th>0</th>\n",
       "      <td>P39</td>\n",
       "      <td>19778675091674147-AXE.mp4</td>\n",
       "      <td>AXE</td>\n",
       "      <td>G_03_066</td>\n",
       "      <td>file:///media/kristian/HDD/ASL_Citizen/ASL_Cit...</td>\n",
       "      <td>4</td>\n",
       "      <td>121</td>\n",
       "      <td>30</td>\n",
       "      <td>4</td>\n",
       "      <td>0</td>\n",
       "    </tr>\n",
       "    <tr>\n",
       "      <th>1</th>\n",
       "      <td>P26</td>\n",
       "      <td>8581142177964065-AXE.mp4</td>\n",
       "      <td>AXE</td>\n",
       "      <td>G_03_066</td>\n",
       "      <td>file:///media/kristian/HDD/ASL_Citizen/ASL_Cit...</td>\n",
       "      <td>4</td>\n",
       "      <td>81</td>\n",
       "      <td>29</td>\n",
       "      <td>3</td>\n",
       "      <td>0</td>\n",
       "    </tr>\n",
       "    <tr>\n",
       "      <th>2</th>\n",
       "      <td>P39</td>\n",
       "      <td>3877478645046861-AXE.mp4</td>\n",
       "      <td>AXE</td>\n",
       "      <td>G_03_066</td>\n",
       "      <td>file:///media/kristian/HDD/ASL_Citizen/ASL_Cit...</td>\n",
       "      <td>4</td>\n",
       "      <td>120</td>\n",
       "      <td>30</td>\n",
       "      <td>4</td>\n",
       "      <td>0</td>\n",
       "    </tr>\n",
       "    <tr>\n",
       "      <th>3</th>\n",
       "      <td>P21</td>\n",
       "      <td>8521417940364975-AXE.mp4</td>\n",
       "      <td>AXE</td>\n",
       "      <td>G_03_066</td>\n",
       "      <td>file:///media/kristian/HDD/ASL_Citizen/ASL_Cit...</td>\n",
       "      <td>4</td>\n",
       "      <td>71</td>\n",
       "      <td>29</td>\n",
       "      <td>2</td>\n",
       "      <td>0</td>\n",
       "    </tr>\n",
       "    <tr>\n",
       "      <th>4</th>\n",
       "      <td>P5</td>\n",
       "      <td>9990244640190733-BACKPACK.mp4</td>\n",
       "      <td>BACKPACK</td>\n",
       "      <td>G_03_091</td>\n",
       "      <td>file:///media/kristian/HDD/ASL_Citizen/ASL_Cit...</td>\n",
       "      <td>3</td>\n",
       "      <td>93</td>\n",
       "      <td>29</td>\n",
       "      <td>3</td>\n",
       "      <td>1</td>\n",
       "    </tr>\n",
       "  </tbody>\n",
       "</table>\n",
       "</div>"
      ],
      "text/plain": [
       "  Participant ID                     Video file     Gloss ASL-LEX Code  \\\n",
       "0            P39      19778675091674147-AXE.mp4       AXE     G_03_066   \n",
       "1            P26       8581142177964065-AXE.mp4       AXE     G_03_066   \n",
       "2            P39       3877478645046861-AXE.mp4       AXE     G_03_066   \n",
       "3            P21       8521417940364975-AXE.mp4       AXE     G_03_066   \n",
       "4             P5  9990244640190733-BACKPACK.mp4  BACKPACK     G_03_091   \n",
       "\n",
       "                                                Path  Frequency  Frames  FPS  \\\n",
       "0  file:///media/kristian/HDD/ASL_Citizen/ASL_Cit...          4     121   30   \n",
       "1  file:///media/kristian/HDD/ASL_Citizen/ASL_Cit...          4      81   29   \n",
       "2  file:///media/kristian/HDD/ASL_Citizen/ASL_Cit...          4     120   30   \n",
       "3  file:///media/kristian/HDD/ASL_Citizen/ASL_Cit...          4      71   29   \n",
       "4  file:///media/kristian/HDD/ASL_Citizen/ASL_Cit...          3      93   29   \n",
       "\n",
       "   Length  Cat_label  \n",
       "0       4          0  \n",
       "1       3          0  \n",
       "2       4          0  \n",
       "3       2          0  \n",
       "4       3          1  "
      ]
     },
     "execution_count": 143,
     "metadata": {},
     "output_type": "execute_result"
    }
   ],
   "source": [
    "valdf.head()"
   ]
  },
  {
   "cell_type": "code",
   "execution_count": 144,
   "id": "46a71f83",
   "metadata": {
    "ExecuteTime": {
     "end_time": "2023-08-07T17:56:36.905315Z",
     "start_time": "2023-08-07T17:56:36.895456Z"
    }
   },
   "outputs": [
    {
     "data": {
      "text/html": [
       "<div>\n",
       "<style scoped>\n",
       "    .dataframe tbody tr th:only-of-type {\n",
       "        vertical-align: middle;\n",
       "    }\n",
       "\n",
       "    .dataframe tbody tr th {\n",
       "        vertical-align: top;\n",
       "    }\n",
       "\n",
       "    .dataframe thead th {\n",
       "        text-align: right;\n",
       "    }\n",
       "</style>\n",
       "<table border=\"1\" class=\"dataframe\">\n",
       "  <thead>\n",
       "    <tr style=\"text-align: right;\">\n",
       "      <th></th>\n",
       "      <th>Participant ID</th>\n",
       "      <th>Video file</th>\n",
       "      <th>Gloss</th>\n",
       "      <th>ASL-LEX Code</th>\n",
       "      <th>Path</th>\n",
       "      <th>Frequency</th>\n",
       "      <th>Frames</th>\n",
       "      <th>FPS</th>\n",
       "      <th>Length</th>\n",
       "      <th>Cat_label</th>\n",
       "    </tr>\n",
       "  </thead>\n",
       "  <tbody>\n",
       "    <tr>\n",
       "      <th>159</th>\n",
       "      <td>P39</td>\n",
       "      <td>0283886564670357-WHAT FOR.mp4</td>\n",
       "      <td>WHATFOR</td>\n",
       "      <td>C_02_054</td>\n",
       "      <td>file:///media/kristian/HDD/ASL_Citizen/ASL_Cit...</td>\n",
       "      <td>5</td>\n",
       "      <td>121</td>\n",
       "      <td>30</td>\n",
       "      <td>4</td>\n",
       "      <td>49</td>\n",
       "    </tr>\n",
       "    <tr>\n",
       "      <th>160</th>\n",
       "      <td>P21</td>\n",
       "      <td>6142521746642153-WHAT FOR.mp4</td>\n",
       "      <td>WHATFOR</td>\n",
       "      <td>C_02_054</td>\n",
       "      <td>file:///media/kristian/HDD/ASL_Citizen/ASL_Cit...</td>\n",
       "      <td>5</td>\n",
       "      <td>57</td>\n",
       "      <td>30</td>\n",
       "      <td>2</td>\n",
       "      <td>49</td>\n",
       "    </tr>\n",
       "    <tr>\n",
       "      <th>157</th>\n",
       "      <td>P26</td>\n",
       "      <td>032677896012150764-WHAT FOR.mp4</td>\n",
       "      <td>WHATFOR</td>\n",
       "      <td>C_02_054</td>\n",
       "      <td>file:///media/kristian/HDD/ASL_Citizen/ASL_Cit...</td>\n",
       "      <td>5</td>\n",
       "      <td>81</td>\n",
       "      <td>29</td>\n",
       "      <td>3</td>\n",
       "      <td>49</td>\n",
       "    </tr>\n",
       "    <tr>\n",
       "      <th>158</th>\n",
       "      <td>P5</td>\n",
       "      <td>6523145816470133-WHAT FOR.mp4</td>\n",
       "      <td>WHATFOR</td>\n",
       "      <td>C_02_054</td>\n",
       "      <td>file:///media/kristian/HDD/ASL_Citizen/ASL_Cit...</td>\n",
       "      <td>5</td>\n",
       "      <td>116</td>\n",
       "      <td>30</td>\n",
       "      <td>4</td>\n",
       "      <td>49</td>\n",
       "    </tr>\n",
       "    <tr>\n",
       "      <th>161</th>\n",
       "      <td>P12</td>\n",
       "      <td>06408604416165864-WHAT FOR.mp4</td>\n",
       "      <td>WHATFOR</td>\n",
       "      <td>C_02_054</td>\n",
       "      <td>file:///media/kristian/HDD/ASL_Citizen/ASL_Cit...</td>\n",
       "      <td>5</td>\n",
       "      <td>71</td>\n",
       "      <td>30</td>\n",
       "      <td>2</td>\n",
       "      <td>49</td>\n",
       "    </tr>\n",
       "  </tbody>\n",
       "</table>\n",
       "</div>"
      ],
      "text/plain": [
       "    Participant ID                       Video file    Gloss ASL-LEX Code  \\\n",
       "159            P39    0283886564670357-WHAT FOR.mp4  WHATFOR     C_02_054   \n",
       "160            P21    6142521746642153-WHAT FOR.mp4  WHATFOR     C_02_054   \n",
       "157            P26  032677896012150764-WHAT FOR.mp4  WHATFOR     C_02_054   \n",
       "158             P5    6523145816470133-WHAT FOR.mp4  WHATFOR     C_02_054   \n",
       "161            P12   06408604416165864-WHAT FOR.mp4  WHATFOR     C_02_054   \n",
       "\n",
       "                                                  Path  Frequency  Frames  \\\n",
       "159  file:///media/kristian/HDD/ASL_Citizen/ASL_Cit...          5     121   \n",
       "160  file:///media/kristian/HDD/ASL_Citizen/ASL_Cit...          5      57   \n",
       "157  file:///media/kristian/HDD/ASL_Citizen/ASL_Cit...          5      81   \n",
       "158  file:///media/kristian/HDD/ASL_Citizen/ASL_Cit...          5     116   \n",
       "161  file:///media/kristian/HDD/ASL_Citizen/ASL_Cit...          5      71   \n",
       "\n",
       "     FPS  Length  Cat_label  \n",
       "159   30       4         49  \n",
       "160   30       2         49  \n",
       "157   29       3         49  \n",
       "158   30       4         49  \n",
       "161   30       2         49  "
      ]
     },
     "execution_count": 144,
     "metadata": {},
     "output_type": "execute_result"
    }
   ],
   "source": [
    "valdf.tail()"
   ]
  },
  {
   "cell_type": "code",
   "execution_count": 145,
   "id": "1b4c8529",
   "metadata": {
    "ExecuteTime": {
     "end_time": "2023-08-07T17:56:40.137054Z",
     "start_time": "2023-08-07T17:56:40.131320Z"
    }
   },
   "outputs": [],
   "source": [
    "testdf['Cat_label'] = encoder.fit_transform(testdf[['Gloss']]).astype(int)\n",
    "testdf = testdf.sort_values(by='Gloss',)"
   ]
  },
  {
   "cell_type": "code",
   "execution_count": 146,
   "id": "b22157d7",
   "metadata": {
    "ExecuteTime": {
     "end_time": "2023-08-07T17:56:40.802011Z",
     "start_time": "2023-08-07T17:56:40.794543Z"
    }
   },
   "outputs": [
    {
     "data": {
      "text/html": [
       "<div>\n",
       "<style scoped>\n",
       "    .dataframe tbody tr th:only-of-type {\n",
       "        vertical-align: middle;\n",
       "    }\n",
       "\n",
       "    .dataframe tbody tr th {\n",
       "        vertical-align: top;\n",
       "    }\n",
       "\n",
       "    .dataframe thead th {\n",
       "        text-align: right;\n",
       "    }\n",
       "</style>\n",
       "<table border=\"1\" class=\"dataframe\">\n",
       "  <thead>\n",
       "    <tr style=\"text-align: right;\">\n",
       "      <th></th>\n",
       "      <th>Participant ID</th>\n",
       "      <th>Video file</th>\n",
       "      <th>Gloss</th>\n",
       "      <th>ASL-LEX Code</th>\n",
       "      <th>Path</th>\n",
       "      <th>Frequency</th>\n",
       "      <th>Frames</th>\n",
       "      <th>FPS</th>\n",
       "      <th>Length</th>\n",
       "      <th>Cat_label</th>\n",
       "    </tr>\n",
       "  </thead>\n",
       "  <tbody>\n",
       "    <tr>\n",
       "      <th>0</th>\n",
       "      <td>P35</td>\n",
       "      <td>5104381603195376-AXE.mp4</td>\n",
       "      <td>AXE</td>\n",
       "      <td>G_03_066</td>\n",
       "      <td>file:///media/kristian/HDD/ASL_Citizen/ASL_Cit...</td>\n",
       "      <td>11</td>\n",
       "      <td>70</td>\n",
       "      <td>29</td>\n",
       "      <td>2</td>\n",
       "      <td>0</td>\n",
       "    </tr>\n",
       "    <tr>\n",
       "      <th>1</th>\n",
       "      <td>P42</td>\n",
       "      <td>44458614013793873-AXE.mp4</td>\n",
       "      <td>AXE</td>\n",
       "      <td>G_03_066</td>\n",
       "      <td>file:///media/kristian/HDD/ASL_Citizen/ASL_Cit...</td>\n",
       "      <td>11</td>\n",
       "      <td>57</td>\n",
       "      <td>30</td>\n",
       "      <td>2</td>\n",
       "      <td>0</td>\n",
       "    </tr>\n",
       "    <tr>\n",
       "      <th>2</th>\n",
       "      <td>P42</td>\n",
       "      <td>9604797909481075-AXE.mp4</td>\n",
       "      <td>AXE</td>\n",
       "      <td>G_03_066</td>\n",
       "      <td>file:///media/kristian/HDD/ASL_Citizen/ASL_Cit...</td>\n",
       "      <td>11</td>\n",
       "      <td>66</td>\n",
       "      <td>30</td>\n",
       "      <td>2</td>\n",
       "      <td>0</td>\n",
       "    </tr>\n",
       "    <tr>\n",
       "      <th>3</th>\n",
       "      <td>P9</td>\n",
       "      <td>30728048195204827-AXE.mp4</td>\n",
       "      <td>AXE</td>\n",
       "      <td>G_03_066</td>\n",
       "      <td>file:///media/kristian/HDD/ASL_Citizen/ASL_Cit...</td>\n",
       "      <td>11</td>\n",
       "      <td>96</td>\n",
       "      <td>30</td>\n",
       "      <td>3</td>\n",
       "      <td>0</td>\n",
       "    </tr>\n",
       "    <tr>\n",
       "      <th>4</th>\n",
       "      <td>P6</td>\n",
       "      <td>28522130623160047-AXE.mp4</td>\n",
       "      <td>AXE</td>\n",
       "      <td>G_03_066</td>\n",
       "      <td>file:///media/kristian/HDD/ASL_Citizen/ASL_Cit...</td>\n",
       "      <td>11</td>\n",
       "      <td>54</td>\n",
       "      <td>29</td>\n",
       "      <td>2</td>\n",
       "      <td>0</td>\n",
       "    </tr>\n",
       "  </tbody>\n",
       "</table>\n",
       "</div>"
      ],
      "text/plain": [
       "  Participant ID                 Video file Gloss ASL-LEX Code  \\\n",
       "0            P35   5104381603195376-AXE.mp4   AXE     G_03_066   \n",
       "1            P42  44458614013793873-AXE.mp4   AXE     G_03_066   \n",
       "2            P42   9604797909481075-AXE.mp4   AXE     G_03_066   \n",
       "3             P9  30728048195204827-AXE.mp4   AXE     G_03_066   \n",
       "4             P6  28522130623160047-AXE.mp4   AXE     G_03_066   \n",
       "\n",
       "                                                Path  Frequency  Frames  FPS  \\\n",
       "0  file:///media/kristian/HDD/ASL_Citizen/ASL_Cit...         11      70   29   \n",
       "1  file:///media/kristian/HDD/ASL_Citizen/ASL_Cit...         11      57   30   \n",
       "2  file:///media/kristian/HDD/ASL_Citizen/ASL_Cit...         11      66   30   \n",
       "3  file:///media/kristian/HDD/ASL_Citizen/ASL_Cit...         11      96   30   \n",
       "4  file:///media/kristian/HDD/ASL_Citizen/ASL_Cit...         11      54   29   \n",
       "\n",
       "   Length  Cat_label  \n",
       "0       2          0  \n",
       "1       2          0  \n",
       "2       2          0  \n",
       "3       3          0  \n",
       "4       2          0  "
      ]
     },
     "execution_count": 146,
     "metadata": {},
     "output_type": "execute_result"
    }
   ],
   "source": [
    "testdf.head()"
   ]
  },
  {
   "cell_type": "code",
   "execution_count": 147,
   "id": "3da4ef9e",
   "metadata": {
    "ExecuteTime": {
     "end_time": "2023-08-07T17:56:42.401644Z",
     "start_time": "2023-08-07T17:56:42.394186Z"
    }
   },
   "outputs": [
    {
     "data": {
      "text/html": [
       "<div>\n",
       "<style scoped>\n",
       "    .dataframe tbody tr th:only-of-type {\n",
       "        vertical-align: middle;\n",
       "    }\n",
       "\n",
       "    .dataframe tbody tr th {\n",
       "        vertical-align: top;\n",
       "    }\n",
       "\n",
       "    .dataframe thead th {\n",
       "        text-align: right;\n",
       "    }\n",
       "</style>\n",
       "<table border=\"1\" class=\"dataframe\">\n",
       "  <thead>\n",
       "    <tr style=\"text-align: right;\">\n",
       "      <th></th>\n",
       "      <th>Participant ID</th>\n",
       "      <th>Video file</th>\n",
       "      <th>Gloss</th>\n",
       "      <th>ASL-LEX Code</th>\n",
       "      <th>Path</th>\n",
       "      <th>Frequency</th>\n",
       "      <th>Frames</th>\n",
       "      <th>FPS</th>\n",
       "      <th>Length</th>\n",
       "      <th>Cat_label</th>\n",
       "    </tr>\n",
       "  </thead>\n",
       "  <tbody>\n",
       "    <tr>\n",
       "      <th>522</th>\n",
       "      <td>P6</td>\n",
       "      <td>6734748834983595-WHAT FOR.mp4</td>\n",
       "      <td>WHATFOR</td>\n",
       "      <td>C_02_054</td>\n",
       "      <td>file:///media/kristian/HDD/ASL_Citizen/ASL_Cit...</td>\n",
       "      <td>13</td>\n",
       "      <td>66</td>\n",
       "      <td>29</td>\n",
       "      <td>2</td>\n",
       "      <td>49</td>\n",
       "    </tr>\n",
       "    <tr>\n",
       "      <th>521</th>\n",
       "      <td>P17</td>\n",
       "      <td>33051835760678294-WHAT FOR.mp4</td>\n",
       "      <td>WHATFOR</td>\n",
       "      <td>C_02_054</td>\n",
       "      <td>file:///media/kristian/HDD/ASL_Citizen/ASL_Cit...</td>\n",
       "      <td>13</td>\n",
       "      <td>52</td>\n",
       "      <td>31</td>\n",
       "      <td>2</td>\n",
       "      <td>49</td>\n",
       "    </tr>\n",
       "    <tr>\n",
       "      <th>532</th>\n",
       "      <td>P42</td>\n",
       "      <td>2748457214117681-WHAT FOR.mp4</td>\n",
       "      <td>WHATFOR</td>\n",
       "      <td>C_02_054</td>\n",
       "      <td>file:///media/kristian/HDD/ASL_Citizen/ASL_Cit...</td>\n",
       "      <td>13</td>\n",
       "      <td>74</td>\n",
       "      <td>30</td>\n",
       "      <td>2</td>\n",
       "      <td>49</td>\n",
       "    </tr>\n",
       "    <tr>\n",
       "      <th>526</th>\n",
       "      <td>P42</td>\n",
       "      <td>9684934734400592-WHAT FOR.mp4</td>\n",
       "      <td>WHATFOR</td>\n",
       "      <td>C_02_054</td>\n",
       "      <td>file:///media/kristian/HDD/ASL_Citizen/ASL_Cit...</td>\n",
       "      <td>13</td>\n",
       "      <td>89</td>\n",
       "      <td>30</td>\n",
       "      <td>3</td>\n",
       "      <td>49</td>\n",
       "    </tr>\n",
       "    <tr>\n",
       "      <th>533</th>\n",
       "      <td>P15</td>\n",
       "      <td>540014801916062-WHAT FOR.mp4</td>\n",
       "      <td>WHATFOR</td>\n",
       "      <td>C_02_054</td>\n",
       "      <td>file:///media/kristian/HDD/ASL_Citizen/ASL_Cit...</td>\n",
       "      <td>13</td>\n",
       "      <td>79</td>\n",
       "      <td>29</td>\n",
       "      <td>3</td>\n",
       "      <td>49</td>\n",
       "    </tr>\n",
       "  </tbody>\n",
       "</table>\n",
       "</div>"
      ],
      "text/plain": [
       "    Participant ID                      Video file    Gloss ASL-LEX Code  \\\n",
       "522             P6   6734748834983595-WHAT FOR.mp4  WHATFOR     C_02_054   \n",
       "521            P17  33051835760678294-WHAT FOR.mp4  WHATFOR     C_02_054   \n",
       "532            P42   2748457214117681-WHAT FOR.mp4  WHATFOR     C_02_054   \n",
       "526            P42   9684934734400592-WHAT FOR.mp4  WHATFOR     C_02_054   \n",
       "533            P15    540014801916062-WHAT FOR.mp4  WHATFOR     C_02_054   \n",
       "\n",
       "                                                  Path  Frequency  Frames  \\\n",
       "522  file:///media/kristian/HDD/ASL_Citizen/ASL_Cit...         13      66   \n",
       "521  file:///media/kristian/HDD/ASL_Citizen/ASL_Cit...         13      52   \n",
       "532  file:///media/kristian/HDD/ASL_Citizen/ASL_Cit...         13      74   \n",
       "526  file:///media/kristian/HDD/ASL_Citizen/ASL_Cit...         13      89   \n",
       "533  file:///media/kristian/HDD/ASL_Citizen/ASL_Cit...         13      79   \n",
       "\n",
       "     FPS  Length  Cat_label  \n",
       "522   29       2         49  \n",
       "521   31       2         49  \n",
       "532   30       2         49  \n",
       "526   30       3         49  \n",
       "533   29       3         49  "
      ]
     },
     "execution_count": 147,
     "metadata": {},
     "output_type": "execute_result"
    }
   ],
   "source": [
    "testdf.tail()"
   ]
  },
  {
   "cell_type": "code",
   "execution_count": 148,
   "id": "d9d509a7",
   "metadata": {
    "ExecuteTime": {
     "end_time": "2023-08-07T17:56:43.651121Z",
     "start_time": "2023-08-07T17:56:43.648449Z"
    }
   },
   "outputs": [],
   "source": [
    "label_map = {label:num for num, label in enumerate(traindf['Gloss'].unique())}"
   ]
  },
  {
   "cell_type": "code",
   "execution_count": 149,
   "id": "b2139a4c",
   "metadata": {
    "ExecuteTime": {
     "end_time": "2023-08-07T17:56:44.532083Z",
     "start_time": "2023-08-07T17:56:44.527867Z"
    },
    "scrolled": true
   },
   "outputs": [
    {
     "data": {
      "text/plain": [
       "{'AXE': 0,\n",
       " 'BACKPACK': 1,\n",
       " 'BASKETBALL': 2,\n",
       " 'BEE': 3,\n",
       " 'BELT': 4,\n",
       " 'BITE': 5,\n",
       " 'BREAKFAST': 6,\n",
       " 'CANCER': 7,\n",
       " 'CHRISTMAS': 8,\n",
       " 'CONFUSED': 9,\n",
       " 'DARK': 10,\n",
       " 'DEAF': 11,\n",
       " 'DECIDE': 12,\n",
       " 'DEMAND': 13,\n",
       " 'DEVELOP': 14,\n",
       " 'DINNER': 15,\n",
       " 'DOG': 16,\n",
       " 'DOWNSIZE': 17,\n",
       " 'DRAG': 18,\n",
       " 'EAT': 19,\n",
       " 'EDIT': 20,\n",
       " 'ELEVATOR': 21,\n",
       " 'FINE': 22,\n",
       " 'FLOAT': 23,\n",
       " 'FOREIGNER': 24,\n",
       " 'GUESS': 25,\n",
       " 'HALLOWEEN': 26,\n",
       " 'HOSPITAL': 27,\n",
       " 'HURDLE/TRIP': 28,\n",
       " 'JEWELRY': 29,\n",
       " 'KNIGHT': 30,\n",
       " 'LOCK': 31,\n",
       " 'LUNCH': 32,\n",
       " 'MAPLE': 33,\n",
       " 'MEAT': 34,\n",
       " 'MECHANIC': 35,\n",
       " 'MICROSCOPE': 36,\n",
       " 'MOVIE': 37,\n",
       " 'NOON': 38,\n",
       " 'PARTY': 39,\n",
       " 'PATIENT': 40,\n",
       " 'RAZOR': 41,\n",
       " 'RIVER': 42,\n",
       " 'ROCKINGCHAIR': 43,\n",
       " 'SHAVE': 44,\n",
       " 'SINK': 45,\n",
       " 'SQUEEZE': 46,\n",
       " 'THEY': 47,\n",
       " 'TWINS': 48,\n",
       " 'WHATFOR': 49}"
      ]
     },
     "execution_count": 149,
     "metadata": {},
     "output_type": "execute_result"
    }
   ],
   "source": [
    "label_map"
   ]
  },
  {
   "cell_type": "code",
   "execution_count": 150,
   "id": "962046fb",
   "metadata": {
    "ExecuteTime": {
     "end_time": "2023-08-07T17:56:47.930511Z",
     "start_time": "2023-08-07T17:56:47.921530Z"
    }
   },
   "outputs": [
    {
     "data": {
      "text/html": [
       "<div>\n",
       "<style scoped>\n",
       "    .dataframe tbody tr th:only-of-type {\n",
       "        vertical-align: middle;\n",
       "    }\n",
       "\n",
       "    .dataframe tbody tr th {\n",
       "        vertical-align: top;\n",
       "    }\n",
       "\n",
       "    .dataframe thead th {\n",
       "        text-align: right;\n",
       "    }\n",
       "</style>\n",
       "<table border=\"1\" class=\"dataframe\">\n",
       "  <thead>\n",
       "    <tr style=\"text-align: right;\">\n",
       "      <th></th>\n",
       "      <th>Participant ID</th>\n",
       "      <th>Video file</th>\n",
       "      <th>Gloss</th>\n",
       "      <th>ASL-LEX Code</th>\n",
       "      <th>Path</th>\n",
       "      <th>Frequency</th>\n",
       "      <th>Frames</th>\n",
       "      <th>FPS</th>\n",
       "      <th>Length</th>\n",
       "      <th>Cat_label</th>\n",
       "    </tr>\n",
       "  </thead>\n",
       "  <tbody>\n",
       "    <tr>\n",
       "      <th>685</th>\n",
       "      <td>P11</td>\n",
       "      <td>8561671103002648-RIVER.mp4</td>\n",
       "      <td>RIVER</td>\n",
       "      <td>A_03_035</td>\n",
       "      <td>file:///media/kristian/HDD/ASL_Citizen/ASL_Cit...</td>\n",
       "      <td>15</td>\n",
       "      <td>68</td>\n",
       "      <td>29</td>\n",
       "      <td>2</td>\n",
       "      <td>42</td>\n",
       "    </tr>\n",
       "    <tr>\n",
       "      <th>454</th>\n",
       "      <td>P27</td>\n",
       "      <td>9543121609158431-HOSPITAL.mp4</td>\n",
       "      <td>HOSPITAL</td>\n",
       "      <td>B_02_026</td>\n",
       "      <td>file:///media/kristian/HDD/ASL_Citizen/ASL_Cit...</td>\n",
       "      <td>17</td>\n",
       "      <td>63</td>\n",
       "      <td>29</td>\n",
       "      <td>2</td>\n",
       "      <td>27</td>\n",
       "    </tr>\n",
       "    <tr>\n",
       "      <th>618</th>\n",
       "      <td>P37</td>\n",
       "      <td>1012683026825647-NOON.mp4</td>\n",
       "      <td>NOON</td>\n",
       "      <td>G_02_014</td>\n",
       "      <td>file:///media/kristian/HDD/ASL_Citizen/ASL_Cit...</td>\n",
       "      <td>17</td>\n",
       "      <td>62</td>\n",
       "      <td>30</td>\n",
       "      <td>2</td>\n",
       "      <td>38</td>\n",
       "    </tr>\n",
       "    <tr>\n",
       "      <th>673</th>\n",
       "      <td>P36</td>\n",
       "      <td>34327843271669756-RAZOR 2.mp4</td>\n",
       "      <td>RAZOR</td>\n",
       "      <td>K_03_103</td>\n",
       "      <td>file:///media/kristian/HDD/ASL_Citizen/ASL_Cit...</td>\n",
       "      <td>13</td>\n",
       "      <td>75</td>\n",
       "      <td>30</td>\n",
       "      <td>2</td>\n",
       "      <td>41</td>\n",
       "    </tr>\n",
       "    <tr>\n",
       "      <th>476</th>\n",
       "      <td>P50</td>\n",
       "      <td>22335744767716914-HURDLE-TRIP.mp4</td>\n",
       "      <td>HURDLE/TRIP</td>\n",
       "      <td>G_01_036</td>\n",
       "      <td>file:///media/kristian/HDD/ASL_Citizen/ASL_Cit...</td>\n",
       "      <td>17</td>\n",
       "      <td>87</td>\n",
       "      <td>30</td>\n",
       "      <td>3</td>\n",
       "      <td>28</td>\n",
       "    </tr>\n",
       "    <tr>\n",
       "      <th>482</th>\n",
       "      <td>P23</td>\n",
       "      <td>7185958868464457-JEWELRY.mp4</td>\n",
       "      <td>JEWELRY</td>\n",
       "      <td>H_03_040</td>\n",
       "      <td>file:///media/kristian/HDD/ASL_Citizen/ASL_Cit...</td>\n",
       "      <td>15</td>\n",
       "      <td>95</td>\n",
       "      <td>30</td>\n",
       "      <td>3</td>\n",
       "      <td>29</td>\n",
       "    </tr>\n",
       "    <tr>\n",
       "      <th>321</th>\n",
       "      <td>P31</td>\n",
       "      <td>6460191084812579-EAT.mp4</td>\n",
       "      <td>EAT</td>\n",
       "      <td>B_02_002</td>\n",
       "      <td>file:///media/kristian/HDD/ASL_Citizen/ASL_Cit...</td>\n",
       "      <td>14</td>\n",
       "      <td>79</td>\n",
       "      <td>30</td>\n",
       "      <td>3</td>\n",
       "      <td>19</td>\n",
       "    </tr>\n",
       "    <tr>\n",
       "      <th>307</th>\n",
       "      <td>P37</td>\n",
       "      <td>20831865620547463-DRAG.mp4</td>\n",
       "      <td>DRAG</td>\n",
       "      <td>J_02_039</td>\n",
       "      <td>file:///media/kristian/HDD/ASL_Citizen/ASL_Cit...</td>\n",
       "      <td>16</td>\n",
       "      <td>60</td>\n",
       "      <td>29</td>\n",
       "      <td>2</td>\n",
       "      <td>18</td>\n",
       "    </tr>\n",
       "    <tr>\n",
       "      <th>735</th>\n",
       "      <td>P37</td>\n",
       "      <td>43245204383901537-SINK.mp4</td>\n",
       "      <td>SINK</td>\n",
       "      <td>E_02_042</td>\n",
       "      <td>file:///media/kristian/HDD/ASL_Citizen/ASL_Cit...</td>\n",
       "      <td>14</td>\n",
       "      <td>71</td>\n",
       "      <td>30</td>\n",
       "      <td>2</td>\n",
       "      <td>45</td>\n",
       "    </tr>\n",
       "    <tr>\n",
       "      <th>118</th>\n",
       "      <td>P40</td>\n",
       "      <td>23598266126803202-BREAKFAST.mp4</td>\n",
       "      <td>BREAKFAST</td>\n",
       "      <td>J_01_053</td>\n",
       "      <td>file:///media/kristian/HDD/ASL_Citizen/ASL_Cit...</td>\n",
       "      <td>18</td>\n",
       "      <td>85</td>\n",
       "      <td>29</td>\n",
       "      <td>3</td>\n",
       "      <td>6</td>\n",
       "    </tr>\n",
       "  </tbody>\n",
       "</table>\n",
       "</div>"
      ],
      "text/plain": [
       "    Participant ID                         Video file        Gloss  \\\n",
       "685            P11         8561671103002648-RIVER.mp4        RIVER   \n",
       "454            P27      9543121609158431-HOSPITAL.mp4     HOSPITAL   \n",
       "618            P37          1012683026825647-NOON.mp4         NOON   \n",
       "673            P36      34327843271669756-RAZOR 2.mp4        RAZOR   \n",
       "476            P50  22335744767716914-HURDLE-TRIP.mp4  HURDLE/TRIP   \n",
       "482            P23       7185958868464457-JEWELRY.mp4      JEWELRY   \n",
       "321            P31           6460191084812579-EAT.mp4          EAT   \n",
       "307            P37         20831865620547463-DRAG.mp4         DRAG   \n",
       "735            P37         43245204383901537-SINK.mp4         SINK   \n",
       "118            P40    23598266126803202-BREAKFAST.mp4    BREAKFAST   \n",
       "\n",
       "    ASL-LEX Code                                               Path  \\\n",
       "685     A_03_035  file:///media/kristian/HDD/ASL_Citizen/ASL_Cit...   \n",
       "454     B_02_026  file:///media/kristian/HDD/ASL_Citizen/ASL_Cit...   \n",
       "618     G_02_014  file:///media/kristian/HDD/ASL_Citizen/ASL_Cit...   \n",
       "673     K_03_103  file:///media/kristian/HDD/ASL_Citizen/ASL_Cit...   \n",
       "476     G_01_036  file:///media/kristian/HDD/ASL_Citizen/ASL_Cit...   \n",
       "482     H_03_040  file:///media/kristian/HDD/ASL_Citizen/ASL_Cit...   \n",
       "321     B_02_002  file:///media/kristian/HDD/ASL_Citizen/ASL_Cit...   \n",
       "307     J_02_039  file:///media/kristian/HDD/ASL_Citizen/ASL_Cit...   \n",
       "735     E_02_042  file:///media/kristian/HDD/ASL_Citizen/ASL_Cit...   \n",
       "118     J_01_053  file:///media/kristian/HDD/ASL_Citizen/ASL_Cit...   \n",
       "\n",
       "     Frequency  Frames  FPS  Length  Cat_label  \n",
       "685         15      68   29       2         42  \n",
       "454         17      63   29       2         27  \n",
       "618         17      62   30       2         38  \n",
       "673         13      75   30       2         41  \n",
       "476         17      87   30       3         28  \n",
       "482         15      95   30       3         29  \n",
       "321         14      79   30       3         19  \n",
       "307         16      60   29       2         18  \n",
       "735         14      71   30       2         45  \n",
       "118         18      85   29       3          6  "
      ]
     },
     "execution_count": 150,
     "metadata": {},
     "output_type": "execute_result"
    }
   ],
   "source": [
    "traindf.sample(10)"
   ]
  },
  {
   "cell_type": "code",
   "execution_count": 6,
   "id": "6bf774ca",
   "metadata": {
    "ExecuteTime": {
     "end_time": "2023-08-07T18:07:20.285288Z",
     "start_time": "2023-08-07T18:07:19.605296Z"
    }
   },
   "outputs": [
    {
     "ename": "NameError",
     "evalue": "name 'encoder' is not defined",
     "output_type": "error",
     "traceback": [
      "\u001b[0;31m---------------------------------------------------------------------------\u001b[0m",
      "\u001b[0;31mNameError\u001b[0m                                 Traceback (most recent call last)",
      "Cell \u001b[0;32mIn[6], line 1\u001b[0m\n\u001b[0;32m----> 1\u001b[0m Ytrain \u001b[38;5;241m=\u001b[39m \u001b[43mencoder\u001b[49m\u001b[38;5;241m.\u001b[39mfit_transform(traindf[[\u001b[38;5;124m'\u001b[39m\u001b[38;5;124mGloss\u001b[39m\u001b[38;5;124m'\u001b[39m]])\n\u001b[1;32m      2\u001b[0m Ytest \u001b[38;5;241m=\u001b[39m encoder\u001b[38;5;241m.\u001b[39mfit_transform(testdf[[\u001b[38;5;124m'\u001b[39m\u001b[38;5;124mGloss\u001b[39m\u001b[38;5;124m'\u001b[39m]])\n\u001b[1;32m      3\u001b[0m Yval \u001b[38;5;241m=\u001b[39m encoder\u001b[38;5;241m.\u001b[39mfit_transform(valdf[[\u001b[38;5;124m'\u001b[39m\u001b[38;5;124mGloss\u001b[39m\u001b[38;5;124m'\u001b[39m]])\n",
      "\u001b[0;31mNameError\u001b[0m: name 'encoder' is not defined"
     ]
    }
   ],
   "source": [
    "Ytrain = encoder.fit_transform(traindf[['Gloss']])\n",
    "Ytest = encoder.fit_transform(testdf[['Gloss']])\n",
    "Yval = encoder.fit_transform(valdf[['Gloss']])"
   ]
  },
  {
   "cell_type": "code",
   "execution_count": 152,
   "id": "7cd74294",
   "metadata": {
    "ExecuteTime": {
     "end_time": "2023-08-07T17:57:08.929946Z",
     "start_time": "2023-08-07T17:57:08.925721Z"
    }
   },
   "outputs": [],
   "source": [
    "np.save(\"/home/kristian/Capstone/keypoints/ASL_Citizen/Mediapipe/train_labels_array_1D.npy\", Ytrain)\n",
    "np.save(\"/home/kristian/Capstone/keypoints/ASL_Citizen/Mediapipe/test_labels_array_1D.npy\", Ytest)\n",
    "np.save(\"/home/kristian/Capstone/keypoints/ASL_Citizen/Mediapipe/val_labels_array_1D.npy\", Yval)"
   ]
  },
  {
   "cell_type": "code",
   "execution_count": null,
   "id": "26877e3a",
   "metadata": {
    "ExecuteTime": {
     "end_time": "2023-08-08T18:32:32.103394Z",
     "start_time": "2023-08-08T18:32:32.103383Z"
    },
    "init_cell": true
   },
   "outputs": [],
   "source": [
    "Ytrain=np.load(\"/home/kristian/Capstone/keypoints/ASL_Citizen/Mediapipe/train_labels_array_1D.npy\")\n",
    "Ytest=np.load(\"/home/kristian/Capstone/keypoints/ASL_Citizen/Mediapipe/test_labels_array_1D.npy\")\n",
    "Yval=np.load(\"/home/kristian/Capstone/keypoints/ASL_Citizen/Mediapipe/val_labels_array_1D.npy\")\n"
   ]
  },
  {
   "cell_type": "code",
   "execution_count": null,
   "id": "28e63d67",
   "metadata": {
    "ExecuteTime": {
     "end_time": "2023-08-08T18:32:32.104244Z",
     "start_time": "2023-08-08T18:32:32.104232Z"
    },
    "init_cell": true
   },
   "outputs": [],
   "source": [
    "Xtrain = train_keypoints\n",
    "Xtest = test_keypoints\n",
    "Xval = val_keypoints"
   ]
  },
  {
   "cell_type": "code",
   "execution_count": null,
   "id": "d52a77ac",
   "metadata": {
    "ExecuteTime": {
     "end_time": "2023-08-08T18:32:32.105092Z",
     "start_time": "2023-08-08T18:32:32.105081Z"
    },
    "init_cell": true
   },
   "outputs": [],
   "source": [
    "n_classes = 50\n",
    "print(\"Shape before one-hot encoding: \", Ytrain.shape)\n",
    "Ytrain = to_categorical(Ytrain, n_classes)\n",
    "print(\"Shape after one-hot encoding: \", Ytrain.shape)\n",
    "print(\"Shape before one-hot encoding: \", Ytest.shape)\n",
    "Ytest = to_categorical(Ytest, n_classes)\n",
    "print(\"Shape after one-hot encoding: \", Ytest.shape)\n",
    "print(\"Shape before one-hot encoding: \", Yval.shape)\n",
    "Yval = to_categorical(Yval, n_classes)\n",
    "print(\"Shape after one-hot encoding: \", Yval.shape)"
   ]
  },
  {
   "cell_type": "code",
   "execution_count": null,
   "id": "eb749626",
   "metadata": {
    "ExecuteTime": {
     "end_time": "2023-08-08T18:32:32.106141Z",
     "start_time": "2023-08-08T18:32:32.106129Z"
    },
    "init_cell": true
   },
   "outputs": [],
   "source": [
    "type(Ytrain)"
   ]
  },
  {
   "cell_type": "code",
   "execution_count": null,
   "id": "3258ad3f",
   "metadata": {
    "ExecuteTime": {
     "end_time": "2023-08-08T18:32:32.107260Z",
     "start_time": "2023-08-08T18:32:32.107245Z"
    },
    "init_cell": true
   },
   "outputs": [],
   "source": [
    "Ytrain.shape"
   ]
  },
  {
   "cell_type": "code",
   "execution_count": 10,
   "id": "0a2e3c0b",
   "metadata": {
    "ExecuteTime": {
     "end_time": "2023-08-03T18:54:09.792399Z",
     "start_time": "2023-08-03T18:54:08.816481Z"
    }
   },
   "outputs": [],
   "source": [
    "X_train, X_test, Y_train, Y_test = train_test_split(X, \n",
    "                                                    Y,\n",
    "                                                    test_size=0.2,\n",
    "                                                    random_state=10)"
   ]
  },
  {
   "cell_type": "code",
   "execution_count": null,
   "id": "e369f34e",
   "metadata": {
    "ExecuteTime": {
     "end_time": "2023-08-08T18:32:32.108224Z",
     "start_time": "2023-08-08T18:32:32.108211Z"
    },
    "init_cell": true
   },
   "outputs": [],
   "source": [
    "Xtrain = np.concatenate((Xtrain, Xtest), axis=0)\n",
    "print(Xtrain.shape)\n",
    "Ytrain = np.concatenate((Ytrain, Ytest), axis=0)\n",
    "print(Ytrain.shape)"
   ]
  },
  {
   "cell_type": "code",
   "execution_count": null,
   "id": "5a8fde5c",
   "metadata": {
    "ExecuteTime": {
     "end_time": "2023-08-08T18:32:32.109660Z",
     "start_time": "2023-08-08T18:32:32.109640Z"
    },
    "init_cell": true
   },
   "outputs": [],
   "source": [
    "from sklearn.preprocessing import MinMaxScaler\n",
    "\n",
    "\n",
    "num_samples, num_frames, num_keypoints = Xtrain.shape\n",
    "Xtrain = Xtrain.reshape(num_samples, -1)\n",
    "\n",
    "# Create a MinMaxScaler\n",
    "scaler = MinMaxScaler()\n",
    "\n",
    "# Fit and transform the data\n",
    "Xtrain = scaler.fit_transform(Xtrain)\n",
    "\n",
    "# Reshape the scaled data back to the original shape\n",
    "Xtrain = Xtrain.reshape(num_samples, num_frames, num_keypoints)"
   ]
  },
  {
   "cell_type": "code",
   "execution_count": null,
   "id": "e8042926",
   "metadata": {
    "ExecuteTime": {
     "end_time": "2023-08-08T18:32:32.111108Z",
     "start_time": "2023-08-08T18:32:32.111092Z"
    },
    "init_cell": true
   },
   "outputs": [],
   "source": [
    "Xtrain.shape"
   ]
  },
  {
   "cell_type": "code",
   "execution_count": 20,
   "id": "49da28e5",
   "metadata": {
    "ExecuteTime": {
     "end_time": "2023-08-03T15:51:46.223692Z",
     "start_time": "2023-08-03T15:51:46.190010Z"
    }
   },
   "outputs": [
    {
     "ename": "NameError",
     "evalue": "name 'input_data_scaled' is not defined",
     "output_type": "error",
     "traceback": [
      "\u001b[0;31m---------------------------------------------------------------------------\u001b[0m",
      "\u001b[0;31mNameError\u001b[0m                                 Traceback (most recent call last)",
      "Cell \u001b[0;32mIn[20], line 1\u001b[0m\n\u001b[0;32m----> 1\u001b[0m X_train, X_test, Y_train, Y_test, mask_train, mask_test \u001b[38;5;241m=\u001b[39m train_test_split(\u001b[43minput_data_scaled\u001b[49m,\n\u001b[1;32m      2\u001b[0m                                                     Y, mask,\n\u001b[1;32m      3\u001b[0m                                                     test_size\u001b[38;5;241m=\u001b[39m\u001b[38;5;241m0.1\u001b[39m,\n\u001b[1;32m      4\u001b[0m                                                     random_state\u001b[38;5;241m=\u001b[39m\u001b[38;5;241m10\u001b[39m)\n",
      "\u001b[0;31mNameError\u001b[0m: name 'input_data_scaled' is not defined"
     ]
    }
   ],
   "source": [
    "X_train, X_test, Y_train, Y_test = train_test_split(input_data_scaled,\n",
    "                                                    Y,\n",
    "                                                    test_size=0.,\n",
    "                                                    random_state=10)"
   ]
  },
  {
   "cell_type": "code",
   "execution_count": null,
   "id": "c00d3fb2",
   "metadata": {
    "ExecuteTime": {
     "end_time": "2023-08-08T18:32:32.112381Z",
     "start_time": "2023-08-08T18:32:32.112366Z"
    },
    "init_cell": true
   },
   "outputs": [],
   "source": [
    "print(Xtrain.shape)\n",
    "Xtest.shape"
   ]
  },
  {
   "cell_type": "code",
   "execution_count": null,
   "id": "a77d3abb",
   "metadata": {
    "ExecuteTime": {
     "end_time": "2023-08-08T18:32:32.113950Z",
     "start_time": "2023-08-08T18:32:32.113932Z"
    },
    "init_cell": true
   },
   "outputs": [],
   "source": [
    "print(Ytrain.shape)\n",
    "Ytest.shape"
   ]
  },
  {
   "cell_type": "code",
   "execution_count": null,
   "id": "afebe752",
   "metadata": {
    "ExecuteTime": {
     "end_time": "2023-08-08T18:32:32.115061Z",
     "start_time": "2023-08-08T18:32:32.115047Z"
    },
    "init_cell": true,
    "scrolled": true
   },
   "outputs": [],
   "source": [
    "Xtrain"
   ]
  },
  {
   "cell_type": "markdown",
   "id": "965a4a24",
   "metadata": {},
   "source": [
    "# Model"
   ]
  },
  {
   "cell_type": "code",
   "execution_count": null,
   "id": "80a6472e",
   "metadata": {
    "ExecuteTime": {
     "end_time": "2023-08-08T18:32:32.116127Z",
     "start_time": "2023-08-08T18:32:32.116113Z"
    },
    "init_cell": true
   },
   "outputs": [],
   "source": [
    "from tensorflow.keras.models import Sequential\n",
    "from tensorflow.keras.layers import LSTM, Dense, Dropout, GRU\n",
    "from tensorflow.keras.callbacks import TensorBoard\n",
    "import tensorflow as tf\n",
    "import tensorflow as tf\n",
    "from tensorflow.keras import layers, models\n",
    "from tensorflow.keras.optimizers import Adam ,Adagrad, Adadelta, SGD, Lion\n",
    "import os\n"
   ]
  },
  {
   "cell_type": "code",
   "execution_count": null,
   "id": "84471a45",
   "metadata": {
    "ExecuteTime": {
     "end_time": "2023-08-08T18:32:32.117138Z",
     "start_time": "2023-08-08T18:32:32.117125Z"
    },
    "init_cell": true
   },
   "outputs": [],
   "source": [
    "log_dir = os.path.join('Logs')\n",
    "tb_callback = TensorBoard(log_dir=log_dir)\n",
    "tf.random.set_seed(100)"
   ]
  },
  {
   "cell_type": "code",
   "execution_count": null,
   "id": "5ae984cb",
   "metadata": {
    "ExecuteTime": {
     "end_time": "2023-08-08T18:32:32.118337Z",
     "start_time": "2023-08-08T18:32:32.118322Z"
    },
    "init_cell": true
   },
   "outputs": [],
   "source": [
    "physical_devices = tf.config.list_physical_devices('GPU')\n",
    "if physical_devices:\n",
    "    for device in physical_devices:\n",
    "        tf.config.experimental.set_memory_growth(device, True)"
   ]
  },
  {
   "cell_type": "code",
   "execution_count": null,
   "id": "882eff58",
   "metadata": {
    "ExecuteTime": {
     "end_time": "2023-08-08T18:32:32.119468Z",
     "start_time": "2023-08-08T18:32:32.119454Z"
    },
    "init_cell": true
   },
   "outputs": [],
   "source": [
    "max_len = 130"
   ]
  },
  {
   "cell_type": "code",
   "execution_count": 18,
   "id": "83de7026",
   "metadata": {
    "ExecuteTime": {
     "end_time": "2023-08-07T20:32:59.595934Z",
     "start_time": "2023-08-07T20:31:15.893793Z"
    },
    "scrolled": true
   },
   "outputs": [
    {
     "name": "stderr",
     "output_type": "stream",
     "text": [
      "2023-08-07 21:31:15.975071: I tensorflow/core/common_runtime/gpu/gpu_device.cc:1639] Created device /job:localhost/replica:0/task:0/device:GPU:0 with 1037 MB memory:  -> device: 0, name: NVIDIA GeForce MX250, pci bus id: 0000:01:00.0, compute capability: 6.1\n"
     ]
    },
    {
     "name": "stdout",
     "output_type": "stream",
     "text": [
      "Model: \"Sequential\"\n",
      "_________________________________________________________________\n",
      " Layer (type)                Output Shape              Param #   \n",
      "=================================================================\n",
      " lstm (LSTM)                 (None, 130, 180)          1326960   \n",
      "                                                                 \n",
      " lstm_1 (LSTM)               (None, 130, 90)           97560     \n",
      "                                                                 \n",
      " lstm_2 (LSTM)               (None, 130, 180)          195120    \n",
      "                                                                 \n",
      " lstm_3 (LSTM)               (None, 90)                97560     \n",
      "                                                                 \n",
      " dense (Dense)               (None, 90)                8190      \n",
      "                                                                 \n",
      " dense_1 (Dense)             (None, 90)                8190      \n",
      "                                                                 \n",
      " dense_2 (Dense)             (None, 90)                8190      \n",
      "                                                                 \n",
      " dense_3 (Dense)             (None, 90)                8190      \n",
      "                                                                 \n",
      " dense_4 (Dense)             (None, 45)                4095      \n",
      "                                                                 \n",
      " dense_5 (Dense)             (None, 90)                4140      \n",
      "                                                                 \n",
      " dense_6 (Dense)             (None, 50)                4550      \n",
      "                                                                 \n",
      "=================================================================\n",
      "Total params: 1762745 (6.72 MB)\n",
      "Trainable params: 1762745 (6.72 MB)\n",
      "Non-trainable params: 0 (0.00 Byte)\n",
      "_________________________________________________________________\n",
      "Epoch 1/1000\n"
     ]
    },
    {
     "name": "stderr",
     "output_type": "stream",
     "text": [
      "2023-08-07 21:31:23.890758: I tensorflow/compiler/xla/stream_executor/cuda/cuda_dnn.cc:432] Loaded cuDNN version 8600\n",
      "2023-08-07 21:31:24.039649: I tensorflow/compiler/xla/service/service.cc:168] XLA service 0xa6a3900 initialized for platform CUDA (this does not guarantee that XLA will be used). Devices:\n",
      "2023-08-07 21:31:24.039679: I tensorflow/compiler/xla/service/service.cc:176]   StreamExecutor device (0): NVIDIA GeForce MX250, Compute Capability 6.1\n",
      "2023-08-07 21:31:24.100011: I ./tensorflow/compiler/jit/device_compiler.h:186] Compiled cluster using XLA!  This line is logged at most once for the lifetime of the process.\n"
     ]
    },
    {
     "name": "stdout",
     "output_type": "stream",
     "text": [
      "11/11 [==============================] - 10s 360ms/step - loss: 8.4307 - categorical_accuracy: 0.0171 - val_loss: 5.4406 - val_categorical_accuracy: 0.0000e+00\n",
      "Epoch 2/1000\n",
      "11/11 [==============================] - 2s 218ms/step - loss: 7.6683 - categorical_accuracy: 0.0311 - val_loss: 5.3028 - val_categorical_accuracy: 0.0000e+00\n",
      "Epoch 3/1000\n",
      "11/11 [==============================] - 2s 220ms/step - loss: 7.6718 - categorical_accuracy: 0.0249 - val_loss: 5.0410 - val_categorical_accuracy: 0.0000e+00\n",
      "Epoch 4/1000\n",
      "11/11 [==============================] - 2s 221ms/step - loss: 8.3987 - categorical_accuracy: 0.0187 - val_loss: 5.0319 - val_categorical_accuracy: 0.0000e+00\n",
      "Epoch 5/1000\n",
      "11/11 [==============================] - 2s 221ms/step - loss: 7.4197 - categorical_accuracy: 0.0280 - val_loss: 5.5538 - val_categorical_accuracy: 0.0000e+00\n",
      "Epoch 6/1000\n",
      "11/11 [==============================] - 2s 219ms/step - loss: 8.0407 - categorical_accuracy: 0.0311 - val_loss: 7.9545 - val_categorical_accuracy: 0.0000e+00\n",
      "Epoch 7/1000\n",
      "11/11 [==============================] - 2s 219ms/step - loss: 8.0923 - categorical_accuracy: 0.0280 - val_loss: 5.0318 - val_categorical_accuracy: 0.0000e+00\n",
      "Epoch 8/1000\n",
      "11/11 [==============================] - 2s 220ms/step - loss: 7.8106 - categorical_accuracy: 0.0249 - val_loss: 8.0347 - val_categorical_accuracy: 0.0000e+00\n",
      "Epoch 9/1000\n",
      "11/11 [==============================] - 2s 219ms/step - loss: 8.6343 - categorical_accuracy: 0.0264 - val_loss: 5.0350 - val_categorical_accuracy: 0.0000e+00\n",
      "Epoch 10/1000\n",
      "11/11 [==============================] - 2s 219ms/step - loss: 7.6313 - categorical_accuracy: 0.0233 - val_loss: 5.0359 - val_categorical_accuracy: 0.0000e+00\n",
      "Epoch 11/1000\n",
      "11/11 [==============================] - 2s 220ms/step - loss: 6.9260 - categorical_accuracy: 0.0218 - val_loss: 11.0226 - val_categorical_accuracy: 0.0000e+00\n",
      "Epoch 12/1000\n",
      "11/11 [==============================] - 2s 220ms/step - loss: 8.2332 - categorical_accuracy: 0.0202 - val_loss: 4.9825 - val_categorical_accuracy: 0.0994\n",
      "Epoch 13/1000\n",
      "11/11 [==============================] - 2s 220ms/step - loss: 7.8706 - categorical_accuracy: 0.0233 - val_loss: 4.9841 - val_categorical_accuracy: 0.0994\n",
      "Epoch 14/1000\n",
      "11/11 [==============================] - 2s 221ms/step - loss: 7.3172 - categorical_accuracy: 0.0249 - val_loss: 4.9831 - val_categorical_accuracy: 0.0994\n",
      "Epoch 15/1000\n",
      "11/11 [==============================] - 2s 217ms/step - loss: 8.2094 - categorical_accuracy: 0.0171 - val_loss: 11.3550 - val_categorical_accuracy: 0.0000e+00\n",
      "Epoch 16/1000\n",
      "11/11 [==============================] - 2s 222ms/step - loss: 7.8881 - categorical_accuracy: 0.0187 - val_loss: 7.9880 - val_categorical_accuracy: 0.0994\n",
      "Epoch 17/1000\n",
      "11/11 [==============================] - 2s 226ms/step - loss: 8.3123 - categorical_accuracy: 0.0218 - val_loss: 7.9903 - val_categorical_accuracy: 0.0994\n",
      "Epoch 18/1000\n",
      "11/11 [==============================] - 2s 222ms/step - loss: 8.2341 - categorical_accuracy: 0.0171 - val_loss: 4.9904 - val_categorical_accuracy: 0.0994\n",
      "Epoch 19/1000\n",
      "11/11 [==============================] - 2s 224ms/step - loss: 6.9151 - categorical_accuracy: 0.0187 - val_loss: 5.9431 - val_categorical_accuracy: 0.0994\n",
      "Epoch 20/1000\n",
      "11/11 [==============================] - 2s 221ms/step - loss: 7.6260 - categorical_accuracy: 0.0218 - val_loss: 4.9903 - val_categorical_accuracy: 0.0994\n",
      "Epoch 21/1000\n",
      "11/11 [==============================] - 2s 220ms/step - loss: 7.8169 - categorical_accuracy: 0.0295 - val_loss: 4.9939 - val_categorical_accuracy: 0.0994\n",
      "Epoch 22/1000\n",
      "11/11 [==============================] - 2s 221ms/step - loss: 7.6955 - categorical_accuracy: 0.0171 - val_loss: 4.9973 - val_categorical_accuracy: 0.0994\n",
      "Epoch 23/1000\n",
      "11/11 [==============================] - 2s 221ms/step - loss: 7.3087 - categorical_accuracy: 0.0171 - val_loss: 4.9986 - val_categorical_accuracy: 0.0994\n",
      "Epoch 24/1000\n",
      "11/11 [==============================] - 2s 222ms/step - loss: 7.4312 - categorical_accuracy: 0.0249 - val_loss: 4.9984 - val_categorical_accuracy: 0.0994\n",
      "Epoch 25/1000\n",
      "11/11 [==============================] - 2s 220ms/step - loss: 7.3447 - categorical_accuracy: 0.0233 - val_loss: 5.8044 - val_categorical_accuracy: 0.0000e+00\n",
      "Epoch 26/1000\n",
      "11/11 [==============================] - 2s 221ms/step - loss: 6.9409 - categorical_accuracy: 0.0218 - val_loss: 6.5245 - val_categorical_accuracy: 0.0000e+00\n",
      "Epoch 27/1000\n",
      "11/11 [==============================] - 2s 221ms/step - loss: 8.0626 - categorical_accuracy: 0.0311 - val_loss: 7.9870 - val_categorical_accuracy: 0.0000e+00\n",
      "Epoch 28/1000\n",
      "11/11 [==============================] - 2s 223ms/step - loss: 9.5177 - categorical_accuracy: 0.0156 - val_loss: 11.3321 - val_categorical_accuracy: 0.0000e+00\n",
      "Epoch 29/1000\n",
      "11/11 [==============================] - 2s 222ms/step - loss: 9.0008 - categorical_accuracy: 0.0171 - val_loss: 5.9848 - val_categorical_accuracy: 0.0000e+00\n",
      "Epoch 30/1000\n",
      "11/11 [==============================] - 2s 226ms/step - loss: 8.8190 - categorical_accuracy: 0.0202 - val_loss: 13.5651 - val_categorical_accuracy: 0.0000e+00\n",
      "Epoch 31/1000\n",
      "11/11 [==============================] - 2s 223ms/step - loss: 8.9168 - categorical_accuracy: 0.0187 - val_loss: 7.9912 - val_categorical_accuracy: 0.0000e+00\n",
      "Epoch 32/1000\n",
      "11/11 [==============================] - 2s 228ms/step - loss: 9.8154 - categorical_accuracy: 0.0233 - val_loss: 7.9926 - val_categorical_accuracy: 0.0000e+00\n",
      "Epoch 33/1000\n",
      "11/11 [==============================] - 2s 221ms/step - loss: 9.9764 - categorical_accuracy: 0.0218 - val_loss: 7.9943 - val_categorical_accuracy: 0.0000e+00\n",
      "Epoch 34/1000\n",
      "11/11 [==============================] - 2s 224ms/step - loss: 9.8159 - categorical_accuracy: 0.0202 - val_loss: 7.9935 - val_categorical_accuracy: 0.0000e+00\n",
      "Epoch 35/1000\n",
      "11/11 [==============================] - 2s 225ms/step - loss: 8.6428 - categorical_accuracy: 0.0249 - val_loss: 7.9950 - val_categorical_accuracy: 0.0000e+00\n",
      "Epoch 36/1000\n",
      "11/11 [==============================] - 2s 227ms/step - loss: 7.2037 - categorical_accuracy: 0.0218 - val_loss: 6.0162 - val_categorical_accuracy: 0.0000e+00\n",
      "Epoch 37/1000\n",
      "11/11 [==============================] - 2s 226ms/step - loss: 9.6929 - categorical_accuracy: 0.0187 - val_loss: 12.7522 - val_categorical_accuracy: 0.0000e+00\n",
      "Epoch 38/1000\n",
      " 2/11 [====>.........................] - ETA: 1s - loss: 6.5004 - categorical_accuracy: 0.0156    "
     ]
    },
    {
     "ename": "KeyboardInterrupt",
     "evalue": "",
     "output_type": "error",
     "traceback": [
      "\u001b[0;31m---------------------------------------------------------------------------\u001b[0m",
      "\u001b[0;31mKeyboardInterrupt\u001b[0m                         Traceback (most recent call last)",
      "Cell \u001b[0;32mIn[18], line 19\u001b[0m\n\u001b[1;32m     16\u001b[0m optimizer \u001b[38;5;241m=\u001b[39m SGD(learning_rate\u001b[38;5;241m=\u001b[39m\u001b[38;5;241m.00001\u001b[39m,nesterov\u001b[38;5;241m=\u001b[39m\u001b[38;5;28;01mTrue\u001b[39;00m)\n\u001b[1;32m     17\u001b[0m model\u001b[38;5;241m.\u001b[39mcompile(optimizer\u001b[38;5;241m=\u001b[39moptimizer, loss\u001b[38;5;241m=\u001b[39m\u001b[38;5;124m'\u001b[39m\u001b[38;5;124mcategorical_crossentropy\u001b[39m\u001b[38;5;124m'\u001b[39m, metrics\u001b[38;5;241m=\u001b[39m[\u001b[38;5;124m'\u001b[39m\u001b[38;5;124mcategorical_accuracy\u001b[39m\u001b[38;5;124m'\u001b[39m])\n\u001b[0;32m---> 19\u001b[0m history \u001b[38;5;241m=\u001b[39m \u001b[43mmodel\u001b[49m\u001b[38;5;241;43m.\u001b[39;49m\u001b[43mfit\u001b[49m\u001b[43m(\u001b[49m\u001b[43mXtrain\u001b[49m\u001b[43m,\u001b[49m\u001b[43m \u001b[49m\u001b[43mYtrain\u001b[49m\u001b[43m,\u001b[49m\u001b[43m \u001b[49m\u001b[43mepochs\u001b[49m\u001b[38;5;241;43m=\u001b[39;49m\u001b[38;5;241;43m1000\u001b[39;49m\u001b[43m,\u001b[49m\u001b[43m \u001b[49m\u001b[43mvalidation_split\u001b[49m\u001b[38;5;241;43m=\u001b[39;49m\u001b[38;5;241;43m.2\u001b[39;49m\u001b[43m,\u001b[49m\u001b[43m \u001b[49m\u001b[43mbatch_size\u001b[49m\u001b[43m \u001b[49m\u001b[38;5;241;43m=\u001b[39;49m\u001b[43m \u001b[49m\u001b[38;5;241;43m64\u001b[39;49m\u001b[43m)\u001b[49m\n",
      "File \u001b[0;32m~/miniconda3/lib/python3.10/site-packages/keras/src/utils/traceback_utils.py:65\u001b[0m, in \u001b[0;36mfilter_traceback.<locals>.error_handler\u001b[0;34m(*args, **kwargs)\u001b[0m\n\u001b[1;32m     63\u001b[0m filtered_tb \u001b[38;5;241m=\u001b[39m \u001b[38;5;28;01mNone\u001b[39;00m\n\u001b[1;32m     64\u001b[0m \u001b[38;5;28;01mtry\u001b[39;00m:\n\u001b[0;32m---> 65\u001b[0m     \u001b[38;5;28;01mreturn\u001b[39;00m \u001b[43mfn\u001b[49m\u001b[43m(\u001b[49m\u001b[38;5;241;43m*\u001b[39;49m\u001b[43margs\u001b[49m\u001b[43m,\u001b[49m\u001b[43m \u001b[49m\u001b[38;5;241;43m*\u001b[39;49m\u001b[38;5;241;43m*\u001b[39;49m\u001b[43mkwargs\u001b[49m\u001b[43m)\u001b[49m\n\u001b[1;32m     66\u001b[0m \u001b[38;5;28;01mexcept\u001b[39;00m \u001b[38;5;167;01mException\u001b[39;00m \u001b[38;5;28;01mas\u001b[39;00m e:\n\u001b[1;32m     67\u001b[0m     filtered_tb \u001b[38;5;241m=\u001b[39m _process_traceback_frames(e\u001b[38;5;241m.\u001b[39m__traceback__)\n",
      "File \u001b[0;32m~/miniconda3/lib/python3.10/site-packages/keras/src/engine/training.py:1748\u001b[0m, in \u001b[0;36mModel.fit\u001b[0;34m(self, x, y, batch_size, epochs, verbose, callbacks, validation_split, validation_data, shuffle, class_weight, sample_weight, initial_epoch, steps_per_epoch, validation_steps, validation_batch_size, validation_freq, max_queue_size, workers, use_multiprocessing)\u001b[0m\n\u001b[1;32m   1746\u001b[0m logs \u001b[38;5;241m=\u001b[39m tmp_logs\n\u001b[1;32m   1747\u001b[0m end_step \u001b[38;5;241m=\u001b[39m step \u001b[38;5;241m+\u001b[39m data_handler\u001b[38;5;241m.\u001b[39mstep_increment\n\u001b[0;32m-> 1748\u001b[0m \u001b[43mcallbacks\u001b[49m\u001b[38;5;241;43m.\u001b[39;49m\u001b[43mon_train_batch_end\u001b[49m\u001b[43m(\u001b[49m\u001b[43mend_step\u001b[49m\u001b[43m,\u001b[49m\u001b[43m \u001b[49m\u001b[43mlogs\u001b[49m\u001b[43m)\u001b[49m\n\u001b[1;32m   1749\u001b[0m \u001b[38;5;28;01mif\u001b[39;00m \u001b[38;5;28mself\u001b[39m\u001b[38;5;241m.\u001b[39mstop_training:\n\u001b[1;32m   1750\u001b[0m     \u001b[38;5;28;01mbreak\u001b[39;00m\n",
      "File \u001b[0;32m~/miniconda3/lib/python3.10/site-packages/keras/src/callbacks.py:475\u001b[0m, in \u001b[0;36mCallbackList.on_train_batch_end\u001b[0;34m(self, batch, logs)\u001b[0m\n\u001b[1;32m    468\u001b[0m \u001b[38;5;250m\u001b[39m\u001b[38;5;124;03m\"\"\"Calls the `on_train_batch_end` methods of its callbacks.\u001b[39;00m\n\u001b[1;32m    469\u001b[0m \n\u001b[1;32m    470\u001b[0m \u001b[38;5;124;03mArgs:\u001b[39;00m\n\u001b[1;32m    471\u001b[0m \u001b[38;5;124;03m    batch: Integer, index of batch within the current epoch.\u001b[39;00m\n\u001b[1;32m    472\u001b[0m \u001b[38;5;124;03m    logs: Dict. Aggregated metric results up until this batch.\u001b[39;00m\n\u001b[1;32m    473\u001b[0m \u001b[38;5;124;03m\"\"\"\u001b[39;00m\n\u001b[1;32m    474\u001b[0m \u001b[38;5;28;01mif\u001b[39;00m \u001b[38;5;28mself\u001b[39m\u001b[38;5;241m.\u001b[39m_should_call_train_batch_hooks:\n\u001b[0;32m--> 475\u001b[0m     \u001b[38;5;28;43mself\u001b[39;49m\u001b[38;5;241;43m.\u001b[39;49m\u001b[43m_call_batch_hook\u001b[49m\u001b[43m(\u001b[49m\u001b[43mModeKeys\u001b[49m\u001b[38;5;241;43m.\u001b[39;49m\u001b[43mTRAIN\u001b[49m\u001b[43m,\u001b[49m\u001b[43m \u001b[49m\u001b[38;5;124;43m\"\u001b[39;49m\u001b[38;5;124;43mend\u001b[39;49m\u001b[38;5;124;43m\"\u001b[39;49m\u001b[43m,\u001b[49m\u001b[43m \u001b[49m\u001b[43mbatch\u001b[49m\u001b[43m,\u001b[49m\u001b[43m \u001b[49m\u001b[43mlogs\u001b[49m\u001b[38;5;241;43m=\u001b[39;49m\u001b[43mlogs\u001b[49m\u001b[43m)\u001b[49m\n",
      "File \u001b[0;32m~/miniconda3/lib/python3.10/site-packages/keras/src/callbacks.py:322\u001b[0m, in \u001b[0;36mCallbackList._call_batch_hook\u001b[0;34m(self, mode, hook, batch, logs)\u001b[0m\n\u001b[1;32m    320\u001b[0m     \u001b[38;5;28mself\u001b[39m\u001b[38;5;241m.\u001b[39m_call_batch_begin_hook(mode, batch, logs)\n\u001b[1;32m    321\u001b[0m \u001b[38;5;28;01melif\u001b[39;00m hook \u001b[38;5;241m==\u001b[39m \u001b[38;5;124m\"\u001b[39m\u001b[38;5;124mend\u001b[39m\u001b[38;5;124m\"\u001b[39m:\n\u001b[0;32m--> 322\u001b[0m     \u001b[38;5;28;43mself\u001b[39;49m\u001b[38;5;241;43m.\u001b[39;49m\u001b[43m_call_batch_end_hook\u001b[49m\u001b[43m(\u001b[49m\u001b[43mmode\u001b[49m\u001b[43m,\u001b[49m\u001b[43m \u001b[49m\u001b[43mbatch\u001b[49m\u001b[43m,\u001b[49m\u001b[43m \u001b[49m\u001b[43mlogs\u001b[49m\u001b[43m)\u001b[49m\n\u001b[1;32m    323\u001b[0m \u001b[38;5;28;01melse\u001b[39;00m:\n\u001b[1;32m    324\u001b[0m     \u001b[38;5;28;01mraise\u001b[39;00m \u001b[38;5;167;01mValueError\u001b[39;00m(\n\u001b[1;32m    325\u001b[0m         \u001b[38;5;124mf\u001b[39m\u001b[38;5;124m\"\u001b[39m\u001b[38;5;124mUnrecognized hook: \u001b[39m\u001b[38;5;132;01m{\u001b[39;00mhook\u001b[38;5;132;01m}\u001b[39;00m\u001b[38;5;124m. \u001b[39m\u001b[38;5;124m\"\u001b[39m\n\u001b[1;32m    326\u001b[0m         \u001b[38;5;124m'\u001b[39m\u001b[38;5;124mExpected values are [\u001b[39m\u001b[38;5;124m\"\u001b[39m\u001b[38;5;124mbegin\u001b[39m\u001b[38;5;124m\"\u001b[39m\u001b[38;5;124m, \u001b[39m\u001b[38;5;124m\"\u001b[39m\u001b[38;5;124mend\u001b[39m\u001b[38;5;124m\"\u001b[39m\u001b[38;5;124m]\u001b[39m\u001b[38;5;124m'\u001b[39m\n\u001b[1;32m    327\u001b[0m     )\n",
      "File \u001b[0;32m~/miniconda3/lib/python3.10/site-packages/keras/src/callbacks.py:345\u001b[0m, in \u001b[0;36mCallbackList._call_batch_end_hook\u001b[0;34m(self, mode, batch, logs)\u001b[0m\n\u001b[1;32m    342\u001b[0m     batch_time \u001b[38;5;241m=\u001b[39m time\u001b[38;5;241m.\u001b[39mtime() \u001b[38;5;241m-\u001b[39m \u001b[38;5;28mself\u001b[39m\u001b[38;5;241m.\u001b[39m_batch_start_time\n\u001b[1;32m    343\u001b[0m     \u001b[38;5;28mself\u001b[39m\u001b[38;5;241m.\u001b[39m_batch_times\u001b[38;5;241m.\u001b[39mappend(batch_time)\n\u001b[0;32m--> 345\u001b[0m \u001b[38;5;28;43mself\u001b[39;49m\u001b[38;5;241;43m.\u001b[39;49m\u001b[43m_call_batch_hook_helper\u001b[49m\u001b[43m(\u001b[49m\u001b[43mhook_name\u001b[49m\u001b[43m,\u001b[49m\u001b[43m \u001b[49m\u001b[43mbatch\u001b[49m\u001b[43m,\u001b[49m\u001b[43m \u001b[49m\u001b[43mlogs\u001b[49m\u001b[43m)\u001b[49m\n\u001b[1;32m    347\u001b[0m \u001b[38;5;28;01mif\u001b[39;00m \u001b[38;5;28mlen\u001b[39m(\u001b[38;5;28mself\u001b[39m\u001b[38;5;241m.\u001b[39m_batch_times) \u001b[38;5;241m>\u001b[39m\u001b[38;5;241m=\u001b[39m \u001b[38;5;28mself\u001b[39m\u001b[38;5;241m.\u001b[39m_num_batches_for_timing_check:\n\u001b[1;32m    348\u001b[0m     end_hook_name \u001b[38;5;241m=\u001b[39m hook_name\n",
      "File \u001b[0;32m~/miniconda3/lib/python3.10/site-packages/keras/src/callbacks.py:393\u001b[0m, in \u001b[0;36mCallbackList._call_batch_hook_helper\u001b[0;34m(self, hook_name, batch, logs)\u001b[0m\n\u001b[1;32m    391\u001b[0m \u001b[38;5;28;01mfor\u001b[39;00m callback \u001b[38;5;129;01min\u001b[39;00m \u001b[38;5;28mself\u001b[39m\u001b[38;5;241m.\u001b[39mcallbacks:\n\u001b[1;32m    392\u001b[0m     hook \u001b[38;5;241m=\u001b[39m \u001b[38;5;28mgetattr\u001b[39m(callback, hook_name)\n\u001b[0;32m--> 393\u001b[0m     \u001b[43mhook\u001b[49m\u001b[43m(\u001b[49m\u001b[43mbatch\u001b[49m\u001b[43m,\u001b[49m\u001b[43m \u001b[49m\u001b[43mlogs\u001b[49m\u001b[43m)\u001b[49m\n\u001b[1;32m    395\u001b[0m \u001b[38;5;28;01mif\u001b[39;00m \u001b[38;5;28mself\u001b[39m\u001b[38;5;241m.\u001b[39m_check_timing:\n\u001b[1;32m    396\u001b[0m     \u001b[38;5;28;01mif\u001b[39;00m hook_name \u001b[38;5;129;01mnot\u001b[39;00m \u001b[38;5;129;01min\u001b[39;00m \u001b[38;5;28mself\u001b[39m\u001b[38;5;241m.\u001b[39m_hook_times:\n",
      "File \u001b[0;32m~/miniconda3/lib/python3.10/site-packages/keras/src/callbacks.py:1093\u001b[0m, in \u001b[0;36mProgbarLogger.on_train_batch_end\u001b[0;34m(self, batch, logs)\u001b[0m\n\u001b[1;32m   1092\u001b[0m \u001b[38;5;28;01mdef\u001b[39;00m \u001b[38;5;21mon_train_batch_end\u001b[39m(\u001b[38;5;28mself\u001b[39m, batch, logs\u001b[38;5;241m=\u001b[39m\u001b[38;5;28;01mNone\u001b[39;00m):\n\u001b[0;32m-> 1093\u001b[0m     \u001b[38;5;28;43mself\u001b[39;49m\u001b[38;5;241;43m.\u001b[39;49m\u001b[43m_batch_update_progbar\u001b[49m\u001b[43m(\u001b[49m\u001b[43mbatch\u001b[49m\u001b[43m,\u001b[49m\u001b[43m \u001b[49m\u001b[43mlogs\u001b[49m\u001b[43m)\u001b[49m\n",
      "File \u001b[0;32m~/miniconda3/lib/python3.10/site-packages/keras/src/callbacks.py:1169\u001b[0m, in \u001b[0;36mProgbarLogger._batch_update_progbar\u001b[0;34m(self, batch, logs)\u001b[0m\n\u001b[1;32m   1165\u001b[0m     \u001b[38;5;28mself\u001b[39m\u001b[38;5;241m.\u001b[39mseen \u001b[38;5;241m+\u001b[39m\u001b[38;5;241m=\u001b[39m add_seen\n\u001b[1;32m   1167\u001b[0m \u001b[38;5;28;01mif\u001b[39;00m \u001b[38;5;28mself\u001b[39m\u001b[38;5;241m.\u001b[39mverbose \u001b[38;5;241m==\u001b[39m \u001b[38;5;241m1\u001b[39m:\n\u001b[1;32m   1168\u001b[0m     \u001b[38;5;66;03m# Only block async when verbose = 1.\u001b[39;00m\n\u001b[0;32m-> 1169\u001b[0m     logs \u001b[38;5;241m=\u001b[39m \u001b[43mtf_utils\u001b[49m\u001b[38;5;241;43m.\u001b[39;49m\u001b[43msync_to_numpy_or_python_type\u001b[49m\u001b[43m(\u001b[49m\u001b[43mlogs\u001b[49m\u001b[43m)\u001b[49m\n\u001b[1;32m   1170\u001b[0m     \u001b[38;5;28mself\u001b[39m\u001b[38;5;241m.\u001b[39mprogbar\u001b[38;5;241m.\u001b[39mupdate(\u001b[38;5;28mself\u001b[39m\u001b[38;5;241m.\u001b[39mseen, \u001b[38;5;28mlist\u001b[39m(logs\u001b[38;5;241m.\u001b[39mitems()), finalize\u001b[38;5;241m=\u001b[39m\u001b[38;5;28;01mFalse\u001b[39;00m)\n",
      "File \u001b[0;32m~/miniconda3/lib/python3.10/site-packages/keras/src/utils/tf_utils.py:694\u001b[0m, in \u001b[0;36msync_to_numpy_or_python_type\u001b[0;34m(tensors)\u001b[0m\n\u001b[1;32m    691\u001b[0m         \u001b[38;5;28;01mreturn\u001b[39;00m t\n\u001b[1;32m    692\u001b[0m     \u001b[38;5;28;01mreturn\u001b[39;00m t\u001b[38;5;241m.\u001b[39mitem() \u001b[38;5;28;01mif\u001b[39;00m np\u001b[38;5;241m.\u001b[39mndim(t) \u001b[38;5;241m==\u001b[39m \u001b[38;5;241m0\u001b[39m \u001b[38;5;28;01melse\u001b[39;00m t\n\u001b[0;32m--> 694\u001b[0m \u001b[38;5;28;01mreturn\u001b[39;00m \u001b[43mtf\u001b[49m\u001b[38;5;241;43m.\u001b[39;49m\u001b[43mnest\u001b[49m\u001b[38;5;241;43m.\u001b[39;49m\u001b[43mmap_structure\u001b[49m\u001b[43m(\u001b[49m\u001b[43m_to_single_numpy_or_python_type\u001b[49m\u001b[43m,\u001b[49m\u001b[43m \u001b[49m\u001b[43mtensors\u001b[49m\u001b[43m)\u001b[49m\n",
      "File \u001b[0;32m~/miniconda3/lib/python3.10/site-packages/tensorflow/python/util/nest.py:624\u001b[0m, in \u001b[0;36mmap_structure\u001b[0;34m(func, *structure, **kwargs)\u001b[0m\n\u001b[1;32m    538\u001b[0m \u001b[38;5;129m@tf_export\u001b[39m(\u001b[38;5;124m\"\u001b[39m\u001b[38;5;124mnest.map_structure\u001b[39m\u001b[38;5;124m\"\u001b[39m)\n\u001b[1;32m    539\u001b[0m \u001b[38;5;28;01mdef\u001b[39;00m \u001b[38;5;21mmap_structure\u001b[39m(func, \u001b[38;5;241m*\u001b[39mstructure, \u001b[38;5;241m*\u001b[39m\u001b[38;5;241m*\u001b[39mkwargs):\n\u001b[1;32m    540\u001b[0m \u001b[38;5;250m  \u001b[39m\u001b[38;5;124;03m\"\"\"Creates a new structure by applying `func` to each atom in `structure`.\u001b[39;00m\n\u001b[1;32m    541\u001b[0m \n\u001b[1;32m    542\u001b[0m \u001b[38;5;124;03m  Refer to [tf.nest](https://www.tensorflow.org/api_docs/python/tf/nest)\u001b[39;00m\n\u001b[0;32m   (...)\u001b[0m\n\u001b[1;32m    622\u001b[0m \u001b[38;5;124;03m    ValueError: If wrong keyword arguments are provided.\u001b[39;00m\n\u001b[1;32m    623\u001b[0m \u001b[38;5;124;03m  \"\"\"\u001b[39;00m\n\u001b[0;32m--> 624\u001b[0m   \u001b[38;5;28;01mreturn\u001b[39;00m \u001b[43mnest_util\u001b[49m\u001b[38;5;241;43m.\u001b[39;49m\u001b[43mmap_structure\u001b[49m\u001b[43m(\u001b[49m\n\u001b[1;32m    625\u001b[0m \u001b[43m      \u001b[49m\u001b[43mnest_util\u001b[49m\u001b[38;5;241;43m.\u001b[39;49m\u001b[43mModality\u001b[49m\u001b[38;5;241;43m.\u001b[39;49m\u001b[43mCORE\u001b[49m\u001b[43m,\u001b[49m\u001b[43m \u001b[49m\u001b[43mfunc\u001b[49m\u001b[43m,\u001b[49m\u001b[43m \u001b[49m\u001b[38;5;241;43m*\u001b[39;49m\u001b[43mstructure\u001b[49m\u001b[43m,\u001b[49m\u001b[43m \u001b[49m\u001b[38;5;241;43m*\u001b[39;49m\u001b[38;5;241;43m*\u001b[39;49m\u001b[43mkwargs\u001b[49m\n\u001b[1;32m    626\u001b[0m \u001b[43m  \u001b[49m\u001b[43m)\u001b[49m\n",
      "File \u001b[0;32m~/miniconda3/lib/python3.10/site-packages/tensorflow/python/util/nest_util.py:1054\u001b[0m, in \u001b[0;36mmap_structure\u001b[0;34m(modality, func, *structure, **kwargs)\u001b[0m\n\u001b[1;32m    957\u001b[0m \u001b[38;5;250m\u001b[39m\u001b[38;5;124;03m\"\"\"Creates a new structure by applying `func` to each atom in `structure`.\u001b[39;00m\n\u001b[1;32m    958\u001b[0m \n\u001b[1;32m    959\u001b[0m \u001b[38;5;124;03m- For Modality.CORE: Refer to\u001b[39;00m\n\u001b[0;32m   (...)\u001b[0m\n\u001b[1;32m   1051\u001b[0m \u001b[38;5;124;03m  ValueError: If wrong keyword arguments are provided.\u001b[39;00m\n\u001b[1;32m   1052\u001b[0m \u001b[38;5;124;03m\"\"\"\u001b[39;00m\n\u001b[1;32m   1053\u001b[0m \u001b[38;5;28;01mif\u001b[39;00m modality \u001b[38;5;241m==\u001b[39m Modality\u001b[38;5;241m.\u001b[39mCORE:\n\u001b[0;32m-> 1054\u001b[0m   \u001b[38;5;28;01mreturn\u001b[39;00m \u001b[43m_tf_core_map_structure\u001b[49m\u001b[43m(\u001b[49m\u001b[43mfunc\u001b[49m\u001b[43m,\u001b[49m\u001b[43m \u001b[49m\u001b[38;5;241;43m*\u001b[39;49m\u001b[43mstructure\u001b[49m\u001b[43m,\u001b[49m\u001b[43m \u001b[49m\u001b[38;5;241;43m*\u001b[39;49m\u001b[38;5;241;43m*\u001b[39;49m\u001b[43mkwargs\u001b[49m\u001b[43m)\u001b[49m\n\u001b[1;32m   1055\u001b[0m \u001b[38;5;28;01melif\u001b[39;00m modality \u001b[38;5;241m==\u001b[39m Modality\u001b[38;5;241m.\u001b[39mDATA:\n\u001b[1;32m   1056\u001b[0m   \u001b[38;5;28;01mreturn\u001b[39;00m _tf_data_map_structure(func, \u001b[38;5;241m*\u001b[39mstructure, \u001b[38;5;241m*\u001b[39m\u001b[38;5;241m*\u001b[39mkwargs)\n",
      "File \u001b[0;32m~/miniconda3/lib/python3.10/site-packages/tensorflow/python/util/nest_util.py:1094\u001b[0m, in \u001b[0;36m_tf_core_map_structure\u001b[0;34m(func, *structure, **kwargs)\u001b[0m\n\u001b[1;32m   1089\u001b[0m flat_structure \u001b[38;5;241m=\u001b[39m (_tf_core_flatten(s, expand_composites) \u001b[38;5;28;01mfor\u001b[39;00m s \u001b[38;5;129;01min\u001b[39;00m structure)\n\u001b[1;32m   1090\u001b[0m entries \u001b[38;5;241m=\u001b[39m \u001b[38;5;28mzip\u001b[39m(\u001b[38;5;241m*\u001b[39mflat_structure)\n\u001b[1;32m   1092\u001b[0m \u001b[38;5;28;01mreturn\u001b[39;00m _tf_core_pack_sequence_as(\n\u001b[1;32m   1093\u001b[0m     structure[\u001b[38;5;241m0\u001b[39m],\n\u001b[0;32m-> 1094\u001b[0m     [func(\u001b[38;5;241m*\u001b[39mx) \u001b[38;5;28;01mfor\u001b[39;00m x \u001b[38;5;129;01min\u001b[39;00m entries],\n\u001b[1;32m   1095\u001b[0m     expand_composites\u001b[38;5;241m=\u001b[39mexpand_composites,\n\u001b[1;32m   1096\u001b[0m )\n",
      "File \u001b[0;32m~/miniconda3/lib/python3.10/site-packages/tensorflow/python/util/nest_util.py:1094\u001b[0m, in \u001b[0;36m<listcomp>\u001b[0;34m(.0)\u001b[0m\n\u001b[1;32m   1089\u001b[0m flat_structure \u001b[38;5;241m=\u001b[39m (_tf_core_flatten(s, expand_composites) \u001b[38;5;28;01mfor\u001b[39;00m s \u001b[38;5;129;01min\u001b[39;00m structure)\n\u001b[1;32m   1090\u001b[0m entries \u001b[38;5;241m=\u001b[39m \u001b[38;5;28mzip\u001b[39m(\u001b[38;5;241m*\u001b[39mflat_structure)\n\u001b[1;32m   1092\u001b[0m \u001b[38;5;28;01mreturn\u001b[39;00m _tf_core_pack_sequence_as(\n\u001b[1;32m   1093\u001b[0m     structure[\u001b[38;5;241m0\u001b[39m],\n\u001b[0;32m-> 1094\u001b[0m     [\u001b[43mfunc\u001b[49m\u001b[43m(\u001b[49m\u001b[38;5;241;43m*\u001b[39;49m\u001b[43mx\u001b[49m\u001b[43m)\u001b[49m \u001b[38;5;28;01mfor\u001b[39;00m x \u001b[38;5;129;01min\u001b[39;00m entries],\n\u001b[1;32m   1095\u001b[0m     expand_composites\u001b[38;5;241m=\u001b[39mexpand_composites,\n\u001b[1;32m   1096\u001b[0m )\n",
      "File \u001b[0;32m~/miniconda3/lib/python3.10/site-packages/keras/src/utils/tf_utils.py:687\u001b[0m, in \u001b[0;36msync_to_numpy_or_python_type.<locals>._to_single_numpy_or_python_type\u001b[0;34m(t)\u001b[0m\n\u001b[1;32m    684\u001b[0m \u001b[38;5;28;01mdef\u001b[39;00m \u001b[38;5;21m_to_single_numpy_or_python_type\u001b[39m(t):\n\u001b[1;32m    685\u001b[0m     \u001b[38;5;66;03m# Don't turn ragged or sparse tensors to NumPy.\u001b[39;00m\n\u001b[1;32m    686\u001b[0m     \u001b[38;5;28;01mif\u001b[39;00m \u001b[38;5;28misinstance\u001b[39m(t, tf\u001b[38;5;241m.\u001b[39mTensor):\n\u001b[0;32m--> 687\u001b[0m         t \u001b[38;5;241m=\u001b[39m \u001b[43mt\u001b[49m\u001b[38;5;241;43m.\u001b[39;49m\u001b[43mnumpy\u001b[49m\u001b[43m(\u001b[49m\u001b[43m)\u001b[49m\n\u001b[1;32m    688\u001b[0m     \u001b[38;5;66;03m# Strings, ragged and sparse tensors don't have .item(). Return them\u001b[39;00m\n\u001b[1;32m    689\u001b[0m     \u001b[38;5;66;03m# as-is.\u001b[39;00m\n\u001b[1;32m    690\u001b[0m     \u001b[38;5;28;01mif\u001b[39;00m \u001b[38;5;129;01mnot\u001b[39;00m \u001b[38;5;28misinstance\u001b[39m(t, (np\u001b[38;5;241m.\u001b[39mndarray, np\u001b[38;5;241m.\u001b[39mgeneric)):\n",
      "File \u001b[0;32m~/miniconda3/lib/python3.10/site-packages/tensorflow/python/framework/ops.py:1141\u001b[0m, in \u001b[0;36m_EagerTensorBase.numpy\u001b[0;34m(self)\u001b[0m\n\u001b[1;32m   1118\u001b[0m \u001b[38;5;250m\u001b[39m\u001b[38;5;124;03m\"\"\"Copy of the contents of this Tensor into a NumPy array or scalar.\u001b[39;00m\n\u001b[1;32m   1119\u001b[0m \n\u001b[1;32m   1120\u001b[0m \u001b[38;5;124;03mUnlike NumPy arrays, Tensors are immutable, so this method has to copy\u001b[39;00m\n\u001b[0;32m   (...)\u001b[0m\n\u001b[1;32m   1138\u001b[0m \u001b[38;5;124;03m    NumPy dtype.\u001b[39;00m\n\u001b[1;32m   1139\u001b[0m \u001b[38;5;124;03m\"\"\"\u001b[39;00m\n\u001b[1;32m   1140\u001b[0m \u001b[38;5;66;03m# TODO(slebedev): Consider avoiding a copy for non-CPU or remote tensors.\u001b[39;00m\n\u001b[0;32m-> 1141\u001b[0m maybe_arr \u001b[38;5;241m=\u001b[39m \u001b[38;5;28;43mself\u001b[39;49m\u001b[38;5;241;43m.\u001b[39;49m\u001b[43m_numpy\u001b[49m\u001b[43m(\u001b[49m\u001b[43m)\u001b[49m  \u001b[38;5;66;03m# pylint: disable=protected-access\u001b[39;00m\n\u001b[1;32m   1142\u001b[0m \u001b[38;5;28;01mreturn\u001b[39;00m maybe_arr\u001b[38;5;241m.\u001b[39mcopy() \u001b[38;5;28;01mif\u001b[39;00m \u001b[38;5;28misinstance\u001b[39m(maybe_arr, np\u001b[38;5;241m.\u001b[39mndarray) \u001b[38;5;28;01melse\u001b[39;00m maybe_arr\n",
      "File \u001b[0;32m~/miniconda3/lib/python3.10/site-packages/tensorflow/python/framework/ops.py:1107\u001b[0m, in \u001b[0;36m_EagerTensorBase._numpy\u001b[0;34m(self)\u001b[0m\n\u001b[1;32m   1105\u001b[0m \u001b[38;5;28;01mdef\u001b[39;00m \u001b[38;5;21m_numpy\u001b[39m(\u001b[38;5;28mself\u001b[39m):\n\u001b[1;32m   1106\u001b[0m   \u001b[38;5;28;01mtry\u001b[39;00m:\n\u001b[0;32m-> 1107\u001b[0m     \u001b[38;5;28;01mreturn\u001b[39;00m \u001b[38;5;28;43mself\u001b[39;49m\u001b[38;5;241;43m.\u001b[39;49m\u001b[43m_numpy_internal\u001b[49m\u001b[43m(\u001b[49m\u001b[43m)\u001b[49m\n\u001b[1;32m   1108\u001b[0m   \u001b[38;5;28;01mexcept\u001b[39;00m core\u001b[38;5;241m.\u001b[39m_NotOkStatusException \u001b[38;5;28;01mas\u001b[39;00m e:  \u001b[38;5;66;03m# pylint: disable=protected-access\u001b[39;00m\n\u001b[1;32m   1109\u001b[0m     \u001b[38;5;28;01mraise\u001b[39;00m core\u001b[38;5;241m.\u001b[39m_status_to_exception(e) \u001b[38;5;28;01mfrom\u001b[39;00m \u001b[38;5;28;01mNone\u001b[39;00m\n",
      "\u001b[0;31mKeyboardInterrupt\u001b[0m: "
     ]
    }
   ],
   "source": [
    "model = Sequential(name='Sequential')\n",
    "act_function = 'tanh'\n",
    "model.add(LSTM(180, return_sequences=True, activation=act_function, input_shape=(130,1662)))\n",
    "model.add(LSTM(90, return_sequences=True, activation=act_function))\n",
    "model.add(LSTM(180, return_sequences=True, activation=act_function))\n",
    "model.add(LSTM(90, return_sequences=False,activation=act_function))\n",
    "model.add(Dense(90, activation=act_function))\n",
    "model.add(Dense(90, activation=act_function))\n",
    "model.add(Dense(90, activation=act_function))\n",
    "model.add(Dense(90, activation=act_function))\n",
    "model.add(Dense(45, activation=act_function))\n",
    "model.add(Dense(90, activation=act_function))\n",
    "model.add(Dense(50, activation=act_function))\n",
    "model.summary()\n",
    "\n",
    "optimizer = SGD(learning_rate=.00001,nesterov=True)\n",
    "model.compile(optimizer=optimizer, loss='categorical_crossentropy', metrics=['categorical_accuracy'])\n",
    "\n",
    "history = model.fit(Xtrain, Ytrain, epochs=1000, validation_split=.2, batch_size = 64)"
   ]
  },
  {
   "cell_type": "code",
   "execution_count": 18,
   "id": "b4546c78",
   "metadata": {
    "ExecuteTime": {
     "end_time": "2023-08-07T20:49:37.295257Z",
     "start_time": "2023-08-07T20:49:05.389345Z"
    },
    "scrolled": true
   },
   "outputs": [
    {
     "name": "stderr",
     "output_type": "stream",
     "text": [
      "2023-08-07 21:49:05.468776: I tensorflow/core/common_runtime/gpu/gpu_device.cc:1639] Created device /job:localhost/replica:0/task:0/device:GPU:0 with 1037 MB memory:  -> device: 0, name: NVIDIA GeForce MX250, pci bus id: 0000:01:00.0, compute capability: 6.1\n"
     ]
    },
    {
     "name": "stdout",
     "output_type": "stream",
     "text": [
      "Epoch 1/1000\n"
     ]
    },
    {
     "name": "stderr",
     "output_type": "stream",
     "text": [
      "2023-08-07 21:49:09.595786: I tensorflow/compiler/xla/stream_executor/cuda/cuda_dnn.cc:432] Loaded cuDNN version 8600\n",
      "2023-08-07 21:49:09.643909: I tensorflow/compiler/xla/service/service.cc:168] XLA service 0x7f8864929fe0 initialized for platform CUDA (this does not guarantee that XLA will be used). Devices:\n",
      "2023-08-07 21:49:09.643936: I tensorflow/compiler/xla/service/service.cc:176]   StreamExecutor device (0): NVIDIA GeForce MX250, Compute Capability 6.1\n",
      "2023-08-07 21:49:09.647840: I tensorflow/compiler/mlir/tensorflow/utils/dump_mlir_util.cc:255] disabling MLIR crash reproducer, set env var `MLIR_CRASH_REPRODUCER_DIRECTORY` to enable.\n",
      "2023-08-07 21:49:09.756578: I ./tensorflow/compiler/jit/device_compiler.h:186] Compiled cluster using XLA!  This line is logged at most once for the lifetime of the process.\n"
     ]
    },
    {
     "name": "stdout",
     "output_type": "stream",
     "text": [
      "11/11 [==============================] - 5s 178ms/step - loss: 7.8501 - categorical_accuracy: 0.0311 - val_loss: 8.1508 - val_categorical_accuracy: 0.0000e+00\n",
      "Epoch 2/1000\n",
      "11/11 [==============================] - 1s 82ms/step - loss: 8.1865 - categorical_accuracy: 0.0218 - val_loss: 9.0874 - val_categorical_accuracy: 0.0000e+00\n",
      "Epoch 3/1000\n",
      "11/11 [==============================] - 1s 82ms/step - loss: 7.9489 - categorical_accuracy: 0.0171 - val_loss: 9.2725 - val_categorical_accuracy: 0.0000e+00\n",
      "Epoch 4/1000\n",
      "11/11 [==============================] - 1s 82ms/step - loss: 8.4394 - categorical_accuracy: 0.0264 - val_loss: 7.0158 - val_categorical_accuracy: 0.0435\n",
      "Epoch 5/1000\n",
      "11/11 [==============================] - 1s 82ms/step - loss: 7.9150 - categorical_accuracy: 0.0264 - val_loss: 6.5328 - val_categorical_accuracy: 0.0000e+00\n",
      "Epoch 6/1000\n",
      "11/11 [==============================] - 1s 83ms/step - loss: 7.8367 - categorical_accuracy: 0.0249 - val_loss: 7.1868 - val_categorical_accuracy: 0.0000e+00\n",
      "Epoch 7/1000\n",
      "11/11 [==============================] - 1s 82ms/step - loss: 7.4580 - categorical_accuracy: 0.0218 - val_loss: 7.9999 - val_categorical_accuracy: 0.0435\n",
      "Epoch 8/1000\n",
      "11/11 [==============================] - 1s 82ms/step - loss: 7.6811 - categorical_accuracy: 0.0202 - val_loss: 8.0838 - val_categorical_accuracy: 0.0435\n",
      "Epoch 9/1000\n",
      "11/11 [==============================] - 1s 83ms/step - loss: 8.0921 - categorical_accuracy: 0.0156 - val_loss: 10.9521 - val_categorical_accuracy: 0.0000e+00\n",
      "Epoch 10/1000\n",
      "11/11 [==============================] - 1s 82ms/step - loss: 7.6189 - categorical_accuracy: 0.0280 - val_loss: 8.0590 - val_categorical_accuracy: 0.0000e+00\n",
      "Epoch 11/1000\n",
      "11/11 [==============================] - 1s 82ms/step - loss: 8.2331 - categorical_accuracy: 0.0249 - val_loss: 9.4764 - val_categorical_accuracy: 0.0000e+00\n",
      "Epoch 12/1000\n",
      "11/11 [==============================] - 1s 82ms/step - loss: 8.2073 - categorical_accuracy: 0.0249 - val_loss: 7.8109 - val_categorical_accuracy: 0.0000e+00\n",
      "Epoch 13/1000\n",
      "11/11 [==============================] - 1s 83ms/step - loss: 7.9964 - categorical_accuracy: 0.0218 - val_loss: 7.8109 - val_categorical_accuracy: 0.0000e+00\n",
      "Epoch 14/1000\n",
      "11/11 [==============================] - 1s 84ms/step - loss: 8.0214 - categorical_accuracy: 0.0218 - val_loss: 7.8109 - val_categorical_accuracy: 0.0000e+00\n",
      "Epoch 15/1000\n",
      "11/11 [==============================] - 1s 82ms/step - loss: 8.0214 - categorical_accuracy: 0.0233 - val_loss: 7.8109 - val_categorical_accuracy: 0.0000e+00\n",
      "Epoch 16/1000\n",
      "11/11 [==============================] - 1s 84ms/step - loss: 7.9713 - categorical_accuracy: 0.0233 - val_loss: 7.8109 - val_categorical_accuracy: 0.0000e+00\n",
      "Epoch 17/1000\n",
      "11/11 [==============================] - 1s 82ms/step - loss: 7.9964 - categorical_accuracy: 0.0249 - val_loss: 7.8109 - val_categorical_accuracy: 0.0000e+00\n",
      "Epoch 18/1000\n",
      "11/11 [==============================] - 1s 81ms/step - loss: 7.9713 - categorical_accuracy: 0.0233 - val_loss: 7.8109 - val_categorical_accuracy: 0.0000e+00\n",
      "Epoch 19/1000\n",
      "11/11 [==============================] - 1s 82ms/step - loss: 7.9713 - categorical_accuracy: 0.0249 - val_loss: 7.8109 - val_categorical_accuracy: 0.0000e+00\n",
      "Epoch 20/1000\n",
      "11/11 [==============================] - 1s 83ms/step - loss: 7.9713 - categorical_accuracy: 0.0280 - val_loss: 7.8109 - val_categorical_accuracy: 0.0000e+00\n",
      "Epoch 21/1000\n",
      "11/11 [==============================] - 1s 83ms/step - loss: 7.9964 - categorical_accuracy: 0.0202 - val_loss: 7.8109 - val_categorical_accuracy: 0.0000e+00\n",
      "Epoch 22/1000\n",
      "11/11 [==============================] - 1s 82ms/step - loss: 8.0465 - categorical_accuracy: 0.0264 - val_loss: 7.8109 - val_categorical_accuracy: 0.0000e+00\n",
      "Epoch 23/1000\n",
      "11/11 [==============================] - 1s 83ms/step - loss: 8.0465 - categorical_accuracy: 0.0187 - val_loss: 7.8109 - val_categorical_accuracy: 0.0000e+00\n",
      "Epoch 24/1000\n",
      "11/11 [==============================] - 1s 82ms/step - loss: 8.0465 - categorical_accuracy: 0.0218 - val_loss: 7.8109 - val_categorical_accuracy: 0.0000e+00\n",
      "Epoch 25/1000\n",
      "11/11 [==============================] - 1s 81ms/step - loss: 8.0716 - categorical_accuracy: 0.0249 - val_loss: 7.8109 - val_categorical_accuracy: 0.0000e+00\n",
      "Epoch 26/1000\n",
      "11/11 [==============================] - 1s 83ms/step - loss: 7.9964 - categorical_accuracy: 0.0233 - val_loss: 7.8109 - val_categorical_accuracy: 0.0000e+00\n",
      "Epoch 27/1000\n",
      "11/11 [==============================] - 1s 82ms/step - loss: 7.9964 - categorical_accuracy: 0.0202 - val_loss: 7.8109 - val_categorical_accuracy: 0.0000e+00\n",
      "Epoch 28/1000\n",
      " 6/11 [===============>..............] - ETA: 0s - loss: 8.4368 - categorical_accuracy: 0.0208"
     ]
    },
    {
     "ename": "KeyboardInterrupt",
     "evalue": "",
     "output_type": "error",
     "traceback": [
      "\u001b[0;31m---------------------------------------------------------------------------\u001b[0m",
      "\u001b[0;31mKeyboardInterrupt\u001b[0m                         Traceback (most recent call last)",
      "Cell \u001b[0;32mIn[18], line 10\u001b[0m\n\u001b[1;32m      7\u001b[0m optimizer \u001b[38;5;241m=\u001b[39m Adagrad(learning_rate\u001b[38;5;241m=\u001b[39m\u001b[38;5;241m.01\u001b[39m)\n\u001b[1;32m      8\u001b[0m model\u001b[38;5;241m.\u001b[39mcompile(optimizer\u001b[38;5;241m=\u001b[39moptimizer, loss\u001b[38;5;241m=\u001b[39m\u001b[38;5;124m'\u001b[39m\u001b[38;5;124mcategorical_crossentropy\u001b[39m\u001b[38;5;124m'\u001b[39m, metrics\u001b[38;5;241m=\u001b[39m[\u001b[38;5;124m'\u001b[39m\u001b[38;5;124mcategorical_accuracy\u001b[39m\u001b[38;5;124m'\u001b[39m])\n\u001b[0;32m---> 10\u001b[0m history \u001b[38;5;241m=\u001b[39m \u001b[43mmodel\u001b[49m\u001b[38;5;241;43m.\u001b[39;49m\u001b[43mfit\u001b[49m\u001b[43m(\u001b[49m\u001b[43mXtrain\u001b[49m\u001b[43m,\u001b[49m\u001b[43m \u001b[49m\u001b[43mYtrain\u001b[49m\u001b[43m,\u001b[49m\u001b[43m \u001b[49m\u001b[43mepochs\u001b[49m\u001b[38;5;241;43m=\u001b[39;49m\u001b[38;5;241;43m1000\u001b[39;49m\u001b[43m,\u001b[49m\u001b[43m \u001b[49m\u001b[43mvalidation_split\u001b[49m\u001b[38;5;241;43m=\u001b[39;49m\u001b[38;5;241;43m.2\u001b[39;49m\u001b[43m,\u001b[49m\u001b[43m \u001b[49m\u001b[43mbatch_size\u001b[49m\u001b[43m \u001b[49m\u001b[38;5;241;43m=\u001b[39;49m\u001b[43m \u001b[49m\u001b[38;5;241;43m64\u001b[39;49m\u001b[43m)\u001b[49m\n\u001b[1;32m     11\u001b[0m model\u001b[38;5;241m.\u001b[39msummary()\n",
      "File \u001b[0;32m~/miniconda3/lib/python3.10/site-packages/keras/src/utils/traceback_utils.py:65\u001b[0m, in \u001b[0;36mfilter_traceback.<locals>.error_handler\u001b[0;34m(*args, **kwargs)\u001b[0m\n\u001b[1;32m     63\u001b[0m filtered_tb \u001b[38;5;241m=\u001b[39m \u001b[38;5;28;01mNone\u001b[39;00m\n\u001b[1;32m     64\u001b[0m \u001b[38;5;28;01mtry\u001b[39;00m:\n\u001b[0;32m---> 65\u001b[0m     \u001b[38;5;28;01mreturn\u001b[39;00m \u001b[43mfn\u001b[49m\u001b[43m(\u001b[49m\u001b[38;5;241;43m*\u001b[39;49m\u001b[43margs\u001b[49m\u001b[43m,\u001b[49m\u001b[43m \u001b[49m\u001b[38;5;241;43m*\u001b[39;49m\u001b[38;5;241;43m*\u001b[39;49m\u001b[43mkwargs\u001b[49m\u001b[43m)\u001b[49m\n\u001b[1;32m     66\u001b[0m \u001b[38;5;28;01mexcept\u001b[39;00m \u001b[38;5;167;01mException\u001b[39;00m \u001b[38;5;28;01mas\u001b[39;00m e:\n\u001b[1;32m     67\u001b[0m     filtered_tb \u001b[38;5;241m=\u001b[39m _process_traceback_frames(e\u001b[38;5;241m.\u001b[39m__traceback__)\n",
      "File \u001b[0;32m~/miniconda3/lib/python3.10/site-packages/keras/src/engine/training.py:1742\u001b[0m, in \u001b[0;36mModel.fit\u001b[0;34m(self, x, y, batch_size, epochs, verbose, callbacks, validation_split, validation_data, shuffle, class_weight, sample_weight, initial_epoch, steps_per_epoch, validation_steps, validation_batch_size, validation_freq, max_queue_size, workers, use_multiprocessing)\u001b[0m\n\u001b[1;32m   1734\u001b[0m \u001b[38;5;28;01mwith\u001b[39;00m tf\u001b[38;5;241m.\u001b[39mprofiler\u001b[38;5;241m.\u001b[39mexperimental\u001b[38;5;241m.\u001b[39mTrace(\n\u001b[1;32m   1735\u001b[0m     \u001b[38;5;124m\"\u001b[39m\u001b[38;5;124mtrain\u001b[39m\u001b[38;5;124m\"\u001b[39m,\n\u001b[1;32m   1736\u001b[0m     epoch_num\u001b[38;5;241m=\u001b[39mepoch,\n\u001b[0;32m   (...)\u001b[0m\n\u001b[1;32m   1739\u001b[0m     _r\u001b[38;5;241m=\u001b[39m\u001b[38;5;241m1\u001b[39m,\n\u001b[1;32m   1740\u001b[0m ):\n\u001b[1;32m   1741\u001b[0m     callbacks\u001b[38;5;241m.\u001b[39mon_train_batch_begin(step)\n\u001b[0;32m-> 1742\u001b[0m     tmp_logs \u001b[38;5;241m=\u001b[39m \u001b[38;5;28;43mself\u001b[39;49m\u001b[38;5;241;43m.\u001b[39;49m\u001b[43mtrain_function\u001b[49m\u001b[43m(\u001b[49m\u001b[43miterator\u001b[49m\u001b[43m)\u001b[49m\n\u001b[1;32m   1743\u001b[0m     \u001b[38;5;28;01mif\u001b[39;00m data_handler\u001b[38;5;241m.\u001b[39mshould_sync:\n\u001b[1;32m   1744\u001b[0m         context\u001b[38;5;241m.\u001b[39masync_wait()\n",
      "File \u001b[0;32m~/miniconda3/lib/python3.10/site-packages/tensorflow/python/util/traceback_utils.py:150\u001b[0m, in \u001b[0;36mfilter_traceback.<locals>.error_handler\u001b[0;34m(*args, **kwargs)\u001b[0m\n\u001b[1;32m    148\u001b[0m filtered_tb \u001b[38;5;241m=\u001b[39m \u001b[38;5;28;01mNone\u001b[39;00m\n\u001b[1;32m    149\u001b[0m \u001b[38;5;28;01mtry\u001b[39;00m:\n\u001b[0;32m--> 150\u001b[0m   \u001b[38;5;28;01mreturn\u001b[39;00m \u001b[43mfn\u001b[49m\u001b[43m(\u001b[49m\u001b[38;5;241;43m*\u001b[39;49m\u001b[43margs\u001b[49m\u001b[43m,\u001b[49m\u001b[43m \u001b[49m\u001b[38;5;241;43m*\u001b[39;49m\u001b[38;5;241;43m*\u001b[39;49m\u001b[43mkwargs\u001b[49m\u001b[43m)\u001b[49m\n\u001b[1;32m    151\u001b[0m \u001b[38;5;28;01mexcept\u001b[39;00m \u001b[38;5;167;01mException\u001b[39;00m \u001b[38;5;28;01mas\u001b[39;00m e:\n\u001b[1;32m    152\u001b[0m   filtered_tb \u001b[38;5;241m=\u001b[39m _process_traceback_frames(e\u001b[38;5;241m.\u001b[39m__traceback__)\n",
      "File \u001b[0;32m~/miniconda3/lib/python3.10/site-packages/tensorflow/python/eager/polymorphic_function/polymorphic_function.py:825\u001b[0m, in \u001b[0;36mFunction.__call__\u001b[0;34m(self, *args, **kwds)\u001b[0m\n\u001b[1;32m    822\u001b[0m compiler \u001b[38;5;241m=\u001b[39m \u001b[38;5;124m\"\u001b[39m\u001b[38;5;124mxla\u001b[39m\u001b[38;5;124m\"\u001b[39m \u001b[38;5;28;01mif\u001b[39;00m \u001b[38;5;28mself\u001b[39m\u001b[38;5;241m.\u001b[39m_jit_compile \u001b[38;5;28;01melse\u001b[39;00m \u001b[38;5;124m\"\u001b[39m\u001b[38;5;124mnonXla\u001b[39m\u001b[38;5;124m\"\u001b[39m\n\u001b[1;32m    824\u001b[0m \u001b[38;5;28;01mwith\u001b[39;00m OptionalXlaContext(\u001b[38;5;28mself\u001b[39m\u001b[38;5;241m.\u001b[39m_jit_compile):\n\u001b[0;32m--> 825\u001b[0m   result \u001b[38;5;241m=\u001b[39m \u001b[38;5;28;43mself\u001b[39;49m\u001b[38;5;241;43m.\u001b[39;49m\u001b[43m_call\u001b[49m\u001b[43m(\u001b[49m\u001b[38;5;241;43m*\u001b[39;49m\u001b[43margs\u001b[49m\u001b[43m,\u001b[49m\u001b[43m \u001b[49m\u001b[38;5;241;43m*\u001b[39;49m\u001b[38;5;241;43m*\u001b[39;49m\u001b[43mkwds\u001b[49m\u001b[43m)\u001b[49m\n\u001b[1;32m    827\u001b[0m new_tracing_count \u001b[38;5;241m=\u001b[39m \u001b[38;5;28mself\u001b[39m\u001b[38;5;241m.\u001b[39mexperimental_get_tracing_count()\n\u001b[1;32m    828\u001b[0m without_tracing \u001b[38;5;241m=\u001b[39m (tracing_count \u001b[38;5;241m==\u001b[39m new_tracing_count)\n",
      "File \u001b[0;32m~/miniconda3/lib/python3.10/site-packages/tensorflow/python/eager/polymorphic_function/polymorphic_function.py:857\u001b[0m, in \u001b[0;36mFunction._call\u001b[0;34m(self, *args, **kwds)\u001b[0m\n\u001b[1;32m    854\u001b[0m   \u001b[38;5;28mself\u001b[39m\u001b[38;5;241m.\u001b[39m_lock\u001b[38;5;241m.\u001b[39mrelease()\n\u001b[1;32m    855\u001b[0m   \u001b[38;5;66;03m# In this case we have created variables on the first call, so we run the\u001b[39;00m\n\u001b[1;32m    856\u001b[0m   \u001b[38;5;66;03m# defunned version which is guaranteed to never create variables.\u001b[39;00m\n\u001b[0;32m--> 857\u001b[0m   \u001b[38;5;28;01mreturn\u001b[39;00m \u001b[38;5;28;43mself\u001b[39;49m\u001b[38;5;241;43m.\u001b[39;49m\u001b[43m_no_variable_creation_fn\u001b[49m\u001b[43m(\u001b[49m\u001b[38;5;241;43m*\u001b[39;49m\u001b[43margs\u001b[49m\u001b[43m,\u001b[49m\u001b[43m \u001b[49m\u001b[38;5;241;43m*\u001b[39;49m\u001b[38;5;241;43m*\u001b[39;49m\u001b[43mkwds\u001b[49m\u001b[43m)\u001b[49m  \u001b[38;5;66;03m# pylint: disable=not-callable\u001b[39;00m\n\u001b[1;32m    858\u001b[0m \u001b[38;5;28;01melif\u001b[39;00m \u001b[38;5;28mself\u001b[39m\u001b[38;5;241m.\u001b[39m_variable_creation_fn \u001b[38;5;129;01mis\u001b[39;00m \u001b[38;5;129;01mnot\u001b[39;00m \u001b[38;5;28;01mNone\u001b[39;00m:\n\u001b[1;32m    859\u001b[0m   \u001b[38;5;66;03m# Release the lock early so that multiple threads can perform the call\u001b[39;00m\n\u001b[1;32m    860\u001b[0m   \u001b[38;5;66;03m# in parallel.\u001b[39;00m\n\u001b[1;32m    861\u001b[0m   \u001b[38;5;28mself\u001b[39m\u001b[38;5;241m.\u001b[39m_lock\u001b[38;5;241m.\u001b[39mrelease()\n",
      "File \u001b[0;32m~/miniconda3/lib/python3.10/site-packages/tensorflow/python/eager/polymorphic_function/tracing_compiler.py:148\u001b[0m, in \u001b[0;36mTracingCompiler.__call__\u001b[0;34m(self, *args, **kwargs)\u001b[0m\n\u001b[1;32m    145\u001b[0m \u001b[38;5;28;01mwith\u001b[39;00m \u001b[38;5;28mself\u001b[39m\u001b[38;5;241m.\u001b[39m_lock:\n\u001b[1;32m    146\u001b[0m   (concrete_function,\n\u001b[1;32m    147\u001b[0m    filtered_flat_args) \u001b[38;5;241m=\u001b[39m \u001b[38;5;28mself\u001b[39m\u001b[38;5;241m.\u001b[39m_maybe_define_function(args, kwargs)\n\u001b[0;32m--> 148\u001b[0m \u001b[38;5;28;01mreturn\u001b[39;00m \u001b[43mconcrete_function\u001b[49m\u001b[38;5;241;43m.\u001b[39;49m\u001b[43m_call_flat\u001b[49m\u001b[43m(\u001b[49m\n\u001b[1;32m    149\u001b[0m \u001b[43m    \u001b[49m\u001b[43mfiltered_flat_args\u001b[49m\u001b[43m,\u001b[49m\u001b[43m \u001b[49m\u001b[43mcaptured_inputs\u001b[49m\u001b[38;5;241;43m=\u001b[39;49m\u001b[43mconcrete_function\u001b[49m\u001b[38;5;241;43m.\u001b[39;49m\u001b[43mcaptured_inputs\u001b[49m\u001b[43m)\u001b[49m\n",
      "File \u001b[0;32m~/miniconda3/lib/python3.10/site-packages/tensorflow/python/eager/polymorphic_function/monomorphic_function.py:1349\u001b[0m, in \u001b[0;36mConcreteFunction._call_flat\u001b[0;34m(self, args, captured_inputs)\u001b[0m\n\u001b[1;32m   1345\u001b[0m possible_gradient_type \u001b[38;5;241m=\u001b[39m gradients_util\u001b[38;5;241m.\u001b[39mPossibleTapeGradientTypes(args)\n\u001b[1;32m   1346\u001b[0m \u001b[38;5;28;01mif\u001b[39;00m (possible_gradient_type \u001b[38;5;241m==\u001b[39m gradients_util\u001b[38;5;241m.\u001b[39mPOSSIBLE_GRADIENT_TYPES_NONE\n\u001b[1;32m   1347\u001b[0m     \u001b[38;5;129;01mand\u001b[39;00m executing_eagerly):\n\u001b[1;32m   1348\u001b[0m   \u001b[38;5;66;03m# No tape is watching; skip to running the function.\u001b[39;00m\n\u001b[0;32m-> 1349\u001b[0m   \u001b[38;5;28;01mreturn\u001b[39;00m \u001b[38;5;28mself\u001b[39m\u001b[38;5;241m.\u001b[39m_build_call_outputs(\u001b[38;5;28;43mself\u001b[39;49m\u001b[38;5;241;43m.\u001b[39;49m\u001b[43m_inference_function\u001b[49m\u001b[43m(\u001b[49m\u001b[38;5;241;43m*\u001b[39;49m\u001b[43margs\u001b[49m\u001b[43m)\u001b[49m)\n\u001b[1;32m   1350\u001b[0m forward_backward \u001b[38;5;241m=\u001b[39m \u001b[38;5;28mself\u001b[39m\u001b[38;5;241m.\u001b[39m_select_forward_and_backward_functions(\n\u001b[1;32m   1351\u001b[0m     args,\n\u001b[1;32m   1352\u001b[0m     possible_gradient_type,\n\u001b[1;32m   1353\u001b[0m     executing_eagerly)\n\u001b[1;32m   1354\u001b[0m forward_function, args_with_tangents \u001b[38;5;241m=\u001b[39m forward_backward\u001b[38;5;241m.\u001b[39mforward()\n",
      "File \u001b[0;32m~/miniconda3/lib/python3.10/site-packages/tensorflow/python/eager/polymorphic_function/atomic_function.py:196\u001b[0m, in \u001b[0;36mAtomicFunction.__call__\u001b[0;34m(self, *args)\u001b[0m\n\u001b[1;32m    194\u001b[0m \u001b[38;5;28;01mwith\u001b[39;00m record\u001b[38;5;241m.\u001b[39mstop_recording():\n\u001b[1;32m    195\u001b[0m   \u001b[38;5;28;01mif\u001b[39;00m \u001b[38;5;28mself\u001b[39m\u001b[38;5;241m.\u001b[39m_bound_context\u001b[38;5;241m.\u001b[39mexecuting_eagerly():\n\u001b[0;32m--> 196\u001b[0m     outputs \u001b[38;5;241m=\u001b[39m \u001b[38;5;28;43mself\u001b[39;49m\u001b[38;5;241;43m.\u001b[39;49m\u001b[43m_bound_context\u001b[49m\u001b[38;5;241;43m.\u001b[39;49m\u001b[43mcall_function\u001b[49m\u001b[43m(\u001b[49m\n\u001b[1;32m    197\u001b[0m \u001b[43m        \u001b[49m\u001b[38;5;28;43mself\u001b[39;49m\u001b[38;5;241;43m.\u001b[39;49m\u001b[43mname\u001b[49m\u001b[43m,\u001b[49m\n\u001b[1;32m    198\u001b[0m \u001b[43m        \u001b[49m\u001b[38;5;28;43mlist\u001b[39;49m\u001b[43m(\u001b[49m\u001b[43margs\u001b[49m\u001b[43m)\u001b[49m\u001b[43m,\u001b[49m\n\u001b[1;32m    199\u001b[0m \u001b[43m        \u001b[49m\u001b[38;5;28;43mlen\u001b[39;49m\u001b[43m(\u001b[49m\u001b[38;5;28;43mself\u001b[39;49m\u001b[38;5;241;43m.\u001b[39;49m\u001b[43mfunction_type\u001b[49m\u001b[38;5;241;43m.\u001b[39;49m\u001b[43mflat_outputs\u001b[49m\u001b[43m)\u001b[49m\u001b[43m,\u001b[49m\n\u001b[1;32m    200\u001b[0m \u001b[43m    \u001b[49m\u001b[43m)\u001b[49m\n\u001b[1;32m    201\u001b[0m   \u001b[38;5;28;01melse\u001b[39;00m:\n\u001b[1;32m    202\u001b[0m     outputs \u001b[38;5;241m=\u001b[39m make_call_op_in_graph(\u001b[38;5;28mself\u001b[39m, \u001b[38;5;28mlist\u001b[39m(args))\n",
      "File \u001b[0;32m~/miniconda3/lib/python3.10/site-packages/tensorflow/python/eager/context.py:1457\u001b[0m, in \u001b[0;36mContext.call_function\u001b[0;34m(self, name, tensor_inputs, num_outputs)\u001b[0m\n\u001b[1;32m   1455\u001b[0m cancellation_context \u001b[38;5;241m=\u001b[39m cancellation\u001b[38;5;241m.\u001b[39mcontext()\n\u001b[1;32m   1456\u001b[0m \u001b[38;5;28;01mif\u001b[39;00m cancellation_context \u001b[38;5;129;01mis\u001b[39;00m \u001b[38;5;28;01mNone\u001b[39;00m:\n\u001b[0;32m-> 1457\u001b[0m   outputs \u001b[38;5;241m=\u001b[39m \u001b[43mexecute\u001b[49m\u001b[38;5;241;43m.\u001b[39;49m\u001b[43mexecute\u001b[49m\u001b[43m(\u001b[49m\n\u001b[1;32m   1458\u001b[0m \u001b[43m      \u001b[49m\u001b[43mname\u001b[49m\u001b[38;5;241;43m.\u001b[39;49m\u001b[43mdecode\u001b[49m\u001b[43m(\u001b[49m\u001b[38;5;124;43m\"\u001b[39;49m\u001b[38;5;124;43mutf-8\u001b[39;49m\u001b[38;5;124;43m\"\u001b[39;49m\u001b[43m)\u001b[49m\u001b[43m,\u001b[49m\n\u001b[1;32m   1459\u001b[0m \u001b[43m      \u001b[49m\u001b[43mnum_outputs\u001b[49m\u001b[38;5;241;43m=\u001b[39;49m\u001b[43mnum_outputs\u001b[49m\u001b[43m,\u001b[49m\n\u001b[1;32m   1460\u001b[0m \u001b[43m      \u001b[49m\u001b[43minputs\u001b[49m\u001b[38;5;241;43m=\u001b[39;49m\u001b[43mtensor_inputs\u001b[49m\u001b[43m,\u001b[49m\n\u001b[1;32m   1461\u001b[0m \u001b[43m      \u001b[49m\u001b[43mattrs\u001b[49m\u001b[38;5;241;43m=\u001b[39;49m\u001b[43mattrs\u001b[49m\u001b[43m,\u001b[49m\n\u001b[1;32m   1462\u001b[0m \u001b[43m      \u001b[49m\u001b[43mctx\u001b[49m\u001b[38;5;241;43m=\u001b[39;49m\u001b[38;5;28;43mself\u001b[39;49m\u001b[43m,\u001b[49m\n\u001b[1;32m   1463\u001b[0m \u001b[43m  \u001b[49m\u001b[43m)\u001b[49m\n\u001b[1;32m   1464\u001b[0m \u001b[38;5;28;01melse\u001b[39;00m:\n\u001b[1;32m   1465\u001b[0m   outputs \u001b[38;5;241m=\u001b[39m execute\u001b[38;5;241m.\u001b[39mexecute_with_cancellation(\n\u001b[1;32m   1466\u001b[0m       name\u001b[38;5;241m.\u001b[39mdecode(\u001b[38;5;124m\"\u001b[39m\u001b[38;5;124mutf-8\u001b[39m\u001b[38;5;124m\"\u001b[39m),\n\u001b[1;32m   1467\u001b[0m       num_outputs\u001b[38;5;241m=\u001b[39mnum_outputs,\n\u001b[0;32m   (...)\u001b[0m\n\u001b[1;32m   1471\u001b[0m       cancellation_manager\u001b[38;5;241m=\u001b[39mcancellation_context,\n\u001b[1;32m   1472\u001b[0m   )\n",
      "File \u001b[0;32m~/miniconda3/lib/python3.10/site-packages/tensorflow/python/eager/execute.py:53\u001b[0m, in \u001b[0;36mquick_execute\u001b[0;34m(op_name, num_outputs, inputs, attrs, ctx, name)\u001b[0m\n\u001b[1;32m     51\u001b[0m \u001b[38;5;28;01mtry\u001b[39;00m:\n\u001b[1;32m     52\u001b[0m   ctx\u001b[38;5;241m.\u001b[39mensure_initialized()\n\u001b[0;32m---> 53\u001b[0m   tensors \u001b[38;5;241m=\u001b[39m \u001b[43mpywrap_tfe\u001b[49m\u001b[38;5;241;43m.\u001b[39;49m\u001b[43mTFE_Py_Execute\u001b[49m\u001b[43m(\u001b[49m\u001b[43mctx\u001b[49m\u001b[38;5;241;43m.\u001b[39;49m\u001b[43m_handle\u001b[49m\u001b[43m,\u001b[49m\u001b[43m \u001b[49m\u001b[43mdevice_name\u001b[49m\u001b[43m,\u001b[49m\u001b[43m \u001b[49m\u001b[43mop_name\u001b[49m\u001b[43m,\u001b[49m\n\u001b[1;32m     54\u001b[0m \u001b[43m                                      \u001b[49m\u001b[43minputs\u001b[49m\u001b[43m,\u001b[49m\u001b[43m \u001b[49m\u001b[43mattrs\u001b[49m\u001b[43m,\u001b[49m\u001b[43m \u001b[49m\u001b[43mnum_outputs\u001b[49m\u001b[43m)\u001b[49m\n\u001b[1;32m     55\u001b[0m \u001b[38;5;28;01mexcept\u001b[39;00m core\u001b[38;5;241m.\u001b[39m_NotOkStatusException \u001b[38;5;28;01mas\u001b[39;00m e:\n\u001b[1;32m     56\u001b[0m   \u001b[38;5;28;01mif\u001b[39;00m name \u001b[38;5;129;01mis\u001b[39;00m \u001b[38;5;129;01mnot\u001b[39;00m \u001b[38;5;28;01mNone\u001b[39;00m:\n",
      "\u001b[0;31mKeyboardInterrupt\u001b[0m: "
     ]
    }
   ],
   "source": [
    "model = Sequential(name='Sequential')\n",
    "act_function = 'tanh'\n",
    "model.add(GRU(64, return_sequences=True, activation=act_function, input_shape=(130,1662)))\n",
    "model.add(GRU(64, return_sequences=False, activation=act_function))\n",
    "model.add(Dense(64, activation=act_function))\n",
    "model.add(Dense(50, activation=act_function))\n",
    "optimizer = Adagrad(learning_rate=.01)\n",
    "model.compile(optimizer=optimizer, loss='categorical_crossentropy', metrics=['categorical_accuracy'])\n",
    "\n",
    "history = model.fit(Xtrain, Ytrain, epochs=1000, validation_split=.2, batch_size = 64)\n",
    "model.summary()"
   ]
  },
  {
   "cell_type": "code",
   "execution_count": 57,
   "id": "b335502b",
   "metadata": {
    "ExecuteTime": {
     "end_time": "2023-08-07T21:56:51.582243Z",
     "start_time": "2023-08-07T21:56:18.508905Z"
    },
    "scrolled": true
   },
   "outputs": [
    {
     "name": "stdout",
     "output_type": "stream",
     "text": [
      "WARNING:tensorflow:Layer lstm_2 will not use cuDNN kernels since it doesn't meet the criteria. It will use a generic GPU kernel as fallback when running on GPU.\n",
      "WARNING:tensorflow:Layer gru_1 will not use cuDNN kernels since it doesn't meet the criteria. It will use a generic GPU kernel as fallback when running on GPU.\n",
      "WARNING:tensorflow:Layer lstm_3 will not use cuDNN kernels since it doesn't meet the criteria. It will use a generic GPU kernel as fallback when running on GPU.\n",
      "Epoch 1/1000\n",
      "21/21 [==============================] - 16s 566ms/step - loss: 3.9102 - categorical_accuracy: 0.0218 - val_loss: 3.9294 - val_categorical_accuracy: 0.0000e+00\n",
      "Epoch 2/1000\n",
      "21/21 [==============================] - 11s 541ms/step - loss: 3.9102 - categorical_accuracy: 0.0218 - val_loss: 3.9294 - val_categorical_accuracy: 0.0000e+00\n",
      "Epoch 3/1000\n",
      " 7/21 [=========>....................] - ETA: 7s - loss: 3.9032 - categorical_accuracy: 0.0223"
     ]
    },
    {
     "ename": "KeyboardInterrupt",
     "evalue": "",
     "output_type": "error",
     "traceback": [
      "\u001b[0;31m---------------------------------------------------------------------------\u001b[0m",
      "\u001b[0;31mKeyboardInterrupt\u001b[0m                         Traceback (most recent call last)",
      "Cell \u001b[0;32mIn[57], line 13\u001b[0m\n\u001b[1;32m     10\u001b[0m optimizer \u001b[38;5;241m=\u001b[39m SGD(learning_rate\u001b[38;5;241m=\u001b[39m\u001b[38;5;241m.0000005\u001b[39m)\n\u001b[1;32m     11\u001b[0m model\u001b[38;5;241m.\u001b[39mcompile(optimizer\u001b[38;5;241m=\u001b[39moptimizer, loss\u001b[38;5;241m=\u001b[39m\u001b[38;5;124m'\u001b[39m\u001b[38;5;124mcategorical_crossentropy\u001b[39m\u001b[38;5;124m'\u001b[39m, metrics\u001b[38;5;241m=\u001b[39m[\u001b[38;5;124m'\u001b[39m\u001b[38;5;124mcategorical_accuracy\u001b[39m\u001b[38;5;124m'\u001b[39m])\n\u001b[0;32m---> 13\u001b[0m history \u001b[38;5;241m=\u001b[39m \u001b[43mmodel\u001b[49m\u001b[38;5;241;43m.\u001b[39;49m\u001b[43mfit\u001b[49m\u001b[43m(\u001b[49m\u001b[43mXtrain\u001b[49m\u001b[43m,\u001b[49m\u001b[43m \u001b[49m\u001b[43mYtrain\u001b[49m\u001b[43m,\u001b[49m\u001b[43m \u001b[49m\u001b[43mepochs\u001b[49m\u001b[38;5;241;43m=\u001b[39;49m\u001b[38;5;241;43m1000\u001b[39;49m\u001b[43m,\u001b[49m\u001b[43m \u001b[49m\u001b[43mvalidation_split\u001b[49m\u001b[38;5;241;43m=\u001b[39;49m\u001b[38;5;241;43m.2\u001b[39;49m\u001b[43m,\u001b[49m\u001b[43m \u001b[49m\u001b[43mbatch_size\u001b[49m\u001b[43m \u001b[49m\u001b[38;5;241;43m=\u001b[39;49m\u001b[43m \u001b[49m\u001b[38;5;241;43m32\u001b[39;49m\u001b[43m,\u001b[49m\u001b[43m \u001b[49m\u001b[43mcallbacks\u001b[49m\u001b[38;5;241;43m=\u001b[39;49m\u001b[43m[\u001b[49m\u001b[43mtb_callback\u001b[49m\u001b[43m]\u001b[49m\u001b[43m)\u001b[49m\n\u001b[1;32m     14\u001b[0m model\u001b[38;5;241m.\u001b[39msummary()\n",
      "File \u001b[0;32m~/miniconda3/lib/python3.10/site-packages/keras/src/utils/traceback_utils.py:65\u001b[0m, in \u001b[0;36mfilter_traceback.<locals>.error_handler\u001b[0;34m(*args, **kwargs)\u001b[0m\n\u001b[1;32m     63\u001b[0m filtered_tb \u001b[38;5;241m=\u001b[39m \u001b[38;5;28;01mNone\u001b[39;00m\n\u001b[1;32m     64\u001b[0m \u001b[38;5;28;01mtry\u001b[39;00m:\n\u001b[0;32m---> 65\u001b[0m     \u001b[38;5;28;01mreturn\u001b[39;00m \u001b[43mfn\u001b[49m\u001b[43m(\u001b[49m\u001b[38;5;241;43m*\u001b[39;49m\u001b[43margs\u001b[49m\u001b[43m,\u001b[49m\u001b[43m \u001b[49m\u001b[38;5;241;43m*\u001b[39;49m\u001b[38;5;241;43m*\u001b[39;49m\u001b[43mkwargs\u001b[49m\u001b[43m)\u001b[49m\n\u001b[1;32m     66\u001b[0m \u001b[38;5;28;01mexcept\u001b[39;00m \u001b[38;5;167;01mException\u001b[39;00m \u001b[38;5;28;01mas\u001b[39;00m e:\n\u001b[1;32m     67\u001b[0m     filtered_tb \u001b[38;5;241m=\u001b[39m _process_traceback_frames(e\u001b[38;5;241m.\u001b[39m__traceback__)\n",
      "File \u001b[0;32m~/miniconda3/lib/python3.10/site-packages/keras/src/engine/training.py:1742\u001b[0m, in \u001b[0;36mModel.fit\u001b[0;34m(self, x, y, batch_size, epochs, verbose, callbacks, validation_split, validation_data, shuffle, class_weight, sample_weight, initial_epoch, steps_per_epoch, validation_steps, validation_batch_size, validation_freq, max_queue_size, workers, use_multiprocessing)\u001b[0m\n\u001b[1;32m   1734\u001b[0m \u001b[38;5;28;01mwith\u001b[39;00m tf\u001b[38;5;241m.\u001b[39mprofiler\u001b[38;5;241m.\u001b[39mexperimental\u001b[38;5;241m.\u001b[39mTrace(\n\u001b[1;32m   1735\u001b[0m     \u001b[38;5;124m\"\u001b[39m\u001b[38;5;124mtrain\u001b[39m\u001b[38;5;124m\"\u001b[39m,\n\u001b[1;32m   1736\u001b[0m     epoch_num\u001b[38;5;241m=\u001b[39mepoch,\n\u001b[0;32m   (...)\u001b[0m\n\u001b[1;32m   1739\u001b[0m     _r\u001b[38;5;241m=\u001b[39m\u001b[38;5;241m1\u001b[39m,\n\u001b[1;32m   1740\u001b[0m ):\n\u001b[1;32m   1741\u001b[0m     callbacks\u001b[38;5;241m.\u001b[39mon_train_batch_begin(step)\n\u001b[0;32m-> 1742\u001b[0m     tmp_logs \u001b[38;5;241m=\u001b[39m \u001b[38;5;28;43mself\u001b[39;49m\u001b[38;5;241;43m.\u001b[39;49m\u001b[43mtrain_function\u001b[49m\u001b[43m(\u001b[49m\u001b[43miterator\u001b[49m\u001b[43m)\u001b[49m\n\u001b[1;32m   1743\u001b[0m     \u001b[38;5;28;01mif\u001b[39;00m data_handler\u001b[38;5;241m.\u001b[39mshould_sync:\n\u001b[1;32m   1744\u001b[0m         context\u001b[38;5;241m.\u001b[39masync_wait()\n",
      "File \u001b[0;32m~/miniconda3/lib/python3.10/site-packages/tensorflow/python/util/traceback_utils.py:150\u001b[0m, in \u001b[0;36mfilter_traceback.<locals>.error_handler\u001b[0;34m(*args, **kwargs)\u001b[0m\n\u001b[1;32m    148\u001b[0m filtered_tb \u001b[38;5;241m=\u001b[39m \u001b[38;5;28;01mNone\u001b[39;00m\n\u001b[1;32m    149\u001b[0m \u001b[38;5;28;01mtry\u001b[39;00m:\n\u001b[0;32m--> 150\u001b[0m   \u001b[38;5;28;01mreturn\u001b[39;00m \u001b[43mfn\u001b[49m\u001b[43m(\u001b[49m\u001b[38;5;241;43m*\u001b[39;49m\u001b[43margs\u001b[49m\u001b[43m,\u001b[49m\u001b[43m \u001b[49m\u001b[38;5;241;43m*\u001b[39;49m\u001b[38;5;241;43m*\u001b[39;49m\u001b[43mkwargs\u001b[49m\u001b[43m)\u001b[49m\n\u001b[1;32m    151\u001b[0m \u001b[38;5;28;01mexcept\u001b[39;00m \u001b[38;5;167;01mException\u001b[39;00m \u001b[38;5;28;01mas\u001b[39;00m e:\n\u001b[1;32m    152\u001b[0m   filtered_tb \u001b[38;5;241m=\u001b[39m _process_traceback_frames(e\u001b[38;5;241m.\u001b[39m__traceback__)\n",
      "File \u001b[0;32m~/miniconda3/lib/python3.10/site-packages/tensorflow/python/eager/polymorphic_function/polymorphic_function.py:825\u001b[0m, in \u001b[0;36mFunction.__call__\u001b[0;34m(self, *args, **kwds)\u001b[0m\n\u001b[1;32m    822\u001b[0m compiler \u001b[38;5;241m=\u001b[39m \u001b[38;5;124m\"\u001b[39m\u001b[38;5;124mxla\u001b[39m\u001b[38;5;124m\"\u001b[39m \u001b[38;5;28;01mif\u001b[39;00m \u001b[38;5;28mself\u001b[39m\u001b[38;5;241m.\u001b[39m_jit_compile \u001b[38;5;28;01melse\u001b[39;00m \u001b[38;5;124m\"\u001b[39m\u001b[38;5;124mnonXla\u001b[39m\u001b[38;5;124m\"\u001b[39m\n\u001b[1;32m    824\u001b[0m \u001b[38;5;28;01mwith\u001b[39;00m OptionalXlaContext(\u001b[38;5;28mself\u001b[39m\u001b[38;5;241m.\u001b[39m_jit_compile):\n\u001b[0;32m--> 825\u001b[0m   result \u001b[38;5;241m=\u001b[39m \u001b[38;5;28;43mself\u001b[39;49m\u001b[38;5;241;43m.\u001b[39;49m\u001b[43m_call\u001b[49m\u001b[43m(\u001b[49m\u001b[38;5;241;43m*\u001b[39;49m\u001b[43margs\u001b[49m\u001b[43m,\u001b[49m\u001b[43m \u001b[49m\u001b[38;5;241;43m*\u001b[39;49m\u001b[38;5;241;43m*\u001b[39;49m\u001b[43mkwds\u001b[49m\u001b[43m)\u001b[49m\n\u001b[1;32m    827\u001b[0m new_tracing_count \u001b[38;5;241m=\u001b[39m \u001b[38;5;28mself\u001b[39m\u001b[38;5;241m.\u001b[39mexperimental_get_tracing_count()\n\u001b[1;32m    828\u001b[0m without_tracing \u001b[38;5;241m=\u001b[39m (tracing_count \u001b[38;5;241m==\u001b[39m new_tracing_count)\n",
      "File \u001b[0;32m~/miniconda3/lib/python3.10/site-packages/tensorflow/python/eager/polymorphic_function/polymorphic_function.py:857\u001b[0m, in \u001b[0;36mFunction._call\u001b[0;34m(self, *args, **kwds)\u001b[0m\n\u001b[1;32m    854\u001b[0m   \u001b[38;5;28mself\u001b[39m\u001b[38;5;241m.\u001b[39m_lock\u001b[38;5;241m.\u001b[39mrelease()\n\u001b[1;32m    855\u001b[0m   \u001b[38;5;66;03m# In this case we have created variables on the first call, so we run the\u001b[39;00m\n\u001b[1;32m    856\u001b[0m   \u001b[38;5;66;03m# defunned version which is guaranteed to never create variables.\u001b[39;00m\n\u001b[0;32m--> 857\u001b[0m   \u001b[38;5;28;01mreturn\u001b[39;00m \u001b[38;5;28;43mself\u001b[39;49m\u001b[38;5;241;43m.\u001b[39;49m\u001b[43m_no_variable_creation_fn\u001b[49m\u001b[43m(\u001b[49m\u001b[38;5;241;43m*\u001b[39;49m\u001b[43margs\u001b[49m\u001b[43m,\u001b[49m\u001b[43m \u001b[49m\u001b[38;5;241;43m*\u001b[39;49m\u001b[38;5;241;43m*\u001b[39;49m\u001b[43mkwds\u001b[49m\u001b[43m)\u001b[49m  \u001b[38;5;66;03m# pylint: disable=not-callable\u001b[39;00m\n\u001b[1;32m    858\u001b[0m \u001b[38;5;28;01melif\u001b[39;00m \u001b[38;5;28mself\u001b[39m\u001b[38;5;241m.\u001b[39m_variable_creation_fn \u001b[38;5;129;01mis\u001b[39;00m \u001b[38;5;129;01mnot\u001b[39;00m \u001b[38;5;28;01mNone\u001b[39;00m:\n\u001b[1;32m    859\u001b[0m   \u001b[38;5;66;03m# Release the lock early so that multiple threads can perform the call\u001b[39;00m\n\u001b[1;32m    860\u001b[0m   \u001b[38;5;66;03m# in parallel.\u001b[39;00m\n\u001b[1;32m    861\u001b[0m   \u001b[38;5;28mself\u001b[39m\u001b[38;5;241m.\u001b[39m_lock\u001b[38;5;241m.\u001b[39mrelease()\n",
      "File \u001b[0;32m~/miniconda3/lib/python3.10/site-packages/tensorflow/python/eager/polymorphic_function/tracing_compiler.py:148\u001b[0m, in \u001b[0;36mTracingCompiler.__call__\u001b[0;34m(self, *args, **kwargs)\u001b[0m\n\u001b[1;32m    145\u001b[0m \u001b[38;5;28;01mwith\u001b[39;00m \u001b[38;5;28mself\u001b[39m\u001b[38;5;241m.\u001b[39m_lock:\n\u001b[1;32m    146\u001b[0m   (concrete_function,\n\u001b[1;32m    147\u001b[0m    filtered_flat_args) \u001b[38;5;241m=\u001b[39m \u001b[38;5;28mself\u001b[39m\u001b[38;5;241m.\u001b[39m_maybe_define_function(args, kwargs)\n\u001b[0;32m--> 148\u001b[0m \u001b[38;5;28;01mreturn\u001b[39;00m \u001b[43mconcrete_function\u001b[49m\u001b[38;5;241;43m.\u001b[39;49m\u001b[43m_call_flat\u001b[49m\u001b[43m(\u001b[49m\n\u001b[1;32m    149\u001b[0m \u001b[43m    \u001b[49m\u001b[43mfiltered_flat_args\u001b[49m\u001b[43m,\u001b[49m\u001b[43m \u001b[49m\u001b[43mcaptured_inputs\u001b[49m\u001b[38;5;241;43m=\u001b[39;49m\u001b[43mconcrete_function\u001b[49m\u001b[38;5;241;43m.\u001b[39;49m\u001b[43mcaptured_inputs\u001b[49m\u001b[43m)\u001b[49m\n",
      "File \u001b[0;32m~/miniconda3/lib/python3.10/site-packages/tensorflow/python/eager/polymorphic_function/monomorphic_function.py:1349\u001b[0m, in \u001b[0;36mConcreteFunction._call_flat\u001b[0;34m(self, args, captured_inputs)\u001b[0m\n\u001b[1;32m   1345\u001b[0m possible_gradient_type \u001b[38;5;241m=\u001b[39m gradients_util\u001b[38;5;241m.\u001b[39mPossibleTapeGradientTypes(args)\n\u001b[1;32m   1346\u001b[0m \u001b[38;5;28;01mif\u001b[39;00m (possible_gradient_type \u001b[38;5;241m==\u001b[39m gradients_util\u001b[38;5;241m.\u001b[39mPOSSIBLE_GRADIENT_TYPES_NONE\n\u001b[1;32m   1347\u001b[0m     \u001b[38;5;129;01mand\u001b[39;00m executing_eagerly):\n\u001b[1;32m   1348\u001b[0m   \u001b[38;5;66;03m# No tape is watching; skip to running the function.\u001b[39;00m\n\u001b[0;32m-> 1349\u001b[0m   \u001b[38;5;28;01mreturn\u001b[39;00m \u001b[38;5;28mself\u001b[39m\u001b[38;5;241m.\u001b[39m_build_call_outputs(\u001b[38;5;28;43mself\u001b[39;49m\u001b[38;5;241;43m.\u001b[39;49m\u001b[43m_inference_function\u001b[49m\u001b[43m(\u001b[49m\u001b[38;5;241;43m*\u001b[39;49m\u001b[43margs\u001b[49m\u001b[43m)\u001b[49m)\n\u001b[1;32m   1350\u001b[0m forward_backward \u001b[38;5;241m=\u001b[39m \u001b[38;5;28mself\u001b[39m\u001b[38;5;241m.\u001b[39m_select_forward_and_backward_functions(\n\u001b[1;32m   1351\u001b[0m     args,\n\u001b[1;32m   1352\u001b[0m     possible_gradient_type,\n\u001b[1;32m   1353\u001b[0m     executing_eagerly)\n\u001b[1;32m   1354\u001b[0m forward_function, args_with_tangents \u001b[38;5;241m=\u001b[39m forward_backward\u001b[38;5;241m.\u001b[39mforward()\n",
      "File \u001b[0;32m~/miniconda3/lib/python3.10/site-packages/tensorflow/python/eager/polymorphic_function/atomic_function.py:196\u001b[0m, in \u001b[0;36mAtomicFunction.__call__\u001b[0;34m(self, *args)\u001b[0m\n\u001b[1;32m    194\u001b[0m \u001b[38;5;28;01mwith\u001b[39;00m record\u001b[38;5;241m.\u001b[39mstop_recording():\n\u001b[1;32m    195\u001b[0m   \u001b[38;5;28;01mif\u001b[39;00m \u001b[38;5;28mself\u001b[39m\u001b[38;5;241m.\u001b[39m_bound_context\u001b[38;5;241m.\u001b[39mexecuting_eagerly():\n\u001b[0;32m--> 196\u001b[0m     outputs \u001b[38;5;241m=\u001b[39m \u001b[38;5;28;43mself\u001b[39;49m\u001b[38;5;241;43m.\u001b[39;49m\u001b[43m_bound_context\u001b[49m\u001b[38;5;241;43m.\u001b[39;49m\u001b[43mcall_function\u001b[49m\u001b[43m(\u001b[49m\n\u001b[1;32m    197\u001b[0m \u001b[43m        \u001b[49m\u001b[38;5;28;43mself\u001b[39;49m\u001b[38;5;241;43m.\u001b[39;49m\u001b[43mname\u001b[49m\u001b[43m,\u001b[49m\n\u001b[1;32m    198\u001b[0m \u001b[43m        \u001b[49m\u001b[38;5;28;43mlist\u001b[39;49m\u001b[43m(\u001b[49m\u001b[43margs\u001b[49m\u001b[43m)\u001b[49m\u001b[43m,\u001b[49m\n\u001b[1;32m    199\u001b[0m \u001b[43m        \u001b[49m\u001b[38;5;28;43mlen\u001b[39;49m\u001b[43m(\u001b[49m\u001b[38;5;28;43mself\u001b[39;49m\u001b[38;5;241;43m.\u001b[39;49m\u001b[43mfunction_type\u001b[49m\u001b[38;5;241;43m.\u001b[39;49m\u001b[43mflat_outputs\u001b[49m\u001b[43m)\u001b[49m\u001b[43m,\u001b[49m\n\u001b[1;32m    200\u001b[0m \u001b[43m    \u001b[49m\u001b[43m)\u001b[49m\n\u001b[1;32m    201\u001b[0m   \u001b[38;5;28;01melse\u001b[39;00m:\n\u001b[1;32m    202\u001b[0m     outputs \u001b[38;5;241m=\u001b[39m make_call_op_in_graph(\u001b[38;5;28mself\u001b[39m, \u001b[38;5;28mlist\u001b[39m(args))\n",
      "File \u001b[0;32m~/miniconda3/lib/python3.10/site-packages/tensorflow/python/eager/context.py:1457\u001b[0m, in \u001b[0;36mContext.call_function\u001b[0;34m(self, name, tensor_inputs, num_outputs)\u001b[0m\n\u001b[1;32m   1455\u001b[0m cancellation_context \u001b[38;5;241m=\u001b[39m cancellation\u001b[38;5;241m.\u001b[39mcontext()\n\u001b[1;32m   1456\u001b[0m \u001b[38;5;28;01mif\u001b[39;00m cancellation_context \u001b[38;5;129;01mis\u001b[39;00m \u001b[38;5;28;01mNone\u001b[39;00m:\n\u001b[0;32m-> 1457\u001b[0m   outputs \u001b[38;5;241m=\u001b[39m \u001b[43mexecute\u001b[49m\u001b[38;5;241;43m.\u001b[39;49m\u001b[43mexecute\u001b[49m\u001b[43m(\u001b[49m\n\u001b[1;32m   1458\u001b[0m \u001b[43m      \u001b[49m\u001b[43mname\u001b[49m\u001b[38;5;241;43m.\u001b[39;49m\u001b[43mdecode\u001b[49m\u001b[43m(\u001b[49m\u001b[38;5;124;43m\"\u001b[39;49m\u001b[38;5;124;43mutf-8\u001b[39;49m\u001b[38;5;124;43m\"\u001b[39;49m\u001b[43m)\u001b[49m\u001b[43m,\u001b[49m\n\u001b[1;32m   1459\u001b[0m \u001b[43m      \u001b[49m\u001b[43mnum_outputs\u001b[49m\u001b[38;5;241;43m=\u001b[39;49m\u001b[43mnum_outputs\u001b[49m\u001b[43m,\u001b[49m\n\u001b[1;32m   1460\u001b[0m \u001b[43m      \u001b[49m\u001b[43minputs\u001b[49m\u001b[38;5;241;43m=\u001b[39;49m\u001b[43mtensor_inputs\u001b[49m\u001b[43m,\u001b[49m\n\u001b[1;32m   1461\u001b[0m \u001b[43m      \u001b[49m\u001b[43mattrs\u001b[49m\u001b[38;5;241;43m=\u001b[39;49m\u001b[43mattrs\u001b[49m\u001b[43m,\u001b[49m\n\u001b[1;32m   1462\u001b[0m \u001b[43m      \u001b[49m\u001b[43mctx\u001b[49m\u001b[38;5;241;43m=\u001b[39;49m\u001b[38;5;28;43mself\u001b[39;49m\u001b[43m,\u001b[49m\n\u001b[1;32m   1463\u001b[0m \u001b[43m  \u001b[49m\u001b[43m)\u001b[49m\n\u001b[1;32m   1464\u001b[0m \u001b[38;5;28;01melse\u001b[39;00m:\n\u001b[1;32m   1465\u001b[0m   outputs \u001b[38;5;241m=\u001b[39m execute\u001b[38;5;241m.\u001b[39mexecute_with_cancellation(\n\u001b[1;32m   1466\u001b[0m       name\u001b[38;5;241m.\u001b[39mdecode(\u001b[38;5;124m\"\u001b[39m\u001b[38;5;124mutf-8\u001b[39m\u001b[38;5;124m\"\u001b[39m),\n\u001b[1;32m   1467\u001b[0m       num_outputs\u001b[38;5;241m=\u001b[39mnum_outputs,\n\u001b[0;32m   (...)\u001b[0m\n\u001b[1;32m   1471\u001b[0m       cancellation_manager\u001b[38;5;241m=\u001b[39mcancellation_context,\n\u001b[1;32m   1472\u001b[0m   )\n",
      "File \u001b[0;32m~/miniconda3/lib/python3.10/site-packages/tensorflow/python/eager/execute.py:53\u001b[0m, in \u001b[0;36mquick_execute\u001b[0;34m(op_name, num_outputs, inputs, attrs, ctx, name)\u001b[0m\n\u001b[1;32m     51\u001b[0m \u001b[38;5;28;01mtry\u001b[39;00m:\n\u001b[1;32m     52\u001b[0m   ctx\u001b[38;5;241m.\u001b[39mensure_initialized()\n\u001b[0;32m---> 53\u001b[0m   tensors \u001b[38;5;241m=\u001b[39m \u001b[43mpywrap_tfe\u001b[49m\u001b[38;5;241;43m.\u001b[39;49m\u001b[43mTFE_Py_Execute\u001b[49m\u001b[43m(\u001b[49m\u001b[43mctx\u001b[49m\u001b[38;5;241;43m.\u001b[39;49m\u001b[43m_handle\u001b[49m\u001b[43m,\u001b[49m\u001b[43m \u001b[49m\u001b[43mdevice_name\u001b[49m\u001b[43m,\u001b[49m\u001b[43m \u001b[49m\u001b[43mop_name\u001b[49m\u001b[43m,\u001b[49m\n\u001b[1;32m     54\u001b[0m \u001b[43m                                      \u001b[49m\u001b[43minputs\u001b[49m\u001b[43m,\u001b[49m\u001b[43m \u001b[49m\u001b[43mattrs\u001b[49m\u001b[43m,\u001b[49m\u001b[43m \u001b[49m\u001b[43mnum_outputs\u001b[49m\u001b[43m)\u001b[49m\n\u001b[1;32m     55\u001b[0m \u001b[38;5;28;01mexcept\u001b[39;00m core\u001b[38;5;241m.\u001b[39m_NotOkStatusException \u001b[38;5;28;01mas\u001b[39;00m e:\n\u001b[1;32m     56\u001b[0m   \u001b[38;5;28;01mif\u001b[39;00m name \u001b[38;5;129;01mis\u001b[39;00m \u001b[38;5;129;01mnot\u001b[39;00m \u001b[38;5;28;01mNone\u001b[39;00m:\n",
      "\u001b[0;31mKeyboardInterrupt\u001b[0m: "
     ]
    }
   ],
   "source": [
    "model = Sequential()\n",
    "\n",
    "act_function = 'LeakyReLU'\n",
    "model.add(LSTM(64, return_sequences=True, activation=act_function, input_shape=(130,1662)))\n",
    "model.add(GRU(128, return_sequences=True, activation=act_function))\n",
    "model.add(LSTM(64, return_sequences=False, activation=act_function))\n",
    "model.add(Dense(64, activation=act_function))\n",
    "model.add(Dense(32, activation=act_function))\n",
    "model.add(Dense(50, activation='softmax'))\n",
    "optimizer = SGD(learning_rate=.0000005)\n",
    "model.compile(optimizer=optimizer, loss='categorical_crossentropy', metrics=['categorical_accuracy'])\n",
    "\n",
    "history = model.fit(Xtrain, Ytrain, epochs=1000, validation_split=.2, batch_size = 32, callbacks=[tb_callback])\n",
    "model.summary()"
   ]
  },
  {
   "cell_type": "code",
   "execution_count": null,
   "id": "1c679311",
   "metadata": {
    "ExecuteTime": {
     "end_time": "2023-08-08T10:35:27.486345Z",
     "start_time": "2023-08-08T10:35:27.486327Z"
    },
    "scrolled": true
   },
   "outputs": [],
   "source": [
    "model = Sequential(name='Sequential') #good, overfitting\n",
    "\n",
    "act_function = 'LeakyReLU'\n",
    "model.add(GRU(128, return_sequences=True, activation=act_function, input_shape=(130,1662)))\n",
    "model.add(GRU(128, return_sequences=False, activation=act_function))\n",
    "#model.add(LSTM(64, return_sequences=False, activation=act_function))\n",
    "model.add(Dense(128, activation=act_function, input_shape=(130,1662)))\n",
    "model.add(Dense(128, activation=act_function))\n",
    "model.add(Dense(64, activation=act_function))\n",
    "model.add(Dense(50, activation='softmax'))\n",
    "optimizer = Lion(learning_rate=.00025)\n",
    "model.compile(optimizer=optimizer, loss='categorical_crossentropy', metrics=['categorical_accuracy'])\n",
    "\n",
    "history = model.fit(Xtrain, Ytrain, epochs=1000, validation_split=.4, batch_size = 64, callbacks=[tb_callback])\n",
    "model.summary()"
   ]
  },
  {
   "cell_type": "code",
   "execution_count": 46,
   "id": "1307c49b",
   "metadata": {
    "ExecuteTime": {
     "end_time": "2023-08-08T10:17:07.348123Z",
     "start_time": "2023-08-08T10:17:06.489076Z"
    }
   },
   "outputs": [
    {
     "name": "stdout",
     "output_type": "stream",
     "text": [
      "6/6 [==============================] - 1s 50ms/step\n"
     ]
    }
   ],
   "source": [
    "res = model.predict(Xval)"
   ]
  },
  {
   "cell_type": "code",
   "execution_count": 51,
   "id": "ea587987",
   "metadata": {
    "ExecuteTime": {
     "end_time": "2023-08-08T10:18:19.616395Z",
     "start_time": "2023-08-08T10:18:19.613175Z"
    }
   },
   "outputs": [
    {
     "data": {
      "text/plain": [
       "23"
      ]
     },
     "execution_count": 51,
     "metadata": {},
     "output_type": "execute_result"
    }
   ],
   "source": [
    "np.argmax(res[100])"
   ]
  },
  {
   "cell_type": "code",
   "execution_count": 52,
   "id": "0201ac0f",
   "metadata": {
    "ExecuteTime": {
     "end_time": "2023-08-08T10:18:22.529590Z",
     "start_time": "2023-08-08T10:18:22.525712Z"
    }
   },
   "outputs": [
    {
     "data": {
      "text/plain": [
       "31"
      ]
     },
     "execution_count": 52,
     "metadata": {},
     "output_type": "execute_result"
    }
   ],
   "source": [
    "np.argmax(Yval[100])"
   ]
  },
  {
   "cell_type": "code",
   "execution_count": 43,
   "id": "ea47f3a7",
   "metadata": {
    "ExecuteTime": {
     "end_time": "2023-08-08T11:01:02.445377Z",
     "start_time": "2023-08-08T10:35:54.630053Z"
    },
    "scrolled": true
   },
   "outputs": [
    {
     "name": "stdout",
     "output_type": "stream",
     "text": [
      "WARNING:tensorflow:Layer gru will not use cuDNN kernels since it doesn't meet the criteria. It will use a generic GPU kernel as fallback when running on GPU.\n"
     ]
    },
    {
     "name": "stderr",
     "output_type": "stream",
     "text": [
      "2023-08-08 11:35:54.821749: I tensorflow/core/common_runtime/gpu/gpu_device.cc:1639] Created device /job:localhost/replica:0/task:0/device:GPU:0 with 1739 MB memory:  -> device: 0, name: NVIDIA GeForce MX250, pci bus id: 0000:01:00.0, compute capability: 6.1\n",
      "2023-08-08 11:35:56.029910: W tensorflow/tsl/framework/cpu_allocator_impl.cc:83] Allocation of 808928640 exceeds 10% of free system memory.\n",
      "2023-08-08 11:35:56.734543: W tensorflow/tsl/framework/cpu_allocator_impl.cc:83] Allocation of 808928640 exceeds 10% of free system memory.\n"
     ]
    },
    {
     "name": "stdout",
     "output_type": "stream",
     "text": [
      "Epoch 1/1000\n"
     ]
    },
    {
     "name": "stderr",
     "output_type": "stream",
     "text": [
      "2023-08-08 11:35:59.006698: I tensorflow/compiler/xla/service/service.cc:168] XLA service 0x7f82c0387800 initialized for platform CUDA (this does not guarantee that XLA will be used). Devices:\n",
      "2023-08-08 11:35:59.006725: I tensorflow/compiler/xla/service/service.cc:176]   StreamExecutor device (0): NVIDIA GeForce MX250, Compute Capability 6.1\n",
      "2023-08-08 11:35:59.012057: I tensorflow/compiler/mlir/tensorflow/utils/dump_mlir_util.cc:255] disabling MLIR crash reproducer, set env var `MLIR_CRASH_REPRODUCER_DIRECTORY` to enable.\n",
      "2023-08-08 11:35:59.025994: I tensorflow/compiler/xla/stream_executor/cuda/cuda_dnn.cc:432] Loaded cuDNN version 8600\n",
      "2023-08-08 11:35:59.088660: I ./tensorflow/compiler/jit/device_compiler.h:186] Compiled cluster using XLA!  This line is logged at most once for the lifetime of the process.\n"
     ]
    },
    {
     "name": "stdout",
     "output_type": "stream",
     "text": [
      "15/15 [==============================] - 7s 332ms/step - loss: 3.9308 - categorical_accuracy: 0.0224 - val_loss: 3.9131 - val_categorical_accuracy: 0.0249\n",
      "Epoch 2/1000\n",
      "15/15 [==============================] - 3s 219ms/step - loss: 3.9224 - categorical_accuracy: 0.0182 - val_loss: 3.9152 - val_categorical_accuracy: 0.0199\n",
      "Epoch 3/1000\n",
      "15/15 [==============================] - 3s 223ms/step - loss: 3.9176 - categorical_accuracy: 0.0214 - val_loss: 3.9231 - val_categorical_accuracy: 0.0224\n",
      "Epoch 4/1000\n",
      "15/15 [==============================] - 3s 226ms/step - loss: 3.9105 - categorical_accuracy: 0.0288 - val_loss: 3.9270 - val_categorical_accuracy: 0.0249\n",
      "Epoch 5/1000\n",
      "15/15 [==============================] - 3s 227ms/step - loss: 3.9105 - categorical_accuracy: 0.0203 - val_loss: 3.9265 - val_categorical_accuracy: 0.0174\n",
      "Epoch 6/1000\n",
      "15/15 [==============================] - 3s 231ms/step - loss: 3.9126 - categorical_accuracy: 0.0235 - val_loss: 3.9240 - val_categorical_accuracy: 0.0124\n",
      "Epoch 7/1000\n",
      "15/15 [==============================] - 3s 230ms/step - loss: 3.9138 - categorical_accuracy: 0.0256 - val_loss: 3.9240 - val_categorical_accuracy: 0.0000e+00\n",
      "Epoch 8/1000\n",
      "15/15 [==============================] - 3s 233ms/step - loss: 3.9076 - categorical_accuracy: 0.0246 - val_loss: 3.9270 - val_categorical_accuracy: 0.0000e+00\n",
      "Epoch 9/1000\n",
      "15/15 [==============================] - 4s 238ms/step - loss: 3.9098 - categorical_accuracy: 0.0214 - val_loss: 3.9263 - val_categorical_accuracy: 0.0000e+00\n",
      "Epoch 10/1000\n",
      "15/15 [==============================] - 4s 240ms/step - loss: 3.9028 - categorical_accuracy: 0.0321 - val_loss: 3.9268 - val_categorical_accuracy: 0.0000e+00\n",
      "Epoch 11/1000\n",
      "15/15 [==============================] - 4s 237ms/step - loss: 3.9074 - categorical_accuracy: 0.0235 - val_loss: 3.9365 - val_categorical_accuracy: 0.0025\n",
      "Epoch 12/1000\n",
      "15/15 [==============================] - 4s 238ms/step - loss: 3.9055 - categorical_accuracy: 0.0299 - val_loss: 3.9401 - val_categorical_accuracy: 0.0100\n",
      "Epoch 13/1000\n",
      "15/15 [==============================] - 4s 239ms/step - loss: 3.9021 - categorical_accuracy: 0.0331 - val_loss: 3.9400 - val_categorical_accuracy: 0.0075\n",
      "Epoch 14/1000\n",
      "15/15 [==============================] - 4s 240ms/step - loss: 3.9031 - categorical_accuracy: 0.0267 - val_loss: 3.9315 - val_categorical_accuracy: 0.0000e+00\n",
      "Epoch 15/1000\n",
      "15/15 [==============================] - 4s 242ms/step - loss: 3.9014 - categorical_accuracy: 0.0267 - val_loss: 3.9351 - val_categorical_accuracy: 0.0000e+00\n",
      "Epoch 16/1000\n",
      "15/15 [==============================] - 4s 248ms/step - loss: 3.8969 - categorical_accuracy: 0.0353 - val_loss: 3.9436 - val_categorical_accuracy: 0.0000e+00\n",
      "Epoch 17/1000\n",
      "15/15 [==============================] - 4s 241ms/step - loss: 3.8963 - categorical_accuracy: 0.0288 - val_loss: 3.9513 - val_categorical_accuracy: 0.0000e+00\n",
      "Epoch 18/1000\n",
      "15/15 [==============================] - 4s 240ms/step - loss: 3.8917 - categorical_accuracy: 0.0385 - val_loss: 3.9516 - val_categorical_accuracy: 0.0000e+00\n",
      "Epoch 19/1000\n",
      "15/15 [==============================] - 4s 244ms/step - loss: 3.8933 - categorical_accuracy: 0.0353 - val_loss: 3.9568 - val_categorical_accuracy: 0.0000e+00\n",
      "Epoch 20/1000\n",
      "15/15 [==============================] - 4s 244ms/step - loss: 3.8909 - categorical_accuracy: 0.0385 - val_loss: 3.9636 - val_categorical_accuracy: 0.0000e+00\n",
      "Epoch 21/1000\n",
      "15/15 [==============================] - 4s 244ms/step - loss: 3.8880 - categorical_accuracy: 0.0331 - val_loss: 3.9615 - val_categorical_accuracy: 0.0075\n",
      "Epoch 22/1000\n",
      "15/15 [==============================] - 4s 245ms/step - loss: 3.8934 - categorical_accuracy: 0.0288 - val_loss: 3.9538 - val_categorical_accuracy: 0.0025\n",
      "Epoch 23/1000\n",
      "15/15 [==============================] - 4s 250ms/step - loss: 3.8794 - categorical_accuracy: 0.0406 - val_loss: 3.9575 - val_categorical_accuracy: 0.0050\n",
      "Epoch 24/1000\n",
      "15/15 [==============================] - 4s 245ms/step - loss: 3.8854 - categorical_accuracy: 0.0299 - val_loss: 3.9643 - val_categorical_accuracy: 0.0000e+00\n",
      "Epoch 25/1000\n",
      "15/15 [==============================] - 4s 246ms/step - loss: 3.8878 - categorical_accuracy: 0.0363 - val_loss: 3.9664 - val_categorical_accuracy: 0.0000e+00\n",
      "Epoch 26/1000\n",
      "15/15 [==============================] - 4s 248ms/step - loss: 3.8872 - categorical_accuracy: 0.0342 - val_loss: 3.9773 - val_categorical_accuracy: 0.0000e+00\n",
      "Epoch 27/1000\n",
      "15/15 [==============================] - 4s 255ms/step - loss: 3.8803 - categorical_accuracy: 0.0342 - val_loss: 3.9766 - val_categorical_accuracy: 0.0000e+00\n",
      "Epoch 28/1000\n",
      "15/15 [==============================] - 4s 259ms/step - loss: 3.8757 - categorical_accuracy: 0.0342 - val_loss: 3.9682 - val_categorical_accuracy: 0.0000e+00\n",
      "Epoch 29/1000\n",
      "15/15 [==============================] - 4s 253ms/step - loss: 3.8820 - categorical_accuracy: 0.0385 - val_loss: 3.9659 - val_categorical_accuracy: 0.0025\n",
      "Epoch 30/1000\n",
      "15/15 [==============================] - 4s 255ms/step - loss: 3.8696 - categorical_accuracy: 0.0406 - val_loss: 3.9837 - val_categorical_accuracy: 0.0000e+00\n",
      "Epoch 31/1000\n",
      "15/15 [==============================] - 4s 251ms/step - loss: 3.8696 - categorical_accuracy: 0.0353 - val_loss: 3.9986 - val_categorical_accuracy: 0.0000e+00\n",
      "Epoch 32/1000\n",
      "15/15 [==============================] - 4s 253ms/step - loss: 3.8674 - categorical_accuracy: 0.0406 - val_loss: 4.0041 - val_categorical_accuracy: 0.0050\n",
      "Epoch 33/1000\n",
      "15/15 [==============================] - 4s 249ms/step - loss: 3.8611 - categorical_accuracy: 0.0417 - val_loss: 4.0023 - val_categorical_accuracy: 0.0050\n",
      "Epoch 34/1000\n",
      "15/15 [==============================] - 4s 253ms/step - loss: 3.8699 - categorical_accuracy: 0.0363 - val_loss: 3.9945 - val_categorical_accuracy: 0.0050\n",
      "Epoch 35/1000\n",
      "15/15 [==============================] - 4s 255ms/step - loss: 3.8713 - categorical_accuracy: 0.0385 - val_loss: 3.9900 - val_categorical_accuracy: 0.0100\n",
      "Epoch 36/1000\n",
      "15/15 [==============================] - 4s 250ms/step - loss: 3.8625 - categorical_accuracy: 0.0342 - val_loss: 4.0141 - val_categorical_accuracy: 0.0050\n",
      "Epoch 37/1000\n",
      "15/15 [==============================] - 4s 256ms/step - loss: 3.8604 - categorical_accuracy: 0.0363 - val_loss: 4.0128 - val_categorical_accuracy: 0.0050\n",
      "Epoch 38/1000\n",
      "15/15 [==============================] - 4s 249ms/step - loss: 3.8574 - categorical_accuracy: 0.0449 - val_loss: 4.0427 - val_categorical_accuracy: 0.0025\n",
      "Epoch 39/1000\n",
      "15/15 [==============================] - 4s 254ms/step - loss: 3.8443 - categorical_accuracy: 0.0502 - val_loss: 4.0621 - val_categorical_accuracy: 0.0025\n",
      "Epoch 40/1000\n",
      "15/15 [==============================] - 4s 249ms/step - loss: 3.8541 - categorical_accuracy: 0.0385 - val_loss: 4.0386 - val_categorical_accuracy: 0.0025\n",
      "Epoch 41/1000\n",
      "15/15 [==============================] - 4s 251ms/step - loss: 3.8508 - categorical_accuracy: 0.0438 - val_loss: 4.0460 - val_categorical_accuracy: 0.0025\n",
      "Epoch 42/1000\n",
      "15/15 [==============================] - 4s 254ms/step - loss: 3.8431 - categorical_accuracy: 0.0395 - val_loss: 4.0444 - val_categorical_accuracy: 0.0025\n",
      "Epoch 43/1000\n",
      "15/15 [==============================] - 4s 277ms/step - loss: 3.8357 - categorical_accuracy: 0.0470 - val_loss: 4.0774 - val_categorical_accuracy: 0.0000e+00\n",
      "Epoch 44/1000\n",
      "15/15 [==============================] - 4s 269ms/step - loss: 3.8390 - categorical_accuracy: 0.0321 - val_loss: 4.0596 - val_categorical_accuracy: 0.0000e+00\n",
      "Epoch 45/1000\n",
      "15/15 [==============================] - 4s 248ms/step - loss: 3.8370 - categorical_accuracy: 0.0545 - val_loss: 4.0454 - val_categorical_accuracy: 0.0050\n",
      "Epoch 46/1000\n",
      "15/15 [==============================] - 4s 250ms/step - loss: 3.8341 - categorical_accuracy: 0.0427 - val_loss: 4.0772 - val_categorical_accuracy: 0.0050\n",
      "Epoch 47/1000\n",
      "15/15 [==============================] - 4s 255ms/step - loss: 3.8354 - categorical_accuracy: 0.0363 - val_loss: 4.0407 - val_categorical_accuracy: 0.0100\n",
      "Epoch 48/1000\n",
      "15/15 [==============================] - 4s 272ms/step - loss: 3.8291 - categorical_accuracy: 0.0438 - val_loss: 4.0520 - val_categorical_accuracy: 0.0124\n",
      "Epoch 49/1000\n"
     ]
    },
    {
     "name": "stdout",
     "output_type": "stream",
     "text": [
      "15/15 [==============================] - 5s 346ms/step - loss: 3.8267 - categorical_accuracy: 0.0321 - val_loss: 4.1078 - val_categorical_accuracy: 0.0100\n",
      "Epoch 50/1000\n",
      "15/15 [==============================] - 4s 270ms/step - loss: 3.8174 - categorical_accuracy: 0.0406 - val_loss: 4.1035 - val_categorical_accuracy: 0.0075\n",
      "Epoch 51/1000\n",
      "15/15 [==============================] - 4s 257ms/step - loss: 3.8223 - categorical_accuracy: 0.0438 - val_loss: 4.0769 - val_categorical_accuracy: 0.0100\n",
      "Epoch 52/1000\n",
      "15/15 [==============================] - 4s 294ms/step - loss: 3.8173 - categorical_accuracy: 0.0427 - val_loss: 4.1266 - val_categorical_accuracy: 0.0124\n",
      "Epoch 53/1000\n",
      "15/15 [==============================] - 5s 351ms/step - loss: 3.8072 - categorical_accuracy: 0.0438 - val_loss: 4.1107 - val_categorical_accuracy: 0.0100\n",
      "Epoch 54/1000\n",
      "15/15 [==============================] - 4s 265ms/step - loss: 3.7981 - categorical_accuracy: 0.0630 - val_loss: 4.1235 - val_categorical_accuracy: 0.0100\n",
      "Epoch 55/1000\n",
      "15/15 [==============================] - 4s 253ms/step - loss: 3.7956 - categorical_accuracy: 0.0545 - val_loss: 4.1093 - val_categorical_accuracy: 0.0100\n",
      "Epoch 56/1000\n",
      "15/15 [==============================] - 4s 278ms/step - loss: 3.7990 - categorical_accuracy: 0.0470 - val_loss: 4.1298 - val_categorical_accuracy: 0.0075\n",
      "Epoch 57/1000\n",
      "15/15 [==============================] - 4s 268ms/step - loss: 3.7876 - categorical_accuracy: 0.0459 - val_loss: 4.0685 - val_categorical_accuracy: 0.0124\n",
      "Epoch 58/1000\n",
      "15/15 [==============================] - 4s 258ms/step - loss: 3.7778 - categorical_accuracy: 0.0726 - val_loss: 4.0646 - val_categorical_accuracy: 0.0100\n",
      "Epoch 59/1000\n",
      "15/15 [==============================] - 4s 259ms/step - loss: 3.7733 - categorical_accuracy: 0.0502 - val_loss: 4.0734 - val_categorical_accuracy: 0.0174\n",
      "Epoch 60/1000\n",
      "15/15 [==============================] - 4s 266ms/step - loss: 3.7523 - categorical_accuracy: 0.0588 - val_loss: 4.1228 - val_categorical_accuracy: 0.0075\n",
      "Epoch 61/1000\n",
      "15/15 [==============================] - 4s 278ms/step - loss: 3.7631 - categorical_accuracy: 0.0652 - val_loss: 4.1093 - val_categorical_accuracy: 0.0124\n",
      "Epoch 62/1000\n",
      "15/15 [==============================] - 4s 281ms/step - loss: 3.7517 - categorical_accuracy: 0.0545 - val_loss: 4.0863 - val_categorical_accuracy: 0.0124\n",
      "Epoch 63/1000\n",
      "15/15 [==============================] - 4s 258ms/step - loss: 3.7580 - categorical_accuracy: 0.0620 - val_loss: 4.0201 - val_categorical_accuracy: 0.0199\n",
      "Epoch 64/1000\n",
      "15/15 [==============================] - 4s 262ms/step - loss: 3.7247 - categorical_accuracy: 0.0598 - val_loss: 4.0460 - val_categorical_accuracy: 0.0199\n",
      "Epoch 65/1000\n",
      "15/15 [==============================] - 4s 265ms/step - loss: 3.7311 - categorical_accuracy: 0.0630 - val_loss: 4.1197 - val_categorical_accuracy: 0.0149\n",
      "Epoch 66/1000\n",
      "15/15 [==============================] - 4s 291ms/step - loss: 3.7234 - categorical_accuracy: 0.0673 - val_loss: 4.0728 - val_categorical_accuracy: 0.0199\n",
      "Epoch 67/1000\n",
      "15/15 [==============================] - 4s 274ms/step - loss: 3.7175 - categorical_accuracy: 0.0598 - val_loss: 4.1041 - val_categorical_accuracy: 0.0174\n",
      "Epoch 68/1000\n",
      "15/15 [==============================] - 4s 270ms/step - loss: 3.7058 - categorical_accuracy: 0.0673 - val_loss: 4.0686 - val_categorical_accuracy: 0.0199\n",
      "Epoch 69/1000\n",
      "15/15 [==============================] - 4s 269ms/step - loss: 3.7186 - categorical_accuracy: 0.0684 - val_loss: 4.0427 - val_categorical_accuracy: 0.0199\n",
      "Epoch 70/1000\n",
      "15/15 [==============================] - 4s 289ms/step - loss: 3.7000 - categorical_accuracy: 0.0662 - val_loss: 4.1067 - val_categorical_accuracy: 0.0149\n",
      "Epoch 71/1000\n",
      "15/15 [==============================] - 4s 300ms/step - loss: 3.6821 - categorical_accuracy: 0.0748 - val_loss: 4.0357 - val_categorical_accuracy: 0.0199\n",
      "Epoch 72/1000\n",
      "15/15 [==============================] - 4s 291ms/step - loss: 3.6968 - categorical_accuracy: 0.0641 - val_loss: 4.1473 - val_categorical_accuracy: 0.0149\n",
      "Epoch 73/1000\n",
      "15/15 [==============================] - 4s 276ms/step - loss: 3.6600 - categorical_accuracy: 0.0801 - val_loss: 4.1167 - val_categorical_accuracy: 0.0124\n",
      "Epoch 74/1000\n",
      "15/15 [==============================] - 4s 269ms/step - loss: 3.6605 - categorical_accuracy: 0.0780 - val_loss: 4.0236 - val_categorical_accuracy: 0.0299\n",
      "Epoch 75/1000\n",
      "15/15 [==============================] - 4s 265ms/step - loss: 3.6771 - categorical_accuracy: 0.0684 - val_loss: 4.0402 - val_categorical_accuracy: 0.0274\n",
      "Epoch 76/1000\n",
      "15/15 [==============================] - 4s 286ms/step - loss: 3.6507 - categorical_accuracy: 0.0812 - val_loss: 4.0708 - val_categorical_accuracy: 0.0174\n",
      "Epoch 77/1000\n",
      "15/15 [==============================] - 4s 262ms/step - loss: 3.6139 - categorical_accuracy: 0.0812 - val_loss: 4.0792 - val_categorical_accuracy: 0.0249\n",
      "Epoch 78/1000\n",
      "15/15 [==============================] - 4s 263ms/step - loss: 3.6159 - categorical_accuracy: 0.0876 - val_loss: 3.9705 - val_categorical_accuracy: 0.0299\n",
      "Epoch 79/1000\n",
      "15/15 [==============================] - 4s 262ms/step - loss: 3.6198 - categorical_accuracy: 0.0876 - val_loss: 3.9900 - val_categorical_accuracy: 0.0348\n",
      "Epoch 80/1000\n",
      "15/15 [==============================] - 4s 264ms/step - loss: 3.6139 - categorical_accuracy: 0.0876 - val_loss: 4.0082 - val_categorical_accuracy: 0.0323\n",
      "Epoch 81/1000\n",
      "15/15 [==============================] - 4s 265ms/step - loss: 3.6131 - categorical_accuracy: 0.0887 - val_loss: 3.9666 - val_categorical_accuracy: 0.0373\n",
      "Epoch 82/1000\n",
      "15/15 [==============================] - 4s 268ms/step - loss: 3.5994 - categorical_accuracy: 0.1058 - val_loss: 3.9919 - val_categorical_accuracy: 0.0373\n",
      "Epoch 83/1000\n",
      "15/15 [==============================] - 4s 260ms/step - loss: 3.5729 - categorical_accuracy: 0.0694 - val_loss: 3.9315 - val_categorical_accuracy: 0.0323\n",
      "Epoch 84/1000\n",
      "15/15 [==============================] - 4s 276ms/step - loss: 3.5780 - categorical_accuracy: 0.0962 - val_loss: 4.0525 - val_categorical_accuracy: 0.0249\n",
      "Epoch 85/1000\n",
      "15/15 [==============================] - 4s 267ms/step - loss: 3.5551 - categorical_accuracy: 0.1026 - val_loss: 3.9677 - val_categorical_accuracy: 0.0398\n",
      "Epoch 86/1000\n",
      "15/15 [==============================] - 4s 267ms/step - loss: 3.5387 - categorical_accuracy: 0.1036 - val_loss: 3.9942 - val_categorical_accuracy: 0.0448\n",
      "Epoch 87/1000\n",
      "15/15 [==============================] - 4s 273ms/step - loss: 3.5560 - categorical_accuracy: 0.1111 - val_loss: 3.9094 - val_categorical_accuracy: 0.0373\n",
      "Epoch 88/1000\n",
      "15/15 [==============================] - 4s 264ms/step - loss: 3.5468 - categorical_accuracy: 0.1026 - val_loss: 3.9127 - val_categorical_accuracy: 0.0398\n",
      "Epoch 89/1000\n",
      "15/15 [==============================] - 4s 261ms/step - loss: 3.5076 - categorical_accuracy: 0.1207 - val_loss: 3.9955 - val_categorical_accuracy: 0.0373\n",
      "Epoch 90/1000\n",
      "15/15 [==============================] - 4s 265ms/step - loss: 3.4876 - categorical_accuracy: 0.1122 - val_loss: 3.9773 - val_categorical_accuracy: 0.0398\n",
      "Epoch 91/1000\n",
      "15/15 [==============================] - 4s 262ms/step - loss: 3.5140 - categorical_accuracy: 0.0994 - val_loss: 3.9692 - val_categorical_accuracy: 0.0398\n",
      "Epoch 92/1000\n",
      "15/15 [==============================] - 4s 259ms/step - loss: 3.4981 - categorical_accuracy: 0.1068 - val_loss: 3.9747 - val_categorical_accuracy: 0.0373\n",
      "Epoch 93/1000\n",
      "15/15 [==============================] - 4s 263ms/step - loss: 3.4992 - categorical_accuracy: 0.1058 - val_loss: 3.9596 - val_categorical_accuracy: 0.0373\n",
      "Epoch 94/1000\n",
      "15/15 [==============================] - 4s 265ms/step - loss: 3.4650 - categorical_accuracy: 0.1186 - val_loss: 3.8857 - val_categorical_accuracy: 0.0473\n",
      "Epoch 95/1000\n",
      "15/15 [==============================] - 4s 258ms/step - loss: 3.4469 - categorical_accuracy: 0.1186 - val_loss: 3.9431 - val_categorical_accuracy: 0.0423\n",
      "Epoch 96/1000\n",
      "15/15 [==============================] - 4s 262ms/step - loss: 3.4416 - categorical_accuracy: 0.0994 - val_loss: 3.8736 - val_categorical_accuracy: 0.0323\n",
      "Epoch 97/1000\n"
     ]
    },
    {
     "name": "stdout",
     "output_type": "stream",
     "text": [
      "15/15 [==============================] - 4s 263ms/step - loss: 3.4585 - categorical_accuracy: 0.1122 - val_loss: 3.8647 - val_categorical_accuracy: 0.0398\n",
      "Epoch 98/1000\n",
      "15/15 [==============================] - 4s 258ms/step - loss: 3.4254 - categorical_accuracy: 0.1282 - val_loss: 3.8650 - val_categorical_accuracy: 0.0398\n",
      "Epoch 99/1000\n",
      "15/15 [==============================] - 4s 263ms/step - loss: 3.4467 - categorical_accuracy: 0.1079 - val_loss: 3.9267 - val_categorical_accuracy: 0.0348\n",
      "Epoch 100/1000\n",
      "15/15 [==============================] - 4s 261ms/step - loss: 3.4205 - categorical_accuracy: 0.1122 - val_loss: 4.0603 - val_categorical_accuracy: 0.0199\n",
      "Epoch 101/1000\n",
      "15/15 [==============================] - 4s 258ms/step - loss: 3.3801 - categorical_accuracy: 0.1496 - val_loss: 3.9318 - val_categorical_accuracy: 0.0373\n",
      "Epoch 102/1000\n",
      "15/15 [==============================] - 4s 268ms/step - loss: 3.3719 - categorical_accuracy: 0.1335 - val_loss: 3.9191 - val_categorical_accuracy: 0.0323\n",
      "Epoch 103/1000\n",
      "15/15 [==============================] - 4s 260ms/step - loss: 3.3717 - categorical_accuracy: 0.1218 - val_loss: 3.8125 - val_categorical_accuracy: 0.0448\n",
      "Epoch 104/1000\n",
      "15/15 [==============================] - 4s 257ms/step - loss: 3.3779 - categorical_accuracy: 0.1186 - val_loss: 3.7942 - val_categorical_accuracy: 0.0473\n",
      "Epoch 105/1000\n",
      "15/15 [==============================] - 4s 260ms/step - loss: 3.3907 - categorical_accuracy: 0.1314 - val_loss: 3.7744 - val_categorical_accuracy: 0.0498\n",
      "Epoch 106/1000\n",
      "15/15 [==============================] - 4s 264ms/step - loss: 3.3425 - categorical_accuracy: 0.1528 - val_loss: 3.8232 - val_categorical_accuracy: 0.0448\n",
      "Epoch 107/1000\n",
      "15/15 [==============================] - 4s 261ms/step - loss: 3.3482 - categorical_accuracy: 0.1378 - val_loss: 3.8389 - val_categorical_accuracy: 0.0448\n",
      "Epoch 108/1000\n",
      "15/15 [==============================] - 4s 255ms/step - loss: 3.3395 - categorical_accuracy: 0.1432 - val_loss: 3.8973 - val_categorical_accuracy: 0.0473\n",
      "Epoch 109/1000\n",
      "15/15 [==============================] - 4s 262ms/step - loss: 3.2770 - categorical_accuracy: 0.1496 - val_loss: 3.8050 - val_categorical_accuracy: 0.0398\n",
      "Epoch 110/1000\n",
      "15/15 [==============================] - 4s 262ms/step - loss: 3.3207 - categorical_accuracy: 0.1303 - val_loss: 3.7858 - val_categorical_accuracy: 0.0423\n",
      "Epoch 111/1000\n",
      "15/15 [==============================] - 4s 272ms/step - loss: 3.3097 - categorical_accuracy: 0.1496 - val_loss: 3.7968 - val_categorical_accuracy: 0.0473\n",
      "Epoch 112/1000\n",
      "15/15 [==============================] - 4s 268ms/step - loss: 3.2959 - categorical_accuracy: 0.1314 - val_loss: 3.8432 - val_categorical_accuracy: 0.0423\n",
      "Epoch 113/1000\n",
      "15/15 [==============================] - 4s 258ms/step - loss: 3.3086 - categorical_accuracy: 0.1442 - val_loss: 3.7414 - val_categorical_accuracy: 0.0473\n",
      "Epoch 114/1000\n",
      "15/15 [==============================] - 4s 263ms/step - loss: 3.3053 - categorical_accuracy: 0.1335 - val_loss: 3.8220 - val_categorical_accuracy: 0.0473\n",
      "Epoch 115/1000\n",
      "15/15 [==============================] - 4s 262ms/step - loss: 3.2545 - categorical_accuracy: 0.1496 - val_loss: 3.7157 - val_categorical_accuracy: 0.0498\n",
      "Epoch 116/1000\n",
      "15/15 [==============================] - 4s 259ms/step - loss: 3.2371 - categorical_accuracy: 0.1496 - val_loss: 3.7022 - val_categorical_accuracy: 0.0547\n",
      "Epoch 117/1000\n",
      "15/15 [==============================] - 4s 270ms/step - loss: 3.2672 - categorical_accuracy: 0.1549 - val_loss: 3.7441 - val_categorical_accuracy: 0.0348\n",
      "Epoch 118/1000\n",
      "15/15 [==============================] - 4s 260ms/step - loss: 3.2393 - categorical_accuracy: 0.1464 - val_loss: 3.6926 - val_categorical_accuracy: 0.0473\n",
      "Epoch 119/1000\n",
      "15/15 [==============================] - 4s 256ms/step - loss: 3.2401 - categorical_accuracy: 0.1400 - val_loss: 3.6143 - val_categorical_accuracy: 0.0498\n",
      "Epoch 120/1000\n",
      "15/15 [==============================] - 4s 258ms/step - loss: 3.1995 - categorical_accuracy: 0.1549 - val_loss: 3.6801 - val_categorical_accuracy: 0.0373\n",
      "Epoch 121/1000\n",
      "15/15 [==============================] - 4s 258ms/step - loss: 3.1968 - categorical_accuracy: 0.1453 - val_loss: 3.6635 - val_categorical_accuracy: 0.0448\n",
      "Epoch 122/1000\n",
      "15/15 [==============================] - 4s 258ms/step - loss: 3.1872 - categorical_accuracy: 0.1496 - val_loss: 3.7566 - val_categorical_accuracy: 0.0448\n",
      "Epoch 123/1000\n",
      "15/15 [==============================] - 4s 262ms/step - loss: 3.2019 - categorical_accuracy: 0.1346 - val_loss: 3.6507 - val_categorical_accuracy: 0.0348\n",
      "Epoch 124/1000\n",
      "15/15 [==============================] - 4s 257ms/step - loss: 3.2029 - categorical_accuracy: 0.1421 - val_loss: 3.7011 - val_categorical_accuracy: 0.0522\n",
      "Epoch 125/1000\n",
      "15/15 [==============================] - 4s 258ms/step - loss: 3.1669 - categorical_accuracy: 0.1453 - val_loss: 3.6214 - val_categorical_accuracy: 0.0423\n",
      "Epoch 126/1000\n",
      "15/15 [==============================] - 4s 262ms/step - loss: 3.1229 - categorical_accuracy: 0.1763 - val_loss: 3.6847 - val_categorical_accuracy: 0.0448\n",
      "Epoch 127/1000\n",
      "15/15 [==============================] - 4s 258ms/step - loss: 3.2033 - categorical_accuracy: 0.1613 - val_loss: 3.5610 - val_categorical_accuracy: 0.0498\n",
      "Epoch 128/1000\n",
      "15/15 [==============================] - 4s 258ms/step - loss: 3.1384 - categorical_accuracy: 0.1581 - val_loss: 3.6211 - val_categorical_accuracy: 0.0473\n",
      "Epoch 129/1000\n",
      "15/15 [==============================] - 4s 258ms/step - loss: 3.1530 - categorical_accuracy: 0.1688 - val_loss: 3.6455 - val_categorical_accuracy: 0.0423\n",
      "Epoch 130/1000\n",
      "15/15 [==============================] - 4s 257ms/step - loss: 3.1483 - categorical_accuracy: 0.1538 - val_loss: 3.5883 - val_categorical_accuracy: 0.0448\n",
      "Epoch 131/1000\n",
      "15/15 [==============================] - 4s 258ms/step - loss: 3.1540 - categorical_accuracy: 0.1549 - val_loss: 3.6068 - val_categorical_accuracy: 0.0473\n",
      "Epoch 132/1000\n",
      "15/15 [==============================] - 4s 265ms/step - loss: 3.1480 - categorical_accuracy: 0.1656 - val_loss: 3.5858 - val_categorical_accuracy: 0.0547\n",
      "Epoch 133/1000\n",
      "15/15 [==============================] - 4s 271ms/step - loss: 3.1592 - categorical_accuracy: 0.1410 - val_loss: 3.7060 - val_categorical_accuracy: 0.0498\n",
      "Epoch 134/1000\n",
      "15/15 [==============================] - 4s 266ms/step - loss: 3.0873 - categorical_accuracy: 0.1528 - val_loss: 3.6021 - val_categorical_accuracy: 0.0498\n",
      "Epoch 135/1000\n",
      "15/15 [==============================] - 4s 263ms/step - loss: 3.0912 - categorical_accuracy: 0.1688 - val_loss: 3.6300 - val_categorical_accuracy: 0.0498\n",
      "Epoch 136/1000\n",
      "15/15 [==============================] - 4s 264ms/step - loss: 3.0991 - categorical_accuracy: 0.1528 - val_loss: 3.7169 - val_categorical_accuracy: 0.0398\n",
      "Epoch 137/1000\n",
      "15/15 [==============================] - 4s 260ms/step - loss: 3.1088 - categorical_accuracy: 0.1838 - val_loss: 3.5640 - val_categorical_accuracy: 0.0572\n",
      "Epoch 138/1000\n",
      "15/15 [==============================] - 4s 264ms/step - loss: 3.0622 - categorical_accuracy: 0.1838 - val_loss: 3.5379 - val_categorical_accuracy: 0.0647\n",
      "Epoch 139/1000\n",
      "15/15 [==============================] - 4s 261ms/step - loss: 3.0908 - categorical_accuracy: 0.1859 - val_loss: 3.7336 - val_categorical_accuracy: 0.0473\n",
      "Epoch 140/1000\n",
      "15/15 [==============================] - 4s 258ms/step - loss: 3.0661 - categorical_accuracy: 0.1784 - val_loss: 3.5792 - val_categorical_accuracy: 0.0572\n",
      "Epoch 141/1000\n",
      "15/15 [==============================] - 4s 261ms/step - loss: 3.0102 - categorical_accuracy: 0.1816 - val_loss: 3.6121 - val_categorical_accuracy: 0.0522\n",
      "Epoch 142/1000\n",
      "15/15 [==============================] - 4s 262ms/step - loss: 3.0655 - categorical_accuracy: 0.1731 - val_loss: 3.5434 - val_categorical_accuracy: 0.0547\n",
      "Epoch 143/1000\n",
      "15/15 [==============================] - 4s 259ms/step - loss: 3.0376 - categorical_accuracy: 0.1795 - val_loss: 3.6425 - val_categorical_accuracy: 0.0498\n",
      "Epoch 144/1000\n",
      "15/15 [==============================] - 4s 261ms/step - loss: 2.9859 - categorical_accuracy: 0.1870 - val_loss: 3.5602 - val_categorical_accuracy: 0.0547\n",
      "Epoch 145/1000\n"
     ]
    },
    {
     "name": "stdout",
     "output_type": "stream",
     "text": [
      "15/15 [==============================] - 4s 257ms/step - loss: 3.0071 - categorical_accuracy: 0.1806 - val_loss: 3.6503 - val_categorical_accuracy: 0.0547\n",
      "Epoch 146/1000\n",
      "15/15 [==============================] - 4s 260ms/step - loss: 3.0095 - categorical_accuracy: 0.1870 - val_loss: 3.7740 - val_categorical_accuracy: 0.0522\n",
      "Epoch 147/1000\n",
      "15/15 [==============================] - 4s 257ms/step - loss: 3.0375 - categorical_accuracy: 0.1859 - val_loss: 3.6535 - val_categorical_accuracy: 0.0473\n",
      "Epoch 148/1000\n",
      "15/15 [==============================] - 4s 271ms/step - loss: 3.0171 - categorical_accuracy: 0.1816 - val_loss: 3.5708 - val_categorical_accuracy: 0.0547\n",
      "Epoch 149/1000\n",
      "15/15 [==============================] - 4s 258ms/step - loss: 2.9925 - categorical_accuracy: 0.1731 - val_loss: 3.5785 - val_categorical_accuracy: 0.0547\n",
      "Epoch 150/1000\n",
      "15/15 [==============================] - 4s 260ms/step - loss: 2.9800 - categorical_accuracy: 0.1774 - val_loss: 3.6198 - val_categorical_accuracy: 0.0597\n",
      "Epoch 151/1000\n",
      "15/15 [==============================] - 4s 259ms/step - loss: 2.9847 - categorical_accuracy: 0.1944 - val_loss: 3.4536 - val_categorical_accuracy: 0.0647\n",
      "Epoch 152/1000\n",
      "15/15 [==============================] - 4s 264ms/step - loss: 2.9637 - categorical_accuracy: 0.1859 - val_loss: 3.5559 - val_categorical_accuracy: 0.0572\n",
      "Epoch 153/1000\n",
      "15/15 [==============================] - 4s 258ms/step - loss: 2.9424 - categorical_accuracy: 0.1923 - val_loss: 3.5455 - val_categorical_accuracy: 0.0522\n",
      "Epoch 154/1000\n",
      "15/15 [==============================] - 4s 260ms/step - loss: 2.9654 - categorical_accuracy: 0.1784 - val_loss: 3.6541 - val_categorical_accuracy: 0.0473\n",
      "Epoch 155/1000\n",
      "15/15 [==============================] - 4s 256ms/step - loss: 2.9318 - categorical_accuracy: 0.1784 - val_loss: 3.5859 - val_categorical_accuracy: 0.0498\n",
      "Epoch 156/1000\n",
      "15/15 [==============================] - 4s 260ms/step - loss: 2.9153 - categorical_accuracy: 0.1987 - val_loss: 3.4905 - val_categorical_accuracy: 0.0572\n",
      "Epoch 157/1000\n",
      "15/15 [==============================] - 4s 265ms/step - loss: 2.9419 - categorical_accuracy: 0.2009 - val_loss: 3.4761 - val_categorical_accuracy: 0.0547\n",
      "Epoch 158/1000\n",
      "15/15 [==============================] - 4s 273ms/step - loss: 2.9579 - categorical_accuracy: 0.1848 - val_loss: 3.5712 - val_categorical_accuracy: 0.0572\n",
      "Epoch 159/1000\n",
      "15/15 [==============================] - 4s 273ms/step - loss: 2.9242 - categorical_accuracy: 0.1966 - val_loss: 3.5325 - val_categorical_accuracy: 0.0597\n",
      "Epoch 160/1000\n",
      "15/15 [==============================] - 4s 277ms/step - loss: 2.8974 - categorical_accuracy: 0.2019 - val_loss: 3.4845 - val_categorical_accuracy: 0.0572\n",
      "Epoch 161/1000\n",
      "15/15 [==============================] - 4s 267ms/step - loss: 2.8743 - categorical_accuracy: 0.2190 - val_loss: 3.4989 - val_categorical_accuracy: 0.0572\n",
      "Epoch 162/1000\n",
      "15/15 [==============================] - 4s 260ms/step - loss: 2.8793 - categorical_accuracy: 0.2105 - val_loss: 3.6007 - val_categorical_accuracy: 0.0647\n",
      "Epoch 163/1000\n",
      "15/15 [==============================] - 4s 271ms/step - loss: 2.9549 - categorical_accuracy: 0.1784 - val_loss: 3.6160 - val_categorical_accuracy: 0.0597\n",
      "Epoch 164/1000\n",
      "15/15 [==============================] - 4s 262ms/step - loss: 2.8439 - categorical_accuracy: 0.1934 - val_loss: 3.5504 - val_categorical_accuracy: 0.0597\n",
      "Epoch 165/1000\n",
      "15/15 [==============================] - 4s 270ms/step - loss: 2.8977 - categorical_accuracy: 0.1934 - val_loss: 3.5245 - val_categorical_accuracy: 0.0672\n",
      "Epoch 166/1000\n",
      "15/15 [==============================] - 4s 261ms/step - loss: 2.8372 - categorical_accuracy: 0.2041 - val_loss: 3.4768 - val_categorical_accuracy: 0.0622\n",
      "Epoch 167/1000\n",
      "15/15 [==============================] - 4s 259ms/step - loss: 2.8794 - categorical_accuracy: 0.1934 - val_loss: 3.4167 - val_categorical_accuracy: 0.0697\n",
      "Epoch 168/1000\n",
      "15/15 [==============================] - 4s 261ms/step - loss: 2.8251 - categorical_accuracy: 0.1934 - val_loss: 3.4312 - val_categorical_accuracy: 0.0796\n",
      "Epoch 169/1000\n",
      "15/15 [==============================] - 4s 261ms/step - loss: 2.8842 - categorical_accuracy: 0.2009 - val_loss: 3.5482 - val_categorical_accuracy: 0.0672\n",
      "Epoch 170/1000\n",
      "15/15 [==============================] - 4s 259ms/step - loss: 2.8519 - categorical_accuracy: 0.2083 - val_loss: 3.4447 - val_categorical_accuracy: 0.0746\n",
      "Epoch 171/1000\n",
      "15/15 [==============================] - 4s 260ms/step - loss: 2.8002 - categorical_accuracy: 0.2201 - val_loss: 3.4901 - val_categorical_accuracy: 0.0697\n",
      "Epoch 172/1000\n",
      "15/15 [==============================] - 4s 262ms/step - loss: 2.8293 - categorical_accuracy: 0.2051 - val_loss: 3.3794 - val_categorical_accuracy: 0.0846\n",
      "Epoch 173/1000\n",
      "15/15 [==============================] - 4s 266ms/step - loss: 2.8260 - categorical_accuracy: 0.2083 - val_loss: 3.4307 - val_categorical_accuracy: 0.0697\n",
      "Epoch 174/1000\n",
      "15/15 [==============================] - 4s 258ms/step - loss: 2.8282 - categorical_accuracy: 0.2019 - val_loss: 3.4148 - val_categorical_accuracy: 0.0771\n",
      "Epoch 175/1000\n",
      "15/15 [==============================] - 4s 258ms/step - loss: 2.8349 - categorical_accuracy: 0.2094 - val_loss: 3.6600 - val_categorical_accuracy: 0.0473\n",
      "Epoch 176/1000\n",
      "15/15 [==============================] - 4s 264ms/step - loss: 2.7955 - categorical_accuracy: 0.2062 - val_loss: 3.4454 - val_categorical_accuracy: 0.0697\n",
      "Epoch 177/1000\n",
      "15/15 [==============================] - 4s 260ms/step - loss: 2.7447 - categorical_accuracy: 0.2297 - val_loss: 3.4727 - val_categorical_accuracy: 0.0672\n",
      "Epoch 178/1000\n",
      "15/15 [==============================] - 4s 256ms/step - loss: 2.8138 - categorical_accuracy: 0.2030 - val_loss: 3.3110 - val_categorical_accuracy: 0.0846\n",
      "Epoch 179/1000\n",
      "15/15 [==============================] - 4s 267ms/step - loss: 2.8190 - categorical_accuracy: 0.2126 - val_loss: 3.5302 - val_categorical_accuracy: 0.0672\n",
      "Epoch 180/1000\n",
      "15/15 [==============================] - 4s 264ms/step - loss: 2.7435 - categorical_accuracy: 0.2212 - val_loss: 3.3199 - val_categorical_accuracy: 0.0871\n",
      "Epoch 181/1000\n",
      "15/15 [==============================] - 4s 268ms/step - loss: 2.8068 - categorical_accuracy: 0.2105 - val_loss: 3.4028 - val_categorical_accuracy: 0.0697\n",
      "Epoch 182/1000\n",
      "15/15 [==============================] - 4s 260ms/step - loss: 2.7729 - categorical_accuracy: 0.2265 - val_loss: 3.4017 - val_categorical_accuracy: 0.0672\n",
      "Epoch 183/1000\n",
      "15/15 [==============================] - 4s 260ms/step - loss: 2.7670 - categorical_accuracy: 0.2094 - val_loss: 3.4813 - val_categorical_accuracy: 0.0647\n",
      "Epoch 184/1000\n",
      "15/15 [==============================] - 4s 261ms/step - loss: 2.7742 - categorical_accuracy: 0.2350 - val_loss: 3.4084 - val_categorical_accuracy: 0.0796\n",
      "Epoch 185/1000\n",
      "15/15 [==============================] - 4s 299ms/step - loss: 2.7410 - categorical_accuracy: 0.2340 - val_loss: 3.4470 - val_categorical_accuracy: 0.0746\n",
      "Epoch 186/1000\n",
      "15/15 [==============================] - 5s 331ms/step - loss: 2.7269 - categorical_accuracy: 0.2265 - val_loss: 3.5076 - val_categorical_accuracy: 0.0672\n",
      "Epoch 187/1000\n",
      "15/15 [==============================] - 4s 287ms/step - loss: 2.7155 - categorical_accuracy: 0.2393 - val_loss: 3.3993 - val_categorical_accuracy: 0.0796\n",
      "Epoch 188/1000\n",
      "15/15 [==============================] - 4s 292ms/step - loss: 2.7279 - categorical_accuracy: 0.2179 - val_loss: 3.2487 - val_categorical_accuracy: 0.0945\n",
      "Epoch 189/1000\n",
      "15/15 [==============================] - 4s 280ms/step - loss: 2.7550 - categorical_accuracy: 0.2265 - val_loss: 3.3225 - val_categorical_accuracy: 0.0945\n",
      "Epoch 190/1000\n",
      "15/15 [==============================] - 4s 270ms/step - loss: 2.6845 - categorical_accuracy: 0.2457 - val_loss: 3.3621 - val_categorical_accuracy: 0.0871\n",
      "Epoch 191/1000\n",
      "15/15 [==============================] - 4s 263ms/step - loss: 2.6956 - categorical_accuracy: 0.2308 - val_loss: 3.4090 - val_categorical_accuracy: 0.0721\n",
      "Epoch 192/1000\n",
      "15/15 [==============================] - 4s 267ms/step - loss: 2.7050 - categorical_accuracy: 0.2308 - val_loss: 3.4187 - val_categorical_accuracy: 0.0821\n",
      "Epoch 193/1000\n"
     ]
    },
    {
     "name": "stdout",
     "output_type": "stream",
     "text": [
      "15/15 [==============================] - 4s 274ms/step - loss: 2.7133 - categorical_accuracy: 0.2318 - val_loss: 3.3076 - val_categorical_accuracy: 0.0920\n",
      "Epoch 194/1000\n",
      "15/15 [==============================] - 4s 274ms/step - loss: 2.6878 - categorical_accuracy: 0.2415 - val_loss: 3.4190 - val_categorical_accuracy: 0.0746\n",
      "Epoch 195/1000\n",
      "15/15 [==============================] - 4s 261ms/step - loss: 2.6622 - categorical_accuracy: 0.2361 - val_loss: 3.3642 - val_categorical_accuracy: 0.0970\n",
      "Epoch 196/1000\n",
      "15/15 [==============================] - 4s 261ms/step - loss: 2.6551 - categorical_accuracy: 0.2436 - val_loss: 3.1600 - val_categorical_accuracy: 0.1144\n",
      "Epoch 197/1000\n",
      "15/15 [==============================] - 4s 268ms/step - loss: 2.6903 - categorical_accuracy: 0.2382 - val_loss: 3.3657 - val_categorical_accuracy: 0.0871\n",
      "Epoch 198/1000\n",
      "15/15 [==============================] - 4s 283ms/step - loss: 2.6859 - categorical_accuracy: 0.2489 - val_loss: 3.2664 - val_categorical_accuracy: 0.1020\n",
      "Epoch 199/1000\n",
      "15/15 [==============================] - 4s 264ms/step - loss: 2.6132 - categorical_accuracy: 0.2500 - val_loss: 3.2218 - val_categorical_accuracy: 0.1070\n",
      "Epoch 200/1000\n",
      "15/15 [==============================] - 4s 271ms/step - loss: 2.6565 - categorical_accuracy: 0.2479 - val_loss: 3.2915 - val_categorical_accuracy: 0.0896\n",
      "Epoch 201/1000\n",
      "15/15 [==============================] - 4s 264ms/step - loss: 2.6631 - categorical_accuracy: 0.2244 - val_loss: 3.3202 - val_categorical_accuracy: 0.0920\n",
      "Epoch 202/1000\n",
      "15/15 [==============================] - 4s 266ms/step - loss: 2.5841 - categorical_accuracy: 0.2564 - val_loss: 3.3373 - val_categorical_accuracy: 0.0871\n",
      "Epoch 203/1000\n",
      "15/15 [==============================] - 4s 258ms/step - loss: 2.6572 - categorical_accuracy: 0.2361 - val_loss: 3.2609 - val_categorical_accuracy: 0.0995\n",
      "Epoch 204/1000\n",
      "15/15 [==============================] - 4s 275ms/step - loss: 2.5528 - categorical_accuracy: 0.2692 - val_loss: 3.3230 - val_categorical_accuracy: 0.0945\n",
      "Epoch 205/1000\n",
      "15/15 [==============================] - 4s 261ms/step - loss: 2.6395 - categorical_accuracy: 0.2479 - val_loss: 3.2869 - val_categorical_accuracy: 0.0970\n",
      "Epoch 206/1000\n",
      "15/15 [==============================] - 4s 265ms/step - loss: 2.6371 - categorical_accuracy: 0.2532 - val_loss: 3.4033 - val_categorical_accuracy: 0.0846\n",
      "Epoch 207/1000\n",
      "15/15 [==============================] - 4s 263ms/step - loss: 2.6076 - categorical_accuracy: 0.2436 - val_loss: 3.2266 - val_categorical_accuracy: 0.1144\n",
      "Epoch 208/1000\n",
      "15/15 [==============================] - 4s 269ms/step - loss: 2.6041 - categorical_accuracy: 0.2500 - val_loss: 3.3686 - val_categorical_accuracy: 0.0871\n",
      "Epoch 209/1000\n",
      "15/15 [==============================] - 4s 259ms/step - loss: 2.5534 - categorical_accuracy: 0.2436 - val_loss: 3.2673 - val_categorical_accuracy: 0.0945\n",
      "Epoch 210/1000\n",
      "15/15 [==============================] - 4s 260ms/step - loss: 2.6095 - categorical_accuracy: 0.2457 - val_loss: 3.3058 - val_categorical_accuracy: 0.0970\n",
      "Epoch 211/1000\n",
      "15/15 [==============================] - 4s 259ms/step - loss: 2.5924 - categorical_accuracy: 0.2596 - val_loss: 3.2569 - val_categorical_accuracy: 0.1070\n",
      "Epoch 212/1000\n",
      "15/15 [==============================] - 4s 276ms/step - loss: 2.5974 - categorical_accuracy: 0.2532 - val_loss: 3.0732 - val_categorical_accuracy: 0.1219\n",
      "Epoch 213/1000\n",
      "15/15 [==============================] - 4s 260ms/step - loss: 2.5944 - categorical_accuracy: 0.2447 - val_loss: 3.2948 - val_categorical_accuracy: 0.0945\n",
      "Epoch 214/1000\n",
      "15/15 [==============================] - 4s 273ms/step - loss: 2.5572 - categorical_accuracy: 0.2682 - val_loss: 3.2314 - val_categorical_accuracy: 0.0995\n",
      "Epoch 215/1000\n",
      "15/15 [==============================] - 5s 342ms/step - loss: 2.5425 - categorical_accuracy: 0.2618 - val_loss: 3.1953 - val_categorical_accuracy: 0.1144\n",
      "Epoch 216/1000\n",
      "15/15 [==============================] - 4s 268ms/step - loss: 2.5076 - categorical_accuracy: 0.2767 - val_loss: 3.4497 - val_categorical_accuracy: 0.0846\n",
      "Epoch 217/1000\n",
      "15/15 [==============================] - 4s 281ms/step - loss: 2.5970 - categorical_accuracy: 0.2532 - val_loss: 3.1908 - val_categorical_accuracy: 0.1045\n",
      "Epoch 218/1000\n",
      "15/15 [==============================] - 4s 267ms/step - loss: 2.5233 - categorical_accuracy: 0.2724 - val_loss: 3.2941 - val_categorical_accuracy: 0.0970\n",
      "Epoch 219/1000\n",
      "15/15 [==============================] - 4s 260ms/step - loss: 2.5268 - categorical_accuracy: 0.2724 - val_loss: 3.4010 - val_categorical_accuracy: 0.0821\n",
      "Epoch 220/1000\n",
      "15/15 [==============================] - 4s 270ms/step - loss: 2.5204 - categorical_accuracy: 0.2607 - val_loss: 3.2603 - val_categorical_accuracy: 0.0846\n",
      "Epoch 221/1000\n",
      "15/15 [==============================] - 4s 269ms/step - loss: 2.5691 - categorical_accuracy: 0.2682 - val_loss: 3.1237 - val_categorical_accuracy: 0.1119\n",
      "Epoch 222/1000\n",
      "15/15 [==============================] - 4s 274ms/step - loss: 2.4709 - categorical_accuracy: 0.2842 - val_loss: 3.3217 - val_categorical_accuracy: 0.0920\n",
      "Epoch 223/1000\n",
      "15/15 [==============================] - 4s 275ms/step - loss: 2.4667 - categorical_accuracy: 0.2821 - val_loss: 3.2621 - val_categorical_accuracy: 0.0945\n",
      "Epoch 224/1000\n",
      "15/15 [==============================] - 4s 271ms/step - loss: 2.4961 - categorical_accuracy: 0.2842 - val_loss: 3.4263 - val_categorical_accuracy: 0.0846\n",
      "Epoch 225/1000\n",
      "15/15 [==============================] - 4s 263ms/step - loss: 2.5129 - categorical_accuracy: 0.2618 - val_loss: 3.2170 - val_categorical_accuracy: 0.1095\n",
      "Epoch 226/1000\n",
      "15/15 [==============================] - 4s 261ms/step - loss: 2.5245 - categorical_accuracy: 0.2628 - val_loss: 3.3611 - val_categorical_accuracy: 0.0920\n",
      "Epoch 227/1000\n",
      "15/15 [==============================] - 4s 263ms/step - loss: 2.5236 - categorical_accuracy: 0.2778 - val_loss: 3.3006 - val_categorical_accuracy: 0.1144\n",
      "Epoch 228/1000\n",
      "15/15 [==============================] - 4s 263ms/step - loss: 2.5204 - categorical_accuracy: 0.2842 - val_loss: 3.1599 - val_categorical_accuracy: 0.1244\n",
      "Epoch 229/1000\n",
      "15/15 [==============================] - 4s 258ms/step - loss: 2.4967 - categorical_accuracy: 0.2703 - val_loss: 3.2029 - val_categorical_accuracy: 0.1070\n",
      "Epoch 230/1000\n",
      "15/15 [==============================] - 4s 264ms/step - loss: 2.4803 - categorical_accuracy: 0.2543 - val_loss: 3.1018 - val_categorical_accuracy: 0.1244\n",
      "Epoch 231/1000\n",
      "15/15 [==============================] - 4s 259ms/step - loss: 2.4866 - categorical_accuracy: 0.2810 - val_loss: 3.1287 - val_categorical_accuracy: 0.1169\n",
      "Epoch 232/1000\n",
      "15/15 [==============================] - 4s 260ms/step - loss: 2.5174 - categorical_accuracy: 0.2885 - val_loss: 3.1111 - val_categorical_accuracy: 0.1095\n",
      "Epoch 233/1000\n",
      "15/15 [==============================] - 4s 263ms/step - loss: 2.4580 - categorical_accuracy: 0.2660 - val_loss: 3.2698 - val_categorical_accuracy: 0.0970\n",
      "Epoch 234/1000\n",
      "15/15 [==============================] - 4s 258ms/step - loss: 2.5091 - categorical_accuracy: 0.2853 - val_loss: 3.0678 - val_categorical_accuracy: 0.1194\n",
      "Epoch 235/1000\n",
      "15/15 [==============================] - 4s 262ms/step - loss: 2.4595 - categorical_accuracy: 0.2970 - val_loss: 3.3194 - val_categorical_accuracy: 0.1070\n",
      "Epoch 236/1000\n",
      "15/15 [==============================] - 4s 267ms/step - loss: 2.4134 - categorical_accuracy: 0.2810 - val_loss: 3.4677 - val_categorical_accuracy: 0.0746\n",
      "Epoch 237/1000\n",
      "15/15 [==============================] - 4s 259ms/step - loss: 2.4561 - categorical_accuracy: 0.2863 - val_loss: 3.1392 - val_categorical_accuracy: 0.1219\n",
      "Epoch 238/1000\n",
      "15/15 [==============================] - 4s 272ms/step - loss: 2.4659 - categorical_accuracy: 0.2885 - val_loss: 3.2875 - val_categorical_accuracy: 0.1119\n",
      "Epoch 239/1000\n",
      "15/15 [==============================] - 4s 266ms/step - loss: 2.4569 - categorical_accuracy: 0.2970 - val_loss: 3.1420 - val_categorical_accuracy: 0.1095\n",
      "Epoch 240/1000\n",
      "15/15 [==============================] - 4s 264ms/step - loss: 2.4357 - categorical_accuracy: 0.2810 - val_loss: 3.2133 - val_categorical_accuracy: 0.1020\n",
      "Epoch 241/1000\n"
     ]
    },
    {
     "name": "stdout",
     "output_type": "stream",
     "text": [
      "15/15 [==============================] - 4s 265ms/step - loss: 2.4220 - categorical_accuracy: 0.2949 - val_loss: 3.2259 - val_categorical_accuracy: 0.1070\n",
      "Epoch 242/1000\n",
      "15/15 [==============================] - 4s 262ms/step - loss: 2.3797 - categorical_accuracy: 0.3024 - val_loss: 3.1776 - val_categorical_accuracy: 0.1169\n",
      "Epoch 243/1000\n",
      "15/15 [==============================] - 4s 267ms/step - loss: 2.4060 - categorical_accuracy: 0.3141 - val_loss: 3.2541 - val_categorical_accuracy: 0.1144\n",
      "Epoch 244/1000\n",
      "15/15 [==============================] - 4s 265ms/step - loss: 2.4106 - categorical_accuracy: 0.2981 - val_loss: 3.1154 - val_categorical_accuracy: 0.1119\n",
      "Epoch 245/1000\n",
      "15/15 [==============================] - 4s 265ms/step - loss: 2.4235 - categorical_accuracy: 0.2842 - val_loss: 3.1320 - val_categorical_accuracy: 0.1095\n",
      "Epoch 246/1000\n",
      "15/15 [==============================] - 4s 259ms/step - loss: 2.4151 - categorical_accuracy: 0.2821 - val_loss: 3.2327 - val_categorical_accuracy: 0.1119\n",
      "Epoch 247/1000\n",
      "15/15 [==============================] - 4s 261ms/step - loss: 2.3662 - categorical_accuracy: 0.3002 - val_loss: 3.2418 - val_categorical_accuracy: 0.1119\n",
      "Epoch 248/1000\n",
      "15/15 [==============================] - 4s 267ms/step - loss: 2.4081 - categorical_accuracy: 0.2821 - val_loss: 3.1862 - val_categorical_accuracy: 0.1169\n",
      "Epoch 249/1000\n",
      "15/15 [==============================] - 4s 261ms/step - loss: 2.3433 - categorical_accuracy: 0.3077 - val_loss: 3.2162 - val_categorical_accuracy: 0.1119\n",
      "Epoch 250/1000\n",
      "15/15 [==============================] - 4s 264ms/step - loss: 2.3589 - categorical_accuracy: 0.3109 - val_loss: 3.1955 - val_categorical_accuracy: 0.1318\n",
      "Epoch 251/1000\n",
      "15/15 [==============================] - 4s 262ms/step - loss: 2.3439 - categorical_accuracy: 0.3045 - val_loss: 3.1066 - val_categorical_accuracy: 0.1269\n",
      "Epoch 252/1000\n",
      "15/15 [==============================] - 4s 261ms/step - loss: 2.3216 - categorical_accuracy: 0.3130 - val_loss: 3.1761 - val_categorical_accuracy: 0.1169\n",
      "Epoch 253/1000\n",
      "15/15 [==============================] - 4s 263ms/step - loss: 2.3247 - categorical_accuracy: 0.3024 - val_loss: 3.1374 - val_categorical_accuracy: 0.1269\n",
      "Epoch 254/1000\n",
      "15/15 [==============================] - 4s 271ms/step - loss: 2.3872 - categorical_accuracy: 0.3088 - val_loss: 3.2447 - val_categorical_accuracy: 0.1194\n",
      "Epoch 255/1000\n",
      "15/15 [==============================] - 4s 266ms/step - loss: 2.3508 - categorical_accuracy: 0.3237 - val_loss: 3.1591 - val_categorical_accuracy: 0.1343\n",
      "Epoch 256/1000\n",
      "15/15 [==============================] - 4s 261ms/step - loss: 2.3407 - categorical_accuracy: 0.2895 - val_loss: 3.3066 - val_categorical_accuracy: 0.1144\n",
      "Epoch 257/1000\n",
      "15/15 [==============================] - 4s 262ms/step - loss: 2.3359 - categorical_accuracy: 0.3109 - val_loss: 3.2497 - val_categorical_accuracy: 0.1119\n",
      "Epoch 258/1000\n",
      "15/15 [==============================] - 4s 266ms/step - loss: 2.3541 - categorical_accuracy: 0.3013 - val_loss: 3.3209 - val_categorical_accuracy: 0.1070\n",
      "Epoch 259/1000\n",
      "15/15 [==============================] - 4s 266ms/step - loss: 2.3251 - categorical_accuracy: 0.3098 - val_loss: 3.2405 - val_categorical_accuracy: 0.1095\n",
      "Epoch 260/1000\n",
      "15/15 [==============================] - 4s 264ms/step - loss: 2.2980 - categorical_accuracy: 0.3216 - val_loss: 3.2680 - val_categorical_accuracy: 0.1070\n",
      "Epoch 261/1000\n",
      "15/15 [==============================] - 4s 260ms/step - loss: 2.3316 - categorical_accuracy: 0.3152 - val_loss: 3.2150 - val_categorical_accuracy: 0.1169\n",
      "Epoch 262/1000\n",
      "15/15 [==============================] - 4s 267ms/step - loss: 2.3411 - categorical_accuracy: 0.2949 - val_loss: 3.2698 - val_categorical_accuracy: 0.1020\n",
      "Epoch 263/1000\n",
      "15/15 [==============================] - 4s 262ms/step - loss: 2.3321 - categorical_accuracy: 0.3130 - val_loss: 3.1354 - val_categorical_accuracy: 0.1244\n",
      "Epoch 264/1000\n",
      "15/15 [==============================] - 4s 262ms/step - loss: 2.2824 - categorical_accuracy: 0.3141 - val_loss: 3.1930 - val_categorical_accuracy: 0.1169\n",
      "Epoch 265/1000\n",
      "15/15 [==============================] - 4s 263ms/step - loss: 2.3520 - categorical_accuracy: 0.3173 - val_loss: 3.2640 - val_categorical_accuracy: 0.1144\n",
      "Epoch 266/1000\n",
      "15/15 [==============================] - 4s 262ms/step - loss: 2.3562 - categorical_accuracy: 0.3045 - val_loss: 3.0861 - val_categorical_accuracy: 0.1368\n",
      "Epoch 267/1000\n",
      "15/15 [==============================] - 4s 265ms/step - loss: 2.2667 - categorical_accuracy: 0.3419 - val_loss: 3.0463 - val_categorical_accuracy: 0.1294\n",
      "Epoch 268/1000\n",
      "15/15 [==============================] - 4s 263ms/step - loss: 2.2632 - categorical_accuracy: 0.3280 - val_loss: 3.0627 - val_categorical_accuracy: 0.1318\n",
      "Epoch 269/1000\n",
      "15/15 [==============================] - 4s 267ms/step - loss: 2.2110 - categorical_accuracy: 0.3333 - val_loss: 3.2597 - val_categorical_accuracy: 0.1070\n",
      "Epoch 270/1000\n",
      "15/15 [==============================] - 4s 261ms/step - loss: 2.3001 - categorical_accuracy: 0.3130 - val_loss: 3.3148 - val_categorical_accuracy: 0.1070\n",
      "Epoch 271/1000\n",
      "15/15 [==============================] - 4s 265ms/step - loss: 2.2982 - categorical_accuracy: 0.3216 - val_loss: 3.1538 - val_categorical_accuracy: 0.1269\n",
      "Epoch 272/1000\n",
      "15/15 [==============================] - 4s 264ms/step - loss: 2.2452 - categorical_accuracy: 0.3291 - val_loss: 3.0214 - val_categorical_accuracy: 0.1294\n",
      "Epoch 273/1000\n",
      "15/15 [==============================] - 4s 267ms/step - loss: 2.2356 - categorical_accuracy: 0.3301 - val_loss: 3.1024 - val_categorical_accuracy: 0.1294\n",
      "Epoch 274/1000\n",
      "15/15 [==============================] - 4s 288ms/step - loss: 2.2628 - categorical_accuracy: 0.3387 - val_loss: 3.1319 - val_categorical_accuracy: 0.1368\n",
      "Epoch 275/1000\n",
      "15/15 [==============================] - 5s 337ms/step - loss: 2.2686 - categorical_accuracy: 0.3013 - val_loss: 3.1723 - val_categorical_accuracy: 0.1119\n",
      "Epoch 276/1000\n",
      "15/15 [==============================] - 4s 263ms/step - loss: 2.3138 - categorical_accuracy: 0.3184 - val_loss: 3.1280 - val_categorical_accuracy: 0.1294\n",
      "Epoch 277/1000\n",
      "15/15 [==============================] - 4s 271ms/step - loss: 2.1802 - categorical_accuracy: 0.3494 - val_loss: 3.0781 - val_categorical_accuracy: 0.1368\n",
      "Epoch 278/1000\n",
      "15/15 [==============================] - 4s 304ms/step - loss: 2.2166 - categorical_accuracy: 0.3408 - val_loss: 3.1985 - val_categorical_accuracy: 0.1194\n",
      "Epoch 279/1000\n",
      "15/15 [==============================] - 4s 281ms/step - loss: 2.2816 - categorical_accuracy: 0.3259 - val_loss: 3.0584 - val_categorical_accuracy: 0.1368\n",
      "Epoch 280/1000\n",
      "15/15 [==============================] - 4s 296ms/step - loss: 2.2443 - categorical_accuracy: 0.3397 - val_loss: 3.2415 - val_categorical_accuracy: 0.1020\n",
      "Epoch 281/1000\n",
      "15/15 [==============================] - 4s 285ms/step - loss: 2.2494 - categorical_accuracy: 0.3194 - val_loss: 3.3221 - val_categorical_accuracy: 0.1144\n",
      "Epoch 282/1000\n",
      "15/15 [==============================] - 4s 304ms/step - loss: 2.2474 - categorical_accuracy: 0.3365 - val_loss: 2.9848 - val_categorical_accuracy: 0.1542\n",
      "Epoch 283/1000\n",
      "15/15 [==============================] - 4s 296ms/step - loss: 2.2561 - categorical_accuracy: 0.3226 - val_loss: 3.0600 - val_categorical_accuracy: 0.1393\n",
      "Epoch 284/1000\n",
      "15/15 [==============================] - 4s 270ms/step - loss: 2.2396 - categorical_accuracy: 0.3280 - val_loss: 3.0086 - val_categorical_accuracy: 0.1493\n",
      "Epoch 285/1000\n",
      "15/15 [==============================] - 4s 278ms/step - loss: 2.2511 - categorical_accuracy: 0.3205 - val_loss: 3.1897 - val_categorical_accuracy: 0.1219\n",
      "Epoch 286/1000\n",
      "15/15 [==============================] - 4s 263ms/step - loss: 2.1835 - categorical_accuracy: 0.3483 - val_loss: 3.0019 - val_categorical_accuracy: 0.1493\n",
      "Epoch 287/1000\n",
      "15/15 [==============================] - 4s 264ms/step - loss: 2.2138 - categorical_accuracy: 0.3440 - val_loss: 3.0303 - val_categorical_accuracy: 0.1269\n",
      "Epoch 288/1000\n",
      "15/15 [==============================] - 4s 262ms/step - loss: 2.2143 - categorical_accuracy: 0.3280 - val_loss: 3.3405 - val_categorical_accuracy: 0.1020\n",
      "Epoch 289/1000\n"
     ]
    },
    {
     "name": "stdout",
     "output_type": "stream",
     "text": [
      "15/15 [==============================] - 4s 270ms/step - loss: 2.2065 - categorical_accuracy: 0.3344 - val_loss: 3.2616 - val_categorical_accuracy: 0.1194\n",
      "Epoch 290/1000\n",
      "15/15 [==============================] - 4s 266ms/step - loss: 2.2188 - categorical_accuracy: 0.3194 - val_loss: 3.1444 - val_categorical_accuracy: 0.1294\n",
      "Epoch 291/1000\n",
      "15/15 [==============================] - 4s 263ms/step - loss: 2.2085 - categorical_accuracy: 0.3397 - val_loss: 3.1506 - val_categorical_accuracy: 0.1244\n",
      "Epoch 292/1000\n",
      "15/15 [==============================] - 4s 262ms/step - loss: 2.2201 - categorical_accuracy: 0.3451 - val_loss: 3.1253 - val_categorical_accuracy: 0.1194\n",
      "Epoch 293/1000\n",
      "15/15 [==============================] - 4s 266ms/step - loss: 2.2413 - categorical_accuracy: 0.3162 - val_loss: 3.1109 - val_categorical_accuracy: 0.1219\n",
      "Epoch 294/1000\n",
      "15/15 [==============================] - 4s 262ms/step - loss: 2.1501 - categorical_accuracy: 0.3579 - val_loss: 3.1646 - val_categorical_accuracy: 0.1294\n",
      "Epoch 295/1000\n",
      "15/15 [==============================] - 4s 259ms/step - loss: 2.2055 - categorical_accuracy: 0.3376 - val_loss: 3.3131 - val_categorical_accuracy: 0.1144\n",
      "Epoch 296/1000\n",
      "15/15 [==============================] - 4s 258ms/step - loss: 2.1812 - categorical_accuracy: 0.3323 - val_loss: 3.1816 - val_categorical_accuracy: 0.1244\n",
      "Epoch 297/1000\n",
      "15/15 [==============================] - 4s 261ms/step - loss: 2.2146 - categorical_accuracy: 0.3184 - val_loss: 3.2589 - val_categorical_accuracy: 0.1144\n",
      "Epoch 298/1000\n",
      "15/15 [==============================] - 4s 273ms/step - loss: 2.1627 - categorical_accuracy: 0.3472 - val_loss: 2.9661 - val_categorical_accuracy: 0.1443\n",
      "Epoch 299/1000\n",
      "15/15 [==============================] - 4s 270ms/step - loss: 2.1260 - categorical_accuracy: 0.3761 - val_loss: 3.0585 - val_categorical_accuracy: 0.1418\n",
      "Epoch 300/1000\n",
      "15/15 [==============================] - 4s 263ms/step - loss: 2.1763 - categorical_accuracy: 0.3558 - val_loss: 3.1794 - val_categorical_accuracy: 0.1169\n",
      "Epoch 301/1000\n",
      "15/15 [==============================] - 4s 261ms/step - loss: 2.1388 - categorical_accuracy: 0.3643 - val_loss: 2.9885 - val_categorical_accuracy: 0.1493\n",
      "Epoch 302/1000\n",
      "15/15 [==============================] - 4s 263ms/step - loss: 2.1605 - categorical_accuracy: 0.3526 - val_loss: 3.1525 - val_categorical_accuracy: 0.1294\n",
      "Epoch 303/1000\n",
      "15/15 [==============================] - 4s 263ms/step - loss: 2.1449 - categorical_accuracy: 0.3665 - val_loss: 3.1368 - val_categorical_accuracy: 0.1343\n",
      "Epoch 304/1000\n",
      "15/15 [==============================] - 4s 266ms/step - loss: 2.1444 - categorical_accuracy: 0.3622 - val_loss: 3.1022 - val_categorical_accuracy: 0.1294\n",
      "Epoch 305/1000\n",
      "15/15 [==============================] - 4s 266ms/step - loss: 2.1448 - categorical_accuracy: 0.3504 - val_loss: 3.0450 - val_categorical_accuracy: 0.1443\n",
      "Epoch 306/1000\n",
      "15/15 [==============================] - 4s 275ms/step - loss: 2.1496 - categorical_accuracy: 0.3408 - val_loss: 3.0510 - val_categorical_accuracy: 0.1468\n",
      "Epoch 307/1000\n",
      "15/15 [==============================] - 4s 269ms/step - loss: 2.1656 - categorical_accuracy: 0.3611 - val_loss: 3.1573 - val_categorical_accuracy: 0.1269\n",
      "Epoch 308/1000\n",
      "15/15 [==============================] - 4s 262ms/step - loss: 2.1415 - categorical_accuracy: 0.3590 - val_loss: 3.2003 - val_categorical_accuracy: 0.1244\n",
      "Epoch 309/1000\n",
      "15/15 [==============================] - 4s 268ms/step - loss: 2.1253 - categorical_accuracy: 0.3547 - val_loss: 3.0474 - val_categorical_accuracy: 0.1393\n",
      "Epoch 310/1000\n",
      "15/15 [==============================] - 4s 266ms/step - loss: 2.1137 - categorical_accuracy: 0.3462 - val_loss: 3.0860 - val_categorical_accuracy: 0.1318\n",
      "Epoch 311/1000\n",
      "15/15 [==============================] - 4s 262ms/step - loss: 2.1524 - categorical_accuracy: 0.3632 - val_loss: 3.1186 - val_categorical_accuracy: 0.1443\n",
      "Epoch 312/1000\n",
      "15/15 [==============================] - 4s 272ms/step - loss: 2.0793 - categorical_accuracy: 0.3857 - val_loss: 3.1388 - val_categorical_accuracy: 0.1194\n",
      "Epoch 313/1000\n",
      "15/15 [==============================] - 4s 268ms/step - loss: 2.1098 - categorical_accuracy: 0.3547 - val_loss: 3.1281 - val_categorical_accuracy: 0.1393\n",
      "Epoch 314/1000\n",
      "15/15 [==============================] - 4s 266ms/step - loss: 2.1432 - categorical_accuracy: 0.3611 - val_loss: 3.0338 - val_categorical_accuracy: 0.1517\n",
      "Epoch 315/1000\n",
      "15/15 [==============================] - 4s 261ms/step - loss: 2.1307 - categorical_accuracy: 0.3504 - val_loss: 3.1253 - val_categorical_accuracy: 0.1318\n",
      "Epoch 316/1000\n",
      "15/15 [==============================] - 4s 261ms/step - loss: 2.1221 - categorical_accuracy: 0.3729 - val_loss: 3.1708 - val_categorical_accuracy: 0.1194\n",
      "Epoch 317/1000\n",
      "15/15 [==============================] - 4s 264ms/step - loss: 2.1697 - categorical_accuracy: 0.3526 - val_loss: 3.0574 - val_categorical_accuracy: 0.1318\n",
      "Epoch 318/1000\n",
      "15/15 [==============================] - 4s 260ms/step - loss: 2.1105 - categorical_accuracy: 0.3686 - val_loss: 3.0182 - val_categorical_accuracy: 0.1617\n",
      "Epoch 319/1000\n",
      "15/15 [==============================] - 4s 262ms/step - loss: 2.0468 - categorical_accuracy: 0.3889 - val_loss: 3.1670 - val_categorical_accuracy: 0.1343\n",
      "Epoch 320/1000\n",
      "15/15 [==============================] - 4s 263ms/step - loss: 2.1082 - categorical_accuracy: 0.3761 - val_loss: 3.1552 - val_categorical_accuracy: 0.1393\n",
      "Epoch 321/1000\n",
      "15/15 [==============================] - 4s 264ms/step - loss: 2.0887 - categorical_accuracy: 0.3622 - val_loss: 3.2892 - val_categorical_accuracy: 0.1244\n",
      "Epoch 322/1000\n",
      "15/15 [==============================] - 4s 263ms/step - loss: 2.1450 - categorical_accuracy: 0.3590 - val_loss: 3.1150 - val_categorical_accuracy: 0.1368\n",
      "Epoch 323/1000\n",
      "15/15 [==============================] - 4s 259ms/step - loss: 2.1179 - categorical_accuracy: 0.3643 - val_loss: 3.0732 - val_categorical_accuracy: 0.1443\n",
      "Epoch 324/1000\n",
      "15/15 [==============================] - 4s 265ms/step - loss: 2.0618 - categorical_accuracy: 0.3590 - val_loss: 3.0644 - val_categorical_accuracy: 0.1592\n",
      "Epoch 325/1000\n",
      "15/15 [==============================] - 4s 264ms/step - loss: 2.0531 - categorical_accuracy: 0.3654 - val_loss: 3.1664 - val_categorical_accuracy: 0.1368\n",
      "Epoch 326/1000\n",
      "15/15 [==============================] - 4s 266ms/step - loss: 2.0904 - categorical_accuracy: 0.3536 - val_loss: 3.0490 - val_categorical_accuracy: 0.1443\n",
      "Epoch 327/1000\n",
      "15/15 [==============================] - 4s 264ms/step - loss: 2.0676 - categorical_accuracy: 0.3643 - val_loss: 3.2225 - val_categorical_accuracy: 0.1169\n",
      "Epoch 328/1000\n",
      "15/15 [==============================] - 4s 276ms/step - loss: 2.0580 - categorical_accuracy: 0.3590 - val_loss: 3.1966 - val_categorical_accuracy: 0.1294\n",
      "Epoch 329/1000\n",
      "15/15 [==============================] - 4s 271ms/step - loss: 2.0249 - categorical_accuracy: 0.3803 - val_loss: 3.2953 - val_categorical_accuracy: 0.1294\n",
      "Epoch 330/1000\n",
      "15/15 [==============================] - 4s 264ms/step - loss: 2.0459 - categorical_accuracy: 0.3750 - val_loss: 3.0782 - val_categorical_accuracy: 0.1418\n",
      "Epoch 331/1000\n",
      "15/15 [==============================] - 4s 263ms/step - loss: 2.1199 - categorical_accuracy: 0.3526 - val_loss: 3.1739 - val_categorical_accuracy: 0.1368\n",
      "Epoch 332/1000\n",
      "15/15 [==============================] - 4s 264ms/step - loss: 2.0465 - categorical_accuracy: 0.3675 - val_loss: 3.1316 - val_categorical_accuracy: 0.1318\n",
      "Epoch 333/1000\n",
      "15/15 [==============================] - 4s 264ms/step - loss: 2.0595 - categorical_accuracy: 0.3568 - val_loss: 3.0354 - val_categorical_accuracy: 0.1493\n",
      "Epoch 334/1000\n",
      "15/15 [==============================] - 4s 265ms/step - loss: 2.0489 - categorical_accuracy: 0.3942 - val_loss: 3.1692 - val_categorical_accuracy: 0.1269\n",
      "Epoch 335/1000\n",
      "15/15 [==============================] - 4s 267ms/step - loss: 2.0800 - categorical_accuracy: 0.3536 - val_loss: 3.2292 - val_categorical_accuracy: 0.1169\n",
      "Epoch 336/1000\n",
      "15/15 [==============================] - 4s 265ms/step - loss: 2.0929 - categorical_accuracy: 0.3729 - val_loss: 3.1763 - val_categorical_accuracy: 0.1269\n",
      "Epoch 337/1000\n"
     ]
    },
    {
     "name": "stdout",
     "output_type": "stream",
     "text": [
      "15/15 [==============================] - 4s 262ms/step - loss: 2.0359 - categorical_accuracy: 0.3974 - val_loss: 3.2861 - val_categorical_accuracy: 0.1194\n",
      "Epoch 338/1000\n",
      "15/15 [==============================] - 4s 260ms/step - loss: 2.0179 - categorical_accuracy: 0.3729 - val_loss: 3.3326 - val_categorical_accuracy: 0.1244\n",
      "Epoch 339/1000\n",
      "15/15 [==============================] - 4s 263ms/step - loss: 1.9970 - categorical_accuracy: 0.3846 - val_loss: 3.1749 - val_categorical_accuracy: 0.1343\n",
      "Epoch 340/1000\n",
      "15/15 [==============================] - 4s 261ms/step - loss: 2.0076 - categorical_accuracy: 0.3835 - val_loss: 3.1767 - val_categorical_accuracy: 0.1244\n",
      "Epoch 341/1000\n",
      "15/15 [==============================] - 4s 259ms/step - loss: 2.0389 - categorical_accuracy: 0.3835 - val_loss: 3.0772 - val_categorical_accuracy: 0.1368\n",
      "Epoch 342/1000\n",
      "15/15 [==============================] - 4s 265ms/step - loss: 1.9971 - categorical_accuracy: 0.3857 - val_loss: 3.2752 - val_categorical_accuracy: 0.1269\n",
      "Epoch 343/1000\n",
      "15/15 [==============================] - 4s 261ms/step - loss: 2.0430 - categorical_accuracy: 0.3932 - val_loss: 3.0301 - val_categorical_accuracy: 0.1642\n",
      "Epoch 344/1000\n",
      "15/15 [==============================] - 4s 274ms/step - loss: 2.0240 - categorical_accuracy: 0.3761 - val_loss: 3.0817 - val_categorical_accuracy: 0.1517\n",
      "Epoch 345/1000\n",
      "15/15 [==============================] - 4s 264ms/step - loss: 1.9838 - categorical_accuracy: 0.4092 - val_loss: 3.1614 - val_categorical_accuracy: 0.1393\n",
      "Epoch 346/1000\n",
      "15/15 [==============================] - 4s 261ms/step - loss: 1.9536 - categorical_accuracy: 0.4049 - val_loss: 3.2857 - val_categorical_accuracy: 0.1418\n",
      "Epoch 347/1000\n",
      "15/15 [==============================] - 4s 267ms/step - loss: 2.0434 - categorical_accuracy: 0.3750 - val_loss: 3.2468 - val_categorical_accuracy: 0.1368\n",
      "Epoch 348/1000\n",
      "15/15 [==============================] - 4s 261ms/step - loss: 2.0103 - categorical_accuracy: 0.3889 - val_loss: 3.1574 - val_categorical_accuracy: 0.1368\n",
      "Epoch 349/1000\n",
      "15/15 [==============================] - 4s 293ms/step - loss: 1.9627 - categorical_accuracy: 0.3868 - val_loss: 3.2359 - val_categorical_accuracy: 0.1368\n",
      "Epoch 350/1000\n",
      "15/15 [==============================] - 5s 317ms/step - loss: 2.0051 - categorical_accuracy: 0.3889 - val_loss: 2.9871 - val_categorical_accuracy: 0.1642\n",
      "Epoch 351/1000\n",
      "15/15 [==============================] - 4s 283ms/step - loss: 2.0418 - categorical_accuracy: 0.3697 - val_loss: 3.1094 - val_categorical_accuracy: 0.1368\n",
      "Epoch 352/1000\n",
      "15/15 [==============================] - 4s 270ms/step - loss: 1.9801 - categorical_accuracy: 0.4049 - val_loss: 3.1181 - val_categorical_accuracy: 0.1443\n",
      "Epoch 353/1000\n",
      "15/15 [==============================] - 4s 262ms/step - loss: 1.9766 - categorical_accuracy: 0.3718 - val_loss: 3.0272 - val_categorical_accuracy: 0.1542\n",
      "Epoch 354/1000\n",
      "15/15 [==============================] - 4s 263ms/step - loss: 2.0181 - categorical_accuracy: 0.3878 - val_loss: 3.0981 - val_categorical_accuracy: 0.1592\n",
      "Epoch 355/1000\n",
      "15/15 [==============================] - 4s 262ms/step - loss: 1.9975 - categorical_accuracy: 0.3846 - val_loss: 3.1915 - val_categorical_accuracy: 0.1294\n",
      "Epoch 356/1000\n",
      "15/15 [==============================] - 4s 268ms/step - loss: 1.9979 - categorical_accuracy: 0.3868 - val_loss: 3.1174 - val_categorical_accuracy: 0.1294\n",
      "Epoch 357/1000\n",
      "15/15 [==============================] - 4s 298ms/step - loss: 2.0170 - categorical_accuracy: 0.4049 - val_loss: 3.2447 - val_categorical_accuracy: 0.1269\n",
      "Epoch 358/1000\n",
      "15/15 [==============================] - 4s 287ms/step - loss: 1.9675 - categorical_accuracy: 0.4038 - val_loss: 2.9894 - val_categorical_accuracy: 0.1716\n",
      "Epoch 359/1000\n",
      "15/15 [==============================] - 4s 271ms/step - loss: 1.9841 - categorical_accuracy: 0.3900 - val_loss: 2.9866 - val_categorical_accuracy: 0.1667\n",
      "Epoch 360/1000\n",
      "15/15 [==============================] - 4s 271ms/step - loss: 1.9423 - categorical_accuracy: 0.4028 - val_loss: 3.0092 - val_categorical_accuracy: 0.1642\n",
      "Epoch 361/1000\n",
      "15/15 [==============================] - 4s 271ms/step - loss: 1.9682 - categorical_accuracy: 0.3771 - val_loss: 3.1557 - val_categorical_accuracy: 0.1617\n",
      "Epoch 362/1000\n",
      "15/15 [==============================] - 4s 282ms/step - loss: 1.9542 - categorical_accuracy: 0.3964 - val_loss: 3.2070 - val_categorical_accuracy: 0.1294\n",
      "Epoch 363/1000\n",
      "15/15 [==============================] - 4s 275ms/step - loss: 1.9829 - categorical_accuracy: 0.4103 - val_loss: 3.0872 - val_categorical_accuracy: 0.1368\n",
      "Epoch 364/1000\n",
      "15/15 [==============================] - 4s 288ms/step - loss: 1.9637 - categorical_accuracy: 0.3996 - val_loss: 3.1284 - val_categorical_accuracy: 0.1418\n",
      "Epoch 365/1000\n",
      "15/15 [==============================] - 4s 267ms/step - loss: 1.9738 - categorical_accuracy: 0.4017 - val_loss: 3.0468 - val_categorical_accuracy: 0.1567\n",
      "Epoch 366/1000\n",
      "15/15 [==============================] - 4s 279ms/step - loss: 1.9665 - categorical_accuracy: 0.3996 - val_loss: 3.0888 - val_categorical_accuracy: 0.1542\n",
      "Epoch 367/1000\n",
      "15/15 [==============================] - 4s 288ms/step - loss: 1.9464 - categorical_accuracy: 0.4006 - val_loss: 3.1586 - val_categorical_accuracy: 0.1617\n",
      "Epoch 368/1000\n",
      "15/15 [==============================] - 4s 265ms/step - loss: 1.8674 - categorical_accuracy: 0.4241 - val_loss: 3.1521 - val_categorical_accuracy: 0.1567\n",
      "Epoch 369/1000\n",
      "15/15 [==============================] - 4s 265ms/step - loss: 1.9373 - categorical_accuracy: 0.4071 - val_loss: 3.2499 - val_categorical_accuracy: 0.1418\n",
      "Epoch 370/1000\n",
      "15/15 [==============================] - 4s 266ms/step - loss: 1.9153 - categorical_accuracy: 0.3953 - val_loss: 3.2591 - val_categorical_accuracy: 0.1493\n",
      "Epoch 371/1000\n",
      "15/15 [==============================] - 4s 261ms/step - loss: 1.9716 - categorical_accuracy: 0.4071 - val_loss: 3.1538 - val_categorical_accuracy: 0.1493\n",
      "Epoch 372/1000\n",
      "15/15 [==============================] - 4s 275ms/step - loss: 1.8581 - categorical_accuracy: 0.4274 - val_loss: 3.0715 - val_categorical_accuracy: 0.1468\n",
      "Epoch 373/1000\n",
      "15/15 [==============================] - 4s 284ms/step - loss: 1.9472 - categorical_accuracy: 0.4038 - val_loss: 3.1389 - val_categorical_accuracy: 0.1567\n",
      "Epoch 374/1000\n",
      "15/15 [==============================] - 4s 272ms/step - loss: 1.8955 - categorical_accuracy: 0.4252 - val_loss: 3.0908 - val_categorical_accuracy: 0.1692\n",
      "Epoch 375/1000\n",
      "15/15 [==============================] - 4s 273ms/step - loss: 1.9524 - categorical_accuracy: 0.3846 - val_loss: 3.1540 - val_categorical_accuracy: 0.1542\n",
      "Epoch 376/1000\n",
      "15/15 [==============================] - 4s 269ms/step - loss: 1.8978 - categorical_accuracy: 0.4071 - val_loss: 3.2509 - val_categorical_accuracy: 0.1393\n",
      "Epoch 377/1000\n",
      "15/15 [==============================] - 4s 275ms/step - loss: 1.9341 - categorical_accuracy: 0.4220 - val_loss: 3.2611 - val_categorical_accuracy: 0.1318\n",
      "Epoch 378/1000\n",
      "15/15 [==============================] - 4s 270ms/step - loss: 1.9157 - categorical_accuracy: 0.3953 - val_loss: 3.1753 - val_categorical_accuracy: 0.1542\n",
      "Epoch 379/1000\n",
      "13/15 [=========================>....] - ETA: 0s - loss: 1.9393 - categorical_accuracy: 0.4026"
     ]
    },
    {
     "ename": "KeyboardInterrupt",
     "evalue": "",
     "output_type": "error",
     "traceback": [
      "\u001b[0;31m---------------------------------------------------------------------------\u001b[0m",
      "\u001b[0;31mKeyboardInterrupt\u001b[0m                         Traceback (most recent call last)",
      "Cell \u001b[0;32mIn[43], line 15\u001b[0m\n\u001b[1;32m     12\u001b[0m optimizer \u001b[38;5;241m=\u001b[39m Lion(learning_rate\u001b[38;5;241m=\u001b[39m\u001b[38;5;241m.00005\u001b[39m,global_clipnorm\u001b[38;5;241m=\u001b[39m\u001b[38;5;241m.25\u001b[39m)\n\u001b[1;32m     13\u001b[0m model\u001b[38;5;241m.\u001b[39mcompile(optimizer\u001b[38;5;241m=\u001b[39moptimizer, loss\u001b[38;5;241m=\u001b[39m\u001b[38;5;124m'\u001b[39m\u001b[38;5;124mcategorical_crossentropy\u001b[39m\u001b[38;5;124m'\u001b[39m, metrics\u001b[38;5;241m=\u001b[39m[\u001b[38;5;124m'\u001b[39m\u001b[38;5;124mcategorical_accuracy\u001b[39m\u001b[38;5;124m'\u001b[39m])\n\u001b[0;32m---> 15\u001b[0m history \u001b[38;5;241m=\u001b[39m \u001b[43mmodel\u001b[49m\u001b[38;5;241;43m.\u001b[39;49m\u001b[43mfit\u001b[49m\u001b[43m(\u001b[49m\u001b[43mXtrain\u001b[49m\u001b[43m,\u001b[49m\u001b[43m \u001b[49m\u001b[43mYtrain\u001b[49m\u001b[43m,\u001b[49m\u001b[43m \u001b[49m\u001b[43mepochs\u001b[49m\u001b[38;5;241;43m=\u001b[39;49m\u001b[38;5;241;43m1000\u001b[39;49m\u001b[43m,\u001b[49m\u001b[43m \u001b[49m\u001b[43mvalidation_split\u001b[49m\u001b[38;5;241;43m=\u001b[39;49m\u001b[38;5;241;43m.3\u001b[39;49m\u001b[43m,\u001b[49m\u001b[43m \u001b[49m\u001b[43mbatch_size\u001b[49m\u001b[43m \u001b[49m\u001b[38;5;241;43m=\u001b[39;49m\u001b[43m \u001b[49m\u001b[38;5;241;43m64\u001b[39;49m\u001b[43m,\u001b[49m\u001b[43m \u001b[49m\u001b[43mcallbacks\u001b[49m\u001b[38;5;241;43m=\u001b[39;49m\u001b[43m[\u001b[49m\u001b[43mtb_callback\u001b[49m\u001b[43m]\u001b[49m\u001b[43m)\u001b[49m\n\u001b[1;32m     16\u001b[0m model\u001b[38;5;241m.\u001b[39msummary()\n",
      "File \u001b[0;32m~/miniconda3/lib/python3.10/site-packages/keras/src/utils/traceback_utils.py:65\u001b[0m, in \u001b[0;36mfilter_traceback.<locals>.error_handler\u001b[0;34m(*args, **kwargs)\u001b[0m\n\u001b[1;32m     63\u001b[0m filtered_tb \u001b[38;5;241m=\u001b[39m \u001b[38;5;28;01mNone\u001b[39;00m\n\u001b[1;32m     64\u001b[0m \u001b[38;5;28;01mtry\u001b[39;00m:\n\u001b[0;32m---> 65\u001b[0m     \u001b[38;5;28;01mreturn\u001b[39;00m \u001b[43mfn\u001b[49m\u001b[43m(\u001b[49m\u001b[38;5;241;43m*\u001b[39;49m\u001b[43margs\u001b[49m\u001b[43m,\u001b[49m\u001b[43m \u001b[49m\u001b[38;5;241;43m*\u001b[39;49m\u001b[38;5;241;43m*\u001b[39;49m\u001b[43mkwargs\u001b[49m\u001b[43m)\u001b[49m\n\u001b[1;32m     66\u001b[0m \u001b[38;5;28;01mexcept\u001b[39;00m \u001b[38;5;167;01mException\u001b[39;00m \u001b[38;5;28;01mas\u001b[39;00m e:\n\u001b[1;32m     67\u001b[0m     filtered_tb \u001b[38;5;241m=\u001b[39m _process_traceback_frames(e\u001b[38;5;241m.\u001b[39m__traceback__)\n",
      "File \u001b[0;32m~/miniconda3/lib/python3.10/site-packages/keras/src/engine/training.py:1742\u001b[0m, in \u001b[0;36mModel.fit\u001b[0;34m(self, x, y, batch_size, epochs, verbose, callbacks, validation_split, validation_data, shuffle, class_weight, sample_weight, initial_epoch, steps_per_epoch, validation_steps, validation_batch_size, validation_freq, max_queue_size, workers, use_multiprocessing)\u001b[0m\n\u001b[1;32m   1734\u001b[0m \u001b[38;5;28;01mwith\u001b[39;00m tf\u001b[38;5;241m.\u001b[39mprofiler\u001b[38;5;241m.\u001b[39mexperimental\u001b[38;5;241m.\u001b[39mTrace(\n\u001b[1;32m   1735\u001b[0m     \u001b[38;5;124m\"\u001b[39m\u001b[38;5;124mtrain\u001b[39m\u001b[38;5;124m\"\u001b[39m,\n\u001b[1;32m   1736\u001b[0m     epoch_num\u001b[38;5;241m=\u001b[39mepoch,\n\u001b[0;32m   (...)\u001b[0m\n\u001b[1;32m   1739\u001b[0m     _r\u001b[38;5;241m=\u001b[39m\u001b[38;5;241m1\u001b[39m,\n\u001b[1;32m   1740\u001b[0m ):\n\u001b[1;32m   1741\u001b[0m     callbacks\u001b[38;5;241m.\u001b[39mon_train_batch_begin(step)\n\u001b[0;32m-> 1742\u001b[0m     tmp_logs \u001b[38;5;241m=\u001b[39m \u001b[38;5;28;43mself\u001b[39;49m\u001b[38;5;241;43m.\u001b[39;49m\u001b[43mtrain_function\u001b[49m\u001b[43m(\u001b[49m\u001b[43miterator\u001b[49m\u001b[43m)\u001b[49m\n\u001b[1;32m   1743\u001b[0m     \u001b[38;5;28;01mif\u001b[39;00m data_handler\u001b[38;5;241m.\u001b[39mshould_sync:\n\u001b[1;32m   1744\u001b[0m         context\u001b[38;5;241m.\u001b[39masync_wait()\n",
      "File \u001b[0;32m~/miniconda3/lib/python3.10/site-packages/tensorflow/python/util/traceback_utils.py:150\u001b[0m, in \u001b[0;36mfilter_traceback.<locals>.error_handler\u001b[0;34m(*args, **kwargs)\u001b[0m\n\u001b[1;32m    148\u001b[0m filtered_tb \u001b[38;5;241m=\u001b[39m \u001b[38;5;28;01mNone\u001b[39;00m\n\u001b[1;32m    149\u001b[0m \u001b[38;5;28;01mtry\u001b[39;00m:\n\u001b[0;32m--> 150\u001b[0m   \u001b[38;5;28;01mreturn\u001b[39;00m \u001b[43mfn\u001b[49m\u001b[43m(\u001b[49m\u001b[38;5;241;43m*\u001b[39;49m\u001b[43margs\u001b[49m\u001b[43m,\u001b[49m\u001b[43m \u001b[49m\u001b[38;5;241;43m*\u001b[39;49m\u001b[38;5;241;43m*\u001b[39;49m\u001b[43mkwargs\u001b[49m\u001b[43m)\u001b[49m\n\u001b[1;32m    151\u001b[0m \u001b[38;5;28;01mexcept\u001b[39;00m \u001b[38;5;167;01mException\u001b[39;00m \u001b[38;5;28;01mas\u001b[39;00m e:\n\u001b[1;32m    152\u001b[0m   filtered_tb \u001b[38;5;241m=\u001b[39m _process_traceback_frames(e\u001b[38;5;241m.\u001b[39m__traceback__)\n",
      "File \u001b[0;32m~/miniconda3/lib/python3.10/site-packages/tensorflow/python/eager/polymorphic_function/polymorphic_function.py:825\u001b[0m, in \u001b[0;36mFunction.__call__\u001b[0;34m(self, *args, **kwds)\u001b[0m\n\u001b[1;32m    822\u001b[0m compiler \u001b[38;5;241m=\u001b[39m \u001b[38;5;124m\"\u001b[39m\u001b[38;5;124mxla\u001b[39m\u001b[38;5;124m\"\u001b[39m \u001b[38;5;28;01mif\u001b[39;00m \u001b[38;5;28mself\u001b[39m\u001b[38;5;241m.\u001b[39m_jit_compile \u001b[38;5;28;01melse\u001b[39;00m \u001b[38;5;124m\"\u001b[39m\u001b[38;5;124mnonXla\u001b[39m\u001b[38;5;124m\"\u001b[39m\n\u001b[1;32m    824\u001b[0m \u001b[38;5;28;01mwith\u001b[39;00m OptionalXlaContext(\u001b[38;5;28mself\u001b[39m\u001b[38;5;241m.\u001b[39m_jit_compile):\n\u001b[0;32m--> 825\u001b[0m   result \u001b[38;5;241m=\u001b[39m \u001b[38;5;28;43mself\u001b[39;49m\u001b[38;5;241;43m.\u001b[39;49m\u001b[43m_call\u001b[49m\u001b[43m(\u001b[49m\u001b[38;5;241;43m*\u001b[39;49m\u001b[43margs\u001b[49m\u001b[43m,\u001b[49m\u001b[43m \u001b[49m\u001b[38;5;241;43m*\u001b[39;49m\u001b[38;5;241;43m*\u001b[39;49m\u001b[43mkwds\u001b[49m\u001b[43m)\u001b[49m\n\u001b[1;32m    827\u001b[0m new_tracing_count \u001b[38;5;241m=\u001b[39m \u001b[38;5;28mself\u001b[39m\u001b[38;5;241m.\u001b[39mexperimental_get_tracing_count()\n\u001b[1;32m    828\u001b[0m without_tracing \u001b[38;5;241m=\u001b[39m (tracing_count \u001b[38;5;241m==\u001b[39m new_tracing_count)\n",
      "File \u001b[0;32m~/miniconda3/lib/python3.10/site-packages/tensorflow/python/eager/polymorphic_function/polymorphic_function.py:857\u001b[0m, in \u001b[0;36mFunction._call\u001b[0;34m(self, *args, **kwds)\u001b[0m\n\u001b[1;32m    854\u001b[0m   \u001b[38;5;28mself\u001b[39m\u001b[38;5;241m.\u001b[39m_lock\u001b[38;5;241m.\u001b[39mrelease()\n\u001b[1;32m    855\u001b[0m   \u001b[38;5;66;03m# In this case we have created variables on the first call, so we run the\u001b[39;00m\n\u001b[1;32m    856\u001b[0m   \u001b[38;5;66;03m# defunned version which is guaranteed to never create variables.\u001b[39;00m\n\u001b[0;32m--> 857\u001b[0m   \u001b[38;5;28;01mreturn\u001b[39;00m \u001b[38;5;28;43mself\u001b[39;49m\u001b[38;5;241;43m.\u001b[39;49m\u001b[43m_no_variable_creation_fn\u001b[49m\u001b[43m(\u001b[49m\u001b[38;5;241;43m*\u001b[39;49m\u001b[43margs\u001b[49m\u001b[43m,\u001b[49m\u001b[43m \u001b[49m\u001b[38;5;241;43m*\u001b[39;49m\u001b[38;5;241;43m*\u001b[39;49m\u001b[43mkwds\u001b[49m\u001b[43m)\u001b[49m  \u001b[38;5;66;03m# pylint: disable=not-callable\u001b[39;00m\n\u001b[1;32m    858\u001b[0m \u001b[38;5;28;01melif\u001b[39;00m \u001b[38;5;28mself\u001b[39m\u001b[38;5;241m.\u001b[39m_variable_creation_fn \u001b[38;5;129;01mis\u001b[39;00m \u001b[38;5;129;01mnot\u001b[39;00m \u001b[38;5;28;01mNone\u001b[39;00m:\n\u001b[1;32m    859\u001b[0m   \u001b[38;5;66;03m# Release the lock early so that multiple threads can perform the call\u001b[39;00m\n\u001b[1;32m    860\u001b[0m   \u001b[38;5;66;03m# in parallel.\u001b[39;00m\n\u001b[1;32m    861\u001b[0m   \u001b[38;5;28mself\u001b[39m\u001b[38;5;241m.\u001b[39m_lock\u001b[38;5;241m.\u001b[39mrelease()\n",
      "File \u001b[0;32m~/miniconda3/lib/python3.10/site-packages/tensorflow/python/eager/polymorphic_function/tracing_compiler.py:148\u001b[0m, in \u001b[0;36mTracingCompiler.__call__\u001b[0;34m(self, *args, **kwargs)\u001b[0m\n\u001b[1;32m    145\u001b[0m \u001b[38;5;28;01mwith\u001b[39;00m \u001b[38;5;28mself\u001b[39m\u001b[38;5;241m.\u001b[39m_lock:\n\u001b[1;32m    146\u001b[0m   (concrete_function,\n\u001b[1;32m    147\u001b[0m    filtered_flat_args) \u001b[38;5;241m=\u001b[39m \u001b[38;5;28mself\u001b[39m\u001b[38;5;241m.\u001b[39m_maybe_define_function(args, kwargs)\n\u001b[0;32m--> 148\u001b[0m \u001b[38;5;28;01mreturn\u001b[39;00m \u001b[43mconcrete_function\u001b[49m\u001b[38;5;241;43m.\u001b[39;49m\u001b[43m_call_flat\u001b[49m\u001b[43m(\u001b[49m\n\u001b[1;32m    149\u001b[0m \u001b[43m    \u001b[49m\u001b[43mfiltered_flat_args\u001b[49m\u001b[43m,\u001b[49m\u001b[43m \u001b[49m\u001b[43mcaptured_inputs\u001b[49m\u001b[38;5;241;43m=\u001b[39;49m\u001b[43mconcrete_function\u001b[49m\u001b[38;5;241;43m.\u001b[39;49m\u001b[43mcaptured_inputs\u001b[49m\u001b[43m)\u001b[49m\n",
      "File \u001b[0;32m~/miniconda3/lib/python3.10/site-packages/tensorflow/python/eager/polymorphic_function/monomorphic_function.py:1349\u001b[0m, in \u001b[0;36mConcreteFunction._call_flat\u001b[0;34m(self, args, captured_inputs)\u001b[0m\n\u001b[1;32m   1345\u001b[0m possible_gradient_type \u001b[38;5;241m=\u001b[39m gradients_util\u001b[38;5;241m.\u001b[39mPossibleTapeGradientTypes(args)\n\u001b[1;32m   1346\u001b[0m \u001b[38;5;28;01mif\u001b[39;00m (possible_gradient_type \u001b[38;5;241m==\u001b[39m gradients_util\u001b[38;5;241m.\u001b[39mPOSSIBLE_GRADIENT_TYPES_NONE\n\u001b[1;32m   1347\u001b[0m     \u001b[38;5;129;01mand\u001b[39;00m executing_eagerly):\n\u001b[1;32m   1348\u001b[0m   \u001b[38;5;66;03m# No tape is watching; skip to running the function.\u001b[39;00m\n\u001b[0;32m-> 1349\u001b[0m   \u001b[38;5;28;01mreturn\u001b[39;00m \u001b[38;5;28mself\u001b[39m\u001b[38;5;241m.\u001b[39m_build_call_outputs(\u001b[38;5;28;43mself\u001b[39;49m\u001b[38;5;241;43m.\u001b[39;49m\u001b[43m_inference_function\u001b[49m\u001b[43m(\u001b[49m\u001b[38;5;241;43m*\u001b[39;49m\u001b[43margs\u001b[49m\u001b[43m)\u001b[49m)\n\u001b[1;32m   1350\u001b[0m forward_backward \u001b[38;5;241m=\u001b[39m \u001b[38;5;28mself\u001b[39m\u001b[38;5;241m.\u001b[39m_select_forward_and_backward_functions(\n\u001b[1;32m   1351\u001b[0m     args,\n\u001b[1;32m   1352\u001b[0m     possible_gradient_type,\n\u001b[1;32m   1353\u001b[0m     executing_eagerly)\n\u001b[1;32m   1354\u001b[0m forward_function, args_with_tangents \u001b[38;5;241m=\u001b[39m forward_backward\u001b[38;5;241m.\u001b[39mforward()\n",
      "File \u001b[0;32m~/miniconda3/lib/python3.10/site-packages/tensorflow/python/eager/polymorphic_function/atomic_function.py:196\u001b[0m, in \u001b[0;36mAtomicFunction.__call__\u001b[0;34m(self, *args)\u001b[0m\n\u001b[1;32m    194\u001b[0m \u001b[38;5;28;01mwith\u001b[39;00m record\u001b[38;5;241m.\u001b[39mstop_recording():\n\u001b[1;32m    195\u001b[0m   \u001b[38;5;28;01mif\u001b[39;00m \u001b[38;5;28mself\u001b[39m\u001b[38;5;241m.\u001b[39m_bound_context\u001b[38;5;241m.\u001b[39mexecuting_eagerly():\n\u001b[0;32m--> 196\u001b[0m     outputs \u001b[38;5;241m=\u001b[39m \u001b[38;5;28;43mself\u001b[39;49m\u001b[38;5;241;43m.\u001b[39;49m\u001b[43m_bound_context\u001b[49m\u001b[38;5;241;43m.\u001b[39;49m\u001b[43mcall_function\u001b[49m\u001b[43m(\u001b[49m\n\u001b[1;32m    197\u001b[0m \u001b[43m        \u001b[49m\u001b[38;5;28;43mself\u001b[39;49m\u001b[38;5;241;43m.\u001b[39;49m\u001b[43mname\u001b[49m\u001b[43m,\u001b[49m\n\u001b[1;32m    198\u001b[0m \u001b[43m        \u001b[49m\u001b[38;5;28;43mlist\u001b[39;49m\u001b[43m(\u001b[49m\u001b[43margs\u001b[49m\u001b[43m)\u001b[49m\u001b[43m,\u001b[49m\n\u001b[1;32m    199\u001b[0m \u001b[43m        \u001b[49m\u001b[38;5;28;43mlen\u001b[39;49m\u001b[43m(\u001b[49m\u001b[38;5;28;43mself\u001b[39;49m\u001b[38;5;241;43m.\u001b[39;49m\u001b[43mfunction_type\u001b[49m\u001b[38;5;241;43m.\u001b[39;49m\u001b[43mflat_outputs\u001b[49m\u001b[43m)\u001b[49m\u001b[43m,\u001b[49m\n\u001b[1;32m    200\u001b[0m \u001b[43m    \u001b[49m\u001b[43m)\u001b[49m\n\u001b[1;32m    201\u001b[0m   \u001b[38;5;28;01melse\u001b[39;00m:\n\u001b[1;32m    202\u001b[0m     outputs \u001b[38;5;241m=\u001b[39m make_call_op_in_graph(\u001b[38;5;28mself\u001b[39m, \u001b[38;5;28mlist\u001b[39m(args))\n",
      "File \u001b[0;32m~/miniconda3/lib/python3.10/site-packages/tensorflow/python/eager/context.py:1457\u001b[0m, in \u001b[0;36mContext.call_function\u001b[0;34m(self, name, tensor_inputs, num_outputs)\u001b[0m\n\u001b[1;32m   1455\u001b[0m cancellation_context \u001b[38;5;241m=\u001b[39m cancellation\u001b[38;5;241m.\u001b[39mcontext()\n\u001b[1;32m   1456\u001b[0m \u001b[38;5;28;01mif\u001b[39;00m cancellation_context \u001b[38;5;129;01mis\u001b[39;00m \u001b[38;5;28;01mNone\u001b[39;00m:\n\u001b[0;32m-> 1457\u001b[0m   outputs \u001b[38;5;241m=\u001b[39m \u001b[43mexecute\u001b[49m\u001b[38;5;241;43m.\u001b[39;49m\u001b[43mexecute\u001b[49m\u001b[43m(\u001b[49m\n\u001b[1;32m   1458\u001b[0m \u001b[43m      \u001b[49m\u001b[43mname\u001b[49m\u001b[38;5;241;43m.\u001b[39;49m\u001b[43mdecode\u001b[49m\u001b[43m(\u001b[49m\u001b[38;5;124;43m\"\u001b[39;49m\u001b[38;5;124;43mutf-8\u001b[39;49m\u001b[38;5;124;43m\"\u001b[39;49m\u001b[43m)\u001b[49m\u001b[43m,\u001b[49m\n\u001b[1;32m   1459\u001b[0m \u001b[43m      \u001b[49m\u001b[43mnum_outputs\u001b[49m\u001b[38;5;241;43m=\u001b[39;49m\u001b[43mnum_outputs\u001b[49m\u001b[43m,\u001b[49m\n\u001b[1;32m   1460\u001b[0m \u001b[43m      \u001b[49m\u001b[43minputs\u001b[49m\u001b[38;5;241;43m=\u001b[39;49m\u001b[43mtensor_inputs\u001b[49m\u001b[43m,\u001b[49m\n\u001b[1;32m   1461\u001b[0m \u001b[43m      \u001b[49m\u001b[43mattrs\u001b[49m\u001b[38;5;241;43m=\u001b[39;49m\u001b[43mattrs\u001b[49m\u001b[43m,\u001b[49m\n\u001b[1;32m   1462\u001b[0m \u001b[43m      \u001b[49m\u001b[43mctx\u001b[49m\u001b[38;5;241;43m=\u001b[39;49m\u001b[38;5;28;43mself\u001b[39;49m\u001b[43m,\u001b[49m\n\u001b[1;32m   1463\u001b[0m \u001b[43m  \u001b[49m\u001b[43m)\u001b[49m\n\u001b[1;32m   1464\u001b[0m \u001b[38;5;28;01melse\u001b[39;00m:\n\u001b[1;32m   1465\u001b[0m   outputs \u001b[38;5;241m=\u001b[39m execute\u001b[38;5;241m.\u001b[39mexecute_with_cancellation(\n\u001b[1;32m   1466\u001b[0m       name\u001b[38;5;241m.\u001b[39mdecode(\u001b[38;5;124m\"\u001b[39m\u001b[38;5;124mutf-8\u001b[39m\u001b[38;5;124m\"\u001b[39m),\n\u001b[1;32m   1467\u001b[0m       num_outputs\u001b[38;5;241m=\u001b[39mnum_outputs,\n\u001b[0;32m   (...)\u001b[0m\n\u001b[1;32m   1471\u001b[0m       cancellation_manager\u001b[38;5;241m=\u001b[39mcancellation_context,\n\u001b[1;32m   1472\u001b[0m   )\n",
      "File \u001b[0;32m~/miniconda3/lib/python3.10/site-packages/tensorflow/python/eager/execute.py:53\u001b[0m, in \u001b[0;36mquick_execute\u001b[0;34m(op_name, num_outputs, inputs, attrs, ctx, name)\u001b[0m\n\u001b[1;32m     51\u001b[0m \u001b[38;5;28;01mtry\u001b[39;00m:\n\u001b[1;32m     52\u001b[0m   ctx\u001b[38;5;241m.\u001b[39mensure_initialized()\n\u001b[0;32m---> 53\u001b[0m   tensors \u001b[38;5;241m=\u001b[39m \u001b[43mpywrap_tfe\u001b[49m\u001b[38;5;241;43m.\u001b[39;49m\u001b[43mTFE_Py_Execute\u001b[49m\u001b[43m(\u001b[49m\u001b[43mctx\u001b[49m\u001b[38;5;241;43m.\u001b[39;49m\u001b[43m_handle\u001b[49m\u001b[43m,\u001b[49m\u001b[43m \u001b[49m\u001b[43mdevice_name\u001b[49m\u001b[43m,\u001b[49m\u001b[43m \u001b[49m\u001b[43mop_name\u001b[49m\u001b[43m,\u001b[49m\n\u001b[1;32m     54\u001b[0m \u001b[43m                                      \u001b[49m\u001b[43minputs\u001b[49m\u001b[43m,\u001b[49m\u001b[43m \u001b[49m\u001b[43mattrs\u001b[49m\u001b[43m,\u001b[49m\u001b[43m \u001b[49m\u001b[43mnum_outputs\u001b[49m\u001b[43m)\u001b[49m\n\u001b[1;32m     55\u001b[0m \u001b[38;5;28;01mexcept\u001b[39;00m core\u001b[38;5;241m.\u001b[39m_NotOkStatusException \u001b[38;5;28;01mas\u001b[39;00m e:\n\u001b[1;32m     56\u001b[0m   \u001b[38;5;28;01mif\u001b[39;00m name \u001b[38;5;129;01mis\u001b[39;00m \u001b[38;5;129;01mnot\u001b[39;00m \u001b[38;5;28;01mNone\u001b[39;00m:\n",
      "\u001b[0;31mKeyboardInterrupt\u001b[0m: "
     ]
    }
   ],
   "source": [
    "model = Sequential(name='Sequential') ##best\n",
    "\n",
    "act_function = 'LeakyReLU'\n",
    "model.add(GRU(32, return_sequences=False, activation=act_function, dropout=.5,input_shape=(130,1662)))\n",
    "#model.add(GRU(128, return_sequences=True, activation=act_function))\n",
    "#model.add(LSTM(64, return_sequences=False, activation=act_function))\n",
    "model.add(Dense(32, activation=act_function))\n",
    "#model.add(Dense(64, activation=act_function))\n",
    "model.add(Dense(16, activation=act_function))\n",
    "model.add(Dropout(.3))\n",
    "model.add(Dense(50, activation='softmax'))\n",
    "optimizer = Lion(learning_rate=.00005,global_clipnorm=.25)\n",
    "model.compile(optimizer=optimizer, loss='categorical_crossentropy', metrics=['categorical_accuracy'])\n",
    "\n",
    "history = model.fit(Xtrain, Ytrain, epochs=1000, validation_split=.3, batch_size = 64, callbacks=[tb_callback])\n",
    "model.summary()"
   ]
  },
  {
   "cell_type": "code",
   "execution_count": 43,
   "id": "3c4dfefb",
   "metadata": {
    "ExecuteTime": {
     "end_time": "2023-08-08T16:43:40.044523Z",
     "start_time": "2023-08-08T16:36:17.221137Z"
    },
    "scrolled": true
   },
   "outputs": [
    {
     "name": "stdout",
     "output_type": "stream",
     "text": [
      "WARNING:tensorflow:Layer gru will not use cuDNN kernels since it doesn't meet the criteria. It will use a generic GPU kernel as fallback when running on GPU.\n"
     ]
    },
    {
     "name": "stderr",
     "output_type": "stream",
     "text": [
      "2023-08-08 17:36:17.297939: I tensorflow/core/common_runtime/gpu/gpu_device.cc:1639] Created device /job:localhost/replica:0/task:0/device:GPU:0 with 1739 MB memory:  -> device: 0, name: NVIDIA GeForce MX250, pci bus id: 0000:01:00.0, compute capability: 6.1\n",
      "2023-08-08 17:36:18.593263: W tensorflow/tsl/framework/cpu_allocator_impl.cc:83] Allocation of 1040544960 exceeds 10% of free system memory.\n"
     ]
    },
    {
     "name": "stdout",
     "output_type": "stream",
     "text": [
      "Epoch 1/5000\n"
     ]
    },
    {
     "name": "stderr",
     "output_type": "stream",
     "text": [
      "2023-08-08 17:36:21.722239: I tensorflow/compiler/xla/service/service.cc:168] XLA service 0x7f7b18452100 initialized for platform CUDA (this does not guarantee that XLA will be used). Devices:\n",
      "2023-08-08 17:36:21.722274: I tensorflow/compiler/xla/service/service.cc:176]   StreamExecutor device (0): NVIDIA GeForce MX250, Compute Capability 6.1\n",
      "2023-08-08 17:36:21.728081: I tensorflow/compiler/mlir/tensorflow/utils/dump_mlir_util.cc:255] disabling MLIR crash reproducer, set env var `MLIR_CRASH_REPRODUCER_DIRECTORY` to enable.\n",
      "2023-08-08 17:36:21.741053: I tensorflow/compiler/xla/stream_executor/cuda/cuda_dnn.cc:432] Loaded cuDNN version 8600\n",
      "2023-08-08 17:36:21.805903: I ./tensorflow/compiler/jit/device_compiler.h:186] Compiled cluster using XLA!  This line is logged at most once for the lifetime of the process.\n"
     ]
    },
    {
     "name": "stdout",
     "output_type": "stream",
     "text": [
      "19/19 [==============================] - 7s 234ms/step - loss: 4.0885 - categorical_accuracy: 0.0291 - val_loss: 4.1440 - val_categorical_accuracy: 0.0000e+00\n",
      "Epoch 2/5000\n",
      "19/19 [==============================] - 4s 217ms/step - loss: 4.0645 - categorical_accuracy: 0.0191 - val_loss: 4.0806 - val_categorical_accuracy: 0.0000e+00\n",
      "Epoch 3/5000\n",
      "19/19 [==============================] - 4s 225ms/step - loss: 3.9947 - categorical_accuracy: 0.0183 - val_loss: 4.0219 - val_categorical_accuracy: 0.0299\n",
      "Epoch 4/5000\n",
      "19/19 [==============================] - 4s 221ms/step - loss: 3.9759 - categorical_accuracy: 0.0183 - val_loss: 3.9075 - val_categorical_accuracy: 0.0149\n",
      "Epoch 5/5000\n",
      "19/19 [==============================] - 4s 224ms/step - loss: 3.9454 - categorical_accuracy: 0.0191 - val_loss: 3.9256 - val_categorical_accuracy: 0.0075\n",
      "Epoch 6/5000\n",
      "19/19 [==============================] - 4s 226ms/step - loss: 3.9341 - categorical_accuracy: 0.0282 - val_loss: 3.9267 - val_categorical_accuracy: 0.0075\n",
      "Epoch 7/5000\n",
      "19/19 [==============================] - 4s 227ms/step - loss: 3.9261 - categorical_accuracy: 0.0249 - val_loss: 4.0117 - val_categorical_accuracy: 0.0000e+00\n",
      "Epoch 8/5000\n",
      "19/19 [==============================] - 4s 228ms/step - loss: 3.9200 - categorical_accuracy: 0.0233 - val_loss: 3.9008 - val_categorical_accuracy: 0.0000e+00\n",
      "Epoch 9/5000\n",
      "19/19 [==============================] - 4s 228ms/step - loss: 3.9136 - categorical_accuracy: 0.0249 - val_loss: 3.9326 - val_categorical_accuracy: 0.0075\n",
      "Epoch 10/5000\n",
      "19/19 [==============================] - 4s 232ms/step - loss: 3.9090 - categorical_accuracy: 0.0241 - val_loss: 3.9544 - val_categorical_accuracy: 0.0000e+00\n",
      "Epoch 11/5000\n",
      "19/19 [==============================] - 4s 232ms/step - loss: 3.8984 - categorical_accuracy: 0.0316 - val_loss: 3.9615 - val_categorical_accuracy: 0.0000e+00\n",
      "Epoch 12/5000\n",
      "19/19 [==============================] - 4s 234ms/step - loss: 3.8981 - categorical_accuracy: 0.0374 - val_loss: 3.9912 - val_categorical_accuracy: 0.0224\n",
      "Epoch 13/5000\n",
      "19/19 [==============================] - 4s 233ms/step - loss: 3.8905 - categorical_accuracy: 0.0341 - val_loss: 3.9687 - val_categorical_accuracy: 0.0000e+00\n",
      "Epoch 14/5000\n",
      "19/19 [==============================] - 4s 234ms/step - loss: 3.8858 - categorical_accuracy: 0.0282 - val_loss: 3.9780 - val_categorical_accuracy: 0.0075\n",
      "Epoch 15/5000\n",
      "19/19 [==============================] - 4s 234ms/step - loss: 3.8833 - categorical_accuracy: 0.0399 - val_loss: 3.9740 - val_categorical_accuracy: 0.0075\n",
      "Epoch 16/5000\n",
      "19/19 [==============================] - 4s 235ms/step - loss: 3.8733 - categorical_accuracy: 0.0382 - val_loss: 3.9876 - val_categorical_accuracy: 0.0224\n",
      "Epoch 17/5000\n",
      "19/19 [==============================] - 5s 245ms/step - loss: 3.8727 - categorical_accuracy: 0.0374 - val_loss: 4.0069 - val_categorical_accuracy: 0.0299\n",
      "Epoch 18/5000\n",
      "19/19 [==============================] - 5s 240ms/step - loss: 3.8663 - categorical_accuracy: 0.0382 - val_loss: 4.0111 - val_categorical_accuracy: 0.0149\n",
      "Epoch 19/5000\n",
      "19/19 [==============================] - 5s 241ms/step - loss: 3.8508 - categorical_accuracy: 0.0407 - val_loss: 4.0281 - val_categorical_accuracy: 0.0000e+00\n",
      "Epoch 20/5000\n",
      "19/19 [==============================] - 5s 238ms/step - loss: 3.8568 - categorical_accuracy: 0.0465 - val_loss: 3.9819 - val_categorical_accuracy: 0.0075\n",
      "Epoch 21/5000\n",
      "19/19 [==============================] - 5s 239ms/step - loss: 3.8353 - categorical_accuracy: 0.0540 - val_loss: 3.9703 - val_categorical_accuracy: 0.0000e+00\n",
      "Epoch 22/5000\n",
      "19/19 [==============================] - 5s 239ms/step - loss: 3.8171 - categorical_accuracy: 0.0598 - val_loss: 4.0379 - val_categorical_accuracy: 0.0000e+00\n",
      "Epoch 23/5000\n",
      "19/19 [==============================] - 5s 241ms/step - loss: 3.8018 - categorical_accuracy: 0.0540 - val_loss: 4.0642 - val_categorical_accuracy: 0.0000e+00\n",
      "Epoch 24/5000\n",
      "19/19 [==============================] - 5s 239ms/step - loss: 3.8040 - categorical_accuracy: 0.0573 - val_loss: 4.0592 - val_categorical_accuracy: 0.0000e+00\n",
      "Epoch 25/5000\n",
      "19/19 [==============================] - 5s 240ms/step - loss: 3.7878 - categorical_accuracy: 0.0548 - val_loss: 4.0643 - val_categorical_accuracy: 0.0075\n",
      "Epoch 26/5000\n",
      "19/19 [==============================] - 5s 242ms/step - loss: 3.7856 - categorical_accuracy: 0.0640 - val_loss: 4.0778 - val_categorical_accuracy: 0.0000e+00\n",
      "Epoch 27/5000\n",
      "19/19 [==============================] - 5s 240ms/step - loss: 3.7725 - categorical_accuracy: 0.0540 - val_loss: 4.0107 - val_categorical_accuracy: 0.0000e+00\n",
      "Epoch 28/5000\n",
      "19/19 [==============================] - 5s 243ms/step - loss: 3.7555 - categorical_accuracy: 0.0498 - val_loss: 4.0598 - val_categorical_accuracy: 0.0000e+00\n",
      "Epoch 29/5000\n",
      "19/19 [==============================] - 5s 264ms/step - loss: 3.7462 - categorical_accuracy: 0.0706 - val_loss: 4.0550 - val_categorical_accuracy: 0.0149\n",
      "Epoch 30/5000\n",
      "19/19 [==============================] - 5s 250ms/step - loss: 3.7422 - categorical_accuracy: 0.0606 - val_loss: 4.0529 - val_categorical_accuracy: 0.0000e+00\n",
      "Epoch 31/5000\n",
      "19/19 [==============================] - 5s 246ms/step - loss: 3.7316 - categorical_accuracy: 0.0573 - val_loss: 4.0415 - val_categorical_accuracy: 0.0075\n",
      "Epoch 32/5000\n",
      "19/19 [==============================] - 5s 245ms/step - loss: 3.7252 - categorical_accuracy: 0.0623 - val_loss: 4.0489 - val_categorical_accuracy: 0.0000e+00\n",
      "Epoch 33/5000\n",
      "19/19 [==============================] - 5s 251ms/step - loss: 3.7174 - categorical_accuracy: 0.0590 - val_loss: 4.0351 - val_categorical_accuracy: 0.0000e+00\n",
      "Epoch 34/5000\n",
      "19/19 [==============================] - 5s 244ms/step - loss: 3.7019 - categorical_accuracy: 0.0756 - val_loss: 4.0325 - val_categorical_accuracy: 0.0075\n",
      "Epoch 35/5000\n",
      "19/19 [==============================] - 5s 241ms/step - loss: 3.6891 - categorical_accuracy: 0.0714 - val_loss: 4.1088 - val_categorical_accuracy: 0.0000e+00\n",
      "Epoch 36/5000\n",
      "19/19 [==============================] - 5s 244ms/step - loss: 3.6852 - categorical_accuracy: 0.0714 - val_loss: 4.0857 - val_categorical_accuracy: 0.0000e+00\n",
      "Epoch 37/5000\n",
      "19/19 [==============================] - 5s 246ms/step - loss: 3.6798 - categorical_accuracy: 0.0523 - val_loss: 4.0594 - val_categorical_accuracy: 0.0000e+00\n",
      "Epoch 38/5000\n",
      "19/19 [==============================] - 5s 245ms/step - loss: 3.6490 - categorical_accuracy: 0.0706 - val_loss: 4.0521 - val_categorical_accuracy: 0.0000e+00\n",
      "Epoch 39/5000\n",
      "19/19 [==============================] - 5s 249ms/step - loss: 3.6480 - categorical_accuracy: 0.0789 - val_loss: 3.9775 - val_categorical_accuracy: 0.0224\n",
      "Epoch 40/5000\n",
      "19/19 [==============================] - 5s 246ms/step - loss: 3.6327 - categorical_accuracy: 0.0689 - val_loss: 3.9828 - val_categorical_accuracy: 0.0075\n",
      "Epoch 41/5000\n",
      "19/19 [==============================] - 5s 244ms/step - loss: 3.6328 - categorical_accuracy: 0.0847 - val_loss: 3.9629 - val_categorical_accuracy: 0.0299\n",
      "Epoch 42/5000\n",
      "19/19 [==============================] - 5s 250ms/step - loss: 3.6179 - categorical_accuracy: 0.0797 - val_loss: 3.9892 - val_categorical_accuracy: 0.0149\n",
      "Epoch 43/5000\n",
      "19/19 [==============================] - 5s 250ms/step - loss: 3.5870 - categorical_accuracy: 0.0864 - val_loss: 3.9844 - val_categorical_accuracy: 0.0075\n",
      "Epoch 44/5000\n",
      "19/19 [==============================] - 5s 245ms/step - loss: 3.6008 - categorical_accuracy: 0.0880 - val_loss: 4.0426 - val_categorical_accuracy: 0.0000e+00\n",
      "Epoch 45/5000\n",
      "19/19 [==============================] - 5s 250ms/step - loss: 3.5921 - categorical_accuracy: 0.0706 - val_loss: 3.9665 - val_categorical_accuracy: 0.0149\n",
      "Epoch 46/5000\n",
      "19/19 [==============================] - 5s 247ms/step - loss: 3.5997 - categorical_accuracy: 0.0855 - val_loss: 3.9753 - val_categorical_accuracy: 0.0373\n",
      "Epoch 47/5000\n",
      "19/19 [==============================] - 5s 244ms/step - loss: 3.5630 - categorical_accuracy: 0.0789 - val_loss: 3.9760 - val_categorical_accuracy: 0.0075\n",
      "Epoch 48/5000\n",
      "19/19 [==============================] - 5s 244ms/step - loss: 3.5581 - categorical_accuracy: 0.0980 - val_loss: 4.0553 - val_categorical_accuracy: 0.0000e+00\n",
      "Epoch 49/5000\n"
     ]
    },
    {
     "name": "stdout",
     "output_type": "stream",
     "text": [
      "19/19 [==============================] - 5s 244ms/step - loss: 3.5412 - categorical_accuracy: 0.0822 - val_loss: 4.0214 - val_categorical_accuracy: 0.0000e+00\n",
      "Epoch 50/5000\n",
      "19/19 [==============================] - 5s 244ms/step - loss: 3.5468 - categorical_accuracy: 0.0831 - val_loss: 3.9519 - val_categorical_accuracy: 0.0000e+00\n",
      "Epoch 51/5000\n",
      "19/19 [==============================] - 5s 244ms/step - loss: 3.5162 - categorical_accuracy: 0.0872 - val_loss: 3.9390 - val_categorical_accuracy: 0.0075\n",
      "Epoch 52/5000\n",
      "19/19 [==============================] - 5s 246ms/step - loss: 3.5342 - categorical_accuracy: 0.0955 - val_loss: 3.8922 - val_categorical_accuracy: 0.0149\n",
      "Epoch 53/5000\n",
      "19/19 [==============================] - 5s 250ms/step - loss: 3.4977 - categorical_accuracy: 0.1030 - val_loss: 3.9604 - val_categorical_accuracy: 0.0000e+00\n",
      "Epoch 54/5000\n",
      "19/19 [==============================] - 5s 245ms/step - loss: 3.4793 - categorical_accuracy: 0.1071 - val_loss: 3.9357 - val_categorical_accuracy: 0.0000e+00\n",
      "Epoch 55/5000\n",
      "19/19 [==============================] - 5s 246ms/step - loss: 3.4592 - categorical_accuracy: 0.0930 - val_loss: 3.9497 - val_categorical_accuracy: 0.0224\n",
      "Epoch 56/5000\n",
      "19/19 [==============================] - 5s 252ms/step - loss: 3.4692 - categorical_accuracy: 0.1005 - val_loss: 3.8997 - val_categorical_accuracy: 0.0149\n",
      "Epoch 57/5000\n",
      "19/19 [==============================] - 5s 249ms/step - loss: 3.4375 - categorical_accuracy: 0.1121 - val_loss: 3.9349 - val_categorical_accuracy: 0.0000e+00\n",
      "Epoch 58/5000\n",
      "19/19 [==============================] - 5s 251ms/step - loss: 3.4495 - categorical_accuracy: 0.1071 - val_loss: 3.8984 - val_categorical_accuracy: 0.0299\n",
      "Epoch 59/5000\n",
      "19/19 [==============================] - 5s 249ms/step - loss: 3.4331 - categorical_accuracy: 0.1055 - val_loss: 3.9374 - val_categorical_accuracy: 0.0075\n",
      "Epoch 60/5000\n",
      "19/19 [==============================] - 5s 249ms/step - loss: 3.4423 - categorical_accuracy: 0.1071 - val_loss: 3.8863 - val_categorical_accuracy: 0.0299\n",
      "Epoch 61/5000\n",
      "19/19 [==============================] - 5s 247ms/step - loss: 3.3914 - categorical_accuracy: 0.1229 - val_loss: 3.9182 - val_categorical_accuracy: 0.0149\n",
      "Epoch 62/5000\n",
      "19/19 [==============================] - 5s 248ms/step - loss: 3.4384 - categorical_accuracy: 0.1105 - val_loss: 3.8560 - val_categorical_accuracy: 0.0299\n",
      "Epoch 63/5000\n",
      "19/19 [==============================] - 5s 249ms/step - loss: 3.3495 - categorical_accuracy: 0.1321 - val_loss: 3.8607 - val_categorical_accuracy: 0.0224\n",
      "Epoch 64/5000\n",
      "19/19 [==============================] - 5s 247ms/step - loss: 3.3719 - categorical_accuracy: 0.1154 - val_loss: 3.8604 - val_categorical_accuracy: 0.0299\n",
      "Epoch 65/5000\n",
      "19/19 [==============================] - 5s 252ms/step - loss: 3.3594 - categorical_accuracy: 0.1279 - val_loss: 3.9002 - val_categorical_accuracy: 0.0075\n",
      "Epoch 66/5000\n",
      "19/19 [==============================] - 5s 249ms/step - loss: 3.3509 - categorical_accuracy: 0.1229 - val_loss: 3.8858 - val_categorical_accuracy: 0.0149\n",
      "Epoch 67/5000\n",
      "19/19 [==============================] - 5s 249ms/step - loss: 3.3545 - categorical_accuracy: 0.1188 - val_loss: 3.8653 - val_categorical_accuracy: 0.0224\n",
      "Epoch 68/5000\n",
      "19/19 [==============================] - 5s 254ms/step - loss: 3.3249 - categorical_accuracy: 0.1387 - val_loss: 3.8259 - val_categorical_accuracy: 0.0373\n",
      "Epoch 69/5000\n",
      "19/19 [==============================] - 5s 247ms/step - loss: 3.2907 - categorical_accuracy: 0.1254 - val_loss: 3.7832 - val_categorical_accuracy: 0.0299\n",
      "Epoch 70/5000\n",
      "19/19 [==============================] - 5s 249ms/step - loss: 3.3408 - categorical_accuracy: 0.1229 - val_loss: 3.8391 - val_categorical_accuracy: 0.0373\n",
      "Epoch 71/5000\n",
      "19/19 [==============================] - 5s 251ms/step - loss: 3.2906 - categorical_accuracy: 0.1429 - val_loss: 3.7939 - val_categorical_accuracy: 0.0373\n",
      "Epoch 72/5000\n",
      "19/19 [==============================] - 5s 249ms/step - loss: 3.3037 - categorical_accuracy: 0.1329 - val_loss: 3.7651 - val_categorical_accuracy: 0.0373\n",
      "Epoch 73/5000\n",
      "19/19 [==============================] - 5s 252ms/step - loss: 3.2813 - categorical_accuracy: 0.1379 - val_loss: 3.8513 - val_categorical_accuracy: 0.0522\n",
      "Epoch 74/5000\n",
      "19/19 [==============================] - 5s 251ms/step - loss: 3.2980 - categorical_accuracy: 0.1354 - val_loss: 3.7634 - val_categorical_accuracy: 0.0597\n",
      "Epoch 75/5000\n",
      "19/19 [==============================] - 5s 247ms/step - loss: 3.2436 - categorical_accuracy: 0.1445 - val_loss: 3.7707 - val_categorical_accuracy: 0.0522\n",
      "Epoch 76/5000\n",
      "19/19 [==============================] - 5s 254ms/step - loss: 3.2368 - categorical_accuracy: 0.1495 - val_loss: 3.8018 - val_categorical_accuracy: 0.0373\n",
      "Epoch 77/5000\n",
      "19/19 [==============================] - 5s 251ms/step - loss: 3.2209 - categorical_accuracy: 0.1404 - val_loss: 3.8021 - val_categorical_accuracy: 0.0224\n",
      "Epoch 78/5000\n",
      "19/19 [==============================] - 5s 246ms/step - loss: 3.2056 - categorical_accuracy: 0.1528 - val_loss: 3.7326 - val_categorical_accuracy: 0.0672\n",
      "Epoch 79/5000\n",
      "19/19 [==============================] - 5s 252ms/step - loss: 3.2090 - categorical_accuracy: 0.1445 - val_loss: 3.8851 - val_categorical_accuracy: 0.0373\n",
      "Epoch 80/5000\n",
      "19/19 [==============================] - 5s 250ms/step - loss: 3.1917 - categorical_accuracy: 0.1553 - val_loss: 3.8319 - val_categorical_accuracy: 0.0373\n",
      "Epoch 81/5000\n",
      "19/19 [==============================] - 5s 258ms/step - loss: 3.1849 - categorical_accuracy: 0.1545 - val_loss: 3.7441 - val_categorical_accuracy: 0.0448\n",
      "Epoch 82/5000\n",
      "19/19 [==============================] - 5s 252ms/step - loss: 3.1894 - categorical_accuracy: 0.1620 - val_loss: 3.8227 - val_categorical_accuracy: 0.0448\n",
      "Epoch 83/5000\n",
      "19/19 [==============================] - 5s 248ms/step - loss: 3.1350 - categorical_accuracy: 0.1595 - val_loss: 3.7341 - val_categorical_accuracy: 0.0448\n",
      "Epoch 84/5000\n",
      "19/19 [==============================] - 5s 251ms/step - loss: 3.1378 - categorical_accuracy: 0.1561 - val_loss: 3.7643 - val_categorical_accuracy: 0.0299\n",
      "Epoch 85/5000\n",
      "19/19 [==============================] - 5s 249ms/step - loss: 3.1398 - categorical_accuracy: 0.1537 - val_loss: 3.7108 - val_categorical_accuracy: 0.0299\n",
      "Epoch 86/5000\n",
      "19/19 [==============================] - 5s 251ms/step - loss: 3.1032 - categorical_accuracy: 0.1844 - val_loss: 3.7140 - val_categorical_accuracy: 0.0672\n",
      "Epoch 87/5000\n",
      "19/19 [==============================] - 5s 249ms/step - loss: 3.1114 - categorical_accuracy: 0.1752 - val_loss: 3.7022 - val_categorical_accuracy: 0.0522\n",
      "Epoch 88/5000\n",
      "19/19 [==============================] - 5s 249ms/step - loss: 3.1362 - categorical_accuracy: 0.1578 - val_loss: 3.6934 - val_categorical_accuracy: 0.0373\n",
      "Epoch 89/5000\n",
      "19/19 [==============================] - 5s 252ms/step - loss: 3.0692 - categorical_accuracy: 0.1935 - val_loss: 3.6675 - val_categorical_accuracy: 0.0597\n",
      "Epoch 90/5000\n",
      "19/19 [==============================] - 5s 246ms/step - loss: 3.0924 - categorical_accuracy: 0.1703 - val_loss: 3.7075 - val_categorical_accuracy: 0.0373\n",
      "Epoch 91/5000\n",
      "19/19 [==============================] - 5s 251ms/step - loss: 3.0770 - categorical_accuracy: 0.1761 - val_loss: 3.6833 - val_categorical_accuracy: 0.0299\n",
      "Epoch 92/5000\n",
      "19/19 [==============================] - 5s 253ms/step - loss: 3.0705 - categorical_accuracy: 0.1777 - val_loss: 3.7107 - val_categorical_accuracy: 0.0373\n",
      "Epoch 93/5000\n",
      "19/19 [==============================] - 5s 249ms/step - loss: 3.0435 - categorical_accuracy: 0.1761 - val_loss: 3.7476 - val_categorical_accuracy: 0.0299\n",
      "Epoch 94/5000\n",
      "17/19 [=========================>....] - ETA: 0s - loss: 3.0724 - categorical_accuracy: 0.1820"
     ]
    },
    {
     "ename": "KeyboardInterrupt",
     "evalue": "",
     "output_type": "error",
     "traceback": [
      "\u001b[0;31m---------------------------------------------------------------------------\u001b[0m",
      "\u001b[0;31mKeyboardInterrupt\u001b[0m                         Traceback (most recent call last)",
      "Cell \u001b[0;32mIn[43], line 15\u001b[0m\n\u001b[1;32m     12\u001b[0m optimizer \u001b[38;5;241m=\u001b[39m Lion(learning_rate\u001b[38;5;241m=\u001b[39m\u001b[38;5;241m.00005\u001b[39m,global_clipnorm\u001b[38;5;241m=\u001b[39m\u001b[38;5;241m10\u001b[39m)\n\u001b[1;32m     13\u001b[0m model\u001b[38;5;241m.\u001b[39mcompile(optimizer\u001b[38;5;241m=\u001b[39moptimizer, loss\u001b[38;5;241m=\u001b[39m\u001b[38;5;124m'\u001b[39m\u001b[38;5;124mcategorical_crossentropy\u001b[39m\u001b[38;5;124m'\u001b[39m, metrics\u001b[38;5;241m=\u001b[39m[\u001b[38;5;124m'\u001b[39m\u001b[38;5;124mcategorical_accuracy\u001b[39m\u001b[38;5;124m'\u001b[39m])\n\u001b[0;32m---> 15\u001b[0m history \u001b[38;5;241m=\u001b[39m \u001b[43mmodel\u001b[49m\u001b[38;5;241;43m.\u001b[39;49m\u001b[43mfit\u001b[49m\u001b[43m(\u001b[49m\u001b[43mXtrain\u001b[49m\u001b[43m,\u001b[49m\u001b[43m \u001b[49m\u001b[43mYtrain\u001b[49m\u001b[43m,\u001b[49m\u001b[43m \u001b[49m\u001b[43mepochs\u001b[49m\u001b[38;5;241;43m=\u001b[39;49m\u001b[38;5;241;43m5000\u001b[39;49m\u001b[43m,\u001b[49m\u001b[43m \u001b[49m\u001b[43mvalidation_split\u001b[49m\u001b[38;5;241;43m=\u001b[39;49m\u001b[38;5;241;43m.1\u001b[39;49m\u001b[43m,\u001b[49m\u001b[43m \u001b[49m\u001b[43mbatch_size\u001b[49m\u001b[43m \u001b[49m\u001b[38;5;241;43m=\u001b[39;49m\u001b[43m \u001b[49m\u001b[38;5;241;43m64\u001b[39;49m\u001b[43m,\u001b[49m\u001b[43m \u001b[49m\u001b[43mcallbacks\u001b[49m\u001b[38;5;241;43m=\u001b[39;49m\u001b[43m[\u001b[49m\u001b[43mtb_callback\u001b[49m\u001b[43m]\u001b[49m\u001b[43m)\u001b[49m\n\u001b[1;32m     16\u001b[0m model\u001b[38;5;241m.\u001b[39msummary()\n",
      "File \u001b[0;32m~/miniconda3/lib/python3.10/site-packages/keras/src/utils/traceback_utils.py:65\u001b[0m, in \u001b[0;36mfilter_traceback.<locals>.error_handler\u001b[0;34m(*args, **kwargs)\u001b[0m\n\u001b[1;32m     63\u001b[0m filtered_tb \u001b[38;5;241m=\u001b[39m \u001b[38;5;28;01mNone\u001b[39;00m\n\u001b[1;32m     64\u001b[0m \u001b[38;5;28;01mtry\u001b[39;00m:\n\u001b[0;32m---> 65\u001b[0m     \u001b[38;5;28;01mreturn\u001b[39;00m \u001b[43mfn\u001b[49m\u001b[43m(\u001b[49m\u001b[38;5;241;43m*\u001b[39;49m\u001b[43margs\u001b[49m\u001b[43m,\u001b[49m\u001b[43m \u001b[49m\u001b[38;5;241;43m*\u001b[39;49m\u001b[38;5;241;43m*\u001b[39;49m\u001b[43mkwargs\u001b[49m\u001b[43m)\u001b[49m\n\u001b[1;32m     66\u001b[0m \u001b[38;5;28;01mexcept\u001b[39;00m \u001b[38;5;167;01mException\u001b[39;00m \u001b[38;5;28;01mas\u001b[39;00m e:\n\u001b[1;32m     67\u001b[0m     filtered_tb \u001b[38;5;241m=\u001b[39m _process_traceback_frames(e\u001b[38;5;241m.\u001b[39m__traceback__)\n",
      "File \u001b[0;32m~/miniconda3/lib/python3.10/site-packages/keras/src/engine/training.py:1742\u001b[0m, in \u001b[0;36mModel.fit\u001b[0;34m(self, x, y, batch_size, epochs, verbose, callbacks, validation_split, validation_data, shuffle, class_weight, sample_weight, initial_epoch, steps_per_epoch, validation_steps, validation_batch_size, validation_freq, max_queue_size, workers, use_multiprocessing)\u001b[0m\n\u001b[1;32m   1734\u001b[0m \u001b[38;5;28;01mwith\u001b[39;00m tf\u001b[38;5;241m.\u001b[39mprofiler\u001b[38;5;241m.\u001b[39mexperimental\u001b[38;5;241m.\u001b[39mTrace(\n\u001b[1;32m   1735\u001b[0m     \u001b[38;5;124m\"\u001b[39m\u001b[38;5;124mtrain\u001b[39m\u001b[38;5;124m\"\u001b[39m,\n\u001b[1;32m   1736\u001b[0m     epoch_num\u001b[38;5;241m=\u001b[39mepoch,\n\u001b[0;32m   (...)\u001b[0m\n\u001b[1;32m   1739\u001b[0m     _r\u001b[38;5;241m=\u001b[39m\u001b[38;5;241m1\u001b[39m,\n\u001b[1;32m   1740\u001b[0m ):\n\u001b[1;32m   1741\u001b[0m     callbacks\u001b[38;5;241m.\u001b[39mon_train_batch_begin(step)\n\u001b[0;32m-> 1742\u001b[0m     tmp_logs \u001b[38;5;241m=\u001b[39m \u001b[38;5;28;43mself\u001b[39;49m\u001b[38;5;241;43m.\u001b[39;49m\u001b[43mtrain_function\u001b[49m\u001b[43m(\u001b[49m\u001b[43miterator\u001b[49m\u001b[43m)\u001b[49m\n\u001b[1;32m   1743\u001b[0m     \u001b[38;5;28;01mif\u001b[39;00m data_handler\u001b[38;5;241m.\u001b[39mshould_sync:\n\u001b[1;32m   1744\u001b[0m         context\u001b[38;5;241m.\u001b[39masync_wait()\n",
      "File \u001b[0;32m~/miniconda3/lib/python3.10/site-packages/tensorflow/python/util/traceback_utils.py:150\u001b[0m, in \u001b[0;36mfilter_traceback.<locals>.error_handler\u001b[0;34m(*args, **kwargs)\u001b[0m\n\u001b[1;32m    148\u001b[0m filtered_tb \u001b[38;5;241m=\u001b[39m \u001b[38;5;28;01mNone\u001b[39;00m\n\u001b[1;32m    149\u001b[0m \u001b[38;5;28;01mtry\u001b[39;00m:\n\u001b[0;32m--> 150\u001b[0m   \u001b[38;5;28;01mreturn\u001b[39;00m \u001b[43mfn\u001b[49m\u001b[43m(\u001b[49m\u001b[38;5;241;43m*\u001b[39;49m\u001b[43margs\u001b[49m\u001b[43m,\u001b[49m\u001b[43m \u001b[49m\u001b[38;5;241;43m*\u001b[39;49m\u001b[38;5;241;43m*\u001b[39;49m\u001b[43mkwargs\u001b[49m\u001b[43m)\u001b[49m\n\u001b[1;32m    151\u001b[0m \u001b[38;5;28;01mexcept\u001b[39;00m \u001b[38;5;167;01mException\u001b[39;00m \u001b[38;5;28;01mas\u001b[39;00m e:\n\u001b[1;32m    152\u001b[0m   filtered_tb \u001b[38;5;241m=\u001b[39m _process_traceback_frames(e\u001b[38;5;241m.\u001b[39m__traceback__)\n",
      "File \u001b[0;32m~/miniconda3/lib/python3.10/site-packages/tensorflow/python/eager/polymorphic_function/polymorphic_function.py:825\u001b[0m, in \u001b[0;36mFunction.__call__\u001b[0;34m(self, *args, **kwds)\u001b[0m\n\u001b[1;32m    822\u001b[0m compiler \u001b[38;5;241m=\u001b[39m \u001b[38;5;124m\"\u001b[39m\u001b[38;5;124mxla\u001b[39m\u001b[38;5;124m\"\u001b[39m \u001b[38;5;28;01mif\u001b[39;00m \u001b[38;5;28mself\u001b[39m\u001b[38;5;241m.\u001b[39m_jit_compile \u001b[38;5;28;01melse\u001b[39;00m \u001b[38;5;124m\"\u001b[39m\u001b[38;5;124mnonXla\u001b[39m\u001b[38;5;124m\"\u001b[39m\n\u001b[1;32m    824\u001b[0m \u001b[38;5;28;01mwith\u001b[39;00m OptionalXlaContext(\u001b[38;5;28mself\u001b[39m\u001b[38;5;241m.\u001b[39m_jit_compile):\n\u001b[0;32m--> 825\u001b[0m   result \u001b[38;5;241m=\u001b[39m \u001b[38;5;28;43mself\u001b[39;49m\u001b[38;5;241;43m.\u001b[39;49m\u001b[43m_call\u001b[49m\u001b[43m(\u001b[49m\u001b[38;5;241;43m*\u001b[39;49m\u001b[43margs\u001b[49m\u001b[43m,\u001b[49m\u001b[43m \u001b[49m\u001b[38;5;241;43m*\u001b[39;49m\u001b[38;5;241;43m*\u001b[39;49m\u001b[43mkwds\u001b[49m\u001b[43m)\u001b[49m\n\u001b[1;32m    827\u001b[0m new_tracing_count \u001b[38;5;241m=\u001b[39m \u001b[38;5;28mself\u001b[39m\u001b[38;5;241m.\u001b[39mexperimental_get_tracing_count()\n\u001b[1;32m    828\u001b[0m without_tracing \u001b[38;5;241m=\u001b[39m (tracing_count \u001b[38;5;241m==\u001b[39m new_tracing_count)\n",
      "File \u001b[0;32m~/miniconda3/lib/python3.10/site-packages/tensorflow/python/eager/polymorphic_function/polymorphic_function.py:857\u001b[0m, in \u001b[0;36mFunction._call\u001b[0;34m(self, *args, **kwds)\u001b[0m\n\u001b[1;32m    854\u001b[0m   \u001b[38;5;28mself\u001b[39m\u001b[38;5;241m.\u001b[39m_lock\u001b[38;5;241m.\u001b[39mrelease()\n\u001b[1;32m    855\u001b[0m   \u001b[38;5;66;03m# In this case we have created variables on the first call, so we run the\u001b[39;00m\n\u001b[1;32m    856\u001b[0m   \u001b[38;5;66;03m# defunned version which is guaranteed to never create variables.\u001b[39;00m\n\u001b[0;32m--> 857\u001b[0m   \u001b[38;5;28;01mreturn\u001b[39;00m \u001b[38;5;28;43mself\u001b[39;49m\u001b[38;5;241;43m.\u001b[39;49m\u001b[43m_no_variable_creation_fn\u001b[49m\u001b[43m(\u001b[49m\u001b[38;5;241;43m*\u001b[39;49m\u001b[43margs\u001b[49m\u001b[43m,\u001b[49m\u001b[43m \u001b[49m\u001b[38;5;241;43m*\u001b[39;49m\u001b[38;5;241;43m*\u001b[39;49m\u001b[43mkwds\u001b[49m\u001b[43m)\u001b[49m  \u001b[38;5;66;03m# pylint: disable=not-callable\u001b[39;00m\n\u001b[1;32m    858\u001b[0m \u001b[38;5;28;01melif\u001b[39;00m \u001b[38;5;28mself\u001b[39m\u001b[38;5;241m.\u001b[39m_variable_creation_fn \u001b[38;5;129;01mis\u001b[39;00m \u001b[38;5;129;01mnot\u001b[39;00m \u001b[38;5;28;01mNone\u001b[39;00m:\n\u001b[1;32m    859\u001b[0m   \u001b[38;5;66;03m# Release the lock early so that multiple threads can perform the call\u001b[39;00m\n\u001b[1;32m    860\u001b[0m   \u001b[38;5;66;03m# in parallel.\u001b[39;00m\n\u001b[1;32m    861\u001b[0m   \u001b[38;5;28mself\u001b[39m\u001b[38;5;241m.\u001b[39m_lock\u001b[38;5;241m.\u001b[39mrelease()\n",
      "File \u001b[0;32m~/miniconda3/lib/python3.10/site-packages/tensorflow/python/eager/polymorphic_function/tracing_compiler.py:148\u001b[0m, in \u001b[0;36mTracingCompiler.__call__\u001b[0;34m(self, *args, **kwargs)\u001b[0m\n\u001b[1;32m    145\u001b[0m \u001b[38;5;28;01mwith\u001b[39;00m \u001b[38;5;28mself\u001b[39m\u001b[38;5;241m.\u001b[39m_lock:\n\u001b[1;32m    146\u001b[0m   (concrete_function,\n\u001b[1;32m    147\u001b[0m    filtered_flat_args) \u001b[38;5;241m=\u001b[39m \u001b[38;5;28mself\u001b[39m\u001b[38;5;241m.\u001b[39m_maybe_define_function(args, kwargs)\n\u001b[0;32m--> 148\u001b[0m \u001b[38;5;28;01mreturn\u001b[39;00m \u001b[43mconcrete_function\u001b[49m\u001b[38;5;241;43m.\u001b[39;49m\u001b[43m_call_flat\u001b[49m\u001b[43m(\u001b[49m\n\u001b[1;32m    149\u001b[0m \u001b[43m    \u001b[49m\u001b[43mfiltered_flat_args\u001b[49m\u001b[43m,\u001b[49m\u001b[43m \u001b[49m\u001b[43mcaptured_inputs\u001b[49m\u001b[38;5;241;43m=\u001b[39;49m\u001b[43mconcrete_function\u001b[49m\u001b[38;5;241;43m.\u001b[39;49m\u001b[43mcaptured_inputs\u001b[49m\u001b[43m)\u001b[49m\n",
      "File \u001b[0;32m~/miniconda3/lib/python3.10/site-packages/tensorflow/python/eager/polymorphic_function/monomorphic_function.py:1349\u001b[0m, in \u001b[0;36mConcreteFunction._call_flat\u001b[0;34m(self, args, captured_inputs)\u001b[0m\n\u001b[1;32m   1345\u001b[0m possible_gradient_type \u001b[38;5;241m=\u001b[39m gradients_util\u001b[38;5;241m.\u001b[39mPossibleTapeGradientTypes(args)\n\u001b[1;32m   1346\u001b[0m \u001b[38;5;28;01mif\u001b[39;00m (possible_gradient_type \u001b[38;5;241m==\u001b[39m gradients_util\u001b[38;5;241m.\u001b[39mPOSSIBLE_GRADIENT_TYPES_NONE\n\u001b[1;32m   1347\u001b[0m     \u001b[38;5;129;01mand\u001b[39;00m executing_eagerly):\n\u001b[1;32m   1348\u001b[0m   \u001b[38;5;66;03m# No tape is watching; skip to running the function.\u001b[39;00m\n\u001b[0;32m-> 1349\u001b[0m   \u001b[38;5;28;01mreturn\u001b[39;00m \u001b[38;5;28mself\u001b[39m\u001b[38;5;241m.\u001b[39m_build_call_outputs(\u001b[38;5;28;43mself\u001b[39;49m\u001b[38;5;241;43m.\u001b[39;49m\u001b[43m_inference_function\u001b[49m\u001b[43m(\u001b[49m\u001b[38;5;241;43m*\u001b[39;49m\u001b[43margs\u001b[49m\u001b[43m)\u001b[49m)\n\u001b[1;32m   1350\u001b[0m forward_backward \u001b[38;5;241m=\u001b[39m \u001b[38;5;28mself\u001b[39m\u001b[38;5;241m.\u001b[39m_select_forward_and_backward_functions(\n\u001b[1;32m   1351\u001b[0m     args,\n\u001b[1;32m   1352\u001b[0m     possible_gradient_type,\n\u001b[1;32m   1353\u001b[0m     executing_eagerly)\n\u001b[1;32m   1354\u001b[0m forward_function, args_with_tangents \u001b[38;5;241m=\u001b[39m forward_backward\u001b[38;5;241m.\u001b[39mforward()\n",
      "File \u001b[0;32m~/miniconda3/lib/python3.10/site-packages/tensorflow/python/eager/polymorphic_function/atomic_function.py:196\u001b[0m, in \u001b[0;36mAtomicFunction.__call__\u001b[0;34m(self, *args)\u001b[0m\n\u001b[1;32m    194\u001b[0m \u001b[38;5;28;01mwith\u001b[39;00m record\u001b[38;5;241m.\u001b[39mstop_recording():\n\u001b[1;32m    195\u001b[0m   \u001b[38;5;28;01mif\u001b[39;00m \u001b[38;5;28mself\u001b[39m\u001b[38;5;241m.\u001b[39m_bound_context\u001b[38;5;241m.\u001b[39mexecuting_eagerly():\n\u001b[0;32m--> 196\u001b[0m     outputs \u001b[38;5;241m=\u001b[39m \u001b[38;5;28;43mself\u001b[39;49m\u001b[38;5;241;43m.\u001b[39;49m\u001b[43m_bound_context\u001b[49m\u001b[38;5;241;43m.\u001b[39;49m\u001b[43mcall_function\u001b[49m\u001b[43m(\u001b[49m\n\u001b[1;32m    197\u001b[0m \u001b[43m        \u001b[49m\u001b[38;5;28;43mself\u001b[39;49m\u001b[38;5;241;43m.\u001b[39;49m\u001b[43mname\u001b[49m\u001b[43m,\u001b[49m\n\u001b[1;32m    198\u001b[0m \u001b[43m        \u001b[49m\u001b[38;5;28;43mlist\u001b[39;49m\u001b[43m(\u001b[49m\u001b[43margs\u001b[49m\u001b[43m)\u001b[49m\u001b[43m,\u001b[49m\n\u001b[1;32m    199\u001b[0m \u001b[43m        \u001b[49m\u001b[38;5;28;43mlen\u001b[39;49m\u001b[43m(\u001b[49m\u001b[38;5;28;43mself\u001b[39;49m\u001b[38;5;241;43m.\u001b[39;49m\u001b[43mfunction_type\u001b[49m\u001b[38;5;241;43m.\u001b[39;49m\u001b[43mflat_outputs\u001b[49m\u001b[43m)\u001b[49m\u001b[43m,\u001b[49m\n\u001b[1;32m    200\u001b[0m \u001b[43m    \u001b[49m\u001b[43m)\u001b[49m\n\u001b[1;32m    201\u001b[0m   \u001b[38;5;28;01melse\u001b[39;00m:\n\u001b[1;32m    202\u001b[0m     outputs \u001b[38;5;241m=\u001b[39m make_call_op_in_graph(\u001b[38;5;28mself\u001b[39m, \u001b[38;5;28mlist\u001b[39m(args))\n",
      "File \u001b[0;32m~/miniconda3/lib/python3.10/site-packages/tensorflow/python/eager/context.py:1457\u001b[0m, in \u001b[0;36mContext.call_function\u001b[0;34m(self, name, tensor_inputs, num_outputs)\u001b[0m\n\u001b[1;32m   1455\u001b[0m cancellation_context \u001b[38;5;241m=\u001b[39m cancellation\u001b[38;5;241m.\u001b[39mcontext()\n\u001b[1;32m   1456\u001b[0m \u001b[38;5;28;01mif\u001b[39;00m cancellation_context \u001b[38;5;129;01mis\u001b[39;00m \u001b[38;5;28;01mNone\u001b[39;00m:\n\u001b[0;32m-> 1457\u001b[0m   outputs \u001b[38;5;241m=\u001b[39m \u001b[43mexecute\u001b[49m\u001b[38;5;241;43m.\u001b[39;49m\u001b[43mexecute\u001b[49m\u001b[43m(\u001b[49m\n\u001b[1;32m   1458\u001b[0m \u001b[43m      \u001b[49m\u001b[43mname\u001b[49m\u001b[38;5;241;43m.\u001b[39;49m\u001b[43mdecode\u001b[49m\u001b[43m(\u001b[49m\u001b[38;5;124;43m\"\u001b[39;49m\u001b[38;5;124;43mutf-8\u001b[39;49m\u001b[38;5;124;43m\"\u001b[39;49m\u001b[43m)\u001b[49m\u001b[43m,\u001b[49m\n\u001b[1;32m   1459\u001b[0m \u001b[43m      \u001b[49m\u001b[43mnum_outputs\u001b[49m\u001b[38;5;241;43m=\u001b[39;49m\u001b[43mnum_outputs\u001b[49m\u001b[43m,\u001b[49m\n\u001b[1;32m   1460\u001b[0m \u001b[43m      \u001b[49m\u001b[43minputs\u001b[49m\u001b[38;5;241;43m=\u001b[39;49m\u001b[43mtensor_inputs\u001b[49m\u001b[43m,\u001b[49m\n\u001b[1;32m   1461\u001b[0m \u001b[43m      \u001b[49m\u001b[43mattrs\u001b[49m\u001b[38;5;241;43m=\u001b[39;49m\u001b[43mattrs\u001b[49m\u001b[43m,\u001b[49m\n\u001b[1;32m   1462\u001b[0m \u001b[43m      \u001b[49m\u001b[43mctx\u001b[49m\u001b[38;5;241;43m=\u001b[39;49m\u001b[38;5;28;43mself\u001b[39;49m\u001b[43m,\u001b[49m\n\u001b[1;32m   1463\u001b[0m \u001b[43m  \u001b[49m\u001b[43m)\u001b[49m\n\u001b[1;32m   1464\u001b[0m \u001b[38;5;28;01melse\u001b[39;00m:\n\u001b[1;32m   1465\u001b[0m   outputs \u001b[38;5;241m=\u001b[39m execute\u001b[38;5;241m.\u001b[39mexecute_with_cancellation(\n\u001b[1;32m   1466\u001b[0m       name\u001b[38;5;241m.\u001b[39mdecode(\u001b[38;5;124m\"\u001b[39m\u001b[38;5;124mutf-8\u001b[39m\u001b[38;5;124m\"\u001b[39m),\n\u001b[1;32m   1467\u001b[0m       num_outputs\u001b[38;5;241m=\u001b[39mnum_outputs,\n\u001b[0;32m   (...)\u001b[0m\n\u001b[1;32m   1471\u001b[0m       cancellation_manager\u001b[38;5;241m=\u001b[39mcancellation_context,\n\u001b[1;32m   1472\u001b[0m   )\n",
      "File \u001b[0;32m~/miniconda3/lib/python3.10/site-packages/tensorflow/python/eager/execute.py:53\u001b[0m, in \u001b[0;36mquick_execute\u001b[0;34m(op_name, num_outputs, inputs, attrs, ctx, name)\u001b[0m\n\u001b[1;32m     51\u001b[0m \u001b[38;5;28;01mtry\u001b[39;00m:\n\u001b[1;32m     52\u001b[0m   ctx\u001b[38;5;241m.\u001b[39mensure_initialized()\n\u001b[0;32m---> 53\u001b[0m   tensors \u001b[38;5;241m=\u001b[39m \u001b[43mpywrap_tfe\u001b[49m\u001b[38;5;241;43m.\u001b[39;49m\u001b[43mTFE_Py_Execute\u001b[49m\u001b[43m(\u001b[49m\u001b[43mctx\u001b[49m\u001b[38;5;241;43m.\u001b[39;49m\u001b[43m_handle\u001b[49m\u001b[43m,\u001b[49m\u001b[43m \u001b[49m\u001b[43mdevice_name\u001b[49m\u001b[43m,\u001b[49m\u001b[43m \u001b[49m\u001b[43mop_name\u001b[49m\u001b[43m,\u001b[49m\n\u001b[1;32m     54\u001b[0m \u001b[43m                                      \u001b[49m\u001b[43minputs\u001b[49m\u001b[43m,\u001b[49m\u001b[43m \u001b[49m\u001b[43mattrs\u001b[49m\u001b[43m,\u001b[49m\u001b[43m \u001b[49m\u001b[43mnum_outputs\u001b[49m\u001b[43m)\u001b[49m\n\u001b[1;32m     55\u001b[0m \u001b[38;5;28;01mexcept\u001b[39;00m core\u001b[38;5;241m.\u001b[39m_NotOkStatusException \u001b[38;5;28;01mas\u001b[39;00m e:\n\u001b[1;32m     56\u001b[0m   \u001b[38;5;28;01mif\u001b[39;00m name \u001b[38;5;129;01mis\u001b[39;00m \u001b[38;5;129;01mnot\u001b[39;00m \u001b[38;5;28;01mNone\u001b[39;00m:\n",
      "\u001b[0;31mKeyboardInterrupt\u001b[0m: "
     ]
    }
   ],
   "source": [
    "model = Sequential(name='Sequential')\n",
    "\n",
    "act_function = 'selu'\n",
    "model.add(GRU(64, return_sequences=False, activation=act_function, dropout=.5,kernel_initializer='he_uniform',input_shape=(130,1662)))\n",
    "#model.add(GRU(128, return_sequences=True, activation=act_function))\n",
    "#model.add(LSTM(64, return_sequences=False, activation=act_function))\n",
    "model.add(Dense(32, activation=act_function))\n",
    "#model.add(Dense(64, activation=act_function))\n",
    "model.add(Dense(16, activation=act_function))\n",
    "model.add(Dropout(.3))\n",
    "model.add(Dense(50, activation='softmax'))\n",
    "optimizer = Lion(learning_rate=.005,global_clipnorm=10)\n",
    "model.compile(optimizer=optimizer, loss='categorical_crossentropy', metrics=['categorical_accuracy'])\n",
    "\n",
    "history = model.fit(Xtrain, Ytrain, epochs=5000, validation_split=.4, batch_size = 64, callbacks=[tb_callback])\n",
    "model.summary()"
   ]
  },
  {
   "cell_type": "code",
   "execution_count": 43,
   "id": "351a3561",
   "metadata": {
    "ExecuteTime": {
     "end_time": "2023-08-08T18:26:53.506688Z",
     "start_time": "2023-08-08T18:25:08.408775Z"
    },
    "scrolled": true
   },
   "outputs": [
    {
     "name": "stderr",
     "output_type": "stream",
     "text": [
      "2023-08-08 19:25:08.494048: I tensorflow/core/common_runtime/gpu/gpu_device.cc:1639] Created device /job:localhost/replica:0/task:0/device:GPU:0 with 1739 MB memory:  -> device: 0, name: NVIDIA GeForce MX250, pci bus id: 0000:01:00.0, compute capability: 6.1\n"
     ]
    },
    {
     "name": "stdout",
     "output_type": "stream",
     "text": [
      "WARNING:tensorflow:Layer gru will not use cuDNN kernels since it doesn't meet the criteria. It will use a generic GPU kernel as fallback when running on GPU.\n",
      "WARNING:tensorflow:Layer gru_1 will not use cuDNN kernels since it doesn't meet the criteria. It will use a generic GPU kernel as fallback when running on GPU.\n"
     ]
    },
    {
     "name": "stderr",
     "output_type": "stream",
     "text": [
      "2023-08-08 19:25:09.673381: W tensorflow/tsl/framework/cpu_allocator_impl.cc:83] Allocation of 808928640 exceeds 10% of free system memory.\n",
      "2023-08-08 19:25:10.394759: W tensorflow/tsl/framework/cpu_allocator_impl.cc:83] Allocation of 808928640 exceeds 10% of free system memory.\n"
     ]
    },
    {
     "name": "stdout",
     "output_type": "stream",
     "text": [
      "Epoch 1/1000\n"
     ]
    },
    {
     "name": "stderr",
     "output_type": "stream",
     "text": [
      "2023-08-08 19:25:13.937670: I tensorflow/compiler/xla/service/service.cc:168] XLA service 0x7f402c03b3b0 initialized for platform CUDA (this does not guarantee that XLA will be used). Devices:\n",
      "2023-08-08 19:25:13.937718: I tensorflow/compiler/xla/service/service.cc:176]   StreamExecutor device (0): NVIDIA GeForce MX250, Compute Capability 6.1\n",
      "2023-08-08 19:25:13.943961: I tensorflow/compiler/mlir/tensorflow/utils/dump_mlir_util.cc:255] disabling MLIR crash reproducer, set env var `MLIR_CRASH_REPRODUCER_DIRECTORY` to enable.\n",
      "2023-08-08 19:25:13.959021: I tensorflow/compiler/xla/stream_executor/cuda/cuda_dnn.cc:432] Loaded cuDNN version 8600\n",
      "2023-08-08 19:25:14.021873: I ./tensorflow/compiler/jit/device_compiler.h:186] Compiled cluster using XLA!  This line is logged at most once for the lifetime of the process.\n"
     ]
    },
    {
     "name": "stdout",
     "output_type": "stream",
     "text": [
      "15/15 [==============================] - 10s 456ms/step - loss: 3.9890 - categorical_accuracy: 0.0224 - val_loss: 4.0937 - val_categorical_accuracy: 0.0025\n",
      "Epoch 2/1000\n",
      "15/15 [==============================] - 6s 382ms/step - loss: 3.9361 - categorical_accuracy: 0.0310 - val_loss: 4.1797 - val_categorical_accuracy: 0.0124\n",
      "Epoch 3/1000\n",
      "15/15 [==============================] - 6s 398ms/step - loss: 3.9642 - categorical_accuracy: 0.0331 - val_loss: 4.0007 - val_categorical_accuracy: 0.0075\n",
      "Epoch 4/1000\n",
      "15/15 [==============================] - 6s 414ms/step - loss: 3.9640 - categorical_accuracy: 0.0182 - val_loss: 4.0517 - val_categorical_accuracy: 0.0100\n",
      "Epoch 5/1000\n",
      "15/15 [==============================] - 6s 410ms/step - loss: 3.9601 - categorical_accuracy: 0.0267 - val_loss: 4.1521 - val_categorical_accuracy: 0.0274\n",
      "Epoch 6/1000\n",
      "15/15 [==============================] - 6s 418ms/step - loss: 3.9760 - categorical_accuracy: 0.0278 - val_loss: 4.3156 - val_categorical_accuracy: 0.0274\n",
      "Epoch 7/1000\n",
      "15/15 [==============================] - 6s 416ms/step - loss: 3.9817 - categorical_accuracy: 0.0321 - val_loss: 4.1318 - val_categorical_accuracy: 0.0000e+00\n",
      "Epoch 8/1000\n",
      "15/15 [==============================] - 6s 419ms/step - loss: 3.9300 - categorical_accuracy: 0.0267 - val_loss: 4.3375 - val_categorical_accuracy: 0.0249\n",
      "Epoch 9/1000\n",
      "15/15 [==============================] - 6s 433ms/step - loss: 4.0013 - categorical_accuracy: 0.0214 - val_loss: 4.2034 - val_categorical_accuracy: 0.0348\n",
      "Epoch 10/1000\n",
      "15/15 [==============================] - 6s 433ms/step - loss: 3.9682 - categorical_accuracy: 0.0235 - val_loss: 4.2177 - val_categorical_accuracy: 0.0000e+00\n",
      "Epoch 11/1000\n",
      "15/15 [==============================] - 6s 431ms/step - loss: 3.9657 - categorical_accuracy: 0.0267 - val_loss: 4.2617 - val_categorical_accuracy: 0.0025\n",
      "Epoch 12/1000\n",
      "15/15 [==============================] - 6s 430ms/step - loss: 4.1451 - categorical_accuracy: 0.0321 - val_loss: 4.3738 - val_categorical_accuracy: 0.0000e+00\n",
      "Epoch 13/1000\n",
      "15/15 [==============================] - 7s 446ms/step - loss: 3.9314 - categorical_accuracy: 0.0385 - val_loss: nan - val_categorical_accuracy: 0.0000e+00\n",
      "Epoch 14/1000\n",
      "15/15 [==============================] - 7s 436ms/step - loss: nan - categorical_accuracy: 0.0310 - val_loss: nan - val_categorical_accuracy: 0.0000e+00\n",
      "Epoch 15/1000\n",
      "15/15 [==============================] - 7s 464ms/step - loss: nan - categorical_accuracy: 0.0310 - val_loss: nan - val_categorical_accuracy: 0.0000e+00\n",
      "Epoch 16/1000\n",
      " 3/15 [=====>........................] - ETA: 5s - loss: nan - categorical_accuracy: 0.0365"
     ]
    },
    {
     "ename": "KeyboardInterrupt",
     "evalue": "",
     "output_type": "error",
     "traceback": [
      "\u001b[0;31m---------------------------------------------------------------------------\u001b[0m",
      "\u001b[0;31mKeyboardInterrupt\u001b[0m                         Traceback (most recent call last)",
      "Cell \u001b[0;32mIn[43], line 16\u001b[0m\n\u001b[1;32m     13\u001b[0m optimizer \u001b[38;5;241m=\u001b[39m Lion(learning_rate\u001b[38;5;241m=\u001b[39m\u001b[38;5;241m.005\u001b[39m)\n\u001b[1;32m     14\u001b[0m model\u001b[38;5;241m.\u001b[39mcompile(optimizer\u001b[38;5;241m=\u001b[39moptimizer, loss\u001b[38;5;241m=\u001b[39m\u001b[38;5;124m'\u001b[39m\u001b[38;5;124mcategorical_crossentropy\u001b[39m\u001b[38;5;124m'\u001b[39m, metrics\u001b[38;5;241m=\u001b[39m[\u001b[38;5;124m'\u001b[39m\u001b[38;5;124mcategorical_accuracy\u001b[39m\u001b[38;5;124m'\u001b[39m])\n\u001b[0;32m---> 16\u001b[0m history \u001b[38;5;241m=\u001b[39m \u001b[43mmodel\u001b[49m\u001b[38;5;241;43m.\u001b[39;49m\u001b[43mfit\u001b[49m\u001b[43m(\u001b[49m\u001b[43mXtrain\u001b[49m\u001b[43m,\u001b[49m\u001b[43m \u001b[49m\u001b[43mYtrain\u001b[49m\u001b[43m,\u001b[49m\u001b[43m \u001b[49m\u001b[43mepochs\u001b[49m\u001b[38;5;241;43m=\u001b[39;49m\u001b[38;5;241;43m1000\u001b[39;49m\u001b[43m,\u001b[49m\u001b[43m \u001b[49m\u001b[43mvalidation_split\u001b[49m\u001b[38;5;241;43m=\u001b[39;49m\u001b[38;5;241;43m.3\u001b[39;49m\u001b[43m,\u001b[49m\u001b[43m \u001b[49m\u001b[43mbatch_size\u001b[49m\u001b[43m \u001b[49m\u001b[38;5;241;43m=\u001b[39;49m\u001b[43m \u001b[49m\u001b[38;5;241;43m64\u001b[39;49m\u001b[43m,\u001b[49m\u001b[43m \u001b[49m\u001b[43mcallbacks\u001b[49m\u001b[38;5;241;43m=\u001b[39;49m\u001b[43m[\u001b[49m\u001b[43mtb_callback\u001b[49m\u001b[43m]\u001b[49m\u001b[43m)\u001b[49m\n\u001b[1;32m     17\u001b[0m model\u001b[38;5;241m.\u001b[39msummary()\n",
      "File \u001b[0;32m~/miniconda3/lib/python3.10/site-packages/keras/src/utils/traceback_utils.py:65\u001b[0m, in \u001b[0;36mfilter_traceback.<locals>.error_handler\u001b[0;34m(*args, **kwargs)\u001b[0m\n\u001b[1;32m     63\u001b[0m filtered_tb \u001b[38;5;241m=\u001b[39m \u001b[38;5;28;01mNone\u001b[39;00m\n\u001b[1;32m     64\u001b[0m \u001b[38;5;28;01mtry\u001b[39;00m:\n\u001b[0;32m---> 65\u001b[0m     \u001b[38;5;28;01mreturn\u001b[39;00m \u001b[43mfn\u001b[49m\u001b[43m(\u001b[49m\u001b[38;5;241;43m*\u001b[39;49m\u001b[43margs\u001b[49m\u001b[43m,\u001b[49m\u001b[43m \u001b[49m\u001b[38;5;241;43m*\u001b[39;49m\u001b[38;5;241;43m*\u001b[39;49m\u001b[43mkwargs\u001b[49m\u001b[43m)\u001b[49m\n\u001b[1;32m     66\u001b[0m \u001b[38;5;28;01mexcept\u001b[39;00m \u001b[38;5;167;01mException\u001b[39;00m \u001b[38;5;28;01mas\u001b[39;00m e:\n\u001b[1;32m     67\u001b[0m     filtered_tb \u001b[38;5;241m=\u001b[39m _process_traceback_frames(e\u001b[38;5;241m.\u001b[39m__traceback__)\n",
      "File \u001b[0;32m~/miniconda3/lib/python3.10/site-packages/keras/src/engine/training.py:1742\u001b[0m, in \u001b[0;36mModel.fit\u001b[0;34m(self, x, y, batch_size, epochs, verbose, callbacks, validation_split, validation_data, shuffle, class_weight, sample_weight, initial_epoch, steps_per_epoch, validation_steps, validation_batch_size, validation_freq, max_queue_size, workers, use_multiprocessing)\u001b[0m\n\u001b[1;32m   1734\u001b[0m \u001b[38;5;28;01mwith\u001b[39;00m tf\u001b[38;5;241m.\u001b[39mprofiler\u001b[38;5;241m.\u001b[39mexperimental\u001b[38;5;241m.\u001b[39mTrace(\n\u001b[1;32m   1735\u001b[0m     \u001b[38;5;124m\"\u001b[39m\u001b[38;5;124mtrain\u001b[39m\u001b[38;5;124m\"\u001b[39m,\n\u001b[1;32m   1736\u001b[0m     epoch_num\u001b[38;5;241m=\u001b[39mepoch,\n\u001b[0;32m   (...)\u001b[0m\n\u001b[1;32m   1739\u001b[0m     _r\u001b[38;5;241m=\u001b[39m\u001b[38;5;241m1\u001b[39m,\n\u001b[1;32m   1740\u001b[0m ):\n\u001b[1;32m   1741\u001b[0m     callbacks\u001b[38;5;241m.\u001b[39mon_train_batch_begin(step)\n\u001b[0;32m-> 1742\u001b[0m     tmp_logs \u001b[38;5;241m=\u001b[39m \u001b[38;5;28;43mself\u001b[39;49m\u001b[38;5;241;43m.\u001b[39;49m\u001b[43mtrain_function\u001b[49m\u001b[43m(\u001b[49m\u001b[43miterator\u001b[49m\u001b[43m)\u001b[49m\n\u001b[1;32m   1743\u001b[0m     \u001b[38;5;28;01mif\u001b[39;00m data_handler\u001b[38;5;241m.\u001b[39mshould_sync:\n\u001b[1;32m   1744\u001b[0m         context\u001b[38;5;241m.\u001b[39masync_wait()\n",
      "File \u001b[0;32m~/miniconda3/lib/python3.10/site-packages/tensorflow/python/util/traceback_utils.py:150\u001b[0m, in \u001b[0;36mfilter_traceback.<locals>.error_handler\u001b[0;34m(*args, **kwargs)\u001b[0m\n\u001b[1;32m    148\u001b[0m filtered_tb \u001b[38;5;241m=\u001b[39m \u001b[38;5;28;01mNone\u001b[39;00m\n\u001b[1;32m    149\u001b[0m \u001b[38;5;28;01mtry\u001b[39;00m:\n\u001b[0;32m--> 150\u001b[0m   \u001b[38;5;28;01mreturn\u001b[39;00m \u001b[43mfn\u001b[49m\u001b[43m(\u001b[49m\u001b[38;5;241;43m*\u001b[39;49m\u001b[43margs\u001b[49m\u001b[43m,\u001b[49m\u001b[43m \u001b[49m\u001b[38;5;241;43m*\u001b[39;49m\u001b[38;5;241;43m*\u001b[39;49m\u001b[43mkwargs\u001b[49m\u001b[43m)\u001b[49m\n\u001b[1;32m    151\u001b[0m \u001b[38;5;28;01mexcept\u001b[39;00m \u001b[38;5;167;01mException\u001b[39;00m \u001b[38;5;28;01mas\u001b[39;00m e:\n\u001b[1;32m    152\u001b[0m   filtered_tb \u001b[38;5;241m=\u001b[39m _process_traceback_frames(e\u001b[38;5;241m.\u001b[39m__traceback__)\n",
      "File \u001b[0;32m~/miniconda3/lib/python3.10/site-packages/tensorflow/python/eager/polymorphic_function/polymorphic_function.py:825\u001b[0m, in \u001b[0;36mFunction.__call__\u001b[0;34m(self, *args, **kwds)\u001b[0m\n\u001b[1;32m    822\u001b[0m compiler \u001b[38;5;241m=\u001b[39m \u001b[38;5;124m\"\u001b[39m\u001b[38;5;124mxla\u001b[39m\u001b[38;5;124m\"\u001b[39m \u001b[38;5;28;01mif\u001b[39;00m \u001b[38;5;28mself\u001b[39m\u001b[38;5;241m.\u001b[39m_jit_compile \u001b[38;5;28;01melse\u001b[39;00m \u001b[38;5;124m\"\u001b[39m\u001b[38;5;124mnonXla\u001b[39m\u001b[38;5;124m\"\u001b[39m\n\u001b[1;32m    824\u001b[0m \u001b[38;5;28;01mwith\u001b[39;00m OptionalXlaContext(\u001b[38;5;28mself\u001b[39m\u001b[38;5;241m.\u001b[39m_jit_compile):\n\u001b[0;32m--> 825\u001b[0m   result \u001b[38;5;241m=\u001b[39m \u001b[38;5;28;43mself\u001b[39;49m\u001b[38;5;241;43m.\u001b[39;49m\u001b[43m_call\u001b[49m\u001b[43m(\u001b[49m\u001b[38;5;241;43m*\u001b[39;49m\u001b[43margs\u001b[49m\u001b[43m,\u001b[49m\u001b[43m \u001b[49m\u001b[38;5;241;43m*\u001b[39;49m\u001b[38;5;241;43m*\u001b[39;49m\u001b[43mkwds\u001b[49m\u001b[43m)\u001b[49m\n\u001b[1;32m    827\u001b[0m new_tracing_count \u001b[38;5;241m=\u001b[39m \u001b[38;5;28mself\u001b[39m\u001b[38;5;241m.\u001b[39mexperimental_get_tracing_count()\n\u001b[1;32m    828\u001b[0m without_tracing \u001b[38;5;241m=\u001b[39m (tracing_count \u001b[38;5;241m==\u001b[39m new_tracing_count)\n",
      "File \u001b[0;32m~/miniconda3/lib/python3.10/site-packages/tensorflow/python/eager/polymorphic_function/polymorphic_function.py:857\u001b[0m, in \u001b[0;36mFunction._call\u001b[0;34m(self, *args, **kwds)\u001b[0m\n\u001b[1;32m    854\u001b[0m   \u001b[38;5;28mself\u001b[39m\u001b[38;5;241m.\u001b[39m_lock\u001b[38;5;241m.\u001b[39mrelease()\n\u001b[1;32m    855\u001b[0m   \u001b[38;5;66;03m# In this case we have created variables on the first call, so we run the\u001b[39;00m\n\u001b[1;32m    856\u001b[0m   \u001b[38;5;66;03m# defunned version which is guaranteed to never create variables.\u001b[39;00m\n\u001b[0;32m--> 857\u001b[0m   \u001b[38;5;28;01mreturn\u001b[39;00m \u001b[38;5;28;43mself\u001b[39;49m\u001b[38;5;241;43m.\u001b[39;49m\u001b[43m_no_variable_creation_fn\u001b[49m\u001b[43m(\u001b[49m\u001b[38;5;241;43m*\u001b[39;49m\u001b[43margs\u001b[49m\u001b[43m,\u001b[49m\u001b[43m \u001b[49m\u001b[38;5;241;43m*\u001b[39;49m\u001b[38;5;241;43m*\u001b[39;49m\u001b[43mkwds\u001b[49m\u001b[43m)\u001b[49m  \u001b[38;5;66;03m# pylint: disable=not-callable\u001b[39;00m\n\u001b[1;32m    858\u001b[0m \u001b[38;5;28;01melif\u001b[39;00m \u001b[38;5;28mself\u001b[39m\u001b[38;5;241m.\u001b[39m_variable_creation_fn \u001b[38;5;129;01mis\u001b[39;00m \u001b[38;5;129;01mnot\u001b[39;00m \u001b[38;5;28;01mNone\u001b[39;00m:\n\u001b[1;32m    859\u001b[0m   \u001b[38;5;66;03m# Release the lock early so that multiple threads can perform the call\u001b[39;00m\n\u001b[1;32m    860\u001b[0m   \u001b[38;5;66;03m# in parallel.\u001b[39;00m\n\u001b[1;32m    861\u001b[0m   \u001b[38;5;28mself\u001b[39m\u001b[38;5;241m.\u001b[39m_lock\u001b[38;5;241m.\u001b[39mrelease()\n",
      "File \u001b[0;32m~/miniconda3/lib/python3.10/site-packages/tensorflow/python/eager/polymorphic_function/tracing_compiler.py:148\u001b[0m, in \u001b[0;36mTracingCompiler.__call__\u001b[0;34m(self, *args, **kwargs)\u001b[0m\n\u001b[1;32m    145\u001b[0m \u001b[38;5;28;01mwith\u001b[39;00m \u001b[38;5;28mself\u001b[39m\u001b[38;5;241m.\u001b[39m_lock:\n\u001b[1;32m    146\u001b[0m   (concrete_function,\n\u001b[1;32m    147\u001b[0m    filtered_flat_args) \u001b[38;5;241m=\u001b[39m \u001b[38;5;28mself\u001b[39m\u001b[38;5;241m.\u001b[39m_maybe_define_function(args, kwargs)\n\u001b[0;32m--> 148\u001b[0m \u001b[38;5;28;01mreturn\u001b[39;00m \u001b[43mconcrete_function\u001b[49m\u001b[38;5;241;43m.\u001b[39;49m\u001b[43m_call_flat\u001b[49m\u001b[43m(\u001b[49m\n\u001b[1;32m    149\u001b[0m \u001b[43m    \u001b[49m\u001b[43mfiltered_flat_args\u001b[49m\u001b[43m,\u001b[49m\u001b[43m \u001b[49m\u001b[43mcaptured_inputs\u001b[49m\u001b[38;5;241;43m=\u001b[39;49m\u001b[43mconcrete_function\u001b[49m\u001b[38;5;241;43m.\u001b[39;49m\u001b[43mcaptured_inputs\u001b[49m\u001b[43m)\u001b[49m\n",
      "File \u001b[0;32m~/miniconda3/lib/python3.10/site-packages/tensorflow/python/eager/polymorphic_function/monomorphic_function.py:1349\u001b[0m, in \u001b[0;36mConcreteFunction._call_flat\u001b[0;34m(self, args, captured_inputs)\u001b[0m\n\u001b[1;32m   1345\u001b[0m possible_gradient_type \u001b[38;5;241m=\u001b[39m gradients_util\u001b[38;5;241m.\u001b[39mPossibleTapeGradientTypes(args)\n\u001b[1;32m   1346\u001b[0m \u001b[38;5;28;01mif\u001b[39;00m (possible_gradient_type \u001b[38;5;241m==\u001b[39m gradients_util\u001b[38;5;241m.\u001b[39mPOSSIBLE_GRADIENT_TYPES_NONE\n\u001b[1;32m   1347\u001b[0m     \u001b[38;5;129;01mand\u001b[39;00m executing_eagerly):\n\u001b[1;32m   1348\u001b[0m   \u001b[38;5;66;03m# No tape is watching; skip to running the function.\u001b[39;00m\n\u001b[0;32m-> 1349\u001b[0m   \u001b[38;5;28;01mreturn\u001b[39;00m \u001b[38;5;28mself\u001b[39m\u001b[38;5;241m.\u001b[39m_build_call_outputs(\u001b[38;5;28;43mself\u001b[39;49m\u001b[38;5;241;43m.\u001b[39;49m\u001b[43m_inference_function\u001b[49m\u001b[43m(\u001b[49m\u001b[38;5;241;43m*\u001b[39;49m\u001b[43margs\u001b[49m\u001b[43m)\u001b[49m)\n\u001b[1;32m   1350\u001b[0m forward_backward \u001b[38;5;241m=\u001b[39m \u001b[38;5;28mself\u001b[39m\u001b[38;5;241m.\u001b[39m_select_forward_and_backward_functions(\n\u001b[1;32m   1351\u001b[0m     args,\n\u001b[1;32m   1352\u001b[0m     possible_gradient_type,\n\u001b[1;32m   1353\u001b[0m     executing_eagerly)\n\u001b[1;32m   1354\u001b[0m forward_function, args_with_tangents \u001b[38;5;241m=\u001b[39m forward_backward\u001b[38;5;241m.\u001b[39mforward()\n",
      "File \u001b[0;32m~/miniconda3/lib/python3.10/site-packages/tensorflow/python/eager/polymorphic_function/atomic_function.py:196\u001b[0m, in \u001b[0;36mAtomicFunction.__call__\u001b[0;34m(self, *args)\u001b[0m\n\u001b[1;32m    194\u001b[0m \u001b[38;5;28;01mwith\u001b[39;00m record\u001b[38;5;241m.\u001b[39mstop_recording():\n\u001b[1;32m    195\u001b[0m   \u001b[38;5;28;01mif\u001b[39;00m \u001b[38;5;28mself\u001b[39m\u001b[38;5;241m.\u001b[39m_bound_context\u001b[38;5;241m.\u001b[39mexecuting_eagerly():\n\u001b[0;32m--> 196\u001b[0m     outputs \u001b[38;5;241m=\u001b[39m \u001b[38;5;28;43mself\u001b[39;49m\u001b[38;5;241;43m.\u001b[39;49m\u001b[43m_bound_context\u001b[49m\u001b[38;5;241;43m.\u001b[39;49m\u001b[43mcall_function\u001b[49m\u001b[43m(\u001b[49m\n\u001b[1;32m    197\u001b[0m \u001b[43m        \u001b[49m\u001b[38;5;28;43mself\u001b[39;49m\u001b[38;5;241;43m.\u001b[39;49m\u001b[43mname\u001b[49m\u001b[43m,\u001b[49m\n\u001b[1;32m    198\u001b[0m \u001b[43m        \u001b[49m\u001b[38;5;28;43mlist\u001b[39;49m\u001b[43m(\u001b[49m\u001b[43margs\u001b[49m\u001b[43m)\u001b[49m\u001b[43m,\u001b[49m\n\u001b[1;32m    199\u001b[0m \u001b[43m        \u001b[49m\u001b[38;5;28;43mlen\u001b[39;49m\u001b[43m(\u001b[49m\u001b[38;5;28;43mself\u001b[39;49m\u001b[38;5;241;43m.\u001b[39;49m\u001b[43mfunction_type\u001b[49m\u001b[38;5;241;43m.\u001b[39;49m\u001b[43mflat_outputs\u001b[49m\u001b[43m)\u001b[49m\u001b[43m,\u001b[49m\n\u001b[1;32m    200\u001b[0m \u001b[43m    \u001b[49m\u001b[43m)\u001b[49m\n\u001b[1;32m    201\u001b[0m   \u001b[38;5;28;01melse\u001b[39;00m:\n\u001b[1;32m    202\u001b[0m     outputs \u001b[38;5;241m=\u001b[39m make_call_op_in_graph(\u001b[38;5;28mself\u001b[39m, \u001b[38;5;28mlist\u001b[39m(args))\n",
      "File \u001b[0;32m~/miniconda3/lib/python3.10/site-packages/tensorflow/python/eager/context.py:1457\u001b[0m, in \u001b[0;36mContext.call_function\u001b[0;34m(self, name, tensor_inputs, num_outputs)\u001b[0m\n\u001b[1;32m   1455\u001b[0m cancellation_context \u001b[38;5;241m=\u001b[39m cancellation\u001b[38;5;241m.\u001b[39mcontext()\n\u001b[1;32m   1456\u001b[0m \u001b[38;5;28;01mif\u001b[39;00m cancellation_context \u001b[38;5;129;01mis\u001b[39;00m \u001b[38;5;28;01mNone\u001b[39;00m:\n\u001b[0;32m-> 1457\u001b[0m   outputs \u001b[38;5;241m=\u001b[39m \u001b[43mexecute\u001b[49m\u001b[38;5;241;43m.\u001b[39;49m\u001b[43mexecute\u001b[49m\u001b[43m(\u001b[49m\n\u001b[1;32m   1458\u001b[0m \u001b[43m      \u001b[49m\u001b[43mname\u001b[49m\u001b[38;5;241;43m.\u001b[39;49m\u001b[43mdecode\u001b[49m\u001b[43m(\u001b[49m\u001b[38;5;124;43m\"\u001b[39;49m\u001b[38;5;124;43mutf-8\u001b[39;49m\u001b[38;5;124;43m\"\u001b[39;49m\u001b[43m)\u001b[49m\u001b[43m,\u001b[49m\n\u001b[1;32m   1459\u001b[0m \u001b[43m      \u001b[49m\u001b[43mnum_outputs\u001b[49m\u001b[38;5;241;43m=\u001b[39;49m\u001b[43mnum_outputs\u001b[49m\u001b[43m,\u001b[49m\n\u001b[1;32m   1460\u001b[0m \u001b[43m      \u001b[49m\u001b[43minputs\u001b[49m\u001b[38;5;241;43m=\u001b[39;49m\u001b[43mtensor_inputs\u001b[49m\u001b[43m,\u001b[49m\n\u001b[1;32m   1461\u001b[0m \u001b[43m      \u001b[49m\u001b[43mattrs\u001b[49m\u001b[38;5;241;43m=\u001b[39;49m\u001b[43mattrs\u001b[49m\u001b[43m,\u001b[49m\n\u001b[1;32m   1462\u001b[0m \u001b[43m      \u001b[49m\u001b[43mctx\u001b[49m\u001b[38;5;241;43m=\u001b[39;49m\u001b[38;5;28;43mself\u001b[39;49m\u001b[43m,\u001b[49m\n\u001b[1;32m   1463\u001b[0m \u001b[43m  \u001b[49m\u001b[43m)\u001b[49m\n\u001b[1;32m   1464\u001b[0m \u001b[38;5;28;01melse\u001b[39;00m:\n\u001b[1;32m   1465\u001b[0m   outputs \u001b[38;5;241m=\u001b[39m execute\u001b[38;5;241m.\u001b[39mexecute_with_cancellation(\n\u001b[1;32m   1466\u001b[0m       name\u001b[38;5;241m.\u001b[39mdecode(\u001b[38;5;124m\"\u001b[39m\u001b[38;5;124mutf-8\u001b[39m\u001b[38;5;124m\"\u001b[39m),\n\u001b[1;32m   1467\u001b[0m       num_outputs\u001b[38;5;241m=\u001b[39mnum_outputs,\n\u001b[0;32m   (...)\u001b[0m\n\u001b[1;32m   1471\u001b[0m       cancellation_manager\u001b[38;5;241m=\u001b[39mcancellation_context,\n\u001b[1;32m   1472\u001b[0m   )\n",
      "File \u001b[0;32m~/miniconda3/lib/python3.10/site-packages/tensorflow/python/eager/execute.py:53\u001b[0m, in \u001b[0;36mquick_execute\u001b[0;34m(op_name, num_outputs, inputs, attrs, ctx, name)\u001b[0m\n\u001b[1;32m     51\u001b[0m \u001b[38;5;28;01mtry\u001b[39;00m:\n\u001b[1;32m     52\u001b[0m   ctx\u001b[38;5;241m.\u001b[39mensure_initialized()\n\u001b[0;32m---> 53\u001b[0m   tensors \u001b[38;5;241m=\u001b[39m \u001b[43mpywrap_tfe\u001b[49m\u001b[38;5;241;43m.\u001b[39;49m\u001b[43mTFE_Py_Execute\u001b[49m\u001b[43m(\u001b[49m\u001b[43mctx\u001b[49m\u001b[38;5;241;43m.\u001b[39;49m\u001b[43m_handle\u001b[49m\u001b[43m,\u001b[49m\u001b[43m \u001b[49m\u001b[43mdevice_name\u001b[49m\u001b[43m,\u001b[49m\u001b[43m \u001b[49m\u001b[43mop_name\u001b[49m\u001b[43m,\u001b[49m\n\u001b[1;32m     54\u001b[0m \u001b[43m                                      \u001b[49m\u001b[43minputs\u001b[49m\u001b[43m,\u001b[49m\u001b[43m \u001b[49m\u001b[43mattrs\u001b[49m\u001b[43m,\u001b[49m\u001b[43m \u001b[49m\u001b[43mnum_outputs\u001b[49m\u001b[43m)\u001b[49m\n\u001b[1;32m     55\u001b[0m \u001b[38;5;28;01mexcept\u001b[39;00m core\u001b[38;5;241m.\u001b[39m_NotOkStatusException \u001b[38;5;28;01mas\u001b[39;00m e:\n\u001b[1;32m     56\u001b[0m   \u001b[38;5;28;01mif\u001b[39;00m name \u001b[38;5;129;01mis\u001b[39;00m \u001b[38;5;129;01mnot\u001b[39;00m \u001b[38;5;28;01mNone\u001b[39;00m:\n",
      "\u001b[0;31mKeyboardInterrupt\u001b[0m: "
     ]
    }
   ],
   "source": [
    "model = Sequential(name='Sequential') \n",
    "\n",
    "act_function = 'LeakyReLU'\n",
    "initializer = 'lecun_uniform'\n",
    "model.add(GRU(32, return_sequences=True, kernel_initializer=initializer, activation=act_function, dropout=0,input_shape=(130,1662)))\n",
    "model.add(GRU(8, return_sequences=False, activation=act_function))\n",
    "#model.add(LSTM(64, return_sequences=False, activation=act_function))\n",
    "model.add(Dense(32, activation=act_function, kernel_initializer=initializer))\n",
    "model.add(Dense(32, activation=act_function, kernel_initializer=initializer))\n",
    "model.add(Dense(16, activation=act_function, kernel_initializer=initializer))\n",
    "#model.add(Dropout(.3))\n",
    "model.add(Dense(50, activation='softmax'))\n",
    "optimizer = Lion(learning_rate=.005)\n",
    "model.compile(optimizer=optimizer, loss='categorical_crossentropy', metrics=['categorical_accuracy'])\n",
    "\n",
    "history = model.fit(Xtrain, Ytrain, epochs=1000, validation_split=.3, batch_size = 64, callbacks=[tb_callback])\n",
    "model.summary()"
   ]
  },
  {
   "cell_type": "code",
   "execution_count": 44,
   "id": "95fe1a9b",
   "metadata": {
    "ExecuteTime": {
     "end_time": "2023-08-08T17:06:41.794473Z",
     "start_time": "2023-08-08T17:06:41.777177Z"
    }
   },
   "outputs": [
    {
     "ename": "NameError",
     "evalue": "name 'initializer' is not defined",
     "output_type": "error",
     "traceback": [
      "\u001b[0;31m---------------------------------------------------------------------------\u001b[0m",
      "\u001b[0;31mNameError\u001b[0m                                 Traceback (most recent call last)",
      "Cell \u001b[0;32mIn[44], line 1\u001b[0m\n\u001b[0;32m----> 1\u001b[0m \u001b[43minitializer\u001b[49m\n",
      "\u001b[0;31mNameError\u001b[0m: name 'initializer' is not defined"
     ]
    }
   ],
   "source": [
    "initializer"
   ]
  },
  {
   "cell_type": "code",
   "execution_count": 45,
   "id": "4afe0ed7",
   "metadata": {
    "ExecuteTime": {
     "end_time": "2023-08-08T16:43:40.044523Z",
     "start_time": "2023-08-08T16:36:17.221137Z"
    },
    "scrolled": true
   },
   "outputs": [
    {
     "name": "stdout",
     "output_type": "stream",
     "text": [
      "WARNING:tensorflow:Layer gru_1 will not use cuDNN kernels since it doesn't meet the criteria. It will use a generic GPU kernel as fallback when running on GPU.\n"
     ]
    },
    {
     "name": "stderr",
     "output_type": "stream",
     "text": [
      "2023-08-08 10:10:09.127784: W tensorflow/tsl/framework/cpu_allocator_impl.cc:83] Allocation of 924736800 exceeds 10% of free system memory.\n",
      "2023-08-08 10:10:09.961623: W tensorflow/tsl/framework/cpu_allocator_impl.cc:83] Allocation of 924736800 exceeds 10% of free system memory.\n"
     ]
    },
    {
     "name": "stdout",
     "output_type": "stream",
     "text": [
      "Epoch 1/1000\n",
      "34/34 [==============================] - 9s 207ms/step - loss: 3.9179 - categorical_accuracy: 0.0224 - val_loss: 4.3422 - val_categorical_accuracy: 0.0000e+00\n",
      "Epoch 2/1000\n",
      "34/34 [==============================] - 7s 201ms/step - loss: 3.8832 - categorical_accuracy: 0.0234 - val_loss: 5.0312 - val_categorical_accuracy: 0.0000e+00\n",
      "Epoch 3/1000\n",
      "34/34 [==============================] - 7s 192ms/step - loss: 3.8310 - categorical_accuracy: 0.0215 - val_loss: 5.5114 - val_categorical_accuracy: 0.0000e+00\n",
      "Epoch 4/1000\n",
      "34/34 [==============================] - 7s 202ms/step - loss: 3.8174 - categorical_accuracy: 0.0271 - val_loss: 5.8857 - val_categorical_accuracy: 0.0000e+00\n",
      "Epoch 5/1000\n",
      "34/34 [==============================] - 7s 210ms/step - loss: 3.7950 - categorical_accuracy: 0.0336 - val_loss: 5.7742 - val_categorical_accuracy: 0.0000e+00\n",
      "Epoch 6/1000\n",
      "34/34 [==============================] - 7s 212ms/step - loss: 3.7763 - categorical_accuracy: 0.0262 - val_loss: 6.2825 - val_categorical_accuracy: 0.0000e+00\n",
      "Epoch 7/1000\n",
      "34/34 [==============================] - 7s 208ms/step - loss: 3.7677 - categorical_accuracy: 0.0393 - val_loss: 6.2689 - val_categorical_accuracy: 0.0000e+00\n",
      "Epoch 8/1000\n",
      "34/34 [==============================] - 7s 214ms/step - loss: 3.7600 - categorical_accuracy: 0.0318 - val_loss: 6.8157 - val_categorical_accuracy: 0.0000e+00\n",
      "Epoch 9/1000\n",
      "34/34 [==============================] - 7s 213ms/step - loss: 3.7398 - categorical_accuracy: 0.0336 - val_loss: 6.5783 - val_categorical_accuracy: 0.0000e+00\n",
      "Epoch 10/1000\n",
      " 2/34 [>.............................] - ETA: 6s - loss: 3.6622 - categorical_accuracy: 0.0156    "
     ]
    },
    {
     "ename": "KeyboardInterrupt",
     "evalue": "",
     "output_type": "error",
     "traceback": [
      "\u001b[0;31m---------------------------------------------------------------------------\u001b[0m",
      "\u001b[0;31mKeyboardInterrupt\u001b[0m                         Traceback (most recent call last)",
      "Cell \u001b[0;32mIn[45], line 15\u001b[0m\n\u001b[1;32m     12\u001b[0m optimizer \u001b[38;5;241m=\u001b[39m Lion(learning_rate\u001b[38;5;241m=\u001b[39m\u001b[38;5;241m.00025\u001b[39m)\n\u001b[1;32m     13\u001b[0m model\u001b[38;5;241m.\u001b[39mcompile(optimizer\u001b[38;5;241m=\u001b[39moptimizer, loss\u001b[38;5;241m=\u001b[39m\u001b[38;5;124m'\u001b[39m\u001b[38;5;124mcategorical_crossentropy\u001b[39m\u001b[38;5;124m'\u001b[39m, metrics\u001b[38;5;241m=\u001b[39m[\u001b[38;5;124m'\u001b[39m\u001b[38;5;124mcategorical_accuracy\u001b[39m\u001b[38;5;124m'\u001b[39m])\n\u001b[0;32m---> 15\u001b[0m history \u001b[38;5;241m=\u001b[39m \u001b[43mmodel\u001b[49m\u001b[38;5;241;43m.\u001b[39;49m\u001b[43mfit\u001b[49m\u001b[43m(\u001b[49m\u001b[43mXtrain\u001b[49m\u001b[43m,\u001b[49m\u001b[43m \u001b[49m\u001b[43mYtrain\u001b[49m\u001b[43m,\u001b[49m\u001b[43m \u001b[49m\u001b[43mepochs\u001b[49m\u001b[38;5;241;43m=\u001b[39;49m\u001b[38;5;241;43m1000\u001b[39;49m\u001b[43m,\u001b[49m\u001b[43m \u001b[49m\u001b[43mvalidation_split\u001b[49m\u001b[38;5;241;43m=\u001b[39;49m\u001b[38;5;241;43m.2\u001b[39;49m\u001b[43m,\u001b[49m\u001b[43m \u001b[49m\u001b[43mbatch_size\u001b[49m\u001b[43m \u001b[49m\u001b[38;5;241;43m=\u001b[39;49m\u001b[43m \u001b[49m\u001b[38;5;241;43m32\u001b[39;49m\u001b[43m,\u001b[49m\u001b[43m \u001b[49m\u001b[43mcallbacks\u001b[49m\u001b[38;5;241;43m=\u001b[39;49m\u001b[43m[\u001b[49m\u001b[43mtb_callback\u001b[49m\u001b[43m]\u001b[49m\u001b[43m)\u001b[49m\n\u001b[1;32m     16\u001b[0m model\u001b[38;5;241m.\u001b[39msummary()\n",
      "File \u001b[0;32m~/miniconda3/lib/python3.10/site-packages/keras/src/utils/traceback_utils.py:65\u001b[0m, in \u001b[0;36mfilter_traceback.<locals>.error_handler\u001b[0;34m(*args, **kwargs)\u001b[0m\n\u001b[1;32m     63\u001b[0m filtered_tb \u001b[38;5;241m=\u001b[39m \u001b[38;5;28;01mNone\u001b[39;00m\n\u001b[1;32m     64\u001b[0m \u001b[38;5;28;01mtry\u001b[39;00m:\n\u001b[0;32m---> 65\u001b[0m     \u001b[38;5;28;01mreturn\u001b[39;00m \u001b[43mfn\u001b[49m\u001b[43m(\u001b[49m\u001b[38;5;241;43m*\u001b[39;49m\u001b[43margs\u001b[49m\u001b[43m,\u001b[49m\u001b[43m \u001b[49m\u001b[38;5;241;43m*\u001b[39;49m\u001b[38;5;241;43m*\u001b[39;49m\u001b[43mkwargs\u001b[49m\u001b[43m)\u001b[49m\n\u001b[1;32m     66\u001b[0m \u001b[38;5;28;01mexcept\u001b[39;00m \u001b[38;5;167;01mException\u001b[39;00m \u001b[38;5;28;01mas\u001b[39;00m e:\n\u001b[1;32m     67\u001b[0m     filtered_tb \u001b[38;5;241m=\u001b[39m _process_traceback_frames(e\u001b[38;5;241m.\u001b[39m__traceback__)\n",
      "File \u001b[0;32m~/miniconda3/lib/python3.10/site-packages/keras/src/engine/training.py:1742\u001b[0m, in \u001b[0;36mModel.fit\u001b[0;34m(self, x, y, batch_size, epochs, verbose, callbacks, validation_split, validation_data, shuffle, class_weight, sample_weight, initial_epoch, steps_per_epoch, validation_steps, validation_batch_size, validation_freq, max_queue_size, workers, use_multiprocessing)\u001b[0m\n\u001b[1;32m   1734\u001b[0m \u001b[38;5;28;01mwith\u001b[39;00m tf\u001b[38;5;241m.\u001b[39mprofiler\u001b[38;5;241m.\u001b[39mexperimental\u001b[38;5;241m.\u001b[39mTrace(\n\u001b[1;32m   1735\u001b[0m     \u001b[38;5;124m\"\u001b[39m\u001b[38;5;124mtrain\u001b[39m\u001b[38;5;124m\"\u001b[39m,\n\u001b[1;32m   1736\u001b[0m     epoch_num\u001b[38;5;241m=\u001b[39mepoch,\n\u001b[0;32m   (...)\u001b[0m\n\u001b[1;32m   1739\u001b[0m     _r\u001b[38;5;241m=\u001b[39m\u001b[38;5;241m1\u001b[39m,\n\u001b[1;32m   1740\u001b[0m ):\n\u001b[1;32m   1741\u001b[0m     callbacks\u001b[38;5;241m.\u001b[39mon_train_batch_begin(step)\n\u001b[0;32m-> 1742\u001b[0m     tmp_logs \u001b[38;5;241m=\u001b[39m \u001b[38;5;28;43mself\u001b[39;49m\u001b[38;5;241;43m.\u001b[39;49m\u001b[43mtrain_function\u001b[49m\u001b[43m(\u001b[49m\u001b[43miterator\u001b[49m\u001b[43m)\u001b[49m\n\u001b[1;32m   1743\u001b[0m     \u001b[38;5;28;01mif\u001b[39;00m data_handler\u001b[38;5;241m.\u001b[39mshould_sync:\n\u001b[1;32m   1744\u001b[0m         context\u001b[38;5;241m.\u001b[39masync_wait()\n",
      "File \u001b[0;32m~/miniconda3/lib/python3.10/site-packages/tensorflow/python/util/traceback_utils.py:150\u001b[0m, in \u001b[0;36mfilter_traceback.<locals>.error_handler\u001b[0;34m(*args, **kwargs)\u001b[0m\n\u001b[1;32m    148\u001b[0m filtered_tb \u001b[38;5;241m=\u001b[39m \u001b[38;5;28;01mNone\u001b[39;00m\n\u001b[1;32m    149\u001b[0m \u001b[38;5;28;01mtry\u001b[39;00m:\n\u001b[0;32m--> 150\u001b[0m   \u001b[38;5;28;01mreturn\u001b[39;00m \u001b[43mfn\u001b[49m\u001b[43m(\u001b[49m\u001b[38;5;241;43m*\u001b[39;49m\u001b[43margs\u001b[49m\u001b[43m,\u001b[49m\u001b[43m \u001b[49m\u001b[38;5;241;43m*\u001b[39;49m\u001b[38;5;241;43m*\u001b[39;49m\u001b[43mkwargs\u001b[49m\u001b[43m)\u001b[49m\n\u001b[1;32m    151\u001b[0m \u001b[38;5;28;01mexcept\u001b[39;00m \u001b[38;5;167;01mException\u001b[39;00m \u001b[38;5;28;01mas\u001b[39;00m e:\n\u001b[1;32m    152\u001b[0m   filtered_tb \u001b[38;5;241m=\u001b[39m _process_traceback_frames(e\u001b[38;5;241m.\u001b[39m__traceback__)\n",
      "File \u001b[0;32m~/miniconda3/lib/python3.10/site-packages/tensorflow/python/eager/polymorphic_function/polymorphic_function.py:825\u001b[0m, in \u001b[0;36mFunction.__call__\u001b[0;34m(self, *args, **kwds)\u001b[0m\n\u001b[1;32m    822\u001b[0m compiler \u001b[38;5;241m=\u001b[39m \u001b[38;5;124m\"\u001b[39m\u001b[38;5;124mxla\u001b[39m\u001b[38;5;124m\"\u001b[39m \u001b[38;5;28;01mif\u001b[39;00m \u001b[38;5;28mself\u001b[39m\u001b[38;5;241m.\u001b[39m_jit_compile \u001b[38;5;28;01melse\u001b[39;00m \u001b[38;5;124m\"\u001b[39m\u001b[38;5;124mnonXla\u001b[39m\u001b[38;5;124m\"\u001b[39m\n\u001b[1;32m    824\u001b[0m \u001b[38;5;28;01mwith\u001b[39;00m OptionalXlaContext(\u001b[38;5;28mself\u001b[39m\u001b[38;5;241m.\u001b[39m_jit_compile):\n\u001b[0;32m--> 825\u001b[0m   result \u001b[38;5;241m=\u001b[39m \u001b[38;5;28;43mself\u001b[39;49m\u001b[38;5;241;43m.\u001b[39;49m\u001b[43m_call\u001b[49m\u001b[43m(\u001b[49m\u001b[38;5;241;43m*\u001b[39;49m\u001b[43margs\u001b[49m\u001b[43m,\u001b[49m\u001b[43m \u001b[49m\u001b[38;5;241;43m*\u001b[39;49m\u001b[38;5;241;43m*\u001b[39;49m\u001b[43mkwds\u001b[49m\u001b[43m)\u001b[49m\n\u001b[1;32m    827\u001b[0m new_tracing_count \u001b[38;5;241m=\u001b[39m \u001b[38;5;28mself\u001b[39m\u001b[38;5;241m.\u001b[39mexperimental_get_tracing_count()\n\u001b[1;32m    828\u001b[0m without_tracing \u001b[38;5;241m=\u001b[39m (tracing_count \u001b[38;5;241m==\u001b[39m new_tracing_count)\n",
      "File \u001b[0;32m~/miniconda3/lib/python3.10/site-packages/tensorflow/python/eager/polymorphic_function/polymorphic_function.py:857\u001b[0m, in \u001b[0;36mFunction._call\u001b[0;34m(self, *args, **kwds)\u001b[0m\n\u001b[1;32m    854\u001b[0m   \u001b[38;5;28mself\u001b[39m\u001b[38;5;241m.\u001b[39m_lock\u001b[38;5;241m.\u001b[39mrelease()\n\u001b[1;32m    855\u001b[0m   \u001b[38;5;66;03m# In this case we have created variables on the first call, so we run the\u001b[39;00m\n\u001b[1;32m    856\u001b[0m   \u001b[38;5;66;03m# defunned version which is guaranteed to never create variables.\u001b[39;00m\n\u001b[0;32m--> 857\u001b[0m   \u001b[38;5;28;01mreturn\u001b[39;00m \u001b[38;5;28;43mself\u001b[39;49m\u001b[38;5;241;43m.\u001b[39;49m\u001b[43m_no_variable_creation_fn\u001b[49m\u001b[43m(\u001b[49m\u001b[38;5;241;43m*\u001b[39;49m\u001b[43margs\u001b[49m\u001b[43m,\u001b[49m\u001b[43m \u001b[49m\u001b[38;5;241;43m*\u001b[39;49m\u001b[38;5;241;43m*\u001b[39;49m\u001b[43mkwds\u001b[49m\u001b[43m)\u001b[49m  \u001b[38;5;66;03m# pylint: disable=not-callable\u001b[39;00m\n\u001b[1;32m    858\u001b[0m \u001b[38;5;28;01melif\u001b[39;00m \u001b[38;5;28mself\u001b[39m\u001b[38;5;241m.\u001b[39m_variable_creation_fn \u001b[38;5;129;01mis\u001b[39;00m \u001b[38;5;129;01mnot\u001b[39;00m \u001b[38;5;28;01mNone\u001b[39;00m:\n\u001b[1;32m    859\u001b[0m   \u001b[38;5;66;03m# Release the lock early so that multiple threads can perform the call\u001b[39;00m\n\u001b[1;32m    860\u001b[0m   \u001b[38;5;66;03m# in parallel.\u001b[39;00m\n\u001b[1;32m    861\u001b[0m   \u001b[38;5;28mself\u001b[39m\u001b[38;5;241m.\u001b[39m_lock\u001b[38;5;241m.\u001b[39mrelease()\n",
      "File \u001b[0;32m~/miniconda3/lib/python3.10/site-packages/tensorflow/python/eager/polymorphic_function/tracing_compiler.py:148\u001b[0m, in \u001b[0;36mTracingCompiler.__call__\u001b[0;34m(self, *args, **kwargs)\u001b[0m\n\u001b[1;32m    145\u001b[0m \u001b[38;5;28;01mwith\u001b[39;00m \u001b[38;5;28mself\u001b[39m\u001b[38;5;241m.\u001b[39m_lock:\n\u001b[1;32m    146\u001b[0m   (concrete_function,\n\u001b[1;32m    147\u001b[0m    filtered_flat_args) \u001b[38;5;241m=\u001b[39m \u001b[38;5;28mself\u001b[39m\u001b[38;5;241m.\u001b[39m_maybe_define_function(args, kwargs)\n\u001b[0;32m--> 148\u001b[0m \u001b[38;5;28;01mreturn\u001b[39;00m \u001b[43mconcrete_function\u001b[49m\u001b[38;5;241;43m.\u001b[39;49m\u001b[43m_call_flat\u001b[49m\u001b[43m(\u001b[49m\n\u001b[1;32m    149\u001b[0m \u001b[43m    \u001b[49m\u001b[43mfiltered_flat_args\u001b[49m\u001b[43m,\u001b[49m\u001b[43m \u001b[49m\u001b[43mcaptured_inputs\u001b[49m\u001b[38;5;241;43m=\u001b[39;49m\u001b[43mconcrete_function\u001b[49m\u001b[38;5;241;43m.\u001b[39;49m\u001b[43mcaptured_inputs\u001b[49m\u001b[43m)\u001b[49m\n",
      "File \u001b[0;32m~/miniconda3/lib/python3.10/site-packages/tensorflow/python/eager/polymorphic_function/monomorphic_function.py:1349\u001b[0m, in \u001b[0;36mConcreteFunction._call_flat\u001b[0;34m(self, args, captured_inputs)\u001b[0m\n\u001b[1;32m   1345\u001b[0m possible_gradient_type \u001b[38;5;241m=\u001b[39m gradients_util\u001b[38;5;241m.\u001b[39mPossibleTapeGradientTypes(args)\n\u001b[1;32m   1346\u001b[0m \u001b[38;5;28;01mif\u001b[39;00m (possible_gradient_type \u001b[38;5;241m==\u001b[39m gradients_util\u001b[38;5;241m.\u001b[39mPOSSIBLE_GRADIENT_TYPES_NONE\n\u001b[1;32m   1347\u001b[0m     \u001b[38;5;129;01mand\u001b[39;00m executing_eagerly):\n\u001b[1;32m   1348\u001b[0m   \u001b[38;5;66;03m# No tape is watching; skip to running the function.\u001b[39;00m\n\u001b[0;32m-> 1349\u001b[0m   \u001b[38;5;28;01mreturn\u001b[39;00m \u001b[38;5;28mself\u001b[39m\u001b[38;5;241m.\u001b[39m_build_call_outputs(\u001b[38;5;28;43mself\u001b[39;49m\u001b[38;5;241;43m.\u001b[39;49m\u001b[43m_inference_function\u001b[49m\u001b[43m(\u001b[49m\u001b[38;5;241;43m*\u001b[39;49m\u001b[43margs\u001b[49m\u001b[43m)\u001b[49m)\n\u001b[1;32m   1350\u001b[0m forward_backward \u001b[38;5;241m=\u001b[39m \u001b[38;5;28mself\u001b[39m\u001b[38;5;241m.\u001b[39m_select_forward_and_backward_functions(\n\u001b[1;32m   1351\u001b[0m     args,\n\u001b[1;32m   1352\u001b[0m     possible_gradient_type,\n\u001b[1;32m   1353\u001b[0m     executing_eagerly)\n\u001b[1;32m   1354\u001b[0m forward_function, args_with_tangents \u001b[38;5;241m=\u001b[39m forward_backward\u001b[38;5;241m.\u001b[39mforward()\n",
      "File \u001b[0;32m~/miniconda3/lib/python3.10/site-packages/tensorflow/python/eager/polymorphic_function/atomic_function.py:196\u001b[0m, in \u001b[0;36mAtomicFunction.__call__\u001b[0;34m(self, *args)\u001b[0m\n\u001b[1;32m    194\u001b[0m \u001b[38;5;28;01mwith\u001b[39;00m record\u001b[38;5;241m.\u001b[39mstop_recording():\n\u001b[1;32m    195\u001b[0m   \u001b[38;5;28;01mif\u001b[39;00m \u001b[38;5;28mself\u001b[39m\u001b[38;5;241m.\u001b[39m_bound_context\u001b[38;5;241m.\u001b[39mexecuting_eagerly():\n\u001b[0;32m--> 196\u001b[0m     outputs \u001b[38;5;241m=\u001b[39m \u001b[38;5;28;43mself\u001b[39;49m\u001b[38;5;241;43m.\u001b[39;49m\u001b[43m_bound_context\u001b[49m\u001b[38;5;241;43m.\u001b[39;49m\u001b[43mcall_function\u001b[49m\u001b[43m(\u001b[49m\n\u001b[1;32m    197\u001b[0m \u001b[43m        \u001b[49m\u001b[38;5;28;43mself\u001b[39;49m\u001b[38;5;241;43m.\u001b[39;49m\u001b[43mname\u001b[49m\u001b[43m,\u001b[49m\n\u001b[1;32m    198\u001b[0m \u001b[43m        \u001b[49m\u001b[38;5;28;43mlist\u001b[39;49m\u001b[43m(\u001b[49m\u001b[43margs\u001b[49m\u001b[43m)\u001b[49m\u001b[43m,\u001b[49m\n\u001b[1;32m    199\u001b[0m \u001b[43m        \u001b[49m\u001b[38;5;28;43mlen\u001b[39;49m\u001b[43m(\u001b[49m\u001b[38;5;28;43mself\u001b[39;49m\u001b[38;5;241;43m.\u001b[39;49m\u001b[43mfunction_type\u001b[49m\u001b[38;5;241;43m.\u001b[39;49m\u001b[43mflat_outputs\u001b[49m\u001b[43m)\u001b[49m\u001b[43m,\u001b[49m\n\u001b[1;32m    200\u001b[0m \u001b[43m    \u001b[49m\u001b[43m)\u001b[49m\n\u001b[1;32m    201\u001b[0m   \u001b[38;5;28;01melse\u001b[39;00m:\n\u001b[1;32m    202\u001b[0m     outputs \u001b[38;5;241m=\u001b[39m make_call_op_in_graph(\u001b[38;5;28mself\u001b[39m, \u001b[38;5;28mlist\u001b[39m(args))\n",
      "File \u001b[0;32m~/miniconda3/lib/python3.10/site-packages/tensorflow/python/eager/context.py:1457\u001b[0m, in \u001b[0;36mContext.call_function\u001b[0;34m(self, name, tensor_inputs, num_outputs)\u001b[0m\n\u001b[1;32m   1455\u001b[0m cancellation_context \u001b[38;5;241m=\u001b[39m cancellation\u001b[38;5;241m.\u001b[39mcontext()\n\u001b[1;32m   1456\u001b[0m \u001b[38;5;28;01mif\u001b[39;00m cancellation_context \u001b[38;5;129;01mis\u001b[39;00m \u001b[38;5;28;01mNone\u001b[39;00m:\n\u001b[0;32m-> 1457\u001b[0m   outputs \u001b[38;5;241m=\u001b[39m \u001b[43mexecute\u001b[49m\u001b[38;5;241;43m.\u001b[39;49m\u001b[43mexecute\u001b[49m\u001b[43m(\u001b[49m\n\u001b[1;32m   1458\u001b[0m \u001b[43m      \u001b[49m\u001b[43mname\u001b[49m\u001b[38;5;241;43m.\u001b[39;49m\u001b[43mdecode\u001b[49m\u001b[43m(\u001b[49m\u001b[38;5;124;43m\"\u001b[39;49m\u001b[38;5;124;43mutf-8\u001b[39;49m\u001b[38;5;124;43m\"\u001b[39;49m\u001b[43m)\u001b[49m\u001b[43m,\u001b[49m\n\u001b[1;32m   1459\u001b[0m \u001b[43m      \u001b[49m\u001b[43mnum_outputs\u001b[49m\u001b[38;5;241;43m=\u001b[39;49m\u001b[43mnum_outputs\u001b[49m\u001b[43m,\u001b[49m\n\u001b[1;32m   1460\u001b[0m \u001b[43m      \u001b[49m\u001b[43minputs\u001b[49m\u001b[38;5;241;43m=\u001b[39;49m\u001b[43mtensor_inputs\u001b[49m\u001b[43m,\u001b[49m\n\u001b[1;32m   1461\u001b[0m \u001b[43m      \u001b[49m\u001b[43mattrs\u001b[49m\u001b[38;5;241;43m=\u001b[39;49m\u001b[43mattrs\u001b[49m\u001b[43m,\u001b[49m\n\u001b[1;32m   1462\u001b[0m \u001b[43m      \u001b[49m\u001b[43mctx\u001b[49m\u001b[38;5;241;43m=\u001b[39;49m\u001b[38;5;28;43mself\u001b[39;49m\u001b[43m,\u001b[49m\n\u001b[1;32m   1463\u001b[0m \u001b[43m  \u001b[49m\u001b[43m)\u001b[49m\n\u001b[1;32m   1464\u001b[0m \u001b[38;5;28;01melse\u001b[39;00m:\n\u001b[1;32m   1465\u001b[0m   outputs \u001b[38;5;241m=\u001b[39m execute\u001b[38;5;241m.\u001b[39mexecute_with_cancellation(\n\u001b[1;32m   1466\u001b[0m       name\u001b[38;5;241m.\u001b[39mdecode(\u001b[38;5;124m\"\u001b[39m\u001b[38;5;124mutf-8\u001b[39m\u001b[38;5;124m\"\u001b[39m),\n\u001b[1;32m   1467\u001b[0m       num_outputs\u001b[38;5;241m=\u001b[39mnum_outputs,\n\u001b[0;32m   (...)\u001b[0m\n\u001b[1;32m   1471\u001b[0m       cancellation_manager\u001b[38;5;241m=\u001b[39mcancellation_context,\n\u001b[1;32m   1472\u001b[0m   )\n",
      "File \u001b[0;32m~/miniconda3/lib/python3.10/site-packages/tensorflow/python/eager/execute.py:53\u001b[0m, in \u001b[0;36mquick_execute\u001b[0;34m(op_name, num_outputs, inputs, attrs, ctx, name)\u001b[0m\n\u001b[1;32m     51\u001b[0m \u001b[38;5;28;01mtry\u001b[39;00m:\n\u001b[1;32m     52\u001b[0m   ctx\u001b[38;5;241m.\u001b[39mensure_initialized()\n\u001b[0;32m---> 53\u001b[0m   tensors \u001b[38;5;241m=\u001b[39m \u001b[43mpywrap_tfe\u001b[49m\u001b[38;5;241;43m.\u001b[39;49m\u001b[43mTFE_Py_Execute\u001b[49m\u001b[43m(\u001b[49m\u001b[43mctx\u001b[49m\u001b[38;5;241;43m.\u001b[39;49m\u001b[43m_handle\u001b[49m\u001b[43m,\u001b[49m\u001b[43m \u001b[49m\u001b[43mdevice_name\u001b[49m\u001b[43m,\u001b[49m\u001b[43m \u001b[49m\u001b[43mop_name\u001b[49m\u001b[43m,\u001b[49m\n\u001b[1;32m     54\u001b[0m \u001b[43m                                      \u001b[49m\u001b[43minputs\u001b[49m\u001b[43m,\u001b[49m\u001b[43m \u001b[49m\u001b[43mattrs\u001b[49m\u001b[43m,\u001b[49m\u001b[43m \u001b[49m\u001b[43mnum_outputs\u001b[49m\u001b[43m)\u001b[49m\n\u001b[1;32m     55\u001b[0m \u001b[38;5;28;01mexcept\u001b[39;00m core\u001b[38;5;241m.\u001b[39m_NotOkStatusException \u001b[38;5;28;01mas\u001b[39;00m e:\n\u001b[1;32m     56\u001b[0m   \u001b[38;5;28;01mif\u001b[39;00m name \u001b[38;5;129;01mis\u001b[39;00m \u001b[38;5;129;01mnot\u001b[39;00m \u001b[38;5;28;01mNone\u001b[39;00m:\n",
      "\u001b[0;31mKeyboardInterrupt\u001b[0m: "
     ]
    }
   ],
   "source": [
    "model = Sequential(name='Sequential')\n",
    "\n",
    "act_function = 'LeakyReLU'\n",
    "model.add(GRU(128, return_sequences=False, activation=act_function, input_shape=(130,1662)))\n",
    "#model.add(GRU(128, return_sequences=True, activation=act_function))\n",
    "#model.add(LSTM(64, return_sequences=False, activation=act_function))\n",
    "model.add(Dense(128, activation=act_function, input_shape=(130,1662)))\n",
    "model.add(Dense(128, activation=act_function))\n",
    "model.add(Dense(64, activation=act_function))\n",
    "model.add(Dropout(.2))\n",
    "model.add(Dense(50, activation='softmax'))\n",
    "optimizer = Lion(learning_rate=.00025)\n",
    "model.compile(optimizer=optimizer, loss='categorical_crossentropy', metrics=['categorical_accuracy'])\n",
    "\n",
    "history = model.fit(Xtrain, Ytrain, epochs=1000, validation_split=.2, batch_size = 32, callbacks=[tb_callback])\n",
    "model.summary()"
   ]
  },
  {
   "cell_type": "code",
   "execution_count": null,
   "id": "27523092",
   "metadata": {},
   "outputs": [],
   "source": []
  }
 ],
 "metadata": {
  "celltoolbar": "Initialization Cell",
  "kernelspec": {
   "display_name": "Python 3 (ipykernel)",
   "language": "python",
   "name": "python3"
  },
  "language_info": {
   "codemirror_mode": {
    "name": "ipython",
    "version": 3
   },
   "file_extension": ".py",
   "mimetype": "text/x-python",
   "name": "python",
   "nbconvert_exporter": "python",
   "pygments_lexer": "ipython3",
   "version": "3.10.12"
  },
  "notify_time": "10",
  "toc": {
   "base_numbering": 1,
   "nav_menu": {},
   "number_sections": true,
   "sideBar": true,
   "skip_h1_title": true,
   "title_cell": "Table of Contents",
   "title_sidebar": "Contents",
   "toc_cell": true,
   "toc_position": {},
   "toc_section_display": true,
   "toc_window_display": false
  },
  "varInspector": {
   "cols": {
    "lenName": 16,
    "lenType": 16,
    "lenVar": 40
   },
   "kernels_config": {
    "python": {
     "delete_cmd_postfix": "",
     "delete_cmd_prefix": "del ",
     "library": "var_list.py",
     "varRefreshCmd": "print(var_dic_list())"
    },
    "r": {
     "delete_cmd_postfix": ") ",
     "delete_cmd_prefix": "rm(",
     "library": "var_list.r",
     "varRefreshCmd": "cat(var_dic_list()) "
    }
   },
   "position": {
    "height": "401.844px",
    "left": "1550px",
    "right": "20px",
    "top": "120px",
    "width": "350px"
   },
   "types_to_exclude": [
    "module",
    "function",
    "builtin_function_or_method",
    "instance",
    "_Feature"
   ],
   "window_display": false
  }
 },
 "nbformat": 4,
 "nbformat_minor": 5
}
